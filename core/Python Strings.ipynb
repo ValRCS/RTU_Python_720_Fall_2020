{
  "cells": [
    {
      "cell_type": "markdown",
      "metadata": {
        "id": "la_FEwRsnx6p"
      },
      "source": [
        "#   Strings \n"
      ]
    },
    {
      "cell_type": "code",
      "source": [
        "# So what's a string really after all?\n",
        "\n",
        "# It is a sequence of characters"
      ],
      "metadata": {
        "id": "E7lTV81LrFcB"
      },
      "execution_count": null,
      "outputs": []
    },
    {
      "cell_type": "code",
      "execution_count": 1,
      "metadata": {
        "id": "5j_0b3LHnx6s",
        "outputId": "b2e85257-a427-4998-e4aa-05baa1ac21b2",
        "colab": {
          "base_uri": "https://localhost:8080/"
        }
      },
      "outputs": [
        {
          "output_type": "execute_result",
          "data": {
            "text/plain": [
              "str"
            ]
          },
          "metadata": {},
          "execution_count": 1
        }
      ],
      "source": [
        "mystring = \"Hello\" # We can use \"some string\" or also 'some string' it is exactly same here\n",
        "# we will see there times when we want to use a particular quote style\n",
        "type(mystring)"
      ]
    },
    {
      "cell_type": "code",
      "execution_count": null,
      "metadata": {
        "id": "nrTsoaBanx6u",
        "outputId": "7de538a7-ba5e-4913-ef78-3a170d496ba2"
      },
      "outputs": [
        {
          "data": {
            "text/plain": [
              "'Hello'"
            ]
          },
          "execution_count": 2,
          "metadata": {},
          "output_type": "execute_result"
        }
      ],
      "source": [
        "mystring"
      ]
    },
    {
      "cell_type": "code",
      "execution_count": null,
      "metadata": {
        "id": "Dj1XLRgcnx6u",
        "outputId": "554ce544-6cc2-48c5-eac9-fa6916e31dc7"
      },
      "outputs": [
        {
          "name": "stdout",
          "output_type": "stream",
          "text": [
            "Hello\n"
          ]
        }
      ],
      "source": [
        "print(mystring)"
      ]
    },
    {
      "cell_type": "code",
      "execution_count": 4,
      "metadata": {
        "id": "j_RlhFp_nx6u",
        "outputId": "bbdb1711-6d47-47a5-821d-e9d108476395",
        "colab": {
          "base_uri": "https://localhost:8080/"
        }
      },
      "outputs": [
        {
          "output_type": "stream",
          "name": "stdout",
          "text": [
            "Jānis Ņauva Smiley 😊\n"
          ]
        }
      ],
      "source": [
        "# built in Unicode Support\n",
        "myfriend = \"Jānis\"\n",
        "mycat = \"Ņauva\"\n",
        "myemojis = \"Smiley 😊\"\n",
        "print(myfriend, mycat, myemojis)"
      ]
    },
    {
      "cell_type": "markdown",
      "metadata": {
        "id": "TPkyPCWJnx6v"
      },
      "source": [
        "## Strings\n",
        "* immutable\n",
        "* Unicode support\n",
        "\n",
        "\n",
        "* implement all common sequence operators\n",
        "https://docs.python.org/3/library/stdtypes.html#typesseq-common\n",
        "\n",
        "* string specific methods\n",
        "https://docs.python.org/3/library/stdtypes.html#string-methods"
      ]
    },
    {
      "cell_type": "code",
      "execution_count": 5,
      "metadata": {
        "scrolled": true,
        "id": "eSoexYL0nx6v",
        "outputId": "1f938b7e-1a87-4410-a705-ea4b08f60f09",
        "colab": {
          "base_uri": "https://localhost:8080/"
        }
      },
      "outputs": [
        {
          "output_type": "stream",
          "name": "stdout",
          "text": [
            "Valdis\n"
          ]
        }
      ],
      "source": [
        "name = \"Valdis\"\n",
        "print(name)"
      ]
    },
    {
      "cell_type": "code",
      "execution_count": 6,
      "metadata": {
        "id": "H3SlYrdBnx6w",
        "outputId": "be0da8ae-acdb-461d-f618-0dc710f8b5d9",
        "colab": {
          "base_uri": "https://localhost:8080/"
        }
      },
      "outputs": [
        {
          "output_type": "execute_result",
          "data": {
            "text/plain": [
              "6"
            ]
          },
          "metadata": {},
          "execution_count": 6
        }
      ],
      "source": [
        "len(name) # this is one of the sequence operators \n",
        "# we could not find len(5245245) because it is a number \n",
        "# but we could find len(\"3532\") because it is a string"
      ]
    },
    {
      "cell_type": "code",
      "source": [
        "# so if you wanted to find how many digits your number has you could just convert it to str\n",
        "# and then use len\n",
        "my_number = 555_123_4368\n",
        "my_str_from_number = str(my_number)\n",
        "print(my_number, my_str_from_number, len(my_str_from_number))"
      ],
      "metadata": {
        "id": "8IBdvTMBsJeN",
        "outputId": "9b758b66-5daa-4254-b012-45f4a73032a2",
        "colab": {
          "base_uri": "https://localhost:8080/"
        }
      },
      "execution_count": 7,
      "outputs": [
        {
          "output_type": "stream",
          "name": "stdout",
          "text": [
            "5551234368 5551234368 10\n"
          ]
        }
      ]
    },
    {
      "cell_type": "code",
      "execution_count": 9,
      "metadata": {
        "id": "Y4GaiACmnx6w"
      },
      "outputs": [],
      "source": [
        "name = \"Voldemars\""
      ]
    },
    {
      "cell_type": "code",
      "execution_count": 10,
      "metadata": {
        "id": "e88entLsnx6x",
        "outputId": "87477d02-da12-4e3e-94a5-a51421f0fd24",
        "colab": {
          "base_uri": "https://localhost:8080/"
        }
      },
      "outputs": [
        {
          "output_type": "execute_result",
          "data": {
            "text/plain": [
              "9"
            ]
          },
          "metadata": {},
          "execution_count": 10
        }
      ],
      "source": [
        "len(name)"
      ]
    },
    {
      "cell_type": "code",
      "execution_count": null,
      "metadata": {
        "id": "b4t0d-5Xnx6x",
        "outputId": "bc18fb50-1b06-486b-d4c1-fec25377fb9e"
      },
      "outputs": [
        {
          "data": {
            "text/plain": [
              "4"
            ]
          },
          "execution_count": 14,
          "metadata": {},
          "output_type": "execute_result"
        }
      ],
      "source": [
        "len(\"name\") # notice how checking len of string literal \"name\" is different from checking \n",
        "# length of variable pointing to a string"
      ]
    },
    {
      "cell_type": "code",
      "execution_count": 12,
      "metadata": {
        "id": "q1h9X-Uynx6y",
        "outputId": "68afcc40-3832-4db9-ff7e-95ab8a9bbe0d",
        "colab": {
          "base_uri": "https://localhost:8080/"
        }
      },
      "outputs": [
        {
          "output_type": "execute_result",
          "data": {
            "text/plain": [
              "6"
            ]
          },
          "metadata": {},
          "execution_count": 12
        }
      ],
      "source": [
        "len(\"Valdis\")"
      ]
    },
    {
      "cell_type": "markdown",
      "source": [
        "## String indexing"
      ],
      "metadata": {
        "id": "ODfQYdEes8YZ"
      }
    },
    {
      "cell_type": "code",
      "execution_count": 13,
      "metadata": {
        "id": "0AI9Ly95nx6y",
        "outputId": "c8e1bb8a-e4a4-4508-a864-c56a914e3cf4",
        "colab": {
          "base_uri": "https://localhost:8080/"
        }
      },
      "outputs": [
        {
          "output_type": "execute_result",
          "data": {
            "text/plain": [
              "('V', 'o', 'l')"
            ]
          },
          "metadata": {},
          "execution_count": 13
        }
      ],
      "source": [
        "# first character in your string\n",
        "# we use square brackets and our first letter/character is index 0 (not 1!!)\n",
        "name[0],name[1],name[2]"
      ]
    },
    {
      "cell_type": "code",
      "source": [
        "# so to get first item in a sequence we use my_sequence[0]\n",
        "# this applies to strings , which is a type of sequence"
      ],
      "metadata": {
        "id": "cs9o3sT0tO1_"
      },
      "execution_count": null,
      "outputs": []
    },
    {
      "cell_type": "code",
      "execution_count": 14,
      "metadata": {
        "id": "5I6shNh7nx6y",
        "outputId": "d240de8c-d266-4135-8ec4-3561e4f128ca",
        "colab": {
          "base_uri": "https://localhost:8080/",
          "height": 35
        }
      },
      "outputs": [
        {
          "output_type": "execute_result",
          "data": {
            "text/plain": [
              "'V'"
            ],
            "application/vnd.google.colaboratory.intrinsic+json": {
              "type": "string"
            }
          },
          "metadata": {},
          "execution_count": 14
        }
      ],
      "source": [
        "\"Valdis\"[0]"
      ]
    },
    {
      "cell_type": "code",
      "execution_count": 15,
      "metadata": {
        "id": "E_pblECOnx6y",
        "outputId": "1b52a538-9495-4a25-8b57-379aecbf07a9",
        "colab": {
          "base_uri": "https://localhost:8080/",
          "height": 35
        }
      },
      "outputs": [
        {
          "output_type": "execute_result",
          "data": {
            "text/plain": [
              "'l'"
            ],
            "application/vnd.google.colaboratory.intrinsic+json": {
              "type": "string"
            }
          },
          "metadata": {},
          "execution_count": 15
        }
      ],
      "source": [
        "name[2] # so 3rd character"
      ]
    },
    {
      "cell_type": "code",
      "execution_count": 16,
      "metadata": {
        "id": "zp91CDponx6z",
        "outputId": "fb34b854-137a-46a9-c8cd-6e208e401643",
        "colab": {
          "base_uri": "https://localhost:8080/",
          "height": 35
        }
      },
      "outputs": [
        {
          "output_type": "execute_result",
          "data": {
            "text/plain": [
              "'m'"
            ],
            "application/vnd.google.colaboratory.intrinsic+json": {
              "type": "string"
            }
          },
          "metadata": {},
          "execution_count": 16
        }
      ],
      "source": [
        "name[5]"
      ]
    },
    {
      "cell_type": "code",
      "execution_count": 17,
      "metadata": {
        "id": "XvMFVxm5nx6z"
      },
      "outputs": [],
      "source": [
        "name = \"Valdis\""
      ]
    },
    {
      "cell_type": "code",
      "execution_count": 18,
      "metadata": {
        "id": "Y6dSfdwXnx6z",
        "outputId": "ddfe55d5-fd81-4d6d-e5a7-1ac6e39b896f",
        "colab": {
          "base_uri": "https://localhost:8080/"
        }
      },
      "outputs": [
        {
          "output_type": "execute_result",
          "data": {
            "text/plain": [
              "6"
            ]
          },
          "metadata": {},
          "execution_count": 18
        }
      ],
      "source": [
        "len(name) # so the last character of my name should be with index ?"
      ]
    },
    {
      "cell_type": "code",
      "execution_count": null,
      "metadata": {
        "id": "mJLXCWjVnx6z",
        "outputId": "aebb46f0-0c5a-4d40-83c0-cb19351acd99"
      },
      "outputs": [
        {
          "data": {
            "text/plain": [
              "'s'"
            ]
          },
          "execution_count": 24,
          "metadata": {},
          "output_type": "execute_result"
        }
      ],
      "source": [
        "name[5] # so if we have 6 characters in a string the last will be with index 5 \n",
        "# how would we generalize to, for those strings where we do not know the length?"
      ]
    },
    {
      "cell_type": "code",
      "execution_count": 19,
      "metadata": {
        "id": "Dm3Y2WBwnx6z",
        "outputId": "4613c4af-4814-4bb7-b535-c8d60ee1fb07",
        "colab": {
          "base_uri": "https://localhost:8080/",
          "height": 35
        }
      },
      "outputs": [
        {
          "output_type": "execute_result",
          "data": {
            "text/plain": [
              "'s'"
            ],
            "application/vnd.google.colaboratory.intrinsic+json": {
              "type": "string"
            }
          },
          "metadata": {},
          "execution_count": 19
        }
      ],
      "source": [
        "#not a good pattern! anti-pattern a bad code smell in Python\n",
        "# some other languages you have no choice but to use this approach\n",
        "name[len(name)-1]"
      ]
    },
    {
      "cell_type": "code",
      "execution_count": 20,
      "metadata": {
        "id": "mu7doI4tnx60",
        "outputId": "2290b9cf-acce-4ffc-b3aa-281938e93d1f",
        "colab": {
          "base_uri": "https://localhost:8080/",
          "height": 35
        }
      },
      "outputs": [
        {
          "output_type": "execute_result",
          "data": {
            "text/plain": [
              "'s'"
            ],
            "application/vnd.google.colaboratory.intrinsic+json": {
              "type": "string"
            }
          },
          "metadata": {},
          "execution_count": 20
        }
      ],
      "source": [
        "name[-1]  # Turns out Python has indexing from both sides"
      ]
    },
    {
      "cell_type": "markdown",
      "source": [
        "![StringIndexing](https://developers.google.com/static/edu/python/images/hello.png)"
      ],
      "metadata": {
        "id": "giNUxKEquHQC"
      }
    },
    {
      "cell_type": "code",
      "execution_count": 21,
      "metadata": {
        "id": "Hu_JUDvQnx60",
        "outputId": "a7f4d163-7125-4030-dc58-45443c075acc",
        "colab": {
          "base_uri": "https://localhost:8080/"
        }
      },
      "outputs": [
        {
          "output_type": "execute_result",
          "data": {
            "text/plain": [
              "('i', 'i')"
            ]
          },
          "metadata": {},
          "execution_count": 21
        }
      ],
      "source": [
        "name[-2], name[4]  # so 2nd from the end is same as 5th character in my name"
      ]
    },
    {
      "cell_type": "code",
      "execution_count": null,
      "metadata": {
        "id": "UEIJULDCnx60",
        "outputId": "5351da65-8e87-41fc-fa58-334f25794e6a"
      },
      "outputs": [
        {
          "data": {
            "text/plain": [
              "6"
            ]
          },
          "execution_count": 4,
          "metadata": {},
          "output_type": "execute_result"
        }
      ],
      "source": [
        "len(name)"
      ]
    },
    {
      "cell_type": "code",
      "execution_count": 22,
      "metadata": {
        "id": "xVZ9ZiQAnx60",
        "outputId": "ee9acedf-d3b6-4a44-dfec-ac8d71f03788",
        "colab": {
          "base_uri": "https://localhost:8080/"
        }
      },
      "outputs": [
        {
          "output_type": "execute_result",
          "data": {
            "text/plain": [
              "('s', 's', 'i')"
            ]
          },
          "metadata": {},
          "execution_count": 22
        }
      ],
      "source": [
        "name[5],name[-1],name[-2]"
      ]
    },
    {
      "cell_type": "code",
      "execution_count": null,
      "metadata": {
        "id": "-B7MOxSHnx60"
      },
      "outputs": [],
      "source": [
        "name[-1]"
      ]
    },
    {
      "cell_type": "code",
      "execution_count": null,
      "metadata": {
        "id": "gYkpPXtwnx61"
      },
      "outputs": [],
      "source": [
        "name[-2]"
      ]
    },
    {
      "cell_type": "code",
      "execution_count": null,
      "metadata": {
        "id": "BZlCBg4Xnx61",
        "outputId": "225b3b14-6d48-4245-c7e0-f993631ff612"
      },
      "outputs": [
        {
          "data": {
            "text/plain": [
              "'V'"
            ]
          },
          "execution_count": 31,
          "metadata": {},
          "output_type": "execute_result"
        }
      ],
      "source": [
        "name[-6]"
      ]
    },
    {
      "cell_type": "code",
      "execution_count": 23,
      "metadata": {
        "id": "ZilcKNW4nx61",
        "outputId": "d05705bc-96e3-4c43-bdce-2c5d6ebc1db6",
        "colab": {
          "base_uri": "https://localhost:8080/",
          "height": 185
        }
      },
      "outputs": [
        {
          "output_type": "error",
          "ename": "IndexError",
          "evalue": "ignored",
          "traceback": [
            "\u001b[0;31m---------------------------------------------------------------------------\u001b[0m",
            "\u001b[0;31mIndexError\u001b[0m                                Traceback (most recent call last)",
            "\u001b[0;32m<ipython-input-23-b686bbe06f3f>\u001b[0m in \u001b[0;36m<module>\u001b[0;34m\u001b[0m\n\u001b[1;32m      1\u001b[0m \u001b[0;31m# so I do not have 7 letters in my name so index 6 will throw an exception IndexError\u001b[0m\u001b[0;34m\u001b[0m\u001b[0;34m\u001b[0m\u001b[0;34m\u001b[0m\u001b[0m\n\u001b[0;32m----> 2\u001b[0;31m \u001b[0mname\u001b[0m\u001b[0;34m[\u001b[0m\u001b[0;36m6\u001b[0m\u001b[0;34m]\u001b[0m\u001b[0;34m\u001b[0m\u001b[0;34m\u001b[0m\u001b[0m\n\u001b[0m",
            "\u001b[0;31mIndexError\u001b[0m: string index out of range"
          ]
        }
      ],
      "source": [
        "# so I do not have 7 letters in my name so index 6 will throw an exception IndexError\n",
        "name[6]"
      ]
    },
    {
      "cell_type": "code",
      "execution_count": 25,
      "metadata": {
        "id": "TgtSb4eVnx61"
      },
      "outputs": [],
      "source": [
        "empty = \"\" # in case of empty string any index will throw an error\n",
        "# so you would want to write an if statement checking length of string before doing some indexing"
      ]
    },
    {
      "cell_type": "code",
      "execution_count": 26,
      "metadata": {
        "id": "DXnlY9Qbnx61",
        "outputId": "6062f550-1689-4b4c-9bc3-1a8c09d31a96",
        "colab": {
          "base_uri": "https://localhost:8080/",
          "height": 167
        }
      },
      "outputs": [
        {
          "output_type": "error",
          "ename": "IndexError",
          "evalue": "ignored",
          "traceback": [
            "\u001b[0;31m---------------------------------------------------------------------------\u001b[0m",
            "\u001b[0;31mIndexError\u001b[0m                                Traceback (most recent call last)",
            "\u001b[0;32m<ipython-input-26-fb968e317f03>\u001b[0m in \u001b[0;36m<module>\u001b[0;34m\u001b[0m\n\u001b[0;32m----> 1\u001b[0;31m \u001b[0mempty\u001b[0m\u001b[0;34m[\u001b[0m\u001b[0;36m0\u001b[0m\u001b[0;34m]\u001b[0m\u001b[0;34m\u001b[0m\u001b[0;34m\u001b[0m\u001b[0m\n\u001b[0m",
            "\u001b[0;31mIndexError\u001b[0m: string index out of range"
          ]
        }
      ],
      "source": [
        "empty[0]"
      ]
    },
    {
      "cell_type": "markdown",
      "source": [
        "## String Slicing \n",
        "\n",
        "The best thing since sliced bread."
      ],
      "metadata": {
        "id": "B-zbgSzZu6Nt"
      }
    },
    {
      "cell_type": "code",
      "execution_count": 27,
      "metadata": {
        "id": "mrjSSu1Gnx61",
        "outputId": "6b2f548e-32f2-4e1b-cc5f-8c4db2dd6ec0",
        "colab": {
          "base_uri": "https://localhost:8080/",
          "height": 35
        }
      },
      "outputs": [
        {
          "output_type": "execute_result",
          "data": {
            "text/plain": [
              "'Val'"
            ],
            "application/vnd.google.colaboratory.intrinsic+json": {
              "type": "string"
            }
          },
          "metadata": {},
          "execution_count": 27
        }
      ],
      "source": [
        "# Slicing syntax\n",
        "# Start at 0 an go until but not including 3\n",
        "# some languages would do with name.subslice(0,3), name.slice(0,3) etc\n",
        "# Python offers a short way of doing this slice\n",
        "name[0:3] # notice we only get 3 characters not 4\n",
        "# turns last index is NOT included in slicing, so start at 0 and go until index 3(which 4th element)"
      ]
    },
    {
      "cell_type": "code",
      "execution_count": 28,
      "metadata": {
        "id": "B2dxsKybnx61",
        "outputId": "140548be-4b4e-4810-b12e-46976f5f5584",
        "colab": {
          "base_uri": "https://localhost:8080/",
          "height": 35
        }
      },
      "outputs": [
        {
          "output_type": "execute_result",
          "data": {
            "text/plain": [
              "'Val'"
            ],
            "application/vnd.google.colaboratory.intrinsic+json": {
              "type": "string"
            }
          },
          "metadata": {},
          "execution_count": 28
        }
      ],
      "source": [
        "# begginning 0 is not necessary\n",
        "# now this decision to NOT include last character makes sense\n",
        "name[:3] # so you can read it as get first 3 characters, even though underneath\n",
        "# technically we are getting characters indexed, 0,1,2 "
      ]
    },
    {
      "cell_type": "code",
      "execution_count": 29,
      "metadata": {
        "id": "b8sNT6LDnx62",
        "outputId": "4ef4ac16-0cb3-45f6-8b20-5ba0159bc52a",
        "colab": {
          "base_uri": "https://localhost:8080/",
          "height": 35
        }
      },
      "outputs": [
        {
          "output_type": "execute_result",
          "data": {
            "text/plain": [
              "'Vald'"
            ],
            "application/vnd.google.colaboratory.intrinsic+json": {
              "type": "string"
            }
          },
          "metadata": {},
          "execution_count": 29
        }
      ],
      "source": [
        "name[:4]"
      ]
    },
    {
      "cell_type": "code",
      "execution_count": 30,
      "metadata": {
        "id": "WPIDqnZqnx62",
        "outputId": "d93aa145-74e7-4bff-a83d-0eed6adbc9cd",
        "colab": {
          "base_uri": "https://localhost:8080/",
          "height": 35
        }
      },
      "outputs": [
        {
          "output_type": "execute_result",
          "data": {
            "text/plain": [
              "'al'"
            ],
            "application/vnd.google.colaboratory.intrinsic+json": {
              "type": "string"
            }
          },
          "metadata": {},
          "execution_count": 30
        }
      ],
      "source": [
        "name[1:3] # so 2nd (with index 1) and 3rd(with index 2) but not the 4th(with index 3)"
      ]
    },
    {
      "cell_type": "code",
      "execution_count": 31,
      "metadata": {
        "id": "FtT5rmDlnx62",
        "outputId": "7824737d-12ba-456a-f09a-b18126ded4d9",
        "colab": {
          "base_uri": "https://localhost:8080/",
          "height": 35
        }
      },
      "outputs": [
        {
          "output_type": "execute_result",
          "data": {
            "text/plain": [
              "'ald'"
            ],
            "application/vnd.google.colaboratory.intrinsic+json": {
              "type": "string"
            }
          },
          "metadata": {},
          "execution_count": 31
        }
      ],
      "source": [
        "name[1:4]"
      ]
    },
    {
      "cell_type": "code",
      "source": [
        "# how about negative indexes in slicing?"
      ],
      "metadata": {
        "id": "h9AV04t1vzQZ"
      },
      "execution_count": null,
      "outputs": []
    },
    {
      "cell_type": "code",
      "execution_count": 32,
      "metadata": {
        "id": "5E2wetZ8nx62",
        "outputId": "5bc645c9-9804-42ee-9f2c-347aeb4ac32a",
        "colab": {
          "base_uri": "https://localhost:8080/"
        }
      },
      "outputs": [
        {
          "output_type": "execute_result",
          "data": {
            "text/plain": [
              "('d', 'di', 'dis')"
            ]
          },
          "metadata": {},
          "execution_count": 32
        }
      ],
      "source": [
        "name[-3], name[-3:-1], name[-3:] # in the last example if nothing is after : then slice includes\n",
        "# everything until the end"
      ]
    },
    {
      "cell_type": "code",
      "source": [
        "name[:] # this works but here it is useless for strings we get FULL string here \n",
        "# not a copy because strings are immutable\n",
        "# this might work for generating copy for other sequences"
      ],
      "metadata": {
        "id": "G4puYgC8wGpu",
        "outputId": "652f8dec-1b99-4250-c087-e499e52364f8",
        "colab": {
          "base_uri": "https://localhost:8080/",
          "height": 35
        }
      },
      "execution_count": 33,
      "outputs": [
        {
          "output_type": "execute_result",
          "data": {
            "text/plain": [
              "'Valdis'"
            ],
            "application/vnd.google.colaboratory.intrinsic+json": {
              "type": "string"
            }
          },
          "metadata": {},
          "execution_count": 33
        }
      ]
    },
    {
      "cell_type": "code",
      "execution_count": null,
      "metadata": {
        "id": "zvaRtB92nx62"
      },
      "outputs": [],
      "source": [
        "# so we can use single index for single characters\n",
        "# [start:beg] for range of characters, so beg is not included\n",
        "# [starT:beg:step] for jumping over characters"
      ]
    },
    {
      "cell_type": "code",
      "execution_count": 34,
      "metadata": {
        "id": "TO3HTMiwnx62",
        "outputId": "26ef96e3-d7b5-4f01-e2a6-3782368af337",
        "colab": {
          "base_uri": "https://localhost:8080/"
        }
      },
      "outputs": [
        {
          "output_type": "execute_result",
          "data": {
            "text/plain": [
              "('Vli', 'Vli', 'Vli')"
            ]
          },
          "metadata": {},
          "execution_count": 34
        }
      ],
      "source": [
        "name[0:6:2], name[:6:2],name[::2]\n"
      ]
    },
    {
      "cell_type": "code",
      "execution_count": null,
      "metadata": {
        "id": "HuvlNAwenx63",
        "outputId": "848a676d-b0a4-453f-dcdf-42d6e2d7e383"
      },
      "outputs": [
        {
          "data": {
            "text/plain": [
              "('Valdis', 'Valdis', 'Valdis')"
            ]
          },
          "execution_count": 27,
          "metadata": {},
          "output_type": "execute_result"
        }
      ],
      "source": [
        "name, name[0:6:1], name[::]\n"
      ]
    },
    {
      "cell_type": "code",
      "execution_count": 35,
      "metadata": {
        "id": "F94vOTqwnx63",
        "outputId": "488566fe-66f1-427e-af84-a6160e49d7c4",
        "colab": {
          "base_uri": "https://localhost:8080/",
          "height": 35
        }
      },
      "outputs": [
        {
          "output_type": "execute_result",
          "data": {
            "text/plain": [
              "'ptte'"
            ],
            "application/vnd.google.colaboratory.intrinsic+json": {
              "type": "string"
            }
          },
          "metadata": {},
          "execution_count": 35
        }
      ],
      "source": [
        "food = \"potatoes\"\n",
        "food[::2]  # so i got every 2nd character starting from the first"
      ]
    },
    {
      "cell_type": "code",
      "source": [
        "import string  # this is a helper library with some values\n",
        "# you do not have to import it unless you want to use these values\n",
        "alphabet = string.ascii_lowercase # by using this library i will avoid typoes forgetting some letterb\n",
        "alphabet"
      ],
      "metadata": {
        "id": "lRDm2zM1wjmq",
        "outputId": "6c5da847-0a1f-4f5f-fe68-882f86f8172b",
        "colab": {
          "base_uri": "https://localhost:8080/",
          "height": 35
        }
      },
      "execution_count": 37,
      "outputs": [
        {
          "output_type": "execute_result",
          "data": {
            "text/plain": [
              "'abcdefghijklmnopqrstuvwxyz'"
            ],
            "application/vnd.google.colaboratory.intrinsic+json": {
              "type": "string"
            }
          },
          "metadata": {},
          "execution_count": 37
        }
      ]
    },
    {
      "cell_type": "code",
      "source": [
        "alphabet[::2]"
      ],
      "metadata": {
        "id": "l7CMqbj_w429",
        "outputId": "f26e7cb9-b442-4862-fe2c-44be62bc5fa5",
        "colab": {
          "base_uri": "https://localhost:8080/",
          "height": 35
        }
      },
      "execution_count": 38,
      "outputs": [
        {
          "output_type": "execute_result",
          "data": {
            "text/plain": [
              "'acegikmoqsuwy'"
            ],
            "application/vnd.google.colaboratory.intrinsic+json": {
              "type": "string"
            }
          },
          "metadata": {},
          "execution_count": 38
        }
      ]
    },
    {
      "cell_type": "code",
      "source": [
        "alphabet[1::2] # so start at 2nd letter go towards end and get every 2nd letter"
      ],
      "metadata": {
        "id": "27ySM18Ew9L2",
        "outputId": "4f858542-1399-400d-accb-0307a0c30d50",
        "colab": {
          "base_uri": "https://localhost:8080/",
          "height": 35
        }
      },
      "execution_count": 39,
      "outputs": [
        {
          "output_type": "execute_result",
          "data": {
            "text/plain": [
              "'bdfhjlnprtvxz'"
            ],
            "application/vnd.google.colaboratory.intrinsic+json": {
              "type": "string"
            }
          },
          "metadata": {},
          "execution_count": 39
        }
      ]
    },
    {
      "cell_type": "code",
      "execution_count": 40,
      "metadata": {
        "id": "BQOhWfeEnx63",
        "outputId": "842f53fb-a761-4890-c224-f2a3f1b8b092",
        "colab": {
          "base_uri": "https://localhost:8080/",
          "height": 35
        }
      },
      "outputs": [
        {
          "output_type": "execute_result",
          "data": {
            "text/plain": [
              "'oaos'"
            ],
            "application/vnd.google.colaboratory.intrinsic+json": {
              "type": "string"
            }
          },
          "metadata": {},
          "execution_count": 40
        }
      ],
      "source": [
        "food[1::2]"
      ]
    },
    {
      "cell_type": "code",
      "execution_count": 41,
      "metadata": {
        "id": "gvGXdfWZnx63",
        "outputId": "afea3165-8725-4491-9fad-c198a71f4246",
        "colab": {
          "base_uri": "https://localhost:8080/",
          "height": 35
        }
      },
      "outputs": [
        {
          "output_type": "execute_result",
          "data": {
            "text/plain": [
              "'oao'"
            ],
            "application/vnd.google.colaboratory.intrinsic+json": {
              "type": "string"
            }
          },
          "metadata": {},
          "execution_count": 41
        }
      ],
      "source": [
        "food[1:6:2]"
      ]
    },
    {
      "cell_type": "code",
      "execution_count": 42,
      "metadata": {
        "id": "tH6sKEDznx63",
        "outputId": "35db80a0-bbd1-4a23-d281-fdc3b0db1eeb",
        "colab": {
          "base_uri": "https://localhost:8080/",
          "height": 35
        }
      },
      "outputs": [
        {
          "output_type": "execute_result",
          "data": {
            "text/plain": [
              "'Valdis'"
            ],
            "application/vnd.google.colaboratory.intrinsic+json": {
              "type": "string"
            }
          },
          "metadata": {},
          "execution_count": 42
        }
      ],
      "source": [
        "name[::1] # this is also not very useful, since 1 is the default step"
      ]
    },
    {
      "cell_type": "code",
      "execution_count": null,
      "metadata": {
        "id": "vwA4wrTcnx63",
        "outputId": "229b5fad-b20d-4e5a-ab7f-9f93256707fd"
      },
      "outputs": [
        {
          "data": {
            "text/plain": [
              "'ads'"
            ]
          },
          "execution_count": 32,
          "metadata": {},
          "output_type": "execute_result"
        }
      ],
      "source": [
        "name[1:6:2]"
      ]
    },
    {
      "cell_type": "code",
      "execution_count": null,
      "metadata": {
        "id": "0c9DAkpNnx63",
        "outputId": "cd00d990-a946-47e5-bba8-04dfdcd1d959"
      },
      "outputs": [
        {
          "data": {
            "text/plain": [
              "'Valdi'"
            ]
          },
          "execution_count": 33,
          "metadata": {},
          "output_type": "execute_result"
        }
      ],
      "source": [
        "name[:5]"
      ]
    },
    {
      "cell_type": "code",
      "execution_count": null,
      "metadata": {
        "id": "EUO-B9o7nx64"
      },
      "outputs": [],
      "source": [
        "# Pythonic way of reversing a string"
      ]
    },
    {
      "cell_type": "code",
      "execution_count": 43,
      "metadata": {
        "id": "wTsFzpt7nx64",
        "outputId": "ec1caa76-2b7c-494e-b17a-9f9342346d1e",
        "colab": {
          "base_uri": "https://localhost:8080/",
          "height": 35
        }
      },
      "outputs": [
        {
          "output_type": "execute_result",
          "data": {
            "text/plain": [
              "'sidlaV'"
            ],
            "application/vnd.google.colaboratory.intrinsic+json": {
              "type": "string"
            }
          },
          "metadata": {},
          "execution_count": 43
        }
      ],
      "source": [
        "name[::-1] # turns out we can use a negative step!"
      ]
    },
    {
      "cell_type": "code",
      "execution_count": 44,
      "metadata": {
        "id": "GjbZS_Cjnx64",
        "outputId": "b40c41a7-905e-48c7-863f-399ecd919f29",
        "colab": {
          "base_uri": "https://localhost:8080/",
          "height": 35
        }
      },
      "outputs": [
        {
          "output_type": "execute_result",
          "data": {
            "text/plain": [
              "'seotatop'"
            ],
            "application/vnd.google.colaboratory.intrinsic+json": {
              "type": "string"
            }
          },
          "metadata": {},
          "execution_count": 44
        }
      ],
      "source": [
        "food[::-1]"
      ]
    },
    {
      "cell_type": "code",
      "source": [
        "alphabet[::-1]"
      ],
      "metadata": {
        "id": "35y_ZeFVxY-z",
        "outputId": "d177c181-b485-4bd5-dbc7-cc0775ccadc9",
        "colab": {
          "base_uri": "https://localhost:8080/",
          "height": 35
        }
      },
      "execution_count": 45,
      "outputs": [
        {
          "output_type": "execute_result",
          "data": {
            "text/plain": [
              "'zyxwvutsrqponmlkjihgfedcba'"
            ],
            "application/vnd.google.colaboratory.intrinsic+json": {
              "type": "string"
            }
          },
          "metadata": {},
          "execution_count": 45
        }
      ]
    },
    {
      "cell_type": "code",
      "source": [
        "# we can also use negative step with starting and stop values\n",
        "alphabet[-3:-10:-2]"
      ],
      "metadata": {
        "id": "rDWLXTkixeOz",
        "outputId": "80be0738-52ee-4f84-8d16-1e1156a60918",
        "colab": {
          "base_uri": "https://localhost:8080/",
          "height": 35
        }
      },
      "execution_count": 46,
      "outputs": [
        {
          "output_type": "execute_result",
          "data": {
            "text/plain": [
              "'xvtr'"
            ],
            "application/vnd.google.colaboratory.intrinsic+json": {
              "type": "string"
            }
          },
          "metadata": {},
          "execution_count": 46
        }
      ]
    },
    {
      "cell_type": "markdown",
      "metadata": {
        "id": "AygqrufGnx64"
      },
      "source": [
        "## String Exercise: \n",
        "* Assign your favorite food to variable of your choosing\n",
        "* Output 3rd letter of your favorite\n",
        "* Output first 2 letters of your favorite\n",
        "* Output last 3 letters of your favorite\n",
        "* Output reverse of your favorite\n",
        "* Output every 2nd character of your favorite in reverse\n"
      ]
    },
    {
      "cell_type": "code",
      "execution_count": 47,
      "metadata": {
        "id": "epeql9V3nx64",
        "outputId": "6280d9f0-a226-4c08-9143-3eccb80d08ba",
        "colab": {
          "base_uri": "https://localhost:8080/",
          "height": 35
        }
      },
      "outputs": [
        {
          "output_type": "execute_result",
          "data": {
            "text/plain": [
              "'e'"
            ],
            "application/vnd.google.colaboratory.intrinsic+json": {
              "type": "string"
            }
          },
          "metadata": {},
          "execution_count": 47
        }
      ],
      "source": [
        "myfood = \"ice cream\"\n",
        "myfood[2]"
      ]
    },
    {
      "cell_type": "code",
      "execution_count": 48,
      "metadata": {
        "id": "0yt2UJUxnx64",
        "outputId": "b6b9f0be-2fb1-432b-cdc1-f4caa998ebe7",
        "colab": {
          "base_uri": "https://localhost:8080/"
        }
      },
      "outputs": [
        {
          "output_type": "execute_result",
          "data": {
            "text/plain": [
              "('ic', 'eam')"
            ]
          },
          "metadata": {},
          "execution_count": 48
        }
      ],
      "source": [
        "myfood[:2], myfood[-3:]"
      ]
    },
    {
      "cell_type": "code",
      "execution_count": 49,
      "metadata": {
        "id": "Ygiq29Ngnx64",
        "outputId": "dac10aaf-80b8-4a80-9cac-1a0e0945f8e3",
        "colab": {
          "base_uri": "https://localhost:8080/"
        }
      },
      "outputs": [
        {
          "output_type": "execute_result",
          "data": {
            "text/plain": [
              "('maerc eci', 'mecei')"
            ]
          },
          "metadata": {},
          "execution_count": 49
        }
      ],
      "source": [
        "myfood[::-1],myfood[::-2]"
      ]
    },
    {
      "cell_type": "code",
      "execution_count": 50,
      "metadata": {
        "id": "WmvWp9M1nx65",
        "outputId": "30975b05-0419-4dec-f195-00a3ac663ceb",
        "colab": {
          "base_uri": "https://localhost:8080/",
          "height": 35
        }
      },
      "outputs": [
        {
          "output_type": "execute_result",
          "data": {
            "text/plain": [
              "'tatop'"
            ],
            "application/vnd.google.colaboratory.intrinsic+json": {
              "type": "string"
            }
          },
          "metadata": {},
          "execution_count": 50
        }
      ],
      "source": [
        "food[4::-1]"
      ]
    },
    {
      "cell_type": "code",
      "execution_count": null,
      "metadata": {
        "id": "E3oO_emVnx65",
        "outputId": "0c90ec1a-2bf8-4965-a4d8-050145d8a27e"
      },
      "outputs": [
        {
          "data": {
            "text/plain": [
              "'sid'"
            ]
          },
          "execution_count": 38,
          "metadata": {},
          "output_type": "execute_result"
        }
      ],
      "source": [
        "name[5:2:-1]"
      ]
    },
    {
      "cell_type": "markdown",
      "source": [
        "## How to change strings\n"
      ],
      "metadata": {
        "id": "TPKFquE3yI3_"
      }
    },
    {
      "cell_type": "code",
      "execution_count": null,
      "metadata": {
        "id": "5Kq5Fn3hnx65"
      },
      "outputs": [],
      "source": [
        "# Remember stings are immutable, so how do we change them"
      ]
    },
    {
      "cell_type": "code",
      "execution_count": 51,
      "metadata": {
        "id": "hm15nTmKnx65",
        "outputId": "28ac6c54-575a-49dc-e7ed-118c89d26207",
        "colab": {
          "base_uri": "https://localhost:8080/",
          "height": 167
        }
      },
      "outputs": [
        {
          "output_type": "error",
          "ename": "TypeError",
          "evalue": "ignored",
          "traceback": [
            "\u001b[0;31m---------------------------------------------------------------------------\u001b[0m",
            "\u001b[0;31mTypeError\u001b[0m                                 Traceback (most recent call last)",
            "\u001b[0;32m<ipython-input-51-25fa9d5f9182>\u001b[0m in \u001b[0;36m<module>\u001b[0;34m\u001b[0m\n\u001b[0;32m----> 1\u001b[0;31m \u001b[0mname\u001b[0m\u001b[0;34m[\u001b[0m\u001b[0;36m3\u001b[0m\u001b[0;34m]\u001b[0m\u001b[0;34m=\u001b[0m\u001b[0;34m'b'\u001b[0m \u001b[0;31m# so we tried to change 4th character of my name to b...\u001b[0m\u001b[0;34m\u001b[0m\u001b[0;34m\u001b[0m\u001b[0m\n\u001b[0m",
            "\u001b[0;31mTypeError\u001b[0m: 'str' object does not support item assignment"
          ]
        }
      ],
      "source": [
        "name[3]='b' # so we tried to change 4th character of my name to b...\n",
        "# there are languages which will let you do this"
      ]
    },
    {
      "cell_type": "code",
      "execution_count": 53,
      "metadata": {
        "id": "ZyrVj0Fvnx65",
        "outputId": "77680f67-d3aa-431e-8d9f-9f6c14d422c7",
        "colab": {
          "base_uri": "https://localhost:8080/"
        }
      },
      "outputs": [
        {
          "output_type": "stream",
          "name": "stdout",
          "text": [
            "Valzis\n"
          ]
        }
      ],
      "source": [
        "#name[3]=\"b\" # Can we do this?\n",
        "# turns out we can concatanate strings\n",
        "# so I take first 3 characters of my name and then 5th character to the end\n",
        "newname=name[:3]+\"z\"+name[4:]\n",
        "print(newname)"
      ]
    },
    {
      "cell_type": "code",
      "execution_count": 54,
      "metadata": {
        "id": "ZI-dGQebnx65",
        "outputId": "8e870784-db96-4245-bcb2-285a972aec12",
        "colab": {
          "base_uri": "https://localhost:8080/"
        }
      },
      "outputs": [
        {
          "output_type": "stream",
          "name": "stdout",
          "text": [
            "Valzdis\n"
          ]
        }
      ],
      "source": [
        "#name[3]=\"b\" # Can we do this?\n",
        "another_name=name[:3]+\"z\"+name[3:]\n",
        "# in effect I will have inserted a new character \"z\" between existing characters \n",
        "# without deleting anything\n",
        "print(another_name)"
      ]
    },
    {
      "cell_type": "code",
      "execution_count": null,
      "metadata": {
        "id": "qkJp2yeJnx65",
        "outputId": "87fb190a-adb7-443f-efb1-79698c583412"
      },
      "outputs": [
        {
          "data": {
            "text/plain": [
              "'kaķis Muris'"
            ]
          },
          "execution_count": 62,
          "metadata": {},
          "output_type": "execute_result"
        }
      ],
      "source": [
        "# so an answer is string concatenation with +\n",
        "# so + is so called overloaded operator in Python \n",
        "# means it works on many different data types\n",
        "mycat = \"kaķis\" + \" Muris\"\n",
        "mycat\n"
      ]
    },
    {
      "cell_type": "code",
      "source": [
        "cat_name = \"Winnie\"\n",
        "cat_name"
      ],
      "metadata": {
        "id": "rWW15RR7zL_S",
        "outputId": "3c981a0f-ba45-4e1e-a188-b637d4727384",
        "colab": {
          "base_uri": "https://localhost:8080/",
          "height": 35
        }
      },
      "execution_count": 55,
      "outputs": [
        {
          "output_type": "execute_result",
          "data": {
            "text/plain": [
              "'Winnie'"
            ],
            "application/vnd.google.colaboratory.intrinsic+json": {
              "type": "string"
            }
          },
          "metadata": {},
          "execution_count": 55
        }
      ]
    },
    {
      "cell_type": "code",
      "source": [],
      "metadata": {
        "id": "N0wcVPsvzLnL"
      },
      "execution_count": null,
      "outputs": []
    },
    {
      "cell_type": "code",
      "source": [
        "# instead of using +\n",
        "# we have other ways of formatting strings\n",
        "# most notably f-strings\n",
        "my_other_cat = f\"My cat is called {cat_name}\"\n",
        "my_other_cat"
      ],
      "metadata": {
        "id": "aAZnns5ny9pQ",
        "outputId": "149d99e7-926f-4c98-eb0d-319c439fffe6",
        "colab": {
          "base_uri": "https://localhost:8080/",
          "height": 35
        }
      },
      "execution_count": 56,
      "outputs": [
        {
          "output_type": "execute_result",
          "data": {
            "text/plain": [
              "'My cat is called Winnie'"
            ],
            "application/vnd.google.colaboratory.intrinsic+json": {
              "type": "string"
            }
          },
          "metadata": {},
          "execution_count": 56
        }
      ]
    },
    {
      "cell_type": "code",
      "execution_count": null,
      "metadata": {
        "id": "87HtNxUZnx66",
        "outputId": "17746fd7-df13-49a5-c6ae-260fb91c37db"
      },
      "outputs": [
        {
          "data": {
            "text/plain": [
              "11"
            ]
          },
          "execution_count": 63,
          "metadata": {},
          "output_type": "execute_result"
        }
      ],
      "source": [
        "len(mycat)"
      ]
    },
    {
      "cell_type": "code",
      "execution_count": null,
      "metadata": {
        "id": "4Wbutt_rnx66",
        "outputId": "e67c5da6-915b-4781-aca7-761a880b5e79"
      },
      "outputs": [
        {
          "name": "stdout",
          "output_type": "stream",
          "text": [
            "Valdis\n",
            "2205798161008 2205798161008 2205798161008\n",
            "Valdis\n"
          ]
        }
      ],
      "source": [
        "n=name\n",
        "n2=name\n",
        "print(n2)\n",
        "print(id(n2),id(name), id(n))\n",
        "print(name[:])"
      ]
    },
    {
      "cell_type": "code",
      "execution_count": null,
      "metadata": {
        "id": "hzbTqgL_nx66",
        "outputId": "beb0c531-2236-45ef-cdbb-4167be466fb9"
      },
      "outputs": [
        {
          "data": {
            "text/plain": [
              "True"
            ]
          },
          "execution_count": 65,
          "metadata": {},
          "output_type": "execute_result"
        }
      ],
      "source": [
        "name == n2"
      ]
    },
    {
      "cell_type": "code",
      "execution_count": null,
      "metadata": {
        "id": "kVNhFKP6nx66",
        "outputId": "f25b134b-4930-4397-c2c0-2819da8ad925"
      },
      "outputs": [
        {
          "data": {
            "text/plain": [
              "True"
            ]
          },
          "execution_count": 69,
          "metadata": {},
          "output_type": "execute_result"
        }
      ],
      "source": [
        "name == newname[:3] + 'd' + newname[4:]"
      ]
    },
    {
      "cell_type": "code",
      "execution_count": null,
      "metadata": {
        "id": "9mYF0yFUnx66",
        "outputId": "112053b1-ab38-42bc-daf5-43cefe4c1e7d"
      },
      "outputs": [
        {
          "data": {
            "text/plain": [
              "'Valdis'"
            ]
          },
          "execution_count": 70,
          "metadata": {},
          "output_type": "execute_result"
        }
      ],
      "source": [
        "newname[:3] + 'd' + newname[4:]"
      ]
    },
    {
      "cell_type": "code",
      "execution_count": null,
      "metadata": {
        "id": "fc7-lynmnx67",
        "outputId": "67cd66e4-0ce7-40b3-c4c0-92bc8167aaaf"
      },
      "outputs": [
        {
          "name": "stdout",
          "output_type": "stream",
          "text": [
            "Valdis Valdis Voldemars\n"
          ]
        }
      ],
      "source": [
        "name = \"Voldemars\"\n",
        "print(n,n2,name)"
      ]
    },
    {
      "cell_type": "code",
      "execution_count": null,
      "metadata": {
        "id": "KorE0T1Znx67"
      },
      "outputs": [],
      "source": [
        "n2 = \"Something\""
      ]
    },
    {
      "cell_type": "code",
      "execution_count": null,
      "metadata": {
        "id": "dkkWfuownx67"
      },
      "outputs": [],
      "source": []
    },
    {
      "cell_type": "code",
      "execution_count": null,
      "metadata": {
        "id": "tilQnxEmnx67",
        "outputId": "f74eb795-d56a-4471-b0ee-c2a2a640d9fd"
      },
      "outputs": [
        {
          "name": "stdout",
          "output_type": "stream",
          "text": [
            "sramedloV\n"
          ]
        }
      ],
      "source": [
        "name=name[::-1]\n",
        "print(name)"
      ]
    },
    {
      "cell_type": "markdown",
      "source": [
        "## Multiline Strings"
      ],
      "metadata": {
        "id": "25S57wnQzchr"
      }
    },
    {
      "cell_type": "code",
      "execution_count": 57,
      "metadata": {
        "id": "MURB_Hi_nx67",
        "outputId": "14a86759-bd45-49fd-b60e-319b2be71f38",
        "colab": {
          "base_uri": "https://localhost:8080/"
        }
      },
      "outputs": [
        {
          "output_type": "stream",
          "name": "stdout",
          "text": [
            "firstline\n",
            "secondline\n"
          ]
        }
      ],
      "source": [
        "# One approach is to add newline symbol in a string \\n\n",
        "# so we are using escape symbol \\ which has special for some characters\n",
        "\n",
        "newline_string =\"firstline\\nsecondline\"\n",
        "print(newline_string)"
      ]
    },
    {
      "cell_type": "code",
      "execution_count": 58,
      "metadata": {
        "id": "lTsogze4nx67",
        "outputId": "3ec4f6b7-04f6-4bc9-bd57-23f091cf4b65",
        "colab": {
          "base_uri": "https://localhost:8080/",
          "height": 35
        }
      },
      "outputs": [
        {
          "output_type": "execute_result",
          "data": {
            "text/plain": [
              "'firstline\\nsecondline'"
            ],
            "application/vnd.google.colaboratory.intrinsic+json": {
              "type": "string"
            }
          },
          "metadata": {},
          "execution_count": 58
        }
      ],
      "source": [
        "newline_string # turns out using the quick way of printing strings gives us developer view"
      ]
    },
    {
      "cell_type": "code",
      "source": [
        "# if we use print then we will get user centric view\n",
        "print(newline_string)"
      ],
      "metadata": {
        "id": "dc_oGsKAzwbU",
        "outputId": "e7e5c49c-c249-46e3-d7b0-d02dcd60a45e",
        "colab": {
          "base_uri": "https://localhost:8080/"
        }
      },
      "execution_count": 59,
      "outputs": [
        {
          "output_type": "stream",
          "name": "stdout",
          "text": [
            "firstline\n",
            "secondline\n"
          ]
        }
      ]
    },
    {
      "cell_type": "code",
      "source": [
        "# so there is a list of escape characters\n",
        "# https://developers.google.com/static/edu/python/images/hello.png"
      ],
      "metadata": {
        "id": "nIc2KTpYz462"
      },
      "execution_count": null,
      "outputs": []
    },
    {
      "cell_type": "code",
      "execution_count": null,
      "metadata": {
        "id": "lHSshdgnnx67"
      },
      "outputs": [],
      "source": [
        "# in Python single and double quotes work the same way, you just need a matching pair"
      ]
    },
    {
      "cell_type": "code",
      "execution_count": 60,
      "metadata": {
        "id": "dJu-mlXlnx68",
        "outputId": "194b4405-637c-4057-bbdd-9e2f73b6a389",
        "colab": {
          "base_uri": "https://localhost:8080/"
        }
      },
      "outputs": [
        {
          "output_type": "stream",
          "name": "stdout",
          "text": [
            "Alice told the rabbit 'go down the hole' and rabbit complied\n"
          ]
        }
      ],
      "source": [
        "# so if we want ' inside our text we use \" as outer divider\n",
        "quote = \"Alice told the rabbit 'go down the hole' and rabbit complied\"\n",
        "print(quote)"
      ]
    },
    {
      "cell_type": "code",
      "execution_count": 61,
      "metadata": {
        "id": "QudHIKn5nx68",
        "outputId": "3705a9d5-77c1-4127-c1ec-07393cdd137a",
        "colab": {
          "base_uri": "https://localhost:8080/"
        }
      },
      "outputs": [
        {
          "output_type": "stream",
          "name": "stdout",
          "text": [
            "Alice told the rabbit \"go down the hole\" and rabbit complied\n"
          ]
        }
      ],
      "source": [
        "# alternatively I could have escped the quotes\n",
        "# without escaping the text would end after rabbit  \n",
        "quote = \"Alice told the rabbit \\\"go down the hole\\\" and rabbit complied\"\n",
        "print(quote)"
      ]
    },
    {
      "cell_type": "code",
      "source": [
        "# there are also raw strings without escaping\n",
        "raw_string = r\"Alice \\n not a new line\"\n",
        "print(raw_string)"
      ],
      "metadata": {
        "id": "mi2KOKaT2Kat",
        "outputId": "ed432970-42e6-4b62-c931-477f2913ece3",
        "colab": {
          "base_uri": "https://localhost:8080/"
        }
      },
      "execution_count": 62,
      "outputs": [
        {
          "output_type": "stream",
          "name": "stdout",
          "text": [
            "Alice \\n not a new line\n"
          ]
        }
      ]
    },
    {
      "cell_type": "code",
      "source": [
        "# without using r prefix I would have to use double escaping\n",
        "also_string = \"Alice \\\\n not a new line\" # so I had to escape \\ with itself \\\\\n",
        "print(also_string)"
      ],
      "metadata": {
        "id": "YLU-swR92UIg",
        "outputId": "aa951f3c-67d2-421a-d7c9-ccd9205109af",
        "colab": {
          "base_uri": "https://localhost:8080/"
        }
      },
      "execution_count": 63,
      "outputs": [
        {
          "output_type": "stream",
          "name": "stdout",
          "text": [
            "Alice \\n not a new line\n"
          ]
        }
      ]
    },
    {
      "cell_type": "code",
      "execution_count": null,
      "metadata": {
        "id": "STqpPRC4nx68",
        "outputId": "97f61fa1-bfcf-441f-fecc-194104634f42"
      },
      "outputs": [
        {
          "name": "stdout",
          "output_type": "stream",
          "text": [
            "Alice told the rabbit \"go down the hole\" and rabbit complied\n"
          ]
        }
      ],
      "source": [
        "# so if we want to include double quotes inside\n",
        "# we use ' for outside \n",
        "quote = 'Alice told the rabbit \"go down the hole\" and rabbit complied'\n",
        "print(quote)"
      ]
    },
    {
      "cell_type": "code",
      "execution_count": 64,
      "metadata": {
        "scrolled": true,
        "id": "KLiuRfMjnx68",
        "outputId": "ff759c8a-43b4-477d-95e3-e64e2add9174",
        "colab": {
          "base_uri": "https://localhost:8080/"
        }
      },
      "outputs": [
        {
          "output_type": "stream",
          "name": "stdout",
          "text": [
            "Really\n",
            "Long\n",
            "And\n",
            "Boring\n",
            "    With Taba and maybe 'quote something' and even use double quotes \"for talking\" and so on \"\"\"\n",
            "String\n"
          ]
        }
      ],
      "source": [
        "# for multistrings you can put whater inside as long as it is not \"\"\" :)\n",
        "\n",
        "multi_string = \"\"\"Really\n",
        "Long\n",
        "And\n",
        "Boring\n",
        "    With Taba and maybe 'quote something' and even use double quotes \"for talking\" and so on \\\"\\\"\\\"\n",
        "String\"\"\"\n",
        "print(multi_string)"
      ]
    },
    {
      "cell_type": "code",
      "source": [
        "# we can even use multi-line strings with f - strings to add some values inside\n",
        "a = 5\n",
        "year = 2023\n",
        "my_big_string = f\"\"\"Oh this is nice {year}\n",
        "the number is {a} which cubed is {a**3}\n",
        "    also my name is {name}\n",
        "and I can write some more\"\"\"\n",
        "\n",
        "print(my_big_string)"
      ],
      "metadata": {
        "id": "Yf7YhXbP22po",
        "outputId": "29c94bf0-73c3-4e20-9065-9a464e2d03f6",
        "colab": {
          "base_uri": "https://localhost:8080/"
        }
      },
      "execution_count": 65,
      "outputs": [
        {
          "output_type": "stream",
          "name": "stdout",
          "text": [
            "Oh this is nice 2023\n",
            "the number is 5 which cubed is 125\n",
            "    also my name is Valdis\n",
            "and I can write some more\n"
          ]
        }
      ]
    },
    {
      "cell_type": "code",
      "execution_count": null,
      "metadata": {
        "id": "-4O0F3Kpnx68",
        "outputId": "215dd51d-e921-4ce9-9cfb-dff459906b51"
      },
      "outputs": [
        {
          "data": {
            "text/plain": [
              "'Just a quote'"
            ]
          },
          "execution_count": 82,
          "metadata": {},
          "output_type": "execute_result"
        }
      ],
      "source": [
        "mytext = 'Just a quote'\n",
        "mytext"
      ]
    },
    {
      "cell_type": "code",
      "execution_count": null,
      "metadata": {
        "id": "dBukL_q9nx68",
        "outputId": "518d7b2d-812a-491c-cc2f-33906006dd31"
      },
      "outputs": [
        {
          "data": {
            "text/plain": [
              "'They said \"It was a long and stormy night\" ending the story'"
            ]
          },
          "execution_count": 83,
          "metadata": {},
          "output_type": "execute_result"
        }
      ],
      "source": [
        "myquote = 'They said \"It was a long and stormy night\" ending the story'\n",
        "myquote"
      ]
    },
    {
      "cell_type": "code",
      "execution_count": null,
      "metadata": {
        "id": "FdtmmqMMnx68",
        "outputId": "d42d2b88-2a26-4e31-98b2-5ee8c9fe41d4"
      },
      "outputs": [
        {
          "data": {
            "text/plain": [
              "'Another quote\"Stormy night\" continuing the story'"
            ]
          },
          "execution_count": 84,
          "metadata": {},
          "output_type": "execute_result"
        }
      ],
      "source": [
        "myquote = \"Another quote\\\"Stormy night\\\" continuing the story\"\n",
        "myquote"
      ]
    },
    {
      "cell_type": "code",
      "execution_count": 66,
      "metadata": {
        "id": "0RVoiVJOnx69",
        "outputId": "eec75f1b-f15f-4776-b728-4dd13d4a4c68",
        "colab": {
          "base_uri": "https://localhost:8080/",
          "height": 167
        }
      },
      "outputs": [
        {
          "output_type": "error",
          "ename": "TypeError",
          "evalue": "ignored",
          "traceback": [
            "\u001b[0;31m---------------------------------------------------------------------------\u001b[0m",
            "\u001b[0;31mTypeError\u001b[0m                                 Traceback (most recent call last)",
            "\u001b[0;32m<ipython-input-66-fc0af14c7fe6>\u001b[0m in \u001b[0;36m<module>\u001b[0;34m\u001b[0m\n\u001b[0;32m----> 1\u001b[0;31m \u001b[0;34m\"Valdis\"\u001b[0m \u001b[0;34m+\u001b[0m \u001b[0;36m5\u001b[0m\u001b[0;34m\u001b[0m\u001b[0;34m\u001b[0m\u001b[0m\n\u001b[0m",
            "\u001b[0;31mTypeError\u001b[0m: can only concatenate str (not \"int\") to str"
          ]
        }
      ],
      "source": [
        "\"Valdis\" + 5 # two different data types - they do not play together"
      ]
    },
    {
      "cell_type": "code",
      "execution_count": null,
      "metadata": {
        "id": "UxWVINe_nx69"
      },
      "outputs": [],
      "source": [
        "# the answer is casting number to string beforehand"
      ]
    },
    {
      "cell_type": "code",
      "execution_count": 67,
      "metadata": {
        "id": "SKfU8_MEnx69",
        "outputId": "4de757bb-77e9-45e9-b317-d6d5d22b8e40",
        "colab": {
          "base_uri": "https://localhost:8080/"
        }
      },
      "outputs": [
        {
          "output_type": "execute_result",
          "data": {
            "text/plain": [
              "('Valdis 5', 'Valdis 5')"
            ]
          },
          "metadata": {},
          "execution_count": 67
        }
      ],
      "source": [
        "\"Valdis \" + str(5),\"Valdis \" + '5'"
      ]
    },
    {
      "cell_type": "code",
      "execution_count": null,
      "metadata": {
        "id": "1wpJT35lnx69",
        "outputId": "f6824ad2-3aa2-489a-ebaa-630dddc971de"
      },
      "outputs": [
        {
          "name": "stdout",
          "output_type": "stream",
          "text": [
            "Talk 10\n"
          ]
        }
      ],
      "source": [
        "a=10\n",
        "t=\"Talk \"+str(a)\n",
        "print(t)"
      ]
    },
    {
      "cell_type": "code",
      "execution_count": null,
      "metadata": {
        "id": "sxhmKvf5nx69",
        "outputId": "acca35ef-e3df-4f3b-e9c5-e9b517d4e687"
      },
      "outputs": [
        {
          "name": "stdout",
          "output_type": "stream",
          "text": [
            "Talk 10\n"
          ]
        }
      ],
      "source": [
        "t = \"Talk \"+\"10\"\n",
        "print(t)"
      ]
    },
    {
      "cell_type": "code",
      "execution_count": null,
      "metadata": {
        "id": "_J-fKjKInx69",
        "outputId": "77714d39-0114-4774-ca38-51d6c6d6c9a2"
      },
      "outputs": [
        {
          "data": {
            "text/plain": [
              "'555'"
            ]
          },
          "execution_count": 93,
          "metadata": {},
          "output_type": "execute_result"
        }
      ],
      "source": [
        "str(555)"
      ]
    },
    {
      "cell_type": "code",
      "execution_count": null,
      "metadata": {
        "id": "ntkVeEdXnx69",
        "outputId": "da66bfb2-6937-4cee-a53f-71fc76f2e4f8"
      },
      "outputs": [
        {
          "data": {
            "text/plain": [
              "(2814172811480, 140711459395136)"
            ]
          },
          "execution_count": 58,
          "metadata": {},
          "output_type": "execute_result"
        }
      ],
      "source": [
        "id('25'),id(25)"
      ]
    },
    {
      "cell_type": "code",
      "execution_count": null,
      "metadata": {
        "id": "h-ye9R9jnx6-",
        "outputId": "a031e8a3-2ab6-4407-ac1b-645484e5bd65"
      },
      "outputs": [
        {
          "data": {
            "text/plain": [
              "('2545', 70)"
            ]
          },
          "execution_count": 94,
          "metadata": {},
          "output_type": "execute_result"
        }
      ],
      "source": [
        "'25'+'45',25+45"
      ]
    },
    {
      "cell_type": "code",
      "execution_count": null,
      "metadata": {
        "id": "fQ-KLrEunx6-",
        "outputId": "b1f71cb1-baab-4040-b592-8445f71699f5"
      },
      "outputs": [
        {
          "data": {
            "text/plain": [
              "345"
            ]
          },
          "execution_count": 95,
          "metadata": {},
          "output_type": "execute_result"
        }
      ],
      "source": [
        "int('345')"
      ]
    },
    {
      "cell_type": "code",
      "execution_count": null,
      "metadata": {
        "id": "zjVV9n1Wnx6-",
        "outputId": "8218f3d9-cfce-4d72-da3d-469a16f04ecb"
      },
      "outputs": [
        {
          "data": {
            "text/plain": [
              "70"
            ]
          },
          "execution_count": 96,
          "metadata": {},
          "output_type": "execute_result"
        }
      ],
      "source": [
        "int(\"70\")"
      ]
    },
    {
      "cell_type": "code",
      "execution_count": null,
      "metadata": {
        "id": "QFTdP1JSnx6-",
        "outputId": "9912f820-25cc-4f7d-af3c-e7ea3597cfdd"
      },
      "outputs": [
        {
          "data": {
            "text/plain": [
              "70"
            ]
          },
          "execution_count": 97,
          "metadata": {},
          "output_type": "execute_result"
        }
      ],
      "source": [
        "int('70')"
      ]
    },
    {
      "cell_type": "code",
      "execution_count": null,
      "metadata": {
        "id": "2QHi2-aInx6-"
      },
      "outputs": [],
      "source": [
        "?str"
      ]
    },
    {
      "cell_type": "code",
      "execution_count": 68,
      "metadata": {
        "id": "XC35qVZqnx6-",
        "outputId": "fd4918bf-12cd-4295-aff5-26a9b4bb18fd",
        "colab": {
          "base_uri": "https://localhost:8080/",
          "height": 35
        }
      },
      "outputs": [
        {
          "output_type": "execute_result",
          "data": {
            "text/plain": [
              "'BeerBeerBeerBeerBeer'"
            ],
            "application/vnd.google.colaboratory.intrinsic+json": {
              "type": "string"
            }
          },
          "metadata": {},
          "execution_count": 68
        }
      ],
      "source": [
        "much_beer = \"Beer\"*5 # i can multiple strings this could come in handy in homework #1\n",
        "much_beer"
      ]
    },
    {
      "cell_type": "code",
      "execution_count": null,
      "metadata": {
        "id": "FTOgovHjnx6-",
        "outputId": "91fd31ff-9b73-4943-80a6-63d5cb0522f4"
      },
      "outputs": [
        {
          "name": "stdout",
          "output_type": "stream",
          "text": [
            "Monty Python Spam Monty Python Spam Monty Python Spam Monty Python Spam Monty Python Spam \n"
          ]
        }
      ],
      "source": [
        "# Automatic string concatenation without +\n",
        "funny_string = ('Monty '\n",
        "'Python ' \n",
        "'Spam '*5)\n",
        "print(funny_string)\n",
        "# Notice that string multiplication happens after concatenation"
      ]
    },
    {
      "cell_type": "code",
      "execution_count": null,
      "metadata": {
        "id": "X1PZQFPqnx6_",
        "outputId": "da0f2ffc-effc-4989-da9f-d6253ae93de4"
      },
      "outputs": [
        {
          "name": "stdout",
          "output_type": "stream",
          "text": [
            "It's \ta \"wonderful\" \n",
            "life\n"
          ]
        }
      ],
      "source": [
        "print(\"It's \\ta \\\"wonderful\\\" \\nlife\")"
      ]
    },
    {
      "cell_type": "code",
      "execution_count": null,
      "metadata": {
        "id": "e0JHxs8Enx6_",
        "outputId": "744237ce-1469-4cb9-bae1-cdb93c5bbd27"
      },
      "outputs": [
        {
          "name": "stdout",
          "output_type": "stream",
          "text": [
            "Really really long line   mVW\n"
          ]
        }
      ],
      "source": [
        "# How to print a line which does not fit in a single line\n",
        "print('Really really long line\\\n",
        "   mVW')"
      ]
    },
    {
      "cell_type": "code",
      "execution_count": null,
      "metadata": {
        "id": "RnsMvaZDnx6_",
        "outputId": "379a6951-9bd9-400c-ffba-b8882edd33d6"
      },
      "outputs": [
        {
          "name": "stdout",
          "output_type": "stream",
          "text": [
            "Alice said \"hello\"\n"
          ]
        }
      ],
      "source": [
        "print('Alice said \"hello\"')"
      ]
    },
    {
      "cell_type": "markdown",
      "metadata": {
        "id": "ZH7L81r5nx6_"
      },
      "source": [
        "## Fstrings (new since Python 3.6)\n",
        "* faster way to format strings\n",
        "* can use variables in current scope\n",
        "* same idea as .format() but faster and easier to read"
      ]
    },
    {
      "cell_type": "code",
      "execution_count": 71,
      "metadata": {
        "id": "_fBnKj0Qnx6_",
        "outputId": "10857e49-5f61-4691-f8ab-752f2c83ae67",
        "colab": {
          "base_uri": "https://localhost:8080/"
        }
      },
      "outputs": [
        {
          "output_type": "stream",
          "name": "stdout",
          "text": [
            "2+2=4 nice isn't sidlaVsidlaVsidlaV also \n",
            " BeerBeerBeerBeerBeer\n"
          ]
        }
      ],
      "source": [
        "newstr = f\"2+2={2+2} nice isn't {name[::-1]*3} also \\n {much_beer}\"\n",
        "print(newstr)"
      ]
    },
    {
      "cell_type": "code",
      "source": [
        "from datetime import datetime\n",
        "now = datetime.now()\n",
        "year = now.year\n",
        "date = now.date\n",
        "day = now.day"
      ],
      "metadata": {
        "id": "6TbqJxJb3063"
      },
      "execution_count": 72,
      "outputs": []
    },
    {
      "cell_type": "code",
      "source": [
        "month = now.month\n",
        "weekday = now.weekday()\n"
      ],
      "metadata": {
        "id": "liTpEDoD4GnR"
      },
      "execution_count": 87,
      "outputs": []
    },
    {
      "cell_type": "code",
      "execution_count": 88,
      "metadata": {
        "id": "T0wWU9C6nx6_",
        "outputId": "1cd48a65-a2d7-48cc-bdba-994c7ef39a24",
        "colab": {
          "base_uri": "https://localhost:8080/"
        }
      },
      "outputs": [
        {
          "output_type": "stream",
          "name": "stdout",
          "text": [
            "Today is 27th of 2 which is 0. Nice 2 isn't it ? \n"
          ]
        }
      ],
      "source": [
        "# actual real usage\n",
        "# weekday=\"Monday\"\n",
        "# month=\"February\"\n",
        "# day=13\n",
        "greeting = f\"Today is {day}th of {month} which is {weekday}. Nice {month} isn't it ? \"\n",
        "print(greeting)\n",
        "#nicer than format method\n",
        "# so here we have numerics for month and weekday - so months(January) start with 1 but weekdays(Monday) with 0"
      ]
    },
    {
      "cell_type": "code",
      "execution_count": null,
      "metadata": {
        "id": "lmvmgYjgnx7A"
      },
      "outputs": [],
      "source": [
        "# notice how I did not have to cast 13 to str(13) in the above example"
      ]
    },
    {
      "cell_type": "code",
      "execution_count": 89,
      "metadata": {
        "id": "Ff0xEhTdnx7A",
        "outputId": "c8774a5c-a828-4028-8b56-b2ed513ca245",
        "colab": {
          "base_uri": "https://localhost:8080/"
        }
      },
      "outputs": [
        {
          "output_type": "stream",
          "name": "stdout",
          "text": [
            "Elapsed 345.24556 seconds since start of new era\n",
            "Elapsed                            345.2 seconds since start of new era\n",
            "Elapsed   345.246 seconds since start of new era\n",
            "Number    75556.222\n"
          ]
        }
      ],
      "source": [
        "seconds=345.24556\n",
        "width=32 # how much space our formatted value should take up\n",
        "precision=4 # how many digits to use\n",
        "print(f'Elapsed {seconds} seconds since start of new era')\n",
        "print(f'Elapsed {seconds:{width}.{precision}} seconds since start of new era')\n",
        "print(f'Elapsed {seconds:{9}.{6}} seconds since start of new era')\n",
        "print(f'Number {75556.2222:{12}.{8}}')"
      ]
    },
    {
      "cell_type": "code",
      "execution_count": null,
      "metadata": {
        "id": "fR_E20E_nx7A",
        "outputId": "97c6b8f6-5d35-4882-9959-7e7ad4dedd92"
      },
      "outputs": [
        {
          "data": {
            "text/plain": [
              "'0.1+0.2= 0.3'"
            ]
          },
          "execution_count": 108,
          "metadata": {},
          "output_type": "execute_result"
        }
      ],
      "source": [
        "myresult = f\"0.1+0.2={0.1+0.2:{4}.{4}}\"\n",
        "myresult"
      ]
    },
    {
      "cell_type": "code",
      "execution_count": null,
      "metadata": {
        "id": "WIAHfhmpnx7A",
        "outputId": "9430d0ed-b870-4d01-fafd-3268f490b25d"
      },
      "outputs": [
        {
          "data": {
            "text/plain": [
              "'3th of October which is'"
            ]
          },
          "execution_count": 109,
          "metadata": {},
          "output_type": "execute_result"
        }
      ],
      "source": [
        "greeting[10:33:1] # you can always get a slice from a string"
      ]
    },
    {
      "cell_type": "code",
      "execution_count": null,
      "metadata": {
        "id": "cXKjGFd6nx7A",
        "outputId": "a80d4447-998a-4bb7-b117-4317e594193b"
      },
      "outputs": [
        {
          "name": "stdout",
          "output_type": "stream",
          "text": [
            "Hello Valdis, nice day isn't day for a walk?\n"
          ]
        }
      ],
      "source": [
        "my_hello = f\"Hello {name}, nice day isn't day for a walk?\"\n",
        "print(my_hello)"
      ]
    },
    {
      "cell_type": "markdown",
      "metadata": {
        "id": "0azvatTmnx7A"
      },
      "source": [
        "### Python 3.X strings are Unicode by default no more 'u prefixes"
      ]
    },
    {
      "cell_type": "code",
      "execution_count": null,
      "metadata": {
        "id": "JOtT_EHTnx7A"
      },
      "outputs": [],
      "source": [
        "myfood = \"porridge\""
      ]
    },
    {
      "cell_type": "code",
      "execution_count": null,
      "metadata": {
        "id": "0k-6jSKWnx7A",
        "outputId": "700c6e24-0a97-45b7-ac6f-19208c13f2ed"
      },
      "outputs": [
        {
          "data": {
            "text/plain": [
              "'putra'"
            ]
          },
          "execution_count": 87,
          "metadata": {},
          "output_type": "execute_result"
        }
      ],
      "source": [
        "myfood"
      ]
    },
    {
      "cell_type": "code",
      "execution_count": null,
      "metadata": {
        "id": "fexIX5-ynx7B",
        "outputId": "306fee8e-8b9e-4aeb-a2ae-9624eb39c0b7"
      },
      "outputs": [
        {
          "data": {
            "text/plain": [
              "'t'"
            ]
          },
          "execution_count": 88,
          "metadata": {},
          "output_type": "execute_result"
        }
      ],
      "source": [
        "myfood[2]"
      ]
    },
    {
      "cell_type": "code",
      "execution_count": null,
      "metadata": {
        "id": "AWqPKJJTnx7B",
        "outputId": "1d19fced-5b78-41c7-f862-58e99df040b4"
      },
      "outputs": [
        {
          "data": {
            "text/plain": [
              "'pu'"
            ]
          },
          "execution_count": 89,
          "metadata": {},
          "output_type": "execute_result"
        }
      ],
      "source": [
        "myfood[:2]"
      ]
    },
    {
      "cell_type": "code",
      "execution_count": null,
      "metadata": {
        "id": "qWpJRPFunx7B",
        "outputId": "e1e3e0ce-7d34-40f4-a84e-ce88c090e791"
      },
      "outputs": [
        {
          "data": {
            "text/plain": [
              "'tra'"
            ]
          },
          "execution_count": 90,
          "metadata": {},
          "output_type": "execute_result"
        }
      ],
      "source": [
        "myfood[-3:]"
      ]
    },
    {
      "cell_type": "code",
      "execution_count": null,
      "metadata": {
        "id": "HLUKaGZ-nx7B",
        "outputId": "67436d42-293b-4a06-ef8f-bf702f71e256"
      },
      "outputs": [
        {
          "data": {
            "text/plain": [
              "'artup'"
            ]
          },
          "execution_count": 91,
          "metadata": {},
          "output_type": "execute_result"
        }
      ],
      "source": [
        "myfood[::-1]"
      ]
    },
    {
      "cell_type": "code",
      "execution_count": null,
      "metadata": {
        "id": "oXS6WxvJnx7B",
        "outputId": "9f634289-1e8e-483d-fcd7-11761a8935ef"
      },
      "outputs": [
        {
          "data": {
            "text/plain": [
              "'atp'"
            ]
          },
          "execution_count": 92,
          "metadata": {},
          "output_type": "execute_result"
        }
      ],
      "source": [
        "myfood[::-2]"
      ]
    },
    {
      "cell_type": "code",
      "source": [],
      "metadata": {
        "id": "zZff59WZ5EZG"
      },
      "execution_count": null,
      "outputs": []
    },
    {
      "cell_type": "markdown",
      "source": [
        "String Methods\n",
        "\n",
        "[String Methods Docs](https://docs.python.org/3/library/stdtypes.html#string-methods)"
      ],
      "metadata": {
        "id": "pxpOEMyw5Ey5"
      }
    },
    {
      "cell_type": "code",
      "source": [
        "myfood"
      ],
      "metadata": {
        "id": "laJJxgnA5ZzG",
        "outputId": "78d3b2cd-bb04-4402-a0fe-368e8df0eb1f",
        "colab": {
          "base_uri": "https://localhost:8080/",
          "height": 35
        }
      },
      "execution_count": 90,
      "outputs": [
        {
          "output_type": "execute_result",
          "data": {
            "text/plain": [
              "'ice cream'"
            ],
            "application/vnd.google.colaboratory.intrinsic+json": {
              "type": "string"
            }
          },
          "metadata": {},
          "execution_count": 90
        }
      ]
    },
    {
      "cell_type": "code",
      "source": [
        "myfood = \"iCe cREam\"\n",
        "myfood"
      ],
      "metadata": {
        "id": "vs0TLN0p5f0d",
        "outputId": "e8ba7e13-89aa-49da-eae6-72467ecf3bdd",
        "colab": {
          "base_uri": "https://localhost:8080/",
          "height": 35
        }
      },
      "execution_count": 91,
      "outputs": [
        {
          "output_type": "execute_result",
          "data": {
            "text/plain": [
              "'iCe cREam'"
            ],
            "application/vnd.google.colaboratory.intrinsic+json": {
              "type": "string"
            }
          },
          "metadata": {},
          "execution_count": 91
        }
      ]
    },
    {
      "cell_type": "code",
      "execution_count": 92,
      "metadata": {
        "id": "z4Xdu1z_nx7B",
        "outputId": "410abe9c-6df1-497e-a889-ca3e9c4653fe",
        "colab": {
          "base_uri": "https://localhost:8080/",
          "height": 35
        }
      },
      "outputs": [
        {
          "output_type": "execute_result",
          "data": {
            "text/plain": [
              "'Ice cream'"
            ],
            "application/vnd.google.colaboratory.intrinsic+json": {
              "type": "string"
            }
          },
          "metadata": {},
          "execution_count": 92
        }
      ],
      "source": [
        "bigfood = myfood.capitalize() # i pressed tab after . and saw all kind of methods I can apply to my string\n",
        "bigfood"
      ]
    },
    {
      "cell_type": "code",
      "source": [
        "myfood."
      ],
      "metadata": {
        "id": "-JBNadJY5owI"
      },
      "execution_count": null,
      "outputs": []
    },
    {
      "cell_type": "code",
      "execution_count": null,
      "metadata": {
        "id": "HpRyvmw8nx7C",
        "outputId": "7f7bed1d-1631-49c9-891f-b0e67f764d9e"
      },
      "outputs": [
        {
          "data": {
            "text/plain": [
              "'Porridge'"
            ]
          },
          "execution_count": 113,
          "metadata": {},
          "output_type": "execute_result"
        }
      ],
      "source": [
        "myfood.capitalize() # note that capitilize DOES NOT change the string, it makes a new one"
      ]
    },
    {
      "cell_type": "code",
      "execution_count": 93,
      "metadata": {
        "id": "_JM19jwZnx7C",
        "outputId": "fbc4a3a9-8858-4b3e-9f34-b92de216162d",
        "colab": {
          "base_uri": "https://localhost:8080/"
        }
      },
      "outputs": [
        {
          "output_type": "execute_result",
          "data": {
            "text/plain": [
              "0"
            ]
          },
          "metadata": {},
          "execution_count": 93
        }
      ],
      "source": [
        "# count the number of occurences in a string\n",
        "myfood.count('r') # why do we have zero?"
      ]
    },
    {
      "cell_type": "code",
      "source": [
        "print(myfood) # count is case sensitive!"
      ],
      "metadata": {
        "id": "pUOVTh9q54fn",
        "outputId": "b9751403-2990-40bc-f720-f60d105cfa35",
        "colab": {
          "base_uri": "https://localhost:8080/"
        }
      },
      "execution_count": 94,
      "outputs": [
        {
          "output_type": "stream",
          "name": "stdout",
          "text": [
            "iCe cREam\n"
          ]
        }
      ]
    },
    {
      "cell_type": "code",
      "source": [
        "# if you want to count upper and lower case \n",
        "# you can firs lower case the text and then count\n",
        "# alternative you could upper case the text and then count\n",
        "myfood.lower()"
      ],
      "metadata": {
        "id": "tnRZj9OP5_Bc",
        "outputId": "aaec1b65-26b6-4a02-e738-870affa47169",
        "colab": {
          "base_uri": "https://localhost:8080/",
          "height": 35
        }
      },
      "execution_count": 96,
      "outputs": [
        {
          "output_type": "execute_result",
          "data": {
            "text/plain": [
              "'ice cream'"
            ],
            "application/vnd.google.colaboratory.intrinsic+json": {
              "type": "string"
            }
          },
          "metadata": {},
          "execution_count": 96
        }
      ]
    },
    {
      "cell_type": "code",
      "source": [
        "myfood.lower().count('c') # so i converted all characters to lowercase then counter"
      ],
      "metadata": {
        "id": "TpLjTr276Ok-",
        "outputId": "21d0754e-3791-404a-bc0c-7584b2c629a0",
        "colab": {
          "base_uri": "https://localhost:8080/"
        }
      },
      "execution_count": 97,
      "outputs": [
        {
          "output_type": "execute_result",
          "data": {
            "text/plain": [
              "2"
            ]
          },
          "metadata": {},
          "execution_count": 97
        }
      ]
    },
    {
      "cell_type": "code",
      "source": [
        "myfood.count(\"Ce\") # i could have converted to lowercase here and then counted \"ce\""
      ],
      "metadata": {
        "id": "r6pFPikm6hEF",
        "outputId": "98a83516-ecb9-4ec3-9076-077357cea838",
        "colab": {
          "base_uri": "https://localhost:8080/"
        }
      },
      "execution_count": 98,
      "outputs": [
        {
          "output_type": "execute_result",
          "data": {
            "text/plain": [
              "1"
            ]
          },
          "metadata": {},
          "execution_count": 98
        }
      ]
    },
    {
      "cell_type": "code",
      "execution_count": null,
      "metadata": {
        "id": "exaPe6hunx7C",
        "outputId": "fb50e0a2-1081-449f-ed78-8f073dba3dda"
      },
      "outputs": [
        {
          "data": {
            "text/plain": [
              "1"
            ]
          },
          "execution_count": 116,
          "metadata": {},
          "output_type": "execute_result"
        }
      ],
      "source": [
        "# count the number of occurences in a string\n",
        "myfood.count('idg')"
      ]
    },
    {
      "cell_type": "code",
      "execution_count": null,
      "metadata": {
        "id": "r9JVm4Punx7C",
        "outputId": "638c3f3a-2dfa-4390-ecd0-064c8d17e0d3"
      },
      "outputs": [
        {
          "data": {
            "text/plain": [
              "0"
            ]
          },
          "execution_count": 117,
          "metadata": {},
          "output_type": "execute_result"
        }
      ],
      "source": [
        "myfood.count('a')"
      ]
    },
    {
      "cell_type": "code",
      "execution_count": 99,
      "metadata": {
        "id": "1pqngJYenx7C",
        "outputId": "6c735406-d727-434d-ec82-7140c0d33881",
        "colab": {
          "base_uri": "https://localhost:8080/"
        }
      },
      "outputs": [
        {
          "output_type": "execute_result",
          "data": {
            "text/plain": [
              "False"
            ]
          },
          "metadata": {},
          "execution_count": 99
        }
      ],
      "source": [
        "# if you just want to check whether there are any specific characters in your string\n",
        "'u' in myfood"
      ]
    },
    {
      "cell_type": "code",
      "source": [
        "'c' in myfood"
      ],
      "metadata": {
        "id": "z8l2dvcB6r-P",
        "outputId": "8c2f87b8-0d89-48e7-88d6-c725de996253",
        "colab": {
          "base_uri": "https://localhost:8080/"
        }
      },
      "execution_count": 100,
      "outputs": [
        {
          "output_type": "execute_result",
          "data": {
            "text/plain": [
              "True"
            ]
          },
          "metadata": {},
          "execution_count": 100
        }
      ]
    },
    {
      "cell_type": "code",
      "source": [
        "# you could use this boolean in a if (or while even)\n",
        "if 'c' in myfood:\n",
        "    print(f\"Wow there is letter c in {myfood} !!\")\n",
        "else: \n",
        "    print(f\"Sorry no such letter in {myfood}\")"
      ],
      "metadata": {
        "id": "ffus86je6vHm",
        "outputId": "deb8cd11-152c-4f56-c345-b860abd61e9b",
        "colab": {
          "base_uri": "https://localhost:8080/"
        }
      },
      "execution_count": 102,
      "outputs": [
        {
          "output_type": "stream",
          "name": "stdout",
          "text": [
            "Wow there is letter c in iCe cREam !!\n"
          ]
        }
      ]
    },
    {
      "cell_type": "code",
      "execution_count": null,
      "metadata": {
        "id": "5lz5CY1Hnx7C",
        "outputId": "69c33152-95e4-462f-a21d-f00b3b6b88da"
      },
      "outputs": [
        {
          "data": {
            "text/plain": [
              "True"
            ]
          },
          "execution_count": 119,
          "metadata": {},
          "output_type": "execute_result"
        }
      ],
      "source": [
        "'o' in myfood"
      ]
    },
    {
      "cell_type": "code",
      "execution_count": 103,
      "metadata": {
        "id": "ejxM_vl7nx7D",
        "outputId": "230e4c15-e8d1-41fc-d918-e8ffd4c99d8b",
        "colab": {
          "base_uri": "https://localhost:8080/"
        }
      },
      "outputs": [
        {
          "output_type": "execute_result",
          "data": {
            "text/plain": [
              "True"
            ]
          },
          "metadata": {},
          "execution_count": 103
        }
      ],
      "source": [
        "'C' in myfood"
      ]
    },
    {
      "cell_type": "code",
      "execution_count": null,
      "metadata": {
        "id": "RTHbn_mPnx7D",
        "outputId": "23ac0033-16e5-4aac-a207-c65f1706bff9"
      },
      "outputs": [
        {
          "data": {
            "text/plain": [
              "True"
            ]
          },
          "execution_count": 121,
          "metadata": {},
          "output_type": "execute_result"
        }
      ],
      "source": [
        "# we can check for substring in our string\n",
        "'rid' in myfood"
      ]
    },
    {
      "cell_type": "code",
      "execution_count": null,
      "metadata": {
        "id": "NUBhisC7nx7D",
        "outputId": "542d4ca1-8e84-443b-f863-b2f549f2302f"
      },
      "outputs": [
        {
          "data": {
            "text/plain": [
              "False"
            ]
          },
          "execution_count": 122,
          "metadata": {},
          "output_type": "execute_result"
        }
      ],
      "source": [
        "# we can check for substring in our string\n",
        "'put' in bigfood"
      ]
    },
    {
      "cell_type": "code",
      "execution_count": null,
      "metadata": {
        "id": "1xZHfew2nx7D"
      },
      "outputs": [],
      "source": []
    },
    {
      "cell_type": "code",
      "execution_count": 104,
      "metadata": {
        "id": "gZTo8ERonx7D",
        "outputId": "7f3c2bf2-5260-44c3-fbae-2068af069718",
        "colab": {
          "base_uri": "https://localhost:8080/"
        }
      },
      "outputs": [
        {
          "output_type": "execute_result",
          "data": {
            "text/plain": [
              "False"
            ]
          },
          "metadata": {},
          "execution_count": 104
        }
      ],
      "source": [
        "'somethinglongthatisnot' in myfood"
      ]
    },
    {
      "cell_type": "code",
      "execution_count": 105,
      "metadata": {
        "id": "_6yE29MSnx7D",
        "outputId": "a85fccab-dfb5-44fc-834d-c23ee7bba3cf",
        "colab": {
          "base_uri": "https://localhost:8080/",
          "height": 203
        }
      },
      "outputs": [
        {
          "output_type": "error",
          "ename": "ValueError",
          "evalue": "ignored",
          "traceback": [
            "\u001b[0;31m---------------------------------------------------------------------------\u001b[0m",
            "\u001b[0;31mValueError\u001b[0m                                Traceback (most recent call last)",
            "\u001b[0;32m<ipython-input-105-f2077a0a70eb>\u001b[0m in \u001b[0;36m<module>\u001b[0;34m\u001b[0m\n\u001b[1;32m      1\u001b[0m \u001b[0;31m# find first index of where the substring starts in our string\u001b[0m\u001b[0;34m\u001b[0m\u001b[0;34m\u001b[0m\u001b[0;34m\u001b[0m\u001b[0m\n\u001b[1;32m      2\u001b[0m \u001b[0;31m# remember we count from 0!\u001b[0m\u001b[0;34m\u001b[0m\u001b[0;34m\u001b[0m\u001b[0;34m\u001b[0m\u001b[0m\n\u001b[0;32m----> 3\u001b[0;31m \u001b[0mmyfood\u001b[0m\u001b[0;34m.\u001b[0m\u001b[0mindex\u001b[0m\u001b[0;34m(\u001b[0m\u001b[0;34m'rid'\u001b[0m\u001b[0;34m)\u001b[0m\u001b[0;34m\u001b[0m\u001b[0;34m\u001b[0m\u001b[0m\n\u001b[0m",
            "\u001b[0;31mValueError\u001b[0m: substring not found"
          ]
        }
      ],
      "source": [
        "# find first index of where the substring starts in our string\n",
        "# remember we count from 0!\n",
        "# index will also raise ValueError exception if nothing is found\n",
        "# so you might want to use this inside try: except block\n",
        "myfood.index('rid')"
      ]
    },
    {
      "cell_type": "code",
      "execution_count": 106,
      "metadata": {
        "id": "wiNac12unx7E",
        "outputId": "e39eeb7c-b43c-4103-b9ca-5c2be303477a",
        "colab": {
          "base_uri": "https://localhost:8080/"
        }
      },
      "outputs": [
        {
          "output_type": "execute_result",
          "data": {
            "text/plain": [
              "-1"
            ]
          },
          "metadata": {},
          "execution_count": 106
        }
      ],
      "source": [
        "myfood.find('notfound') # so find gives you -1 if not found while index gives you error if not found"
      ]
    },
    {
      "cell_type": "code",
      "source": [
        "myfood.find('REa'), myfood.index('REa')"
      ],
      "metadata": {
        "id": "2Qzwf3Fw7S7w",
        "outputId": "10ca0506-b58e-421e-df56-ab305190d07f",
        "colab": {
          "base_uri": "https://localhost:8080/"
        }
      },
      "execution_count": 108,
      "outputs": [
        {
          "output_type": "execute_result",
          "data": {
            "text/plain": [
              "(5, 5)"
            ]
          },
          "metadata": {},
          "execution_count": 108
        }
      ]
    },
    {
      "cell_type": "code",
      "source": [
        "# both of the above methods will give index of first match"
      ],
      "metadata": {
        "id": "7GNi47rK7dhM"
      },
      "execution_count": 109,
      "outputs": []
    },
    {
      "cell_type": "code",
      "source": [
        "magic_words = \"abracadabra magic\"\n",
        "magic_words.find(\"bra\") # gives me 1 because that is where index of first place we find it"
      ],
      "metadata": {
        "id": "VAZTkeVP7kwQ",
        "outputId": "d33871c5-b440-4873-e633-fd2b0635cb02",
        "colab": {
          "base_uri": "https://localhost:8080/"
        }
      },
      "execution_count": 110,
      "outputs": [
        {
          "output_type": "execute_result",
          "data": {
            "text/plain": [
              "1"
            ]
          },
          "metadata": {},
          "execution_count": 110
        }
      ]
    },
    {
      "cell_type": "code",
      "source": [
        "magic_words.find(\"bra\", magic_words.find(\"bra\")+1 ) # so you could skip the first find"
      ],
      "metadata": {
        "id": "NGz8vAJ97zmU",
        "outputId": "b75d2d3c-bb97-4a81-e1d7-3e2626b9e49e",
        "colab": {
          "base_uri": "https://localhost:8080/"
        }
      },
      "execution_count": 113,
      "outputs": [
        {
          "output_type": "execute_result",
          "data": {
            "text/plain": [
              "1"
            ]
          },
          "metadata": {},
          "execution_count": 113
        }
      ]
    },
    {
      "cell_type": "code",
      "source": [
        "# even better would be to write a loop to find these instances\n",
        "haystack = much_beer # i could have used much_beer directly , haystack is just an alias/shortcut\n",
        "needle = \"eer\"\n",
        "n = -1\n",
        "while True:\n",
        "    n = haystack.find(needle, n+1) # so i started with -1+1(0) then our first search goes correctly\n",
        "    if n == -1:\n",
        "        print(f\"All out of needles\")\n",
        "        break\n",
        "    print(f\"Found needle {needle} in our haystack {haystack} at index {n}\")\n"
      ],
      "metadata": {
        "id": "HYWG0xFD7-r4",
        "outputId": "b7fc5376-869b-4777-dfc6-d5b9e7dc2456",
        "colab": {
          "base_uri": "https://localhost:8080/"
        }
      },
      "execution_count": 114,
      "outputs": [
        {
          "output_type": "stream",
          "name": "stdout",
          "text": [
            "Found needle eer in our haystack BeerBeerBeerBeerBeer at index 1\n",
            "Found needle eer in our haystack BeerBeerBeerBeerBeer at index 5\n",
            "Found needle eer in our haystack BeerBeerBeerBeerBeer at index 9\n",
            "Found needle eer in our haystack BeerBeerBeerBeerBeer at index 13\n",
            "Found needle eer in our haystack BeerBeerBeerBeerBeer at index 17\n",
            "All out of needles\n"
          ]
        }
      ]
    },
    {
      "cell_type": "code",
      "execution_count": null,
      "metadata": {
        "id": "CtSGphORnx7E",
        "outputId": "706d947b-fd6d-4be0-a193-d1da1d6e572a"
      },
      "outputs": [
        {
          "data": {
            "text/plain": [
              "3"
            ]
          },
          "execution_count": 127,
          "metadata": {},
          "output_type": "execute_result"
        }
      ],
      "source": [
        "myfood.find('rid')"
      ]
    },
    {
      "cell_type": "code",
      "execution_count": 115,
      "metadata": {
        "id": "dGpw7kzDnx7E",
        "outputId": "b0c55899-9c0b-4438-cbfa-00fe96047dc9",
        "colab": {
          "base_uri": "https://localhost:8080/",
          "height": 35
        }
      },
      "outputs": [
        {
          "output_type": "execute_result",
          "data": {
            "text/plain": [
              "'Ce cREam'"
            ],
            "application/vnd.google.colaboratory.intrinsic+json": {
              "type": "string"
            }
          },
          "metadata": {},
          "execution_count": 115
        }
      ],
      "source": [
        "myfood[myfood.index('Ce'):] # so find where rid starts and give me the rest of the string"
      ]
    },
    {
      "cell_type": "code",
      "source": [
        "# if I want to print only a few characters I can use offset\n",
        "# in this example I want to find \"def\" and print 5 characters from the start of find\n",
        "alphabet[alphabet.find(\"def\"):alphabet.find(\"def\")+5]"
      ],
      "metadata": {
        "id": "xOPFA1jd9f2Q",
        "outputId": "fa459eec-145e-4b65-9cbd-ffa7e64392ba",
        "colab": {
          "base_uri": "https://localhost:8080/",
          "height": 35
        }
      },
      "execution_count": 116,
      "outputs": [
        {
          "output_type": "execute_result",
          "data": {
            "text/plain": [
              "'defgh'"
            ],
            "application/vnd.google.colaboratory.intrinsic+json": {
              "type": "string"
            }
          },
          "metadata": {},
          "execution_count": 116
        }
      ]
    },
    {
      "cell_type": "code",
      "source": [
        "# I could include negative offset as well\n",
        "# slicing actually will not throw errors on out of range indexes\n",
        "alphabet[alphabet.find(\"def\"):alphabet.find(\"def\")+10]"
      ],
      "metadata": {
        "id": "H_ykDgHH95O7",
        "outputId": "e293315e-1dcc-4d9f-95e2-3d7eb9c24bac",
        "colab": {
          "base_uri": "https://localhost:8080/",
          "height": 35
        }
      },
      "execution_count": 118,
      "outputs": [
        {
          "output_type": "execute_result",
          "data": {
            "text/plain": [
              "'defghijklm'"
            ],
            "application/vnd.google.colaboratory.intrinsic+json": {
              "type": "string"
            }
          },
          "metadata": {},
          "execution_count": 118
        }
      ]
    },
    {
      "cell_type": "code",
      "execution_count": null,
      "metadata": {
        "id": "Ibbab88Onx7E",
        "outputId": "b40f3e7f-e51c-415c-f635-fbf2d249b15a"
      },
      "outputs": [
        {
          "data": {
            "text/plain": [
              "'PORRIDGE'"
            ]
          },
          "execution_count": 129,
          "metadata": {},
          "output_type": "execute_result"
        }
      ],
      "source": [
        "myfood.upper()"
      ]
    },
    {
      "cell_type": "code",
      "execution_count": null,
      "metadata": {
        "id": "ukPMQnbKnx7E",
        "outputId": "492cb8fb-209f-4082-d048-8537dff81b4a"
      },
      "outputs": [
        {
          "data": {
            "text/plain": [
              "'Valdis'"
            ]
          },
          "execution_count": 130,
          "metadata": {},
          "output_type": "execute_result"
        }
      ],
      "source": [
        "name[0:6:1]\n"
      ]
    },
    {
      "cell_type": "code",
      "execution_count": null,
      "metadata": {
        "id": "VSXi_6b6nx7E",
        "outputId": "128367d7-fb7e-407b-ed4a-e4345ecad076"
      },
      "outputs": [
        {
          "data": {
            "text/plain": [
              "'valdis'"
            ]
          },
          "execution_count": 131,
          "metadata": {},
          "output_type": "execute_result"
        }
      ],
      "source": [
        "name.lower()"
      ]
    },
    {
      "cell_type": "code",
      "execution_count": 119,
      "metadata": {
        "id": "sEuDvX8-nx7E",
        "outputId": "9139af2d-9a3a-4572-e551-0edc22b18395",
        "colab": {
          "base_uri": "https://localhost:8080/"
        }
      },
      "outputs": [
        {
          "output_type": "execute_result",
          "data": {
            "text/plain": [
              "False"
            ]
          },
          "metadata": {},
          "execution_count": 119
        }
      ],
      "source": [
        "name.isdecimal()"
      ]
    },
    {
      "cell_type": "code",
      "execution_count": 120,
      "metadata": {
        "id": "UlQ32Xp1nx7E",
        "outputId": "d07c58af-25e1-4323-f197-52ea78ea2584",
        "colab": {
          "base_uri": "https://localhost:8080/"
        }
      },
      "outputs": [
        {
          "output_type": "execute_result",
          "data": {
            "text/plain": [
              "True"
            ]
          },
          "metadata": {},
          "execution_count": 120
        }
      ],
      "source": [
        "\"55555\".isdecimal()"
      ]
    },
    {
      "cell_type": "code",
      "source": [],
      "metadata": {
        "id": "huaEY_fy-T4F"
      },
      "execution_count": null,
      "outputs": []
    },
    {
      "cell_type": "code",
      "execution_count": null,
      "metadata": {
        "id": "Yu-pNhujnx7F"
      },
      "outputs": [],
      "source": [
        "# ourstring. then use Tab to see what functions/methods are available\n",
        "# methods/functions use parenthesis \"Valdis\".upper()"
      ]
    },
    {
      "cell_type": "code",
      "source": [
        "name.upper()"
      ],
      "metadata": {
        "id": "qe4nymQa-WQ_",
        "outputId": "37a36591-44a0-4364-acc4-86db546a6494",
        "colab": {
          "base_uri": "https://localhost:8080/",
          "height": 35
        }
      },
      "execution_count": 121,
      "outputs": [
        {
          "output_type": "execute_result",
          "data": {
            "text/plain": [
              "'VALDIS'"
            ],
            "application/vnd.google.colaboratory.intrinsic+json": {
              "type": "string"
            }
          },
          "metadata": {},
          "execution_count": 121
        }
      ]
    },
    {
      "cell_type": "code",
      "source": [
        "# title capitalizes first letters of each word (and lowercases everything else)\n",
        "myfood.title()"
      ],
      "metadata": {
        "id": "7ErEHM4X-Ynh",
        "outputId": "91792e08-2c6d-4813-e20a-3a38ec1e0ba3",
        "colab": {
          "base_uri": "https://localhost:8080/",
          "height": 35
        }
      },
      "execution_count": 123,
      "outputs": [
        {
          "output_type": "execute_result",
          "data": {
            "text/plain": [
              "'Ice Cream'"
            ],
            "application/vnd.google.colaboratory.intrinsic+json": {
              "type": "string"
            }
          },
          "metadata": {},
          "execution_count": 123
        }
      ]
    },
    {
      "cell_type": "code",
      "source": [
        "myfood.casefold() # this is very similar to lower actually\n",
        "# tiny difference in some languages like German\n",
        "# https://stackoverflow.com/questions/45745661/lower-vs-casefold-in-string-matching-and-converting-to-lowercase"
      ],
      "metadata": {
        "id": "jA60GTcb-ko1",
        "outputId": "969b99ee-fa85-4db1-c8dc-567c7977a13c",
        "colab": {
          "base_uri": "https://localhost:8080/",
          "height": 35
        }
      },
      "execution_count": 124,
      "outputs": [
        {
          "output_type": "execute_result",
          "data": {
            "text/plain": [
              "'ice cream'"
            ],
            "application/vnd.google.colaboratory.intrinsic+json": {
              "type": "string"
            }
          },
          "metadata": {},
          "execution_count": 124
        }
      ]
    },
    {
      "cell_type": "markdown",
      "metadata": {
        "id": "9vg2wXK_nx7F"
      },
      "source": [
        "# What about looping through our strings?"
      ]
    },
    {
      "cell_type": "code",
      "execution_count": 126,
      "metadata": {
        "id": "tRQ2Aodknx7F",
        "outputId": "6d835cc5-d04f-435c-819e-5f7795cbdc81",
        "colab": {
          "base_uri": "https://localhost:8080/"
        }
      },
      "outputs": [
        {
          "output_type": "stream",
          "name": "stdout",
          "text": [
            "V\n",
            "V\n",
            "Letter c='V', unicode is 86\n",
            "a\n",
            "A\n",
            "Letter c='a', unicode is 97\n",
            "l\n",
            "L\n",
            "Letter c='l', unicode is 108\n",
            "d\n",
            "D\n",
            "Letter c='d', unicode is 100\n",
            "i\n",
            "I\n",
            "Letter c='i', unicode is 105\n",
            "s\n",
            "S\n",
            "Letter c='s', unicode is 115\n"
          ]
        }
      ],
      "source": [
        "# so come up with a name for your loop variable\n",
        "# you could use any other normal variable name instead of c\n",
        "for c in name: # c is very typical for representing, but it will be a string\n",
        "    print(c)\n",
        "    print(c.upper())\n",
        "    print(f\"Letter {c=}, unicode is {ord(c)}\") # this is new to python 3.8+ so will not work on python 3.7"
      ]
    },
    {
      "cell_type": "code",
      "execution_count": null,
      "metadata": {
        "id": "x0u9OBqKnx7F",
        "outputId": "fea91fba-8da1-49f0-b7d1-0e1bf82fa466"
      },
      "outputs": [
        {
          "name": "stdout",
          "output_type": "stream",
          "text": [
            "My variable name='Valdis'\n"
          ]
        }
      ],
      "source": [
        "print(f\"My variable {name=}\")"
      ]
    },
    {
      "cell_type": "code",
      "execution_count": null,
      "metadata": {
        "id": "toJIy1Onnx7F"
      },
      "outputs": [],
      "source": [
        "# tiny practice \n",
        "# print only letters in your name less than \"i\" and make them uppercase"
      ]
    },
    {
      "cell_type": "code",
      "execution_count": null,
      "metadata": {
        "id": "fr7fIZUMnx7F",
        "outputId": "fe9303fb-e02e-49f5-c75b-b69bdf8f4d55"
      },
      "outputs": [
        {
          "name": "stdout",
          "output_type": "stream",
          "text": [
            "Our limit='i' code is 105\n",
            "c='V' code is 86\n",
            "c='a' code is 97\n",
            "a\n",
            "c='l' code is 108\n",
            "c='d' code is 100\n",
            "d\n",
            "c='i' code is 105\n",
            "c='s' code is 115\n"
          ]
        }
      ],
      "source": [
        "limit = \"i\"\n",
        "result = \"\"\n",
        "print(f\"Our {limit=} code is {ord(limit)}\")\n",
        "for c in name:\n",
        "    print(f\"{c=} code is {ord(c)}\")\n",
        "    if c.lower() < limit:\n",
        "        print(c)\n",
        "        result += c \n",
        "        # it is same as saying result = result + c, we make a new string overwriting the old one\n",
        "        # for very long strings this could get pretty slow ( i am talking huuuge strings)"
      ]
    },
    {
      "cell_type": "code",
      "execution_count": null,
      "metadata": {
        "id": "hjBcyCoEnx7F",
        "outputId": "d61d6255-c71f-4071-fa0b-f4d0ccdb175b"
      },
      "outputs": [
        {
          "name": "stdout",
          "output_type": "stream",
          "text": [
            "ad\n"
          ]
        }
      ],
      "source": [
        "print(result)"
      ]
    },
    {
      "cell_type": "code",
      "execution_count": null,
      "metadata": {
        "id": "D6wAXyrlnx7G",
        "outputId": "4a5f8047-aa8b-49b6-a0a2-5148ebcf6a1c"
      },
      "outputs": [
        {
          "data": {
            "text/plain": [
              "'AD'"
            ]
          },
          "execution_count": 144,
          "metadata": {},
          "output_type": "execute_result"
        }
      ],
      "source": [
        "result.upper()"
      ]
    },
    {
      "cell_type": "code",
      "execution_count": 127,
      "metadata": {
        "id": "mUYbIsqKnx7G",
        "outputId": "99184fc1-b122-4440-99cc-b61af5f7e358",
        "colab": {
          "base_uri": "https://localhost:8080/",
          "height": 35
        }
      },
      "outputs": [
        {
          "output_type": "execute_result",
          "data": {
            "text/plain": [
              "'    Riga \\t\\n '"
            ],
            "application/vnd.google.colaboratory.intrinsic+json": {
              "type": "string"
            }
          },
          "metadata": {},
          "execution_count": 127
        }
      ],
      "source": [
        "mycity = \"    Riga \\t\\n \"\n",
        "mycity"
      ]
    },
    {
      "cell_type": "code",
      "execution_count": 128,
      "metadata": {
        "id": "ah1l-EbSnx7G",
        "outputId": "bbc3bb1f-73fa-40c9-ee9c-9158017413e1",
        "colab": {
          "base_uri": "https://localhost:8080/",
          "height": 35
        }
      },
      "outputs": [
        {
          "output_type": "execute_result",
          "data": {
            "text/plain": [
              "'Riga'"
            ],
            "application/vnd.google.colaboratory.intrinsic+json": {
              "type": "string"
            }
          },
          "metadata": {},
          "execution_count": 128
        }
      ],
      "source": [
        "clean_city = mycity.strip() # so whitespace are any non character symbols\n",
        "clean_city"
      ]
    },
    {
      "cell_type": "code",
      "execution_count": 129,
      "metadata": {
        "id": "JeUdCI6znx7G",
        "outputId": "ee6027c2-5810-456b-ddc4-817a74571a6d",
        "colab": {
          "base_uri": "https://localhost:8080/",
          "height": 35
        }
      },
      "outputs": [
        {
          "output_type": "execute_result",
          "data": {
            "text/plain": [
              "'chocolate ice cream sunday'"
            ],
            "application/vnd.google.colaboratory.intrinsic+json": {
              "type": "string"
            }
          },
          "metadata": {},
          "execution_count": 129
        }
      ],
      "source": [
        "myfood = \"chocolate ice cream sunday\"\n",
        "myfood"
      ]
    },
    {
      "cell_type": "code",
      "execution_count": 130,
      "metadata": {
        "id": "owLxDLHDnx7G",
        "outputId": "f244443c-06d3-4f50-db64-27db0e351562",
        "colab": {
          "base_uri": "https://localhost:8080/"
        }
      },
      "outputs": [
        {
          "output_type": "execute_result",
          "data": {
            "text/plain": [
              "('Chocolate ice cream sunday', 'Chocolate Ice Cream Sunday')"
            ]
          },
          "metadata": {},
          "execution_count": 130
        }
      ],
      "source": [
        "myfood.capitalize(), myfood.title()"
      ]
    },
    {
      "cell_type": "code",
      "execution_count": 131,
      "metadata": {
        "id": "9fWynAdjnx7G",
        "outputId": "b536e862-c944-4f8e-ac7b-bb58505fa9de",
        "colab": {
          "base_uri": "https://localhost:8080/",
          "height": 35
        }
      },
      "outputs": [
        {
          "output_type": "execute_result",
          "data": {
            "text/plain": [
              "'V'"
            ],
            "application/vnd.google.colaboratory.intrinsic+json": {
              "type": "string"
            }
          },
          "metadata": {},
          "execution_count": 131
        }
      ],
      "source": [
        "min(name)"
      ]
    },
    {
      "cell_type": "code",
      "execution_count": 132,
      "metadata": {
        "id": "gtouFSNlnx7G",
        "outputId": "9fffa028-39c2-47d7-bc2a-4dd95872cbff",
        "colab": {
          "base_uri": "https://localhost:8080/",
          "height": 35
        }
      },
      "outputs": [
        {
          "output_type": "execute_result",
          "data": {
            "text/plain": [
              "'s'"
            ],
            "application/vnd.google.colaboratory.intrinsic+json": {
              "type": "string"
            }
          },
          "metadata": {},
          "execution_count": 132
        }
      ],
      "source": [
        "max(name) #the character with the highest ASCII value in the string"
      ]
    },
    {
      "cell_type": "code",
      "execution_count": null,
      "metadata": {
        "id": "VV7WMnuDnx7G",
        "outputId": "37d8c22c-54c5-46b3-9643-5387b3eac413"
      },
      "outputs": [
        {
          "data": {
            "text/plain": [
              "' '"
            ]
          },
          "execution_count": 152,
          "metadata": {},
          "output_type": "execute_result"
        }
      ],
      "source": [
        "min(myfood)"
      ]
    },
    {
      "cell_type": "code",
      "execution_count": null,
      "metadata": {
        "id": "2teH0Kl_nx7H",
        "outputId": "1ebd8b99-dc01-4241-884f-21b303433731"
      },
      "outputs": [
        {
          "data": {
            "text/plain": [
              "'y'"
            ]
          },
          "execution_count": 153,
          "metadata": {},
          "output_type": "execute_result"
        }
      ],
      "source": [
        "max(myfood)"
      ]
    },
    {
      "cell_type": "markdown",
      "source": [
        "## Key Concepts\n",
        "\n",
        "* Strings - Character Sequences\n",
        "* Indexing - Zero based, positive and negative\n",
        "* Slicing\n",
        "* Various methods\n",
        "* Looping through strings"
      ],
      "metadata": {
        "id": "nmj4nL96_3hk"
      }
    },
    {
      "cell_type": "code",
      "source": [],
      "metadata": {
        "id": "co-1d4VK_q9-"
      },
      "execution_count": null,
      "outputs": []
    },
    {
      "cell_type": "markdown",
      "source": [
        "## Next - List\n",
        "\n",
        "Many of the sequence operations we used for strings\n",
        "will be usable on other sequence such as list which come next time."
      ],
      "metadata": {
        "id": "ONQHzxF1_rbL"
      }
    }
  ],
  "metadata": {
    "kernelspec": {
      "display_name": "Python 3",
      "language": "python",
      "name": "python3"
    },
    "language_info": {
      "codemirror_mode": {
        "name": "ipython",
        "version": 3
      },
      "file_extension": ".py",
      "mimetype": "text/x-python",
      "name": "python",
      "nbconvert_exporter": "python",
      "pygments_lexer": "ipython3",
      "version": "3.8.3"
    },
    "colab": {
      "provenance": []
    }
  },
  "nbformat": 4,
  "nbformat_minor": 0
}