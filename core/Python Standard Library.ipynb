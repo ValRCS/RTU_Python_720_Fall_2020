{
 "cells": [
  {
   "attachments": {},
   "cell_type": "markdown",
   "metadata": {},
   "source": [
    "# Python Standard Library\n",
    "\n",
    " The Python Standard Library is a set of modules that comes with Python by default. It is a collection of modules that are built into Python. These modules provide a wide range of functionality, from operating system interfaces to data compression. The Python Standard Library is always available, so you don't need to install anything to use it. You can find the documentation for the Python Standard Library here: https://docs.python.org/3/library/index.html"
   ]
  },
  {
   "attachments": {},
   "cell_type": "markdown",
   "metadata": {},
   "source": [
    "## string module\n",
    "\n",
    " The string module contains a number of useful constants and classes, including `string.ascii_letters`, `string.ascii_lowercase`, `string.ascii_uppercase`, `string.digits`, `string.hexdigits`, `string.octdigits`, `string.punctuation`, `string.printable`, `string.whitespace`, and `string.capwords()`. The `string` module also contains the `Template` class, which is used to create string templates.\n"
   ]
  },
  {
   "cell_type": "code",
   "execution_count": 2,
   "metadata": {},
   "outputs": [],
   "source": [
    "import string #meaning I have access now to extra string goodies"
   ]
  },
  {
   "cell_type": "code",
   "execution_count": 3,
   "metadata": {},
   "outputs": [
    {
     "data": {
      "text/plain": [
       "'abcdefghijklmnopqrstuvwxyzABCDEFGHIJKLMNOPQRSTUVWXYZ'"
      ]
     },
     "execution_count": 3,
     "metadata": {},
     "output_type": "execute_result"
    }
   ],
   "source": [
    "string.ascii_letters"
   ]
  },
  {
   "cell_type": "code",
   "execution_count": 4,
   "metadata": {},
   "outputs": [
    {
     "data": {
      "text/plain": [
       "'!\"#$%&\\'()*+,-./:;<=>?@[\\\\]^_`{|}~'"
      ]
     },
     "execution_count": 4,
     "metadata": {},
     "output_type": "execute_result"
    }
   ],
   "source": [
    "string.punctuation"
   ]
  },
  {
   "cell_type": "code",
   "execution_count": 5,
   "metadata": {},
   "outputs": [],
   "source": [
    "my_name = \"Valdis\""
   ]
  },
  {
   "attachments": {},
   "cell_type": "markdown",
   "metadata": {},
   "source": [
    "## datetime\n",
    "\n",
    "    The datetime module contains a number of useful classes for working with dates and times. The `datetime` class represents a date and time. The `date` class represents a date. The `time` class represents a time. The `timedelta` class represents a duration of time. The `tzinfo` class represents a time zone. The `timezone` class represents a time zone. The `datetime` module also contains the `dateutil` module, which contains a number of useful functions for working with dates and times."
   ]
  },
  {
   "cell_type": "code",
   "execution_count": 6,
   "metadata": {},
   "outputs": [],
   "source": [
    "# you do not want to calculate dates yourself, \n",
    "# easy to make mistakes with timezones, Georgian calendar, leap years etc\n",
    "import datetime"
   ]
  },
  {
   "cell_type": "code",
   "execution_count": 7,
   "metadata": {},
   "outputs": [
    {
     "data": {
      "text/plain": [
       "datetime.datetime(2023, 4, 17, 18, 53, 57, 241958)"
      ]
     },
     "execution_count": 7,
     "metadata": {},
     "output_type": "execute_result"
    }
   ],
   "source": [
    "now = datetime.datetime.now() #notice datetime needs another datetime\n",
    "now"
   ]
  },
  {
   "cell_type": "code",
   "execution_count": 8,
   "metadata": {},
   "outputs": [
    {
     "data": {
      "text/plain": [
       "datetime.timedelta(seconds=12, microseconds=477033)"
      ]
     },
     "execution_count": 8,
     "metadata": {},
     "output_type": "execute_result"
    }
   ],
   "source": [
    "time_passed = datetime.datetime.now() - now\n",
    "time_passed"
   ]
  },
  {
   "cell_type": "code",
   "execution_count": 9,
   "metadata": {},
   "outputs": [
    {
     "data": {
      "text/plain": [
       "12"
      ]
     },
     "execution_count": 9,
     "metadata": {},
     "output_type": "execute_result"
    }
   ],
   "source": [
    "time_passed.seconds"
   ]
  },
  {
   "cell_type": "code",
   "execution_count": 10,
   "metadata": {},
   "outputs": [
    {
     "data": {
      "text/plain": [
       "0"
      ]
     },
     "execution_count": 10,
     "metadata": {},
     "output_type": "execute_result"
    }
   ],
   "source": [
    "time_passed.days"
   ]
  },
  {
   "cell_type": "code",
   "execution_count": 11,
   "metadata": {},
   "outputs": [
    {
     "data": {
      "text/plain": [
       "(2023, 17, datetime.date(2023, 4, 17))"
      ]
     },
     "execution_count": 11,
     "metadata": {},
     "output_type": "execute_result"
    }
   ],
   "source": [
    "now.year, now.day, now.date()"
   ]
  },
  {
   "cell_type": "code",
   "execution_count": 15,
   "metadata": {},
   "outputs": [
    {
     "data": {
      "text/plain": [
       "datetime.datetime"
      ]
     },
     "execution_count": 15,
     "metadata": {},
     "output_type": "execute_result"
    }
   ],
   "source": [
    "type(now)"
   ]
  },
  {
   "cell_type": "code",
   "execution_count": 13,
   "metadata": {},
   "outputs": [
    {
     "data": {
      "text/plain": [
       "datetime.datetime(2023, 4, 17, 18, 55, 18, 690224)"
      ]
     },
     "execution_count": 13,
     "metadata": {},
     "output_type": "execute_result"
    }
   ],
   "source": [
    "from datetime import datetime as dtime #you can create alias to a longer module\n",
    "really_now = dtime.now() \n",
    "really_now"
   ]
  },
  {
   "cell_type": "code",
   "execution_count": 14,
   "metadata": {},
   "outputs": [
    {
     "data": {
      "text/plain": [
       "0"
      ]
     },
     "execution_count": 14,
     "metadata": {},
     "output_type": "execute_result"
    }
   ],
   "source": [
    "really_now.weekday() # it is a method not a property"
   ]
  },
  {
   "cell_type": "code",
   "execution_count": null,
   "metadata": {},
   "outputs": [],
   "source": [
    "# turns out weekday starts on Monday with 0 and Sunday is 6"
   ]
  },
  {
   "attachments": {},
   "cell_type": "markdown",
   "metadata": {},
   "source": [
    "## Counter from collections \n",
    "    \n",
    "        The `Counter` class from the `collections` module is a dictionary subclass for counting hashable objects. It is an unordered collection where elements are stored as dictionary keys and their counts are stored as dictionary values. Counts are allowed to be any integer value including zero or negative counts. The `Counter` class is similar to bags or multisets in other languages.\n",
    "\n",
    "As I like to call it is a dictionary with benefits.."
   ]
  },
  {
   "cell_type": "code",
   "execution_count": 15,
   "metadata": {},
   "outputs": [],
   "source": [
    "from collections import Counter # we import specific class from module"
   ]
  },
  {
   "cell_type": "code",
   "execution_count": 17,
   "metadata": {},
   "outputs": [
    {
     "data": {
      "text/plain": [
       "[('a', 5), ('b', 3), ('r', 2), ('c', 2), (' ', 2)]"
      ]
     },
     "execution_count": 17,
     "metadata": {},
     "output_type": "execute_result"
    }
   ],
   "source": [
    "# by passing a string to Counter we get a dictionary like object\n",
    "cnt = Counter(\"Abracababra my magic\")\n",
    "cnt.most_common(5) # top 5 most common"
   ]
  },
  {
   "attachments": {},
   "cell_type": "markdown",
   "metadata": {},
   "source": [
    "### Counter on split string"
   ]
  },
  {
   "cell_type": "code",
   "execution_count": 19,
   "metadata": {},
   "outputs": [
    {
     "data": {
      "text/plain": [
       "['A',\n",
       " 'quick',\n",
       " 'brown',\n",
       " 'fox',\n",
       " 'jumped',\n",
       " 'over',\n",
       " 'a',\n",
       " 'sleeping',\n",
       " 'fox',\n",
       " 'and',\n",
       " \"that's\",\n",
       " 'a',\n",
       " 'wrap']"
      ]
     },
     "execution_count": 19,
     "metadata": {},
     "output_type": "execute_result"
    }
   ],
   "source": [
    "sentence = \"A quick brown fox jumped over a sleeping fox and that's a wrap\"\n",
    "sentence.split() # this gives as a list of words/tokens split by whitespace(any type)"
   ]
  },
  {
   "cell_type": "code",
   "execution_count": 20,
   "metadata": {},
   "outputs": [
    {
     "data": {
      "text/plain": [
       "[('fox', 2),\n",
       " ('a', 2),\n",
       " ('A', 1),\n",
       " ('quick', 1),\n",
       " ('brown', 1),\n",
       " ('jumped', 1),\n",
       " ('over', 1),\n",
       " ('sleeping', 1),\n",
       " ('and', 1),\n",
       " (\"that's\", 1),\n",
       " ('wrap', 1)]"
      ]
     },
     "execution_count": 20,
     "metadata": {},
     "output_type": "execute_result"
    }
   ],
   "source": [
    "\n",
    "word_count = Counter(sentence.split()) # we split sentence by default whitespace\n",
    "word_count.most_common()"
   ]
  },
  {
   "cell_type": "code",
   "execution_count": 21,
   "metadata": {},
   "outputs": [
    {
     "data": {
      "text/plain": [
       "[(' ', 12),\n",
       " ('a', 5),\n",
       " ('o', 4),\n",
       " ('e', 4),\n",
       " ('r', 3),\n",
       " ('n', 3),\n",
       " ('p', 3),\n",
       " ('u', 2),\n",
       " ('i', 2),\n",
       " ('w', 2),\n",
       " ('f', 2),\n",
       " ('x', 2),\n",
       " ('d', 2),\n",
       " ('s', 2),\n",
       " ('t', 2),\n",
       " ('A', 1),\n",
       " ('q', 1),\n",
       " ('c', 1),\n",
       " ('k', 1),\n",
       " ('b', 1),\n",
       " ('j', 1),\n",
       " ('m', 1),\n",
       " ('v', 1),\n",
       " ('l', 1),\n",
       " ('g', 1),\n",
       " ('h', 1),\n",
       " (\"'\", 1)]"
      ]
     },
     "execution_count": 21,
     "metadata": {},
     "output_type": "execute_result"
    }
   ],
   "source": [
    "# compare to not splitting then we get characters\n",
    "char_count = Counter(sentence)\n",
    "char_count.most_common()"
   ]
  },
  {
   "attachments": {},
   "cell_type": "markdown",
   "metadata": {},
   "source": [
    "## random library \n",
    "    \n",
    "        The `random` module contains a number of useful functions for generating random numbers. The `random` module contains the `random()` function, which returns a random floating point number in the range [0.0, 1.0). The `randint()` function returns a random integer in the range [a, b], including both endpoints. The `choice()` function returns a random element from a sequence. The `shuffle()` function shuffles a sequence in place. The `sample()` function returns a k length list of unique elements chosen from the population sequence or set. The `random` module also contains the `randrange()` function, which returns a randomly selected element from range(start, stop, step). The `randrange()` function is a more efficient version of `randint()` when a large number of random numbers are needed.\n",
    "\n",
    "        Reference: https://docs.python.org/3/library/random.html"
   ]
  },
  {
   "cell_type": "code",
   "execution_count": 22,
   "metadata": {},
   "outputs": [],
   "source": [
    "import random"
   ]
  },
  {
   "attachments": {},
   "cell_type": "markdown",
   "metadata": {},
   "source": [
    "### The big book of random numbers by RAND corporation\n",
    "\n",
    "What people used before random module was available in python. It is a book with 1 million random numbers and normal deviates. It is a great resource for testing your random number generators....\n",
    "https://www.amazon.com/Million-Random-Digits-Normal-Deviates/dp/0833030477\n",
    "\n",
    "![random book](https://m.media-amazon.com/images/I/41XwwSaAtXL._SX384_BO1,204,203,200_.jpg)"
   ]
  },
  {
   "cell_type": "code",
   "execution_count": 32,
   "metadata": {},
   "outputs": [
    {
     "data": {
      "text/plain": [
       "0.343962224840236"
      ]
     },
     "execution_count": 32,
     "metadata": {},
     "output_type": "execute_result"
    }
   ],
   "source": [
    "\n",
    "random.seed(9000) # specific seed guarantees same specific pseudo-random values in specific order\n",
    "# good for testing but obviously this line not good if you need fresh values\n",
    "random.random()"
   ]
  },
  {
   "cell_type": "code",
   "execution_count": 33,
   "metadata": {},
   "outputs": [
    {
     "data": {
      "text/plain": [
       "0.5954495146866053"
      ]
     },
     "execution_count": 33,
     "metadata": {},
     "output_type": "execute_result"
    }
   ],
   "source": [
    "random.random()"
   ]
  },
  {
   "cell_type": "code",
   "execution_count": 39,
   "metadata": {
    "scrolled": true
   },
   "outputs": [
    {
     "data": {
      "text/plain": [
       "2"
      ]
     },
     "execution_count": 39,
     "metadata": {},
     "output_type": "execute_result"
    }
   ],
   "source": [
    "random.randint(1,6) # 6 is included, quite rare in programming"
   ]
  },
  {
   "cell_type": "code",
   "execution_count": 40,
   "metadata": {},
   "outputs": [
    {
     "data": {
      "text/plain": [
       "['a',\n",
       " 'b',\n",
       " 'c',\n",
       " 'd',\n",
       " 'e',\n",
       " 'f',\n",
       " 'g',\n",
       " 'h',\n",
       " 'i',\n",
       " 'j',\n",
       " 'k',\n",
       " 'l',\n",
       " 'm',\n",
       " 'n',\n",
       " 'o',\n",
       " 'p',\n",
       " 'q',\n",
       " 'r',\n",
       " 's',\n",
       " 't',\n",
       " 'u',\n",
       " 'v',\n",
       " 'w',\n",
       " 'x',\n",
       " 'y',\n",
       " 'z']"
      ]
     },
     "execution_count": 40,
     "metadata": {},
     "output_type": "execute_result"
    }
   ],
   "source": [
    "my_alphabet = list(string.ascii_lowercase)\n",
    "my_alphabet"
   ]
  },
  {
   "cell_type": "code",
   "execution_count": 44,
   "metadata": {},
   "outputs": [
    {
     "data": {
      "text/plain": [
       "['w', 'd', 'v', 'z', 'l', 'h', 'j', 'g', 'q', 'm']"
      ]
     },
     "execution_count": 44,
     "metadata": {},
     "output_type": "execute_result"
    }
   ],
   "source": [
    "# you do not want to write your own shuffle algorithm \n",
    "# it is easy to make mistakes\n",
    "random.shuffle(my_alphabet) \n",
    "# this will be in place meaning my_alphabet will get shuffled\n",
    "my_alphabet[:10]"
   ]
  },
  {
   "cell_type": "code",
   "execution_count": 93,
   "metadata": {},
   "outputs": [
    {
     "data": {
      "text/plain": [
       "'p'"
      ]
     },
     "execution_count": 93,
     "metadata": {},
     "output_type": "execute_result"
    }
   ],
   "source": [
    "random.choice(my_alphabet)"
   ]
  },
  {
   "cell_type": "code",
   "execution_count": 45,
   "metadata": {},
   "outputs": [
    {
     "data": {
      "text/plain": [
       "(['w', 'd', 'v', 'z', 'l'], ['u', 'k', 'p', 'b', 'l'])"
      ]
     },
     "execution_count": 45,
     "metadata": {},
     "output_type": "execute_result"
    }
   ],
   "source": [
    "new_alphabet = random.choices(my_alphabet, k=len(my_alphabet)) \n",
    "# returns a new shuffled list with unique picks keeping old one untouched\n",
    "my_alphabet[:5], new_alphabet[:5]"
   ]
  },
  {
   "attachments": {},
   "cell_type": "markdown",
   "metadata": {},
   "source": [
    "## os library \n",
    "\n",
    "    The `os` module contains a number of useful functions for interacting with the operating system. The `os` module contains the `getcwd()` function, which returns the current working directory. The `chdir()` function changes the current working directory. The `listdir()` function returns a list containing the names of the entries in the directory given by path. The `mkdir()` function creates a directory named path with numeric mode mode. The `remove()` function removes (deletes) the file path. The `rename()` function renames the file or directory src to dst. The `stat()` function performs a stat system call on the given path. The `os` module also contains the `path` module, which contains a number of useful functions for manipulating path names."
   ]
  },
  {
   "cell_type": "code",
   "execution_count": 46,
   "metadata": {},
   "outputs": [],
   "source": [
    "import os"
   ]
  },
  {
   "cell_type": "code",
   "execution_count": 47,
   "metadata": {},
   "outputs": [
    {
     "data": {
      "text/plain": [
       "['alice_queen.txt',\n",
       " 'Jupyter Tips.ipynb',\n",
       " 'MyMod.ipynb',\n",
       " 'Practice_1.ipynb',\n",
       " 'Python Classes.ipynb',\n",
       " 'Python Dictionaries.ipynb',\n",
       " 'Python File IO.ipynb',\n",
       " 'Python File Operations 2 Binary Files and Pickle.ipynb',\n",
       " 'Python Flow Control.ipynb',\n",
       " 'Python Flow Control.md',\n",
       " 'Python Functions.ipynb',\n",
       " 'Python Functions.md',\n",
       " 'Python Lists.ipynb',\n",
       " 'Python Reading Writing Files.md',\n",
       " 'Python Sets.ipynb',\n",
       " 'Python Standard Library.ipynb',\n",
       " 'Python Strings.ipynb',\n",
       " 'Python Variables and Data Types.ipynb',\n",
       " 'Python_Classes.ipynb',\n",
       " 'Python_Dictionaries.ipynb',\n",
       " 'Python_File_IO.ipynb',\n",
       " 'Python_Flow_Control.ipynb',\n",
       " 'Python_Functions.ipynb',\n",
       " 'Python_Lists_and_Tuples.ipynb',\n",
       " 'Python_Loops.ipynb',\n",
       " 'Python_Sets.ipynb',\n",
       " 'Python_Standard_Library.ipynb',\n",
       " 'Python_Strings.ipynb',\n",
       " 'Python_Variables_and_Data_Types.ipynb',\n",
       " 'RunOtherNotebooks.ipynb',\n",
       " 'somefile.txt',\n",
       " 'Tuples.ipynb',\n",
       " 'tuples.py']"
      ]
     },
     "execution_count": 47,
     "metadata": {},
     "output_type": "execute_result"
    }
   ],
   "source": [
    "os.listdir() # list all the files/directories in your current directory"
   ]
  },
  {
   "cell_type": "code",
   "execution_count": 48,
   "metadata": {},
   "outputs": [
    {
     "data": {
      "text/plain": [
       "'d:\\\\Github\\\\RTU_Python_720_Fall_2020\\\\core'"
      ]
     },
     "execution_count": 48,
     "metadata": {},
     "output_type": "execute_result"
    }
   ],
   "source": [
    "os.getcwd() # get current working directory\n",
    "# should be different to you"
   ]
  },
  {
   "attachments": {},
   "cell_type": "markdown",
   "metadata": {},
   "source": [
    "## pathlib module and Path\n",
    "    \n",
    "        The `pathlib` module contains a number of useful classes for working with file paths. The `Path` class represents a file system path. The `PurePath` class represents a file system path. The `PurePosixPath` class represents a POSIX path. The `PureWindowsPath` class represents a Windows path. The `Path` class is a subclass of `PurePath`. The `Path` class is a subclass of `PurePosixPath`. The `Path` class is a subclass of `PureWindowsPath`."
   ]
  },
  {
   "cell_type": "code",
   "execution_count": 49,
   "metadata": {},
   "outputs": [
    {
     "data": {
      "text/plain": [
       "<generator object Path.glob at 0x0000016BC3111140>"
      ]
     },
     "execution_count": 49,
     "metadata": {},
     "output_type": "execute_result"
    }
   ],
   "source": [
    "from pathlib import Path\n",
    "# get files in current directory \n",
    "# this is a bit more advanced than os.listdir()\n",
    "# but we will not go into details\n",
    "\n",
    "file_list = Path.cwd().glob(\"*\") # this will not be a list but a generator/lazy list\n",
    "file_list #not quite what we want"
   ]
  },
  {
   "cell_type": "code",
   "execution_count": 50,
   "metadata": {},
   "outputs": [
    {
     "data": {
      "text/plain": [
       "[WindowsPath('d:/Github/RTU_Python_720_Fall_2020/core/alice_queen.txt'),\n",
       " WindowsPath('d:/Github/RTU_Python_720_Fall_2020/core/Jupyter Tips.ipynb'),\n",
       " WindowsPath('d:/Github/RTU_Python_720_Fall_2020/core/MyMod.ipynb'),\n",
       " WindowsPath('d:/Github/RTU_Python_720_Fall_2020/core/Practice_1.ipynb'),\n",
       " WindowsPath('d:/Github/RTU_Python_720_Fall_2020/core/Python Classes.ipynb'),\n",
       " WindowsPath('d:/Github/RTU_Python_720_Fall_2020/core/Python Dictionaries.ipynb'),\n",
       " WindowsPath('d:/Github/RTU_Python_720_Fall_2020/core/Python File IO.ipynb'),\n",
       " WindowsPath('d:/Github/RTU_Python_720_Fall_2020/core/Python File Operations 2 Binary Files and Pickle.ipynb'),\n",
       " WindowsPath('d:/Github/RTU_Python_720_Fall_2020/core/Python Flow Control.ipynb'),\n",
       " WindowsPath('d:/Github/RTU_Python_720_Fall_2020/core/Python Flow Control.md'),\n",
       " WindowsPath('d:/Github/RTU_Python_720_Fall_2020/core/Python Functions.ipynb'),\n",
       " WindowsPath('d:/Github/RTU_Python_720_Fall_2020/core/Python Functions.md'),\n",
       " WindowsPath('d:/Github/RTU_Python_720_Fall_2020/core/Python Lists.ipynb'),\n",
       " WindowsPath('d:/Github/RTU_Python_720_Fall_2020/core/Python Reading Writing Files.md'),\n",
       " WindowsPath('d:/Github/RTU_Python_720_Fall_2020/core/Python Sets.ipynb'),\n",
       " WindowsPath('d:/Github/RTU_Python_720_Fall_2020/core/Python Standard Library.ipynb'),\n",
       " WindowsPath('d:/Github/RTU_Python_720_Fall_2020/core/Python Strings.ipynb'),\n",
       " WindowsPath('d:/Github/RTU_Python_720_Fall_2020/core/Python Variables and Data Types.ipynb'),\n",
       " WindowsPath('d:/Github/RTU_Python_720_Fall_2020/core/Python_Classes.ipynb'),\n",
       " WindowsPath('d:/Github/RTU_Python_720_Fall_2020/core/Python_Dictionaries.ipynb'),\n",
       " WindowsPath('d:/Github/RTU_Python_720_Fall_2020/core/Python_File_IO.ipynb'),\n",
       " WindowsPath('d:/Github/RTU_Python_720_Fall_2020/core/Python_Flow_Control.ipynb'),\n",
       " WindowsPath('d:/Github/RTU_Python_720_Fall_2020/core/Python_Functions.ipynb'),\n",
       " WindowsPath('d:/Github/RTU_Python_720_Fall_2020/core/Python_Lists_and_Tuples.ipynb'),\n",
       " WindowsPath('d:/Github/RTU_Python_720_Fall_2020/core/Python_Loops.ipynb'),\n",
       " WindowsPath('d:/Github/RTU_Python_720_Fall_2020/core/Python_Sets.ipynb'),\n",
       " WindowsPath('d:/Github/RTU_Python_720_Fall_2020/core/Python_Standard_Library.ipynb'),\n",
       " WindowsPath('d:/Github/RTU_Python_720_Fall_2020/core/Python_Strings.ipynb'),\n",
       " WindowsPath('d:/Github/RTU_Python_720_Fall_2020/core/Python_Variables_and_Data_Types.ipynb'),\n",
       " WindowsPath('d:/Github/RTU_Python_720_Fall_2020/core/RunOtherNotebooks.ipynb'),\n",
       " WindowsPath('d:/Github/RTU_Python_720_Fall_2020/core/somefile.txt'),\n",
       " WindowsPath('d:/Github/RTU_Python_720_Fall_2020/core/Tuples.ipynb'),\n",
       " WindowsPath('d:/Github/RTU_Python_720_Fall_2020/core/tuples.py')]"
      ]
     },
     "execution_count": 50,
     "metadata": {},
     "output_type": "execute_result"
    }
   ],
   "source": [
    "file_list = list(Path.cwd().glob(\"*\")) # now we have a list\n",
    "# instead of * you could put *.txt or *.py or *.ipynb etc\n",
    "file_list"
   ]
  },
  {
   "cell_type": "code",
   "execution_count": 51,
   "metadata": {},
   "outputs": [
    {
     "data": {
      "text/plain": [
       "['alice_queen.txt',\n",
       " 'Jupyter Tips.ipynb',\n",
       " 'MyMod.ipynb',\n",
       " 'Practice_1.ipynb',\n",
       " 'Python Classes.ipynb',\n",
       " 'Python Dictionaries.ipynb',\n",
       " 'Python File IO.ipynb',\n",
       " 'Python File Operations 2 Binary Files and Pickle.ipynb',\n",
       " 'Python Flow Control.ipynb',\n",
       " 'Python Flow Control.md',\n",
       " 'Python Functions.ipynb',\n",
       " 'Python Functions.md',\n",
       " 'Python Lists.ipynb',\n",
       " 'Python Reading Writing Files.md',\n",
       " 'Python Sets.ipynb',\n",
       " 'Python Standard Library.ipynb',\n",
       " 'Python Strings.ipynb',\n",
       " 'Python Variables and Data Types.ipynb',\n",
       " 'Python_Classes.ipynb',\n",
       " 'Python_Dictionaries.ipynb',\n",
       " 'Python_File_IO.ipynb',\n",
       " 'Python_Flow_Control.ipynb',\n",
       " 'Python_Functions.ipynb',\n",
       " 'Python_Lists_and_Tuples.ipynb',\n",
       " 'Python_Loops.ipynb',\n",
       " 'Python_Sets.ipynb',\n",
       " 'Python_Standard_Library.ipynb',\n",
       " 'Python_Strings.ipynb',\n",
       " 'Python_Variables_and_Data_Types.ipynb',\n",
       " 'RunOtherNotebooks.ipynb',\n",
       " 'somefile.txt',\n",
       " 'Tuples.ipynb',\n",
       " 'tuples.py']"
      ]
     },
     "execution_count": 51,
     "metadata": {},
     "output_type": "execute_result"
    }
   ],
   "source": [
    "## How about just the file names?\n",
    "## let's also make sure we only get files and not directories\n",
    "file_list = [f for f in Path.cwd().glob(\"*\") if f.is_file()] # this gives us a list of files\n",
    "file_names = [f.name for f in file_list] # we are using list comprehension\n",
    "file_names"
   ]
  },
  {
   "cell_type": "code",
   "execution_count": 53,
   "metadata": {},
   "outputs": [
    {
     "data": {
      "text/plain": [
       "(5,\n",
       " [WindowsPath('d:/Github/RTU_Python_720_Fall_2020/core/alice_queen.txt'),\n",
       "  WindowsPath('d:/Github/RTU_Python_720_Fall_2020/core/somefile.txt'),\n",
       "  WindowsPath('d:/Github/RTU_Python_720_Fall_2020/data/alice.txt')])"
      ]
     },
     "execution_count": 53,
     "metadata": {},
     "output_type": "execute_result"
    }
   ],
   "source": [
    "## let's get a list of text files in directory one level up from current\n",
    "## let's get a recursive list of all files in all subdirectories\n",
    "file_list = list(Path.cwd().parent.glob(\"**/*.txt\")) # ** means recursive\n",
    "len(file_list), file_list[:3]"
   ]
  },
  {
   "attachments": {},
   "cell_type": "markdown",
   "metadata": {},
   "source": [
    "## sys module\n",
    "    \n",
    "        The `sys` module contains a number of useful functions and variables used to manipulate different parts of the Python runtime environment. The `sys` module contains the `argv` variable, which is a list of command line arguments passed to a Python script. The `exit()` function exits the interpreter by raising the `SystemExit` exception. The `getdefaultencoding()` function returns the current default string encoding used by the Unicode implementation. The `getfilesystemencoding()` function returns the encoding used to convert Unicode filenames in the `os` module to the file system encoding. The `getrecursionlimit()` function returns the current value of the maximum recursion depth. The `getsizeof()` function returns the size of an object in bytes. The `getrefcount()` function returns the reference count of an object. The `getwindowsversion()` function returns information about the current version of Windows. The `sys` module also contains the `platform` module, which contains a number of useful functions for determining the underlying platform."
   ]
  },
  {
   "cell_type": "code",
   "execution_count": 54,
   "metadata": {},
   "outputs": [
    {
     "name": "stdout",
     "output_type": "stream",
     "text": [
      "Python 3.11.3\n"
     ]
    }
   ],
   "source": [
    "# we could get python from command line\n",
    "!python --version"
   ]
  },
  {
   "cell_type": "code",
   "execution_count": 55,
   "metadata": {},
   "outputs": [
    {
     "data": {
      "text/plain": [
       "'3.11.3 (tags/v3.11.3:f3909b8, Apr  4 2023, 23:49:59) [MSC v.1934 64 bit (AMD64)]'"
      ]
     },
     "execution_count": 55,
     "metadata": {},
     "output_type": "execute_result"
    }
   ],
   "source": [
    "# from sys\n",
    "import sys\n",
    "sys.version"
   ]
  },
  {
   "attachments": {},
   "cell_type": "markdown",
   "metadata": {},
   "source": [
    "## platform module\n",
    "        \n",
    "            The `platform` module contains a number of useful functions for determining the underlying platform. The `architecture()` function returns a tuple (architecture, linkage) identifying the underlying C compiler and ABI in use. The `machine()` function returns the machine type, e.g. 'i386'. The `node()` function returns the computer's network name, e.g. 'mysite.com'. The `platform()` function returns the underlying platform, e.g. 'Linux-2.2.0-22-686'. The `processor()` function returns the (real) processor name, e.g. 'amdk6'. The `python_build()` function returns a tuple identifying the Python build number and date as strings. The `python_compiler()` function returns a string identifying the compiler used for compiling Python. The `python_implementation()` function returns a string identifying the Python implementation. The `python_version()` function returns a string identifying the Python version number. The `python_version_tuple()` function returns a tuple identifying the Python version number. The `release()` function returns the system's release, e.g. '2.2.0'. The `system()` function returns the system/OS name, e.g. 'Linux'. The `version()` function returns the system's release version, e.g. '#22 SMP Thu May 15 07:52:33 EDT 2003'."
   ]
  },
  {
   "cell_type": "code",
   "execution_count": 56,
   "metadata": {},
   "outputs": [
    {
     "data": {
      "text/plain": [
       "'Windows-10-10.0.19044-SP0'"
      ]
     },
     "execution_count": 56,
     "metadata": {},
     "output_type": "execute_result"
    }
   ],
   "source": [
    "# how about some information about the computer?\n",
    "import platform\n",
    "platform.platform()"
   ]
  },
  {
   "cell_type": "code",
   "execution_count": 58,
   "metadata": {},
   "outputs": [
    {
     "data": {
      "text/plain": [
       "12"
      ]
     },
     "execution_count": 58,
     "metadata": {},
     "output_type": "execute_result"
    }
   ],
   "source": [
    "# how about number of cores?\n",
    "os.cpu_count()"
   ]
  },
  {
   "attachments": {},
   "cell_type": "markdown",
   "metadata": {},
   "source": [
    "## psutil module\n",
    "        \n",
    "            The `psutil` module contains a number of useful functions for retrieving information on running processes and system utilization (CPU, memory, disks, network, sensors) in a portable way by using Python. The `psutil` module contains the `cpu_count()` function, which returns the number of logical CPUs in the system. The `cpu_percent()` function returns a float representing the current system-wide CPU utilization as a percentage. The `cpu_times()` function returns a named tuple representing the following CPU times: user, nice, system, idle, iowait, irq, softirq, and steal. The `cpu_stats()` function returns a named tuple representing the following CPU statistics: ctx_switches, interrupts, soft_interrupts, syscalls, and traps. The `cpu_freq()` function returns a named tuple representing the following CPU frequency statistics: current, min, and max. The `cpu_times_percent()` function returns a named tuple representing the following CPU times as a percentage: user, nice, system, idle, iowait, irq, softirq, and steal. The `cpu_percent()` function returns a float representing the current system-wide CPU utilization as a percentage. The `cpu_stats()` function returns a named tuple representing the following CPU statistics: ctx_switches, interrupts, soft_interrupts, syscalls, and traps. The `cpu_freq()` function returns a named tuple representing the following CPU frequency statistics: current, min, and max. The `cpu_times_percent()` function returns a named tuple representing the following CPU times as a percentage: user, nice, system, idle, iowait, irq, softirq, and steal. The `cpu_percent()` function returns a float representing the current system-wide CPU utilization as a percentage. The `cpu_stats()` function returns a named tuple representing the following CPU statistics: ctx_switches, interrupts, soft_interrupts, syscalls, and traps. The `cpu_freq()` function returns a named tuple representing the following CPU frequency statistics: current, min, and max. The `cpu_times_percent()` function returns a named tuple representing the following CPU times as a percentage: user, nice, system, idle, iowait, irq, softirq, and steal. The `cpu_percent()` function returns a float representing the current system-wide CPU utilization as a percentage. The `cpu_stats()` function returns a named tuple representing the following CPU statistics: ctx_switches, interrupts, soft_interrupts, syscalls,    "
   ]
  },
  {
   "cell_type": "code",
   "execution_count": 59,
   "metadata": {},
   "outputs": [
    {
     "data": {
      "text/plain": [
       "svmem(total=33839788032, available=16041283584, percent=52.6, used=17798504448, free=16041283584)"
      ]
     },
     "execution_count": 59,
     "metadata": {},
     "output_type": "execute_result"
    }
   ],
   "source": [
    "## how about total memory?\n",
    "## this is a bit more advanced\n",
    "## we will not go into details\n",
    "\n",
    "import psutil\n",
    "psutil.virtual_memory()"
   ]
  },
  {
   "cell_type": "code",
   "execution_count": 60,
   "metadata": {},
   "outputs": [],
   "source": [
    "## how about sound library for playing sounds?\n",
    "\n",
    "import winsound\n",
    "\n",
    "winsound.Beep(1000, 1000) # frequency, duration in milliseconds"
   ]
  },
  {
   "cell_type": "code",
   "execution_count": 61,
   "metadata": {},
   "outputs": [],
   "source": [
    "winsound.Beep(440, 1000)"
   ]
  },
  {
   "attachments": {},
   "cell_type": "markdown",
   "metadata": {},
   "source": [
    "## time library \n",
    "    \n",
    "        The `time` module contains a number of useful functions for working with time. The `time()` function returns the current time in seconds since the Epoch. The `ctime()` function returns a string representing the current time. The `gmtime()` function returns a named tuple representing the current time in UTC. The `localtime()` function returns a named tuple representing the current time in the local time zone. The `mktime()` function returns the time in seconds since the Epoch, in local time. The `sleep()` function suspends execution for the given number of seconds. The `strftime()` function returns a string representing the time according to the given format. The `strptime()` function parses a string representing a time according to the given format. The `time()` function returns the current time in seconds since the Epoch. The `ctime()` function returns a string representing the current time. The `gmtime()` function returns a named tuple representing the current time in UTC. The `localtime()` function returns a named tuple representing the current time in the local time zone. The `mktime()` function returns the time in seconds since the Epoch, in local time. The `sleep()` function suspends execution for the given number of seconds. The `strftime()` function returns a string representing the time according to the given format. The `strptime()` function parses a string representing a time according to the given format. The `time()` function returns the current time in seconds since the Epoch. The `ctime()` function returns a string representing the current time. The `gmtime()` function returns a named tuple representing the current time in UTC. The `localtime()` function returns a named tuple representing the current time in the local time zone. The `mktime()` function returns the time in seconds since the Epoch, in local time. The `sleep()` function suspends execution for the given number of seconds. The `strftime()` function returns a string representing the time according to the given format. The `strptime()` function parses a string representing a time according to the given format. The `time()` function returns the current time in seconds since the Epoch. The `ctime()` function returns a string representing the current time. The `gmtime()` function returns a named tuple representing the current time in UTC. The `localtime()` function returns a named tuple representing the current time in the local time zone. The `mktime()` function returns the time in seconds since the Epoch,"
   ]
  },
  {
   "cell_type": "code",
   "execution_count": 62,
   "metadata": {},
   "outputs": [],
   "source": [
    "# let's play ABCDEFG on the keyboard\n",
    "# we will use time.sleep to pause between notes\n",
    "import time\n",
    "for note in range(65, 72):\n",
    "    # winsound.Beep(note*100, 500)\n",
    "    winsound.Beep(note*10, 500)  # TODO check if correct progression\n",
    "    time.sleep(0.5) # so computer does not play all notes at once"
   ]
  },
  {
   "attachments": {},
   "cell_type": "markdown",
   "metadata": {},
   "source": [
    "## math module\n",
    "\n",
    "        The `math` module contains a number of useful functions for performing mathematical calculations.\n",
    "        "
   ]
  },
  {
   "cell_type": "code",
   "execution_count": 63,
   "metadata": {},
   "outputs": [
    {
     "data": {
      "text/plain": [
       "-1.0"
      ]
     },
     "execution_count": 63,
     "metadata": {},
     "output_type": "execute_result"
    }
   ],
   "source": [
    "import math\n",
    "math.cos(math.pi)"
   ]
  },
  {
   "attachments": {},
   "cell_type": "markdown",
   "metadata": {},
   "source": [
    "## statistics \n",
    "        \n",
    "            The `statistics` module contains a number of useful functions for calculating mathematical statistics of numeric data. The `mean()` function returns the arithmetic mean of data. The `median()` function returns the median (middle value) of data. The `median_low()` function returns the low median of data. The `median_high()` function returns the high median of data. The `median_grouped()` function returns the median, or 50th percentile, of grouped continuous data. The `mode()` function returns the single mode (most common value) of discrete or nominal data. The `pstdev()` function returns the population standard deviation of data. The `pvariance()` function returns the population variance of data. The `stdev()` function returns the sample standard deviation of data. The `variance()` function returns the sample variance of data."
   ]
  },
  {
   "cell_type": "markdown",
   "metadata": {},
   "source": []
  },
  {
   "cell_type": "code",
   "execution_count": 64,
   "metadata": {},
   "outputs": [
    {
     "data": {
      "text/plain": [
       "5.5"
      ]
     },
     "execution_count": 64,
     "metadata": {},
     "output_type": "execute_result"
    }
   ],
   "source": [
    "import statistics\n",
    "statistics.mean([1,2,3,4,5,6,7,8,9,10])"
   ]
  },
  {
   "attachments": {},
   "cell_type": "markdown",
   "metadata": {},
   "source": [
    "## Graphical libraries \n",
    "\n",
    "### turtle\n",
    "        \n",
    "            The `turtle` module is an extended reimplementation of the same-named module from the Python standard distribution up to version Python 2.5. It tries to keep the merits of the old turtle module and to be (nearly) 100% compatible with it.\n",
    "\n",
    "### tkinter\n",
    "            \n",
    "                The `tkinter` module is the standard Python interface to the Tk GUI toolkit. It is a thin object-oriented layer on top of Tcl/Tk. Tkinter is not the only GuiProgramming toolkit for Python. Other options include: wxPython, PyGTK, PyQT, PySide, Kivy, and others. Tkinter is installed by default with most Python distributions. "
   ]
  },
  {
   "cell_type": "code",
   "execution_count": null,
   "metadata": {},
   "outputs": [],
   "source": []
  }
 ],
 "metadata": {
  "kernelspec": {
   "display_name": "Python 3",
   "language": "python",
   "name": "python3"
  },
  "language_info": {
   "codemirror_mode": {
    "name": "ipython",
    "version": 3
   },
   "file_extension": ".py",
   "mimetype": "text/x-python",
   "name": "python",
   "nbconvert_exporter": "python",
   "pygments_lexer": "ipython3",
   "version": "3.11.3"
  }
 },
 "nbformat": 4,
 "nbformat_minor": 4
}
