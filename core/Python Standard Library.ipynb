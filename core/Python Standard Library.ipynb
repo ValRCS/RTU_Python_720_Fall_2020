{
 "cells": [
  {
   "attachments": {},
   "cell_type": "markdown",
   "metadata": {},
   "source": [
    "# Python Standard Library\n",
    "\n",
    " The Python Standard Library is a set of modules that comes with Python by default. It is a collection of modules that are built into Python. These modules provide a wide range of functionality, from operating system interfaces to data compression. The Python Standard Library is always available, so you don't need to install anything to use it. You can find the documentation for the Python Standard Library here: https://docs.python.org/3/library/index.html"
   ]
  },
  {
   "attachments": {},
   "cell_type": "markdown",
   "metadata": {},
   "source": [
    "## string module\n",
    "\n",
    " The string module contains a number of useful constants and classes, including `string.ascii_letters`, `string.ascii_lowercase`, `string.ascii_uppercase`, `string.digits`, `string.hexdigits`, `string.octdigits`, `string.punctuation`, `string.printable`, `string.whitespace`, and `string.capwords()`. The `string` module also contains the `Template` class, which is used to create string templates.\n"
   ]
  },
  {
   "cell_type": "code",
   "execution_count": 2,
   "metadata": {},
   "outputs": [],
   "source": [
    "import string #meaning I have access now to extra string goodies"
   ]
  },
  {
   "cell_type": "code",
   "execution_count": 3,
   "metadata": {},
   "outputs": [
    {
     "data": {
      "text/plain": [
       "'abcdefghijklmnopqrstuvwxyzABCDEFGHIJKLMNOPQRSTUVWXYZ'"
      ]
     },
     "execution_count": 3,
     "metadata": {},
     "output_type": "execute_result"
    }
   ],
   "source": [
    "string.ascii_letters"
   ]
  },
  {
   "cell_type": "code",
   "execution_count": 4,
   "metadata": {},
   "outputs": [
    {
     "data": {
      "text/plain": [
       "'!\"#$%&\\'()*+,-./:;<=>?@[\\\\]^_`{|}~'"
      ]
     },
     "execution_count": 4,
     "metadata": {},
     "output_type": "execute_result"
    }
   ],
   "source": [
    "string.punctuation"
   ]
  },
  {
   "cell_type": "code",
   "execution_count": 5,
   "metadata": {},
   "outputs": [],
   "source": [
    "my_name = \"Valdis\""
   ]
  },
  {
   "attachments": {},
   "cell_type": "markdown",
   "metadata": {},
   "source": [
    "## datetime\n",
    "\n",
    "    The datetime module contains a number of useful classes for working with dates and times. The `datetime` class represents a date and time. The `date` class represents a date. The `time` class represents a time. The `timedelta` class represents a duration of time. The `tzinfo` class represents a time zone. The `timezone` class represents a time zone. The `datetime` module also contains the `dateutil` module, which contains a number of useful functions for working with dates and times."
   ]
  },
  {
   "cell_type": "code",
   "execution_count": 6,
   "metadata": {},
   "outputs": [],
   "source": [
    "# you do not want to calculate dates yourself, \n",
    "# easy to make mistakes with timezones, Georgian calendar, leap years etc\n",
    "import datetime"
   ]
  },
  {
   "cell_type": "code",
   "execution_count": 7,
   "metadata": {},
   "outputs": [
    {
     "data": {
      "text/plain": [
       "datetime.datetime(2023, 4, 17, 18, 53, 57, 241958)"
      ]
     },
     "execution_count": 7,
     "metadata": {},
     "output_type": "execute_result"
    }
   ],
   "source": [
    "now = datetime.datetime.now() #notice datetime needs another datetime\n",
    "now"
   ]
  },
  {
   "cell_type": "code",
   "execution_count": 8,
   "metadata": {},
   "outputs": [
    {
     "data": {
      "text/plain": [
       "datetime.timedelta(seconds=12, microseconds=477033)"
      ]
     },
     "execution_count": 8,
     "metadata": {},
     "output_type": "execute_result"
    }
   ],
   "source": [
    "time_passed = datetime.datetime.now() - now\n",
    "time_passed"
   ]
  },
  {
   "cell_type": "code",
   "execution_count": 9,
   "metadata": {},
   "outputs": [
    {
     "data": {
      "text/plain": [
       "12"
      ]
     },
     "execution_count": 9,
     "metadata": {},
     "output_type": "execute_result"
    }
   ],
   "source": [
    "time_passed.seconds"
   ]
  },
  {
   "cell_type": "code",
   "execution_count": 10,
   "metadata": {},
   "outputs": [
    {
     "data": {
      "text/plain": [
       "0"
      ]
     },
     "execution_count": 10,
     "metadata": {},
     "output_type": "execute_result"
    }
   ],
   "source": [
    "time_passed.days"
   ]
  },
  {
   "cell_type": "code",
   "execution_count": 11,
   "metadata": {},
   "outputs": [
    {
     "data": {
      "text/plain": [
       "(2023, 17, datetime.date(2023, 4, 17))"
      ]
     },
     "execution_count": 11,
     "metadata": {},
     "output_type": "execute_result"
    }
   ],
   "source": [
    "now.year, now.day, now.date()"
   ]
  },
  {
   "cell_type": "code",
   "execution_count": 15,
   "metadata": {},
   "outputs": [
    {
     "data": {
      "text/plain": [
       "datetime.datetime"
      ]
     },
     "execution_count": 15,
     "metadata": {},
     "output_type": "execute_result"
    }
   ],
   "source": [
    "type(now)"
   ]
  },
  {
   "cell_type": "code",
   "execution_count": 13,
   "metadata": {},
   "outputs": [
    {
     "data": {
      "text/plain": [
       "datetime.datetime(2023, 4, 17, 18, 55, 18, 690224)"
      ]
     },
     "execution_count": 13,
     "metadata": {},
     "output_type": "execute_result"
    }
   ],
   "source": [
    "from datetime import datetime as dtime #you can create alias to a longer module\n",
    "really_now = dtime.now() \n",
    "really_now"
   ]
  },
  {
   "cell_type": "code",
   "execution_count": 14,
   "metadata": {},
   "outputs": [
    {
     "data": {
      "text/plain": [
       "0"
      ]
     },
     "execution_count": 14,
     "metadata": {},
     "output_type": "execute_result"
    }
   ],
   "source": [
    "really_now.weekday() # it is a method not a property"
   ]
  },
  {
   "cell_type": "code",
   "execution_count": null,
   "metadata": {},
   "outputs": [],
   "source": [
    "# turns out weekday starts on Monday with 0 and Sunday is 6"
   ]
  },
  {
   "attachments": {},
   "cell_type": "markdown",
   "metadata": {},
   "source": [
    "## Counter from collections \n",
    "    \n",
    "        The `Counter` class from the `collections` module is a dictionary subclass for counting hashable objects. It is an unordered collection where elements are stored as dictionary keys and their counts are stored as dictionary values. Counts are allowed to be any integer value including zero or negative counts. The `Counter` class is similar to bags or multisets in other languages.\n",
    "\n",
    "As I like to call it is a dictionary with benefits.."
   ]
  },
  {
   "cell_type": "code",
   "execution_count": 15,
   "metadata": {},
   "outputs": [],
   "source": [
    "from collections import Counter # we import specific class from module"
   ]
  },
  {
   "cell_type": "code",
   "execution_count": 17,
   "metadata": {},
   "outputs": [
    {
     "data": {
      "text/plain": [
       "[('a', 5), ('b', 3), ('r', 2), ('c', 2), (' ', 2)]"
      ]
     },
     "execution_count": 17,
     "metadata": {},
     "output_type": "execute_result"
    }
   ],
   "source": [
    "# by passing a string to Counter we get a dictionary like object\n",
    "cnt = Counter(\"Abracababra my magic\")\n",
    "cnt.most_common(5) # top 5 most common"
   ]
  },
  {
   "attachments": {},
   "cell_type": "markdown",
   "metadata": {},
   "source": [
    "### Counter on split string"
   ]
  },
  {
   "cell_type": "code",
   "execution_count": 19,
   "metadata": {},
   "outputs": [
    {
     "data": {
      "text/plain": [
       "['A',\n",
       " 'quick',\n",
       " 'brown',\n",
       " 'fox',\n",
       " 'jumped',\n",
       " 'over',\n",
       " 'a',\n",
       " 'sleeping',\n",
       " 'fox',\n",
       " 'and',\n",
       " \"that's\",\n",
       " 'a',\n",
       " 'wrap']"
      ]
     },
     "execution_count": 19,
     "metadata": {},
     "output_type": "execute_result"
    }
   ],
   "source": [
    "sentence = \"A quick brown fox jumped over a sleeping fox and that's a wrap\"\n",
    "sentence.split() # this gives as a list of words/tokens split by whitespace(any type)"
   ]
  },
  {
   "cell_type": "code",
   "execution_count": 20,
   "metadata": {},
   "outputs": [
    {
     "data": {
      "text/plain": [
       "[('fox', 2),\n",
       " ('a', 2),\n",
       " ('A', 1),\n",
       " ('quick', 1),\n",
       " ('brown', 1),\n",
       " ('jumped', 1),\n",
       " ('over', 1),\n",
       " ('sleeping', 1),\n",
       " ('and', 1),\n",
       " (\"that's\", 1),\n",
       " ('wrap', 1)]"
      ]
     },
     "execution_count": 20,
     "metadata": {},
     "output_type": "execute_result"
    }
   ],
   "source": [
    "\n",
    "word_count = Counter(sentence.split()) # we split sentence by default whitespace\n",
    "word_count.most_common()"
   ]
  },
  {
   "cell_type": "code",
   "execution_count": 21,
   "metadata": {},
   "outputs": [
    {
     "data": {
      "text/plain": [
       "[(' ', 12),\n",
       " ('a', 5),\n",
       " ('o', 4),\n",
       " ('e', 4),\n",
       " ('r', 3),\n",
       " ('n', 3),\n",
       " ('p', 3),\n",
       " ('u', 2),\n",
       " ('i', 2),\n",
       " ('w', 2),\n",
       " ('f', 2),\n",
       " ('x', 2),\n",
       " ('d', 2),\n",
       " ('s', 2),\n",
       " ('t', 2),\n",
       " ('A', 1),\n",
       " ('q', 1),\n",
       " ('c', 1),\n",
       " ('k', 1),\n",
       " ('b', 1),\n",
       " ('j', 1),\n",
       " ('m', 1),\n",
       " ('v', 1),\n",
       " ('l', 1),\n",
       " ('g', 1),\n",
       " ('h', 1),\n",
       " (\"'\", 1)]"
      ]
     },
     "execution_count": 21,
     "metadata": {},
     "output_type": "execute_result"
    }
   ],
   "source": [
    "# compare to not splitting then we get characters\n",
    "char_count = Counter(sentence)\n",
    "char_count.most_common()"
   ]
  },
  {
   "cell_type": "code",
   "execution_count": 34,
   "metadata": {},
   "outputs": [],
   "source": [
    "import random"
   ]
  },
  {
   "cell_type": "code",
   "execution_count": 44,
   "metadata": {},
   "outputs": [
    {
     "data": {
      "text/plain": [
       "0.3661412284458101"
      ]
     },
     "execution_count": 44,
     "metadata": {},
     "output_type": "execute_result"
    }
   ],
   "source": [
    "\n",
    "# random.seed(9000) # seed guarantees same specific pseudo-random values\n",
    "# good for testing but obviously this line not good if you need fresh values\n",
    "random.random()"
   ]
  },
  {
   "cell_type": "code",
   "execution_count": 65,
   "metadata": {
    "scrolled": true
   },
   "outputs": [
    {
     "data": {
      "text/plain": [
       "2"
      ]
     },
     "execution_count": 65,
     "metadata": {},
     "output_type": "execute_result"
    }
   ],
   "source": [
    "random.randint(1,6) # 6 is included, quite rare in programming"
   ]
  },
  {
   "cell_type": "code",
   "execution_count": 70,
   "metadata": {},
   "outputs": [
    {
     "data": {
      "text/plain": [
       "['a', 'b', 'c', 'd', 'e', 'f', 'g', 'h', 'i', 'j']"
      ]
     },
     "execution_count": 70,
     "metadata": {},
     "output_type": "execute_result"
    }
   ],
   "source": [
    "my_alphabet = list(string.ascii_lowercase)\n",
    "my_alphabet[:10]"
   ]
  },
  {
   "cell_type": "code",
   "execution_count": 69,
   "metadata": {},
   "outputs": [
    {
     "data": {
      "text/plain": [
       "['l', 'a', 'd', 'b', 'p', 'y', 'h', 'e', 'j', 'g']"
      ]
     },
     "execution_count": 69,
     "metadata": {},
     "output_type": "execute_result"
    }
   ],
   "source": [
    "# you do not want to write your own shuffle algorithm \n",
    "# it is easy to make mistakes\n",
    "random.shuffle(my_alphabet) \n",
    "# this will be in place meaning my_alphabet will get shuffled\n",
    "my_alphabet[:10]"
   ]
  },
  {
   "cell_type": "code",
   "execution_count": 93,
   "metadata": {},
   "outputs": [
    {
     "data": {
      "text/plain": [
       "'p'"
      ]
     },
     "execution_count": 93,
     "metadata": {},
     "output_type": "execute_result"
    }
   ],
   "source": [
    "random.choice(my_alphabet)"
   ]
  },
  {
   "cell_type": "code",
   "execution_count": 94,
   "metadata": {},
   "outputs": [
    {
     "data": {
      "text/plain": [
       "(['a', 'b', 'c', 'd', 'e'], ['c', 'o', 'g', 'j', 'z'])"
      ]
     },
     "execution_count": 94,
     "metadata": {},
     "output_type": "execute_result"
    }
   ],
   "source": [
    "new_alphabet = random.choices(my_alphabet, k=len(my_alphabet)) \n",
    "# returns a new shuffled list with unique picks keeping old one untouched\n",
    "my_alphabet[:5], new_alphabet[:5]"
   ]
  },
  {
   "cell_type": "code",
   "execution_count": 95,
   "metadata": {},
   "outputs": [],
   "source": [
    "import os"
   ]
  },
  {
   "cell_type": "code",
   "execution_count": 96,
   "metadata": {},
   "outputs": [
    {
     "data": {
      "text/plain": [
       "['.ipynb_checkpoints',\n",
       " 'Jupyter Tips.ipynb',\n",
       " 'Practice_1.ipynb',\n",
       " 'Python Classes.ipynb',\n",
       " 'Python Dictionaries.ipynb',\n",
       " 'Python Flow Control.ipynb',\n",
       " 'Python Flow Control.md',\n",
       " 'Python Functions.ipynb',\n",
       " 'Python Functions.md',\n",
       " 'Python Lists.ipynb',\n",
       " 'Python Sets.ipynb',\n",
       " 'Python Standard Library.ipynb',\n",
       " 'Python Strings.ipynb',\n",
       " 'Python Variables and Data Types.ipynb',\n",
       " 'Python_Loops.ipynb',\n",
       " 'Tuples.ipynb',\n",
       " 'tuples.py']"
      ]
     },
     "execution_count": 96,
     "metadata": {},
     "output_type": "execute_result"
    }
   ],
   "source": [
    "os.listdir() # list all the files/directories in your current directory"
   ]
  },
  {
   "cell_type": "code",
   "execution_count": 98,
   "metadata": {},
   "outputs": [
    {
     "data": {
      "text/plain": [
       "'C:\\\\Users\\\\liga\\\\Github\\\\RTU_Python_720_Fall_2020\\\\core'"
      ]
     },
     "execution_count": 98,
     "metadata": {},
     "output_type": "execute_result"
    }
   ],
   "source": [
    "os.getcwd() # get current working directory\n",
    "# should be different to you"
   ]
  },
  {
   "cell_type": "code",
   "execution_count": null,
   "metadata": {},
   "outputs": [],
   "source": [
    "# for files there is newer Pathlib library which is recommended"
   ]
  }
 ],
 "metadata": {
  "kernelspec": {
   "display_name": "Python 3",
   "language": "python",
   "name": "python3"
  },
  "language_info": {
   "codemirror_mode": {
    "name": "ipython",
    "version": 3
   },
   "file_extension": ".py",
   "mimetype": "text/x-python",
   "name": "python",
   "nbconvert_exporter": "python",
   "pygments_lexer": "ipython3",
   "version": "3.11.3"
  }
 },
 "nbformat": 4,
 "nbformat_minor": 4
}
