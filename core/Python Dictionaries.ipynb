{
  "cells": [
    {
      "cell_type": "markdown",
      "metadata": {
        "id": "efNfsCHc0L20"
      },
      "source": [
        "# Python Dictionaries\n"
      ]
    },
    {
      "cell_type": "markdown",
      "metadata": {
        "id": "I-UdFmEE0L2_"
      },
      "source": [
        "## Dictionaries\n",
        "\n",
        "* Collection of Key - Value pairs\n",
        "* also known as associative array\n",
        "* also known as map\n",
        "* unordered\n",
        "* keys unique in one dictionary\n",
        "* storing, extracting\n"
      ]
    },
    {
      "cell_type": "markdown",
      "source": [
        "## Dictionary use cases\n",
        "\n",
        "* generic storage of data - in memory\n",
        "* caching\n",
        "* counting occurences\n",
        "* for encoding and decoding such as JSON, XML and other data formats\n",
        "* lookup tables - for faster ccess to certain data\n",
        "\n",
        "Primary idea behind dictionaries is so called O(1) - constant time access and insertion of data values by the keys.\n",
        "\n",
        "This means that no matter how large the dictionary is - data insertion and retrieval is near instant.\n",
        "\n",
        "In list type of structures - search for particular item might take a while in a longer list.\n",
        "\n",
        "This idea (you can also call it indexing) drives quite a bit of improvement in computing."
      ],
      "metadata": {
        "id": "rMKlnfYI0QVT"
      }
    },
    {
      "cell_type": "markdown",
      "source": [
        "## Creating a blank dictionary\n",
        "\n",
        "It is completely normal to start with a blank dictionary\n",
        "\n",
        "Why?\n",
        "\n",
        "Dictionaries are mutable, we can add and modify data later!"
      ],
      "metadata": {
        "id": "Ntz_UfdB0_ts"
      }
    },
    {
      "cell_type": "code",
      "execution_count": 1,
      "metadata": {
        "id": "-aiQOzGk0L3A",
        "outputId": "bc4c8edb-2f83-4aeb-a840-ff751242b57d",
        "colab": {
          "base_uri": "https://localhost:8080/"
        }
      },
      "outputs": [
        {
          "output_type": "execute_result",
          "data": {
            "text/plain": [
              "0"
            ]
          },
          "metadata": {},
          "execution_count": 1
        }
      ],
      "source": [
        "emptyd = {}  # We use curly bracers\n",
        "len(emptyd)"
      ]
    },
    {
      "cell_type": "code",
      "execution_count": null,
      "metadata": {
        "id": "-buuc5uO0L3C",
        "outputId": "ceccd3c4-d844-4291-be56-a276746e407d"
      },
      "outputs": [
        {
          "data": {
            "text/plain": [
              "dict"
            ]
          },
          "execution_count": 2,
          "metadata": {},
          "output_type": "execute_result"
        }
      ],
      "source": [
        "type(emptyd)"
      ]
    },
    {
      "cell_type": "code",
      "source": [
        "# alternative to {} is to use dict\n",
        "also_empty_dictionary = dict()\n",
        "print(also_empty_dictionary)"
      ],
      "metadata": {
        "id": "JehqKrHB1JQ1",
        "outputId": "1bf54393-4f50-4b1d-c858-56545a903e2d",
        "colab": {
          "base_uri": "https://localhost:8080/"
        }
      },
      "execution_count": 2,
      "outputs": [
        {
          "output_type": "stream",
          "name": "stdout",
          "text": [
            "{}\n"
          ]
        }
      ]
    },
    {
      "cell_type": "markdown",
      "source": [
        "## Creating a dictionary with some data inside already"
      ],
      "metadata": {
        "id": "0YId8a4A1HmV"
      }
    },
    {
      "cell_type": "code",
      "execution_count": 3,
      "metadata": {
        "id": "HlAIieQ60L3D",
        "outputId": "fe7852a8-37ff-42e3-ad21-a86444547fd6",
        "colab": {
          "base_uri": "https://localhost:8080/"
        }
      },
      "outputs": [
        {
          "output_type": "stream",
          "name": "stdout",
          "text": [
            "{'jack': 4098, 'sape': 4139}\n"
          ]
        }
      ],
      "source": [
        "tel = {'jack': 4098, 'sape': 4139} # so  { key: value, key2:value2, and so on}\n",
        "# notice we are using strings as keys\n",
        "# and values are numbers\n",
        "# this is not required due to how dynamic Python is\n",
        "# however there are some restriction on what keys are\n",
        "print(tel)"
      ]
    },
    {
      "cell_type": "code",
      "execution_count": 4,
      "metadata": {
        "id": "MqhZS6VT0L3E",
        "outputId": "b80266e4-1108-4d09-f615-f467fd00087b",
        "colab": {
          "base_uri": "https://localhost:8080/"
        }
      },
      "outputs": [
        {
          "output_type": "stream",
          "name": "stdout",
          "text": [
            "{'jack': 9000, 'sape': 4139}\n"
          ]
        }
      ],
      "source": [
        "# so what can be keys ? what happens if we add second identical key\n",
        "tel = {'jack': 4098, 'sape': 4139, 'jack': 9000} # you generally should not do this, keys should be unique\n",
        "print(tel)"
      ]
    },
    {
      "cell_type": "markdown",
      "source": [
        "## Adding new key-value pairs\n"
      ],
      "metadata": {
        "id": "ibry_Kgv12wt"
      }
    },
    {
      "cell_type": "code",
      "execution_count": 5,
      "metadata": {
        "id": "7G6OBA6w0L3E",
        "outputId": "f892e438-c3b2-47af-d4a6-8ba9b340e47c",
        "colab": {
          "base_uri": "https://localhost:8080/"
        }
      },
      "outputs": [
        {
          "output_type": "stream",
          "name": "stdout",
          "text": [
            "dict_keys(['jack', 'sape', 'guido'])\n",
            "dict_values([9000, 4139, 4127])\n"
          ]
        }
      ],
      "source": [
        "# add a new key-value pair\n",
        "tel['guido'] = 4127\n",
        "# i will print out all keys and all values\n",
        "print(tel.keys())\n",
        "print(tel.values())"
      ]
    },
    {
      "cell_type": "code",
      "execution_count": 7,
      "metadata": {
        "id": "ZUJ-Enz20L3F",
        "outputId": "8e64785e-898d-4ddd-cd17-4a58e25feb52",
        "colab": {
          "base_uri": "https://localhost:8080/"
        }
      },
      "outputs": [
        {
          "output_type": "execute_result",
          "data": {
            "text/plain": [
              "{'jack': 9000, 'sape': 4139, 'guido': 4127, 'valdis': 4127}"
            ]
          },
          "metadata": {},
          "execution_count": 7
        }
      ],
      "source": [
        "# add key 'valdis' with value 4127 to our tel dictionary\n",
        "tel['valdis'] = 4127\n",
        "tel # so values can be same"
      ]
    },
    {
      "cell_type": "markdown",
      "source": [
        "## Types of data stores as values\n",
        "\n",
        "Values can be any data type supported by Python - it can be any object actually.\n",
        "\n",
        "So what to do if you need to store more than one value for the same key?\n",
        "\n",
        "You have options.\n",
        "\n",
        "You can store the value as a list.\n",
        "You could also create another dictionary inside a dictionary - so called nested dictionary."
      ],
      "metadata": {
        "id": "tzJ12VKh2XRQ"
      }
    },
    {
      "cell_type": "code",
      "execution_count": 8,
      "metadata": {
        "id": "o6SUB5Z00L3F",
        "outputId": "04ebcbc3-033e-404d-c2bd-cf201a88c5bd",
        "colab": {
          "base_uri": "https://localhost:8080/"
        }
      },
      "outputs": [
        {
          "output_type": "execute_result",
          "data": {
            "text/plain": [
              "{'jack': 9000, 'sape': 4139, 'guido': 4127, 'valdis': [9000, 2640, 2911]}"
            ]
          },
          "metadata": {},
          "execution_count": 8
        }
      ],
      "source": [
        "tel['valdis'] = [9000,2640,2911] # so i am associating a list of 3 numbers with key 'valdis'\n",
        "tel"
      ]
    },
    {
      "cell_type": "code",
      "execution_count": 9,
      "metadata": {
        "id": "Dv6tlBK20L3G",
        "outputId": "3d4f07b1-45f2-4066-f561-3fb9082fdc87",
        "colab": {
          "base_uri": "https://localhost:8080/"
        }
      },
      "outputs": [
        {
          "output_type": "execute_result",
          "data": {
            "text/plain": [
              "[['jack', 9000], ['valdis', 9000]]"
            ]
          },
          "metadata": {},
          "execution_count": 9
        }
      ],
      "source": [
        "# compare it with a list of lists\n",
        "tel_list = [['jack',9000], ['valdis',9000]]\n",
        "tel_list # in a list of lists we need to know the numeric index instead of key\n",
        "# note that dictionaries can take numbers as keys"
      ]
    },
    {
      "cell_type": "code",
      "execution_count": 10,
      "metadata": {
        "id": "WDseUyds0L3H",
        "outputId": "16f7d4a9-b094-45c3-94cc-299d5a287c04",
        "colab": {
          "base_uri": "https://localhost:8080/"
        }
      },
      "outputs": [
        {
          "output_type": "execute_result",
          "data": {
            "text/plain": [
              "9000"
            ]
          },
          "metadata": {},
          "execution_count": 10
        }
      ],
      "source": [
        "#get value from key in dictionary\n",
        "# very fast even in large dictionaries! O(1)\n",
        "# this means even a huge dictionary will retrieve the values in constant time - ie very quickly\n",
        "\n",
        "tel['jack']"
      ]
    },
    {
      "cell_type": "code",
      "execution_count": null,
      "metadata": {
        "id": "wIEevRo40L3H"
      },
      "outputs": [],
      "source": [
        "tel['sape'] = 54545"
      ]
    },
    {
      "cell_type": "code",
      "execution_count": null,
      "metadata": {
        "id": "_nXkLkHL0L3H"
      },
      "outputs": [],
      "source": [
        "# try adding your own name to tel dictionary"
      ]
    },
    {
      "cell_type": "code",
      "execution_count": 11,
      "metadata": {
        "id": "tfkQ1EQA0L3I",
        "outputId": "41b4204f-31cf-484d-eee2-cee167a0cb54",
        "colab": {
          "base_uri": "https://localhost:8080/"
        }
      },
      "outputs": [
        {
          "output_type": "execute_result",
          "data": {
            "text/plain": [
              "[9000, 2640, 2911]"
            ]
          },
          "metadata": {},
          "execution_count": 11
        }
      ],
      "source": [
        "tel['valdis'] # so key 'valdis' currently stores a list"
      ]
    },
    {
      "cell_type": "markdown",
      "source": [
        "## Checking for wrong keys\n",
        "\n",
        "It is possible that we have a key that actually does not exist in our dictionary - if we start with a blank dictionary we have no keys.."
      ],
      "metadata": {
        "id": "2IlEwQ_G3mJ8"
      }
    },
    {
      "cell_type": "code",
      "execution_count": 12,
      "metadata": {
        "id": "D1ym0b0g0L3I",
        "outputId": "4e8b3a49-2b8a-4d9c-d08e-0ad43cdcb52e",
        "colab": {
          "base_uri": "https://localhost:8080/",
          "height": 168
        }
      },
      "outputs": [
        {
          "output_type": "error",
          "ename": "KeyError",
          "evalue": "ignored",
          "traceback": [
            "\u001b[0;31m---------------------------------------------------------------------------\u001b[0m",
            "\u001b[0;31mKeyError\u001b[0m                                  Traceback (most recent call last)",
            "\u001b[0;32m<ipython-input-12-4970cedd3a66>\u001b[0m in \u001b[0;36m<module>\u001b[0;34m\u001b[0m\n\u001b[0;32m----> 1\u001b[0;31m \u001b[0mtel\u001b[0m\u001b[0;34m[\u001b[0m\u001b[0;34m'Valdis'\u001b[0m\u001b[0;34m]\u001b[0m \u001b[0;31m# this should give error because no such key exists\u001b[0m\u001b[0;34m\u001b[0m\u001b[0;34m\u001b[0m\u001b[0m\n\u001b[0m",
            "\u001b[0;31mKeyError\u001b[0m: 'Valdis'"
          ]
        }
      ],
      "source": [
        "tel['Valdis'] # this should give error because no such key exists - keys are case sensitive, here they are strings"
      ]
    },
    {
      "cell_type": "code",
      "execution_count": null,
      "metadata": {
        "id": "PNPTiXcV0L3I"
      },
      "outputs": [],
      "source": []
    },
    {
      "cell_type": "code",
      "execution_count": 13,
      "metadata": {
        "id": "tq5RaNKn0L3I",
        "outputId": "27f91ed5-65ce-478d-93bd-866f5f8c7137",
        "colab": {
          "base_uri": "https://localhost:8080/"
        }
      },
      "outputs": [
        {
          "output_type": "execute_result",
          "data": {
            "text/plain": [
              "True"
            ]
          },
          "metadata": {},
          "execution_count": 13
        }
      ],
      "source": [
        "# check for key in our dictionary\n",
        "'valdis' in tel # also this check is so called O(1) - constant time lookup unlike lists which will longer - linear time"
      ]
    },
    {
      "cell_type": "code",
      "execution_count": 14,
      "metadata": {
        "id": "LIypLPsp0L3J",
        "outputId": "9e7cd607-bab6-4afe-dff3-6d3e78bfb825",
        "colab": {
          "base_uri": "https://localhost:8080/"
        }
      },
      "outputs": [
        {
          "output_type": "execute_result",
          "data": {
            "text/plain": [
              "False"
            ]
          },
          "metadata": {},
          "execution_count": 14
        }
      ],
      "source": [
        "'peteris' in tel"
      ]
    },
    {
      "cell_type": "code",
      "execution_count": 16,
      "metadata": {
        "id": "1IrBuQBn0L3J",
        "outputId": "5bdb9217-d33e-4400-add2-4a18f7be15cc",
        "colab": {
          "base_uri": "https://localhost:8080/"
        }
      },
      "outputs": [
        {
          "output_type": "stream",
          "name": "stdout",
          "text": [
            "No such key\n"
          ]
        }
      ],
      "source": [
        "key = 'nevaldis'\n",
        "# key = 'valdis'\n",
        "if key in tel:\n",
        "    print(tel[key]) # we print the value of the key if there is such a key\n",
        "else:\n",
        "    print(\"No such key\")\n",
        "\n",
        "## This approach works but can get unwieldy on large code base so Python provides an alternative shorter way"
      ]
    },
    {
      "cell_type": "code",
      "execution_count": null,
      "metadata": {
        "id": "IScAwBxt0L3J"
      },
      "outputs": [],
      "source": [
        "type(None)"
      ]
    },
    {
      "cell_type": "markdown",
      "source": [
        "### Dictionary get method\n",
        "\n",
        "* Idea - no errors on missing keys, \n",
        "* provide default value"
      ],
      "metadata": {
        "id": "Wi-9pOYJ4nmk"
      }
    },
    {
      "cell_type": "code",
      "execution_count": 18,
      "metadata": {
        "id": "-H8k0i2q0L3J",
        "outputId": "8a8a78e7-c0b2-494d-c866-d0c7806923bb",
        "colab": {
          "base_uri": "https://localhost:8080/"
        }
      },
      "outputs": [
        {
          "output_type": "execute_result",
          "data": {
            "text/plain": [
              "[9000, 2640, 2911]"
            ]
          },
          "metadata": {},
          "execution_count": 18
        }
      ],
      "source": [
        "tel.get('valdis') # gets value by key without errors"
      ]
    },
    {
      "cell_type": "code",
      "execution_count": 17,
      "metadata": {
        "id": "XUsgkQBg0L3K",
        "outputId": "b4a70d11-e786-4c9c-b8e6-0cfe77aacd9d",
        "colab": {
          "base_uri": "https://localhost:8080/"
        }
      },
      "outputs": [
        {
          "output_type": "stream",
          "name": "stdout",
          "text": [
            "None\n"
          ]
        }
      ],
      "source": [
        "print(tel.get('nevaldis')) #by default on bad/missing key we get None"
      ]
    },
    {
      "cell_type": "code",
      "execution_count": 19,
      "metadata": {
        "id": "5C75ZZVo0L3L",
        "outputId": "b952c992-8a57-49e5-e411-9826ef1baf98",
        "colab": {
          "base_uri": "https://localhost:8080/"
        }
      },
      "outputs": [
        {
          "output_type": "execute_result",
          "data": {
            "text/plain": [
              "-657"
            ]
          },
          "metadata": {},
          "execution_count": 19
        }
      ],
      "source": [
        "tel.get('nevaldis', 555-1212) # we can change the return on bad keys to our own\n",
        "# of course here we get a negative since we provided two numbers for substraction "
      ]
    },
    {
      "cell_type": "code",
      "execution_count": 20,
      "metadata": {
        "id": "CuKw1-Pi0L3N",
        "outputId": "8e2c1455-4114-4d67-ffec-866f3aebbbf5",
        "colab": {
          "base_uri": "https://localhost:8080/",
          "height": 35
        }
      },
      "outputs": [
        {
          "output_type": "execute_result",
          "data": {
            "text/plain": [
              "'555-1212'"
            ],
            "application/vnd.google.colaboratory.intrinsic+json": {
              "type": "string"
            }
          },
          "metadata": {},
          "execution_count": 20
        }
      ],
      "source": [
        "tel.get('nevaldis', '555-1212') # we can change the return on bad keys to our own \n",
        "# so default value to return could be anything, string, integer, float or more complex data types"
      ]
    },
    {
      "cell_type": "code",
      "source": [
        "# so get will be slightly slower than getting values from keys directly\n",
        "# why?\n",
        "# because there is an extra check - basically a hidden if\n",
        "# so takeawy if you know the key exists use my_dict['my_key']\n",
        "# if you ar enot sure then use my_dict.get('key_maybe') - note the difference in syntax"
      ],
      "metadata": {
        "id": "YOAUAoDN5ORF"
      },
      "execution_count": null,
      "outputs": []
    },
    {
      "cell_type": "markdown",
      "source": [
        "## Allowed data types for keys\n",
        "\n",
        "Key data types are more restrictive than values\n",
        "\n",
        "Key restriction for keys (pun intended):\n",
        "\n",
        "* keys have to be hashable\n",
        "* basically that means that keys have to be immutable\n",
        "* so keys can be strings(most often)\n",
        "* keys can be integers\n",
        "* keys could be floats\n",
        "* keys could be tuples with immutable values inside - not just any tuple\n",
        "\n",
        "More: https://docs.python.org/3/tutorial/datastructures.html#dictionaries"
      ],
      "metadata": {
        "id": "hX03EuGg5ppw"
      }
    },
    {
      "cell_type": "code",
      "source": [
        "# so these would be legal\n",
        "tel[\"Līga\"] = 3714 # most common is string\n",
        "tel[3.14] = 3.1415926  #very rare to use float as key but can be done\n",
        "tel[100] = 1000000 # can be done but very similar to list syntax\n",
        "tel['Valdis','RTU'] = 8059 # so here key is tuple ('Valdis', 'RTU')   actually relatively common\n",
        "tel[('Ruta', 'Rozentāļi')] = 5276  #again tuple same as above, the inner parenthesis are optional\n",
        "tel\n"
      ],
      "metadata": {
        "id": "_4pjzeeb6SbM",
        "outputId": "a51b3b5c-f115-4dec-ada6-978e064e2292",
        "colab": {
          "base_uri": "https://localhost:8080/"
        }
      },
      "execution_count": 24,
      "outputs": [
        {
          "output_type": "execute_result",
          "data": {
            "text/plain": [
              "{'jack': 9000,\n",
              " 'sape': 4139,\n",
              " 'guido': 4127,\n",
              " 'valdis': [9000, 2640, 2911],\n",
              " 3.14: 3.1415926,\n",
              " 100: 1000000,\n",
              " ('Valdis', 'RTU'): 8059,\n",
              " ('Ruta', 'Rozentāļi'): 5276,\n",
              " 'Līga': 3714}"
            ]
          },
          "metadata": {},
          "execution_count": 24
        }
      ]
    },
    {
      "cell_type": "markdown",
      "source": [
        "## Key-value insertion order\n",
        "\n",
        "Since Python 3.6 - key-value insertion order\n",
        "is preserved in dictionary\n",
        "\n",
        "That does not mean the key values are sorted, just that the initial order is preserved"
      ],
      "metadata": {
        "id": "XhY7bZpt7U_i"
      }
    },
    {
      "cell_type": "markdown",
      "source": [
        "## Removal / deletion of keys-values"
      ],
      "metadata": {
        "id": "i-ayvRNw7gZ_"
      }
    },
    {
      "cell_type": "code",
      "execution_count": 25,
      "metadata": {
        "id": "71VJz31v0L3O",
        "outputId": "5de68375-c412-4e91-cb62-3299ae4b3150",
        "colab": {
          "base_uri": "https://localhost:8080/"
        }
      },
      "outputs": [
        {
          "output_type": "execute_result",
          "data": {
            "text/plain": [
              "{'jack': 9000,\n",
              " 'guido': 4127,\n",
              " 'valdis': [9000, 2640, 2911],\n",
              " 3.14: 3.1415926,\n",
              " 100: 1000000,\n",
              " ('Valdis', 'RTU'): 8059,\n",
              " ('Ruta', 'Rozentāļi'): 5276,\n",
              " 'Līga': 3714}"
            ]
          },
          "metadata": {},
          "execution_count": 25
        }
      ],
      "source": [
        "# remove key value pair\n",
        "# tel['sape'] = 665453 # create key or overwrite if it existed\n",
        "del tel['sape']\n",
        "tel"
      ]
    },
    {
      "cell_type": "code",
      "execution_count": 26,
      "metadata": {
        "id": "djnTuoCb0L3O",
        "outputId": "d9b4de56-1365-444f-cd0b-cd7bbafb7eaf",
        "colab": {
          "base_uri": "https://localhost:8080/",
          "height": 35
        }
      },
      "outputs": [
        {
          "output_type": "execute_result",
          "data": {
            "text/plain": [
              "'Sorry no such key'"
            ],
            "application/vnd.google.colaboratory.intrinsic+json": {
              "type": "string"
            }
          },
          "metadata": {},
          "execution_count": 26
        }
      ],
      "source": [
        "tel.get('sape', 'Sorry no such key')"
      ]
    },
    {
      "cell_type": "code",
      "source": [
        "# there is no special delete for missing/wrong keys so you will need to check before deleting keys\n",
        "del tel['sape'] # will be an error since we already deleted this key\n",
        "# there is no delete for missing without error similar to get\n",
        "# instead you can use in to check"
      ],
      "metadata": {
        "id": "G2dJryXb7qtA",
        "outputId": "0275d29a-d687-4f62-d196-2bd10adad509",
        "colab": {
          "base_uri": "https://localhost:8080/",
          "height": 185
        }
      },
      "execution_count": 27,
      "outputs": [
        {
          "output_type": "error",
          "ename": "KeyError",
          "evalue": "ignored",
          "traceback": [
            "\u001b[0;31m---------------------------------------------------------------------------\u001b[0m",
            "\u001b[0;31mKeyError\u001b[0m                                  Traceback (most recent call last)",
            "\u001b[0;32m<ipython-input-27-a3d31de32b79>\u001b[0m in \u001b[0;36m<module>\u001b[0;34m\u001b[0m\n\u001b[1;32m      1\u001b[0m \u001b[0;31m# there is no special delete for missing/wrong keys so you will need to check before deleting keys\u001b[0m\u001b[0;34m\u001b[0m\u001b[0;34m\u001b[0m\u001b[0m\n\u001b[0;32m----> 2\u001b[0;31m \u001b[0;32mdel\u001b[0m \u001b[0mtel\u001b[0m\u001b[0;34m[\u001b[0m\u001b[0;34m'sape'\u001b[0m\u001b[0;34m]\u001b[0m \u001b[0;31m# will be an error since we already deleted this key\u001b[0m\u001b[0;34m\u001b[0m\u001b[0;34m\u001b[0m\u001b[0m\n\u001b[0m",
            "\u001b[0;31mKeyError\u001b[0m: 'sape'"
          ]
        }
      ]
    },
    {
      "cell_type": "code",
      "execution_count": 28,
      "metadata": {
        "id": "Cqg4uJcF0L3P",
        "outputId": "6914f1b7-01ec-48b5-f94e-ed9b756e7eee",
        "colab": {
          "base_uri": "https://localhost:8080/"
        }
      },
      "outputs": [
        {
          "output_type": "execute_result",
          "data": {
            "text/plain": [
              "True"
            ]
          },
          "metadata": {},
          "execution_count": 28
        }
      ],
      "source": [
        "'valdis' in tel.keys()  # this is exactly the same as 'valdis' in tel"
      ]
    },
    {
      "cell_type": "code",
      "execution_count": 29,
      "metadata": {
        "id": "39aPsSzf0L3P",
        "outputId": "9c4d90dc-fc46-40fe-ad3c-6f04aef45fee",
        "colab": {
          "base_uri": "https://localhost:8080/"
        }
      },
      "outputs": [
        {
          "output_type": "execute_result",
          "data": {
            "text/plain": [
              "False"
            ]
          },
          "metadata": {},
          "execution_count": 29
        }
      ],
      "source": [
        "'karlis' in tel.keys()"
      ]
    },
    {
      "cell_type": "code",
      "execution_count": 30,
      "metadata": {
        "id": "zlj7fsQn0L3P",
        "outputId": "61ed7616-8689-41f0-c285-4ee1c07ccaa7",
        "colab": {
          "base_uri": "https://localhost:8080/"
        }
      },
      "outputs": [
        {
          "output_type": "execute_result",
          "data": {
            "text/plain": [
              "True"
            ]
          },
          "metadata": {},
          "execution_count": 30
        }
      ],
      "source": [
        "# this will be slower going through all the key:value pairs\n",
        "# this is as slow as checking list\n",
        "4127 in tel.values()"
      ]
    },
    {
      "cell_type": "code",
      "execution_count": 31,
      "metadata": {
        "id": "3nLuShQY0L3P",
        "outputId": "9805c007-a4bd-4415-cca8-4b7b76067231",
        "colab": {
          "base_uri": "https://localhost:8080/"
        }
      },
      "outputs": [
        {
          "output_type": "execute_result",
          "data": {
            "text/plain": [
              "False"
            ]
          },
          "metadata": {},
          "execution_count": 31
        }
      ],
      "source": [
        "112 in tel.values()"
      ]
    },
    {
      "cell_type": "code",
      "execution_count": 32,
      "metadata": {
        "id": "MZiJohaa0L3Q",
        "outputId": "a96bf356-e4b1-4ccc-d97c-10c0f5184320",
        "colab": {
          "base_uri": "https://localhost:8080/"
        }
      },
      "outputs": [
        {
          "output_type": "execute_result",
          "data": {
            "text/plain": [
              "dict_values"
            ]
          },
          "metadata": {},
          "execution_count": 32
        }
      ],
      "source": [
        "type(tel.values()) # so dict_values is a bit similar to list we can in fact convert to list if we want to"
      ]
    },
    {
      "cell_type": "code",
      "execution_count": null,
      "metadata": {
        "id": "IzrW42iC0L3Q",
        "outputId": "e7512461-3c1d-484a-a8a8-9988b03b57b0"
      },
      "outputs": [
        {
          "data": {
            "text/plain": [
              "['__class__',\n",
              " '__delattr__',\n",
              " '__dir__',\n",
              " '__doc__',\n",
              " '__eq__',\n",
              " '__format__',\n",
              " '__ge__',\n",
              " '__getattribute__',\n",
              " '__gt__',\n",
              " '__hash__',\n",
              " '__init__',\n",
              " '__init_subclass__',\n",
              " '__iter__',\n",
              " '__le__',\n",
              " '__len__',\n",
              " '__lt__',\n",
              " '__ne__',\n",
              " '__new__',\n",
              " '__reduce__',\n",
              " '__reduce_ex__',\n",
              " '__repr__',\n",
              " '__reversed__',\n",
              " '__setattr__',\n",
              " '__sizeof__',\n",
              " '__str__',\n",
              " '__subclasshook__']"
            ]
          },
          "execution_count": 31,
          "metadata": {},
          "output_type": "execute_result"
        }
      ],
      "source": [
        "dir(tel.values())"
      ]
    },
    {
      "cell_type": "code",
      "execution_count": 33,
      "metadata": {
        "id": "a91bvE6q0L3Q",
        "outputId": "57ece04a-4d58-405b-bbf0-70c88623e9ff",
        "colab": {
          "base_uri": "https://localhost:8080/"
        }
      },
      "outputs": [
        {
          "output_type": "execute_result",
          "data": {
            "text/plain": [
              "dict_values([9000, 4127, [9000, 2640, 2911], 3.1415926, 1000000, 8059, 5276, 3714])"
            ]
          },
          "metadata": {},
          "execution_count": 33
        }
      ],
      "source": [
        "tel.values()"
      ]
    },
    {
      "cell_type": "markdown",
      "source": [
        "## Casting dictionary keys and values to lists"
      ],
      "metadata": {
        "id": "XFcLTNYT8SSz"
      }
    },
    {
      "cell_type": "code",
      "execution_count": 34,
      "metadata": {
        "id": "2K0o4my-0L3Q",
        "outputId": "f599141d-8a8b-49ae-95ff-082bbbaecae6",
        "colab": {
          "base_uri": "https://localhost:8080/"
        }
      },
      "outputs": [
        {
          "output_type": "execute_result",
          "data": {
            "text/plain": [
              "[9000, 4127, [9000, 2640, 2911], 3.1415926, 1000000, 8059, 5276, 3714]"
            ]
          },
          "metadata": {},
          "execution_count": 34
        }
      ],
      "source": [
        "value_list = list(tel.values())\n",
        "value_list # this list is not related to dictionary anymore"
      ]
    },
    {
      "cell_type": "code",
      "execution_count": 35,
      "metadata": {
        "id": "KyXTM_Y30L3R",
        "outputId": "b28046c5-14b0-456f-dcaa-f03a11a155ae",
        "colab": {
          "base_uri": "https://localhost:8080/"
        }
      },
      "outputs": [
        {
          "output_type": "execute_result",
          "data": {
            "text/plain": [
              "['jack',\n",
              " 'guido',\n",
              " 'valdis',\n",
              " 3.14,\n",
              " 100,\n",
              " ('Valdis', 'RTU'),\n",
              " ('Ruta', 'Rozentāļi'),\n",
              " 'Līga']"
            ]
          },
          "metadata": {},
          "execution_count": 35
        }
      ],
      "source": [
        "telkeys = list(tel.keys())  # similarly telkeys is not related to original dictionary anymore\n",
        "telkeys"
      ]
    },
    {
      "cell_type": "code",
      "execution_count": null,
      "metadata": {
        "id": "anItcb-w0L3R"
      },
      "outputs": [],
      "source": [
        "tel['irv'] = 4127"
      ]
    },
    {
      "cell_type": "code",
      "execution_count": 36,
      "metadata": {
        "id": "jrLho4dN0L3R",
        "outputId": "8e27dcc2-31d7-4a72-e856-db853f00f193",
        "colab": {
          "base_uri": "https://localhost:8080/"
        }
      },
      "outputs": [
        {
          "output_type": "execute_result",
          "data": {
            "text/plain": [
              "{'jack': 9000,\n",
              " 'guido': 4127,\n",
              " 'valdis': [9000, 2640, 2911],\n",
              " 3.14: 3.1415926,\n",
              " 100: 1000000,\n",
              " ('Valdis', 'RTU'): 8059,\n",
              " ('Ruta', 'Rozentāļi'): 5276,\n",
              " 'Līga': 3714}"
            ]
          },
          "metadata": {},
          "execution_count": 36
        }
      ],
      "source": [
        "tel"
      ]
    },
    {
      "cell_type": "code",
      "execution_count": null,
      "metadata": {
        "id": "V8cYMAW10L3S",
        "outputId": "b52699be-4d20-4052-8237-7739222d9f82"
      },
      "outputs": [
        {
          "data": {
            "text/plain": [
              "2"
            ]
          },
          "execution_count": 37,
          "metadata": {},
          "output_type": "execute_result"
        }
      ],
      "source": [
        "# tel.values.count(4127) dict_values has no count\n",
        "telvalues = list(tel.values())\n",
        "telvalues.count(4127)"
      ]
    },
    {
      "cell_type": "code",
      "execution_count": null,
      "metadata": {
        "id": "5kHjzjKX0L3S",
        "outputId": "1e5581a1-5e8a-47c3-88ef-c78a73487b76"
      },
      "outputs": [
        {
          "data": {
            "text/plain": [
              "2"
            ]
          },
          "execution_count": 38,
          "metadata": {},
          "output_type": "execute_result"
        }
      ],
      "source": [
        "list(tel.values()).count(4127)"
      ]
    },
    {
      "cell_type": "code",
      "execution_count": null,
      "metadata": {
        "id": "ulkZmwdT0L3T"
      },
      "outputs": [],
      "source": [
        "list(tel.values()).count(9004127)"
      ]
    },
    {
      "cell_type": "code",
      "execution_count": null,
      "metadata": {
        "id": "nWvfZ_xR0L3T"
      },
      "outputs": [],
      "source": [
        "tel['jack'] = 9999"
      ]
    },
    {
      "cell_type": "code",
      "execution_count": null,
      "metadata": {
        "id": "DerN5Ehr0L3T",
        "outputId": "8eb1afca-9740-4ccf-9887-1a6f23ae6b11"
      },
      "outputs": [
        {
          "name": "stdout",
          "output_type": "stream",
          "text": [
            "You already have key police value 911\n"
          ]
        },
        {
          "data": {
            "text/plain": [
              "{'jack': 9000,\n",
              " 'guido': 4127,\n",
              " 'valdis': [9000, 2640, 2911],\n",
              " 'irv': 4127,\n",
              " 'police': 911}"
            ]
          },
          "execution_count": 40,
          "metadata": {},
          "output_type": "execute_result"
        }
      ],
      "source": [
        "key = 'police'\n",
        "value = 911\n",
        "if key not in tel:\n",
        "    tel[key] = value\n",
        "    print(f\"Added new key {key} value {value} pair\")\n",
        "else:\n",
        "    print(\"You already have key\", key, \"value\", tel[key])\n",
        "tel"
      ]
    },
    {
      "cell_type": "code",
      "execution_count": null,
      "metadata": {
        "id": "USNwuUyL0L3U",
        "outputId": "5987db5a-34c1-4e2d-c36e-e6a91c7b6e60"
      },
      "outputs": [
        {
          "data": {
            "text/plain": [
              "{'jack': 9000,\n",
              " 'guido': 4127,\n",
              " 'valdis': [9000, 2640, 2911],\n",
              " 'irv': 4127,\n",
              " 'police': 911,\n",
              " 'rtu': 7777}"
            ]
          },
          "execution_count": 42,
          "metadata": {},
          "output_type": "execute_result"
        }
      ],
      "source": [
        "# the above code can be written using setdefault method\n",
        "tel.setdefault(\"rtu\", 777700) # so this will only work once\n",
        "tel"
      ]
    },
    {
      "cell_type": "code",
      "execution_count": null,
      "metadata": {
        "id": "VgMO6qUg0L3U"
      },
      "outputs": [],
      "source": [
        "type(tel)"
      ]
    },
    {
      "cell_type": "code",
      "execution_count": null,
      "metadata": {
        "id": "K4oUnGqk0L3U",
        "outputId": "7a5ce07e-20b4-4cdd-8934-a08fd5619ade"
      },
      "outputs": [
        {
          "data": {
            "text/plain": [
              "(9000, 9000)"
            ]
          },
          "execution_count": 43,
          "metadata": {},
          "output_type": "execute_result"
        }
      ],
      "source": [
        "tel.get('jack'), tel['jack'] # the diffence being that get doesnt throw errors"
      ]
    },
    {
      "cell_type": "code",
      "execution_count": null,
      "metadata": {
        "id": "XLvz0v9u0L3U"
      },
      "outputs": [],
      "source": [
        "tel[1] = 5555\n",
        "tel"
      ]
    },
    {
      "cell_type": "code",
      "execution_count": null,
      "metadata": {
        "id": "lGoLDVTt0L3V"
      },
      "outputs": [],
      "source": [
        "tel[1]"
      ]
    },
    {
      "cell_type": "code",
      "execution_count": null,
      "metadata": {
        "id": "gfvD8v6r0L3V"
      },
      "outputs": [],
      "source": [
        "myphonelist=[3432432,242342,24,234,2432]\n",
        "myphonelist[1]"
      ]
    },
    {
      "cell_type": "code",
      "execution_count": null,
      "metadata": {
        "id": "GxB5hAYw0L3V"
      },
      "outputs": [],
      "source": [
        "list(tel.keys())"
      ]
    },
    {
      "cell_type": "code",
      "execution_count": null,
      "metadata": {
        "id": "fek-ncne0L3V"
      },
      "outputs": [],
      "source": [
        "list(tel.values())"
      ]
    },
    {
      "cell_type": "code",
      "execution_count": null,
      "metadata": {
        "id": "HFrgmg1E0L3W"
      },
      "outputs": [],
      "source": [
        "sorted([5,7,1,66], reverse=True)"
      ]
    },
    {
      "cell_type": "code",
      "execution_count": null,
      "metadata": {
        "id": "W052hk2v0L3W"
      },
      "outputs": [],
      "source": [
        "sorted(tel.values())"
      ]
    },
    {
      "cell_type": "code",
      "execution_count": null,
      "metadata": {
        "id": "y0BexUB90L3W"
      },
      "outputs": [],
      "source": [
        "# delete irv key\n",
        "# add irv key with new value\n",
        "del tel['irv']\n",
        "tel.keys()"
      ]
    },
    {
      "cell_type": "code",
      "execution_count": null,
      "metadata": {
        "id": "M8rUYLJp0L3X",
        "outputId": "c238e767-ada1-4b82-be87-29c72987bc1b"
      },
      "outputs": [
        {
          "data": {
            "text/plain": [
              "dict_keys(['jack', 'guido', 'valdis', 'irv', 'police', 'rtu'])"
            ]
          },
          "execution_count": 46,
          "metadata": {},
          "output_type": "execute_result"
        }
      ],
      "source": [
        "tel['irv'] = [333, 333,13214141]\n",
        "tel.keys()"
      ]
    },
    {
      "cell_type": "code",
      "execution_count": null,
      "metadata": {
        "id": "w-N2r_Aa0L3X"
      },
      "outputs": [],
      "source": [
        "tel"
      ]
    },
    {
      "cell_type": "code",
      "execution_count": null,
      "metadata": {
        "id": "kH_xzzTo0L3X"
      },
      "outputs": [],
      "source": [
        "len(tel)"
      ]
    },
    {
      "cell_type": "code",
      "execution_count": null,
      "metadata": {
        "id": "boGMp1TC0L3Y",
        "outputId": "8eeb99ca-3965-4643-b1d3-e14ecf3d8728"
      },
      "outputs": [
        {
          "data": {
            "text/plain": [
              "[9000, 2640, 2911]"
            ]
          },
          "execution_count": 44,
          "metadata": {},
          "output_type": "execute_result"
        }
      ],
      "source": [
        "valdisphones = tel.get('valdis')\n",
        "valdisphones # this is just a reference to a list"
      ]
    },
    {
      "cell_type": "code",
      "execution_count": null,
      "metadata": {
        "id": "EIBGFoba0L3Y",
        "outputId": "46f5995d-10ce-406c-f71e-87f8b46c33cb"
      },
      "outputs": [
        {
          "data": {
            "text/plain": [
              "2911"
            ]
          },
          "execution_count": 45,
          "metadata": {},
          "output_type": "execute_result"
        }
      ],
      "source": [
        "# how to get last phone number from irvingphones ?\n",
        "valdisphones[-1]"
      ]
    },
    {
      "cell_type": "code",
      "execution_count": null,
      "metadata": {
        "id": "MIEPri_z0L3Y",
        "outputId": "d943cebd-1b6f-4f12-fa62-9713104aedd8"
      },
      "outputs": [
        {
          "data": {
            "text/plain": [
              "[333, 333, 13214141]"
            ]
          },
          "execution_count": 47,
          "metadata": {},
          "output_type": "execute_result"
        }
      ],
      "source": [
        "tel['irv']"
      ]
    },
    {
      "cell_type": "code",
      "execution_count": null,
      "metadata": {
        "id": "xH6S7pEs0L3Z",
        "outputId": "443306fb-2e59-40ce-bf69-785144762686"
      },
      "outputs": [
        {
          "data": {
            "text/plain": [
              "13214141"
            ]
          },
          "execution_count": 48,
          "metadata": {},
          "output_type": "execute_result"
        }
      ],
      "source": [
        "tel['irv'][-1] # last value from dictionary by key irv which contains a list"
      ]
    },
    {
      "cell_type": "code",
      "execution_count": null,
      "metadata": {
        "id": "r7mlQPTL0L3Z",
        "outputId": "f1369cf2-9c01-4df1-ca8d-2ad7c5d0965a"
      },
      "outputs": [
        {
          "data": {
            "text/plain": [
              "[333, 333]"
            ]
          },
          "execution_count": 49,
          "metadata": {},
          "output_type": "execute_result"
        }
      ],
      "source": [
        "tel['irv'][:2] # first two value from irv value (which is a list)"
      ]
    },
    {
      "cell_type": "code",
      "execution_count": null,
      "metadata": {
        "id": "V-5eu4Fs0L3Z"
      },
      "outputs": [],
      "source": [
        "?sorted"
      ]
    },
    {
      "cell_type": "code",
      "execution_count": null,
      "metadata": {
        "id": "wMnEKNd10L3Z",
        "outputId": "6c2cdf23-8c0c-4aa0-fcf3-eb0656366ffa"
      },
      "outputs": [
        {
          "data": {
            "text/plain": [
              "dict_keys(['jack', 'guido', 'valdis', 'irv', 'police', 'rtu'])"
            ]
          },
          "execution_count": 50,
          "metadata": {},
          "output_type": "execute_result"
        }
      ],
      "source": [
        "tel.keys()"
      ]
    },
    {
      "cell_type": "code",
      "execution_count": null,
      "metadata": {
        "id": "sbslIL9s0L3a"
      },
      "outputs": [],
      "source": [
        "# since Python 3.7 the original insertion order of keys is preserved"
      ]
    },
    {
      "cell_type": "code",
      "execution_count": null,
      "metadata": {
        "id": "whf7N9_50L3a",
        "outputId": "4f8bc554-20b6-420c-c06e-5efb504d307f"
      },
      "outputs": [
        {
          "data": {
            "text/plain": [
              "['guido', 'irv', 'jack', 'police', 'rtu', 'valdis']"
            ]
          },
          "execution_count": 51,
          "metadata": {},
          "output_type": "execute_result"
        }
      ],
      "source": [
        "sorted(tel.keys())"
      ]
    },
    {
      "cell_type": "code",
      "execution_count": null,
      "metadata": {
        "id": "NOyHsQSN0L3b",
        "outputId": "f4db7b3d-7468-4b00-cef3-8c303668dc49"
      },
      "outputs": [
        {
          "data": {
            "text/plain": [
              "{'guido': 4127,\n",
              " 'irv': [333, 333, 13214141],\n",
              " 'jack': 9000,\n",
              " 'police': 911,\n",
              " 'rtu': 7777,\n",
              " 'valdis': [9000, 2640, 2911]}"
            ]
          },
          "execution_count": 53,
          "metadata": {},
          "output_type": "execute_result"
        }
      ],
      "source": [
        "sorted_tel = {}\n",
        "for key in sorted(tel.keys()):\n",
        "    sorted_tel[key] = tel[key]\n",
        "# this looping is not free and would take the size the whole dictionary plus sorting is also takes time\n",
        "sorted_tel"
      ]
    },
    {
      "cell_type": "code",
      "execution_count": null,
      "metadata": {
        "id": "98uZMn2F0L3b"
      },
      "outputs": [],
      "source": [
        "telkeys = list(tel.keys())\n",
        "telkeys"
      ]
    },
    {
      "cell_type": "code",
      "execution_count": null,
      "metadata": {
        "id": "LyrGTizE0L3c"
      },
      "outputs": [],
      "source": [
        "newkeys = []\n",
        "for key in telkeys:\n",
        "    newkeys.append(str(key))\n",
        "newkeys"
      ]
    },
    {
      "cell_type": "code",
      "execution_count": null,
      "metadata": {
        "id": "UnBs0hXk0L3c",
        "outputId": "c5fa29a3-5bb3-4663-cf39-7fe7586a4e5f"
      },
      "outputs": [
        {
          "data": {
            "text/plain": [
              "{'potatoes': 8, 'carrots': 5, 'beets': 3, 'pumpkins': 2, 'chocolate': 10}"
            ]
          },
          "execution_count": 54,
          "metadata": {},
          "output_type": "execute_result"
        }
      ],
      "source": [
        "shopdict = {\"potatoes\":8, \"carrots\": 5, \"beets\": 3, \"pumpkins\":2, \"chocolate\":10}\n",
        "shopdict"
      ]
    },
    {
      "cell_type": "code",
      "execution_count": null,
      "metadata": {
        "id": "xqXkYdd60L3d",
        "outputId": "3d68683b-6fac-4afa-e44f-8ba5637b3723"
      },
      "outputs": [
        {
          "name": "stdout",
          "output_type": "stream",
          "text": [
            "potatoes 8\n",
            "Buying 8kgs of potatoes\n",
            "carrots 5\n",
            "Buying 5kgs of carrots\n",
            "beets 3\n",
            "Buying 3kgs of beets\n",
            "pumpkins 2\n",
            "Buying 2kgs of pumpkins\n",
            "chocolate 10\n",
            "Buying 10kgs of chocolate\n"
          ]
        }
      ],
      "source": [
        "for key,value in shopdict.items(): # key and value are just names we made up also common is k,v\n",
        "    print(key,value)\n",
        "    print(f\"Buying {value}kgs of {key}\")"
      ]
    },
    {
      "cell_type": "code",
      "execution_count": null,
      "metadata": {
        "id": "jhr4N2M-0L3d",
        "outputId": "fa23257b-6bfc-41da-a2ef-879abcea3504"
      },
      "outputs": [
        {
          "name": "stdout",
          "output_type": "stream",
          "text": [
            "potatoes 8\n",
            "carrots 5\n",
            "beets 3\n",
            "pumpkins 2\n",
            "chocolate 10\n"
          ]
        }
      ],
      "source": [
        "for key in shopdict: # so only key is provided\n",
        "    print(key, shopdict[key])"
      ]
    },
    {
      "cell_type": "code",
      "execution_count": null,
      "metadata": {
        "id": "Z-NJSLqB0L3d",
        "outputId": "096b489e-7a6c-4cd2-ab34-96cb28ddf77b"
      },
      "outputs": [
        {
          "data": {
            "text/plain": [
              "{'potatoes': 18, 'carrots': 15, 'beets': 13, 'pumpkins': 12, 'chocolate': 20}"
            ]
          },
          "execution_count": 57,
          "metadata": {},
          "output_type": "execute_result"
        }
      ],
      "source": [
        "for key in shopdict:\n",
        "    shopdict[key] += 10 # same as shopdict[key] = shopdict[key] + 10\n",
        "shopdict"
      ]
    },
    {
      "cell_type": "code",
      "execution_count": null,
      "metadata": {
        "id": "ldXnEnaQ0L3e",
        "outputId": "6b3b7b9f-d53a-49b8-a818-c42648f68d60"
      },
      "outputs": [
        {
          "name": "stdout",
          "output_type": "stream",
          "text": [
            "101 potatoes 18\n",
            "102 carrots 15\n",
            "103 beets 13\n",
            "104 pumpkins 12\n",
            "105 chocolate 20\n",
            "[[101, 'potatoes', 18], [102, 'carrots', 15], [103, 'beets', 13], [104, 'pumpkins', 12], [105, 'chocolate', 20]]\n",
            "{101: ('potatoes', 18), 102: ('carrots', 15), 103: ('beets', 13), 104: ('pumpkins', 12), 105: ('chocolate', 20)}\n"
          ]
        }
      ],
      "source": [
        "newlist = []\n",
        "newdict = {}\n",
        "for index,(key,value) in enumerate(shopdict.items(), start=101):\n",
        "    print(index,key,value)\n",
        "    newlist.append([index,key,value])\n",
        "    newdict[index] = (key,value)\n",
        "print(newlist)\n",
        "print(newdict)"
      ]
    },
    {
      "cell_type": "code",
      "execution_count": null,
      "metadata": {
        "id": "7P1L47P10L3e",
        "outputId": "602146a6-be19-4142-be1a-67e503bc0121"
      },
      "outputs": [
        {
          "data": {
            "text/plain": [
              "('carrots', 15)"
            ]
          },
          "execution_count": 60,
          "metadata": {},
          "output_type": "execute_result"
        }
      ],
      "source": [
        "newdict[102] # looks like a list but it's a dictionary"
      ]
    },
    {
      "cell_type": "code",
      "execution_count": null,
      "metadata": {
        "id": "KSN9OYl50L3e",
        "outputId": "bc0ac90e-af7e-4233-c940-e217db6c8fb7"
      },
      "outputs": [
        {
          "data": {
            "text/plain": [
              "{'potatoes': {'id': 101, 'quantity': 18},\n",
              " 'carrots': {'id': 102, 'quantity': 15},\n",
              " 'beets': {'id': 103, 'quantity': 13},\n",
              " 'pumpkins': {'id': 104, 'quantity': 12},\n",
              " 'chocolate': {'id': 105, 'quantity': 20}}"
            ]
          },
          "execution_count": 61,
          "metadata": {},
          "output_type": "execute_result"
        }
      ],
      "source": [
        "newdict2 = {}\n",
        "for item in newlist:\n",
        "    newdict2[item[1]] = {'id':item[0],'quantity':item[2]}\n",
        "newdict2 # so this will be dictionary with values being separate dictionaries"
      ]
    },
    {
      "cell_type": "code",
      "execution_count": null,
      "metadata": {
        "id": "eHvlf3oA0L3e",
        "outputId": "81fb238a-aec5-4719-b3a2-f88fd0673d46"
      },
      "outputs": [
        {
          "data": {
            "text/plain": [
              "{'id': 103, 'quantity': 13}"
            ]
          },
          "execution_count": 62,
          "metadata": {},
          "output_type": "execute_result"
        }
      ],
      "source": [
        "# can you get me quantity of beets needed from newdict2 ?\n",
        "newdict2['beets']"
      ]
    },
    {
      "cell_type": "code",
      "execution_count": null,
      "metadata": {
        "id": "caJ3yag-0L3e",
        "outputId": "5473f696-25ec-4178-ede8-fce934e06ebb"
      },
      "outputs": [
        {
          "data": {
            "text/plain": [
              "13"
            ]
          },
          "execution_count": 63,
          "metadata": {},
          "output_type": "execute_result"
        }
      ],
      "source": [
        "newdict2['beets']['quantity']"
      ]
    },
    {
      "cell_type": "code",
      "execution_count": null,
      "metadata": {
        "id": "VHM9y9170L3f",
        "outputId": "115c3fe0-47bd-496e-ebb5-7b39ce6d5a0e"
      },
      "outputs": [
        {
          "data": {
            "text/plain": [
              "13"
            ]
          },
          "execution_count": 64,
          "metadata": {},
          "output_type": "execute_result"
        }
      ],
      "source": [
        "newdict2.get('beets').get('quantity') # somewhat less common due to mostly laziness i think :0"
      ]
    },
    {
      "cell_type": "code",
      "execution_count": null,
      "metadata": {
        "id": "zp3MqrWS0L3f",
        "outputId": "4309b592-2219-4dd1-cadf-08422d6b50e6"
      },
      "outputs": [
        {
          "data": {
            "text/plain": [
              "{'a': 1, 'b': 2, 3: 'c', '3': '3c'}"
            ]
          },
          "execution_count": 65,
          "metadata": {},
          "output_type": "execute_result"
        }
      ],
      "source": [
        "# there are other of creating dictionaries\n",
        "t3 = dict([['a', 1],['b',2],[3, 'c'], ['3', '3c']])\n",
        "t3"
      ]
    },
    {
      "cell_type": "code",
      "execution_count": null,
      "metadata": {
        "id": "dv2J7t0t0L3f",
        "outputId": "92842a3e-65c6-4d0a-f6ef-dd67f8cda223"
      },
      "outputs": [
        {
          "data": {
            "text/plain": [
              "('c', '3c')"
            ]
          },
          "execution_count": 66,
          "metadata": {},
          "output_type": "execute_result"
        }
      ],
      "source": [
        "t3[3],t3['3']"
      ]
    },
    {
      "cell_type": "code",
      "execution_count": null,
      "metadata": {
        "scrolled": true,
        "id": "AL5SkoPW0L3f",
        "outputId": "c21107a9-3a91-48f4-acd3-10f0ff930310"
      },
      "outputs": [
        {
          "name": "stdout",
          "output_type": "stream",
          "text": [
            "{'sape': 4139, 'guido': 4127, 'jack': 4098}\n"
          ]
        }
      ],
      "source": [
        "# alternative way of creating a dictionary using tuples ()\n",
        "t2=dict([('sape', 4139), ('guido', 4127), ('jack', 4098)])\n",
        "print(t2)"
      ]
    },
    {
      "cell_type": "code",
      "execution_count": null,
      "metadata": {
        "id": "zWZX9Qq70L3f"
      },
      "outputs": [],
      "source": [
        "names = ['Valdis', 'valdis', 'Antons', 'Anna', 'Kārlis', 'karlis']\n",
        "names"
      ]
    },
    {
      "cell_type": "code",
      "execution_count": null,
      "metadata": {
        "id": "J7ILeEcD0L3g"
      },
      "outputs": [],
      "source": [
        "sorted(names)"
      ]
    },
    {
      "cell_type": "markdown",
      "metadata": {
        "id": "XacoC8Mg0L3g"
      },
      "source": [
        "* `globals()` always returns the dictionary of the module namespace\n",
        "* `locals()` always returns a dictionary of the current namespace\n",
        "* `vars()` returns either a dictionary of the current namespace (if called with no argument) or the dictionary of the argument."
      ]
    },
    {
      "cell_type": "code",
      "execution_count": null,
      "metadata": {
        "id": "5t6j-X950L3g",
        "outputId": "e59ffae8-5d6b-456d-98a5-537adbb5c8ce"
      },
      "outputs": [
        {
          "data": {
            "text/plain": [
              "{'__name__': '__main__',\n",
              " '__doc__': 'Automatically created module for IPython interactive environment',\n",
              " '__package__': None,\n",
              " '__loader__': None,\n",
              " '__spec__': None,\n",
              " '__builtin__': <module 'builtins' (built-in)>,\n",
              " '__builtins__': <module 'builtins' (built-in)>,\n",
              " '_ih': ['',\n",
              "  'emptyd = {}\\nlen(emptyd)',\n",
              "  'type(emptyd)',\n",
              "  \"tel = {'jack': 4098, 'sape': 4139}\\nprint(tel)\",\n",
              "  \"# so what can be keys ? what happens if we add second identical key\\ntel = {'jack': 4098, 'sape': 4139, 'jack': 9000}\\nprint(tel)\",\n",
              "  \"# add a new key-value pair\\ntel['guido'] = 4127\\nprint(tel.keys())\\nprint(tel.values())\",\n",
              "  \"# add key 'valdis' with value 4127 to our tel dictionary\\ntel['valdis'] = 4127\\ntel\",\n",
              "  \"tel['valdis'] = [9000,2640,2911]\\ntel\",\n",
              "  \"#get value from key in dictionary\\n# very fast even in large dictionaries! O(1)\\ntel['jack']\",\n",
              "  \"tel_list = [['jack',9000], ['valdis',9000]]\\ntel_list\",\n",
              "  \"tel['sape'] = 54545\",\n",
              "  \"tel['valdis']\",\n",
              "  \"tel['peteris'] # this should give error because no such key exists\",\n",
              "  \"tel['Valdis'] # this should give error because no such key exists\",\n",
              "  \"# check for key in our dictionary\\n'valdis' in tel\",\n",
              "  \"'peteris' in tel\",\n",
              "  'key = \\'nnevaldis\\'\\nif key in tel:\\n    print(tel[key]) # we print the value of the key if there is such a key\\nelse:\\n    print(\"No such key\")',\n",
              "  '# key = \\'nnevaldis\\'\\nkey = \\'valdis\\'\\nif key in tel:\\n    print(tel[key]) # we print the value of the key if there is such a key\\nelse:\\n    print(\"No such key\")',\n",
              "  '# key = \\'nnevaldis\\'\\nkey = \\'Valdis\\'\\nif key in tel:\\n    print(tel[key]) # we print the value of the key if there is such a key\\nelse:\\n    print(\"No such key\")',\n",
              "  '# key = \\'nnevaldis\\'\\nkey = \\'valdis\\'\\nif key in tel:\\n    print(tel[key]) # we print the value of the key if there is such a key\\nelse:\\n    print(\"No such key\")',\n",
              "  \"tel.get('valdis') # gets value by key without errors\",\n",
              "  \"tel.get('nevaldis') #by default on bad key we get None\",\n",
              "  \"print(tel.get('nevaldis')) #by default on bad key we get None\",\n",
              "  \"tel.get('nevaldis', 555-1212) # we can change the return on bad keys to our own \",\n",
              "  \"tel.get('nevaldis', '555-1212') # we can change the return on bad keys to our own \",\n",
              "  \"# remove key value pair\\ntel['sape'] = 665453 # create key or overwrite if it existed\\ndel tel['sape']\",\n",
              "  \"# remove key value pair\\ntel['sape'] = 665453 # create key or overwrite if it existed\\ndel tel['sape']\\ntel\",\n",
              "  \"tel.get('sape', 'Sorry no such key')\",\n",
              "  '# this will be slower going through all the key:value pairs\\n4127 in tel.values()',\n",
              "  '112 in tel.values()',\n",
              "  'type(tel.values())',\n",
              "  'dir(tel.values())',\n",
              "  'telvalues = list(tel.values())\\ntelvalues',\n",
              "  'telkeys = list(tel.keys())\\ntelkeys',\n",
              "  \"tel['irv'] = 4127\",\n",
              "  'tel',\n",
              "  'tel.values.count(4127), telvalues.count(4127)',\n",
              "  '# tel.values.count(4127) dict_values has no count\\ntelvalues = list(tel.values())\\ntelvalues.count(4127)',\n",
              "  'list(tel.values()).count(4127)',\n",
              "  'key = \\'police\\'\\nvalue = 911\\nif key not in tel:\\n    tel[key] = value\\n    print(f\"Added new key {key} value {value} pair\")\\nelse:\\n    print(\"You already have key\", key, \"value\", tel[key])\\ntel',\n",
              "  'key = \\'police\\'\\nvalue = 911\\nif key not in tel:\\n    tel[key] = value\\n    print(f\"Added new key {key} value {value} pair\")\\nelse:\\n    print(\"You already have key\", key, \"value\", tel[key])\\ntel',\n",
              "  '# the above code can be written using setdefault method\\ntel.setdefault(\"rtu\", 7777)\\ntel',\n",
              "  '# the above code can be written using setdefault method\\ntel.setdefault(\"rtu\", 777700) # so this will only work once\\ntel',\n",
              "  \"tel.get('jack'), tel['jack']\",\n",
              "  \"valdisphones = tel.get('valdis')\\nvaldisphones\",\n",
              "  '# how to get last phone number from irvingphones ?\\nvaldisphones[-1]',\n",
              "  \"tel['irv'] = [333, 333,13214141]\\ntel.keys()\",\n",
              "  \"tel['irv']\",\n",
              "  \"tel['irv'][-1] # last value from dictionary by key irv which contains a list\",\n",
              "  \"tel['irv'][:2] # first two value from irv value (which is a list)\",\n",
              "  'tel.keys()',\n",
              "  'sorted(tel.keys())',\n",
              "  'sorted_tel = {}\\nfor key in sorted(tel.keys()):\\n    sorted_tel[key] = tel[key]\\n# this looping is not free and would take the size the whole dictionary plus sorting is also takes time\\nsorted_teld',\n",
              "  'sorted_tel = {}\\nfor key in sorted(tel.keys()):\\n    sorted_tel[key] = tel[key]\\n# this looping is not free and would take the size the whole dictionary plus sorting is also takes time\\nsorted_tel',\n",
              "  'shopdict = {\"potatoes\":8, \"carrots\": 5, \"beets\": 3, \"pumpkins\":2, \"chocolate\":10}\\nshopdict',\n",
              "  'for key,value in shopdict.items(): # key and value are just names we made up also common is k,v\\n    print(key,value)\\n    print(f\"Buying {value}kgs of {key}\")',\n",
              "  'for key in shopdict: # so only key is provided\\n    print(key, shopdict[key])',\n",
              "  'for key in shopdict:\\n    shopdict[key] += 10 # same as shopdict[key] = shopdict[key] + 10\\nshopdict',\n",
              "  'newlist = []\\nfor index,(key,value) in enumerate(shopdict.items(), start=101):\\n    print(index,key,value)\\n    newlist.append([index,key,value])\\nnewlist',\n",
              "  'newlist = []\\nnewdict = {}\\nfor index,(key,value) in enumerate(shopdict.items(), start=101):\\n    print(index,key,value)\\n    newlist.append([index,key,value])\\n    newdict[index] = (key,value)\\nprint(newlist)\\nprint(newdict)',\n",
              "  \"newdict[102] # looks like a list but it's a dictionary\",\n",
              "  \"newdict2 = {}\\nfor item in newlist:\\n    newdict2[item[1]] = {'id':item[0],'quantity':item[2]}\\nnewdict2\",\n",
              "  \"# can you get me quantity of beets needed from newdict2 ?\\nnewdict2['beets']\",\n",
              "  \"newdict2['beets']['quantity']\",\n",
              "  \"newdict2.get('beets').get('quantity')\",\n",
              "  \"# there are other of creating dictionaries\\nt3 = dict([['a', 1],['b',2],[3, 'c'], ['3', '3c']])\\nt3\",\n",
              "  \"t3[3],t3['3']\",\n",
              "  \"# alternative way of creating a dictionary using tuples ()\\nt2=dict([('sape', 4139), ('guido', 4127), ('jack', 4098)])\\nprint(t2)\",\n",
              "  'globals()'],\n",
              " '_oh': {1: 0,\n",
              "  2: dict,\n",
              "  6: {'jack': 9000,\n",
              "   'guido': 4127,\n",
              "   'valdis': [9000, 2640, 2911],\n",
              "   'irv': [333, 333, 13214141],\n",
              "   'police': 911,\n",
              "   'rtu': 7777},\n",
              "  7: {'jack': 9000,\n",
              "   'guido': 4127,\n",
              "   'valdis': [9000, 2640, 2911],\n",
              "   'irv': [333, 333, 13214141],\n",
              "   'police': 911,\n",
              "   'rtu': 7777},\n",
              "  8: 9000,\n",
              "  9: [['jack', 9000], ['valdis', 9000]],\n",
              "  11: [9000, 2640, 2911],\n",
              "  14: True,\n",
              "  15: False,\n",
              "  20: [9000, 2640, 2911],\n",
              "  23: -657,\n",
              "  24: '555-1212',\n",
              "  26: {'jack': 9000,\n",
              "   'guido': 4127,\n",
              "   'valdis': [9000, 2640, 2911],\n",
              "   'irv': [333, 333, 13214141],\n",
              "   'police': 911,\n",
              "   'rtu': 7777},\n",
              "  27: 'Sorry no such key',\n",
              "  28: True,\n",
              "  29: False,\n",
              "  30: dict_values,\n",
              "  31: ['__class__',\n",
              "   '__delattr__',\n",
              "   '__dir__',\n",
              "   '__doc__',\n",
              "   '__eq__',\n",
              "   '__format__',\n",
              "   '__ge__',\n",
              "   '__getattribute__',\n",
              "   '__gt__',\n",
              "   '__hash__',\n",
              "   '__init__',\n",
              "   '__init_subclass__',\n",
              "   '__iter__',\n",
              "   '__le__',\n",
              "   '__len__',\n",
              "   '__lt__',\n",
              "   '__ne__',\n",
              "   '__new__',\n",
              "   '__reduce__',\n",
              "   '__reduce_ex__',\n",
              "   '__repr__',\n",
              "   '__reversed__',\n",
              "   '__setattr__',\n",
              "   '__sizeof__',\n",
              "   '__str__',\n",
              "   '__subclasshook__'],\n",
              "  32: [9000, 4127, [9000, 2640, 2911]],\n",
              "  33: ['jack', 'guido', 'valdis'],\n",
              "  35: {'jack': 9000,\n",
              "   'guido': 4127,\n",
              "   'valdis': [9000, 2640, 2911],\n",
              "   'irv': [333, 333, 13214141],\n",
              "   'police': 911,\n",
              "   'rtu': 7777},\n",
              "  37: 2,\n",
              "  38: 2,\n",
              "  39: {'jack': 9000,\n",
              "   'guido': 4127,\n",
              "   'valdis': [9000, 2640, 2911],\n",
              "   'irv': [333, 333, 13214141],\n",
              "   'police': 911,\n",
              "   'rtu': 7777},\n",
              "  40: {'jack': 9000,\n",
              "   'guido': 4127,\n",
              "   'valdis': [9000, 2640, 2911],\n",
              "   'irv': [333, 333, 13214141],\n",
              "   'police': 911,\n",
              "   'rtu': 7777},\n",
              "  41: {'jack': 9000,\n",
              "   'guido': 4127,\n",
              "   'valdis': [9000, 2640, 2911],\n",
              "   'irv': [333, 333, 13214141],\n",
              "   'police': 911,\n",
              "   'rtu': 7777},\n",
              "  42: {'jack': 9000,\n",
              "   'guido': 4127,\n",
              "   'valdis': [9000, 2640, 2911],\n",
              "   'irv': [333, 333, 13214141],\n",
              "   'police': 911,\n",
              "   'rtu': 7777},\n",
              "  43: (9000, 9000),\n",
              "  44: [9000, 2640, 2911],\n",
              "  45: 2911,\n",
              "  46: dict_keys(['jack', 'guido', 'valdis', 'irv', 'police', 'rtu']),\n",
              "  47: [333, 333, 13214141],\n",
              "  48: 13214141,\n",
              "  49: [333, 333],\n",
              "  50: dict_keys(['jack', 'guido', 'valdis', 'irv', 'police', 'rtu']),\n",
              "  51: ['guido', 'irv', 'jack', 'police', 'rtu', 'valdis'],\n",
              "  53: {'guido': 4127,\n",
              "   'irv': [333, 333, 13214141],\n",
              "   'jack': 9000,\n",
              "   'police': 911,\n",
              "   'rtu': 7777,\n",
              "   'valdis': [9000, 2640, 2911]},\n",
              "  54: {'potatoes': 18,\n",
              "   'carrots': 15,\n",
              "   'beets': 13,\n",
              "   'pumpkins': 12,\n",
              "   'chocolate': 20},\n",
              "  57: {'potatoes': 18,\n",
              "   'carrots': 15,\n",
              "   'beets': 13,\n",
              "   'pumpkins': 12,\n",
              "   'chocolate': 20},\n",
              "  58: [[101, 'potatoes', 18],\n",
              "   [102, 'carrots', 15],\n",
              "   [103, 'beets', 13],\n",
              "   [104, 'pumpkins', 12],\n",
              "   [105, 'chocolate', 20]],\n",
              "  60: ('carrots', 15),\n",
              "  61: {'potatoes': {'id': 101, 'quantity': 18},\n",
              "   'carrots': {'id': 102, 'quantity': 15},\n",
              "   'beets': {'id': 103, 'quantity': 13},\n",
              "   'pumpkins': {'id': 104, 'quantity': 12},\n",
              "   'chocolate': {'id': 105, 'quantity': 20}},\n",
              "  62: {'id': 103, 'quantity': 13},\n",
              "  63: 13,\n",
              "  64: 13,\n",
              "  65: {'a': 1, 'b': 2, 3: 'c', '3': '3c'},\n",
              "  66: ('c', '3c')},\n",
              " '_dh': ['C:\\\\Users\\\\liga\\\\Github\\\\RTU_Python_720_Fall_2020\\\\core'],\n",
              " 'In': ['',\n",
              "  'emptyd = {}\\nlen(emptyd)',\n",
              "  'type(emptyd)',\n",
              "  \"tel = {'jack': 4098, 'sape': 4139}\\nprint(tel)\",\n",
              "  \"# so what can be keys ? what happens if we add second identical key\\ntel = {'jack': 4098, 'sape': 4139, 'jack': 9000}\\nprint(tel)\",\n",
              "  \"# add a new key-value pair\\ntel['guido'] = 4127\\nprint(tel.keys())\\nprint(tel.values())\",\n",
              "  \"# add key 'valdis' with value 4127 to our tel dictionary\\ntel['valdis'] = 4127\\ntel\",\n",
              "  \"tel['valdis'] = [9000,2640,2911]\\ntel\",\n",
              "  \"#get value from key in dictionary\\n# very fast even in large dictionaries! O(1)\\ntel['jack']\",\n",
              "  \"tel_list = [['jack',9000], ['valdis',9000]]\\ntel_list\",\n",
              "  \"tel['sape'] = 54545\",\n",
              "  \"tel['valdis']\",\n",
              "  \"tel['peteris'] # this should give error because no such key exists\",\n",
              "  \"tel['Valdis'] # this should give error because no such key exists\",\n",
              "  \"# check for key in our dictionary\\n'valdis' in tel\",\n",
              "  \"'peteris' in tel\",\n",
              "  'key = \\'nnevaldis\\'\\nif key in tel:\\n    print(tel[key]) # we print the value of the key if there is such a key\\nelse:\\n    print(\"No such key\")',\n",
              "  '# key = \\'nnevaldis\\'\\nkey = \\'valdis\\'\\nif key in tel:\\n    print(tel[key]) # we print the value of the key if there is such a key\\nelse:\\n    print(\"No such key\")',\n",
              "  '# key = \\'nnevaldis\\'\\nkey = \\'Valdis\\'\\nif key in tel:\\n    print(tel[key]) # we print the value of the key if there is such a key\\nelse:\\n    print(\"No such key\")',\n",
              "  '# key = \\'nnevaldis\\'\\nkey = \\'valdis\\'\\nif key in tel:\\n    print(tel[key]) # we print the value of the key if there is such a key\\nelse:\\n    print(\"No such key\")',\n",
              "  \"tel.get('valdis') # gets value by key without errors\",\n",
              "  \"tel.get('nevaldis') #by default on bad key we get None\",\n",
              "  \"print(tel.get('nevaldis')) #by default on bad key we get None\",\n",
              "  \"tel.get('nevaldis', 555-1212) # we can change the return on bad keys to our own \",\n",
              "  \"tel.get('nevaldis', '555-1212') # we can change the return on bad keys to our own \",\n",
              "  \"# remove key value pair\\ntel['sape'] = 665453 # create key or overwrite if it existed\\ndel tel['sape']\",\n",
              "  \"# remove key value pair\\ntel['sape'] = 665453 # create key or overwrite if it existed\\ndel tel['sape']\\ntel\",\n",
              "  \"tel.get('sape', 'Sorry no such key')\",\n",
              "  '# this will be slower going through all the key:value pairs\\n4127 in tel.values()',\n",
              "  '112 in tel.values()',\n",
              "  'type(tel.values())',\n",
              "  'dir(tel.values())',\n",
              "  'telvalues = list(tel.values())\\ntelvalues',\n",
              "  'telkeys = list(tel.keys())\\ntelkeys',\n",
              "  \"tel['irv'] = 4127\",\n",
              "  'tel',\n",
              "  'tel.values.count(4127), telvalues.count(4127)',\n",
              "  '# tel.values.count(4127) dict_values has no count\\ntelvalues = list(tel.values())\\ntelvalues.count(4127)',\n",
              "  'list(tel.values()).count(4127)',\n",
              "  'key = \\'police\\'\\nvalue = 911\\nif key not in tel:\\n    tel[key] = value\\n    print(f\"Added new key {key} value {value} pair\")\\nelse:\\n    print(\"You already have key\", key, \"value\", tel[key])\\ntel',\n",
              "  'key = \\'police\\'\\nvalue = 911\\nif key not in tel:\\n    tel[key] = value\\n    print(f\"Added new key {key} value {value} pair\")\\nelse:\\n    print(\"You already have key\", key, \"value\", tel[key])\\ntel',\n",
              "  '# the above code can be written using setdefault method\\ntel.setdefault(\"rtu\", 7777)\\ntel',\n",
              "  '# the above code can be written using setdefault method\\ntel.setdefault(\"rtu\", 777700) # so this will only work once\\ntel',\n",
              "  \"tel.get('jack'), tel['jack']\",\n",
              "  \"valdisphones = tel.get('valdis')\\nvaldisphones\",\n",
              "  '# how to get last phone number from irvingphones ?\\nvaldisphones[-1]',\n",
              "  \"tel['irv'] = [333, 333,13214141]\\ntel.keys()\",\n",
              "  \"tel['irv']\",\n",
              "  \"tel['irv'][-1] # last value from dictionary by key irv which contains a list\",\n",
              "  \"tel['irv'][:2] # first two value from irv value (which is a list)\",\n",
              "  'tel.keys()',\n",
              "  'sorted(tel.keys())',\n",
              "  'sorted_tel = {}\\nfor key in sorted(tel.keys()):\\n    sorted_tel[key] = tel[key]\\n# this looping is not free and would take the size the whole dictionary plus sorting is also takes time\\nsorted_teld',\n",
              "  'sorted_tel = {}\\nfor key in sorted(tel.keys()):\\n    sorted_tel[key] = tel[key]\\n# this looping is not free and would take the size the whole dictionary plus sorting is also takes time\\nsorted_tel',\n",
              "  'shopdict = {\"potatoes\":8, \"carrots\": 5, \"beets\": 3, \"pumpkins\":2, \"chocolate\":10}\\nshopdict',\n",
              "  'for key,value in shopdict.items(): # key and value are just names we made up also common is k,v\\n    print(key,value)\\n    print(f\"Buying {value}kgs of {key}\")',\n",
              "  'for key in shopdict: # so only key is provided\\n    print(key, shopdict[key])',\n",
              "  'for key in shopdict:\\n    shopdict[key] += 10 # same as shopdict[key] = shopdict[key] + 10\\nshopdict',\n",
              "  'newlist = []\\nfor index,(key,value) in enumerate(shopdict.items(), start=101):\\n    print(index,key,value)\\n    newlist.append([index,key,value])\\nnewlist',\n",
              "  'newlist = []\\nnewdict = {}\\nfor index,(key,value) in enumerate(shopdict.items(), start=101):\\n    print(index,key,value)\\n    newlist.append([index,key,value])\\n    newdict[index] = (key,value)\\nprint(newlist)\\nprint(newdict)',\n",
              "  \"newdict[102] # looks like a list but it's a dictionary\",\n",
              "  \"newdict2 = {}\\nfor item in newlist:\\n    newdict2[item[1]] = {'id':item[0],'quantity':item[2]}\\nnewdict2\",\n",
              "  \"# can you get me quantity of beets needed from newdict2 ?\\nnewdict2['beets']\",\n",
              "  \"newdict2['beets']['quantity']\",\n",
              "  \"newdict2.get('beets').get('quantity')\",\n",
              "  \"# there are other of creating dictionaries\\nt3 = dict([['a', 1],['b',2],[3, 'c'], ['3', '3c']])\\nt3\",\n",
              "  \"t3[3],t3['3']\",\n",
              "  \"# alternative way of creating a dictionary using tuples ()\\nt2=dict([('sape', 4139), ('guido', 4127), ('jack', 4098)])\\nprint(t2)\",\n",
              "  'globals()'],\n",
              " 'Out': {1: 0,\n",
              "  2: dict,\n",
              "  6: {'jack': 9000,\n",
              "   'guido': 4127,\n",
              "   'valdis': [9000, 2640, 2911],\n",
              "   'irv': [333, 333, 13214141],\n",
              "   'police': 911,\n",
              "   'rtu': 7777},\n",
              "  7: {'jack': 9000,\n",
              "   'guido': 4127,\n",
              "   'valdis': [9000, 2640, 2911],\n",
              "   'irv': [333, 333, 13214141],\n",
              "   'police': 911,\n",
              "   'rtu': 7777},\n",
              "  8: 9000,\n",
              "  9: [['jack', 9000], ['valdis', 9000]],\n",
              "  11: [9000, 2640, 2911],\n",
              "  14: True,\n",
              "  15: False,\n",
              "  20: [9000, 2640, 2911],\n",
              "  23: -657,\n",
              "  24: '555-1212',\n",
              "  26: {'jack': 9000,\n",
              "   'guido': 4127,\n",
              "   'valdis': [9000, 2640, 2911],\n",
              "   'irv': [333, 333, 13214141],\n",
              "   'police': 911,\n",
              "   'rtu': 7777},\n",
              "  27: 'Sorry no such key',\n",
              "  28: True,\n",
              "  29: False,\n",
              "  30: dict_values,\n",
              "  31: ['__class__',\n",
              "   '__delattr__',\n",
              "   '__dir__',\n",
              "   '__doc__',\n",
              "   '__eq__',\n",
              "   '__format__',\n",
              "   '__ge__',\n",
              "   '__getattribute__',\n",
              "   '__gt__',\n",
              "   '__hash__',\n",
              "   '__init__',\n",
              "   '__init_subclass__',\n",
              "   '__iter__',\n",
              "   '__le__',\n",
              "   '__len__',\n",
              "   '__lt__',\n",
              "   '__ne__',\n",
              "   '__new__',\n",
              "   '__reduce__',\n",
              "   '__reduce_ex__',\n",
              "   '__repr__',\n",
              "   '__reversed__',\n",
              "   '__setattr__',\n",
              "   '__sizeof__',\n",
              "   '__str__',\n",
              "   '__subclasshook__'],\n",
              "  32: [9000, 4127, [9000, 2640, 2911]],\n",
              "  33: ['jack', 'guido', 'valdis'],\n",
              "  35: {'jack': 9000,\n",
              "   'guido': 4127,\n",
              "   'valdis': [9000, 2640, 2911],\n",
              "   'irv': [333, 333, 13214141],\n",
              "   'police': 911,\n",
              "   'rtu': 7777},\n",
              "  37: 2,\n",
              "  38: 2,\n",
              "  39: {'jack': 9000,\n",
              "   'guido': 4127,\n",
              "   'valdis': [9000, 2640, 2911],\n",
              "   'irv': [333, 333, 13214141],\n",
              "   'police': 911,\n",
              "   'rtu': 7777},\n",
              "  40: {'jack': 9000,\n",
              "   'guido': 4127,\n",
              "   'valdis': [9000, 2640, 2911],\n",
              "   'irv': [333, 333, 13214141],\n",
              "   'police': 911,\n",
              "   'rtu': 7777},\n",
              "  41: {'jack': 9000,\n",
              "   'guido': 4127,\n",
              "   'valdis': [9000, 2640, 2911],\n",
              "   'irv': [333, 333, 13214141],\n",
              "   'police': 911,\n",
              "   'rtu': 7777},\n",
              "  42: {'jack': 9000,\n",
              "   'guido': 4127,\n",
              "   'valdis': [9000, 2640, 2911],\n",
              "   'irv': [333, 333, 13214141],\n",
              "   'police': 911,\n",
              "   'rtu': 7777},\n",
              "  43: (9000, 9000),\n",
              "  44: [9000, 2640, 2911],\n",
              "  45: 2911,\n",
              "  46: dict_keys(['jack', 'guido', 'valdis', 'irv', 'police', 'rtu']),\n",
              "  47: [333, 333, 13214141],\n",
              "  48: 13214141,\n",
              "  49: [333, 333],\n",
              "  50: dict_keys(['jack', 'guido', 'valdis', 'irv', 'police', 'rtu']),\n",
              "  51: ['guido', 'irv', 'jack', 'police', 'rtu', 'valdis'],\n",
              "  53: {'guido': 4127,\n",
              "   'irv': [333, 333, 13214141],\n",
              "   'jack': 9000,\n",
              "   'police': 911,\n",
              "   'rtu': 7777,\n",
              "   'valdis': [9000, 2640, 2911]},\n",
              "  54: {'potatoes': 18,\n",
              "   'carrots': 15,\n",
              "   'beets': 13,\n",
              "   'pumpkins': 12,\n",
              "   'chocolate': 20},\n",
              "  57: {'potatoes': 18,\n",
              "   'carrots': 15,\n",
              "   'beets': 13,\n",
              "   'pumpkins': 12,\n",
              "   'chocolate': 20},\n",
              "  58: [[101, 'potatoes', 18],\n",
              "   [102, 'carrots', 15],\n",
              "   [103, 'beets', 13],\n",
              "   [104, 'pumpkins', 12],\n",
              "   [105, 'chocolate', 20]],\n",
              "  60: ('carrots', 15),\n",
              "  61: {'potatoes': {'id': 101, 'quantity': 18},\n",
              "   'carrots': {'id': 102, 'quantity': 15},\n",
              "   'beets': {'id': 103, 'quantity': 13},\n",
              "   'pumpkins': {'id': 104, 'quantity': 12},\n",
              "   'chocolate': {'id': 105, 'quantity': 20}},\n",
              "  62: {'id': 103, 'quantity': 13},\n",
              "  63: 13,\n",
              "  64: 13,\n",
              "  65: {'a': 1, 'b': 2, 3: 'c', '3': '3c'},\n",
              "  66: ('c', '3c')},\n",
              " 'get_ipython': <bound method InteractiveShell.get_ipython of <ipykernel.zmqshell.ZMQInteractiveShell object at 0x000002BE5E4E85B0>>,\n",
              " 'exit': <IPython.core.autocall.ZMQExitAutocall at 0x2be5e57edc0>,\n",
              " 'quit': <IPython.core.autocall.ZMQExitAutocall at 0x2be5e57edc0>,\n",
              " '_': ('c', '3c'),\n",
              " '__': {'a': 1, 'b': 2, 3: 'c', '3': '3c'},\n",
              " '___': 13,\n",
              " '_i': \"# alternative way of creating a dictionary using tuples ()\\nt2=dict([('sape', 4139), ('guido', 4127), ('jack', 4098)])\\nprint(t2)\",\n",
              " '_ii': \"t3[3],t3['3']\",\n",
              " '_iii': \"# there are other of creating dictionaries\\nt3 = dict([['a', 1],['b',2],[3, 'c'], ['3', '3c']])\\nt3\",\n",
              " '_i1': 'emptyd = {}\\nlen(emptyd)',\n",
              " 'emptyd': {},\n",
              " '_1': 0,\n",
              " '_i2': 'type(emptyd)',\n",
              " '_2': dict,\n",
              " '_i3': \"tel = {'jack': 4098, 'sape': 4139}\\nprint(tel)\",\n",
              " 'tel': {'jack': 9000,\n",
              "  'guido': 4127,\n",
              "  'valdis': [9000, 2640, 2911],\n",
              "  'irv': [333, 333, 13214141],\n",
              "  'police': 911,\n",
              "  'rtu': 7777},\n",
              " '_i4': \"# so what can be keys ? what happens if we add second identical key\\ntel = {'jack': 4098, 'sape': 4139, 'jack': 9000}\\nprint(tel)\",\n",
              " '_i5': \"# add a new key-value pair\\ntel['guido'] = 4127\\nprint(tel.keys())\\nprint(tel.values())\",\n",
              " '_i6': \"# add key 'valdis' with value 4127 to our tel dictionary\\ntel['valdis'] = 4127\\ntel\",\n",
              " '_6': {'jack': 9000,\n",
              "  'guido': 4127,\n",
              "  'valdis': [9000, 2640, 2911],\n",
              "  'irv': [333, 333, 13214141],\n",
              "  'police': 911,\n",
              "  'rtu': 7777},\n",
              " '_i7': \"tel['valdis'] = [9000,2640,2911]\\ntel\",\n",
              " '_7': {'jack': 9000,\n",
              "  'guido': 4127,\n",
              "  'valdis': [9000, 2640, 2911],\n",
              "  'irv': [333, 333, 13214141],\n",
              "  'police': 911,\n",
              "  'rtu': 7777},\n",
              " '_i8': \"#get value from key in dictionary\\n# very fast even in large dictionaries! O(1)\\ntel['jack']\",\n",
              " '_8': 9000,\n",
              " '_i9': \"tel_list = [['jack',9000], ['valdis',9000]]\\ntel_list\",\n",
              " 'tel_list': [['jack', 9000], ['valdis', 9000]],\n",
              " '_9': [['jack', 9000], ['valdis', 9000]],\n",
              " '_i10': \"tel['sape'] = 54545\",\n",
              " '_i11': \"tel['valdis']\",\n",
              " '_11': [9000, 2640, 2911],\n",
              " '_i12': \"tel['peteris'] # this should give error because no such key exists\",\n",
              " '_i13': \"tel['Valdis'] # this should give error because no such key exists\",\n",
              " '_i14': \"# check for key in our dictionary\\n'valdis' in tel\",\n",
              " '_14': True,\n",
              " '_i15': \"'peteris' in tel\",\n",
              " '_15': False,\n",
              " '_i16': 'key = \\'nnevaldis\\'\\nif key in tel:\\n    print(tel[key]) # we print the value of the key if there is such a key\\nelse:\\n    print(\"No such key\")',\n",
              " 'key': 'chocolate',\n",
              " '_i17': '# key = \\'nnevaldis\\'\\nkey = \\'valdis\\'\\nif key in tel:\\n    print(tel[key]) # we print the value of the key if there is such a key\\nelse:\\n    print(\"No such key\")',\n",
              " '_i18': '# key = \\'nnevaldis\\'\\nkey = \\'Valdis\\'\\nif key in tel:\\n    print(tel[key]) # we print the value of the key if there is such a key\\nelse:\\n    print(\"No such key\")',\n",
              " '_i19': '# key = \\'nnevaldis\\'\\nkey = \\'valdis\\'\\nif key in tel:\\n    print(tel[key]) # we print the value of the key if there is such a key\\nelse:\\n    print(\"No such key\")',\n",
              " '_i20': \"tel.get('valdis') # gets value by key without errors\",\n",
              " '_20': [9000, 2640, 2911],\n",
              " '_i21': \"tel.get('nevaldis') #by default on bad key we get None\",\n",
              " '_i22': \"print(tel.get('nevaldis')) #by default on bad key we get None\",\n",
              " '_i23': \"tel.get('nevaldis', 555-1212) # we can change the return on bad keys to our own \",\n",
              " '_23': -657,\n",
              " '_i24': \"tel.get('nevaldis', '555-1212') # we can change the return on bad keys to our own \",\n",
              " '_24': '555-1212',\n",
              " '_i25': \"# remove key value pair\\ntel['sape'] = 665453 # create key or overwrite if it existed\\ndel tel['sape']\",\n",
              " '_i26': \"# remove key value pair\\ntel['sape'] = 665453 # create key or overwrite if it existed\\ndel tel['sape']\\ntel\",\n",
              " '_26': {'jack': 9000,\n",
              "  'guido': 4127,\n",
              "  'valdis': [9000, 2640, 2911],\n",
              "  'irv': [333, 333, 13214141],\n",
              "  'police': 911,\n",
              "  'rtu': 7777},\n",
              " '_i27': \"tel.get('sape', 'Sorry no such key')\",\n",
              " '_27': 'Sorry no such key',\n",
              " '_i28': '# this will be slower going through all the key:value pairs\\n4127 in tel.values()',\n",
              " '_28': True,\n",
              " '_i29': '112 in tel.values()',\n",
              " '_29': False,\n",
              " '_i30': 'type(tel.values())',\n",
              " '_30': dict_values,\n",
              " '_i31': 'dir(tel.values())',\n",
              " '_31': ['__class__',\n",
              "  '__delattr__',\n",
              "  '__dir__',\n",
              "  '__doc__',\n",
              "  '__eq__',\n",
              "  '__format__',\n",
              "  '__ge__',\n",
              "  '__getattribute__',\n",
              "  '__gt__',\n",
              "  '__hash__',\n",
              "  '__init__',\n",
              "  '__init_subclass__',\n",
              "  '__iter__',\n",
              "  '__le__',\n",
              "  '__len__',\n",
              "  '__lt__',\n",
              "  '__ne__',\n",
              "  '__new__',\n",
              "  '__reduce__',\n",
              "  '__reduce_ex__',\n",
              "  '__repr__',\n",
              "  '__reversed__',\n",
              "  '__setattr__',\n",
              "  '__sizeof__',\n",
              "  '__str__',\n",
              "  '__subclasshook__'],\n",
              " '_i32': 'telvalues = list(tel.values())\\ntelvalues',\n",
              " 'telvalues': [9000, 4127, [9000, 2640, 2911], 4127],\n",
              " '_32': [9000, 4127, [9000, 2640, 2911]],\n",
              " '_i33': 'telkeys = list(tel.keys())\\ntelkeys',\n",
              " 'telkeys': ['jack', 'guido', 'valdis'],\n",
              " '_33': ['jack', 'guido', 'valdis'],\n",
              " '_i34': \"tel['irv'] = 4127\",\n",
              " '_i35': 'tel',\n",
              " '_35': {'jack': 9000,\n",
              "  'guido': 4127,\n",
              "  'valdis': [9000, 2640, 2911],\n",
              "  'irv': [333, 333, 13214141],\n",
              "  'police': 911,\n",
              "  'rtu': 7777},\n",
              " '_i36': 'tel.values.count(4127), telvalues.count(4127)',\n",
              " '_i37': '# tel.values.count(4127) dict_values has no count\\ntelvalues = list(tel.values())\\ntelvalues.count(4127)',\n",
              " '_37': 2,\n",
              " '_i38': 'list(tel.values()).count(4127)',\n",
              " '_38': 2,\n",
              " '_i39': 'key = \\'police\\'\\nvalue = 911\\nif key not in tel:\\n    tel[key] = value\\n    print(f\"Added new key {key} value {value} pair\")\\nelse:\\n    print(\"You already have key\", key, \"value\", tel[key])\\ntel',\n",
              " 'value': 20,\n",
              " '_39': {'jack': 9000,\n",
              "  'guido': 4127,\n",
              "  'valdis': [9000, 2640, 2911],\n",
              "  'irv': [333, 333, 13214141],\n",
              "  'police': 911,\n",
              "  'rtu': 7777},\n",
              " '_i40': 'key = \\'police\\'\\nvalue = 911\\nif key not in tel:\\n    tel[key] = value\\n    print(f\"Added new key {key} value {value} pair\")\\nelse:\\n    print(\"You already have key\", key, \"value\", tel[key])\\ntel',\n",
              " '_40': {'jack': 9000,\n",
              "  'guido': 4127,\n",
              "  'valdis': [9000, 2640, 2911],\n",
              "  'irv': [333, 333, 13214141],\n",
              "  'police': 911,\n",
              "  'rtu': 7777},\n",
              " '_i41': '# the above code can be written using setdefault method\\ntel.setdefault(\"rtu\", 7777)\\ntel',\n",
              " '_41': {'jack': 9000,\n",
              "  'guido': 4127,\n",
              "  'valdis': [9000, 2640, 2911],\n",
              "  'irv': [333, 333, 13214141],\n",
              "  'police': 911,\n",
              "  'rtu': 7777},\n",
              " '_i42': '# the above code can be written using setdefault method\\ntel.setdefault(\"rtu\", 777700) # so this will only work once\\ntel',\n",
              " '_42': {'jack': 9000,\n",
              "  'guido': 4127,\n",
              "  'valdis': [9000, 2640, 2911],\n",
              "  'irv': [333, 333, 13214141],\n",
              "  'police': 911,\n",
              "  'rtu': 7777},\n",
              " '_i43': \"tel.get('jack'), tel['jack']\",\n",
              " '_43': (9000, 9000),\n",
              " '_i44': \"valdisphones = tel.get('valdis')\\nvaldisphones\",\n",
              " 'valdisphones': [9000, 2640, 2911],\n",
              " '_44': [9000, 2640, 2911],\n",
              " '_i45': '# how to get last phone number from irvingphones ?\\nvaldisphones[-1]',\n",
              " '_45': 2911,\n",
              " '_i46': \"tel['irv'] = [333, 333,13214141]\\ntel.keys()\",\n",
              " '_46': dict_keys(['jack', 'guido', 'valdis', 'irv', 'police', 'rtu']),\n",
              " '_i47': \"tel['irv']\",\n",
              " '_47': [333, 333, 13214141],\n",
              " '_i48': \"tel['irv'][-1] # last value from dictionary by key irv which contains a list\",\n",
              " '_48': 13214141,\n",
              " '_i49': \"tel['irv'][:2] # first two value from irv value (which is a list)\",\n",
              " '_49': [333, 333],\n",
              " '_i50': 'tel.keys()',\n",
              " '_50': dict_keys(['jack', 'guido', 'valdis', 'irv', 'police', 'rtu']),\n",
              " '_i51': 'sorted(tel.keys())',\n",
              " '_51': ['guido', 'irv', 'jack', 'police', 'rtu', 'valdis'],\n",
              " '_i52': 'sorted_tel = {}\\nfor key in sorted(tel.keys()):\\n    sorted_tel[key] = tel[key]\\n# this looping is not free and would take the size the whole dictionary plus sorting is also takes time\\nsorted_teld',\n",
              " 'sorted_tel': {'guido': 4127,\n",
              "  'irv': [333, 333, 13214141],\n",
              "  'jack': 9000,\n",
              "  'police': 911,\n",
              "  'rtu': 7777,\n",
              "  'valdis': [9000, 2640, 2911]},\n",
              " '_i53': 'sorted_tel = {}\\nfor key in sorted(tel.keys()):\\n    sorted_tel[key] = tel[key]\\n# this looping is not free and would take the size the whole dictionary plus sorting is also takes time\\nsorted_tel',\n",
              " '_53': {'guido': 4127,\n",
              "  'irv': [333, 333, 13214141],\n",
              "  'jack': 9000,\n",
              "  'police': 911,\n",
              "  'rtu': 7777,\n",
              "  'valdis': [9000, 2640, 2911]},\n",
              " '_i54': 'shopdict = {\"potatoes\":8, \"carrots\": 5, \"beets\": 3, \"pumpkins\":2, \"chocolate\":10}\\nshopdict',\n",
              " 'shopdict': {'potatoes': 18,\n",
              "  'carrots': 15,\n",
              "  'beets': 13,\n",
              "  'pumpkins': 12,\n",
              "  'chocolate': 20},\n",
              " '_54': {'potatoes': 18,\n",
              "  'carrots': 15,\n",
              "  'beets': 13,\n",
              "  'pumpkins': 12,\n",
              "  'chocolate': 20},\n",
              " '_i55': 'for key,value in shopdict.items(): # key and value are just names we made up also common is k,v\\n    print(key,value)\\n    print(f\"Buying {value}kgs of {key}\")',\n",
              " '_i56': 'for key in shopdict: # so only key is provided\\n    print(key, shopdict[key])',\n",
              " '_i57': 'for key in shopdict:\\n    shopdict[key] += 10 # same as shopdict[key] = shopdict[key] + 10\\nshopdict',\n",
              " '_57': {'potatoes': 18,\n",
              "  'carrots': 15,\n",
              "  'beets': 13,\n",
              "  'pumpkins': 12,\n",
              "  'chocolate': 20},\n",
              " '_i58': 'newlist = []\\nfor index,(key,value) in enumerate(shopdict.items(), start=101):\\n    print(index,key,value)\\n    newlist.append([index,key,value])\\nnewlist',\n",
              " 'newlist': [[101, 'potatoes', 18],\n",
              "  [102, 'carrots', 15],\n",
              "  [103, 'beets', 13],\n",
              "  [104, 'pumpkins', 12],\n",
              "  [105, 'chocolate', 20]],\n",
              " 'index': 105,\n",
              " '_58': [[101, 'potatoes', 18],\n",
              "  [102, 'carrots', 15],\n",
              "  [103, 'beets', 13],\n",
              "  [104, 'pumpkins', 12],\n",
              "  [105, 'chocolate', 20]],\n",
              " '_i59': 'newlist = []\\nnewdict = {}\\nfor index,(key,value) in enumerate(shopdict.items(), start=101):\\n    print(index,key,value)\\n    newlist.append([index,key,value])\\n    newdict[index] = (key,value)\\nprint(newlist)\\nprint(newdict)',\n",
              " 'newdict': {101: ('potatoes', 18),\n",
              "  102: ('carrots', 15),\n",
              "  103: ('beets', 13),\n",
              "  104: ('pumpkins', 12),\n",
              "  105: ('chocolate', 20)},\n",
              " '_i60': \"newdict[102] # looks like a list but it's a dictionary\",\n",
              " '_60': ('carrots', 15),\n",
              " '_i61': \"newdict2 = {}\\nfor item in newlist:\\n    newdict2[item[1]] = {'id':item[0],'quantity':item[2]}\\nnewdict2\",\n",
              " 'newdict2': {'potatoes': {'id': 101, 'quantity': 18},\n",
              "  'carrots': {'id': 102, 'quantity': 15},\n",
              "  'beets': {'id': 103, 'quantity': 13},\n",
              "  'pumpkins': {'id': 104, 'quantity': 12},\n",
              "  'chocolate': {'id': 105, 'quantity': 20}},\n",
              " 'item': [105, 'chocolate', 20],\n",
              " '_61': {'potatoes': {'id': 101, 'quantity': 18},\n",
              "  'carrots': {'id': 102, 'quantity': 15},\n",
              "  'beets': {'id': 103, 'quantity': 13},\n",
              "  'pumpkins': {'id': 104, 'quantity': 12},\n",
              "  'chocolate': {'id': 105, 'quantity': 20}},\n",
              " '_i62': \"# can you get me quantity of beets needed from newdict2 ?\\nnewdict2['beets']\",\n",
              " '_62': {'id': 103, 'quantity': 13},\n",
              " '_i63': \"newdict2['beets']['quantity']\",\n",
              " '_63': 13,\n",
              " '_i64': \"newdict2.get('beets').get('quantity')\",\n",
              " '_64': 13,\n",
              " '_i65': \"# there are other of creating dictionaries\\nt3 = dict([['a', 1],['b',2],[3, 'c'], ['3', '3c']])\\nt3\",\n",
              " 't3': {'a': 1, 'b': 2, 3: 'c', '3': '3c'},\n",
              " '_65': {'a': 1, 'b': 2, 3: 'c', '3': '3c'},\n",
              " '_i66': \"t3[3],t3['3']\",\n",
              " '_66': ('c', '3c'),\n",
              " '_i67': \"# alternative way of creating a dictionary using tuples ()\\nt2=dict([('sape', 4139), ('guido', 4127), ('jack', 4098)])\\nprint(t2)\",\n",
              " 't2': {'sape': 4139, 'guido': 4127, 'jack': 4098},\n",
              " '_i68': 'globals()'}"
            ]
          },
          "execution_count": 68,
          "metadata": {},
          "output_type": "execute_result"
        }
      ],
      "source": [
        "globals()"
      ]
    },
    {
      "cell_type": "code",
      "execution_count": null,
      "metadata": {
        "id": "1yRj1-IH0L3h"
      },
      "outputs": [],
      "source": [
        "'print(a,b)' in globals()['In']"
      ]
    },
    {
      "cell_type": "code",
      "execution_count": null,
      "metadata": {
        "id": "fWmZdr-t0L3h",
        "outputId": "bafd4757-3736-4aa1-9902-13f1746a0ab2"
      },
      "outputs": [
        {
          "data": {
            "text/plain": [
              "dict_keys(['__name__', '__doc__', '__package__', '__loader__', '__spec__', '__builtin__', '__builtins__', '_ih', '_oh', '_dh', 'In', 'Out', 'get_ipython', 'exit', 'quit', '_', '__', '___', '_i', '_ii', '_iii', '_i1', 'emptyd', '_1', '_i2', '_2', '_i3', 'tel', '_i4', '_i5', '_i6', '_6', '_i7', '_7', '_i8', '_8', '_i9', 'tel_list', '_9', '_i10', '_i11', '_11', '_i12', '_i13', '_i14', '_14', '_i15', '_15', '_i16', 'key', '_i17', '_i18', '_i19', '_i20', '_20', '_i21', '_i22', '_i23', '_23', '_i24', '_24', '_i25', '_i26', '_26', '_i27', '_27', '_i28', '_28', '_i29', '_29', '_i30', '_30', '_i31', '_31', '_i32', 'telvalues', '_32', '_i33', 'telkeys', '_33', '_i34', '_i35', '_35', '_i36', '_i37', '_37', '_i38', '_38', '_i39', 'value', '_39', '_i40', '_40', '_i41', '_41', '_i42', '_42', '_i43', '_43', '_i44', 'valdisphones', '_44', '_i45', '_45', '_i46', '_46', '_i47', '_47', '_i48', '_48', '_i49', '_49', '_i50', '_50', '_i51', '_51', '_i52', 'sorted_tel', '_i53', '_53', '_i54', 'shopdict', '_54', '_i55', '_i56', '_i57', '_57', '_i58', 'newlist', 'index', '_58', '_i59', 'newdict', '_i60', '_60', '_i61', 'newdict2', 'item', '_61', '_i62', '_62', '_i63', '_63', '_i64', '_64', '_i65', 't3', '_65', '_i66', '_66', '_i67', 't2', '_i68', '_68', '_i69'])"
            ]
          },
          "execution_count": 69,
          "metadata": {},
          "output_type": "execute_result"
        }
      ],
      "source": [
        "vars().keys()"
      ]
    },
    {
      "cell_type": "code",
      "execution_count": null,
      "metadata": {
        "id": "dgYFFQI70L3h",
        "outputId": "8bc972b6-adf0-400c-da7e-2601068429d0"
      },
      "outputs": [
        {
          "data": {
            "text/plain": [
              "{'id': 103, 'quantity': 13}"
            ]
          },
          "execution_count": 72,
          "metadata": {},
          "output_type": "execute_result"
        }
      ],
      "source": [
        "_62"
      ]
    },
    {
      "cell_type": "code",
      "execution_count": null,
      "metadata": {
        "id": "lwiNlH9E0L3h"
      },
      "outputs": [],
      "source": [
        "sorted(vars().keys())"
      ]
    },
    {
      "cell_type": "code",
      "execution_count": null,
      "metadata": {
        "id": "BDG8G1-n0L3i",
        "outputId": "da286a1d-6906-43b0-d91a-b10808c82198"
      },
      "outputs": [
        {
          "data": {
            "text/plain": [
              "[9000, 2640, 2911]"
            ]
          },
          "execution_count": 73,
          "metadata": {},
          "output_type": "execute_result"
        }
      ],
      "source": [
        "# return value of the key AND destroy the key:value\n",
        "# if key does not exist, then KeyError will appear\n",
        "mynumbers = tel.pop('valdis')\n",
        "mynumbers"
      ]
    },
    {
      "cell_type": "code",
      "execution_count": null,
      "metadata": {
        "id": "ldTy-OD70L3i",
        "outputId": "d376d0e5-d71e-4163-9580-8bbbe2c4f91c"
      },
      "outputs": [
        {
          "data": {
            "text/plain": [
              "{'jack': 9000,\n",
              " 'guido': 4127,\n",
              " 'irv': [333, 333, 13214141],\n",
              " 'police': 911,\n",
              " 'rtu': 7777}"
            ]
          },
          "execution_count": 74,
          "metadata": {},
          "output_type": "execute_result"
        }
      ],
      "source": [
        "tel"
      ]
    },
    {
      "cell_type": "code",
      "execution_count": null,
      "metadata": {
        "id": "19gE8qIq0L3i"
      },
      "outputs": [],
      "source": [
        "tel['jack']"
      ]
    },
    {
      "cell_type": "code",
      "execution_count": null,
      "metadata": {
        "id": "Kw3oVZt-0L3i"
      },
      "outputs": [],
      "source": [
        "poppedvalue = tel.pop('jack', \"No KEY Found\")\n",
        "poppedvalue"
      ]
    },
    {
      "cell_type": "code",
      "execution_count": null,
      "metadata": {
        "id": "xf3SRUUE0L3j"
      },
      "outputs": [],
      "source": [
        "poppedvalue = tel.pop('jack', \"No KEY Found\")\n",
        "poppedvalue"
      ]
    },
    {
      "cell_type": "code",
      "execution_count": null,
      "metadata": {
        "id": "nqMUjOYm0L3j"
      },
      "outputs": [],
      "source": [
        "poppedvalue = tel.pop('jack') # we get key error if there is no key and no default\n",
        "poppedvalue"
      ]
    },
    {
      "cell_type": "code",
      "execution_count": null,
      "metadata": {
        "id": "dmyxUru60L3j"
      },
      "outputs": [],
      "source": [
        "type(tel)"
      ]
    },
    {
      "cell_type": "code",
      "execution_count": null,
      "metadata": {
        "id": "FrPeInxL0L3j"
      },
      "outputs": [],
      "source": [
        "tel."
      ]
    },
    {
      "cell_type": "code",
      "execution_count": null,
      "metadata": {
        "id": "Hr5EGFqG0L3j"
      },
      "outputs": [],
      "source": [
        "# return value of the key AND destroy the key:value\n",
        "# if key does not exist, then KeyError will appear\n",
        "tel.pop('valdis')"
      ]
    },
    {
      "cell_type": "code",
      "execution_count": null,
      "metadata": {
        "id": "njDYLpWy0L3k"
      },
      "outputs": [],
      "source": [
        "# this does not destroy the key:value, just returns\n",
        "tel['guido']"
      ]
    },
    {
      "cell_type": "code",
      "execution_count": null,
      "metadata": {
        "id": "02JKHRp60L3k"
      },
      "outputs": [],
      "source": [
        "# we can store anything in dictionaries \n",
        "# including other dictionaries and lists\n",
        "mydict = {'mylist':[1,2,6,6,\"Badac\"], 55:165, 'innerd':{'a':100,'b':[1,2,6]}}\n",
        "mydict"
      ]
    },
    {
      "cell_type": "code",
      "execution_count": null,
      "metadata": {
        "id": "Pb3hf1on0L3k"
      },
      "outputs": [],
      "source": [
        "# get 6 out of mydict\n",
        "mydict['innerd']"
      ]
    },
    {
      "cell_type": "code",
      "execution_count": null,
      "metadata": {
        "id": "lw_CKfnu0L3k"
      },
      "outputs": [],
      "source": [
        "mydict['innerd']['b']"
      ]
    },
    {
      "cell_type": "code",
      "execution_count": null,
      "metadata": {
        "id": "evFaJ4600L3k"
      },
      "outputs": [],
      "source": [
        "# get 6 out of mydict\n",
        "mydict['innerd']['b'][-1]"
      ]
    },
    {
      "cell_type": "code",
      "execution_count": null,
      "metadata": {
        "id": "6pYGrpz10L3k"
      },
      "outputs": [],
      "source": [
        "#sum all values under mydict['innerd']['b']\n",
        "sum(mydict['innerd']['b']),min(mydict['innerd']['b']),max(mydict['innerd']['b'])"
      ]
    },
    {
      "cell_type": "code",
      "execution_count": null,
      "metadata": {
        "id": "VyY6bvnv0L3k"
      },
      "outputs": [],
      "source": [
        "mydict.keys()"
      ]
    },
    {
      "cell_type": "code",
      "execution_count": null,
      "metadata": {
        "id": "dY-Yetjx0L3k"
      },
      "outputs": [],
      "source": [
        "# we can use numeric keys as well!\n",
        "mydict[55]"
      ]
    },
    {
      "cell_type": "code",
      "execution_count": null,
      "metadata": {
        "id": "7SBa6G9A0L3l"
      },
      "outputs": [],
      "source": [
        "mydict['55'] = 330"
      ]
    },
    {
      "cell_type": "code",
      "execution_count": null,
      "metadata": {
        "id": "guIA3pHX0L3l"
      },
      "outputs": [],
      "source": [
        "mydict"
      ]
    },
    {
      "cell_type": "code",
      "execution_count": null,
      "metadata": {
        "id": "Dgn2Sq8P0L3l"
      },
      "outputs": [],
      "source": [
        "mlist = mydict['mylist']\n",
        "mlist"
      ]
    },
    {
      "cell_type": "code",
      "execution_count": null,
      "metadata": {
        "id": "XX4imm3k0L3l"
      },
      "outputs": [],
      "source": [
        "mytext = mlist[-1]\n",
        "mytext"
      ]
    },
    {
      "cell_type": "code",
      "execution_count": null,
      "metadata": {
        "id": "ZbqBU92k0L3l"
      },
      "outputs": [],
      "source": [
        "mychar = mytext[-3]\n",
        "mychar"
      ]
    },
    {
      "cell_type": "code",
      "execution_count": null,
      "metadata": {
        "id": "hz5uk8ux0L3l"
      },
      "outputs": [],
      "source": [
        "mydict"
      ]
    },
    {
      "cell_type": "code",
      "execution_count": null,
      "metadata": {
        "id": "VPPPHCSJ0L3l"
      },
      "outputs": [],
      "source": [
        "# get letter d\n",
        "mydict['mylist'][-1][-3]"
      ]
    },
    {
      "cell_type": "code",
      "execution_count": null,
      "metadata": {
        "id": "MedunaS10L3l"
      },
      "outputs": [],
      "source": [
        "# get letter d\n",
        "mydict['mylist'][-1][2]"
      ]
    },
    {
      "cell_type": "code",
      "execution_count": null,
      "metadata": {
        "id": "lUKFgJPq0L3m"
      },
      "outputs": [],
      "source": [
        "mydict"
      ]
    },
    {
      "cell_type": "code",
      "execution_count": null,
      "metadata": {
        "id": "a2CjCWjZ0L3m"
      },
      "outputs": [],
      "source": [
        "mydict['mylist'][-1][2]"
      ]
    },
    {
      "cell_type": "code",
      "execution_count": null,
      "metadata": {
        "id": "U0eMEn820L3m"
      },
      "outputs": [],
      "source": [
        "mlist[-1][2]"
      ]
    },
    {
      "cell_type": "code",
      "execution_count": null,
      "metadata": {
        "id": "7ZLh_HSW0L3m"
      },
      "outputs": [],
      "source": [
        "mydict['real55'] = mydict[55]"
      ]
    },
    {
      "cell_type": "code",
      "execution_count": null,
      "metadata": {
        "id": "J1ETgZba0L3n"
      },
      "outputs": [],
      "source": [
        "del mydict[55]"
      ]
    },
    {
      "cell_type": "code",
      "execution_count": null,
      "metadata": {
        "id": "la2AwYGx0L3n"
      },
      "outputs": [],
      "source": [
        "mydict"
      ]
    },
    {
      "cell_type": "code",
      "execution_count": null,
      "metadata": {
        "scrolled": true,
        "id": "2qj6jbqZ0L3n"
      },
      "outputs": [],
      "source": [
        "sorted(mydict.keys())"
      ]
    },
    {
      "cell_type": "code",
      "execution_count": null,
      "metadata": {
        "id": "-6obZ4yR0L3n"
      },
      "outputs": [],
      "source": [
        "myresult = mydict.get('Vadfadfafd')"
      ]
    },
    {
      "cell_type": "code",
      "execution_count": null,
      "metadata": {
        "id": "rWoq5AY30L3n"
      },
      "outputs": [],
      "source": [
        "type(myresult)"
      ]
    },
    {
      "cell_type": "code",
      "execution_count": null,
      "metadata": {
        "id": "5uWl3Hzk0L3n"
      },
      "outputs": [],
      "source": [
        "mydict.keys()"
      ]
    },
    {
      "cell_type": "code",
      "execution_count": null,
      "metadata": {
        "id": "TG49Gnku0L3n"
      },
      "outputs": [],
      "source": [
        "mydict.get(55)"
      ]
    },
    {
      "cell_type": "code",
      "execution_count": null,
      "metadata": {
        "id": "jJvHcO4L0L3n"
      },
      "outputs": [],
      "source": [
        "mydict.get('innerd')"
      ]
    },
    {
      "cell_type": "code",
      "execution_count": null,
      "metadata": {
        "id": "ffGTF19f0L3n"
      },
      "outputs": [],
      "source": [
        "mydict.get('55')"
      ]
    },
    {
      "cell_type": "code",
      "execution_count": null,
      "metadata": {
        "id": "UYtDZzIl0L3o"
      },
      "outputs": [],
      "source": [
        "# we get None on nonexisting key instead of KeyError\n",
        "mydict.get('53253242452')"
      ]
    },
    {
      "cell_type": "code",
      "execution_count": null,
      "metadata": {
        "id": "0Qf75iiv0L3o"
      },
      "outputs": [],
      "source": [
        "# here we will get KeyError on nonexisting key\n",
        "mydict['53253242452']"
      ]
    },
    {
      "cell_type": "code",
      "execution_count": null,
      "metadata": {
        "id": "wF7h3qzL0L3o"
      },
      "outputs": [],
      "source": [
        "mydict.get(\"badkey\") == None"
      ]
    },
    {
      "cell_type": "code",
      "execution_count": null,
      "metadata": {
        "id": "LNRE8Fsn0L3o"
      },
      "outputs": [],
      "source": [
        "mydict"
      ]
    },
    {
      "cell_type": "code",
      "execution_count": null,
      "metadata": {
        "id": "YtcYJyOA0L3o"
      },
      "outputs": [],
      "source": [
        "# we can check if dictionary has any items without checking len(mydict)\n",
        "if mydict:\n",
        "    print(mydict)"
      ]
    },
    {
      "cell_type": "code",
      "execution_count": null,
      "metadata": {
        "id": "hWqARhPS0L3o"
      },
      "outputs": [],
      "source": [
        "print(mydict)"
      ]
    },
    {
      "cell_type": "code",
      "execution_count": null,
      "metadata": {
        "id": "wTSKRg3h0L3o"
      },
      "outputs": [],
      "source": [
        "key,value = mydict.popitem()\n",
        "key, value"
      ]
    },
    {
      "cell_type": "code",
      "execution_count": null,
      "metadata": {
        "id": "Uef7w-WG0L3o"
      },
      "outputs": [],
      "source": [
        "mydict['mykey'] ='myvalue'\n",
        "mydict"
      ]
    },
    {
      "cell_type": "code",
      "execution_count": null,
      "metadata": {
        "id": "Cc7Fu-y70L3o"
      },
      "outputs": [],
      "source": [
        "mydict"
      ]
    },
    {
      "cell_type": "code",
      "execution_count": null,
      "metadata": {
        "id": "PAhQZge40L3p"
      },
      "outputs": [],
      "source": [
        "tel"
      ]
    },
    {
      "cell_type": "code",
      "execution_count": null,
      "metadata": {
        "id": "ZorN0Anu0L3p"
      },
      "outputs": [],
      "source": [
        "del tel[1]\n",
        "tel"
      ]
    },
    {
      "cell_type": "code",
      "execution_count": null,
      "metadata": {
        "id": "3-mk4LDV0L3p",
        "outputId": "b7cc0240-4c5c-4698-ffc2-15ae9b888125"
      },
      "outputs": [
        {
          "data": {
            "text/plain": [
              "{'jack': 9000,\n",
              " 'guido': 4127,\n",
              " 'irv': [333, 333, 13214141],\n",
              " 'police': 911,\n",
              " 'rtu': 7777,\n",
              " 'valdis': 1800,\n",
              " 'peteris': 900,\n",
              " 'liga': 911}"
            ]
          },
          "execution_count": 75,
          "metadata": {},
          "output_type": "execute_result"
        }
      ],
      "source": [
        "tel.update({'valdis':1800, 'peteris':900, 'liga':911}) # in place addition meaning tel is modified\n",
        "tel"
      ]
    },
    {
      "cell_type": "code",
      "execution_count": null,
      "metadata": {
        "id": "ftElKLPf0L3p",
        "outputId": "343d4dd5-5c64-44f8-c773-9a0b6c73e29d"
      },
      "outputs": [
        {
          "data": {
            "text/plain": [
              "{'Val': 25, 'Baiba': 25, 'Cālis': 25}"
            ]
          },
          "execution_count": 76,
          "metadata": {},
          "output_type": "execute_result"
        }
      ],
      "source": [
        "tel.fromkeys(['Val','Baiba','Cālis'], 25) # here tel really didnt do anything"
      ]
    },
    {
      "cell_type": "code",
      "execution_count": null,
      "metadata": {
        "id": "tx7CRHgS0L3p",
        "outputId": "5a740035-a9d9-4152-99d6-4dc5ba867f60"
      },
      "outputs": [
        {
          "data": {
            "text/plain": [
              "{'Val': 25, 'Baiba': 25, 'Cālis': 25}"
            ]
          },
          "execution_count": 78,
          "metadata": {},
          "output_type": "execute_result"
        }
      ],
      "source": [
        "{}.fromkeys(['Val','Baiba','Cālis'], 25) # we could use {} really didnt do anything"
      ]
    },
    {
      "cell_type": "code",
      "execution_count": null,
      "metadata": {
        "id": "gJ39CnPT0L3p",
        "outputId": "280726b4-f8ee-400a-ac9d-a8570283519f"
      },
      "outputs": [
        {
          "data": {
            "text/plain": [
              "{'jack': None, 'valdis': None}"
            ]
          },
          "execution_count": 79,
          "metadata": {},
          "output_type": "execute_result"
        }
      ],
      "source": [
        "tel.fromkeys(['jack', 'valdis']) # so again tel really was not needed could use {}"
      ]
    },
    {
      "cell_type": "code",
      "execution_count": null,
      "metadata": {
        "id": "wnrpc8c70L3q",
        "outputId": "53c56e77-5f54-4b33-b6b2-371593f1af3e"
      },
      "outputs": [
        {
          "data": {
            "text/plain": [
              "{'jack': 9000,\n",
              " 'guido': 4127,\n",
              " 'irv': [333, 333, 13214141],\n",
              " 'police': 911,\n",
              " 'rtu': 7777,\n",
              " 'valdis': 1800,\n",
              " 'peteris': 900,\n",
              " 'liga': 911}"
            ]
          },
          "execution_count": 77,
          "metadata": {},
          "output_type": "execute_result"
        }
      ],
      "source": [
        "tel"
      ]
    },
    {
      "cell_type": "code",
      "execution_count": null,
      "metadata": {
        "id": "1-h1dyUg0L3q"
      },
      "outputs": [],
      "source": [
        "newdictwithdefaultvalues = {}.fromkeys(['Val','Baiba','Cālis'], 25)\n",
        "newdictwithdefaultvalues"
      ]
    },
    {
      "cell_type": "code",
      "execution_count": null,
      "metadata": {
        "id": "nywNqEwB0L3q"
      },
      "outputs": [],
      "source": [
        "# what setdefault does\n",
        "key= \"Valdis\"\n",
        "defaultvalue = 9000\n",
        "if key in tel.keys():\n",
        "    print(\"Returning default\", tel[key])\n",
        "else:\n",
        "    tel[key] = defaultvalue\n",
        "tel"
      ]
    },
    {
      "cell_type": "code",
      "execution_count": null,
      "metadata": {
        "id": "l8kFDKeX0L3q"
      },
      "outputs": [],
      "source": [
        "tel.setdefault('baiba', 4524352455000) \n",
        "tel\n",
        "# notice that value of 'baiba' does not change after the first set "
      ]
    },
    {
      "cell_type": "code",
      "execution_count": null,
      "metadata": {
        "id": "1HWWgANX0L3q",
        "outputId": "8d16a4ba-41a2-436e-aaee-43368a8d7b39"
      },
      "outputs": [
        {
          "data": {
            "text/plain": [
              "{'keyb': 53543543333}"
            ]
          },
          "execution_count": 82,
          "metadata": {},
          "output_type": "execute_result"
        }
      ],
      "source": [
        "# same as\n",
        "# if not 'b' in mydict:\n",
        "#     mydict['b'] = 3333\n",
        "mydict = {}\n",
        "mydict.setdefault('keyb', 53543543333)\n",
        "mydict"
      ]
    },
    {
      "cell_type": "code",
      "execution_count": null,
      "metadata": {
        "id": "SB7AcIhI0L3q"
      },
      "outputs": [],
      "source": [
        "mydict.setdefault('emptykey')\n",
        "mydict"
      ]
    },
    {
      "cell_type": "code",
      "execution_count": null,
      "metadata": {
        "id": "JDzf-Vjq0L3q"
      },
      "outputs": [],
      "source": [
        "# change dictionary key value pair ONLY if key does not exist\n",
        "mydict.setdefault('a', 'aaaaaaaa')\n",
        "mydict"
      ]
    },
    {
      "cell_type": "code",
      "execution_count": null,
      "metadata": {
        "id": "8uuu240L0L3q",
        "outputId": "53995e8e-47f6-4312-cf9c-09c4978b9411"
      },
      "outputs": [
        {
          "data": {
            "text/plain": [
              "{'keyb': 53543543333, 'a': 'changed a value'}"
            ]
          },
          "execution_count": 83,
          "metadata": {},
          "output_type": "execute_result"
        }
      ],
      "source": [
        "# here we overwite no matter what\n",
        "mydict['a'] = 'changed a value'\n",
        "mydict"
      ]
    },
    {
      "cell_type": "code",
      "execution_count": null,
      "metadata": {
        "id": "etZo4hxl0L3r",
        "outputId": "027d7c76-de22-4933-dd67-81ddb31d4078"
      },
      "outputs": [
        {
          "data": {
            "text/plain": [
              "{}"
            ]
          },
          "execution_count": 84,
          "metadata": {},
          "output_type": "execute_result"
        }
      ],
      "source": [
        "# and we clear our dictionary\n",
        "mydict.clear() # clear removes all key-value pairs from dictionary IN PLACE\n",
        "mydict"
      ]
    },
    {
      "cell_type": "code",
      "execution_count": null,
      "metadata": {
        "id": "Z-PgFU-H0L3r"
      },
      "outputs": [],
      "source": [
        "type(mydict)"
      ]
    },
    {
      "cell_type": "code",
      "execution_count": null,
      "metadata": {
        "id": "SDbp1KA90L3r"
      },
      "outputs": [],
      "source": [
        "# better not change mydict to int but you could do it\n",
        "mydict = 5\n",
        "type(mydict)"
      ]
    },
    {
      "cell_type": "code",
      "execution_count": null,
      "metadata": {
        "id": "T7qdzaZ80L3r"
      },
      "outputs": [],
      "source": [
        "import random # this is standart python library for randomness"
      ]
    },
    {
      "cell_type": "code",
      "execution_count": null,
      "metadata": {
        "id": "CoBzjknX0L3r",
        "outputId": "b664f1fd-49db-4ad7-9938-d4832fe4e654"
      },
      "outputs": [
        {
          "data": {
            "text/plain": [
              "2"
            ]
          },
          "execution_count": 87,
          "metadata": {},
          "output_type": "execute_result"
        }
      ],
      "source": [
        "random.randint(1,6) # randint gives includes BOTH and start and end"
      ]
    },
    {
      "cell_type": "markdown",
      "metadata": {
        "id": "-IQ6S5Kg0L3r"
      },
      "source": [
        "![xkcd](https://imgs.xkcd.com/comics/random_number.png)"
      ]
    },
    {
      "cell_type": "code",
      "execution_count": null,
      "metadata": {
        "id": "CXl3nGB50L3r",
        "outputId": "449a226e-8c58-42ad-9e3b-801fe28206a3"
      },
      "outputs": [
        {
          "data": {
            "text/plain": [
              "[6,\n",
              " 1,\n",
              " 1,\n",
              " 6,\n",
              " 3,\n",
              " 2,\n",
              " 2,\n",
              " 2,\n",
              " 6,\n",
              " 1,\n",
              " 6,\n",
              " 6,\n",
              " 5,\n",
              " 1,\n",
              " 5,\n",
              " 4,\n",
              " 1,\n",
              " 1,\n",
              " 1,\n",
              " 2,\n",
              " 2,\n",
              " 5,\n",
              " 5,\n",
              " 1,\n",
              " 5,\n",
              " 2,\n",
              " 6,\n",
              " 6,\n",
              " 6,\n",
              " 5,\n",
              " 4,\n",
              " 2,\n",
              " 4,\n",
              " 5,\n",
              " 3,\n",
              " 1,\n",
              " 2,\n",
              " 6,\n",
              " 4,\n",
              " 3,\n",
              " 3,\n",
              " 2,\n",
              " 2,\n",
              " 3,\n",
              " 1,\n",
              " 1,\n",
              " 4,\n",
              " 1,\n",
              " 3,\n",
              " 3,\n",
              " 5,\n",
              " 3,\n",
              " 1,\n",
              " 6,\n",
              " 4,\n",
              " 5,\n",
              " 1,\n",
              " 4,\n",
              " 1,\n",
              " 5,\n",
              " 3,\n",
              " 6,\n",
              " 5,\n",
              " 3,\n",
              " 5,\n",
              " 2,\n",
              " 6,\n",
              " 1,\n",
              " 1,\n",
              " 6,\n",
              " 2,\n",
              " 3,\n",
              " 1,\n",
              " 2,\n",
              " 1,\n",
              " 4,\n",
              " 3,\n",
              " 4,\n",
              " 6,\n",
              " 3,\n",
              " 2,\n",
              " 3,\n",
              " 3,\n",
              " 2,\n",
              " 6,\n",
              " 3,\n",
              " 6,\n",
              " 6,\n",
              " 6,\n",
              " 1,\n",
              " 5,\n",
              " 6,\n",
              " 2,\n",
              " 5,\n",
              " 6,\n",
              " 2,\n",
              " 2,\n",
              " 4,\n",
              " 4,\n",
              " 3]"
            ]
          },
          "execution_count": 88,
          "metadata": {},
          "output_type": "execute_result"
        }
      ],
      "source": [
        "# generate 100 random dice throws and save in myrandoms\n",
        "random.seed(42)\n",
        "# myrandoms = []\n",
        "# for _ in range(100):\n",
        "#     myrandoms.append(random.randint(1,6))\n",
        "# list comprehension same as above\n",
        "myrandoms = [random.randint(1,6) for _ in range(100)]\n",
        "myrandoms"
      ]
    },
    {
      "cell_type": "code",
      "execution_count": null,
      "metadata": {
        "id": "Rfwa704z0L3r",
        "outputId": "d26cf193-876a-446b-fa43-b055d3b32c36"
      },
      "outputs": [
        {
          "data": {
            "text/plain": [
              "{6: 20, 1: 20, 3: 17, 2: 18, 5: 14, 4: 11}"
            ]
          },
          "execution_count": 89,
          "metadata": {},
          "output_type": "execute_result"
        }
      ],
      "source": [
        "mycounter = {}\n",
        "# count how many time each digit appears in myrandoms\n",
        "# loop through all myrandoms and count\n",
        "for num in myrandoms:\n",
        "    # print(num)\n",
        "    # check key for existance\n",
        "    if num in mycounter:\n",
        "        mycounter[num] += 1 # mycounter[num] = mycounter[num]+1\n",
        "    else: \n",
        "        mycounter[num] = 1\n",
        "mycounter"
      ]
    },
    {
      "cell_type": "code",
      "execution_count": null,
      "metadata": {
        "id": "l_ebrrtL0L3s"
      },
      "outputs": [],
      "source": [
        "from collections import Counter"
      ]
    },
    {
      "cell_type": "code",
      "execution_count": null,
      "metadata": {
        "id": "m2G5mIhh0L3s",
        "outputId": "86658930-dc1b-44ba-f21e-75fb107c0936"
      },
      "outputs": [
        {
          "data": {
            "text/plain": [
              "Counter({6: 20, 1: 20, 3: 17, 2: 18, 5: 14, 4: 11})"
            ]
          },
          "execution_count": 91,
          "metadata": {},
          "output_type": "execute_result"
        }
      ],
      "source": [
        "# https://docs.python.org/3/library/collections.html#collections.Counter\n",
        "pycounter = Counter(myrandoms)\n",
        "pycounter"
      ]
    },
    {
      "cell_type": "code",
      "execution_count": null,
      "metadata": {
        "id": "RBiv_arP0L3s",
        "outputId": "54d86e8e-4bfa-41ab-a0e3-f6f567ae8192"
      },
      "outputs": [
        {
          "data": {
            "text/plain": [
              "collections.Counter"
            ]
          },
          "execution_count": 92,
          "metadata": {},
          "output_type": "execute_result"
        }
      ],
      "source": [
        "type(pycounter) # like a dictionary but with some extra benefits"
      ]
    },
    {
      "cell_type": "code",
      "execution_count": null,
      "metadata": {
        "id": "2sYhN6C70L3s",
        "outputId": "ee1ca3d2-0ce1-4168-e17e-6e4000c3de34"
      },
      "outputs": [
        {
          "data": {
            "text/plain": [
              "[(6, 20), (1, 20), (2, 18)]"
            ]
          },
          "execution_count": 93,
          "metadata": {},
          "output_type": "execute_result"
        }
      ],
      "source": [
        "pycounter.most_common(3)"
      ]
    },
    {
      "cell_type": "code",
      "execution_count": null,
      "metadata": {
        "id": "uDWnmElx0L3s",
        "outputId": "f92c468d-1197-4b4d-b383-5c093f0306c6"
      },
      "outputs": [
        {
          "data": {
            "text/plain": [
              "{6: 20, 1: 20, 3: 17, 2: 18, 5: 14, 4: 11}"
            ]
          },
          "execution_count": 94,
          "metadata": {},
          "output_type": "execute_result"
        }
      ],
      "source": [
        "dict(pycounter) # so you can remove the extra benefits"
      ]
    },
    {
      "cell_type": "code",
      "execution_count": null,
      "metadata": {
        "id": "nvA2LPgK0L3s"
      },
      "outputs": [],
      "source": [
        "dicounter = dict(pycounter)\n",
        "dicounter"
      ]
    },
    {
      "cell_type": "code",
      "execution_count": null,
      "metadata": {
        "id": "Yruod0-U0L3s"
      },
      "outputs": [],
      "source": [
        "type(mycounter)"
      ]
    },
    {
      "cell_type": "code",
      "execution_count": null,
      "metadata": {
        "id": "F44CW-aF0L3s"
      },
      "outputs": [],
      "source": [
        "# idiom for looping through dictionary each key - value pair\n",
        "for key, value in mycounter.items():\n",
        "    print(\"key\", key, \"value\", value)"
      ]
    },
    {
      "cell_type": "code",
      "execution_count": null,
      "metadata": {
        "id": "An35Soke0L3s",
        "outputId": "3692af2a-090f-49af-a16f-b53817e933c3"
      },
      "outputs": [
        {
          "name": "stdout",
          "output_type": "stream",
          "text": [
            "Working with x 1\n",
            "1 squared\n",
            "Working with x 2\n",
            "2 squared\n",
            "Working with x 3\n",
            "3 squared\n",
            "Working with x 4\n",
            "4 squared\n",
            "Working with x 5\n",
            "5 squared\n",
            "Working with x 6\n",
            "6 squared\n",
            "Working with x 7\n",
            "7 squared\n",
            "Working with x 8\n",
            "8 squared\n",
            "Working with x 9\n",
            "9 squared\n",
            "Working with x 10\n",
            "10 squared\n"
          ]
        },
        {
          "data": {
            "text/plain": [
              "{'1 squared': 1,\n",
              " '2 squared': 4,\n",
              " '3 squared': 9,\n",
              " '4 squared': 16,\n",
              " '5 squared': 25,\n",
              " '6 squared': 36,\n",
              " '7 squared': 49,\n",
              " '8 squared': 64,\n",
              " '9 squared': 81,\n",
              " '10 squared': 100}"
            ]
          },
          "execution_count": 95,
          "metadata": {},
          "output_type": "execute_result"
        }
      ],
      "source": [
        "# squaredict = {\"1 squared\":1, \"2 squared\":4} # lidz 10\n",
        "squaredict = {}\n",
        "for x in range(1,11):\n",
        "    print(\"Working with x\",x)\n",
        "#     print(\"My key should look like:\") \n",
        "    print(f\"{x} squared\")\n",
        "    squaredict[f\"{x} squared\"] = x**2\n",
        "squaredict"
      ]
    },
    {
      "cell_type": "code",
      "execution_count": null,
      "metadata": {
        "id": "wvkWCP9y0L3t",
        "outputId": "62d16948-4339-4a3d-8b1e-f0e5ff1cf6f9"
      },
      "outputs": [
        {
          "data": {
            "text/plain": [
              "{'1 squared': 1,\n",
              " '2 squared': 4,\n",
              " '3 squared': 9,\n",
              " '4 squared': 16,\n",
              " '5 squared': 25,\n",
              " '6 squared': 36,\n",
              " '7 squared': 49,\n",
              " '8 squared': 64,\n",
              " '9 squared': 81,\n",
              " '10 squared': 100}"
            ]
          },
          "execution_count": 96,
          "metadata": {},
          "output_type": "execute_result"
        }
      ],
      "source": [
        "squares = {f\"{x} squared\":x**2 for x in range(1,11)} # dictionary comprehension\n",
        "squares"
      ]
    },
    {
      "cell_type": "code",
      "execution_count": null,
      "metadata": {
        "id": "A-_85TUm0L3t",
        "outputId": "b7820406-8de9-4bc1-ef15-4435ee668340"
      },
      "outputs": [
        {
          "data": {
            "text/plain": [
              "{1: 1, 2: 4, 3: 9, 4: 16, 5: 25}"
            ]
          },
          "execution_count": 97,
          "metadata": {},
          "output_type": "execute_result"
        }
      ],
      "source": [
        "squaredict = {x:x**2 for x in range(1,6)}\n",
        "squaredict"
      ]
    },
    {
      "cell_type": "code",
      "execution_count": null,
      "metadata": {
        "id": "ZLBGXfT30L3t",
        "outputId": "997428de-f6c7-441c-fda5-74844c1b33c8"
      },
      "outputs": [
        {
          "data": {
            "text/plain": [
              "[1, 4, 9, 16, 25]"
            ]
          },
          "execution_count": 98,
          "metadata": {},
          "output_type": "execute_result"
        }
      ],
      "source": [
        "squarelist = [x**2 for x in range(1,6)] #list comprehension x is a name we came up with\n",
        "squarelist"
      ]
    },
    {
      "cell_type": "code",
      "execution_count": null,
      "metadata": {
        "id": "7mfweZEL0L3t",
        "outputId": "ce951441-44cd-46d0-c7c1-f07077b05b1a"
      },
      "outputs": [
        {
          "data": {
            "text/plain": [
              "{'Letter 1 is': 'k',\n",
              " 'Letter 2 is': 'a',\n",
              " 'Letter 3 is': 'r',\n",
              " 'Letter 4 is': 't',\n",
              " 'Letter 5 is': 'u',\n",
              " 'Letter 6 is': 'p',\n",
              " 'Letter 7 is': 'e',\n",
              " 'Letter 8 is': 'l',\n",
              " 'Letter 9 is': 'i',\n",
              " 'Letter 10 is': 's'}"
            ]
          },
          "execution_count": 99,
          "metadata": {},
          "output_type": "execute_result"
        }
      ],
      "source": [
        "# so we can create a dictionary from our string by enumerating it and using index as key\n",
        "kdict = {f\"Letter {i} is\":c for i,c in enumerate(list(\"kartupelis\"), start=1)}\n",
        "kdict"
      ]
    },
    {
      "cell_type": "code",
      "execution_count": null,
      "metadata": {
        "id": "MEGgTryI0L3t",
        "outputId": "03d3c8b8-09cd-4ff0-a65b-05938a7bd5d1"
      },
      "outputs": [
        {
          "data": {
            "text/plain": [
              "'k'"
            ]
          },
          "execution_count": 100,
          "metadata": {},
          "output_type": "execute_result"
        }
      ],
      "source": [
        "kdict['Letter 1 is']"
      ]
    },
    {
      "cell_type": "code",
      "execution_count": null,
      "metadata": {
        "id": "0-OxxG6P0L3t",
        "outputId": "0517d34b-7009-4183-be20-455edb1a254e"
      },
      "outputs": [
        {
          "data": {
            "text/plain": [
              "{'101': 'k',\n",
              " '102': 'a',\n",
              " '103': 'r',\n",
              " '104': 't',\n",
              " '105': 'u',\n",
              " '106': 'p',\n",
              " '107': 'e',\n",
              " '108': 'l',\n",
              " '109': 'i',\n",
              " '110': 's'}"
            ]
          },
          "execution_count": 101,
          "metadata": {},
          "output_type": "execute_result"
        }
      ],
      "source": [
        "ldict = {f\"{i}\" : c for i,c in enumerate(list(\"kartupelis\"), start = 101)}\n",
        "ldict"
      ]
    },
    {
      "cell_type": "code",
      "execution_count": null,
      "metadata": {
        "id": "YNhrh_Uw0L3t",
        "outputId": "434b38ed-68fb-4a35-e89e-a28ff3ae03cc"
      },
      "outputs": [
        {
          "data": {
            "text/plain": [
              "{'k': 107,\n",
              " 'a': 97,\n",
              " 'r': 114,\n",
              " 't': 116,\n",
              " 'u': 117,\n",
              " 'p': 112,\n",
              " 'e': 101,\n",
              " 'l': 108,\n",
              " 'i': 105,\n",
              " 's': 115}"
            ]
          },
          "execution_count": 103,
          "metadata": {},
          "output_type": "execute_result"
        }
      ],
      "source": [
        "word = \"kartupelis\"\n",
        "char_codes = {c:ord(c) for c in word}\n",
        "char_codes"
      ]
    },
    {
      "cell_type": "code",
      "execution_count": null,
      "metadata": {
        "id": "QTCwTY9f0L3u",
        "outputId": "6c6e9097-ebe2-4219-efcc-639635e9c2c3"
      },
      "outputs": [
        {
          "data": {
            "text/plain": [
              "{'jack': 9000,\n",
              " 'guido': 4127,\n",
              " 'irv': [333, 333, 13214141],\n",
              " 'police': 911,\n",
              " 'rtu': 7777,\n",
              " 'valdis': 1800,\n",
              " 'peteris': 900,\n",
              " 'liga': 911}"
            ]
          },
          "execution_count": 104,
          "metadata": {},
          "output_type": "execute_result"
        }
      ],
      "source": [
        "tel"
      ]
    },
    {
      "cell_type": "code",
      "execution_count": null,
      "metadata": {
        "id": "h90ajMiO0L3u",
        "outputId": "c9612b4b-5003-4a5d-fadb-08665d129f64"
      },
      "outputs": [
        {
          "data": {
            "text/plain": [
              "{'jack': 9000,\n",
              " 'guido': 4127,\n",
              " 'irv': [333, 333, 13214141],\n",
              " 'rtu': 7777,\n",
              " 'valdis': 1800,\n",
              " 'peteris': 900}"
            ]
          },
          "execution_count": 106,
          "metadata": {},
          "output_type": "execute_result"
        }
      ],
      "source": [
        "# One last imporant thing, when looping through dictionary we must NOT modify the key size\n",
        "# we can modify values but we must NOT add or delete keys to what we loop through\n",
        "value_to_delete = 911\n",
        "for k,v in tel.copy().items(): # you need a create a copy for iterating\n",
        "    if v == value_to_delete:\n",
        "        del tel[k]\n",
        "tel"
      ]
    },
    {
      "cell_type": "code",
      "execution_count": null,
      "metadata": {
        "id": "8Nn7PBk90L3u",
        "outputId": "49f80dce-b8b6-4487-94d9-79544a9452f8"
      },
      "outputs": [
        {
          "data": {
            "text/plain": [
              "{'jack': 9000,\n",
              " 'guido': 4127,\n",
              " 'irv': [333, 333, 13214141],\n",
              " 'rtu': 7777,\n",
              " 'valdis': 1800,\n",
              " 'peteris': 900,\n",
              " 'police': 911,\n",
              " 'liga': 911}"
            ]
          },
          "execution_count": 110,
          "metadata": {},
          "output_type": "execute_result"
        }
      ],
      "source": [
        "tel.update({'police':911, 'liga':911})\n",
        "tel"
      ]
    },
    {
      "cell_type": "code",
      "execution_count": null,
      "metadata": {
        "id": "2BViKDkP0L3u",
        "outputId": "52876dd5-095b-4b4a-88a2-691be36539b0"
      },
      "outputs": [
        {
          "data": {
            "text/plain": [
              "{'jack': 9000,\n",
              " 'guido': 4127,\n",
              " 'irv': [333, 333, 13214141],\n",
              " 'rtu': 7777,\n",
              " 'valdis': 1800,\n",
              " 'peteris': 900}"
            ]
          },
          "execution_count": 109,
          "metadata": {},
          "output_type": "execute_result"
        }
      ],
      "source": [
        "# Using list comprehension to create a new dictionary and overwite old one is fine too\n",
        "value_to_delete = 911\n",
        "tel = {k:v for k,v in tel.items() if v != value_to_delete}\n",
        "tel"
      ]
    },
    {
      "cell_type": "code",
      "execution_count": null,
      "metadata": {
        "id": "s1zuGBUY0L3u"
      },
      "outputs": [],
      "source": []
    }
  ],
  "metadata": {
    "kernelspec": {
      "display_name": "Python 3",
      "language": "python",
      "name": "python3"
    },
    "language_info": {
      "codemirror_mode": {
        "name": "ipython",
        "version": 3
      },
      "file_extension": ".py",
      "mimetype": "text/x-python",
      "name": "python",
      "nbconvert_exporter": "python",
      "pygments_lexer": "ipython3",
      "version": "3.8.3"
    },
    "colab": {
      "provenance": []
    }
  },
  "nbformat": 4,
  "nbformat_minor": 0
}