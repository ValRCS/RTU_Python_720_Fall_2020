{
  "cells": [
    {
      "cell_type": "markdown",
      "metadata": {
        "id": "Ahe3aKWAa2P1"
      },
      "source": [
        "#   Strings \n"
      ]
    },
    {
      "cell_type": "code",
      "execution_count": 1,
      "metadata": {
        "colab": {
          "base_uri": "https://localhost:8080/"
        },
        "id": "eUPkjItYa2P7",
        "outputId": "d9ab71f3-787b-452b-c682-036532c33b67"
      },
      "outputs": [
        {
          "output_type": "execute_result",
          "data": {
            "text/plain": [
              "str"
            ]
          },
          "metadata": {},
          "execution_count": 1
        }
      ],
      "source": [
        "mystring = \"Hello\" # so a sequence of characters\n",
        "type(mystring)"
      ]
    },
    {
      "cell_type": "code",
      "execution_count": 2,
      "metadata": {
        "colab": {
          "base_uri": "https://localhost:8080/",
          "height": 35
        },
        "id": "oAcU-L9ja2P9",
        "outputId": "f1929c83-6e31-41f3-8d32-46f8d7c60fcf"
      },
      "outputs": [
        {
          "output_type": "execute_result",
          "data": {
            "application/vnd.google.colaboratory.intrinsic+json": {
              "type": "string"
            },
            "text/plain": [
              "'Hello'"
            ]
          },
          "metadata": {},
          "execution_count": 2
        }
      ],
      "source": [
        "mystring"
      ]
    },
    {
      "cell_type": "code",
      "execution_count": 3,
      "metadata": {
        "colab": {
          "base_uri": "https://localhost:8080/"
        },
        "id": "DTJUYYZja2P-",
        "outputId": "2d29660a-5a21-4474-84ae-fa8cf2f058fb"
      },
      "outputs": [
        {
          "output_type": "stream",
          "name": "stdout",
          "text": [
            "Hello\n"
          ]
        }
      ],
      "source": [
        "print(mystring)"
      ]
    },
    {
      "cell_type": "code",
      "execution_count": 4,
      "metadata": {
        "colab": {
          "base_uri": "https://localhost:8080/"
        },
        "id": "BO2dqO5qa2P_",
        "outputId": "46144d42-0a24-4705-8d64-e7adaed3c64b"
      },
      "outputs": [
        {
          "output_type": "stream",
          "name": "stdout",
          "text": [
            "Jānis Ņauva\n"
          ]
        }
      ],
      "source": [
        "# built in Unicode Support\n",
        "myfriend = \"Jānis\"\n",
        "mycat = \"Ņauva\"\n",
        "print(myfriend,mycat)"
      ]
    },
    {
      "cell_type": "code",
      "source": [
        "my_emoji_string = \"Just some emojis: 😀 😁 🤣\"\n",
        "print(my_emoji_string)"
      ],
      "metadata": {
        "colab": {
          "base_uri": "https://localhost:8080/"
        },
        "id": "CN-KQX2DbRNh",
        "outputId": "e1ee213f-7392-4fcc-c2ec-57f3f083c2ea"
      },
      "execution_count": 5,
      "outputs": [
        {
          "output_type": "stream",
          "name": "stdout",
          "text": [
            "Just some emojis: 😀 😁 🤣\n"
          ]
        }
      ]
    },
    {
      "cell_type": "markdown",
      "metadata": {
        "id": "xUhd-SvBa2QA"
      },
      "source": [
        "## Strings\n",
        "* immutable\n",
        "* Unicode support\n",
        "\n",
        "\n",
        "* implement all common sequence operators\n",
        "https://docs.python.org/3/library/stdtypes.html#typesseq-common\n",
        "\n",
        "* string specific methods\n",
        "https://docs.python.org/3/library/stdtypes.html#string-methods"
      ]
    },
    {
      "cell_type": "code",
      "execution_count": 6,
      "metadata": {
        "scrolled": true,
        "colab": {
          "base_uri": "https://localhost:8080/"
        },
        "id": "29JKYEATa2QA",
        "outputId": "763efd3f-aa8c-4d56-f26e-70e2130b85be"
      },
      "outputs": [
        {
          "output_type": "stream",
          "name": "stdout",
          "text": [
            "Valdis\n"
          ]
        }
      ],
      "source": [
        "name = \"Valdis\"\n",
        "print(name)"
      ]
    },
    {
      "cell_type": "code",
      "execution_count": 7,
      "metadata": {
        "colab": {
          "base_uri": "https://localhost:8080/"
        },
        "id": "r-NkaR-za2QB",
        "outputId": "85d675fc-3c22-43cd-fc06-7f0cd7272a4c"
      },
      "outputs": [
        {
          "output_type": "execute_result",
          "data": {
            "text/plain": [
              "6"
            ]
          },
          "metadata": {},
          "execution_count": 7
        }
      ],
      "source": [
        "len(name)  # so length is determined by each unicode symbol, NOT the number of bytes needed to store string"
      ]
    },
    {
      "cell_type": "code",
      "source": [
        "len(my_emoji_string)"
      ],
      "metadata": {
        "colab": {
          "base_uri": "https://localhost:8080/"
        },
        "id": "Jw50xLClb2Qw",
        "outputId": "1211d825-fc54-49ff-bc49-f532c1c9e91f"
      },
      "execution_count": 8,
      "outputs": [
        {
          "output_type": "execute_result",
          "data": {
            "text/plain": [
              "23"
            ]
          },
          "metadata": {},
          "execution_count": 8
        }
      ]
    },
    {
      "cell_type": "code",
      "execution_count": 10,
      "metadata": {
        "id": "claDbVbsa2QC"
      },
      "outputs": [],
      "source": [
        "name = \"Voldemars\""
      ]
    },
    {
      "cell_type": "code",
      "execution_count": 11,
      "metadata": {
        "colab": {
          "base_uri": "https://localhost:8080/"
        },
        "id": "-UMPyzAYa2QD",
        "outputId": "5f6e84ba-612c-4945-bea5-50ffcfb7f911"
      },
      "outputs": [
        {
          "output_type": "execute_result",
          "data": {
            "text/plain": [
              "9"
            ]
          },
          "metadata": {},
          "execution_count": 11
        }
      ],
      "source": [
        "len(name)"
      ]
    },
    {
      "cell_type": "code",
      "execution_count": 12,
      "metadata": {
        "colab": {
          "base_uri": "https://localhost:8080/"
        },
        "id": "c1L9vKW5a2QE",
        "outputId": "734f79a6-2e51-4f4e-8530-735e59f136e6"
      },
      "outputs": [
        {
          "output_type": "execute_result",
          "data": {
            "text/plain": [
              "4"
            ]
          },
          "metadata": {},
          "execution_count": 12
        }
      ],
      "source": [
        "len(\"name\")  # this is a string literal not a variable!!"
      ]
    },
    {
      "cell_type": "code",
      "execution_count": 13,
      "metadata": {
        "colab": {
          "base_uri": "https://localhost:8080/"
        },
        "id": "0dQrOdT1a2QG",
        "outputId": "e4ba1b94-ed1e-4204-fcad-396b17b37ecf"
      },
      "outputs": [
        {
          "output_type": "execute_result",
          "data": {
            "text/plain": [
              "6"
            ]
          },
          "metadata": {},
          "execution_count": 13
        }
      ],
      "source": [
        "len(\"Valdis\")"
      ]
    },
    {
      "cell_type": "code",
      "execution_count": 15,
      "metadata": {
        "colab": {
          "base_uri": "https://localhost:8080/"
        },
        "id": "EHFQsm4Fa2QH",
        "outputId": "cc9731cb-3866-4365-e8fb-70216b889813"
      },
      "outputs": [
        {
          "output_type": "execute_result",
          "data": {
            "text/plain": [
              "('V', 'o', 'l', 'Voldemars')"
            ]
          },
          "metadata": {},
          "execution_count": 15
        }
      ],
      "source": [
        "# first character in your string\n",
        "name[0],name[1],name[2], name"
      ]
    },
    {
      "cell_type": "code",
      "execution_count": 16,
      "metadata": {
        "colab": {
          "base_uri": "https://localhost:8080/",
          "height": 35
        },
        "id": "xw22sdF2a2QI",
        "outputId": "5925093e-2c34-443c-9112-a2ee7e6fd764"
      },
      "outputs": [
        {
          "output_type": "execute_result",
          "data": {
            "application/vnd.google.colaboratory.intrinsic+json": {
              "type": "string"
            },
            "text/plain": [
              "'V'"
            ]
          },
          "metadata": {},
          "execution_count": 16
        }
      ],
      "source": [
        "\"Valdis\"[0]"
      ]
    },
    {
      "cell_type": "code",
      "execution_count": 17,
      "metadata": {
        "colab": {
          "base_uri": "https://localhost:8080/",
          "height": 35
        },
        "id": "vSMM5K6ca2QJ",
        "outputId": "00509a9b-170b-465c-d0e6-3931c761886a"
      },
      "outputs": [
        {
          "output_type": "execute_result",
          "data": {
            "application/vnd.google.colaboratory.intrinsic+json": {
              "type": "string"
            },
            "text/plain": [
              "'l'"
            ]
          },
          "metadata": {},
          "execution_count": 17
        }
      ],
      "source": [
        "name[2]"
      ]
    },
    {
      "cell_type": "code",
      "execution_count": 18,
      "metadata": {
        "colab": {
          "base_uri": "https://localhost:8080/",
          "height": 35
        },
        "id": "YXG0OTbYa2QJ",
        "outputId": "12062910-65fe-44e6-fc58-3e2cf3fac102"
      },
      "outputs": [
        {
          "output_type": "execute_result",
          "data": {
            "application/vnd.google.colaboratory.intrinsic+json": {
              "type": "string"
            },
            "text/plain": [
              "'m'"
            ]
          },
          "metadata": {},
          "execution_count": 18
        }
      ],
      "source": [
        "name[5]  # so this is the 6th character in the name"
      ]
    },
    {
      "cell_type": "code",
      "execution_count": 19,
      "metadata": {
        "id": "KzEKERcla2QK"
      },
      "outputs": [],
      "source": [
        "name = \"Valdis\""
      ]
    },
    {
      "cell_type": "code",
      "execution_count": 20,
      "metadata": {
        "colab": {
          "base_uri": "https://localhost:8080/"
        },
        "id": "EDKQ1qlaa2QL",
        "outputId": "ef5e3d22-2111-4ffb-cb41-f7241200dd25"
      },
      "outputs": [
        {
          "output_type": "execute_result",
          "data": {
            "text/plain": [
              "6"
            ]
          },
          "metadata": {},
          "execution_count": 20
        }
      ],
      "source": [
        "len(name)"
      ]
    },
    {
      "cell_type": "code",
      "execution_count": 21,
      "metadata": {
        "colab": {
          "base_uri": "https://localhost:8080/",
          "height": 35
        },
        "id": "D3No2tnVa2QL",
        "outputId": "e1b34bb1-0e53-44be-c724-826f6a622fe7"
      },
      "outputs": [
        {
          "output_type": "execute_result",
          "data": {
            "application/vnd.google.colaboratory.intrinsic+json": {
              "type": "string"
            },
            "text/plain": [
              "'s'"
            ]
          },
          "metadata": {},
          "execution_count": 21
        }
      ],
      "source": [
        "name[5] # so last character is at index len(name)-1, because we start counting at 0"
      ]
    },
    {
      "cell_type": "code",
      "execution_count": null,
      "metadata": {
        "id": "3dHNDbsMa2QL",
        "outputId": "b2a3969f-bd28-4bf2-debf-1d7e22514cbd"
      },
      "outputs": [
        {
          "data": {
            "text/plain": [
              "'s'"
            ]
          },
          "execution_count": 25,
          "metadata": {},
          "output_type": "execute_result"
        }
      ],
      "source": [
        "#not a good pattern! anti-pattern a bad code smell\n",
        "name[len(name)-1] # some languages would require this"
      ]
    },
    {
      "cell_type": "code",
      "execution_count": 22,
      "metadata": {
        "colab": {
          "base_uri": "https://localhost:8080/",
          "height": 35
        },
        "id": "0CaLlLXCa2QM",
        "outputId": "08233740-4aac-4483-f81b-7f46effaeb7f"
      },
      "outputs": [
        {
          "output_type": "execute_result",
          "data": {
            "application/vnd.google.colaboratory.intrinsic+json": {
              "type": "string"
            },
            "text/plain": [
              "'s'"
            ]
          },
          "metadata": {},
          "execution_count": 22
        }
      ],
      "source": [
        "name[-1] # in Python we have alternative (negative) index where the last character is -1"
      ]
    },
    {
      "cell_type": "code",
      "source": [
        "name[-5]"
      ],
      "metadata": {
        "colab": {
          "base_uri": "https://localhost:8080/",
          "height": 35
        },
        "id": "5JxTi18QczZ6",
        "outputId": "109563b0-1b05-48c1-aeea-01cdff532eaa"
      },
      "execution_count": 23,
      "outputs": [
        {
          "output_type": "execute_result",
          "data": {
            "application/vnd.google.colaboratory.intrinsic+json": {
              "type": "string"
            },
            "text/plain": [
              "'a'"
            ]
          },
          "metadata": {},
          "execution_count": 23
        }
      ]
    },
    {
      "cell_type": "code",
      "source": [
        "name[-6] # we could not start at 0 because 0 was taken by the main positive indexing"
      ],
      "metadata": {
        "colab": {
          "base_uri": "https://localhost:8080/",
          "height": 35
        },
        "id": "YHVFcfUUc2QA",
        "outputId": "24dd2d65-2eb2-4fbc-f02f-a13bbae03bb5"
      },
      "execution_count": 24,
      "outputs": [
        {
          "output_type": "execute_result",
          "data": {
            "application/vnd.google.colaboratory.intrinsic+json": {
              "type": "string"
            },
            "text/plain": [
              "'V'"
            ]
          },
          "metadata": {},
          "execution_count": 24
        }
      ]
    },
    {
      "cell_type": "code",
      "execution_count": 25,
      "metadata": {
        "colab": {
          "base_uri": "https://localhost:8080/"
        },
        "id": "Y4lDPiU9a2QM",
        "outputId": "8e39a40d-6dbc-4bf3-90dd-1deefe3fb5c5"
      },
      "outputs": [
        {
          "output_type": "execute_result",
          "data": {
            "text/plain": [
              "('i', 'i')"
            ]
          },
          "metadata": {},
          "execution_count": 25
        }
      ],
      "source": [
        "name[-2], name[4]"
      ]
    },
    {
      "cell_type": "code",
      "source": [
        "name[-3], name[3] # so 3rd character from the end, an 4th (3+1) from the beginning"
      ],
      "metadata": {
        "colab": {
          "base_uri": "https://localhost:8080/"
        },
        "id": "UkBTOOnkdAvt",
        "outputId": "a17afc6d-7822-442b-f39b-a671410fd849"
      },
      "execution_count": 26,
      "outputs": [
        {
          "output_type": "execute_result",
          "data": {
            "text/plain": [
              "('d', 'd')"
            ]
          },
          "metadata": {},
          "execution_count": 26
        }
      ]
    },
    {
      "cell_type": "code",
      "execution_count": null,
      "metadata": {
        "id": "S4DcGeJKa2QM",
        "outputId": "067377e7-d81c-449c-a209-2c15d1cbdff0"
      },
      "outputs": [
        {
          "data": {
            "text/plain": [
              "6"
            ]
          },
          "execution_count": 4,
          "metadata": {},
          "output_type": "execute_result"
        }
      ],
      "source": [
        "len(name)"
      ]
    },
    {
      "cell_type": "code",
      "execution_count": 27,
      "metadata": {
        "colab": {
          "base_uri": "https://localhost:8080/"
        },
        "id": "9R2io26-a2QN",
        "outputId": "b2da3a36-88a8-4353-dd21-40a451e61250"
      },
      "outputs": [
        {
          "output_type": "execute_result",
          "data": {
            "text/plain": [
              "('s', 's', 'i')"
            ]
          },
          "metadata": {},
          "execution_count": 27
        }
      ],
      "source": [
        "name[5],name[-1],name[-2]"
      ]
    },
    {
      "cell_type": "code",
      "execution_count": null,
      "metadata": {
        "id": "gjDxYqVUa2QN"
      },
      "outputs": [],
      "source": [
        "name[-1]"
      ]
    },
    {
      "cell_type": "code",
      "execution_count": null,
      "metadata": {
        "id": "N5vNCgbma2QN"
      },
      "outputs": [],
      "source": [
        "name[-2]"
      ]
    },
    {
      "cell_type": "code",
      "execution_count": 28,
      "metadata": {
        "colab": {
          "base_uri": "https://localhost:8080/",
          "height": 35
        },
        "id": "CKMjzolOa2QN",
        "outputId": "8b53a87e-c984-41e3-a34a-386f5fa795fe"
      },
      "outputs": [
        {
          "output_type": "execute_result",
          "data": {
            "application/vnd.google.colaboratory.intrinsic+json": {
              "type": "string"
            },
            "text/plain": [
              "'V'"
            ]
          },
          "metadata": {},
          "execution_count": 28
        }
      ],
      "source": [
        "name[-6]"
      ]
    },
    {
      "cell_type": "code",
      "execution_count": 29,
      "metadata": {
        "colab": {
          "base_uri": "https://localhost:8080/",
          "height": 167
        },
        "id": "Xx22PhHda2QO",
        "outputId": "7a4e97ca-418d-4783-c57e-51aac108dbec"
      },
      "outputs": [
        {
          "output_type": "error",
          "ename": "IndexError",
          "evalue": "ignored",
          "traceback": [
            "\u001b[0;31m---------------------------------------------------------------------------\u001b[0m",
            "\u001b[0;31mIndexError\u001b[0m                                Traceback (most recent call last)",
            "\u001b[0;32m<ipython-input-29-1ff7b59960ab>\u001b[0m in \u001b[0;36m<module>\u001b[0;34m()\u001b[0m\n\u001b[0;32m----> 1\u001b[0;31m \u001b[0mname\u001b[0m\u001b[0;34m[\u001b[0m\u001b[0;36m6\u001b[0m\u001b[0;34m]\u001b[0m\u001b[0;34m\u001b[0m\u001b[0;34m\u001b[0m\u001b[0m\n\u001b[0m",
            "\u001b[0;31mIndexError\u001b[0m: string index out of range"
          ]
        }
      ],
      "source": [
        "name[6]  # so we are asking for 7th character which does not exist in Valdis"
      ]
    },
    {
      "cell_type": "code",
      "execution_count": 30,
      "metadata": {
        "id": "yrdYbYyla2QO"
      },
      "outputs": [],
      "source": [
        "empty = \"\""
      ]
    },
    {
      "cell_type": "code",
      "execution_count": 31,
      "metadata": {
        "colab": {
          "base_uri": "https://localhost:8080/",
          "height": 167
        },
        "id": "VHfoOMw2a2QO",
        "outputId": "46106ad3-ad09-49bf-ac58-450b7a731652"
      },
      "outputs": [
        {
          "output_type": "error",
          "ename": "IndexError",
          "evalue": "ignored",
          "traceback": [
            "\u001b[0;31m---------------------------------------------------------------------------\u001b[0m",
            "\u001b[0;31mIndexError\u001b[0m                                Traceback (most recent call last)",
            "\u001b[0;32m<ipython-input-31-fb968e317f03>\u001b[0m in \u001b[0;36m<module>\u001b[0;34m()\u001b[0m\n\u001b[0;32m----> 1\u001b[0;31m \u001b[0mempty\u001b[0m\u001b[0;34m[\u001b[0m\u001b[0;36m0\u001b[0m\u001b[0;34m]\u001b[0m\u001b[0;34m\u001b[0m\u001b[0;34m\u001b[0m\u001b[0m\n\u001b[0m",
            "\u001b[0;31mIndexError\u001b[0m: string index out of range"
          ]
        }
      ],
      "source": [
        "empty[0]"
      ]
    },
    {
      "cell_type": "code",
      "source": [
        "name[-6]"
      ],
      "metadata": {
        "colab": {
          "base_uri": "https://localhost:8080/",
          "height": 35
        },
        "id": "OTgjX-FXdsmC",
        "outputId": "87c2b7d0-e5cb-4e17-a89d-5cfe5438dffd"
      },
      "execution_count": 33,
      "outputs": [
        {
          "output_type": "execute_result",
          "data": {
            "application/vnd.google.colaboratory.intrinsic+json": {
              "type": "string"
            },
            "text/plain": [
              "'V'"
            ]
          },
          "metadata": {},
          "execution_count": 33
        }
      ]
    },
    {
      "cell_type": "code",
      "source": [
        "name[-7]"
      ],
      "metadata": {
        "colab": {
          "base_uri": "https://localhost:8080/",
          "height": 167
        },
        "id": "DpUeENl4dx4-",
        "outputId": "0495a7b9-d2a9-47e7-acd1-877e95a8ab2b"
      },
      "execution_count": 34,
      "outputs": [
        {
          "output_type": "error",
          "ename": "IndexError",
          "evalue": "ignored",
          "traceback": [
            "\u001b[0;31m---------------------------------------------------------------------------\u001b[0m",
            "\u001b[0;31mIndexError\u001b[0m                                Traceback (most recent call last)",
            "\u001b[0;32m<ipython-input-34-8fcf919515da>\u001b[0m in \u001b[0;36m<module>\u001b[0;34m()\u001b[0m\n\u001b[0;32m----> 1\u001b[0;31m \u001b[0mname\u001b[0m\u001b[0;34m[\u001b[0m\u001b[0;34m-\u001b[0m\u001b[0;36m7\u001b[0m\u001b[0;34m]\u001b[0m\u001b[0;34m\u001b[0m\u001b[0;34m\u001b[0m\u001b[0m\n\u001b[0m",
            "\u001b[0;31mIndexError\u001b[0m: string index out of range"
          ]
        }
      ]
    },
    {
      "cell_type": "code",
      "execution_count": 35,
      "metadata": {
        "colab": {
          "base_uri": "https://localhost:8080/",
          "height": 35
        },
        "id": "mSqq_42Ga2QO",
        "outputId": "f5fe2f79-aa6f-40ca-85d5-ab00f500c522"
      },
      "outputs": [
        {
          "output_type": "execute_result",
          "data": {
            "application/vnd.google.colaboratory.intrinsic+json": {
              "type": "string"
            },
            "text/plain": [
              "'Val'"
            ]
          },
          "metadata": {},
          "execution_count": 35
        }
      ],
      "source": [
        "# Slicing syntax\n",
        "# Start at 0 an go until but not including 3\n",
        "# some languages would do with name.subslice(0,3)\n",
        "name[0:3]  # you read it as start at index 0 and go until but NOT including index 3 (which would have been the 4th character)"
      ]
    },
    {
      "cell_type": "code",
      "execution_count": 36,
      "metadata": {
        "colab": {
          "base_uri": "https://localhost:8080/",
          "height": 35
        },
        "id": "eMxm_vnda2QP",
        "outputId": "00b4bede-100f-49ef-95f7-3d5122250f2a"
      },
      "outputs": [
        {
          "output_type": "execute_result",
          "data": {
            "application/vnd.google.colaboratory.intrinsic+json": {
              "type": "string"
            },
            "text/plain": [
              "'Val'"
            ]
          },
          "metadata": {},
          "execution_count": 36
        }
      ],
      "source": [
        "# begginning 0 is not necessary\n",
        "name[:3]"
      ]
    },
    {
      "cell_type": "code",
      "execution_count": 37,
      "metadata": {
        "colab": {
          "base_uri": "https://localhost:8080/",
          "height": 35
        },
        "id": "cqGixGyRa2QP",
        "outputId": "adfe1af8-3de1-4837-f1e7-fd98ac280365"
      },
      "outputs": [
        {
          "output_type": "execute_result",
          "data": {
            "application/vnd.google.colaboratory.intrinsic+json": {
              "type": "string"
            },
            "text/plain": [
              "'Vald'"
            ]
          },
          "metadata": {},
          "execution_count": 37
        }
      ],
      "source": [
        "name[:4]"
      ]
    },
    {
      "cell_type": "code",
      "execution_count": 39,
      "metadata": {
        "colab": {
          "base_uri": "https://localhost:8080/",
          "height": 35
        },
        "id": "vzqmlg42a2QP",
        "outputId": "80dc682b-3e4a-465d-eee6-d05284dcc1e4"
      },
      "outputs": [
        {
          "output_type": "execute_result",
          "data": {
            "application/vnd.google.colaboratory.intrinsic+json": {
              "type": "string"
            },
            "text/plain": [
              "'al'"
            ]
          },
          "metadata": {},
          "execution_count": 39
        }
      ],
      "source": [
        "name[1:3] # so 2nd and 3rd(with index 2) but not the 4th(with index 3)"
      ]
    },
    {
      "cell_type": "code",
      "execution_count": 40,
      "metadata": {
        "colab": {
          "base_uri": "https://localhost:8080/",
          "height": 35
        },
        "id": "kOyFj7KPa2QP",
        "outputId": "750ba97d-dd58-4fd6-f830-a4540428781a"
      },
      "outputs": [
        {
          "output_type": "execute_result",
          "data": {
            "application/vnd.google.colaboratory.intrinsic+json": {
              "type": "string"
            },
            "text/plain": [
              "'ald'"
            ]
          },
          "metadata": {},
          "execution_count": 40
        }
      ],
      "source": [
        "name[1:4] # so 2nd(with index 1), 3rd, 4th, but not the 5th(with index 4)"
      ]
    },
    {
      "cell_type": "code",
      "execution_count": null,
      "metadata": {
        "id": "PJOpRRTya2QQ",
        "outputId": "c4f91548-9396-4a02-a18f-a5b4787efd8b"
      },
      "outputs": [
        {
          "data": {
            "text/plain": [
              "('d', 'di', 'dis')"
            ]
          },
          "execution_count": 44,
          "metadata": {},
          "output_type": "execute_result"
        }
      ],
      "source": [
        "name[-3], name[-3:-1], name[-3:]"
      ]
    },
    {
      "cell_type": "code",
      "source": [
        "import string\n",
        "alpha = string.ascii_lowercase\n",
        "alpha"
      ],
      "metadata": {
        "colab": {
          "base_uri": "https://localhost:8080/",
          "height": 35
        },
        "id": "Vx5qOWS1eZO0",
        "outputId": "15ba9f9a-c5d1-4b3d-d112-d3b4c573dff0"
      },
      "execution_count": 41,
      "outputs": [
        {
          "output_type": "execute_result",
          "data": {
            "application/vnd.google.colaboratory.intrinsic+json": {
              "type": "string"
            },
            "text/plain": [
              "'abcdefghijklmnopqrstuvwxyz'"
            ]
          },
          "metadata": {},
          "execution_count": 41
        }
      ]
    },
    {
      "cell_type": "code",
      "source": [
        "alpha[:5]"
      ],
      "metadata": {
        "colab": {
          "base_uri": "https://localhost:8080/",
          "height": 35
        },
        "id": "hCq0X9dQefAb",
        "outputId": "566d1f7f-913b-4886-fc6b-6ac76ab415f6"
      },
      "execution_count": 42,
      "outputs": [
        {
          "output_type": "execute_result",
          "data": {
            "application/vnd.google.colaboratory.intrinsic+json": {
              "type": "string"
            },
            "text/plain": [
              "'abcde'"
            ]
          },
          "metadata": {},
          "execution_count": 42
        }
      ]
    },
    {
      "cell_type": "code",
      "source": [
        "alpha[2:5]"
      ],
      "metadata": {
        "colab": {
          "base_uri": "https://localhost:8080/",
          "height": 35
        },
        "id": "oRI7DycoehV_",
        "outputId": "d34d74ee-3c2f-4827-f991-45917721c0d4"
      },
      "execution_count": 43,
      "outputs": [
        {
          "output_type": "execute_result",
          "data": {
            "application/vnd.google.colaboratory.intrinsic+json": {
              "type": "string"
            },
            "text/plain": [
              "'cde'"
            ]
          },
          "metadata": {},
          "execution_count": 43
        }
      ]
    },
    {
      "cell_type": "code",
      "source": [
        ""
      ],
      "metadata": {
        "id": "BLjgZLASepI0"
      },
      "execution_count": null,
      "outputs": []
    },
    {
      "cell_type": "code",
      "execution_count": null,
      "metadata": {
        "id": "sP92lsUoa2QQ"
      },
      "outputs": [],
      "source": [
        "# so we can use single index for single characters\n",
        "# [start:beg] for range of characters\n",
        "# [starg:beg:step] for jumping over characters"
      ]
    },
    {
      "cell_type": "code",
      "source": [
        "alpha[0:26] # so no need for 0 nor 26 :)"
      ],
      "metadata": {
        "colab": {
          "base_uri": "https://localhost:8080/",
          "height": 35
        },
        "id": "kwGV8ABjeqDS",
        "outputId": "6d29f327-d562-4cad-a336-59ee5144e739"
      },
      "execution_count": 44,
      "outputs": [
        {
          "output_type": "execute_result",
          "data": {
            "application/vnd.google.colaboratory.intrinsic+json": {
              "type": "string"
            },
            "text/plain": [
              "'abcdefghijklmnopqrstuvwxyz'"
            ]
          },
          "metadata": {},
          "execution_count": 44
        }
      ]
    },
    {
      "cell_type": "code",
      "source": [
        "alpha[0:26:2] # so every 2nd character"
      ],
      "metadata": {
        "colab": {
          "base_uri": "https://localhost:8080/",
          "height": 35
        },
        "id": "8nwDCHzSev7U",
        "outputId": "5637f5f7-8fea-439f-b462-6e50b6a5a00c"
      },
      "execution_count": 45,
      "outputs": [
        {
          "output_type": "execute_result",
          "data": {
            "application/vnd.google.colaboratory.intrinsic+json": {
              "type": "string"
            },
            "text/plain": [
              "'acegikmoqsuwy'"
            ]
          },
          "metadata": {},
          "execution_count": 45
        }
      ]
    },
    {
      "cell_type": "code",
      "source": [
        "# i can write this shorter\n",
        "alpha[::2] # means start at begginning, go until end and skip over every 2nd character"
      ],
      "metadata": {
        "colab": {
          "base_uri": "https://localhost:8080/",
          "height": 35
        },
        "id": "6sTlHc7ue2Bc",
        "outputId": "6060c5b5-b34e-4207-a6f0-8e2830adb924"
      },
      "execution_count": 46,
      "outputs": [
        {
          "output_type": "execute_result",
          "data": {
            "application/vnd.google.colaboratory.intrinsic+json": {
              "type": "string"
            },
            "text/plain": [
              "'acegikmoqsuwy'"
            ]
          },
          "metadata": {},
          "execution_count": 46
        }
      ]
    },
    {
      "cell_type": "code",
      "source": [
        "alpha[::] # start at beggin, go until end and step is 1, so useless for us here"
      ],
      "metadata": {
        "colab": {
          "base_uri": "https://localhost:8080/",
          "height": 35
        },
        "id": "-Hd0i4axfI0G",
        "outputId": "d07c4a7a-660a-4e7f-a7d4-d24ea366712f"
      },
      "execution_count": 47,
      "outputs": [
        {
          "output_type": "execute_result",
          "data": {
            "application/vnd.google.colaboratory.intrinsic+json": {
              "type": "string"
            },
            "text/plain": [
              "'abcdefghijklmnopqrstuvwxyz'"
            ]
          },
          "metadata": {},
          "execution_count": 47
        }
      ]
    },
    {
      "cell_type": "code",
      "source": [
        "name"
      ],
      "metadata": {
        "colab": {
          "base_uri": "https://localhost:8080/",
          "height": 35
        },
        "id": "2ceiWFVyfTae",
        "outputId": "b91ad621-8a5b-47d8-e6de-a5a826963cb2"
      },
      "execution_count": 49,
      "outputs": [
        {
          "output_type": "execute_result",
          "data": {
            "application/vnd.google.colaboratory.intrinsic+json": {
              "type": "string"
            },
            "text/plain": [
              "'Valdis'"
            ]
          },
          "metadata": {},
          "execution_count": 49
        }
      ]
    },
    {
      "cell_type": "code",
      "execution_count": 48,
      "metadata": {
        "colab": {
          "base_uri": "https://localhost:8080/"
        },
        "id": "hretdGDQa2QQ",
        "outputId": "81bc0bc6-887e-4a0a-a510-2c4aa4f8290b"
      },
      "outputs": [
        {
          "output_type": "execute_result",
          "data": {
            "text/plain": [
              "('Vli', 'Vli', 'Vli')"
            ]
          },
          "metadata": {},
          "execution_count": 48
        }
      ],
      "source": [
        "name[0:6:2], name[:6:2],name[::2]\n"
      ]
    },
    {
      "cell_type": "code",
      "execution_count": null,
      "metadata": {
        "id": "lWLCBAqva2QQ",
        "outputId": "75adf6f3-f23c-41ad-8ab5-b3cfcacea9ab"
      },
      "outputs": [
        {
          "data": {
            "text/plain": [
              "('Valdis', 'Valdis', 'Valdis')"
            ]
          },
          "execution_count": 27,
          "metadata": {},
          "output_type": "execute_result"
        }
      ],
      "source": [
        "name, name[0:6:1], name[::]\n"
      ]
    },
    {
      "cell_type": "code",
      "execution_count": 50,
      "metadata": {
        "colab": {
          "base_uri": "https://localhost:8080/",
          "height": 35
        },
        "id": "6GfapItJa2QS",
        "outputId": "c9299b1c-a5ea-44b6-80ad-f3a3fea83c37"
      },
      "outputs": [
        {
          "output_type": "execute_result",
          "data": {
            "application/vnd.google.colaboratory.intrinsic+json": {
              "type": "string"
            },
            "text/plain": [
              "'ptte'"
            ]
          },
          "metadata": {},
          "execution_count": 50
        }
      ],
      "source": [
        "food = \"potatoes\"\n",
        "food[::2]"
      ]
    },
    {
      "cell_type": "code",
      "source": [
        "food = \"mashed potatoes\"\n",
        "food"
      ],
      "metadata": {
        "colab": {
          "base_uri": "https://localhost:8080/",
          "height": 35
        },
        "id": "cJIYHtr8faHm",
        "outputId": "35b37975-05a3-4657-dcb1-598d9605d4d5"
      },
      "execution_count": 51,
      "outputs": [
        {
          "output_type": "execute_result",
          "data": {
            "application/vnd.google.colaboratory.intrinsic+json": {
              "type": "string"
            },
            "text/plain": [
              "'mashed potatoes'"
            ]
          },
          "metadata": {},
          "execution_count": 51
        }
      ]
    },
    {
      "cell_type": "code",
      "source": [
        "food[-8:], food[7:], food[7:13]"
      ],
      "metadata": {
        "colab": {
          "base_uri": "https://localhost:8080/"
        },
        "id": "KZcfg3qZfehd",
        "outputId": "4db8b27b-4200-4dcd-e3cf-ad5e941df302"
      },
      "execution_count": 55,
      "outputs": [
        {
          "output_type": "execute_result",
          "data": {
            "text/plain": [
              "('potatoes', 'potatoes', 'potato')"
            ]
          },
          "metadata": {},
          "execution_count": 55
        }
      ]
    },
    {
      "cell_type": "code",
      "source": [
        "food = \"mashed potatoes with pickled herring\"\n",
        "food"
      ],
      "metadata": {
        "colab": {
          "base_uri": "https://localhost:8080/",
          "height": 35
        },
        "id": "T27JAwTMfzSq",
        "outputId": "900073f0-6899-49db-a3ab-5b391cd20dff"
      },
      "execution_count": 56,
      "outputs": [
        {
          "output_type": "execute_result",
          "data": {
            "application/vnd.google.colaboratory.intrinsic+json": {
              "type": "string"
            },
            "text/plain": [
              "'mashed potatoes with pickled herring'"
            ]
          },
          "metadata": {},
          "execution_count": 56
        }
      ]
    },
    {
      "cell_type": "code",
      "source": [
        "food[-8:], food[7:], food[7:13]"
      ],
      "metadata": {
        "colab": {
          "base_uri": "https://localhost:8080/"
        },
        "id": "n5UWnS6af5Q5",
        "outputId": "6cc3c94e-6fb8-40ff-f30c-55038076fcc4"
      },
      "execution_count": 57,
      "outputs": [
        {
          "output_type": "execute_result",
          "data": {
            "text/plain": [
              "(' herring', 'potatoes with pickled herring', 'potato')"
            ]
          },
          "metadata": {},
          "execution_count": 57
        }
      ]
    },
    {
      "cell_type": "code",
      "execution_count": 58,
      "metadata": {
        "colab": {
          "base_uri": "https://localhost:8080/",
          "height": 35
        },
        "id": "kglmdSvXa2QT",
        "outputId": "168c86e8-075e-4398-a2d9-f83c8248c93a"
      },
      "outputs": [
        {
          "output_type": "execute_result",
          "data": {
            "application/vnd.google.colaboratory.intrinsic+json": {
              "type": "string"
            },
            "text/plain": [
              "'bdfhjlnprtvxz'"
            ]
          },
          "metadata": {},
          "execution_count": 58
        }
      ],
      "source": [
        "alpha[1::2] # so by default we go the end but we start at 2nd character"
      ]
    },
    {
      "cell_type": "code",
      "execution_count": null,
      "metadata": {
        "id": "WbhsXgj9a2QT",
        "outputId": "32691295-b254-4e9c-84ce-a1b1011923a3"
      },
      "outputs": [
        {
          "data": {
            "text/plain": [
              "'oao'"
            ]
          },
          "execution_count": 51,
          "metadata": {},
          "output_type": "execute_result"
        }
      ],
      "source": [
        "food[1:6:2]"
      ]
    },
    {
      "cell_type": "code",
      "execution_count": null,
      "metadata": {
        "id": "T3jEWLQWa2QT",
        "outputId": "647e924b-6ed8-48d7-ea9e-aa761f6634a5"
      },
      "outputs": [
        {
          "data": {
            "text/plain": [
              "'Valdis'"
            ]
          },
          "execution_count": 31,
          "metadata": {},
          "output_type": "execute_result"
        }
      ],
      "source": [
        "name[::1]"
      ]
    },
    {
      "cell_type": "code",
      "execution_count": null,
      "metadata": {
        "id": "ymB9yAqda2QT",
        "outputId": "225387e8-e214-4e26-ecfb-ede56483c50a"
      },
      "outputs": [
        {
          "data": {
            "text/plain": [
              "'ads'"
            ]
          },
          "execution_count": 32,
          "metadata": {},
          "output_type": "execute_result"
        }
      ],
      "source": [
        "name[1:6:2]"
      ]
    },
    {
      "cell_type": "code",
      "execution_count": null,
      "metadata": {
        "id": "Dhm4XQVza2QT",
        "outputId": "1c910736-61dd-47cb-a8b0-dab39c07ee71"
      },
      "outputs": [
        {
          "data": {
            "text/plain": [
              "'Valdi'"
            ]
          },
          "execution_count": 33,
          "metadata": {},
          "output_type": "execute_result"
        }
      ],
      "source": [
        "name[:5]"
      ]
    },
    {
      "cell_type": "code",
      "execution_count": null,
      "metadata": {
        "id": "4a3UZeCua2QU"
      },
      "outputs": [],
      "source": [
        "# Pythonic way of reersing a string"
      ]
    },
    {
      "cell_type": "code",
      "execution_count": 59,
      "metadata": {
        "colab": {
          "base_uri": "https://localhost:8080/",
          "height": 35
        },
        "id": "fceJnQTza2QU",
        "outputId": "f1c26b93-8090-4a8d-e47c-a8721f56fab7"
      },
      "outputs": [
        {
          "output_type": "execute_result",
          "data": {
            "application/vnd.google.colaboratory.intrinsic+json": {
              "type": "string"
            },
            "text/plain": [
              "'sidlaV'"
            ]
          },
          "metadata": {},
          "execution_count": 59
        }
      ],
      "source": [
        "name[::-1]  # so in effect we have a negative step"
      ]
    },
    {
      "cell_type": "code",
      "source": [
        "alpha[::-1]"
      ],
      "metadata": {
        "colab": {
          "base_uri": "https://localhost:8080/",
          "height": 35
        },
        "id": "mJXRIRofgZMG",
        "outputId": "4e15803c-18c0-44c5-80d5-c7e60ce3ced0"
      },
      "execution_count": 60,
      "outputs": [
        {
          "output_type": "execute_result",
          "data": {
            "application/vnd.google.colaboratory.intrinsic+json": {
              "type": "string"
            },
            "text/plain": [
              "'zyxwvutsrqponmlkjihgfedcba'"
            ]
          },
          "metadata": {},
          "execution_count": 60
        }
      ]
    },
    {
      "cell_type": "code",
      "execution_count": null,
      "metadata": {
        "id": "ptfENrV2a2QV",
        "outputId": "9b573121-b874-4ab2-f9a6-7794629de222"
      },
      "outputs": [
        {
          "data": {
            "text/plain": [
              "'seotatop'"
            ]
          },
          "execution_count": 53,
          "metadata": {},
          "output_type": "execute_result"
        }
      ],
      "source": [
        "food[::-1]"
      ]
    },
    {
      "cell_type": "markdown",
      "metadata": {
        "id": "QiXgi3UXa2QV"
      },
      "source": [
        "## String Exercise: \n",
        "* Assign your favorite food to variable of your choosing\n",
        "* Output 3rd letter of your favorite\n",
        "* Output first 2 letters of your favorite\n",
        "* Output last 3 letters of your favorite\n",
        "* Output reverse of your favorite\n",
        "* Output every 2nd character of your favorite in reverse\n"
      ]
    },
    {
      "cell_type": "code",
      "execution_count": 61,
      "metadata": {
        "colab": {
          "base_uri": "https://localhost:8080/",
          "height": 35
        },
        "id": "PBkp4hWxa2QV",
        "outputId": "8e1609df-fd81-4480-cdad-4b5f1a6bda68"
      },
      "outputs": [
        {
          "output_type": "execute_result",
          "data": {
            "application/vnd.google.colaboratory.intrinsic+json": {
              "type": "string"
            },
            "text/plain": [
              "'e'"
            ]
          },
          "metadata": {},
          "execution_count": 61
        }
      ],
      "source": [
        "myfood = \"ice cream\"\n",
        "myfood[2]  # so 3rd letter is with index 2"
      ]
    },
    {
      "cell_type": "code",
      "execution_count": 62,
      "metadata": {
        "colab": {
          "base_uri": "https://localhost:8080/"
        },
        "id": "ehrOjS0Pa2QW",
        "outputId": "7c891c4e-8458-4c8e-9eab-c5b28b517c41"
      },
      "outputs": [
        {
          "output_type": "execute_result",
          "data": {
            "text/plain": [
              "('ic', 'eam')"
            ]
          },
          "metadata": {},
          "execution_count": 62
        }
      ],
      "source": [
        "myfood[:2], myfood[-3:]"
      ]
    },
    {
      "cell_type": "code",
      "execution_count": null,
      "metadata": {
        "id": "0fz9FYMRa2QW",
        "outputId": "7de3016f-e7db-4bb1-d35a-1b0b78024e50"
      },
      "outputs": [
        {
          "data": {
            "text/plain": [
              "('maerc eci', 'mecei')"
            ]
          },
          "execution_count": 57,
          "metadata": {},
          "output_type": "execute_result"
        }
      ],
      "source": [
        "myfood[::-1],myfood[::-2]"
      ]
    },
    {
      "cell_type": "code",
      "execution_count": null,
      "metadata": {
        "id": "0FTtHH_Va2QW",
        "outputId": "565f2eea-ab04-467a-96f7-5c3f9e2774e7"
      },
      "outputs": [
        {
          "data": {
            "text/plain": [
              "'utrak'"
            ]
          },
          "execution_count": 37,
          "metadata": {},
          "output_type": "execute_result"
        }
      ],
      "source": [
        "food[4::-1]"
      ]
    },
    {
      "cell_type": "code",
      "execution_count": null,
      "metadata": {
        "id": "N7WlZS5Aa2QW",
        "outputId": "296d46dc-dd8d-417d-a517-24145e09fea8"
      },
      "outputs": [
        {
          "data": {
            "text/plain": [
              "'sid'"
            ]
          },
          "execution_count": 38,
          "metadata": {},
          "output_type": "execute_result"
        }
      ],
      "source": [
        "name[5:2:-1]"
      ]
    },
    {
      "cell_type": "code",
      "execution_count": null,
      "metadata": {
        "id": "kPrgQXDNa2QW"
      },
      "outputs": [],
      "source": [
        "# Remember stings are immutable, so how do we change them"
      ]
    },
    {
      "cell_type": "code",
      "source": [
        "name"
      ],
      "metadata": {
        "colab": {
          "base_uri": "https://localhost:8080/",
          "height": 35
        },
        "id": "wMiYijifhOKz",
        "outputId": "7c9232db-bf36-4b1a-a2df-f084120e6cf0"
      },
      "execution_count": 63,
      "outputs": [
        {
          "output_type": "execute_result",
          "data": {
            "application/vnd.google.colaboratory.intrinsic+json": {
              "type": "string"
            },
            "text/plain": [
              "'Valdis'"
            ]
          },
          "metadata": {},
          "execution_count": 63
        }
      ]
    },
    {
      "cell_type": "code",
      "execution_count": 64,
      "metadata": {
        "colab": {
          "base_uri": "https://localhost:8080/",
          "height": 167
        },
        "id": "2YLiiUQea2QX",
        "outputId": "8c214b17-144b-4aa3-ddac-364c85731578"
      },
      "outputs": [
        {
          "output_type": "error",
          "ename": "TypeError",
          "evalue": "ignored",
          "traceback": [
            "\u001b[0;31m---------------------------------------------------------------------------\u001b[0m",
            "\u001b[0;31mTypeError\u001b[0m                                 Traceback (most recent call last)",
            "\u001b[0;32m<ipython-input-64-37987be4c145>\u001b[0m in \u001b[0;36m<module>\u001b[0;34m()\u001b[0m\n\u001b[0;32m----> 1\u001b[0;31m \u001b[0mname\u001b[0m\u001b[0;34m[\u001b[0m\u001b[0;36m3\u001b[0m\u001b[0;34m]\u001b[0m\u001b[0;34m=\u001b[0m\u001b[0;34m'b'\u001b[0m\u001b[0;34m\u001b[0m\u001b[0;34m\u001b[0m\u001b[0m\n\u001b[0m",
            "\u001b[0;31mTypeError\u001b[0m: 'str' object does not support item assignment"
          ]
        }
      ],
      "source": [
        "name[3]='b'"
      ]
    },
    {
      "cell_type": "code",
      "execution_count": 66,
      "metadata": {
        "colab": {
          "base_uri": "https://localhost:8080/"
        },
        "id": "m7hzxsJPa2QX",
        "outputId": "22b932f8-ad9f-4148-b7ea-c7116e6a09b9"
      },
      "outputs": [
        {
          "output_type": "stream",
          "name": "stdout",
          "text": [
            "Valzis\n"
          ]
        }
      ],
      "source": [
        "#name[3]=\"b\" # Can we do this?\n",
        "newname=name[:3]+\"z\"+name[4:]  # so i took first 3characters from my name, then added a new charactare and then took 5th to the end characters\n",
        "print(newname)"
      ]
    },
    {
      "cell_type": "code",
      "source": [
        "another_name=name[:4]+\"z\"+name[4:]  # so i took first 3characters from my name, then added a new charactare and then took 5th to the end characters\n",
        "print(another_name)"
      ],
      "metadata": {
        "colab": {
          "base_uri": "https://localhost:8080/"
        },
        "id": "lmJpTPZQhdZO",
        "outputId": "948e938e-89b8-4400-e0ef-ff0b83d5a290"
      },
      "execution_count": 67,
      "outputs": [
        {
          "output_type": "stream",
          "name": "stdout",
          "text": [
            "Valdzis\n"
          ]
        }
      ]
    },
    {
      "cell_type": "code",
      "execution_count": 68,
      "metadata": {
        "colab": {
          "base_uri": "https://localhost:8080/"
        },
        "id": "geGHQXDsa2QX",
        "outputId": "674783d7-109b-4d58-dbea-47f1ab06d4ca"
      },
      "outputs": [
        {
          "output_type": "stream",
          "name": "stdout",
          "text": [
            "Valzdis\n"
          ]
        }
      ],
      "source": [
        "#name[3]=\"b\" # Can we do this?\n",
        "newname=name[:3]+\"z\"+name[3:]\n",
        "print(newname)"
      ]
    },
    {
      "cell_type": "code",
      "execution_count": 69,
      "metadata": {
        "colab": {
          "base_uri": "https://localhost:8080/",
          "height": 35
        },
        "id": "fTbcsr9Za2QX",
        "outputId": "70c88c58-5fd9-404d-d351-b95f0431b8ef"
      },
      "outputs": [
        {
          "output_type": "execute_result",
          "data": {
            "application/vnd.google.colaboratory.intrinsic+json": {
              "type": "string"
            },
            "text/plain": [
              "'kaķis Muris'"
            ]
          },
          "metadata": {},
          "execution_count": 69
        }
      ],
      "source": [
        "# so an answer is string concatenation with +\n",
        "mycat = \"kaķis\" + \" Muris\"\n",
        "mycat\n"
      ]
    },
    {
      "cell_type": "code",
      "execution_count": null,
      "metadata": {
        "id": "bzcjNRpsa2QY",
        "outputId": "e68c708d-da8e-4c94-bc40-392bda1cf8a7"
      },
      "outputs": [
        {
          "data": {
            "text/plain": [
              "11"
            ]
          },
          "execution_count": 63,
          "metadata": {},
          "output_type": "execute_result"
        }
      ],
      "source": [
        "len(mycat)"
      ]
    },
    {
      "cell_type": "code",
      "execution_count": null,
      "metadata": {
        "id": "EOv4Xu-Pa2QY",
        "outputId": "face5bd7-4f8d-4ec3-d786-bf1348be6910"
      },
      "outputs": [
        {
          "name": "stdout",
          "output_type": "stream",
          "text": [
            "Valdis\n",
            "2205798161008 2205798161008 2205798161008\n",
            "Valdis\n"
          ]
        }
      ],
      "source": [
        "n=name\n",
        "n2=name\n",
        "print(n2)\n",
        "print(id(n2),id(name), id(n))\n",
        "print(name[:])"
      ]
    },
    {
      "cell_type": "code",
      "execution_count": null,
      "metadata": {
        "id": "iOPgk34Ia2QY",
        "outputId": "7fa057ef-4f1e-4c85-fa30-3369e6560214"
      },
      "outputs": [
        {
          "data": {
            "text/plain": [
              "True"
            ]
          },
          "execution_count": 65,
          "metadata": {},
          "output_type": "execute_result"
        }
      ],
      "source": [
        "name == n2"
      ]
    },
    {
      "cell_type": "code",
      "execution_count": null,
      "metadata": {
        "id": "I1mb06_ka2QY",
        "outputId": "bcdb618f-e5e1-47ad-ba14-593cbba59f54"
      },
      "outputs": [
        {
          "data": {
            "text/plain": [
              "True"
            ]
          },
          "execution_count": 69,
          "metadata": {},
          "output_type": "execute_result"
        }
      ],
      "source": [
        "name == newname[:3] + 'd' + newname[4:]"
      ]
    },
    {
      "cell_type": "code",
      "execution_count": null,
      "metadata": {
        "id": "S7CRmbOga2QY",
        "outputId": "1fbd9fe1-3430-4f9e-9d93-6d6340543a04"
      },
      "outputs": [
        {
          "data": {
            "text/plain": [
              "'Valdis'"
            ]
          },
          "execution_count": 70,
          "metadata": {},
          "output_type": "execute_result"
        }
      ],
      "source": [
        "newname[:3] + 'd' + newname[4:]"
      ]
    },
    {
      "cell_type": "code",
      "execution_count": null,
      "metadata": {
        "id": "twv0gsCwa2QZ",
        "outputId": "6136b98c-2c87-4b8a-ba28-ebc4bc6a3d30"
      },
      "outputs": [
        {
          "name": "stdout",
          "output_type": "stream",
          "text": [
            "Valdis Valdis Voldemars\n"
          ]
        }
      ],
      "source": [
        "name = \"Voldemars\"\n",
        "print(n,n2,name)"
      ]
    },
    {
      "cell_type": "code",
      "execution_count": null,
      "metadata": {
        "id": "GzzoTr93a2QZ"
      },
      "outputs": [],
      "source": [
        "n2 = \"Something\""
      ]
    },
    {
      "cell_type": "code",
      "execution_count": null,
      "metadata": {
        "id": "PTYJDd01a2QZ"
      },
      "outputs": [],
      "source": [
        ""
      ]
    },
    {
      "cell_type": "code",
      "execution_count": null,
      "metadata": {
        "id": "NgkNFkGba2QZ",
        "outputId": "bd34240e-11e2-444a-f19e-385364625f4d"
      },
      "outputs": [
        {
          "name": "stdout",
          "output_type": "stream",
          "text": [
            "sramedloV\n"
          ]
        }
      ],
      "source": [
        "name=name[::-1]\n",
        "print(name)"
      ]
    },
    {
      "cell_type": "markdown",
      "source": [
        ""
      ],
      "metadata": {
        "id": "8peZXwKah6jY"
      }
    },
    {
      "cell_type": "code",
      "execution_count": 71,
      "metadata": {
        "colab": {
          "base_uri": "https://localhost:8080/"
        },
        "id": "AHMXn0n2a2QZ",
        "outputId": "052af533-c6c5-405f-e706-61ecba23236d"
      },
      "outputs": [
        {
          "output_type": "stream",
          "name": "stdout",
          "text": [
            "firstline\n",
            "secondline\n"
          ]
        }
      ],
      "source": [
        "newline_string =\"firstline\\nsecondline\"\n",
        "print(newline_string) # I have a string over two lines because I have a newline character \\n in the string"
      ]
    },
    {
      "cell_type": "code",
      "execution_count": null,
      "metadata": {
        "id": "E16VD_MMa2QZ",
        "outputId": "6089f605-6514-46a6-f539-38200720bc88"
      },
      "outputs": [
        {
          "data": {
            "text/plain": [
              "'firstline\\nsecondline'"
            ]
          },
          "execution_count": 73,
          "metadata": {},
          "output_type": "execute_result"
        }
      ],
      "source": [
        "newline_string"
      ]
    },
    {
      "cell_type": "code",
      "execution_count": null,
      "metadata": {
        "id": "ukoMqGoea2Qa"
      },
      "outputs": [],
      "source": [
        "# in Python single and double quotes work the same way, you just need a matching pair\n",
        "# you choose the one that you like or also when you need to insert the other quotes"
      ]
    },
    {
      "cell_type": "code",
      "execution_count": 72,
      "metadata": {
        "colab": {
          "base_uri": "https://localhost:8080/"
        },
        "id": "nGE7vlaYa2Qa",
        "outputId": "b56832f9-3fb7-472f-deac-dc9bbeb744e6"
      },
      "outputs": [
        {
          "output_type": "stream",
          "name": "stdout",
          "text": [
            "Alice told the rabbit 'go down the hole' and rabbit complied\n"
          ]
        }
      ],
      "source": [
        "quote = \"Alice told the rabbit 'go down the hole' and rabbit complied\"\n",
        "print(quote)"
      ]
    },
    {
      "cell_type": "code",
      "execution_count": 73,
      "metadata": {
        "colab": {
          "base_uri": "https://localhost:8080/"
        },
        "id": "LR-Gdykha2Qa",
        "outputId": "5c498cb5-bfc8-4567-b435-825e25d9ce34"
      },
      "outputs": [
        {
          "output_type": "stream",
          "name": "stdout",
          "text": [
            "Alice told the rabbit \"go down the hole\" and rabbit complied\n"
          ]
        }
      ],
      "source": [
        "quote = \"Alice told the rabbit \\\"go down the hole\\\" and rabbit complied\" # i could have use \\\" to insert double quotes\n",
        "print(quote)"
      ]
    },
    {
      "cell_type": "code",
      "execution_count": 74,
      "metadata": {
        "colab": {
          "base_uri": "https://localhost:8080/"
        },
        "id": "3qLFqTBLa2Qa",
        "outputId": "34d26fdb-c2ce-4cef-df49-d4ffad7208c5"
      },
      "outputs": [
        {
          "output_type": "stream",
          "name": "stdout",
          "text": [
            "Alice told the rabbit \"go down the hole\" and rabbit complied\n"
          ]
        }
      ],
      "source": [
        "quote = 'Alice told the rabbit \"go down the hole\" and rabbit complied'\n",
        "print(quote)"
      ]
    },
    {
      "cell_type": "code",
      "execution_count": 75,
      "metadata": {
        "scrolled": true,
        "colab": {
          "base_uri": "https://localhost:8080/"
        },
        "id": "dz7lxGKpa2Qa",
        "outputId": "356c530c-2de6-4967-bffc-70231871b6eb"
      },
      "outputs": [
        {
          "output_type": "stream",
          "name": "stdout",
          "text": [
            "Really\n",
            "Long\n",
            "And\n",
            "Boring\n",
            "    With Tabs and maybe 'quote something' and even use double quotes \"for talking\" and so on \"\"\"\n",
            "String\n"
          ]
        }
      ],
      "source": [
        "multi_string = \"\"\"Really\n",
        "Long\n",
        "And\n",
        "Boring\n",
        "    With Tabs and maybe 'quote something' and even use double quotes \"for talking\" and so on \\\"\\\"\\\"\n",
        "String\"\"\"\n",
        "print(multi_string) # so newlines are created just by pressing enter"
      ]
    },
    {
      "cell_type": "code",
      "source": [
        "multi_string"
      ],
      "metadata": {
        "colab": {
          "base_uri": "https://localhost:8080/",
          "height": 35
        },
        "id": "N0VMmjMMiknx",
        "outputId": "7e3e6259-a2a0-4cfb-dd5d-93468e96fbdc"
      },
      "execution_count": 76,
      "outputs": [
        {
          "output_type": "execute_result",
          "data": {
            "application/vnd.google.colaboratory.intrinsic+json": {
              "type": "string"
            },
            "text/plain": [
              "'Really\\nLong\\nAnd\\nBoring\\n    With Tabs and maybe \\'quote something\\' and even use double quotes \"for talking\" and so on \"\"\"\\nString'"
            ]
          },
          "metadata": {},
          "execution_count": 76
        }
      ]
    },
    {
      "cell_type": "code",
      "execution_count": null,
      "metadata": {
        "id": "R7Oj9UR6a2Qb",
        "outputId": "3985c80f-3b83-42ad-e85c-b7f61af15496"
      },
      "outputs": [
        {
          "data": {
            "text/plain": [
              "'Just a quote'"
            ]
          },
          "execution_count": 82,
          "metadata": {},
          "output_type": "execute_result"
        }
      ],
      "source": [
        "mytext = 'Just a quote'\n",
        "mytext"
      ]
    },
    {
      "cell_type": "code",
      "execution_count": null,
      "metadata": {
        "id": "bKxWDLbJa2Qb",
        "outputId": "1574ea9e-c144-44de-81fb-b971d2dd8104"
      },
      "outputs": [
        {
          "data": {
            "text/plain": [
              "'They said \"It was a long and stormy night\" ending the story'"
            ]
          },
          "execution_count": 83,
          "metadata": {},
          "output_type": "execute_result"
        }
      ],
      "source": [
        "myquote = 'They said \"It was a long and stormy night\" ending the story'\n",
        "myquote"
      ]
    },
    {
      "cell_type": "code",
      "execution_count": null,
      "metadata": {
        "id": "a3YVmhOra2Qb",
        "outputId": "75fd752a-f7f9-41bd-eaaa-b71c17ec378c"
      },
      "outputs": [
        {
          "data": {
            "text/plain": [
              "'Another quote\"Stormy night\" continuing the story'"
            ]
          },
          "execution_count": 84,
          "metadata": {},
          "output_type": "execute_result"
        }
      ],
      "source": [
        "myquote = \"Another quote\\\"Stormy night\\\" continuing the story\"\n",
        "myquote"
      ]
    },
    {
      "cell_type": "code",
      "source": [
        "my_back_slashes = \"Just some text with \\\\ some backslashes \\\\ \\\\ and so on\"\n",
        "print(my_back_slashes)"
      ],
      "metadata": {
        "colab": {
          "base_uri": "https://localhost:8080/"
        },
        "id": "9YiGB_fJjEcv",
        "outputId": "2cf5220b-b1b0-4cd0-af37-b4caeb3df78e"
      },
      "execution_count": 77,
      "outputs": [
        {
          "output_type": "stream",
          "name": "stdout",
          "text": [
            "Just some text with \\ some backslashes \\ \\ and so on\n"
          ]
        }
      ]
    },
    {
      "cell_type": "code",
      "execution_count": 78,
      "metadata": {
        "colab": {
          "base_uri": "https://localhost:8080/",
          "height": 167
        },
        "id": "xnShrUPHa2Qb",
        "outputId": "4d7fdadf-0a3b-4174-c53c-ec1dd1f12719"
      },
      "outputs": [
        {
          "output_type": "error",
          "ename": "TypeError",
          "evalue": "ignored",
          "traceback": [
            "\u001b[0;31m---------------------------------------------------------------------------\u001b[0m",
            "\u001b[0;31mTypeError\u001b[0m                                 Traceback (most recent call last)",
            "\u001b[0;32m<ipython-input-78-fc0af14c7fe6>\u001b[0m in \u001b[0;36m<module>\u001b[0;34m()\u001b[0m\n\u001b[0;32m----> 1\u001b[0;31m \u001b[0;34m\"Valdis\"\u001b[0m \u001b[0;34m+\u001b[0m \u001b[0;36m5\u001b[0m\u001b[0;34m\u001b[0m\u001b[0;34m\u001b[0m\u001b[0m\n\u001b[0m",
            "\u001b[0;31mTypeError\u001b[0m: can only concatenate str (not \"int\") to str"
          ]
        }
      ],
      "source": [
        "\"Valdis\" + 5"
      ]
    },
    {
      "cell_type": "code",
      "execution_count": null,
      "metadata": {
        "id": "P26fmF9qa2Qb"
      },
      "outputs": [],
      "source": [
        "# the answer is casting number to string beforehand"
      ]
    },
    {
      "cell_type": "code",
      "execution_count": 79,
      "metadata": {
        "colab": {
          "base_uri": "https://localhost:8080/"
        },
        "id": "ROtnG3S5a2Qb",
        "outputId": "dbf1008c-8eda-4645-b720-d767c98ff00d"
      },
      "outputs": [
        {
          "output_type": "execute_result",
          "data": {
            "text/plain": [
              "('Valdis 5', 'Valdis 5')"
            ]
          },
          "metadata": {},
          "execution_count": 79
        }
      ],
      "source": [
        "\"Valdis \" + str(5),\"Valdis \" + '5'"
      ]
    },
    {
      "cell_type": "code",
      "source": [
        "# better would be to use formatted strings\n",
        "new_string = f\"{name} {5}\" # notice the little f to the left\n",
        "print(new_string) # so 5 was automatically converted to string"
      ],
      "metadata": {
        "colab": {
          "base_uri": "https://localhost:8080/"
        },
        "id": "99wYtxLKjW4h",
        "outputId": "14fcc096-7ac6-4b20-d32c-97aa152cfeef"
      },
      "execution_count": 80,
      "outputs": [
        {
          "output_type": "stream",
          "name": "stdout",
          "text": [
            "Valdis 5\n"
          ]
        }
      ]
    },
    {
      "cell_type": "code",
      "execution_count": 81,
      "metadata": {
        "colab": {
          "base_uri": "https://localhost:8080/"
        },
        "id": "8kYycW_na2Qc",
        "outputId": "438617f1-157a-4a71-cf97-c536721df362"
      },
      "outputs": [
        {
          "output_type": "stream",
          "name": "stdout",
          "text": [
            "Talk 10\n"
          ]
        }
      ],
      "source": [
        "a=10\n",
        "t=\"Talk \"+str(a)\n",
        "print(t)"
      ]
    },
    {
      "cell_type": "code",
      "source": [
        "my_text = f\"{a}*{5}={a*5}\"  # so in f strings we can use {} to indicate variables and even expressions\n",
        "my_text"
      ],
      "metadata": {
        "colab": {
          "base_uri": "https://localhost:8080/",
          "height": 35
        },
        "id": "ZN-STe8gjn-e",
        "outputId": "bfd03e5b-c412-44ca-876d-3bf6c7d5b535"
      },
      "execution_count": 83,
      "outputs": [
        {
          "output_type": "execute_result",
          "data": {
            "application/vnd.google.colaboratory.intrinsic+json": {
              "type": "string"
            },
            "text/plain": [
              "'10*5=50'"
            ]
          },
          "metadata": {},
          "execution_count": 83
        }
      ]
    },
    {
      "cell_type": "code",
      "execution_count": null,
      "metadata": {
        "id": "MhVw1zrua2Qc",
        "outputId": "7f2193ef-88cd-4f56-a883-4a6da7eaddb7"
      },
      "outputs": [
        {
          "name": "stdout",
          "output_type": "stream",
          "text": [
            "Talk 10\n"
          ]
        }
      ],
      "source": [
        "t = \"Talk \"+\"10\"\n",
        "print(t)"
      ]
    },
    {
      "cell_type": "code",
      "execution_count": null,
      "metadata": {
        "id": "9vx5QzsEa2Qc",
        "outputId": "3cecf032-7ee9-4210-a64f-460343045d7b"
      },
      "outputs": [
        {
          "data": {
            "text/plain": [
              "'555'"
            ]
          },
          "execution_count": 93,
          "metadata": {},
          "output_type": "execute_result"
        }
      ],
      "source": [
        "str(555)"
      ]
    },
    {
      "cell_type": "code",
      "execution_count": null,
      "metadata": {
        "id": "5cXkVpbta2Qc",
        "outputId": "b2bb4a50-250c-4721-d3be-4fb34ab9b389"
      },
      "outputs": [
        {
          "data": {
            "text/plain": [
              "(2814172811480, 140711459395136)"
            ]
          },
          "execution_count": 58,
          "metadata": {},
          "output_type": "execute_result"
        }
      ],
      "source": [
        "id('25'),id(25)"
      ]
    },
    {
      "cell_type": "code",
      "execution_count": null,
      "metadata": {
        "id": "2B3Kt0xqa2Qc",
        "outputId": "754eaec3-fcc1-4308-eb72-42acbe006605"
      },
      "outputs": [
        {
          "data": {
            "text/plain": [
              "('2545', 70)"
            ]
          },
          "execution_count": 94,
          "metadata": {},
          "output_type": "execute_result"
        }
      ],
      "source": [
        "'25'+'45',25+45"
      ]
    },
    {
      "cell_type": "code",
      "execution_count": null,
      "metadata": {
        "id": "z98ZnU6ba2Qd",
        "outputId": "14997124-ae56-4eee-cc8f-86dc2cc48e2d"
      },
      "outputs": [
        {
          "data": {
            "text/plain": [
              "345"
            ]
          },
          "execution_count": 95,
          "metadata": {},
          "output_type": "execute_result"
        }
      ],
      "source": [
        "int('345')"
      ]
    },
    {
      "cell_type": "code",
      "execution_count": null,
      "metadata": {
        "id": "jawlU6lia2Qd",
        "outputId": "965b997e-c233-4d28-9939-5fdd221549ff"
      },
      "outputs": [
        {
          "data": {
            "text/plain": [
              "70"
            ]
          },
          "execution_count": 96,
          "metadata": {},
          "output_type": "execute_result"
        }
      ],
      "source": [
        "int(\"70\")"
      ]
    },
    {
      "cell_type": "code",
      "execution_count": null,
      "metadata": {
        "id": "A_TCyNmca2Qd",
        "outputId": "c8c0e449-87aa-4860-f8d7-71a5050edd38"
      },
      "outputs": [
        {
          "data": {
            "text/plain": [
              "70"
            ]
          },
          "execution_count": 97,
          "metadata": {},
          "output_type": "execute_result"
        }
      ],
      "source": [
        "int('70')"
      ]
    },
    {
      "cell_type": "code",
      "execution_count": null,
      "metadata": {
        "id": "K2slwnIOa2Qd"
      },
      "outputs": [],
      "source": [
        "?str"
      ]
    },
    {
      "cell_type": "code",
      "execution_count": 85,
      "metadata": {
        "colab": {
          "base_uri": "https://localhost:8080/",
          "height": 35
        },
        "id": "s2PSuMnaa2Qd",
        "outputId": "188ea03d-9251-4f9a-e504-a34b7ec58e1c"
      },
      "outputs": [
        {
          "output_type": "execute_result",
          "data": {
            "application/vnd.google.colaboratory.intrinsic+json": {
              "type": "string"
            },
            "text/plain": [
              "'Beer Beer Beer Beer Beer '"
            ]
          },
          "metadata": {},
          "execution_count": 85
        }
      ],
      "source": [
        "much_beer = \"Beer \"*5 # i can multiply strings this could come in handy in homework #1\n",
        "much_beer"
      ]
    },
    {
      "cell_type": "code",
      "source": [
        "beer_without_last_char = much_beer[:-1] # so I take everything but the last character\n",
        "beer_without_last_char"
      ],
      "metadata": {
        "colab": {
          "base_uri": "https://localhost:8080/",
          "height": 35
        },
        "id": "83q-6K_ZkDxc",
        "outputId": "b46ea57a-ba0e-4463-8cd6-e54bb7586395"
      },
      "execution_count": 86,
      "outputs": [
        {
          "output_type": "execute_result",
          "data": {
            "application/vnd.google.colaboratory.intrinsic+json": {
              "type": "string"
            },
            "text/plain": [
              "'Beer Beer Beer Beer Beer'"
            ]
          },
          "metadata": {},
          "execution_count": 86
        }
      ]
    },
    {
      "cell_type": "code",
      "execution_count": null,
      "metadata": {
        "id": "2d71BvVVa2Qd",
        "outputId": "8f64b3c1-be23-43fe-b470-43909728799c"
      },
      "outputs": [
        {
          "name": "stdout",
          "output_type": "stream",
          "text": [
            "Monty Python Spam Monty Python Spam Monty Python Spam Monty Python Spam Monty Python Spam \n"
          ]
        }
      ],
      "source": [
        "# Automatic string concatenation without +\n",
        "funny_string = ('Monty '\n",
        "'Python ' \n",
        "'Spam '*5)\n",
        "print(funny_string)\n",
        "# Notice that string multiplication happens after concatenation"
      ]
    },
    {
      "cell_type": "code",
      "execution_count": null,
      "metadata": {
        "id": "xsudJI1ma2Qe",
        "outputId": "e486d6d3-af1d-4f58-dcee-8b30756c0206"
      },
      "outputs": [
        {
          "name": "stdout",
          "output_type": "stream",
          "text": [
            "It's \ta \"wonderful\" \n",
            "life\n"
          ]
        }
      ],
      "source": [
        "print(\"It's \\ta \\\"wonderful\\\" \\nlife\")"
      ]
    },
    {
      "cell_type": "code",
      "execution_count": null,
      "metadata": {
        "id": "SEoXdILFa2Qe",
        "outputId": "9e416679-0c5c-4d67-9e36-508405ad933f"
      },
      "outputs": [
        {
          "name": "stdout",
          "output_type": "stream",
          "text": [
            "Really really long line   mVW\n"
          ]
        }
      ],
      "source": [
        "# How to print a line which does not fit in a single line\n",
        "print('Really really long line\\\n",
        "   mVW')"
      ]
    },
    {
      "cell_type": "code",
      "execution_count": null,
      "metadata": {
        "id": "lViMUt7Fa2Qe",
        "outputId": "d26098d8-6e64-472b-a7cc-a30f940747d5"
      },
      "outputs": [
        {
          "name": "stdout",
          "output_type": "stream",
          "text": [
            "Alice said \"hello\"\n"
          ]
        }
      ],
      "source": [
        "print('Alice said \"hello\"')"
      ]
    },
    {
      "cell_type": "markdown",
      "metadata": {
        "id": "27BTKoMRa2Qe"
      },
      "source": [
        "## Fstrings (new since Python 3.6)\n",
        "* faster way to format strings\n",
        "* can use variables in current scope\n",
        "* same idea as .format() but faster and easier to read"
      ]
    },
    {
      "cell_type": "code",
      "execution_count": 122,
      "metadata": {
        "colab": {
          "base_uri": "https://localhost:8080/",
          "height": 35
        },
        "id": "abMswqtza2Qe",
        "outputId": "19a67d5a-1003-441d-e50c-71edbeb0acbc"
      },
      "outputs": [
        {
          "output_type": "execute_result",
          "data": {
            "application/vnd.google.colaboratory.intrinsic+json": {
              "type": "string"
            },
            "text/plain": [
              "\"2+2=4 nice isn't sidlaVsidlaVsidlaV\""
            ]
          },
          "metadata": {},
          "execution_count": 122
        }
      ],
      "source": [
        "newstr = f\"2+2={2+2} nice isn't {name[::-1]*3}\"\n",
        "newstr"
      ]
    },
    {
      "cell_type": "code",
      "source": [
        "import datetime"
      ],
      "metadata": {
        "id": "plW3r0pwmS4Q"
      },
      "execution_count": 125,
      "outputs": []
    },
    {
      "cell_type": "code",
      "source": [
        "datetime.datetime.now()"
      ],
      "metadata": {
        "id": "cQp4WquemWl5",
        "outputId": "4be3025c-0607-4418-b04b-16e7bfea0ab7",
        "colab": {
          "base_uri": "https://localhost:8080/"
        }
      },
      "execution_count": 126,
      "outputs": [
        {
          "output_type": "execute_result",
          "data": {
            "text/plain": [
              "datetime.datetime(2022, 3, 2, 17, 7, 15, 316529)"
            ]
          },
          "metadata": {},
          "execution_count": 126
        }
      ]
    },
    {
      "cell_type": "code",
      "source": [
        "datetime.datetime.now().year, datetime.datetime.now().day, datetime.datetime.now().month"
      ],
      "metadata": {
        "id": "fAui06V2mcTx",
        "outputId": "26192025-a571-43a9-eb70-75b7ba75b552",
        "colab": {
          "base_uri": "https://localhost:8080/"
        }
      },
      "execution_count": 131,
      "outputs": [
        {
          "output_type": "execute_result",
          "data": {
            "text/plain": [
              "(2022, 2, 3)"
            ]
          },
          "metadata": {},
          "execution_count": 131
        }
      ]
    },
    {
      "cell_type": "code",
      "execution_count": 124,
      "metadata": {
        "colab": {
          "base_uri": "https://localhost:8080/"
        },
        "id": "Uea6WJpIa2Qe",
        "outputId": "2b633790-5c8d-4a6f-b1a1-4f657093c00c"
      },
      "outputs": [
        {
          "output_type": "stream",
          "name": "stdout",
          "text": [
            "Today is 2nd of March which is Thursday. Nice March isn't it ? \n"
          ]
        }
      ],
      "source": [
        "# actual real usage\n",
        "weekday=\"Wednesday\"\n",
        "month=\"March\"\n",
        "day=2\n",
        "greeting = f\"Today is {day}nd of {month} which is {weekday}. Nice {month} isn't it ? \"\n",
        "print(greeting)\n",
        "#nicer than format method"
      ]
    },
    {
      "cell_type": "code",
      "execution_count": 89,
      "metadata": {
        "id": "rDhmok_Na2Qf"
      },
      "outputs": [],
      "source": [
        "# notice how I did not have to cast 13 to str(13) in the above example"
      ]
    },
    {
      "cell_type": "code",
      "execution_count": 90,
      "metadata": {
        "colab": {
          "base_uri": "https://localhost:8080/"
        },
        "id": "whEb7fcja2Qf",
        "outputId": "e147cd34-93f6-4d59-adb0-e4786e25876f"
      },
      "outputs": [
        {
          "output_type": "stream",
          "name": "stdout",
          "text": [
            "Elapsed 345.24556 seconds since start of new era\n",
            "Elapsed                            345.2 seconds since start of new era\n",
            "Elapsed   345.246 seconds since start of new era\n",
            "Number    75556.222\n"
          ]
        }
      ],
      "source": [
        "seconds=345.24556\n",
        "width=32 # how much space our formatted value should take up\n",
        "precision=4 # how many digits to use\n",
        "print(f'Elapsed {seconds} seconds since start of new era')\n",
        "print(f'Elapsed {seconds:{width}.{precision}} seconds since start of new era')\n",
        "print(f'Elapsed {seconds:{9}.{6}} seconds since start of new era')\n",
        "print(f'Number {75556.2222:{12}.{8}}')"
      ]
    },
    {
      "cell_type": "code",
      "execution_count": 132,
      "metadata": {
        "colab": {
          "base_uri": "https://localhost:8080/",
          "height": 35
        },
        "id": "lfJZoCWma2Qf",
        "outputId": "bca9b635-f9eb-415f-ec88-c824136e73df"
      },
      "outputs": [
        {
          "output_type": "execute_result",
          "data": {
            "application/vnd.google.colaboratory.intrinsic+json": {
              "type": "string"
            },
            "text/plain": [
              "'0.1+0.2= 0.3'"
            ]
          },
          "metadata": {},
          "execution_count": 132
        }
      ],
      "source": [
        "myresult = f\"0.1+0.2={0.1+0.2:{4}.{4}}\"\n",
        "myresult"
      ]
    },
    {
      "cell_type": "code",
      "execution_count": 133,
      "metadata": {
        "colab": {
          "base_uri": "https://localhost:8080/",
          "height": 35
        },
        "id": "UF0MFbgPa2Qf",
        "outputId": "48a7cf44-05ff-4e1d-95eb-b34d52263f36"
      },
      "outputs": [
        {
          "output_type": "execute_result",
          "data": {
            "application/vnd.google.colaboratory.intrinsic+json": {
              "type": "string"
            },
            "text/plain": [
              "'nd of March which is Th'"
            ]
          },
          "metadata": {},
          "execution_count": 133
        }
      ],
      "source": [
        "greeting[10:33:1] # you can always get a slice from a string"
      ]
    },
    {
      "cell_type": "code",
      "execution_count": 134,
      "metadata": {
        "colab": {
          "base_uri": "https://localhost:8080/"
        },
        "id": "dcNJyfACa2Qf",
        "outputId": "a27a9cb0-4607-4ca2-e9e5-9bb4ab7fd2a6"
      },
      "outputs": [
        {
          "output_type": "stream",
          "name": "stdout",
          "text": [
            "Hello Valdis, nice day isn't day for a walk?\n"
          ]
        }
      ],
      "source": [
        "my_hello = f\"Hello {name}, nice day isn't day for a walk?\"\n",
        "print(my_hello)"
      ]
    },
    {
      "cell_type": "markdown",
      "metadata": {
        "id": "eZzL9NDfa2Qg"
      },
      "source": [
        "### Python 3.X strings are Unicode by default no more 'u prefixes"
      ]
    },
    {
      "cell_type": "code",
      "execution_count": 135,
      "metadata": {
        "id": "uD_92o9xa2Qg"
      },
      "outputs": [],
      "source": [
        "myfood = \"mashed potatoes\""
      ]
    },
    {
      "cell_type": "code",
      "execution_count": 136,
      "metadata": {
        "colab": {
          "base_uri": "https://localhost:8080/",
          "height": 35
        },
        "id": "UatdN9OJa2Qg",
        "outputId": "fb27e527-1b19-4a41-944d-4350051e73c2"
      },
      "outputs": [
        {
          "output_type": "execute_result",
          "data": {
            "application/vnd.google.colaboratory.intrinsic+json": {
              "type": "string"
            },
            "text/plain": [
              "'mashed potatoes'"
            ]
          },
          "metadata": {},
          "execution_count": 136
        }
      ],
      "source": [
        "myfood"
      ]
    },
    {
      "cell_type": "code",
      "execution_count": 137,
      "metadata": {
        "colab": {
          "base_uri": "https://localhost:8080/",
          "height": 35
        },
        "id": "jnq3d2Z3a2Qg",
        "outputId": "141e6720-986d-45c6-ffad-5b4a5b4c0653"
      },
      "outputs": [
        {
          "output_type": "execute_result",
          "data": {
            "application/vnd.google.colaboratory.intrinsic+json": {
              "type": "string"
            },
            "text/plain": [
              "'s'"
            ]
          },
          "metadata": {},
          "execution_count": 137
        }
      ],
      "source": [
        "myfood[2]"
      ]
    },
    {
      "cell_type": "code",
      "execution_count": 138,
      "metadata": {
        "colab": {
          "base_uri": "https://localhost:8080/",
          "height": 35
        },
        "id": "-Tnp4x3ga2Qg",
        "outputId": "5e81176b-a2f7-40ac-9f17-25ba20387c9e"
      },
      "outputs": [
        {
          "output_type": "execute_result",
          "data": {
            "application/vnd.google.colaboratory.intrinsic+json": {
              "type": "string"
            },
            "text/plain": [
              "'ma'"
            ]
          },
          "metadata": {},
          "execution_count": 138
        }
      ],
      "source": [
        "myfood[:2]"
      ]
    },
    {
      "cell_type": "code",
      "execution_count": 139,
      "metadata": {
        "colab": {
          "base_uri": "https://localhost:8080/",
          "height": 35
        },
        "id": "NG3mbSYIa2Qh",
        "outputId": "4e5e09ad-51b1-493c-c1ca-602941bf85d4"
      },
      "outputs": [
        {
          "output_type": "execute_result",
          "data": {
            "application/vnd.google.colaboratory.intrinsic+json": {
              "type": "string"
            },
            "text/plain": [
              "'oes'"
            ]
          },
          "metadata": {},
          "execution_count": 139
        }
      ],
      "source": [
        "myfood[-3:]"
      ]
    },
    {
      "cell_type": "code",
      "execution_count": 140,
      "metadata": {
        "colab": {
          "base_uri": "https://localhost:8080/",
          "height": 35
        },
        "id": "zOKDjhd2a2Qh",
        "outputId": "b8ccf144-27a1-424a-fd58-b33727370e76"
      },
      "outputs": [
        {
          "output_type": "execute_result",
          "data": {
            "application/vnd.google.colaboratory.intrinsic+json": {
              "type": "string"
            },
            "text/plain": [
              "'seotatop dehsam'"
            ]
          },
          "metadata": {},
          "execution_count": 140
        }
      ],
      "source": [
        "myfood[::-1]"
      ]
    },
    {
      "cell_type": "code",
      "execution_count": 141,
      "metadata": {
        "colab": {
          "base_uri": "https://localhost:8080/",
          "height": 35
        },
        "id": "tkZIgSwOa2Qh",
        "outputId": "238d0f8a-cff4-4e85-eb47-1ca17b43fab4"
      },
      "outputs": [
        {
          "output_type": "execute_result",
          "data": {
            "application/vnd.google.colaboratory.intrinsic+json": {
              "type": "string"
            },
            "text/plain": [
              "'soao esm'"
            ]
          },
          "metadata": {},
          "execution_count": 141
        }
      ],
      "source": [
        "myfood[::-2]"
      ]
    },
    {
      "cell_type": "code",
      "execution_count": 142,
      "metadata": {
        "colab": {
          "base_uri": "https://localhost:8080/",
          "height": 35
        },
        "id": "ZpDPyR4Oa2Qh",
        "outputId": "3bbb2cce-77c1-4510-ceee-6abe43e45f3b"
      },
      "outputs": [
        {
          "output_type": "execute_result",
          "data": {
            "application/vnd.google.colaboratory.intrinsic+json": {
              "type": "string"
            },
            "text/plain": [
              "'Mashed potatoes'"
            ]
          },
          "metadata": {},
          "execution_count": 142
        }
      ],
      "source": [
        "bigfood = myfood.capitalize() # i pressed tab after . and saw all kind of methods I can apply to my string\n",
        "bigfood"
      ]
    },
    {
      "cell_type": "code",
      "source": [
        "myfood.title() # title() capitalizes ALL words, while capitalize() does only the first word"
      ],
      "metadata": {
        "id": "AgJ5EJLonWKZ",
        "outputId": "d31708b5-2f56-45d3-acce-0570a3472fce",
        "colab": {
          "base_uri": "https://localhost:8080/",
          "height": 35
        }
      },
      "execution_count": 144,
      "outputs": [
        {
          "output_type": "execute_result",
          "data": {
            "application/vnd.google.colaboratory.intrinsic+json": {
              "type": "string"
            },
            "text/plain": [
              "'Mashed Potatoes'"
            ]
          },
          "metadata": {},
          "execution_count": 144
        }
      ]
    },
    {
      "cell_type": "code",
      "source": [
        "book_title = \"alice's adventures in wonderland\"\n",
        "print(book_title.capitalize())\n",
        "print(book_title.title())"
      ],
      "metadata": {
        "id": "WrAnhp6enMaq",
        "outputId": "cc34ad3d-10f9-467e-de7e-53197439c40a",
        "colab": {
          "base_uri": "https://localhost:8080/"
        }
      },
      "execution_count": 145,
      "outputs": [
        {
          "output_type": "stream",
          "name": "stdout",
          "text": [
            "Alice's adventures in wonderland\n",
            "Alice'S Adventures In Wonderland\n"
          ]
        }
      ]
    },
    {
      "cell_type": "code",
      "source": [
        "scream = \"WE WANT PLATES!\"\n",
        "scream.lower()"
      ],
      "metadata": {
        "id": "7IA6QMIhn01J",
        "outputId": "49644adc-aff7-4e66-8bce-b5547dbbbde3",
        "colab": {
          "base_uri": "https://localhost:8080/",
          "height": 35
        }
      },
      "execution_count": 147,
      "outputs": [
        {
          "output_type": "execute_result",
          "data": {
            "application/vnd.google.colaboratory.intrinsic+json": {
              "type": "string"
            },
            "text/plain": [
              "'we want plates!'"
            ]
          },
          "metadata": {},
          "execution_count": 147
        }
      ]
    },
    {
      "cell_type": "code",
      "source": [
        "scream.title()"
      ],
      "metadata": {
        "id": "_yOkfLn-n7Iy",
        "outputId": "6f099e1e-a45a-42cd-bf89-da0b6aa099fd",
        "colab": {
          "base_uri": "https://localhost:8080/",
          "height": 35
        }
      },
      "execution_count": 148,
      "outputs": [
        {
          "output_type": "execute_result",
          "data": {
            "application/vnd.google.colaboratory.intrinsic+json": {
              "type": "string"
            },
            "text/plain": [
              "'We Want Plates!'"
            ]
          },
          "metadata": {},
          "execution_count": 148
        }
      ]
    },
    {
      "cell_type": "code",
      "source": [
        "scream.capitalize()"
      ],
      "metadata": {
        "id": "WECujjQWn9-Y",
        "outputId": "9a8cabc6-50f6-447c-d2ea-e50f3971a0b4",
        "colab": {
          "base_uri": "https://localhost:8080/",
          "height": 35
        }
      },
      "execution_count": 149,
      "outputs": [
        {
          "output_type": "execute_result",
          "data": {
            "application/vnd.google.colaboratory.intrinsic+json": {
              "type": "string"
            },
            "text/plain": [
              "'We want plates!'"
            ]
          },
          "metadata": {},
          "execution_count": 149
        }
      ]
    },
    {
      "cell_type": "code",
      "source": [
        "my_wish = scream.capitalize()  #if I want to save the changes I need a new string\n",
        "my_wish"
      ],
      "metadata": {
        "id": "I4BSGymDoBug",
        "outputId": "e62ba478-0918-4424-b186-fc1fe481d04b",
        "colab": {
          "base_uri": "https://localhost:8080/",
          "height": 35
        }
      },
      "execution_count": 150,
      "outputs": [
        {
          "output_type": "execute_result",
          "data": {
            "application/vnd.google.colaboratory.intrinsic+json": {
              "type": "string"
            },
            "text/plain": [
              "'We want plates!'"
            ]
          },
          "metadata": {},
          "execution_count": 150
        }
      ]
    },
    {
      "cell_type": "code",
      "execution_count": 151,
      "metadata": {
        "colab": {
          "base_uri": "https://localhost:8080/",
          "height": 35
        },
        "id": "0kOH5XB-a2Qh",
        "outputId": "029eff5c-3b24-4b6e-8c6c-db6dd433f3ab"
      },
      "outputs": [
        {
          "output_type": "execute_result",
          "data": {
            "application/vnd.google.colaboratory.intrinsic+json": {
              "type": "string"
            },
            "text/plain": [
              "'Mashed potatoes'"
            ]
          },
          "metadata": {},
          "execution_count": 151
        }
      ],
      "source": [
        "myfood.capitalize() # note that capitilize DOES NOT change the string, it makes a new one"
      ]
    },
    {
      "cell_type": "code",
      "execution_count": 152,
      "metadata": {
        "colab": {
          "base_uri": "https://localhost:8080/"
        },
        "id": "YkKIeUdfa2Qi",
        "outputId": "b01cab11-1cc8-43f3-fd83-c9285d82701b"
      },
      "outputs": [
        {
          "output_type": "execute_result",
          "data": {
            "text/plain": [
              "0"
            ]
          },
          "metadata": {},
          "execution_count": 152
        }
      ],
      "source": [
        "# count the number of occurences in a string\n",
        "myfood.count('r')"
      ]
    },
    {
      "cell_type": "code",
      "source": [
        "myfood.count('o')"
      ],
      "metadata": {
        "id": "AGO-spdWoTUv",
        "outputId": "6d75cd1e-a08d-4fb0-dd6a-b9eac52211e0",
        "colab": {
          "base_uri": "https://localhost:8080/"
        }
      },
      "execution_count": 153,
      "outputs": [
        {
          "output_type": "execute_result",
          "data": {
            "text/plain": [
              "2"
            ]
          },
          "metadata": {},
          "execution_count": 153
        }
      ]
    },
    {
      "cell_type": "code",
      "execution_count": 154,
      "metadata": {
        "colab": {
          "base_uri": "https://localhost:8080/"
        },
        "id": "vpTVFOvGa2Qi",
        "outputId": "87bbf9af-cd40-4ae7-bed7-5e4371f83104"
      },
      "outputs": [
        {
          "output_type": "execute_result",
          "data": {
            "text/plain": [
              "1"
            ]
          },
          "metadata": {},
          "execution_count": 154
        }
      ],
      "source": [
        "# count the number of occurences in a string\n",
        "myfood.count('ash')"
      ]
    },
    {
      "cell_type": "code",
      "execution_count": 155,
      "metadata": {
        "colab": {
          "base_uri": "https://localhost:8080/"
        },
        "id": "rCfrffXQa2Qi",
        "outputId": "3c300f57-c5a4-467f-888d-8049a83aadc0"
      },
      "outputs": [
        {
          "output_type": "execute_result",
          "data": {
            "text/plain": [
              "2"
            ]
          },
          "metadata": {},
          "execution_count": 155
        }
      ],
      "source": [
        "myfood.count('a')"
      ]
    },
    {
      "cell_type": "code",
      "execution_count": 156,
      "metadata": {
        "colab": {
          "base_uri": "https://localhost:8080/"
        },
        "id": "6yMnyDZIa2Qi",
        "outputId": "3dd9a18d-9cde-473b-dcfc-4c87027acbb9"
      },
      "outputs": [
        {
          "output_type": "execute_result",
          "data": {
            "text/plain": [
              "False"
            ]
          },
          "metadata": {},
          "execution_count": 156
        }
      ],
      "source": [
        "# if you just want to check whether there are any specific characters in your string\n",
        "'u' in myfood"
      ]
    },
    {
      "cell_type": "code",
      "execution_count": 157,
      "metadata": {
        "colab": {
          "base_uri": "https://localhost:8080/"
        },
        "id": "oP_cBrBpa2Qj",
        "outputId": "6f556909-3c50-40f9-9e52-0e0c55f20dd1"
      },
      "outputs": [
        {
          "output_type": "execute_result",
          "data": {
            "text/plain": [
              "True"
            ]
          },
          "metadata": {},
          "execution_count": 157
        }
      ],
      "source": [
        "'o' in myfood"
      ]
    },
    {
      "cell_type": "code",
      "execution_count": 158,
      "metadata": {
        "colab": {
          "base_uri": "https://localhost:8080/"
        },
        "id": "pEJtINxda2Qj",
        "outputId": "c794f57c-d9d7-4d3d-827a-9ac327b905fe"
      },
      "outputs": [
        {
          "output_type": "execute_result",
          "data": {
            "text/plain": [
              "False"
            ]
          },
          "metadata": {},
          "execution_count": 158
        }
      ],
      "source": [
        "'C' in myfood"
      ]
    },
    {
      "cell_type": "code",
      "execution_count": 159,
      "metadata": {
        "colab": {
          "base_uri": "https://localhost:8080/"
        },
        "id": "Hxj3QQj7a2Qj",
        "outputId": "2c90693f-d396-46fb-c573-c8f17e7dc6c4"
      },
      "outputs": [
        {
          "output_type": "execute_result",
          "data": {
            "text/plain": [
              "True"
            ]
          },
          "metadata": {},
          "execution_count": 159
        }
      ],
      "source": [
        "# we can check for substring in our string\n",
        "'ot' in myfood"
      ]
    },
    {
      "cell_type": "code",
      "execution_count": 160,
      "metadata": {
        "colab": {
          "base_uri": "https://localhost:8080/"
        },
        "id": "I2h-gnzpa2Qj",
        "outputId": "042b62e2-107f-41ff-db69-ef19039b25b2"
      },
      "outputs": [
        {
          "output_type": "execute_result",
          "data": {
            "text/plain": [
              "False"
            ]
          },
          "metadata": {},
          "execution_count": 160
        }
      ],
      "source": [
        "# we can check for substring in our string\n",
        "'put' in bigfood"
      ]
    },
    {
      "cell_type": "code",
      "execution_count": 163,
      "metadata": {
        "colab": {
          "base_uri": "https://localhost:8080/"
        },
        "id": "NpbcCK0Qa2Qj",
        "outputId": "9afd0a7a-293d-4c0c-a449-70815320a9b3"
      },
      "outputs": [
        {
          "output_type": "stream",
          "name": "stdout",
          "text": [
            "Great found oes in mashed potatoes\n"
          ]
        }
      ],
      "source": [
        "needle = \"oes\"\n",
        "if needle in myfood:  # so in gives us boolean value that we can use in a if\n",
        "    print(\"Great found\", needle, \"in\", myfood)\n",
        "else:\n",
        "    print(\"Whew no \", needle, \"in\", myfood)"
      ]
    },
    {
      "cell_type": "code",
      "execution_count": 111,
      "metadata": {
        "colab": {
          "base_uri": "https://localhost:8080/"
        },
        "id": "vzCsmZ2Ta2Qk",
        "outputId": "5003428e-c01e-4588-ea8c-812156d5714e"
      },
      "outputs": [
        {
          "output_type": "execute_result",
          "data": {
            "text/plain": [
              "False"
            ]
          },
          "metadata": {},
          "execution_count": 111
        }
      ],
      "source": [
        "'somethinglongthatisnot' in myfood"
      ]
    },
    {
      "cell_type": "code",
      "execution_count": 164,
      "metadata": {
        "colab": {
          "base_uri": "https://localhost:8080/",
          "height": 203
        },
        "id": "HTrJkbF4a2Qk",
        "outputId": "ee1b853d-54a0-4898-8232-f3883c8d7aec"
      },
      "outputs": [
        {
          "output_type": "error",
          "ename": "ValueError",
          "evalue": "ignored",
          "traceback": [
            "\u001b[0;31m---------------------------------------------------------------------------\u001b[0m",
            "\u001b[0;31mValueError\u001b[0m                                Traceback (most recent call last)",
            "\u001b[0;32m<ipython-input-164-f2077a0a70eb>\u001b[0m in \u001b[0;36m<module>\u001b[0;34m()\u001b[0m\n\u001b[1;32m      1\u001b[0m \u001b[0;31m# find first index of where the substring starts in our string\u001b[0m\u001b[0;34m\u001b[0m\u001b[0;34m\u001b[0m\u001b[0;34m\u001b[0m\u001b[0m\n\u001b[1;32m      2\u001b[0m \u001b[0;31m# remember we count from 0!\u001b[0m\u001b[0;34m\u001b[0m\u001b[0;34m\u001b[0m\u001b[0;34m\u001b[0m\u001b[0m\n\u001b[0;32m----> 3\u001b[0;31m \u001b[0mmyfood\u001b[0m\u001b[0;34m.\u001b[0m\u001b[0mindex\u001b[0m\u001b[0;34m(\u001b[0m\u001b[0;34m'rid'\u001b[0m\u001b[0;34m)\u001b[0m\u001b[0;34m\u001b[0m\u001b[0;34m\u001b[0m\u001b[0m\n\u001b[0m",
            "\u001b[0;31mValueError\u001b[0m: substring not found"
          ]
        }
      ],
      "source": [
        "# find first index of where the substring starts in our string\n",
        "# remember we count from 0!\n",
        "myfood.index('rid')"
      ]
    },
    {
      "cell_type": "code",
      "execution_count": 165,
      "metadata": {
        "colab": {
          "base_uri": "https://localhost:8080/"
        },
        "id": "tPqxuTd6a2Qk",
        "outputId": "c1856c77-cd9b-4646-dc36-4d5655b63669"
      },
      "outputs": [
        {
          "output_type": "execute_result",
          "data": {
            "text/plain": [
              "-1"
            ]
          },
          "metadata": {},
          "execution_count": 165
        }
      ],
      "source": [
        "myfood.find('notfound') # so find gives you -1 if not found while index gives you error if not found"
      ]
    },
    {
      "cell_type": "code",
      "execution_count": 166,
      "metadata": {
        "colab": {
          "base_uri": "https://localhost:8080/"
        },
        "id": "iebS11AYa2Qk",
        "outputId": "7f8a4276-a76f-49fa-d533-15b9c236504e"
      },
      "outputs": [
        {
          "output_type": "execute_result",
          "data": {
            "text/plain": [
              "-1"
            ]
          },
          "metadata": {},
          "execution_count": 166
        }
      ],
      "source": [
        "myfood.find('rid')"
      ]
    },
    {
      "cell_type": "code",
      "source": [
        "myfood.find('pot')"
      ],
      "metadata": {
        "id": "oKe5pKdjpOA2",
        "outputId": "d3b33b8d-ab9f-4189-eeb6-12dd78530c76",
        "colab": {
          "base_uri": "https://localhost:8080/"
        }
      },
      "execution_count": 167,
      "outputs": [
        {
          "output_type": "execute_result",
          "data": {
            "text/plain": [
              "7"
            ]
          },
          "metadata": {},
          "execution_count": 167
        }
      ]
    },
    {
      "cell_type": "code",
      "source": [
        "myfood[7:]"
      ],
      "metadata": {
        "id": "yixswGqWpSzQ",
        "outputId": "e79538c9-da88-4d26-f0e1-2b4ef75e71ce",
        "colab": {
          "base_uri": "https://localhost:8080/",
          "height": 35
        }
      },
      "execution_count": 168,
      "outputs": [
        {
          "output_type": "execute_result",
          "data": {
            "application/vnd.google.colaboratory.intrinsic+json": {
              "type": "string"
            },
            "text/plain": [
              "'potatoes'"
            ]
          },
          "metadata": {},
          "execution_count": 168
        }
      ]
    },
    {
      "cell_type": "code",
      "source": [
        "myfood[7:7+3]"
      ],
      "metadata": {
        "id": "CZdNrY_jpWRz",
        "outputId": "ffc045a0-4b55-40af-a37c-4915ea416707",
        "colab": {
          "base_uri": "https://localhost:8080/",
          "height": 35
        }
      },
      "execution_count": 169,
      "outputs": [
        {
          "output_type": "execute_result",
          "data": {
            "application/vnd.google.colaboratory.intrinsic+json": {
              "type": "string"
            },
            "text/plain": [
              "'pot'"
            ]
          },
          "metadata": {},
          "execution_count": 169
        }
      ]
    },
    {
      "cell_type": "code",
      "source": [
        "book_title"
      ],
      "metadata": {
        "id": "LXLzmh6upZ8a",
        "outputId": "056ad10c-4071-45b4-cb72-255212c1b617",
        "colab": {
          "base_uri": "https://localhost:8080/",
          "height": 35
        }
      },
      "execution_count": 170,
      "outputs": [
        {
          "output_type": "execute_result",
          "data": {
            "application/vnd.google.colaboratory.intrinsic+json": {
              "type": "string"
            },
            "text/plain": [
              "\"alice's adventures in wonderland\""
            ]
          },
          "metadata": {},
          "execution_count": 170
        }
      ]
    },
    {
      "cell_type": "code",
      "source": [
        "needle = \"wonder\"\n",
        "start = book_title.find(needle)\n",
        "start"
      ],
      "metadata": {
        "id": "s1gqb7hkpdZa",
        "outputId": "a5de4db0-b2ee-45bd-ac6a-3a6a5c890ac6",
        "colab": {
          "base_uri": "https://localhost:8080/"
        }
      },
      "execution_count": 173,
      "outputs": [
        {
          "output_type": "execute_result",
          "data": {
            "text/plain": [
              "22"
            ]
          },
          "metadata": {},
          "execution_count": 173
        }
      ]
    },
    {
      "cell_type": "code",
      "source": [
        "book_title[start:start+len(needle)]"
      ],
      "metadata": {
        "id": "VWdtyJ4Cpi8b",
        "outputId": "5cd4fbb5-8d0b-490e-da34-eb0b9361cfb2",
        "colab": {
          "base_uri": "https://localhost:8080/",
          "height": 35
        }
      },
      "execution_count": 174,
      "outputs": [
        {
          "output_type": "execute_result",
          "data": {
            "application/vnd.google.colaboratory.intrinsic+json": {
              "type": "string"
            },
            "text/plain": [
              "'wonder'"
            ]
          },
          "metadata": {},
          "execution_count": 174
        }
      ]
    },
    {
      "cell_type": "code",
      "source": [
        "book_title[start-5:start+len(needle)+5]  # so I can see 5 letters before my needle and 5 letters after my needle"
      ],
      "metadata": {
        "id": "InjU9WwEpuaH",
        "outputId": "f419b1cb-1c10-4e15-a079-580356e61c02",
        "colab": {
          "base_uri": "https://localhost:8080/",
          "height": 35
        }
      },
      "execution_count": 175,
      "outputs": [
        {
          "output_type": "execute_result",
          "data": {
            "application/vnd.google.colaboratory.intrinsic+json": {
              "type": "string"
            },
            "text/plain": [
              "'s in wonderland'"
            ]
          },
          "metadata": {},
          "execution_count": 175
        }
      ]
    },
    {
      "cell_type": "code",
      "execution_count": 115,
      "metadata": {
        "colab": {
          "base_uri": "https://localhost:8080/",
          "height": 35
        },
        "id": "EMUYFc1Na2Ql",
        "outputId": "6b45f342-e08c-4ff8-d302-d8711e6f38ab"
      },
      "outputs": [
        {
          "output_type": "execute_result",
          "data": {
            "application/vnd.google.colaboratory.intrinsic+json": {
              "type": "string"
            },
            "text/plain": [
              "'ridge'"
            ]
          },
          "metadata": {},
          "execution_count": 115
        }
      ],
      "source": [
        "myfood[myfood.index('rid'):] # so find where rid starts and give me the rest of the string"
      ]
    },
    {
      "cell_type": "code",
      "execution_count": 116,
      "metadata": {
        "colab": {
          "base_uri": "https://localhost:8080/",
          "height": 35
        },
        "id": "U2j2e3mUa2Ql",
        "outputId": "fe77791d-69dd-4ea3-f6bc-d95c1d59ccb3"
      },
      "outputs": [
        {
          "output_type": "execute_result",
          "data": {
            "application/vnd.google.colaboratory.intrinsic+json": {
              "type": "string"
            },
            "text/plain": [
              "'PORRIDGE'"
            ]
          },
          "metadata": {},
          "execution_count": 116
        }
      ],
      "source": [
        "myfood.upper()"
      ]
    },
    {
      "cell_type": "code",
      "execution_count": 117,
      "metadata": {
        "colab": {
          "base_uri": "https://localhost:8080/",
          "height": 35
        },
        "id": "yXVGJKXea2Ql",
        "outputId": "22984ae1-57db-4147-b7af-f72ff615d701"
      },
      "outputs": [
        {
          "output_type": "execute_result",
          "data": {
            "application/vnd.google.colaboratory.intrinsic+json": {
              "type": "string"
            },
            "text/plain": [
              "'Valdis'"
            ]
          },
          "metadata": {},
          "execution_count": 117
        }
      ],
      "source": [
        "name[0:6:1]\n"
      ]
    },
    {
      "cell_type": "code",
      "execution_count": 118,
      "metadata": {
        "colab": {
          "base_uri": "https://localhost:8080/",
          "height": 35
        },
        "id": "3L50rN1ua2Qm",
        "outputId": "b840f2cb-555c-41e4-f61a-9e9e329fc187"
      },
      "outputs": [
        {
          "output_type": "execute_result",
          "data": {
            "application/vnd.google.colaboratory.intrinsic+json": {
              "type": "string"
            },
            "text/plain": [
              "'valdis'"
            ]
          },
          "metadata": {},
          "execution_count": 118
        }
      ],
      "source": [
        "name.lower()"
      ]
    },
    {
      "cell_type": "code",
      "execution_count": 176,
      "metadata": {
        "colab": {
          "base_uri": "https://localhost:8080/"
        },
        "id": "pOOUL7Wda2Qn",
        "outputId": "9ee48be1-275d-4806-bab7-e82ca37e0c84"
      },
      "outputs": [
        {
          "output_type": "execute_result",
          "data": {
            "text/plain": [
              "False"
            ]
          },
          "metadata": {},
          "execution_count": 176
        }
      ],
      "source": [
        "name.isdecimal()"
      ]
    },
    {
      "cell_type": "code",
      "execution_count": 177,
      "metadata": {
        "colab": {
          "base_uri": "https://localhost:8080/"
        },
        "id": "oNKnIcgba2Qq",
        "outputId": "abbf57f9-cdf7-4471-f83d-60999cccd24f"
      },
      "outputs": [
        {
          "output_type": "execute_result",
          "data": {
            "text/plain": [
              "True"
            ]
          },
          "metadata": {},
          "execution_count": 177
        }
      ],
      "source": [
        "\"55555\".isdecimal()"
      ]
    },
    {
      "cell_type": "code",
      "execution_count": 121,
      "metadata": {
        "id": "TjESnlz4a2Qr"
      },
      "outputs": [],
      "source": [
        "# ourstring. then use Tab to see what functions/methods are available\n",
        "# methods/functions use parenthesis \"Valdis\".upper()"
      ]
    },
    {
      "cell_type": "markdown",
      "metadata": {
        "id": "RrQPayNTa2Qr"
      },
      "source": [
        "# What about looping through our strings?"
      ]
    },
    {
      "cell_type": "code",
      "execution_count": 179,
      "metadata": {
        "colab": {
          "base_uri": "https://localhost:8080/"
        },
        "id": "yLPrJ64ma2Qs",
        "outputId": "b13c86db-d866-4369-e65b-1e1be3942e29"
      },
      "outputs": [
        {
          "output_type": "stream",
          "name": "stdout",
          "text": [
            "V\n",
            "V\n",
            "Letter V\n",
            "a\n",
            "A\n",
            "Letter a\n",
            "l\n",
            "L\n",
            "Letter l\n",
            "d\n",
            "D\n",
            "Letter d\n",
            "i\n",
            "I\n",
            "Letter i\n",
            "s\n",
            "S\n",
            "Letter s\n"
          ]
        }
      ],
      "source": [
        "for c in name:\n",
        "    print(c)\n",
        "    print(c.upper())\n",
        "    print(f\"Letter {c}\") # this is new to python 3.8+ so will not work on python 3.7"
      ]
    },
    {
      "cell_type": "code",
      "execution_count": null,
      "metadata": {
        "id": "ZbCm3CHTa2Qs",
        "outputId": "079cf4cb-9761-4e4c-c2d9-143f054455d9"
      },
      "outputs": [
        {
          "name": "stdout",
          "output_type": "stream",
          "text": [
            "My variable name='Valdis'\n"
          ]
        }
      ],
      "source": [
        "print(f\"My variable {name=}\")"
      ]
    },
    {
      "cell_type": "code",
      "execution_count": 180,
      "metadata": {
        "id": "VNHXabMVa2Qs"
      },
      "outputs": [],
      "source": [
        "# tiny practice \n",
        "# print only letters in your name less than \"i\" and make them uppercase"
      ]
    },
    {
      "cell_type": "code",
      "execution_count": 183,
      "metadata": {
        "colab": {
          "base_uri": "https://localhost:8080/"
        },
        "id": "luC16uNWa2Qs",
        "outputId": "b17e6573-c410-4127-8acc-8193165293fb"
      },
      "outputs": [
        {
          "output_type": "stream",
          "name": "stdout",
          "text": [
            "Our i code is 105\n",
            "V code is 86\n",
            "a code is 97\n",
            "a\n",
            "l code is 108\n",
            "d code is 100\n",
            "d\n",
            "i code is 105\n",
            "s code is 115\n"
          ]
        }
      ],
      "source": [
        "limit = \"i\"\n",
        "result = \"\"\n",
        "print(f\"Our {limit} code is {ord(limit)}\")\n",
        "for c in name:\n",
        "    print(f\"{c} code is {ord(c)}\")\n",
        "    if c.lower() < limit:\n",
        "        print(c)\n",
        "        result += c \n",
        "        # it is same as saying result = result + c, we make a new string overwriting the old one\n",
        "        # for very long strings this could get pretty slow ( i am talking huuuge strings)"
      ]
    },
    {
      "cell_type": "code",
      "execution_count": null,
      "metadata": {
        "id": "syEMm-sDa2Qs",
        "outputId": "412eb1ec-f427-4ee5-fb70-66e1c5e4a9ca"
      },
      "outputs": [
        {
          "name": "stdout",
          "output_type": "stream",
          "text": [
            "ad\n"
          ]
        }
      ],
      "source": [
        "print(result)"
      ]
    },
    {
      "cell_type": "code",
      "execution_count": null,
      "metadata": {
        "id": "rJ9BCUDYa2Qt",
        "outputId": "ae9ad819-6a0b-49d1-ecf2-b4998c877b50"
      },
      "outputs": [
        {
          "data": {
            "text/plain": [
              "'AD'"
            ]
          },
          "execution_count": 144,
          "metadata": {},
          "output_type": "execute_result"
        }
      ],
      "source": [
        "result.upper()"
      ]
    },
    {
      "cell_type": "code",
      "execution_count": 184,
      "metadata": {
        "colab": {
          "base_uri": "https://localhost:8080/",
          "height": 35
        },
        "id": "8oJOq_ARa2Qt",
        "outputId": "3ef57fa5-213e-4fc6-f0a1-5e172efafd29"
      },
      "outputs": [
        {
          "output_type": "execute_result",
          "data": {
            "application/vnd.google.colaboratory.intrinsic+json": {
              "type": "string"
            },
            "text/plain": [
              "'    Riga \\t\\n '"
            ]
          },
          "metadata": {},
          "execution_count": 184
        }
      ],
      "source": [
        "mycity = \"    Riga \\t\\n \"\n",
        "mycity"
      ]
    },
    {
      "cell_type": "code",
      "execution_count": 185,
      "metadata": {
        "colab": {
          "base_uri": "https://localhost:8080/",
          "height": 35
        },
        "id": "zsF3veBma2Qt",
        "outputId": "0c267c44-5b90-4962-f2d8-a08d9d82d9a9"
      },
      "outputs": [
        {
          "output_type": "execute_result",
          "data": {
            "application/vnd.google.colaboratory.intrinsic+json": {
              "type": "string"
            },
            "text/plain": [
              "'Riga'"
            ]
          },
          "metadata": {},
          "execution_count": 185
        }
      ],
      "source": [
        "clean_city = mycity.strip() # so whitespace are any non character symbols\n",
        "clean_city"
      ]
    },
    {
      "cell_type": "code",
      "source": [
        "mycity.rstrip()  #only strips the right side"
      ],
      "metadata": {
        "id": "bDvF-aEgqTuw",
        "outputId": "f8ae1f7a-aeab-49c5-b2b0-303dd2104c23",
        "colab": {
          "base_uri": "https://localhost:8080/",
          "height": 35
        }
      },
      "execution_count": 187,
      "outputs": [
        {
          "output_type": "execute_result",
          "data": {
            "application/vnd.google.colaboratory.intrinsic+json": {
              "type": "string"
            },
            "text/plain": [
              "'    Riga'"
            ]
          },
          "metadata": {},
          "execution_count": 187
        }
      ]
    },
    {
      "cell_type": "code",
      "source": [
        "mycity.lstrip() # strips left side only"
      ],
      "metadata": {
        "id": "03xevLpiqXuF",
        "outputId": "58d7f523-d728-4315-b72a-1140fede6b00",
        "colab": {
          "base_uri": "https://localhost:8080/",
          "height": 35
        }
      },
      "execution_count": 188,
      "outputs": [
        {
          "output_type": "execute_result",
          "data": {
            "application/vnd.google.colaboratory.intrinsic+json": {
              "type": "string"
            },
            "text/plain": [
              "'Riga \\t\\n '"
            ]
          },
          "metadata": {},
          "execution_count": 188
        }
      ]
    },
    {
      "cell_type": "code",
      "execution_count": null,
      "metadata": {
        "id": "SH0vxxXva2Qt",
        "outputId": "017a66da-d560-465f-f419-03303d1d434f"
      },
      "outputs": [
        {
          "data": {
            "text/plain": [
              "'chocolate ice cream sunday'"
            ]
          },
          "execution_count": 148,
          "metadata": {},
          "output_type": "execute_result"
        }
      ],
      "source": [
        "myfood = \"chocolate ice cream sunday\"\n",
        "myfood"
      ]
    },
    {
      "cell_type": "code",
      "execution_count": null,
      "metadata": {
        "id": "4wPouBXAa2Qt",
        "outputId": "6ed08ca3-0767-43ce-ad0c-ce2cc5500b85"
      },
      "outputs": [
        {
          "data": {
            "text/plain": [
              "('Chocolate ice cream sunday', 'Chocolate Ice Cream Sunday')"
            ]
          },
          "execution_count": 149,
          "metadata": {},
          "output_type": "execute_result"
        }
      ],
      "source": [
        "myfood.capitalize(), myfood.title()"
      ]
    },
    {
      "cell_type": "code",
      "execution_count": 191,
      "metadata": {
        "colab": {
          "base_uri": "https://localhost:8080/",
          "height": 35
        },
        "id": "o_F6556la2Qt",
        "outputId": "1e33ae57-81fc-41cc-9a7b-ced8463bd9bc"
      },
      "outputs": [
        {
          "output_type": "execute_result",
          "data": {
            "application/vnd.google.colaboratory.intrinsic+json": {
              "type": "string"
            },
            "text/plain": [
              "'V'"
            ]
          },
          "metadata": {},
          "execution_count": 191
        }
      ],
      "source": [
        "min(name)  #lowest ASCII/unicode value in my string"
      ]
    },
    {
      "cell_type": "code",
      "execution_count": 192,
      "metadata": {
        "colab": {
          "base_uri": "https://localhost:8080/",
          "height": 35
        },
        "id": "Z5nCULcFa2Qu",
        "outputId": "e3742757-7ef5-44f7-a806-426253a5f837"
      },
      "outputs": [
        {
          "output_type": "execute_result",
          "data": {
            "application/vnd.google.colaboratory.intrinsic+json": {
              "type": "string"
            },
            "text/plain": [
              "'s'"
            ]
          },
          "metadata": {},
          "execution_count": 192
        }
      ],
      "source": [
        "max(name) #the character with the highest ASCII value in the string"
      ]
    },
    {
      "cell_type": "code",
      "execution_count": null,
      "metadata": {
        "id": "sjqhXq1Ca2Qu",
        "outputId": "54c341fa-b202-486c-cf62-2bd5ec9ed07f"
      },
      "outputs": [
        {
          "data": {
            "text/plain": [
              "' '"
            ]
          },
          "execution_count": 152,
          "metadata": {},
          "output_type": "execute_result"
        }
      ],
      "source": [
        "min(myfood)"
      ]
    },
    {
      "cell_type": "code",
      "execution_count": null,
      "metadata": {
        "id": "0j3i0rpIa2Qu",
        "outputId": "b0ea0e8f-f10f-4543-ce7b-e5b3d055fa63"
      },
      "outputs": [
        {
          "data": {
            "text/plain": [
              "'y'"
            ]
          },
          "execution_count": 153,
          "metadata": {},
          "output_type": "execute_result"
        }
      ],
      "source": [
        "max(myfood)"
      ]
    },
    {
      "cell_type": "code",
      "source": [
        "book_title"
      ],
      "metadata": {
        "id": "xeDOleXSqjNj",
        "outputId": "783ec7e3-2bc2-462d-d61d-a7063f35fa5b",
        "colab": {
          "base_uri": "https://localhost:8080/",
          "height": 35
        }
      },
      "execution_count": 193,
      "outputs": [
        {
          "output_type": "execute_result",
          "data": {
            "application/vnd.google.colaboratory.intrinsic+json": {
              "type": "string"
            },
            "text/plain": [
              "\"alice's adventures in wonderland\""
            ]
          },
          "metadata": {},
          "execution_count": 193
        }
      ]
    },
    {
      "cell_type": "code",
      "source": [
        "new_title = book_title.replace(\"wonder\", \"zombie\") # default is to replace all occurences\n",
        "new_title"
      ],
      "metadata": {
        "id": "jjGZg1Bgqpfu",
        "outputId": "fe482849-a979-43e6-9520-bd05a05f4bfb",
        "colab": {
          "base_uri": "https://localhost:8080/",
          "height": 35
        }
      },
      "execution_count": 194,
      "outputs": [
        {
          "output_type": "execute_result",
          "data": {
            "application/vnd.google.colaboratory.intrinsic+json": {
              "type": "string"
            },
            "text/plain": [
              "\"alice's adventures in zombieland\""
            ]
          },
          "metadata": {},
          "execution_count": 194
        }
      ]
    },
    {
      "cell_type": "code",
      "source": [
        "fruit = \"bananananana\"\n",
        "fruit.replace(\"an\", \"oz\", 3) # so we replaced the first 3 occurences and so"
      ],
      "metadata": {
        "id": "DKY7WS0Eqxy8",
        "outputId": "56900629-e756-47d7-a2b7-7f11ccc10b3c",
        "colab": {
          "base_uri": "https://localhost:8080/",
          "height": 35
        }
      },
      "execution_count": 198,
      "outputs": [
        {
          "output_type": "execute_result",
          "data": {
            "application/vnd.google.colaboratory.intrinsic+json": {
              "type": "string"
            },
            "text/plain": [
              "'bozozozanana'"
            ]
          },
          "metadata": {},
          "execution_count": 198
        }
      ]
    },
    {
      "cell_type": "code",
      "source": [
        "new_fruit = fruit.replace(\"ana\", \"omo\", 2)  # so only make 2 replacements\n",
        "new_fruit"
      ],
      "metadata": {
        "id": "cKIRV6hRrGli",
        "outputId": "0055c844-4272-47e1-f692-fdd56fd07631",
        "colab": {
          "base_uri": "https://localhost:8080/",
          "height": 35
        }
      },
      "execution_count": 199,
      "outputs": [
        {
          "output_type": "execute_result",
          "data": {
            "application/vnd.google.colaboratory.intrinsic+json": {
              "type": "string"
            },
            "text/plain": [
              "'bomonomonana'"
            ]
          },
          "metadata": {},
          "execution_count": 199
        }
      ]
    },
    {
      "cell_type": "code",
      "source": [
        "mycity"
      ],
      "metadata": {
        "id": "Jzjxx-J4rnzZ",
        "outputId": "d481dea2-5e95-4161-893e-ef5aa36938e1",
        "colab": {
          "base_uri": "https://localhost:8080/",
          "height": 35
        }
      },
      "execution_count": 201,
      "outputs": [
        {
          "output_type": "execute_result",
          "data": {
            "application/vnd.google.colaboratory.intrinsic+json": {
              "type": "string"
            },
            "text/plain": [
              "'    Riga \\t\\n '"
            ]
          },
          "metadata": {},
          "execution_count": 201
        }
      ]
    },
    {
      "cell_type": "code",
      "source": [
        "mycity.strip().center(40)  # so clean whitespace first then center text with 40 characters total"
      ],
      "metadata": {
        "id": "aQB_6fIQrr6T",
        "outputId": "c6c2262c-d4df-4a0c-e5e6-fcaef4e9ab9a",
        "colab": {
          "base_uri": "https://localhost:8080/",
          "height": 35
        }
      },
      "execution_count": 203,
      "outputs": [
        {
          "output_type": "execute_result",
          "data": {
            "application/vnd.google.colaboratory.intrinsic+json": {
              "type": "string"
            },
            "text/plain": [
              "'                  Riga                  '"
            ]
          },
          "metadata": {},
          "execution_count": 203
        }
      ]
    },
    {
      "cell_type": "code",
      "source": [
        "name.center(80)"
      ],
      "metadata": {
        "id": "AVtBVwtEr0lX",
        "outputId": "c13cdbd5-de23-40ef-d905-b0434780c08f",
        "colab": {
          "base_uri": "https://localhost:8080/",
          "height": 35
        }
      },
      "execution_count": 204,
      "outputs": [
        {
          "output_type": "execute_result",
          "data": {
            "application/vnd.google.colaboratory.intrinsic+json": {
              "type": "string"
            },
            "text/plain": [
              "'                                     Valdis                                     '"
            ]
          },
          "metadata": {},
          "execution_count": 204
        }
      ]
    },
    {
      "cell_type": "code",
      "source": [
        "name.endswith(\"dis\"), name.endswith(\"notthis\")"
      ],
      "metadata": {
        "id": "R83Ohr5rr-Rd",
        "outputId": "b60c2ff8-c419-4ebb-bda7-417e39c93d0b",
        "colab": {
          "base_uri": "https://localhost:8080/"
        }
      },
      "execution_count": 206,
      "outputs": [
        {
          "output_type": "execute_result",
          "data": {
            "text/plain": [
              "(True, False)"
            ]
          },
          "metadata": {},
          "execution_count": 206
        }
      ]
    },
    {
      "cell_type": "code",
      "source": [
        "food"
      ],
      "metadata": {
        "id": "NTAgfF_tsRm-",
        "outputId": "e00a5903-7b5d-4689-e4ab-f891a338fdfd",
        "colab": {
          "base_uri": "https://localhost:8080/",
          "height": 35
        }
      },
      "execution_count": 207,
      "outputs": [
        {
          "output_type": "execute_result",
          "data": {
            "application/vnd.google.colaboratory.intrinsic+json": {
              "type": "string"
            },
            "text/plain": [
              "'mashed potatoes with pickled herring'"
            ]
          },
          "metadata": {},
          "execution_count": 207
        }
      ]
    },
    {
      "cell_type": "code",
      "source": [
        "food.find('p'), food.rfind('p') # we can also find first occurence fromthe right side"
      ],
      "metadata": {
        "id": "BPKpbP-AsWea",
        "outputId": "be0b59e1-fca1-468a-f8c6-3481a914ec31",
        "colab": {
          "base_uri": "https://localhost:8080/"
        }
      },
      "execution_count": 209,
      "outputs": [
        {
          "output_type": "execute_result",
          "data": {
            "text/plain": [
              "(7, 21)"
            ]
          },
          "metadata": {},
          "execution_count": 209
        }
      ]
    },
    {
      "cell_type": "code",
      "source": [
        ""
      ],
      "metadata": {
        "id": "4USkNrvGtPPJ"
      },
      "execution_count": null,
      "outputs": []
    }
  ],
  "metadata": {
    "kernelspec": {
      "display_name": "Python 3",
      "language": "python",
      "name": "python3"
    },
    "language_info": {
      "codemirror_mode": {
        "name": "ipython",
        "version": 3
      },
      "file_extension": ".py",
      "mimetype": "text/x-python",
      "name": "python",
      "nbconvert_exporter": "python",
      "pygments_lexer": "ipython3",
      "version": "3.8.3"
    },
    "colab": {
      "name": "Python Strings.ipynb",
      "provenance": []
    }
  },
  "nbformat": 4,
  "nbformat_minor": 0
}