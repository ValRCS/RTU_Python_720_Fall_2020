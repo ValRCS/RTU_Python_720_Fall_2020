{
  "cells": [
    {
      "cell_type": "markdown",
      "metadata": {
        "id": "gZLzf03hwxre"
      },
      "source": [
        "# Python Functions"
      ]
    },
    {
      "cell_type": "markdown",
      "metadata": {
        "id": "FUDix8N8wxrl"
      },
      "source": [
        "## What is a function?\n",
        "\n",
        "* A function is a block of organized, reusable code that is used to perform a single, related action.\n",
        "* Single, organized, related always ? :)\n",
        "* This is an idealized view of a function\n",
        "* Exceptions abound\n",
        "\n",
        "\n",
        "### DRY - Do not Repeat Yourself principle\n",
        "\n",
        "* *Every piece of knowledge must have a single, unambiguous, authoritative representation within a system.*\n",
        "http://wiki.c2.com/?DontRepeatYourself\n",
        "\n",
        "* Contrast WET - We Enjoy Typing, Write Everything Twice, Waste Everyone's Time"
      ]
    },
    {
      "cell_type": "code",
      "execution_count": 1,
      "metadata": {
        "colab": {
          "base_uri": "https://localhost:8080/"
        },
        "id": "Ox1WVHV6wxrm",
        "outputId": "68e05409-8913-41d7-cfac-c990d57a2354"
      },
      "outputs": [
        {
          "output_type": "stream",
          "name": "stdout",
          "text": [
            "I want to go eat\n",
            "I am going to order food\n"
          ]
        }
      ],
      "source": [
        "# let's say I have two lines of code that I want to reuse\n",
        "\n",
        "print(\"I want to go eat\")\n",
        "print(\"I am going to order food\")\n",
        "# instead of copy and pasting this code I could define a function to"
      ]
    },
    {
      "cell_type": "code",
      "execution_count": 2,
      "metadata": {
        "id": "xDREX7S3wxro"
      },
      "outputs": [],
      "source": [
        "# Here we define our first function # order_food is more Pythonic style than orderFood which is camelCase\n",
        "# name your functions one, two, three word names, longer if possibly necessary\n",
        "# use snake case _ to separate names in the function\n",
        "def order_food():\n",
        "    # so indentation after : here defines the commands/instructions for function to perform when called\n",
        "    print(\"I want to go eat\")\n",
        "    print(\"I am going to order food\")\n",
        "# so i've defined my function\n",
        "# yet I have not run it"
      ]
    },
    {
      "cell_type": "code",
      "execution_count": 3,
      "metadata": {
        "colab": {
          "base_uri": "https://localhost:8080/"
        },
        "id": "kyFI8wDhwxro",
        "outputId": "afbbee6d-8125-47f0-c561-c9d6f15edcea"
      },
      "outputs": [
        {
          "output_type": "stream",
          "name": "stdout",
          "text": [
            "I want to go eat\n",
            "I am going to order food\n"
          ]
        }
      ],
      "source": [
        "order_food()\n",
        "# order_food()"
      ]
    },
    {
      "cell_type": "code",
      "execution_count": 5,
      "metadata": {
        "colab": {
          "base_uri": "https://localhost:8080/"
        },
        "id": "iRTqz84kwxrp",
        "outputId": "0cbd3b8a-90f2-4062-90e6-2c38edb90d2f"
      },
      "outputs": [
        {
          "output_type": "stream",
          "name": "stdout",
          "text": [
            "Let's go out!\n",
            "I want to go eat\n",
            "I am going to order food\n",
            "Let's run!\n",
            "I want to go eat\n",
            "I am going to order food\n"
          ]
        }
      ],
      "source": [
        "# i can use my function as part of another of my own functions\n",
        "def going_out():\n",
        "    print(\"Let's go out!\")\n",
        "    order_food()\n",
        "    print(\"Let's run!\")\n",
        "    order_food()\n",
        "# once again nothing happen because I just defined a function but I did not run it\n",
        "going_out() # i could have run it here as well"
      ]
    },
    {
      "cell_type": "code",
      "execution_count": 6,
      "metadata": {
        "colab": {
          "base_uri": "https://localhost:8080/"
        },
        "id": "6UfAgu8Mwxrp",
        "outputId": "5e906264-d42f-4035-b153-17970570f6a8"
      },
      "outputs": [
        {
          "output_type": "stream",
          "name": "stdout",
          "text": [
            "Let's go out!\n",
            "I want to go eat\n",
            "I am going to order food\n",
            "Let's run!\n",
            "I want to go eat\n",
            "I am going to order food\n"
          ]
        }
      ],
      "source": [
        "going_out()"
      ]
    },
    {
      "cell_type": "markdown",
      "source": [
        "## Functions with parameters/arguments\n",
        "\n",
        "### The difference between parameters and arguments:\n",
        "\n",
        "* Function parameters are the names listed in the function's definition.\n",
        "* Function arguments are the real values passed to the function.\n",
        "* Parameters are initialized to the values of the arguments supplied."
      ],
      "metadata": {
        "id": "WXb0f6r4yX-N"
      }
    },
    {
      "cell_type": "code",
      "execution_count": 7,
      "metadata": {
        "id": "abx_S16Rwxrq"
      },
      "outputs": [],
      "source": [
        "# by defining an argument we can make our functions more universal\n",
        "# here I am passing dish which can be any data that supports .upper() , that would be string\n",
        "# other data would throw errors\n",
        "def place_order(dish):\n",
        "    print(\"Hello waiter!\")\n",
        "    print(f\"I'd like to order {dish}\")\n",
        "    print(f\"Let's eat {dish.upper()}!\")"
      ]
    },
    {
      "cell_type": "code",
      "execution_count": 8,
      "metadata": {
        "colab": {
          "base_uri": "https://localhost:8080/"
        },
        "id": "aALL93hDwxrq",
        "outputId": "8d342dc3-5d61-477d-96ea-ad538c37aced"
      },
      "outputs": [
        {
          "output_type": "stream",
          "name": "stdout",
          "text": [
            "Hello waiter!\n",
            "I'd like to order potatoes\n",
            "Let's eat POTATOES!\n"
          ]
        }
      ],
      "source": [
        "place_order(\"potatoes\")  # i could pass string literal as an argument"
      ]
    },
    {
      "cell_type": "code",
      "execution_count": 9,
      "metadata": {
        "colab": {
          "base_uri": "https://localhost:8080/"
        },
        "id": "NZThmpJ6wxrr",
        "outputId": "912a613c-155c-4b95-c57b-4c7afcf1ec89"
      },
      "outputs": [
        {
          "output_type": "stream",
          "name": "stdout",
          "text": [
            "Hello waiter!\n",
            "I'd like to order Ice cream\n",
            "Let's eat ICE CREAM!\n"
          ]
        }
      ],
      "source": [
        "dessert = \"Ice cream\" # I could define some variable and use that as a function argument\n",
        "place_order(dessert)"
      ]
    },
    {
      "cell_type": "code",
      "execution_count": 10,
      "metadata": {
        "colab": {
          "base_uri": "https://localhost:8080/"
        },
        "id": "Z9OEHJEuwxrr",
        "outputId": "d1ebe8bd-579c-4650-a9a3-1c136c0083d0"
      },
      "outputs": [
        {
          "output_type": "stream",
          "name": "stdout",
          "text": [
            "Hello waiter!\n",
            "I'd like to order Beet soup\n",
            "Let's eat BEET SOUP!\n",
            "Hello waiter!\n",
            "I'd like to order Salad\n",
            "Let's eat SALAD!\n",
            "Hello waiter!\n",
            "I'd like to order Meat and potatoes\n",
            "Let's eat MEAT AND POTATOES!\n",
            "Hello waiter!\n",
            "I'd like to order Ice cream\n",
            "Let's eat ICE CREAM!\n"
          ]
        }
      ],
      "source": [
        "# I could create a list of strings and pass each one in a loop to our place_order function\n",
        "food_list = [\"Beet soup\", \"Salad\", \"Meat and potatoes\", \"Ice cream\"]\n",
        "for food in food_list:\n",
        "    place_order(food)"
      ]
    },
    {
      "cell_type": "markdown",
      "source": [
        "### Creating a function that takes a list"
      ],
      "metadata": {
        "id": "Sl0CYQ72znfX"
      }
    },
    {
      "cell_type": "code",
      "source": [
        "# very often when working with notebooks we will first creat some code\n",
        "# then when it works in a cell we prepare as a function for future use\n",
        "# here I will create a function from the cell that used list and for loop to order food\n",
        "def order_food_from_list(food_list):\n",
        "    print(f\"Let's order a bunch of food from this list {food_list}\")\n",
        "    for food in food_list:\n",
        "        print(f\"Will order {food}\")\n",
        "        place_order(food)\n",
        "    print(\"I think I am really stuffed!\")\n",
        "    # importantly innner function food will not survive outside order_food_from_list function\n",
        "\n",
        "# so variables can have different scope"
      ],
      "metadata": {
        "id": "uzL6RUOWzqYz"
      },
      "execution_count": 14,
      "outputs": []
    },
    {
      "cell_type": "code",
      "source": [
        "order_food_from_list([\"Kebab\",\"Yogurt\"])  # so I pass a list of string items"
      ],
      "metadata": {
        "colab": {
          "base_uri": "https://localhost:8080/"
        },
        "id": "AuIG1kFA0m0n",
        "outputId": "e001567c-32e6-4863-87d8-713afec2f5b2"
      },
      "execution_count": 15,
      "outputs": [
        {
          "output_type": "stream",
          "name": "stdout",
          "text": [
            "Let's order a bunch of food from this list ['Kebab', 'Yogurt']\n",
            "Will order Kebab\n",
            "Hello waiter!\n",
            "I'd like to order Kebab\n",
            "Let's eat KEBAB!\n",
            "Will order Yogurt\n",
            "Hello waiter!\n",
            "I'd like to order Yogurt\n",
            "Let's eat YOGURT!\n",
            "I think I am really stuffed!\n"
          ]
        }
      ]
    },
    {
      "cell_type": "code",
      "source": [
        "order_food_from_list(food_list)"
      ],
      "metadata": {
        "colab": {
          "base_uri": "https://localhost:8080/"
        },
        "id": "hQq7hluF1Fyt",
        "outputId": "833a0a7a-8220-417c-d38c-4d058e263d52"
      },
      "execution_count": 16,
      "outputs": [
        {
          "output_type": "stream",
          "name": "stdout",
          "text": [
            "Let's order a bunch of food from this list ['Beet soup', 'Salad', 'Meat and potatoes', 'Ice cream']\n",
            "Will order Beet soup\n",
            "Hello waiter!\n",
            "I'd like to order Beet soup\n",
            "Let's eat BEET SOUP!\n",
            "Will order Salad\n",
            "Hello waiter!\n",
            "I'd like to order Salad\n",
            "Let's eat SALAD!\n",
            "Will order Meat and potatoes\n",
            "Hello waiter!\n",
            "I'd like to order Meat and potatoes\n",
            "Let's eat MEAT AND POTATOES!\n",
            "Will order Ice cream\n",
            "Hello waiter!\n",
            "I'd like to order Ice cream\n",
            "Let's eat ICE CREAM!\n",
            "I think I am really stuffed!\n"
          ]
        }
      ]
    },
    {
      "cell_type": "code",
      "source": [
        "# in this particular case I have global food_list and \n",
        "# and also function that has a parameter food_list\n",
        "# it is not required that they are same"
      ],
      "metadata": {
        "id": "CnU7Ypui06LU"
      },
      "execution_count": null,
      "outputs": []
    },
    {
      "cell_type": "code",
      "source": [
        "different_food_list = [\"Salad\", \"Stockpot\", \"Nothing for dessert\"]\n",
        "order_food_from_list(different_food_list)"
      ],
      "metadata": {
        "colab": {
          "base_uri": "https://localhost:8080/"
        },
        "id": "VFv9o9sK1LIW",
        "outputId": "497688b5-1857-471c-f22b-8a39157f2d8f"
      },
      "execution_count": 17,
      "outputs": [
        {
          "output_type": "stream",
          "name": "stdout",
          "text": [
            "Let's order a bunch of food from this list ['Salad', 'Stockpot', 'Nothing for dessert']\n",
            "Will order Salad\n",
            "Hello waiter!\n",
            "I'd like to order Salad\n",
            "Let's eat SALAD!\n",
            "Will order Stockpot\n",
            "Hello waiter!\n",
            "I'd like to order Stockpot\n",
            "Let's eat STOCKPOT!\n",
            "Will order Nothing for dessert\n",
            "Hello waiter!\n",
            "I'd like to order Nothing for dessert\n",
            "Let's eat NOTHING FOR DESSERT!\n",
            "I think I am really stuffed!\n"
          ]
        }
      ]
    },
    {
      "cell_type": "code",
      "execution_count": 19,
      "metadata": {
        "colab": {
          "base_uri": "https://localhost:8080/"
        },
        "id": "26WTl5FVwxrr",
        "outputId": "fde7e171-b814-4ded-e85c-d6cb9c54acac"
      },
      "outputs": [
        {
          "output_type": "execute_result",
          "data": {
            "text/plain": [
              "('Ice cream',\n",
              " ['Beet soup', 'Salad', 'Meat and potatoes', 'Ice cream'],\n",
              " 'Ice cream')"
            ]
          },
          "metadata": {},
          "execution_count": 19
        }
      ],
      "source": [
        "food, food_list, dessert"
      ]
    },
    {
      "cell_type": "markdown",
      "source": [
        "## Function parameter data types\n"
      ],
      "metadata": {
        "id": "nTmTa_RK11-3"
      }
    },
    {
      "cell_type": "code",
      "source": [
        "# Python is not checking what type of arguments I am passing as data\n",
        "# dynamic typing - there are more strict languages that check this with static types\n",
        "# this means that it is easier to write a function but we could potentially give it \n",
        "# data that it can not work on\n",
        "# there are so called type hints that we will touch on later\n",
        "# but those are just recommendations"
      ],
      "metadata": {
        "id": "ytu5Pkzj1nMj"
      },
      "execution_count": null,
      "outputs": []
    },
    {
      "cell_type": "code",
      "source": [
        "# what will happen here? Will it be error ?\n",
        "# I was supposed to give a list...\n",
        "order_food_from_list(\"potatoe salad\")"
      ],
      "metadata": {
        "colab": {
          "base_uri": "https://localhost:8080/"
        },
        "id": "gfmuzyRG1_r6",
        "outputId": "e8b296a0-f643-4a8d-b213-825567183be4"
      },
      "execution_count": 20,
      "outputs": [
        {
          "output_type": "stream",
          "name": "stdout",
          "text": [
            "Let's order a bunch of food from this list potatoe salad\n",
            "Will order p\n",
            "Hello waiter!\n",
            "I'd like to order p\n",
            "Let's eat P!\n",
            "Will order o\n",
            "Hello waiter!\n",
            "I'd like to order o\n",
            "Let's eat O!\n",
            "Will order t\n",
            "Hello waiter!\n",
            "I'd like to order t\n",
            "Let's eat T!\n",
            "Will order a\n",
            "Hello waiter!\n",
            "I'd like to order a\n",
            "Let's eat A!\n",
            "Will order t\n",
            "Hello waiter!\n",
            "I'd like to order t\n",
            "Let's eat T!\n",
            "Will order o\n",
            "Hello waiter!\n",
            "I'd like to order o\n",
            "Let's eat O!\n",
            "Will order e\n",
            "Hello waiter!\n",
            "I'd like to order e\n",
            "Let's eat E!\n",
            "Will order  \n",
            "Hello waiter!\n",
            "I'd like to order  \n",
            "Let's eat  !\n",
            "Will order s\n",
            "Hello waiter!\n",
            "I'd like to order s\n",
            "Let's eat S!\n",
            "Will order a\n",
            "Hello waiter!\n",
            "I'd like to order a\n",
            "Let's eat A!\n",
            "Will order l\n",
            "Hello waiter!\n",
            "I'd like to order l\n",
            "Let's eat L!\n",
            "Will order a\n",
            "Hello waiter!\n",
            "I'd like to order a\n",
            "Let's eat A!\n",
            "Will order d\n",
            "Hello waiter!\n",
            "I'd like to order d\n",
            "Let's eat D!\n",
            "I think I am really stuffed!\n"
          ]
        }
      ]
    },
    {
      "cell_type": "code",
      "source": [
        "# instead we could have passed a list of one item\n",
        "order_food_from_list([\"potatoe salad\"])"
      ],
      "metadata": {
        "colab": {
          "base_uri": "https://localhost:8080/"
        },
        "id": "8XrywLsI2ow6",
        "outputId": "aa033d40-3a68-46df-e046-5ce387074f06"
      },
      "execution_count": 21,
      "outputs": [
        {
          "output_type": "stream",
          "name": "stdout",
          "text": [
            "Let's order a bunch of food from this list ['potatoe salad']\n",
            "Will order potatoe salad\n",
            "Hello waiter!\n",
            "I'd like to order potatoe salad\n",
            "Let's eat POTATOE SALAD!\n",
            "I think I am really stuffed!\n"
          ]
        }
      ]
    },
    {
      "cell_type": "code",
      "source": [
        "# i could even give an empty list\n",
        "order_food_from_list([])"
      ],
      "metadata": {
        "colab": {
          "base_uri": "https://localhost:8080/"
        },
        "id": "H6ol_RI82t1L",
        "outputId": "328977d0-372a-4b9b-d920-67fd0d2432ae"
      },
      "execution_count": 22,
      "outputs": [
        {
          "output_type": "stream",
          "name": "stdout",
          "text": [
            "Let's order a bunch of food from this list []\n",
            "I think I am really stuffed!\n"
          ]
        }
      ]
    },
    {
      "cell_type": "markdown",
      "source": [
        "## Strings instead of lists\n",
        "\n",
        "Strings are sequences of strings of 1 element each - character really but Python does not use concept of character\n",
        "\n",
        "So since we could loop with for loop through string \n",
        "We passed these mini strings to inner eat_food function\n"
      ],
      "metadata": {
        "id": "F9xD7iMs2TLE"
      }
    },
    {
      "cell_type": "markdown",
      "source": [
        "## Multiple parameters"
      ],
      "metadata": {
        "id": "xFjPv69t20wg"
      }
    },
    {
      "cell_type": "code",
      "execution_count": 24,
      "metadata": {
        "id": "dqKenYj1wxrs"
      },
      "outputs": [],
      "source": [
        "# Passing parameters(arguments)\n",
        "def add(a, b):\n",
        "    # you'd have an opportunity to verify, validate before using +\n",
        "    result = a+b  # result could be named anything else\n",
        "    print(f\"Adding {a} + {b} == {result}\")\n",
        "    print(result)\n",
        "    # returns None"
      ]
    },
    {
      "cell_type": "code",
      "execution_count": 25,
      "metadata": {
        "colab": {
          "base_uri": "https://localhost:8080/"
        },
        "id": "OQh05Xhnwxrs",
        "outputId": "b0ccf5dd-6d9c-4517-9f77-f82c947d9cf5"
      },
      "outputs": [
        {
          "output_type": "stream",
          "name": "stdout",
          "text": [
            "Adding 4 + 6 == 10\n",
            "10\n",
            "Adding 9 + 233 == 242\n",
            "242\n",
            "Adding Hello  + Riga == Hello Riga\n",
            "Hello Riga\n",
            "Adding [1, 2, 7] + [6, 7, 8, 9, 10, 11] == [1, 2, 7, 6, 7, 8, 9, 10, 11]\n",
            "[1, 2, 7, 6, 7, 8, 9, 10, 11]\n"
          ]
        }
      ],
      "source": [
        "add(4,6)\n",
        "add(9,233)\n",
        "# again due to Python dynamic typing it will work with any two data types\n",
        "# that support addition\n",
        "add(\"Hello \",\"Riga\")\n",
        "add([1,2,7],list(range(6,12)))"
      ]
    },
    {
      "cell_type": "markdown",
      "source": [
        "## Returning results/values from function\n",
        "\n"
      ],
      "metadata": {
        "id": "9JiFODtc3T-m"
      }
    },
    {
      "cell_type": "code",
      "source": [
        "# i would like to get results from function for use later\n",
        "my_saved_result = add(10,35) \n",
        "print(\"My saved result\", my_saved_result) # will not be quite what we want"
      ],
      "metadata": {
        "colab": {
          "base_uri": "https://localhost:8080/"
        },
        "id": "w6q2YHMC3X9N",
        "outputId": "2c56804b-b0ca-4a25-9217-b851105c66ca"
      },
      "execution_count": 26,
      "outputs": [
        {
          "output_type": "stream",
          "name": "stdout",
          "text": [
            "Adding 10 + 35 == 45\n",
            "45\n",
            "My saved result None\n"
          ]
        }
      ]
    },
    {
      "cell_type": "code",
      "source": [
        "# Turns out that Python functions return None by default if you do not specify return"
      ],
      "metadata": {
        "id": "kLWyStFB3mgz"
      },
      "execution_count": null,
      "outputs": []
    },
    {
      "cell_type": "code",
      "execution_count": null,
      "metadata": {
        "id": "FDyRKL86wxrs"
      },
      "outputs": [],
      "source": [
        "# what do we do if we want to modify some value, we could have global value which modify..\n",
        "# but modifying global values generally can get messy\n"
      ]
    },
    {
      "cell_type": "code",
      "execution_count": 28,
      "metadata": {
        "id": "X4EjZkT-wxrt"
      },
      "outputs": [],
      "source": [
        "def mult(a, b):\n",
        "    result = a*b # result is just a name of inner local variable could be anything\n",
        "    print(f\"Look Ma! I am multiplying {a} * {b} which is {result}\")  # printing is just a side-effect for this function\n",
        "    return result # with no return the default return is None"
      ]
    },
    {
      "cell_type": "code",
      "execution_count": 29,
      "metadata": {
        "colab": {
          "base_uri": "https://localhost:8080/"
        },
        "id": "Gc5QX_K2wxrt",
        "outputId": "9f8a4e8b-2488-41e3-edeb-683c915464b8"
      },
      "outputs": [
        {
          "output_type": "stream",
          "name": "stdout",
          "text": [
            "Look Ma! I am multiplying 5 * 9 which is 45\n"
          ]
        },
        {
          "output_type": "execute_result",
          "data": {
            "text/plain": [
              "45"
            ]
          },
          "metadata": {},
          "execution_count": 29
        }
      ],
      "source": [
        "mult(5,9)  # here this 45 is returned and we can use/save it"
      ]
    },
    {
      "cell_type": "code",
      "execution_count": 30,
      "metadata": {
        "colab": {
          "base_uri": "https://localhost:8080/"
        },
        "id": "XJULgifGwxrt",
        "outputId": "44cbf0bd-adcf-4dce-8b3c-356a2494f706"
      },
      "outputs": [
        {
          "output_type": "stream",
          "name": "stdout",
          "text": [
            "Adding 5 + 9 == 14\n",
            "14\n"
          ]
        }
      ],
      "source": [
        "add(5,9)  # difference is that add returns None, all the output is from printing"
      ]
    },
    {
      "cell_type": "code",
      "execution_count": 31,
      "metadata": {
        "colab": {
          "base_uri": "https://localhost:8080/"
        },
        "id": "2WFvQQ9Nwxru",
        "outputId": "216e4e99-4b7f-4dc0-c0a4-7b52c2de5bdb"
      },
      "outputs": [
        {
          "output_type": "stream",
          "name": "stdout",
          "text": [
            "Look Ma! I am multiplying 10 * 5 which is 50\n",
            "Adding 10 + 5 == 15\n",
            "15\n"
          ]
        }
      ],
      "source": [
        "# so now we can simply assign to some variable, just like this\n",
        "t1 = mult(10,5)\n",
        "t2 = add(10,5)"
      ]
    },
    {
      "cell_type": "code",
      "execution_count": 32,
      "metadata": {
        "colab": {
          "base_uri": "https://localhost:8080/"
        },
        "id": "wrDoJl8xwxru",
        "outputId": "aa0dd8f8-f200-41b5-c6ab-3682cf6a1ce2"
      },
      "outputs": [
        {
          "output_type": "execute_result",
          "data": {
            "text/plain": [
              "(50, None)"
            ]
          },
          "metadata": {},
          "execution_count": 32
        }
      ],
      "source": [
        "t1,t2 # so variable which was used to save mult actually has a usable value, add returned None which is not very helpful"
      ]
    },
    {
      "cell_type": "markdown",
      "source": [
        "## Chaining functions\n",
        "\n",
        "If function returns something we can use to return value for another function, even the same function"
      ],
      "metadata": {
        "id": "M5xkrtUB4p2x"
      }
    },
    {
      "cell_type": "code",
      "source": [
        "big_result = mult(mult(20,3), mult(2,5)) # so what will be the order of \n",
        "# so evaluation will happen inside from left to right"
      ],
      "metadata": {
        "colab": {
          "base_uri": "https://localhost:8080/"
        },
        "id": "hvWSkPGg4oF5",
        "outputId": "0ca959ca-28a0-45a8-8a7f-7e170c97e8a1"
      },
      "execution_count": 33,
      "outputs": [
        {
          "output_type": "stream",
          "name": "stdout",
          "text": [
            "Look Ma! I am multiplying 20 * 3 which is 60\n",
            "Look Ma! I am multiplying 2 * 5 which is 10\n",
            "Look Ma! I am multiplying 60 * 10 which is 600\n"
          ]
        }
      ]
    },
    {
      "cell_type": "code",
      "source": [
        "# i can now print big_result later on\n",
        "print(big_result)"
      ],
      "metadata": {
        "colab": {
          "base_uri": "https://localhost:8080/"
        },
        "id": "VQP9IXXd5QIW",
        "outputId": "31706100-43a6-464a-aff2-781f631db74f"
      },
      "execution_count": 34,
      "outputs": [
        {
          "output_type": "stream",
          "name": "stdout",
          "text": [
            "600\n"
          ]
        }
      ]
    },
    {
      "cell_type": "code",
      "execution_count": 35,
      "metadata": {
        "colab": {
          "base_uri": "https://localhost:8080/"
        },
        "id": "moObjEtpwxru",
        "outputId": "ba52c925-7546-403c-d786-19e04b3fa275"
      },
      "outputs": [
        {
          "output_type": "execute_result",
          "data": {
            "text/plain": [
              "False"
            ]
          },
          "metadata": {},
          "execution_count": 35
        }
      ],
      "source": [
        "'soup' in food_list"
      ]
    },
    {
      "cell_type": "code",
      "execution_count": 36,
      "metadata": {
        "colab": {
          "base_uri": "https://localhost:8080/"
        },
        "id": "uoTOG-1uwxru",
        "outputId": "e7f19a33-9392-4985-aca3-24c230e8e66f"
      },
      "outputs": [
        {
          "output_type": "execute_result",
          "data": {
            "text/plain": [
              "['Beet soup', 'Salad', 'Meat and potatoes', 'Ice cream']"
            ]
          },
          "metadata": {},
          "execution_count": 36
        }
      ],
      "source": [
        "food_list"
      ]
    },
    {
      "cell_type": "code",
      "execution_count": 37,
      "metadata": {
        "id": "N7V8CPyVwxru"
      },
      "outputs": [],
      "source": [
        "# so we make a function to return first item that contains our needle from our list\n",
        "def find_needle(needle, mylist):\n",
        "    for item in mylist:\n",
        "        if needle in item:\n",
        "            print(f\"Eureka! Found {needle} in {item}\")\n",
        "            return item # so this fun will return first found item which contains needle\n",
        "    # notice we have return inside if statement so it is not guaranteed\n",
        "    # what happens if we go through the list and find nothing?"
      ]
    },
    {
      "cell_type": "code",
      "execution_count": 38,
      "metadata": {
        "colab": {
          "base_uri": "https://localhost:8080/"
        },
        "id": "4ouMRZPowxrv",
        "outputId": "4edca6bb-d832-4809-e980-f8ad8971a552"
      },
      "outputs": [
        {
          "output_type": "stream",
          "name": "stdout",
          "text": [
            "Eureka! Found soup in Beet soup\n"
          ]
        }
      ],
      "source": [
        "mysoup = find_needle('soup', food_list)"
      ]
    },
    {
      "cell_type": "code",
      "execution_count": 39,
      "metadata": {
        "colab": {
          "base_uri": "https://localhost:8080/",
          "height": 35
        },
        "id": "PDAACQbQwxrv",
        "outputId": "867d5759-9dda-49e8-d2c0-6c6f6f493a94"
      },
      "outputs": [
        {
          "output_type": "execute_result",
          "data": {
            "text/plain": [
              "'Beet soup'"
            ],
            "application/vnd.google.colaboratory.intrinsic+json": {
              "type": "string"
            }
          },
          "metadata": {},
          "execution_count": 39
        }
      ],
      "source": [
        "mysoup"
      ]
    },
    {
      "cell_type": "code",
      "source": [
        "my_chocolate = find_needle(\"chocolate\", food_list)  # the quotes \" or ' work the same\n",
        "print(my_chocolate)"
      ],
      "metadata": {
        "id": "lYBiQORG7kJ4",
        "outputId": "b780bbde-b597-4397-9fc6-6ddac3d9e12b",
        "colab": {
          "base_uri": "https://localhost:8080/"
        }
      },
      "execution_count": 40,
      "outputs": [
        {
          "output_type": "stream",
          "name": "stdout",
          "text": [
            "None\n"
          ]
        }
      ]
    },
    {
      "cell_type": "code",
      "execution_count": 51,
      "metadata": {
        "id": "Ug5vyeFbwxrv"
      },
      "outputs": [],
      "source": [
        "def add_food(food, mylist):\n",
        "    # check for poison, give it to cour jester to try it out\n",
        "    mylist.append(food) # remember append is IN PLACE meaning you modify mylist that means also the list that we passed\n",
        "    # since lists will be passed as aliases/references\n",
        "    # so i can reused argument inside function for something else, not necessarily a good idea but you\n",
        "    food = \"Strawberries\" # this will not matter outside the function, only for local use\n",
        "    mylist.append(food) # remember append is IN PLACE meaning you modify mylist\n",
        "    mylist = [\"Diet soda\", \"Beyond Meat burger\"] # now I will be returning a new list, old one will be modified before that\n",
        "    mylist.append(food) # will add strawberries\n",
        "    # remember our variables are like aliases, like shortcuts, \n",
        "    # so here we changed mylist to point a completely new list and are not point to incoming mylist anymore\n",
        "    return mylist #not strictly necessary because well mylist will be modified"
      ]
    },
    {
      "cell_type": "code",
      "execution_count": 46,
      "metadata": {
        "colab": {
          "base_uri": "https://localhost:8080/"
        },
        "id": "oaiH7_D_wxrv",
        "outputId": "54812b15-4d37-4ee4-fd18-d1cd1654d1f4"
      },
      "outputs": [
        {
          "output_type": "execute_result",
          "data": {
            "text/plain": [
              "['Beet soup',\n",
              " 'Salad',\n",
              " 'Meat and potatoes',\n",
              " 'Ice cream',\n",
              " 'Ice cream',\n",
              " 'Strawberries',\n",
              " 'Ice cream',\n",
              " 'Strawberries']"
            ]
          },
          "metadata": {},
          "execution_count": 46
        }
      ],
      "source": [
        "add_food(dessert, food_list) # this returns the modified list as well"
      ]
    },
    {
      "cell_type": "code",
      "execution_count": 47,
      "metadata": {
        "id": "_QzVGPuDwxrv"
      },
      "outputs": [],
      "source": [
        "alias_for_my_list = add_food(\"Chocolate mousse\", food_list)"
      ]
    },
    {
      "cell_type": "code",
      "source": [
        "print(alias_for_my_list)"
      ],
      "metadata": {
        "id": "0ak5rsCm8e8F",
        "outputId": "72863e14-fd18-4b3f-d9e3-6fdefa060a8d",
        "colab": {
          "base_uri": "https://localhost:8080/"
        }
      },
      "execution_count": 48,
      "outputs": [
        {
          "output_type": "stream",
          "name": "stdout",
          "text": [
            "['Beet soup', 'Salad', 'Meat and potatoes', 'Ice cream', 'Ice cream', 'Strawberries', 'Ice cream', 'Strawberries', 'Chocolate mousse', 'Strawberries']\n"
          ]
        }
      ]
    },
    {
      "cell_type": "code",
      "source": [
        "print(food_list)  #so food_list and alias_for_my_list point to the same data"
      ],
      "metadata": {
        "id": "FKm5iFzD8jTs",
        "outputId": "559109ca-d27b-4530-8e3c-3ad69a156894",
        "colab": {
          "base_uri": "https://localhost:8080/"
        }
      },
      "execution_count": 49,
      "outputs": [
        {
          "output_type": "stream",
          "name": "stdout",
          "text": [
            "['Beet soup', 'Salad', 'Meat and potatoes', 'Ice cream', 'Ice cream', 'Strawberries', 'Ice cream', 'Strawberries', 'Chocolate mousse', 'Strawberries']\n"
          ]
        }
      ]
    },
    {
      "cell_type": "code",
      "execution_count": null,
      "metadata": {
        "id": "66gA2x7rwxrw",
        "outputId": "f4a7ca05-2306-4b2c-b4d1-2ec2d0a2e185"
      },
      "outputs": [
        {
          "data": {
            "text/plain": [
              "['Beet soup',\n",
              " 'Salad',\n",
              " 'Meat and potatoes',\n",
              " 'Ice cream',\n",
              " 'crab legs',\n",
              " 'Salad',\n",
              " 555,\n",
              " 'Ice cream',\n",
              " 'Ice cream',\n",
              " 'Ice cream',\n",
              " 'Strawberries',\n",
              " 'Ice cream',\n",
              " 'Strawberries']"
            ]
          },
          "execution_count": 57,
          "metadata": {},
          "output_type": "execute_result"
        }
      ],
      "source": [
        "food_list"
      ]
    },
    {
      "cell_type": "code",
      "source": [
        "new_food_list = add_food(\"Quinoe\", food_list)"
      ],
      "metadata": {
        "id": "UPvA1qbC89NM"
      },
      "execution_count": 52,
      "outputs": []
    },
    {
      "cell_type": "code",
      "source": [
        "food_list"
      ],
      "metadata": {
        "id": "9cnZg2hk9K5M",
        "outputId": "7b8fadb4-1eba-40a1-b4e6-875a08adc548",
        "colab": {
          "base_uri": "https://localhost:8080/"
        }
      },
      "execution_count": 53,
      "outputs": [
        {
          "output_type": "execute_result",
          "data": {
            "text/plain": [
              "['Beet soup',\n",
              " 'Salad',\n",
              " 'Meat and potatoes',\n",
              " 'Ice cream',\n",
              " 'Ice cream',\n",
              " 'Strawberries',\n",
              " 'Ice cream',\n",
              " 'Strawberries',\n",
              " 'Chocolate mousse',\n",
              " 'Strawberries',\n",
              " 'Quinoe',\n",
              " 'Strawberries']"
            ]
          },
          "metadata": {},
          "execution_count": 53
        }
      ]
    },
    {
      "cell_type": "code",
      "source": [
        "new_food_list"
      ],
      "metadata": {
        "id": "Bnhbj67j9en8",
        "outputId": "e9be46e7-86fe-4646-e277-c45a2e75b824",
        "colab": {
          "base_uri": "https://localhost:8080/"
        }
      },
      "execution_count": 54,
      "outputs": [
        {
          "output_type": "execute_result",
          "data": {
            "text/plain": [
              "['Diet soda', 'Beyond Meat burger', 'Strawberries']"
            ]
          },
          "metadata": {},
          "execution_count": 54
        }
      ]
    },
    {
      "cell_type": "code",
      "execution_count": 55,
      "metadata": {
        "id": "orCeHaIfwxrw"
      },
      "outputs": [],
      "source": [
        "# so for complex/compound data structures that can be mutated\n",
        "# we have IN PLACE and OUT OF PLACE functions/methods\n",
        "def add_food_out_of_place(food, mylist):\n",
        "    # check our food\n",
        "    # if we do not want to modify our list we could do this\n",
        "    # this is functional style\n",
        "    new_list = mylist + [food] # so this will not modify mylist\n",
        "    # do more stuff with new_list\n",
        "    return new_list # so we will get a new list but old list will stay unmodifed"
      ]
    },
    {
      "cell_type": "code",
      "source": [
        "another_list = add_food_out_of_place(\"Pancakes\", new_food_list)"
      ],
      "metadata": {
        "id": "1KnPVGeZ91u3"
      },
      "execution_count": 56,
      "outputs": []
    },
    {
      "cell_type": "code",
      "source": [
        "new_food_list"
      ],
      "metadata": {
        "id": "Spg0xkvr9_-H",
        "outputId": "2c036bda-a1e6-49a5-83d2-dd5b6d7cac5d",
        "colab": {
          "base_uri": "https://localhost:8080/"
        }
      },
      "execution_count": 57,
      "outputs": [
        {
          "output_type": "execute_result",
          "data": {
            "text/plain": [
              "['Diet soda', 'Beyond Meat burger', 'Strawberries']"
            ]
          },
          "metadata": {},
          "execution_count": 57
        }
      ]
    },
    {
      "cell_type": "code",
      "source": [
        "another_list"
      ],
      "metadata": {
        "id": "Jztk7utw-CAP",
        "outputId": "6c38e9f1-e992-47b8-84fd-5b6fe561cb7e",
        "colab": {
          "base_uri": "https://localhost:8080/"
        }
      },
      "execution_count": 58,
      "outputs": [
        {
          "output_type": "execute_result",
          "data": {
            "text/plain": [
              "['Diet soda', 'Beyond Meat burger', 'Strawberries', 'Pancakes']"
            ]
          },
          "metadata": {},
          "execution_count": 58
        }
      ]
    },
    {
      "cell_type": "markdown",
      "source": [
        "## Default values in function parameters"
      ],
      "metadata": {
        "id": "8sYSqoYA-GEz"
      }
    },
    {
      "cell_type": "code",
      "execution_count": 59,
      "metadata": {
        "id": "gD6XoKvUwxrw"
      },
      "outputs": [],
      "source": [
        "# i can make all values default\n",
        "# so this means I do not have to specify all values when calling function\n",
        "def make_cocktail(soda=\"tomato juice\", alcohol=\"Vodka\", mixer=\"Glass\"):\n",
        "    print(f\"Mixing {soda} with {alcohol} in a {mixer}\")\n",
        "    return f\"{soda}X{alcohol}\""
      ]
    },
    {
      "cell_type": "code",
      "execution_count": 60,
      "metadata": {
        "colab": {
          "base_uri": "https://localhost:8080/",
          "height": 53
        },
        "id": "vsaGVx2twxrw",
        "outputId": "df3a326e-0713-4e90-81fe-bafda8fe25c6"
      },
      "outputs": [
        {
          "output_type": "stream",
          "name": "stdout",
          "text": [
            "Mixing coke with rum in a shaker\n"
          ]
        },
        {
          "output_type": "execute_result",
          "data": {
            "text/plain": [
              "'cokeXrum'"
            ],
            "application/vnd.google.colaboratory.intrinsic+json": {
              "type": "string"
            }
          },
          "metadata": {},
          "execution_count": 60
        }
      ],
      "source": [
        "make_cocktail(\"coke\", \"rum\", \"shaker\") # this is normal function call"
      ]
    },
    {
      "cell_type": "code",
      "execution_count": 61,
      "metadata": {
        "colab": {
          "base_uri": "https://localhost:8080/",
          "height": 53
        },
        "id": "j7aJoAjxwxrw",
        "outputId": "09f30e09-b38e-4098-869c-77612f7c71ad"
      },
      "outputs": [
        {
          "output_type": "stream",
          "name": "stdout",
          "text": [
            "Mixing tonic with gin in a Glass\n"
          ]
        },
        {
          "output_type": "execute_result",
          "data": {
            "text/plain": [
              "'tonicXgin'"
            ],
            "application/vnd.google.colaboratory.intrinsic+json": {
              "type": "string"
            }
          },
          "metadata": {},
          "execution_count": 61
        }
      ],
      "source": [
        "make_cocktail(\"tonic\", \"gin\") # i can be lazy i can use glass as default, here I skip last value which will be default"
      ]
    },
    {
      "cell_type": "code",
      "execution_count": 62,
      "metadata": {
        "colab": {
          "base_uri": "https://localhost:8080/",
          "height": 53
        },
        "id": "URwNVpyJwxrx",
        "outputId": "70fe91d7-0ecf-4fdf-c10f-c3b00c67f611"
      },
      "outputs": [
        {
          "output_type": "stream",
          "name": "stdout",
          "text": [
            "Mixing tomato juice with Vodka in a Glass\n"
          ]
        },
        {
          "output_type": "execute_result",
          "data": {
            "text/plain": [
              "'tomato juiceXVodka'"
            ],
            "application/vnd.google.colaboratory.intrinsic+json": {
              "type": "string"
            }
          },
          "metadata": {},
          "execution_count": 62
        }
      ],
      "source": [
        "make_cocktail() # all values are default"
      ]
    },
    {
      "cell_type": "code",
      "execution_count": 63,
      "metadata": {
        "colab": {
          "base_uri": "https://localhost:8080/",
          "height": 53
        },
        "id": "zC4aOrq7wxrx",
        "outputId": "b7d26a50-547e-4b56-c001-08cad921801b"
      },
      "outputs": [
        {
          "output_type": "stream",
          "name": "stdout",
          "text": [
            "Mixing tomato juice with Grappa in a Glass\n"
          ]
        },
        {
          "output_type": "execute_result",
          "data": {
            "text/plain": [
              "'tomato juiceXGrappa'"
            ],
            "application/vnd.google.colaboratory.intrinsic+json": {
              "type": "string"
            }
          },
          "metadata": {},
          "execution_count": 63
        }
      ],
      "source": [
        "make_cocktail(alcohol=\"Grappa\") # so I can skip some default values"
      ]
    },
    {
      "cell_type": "code",
      "source": [
        "# So default values provide a nice way of adding extra functionality later on as well"
      ],
      "metadata": {
        "id": "ixxT4fbO-tlM"
      },
      "execution_count": null,
      "outputs": []
    },
    {
      "cell_type": "code",
      "execution_count": 66,
      "metadata": {
        "colab": {
          "base_uri": "https://localhost:8080/"
        },
        "id": "EfArTlufwxr6",
        "outputId": "141a6fd0-b5ac-4e01-eb4d-69b33b49311c"
      },
      "outputs": [
        {
          "output_type": "execute_result",
          "data": {
            "text/plain": [
              "17"
            ]
          },
          "metadata": {},
          "execution_count": 66
        }
      ],
      "source": [
        "# so I could keep the old functionality - thus not breaking previous code\n",
        "# and add options to do something else\n",
        "# here I add option to debug/print intermediate results\n",
        "def sub(a, b, debug_mode=False):\n",
        "    if debug_mode:\n",
        "        print(f\"Debugging {a} - {b} should be {a-b}\")\n",
        "    return(a-b)\n",
        "sub(20, 3)"
      ]
    },
    {
      "cell_type": "code",
      "source": [
        "sub(30,5, True)"
      ],
      "metadata": {
        "id": "RKp6Kv3l_Rot",
        "outputId": "d12733f8-7f2c-496b-9543-5cbe7d408b6d",
        "colab": {
          "base_uri": "https://localhost:8080/"
        }
      },
      "execution_count": 67,
      "outputs": [
        {
          "output_type": "stream",
          "name": "stdout",
          "text": [
            "Debugging 30 - 5 should be 25\n"
          ]
        },
        {
          "output_type": "execute_result",
          "data": {
            "text/plain": [
              "25"
            ]
          },
          "metadata": {},
          "execution_count": 67
        }
      ]
    },
    {
      "cell_type": "code",
      "source": [
        "# Even better would be to pass the name of argument\n",
        "# this is especially important when we have boolean flags\n",
        "# again Python is not checking whether that is a boolean\n",
        "sub(40, 7, debug_mode=True)"
      ],
      "metadata": {
        "id": "POm3bxFg_V1M",
        "outputId": "6c0a3fe2-b5ff-4889-b397-2bf2156ce6c7",
        "colab": {
          "base_uri": "https://localhost:8080/"
        }
      },
      "execution_count": 69,
      "outputs": [
        {
          "output_type": "stream",
          "name": "stdout",
          "text": [
            "Debugging 40 - 7 should be 33\n"
          ]
        },
        {
          "output_type": "execute_result",
          "data": {
            "text/plain": [
              "33"
            ]
          },
          "metadata": {},
          "execution_count": 69
        }
      ]
    },
    {
      "cell_type": "code",
      "execution_count": null,
      "metadata": {
        "id": "NQIsWxnjwxr6"
      },
      "outputs": [],
      "source": [
        "result = 0"
      ]
    },
    {
      "cell_type": "markdown",
      "source": [
        "## Avoid using globals inside functions\n",
        "\n",
        "There is a way to use global variables inside functions\n",
        "You should avoid it , it leads to messy code"
      ],
      "metadata": {
        "id": "56jExegk_nBF"
      }
    },
    {
      "cell_type": "code",
      "source": [
        "result = 100\n",
        "print(result)"
      ],
      "metadata": {
        "id": "Nr26lha5_xqj",
        "outputId": "b82a0e7f-afa8-46d1-8e3f-5a44fc4bd1f9",
        "colab": {
          "base_uri": "https://localhost:8080/"
        }
      },
      "execution_count": 71,
      "outputs": [
        {
          "output_type": "stream",
          "name": "stdout",
          "text": [
            "100\n"
          ]
        }
      ]
    },
    {
      "cell_type": "code",
      "execution_count": 72,
      "metadata": {
        "colab": {
          "base_uri": "https://localhost:8080/"
        },
        "id": "SX5JTUAlwxr7",
        "outputId": "15b65f7f-1a8a-4918-d266-fc9e8c3dd8ea"
      },
      "outputs": [
        {
          "output_type": "stream",
          "name": "stdout",
          "text": [
            "109\n"
          ]
        }
      ],
      "source": [
        "# Avoid this, more of an anti-pattern\n",
        "\n",
        "def add2(a,b):\n",
        "    global result\n",
        "    result += a+b\n",
        "    # many calculations\n",
        "    print(result)\n",
        "\n",
        "add2(3,6)"
      ]
    },
    {
      "cell_type": "code",
      "execution_count": 73,
      "metadata": {
        "id": "c02Jsd3Iwxr7"
      },
      "outputs": [],
      "source": [
        "\n",
        "def add_result(a, b, result):\n",
        "    result += a+b # same result = result + (a+b)\n",
        "    # many calculations\n",
        "    print(result)\n",
        "    return result\n"
      ]
    },
    {
      "cell_type": "code",
      "execution_count": 75,
      "metadata": {
        "colab": {
          "base_uri": "https://localhost:8080/"
        },
        "id": "x5VvDCzBwxr7",
        "outputId": "89690d0d-0ab0-4619-a374-7d04059a5a5a"
      },
      "outputs": [
        {
          "output_type": "stream",
          "name": "stdout",
          "text": [
            "124\n",
            "124\n"
          ]
        }
      ],
      "source": [
        "# I could overwrite the old result with new one\n",
        "result = add_result(5,10, result)\n",
        "print(result)"
      ]
    },
    {
      "cell_type": "code",
      "execution_count": null,
      "metadata": {
        "id": "BsDScRHDwxr7",
        "outputId": "85cf4ae7-8df8-4725-ecde-0d9200deb785"
      },
      "outputs": [
        {
          "name": "stdout",
          "output_type": "stream",
          "text": [
            "903\n"
          ]
        },
        {
          "data": {
            "text/plain": [
              "903"
            ]
          },
          "execution_count": 41,
          "metadata": {},
          "output_type": "execute_result"
        }
      ],
      "source": [
        "def add3(a,b,c):\n",
        "    print(a+b+c)\n",
        "    return(a+b+c)\n",
        "add3(13,26,864)"
      ]
    },
    {
      "cell_type": "code",
      "execution_count": null,
      "metadata": {
        "id": "xpNDbWRewxr8"
      },
      "outputs": [],
      "source": [
        "print(add3(list(range(5,10)), [1,3,6], [5,'VVVV']))"
      ]
    },
    {
      "cell_type": "code",
      "execution_count": null,
      "metadata": {
        "id": "O4LlIljMwxr8"
      },
      "outputs": [],
      "source": [
        "result = add3(\"A\",\"BRACA\",\"DABRA\")"
      ]
    },
    {
      "cell_type": "code",
      "execution_count": null,
      "metadata": {
        "id": "vN7VZR54wxr8"
      },
      "outputs": [],
      "source": [
        "result"
      ]
    },
    {
      "cell_type": "markdown",
      "source": [
        "## Docstrings\n",
        "\n",
        "Docstrings using '''documentions, description '''\n",
        "\n",
        "Lets you add help for your own functions"
      ],
      "metadata": {
        "id": "Rnif5CQjAYIh"
      }
    },
    {
      "cell_type": "code",
      "execution_count": 82,
      "metadata": {
        "colab": {
          "base_uri": "https://localhost:8080/"
        },
        "id": "OZhHa2kbwxr8",
        "outputId": "87725a9a-2e7d-4adf-db4c-e980428ec14a"
      },
      "outputs": [
        {
          "output_type": "stream",
          "name": "stdout",
          "text": [
            "True\n",
            "False\n",
            "59 is prime\n",
            "True\n"
          ]
        }
      ],
      "source": [
        "def is_prime(num, debug=False):\n",
        "    '''\n",
        "    Super simple method of checking for prime. \n",
        "    '''\n",
        "    for n in range(2,num): #How could we optimize this?\n",
        "        if num % n == 0:\n",
        "            if debug:\n",
        "                print(f'{num} is not prime, it divides by {n}')\n",
        "            return False\n",
        "    else: # runs when no divisors found\n",
        "        if debug:\n",
        "            print(f'{num} is prime')\n",
        "        return True\n",
        "print(is_prime(53))  #  I can now hover over my function and see description and help\n",
        "print(is_prime(51))\n",
        "print(is_prime(59, debug=True))"
      ]
    },
    {
      "cell_type": "code",
      "execution_count": null,
      "metadata": {
        "id": "u9Vx0ZEbwxr9"
      },
      "outputs": [],
      "source": [
        "is_prime(10)"
      ]
    },
    {
      "cell_type": "code",
      "execution_count": 79,
      "metadata": {
        "colab": {
          "base_uri": "https://localhost:8080/"
        },
        "id": "beOSN0fPwxr9",
        "outputId": "ddf35d13-d563-44cf-8411-6c29681274b9"
      },
      "outputs": [
        {
          "output_type": "execute_result",
          "data": {
            "text/plain": [
              "True"
            ]
          },
          "metadata": {},
          "execution_count": 79
        }
      ],
      "source": [
        "def is_prime_optimized(num):\n",
        "    '''\n",
        "    Faster method of checking for prime. \n",
        "    Only checks values for up to square root of number plus 1\n",
        "    '''\n",
        "    if num % 2 == 0 and num > 2: \n",
        "        return False\n",
        "    for i in range(3, int(num**0.5) + 1, 2): ## notice we only care about odd numbers  and do not need to check past sqrt of num\n",
        "        if num % i == 0:\n",
        "            return False\n",
        "    return True\n",
        "is_prime_optimized(23)"
      ]
    },
    {
      "cell_type": "markdown",
      "metadata": {
        "id": "NrGd8WI9wxr9"
      },
      "source": [
        "## Jupyter magic\n",
        "* *%%HTML* lets you render cell as HTML\n",
        "* *%%time* times your cell operation, *%time* times your single line run time\n",
        "* *%%timeit* runs your cell multiple time and gives you average\n",
        "\n",
        "### Magic docs: http://ipython.readthedocs.io/en/stable/interactive/magics.html"
      ]
    },
    {
      "cell_type": "markdown",
      "source": [
        "## Using timeit for performance analysis"
      ],
      "metadata": {
        "id": "7-o83kn9BnWb"
      }
    },
    {
      "cell_type": "code",
      "execution_count": 83,
      "metadata": {
        "colab": {
          "base_uri": "https://localhost:8080/"
        },
        "id": "c8WpPDI6wxr-",
        "outputId": "3333930e-ce46-44b2-8810-1b6c8f8a06b4"
      },
      "outputs": [
        {
          "output_type": "stream",
          "name": "stdout",
          "text": [
            "901 ns ± 10.5 ns per loop (mean ± std. dev. of 7 runs, 1000000 loops each)\n"
          ]
        }
      ],
      "source": [
        "%%timeit \n",
        "is_prime(100_001)"
      ]
    },
    {
      "cell_type": "code",
      "execution_count": 84,
      "metadata": {
        "colab": {
          "base_uri": "https://localhost:8080/"
        },
        "id": "ZRP1kYSywxr-",
        "outputId": "fe58a1df-b369-430e-c584-dee30e5d7812"
      },
      "outputs": [
        {
          "output_type": "stream",
          "name": "stdout",
          "text": [
            "840 ns ± 31.7 ns per loop (mean ± std. dev. of 7 runs, 1000000 loops each)\n"
          ]
        }
      ],
      "source": [
        "%%timeit \n",
        "is_prime_optimized(100_001)\n"
      ]
    },
    {
      "cell_type": "code",
      "source": [
        "is_prime_optimized(1325567)"
      ],
      "metadata": {
        "id": "LjWP-VgpBq0M",
        "outputId": "04a4bb48-f14b-465c-92a6-6c014e70b489",
        "colab": {
          "base_uri": "https://localhost:8080/"
        }
      },
      "execution_count": 93,
      "outputs": [
        {
          "output_type": "execute_result",
          "data": {
            "text/plain": [
              "True"
            ]
          },
          "metadata": {},
          "execution_count": 93
        }
      ]
    },
    {
      "cell_type": "code",
      "source": [
        "%%timeit\n",
        "is_prime(1325567)"
      ],
      "metadata": {
        "id": "_bKHn3GtB16u",
        "outputId": "7fab9833-5a43-4ec9-9b28-ebf544d3e8b2",
        "colab": {
          "base_uri": "https://localhost:8080/"
        }
      },
      "execution_count": 94,
      "outputs": [
        {
          "output_type": "stream",
          "name": "stdout",
          "text": [
            "126 ms ± 37 ms per loop (mean ± std. dev. of 7 runs, 10 loops each)\n"
          ]
        }
      ]
    },
    {
      "cell_type": "code",
      "source": [
        "%%timeit\n",
        "is_prime_optimized(1325567)"
      ],
      "metadata": {
        "id": "LV0tFQoBCbvP",
        "outputId": "c75fc69c-a993-4322-bf6c-6293d09835be",
        "colab": {
          "base_uri": "https://localhost:8080/"
        }
      },
      "execution_count": 95,
      "outputs": [
        {
          "output_type": "stream",
          "name": "stdout",
          "text": [
            "47.3 µs ± 1.66 µs per loop (mean ± std. dev. of 7 runs, 10000 loops each)\n"
          ]
        }
      ]
    },
    {
      "cell_type": "code",
      "source": [
        "# so here without printing the results are comparable\n",
        "# you see how optimized version is about 1000 times faster here at least"
      ],
      "metadata": {
        "id": "FrROzciCCiVj"
      },
      "execution_count": 96,
      "outputs": []
    },
    {
      "cell_type": "code",
      "execution_count": null,
      "metadata": {
        "id": "aiz3MZ4wwxr-"
      },
      "outputs": [],
      "source": [
        "# Why are the tests not comparable?\n",
        "# Hint: What is different about the function outputs?"
      ]
    },
    {
      "cell_type": "code",
      "execution_count": null,
      "metadata": {
        "id": "Nmo50_rEwxr-"
      },
      "outputs": [],
      "source": [
        "%timeit isPrimeSimple(100001)"
      ]
    },
    {
      "cell_type": "markdown",
      "source": [
        "## Variable length Arguments\n",
        "\n",
        "It would be nice to have functions that takes variable length arguments, just like print does, max,min does.\n"
      ],
      "metadata": {
        "id": "6gAc42s1Cxb8"
      }
    },
    {
      "cell_type": "code",
      "execution_count": 97,
      "metadata": {
        "colab": {
          "base_uri": "https://localhost:8080/"
        },
        "id": "nO_6B2wZwxr_",
        "outputId": "0a23de3b-e41d-430c-e0b3-5c7ce2248854"
      },
      "outputs": [
        {
          "output_type": "execute_result",
          "data": {
            "text/plain": [
              "1000"
            ]
          },
          "metadata": {},
          "execution_count": 97
        }
      ],
      "source": [
        "# notice that max function works with variable argument count(could 2 could 1000) or more\n",
        "max(5,2,7,222,1000, -555) # so not a list"
      ]
    },
    {
      "cell_type": "code",
      "execution_count": 98,
      "metadata": {
        "id": "1H9Dtql5wxr_"
      },
      "outputs": [],
      "source": [
        "# hard coded 3 parameters not variable!\n",
        "def getLargest(a,b,c):\n",
        "    result = 0\n",
        "    if a > b:\n",
        "        print(\"Aha a is largest\",a)\n",
        "        result = a\n",
        "    else:\n",
        "        print(\"Aha b is largest\",b)\n",
        "        result = b\n",
        "        \n",
        "    if c > result:\n",
        "        print(\"Hmm c is the largest of them all\", c)\n",
        "        result = c \n",
        "        \n",
        "    return result"
      ]
    },
    {
      "cell_type": "code",
      "execution_count": 99,
      "metadata": {
        "colab": {
          "base_uri": "https://localhost:8080/"
        },
        "id": "thO_oBNDwxr_",
        "outputId": "8c2edc8e-2bd1-4618-f65c-cb8ee14011a1"
      },
      "outputs": [
        {
          "output_type": "stream",
          "name": "stdout",
          "text": [
            "Aha a is largest -33\n"
          ]
        },
        {
          "output_type": "execute_result",
          "data": {
            "text/plain": [
              "-33"
            ]
          },
          "metadata": {},
          "execution_count": 99
        }
      ],
      "source": [
        "getLargest(-33,-455, -555)"
      ]
    },
    {
      "cell_type": "code",
      "execution_count": 101,
      "metadata": {
        "id": "YOWOS57Nwxr_"
      },
      "outputs": [],
      "source": [
        "def get_largest_many_args(*args): # notice the star\n",
        "    my_max = None\n",
        "    # so args will be a list of arguments\n",
        "    # however they are passed as regular arguments NOT a list\n",
        "    for arg in args:\n",
        "        if my_max is None or arg > my_max:\n",
        "            my_max = arg # we found a new high!\n",
        "\n",
        "    return my_max # so we go through"
      ]
    },
    {
      "cell_type": "code",
      "source": [
        "get_largest_many_args(1,6,2,2,67,16,7)"
      ],
      "metadata": {
        "id": "nNV3pqdlDoZ_",
        "outputId": "3123e103-8471-4828-ff7c-e737cdcea1ec",
        "colab": {
          "base_uri": "https://localhost:8080/"
        }
      },
      "execution_count": 102,
      "outputs": [
        {
          "output_type": "execute_result",
          "data": {
            "text/plain": [
              "67"
            ]
          },
          "metadata": {},
          "execution_count": 102
        }
      ]
    },
    {
      "cell_type": "code",
      "execution_count": 103,
      "metadata": {
        "id": "IqhZLYDOwxr_"
      },
      "outputs": [],
      "source": [
        "def get_largest_from_list(arg_list): # notice NO *\n",
        "    '''\n",
        "    This function returns largest value from a list!\n",
        "    '''\n",
        "    my_max = None\n",
        "    # so args will be a list of arguments\n",
        "    # however they are passed as regular arguments NOT a list\n",
        "    for arg in arg_list:\n",
        "        if my_max is None or arg > my_max:\n",
        "            my_max = arg # we found a new high!\n",
        "\n",
        "    return my_max # so we go through"
      ]
    },
    {
      "cell_type": "code",
      "execution_count": 104,
      "metadata": {
        "colab": {
          "base_uri": "https://localhost:8080/"
        },
        "id": "kVb2Zur9wxsA",
        "outputId": "2e31382d-2c9b-49f7-a11b-d044a59a5c83"
      },
      "outputs": [
        {
          "output_type": "execute_result",
          "data": {
            "text/plain": [
              "67"
            ]
          },
          "metadata": {},
          "execution_count": 104
        }
      ],
      "source": [
        "get_largest_from_list([1,6,2,2,67,16,7])"
      ]
    },
    {
      "cell_type": "code",
      "execution_count": null,
      "metadata": {
        "id": "FO3Vv-6xwxsA"
      },
      "outputs": [],
      "source": [
        "# with import we can use other libraries\n",
        "import random"
      ]
    },
    {
      "cell_type": "code",
      "execution_count": null,
      "metadata": {
        "id": "l1x3FksPwxsA"
      },
      "outputs": [],
      "source": [
        "random.random()"
      ]
    },
    {
      "cell_type": "code",
      "execution_count": null,
      "metadata": {
        "id": "TV2OuE1nwxsA"
      },
      "outputs": [],
      "source": [
        "random.randrange(2)"
      ]
    },
    {
      "cell_type": "code",
      "execution_count": null,
      "metadata": {
        "id": "m8hzC0NBwxsA"
      },
      "outputs": [],
      "source": [
        "def guessnum():\n",
        "    '''\n",
        "    Plays the number guessing game\n",
        "    '''\n",
        "    secret = random.randrange(100)\n",
        "    #print(secret)\n",
        "    x=-1 #Why did we need this declaration? How could we change the code to not require this assignment?\n",
        "    while x != secret:\n",
        "        x = int(input(\"Enter an integer please! \"))\n",
        "        if x > secret:\n",
        "            print(\"your number is too large\")\n",
        "        elif x < secret:\n",
        "            print(\"your number is too small\")\n",
        "        elif x == 555:\n",
        "            print(\"Secret Exit\")\n",
        "            break\n",
        "        else:\n",
        "            print(\"YOU WON!\")\n",
        "            print(f\"secret number is {secret}\")\n",
        "            break\n",
        "guessnum()\n",
        "    "
      ]
    },
    {
      "cell_type": "code",
      "execution_count": null,
      "metadata": {
        "id": "s-y4PgIfwxsB"
      },
      "outputs": [],
      "source": [
        "def guessnumCorr():\n",
        "    '''\n",
        "    Plays the number guessing game\n",
        "    '''\n",
        "    secret = random.randrange(100)\n",
        "    #print(secret)\n",
        "    x=-1 #Why did we need this declaration? How could we change the code to not require this assignment?\n",
        "    while x != secret:\n",
        "        x = int(input(\"Enter an integer please! \"))\n",
        "        if x == 555:\n",
        "            print(\"Secret Exit\")\n",
        "            break\n",
        "        elif x > secret:\n",
        "            print(\"your number is too large\")\n",
        "        elif x < secret:\n",
        "            print(\"your number is too small\")\n",
        "        else:\n",
        "            print(\"YOU WON!\")\n",
        "            print(f\"secret number is {secret}\")\n",
        "            break\n",
        "guessnumCorr()\n",
        "    "
      ]
    },
    {
      "cell_type": "code",
      "execution_count": null,
      "metadata": {
        "id": "mkjGO6dJwxsB"
      },
      "outputs": [],
      "source": [
        "guessnum()"
      ]
    },
    {
      "cell_type": "code",
      "execution_count": null,
      "metadata": {
        "id": "CJxg7b-rwxsC"
      },
      "outputs": [],
      "source": [
        "## Possible improvements, count how many tries it took to play the game"
      ]
    },
    {
      "cell_type": "code",
      "execution_count": null,
      "metadata": {
        "id": "HT5KZWzVwxsC"
      },
      "outputs": [],
      "source": [
        "def lazypow(a, b=2):\n",
        "    '''Returns a taken to the power of b\n",
        "    b default is 2'''\n",
        "    return(a**b)\n"
      ]
    },
    {
      "cell_type": "code",
      "execution_count": null,
      "metadata": {
        "id": "mo6FnjsLwxsC"
      },
      "outputs": [],
      "source": [
        "lazypow(5)"
      ]
    },
    {
      "cell_type": "code",
      "execution_count": null,
      "metadata": {
        "id": "Q7JxDtyrwxsC"
      },
      "outputs": [],
      "source": [
        "lazypow(5,3)"
      ]
    },
    {
      "cell_type": "code",
      "execution_count": null,
      "metadata": {
        "id": "ut5BszM4wxsD"
      },
      "outputs": [],
      "source": [
        "print(lazypow(3,4))\n",
        "print(lazypow(11))"
      ]
    },
    {
      "cell_type": "code",
      "execution_count": null,
      "metadata": {
        "id": "56Cdh8aWwxsD"
      },
      "outputs": [],
      "source": [
        "#Chaining function calls\n",
        "print(lazypow(mult(2,6)))"
      ]
    },
    {
      "cell_type": "code",
      "execution_count": null,
      "metadata": {
        "id": "Vnisw7x9wxsD"
      },
      "outputs": [],
      "source": [
        "print(lazypow(mult(2,6), 3))"
      ]
    },
    {
      "cell_type": "code",
      "execution_count": null,
      "metadata": {
        "id": "1aKYhKA0wxsD"
      },
      "outputs": [],
      "source": [
        "12**3\n"
      ]
    },
    {
      "cell_type": "code",
      "execution_count": null,
      "metadata": {
        "id": "jo1iCldjwxsD"
      },
      "outputs": [],
      "source": [
        "print(lazypow(mult(3,5), 4))"
      ]
    },
    {
      "cell_type": "code",
      "execution_count": null,
      "metadata": {
        "id": "mhWOsXvUwxsD"
      },
      "outputs": [],
      "source": [
        "#Returning multiple values\n",
        "def multdiv(a=6,b=3):\n",
        "    '''Returns two values as a tuple!:\n",
        "    1. multiplication of arguments\n",
        "    2. a/b\n",
        "    '''\n",
        "    return a*b, a/b\n"
      ]
    },
    {
      "cell_type": "code",
      "execution_count": null,
      "metadata": {
        "id": "ehTlUOy3wxsD"
      },
      "outputs": [],
      "source": [
        "res = multdiv()\n",
        "print(res)"
      ]
    },
    {
      "cell_type": "code",
      "execution_count": null,
      "metadata": {
        "id": "rfsoCwYJwxsE"
      },
      "outputs": [],
      "source": [
        "type(res)"
      ]
    },
    {
      "cell_type": "code",
      "execution_count": null,
      "metadata": {
        "id": "bCf3E0XRwxsE"
      },
      "outputs": [],
      "source": [
        "result = multdiv(4,3)"
      ]
    },
    {
      "cell_type": "code",
      "execution_count": null,
      "metadata": {
        "id": "zNSZGHiwwxsE"
      },
      "outputs": [],
      "source": [
        "result"
      ]
    },
    {
      "cell_type": "code",
      "execution_count": null,
      "metadata": {
        "id": "gw-7J4PJwxsE"
      },
      "outputs": [],
      "source": [
        "type(result)"
      ]
    },
    {
      "cell_type": "code",
      "execution_count": null,
      "metadata": {
        "id": "4dLOKIUCwxsE"
      },
      "outputs": [],
      "source": [
        "result[0]"
      ]
    },
    {
      "cell_type": "code",
      "execution_count": null,
      "metadata": {
        "id": "YHvrY72ZwxsE"
      },
      "outputs": [],
      "source": [
        "result[1]"
      ]
    },
    {
      "cell_type": "code",
      "execution_count": null,
      "metadata": {
        "id": "fdEzXyUfwxsE"
      },
      "outputs": [],
      "source": [
        "result = None"
      ]
    },
    {
      "cell_type": "code",
      "execution_count": null,
      "metadata": {
        "id": "3vhnCzxqwxsF"
      },
      "outputs": [],
      "source": [
        "mytuple = tuple(range(1,11))"
      ]
    },
    {
      "cell_type": "code",
      "execution_count": null,
      "metadata": {
        "id": "ApSEUbbcwxsF"
      },
      "outputs": [],
      "source": [
        "mytuple"
      ]
    },
    {
      "cell_type": "code",
      "execution_count": null,
      "metadata": {
        "id": "Gdf8OrvEwxsF"
      },
      "outputs": [],
      "source": [
        "mytuple[::-1]"
      ]
    },
    {
      "cell_type": "code",
      "execution_count": null,
      "metadata": {
        "id": "pN0gm0_twxsF"
      },
      "outputs": [],
      "source": [
        "mytuple[3:7:2]"
      ]
    },
    {
      "cell_type": "code",
      "execution_count": null,
      "metadata": {
        "id": "AuvGXkPwwxsF"
      },
      "outputs": [],
      "source": [
        "mylist = list(mytuple)"
      ]
    },
    {
      "cell_type": "code",
      "execution_count": null,
      "metadata": {
        "id": "AlVsls9ewxsF"
      },
      "outputs": [],
      "source": [
        "mylist"
      ]
    },
    {
      "cell_type": "code",
      "execution_count": null,
      "metadata": {
        "id": "x6_X-vthwxsF"
      },
      "outputs": [],
      "source": []
    },
    {
      "cell_type": "code",
      "execution_count": null,
      "metadata": {
        "id": "4wGT9c5cwxsF"
      },
      "outputs": [],
      "source": [
        "print(multdiv())\n",
        "print(multdiv(12))\n",
        "print(multdiv(b=4))\n",
        "print(multdiv(15,3))\n",
        "# we could just return two values separately"
      ]
    },
    {
      "cell_type": "code",
      "execution_count": null,
      "metadata": {
        "id": "CpKSgqBFwxsG"
      },
      "outputs": [],
      "source": [
        "Create a lazybuzz function which takes four arguments with default values of 3,5 , 1 and 100 representing the two divisors the beggining and end"
      ]
    },
    {
      "cell_type": "markdown",
      "metadata": {
        "id": "D0Gz_rfiwxsG"
      },
      "source": [
        "# Side effects\n",
        "\n",
        "In computer science, a function or expression is said to have a side effect if it modifies some state outside its scope or has an observable interaction with its calling functions or the outside world besides returning a value.\n",
        "* Ideal (Platonic?) function has none, but not always possible(input/output, globals)\n",
        "* Functional programming style strives towards this ideal, but real life is mixture of styles"
      ]
    },
    {
      "cell_type": "code",
      "execution_count": null,
      "metadata": {
        "id": "ZkZeU43-wxsH"
      },
      "outputs": [],
      "source": [
        "%%time\n",
        "import time #this time library has nothing to do with %%time Jupyter command\n",
        "def hello():\n",
        "    print(\"HW\")\n",
        "    time.sleep(.100)\n",
        "    print(\"Awake\")\n",
        "    \n",
        "hello()\n",
        "hello()"
      ]
    },
    {
      "cell_type": "code",
      "execution_count": null,
      "metadata": {
        "id": "JxIIzPTowxsJ"
      },
      "outputs": [],
      "source": [
        "##Built-in Functions\t\t\n",
        "abs()   dict()\thelp()\tmin()\tsetattr()\n",
        "all()\tdir()\thex()\tnext()\tslice()\n",
        "any()\tdivmod()\tid()\tobject()\tsorted()\n",
        "ascii()\tenumerate()\tinput()\toct()\tstaticmethod()\n",
        "bin()\teval()\tint()\topen()\tstr()\n",
        "bool()\texec()\tisinstance()\tord()\tsum()\n",
        "bytearray()\tfilter()\tissubclass()\tpow()\tsuper()\n",
        "bytes()\tfloat()\titer()\tprint()\ttuple()\n",
        "callable()\tformat()\tlen()\tproperty()\ttype()\n",
        "chr()\tfrozenset()\tlist()\trange()\tvars()\n",
        "classmethod()\tgetattr()\tlocals()\trepr()\tzip()\n",
        "compile()\tglobals()\tmap()\treversed()\t__import__()\n",
        "complex()\thasattr()\tmax()\tround()\t \n",
        "delattr()\thash()\tmemoryview()\tset()"
      ]
    },
    {
      "cell_type": "markdown",
      "metadata": {
        "id": "2h_owCS7wxsK"
      },
      "source": [
        "### More info on builtin functions: https://docs.python.org/3/library/functions.html"
      ]
    },
    {
      "cell_type": "markdown",
      "metadata": {
        "id": "AOa4TEnYwxsL"
      },
      "source": [
        "# Usage of *args \n",
        "\n",
        " *args and **kwargs are mostly used in function definitions. *args and **kwargs allow you to pass a variable number of arguments to a function. What does variable mean here is that you do not know before hand that how many arguments can be passed to your function by the user so in this case you use these two keywords. *args is used to send a non-keyworded variable length argument list to the function.\n",
        " \n",
        "\n"
      ]
    },
    {
      "cell_type": "code",
      "execution_count": null,
      "metadata": {
        "id": "uBl6vdNjwxsL",
        "outputId": "02f09372-cc32-4ea4-d591-6db86261b6e7"
      },
      "outputs": [
        {
          "name": "stdout",
          "output_type": "stream",
          "text": [
            "first normal arg: yasoob\n",
            "another arg through *argv : python\n",
            "another arg through *argv : eggs\n",
            "another arg through *argv : test\n"
          ]
        }
      ],
      "source": [
        "# you can pass multiple arguments in a function without specifying them in advance\n",
        "def test_var_args(f_arg=\"Valdis\", *argv):\n",
        "    print(\"first normal arg:\", f_arg)\n",
        "    for arg in argv:\n",
        "        print(\"another arg through *argv :\", arg)\n",
        "\n",
        "test_var_args('yasoob','python','eggs','test')"
      ]
    },
    {
      "cell_type": "code",
      "execution_count": null,
      "metadata": {
        "id": "SVPLOyXewxsM",
        "outputId": "e5d37f91-425e-4685-a13a-47bdcc49635e"
      },
      "outputs": [
        {
          "name": "stdout",
          "output_type": "stream",
          "text": [
            "first normal arg: Valdis\n",
            "another arg through *argv : RTU\n"
          ]
        }
      ],
      "source": [
        "test_var_args(\"Valdis\", \"RTU\")"
      ]
    },
    {
      "cell_type": "code",
      "execution_count": null,
      "metadata": {
        "id": "8ojIe6QAwxsM",
        "outputId": "73cb7cc1-a069-4c8b-fe88-848e815b0218"
      },
      "outputs": [
        {
          "name": "stdout",
          "output_type": "stream",
          "text": [
            "first normal arg: Valdis\n"
          ]
        }
      ],
      "source": [
        "test_var_args(\"Valdis\")"
      ]
    },
    {
      "cell_type": "code",
      "execution_count": null,
      "metadata": {
        "id": "m93OCjk9wxsM",
        "outputId": "d08ab5e4-256b-4f3d-f8cc-6e3e867626a3"
      },
      "outputs": [
        {
          "name": "stdout",
          "output_type": "stream",
          "text": [
            "first normal arg: Valdis\n"
          ]
        }
      ],
      "source": [
        "# this will not work unless i made f_arg a default\n",
        "test_var_args()"
      ]
    },
    {
      "cell_type": "code",
      "execution_count": null,
      "metadata": {
        "id": "UkZVzZ96wxsM",
        "outputId": "5dcb6f60-1482-4987-d73a-8d0e167e2d6b"
      },
      "outputs": [
        {
          "name": "stdout",
          "output_type": "stream",
          "text": [
            "5 Ice cream Ice cream\n"
          ]
        }
      ],
      "source": [
        "print(5, dessert, food) # so print takes multiple arguments"
      ]
    },
    {
      "cell_type": "code",
      "execution_count": null,
      "metadata": {
        "id": "VfFRCAuDwxsM"
      },
      "outputs": [],
      "source": [
        "# Write a function to return result of multiplying ALL arguments\n",
        "# If no arguments given function should return 1\n",
        "def multMany(*argv):\n",
        "    result = 1\n",
        "    for num in argv:\n",
        "        result *= num # this is the same as result = result * num\n",
        "    return result"
      ]
    },
    {
      "cell_type": "code",
      "execution_count": null,
      "metadata": {
        "id": "-pBWfcHJwxsM"
      },
      "outputs": [],
      "source": [
        "multMany()"
      ]
    },
    {
      "cell_type": "code",
      "execution_count": null,
      "metadata": {
        "id": "gEVPX73wwxsM"
      },
      "outputs": [],
      "source": [
        "multMany(1,3,5,353,2)"
      ]
    },
    {
      "cell_type": "markdown",
      "metadata": {
        "id": "L5JqvHo7wxsN"
      },
      "source": [
        "#Usage of **kwargs\n",
        "\n",
        "  **kwargs allows you to pass keyworded variable length of arguments to a function. You should use **kwargs if you want to handle named arguments in a function.\n",
        "  "
      ]
    },
    {
      "cell_type": "code",
      "execution_count": null,
      "metadata": {
        "id": "zZ3FnUMOwxsN"
      },
      "outputs": [],
      "source": []
    },
    {
      "cell_type": "code",
      "execution_count": null,
      "metadata": {
        "id": "JOQ5M4zYwxsN"
      },
      "outputs": [],
      "source": [
        "edict = {}"
      ]
    },
    {
      "cell_type": "code",
      "execution_count": null,
      "metadata": {
        "id": "jqrusfSbwxsN"
      },
      "outputs": [],
      "source": [
        "edict.items()"
      ]
    },
    {
      "cell_type": "code",
      "execution_count": null,
      "metadata": {
        "id": "jpe-6CmEwxsN"
      },
      "outputs": [],
      "source": [
        "def greetMe(**kwargs):\n",
        "    if kwargs is not None:\n",
        "        for key, value in kwargs.items():\n",
        "            print(f\"{key} == {value}\")"
      ]
    },
    {
      "cell_type": "code",
      "execution_count": null,
      "metadata": {
        "id": "KyxHBZt5wxsO"
      },
      "outputs": [],
      "source": [
        "greetMe(name=\"Valdis\",hobby=\"biking\",work=\"programming\")"
      ]
    },
    {
      "cell_type": "code",
      "execution_count": null,
      "metadata": {
        "id": "9GaZsDCfwxsO"
      },
      "outputs": [],
      "source": [
        "def defaultFun(a=6):\n",
        "    print(a)\n",
        "defaultFun(333)\n",
        "defaultFun()"
      ]
    },
    {
      "cell_type": "markdown",
      "metadata": {
        "id": "6_KTkax0wxsO"
      },
      "source": [
        "## Homework Problems"
      ]
    },
    {
      "cell_type": "code",
      "execution_count": null,
      "metadata": {
        "id": "kfiqO1vLwxsO",
        "outputId": "38cba3fd-07d2-4466-852b-8a56919a1e49"
      },
      "outputs": [
        {
          "name": "stdout",
          "output_type": "stream",
          "text": [
            "True\n",
            "True\n"
          ]
        }
      ],
      "source": [
        "# Easy\n",
        "# Write a function to calculate volume for Rectangular Cuboid (visas malas ir taisnsturas 3D objektam)\n",
        "def getRectVol(l,w,h):\n",
        "    '''\n",
        "    Gets the volume of Cuboid\n",
        "    l - length\n",
        "    w - widght\n",
        "    h - height\n",
        "    '''\n",
        "    return l * w * h #You should be returning something not None!\n",
        "print(getRectVol(2,5,7) == 70)\n",
        "print(getRectVol(0,5,7) == 0)"
      ]
    },
    {
      "cell_type": "code",
      "execution_count": null,
      "metadata": {
        "id": "VxHpa6HvwxsO"
      },
      "outputs": [],
      "source": [
        "getRectVol()"
      ]
    },
    {
      "cell_type": "code",
      "execution_count": null,
      "metadata": {
        "id": "X-Kp9-AcwxsO",
        "outputId": "88244f28-b534-41d9-ee23-2da863a2a5f9"
      },
      "outputs": [
        {
          "name": "stdout",
          "output_type": "stream",
          "text": [
            "True\n",
            "True\n",
            "True\n",
            "True\n",
            "True\n",
            "True\n"
          ]
        }
      ],
      "source": [
        "# Medium\n",
        "# Write a function to check if string is a palindrome\n",
        "# ignore whitespace and capital letters\n",
        "def isPalindrome(s):\n",
        "    '''\n",
        "    A palindrome is a word, number, phrase, or other sequence of characters which reads the same backward as forward, such as madam, racecar\n",
        "    '''\n",
        "    # lets do a bit of preprocessing first\n",
        "    clean_text = s.lower().replace(\" \", \"\") # could use upper doesnt matter\n",
        "    # this clean_text will live only inside the function\n",
        "    return clean_text == clean_text[::-1] # so we compare string to its reverse\n",
        "# test your function, you do not touch these test cases\n",
        "\n",
        "print(isPalindrome(\"Abba\") == True)\n",
        "print(isPalindrome(\"madam\") == True)\n",
        "print(isPalindrome(\"madamm\") == False)\n",
        "print(isPalindrome(\"race    car\") == True)\n",
        "print(isPalindrome('alusariirasula') == True)\n",
        "print(isPalindrome('normaltext') == False)"
      ]
    },
    {
      "cell_type": "code",
      "execution_count": null,
      "metadata": {
        "id": "AjP4zZAjwxsP"
      },
      "outputs": [],
      "source": [
        "dir(\"string\")"
      ]
    },
    {
      "cell_type": "code",
      "execution_count": null,
      "metadata": {
        "id": "wwQSsZ1BwxsP"
      },
      "outputs": [],
      "source": [
        "string.ascii_lowercase"
      ]
    },
    {
      "cell_type": "code",
      "execution_count": null,
      "metadata": {
        "id": "zVouiGOrwxsP"
      },
      "outputs": [],
      "source": [
        "# One liner is possible! Okay to do it a longer way\n",
        "# Hints: dir(\"mystring\") for string manipulation(might need more than one method)\n",
        "# Also remember one \"unique\" data structure we covered\n",
        "\n",
        "import string\n",
        "print(string.ascii_lowercase)\n",
        "def isPangram(mytext, a=string.ascii_lowercase):\n",
        "    '''\n",
        "    '''\n",
        "    print(mytext)\n",
        "    return None # here it should return True or False\n",
        "# assert(isPangram('dadfafd') == False)\n",
        "# assert(isPangram(\"The quick brown fox jumps over the lazy dog\") == True)\n",
        "# assert(isPangram(\"The five boxing wizards jump quickly\") == True)"
      ]
    },
    {
      "cell_type": "code",
      "execution_count": null,
      "metadata": {
        "id": "TLSR-MLawxsP"
      },
      "outputs": [],
      "source": [
        "isPangram('badac')"
      ]
    },
    {
      "cell_type": "code",
      "execution_count": null,
      "metadata": {
        "id": "EnCv47_NwxsP"
      },
      "outputs": [],
      "source": [
        "def isAbigger(a,b):\n",
        "    #Anti-pattern\n",
        "    if a > b:\n",
        "        return True\n",
        "    else:\n",
        "        return False"
      ]
    },
    {
      "cell_type": "code",
      "execution_count": null,
      "metadata": {
        "id": "IHdt9T7GwxsP"
      },
      "outputs": [],
      "source": [
        "5 > 6"
      ]
    },
    {
      "cell_type": "code",
      "execution_count": null,
      "metadata": {
        "id": "eo5f-Ka9wxsP"
      },
      "outputs": [],
      "source": [
        "# We can check Truth in a single line\n",
        "def isAbigger2(a,b):\n",
        "    return a > b"
      ]
    },
    {
      "cell_type": "markdown",
      "metadata": {
        "id": "gxsMIEDOwxsQ"
      },
      "source": [
        "# Small Town Population Exercise\n",
        "\n",
        "From: https://www.codewars.com/kata/5b39e3772ae7545f650000fc\n",
        "\n",
        "In a small town the population is p0 = 1000 at the beginning of a year. The population regularly increases by 2 percent per year and moreover 50 new inhabitants per year come to live in the town. How many years does the town need to see its population greater or equal to p = 1200 inhabitants?\n",
        "\n",
        "At the end of the first year there will be: \n",
        "1000 + 1000 * 0.02 + 50 => 1070 inhabitants\n",
        "\n",
        "At the end of the 2nd year there will be: \n",
        "1070 + 1070 * 0.02 + 50 => 1141 inhabitants (number of inhabitants is an integer)\n",
        "\n",
        "At the end of the 3rd year there will be:\n",
        "1141 + 1141 * 0.02 + 50 => 1213\n",
        "\n",
        "It will need 3 entire years.\n",
        "More generally given parameters:\n",
        "\n",
        "p0, percent, aug (inhabitants coming or leaving each year), p (population to surpass)\n",
        "\n",
        "the function nb_year should return n number of entire years needed to get a population greater or equal to p.\n",
        "\n",
        "aug is an integer, percent a positive or null number, p0 and p are positive integers (> 0)\n",
        "\n",
        "Examples:\n",
        "\n",
        "**nb_year(1500, 5, 100, 5000) -> 15**\n",
        "\n",
        "**nb_year(1500000, 2.5, 10000, 2000000) -> 10**\n",
        "\n",
        "Note: Don't forget to convert the percent parameter as a percentage in the body of your function: if the parameter percent is 2 you have to convert it to 0.02."
      ]
    },
    {
      "cell_type": "code",
      "execution_count": null,
      "metadata": {
        "id": "kvKEvV3mwxsQ"
      },
      "outputs": [],
      "source": [
        "def nb_year(start, perc, delta, target):\n",
        "    \n",
        "    return 0 # FIXME how many years are needed to reach the target population"
      ]
    }
  ],
  "metadata": {
    "kernelspec": {
      "display_name": "Python 3",
      "language": "python",
      "name": "python3"
    },
    "language_info": {
      "codemirror_mode": {
        "name": "ipython",
        "version": 3
      },
      "file_extension": ".py",
      "mimetype": "text/x-python",
      "name": "python",
      "nbconvert_exporter": "python",
      "pygments_lexer": "ipython3",
      "version": "3.8.3"
    },
    "colab": {
      "provenance": []
    }
  },
  "nbformat": 4,
  "nbformat_minor": 0
}