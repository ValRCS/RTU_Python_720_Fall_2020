{
  "cells": [
    {
      "cell_type": "code",
      "source": [],
      "metadata": {
        "id": "IbfGoA9Mkt92"
      },
      "execution_count": null,
      "outputs": []
    },
    {
      "cell_type": "markdown",
      "source": [
        "# Boolean Algebra\n",
        "\n",
        "![George Boole](https://upload.wikimedia.org/wikipedia/commons/thumb/c/ce/George_Boole_color.jpg/440px-George_Boole_color.jpg)\n",
        "\n",
        "https://plato.stanford.edu/entries/boole/"
      ],
      "metadata": {
        "id": "x5avf-YUkuZ2"
      }
    },
    {
      "cell_type": "code",
      "execution_count": 1,
      "metadata": {
        "id": "mFQIbhH2javX",
        "outputId": "0cc91eaf-e649-4936-8f6f-4583b9aeddf7",
        "colab": {
          "base_uri": "https://localhost:8080/"
        }
      },
      "outputs": [
        {
          "output_type": "execute_result",
          "data": {
            "text/plain": [
              "True"
            ]
          },
          "metadata": {},
          "execution_count": 1
        }
      ],
      "source": [
        "True # George Bool 19th century mathematician invented boolean algebra\n",
        "# extremely well suited for computers which work with 0s and 1s"
      ]
    },
    {
      "cell_type": "code",
      "source": [
        "False"
      ],
      "metadata": {
        "id": "1YYUVMIukoRI",
        "outputId": "0b30ca9c-2139-495d-fda6-f29d8146c7cd",
        "colab": {
          "base_uri": "https://localhost:8080/"
        }
      },
      "execution_count": 2,
      "outputs": [
        {
          "output_type": "execute_result",
          "data": {
            "text/plain": [
              "False"
            ]
          },
          "metadata": {},
          "execution_count": 2
        }
      ]
    },
    {
      "cell_type": "code",
      "execution_count": 3,
      "metadata": {
        "id": "5ikkjhxgjavb",
        "outputId": "73e5b10a-6329-4847-a295-9d49561ddcec",
        "colab": {
          "base_uri": "https://localhost:8080/"
        }
      },
      "outputs": [
        {
          "output_type": "execute_result",
          "data": {
            "text/plain": [
              "(bool, bool)"
            ]
          },
          "metadata": {},
          "execution_count": 3
        }
      ],
      "source": [
        "type(True), type(False)"
      ]
    },
    {
      "cell_type": "code",
      "execution_count": 4,
      "metadata": {
        "id": "JwEIV72Ajavb",
        "outputId": "7f9c76f8-b4db-4ee7-a439-5f8b0733e085",
        "colab": {
          "base_uri": "https://localhost:8080/"
        }
      },
      "outputs": [
        {
          "output_type": "execute_result",
          "data": {
            "text/plain": [
              "False"
            ]
          },
          "metadata": {},
          "execution_count": 4
        }
      ],
      "source": [
        "# We use Booleans all the time in computer programming to obtain results of some comparison, or equality and many other functions\n",
        "5 > 7"
      ]
    },
    {
      "cell_type": "code",
      "execution_count": 5,
      "metadata": {
        "id": "wAaF9yoXjavc",
        "outputId": "5f1f0c71-c6ae-4045-da25-bef0a99af860",
        "colab": {
          "base_uri": "https://localhost:8080/"
        }
      },
      "outputs": [
        {
          "output_type": "execute_result",
          "data": {
            "text/plain": [
              "bool"
            ]
          },
          "metadata": {},
          "execution_count": 5
        }
      ],
      "source": [
        "type(5 > 7)"
      ]
    },
    {
      "cell_type": "code",
      "execution_count": 6,
      "metadata": {
        "id": "_euIPEVjjavc",
        "outputId": "4723f631-ca55-4bc0-f090-57eee886fd8f",
        "colab": {
          "base_uri": "https://localhost:8080/"
        }
      },
      "outputs": [
        {
          "output_type": "execute_result",
          "data": {
            "text/plain": [
              "True"
            ]
          },
          "metadata": {},
          "execution_count": 6
        }
      ],
      "source": [
        "8 == 18-10  # evaluation in Python ir right to left so 18-10 is done first"
      ]
    },
    {
      "cell_type": "code",
      "execution_count": 7,
      "metadata": {
        "id": "afGhxUx8javc",
        "outputId": "7133c798-611c-4180-fe50-fd998a45317b",
        "colab": {
          "base_uri": "https://localhost:8080/"
        }
      },
      "outputs": [
        {
          "output_type": "execute_result",
          "data": {
            "text/plain": [
              "(True, False)"
            ]
          },
          "metadata": {},
          "execution_count": 7
        }
      ],
      "source": [
        "2*2 == 4, 2*2 == 5"
      ]
    },
    {
      "cell_type": "code",
      "execution_count": 8,
      "metadata": {
        "id": "hg3P-7iIjavd",
        "outputId": "0dcd6c9a-9d08-4fdd-ea42-4c5c0a7831b7",
        "colab": {
          "base_uri": "https://localhost:8080/"
        }
      },
      "outputs": [
        {
          "output_type": "execute_result",
          "data": {
            "text/plain": [
              "False"
            ]
          },
          "metadata": {},
          "execution_count": 8
        }
      ],
      "source": [
        "5 == '5' # these are not the same in Python! \n",
        "# integer 5 is not the same as string \"5\" "
      ]
    },
    {
      "cell_type": "code",
      "execution_count": 9,
      "metadata": {
        "id": "xbEIsauljavd",
        "outputId": "e866a95a-ad77-4fc4-a9b2-44a6696550e2",
        "colab": {
          "base_uri": "https://localhost:8080/"
        }
      },
      "outputs": [
        {
          "output_type": "execute_result",
          "data": {
            "text/plain": [
              "True"
            ]
          },
          "metadata": {},
          "execution_count": 9
        }
      ],
      "source": [
        "5 == int('5') # we need to compare same data types in Python otherwise we will just get inequality"
      ]
    },
    {
      "cell_type": "code",
      "execution_count": 10,
      "metadata": {
        "id": "xit-Anm6javd",
        "outputId": "32d0bcce-87c5-406e-dd97-5cc2ff18a505",
        "colab": {
          "base_uri": "https://localhost:8080/"
        }
      },
      "outputs": [
        {
          "output_type": "execute_result",
          "data": {
            "text/plain": [
              "True"
            ]
          },
          "metadata": {},
          "execution_count": 10
        }
      ],
      "source": [
        "# in Python \" and ' are used the same way so...\n",
        "\"Valdis\" == 'Valdis'"
      ]
    },
    {
      "cell_type": "code",
      "execution_count": 11,
      "metadata": {
        "id": "2IIgml5ijave",
        "outputId": "1276e077-8428-45eb-b639-d728cd9e4e3e",
        "colab": {
          "base_uri": "https://localhost:8080/"
        }
      },
      "outputs": [
        {
          "output_type": "execute_result",
          "data": {
            "text/plain": [
              "False"
            ]
          },
          "metadata": {},
          "execution_count": 11
        }
      ],
      "source": [
        "# however\n",
        "\"Valdis\" == \"valdis\" # not the same!"
      ]
    },
    {
      "cell_type": "code",
      "source": [
        "# also remembere whitespace!\n",
        "\"Valdis \" == \"Valdis\" # that single space is a character!\n",
        "# there are methods to strip whitespace off from strings but that is another discussion"
      ],
      "metadata": {
        "id": "rhOHHxU6lxzZ",
        "outputId": "7bf3ff18-6d3f-4ac4-af49-b6f2f11cd8c2",
        "colab": {
          "base_uri": "https://localhost:8080/"
        }
      },
      "execution_count": 12,
      "outputs": [
        {
          "output_type": "execute_result",
          "data": {
            "text/plain": [
              "False"
            ]
          },
          "metadata": {},
          "execution_count": 12
        }
      ]
    },
    {
      "cell_type": "code",
      "source": [
        "# we have more lesser or greate comparisons\n",
        "# <, <=, >=, >"
      ],
      "metadata": {
        "id": "vmiGqsaSmIxT"
      },
      "execution_count": null,
      "outputs": []
    },
    {
      "cell_type": "code",
      "execution_count": 13,
      "metadata": {
        "id": "FDKmfb9ojave",
        "outputId": "cef8004b-af9f-4f51-f8c2-1a0de6cbc7a7",
        "colab": {
          "base_uri": "https://localhost:8080/"
        }
      },
      "outputs": [
        {
          "output_type": "execute_result",
          "data": {
            "text/plain": [
              "(True, True)"
            ]
          },
          "metadata": {},
          "execution_count": 13
        }
      ],
      "source": [
        "5 <= 6, 5 <= 5"
      ]
    },
    {
      "cell_type": "code",
      "source": [
        "# we usually compare at least one variable with some number or string, or possible two variables\n",
        "a = 2\n",
        "b = 4\n",
        "a*a == b, a*a == 4, a*a == 5"
      ],
      "metadata": {
        "id": "kogzkHOXmQI-",
        "outputId": "157c7f5e-e9b8-469b-9e2b-a5c318390022",
        "colab": {
          "base_uri": "https://localhost:8080/"
        }
      },
      "execution_count": 14,
      "outputs": [
        {
          "output_type": "execute_result",
          "data": {
            "text/plain": [
              "(True, True, False)"
            ]
          },
          "metadata": {},
          "execution_count": 14
        }
      ]
    },
    {
      "cell_type": "code",
      "source": [
        "a >= 2, a > b, a >= b, a < b, a <= b # so True, False, False, True, True"
      ],
      "metadata": {
        "id": "0O8FdyvjmkS6",
        "outputId": "59371a0d-6922-49de-e6bd-385708fb816f",
        "colab": {
          "base_uri": "https://localhost:8080/"
        }
      },
      "execution_count": 15,
      "outputs": [
        {
          "output_type": "execute_result",
          "data": {
            "text/plain": [
              "(True, False, False, True, True)"
            ]
          },
          "metadata": {},
          "execution_count": 15
        }
      ]
    },
    {
      "cell_type": "code",
      "source": [
        "# there is an inequality comparison # it is like reverse of equality"
      ],
      "metadata": {
        "id": "lNg4Ihclm8B4"
      },
      "execution_count": null,
      "outputs": []
    },
    {
      "cell_type": "code",
      "execution_count": 16,
      "metadata": {
        "id": "yvhZtn-9jave",
        "outputId": "a39e382f-ff44-47d6-fe16-5d32d439a95e",
        "colab": {
          "base_uri": "https://localhost:8080/"
        }
      },
      "outputs": [
        {
          "output_type": "execute_result",
          "data": {
            "text/plain": [
              "(True, False)"
            ]
          },
          "metadata": {},
          "execution_count": 16
        }
      ],
      "source": [
        "5 != 6, 5 != 5 # so True and False\n"
      ]
    },
    {
      "cell_type": "code",
      "source": [
        "a*a != 4, a*a != 9000 # so first one is false because a*a is in fact EQUAL to 4, and 2nd one is obviously false here"
      ],
      "metadata": {
        "id": "OQ96qY6CnFnZ",
        "outputId": "a1c8187f-adab-4985-85b4-0ad175cf5b2f",
        "colab": {
          "base_uri": "https://localhost:8080/"
        }
      },
      "execution_count": 17,
      "outputs": [
        {
          "output_type": "execute_result",
          "data": {
            "text/plain": [
              "(False, True)"
            ]
          },
          "metadata": {},
          "execution_count": 17
        }
      ]
    },
    {
      "cell_type": "code",
      "execution_count": 18,
      "metadata": {
        "id": "EPLwVqbOjave",
        "outputId": "8b5e2045-8c62-4562-bfdc-3607b85ecadd",
        "colab": {
          "base_uri": "https://localhost:8080/"
        }
      },
      "outputs": [
        {
          "output_type": "execute_result",
          "data": {
            "text/plain": [
              "(False, True)"
            ]
          },
          "metadata": {},
          "execution_count": 18
        }
      ],
      "source": [
        "not True, not False # more about negation later"
      ]
    },
    {
      "cell_type": "markdown",
      "source": [
        "## Comparing Strings"
      ],
      "metadata": {
        "id": "N4tHj9eznUQs"
      }
    },
    {
      "cell_type": "code",
      "execution_count": 19,
      "metadata": {
        "id": "BA4EvnAHjavf",
        "outputId": "bf2252c2-6bd9-47b7-e92a-372e0cd5c704",
        "colab": {
          "base_uri": "https://localhost:8080/"
        }
      },
      "outputs": [
        {
          "output_type": "execute_result",
          "data": {
            "text/plain": [
              "True"
            ]
          },
          "metadata": {},
          "execution_count": 19
        }
      ],
      "source": [
        "'VALDIS' < 'VOLDEMARS' # what is being compared here?"
      ]
    },
    {
      "cell_type": "code",
      "execution_count": 20,
      "metadata": {
        "id": "qyHjMdZyjavf",
        "outputId": "5790bc4f-02fc-4d40-80d8-308f9bcffc84",
        "colab": {
          "base_uri": "https://localhost:8080/"
        }
      },
      "outputs": [
        {
          "output_type": "execute_result",
          "data": {
            "text/plain": [
              "True"
            ]
          },
          "metadata": {},
          "execution_count": 20
        }
      ],
      "source": [
        "len('VALDIS') < len('VOLDEMARS') # this is comparing string lengths"
      ]
    },
    {
      "cell_type": "code",
      "execution_count": 21,
      "metadata": {
        "id": "6OJAE262javf",
        "outputId": "1bc9cc68-2cff-44e9-d018-f0f398d0c116",
        "colab": {
          "base_uri": "https://localhost:8080/"
        }
      },
      "outputs": [
        {
          "output_type": "execute_result",
          "data": {
            "text/plain": [
              "True"
            ]
          },
          "metadata": {},
          "execution_count": 21
        }
      ],
      "source": [
        "'VALDIS' < 'VOLD'"
      ]
    },
    {
      "cell_type": "code",
      "execution_count": 22,
      "metadata": {
        "id": "3axY7k4ojavf",
        "outputId": "5ecbe134-1c76-42ba-c2ba-08b2c40b8e9b",
        "colab": {
          "base_uri": "https://localhost:8080/"
        }
      },
      "outputs": [
        {
          "output_type": "execute_result",
          "data": {
            "text/plain": [
              "True"
            ]
          },
          "metadata": {},
          "execution_count": 22
        }
      ],
      "source": [
        "'VALDIS' < 'VB'"
      ]
    },
    {
      "cell_type": "code",
      "source": [
        "# so for string comparison will be done lexicographically"
      ],
      "metadata": {
        "id": "tLpTDTMAn7aq"
      },
      "execution_count": null,
      "outputs": []
    },
    {
      "cell_type": "code",
      "execution_count": 23,
      "metadata": {
        "id": "fr9_V48Sjavf",
        "outputId": "4a3eee28-06eb-4469-bc3e-151283f83fae",
        "colab": {
          "base_uri": "https://localhost:8080/"
        }
      },
      "outputs": [
        {
          "output_type": "execute_result",
          "data": {
            "text/plain": [
              "False"
            ]
          },
          "metadata": {},
          "execution_count": 23
        }
      ],
      "source": [
        "'ZALDIS' < 'VB'"
      ]
    },
    {
      "cell_type": "code",
      "execution_count": null,
      "metadata": {
        "id": "U5gtytLYjavf"
      },
      "outputs": [],
      "source": [
        "'Valdis' > 'VALDIS' # because a comes after A"
      ]
    },
    {
      "cell_type": "code",
      "execution_count": null,
      "metadata": {
        "id": "xrWOEqOTjavg"
      },
      "outputs": [],
      "source": [
        "len('VALDIS') < len('VOLDEMARS')\n",
        "\n",
        "# We check each letter from left side\n",
        "# on mismatch we check ASCII (UTF-8) tables for values\n",
        "\n",
        "'VALDIS' < 'VOLDEMARS'"
      ]
    },
    {
      "cell_type": "markdown",
      "source": [
        "### Comparing Emojis"
      ],
      "metadata": {
        "id": "nFPr27KhpnBp"
      }
    },
    {
      "cell_type": "code",
      "source": [
        "# we can compare Emojis!\n",
        "\"😀\" < \"😁\""
      ],
      "metadata": {
        "id": "tlh2YnxSodxG",
        "outputId": "a8a1b1de-a015-4a0f-874d-2557a6863028",
        "colab": {
          "base_uri": "https://localhost:8080/"
        }
      },
      "execution_count": 24,
      "outputs": [
        {
          "output_type": "execute_result",
          "data": {
            "text/plain": [
              "True"
            ]
          },
          "metadata": {},
          "execution_count": 24
        }
      ]
    },
    {
      "cell_type": "markdown",
      "source": [
        "### Checking Unicode value for single character string"
      ],
      "metadata": {
        "id": "YFISYfKXpqFL"
      }
    },
    {
      "cell_type": "code",
      "source": [
        "# above is true because of Unicode represening those Emojis\n",
        "ord(\"😀\"), ord(\"😃\"), ord(\"😁\")"
      ],
      "metadata": {
        "id": "_5gz2U1zolgM",
        "outputId": "191857b2-3ea0-4bbd-d91a-15b5335a8b07",
        "colab": {
          "base_uri": "https://localhost:8080/"
        }
      },
      "execution_count": 26,
      "outputs": [
        {
          "output_type": "execute_result",
          "data": {
            "text/plain": [
              "(128512, 128515, 128513)"
            ]
          },
          "metadata": {},
          "execution_count": 26
        }
      ]
    },
    {
      "cell_type": "code",
      "execution_count": 27,
      "metadata": {
        "id": "42vY4pzUjavg",
        "outputId": "cdfc8038-b5ce-4419-c40c-29222155d50d",
        "colab": {
          "base_uri": "https://localhost:8080/"
        }
      },
      "outputs": [
        {
          "output_type": "execute_result",
          "data": {
            "text/plain": [
              "False"
            ]
          },
          "metadata": {},
          "execution_count": 27
        }
      ],
      "source": [
        "'kaķis' < 'kakis' # cat vs cat in Latvian"
      ]
    },
    {
      "cell_type": "markdown",
      "source": [
        "### Getting character from Unicode number\n"
      ],
      "metadata": {
        "id": "a_1wPFjupvOx"
      }
    },
    {
      "cell_type": "code",
      "execution_count": 28,
      "metadata": {
        "id": "9vYl622gjavg",
        "outputId": "2dd9bfca-8ce4-4942-b069-c09be12818cc",
        "colab": {
          "base_uri": "https://localhost:8080/",
          "height": 35
        }
      },
      "outputs": [
        {
          "output_type": "execute_result",
          "data": {
            "text/plain": [
              "'A'"
            ],
            "application/vnd.google.colaboratory.intrinsic+json": {
              "type": "string"
            }
          },
          "metadata": {},
          "execution_count": 28
        }
      ],
      "source": [
        "chr(65)"
      ]
    },
    {
      "cell_type": "code",
      "source": [
        "chr(256),chr(257), chr(258)"
      ],
      "metadata": {
        "id": "Ys-9wy-KpMg1",
        "outputId": "92ce15fb-4359-470b-95da-447a7c6b3954",
        "colab": {
          "base_uri": "https://localhost:8080/"
        }
      },
      "execution_count": 31,
      "outputs": [
        {
          "output_type": "execute_result",
          "data": {
            "text/plain": [
              "('Ā', 'ā', 'Ă')"
            ]
          },
          "metadata": {},
          "execution_count": 31
        }
      ]
    },
    {
      "cell_type": "code",
      "execution_count": 29,
      "metadata": {
        "id": "Ai6YXOGyjavg",
        "outputId": "225cffbb-6719-42d6-bfe7-03a496dfdaa3",
        "colab": {
          "base_uri": "https://localhost:8080/",
          "height": 35
        }
      },
      "outputs": [
        {
          "output_type": "execute_result",
          "data": {
            "text/plain": [
              "'Ɛ'"
            ],
            "application/vnd.google.colaboratory.intrinsic+json": {
              "type": "string"
            }
          },
          "metadata": {},
          "execution_count": 29
        }
      ],
      "source": [
        "chr(400) # so you can get UTF-8 characters out of their code numbers"
      ]
    },
    {
      "cell_type": "code",
      "execution_count": 32,
      "metadata": {
        "id": "-dwDPBgvjavh",
        "outputId": "e91098d8-f7d9-4f1a-8ee4-d604f88adc54",
        "colab": {
          "base_uri": "https://localhost:8080/",
          "height": 35
        }
      },
      "outputs": [
        {
          "output_type": "execute_result",
          "data": {
            "text/plain": [
              "'ྠ'"
            ],
            "application/vnd.google.colaboratory.intrinsic+json": {
              "type": "string"
            }
          },
          "metadata": {},
          "execution_count": 32
        }
      ],
      "source": [
        "chr(4000)"
      ]
    },
    {
      "cell_type": "code",
      "execution_count": 33,
      "metadata": {
        "id": "RYcFvKjnjavh",
        "outputId": "2e053346-b421-4d8e-ce49-5a0e52033e98",
        "colab": {
          "base_uri": "https://localhost:8080/",
          "height": 35
        }
      },
      "outputs": [
        {
          "output_type": "execute_result",
          "data": {
            "text/plain": [
              "'鱀'"
            ],
            "application/vnd.google.colaboratory.intrinsic+json": {
              "type": "string"
            }
          },
          "metadata": {},
          "execution_count": 33
        }
      ],
      "source": [
        "chr(40000)"
      ]
    },
    {
      "cell_type": "code",
      "execution_count": 35,
      "metadata": {
        "id": "LIcTq4fTjavh",
        "outputId": "328fdecf-7bf4-4b26-f41f-b6d95b95ed27",
        "colab": {
          "base_uri": "https://localhost:8080/",
          "height": 35
        }
      },
      "outputs": [
        {
          "output_type": "execute_result",
          "data": {
            "text/plain": [
              "'😋'"
            ],
            "application/vnd.google.colaboratory.intrinsic+json": {
              "type": "string"
            }
          },
          "metadata": {},
          "execution_count": 35
        }
      ],
      "source": [
        "chr(128523)"
      ]
    },
    {
      "cell_type": "code",
      "execution_count": null,
      "metadata": {
        "id": "zohFdPqLjavh"
      },
      "outputs": [],
      "source": []
    },
    {
      "cell_type": "code",
      "execution_count": null,
      "metadata": {
        "id": "2SJvabA1javh"
      },
      "outputs": [],
      "source": [
        "# ord gets you integer value representing unicode value\n",
        "ord('ķ')"
      ]
    },
    {
      "cell_type": "code",
      "execution_count": null,
      "metadata": {
        "id": "h2LvddTLjavh"
      },
      "outputs": [],
      "source": [
        "ord('Ķ')"
      ]
    },
    {
      "cell_type": "code",
      "execution_count": null,
      "metadata": {
        "id": "uy8W4JRhjavh"
      },
      "outputs": [],
      "source": [
        "ord('Ā'),ord('ā')"
      ]
    },
    {
      "cell_type": "code",
      "execution_count": null,
      "metadata": {
        "id": "mif3vl1Hjavi"
      },
      "outputs": [],
      "source": [
        "'Valdis'  < \"VOLDEMARS\""
      ]
    },
    {
      "cell_type": "code",
      "execution_count": null,
      "metadata": {
        "id": "8F7dqS2yjavi"
      },
      "outputs": [],
      "source": [
        "print(chr(97))"
      ]
    },
    {
      "cell_type": "code",
      "execution_count": null,
      "metadata": {
        "id": "oNNdP7tbjavi"
      },
      "outputs": [],
      "source": [
        "chr(4000)"
      ]
    },
    {
      "cell_type": "code",
      "execution_count": null,
      "metadata": {
        "id": "DEJyxSjtjavi"
      },
      "outputs": [],
      "source": [
        "ord(\"ā\")"
      ]
    },
    {
      "cell_type": "code",
      "execution_count": null,
      "metadata": {
        "id": "OZ-OCoMkjavi"
      },
      "outputs": [],
      "source": [
        "ord('Ķ')"
      ]
    },
    {
      "cell_type": "code",
      "execution_count": null,
      "metadata": {
        "id": "niQ6yWODjavi"
      },
      "outputs": [],
      "source": [
        "list(range(5))"
      ]
    },
    {
      "cell_type": "markdown",
      "metadata": {
        "id": "VQCOHPtAjavi"
      },
      "source": [
        "# Logical Operators"
      ]
    },
    {
      "cell_type": "markdown",
      "source": [
        "## Logical Negation"
      ],
      "metadata": {
        "id": "MC52QPtYqMo4"
      }
    },
    {
      "cell_type": "code",
      "source": [
        "not True"
      ],
      "metadata": {
        "id": "DWjgbHdxqLtg",
        "outputId": "7b90e0a3-bf78-4002-b116-f8aebaf14ad4",
        "colab": {
          "base_uri": "https://localhost:8080/"
        }
      },
      "execution_count": 36,
      "outputs": [
        {
          "output_type": "execute_result",
          "data": {
            "text/plain": [
              "False"
            ]
          },
          "metadata": {},
          "execution_count": 36
        }
      ]
    },
    {
      "cell_type": "code",
      "source": [
        "# similarly\n",
        "not False"
      ],
      "metadata": {
        "id": "5zcRLSh2qR88",
        "outputId": "888f291b-f6d4-4309-9e2d-581a37e6a5d2",
        "colab": {
          "base_uri": "https://localhost:8080/"
        }
      },
      "execution_count": 37,
      "outputs": [
        {
          "output_type": "execute_result",
          "data": {
            "text/plain": [
              "True"
            ]
          },
          "metadata": {},
          "execution_count": 37
        }
      ]
    },
    {
      "cell_type": "code",
      "source": [
        "# we can use this negation to create a toggle switch\n",
        "is_hot = False\n",
        "print(is_hot)"
      ],
      "metadata": {
        "id": "g86QYnAvqWVm",
        "outputId": "d599b6c1-be57-42bc-837e-97a0d6ffe598",
        "colab": {
          "base_uri": "https://localhost:8080/"
        }
      },
      "execution_count": 38,
      "outputs": [
        {
          "output_type": "stream",
          "name": "stdout",
          "text": [
            "False\n"
          ]
        }
      ]
    },
    {
      "cell_type": "markdown",
      "source": [
        "![Spark Toggle](https://cdn.sparkfun.com//assets/parts/2/7/7/7/09276-1.jpg)"
      ],
      "metadata": {
        "id": "47Ss93WNq7nS"
      }
    },
    {
      "cell_type": "code",
      "source": [
        "is_hot = not is_hot # so we reverse the value of is_hot to the oppositive of the previous\n",
        "print(is_hot)"
      ],
      "metadata": {
        "id": "vcrWHAd5qh3T",
        "outputId": "8e188f3d-187d-4305-853e-f955de078979",
        "colab": {
          "base_uri": "https://localhost:8080/"
        }
      },
      "execution_count": 43,
      "outputs": [
        {
          "output_type": "stream",
          "name": "stdout",
          "text": [
            "True\n"
          ]
        }
      ]
    },
    {
      "cell_type": "markdown",
      "source": [
        "## Logical Conjuction with and"
      ],
      "metadata": {
        "id": "p2kdgyIWq_28"
      }
    },
    {
      "cell_type": "code",
      "execution_count": null,
      "metadata": {
        "id": "N7_3h0Wajavj"
      },
      "outputs": [],
      "source": [
        "# and is only only true if both sides are true, otherwise false"
      ]
    },
    {
      "cell_type": "code",
      "execution_count": 44,
      "metadata": {
        "id": "4-c9BqAsjavk",
        "outputId": "b2a91115-088f-40c2-caeb-117ccea03f20",
        "colab": {
          "base_uri": "https://localhost:8080/"
        }
      },
      "outputs": [
        {
          "output_type": "execute_result",
          "data": {
            "text/plain": [
              "True"
            ]
          },
          "metadata": {},
          "execution_count": 44
        }
      ],
      "source": [
        "True and True"
      ]
    },
    {
      "cell_type": "code",
      "execution_count": 45,
      "metadata": {
        "id": "7cpqWTXrjavk",
        "outputId": "2ca2df65-2f78-4d86-f193-d7ddc2eb3dc2",
        "colab": {
          "base_uri": "https://localhost:8080/"
        }
      },
      "outputs": [
        {
          "output_type": "execute_result",
          "data": {
            "text/plain": [
              "False"
            ]
          },
          "metadata": {},
          "execution_count": 45
        }
      ],
      "source": [
        "True and False # and requires for BOTH sides to be true"
      ]
    },
    {
      "cell_type": "code",
      "execution_count": 46,
      "metadata": {
        "id": "pC5KYKejjavk",
        "outputId": "4dbb3330-5e3d-4270-cf25-9b3fd1251b77",
        "colab": {
          "base_uri": "https://localhost:8080/"
        }
      },
      "outputs": [
        {
          "output_type": "execute_result",
          "data": {
            "text/plain": [
              "False"
            ]
          },
          "metadata": {},
          "execution_count": 46
        }
      ],
      "source": [
        "False and True"
      ]
    },
    {
      "cell_type": "code",
      "execution_count": 47,
      "metadata": {
        "id": "GCNclNEHjavk",
        "outputId": "21d696f1-dedf-419f-bc47-e4031f8947c3",
        "colab": {
          "base_uri": "https://localhost:8080/"
        }
      },
      "outputs": [
        {
          "output_type": "execute_result",
          "data": {
            "text/plain": [
              "False"
            ]
          },
          "metadata": {},
          "execution_count": 47
        }
      ],
      "source": [
        "False and False"
      ]
    },
    {
      "cell_type": "code",
      "execution_count": 48,
      "metadata": {
        "id": "Cz2ZtkcIjavk",
        "outputId": "ddfcef70-f155-42e5-9a73-32bf8ffdaf75",
        "colab": {
          "base_uri": "https://localhost:8080/"
        }
      },
      "outputs": [
        {
          "output_type": "execute_result",
          "data": {
            "text/plain": [
              "True"
            ]
          },
          "metadata": {},
          "execution_count": 48
        }
      ],
      "source": [
        "5 > 4 and 2*2 == 4"
      ]
    },
    {
      "cell_type": "code",
      "execution_count": 49,
      "metadata": {
        "id": "r2q5bc-2javk",
        "outputId": "8a09e917-bf05-41b7-ea46-fc5e246c79db",
        "colab": {
          "base_uri": "https://localhost:8080/"
        }
      },
      "outputs": [
        {
          "output_type": "execute_result",
          "data": {
            "text/plain": [
              "True"
            ]
          },
          "metadata": {},
          "execution_count": 49
        }
      ],
      "source": [
        "True and True and 2*2 == 4"
      ]
    },
    {
      "cell_type": "markdown",
      "source": [
        "## Lazy Evaluation"
      ],
      "metadata": {
        "id": "-s5WKXr3rXtg"
      }
    },
    {
      "cell_type": "code",
      "execution_count": 50,
      "metadata": {
        "id": "dHzkWHYdjavl",
        "outputId": "9f05f438-d6fb-4b9a-c45a-e51fe7fdcbce",
        "colab": {
          "base_uri": "https://localhost:8080/"
        }
      },
      "outputs": [
        {
          "output_type": "execute_result",
          "data": {
            "text/plain": [
              "False"
            ]
          },
          "metadata": {},
          "execution_count": 50
        }
      ],
      "source": [
        "True and True and 2*2 == 4 and 2*2 == 5 # one drop of oil spoils honey"
      ]
    },
    {
      "cell_type": "code",
      "execution_count": 51,
      "metadata": {
        "id": "wGYxEpHGjavl",
        "outputId": "2187bc55-d2a3-4870-bc3b-83f9b85f634a",
        "colab": {
          "base_uri": "https://localhost:8080/"
        }
      },
      "outputs": [
        {
          "output_type": "execute_result",
          "data": {
            "text/plain": [
              "False"
            ]
          },
          "metadata": {},
          "execution_count": 51
        }
      ],
      "source": [
        "#Lazy evaluation\n",
        "# As soon as something is false,Python will stop evaluating the sequence\n",
        "\n",
        "3 < 2 and True and 2*2 == 4 and 5 == 5 \n",
        "# once the first false value is found Python stops looking\n",
        "# so as soon as 3 < 2 is encountered Python stops that particual evaluation because it is going to be false for sure!\n"
      ]
    },
    {
      "cell_type": "code",
      "source": [
        "a*a == 4 and a*2 == b and b < 10"
      ],
      "metadata": {
        "id": "N7JokHHrrsYr",
        "outputId": "f0511842-59c9-4f98-a70b-cf8c8ec81e5d",
        "colab": {
          "base_uri": "https://localhost:8080/"
        }
      },
      "execution_count": 53,
      "outputs": [
        {
          "output_type": "execute_result",
          "data": {
            "text/plain": [
              "True"
            ]
          },
          "metadata": {},
          "execution_count": 53
        }
      ]
    },
    {
      "cell_type": "markdown",
      "source": [
        "## Complex Numbers in Python"
      ],
      "metadata": {
        "id": "92n3808yr3OE"
      }
    },
    {
      "cell_type": "code",
      "execution_count": null,
      "metadata": {
        "id": "yn6YAK1kjavl"
      },
      "outputs": [],
      "source": [
        "# complex numbers in Python\n",
        "4+5j # so j is i in math which square root of -1"
      ]
    },
    {
      "cell_type": "code",
      "execution_count": null,
      "metadata": {
        "id": "HgMs_QFQjavl"
      },
      "outputs": [],
      "source": [
        "(4+5j)*(3+2j) # 4*3 == 12 (5*3)j+(2*4)j + (5j*2j)= 10*-1"
      ]
    },
    {
      "cell_type": "code",
      "execution_count": null,
      "metadata": {
        "id": "3sN8soo6javm"
      },
      "outputs": [],
      "source": [
        "i = (2+4j)"
      ]
    },
    {
      "cell_type": "code",
      "execution_count": null,
      "metadata": {
        "id": "H_rpKpzFjavm"
      },
      "outputs": [],
      "source": [
        "i**2"
      ]
    },
    {
      "cell_type": "code",
      "execution_count": 54,
      "metadata": {
        "id": "3T3LvlS_javm",
        "outputId": "cc1fd288-65e7-41a8-a513-1987b2874129",
        "colab": {
          "base_uri": "https://localhost:8080/"
        }
      },
      "outputs": [
        {
          "output_type": "execute_result",
          "data": {
            "text/plain": [
              "1000000"
            ]
          },
          "metadata": {},
          "execution_count": 54
        }
      ],
      "source": [
        "1_000_000 # for big numbers you can type like this and _ will be ignored\n"
      ]
    },
    {
      "cell_type": "code",
      "execution_count": 55,
      "metadata": {
        "id": "99v5xbTyjavm",
        "outputId": "fea03cf3-3e15-40e8-d2e1-572e7d9ae10f",
        "colab": {
          "base_uri": "https://localhost:8080/"
        }
      },
      "outputs": [
        {
          "output_type": "execute_result",
          "data": {
            "text/plain": [
              "1004"
            ]
          },
          "metadata": {},
          "execution_count": 55
        }
      ],
      "source": [
        "1_0_0_4"
      ]
    },
    {
      "cell_type": "code",
      "execution_count": 56,
      "metadata": {
        "id": "JIc1aHvcjavm",
        "outputId": "7f2e4302-de56-421d-8eae-e3160d1f115e",
        "colab": {
          "base_uri": "https://localhost:8080/",
          "height": 132
        }
      },
      "outputs": [
        {
          "output_type": "error",
          "ename": "SyntaxError",
          "evalue": "ignored",
          "traceback": [
            "\u001b[0;36m  File \u001b[0;32m\"<ipython-input-56-7c6292c2a1a7>\"\u001b[0;36m, line \u001b[0;32m1\u001b[0m\n\u001b[0;31m    1 000 000 # this will not work\u001b[0m\n\u001b[0m      ^\u001b[0m\n\u001b[0;31mSyntaxError\u001b[0m\u001b[0;31m:\u001b[0m invalid syntax\n"
          ]
        }
      ],
      "source": [
        "1 000 000 # this will not work"
      ]
    },
    {
      "cell_type": "markdown",
      "source": [
        "## Logical Disjunction\n"
      ],
      "metadata": {
        "id": "wMsSVoG1sMIj"
      }
    },
    {
      "cell_type": "code",
      "execution_count": null,
      "metadata": {
        "id": "812ydDK_javn"
      },
      "outputs": [],
      "source": [
        "# logical or, one side should be true for the whole expression to be true"
      ]
    },
    {
      "cell_type": "code",
      "execution_count": 57,
      "metadata": {
        "id": "ZC-u-sZYjavn",
        "outputId": "db4079cf-b80c-4bd3-ed8e-f169b5436626",
        "colab": {
          "base_uri": "https://localhost:8080/"
        }
      },
      "outputs": [
        {
          "output_type": "execute_result",
          "data": {
            "text/plain": [
              "True"
            ]
          },
          "metadata": {},
          "execution_count": 57
        }
      ],
      "source": [
        "True or False"
      ]
    },
    {
      "cell_type": "code",
      "execution_count": 59,
      "metadata": {
        "id": "8uyaYOpxjavn",
        "outputId": "5fef1442-9e6b-4e73-ae53-f2b0c0f7af33",
        "colab": {
          "base_uri": "https://localhost:8080/"
        }
      },
      "outputs": [
        {
          "output_type": "execute_result",
          "data": {
            "text/plain": [
              "True"
            ]
          },
          "metadata": {},
          "execution_count": 59
        }
      ],
      "source": [
        "True or True"
      ]
    },
    {
      "cell_type": "code",
      "execution_count": 60,
      "metadata": {
        "id": "gt4-DE7Tjavn",
        "outputId": "829bfc64-17bd-4b6e-f27b-da5b19225d61",
        "colab": {
          "base_uri": "https://localhost:8080/"
        }
      },
      "outputs": [
        {
          "output_type": "execute_result",
          "data": {
            "text/plain": [
              "True"
            ]
          },
          "metadata": {},
          "execution_count": 60
        }
      ],
      "source": [
        "False or True"
      ]
    },
    {
      "cell_type": "code",
      "execution_count": 58,
      "metadata": {
        "id": "8Ml-sWwdjavn",
        "outputId": "f669d52e-f8ba-41b8-ab66-eca479f3c828",
        "colab": {
          "base_uri": "https://localhost:8080/"
        }
      },
      "outputs": [
        {
          "output_type": "execute_result",
          "data": {
            "text/plain": [
              "False"
            ]
          },
          "metadata": {},
          "execution_count": 58
        }
      ],
      "source": [
        "False or False  # only or which will be false"
      ]
    },
    {
      "cell_type": "markdown",
      "source": [
        "### Lazy Evaluation for disjunction (or)"
      ],
      "metadata": {
        "id": "8RGDlBVmsgbp"
      }
    },
    {
      "cell_type": "code",
      "execution_count": 61,
      "metadata": {
        "id": "h8Z5DCRrjavn",
        "outputId": "f71bb2ab-0fac-42ab-918f-cb10cecab475",
        "colab": {
          "base_uri": "https://localhost:8080/"
        }
      },
      "outputs": [
        {
          "output_type": "execute_result",
          "data": {
            "text/plain": [
              "True"
            ]
          },
          "metadata": {},
          "execution_count": 61
        }
      ],
      "source": [
        "# as soon as you get something True in a longer chain or or statements we get a True statement\n",
        "False or True or True or 2*2 == 4 # Python stops checking after first True\n"
      ]
    },
    {
      "cell_type": "code",
      "execution_count": null,
      "metadata": {
        "id": "5QmH9lfejavn"
      },
      "outputs": [],
      "source": [
        "#lazy evaluation\n",
        "(4 == 4 or 4 < 3) or 4 < 3"
      ]
    },
    {
      "cell_type": "code",
      "source": [
        "5/0  # throws a ZeroDivisionError"
      ],
      "metadata": {
        "id": "8a4XKrOFsurT",
        "outputId": "58805d49-3c77-44be-8697-61fc0c9710aa",
        "colab": {
          "base_uri": "https://localhost:8080/",
          "height": 168
        }
      },
      "execution_count": 62,
      "outputs": [
        {
          "output_type": "error",
          "ename": "ZeroDivisionError",
          "evalue": "ignored",
          "traceback": [
            "\u001b[0;31m---------------------------------------------------------------------------\u001b[0m",
            "\u001b[0;31mZeroDivisionError\u001b[0m                         Traceback (most recent call last)",
            "\u001b[0;32m<ipython-input-62-0106664d39e8>\u001b[0m in \u001b[0;36m<module>\u001b[0;34m\u001b[0m\n\u001b[0;32m----> 1\u001b[0;31m \u001b[0;36m5\u001b[0m\u001b[0;34m/\u001b[0m\u001b[0;36m0\u001b[0m\u001b[0;34m\u001b[0m\u001b[0;34m\u001b[0m\u001b[0m\n\u001b[0m",
            "\u001b[0;31mZeroDivisionError\u001b[0m: division by zero"
          ]
        }
      ]
    },
    {
      "cell_type": "code",
      "source": [
        "my_zero = 0\n",
        "my_zero !=0 and 100/my_zero # so 2nd part will not work"
      ],
      "metadata": {
        "id": "N3OfsRqZs2d8",
        "outputId": "2b034b6e-92eb-428f-f249-eacf42d5fced",
        "colab": {
          "base_uri": "https://localhost:8080/"
        }
      },
      "execution_count": 63,
      "outputs": [
        {
          "output_type": "execute_result",
          "data": {
            "text/plain": [
              "False"
            ]
          },
          "metadata": {},
          "execution_count": 63
        }
      ]
    },
    {
      "cell_type": "code",
      "execution_count": 64,
      "metadata": {
        "id": "BhmSKvMUjavn",
        "outputId": "1ae0bbdb-e51e-4105-f36b-843027cf5553",
        "colab": {
          "base_uri": "https://localhost:8080/"
        }
      },
      "outputs": [
        {
          "output_type": "execute_result",
          "data": {
            "text/plain": [
              "False"
            ]
          },
          "metadata": {},
          "execution_count": 64
        }
      ],
      "source": [
        "not 4 == 4 # so we invert True"
      ]
    },
    {
      "cell_type": "markdown",
      "source": [
        "# Longer Comparison shorter syntax"
      ],
      "metadata": {
        "id": "qhck857JtPs4"
      }
    },
    {
      "cell_type": "code",
      "source": [
        "# you can compare\n",
        "1 < a < 3 < b < 5 < 10 # true because a and b are 2 and 4 respectively here"
      ],
      "metadata": {
        "id": "qN3Ry5VDtLUu",
        "outputId": "9aa952af-dd10-4c60-cb1f-a184e962043d",
        "colab": {
          "base_uri": "https://localhost:8080/"
        }
      },
      "execution_count": 65,
      "outputs": [
        {
          "output_type": "execute_result",
          "data": {
            "text/plain": [
              "True"
            ]
          },
          "metadata": {},
          "execution_count": 65
        }
      ]
    },
    {
      "cell_type": "code",
      "source": [
        "# the above would can be written as follows ( most languages require this approach but Python offers the above shorter way)\n",
        "1 < a and a < 3 and 3 < b and b < 5 and 5 < 10"
      ],
      "metadata": {
        "id": "nsAEa7W3tZgm",
        "outputId": "ec420579-599c-4f62-c735-b85164003c85",
        "colab": {
          "base_uri": "https://localhost:8080/"
        }
      },
      "execution_count": 66,
      "outputs": [
        {
          "output_type": "execute_result",
          "data": {
            "text/plain": [
              "True"
            ]
          },
          "metadata": {},
          "execution_count": 66
        }
      ]
    },
    {
      "cell_type": "markdown",
      "metadata": {
        "id": "uA-JxDF0javo"
      },
      "source": [
        "# Bit Operators"
      ]
    },
    {
      "cell_type": "code",
      "execution_count": null,
      "metadata": {
        "id": "Vzj3hHK-javo"
      },
      "outputs": [],
      "source": [
        "# this is for hardware engineers, automechanics, maybe Raspberry Pi owners\n",
        "~0"
      ]
    },
    {
      "cell_type": "code",
      "execution_count": null,
      "metadata": {
        "id": "plr2ZDrdjavo"
      },
      "outputs": [],
      "source": [
        "~1"
      ]
    },
    {
      "cell_type": "code",
      "execution_count": null,
      "metadata": {
        "id": "YRpX2SwBjavo"
      },
      "outputs": [],
      "source": [
        "~0"
      ]
    },
    {
      "cell_type": "code",
      "execution_count": null,
      "metadata": {
        "id": "e9DATNLRjavp"
      },
      "outputs": [],
      "source": [
        "bin(4)"
      ]
    },
    {
      "cell_type": "code",
      "execution_count": null,
      "metadata": {
        "id": "QZ0SHE74javp"
      },
      "outputs": [],
      "source": [
        "bin(7)"
      ]
    },
    {
      "cell_type": "code",
      "execution_count": null,
      "metadata": {
        "id": "3Yoxe5AAjavp"
      },
      "outputs": [],
      "source": [
        "bin(-1)"
      ]
    },
    {
      "cell_type": "code",
      "execution_count": null,
      "metadata": {
        "id": "P_IJ9m8Ojavp"
      },
      "outputs": [],
      "source": [
        "# bit operation 11 and 100 so no bits so we get 000\n",
        "3 & 4 "
      ]
    },
    {
      "cell_type": "code",
      "execution_count": null,
      "metadata": {
        "id": "MJaNdN18javp"
      },
      "outputs": [],
      "source": [
        "3 & 5 # 11 and 101 so we should get 001 that is 1"
      ]
    },
    {
      "cell_type": "code",
      "execution_count": null,
      "metadata": {
        "id": "9ClQCyWQjavp"
      },
      "outputs": [],
      "source": [
        "2**8 # THIS MEANS that one byte can hold 256 different values"
      ]
    },
    {
      "cell_type": "code",
      "execution_count": null,
      "metadata": {
        "id": "-OtyRomtjavq"
      },
      "outputs": [],
      "source": [
        "bin(255),bin(3),bin(4),bin(5),bin(6),bin(7)\n"
      ]
    },
    {
      "cell_type": "code",
      "execution_count": null,
      "metadata": {
        "id": "n7VQd0J3javq"
      },
      "outputs": [],
      "source": [
        "bin(127), bin(128)"
      ]
    },
    {
      "cell_type": "code",
      "execution_count": null,
      "metadata": {
        "id": "t5MN9dGyjavq"
      },
      "outputs": [],
      "source": [
        "1+2**1+2**2+2**3+2**4, bin(31)"
      ]
    },
    {
      "cell_type": "code",
      "execution_count": null,
      "metadata": {
        "id": "znE6d2nJjavq"
      },
      "outputs": [],
      "source": [
        "bin(3)"
      ]
    },
    {
      "cell_type": "code",
      "execution_count": null,
      "metadata": {
        "id": "iwMJyplGjavq"
      },
      "outputs": [],
      "source": [
        "bin(4)"
      ]
    },
    {
      "cell_type": "code",
      "execution_count": null,
      "metadata": {
        "id": "EB1JYSxnjavq"
      },
      "outputs": [],
      "source": [
        "# bit or will be 11 or 100 should be 111\n",
        "3 | 4"
      ]
    },
    {
      "cell_type": "code",
      "execution_count": null,
      "metadata": {
        "id": "eI0NAa1Ojavr"
      },
      "outputs": [],
      "source": [
        "# Bitwise XOR (Exclusive XOR)\n",
        "True ^ False"
      ]
    },
    {
      "cell_type": "code",
      "execution_count": null,
      "metadata": {
        "id": "cUjU_xlRjavr"
      },
      "outputs": [],
      "source": [
        "True ^ True"
      ]
    },
    {
      "cell_type": "code",
      "execution_count": null,
      "metadata": {
        "id": "GWthKTHLjavr"
      },
      "outputs": [],
      "source": [
        "False ^ False"
      ]
    },
    {
      "cell_type": "code",
      "execution_count": null,
      "metadata": {
        "id": "eKOaB6ihjavr"
      },
      "outputs": [],
      "source": [
        "# shifted 1 to 100000 which is 32, 2 to the 5th power\n",
        "1 << 5"
      ]
    },
    {
      "cell_type": "code",
      "execution_count": null,
      "metadata": {
        "id": "QwwtyBHRjavr"
      },
      "outputs": [],
      "source": [
        "bin(32)"
      ]
    },
    {
      "cell_type": "code",
      "execution_count": null,
      "metadata": {
        "id": "NuhxADlnjavr"
      },
      "outputs": [],
      "source": [
        "127 >> 4"
      ]
    },
    {
      "cell_type": "code",
      "execution_count": null,
      "metadata": {
        "id": "bNuRNTV-javs"
      },
      "outputs": [],
      "source": []
    },
    {
      "cell_type": "code",
      "execution_count": null,
      "metadata": {
        "id": "vmQdNl4Gjavs"
      },
      "outputs": [],
      "source": [
        "bin(127)"
      ]
    },
    {
      "cell_type": "markdown",
      "metadata": {
        "id": "33J0zPSXjavs"
      },
      "source": [
        "## If Statement"
      ]
    },
    {
      "cell_type": "code",
      "execution_count": null,
      "metadata": {
        "id": "7n5rJX6Cjavs"
      },
      "outputs": [],
      "source": [
        "## Conditional execution\n",
        "# if 4 is larger than 5 then do something\n",
        "if 6 > 5:\n",
        "    print(\"6 is larger than 5 wow!\")"
      ]
    },
    {
      "cell_type": "code",
      "execution_count": null,
      "metadata": {
        "id": "o8Yiz7DIjavs"
      },
      "outputs": [],
      "source": [
        "## Conditional execution\n",
        "# if 4 is larger than 5 then do something\n",
        "my_val = 1\n",
        "if my_val > 5:\n",
        "    # so we have code block when if is true\n",
        "    print(f\"{my_val} is larger than 5 wow!\")\n",
        "    # only runs when if statement is true\n",
        "    print(\"Only when if is true\")\n",
        "print(\"This will always run\")"
      ]
    },
    {
      "cell_type": "code",
      "execution_count": null,
      "metadata": {
        "id": "s7ycTGBbjavs"
      },
      "outputs": [],
      "source": [
        "if 5 >= 5:\n",
        "    print(\"hello\")\n",
        "if 5 <= 5:\n",
        "    print(\"hello\")\n",
        "if 5 == 6:\n",
        "    print(\"hello thats magic\")\n",
        "if 5 != 6:\n",
        "    print(\"hello thats not magic\")"
      ]
    },
    {
      "cell_type": "code",
      "execution_count": null,
      "metadata": {
        "id": "D3oOAGcrjavs"
      },
      "outputs": [],
      "source": [
        "if 2*2 == 4:\n",
        "    print(\"Do one thing if if is True\")\n",
        "    print(\"DO more things if if is True\")\n",
        "print(\"Do this always\")"
      ]
    },
    {
      "cell_type": "code",
      "execution_count": null,
      "metadata": {
        "id": "lGEV5pbNjavs"
      },
      "outputs": [],
      "source": [
        "a = 4\n",
        "if 2*2 == a:\n",
        "    print(\"Do one thing if if is True\")\n",
        "    print(\"DO more things if if is True\")\n",
        "    \n",
        "    \n",
        "    print(\"Do more\")\n",
        "print(\"Do this always\")"
      ]
    },
    {
      "cell_type": "code",
      "execution_count": null,
      "metadata": {
        "id": "tc2VxMA4javt"
      },
      "outputs": [],
      "source": [
        "a = 24\n",
        "if 2*2 == a:\n",
        "    print(\"Do one thing if if is True\")\n",
        "    print(\"DO more things if if is True\")\n",
        "    \n",
        "    if (a > 3):\n",
        "        print(\"Do more\")\n",
        "        \n",
        "if (a > 3):\n",
        "    print(\"a is larger than 3\")       \n",
        "# Last line will always be printed\n",
        "print(\"Do this always\")"
      ]
    },
    {
      "cell_type": "code",
      "execution_count": null,
      "metadata": {
        "id": "vauyfl8-javt"
      },
      "outputs": [],
      "source": [
        "a = input(\"What is your age \")\n",
        "print('Your age is ', a)"
      ]
    },
    {
      "cell_type": "code",
      "execution_count": null,
      "metadata": {
        "id": "dSnobc64javt"
      },
      "outputs": [],
      "source": [
        "c = int(input(\"Enter temperature in Celsius \"))\n",
        "f = c * 9/5 + 32\n",
        "print(\"Farenheit Temperature is\", f)"
      ]
    },
    {
      "cell_type": "code",
      "execution_count": null,
      "metadata": {
        "id": "xen8tgDdjavt"
      },
      "outputs": [],
      "source": [
        "c = float(input(\"ievadiet  temperature in Celsius \"))\n",
        "f = c * 9/5 + 32\n",
        "print(\"Farenheit Temperature is\", f)\n",
        "if f > 100:\n",
        "    print(\"You are too hot, find a doctor?\")"
      ]
    },
    {
      "cell_type": "code",
      "execution_count": null,
      "metadata": {
        "id": "-PYDz7Rljavt"
      },
      "outputs": [],
      "source": [
        "# Show all current local variables\n",
        "%whos"
      ]
    },
    {
      "cell_type": "code",
      "execution_count": null,
      "metadata": {
        "id": "uowSz8yZjavt"
      },
      "outputs": [],
      "source": [
        "%store"
      ]
    },
    {
      "cell_type": "code",
      "execution_count": null,
      "metadata": {
        "id": "y0UhW1ZSjavt"
      },
      "outputs": [],
      "source": [
        "a = 5\n",
        "b = \"Food\""
      ]
    },
    {
      "cell_type": "code",
      "execution_count": null,
      "metadata": {
        "id": "lffH33OFjavt"
      },
      "outputs": [],
      "source": [
        "%whos"
      ]
    },
    {
      "cell_type": "code",
      "execution_count": null,
      "metadata": {
        "id": "NJc8R-jgjavu"
      },
      "outputs": [],
      "source": [
        "%store a"
      ]
    },
    {
      "cell_type": "code",
      "execution_count": null,
      "metadata": {
        "id": "ubpgcK2mjavu"
      },
      "outputs": [],
      "source": [
        "%whos"
      ]
    },
    {
      "cell_type": "code",
      "execution_count": null,
      "metadata": {
        "id": "M6kQF18Cjavu"
      },
      "outputs": [],
      "source": [
        "%store"
      ]
    },
    {
      "cell_type": "code",
      "execution_count": null,
      "metadata": {
        "id": "aoBQxADYjavu"
      },
      "outputs": [],
      "source": [
        "#Retrieve variables from disk\n",
        "%store -r"
      ]
    },
    {
      "cell_type": "code",
      "execution_count": null,
      "metadata": {
        "id": "clTlz0tajavu"
      },
      "outputs": [],
      "source": [
        "%whos"
      ]
    },
    {
      "cell_type": "code",
      "execution_count": null,
      "metadata": {
        "id": "a0CWO8gEjavu"
      },
      "outputs": [],
      "source": [
        "%store b"
      ]
    },
    {
      "cell_type": "code",
      "execution_count": null,
      "metadata": {
        "id": "43Wselvbjavu"
      },
      "outputs": [],
      "source": [
        "%store -r b"
      ]
    },
    {
      "cell_type": "code",
      "execution_count": null,
      "metadata": {
        "id": "eFRVVz9zjavu"
      },
      "outputs": [],
      "source": [
        "b"
      ]
    },
    {
      "cell_type": "code",
      "execution_count": null,
      "metadata": {
        "id": "NdoGyeXzjavu"
      },
      "outputs": [],
      "source": [
        "%store -r a"
      ]
    },
    {
      "cell_type": "code",
      "execution_count": null,
      "metadata": {
        "id": "OjC_5OWrjavu"
      },
      "outputs": [],
      "source": [
        "a = 5\n",
        "if a > 5:\n",
        "    print('a is larger than 5')\n",
        "    # do more stuff\n",
        "else:\n",
        "    print('a is NOT larger than 5')\n",
        "    # do more stuff if a is not larger than 5\n",
        "print(\"Always print this\")"
      ]
    },
    {
      "cell_type": "code",
      "execution_count": null,
      "metadata": {
        "id": "0rxbLn8zjavv",
        "outputId": "a0bdff9f-2692-4cb5-fed8-5f2cc62fd012"
      },
      "outputs": [
        {
          "name": "stdout",
          "output_type": "stream",
          "text": [
            "Enter an integer please! 42\n",
            "That is the answer to everything!\n",
            "Your number is 42\n"
          ]
        }
      ],
      "source": [
        "#elif comes from else if\n",
        "x = int(input(\"Enter an integer please! \"))\n",
        "if x > 42:\n",
        "    print(\"Too ambitious an answer!\")\n",
        "elif x < 42:\n",
        "    print(\"You dream too little!\")\n",
        "else:\n",
        "    print(\"That is the answer to everything!\")\n",
        "#These lines below will execute always\n",
        "print('Your number is', x)"
      ]
    },
    {
      "cell_type": "markdown",
      "metadata": {
        "id": "XJw38GVLjavv"
      },
      "source": [
        "## Loops\n",
        "* While\n",
        "* For\n",
        "* Do While (emulate)"
      ]
    },
    {
      "cell_type": "code",
      "execution_count": null,
      "metadata": {
        "id": "7seYLEUejavv"
      },
      "outputs": [],
      "source": [
        "sum(range(0,30))"
      ]
    },
    {
      "cell_type": "code",
      "execution_count": null,
      "metadata": {
        "id": "JNRW3o-ejavv"
      },
      "outputs": [],
      "source": [
        "sum(range(0,30,5))"
      ]
    },
    {
      "cell_type": "code",
      "execution_count": null,
      "metadata": {
        "id": "J_pNW04Jjavw"
      },
      "outputs": [],
      "source": [
        "i = 0\n",
        "sum = 0\n",
        "while i < 30 and sum < 100:\n",
        "    print('i is ', i)\n",
        "    sum += i # same as sum = sum + i\n",
        "    print('sum is ', sum)\n",
        "    i += 1\n",
        "print('Final sum is ', sum)"
      ]
    },
    {
      "cell_type": "code",
      "execution_count": null,
      "metadata": {
        "id": "tOIIAjEFjavw"
      },
      "outputs": [],
      "source": [
        "i = 0\n",
        "while i < 5:\n",
        "    print('i is', round(i, 6), i )\n",
        "    i+=0.3 # same as i = i + 0.3\n",
        "print('All Done', round(i, 6))"
      ]
    },
    {
      "cell_type": "code",
      "execution_count": null,
      "metadata": {
        "id": "cyKevOzdjavw"
      },
      "outputs": [],
      "source": [
        "# we can import an additional library for math functions\n",
        "import math\n",
        "math.ceil(5.7)"
      ]
    },
    {
      "cell_type": "code",
      "execution_count": null,
      "metadata": {
        "id": "0esHzWXVjavw"
      },
      "outputs": [],
      "source": [
        "summa = 0\n",
        "maxnum = 30\n",
        "step = 5\n",
        "i = 0\n",
        "while i < 30:\n",
        "    summa += i\n",
        "    print(\"Value:\", i, \" Current Sum:\", summa)\n",
        "    i += step\n",
        "print(\"Iterator is\", i, \"Final sum is\", summa)\n",
        "    "
      ]
    },
    {
      "cell_type": "code",
      "execution_count": null,
      "metadata": {
        "id": "D1AI5uQrjavw"
      },
      "outputs": [],
      "source": [
        "i = 0\n",
        "while True:\n",
        "    print(\"i is \", i)\n",
        "    i += 1\n",
        "    if i > 10:\n",
        "        break # this will exit the loop\n",
        "print(\"This will never print\", i)"
      ]
    },
    {
      "cell_type": "code",
      "execution_count": null,
      "metadata": {
        "id": "CQQ5NlZXjavw"
      },
      "outputs": [],
      "source": [
        "i = 0\n",
        "sum = 0\n",
        "while i < 10:\n",
        "    print(i)\n",
        "    i += 1\n",
        "    if i > 5:\n",
        "        print(\"continuing loop when i is \", i)\n",
        "        continue\n",
        "    sum += i # this line will not be process if continue fires\n",
        "print(sum)"
      ]
    },
    {
      "cell_type": "code",
      "execution_count": null,
      "metadata": {
        "id": "BZkyPyIojavw"
      },
      "outputs": [],
      "source": [
        "i"
      ]
    },
    {
      "cell_type": "code",
      "execution_count": null,
      "metadata": {
        "id": "669kf94yjavw"
      },
      "outputs": [],
      "source": [
        "# This will run forever and you will need to restart kernel\n",
        "i = 0\n",
        "while True:\n",
        "    print(\"This print forever i is\", i)\n",
        "    i += 1\n",
        "    if i > 5:\n",
        "        print(\"Actually I decided to stop when i is\", i)\n",
        "        break # here we break out of while loop\n",
        "    \n",
        "print(\"This prints when we break out of loop\")"
      ]
    },
    {
      "cell_type": "code",
      "execution_count": null,
      "metadata": {
        "id": "CAjfcPxpjavw"
      },
      "outputs": [],
      "source": [
        "summa = 0\n",
        "maxnum = 30\n",
        "i = 0\n",
        "while i < maxnum:\n",
        "    summa += i\n",
        "    print(\"Current sum is\", summa)\n",
        "    i += 1\n",
        "print(\"Final sum is\", summa)\n",
        "    "
      ]
    },
    {
      "cell_type": "code",
      "execution_count": null,
      "metadata": {
        "id": "NyLLnIqjjavx"
      },
      "outputs": [],
      "source": [
        "sum(range(10))"
      ]
    },
    {
      "cell_type": "code",
      "execution_count": null,
      "metadata": {
        "id": "Ty8AV8_ajavx"
      },
      "outputs": [],
      "source": [
        "sum(range(0,22,2))"
      ]
    },
    {
      "cell_type": "code",
      "execution_count": null,
      "metadata": {
        "id": "k2dpg5dgjavx"
      },
      "outputs": [],
      "source": [
        "summa = 0\n",
        "i = 2\n",
        "while i <= 20:\n",
        "    summa += i # summa = summa + i\n",
        "    print('Sum is ', summa)\n",
        "    i += 2\n",
        "print(\"Final sum\", summa)"
      ]
    },
    {
      "cell_type": "code",
      "execution_count": null,
      "metadata": {
        "id": "uaRLt0iGjavx"
      },
      "outputs": [],
      "source": [
        "a = 2018\n",
        "b = 2019\n",
        "print(a,b)"
      ]
    },
    {
      "cell_type": "code",
      "execution_count": null,
      "metadata": {
        "id": "DqT7rpO_javx"
      },
      "outputs": [],
      "source": [
        "a = b\n",
        "print(a,b)"
      ]
    },
    {
      "cell_type": "code",
      "execution_count": null,
      "metadata": {
        "id": "V_ko46V-javx"
      },
      "outputs": [],
      "source": [
        "a = 2018\n",
        "b = 2019\n",
        "print(a,b)"
      ]
    },
    {
      "cell_type": "code",
      "execution_count": null,
      "metadata": {
        "id": "KNmFFOoHjavx"
      },
      "outputs": [],
      "source": [
        "temp = a\n",
        "a = b\n",
        "b = temp\n",
        "print(a, b)"
      ]
    },
    {
      "cell_type": "code",
      "execution_count": null,
      "metadata": {
        "id": "P_CYxJsZjavx"
      },
      "outputs": [],
      "source": [
        "#More python way to exchange values\n",
        "print(\"Before swap\\t\", a, b)\n",
        "a, b = b, a\n",
        "print(\"After swap\\t\", a, b)"
      ]
    },
    {
      "cell_type": "code",
      "execution_count": null,
      "metadata": {
        "id": "MgleO8rsjavx"
      },
      "outputs": [],
      "source": [
        "c = 2020\n",
        "d = 2077"
      ]
    },
    {
      "cell_type": "code",
      "execution_count": null,
      "metadata": {
        "id": "8OGTEsIzjavy"
      },
      "outputs": [],
      "source": [
        "# we can swap many values at once\n",
        "print(a,b,c,d)\n",
        "a,b,c,d = d,c,b,a # we calculate from right to left\n",
        "print(a,b,c,d)"
      ]
    },
    {
      "cell_type": "code",
      "execution_count": null,
      "metadata": {
        "id": "i2xXEHvujavy"
      },
      "outputs": [],
      "source": [
        "# Good old Fibonacci\n",
        "#a, b, c = 0, 1, 10\n",
        "a = 1\n",
        "b = 1\n",
        "c = 10\n",
        "while c < 100:\n",
        "    print(a, b, c, b/a)\n",
        "    a, b, c = b, a+b, c+1 # multiple assignment yay! right side from left to right eval first then assigned to left!\n",
        "print(c)"
      ]
    },
    {
      "cell_type": "code",
      "execution_count": null,
      "metadata": {
        "id": "gbsbgZwyjavy"
      },
      "outputs": [],
      "source": [
        "name = \"Valdis\"\n",
        "for c in name: # we will loop through all characters in name\n",
        "    print(c)"
      ]
    },
    {
      "cell_type": "code",
      "execution_count": null,
      "metadata": {
        "id": "uBe60xS4javy"
      },
      "outputs": [],
      "source": [
        "for n in range(10):\n",
        "    print(n)"
      ]
    },
    {
      "cell_type": "code",
      "execution_count": null,
      "metadata": {
        "id": "G05fqItYjavy"
      },
      "outputs": [],
      "source": [
        "# this is an anti-pattern, try to avoid this\n",
        "for c in range(len(name)):\n",
        "    print(name[c])"
      ]
    },
    {
      "cell_type": "code",
      "execution_count": null,
      "metadata": {
        "id": "2WHVh005javy"
      },
      "outputs": [],
      "source": [
        "c"
      ]
    },
    {
      "cell_type": "code",
      "execution_count": null,
      "metadata": {
        "id": "W_RQHXhfjavy"
      },
      "outputs": [],
      "source": [
        "for x in range(10):\n",
        "    print(x, end=\"*\")"
      ]
    },
    {
      "cell_type": "code",
      "execution_count": null,
      "metadata": {
        "id": "K_Gj3kd4javy"
      },
      "outputs": [],
      "source": [
        "for x in [1,6,3,77,788]:\n",
        "    print(x, x*x)\n",
        "    # we could do more with our x here and do more\n",
        "print(x)"
      ]
    },
    {
      "cell_type": "code",
      "execution_count": null,
      "metadata": {
        "id": "SFcVQwdmjavz"
      },
      "outputs": [],
      "source": [
        "for c in \"Valdis\":\n",
        "    print(c)"
      ]
    },
    {
      "cell_type": "code",
      "execution_count": null,
      "metadata": {
        "id": "0aPvE2qfjavz"
      },
      "outputs": [],
      "source": [
        "name = \"Valdis\"\n",
        "#Not Pythonic\n",
        "for i in range(len(name)):\n",
        "    print(i, name[i])"
      ]
    },
    {
      "cell_type": "code",
      "execution_count": null,
      "metadata": {
        "id": "RE5b5qXUjav1"
      },
      "outputs": [],
      "source": [
        "name=\"Valdis Saules\"\n",
        "# Pythonic Way to number items in an iterable\n",
        "for i, el in enumerate(name,start=1000):\n",
        "    print(i, el)\n",
        "print(\"At end\", i, el)    "
      ]
    },
    {
      "cell_type": "code",
      "execution_count": null,
      "metadata": {
        "id": "n1CayP29jav2"
      },
      "outputs": [],
      "source": [
        "for el in name:\n",
        "    print(el)"
      ]
    },
    {
      "cell_type": "code",
      "execution_count": null,
      "metadata": {
        "id": "zItpAB4Ijav2"
      },
      "outputs": [],
      "source": [
        "groceries = [\"Bread\", \"Milk\", \"Chocolate\"]\n",
        "for elem in groceries:\n",
        "    print(\"I need to buy\", elem)"
      ]
    },
    {
      "cell_type": "code",
      "execution_count": null,
      "metadata": {
        "id": "-PKAd7h_jav2"
      },
      "outputs": [],
      "source": [
        "mlist = list(range(0,20,2))\n",
        "mlist"
      ]
    },
    {
      "cell_type": "code",
      "execution_count": null,
      "metadata": {
        "id": "7dZkWT1Xjav2"
      },
      "outputs": [],
      "source": [
        "mlist[5]"
      ]
    },
    {
      "cell_type": "code",
      "execution_count": null,
      "metadata": {
        "id": "nEZxmKwIjav2"
      },
      "outputs": [],
      "source": [
        "d={}\n",
        "for index, elem in enumerate([1,2,6,55]):\n",
        "    print(index, elem)\n",
        "    d[str(index)]=elem\n",
        "print(d)\n"
      ]
    },
    {
      "cell_type": "code",
      "execution_count": null,
      "metadata": {
        "id": "Ocwf-oqpjav2"
      },
      "outputs": [],
      "source": [
        "nd={}\n",
        "for index, elem in enumerate([1,2,6,55]):\n",
        "    print(index, elem)\n",
        "    nd[index]=elem\n",
        "print(nd)\n"
      ]
    },
    {
      "cell_type": "code",
      "execution_count": null,
      "metadata": {
        "id": "BC43TS3Xjav3"
      },
      "outputs": [],
      "source": [
        "d['2']"
      ]
    },
    {
      "cell_type": "code",
      "execution_count": null,
      "metadata": {
        "id": "h5bsuSNejav3"
      },
      "outputs": [],
      "source": [
        "nd[3]"
      ]
    },
    {
      "cell_type": "code",
      "execution_count": null,
      "metadata": {
        "id": "pMQswCGXjav3"
      },
      "outputs": [],
      "source": [
        "nd[2]"
      ]
    },
    {
      "cell_type": "code",
      "execution_count": null,
      "metadata": {
        "scrolled": false,
        "id": "5cPkJvxFjav3"
      },
      "outputs": [],
      "source": [
        "nd['2']"
      ]
    },
    {
      "cell_type": "code",
      "execution_count": null,
      "metadata": {
        "id": "jDCVG3gOjav3"
      },
      "outputs": [],
      "source": [
        "d"
      ]
    },
    {
      "cell_type": "code",
      "execution_count": null,
      "metadata": {
        "id": "Xj4bMOrSjav3"
      },
      "outputs": [],
      "source": [
        "# also for k,v in d.items(): any names will do\n",
        "for key, value in d.items():\n",
        "    print('My dictionary item with key:',key, \" value:\", value)"
      ]
    },
    {
      "cell_type": "code",
      "execution_count": null,
      "metadata": {
        "id": "AUdNvNrijav4"
      },
      "outputs": [],
      "source": [
        "# How to iterate over a dictionary\n",
        "for key, value in d.items():\n",
        "    print(\"Processing\")\n",
        "    # here we add an if statement\n",
        "    if value % 2 == 0:\n",
        "        print(key,value)"
      ]
    },
    {
      "cell_type": "code",
      "execution_count": null,
      "metadata": {
        "id": "yORGVG60jav4"
      },
      "outputs": [],
      "source": [
        "# outer loop\n",
        "for a in range(1,5):\n",
        "    # inner loop\n",
        "    for b in range(20,24):\n",
        "        print(a,b)"
      ]
    },
    {
      "cell_type": "code",
      "execution_count": null,
      "metadata": {
        "id": "llPCmJGKjav4"
      },
      "outputs": [],
      "source": [
        "print(a,b)"
      ]
    },
    {
      "cell_type": "code",
      "execution_count": null,
      "metadata": {
        "id": "sGcww5eWjav4"
      },
      "outputs": [],
      "source": [
        "for a in range(1,9):\n",
        "    print('A is ', a)\n",
        "    for b in range(a,6):\n",
        "        print(a,b)"
      ]
    },
    {
      "cell_type": "code",
      "execution_count": null,
      "metadata": {
        "id": "j80Vwi8qjav4"
      },
      "outputs": [],
      "source": [
        "n=0\n",
        "for a in range(1,4):\n",
        "    for b in range(11,14):\n",
        "        for c in range(21,24):\n",
        "            print(n, a, b, c)\n",
        "            n+=1"
      ]
    },
    {
      "cell_type": "code",
      "execution_count": null,
      "metadata": {
        "id": "d28igcdljav4"
      },
      "outputs": [],
      "source": [
        "#The break statement, like in C, breaks out of the innermost enclosing for or while loop.\n",
        "\n",
        "#Loop statements may have an else clause; it is executed when the loop terminates through exhaustion of the list (with for) or when the condition becomes false (with while), but not when the loop is terminated by a break statement. This is exemplified by the following loop, which searches for prime numbers:\n",
        "\n",
        "for n in range(2, 10):\n",
        "    for x in range(2, n):\n",
        "        if n % x == 0:\n",
        "            print(n, 'equals', x, '*', n//x)\n",
        "            break\n",
        "    else: #badly named Else IMHO! should be exhausted not ELSE!!! VS\n",
        "        # loop fell through without finding a factor\n",
        "        print(n, 'is a prime number')"
      ]
    },
    {
      "cell_type": "code",
      "execution_count": null,
      "metadata": {
        "id": "emQVh9rcjav5"
      },
      "outputs": [],
      "source": [
        "# The pass statement does nothing. It can be used when a statement is required syntactically but the program requires no action. For example:\n",
        "# Do not run this !!!\n",
        "while True:\n",
        "    pass  # Busy-wait for keyboard interrupt (Ctrl+C)"
      ]
    },
    {
      "cell_type": "code",
      "execution_count": null,
      "metadata": {
        "id": "cO_wE2xUjav5"
      },
      "outputs": [],
      "source": [
        "#emulated do while loop\n",
        "a=0\n",
        "while True:\n",
        "    # statement(s)\n",
        "    a+=1\n",
        "    print(a)\n",
        "    if not a < 5:\n",
        "        break"
      ]
    },
    {
      "cell_type": "markdown",
      "metadata": {
        "id": "KK5lw9ytjav5"
      },
      "source": [
        "## Iterating over lists"
      ]
    },
    {
      "cell_type": "code",
      "execution_count": null,
      "metadata": {
        "id": "WveGnnVsjav5"
      },
      "outputs": [],
      "source": [
        "for i in range(10):\n",
        "    print(i, end='')  #Python 3.x specific "
      ]
    },
    {
      "cell_type": "code",
      "execution_count": null,
      "metadata": {
        "id": "vKM7r7gvjav5"
      },
      "outputs": [],
      "source": [
        "for i in range(10):\n",
        "    print(f'{i} ',end='')  #Python 3.6+ specific "
      ]
    },
    {
      "cell_type": "code",
      "execution_count": null,
      "metadata": {
        "id": "CIvn6S_3jav5"
      },
      "outputs": [],
      "source": [
        "names=['Alice','Bob','Carol','David']\n",
        "for n in names:\n",
        "    print(n, len(n))"
      ]
    },
    {
      "cell_type": "code",
      "execution_count": null,
      "metadata": {
        "id": "99THEuzVjav5"
      },
      "outputs": [],
      "source": [
        "# An older Pythonic method of iterating over indices of a sequence\n",
        "# an anti-pattern \n",
        "for i in range(len(names)):\n",
        "    print(i, names[i])\n"
      ]
    },
    {
      "cell_type": "code",
      "execution_count": null,
      "metadata": {
        "id": "3isdVBprjav6"
      },
      "outputs": [],
      "source": []
    },
    {
      "cell_type": "code",
      "execution_count": null,
      "metadata": {
        "id": "yOhbNFdDjav6"
      },
      "outputs": [],
      "source": [
        "for i, name in enumerate(names):\n",
        "    print(i, name)"
      ]
    },
    {
      "cell_type": "code",
      "execution_count": null,
      "metadata": {
        "id": "1kjcg9ofjav6"
      },
      "outputs": [],
      "source": [
        "mycollection=[]\n",
        "for el in mycollection:\n",
        "    pass # empty operation\n",
        "    # do work on el in your collection\n"
      ]
    },
    {
      "cell_type": "code",
      "execution_count": null,
      "metadata": {
        "id": "UXwjUiADjav6"
      },
      "outputs": [],
      "source": [
        "squares = []"
      ]
    },
    {
      "cell_type": "code",
      "execution_count": null,
      "metadata": {
        "id": "q-_xpIycjav6"
      },
      "outputs": [],
      "source": [
        "squares = []\n",
        "# For example, assume we want to create a list of squares, like:\n",
        "for x in range(30,40,2):\n",
        "    squares.append(f'Square of {{x}} {x} is {x**2}')\n",
        "    squares.append('Square of {x} ' +str(x) + ' is ' + str(x**2))\n",
        "squares\n",
        "#[0, 1, 4, 9, 16, 25, 36, 49, 64, 81]\n"
      ]
    },
    {
      "cell_type": "markdown",
      "metadata": {
        "id": "Jor6U1apjav6"
      },
      "source": [
        "# List Comprehensions"
      ]
    },
    {
      "cell_type": "code",
      "execution_count": null,
      "metadata": {
        "id": "P3n0cPu0jav6"
      },
      "outputs": [],
      "source": [
        "mlist = [x**2 for x in range(10)]\n",
        "mlist"
      ]
    },
    {
      "cell_type": "code",
      "execution_count": null,
      "metadata": {
        "id": "LBPQz0GTjav7"
      },
      "outputs": [],
      "source": [
        "mylist = [x+5 for x in range(10) if x%2 == 0]\n",
        "mylist"
      ]
    },
    {
      "cell_type": "code",
      "execution_count": null,
      "metadata": {
        "id": "Uc_4Hooljav7"
      },
      "outputs": [],
      "source": [
        "myl = [x+10 for x in range(5) if x%2 == 0]\n",
        "myl"
      ]
    },
    {
      "cell_type": "code",
      "execution_count": null,
      "metadata": {
        "id": "OVEle5Wajav7"
      },
      "outputs": [],
      "source": [
        "\"kartupelis\"[::2]"
      ]
    },
    {
      "cell_type": "code",
      "execution_count": null,
      "metadata": {
        "id": "fVfOXxWcjav7"
      },
      "outputs": [],
      "source": [
        "mytlist = [\"Letter is \"+ c for c in \"kartupelis\" if c > 'e']\n",
        "mytlist"
      ]
    },
    {
      "cell_type": "code",
      "execution_count": null,
      "metadata": {
        "id": "isso4ejEjav7"
      },
      "outputs": [],
      "source": [
        "name = \"Valdis Saules\"\n",
        "mynd = {\"key \"+c: ord(c) for c in name}\n",
        "mynd"
      ]
    },
    {
      "cell_type": "code",
      "execution_count": null,
      "metadata": {
        "id": "J367_2Tfjav7"
      },
      "outputs": [],
      "source": [
        "name = \"Valdis Saules\"\n",
        "mynd = {\"key \"+c+str(i): [c, ord(c)] for i,c in enumerate(name)}\n",
        "mynd"
      ]
    },
    {
      "cell_type": "code",
      "execution_count": null,
      "metadata": {
        "id": "_Hw9zbhbjav7"
      },
      "outputs": [],
      "source": [
        "mylist=[]\n",
        "for x in range(10):\n",
        "    mylist.append(x+5)\n"
      ]
    },
    {
      "cell_type": "code",
      "execution_count": null,
      "metadata": {
        "id": "AQc8qBJtjav7"
      },
      "outputs": [],
      "source": [
        "# Note that this creates (or overwrites) a variable named x that still exists after the loop completes. We can calculate the list of squares without any side effects using:\n",
        "\n",
        "# squares = list(map(lambda x: x**2, range(10)))\n",
        "\n",
        "squares = [x**2 for x in range(10)]\n",
        "squares"
      ]
    },
    {
      "cell_type": "code",
      "execution_count": null,
      "metadata": {
        "id": "d8-sBINzjav7"
      },
      "outputs": [],
      "source": [
        "squares = [x**2 for x in range(10) if x % 2 == 1]\n",
        "squares"
      ]
    },
    {
      "cell_type": "code",
      "execution_count": null,
      "metadata": {
        "id": "qFqJwlqFjav8"
      },
      "outputs": [],
      "source": [
        "mydict = {\"key \"+c: ord(c) for c in \"kartupelis\"}\n",
        "mydict"
      ]
    },
    {
      "cell_type": "code",
      "execution_count": null,
      "metadata": {
        "id": "mhsqjdS8jav8"
      },
      "outputs": [],
      "source": [
        "# In addition, dict comprehensions can be used to create dictionaries from arbitrary key and value expressions:\n",
        "\n",
        "\n",
        "sqrs={str(x): x**2 for x in range(1,20)}\n",
        "print(sqrs)\n"
      ]
    },
    {
      "cell_type": "code",
      "execution_count": null,
      "metadata": {
        "id": "LYZrQfkajav8"
      },
      "outputs": [],
      "source": [
        "sqrs[5]\n"
      ]
    },
    {
      "cell_type": "code",
      "execution_count": null,
      "metadata": {
        "id": "u_vp_b4Mjav8"
      },
      "outputs": [],
      "source": [
        "#When looping through dictionaries, the key and corresponding value can be retrieved at the same time using the items() method.\n",
        "\n",
        "knights = {'gallahad': 'the pure', 'robin': 'the brave'}\n",
        "for k, v in knights.items():\n",
        "    print(k, v)"
      ]
    },
    {
      "cell_type": "markdown",
      "metadata": {
        "id": "IlWv31utjav8"
      },
      "source": [
        "## Avoid changing the sequence that you loop(iterate) over!"
      ]
    },
    {
      "cell_type": "code",
      "execution_count": null,
      "metadata": {
        "id": "9PuoTs-6jav8"
      },
      "outputs": [],
      "source": [
        "mlist = list(range(10))\n",
        "mlist"
      ]
    },
    {
      "cell_type": "code",
      "execution_count": null,
      "metadata": {
        "id": "UB0cjutQjav8"
      },
      "outputs": [],
      "source": [
        "for el in mlist:\n",
        "    print(el)\n",
        "    # do not modify mlist when going looping through:"
      ]
    },
    {
      "cell_type": "code",
      "execution_count": null,
      "metadata": {
        "id": "ci_H2OJ1jav8"
      },
      "outputs": [],
      "source": [
        "names"
      ]
    },
    {
      "cell_type": "code",
      "execution_count": null,
      "metadata": {
        "id": "kPk4dsobjav8"
      },
      "outputs": [],
      "source": [
        "\n",
        "for n in names[:]: #Looping over shallow copy of a list useful if we are going to modify the original list!\n",
        "    if n[0]=='B':\n",
        "        names.append(n)\n",
        "print(names)\n",
        "    "
      ]
    },
    {
      "cell_type": "code",
      "execution_count": null,
      "metadata": {
        "id": "caPrQhagjav8"
      },
      "outputs": [],
      "source": [
        "## Enumerate method\n",
        "#When looping through a sequence, the position index and corresponding value can be retrieved at the same time using the enumerate() function.\n",
        "\n",
        "\n",
        "for i, v in enumerate(['tic', 'tac', 'toe']):\n",
        "    print(i, v)\n"
      ]
    },
    {
      "cell_type": "markdown",
      "metadata": {
        "id": "0MNzVAXXjav9"
      },
      "source": [
        "### To loop over two or more sequences at the same time, the entries can be paired with the zip() function."
      ]
    },
    {
      "cell_type": "code",
      "execution_count": null,
      "metadata": {
        "id": "67FXXQiijav9"
      },
      "outputs": [],
      "source": [
        "mlist"
      ]
    },
    {
      "cell_type": "code",
      "execution_count": null,
      "metadata": {
        "id": "1bzGAoPhjav9"
      },
      "outputs": [],
      "source": [
        "# two ways of looping through list and creating a new list\n",
        "clist = []\n",
        "for el in mlist:\n",
        "    clist.append(el**3)\n",
        "clist"
      ]
    },
    {
      "cell_type": "code",
      "execution_count": null,
      "metadata": {
        "id": "2p7Pi2ESjav9"
      },
      "outputs": [],
      "source": [
        "# second way of creating a list\n",
        "clist = [x**3 for x in range(10)]\n",
        "clist"
      ]
    },
    {
      "cell_type": "code",
      "execution_count": null,
      "metadata": {
        "id": "Mp5Y4FMnjav9"
      },
      "outputs": [],
      "source": [
        "for a,b in zip(mlist,clist[:5]):\n",
        "    print(a,b)"
      ]
    },
    {
      "cell_type": "code",
      "execution_count": null,
      "metadata": {
        "id": "S0q9sTuJjav9"
      },
      "outputs": [],
      "source": [
        "questions = ['name', 'quest', 'favorite color']\n",
        "answers = ['lancelot', 'the holy grail', 'blue']\n",
        "for q, a in zip(questions, answers):\n",
        "    print(f'What is your {q}?  It is {a}.')"
      ]
    },
    {
      "cell_type": "code",
      "execution_count": null,
      "metadata": {
        "id": "DOwv1zXWjav9"
      },
      "outputs": [],
      "source": [
        "# To loop over a sequence in reverse, first specify the sequence in a forward direction and then call the reversed() function.\n",
        "\n",
        "\n",
        "for i in reversed(range(1, 10, 2)):\n",
        "    print(i)"
      ]
    },
    {
      "cell_type": "code",
      "execution_count": null,
      "metadata": {
        "id": "0JlG5sSIjav9"
      },
      "outputs": [],
      "source": [
        "# To loop over a sequence in sorted order, use the sorted() function which returns a new sorted list while leaving the source unaltered.\n",
        "\n",
        "\n",
        "basket = ['apple', 'orange', 'apple', 'pear', 'orange', 'banana']\n",
        "for f in sorted(set(basket)):\n",
        "    print(f)"
      ]
    },
    {
      "cell_type": "markdown",
      "metadata": {
        "id": "1qEnLAAqjav9"
      },
      "source": [
        "## Homework\n",
        "### Write a program that goes over(iterates) numbers from 1 to 100(included)\n",
        "* For each number it prints Fizz if number divides by 5 even\n",
        "* For each number it prints Buzz if number divides by 7 evenly\n",
        "* If number divides by 5 AND 7 print FizzBuzz\n",
        "* print number if it does not divide by 5 nor 7\n",
        "* 1,2,3,4,Fizz,6,Buzz,8,9,Fizz,11,.......34,FizzBuzz,36"
      ]
    },
    {
      "cell_type": "code",
      "execution_count": null,
      "metadata": {
        "id": "LOsQNhnIjav9"
      },
      "outputs": [],
      "source": [
        "1,2,3,4,\"Fizz\""
      ]
    },
    {
      "cell_type": "code",
      "execution_count": null,
      "metadata": {
        "id": "Zi1IgXJ_jav-"
      },
      "outputs": [],
      "source": [
        "for x in range(1,101):\n",
        "    print(x)"
      ]
    }
  ],
  "metadata": {
    "kernelspec": {
      "display_name": "Python 3",
      "language": "python",
      "name": "python3"
    },
    "language_info": {
      "codemirror_mode": {
        "name": "ipython",
        "version": 3
      },
      "file_extension": ".py",
      "mimetype": "text/x-python",
      "name": "python",
      "nbconvert_exporter": "python",
      "pygments_lexer": "ipython3",
      "version": "3.7.3"
    },
    "colab": {
      "provenance": []
    }
  },
  "nbformat": 4,
  "nbformat_minor": 0
}