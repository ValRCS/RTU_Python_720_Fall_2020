{
  "cells": [
    {
      "cell_type": "code",
      "source": [],
      "metadata": {
        "id": "IbfGoA9Mkt92"
      },
      "execution_count": null,
      "outputs": []
    },
    {
      "cell_type": "markdown",
      "source": [
        "# Boolean Algebra\n",
        "\n",
        "![George Boole](https://upload.wikimedia.org/wikipedia/commons/thumb/c/ce/George_Boole_color.jpg/440px-George_Boole_color.jpg)\n",
        "\n",
        "https://plato.stanford.edu/entries/boole/"
      ],
      "metadata": {
        "id": "x5avf-YUkuZ2"
      }
    },
    {
      "cell_type": "code",
      "execution_count": 1,
      "metadata": {
        "colab": {
          "base_uri": "https://localhost:8080/"
        },
        "id": "mFQIbhH2javX",
        "outputId": "0cc91eaf-e649-4936-8f6f-4583b9aeddf7"
      },
      "outputs": [
        {
          "output_type": "execute_result",
          "data": {
            "text/plain": [
              "True"
            ]
          },
          "metadata": {},
          "execution_count": 1
        }
      ],
      "source": [
        "True # George Bool 19th century mathematician invented boolean algebra\n",
        "# extremely well suited for computers which work with 0s and 1s"
      ]
    },
    {
      "cell_type": "code",
      "source": [
        "False"
      ],
      "metadata": {
        "colab": {
          "base_uri": "https://localhost:8080/"
        },
        "id": "1YYUVMIukoRI",
        "outputId": "0b30ca9c-2139-495d-fda6-f29d8146c7cd"
      },
      "execution_count": 2,
      "outputs": [
        {
          "output_type": "execute_result",
          "data": {
            "text/plain": [
              "False"
            ]
          },
          "metadata": {},
          "execution_count": 2
        }
      ]
    },
    {
      "cell_type": "code",
      "execution_count": 3,
      "metadata": {
        "colab": {
          "base_uri": "https://localhost:8080/"
        },
        "id": "5ikkjhxgjavb",
        "outputId": "73e5b10a-6329-4847-a295-9d49561ddcec"
      },
      "outputs": [
        {
          "output_type": "execute_result",
          "data": {
            "text/plain": [
              "(bool, bool)"
            ]
          },
          "metadata": {},
          "execution_count": 3
        }
      ],
      "source": [
        "type(True), type(False)"
      ]
    },
    {
      "cell_type": "code",
      "execution_count": 4,
      "metadata": {
        "colab": {
          "base_uri": "https://localhost:8080/"
        },
        "id": "JwEIV72Ajavb",
        "outputId": "7f9c76f8-b4db-4ee7-a439-5f8b0733e085"
      },
      "outputs": [
        {
          "output_type": "execute_result",
          "data": {
            "text/plain": [
              "False"
            ]
          },
          "metadata": {},
          "execution_count": 4
        }
      ],
      "source": [
        "# We use Booleans all the time in computer programming to obtain results of some comparison, or equality and many other functions\n",
        "5 > 7"
      ]
    },
    {
      "cell_type": "code",
      "execution_count": 5,
      "metadata": {
        "colab": {
          "base_uri": "https://localhost:8080/"
        },
        "id": "wAaF9yoXjavc",
        "outputId": "5f1f0c71-c6ae-4045-da25-bef0a99af860"
      },
      "outputs": [
        {
          "output_type": "execute_result",
          "data": {
            "text/plain": [
              "bool"
            ]
          },
          "metadata": {},
          "execution_count": 5
        }
      ],
      "source": [
        "type(5 > 7)"
      ]
    },
    {
      "cell_type": "code",
      "execution_count": 6,
      "metadata": {
        "colab": {
          "base_uri": "https://localhost:8080/"
        },
        "id": "_euIPEVjjavc",
        "outputId": "4723f631-ca55-4bc0-f090-57eee886fd8f"
      },
      "outputs": [
        {
          "output_type": "execute_result",
          "data": {
            "text/plain": [
              "True"
            ]
          },
          "metadata": {},
          "execution_count": 6
        }
      ],
      "source": [
        "8 == 18-10  # evaluation in Python ir right to left so 18-10 is done first"
      ]
    },
    {
      "cell_type": "code",
      "execution_count": 7,
      "metadata": {
        "colab": {
          "base_uri": "https://localhost:8080/"
        },
        "id": "afGhxUx8javc",
        "outputId": "7133c798-611c-4180-fe50-fd998a45317b"
      },
      "outputs": [
        {
          "output_type": "execute_result",
          "data": {
            "text/plain": [
              "(True, False)"
            ]
          },
          "metadata": {},
          "execution_count": 7
        }
      ],
      "source": [
        "2*2 == 4, 2*2 == 5"
      ]
    },
    {
      "cell_type": "code",
      "execution_count": 8,
      "metadata": {
        "colab": {
          "base_uri": "https://localhost:8080/"
        },
        "id": "hg3P-7iIjavd",
        "outputId": "0dcd6c9a-9d08-4fdd-ea42-4c5c0a7831b7"
      },
      "outputs": [
        {
          "output_type": "execute_result",
          "data": {
            "text/plain": [
              "False"
            ]
          },
          "metadata": {},
          "execution_count": 8
        }
      ],
      "source": [
        "5 == '5' # these are not the same in Python! \n",
        "# integer 5 is not the same as string \"5\" "
      ]
    },
    {
      "cell_type": "code",
      "execution_count": 9,
      "metadata": {
        "colab": {
          "base_uri": "https://localhost:8080/"
        },
        "id": "xbEIsauljavd",
        "outputId": "e866a95a-ad77-4fc4-a9b2-44a6696550e2"
      },
      "outputs": [
        {
          "output_type": "execute_result",
          "data": {
            "text/plain": [
              "True"
            ]
          },
          "metadata": {},
          "execution_count": 9
        }
      ],
      "source": [
        "5 == int('5') # we need to compare same data types in Python otherwise we will just get inequality"
      ]
    },
    {
      "cell_type": "code",
      "execution_count": 10,
      "metadata": {
        "colab": {
          "base_uri": "https://localhost:8080/"
        },
        "id": "xit-Anm6javd",
        "outputId": "32d0bcce-87c5-406e-dd97-5cc2ff18a505"
      },
      "outputs": [
        {
          "output_type": "execute_result",
          "data": {
            "text/plain": [
              "True"
            ]
          },
          "metadata": {},
          "execution_count": 10
        }
      ],
      "source": [
        "# in Python \" and ' are used the same way so...\n",
        "\"Valdis\" == 'Valdis'"
      ]
    },
    {
      "cell_type": "code",
      "execution_count": 11,
      "metadata": {
        "colab": {
          "base_uri": "https://localhost:8080/"
        },
        "id": "2IIgml5ijave",
        "outputId": "1276e077-8428-45eb-b639-d728cd9e4e3e"
      },
      "outputs": [
        {
          "output_type": "execute_result",
          "data": {
            "text/plain": [
              "False"
            ]
          },
          "metadata": {},
          "execution_count": 11
        }
      ],
      "source": [
        "# however\n",
        "\"Valdis\" == \"valdis\" # not the same!"
      ]
    },
    {
      "cell_type": "code",
      "source": [
        "# also remembere whitespace!\n",
        "\"Valdis \" == \"Valdis\" # that single space is a character!\n",
        "# there are methods to strip whitespace off from strings but that is another discussion"
      ],
      "metadata": {
        "colab": {
          "base_uri": "https://localhost:8080/"
        },
        "id": "rhOHHxU6lxzZ",
        "outputId": "7bf3ff18-6d3f-4ac4-af49-b6f2f11cd8c2"
      },
      "execution_count": 12,
      "outputs": [
        {
          "output_type": "execute_result",
          "data": {
            "text/plain": [
              "False"
            ]
          },
          "metadata": {},
          "execution_count": 12
        }
      ]
    },
    {
      "cell_type": "code",
      "source": [
        "# we have more lesser or greate comparisons\n",
        "# <, <=, >=, >"
      ],
      "metadata": {
        "id": "vmiGqsaSmIxT"
      },
      "execution_count": null,
      "outputs": []
    },
    {
      "cell_type": "code",
      "execution_count": 13,
      "metadata": {
        "colab": {
          "base_uri": "https://localhost:8080/"
        },
        "id": "FDKmfb9ojave",
        "outputId": "cef8004b-af9f-4f51-f8c2-1a0de6cbc7a7"
      },
      "outputs": [
        {
          "output_type": "execute_result",
          "data": {
            "text/plain": [
              "(True, True)"
            ]
          },
          "metadata": {},
          "execution_count": 13
        }
      ],
      "source": [
        "5 <= 6, 5 <= 5"
      ]
    },
    {
      "cell_type": "code",
      "source": [
        "# we usually compare at least one variable with some number or string, or possible two variables\n",
        "a = 2\n",
        "b = 4\n",
        "a*a == b, a*a == 4, a*a == 5"
      ],
      "metadata": {
        "colab": {
          "base_uri": "https://localhost:8080/"
        },
        "id": "kogzkHOXmQI-",
        "outputId": "157c7f5e-e9b8-469b-9e2b-a5c318390022"
      },
      "execution_count": 14,
      "outputs": [
        {
          "output_type": "execute_result",
          "data": {
            "text/plain": [
              "(True, True, False)"
            ]
          },
          "metadata": {},
          "execution_count": 14
        }
      ]
    },
    {
      "cell_type": "code",
      "source": [
        "a >= 2, a > b, a >= b, a < b, a <= b # so True, False, False, True, True"
      ],
      "metadata": {
        "colab": {
          "base_uri": "https://localhost:8080/"
        },
        "id": "0O8FdyvjmkS6",
        "outputId": "59371a0d-6922-49de-e6bd-385708fb816f"
      },
      "execution_count": 15,
      "outputs": [
        {
          "output_type": "execute_result",
          "data": {
            "text/plain": [
              "(True, False, False, True, True)"
            ]
          },
          "metadata": {},
          "execution_count": 15
        }
      ]
    },
    {
      "cell_type": "code",
      "source": [
        "# there is an inequality comparison # it is like reverse of equality"
      ],
      "metadata": {
        "id": "lNg4Ihclm8B4"
      },
      "execution_count": null,
      "outputs": []
    },
    {
      "cell_type": "code",
      "execution_count": 16,
      "metadata": {
        "colab": {
          "base_uri": "https://localhost:8080/"
        },
        "id": "yvhZtn-9jave",
        "outputId": "a39e382f-ff44-47d6-fe16-5d32d439a95e"
      },
      "outputs": [
        {
          "output_type": "execute_result",
          "data": {
            "text/plain": [
              "(True, False)"
            ]
          },
          "metadata": {},
          "execution_count": 16
        }
      ],
      "source": [
        "5 != 6, 5 != 5 # so True and False\n"
      ]
    },
    {
      "cell_type": "code",
      "source": [
        "a*a != 4, a*a != 9000 # so first one is false because a*a is in fact EQUAL to 4, and 2nd one is obviously false here"
      ],
      "metadata": {
        "colab": {
          "base_uri": "https://localhost:8080/"
        },
        "id": "OQ96qY6CnFnZ",
        "outputId": "a1c8187f-adab-4985-85b4-0ad175cf5b2f"
      },
      "execution_count": 17,
      "outputs": [
        {
          "output_type": "execute_result",
          "data": {
            "text/plain": [
              "(False, True)"
            ]
          },
          "metadata": {},
          "execution_count": 17
        }
      ]
    },
    {
      "cell_type": "code",
      "execution_count": 18,
      "metadata": {
        "colab": {
          "base_uri": "https://localhost:8080/"
        },
        "id": "EPLwVqbOjave",
        "outputId": "8b5e2045-8c62-4562-bfdc-3607b85ecadd"
      },
      "outputs": [
        {
          "output_type": "execute_result",
          "data": {
            "text/plain": [
              "(False, True)"
            ]
          },
          "metadata": {},
          "execution_count": 18
        }
      ],
      "source": [
        "not True, not False # more about negation later"
      ]
    },
    {
      "cell_type": "markdown",
      "source": [
        "## Comparing Strings"
      ],
      "metadata": {
        "id": "N4tHj9eznUQs"
      }
    },
    {
      "cell_type": "code",
      "execution_count": 19,
      "metadata": {
        "colab": {
          "base_uri": "https://localhost:8080/"
        },
        "id": "BA4EvnAHjavf",
        "outputId": "bf2252c2-6bd9-47b7-e92a-372e0cd5c704"
      },
      "outputs": [
        {
          "output_type": "execute_result",
          "data": {
            "text/plain": [
              "True"
            ]
          },
          "metadata": {},
          "execution_count": 19
        }
      ],
      "source": [
        "'VALDIS' < 'VOLDEMARS' # what is being compared here?"
      ]
    },
    {
      "cell_type": "code",
      "execution_count": 20,
      "metadata": {
        "colab": {
          "base_uri": "https://localhost:8080/"
        },
        "id": "qyHjMdZyjavf",
        "outputId": "5790bc4f-02fc-4d40-80d8-308f9bcffc84"
      },
      "outputs": [
        {
          "output_type": "execute_result",
          "data": {
            "text/plain": [
              "True"
            ]
          },
          "metadata": {},
          "execution_count": 20
        }
      ],
      "source": [
        "len('VALDIS') < len('VOLDEMARS') # this is comparing string lengths"
      ]
    },
    {
      "cell_type": "code",
      "execution_count": 21,
      "metadata": {
        "colab": {
          "base_uri": "https://localhost:8080/"
        },
        "id": "6OJAE262javf",
        "outputId": "1bc9cc68-2cff-44e9-d018-f0f398d0c116"
      },
      "outputs": [
        {
          "output_type": "execute_result",
          "data": {
            "text/plain": [
              "True"
            ]
          },
          "metadata": {},
          "execution_count": 21
        }
      ],
      "source": [
        "'VALDIS' < 'VOLD'"
      ]
    },
    {
      "cell_type": "code",
      "execution_count": 22,
      "metadata": {
        "colab": {
          "base_uri": "https://localhost:8080/"
        },
        "id": "3axY7k4ojavf",
        "outputId": "5ecbe134-1c76-42ba-c2ba-08b2c40b8e9b"
      },
      "outputs": [
        {
          "output_type": "execute_result",
          "data": {
            "text/plain": [
              "True"
            ]
          },
          "metadata": {},
          "execution_count": 22
        }
      ],
      "source": [
        "'VALDIS' < 'VB'"
      ]
    },
    {
      "cell_type": "code",
      "source": [
        "# so for string comparison will be done lexicographically"
      ],
      "metadata": {
        "id": "tLpTDTMAn7aq"
      },
      "execution_count": null,
      "outputs": []
    },
    {
      "cell_type": "code",
      "execution_count": 23,
      "metadata": {
        "colab": {
          "base_uri": "https://localhost:8080/"
        },
        "id": "fr9_V48Sjavf",
        "outputId": "4a3eee28-06eb-4469-bc3e-151283f83fae"
      },
      "outputs": [
        {
          "output_type": "execute_result",
          "data": {
            "text/plain": [
              "False"
            ]
          },
          "metadata": {},
          "execution_count": 23
        }
      ],
      "source": [
        "'ZALDIS' < 'VB'"
      ]
    },
    {
      "cell_type": "code",
      "execution_count": null,
      "metadata": {
        "id": "U5gtytLYjavf"
      },
      "outputs": [],
      "source": [
        "'Valdis' > 'VALDIS' # because a comes after A"
      ]
    },
    {
      "cell_type": "code",
      "execution_count": null,
      "metadata": {
        "id": "xrWOEqOTjavg"
      },
      "outputs": [],
      "source": [
        "len('VALDIS') < len('VOLDEMARS')\n",
        "\n",
        "# We check each letter from left side\n",
        "# on mismatch we check ASCII (UTF-8) tables for values\n",
        "\n",
        "'VALDIS' < 'VOLDEMARS'"
      ]
    },
    {
      "cell_type": "markdown",
      "source": [
        "### Comparing Emojis"
      ],
      "metadata": {
        "id": "nFPr27KhpnBp"
      }
    },
    {
      "cell_type": "code",
      "source": [
        "# we can compare Emojis!\n",
        "\"😀\" < \"😁\""
      ],
      "metadata": {
        "colab": {
          "base_uri": "https://localhost:8080/"
        },
        "id": "tlh2YnxSodxG",
        "outputId": "a8a1b1de-a015-4a0f-874d-2557a6863028"
      },
      "execution_count": 24,
      "outputs": [
        {
          "output_type": "execute_result",
          "data": {
            "text/plain": [
              "True"
            ]
          },
          "metadata": {},
          "execution_count": 24
        }
      ]
    },
    {
      "cell_type": "markdown",
      "source": [
        "### Checking Unicode value for single character string"
      ],
      "metadata": {
        "id": "YFISYfKXpqFL"
      }
    },
    {
      "cell_type": "code",
      "source": [
        "# above is true because of Unicode represening those Emojis\n",
        "ord(\"😀\"), ord(\"😃\"), ord(\"😁\")"
      ],
      "metadata": {
        "colab": {
          "base_uri": "https://localhost:8080/"
        },
        "id": "_5gz2U1zolgM",
        "outputId": "191857b2-3ea0-4bbd-d91a-15b5335a8b07"
      },
      "execution_count": 26,
      "outputs": [
        {
          "output_type": "execute_result",
          "data": {
            "text/plain": [
              "(128512, 128515, 128513)"
            ]
          },
          "metadata": {},
          "execution_count": 26
        }
      ]
    },
    {
      "cell_type": "code",
      "execution_count": 27,
      "metadata": {
        "colab": {
          "base_uri": "https://localhost:8080/"
        },
        "id": "42vY4pzUjavg",
        "outputId": "cdfc8038-b5ce-4419-c40c-29222155d50d"
      },
      "outputs": [
        {
          "output_type": "execute_result",
          "data": {
            "text/plain": [
              "False"
            ]
          },
          "metadata": {},
          "execution_count": 27
        }
      ],
      "source": [
        "'kaķis' < 'kakis' # cat vs cat in Latvian"
      ]
    },
    {
      "cell_type": "markdown",
      "source": [
        "### Getting character from Unicode number\n"
      ],
      "metadata": {
        "id": "a_1wPFjupvOx"
      }
    },
    {
      "cell_type": "code",
      "execution_count": 28,
      "metadata": {
        "colab": {
          "base_uri": "https://localhost:8080/",
          "height": 35
        },
        "id": "9vYl622gjavg",
        "outputId": "2dd9bfca-8ce4-4942-b069-c09be12818cc"
      },
      "outputs": [
        {
          "output_type": "execute_result",
          "data": {
            "text/plain": [
              "'A'"
            ],
            "application/vnd.google.colaboratory.intrinsic+json": {
              "type": "string"
            }
          },
          "metadata": {},
          "execution_count": 28
        }
      ],
      "source": [
        "chr(65)"
      ]
    },
    {
      "cell_type": "code",
      "source": [
        "chr(256),chr(257), chr(258)"
      ],
      "metadata": {
        "colab": {
          "base_uri": "https://localhost:8080/"
        },
        "id": "Ys-9wy-KpMg1",
        "outputId": "92ce15fb-4359-470b-95da-447a7c6b3954"
      },
      "execution_count": 31,
      "outputs": [
        {
          "output_type": "execute_result",
          "data": {
            "text/plain": [
              "('Ā', 'ā', 'Ă')"
            ]
          },
          "metadata": {},
          "execution_count": 31
        }
      ]
    },
    {
      "cell_type": "code",
      "execution_count": 29,
      "metadata": {
        "colab": {
          "base_uri": "https://localhost:8080/",
          "height": 35
        },
        "id": "Ai6YXOGyjavg",
        "outputId": "225cffbb-6719-42d6-bfe7-03a496dfdaa3"
      },
      "outputs": [
        {
          "output_type": "execute_result",
          "data": {
            "text/plain": [
              "'Ɛ'"
            ],
            "application/vnd.google.colaboratory.intrinsic+json": {
              "type": "string"
            }
          },
          "metadata": {},
          "execution_count": 29
        }
      ],
      "source": [
        "chr(400) # so you can get UTF-8 characters out of their code numbers"
      ]
    },
    {
      "cell_type": "code",
      "execution_count": 32,
      "metadata": {
        "colab": {
          "base_uri": "https://localhost:8080/",
          "height": 35
        },
        "id": "-dwDPBgvjavh",
        "outputId": "e91098d8-f7d9-4f1a-8ee4-d604f88adc54"
      },
      "outputs": [
        {
          "output_type": "execute_result",
          "data": {
            "text/plain": [
              "'ྠ'"
            ],
            "application/vnd.google.colaboratory.intrinsic+json": {
              "type": "string"
            }
          },
          "metadata": {},
          "execution_count": 32
        }
      ],
      "source": [
        "chr(4000)"
      ]
    },
    {
      "cell_type": "code",
      "execution_count": 33,
      "metadata": {
        "colab": {
          "base_uri": "https://localhost:8080/",
          "height": 35
        },
        "id": "RYcFvKjnjavh",
        "outputId": "2e053346-b421-4d8e-ce49-5a0e52033e98"
      },
      "outputs": [
        {
          "output_type": "execute_result",
          "data": {
            "text/plain": [
              "'鱀'"
            ],
            "application/vnd.google.colaboratory.intrinsic+json": {
              "type": "string"
            }
          },
          "metadata": {},
          "execution_count": 33
        }
      ],
      "source": [
        "chr(40000)"
      ]
    },
    {
      "cell_type": "code",
      "execution_count": 35,
      "metadata": {
        "colab": {
          "base_uri": "https://localhost:8080/",
          "height": 35
        },
        "id": "LIcTq4fTjavh",
        "outputId": "328fdecf-7bf4-4b26-f41f-b6d95b95ed27"
      },
      "outputs": [
        {
          "output_type": "execute_result",
          "data": {
            "text/plain": [
              "'😋'"
            ],
            "application/vnd.google.colaboratory.intrinsic+json": {
              "type": "string"
            }
          },
          "metadata": {},
          "execution_count": 35
        }
      ],
      "source": [
        "chr(128523)"
      ]
    },
    {
      "cell_type": "code",
      "execution_count": null,
      "metadata": {
        "id": "zohFdPqLjavh"
      },
      "outputs": [],
      "source": []
    },
    {
      "cell_type": "code",
      "execution_count": null,
      "metadata": {
        "id": "2SJvabA1javh"
      },
      "outputs": [],
      "source": [
        "# ord gets you integer value representing unicode value\n",
        "ord('ķ')"
      ]
    },
    {
      "cell_type": "code",
      "execution_count": null,
      "metadata": {
        "id": "h2LvddTLjavh"
      },
      "outputs": [],
      "source": [
        "ord('Ķ')"
      ]
    },
    {
      "cell_type": "code",
      "execution_count": null,
      "metadata": {
        "id": "uy8W4JRhjavh"
      },
      "outputs": [],
      "source": [
        "ord('Ā'),ord('ā')"
      ]
    },
    {
      "cell_type": "code",
      "execution_count": null,
      "metadata": {
        "id": "mif3vl1Hjavi"
      },
      "outputs": [],
      "source": [
        "'Valdis'  < \"VOLDEMARS\""
      ]
    },
    {
      "cell_type": "code",
      "execution_count": null,
      "metadata": {
        "id": "8F7dqS2yjavi"
      },
      "outputs": [],
      "source": [
        "print(chr(97))"
      ]
    },
    {
      "cell_type": "code",
      "execution_count": null,
      "metadata": {
        "id": "oNNdP7tbjavi"
      },
      "outputs": [],
      "source": [
        "chr(4000)"
      ]
    },
    {
      "cell_type": "code",
      "execution_count": null,
      "metadata": {
        "id": "DEJyxSjtjavi"
      },
      "outputs": [],
      "source": [
        "ord(\"ā\")"
      ]
    },
    {
      "cell_type": "code",
      "execution_count": null,
      "metadata": {
        "id": "OZ-OCoMkjavi"
      },
      "outputs": [],
      "source": [
        "ord('Ķ')"
      ]
    },
    {
      "cell_type": "code",
      "execution_count": null,
      "metadata": {
        "id": "niQ6yWODjavi"
      },
      "outputs": [],
      "source": [
        "list(range(5))"
      ]
    },
    {
      "cell_type": "markdown",
      "metadata": {
        "id": "VQCOHPtAjavi"
      },
      "source": [
        "# Logical Operators"
      ]
    },
    {
      "cell_type": "markdown",
      "source": [
        "## Logical Negation"
      ],
      "metadata": {
        "id": "MC52QPtYqMo4"
      }
    },
    {
      "cell_type": "code",
      "source": [
        "not True"
      ],
      "metadata": {
        "colab": {
          "base_uri": "https://localhost:8080/"
        },
        "id": "DWjgbHdxqLtg",
        "outputId": "7b90e0a3-bf78-4002-b116-f8aebaf14ad4"
      },
      "execution_count": 36,
      "outputs": [
        {
          "output_type": "execute_result",
          "data": {
            "text/plain": [
              "False"
            ]
          },
          "metadata": {},
          "execution_count": 36
        }
      ]
    },
    {
      "cell_type": "code",
      "source": [
        "# similarly\n",
        "not False"
      ],
      "metadata": {
        "colab": {
          "base_uri": "https://localhost:8080/"
        },
        "id": "5zcRLSh2qR88",
        "outputId": "888f291b-f6d4-4309-9e2d-581a37e6a5d2"
      },
      "execution_count": 37,
      "outputs": [
        {
          "output_type": "execute_result",
          "data": {
            "text/plain": [
              "True"
            ]
          },
          "metadata": {},
          "execution_count": 37
        }
      ]
    },
    {
      "cell_type": "code",
      "source": [
        "# we can use this negation to create a toggle switch\n",
        "is_hot = False\n",
        "print(is_hot)"
      ],
      "metadata": {
        "colab": {
          "base_uri": "https://localhost:8080/"
        },
        "id": "g86QYnAvqWVm",
        "outputId": "d599b6c1-be57-42bc-837e-97a0d6ffe598"
      },
      "execution_count": 38,
      "outputs": [
        {
          "output_type": "stream",
          "name": "stdout",
          "text": [
            "False\n"
          ]
        }
      ]
    },
    {
      "cell_type": "markdown",
      "source": [
        "![Spark Toggle](https://cdn.sparkfun.com//assets/parts/2/7/7/7/09276-1.jpg)"
      ],
      "metadata": {
        "id": "47Ss93WNq7nS"
      }
    },
    {
      "cell_type": "code",
      "source": [
        "is_hot = not is_hot # so we reverse the value of is_hot to the oppositive of the previous\n",
        "print(is_hot)"
      ],
      "metadata": {
        "colab": {
          "base_uri": "https://localhost:8080/"
        },
        "id": "vcrWHAd5qh3T",
        "outputId": "8e188f3d-187d-4305-853e-f955de078979"
      },
      "execution_count": 43,
      "outputs": [
        {
          "output_type": "stream",
          "name": "stdout",
          "text": [
            "True\n"
          ]
        }
      ]
    },
    {
      "cell_type": "markdown",
      "source": [
        "## Logical Conjuction with and"
      ],
      "metadata": {
        "id": "p2kdgyIWq_28"
      }
    },
    {
      "cell_type": "code",
      "execution_count": null,
      "metadata": {
        "id": "N7_3h0Wajavj"
      },
      "outputs": [],
      "source": [
        "# and is only only true if both sides are true, otherwise false"
      ]
    },
    {
      "cell_type": "code",
      "execution_count": 44,
      "metadata": {
        "colab": {
          "base_uri": "https://localhost:8080/"
        },
        "id": "4-c9BqAsjavk",
        "outputId": "b2a91115-088f-40c2-caeb-117ccea03f20"
      },
      "outputs": [
        {
          "output_type": "execute_result",
          "data": {
            "text/plain": [
              "True"
            ]
          },
          "metadata": {},
          "execution_count": 44
        }
      ],
      "source": [
        "True and True"
      ]
    },
    {
      "cell_type": "code",
      "execution_count": 45,
      "metadata": {
        "colab": {
          "base_uri": "https://localhost:8080/"
        },
        "id": "7cpqWTXrjavk",
        "outputId": "2ca2df65-2f78-4d86-f193-d7ddc2eb3dc2"
      },
      "outputs": [
        {
          "output_type": "execute_result",
          "data": {
            "text/plain": [
              "False"
            ]
          },
          "metadata": {},
          "execution_count": 45
        }
      ],
      "source": [
        "True and False # and requires for BOTH sides to be true"
      ]
    },
    {
      "cell_type": "code",
      "execution_count": 46,
      "metadata": {
        "colab": {
          "base_uri": "https://localhost:8080/"
        },
        "id": "pC5KYKejjavk",
        "outputId": "4dbb3330-5e3d-4270-cf25-9b3fd1251b77"
      },
      "outputs": [
        {
          "output_type": "execute_result",
          "data": {
            "text/plain": [
              "False"
            ]
          },
          "metadata": {},
          "execution_count": 46
        }
      ],
      "source": [
        "False and True"
      ]
    },
    {
      "cell_type": "code",
      "execution_count": 47,
      "metadata": {
        "colab": {
          "base_uri": "https://localhost:8080/"
        },
        "id": "GCNclNEHjavk",
        "outputId": "21d696f1-dedf-419f-bc47-e4031f8947c3"
      },
      "outputs": [
        {
          "output_type": "execute_result",
          "data": {
            "text/plain": [
              "False"
            ]
          },
          "metadata": {},
          "execution_count": 47
        }
      ],
      "source": [
        "False and False"
      ]
    },
    {
      "cell_type": "code",
      "execution_count": 48,
      "metadata": {
        "colab": {
          "base_uri": "https://localhost:8080/"
        },
        "id": "Cz2ZtkcIjavk",
        "outputId": "ddfcef70-f155-42e5-9a73-32bf8ffdaf75"
      },
      "outputs": [
        {
          "output_type": "execute_result",
          "data": {
            "text/plain": [
              "True"
            ]
          },
          "metadata": {},
          "execution_count": 48
        }
      ],
      "source": [
        "5 > 4 and 2*2 == 4"
      ]
    },
    {
      "cell_type": "code",
      "execution_count": 49,
      "metadata": {
        "colab": {
          "base_uri": "https://localhost:8080/"
        },
        "id": "r2q5bc-2javk",
        "outputId": "8a09e917-bf05-41b7-ea46-fc5e246c79db"
      },
      "outputs": [
        {
          "output_type": "execute_result",
          "data": {
            "text/plain": [
              "True"
            ]
          },
          "metadata": {},
          "execution_count": 49
        }
      ],
      "source": [
        "True and True and 2*2 == 4"
      ]
    },
    {
      "cell_type": "markdown",
      "source": [
        "## Lazy Evaluation"
      ],
      "metadata": {
        "id": "-s5WKXr3rXtg"
      }
    },
    {
      "cell_type": "code",
      "execution_count": 50,
      "metadata": {
        "colab": {
          "base_uri": "https://localhost:8080/"
        },
        "id": "dHzkWHYdjavl",
        "outputId": "9f05f438-d6fb-4b9a-c45a-e51fe7fdcbce"
      },
      "outputs": [
        {
          "output_type": "execute_result",
          "data": {
            "text/plain": [
              "False"
            ]
          },
          "metadata": {},
          "execution_count": 50
        }
      ],
      "source": [
        "True and True and 2*2 == 4 and 2*2 == 5 # one drop of oil spoils honey"
      ]
    },
    {
      "cell_type": "code",
      "execution_count": 51,
      "metadata": {
        "colab": {
          "base_uri": "https://localhost:8080/"
        },
        "id": "wGYxEpHGjavl",
        "outputId": "2187bc55-d2a3-4870-bc3b-83f9b85f634a"
      },
      "outputs": [
        {
          "output_type": "execute_result",
          "data": {
            "text/plain": [
              "False"
            ]
          },
          "metadata": {},
          "execution_count": 51
        }
      ],
      "source": [
        "#Lazy evaluation\n",
        "# As soon as something is false,Python will stop evaluating the sequence\n",
        "\n",
        "3 < 2 and True and 2*2 == 4 and 5 == 5 \n",
        "# once the first false value is found Python stops looking\n",
        "# so as soon as 3 < 2 is encountered Python stops that particual evaluation because it is going to be false for sure!\n"
      ]
    },
    {
      "cell_type": "code",
      "source": [
        "a*a == 4 and a*2 == b and b < 10"
      ],
      "metadata": {
        "colab": {
          "base_uri": "https://localhost:8080/"
        },
        "id": "N7JokHHrrsYr",
        "outputId": "f0511842-59c9-4f98-a70b-cf8c8ec81e5d"
      },
      "execution_count": 53,
      "outputs": [
        {
          "output_type": "execute_result",
          "data": {
            "text/plain": [
              "True"
            ]
          },
          "metadata": {},
          "execution_count": 53
        }
      ]
    },
    {
      "cell_type": "markdown",
      "source": [
        "## Complex Numbers in Python"
      ],
      "metadata": {
        "id": "92n3808yr3OE"
      }
    },
    {
      "cell_type": "code",
      "execution_count": null,
      "metadata": {
        "id": "yn6YAK1kjavl"
      },
      "outputs": [],
      "source": [
        "# complex numbers in Python\n",
        "4+5j # so j is i in math which square root of -1"
      ]
    },
    {
      "cell_type": "code",
      "execution_count": null,
      "metadata": {
        "id": "HgMs_QFQjavl"
      },
      "outputs": [],
      "source": [
        "(4+5j)*(3+2j) # 4*3 == 12 (5*3)j+(2*4)j + (5j*2j)= 10*-1"
      ]
    },
    {
      "cell_type": "code",
      "execution_count": null,
      "metadata": {
        "id": "3sN8soo6javm"
      },
      "outputs": [],
      "source": [
        "i = (2+4j)"
      ]
    },
    {
      "cell_type": "code",
      "execution_count": null,
      "metadata": {
        "id": "H_rpKpzFjavm"
      },
      "outputs": [],
      "source": [
        "i**2"
      ]
    },
    {
      "cell_type": "code",
      "execution_count": 54,
      "metadata": {
        "colab": {
          "base_uri": "https://localhost:8080/"
        },
        "id": "3T3LvlS_javm",
        "outputId": "cc1fd288-65e7-41a8-a513-1987b2874129"
      },
      "outputs": [
        {
          "output_type": "execute_result",
          "data": {
            "text/plain": [
              "1000000"
            ]
          },
          "metadata": {},
          "execution_count": 54
        }
      ],
      "source": [
        "1_000_000 # for big numbers you can type like this and _ will be ignored\n"
      ]
    },
    {
      "cell_type": "code",
      "execution_count": 55,
      "metadata": {
        "colab": {
          "base_uri": "https://localhost:8080/"
        },
        "id": "99v5xbTyjavm",
        "outputId": "fea03cf3-3e15-40e8-d2e1-572e7d9ae10f"
      },
      "outputs": [
        {
          "output_type": "execute_result",
          "data": {
            "text/plain": [
              "1004"
            ]
          },
          "metadata": {},
          "execution_count": 55
        }
      ],
      "source": [
        "1_0_0_4"
      ]
    },
    {
      "cell_type": "code",
      "execution_count": 56,
      "metadata": {
        "colab": {
          "base_uri": "https://localhost:8080/",
          "height": 132
        },
        "id": "JIc1aHvcjavm",
        "outputId": "7f2e4302-de56-421d-8eae-e3160d1f115e"
      },
      "outputs": [
        {
          "output_type": "error",
          "ename": "SyntaxError",
          "evalue": "ignored",
          "traceback": [
            "\u001b[0;36m  File \u001b[0;32m\"<ipython-input-56-7c6292c2a1a7>\"\u001b[0;36m, line \u001b[0;32m1\u001b[0m\n\u001b[0;31m    1 000 000 # this will not work\u001b[0m\n\u001b[0m      ^\u001b[0m\n\u001b[0;31mSyntaxError\u001b[0m\u001b[0;31m:\u001b[0m invalid syntax\n"
          ]
        }
      ],
      "source": [
        "1 000 000 # this will not work"
      ]
    },
    {
      "cell_type": "markdown",
      "source": [
        "## Logical Disjunction\n"
      ],
      "metadata": {
        "id": "wMsSVoG1sMIj"
      }
    },
    {
      "cell_type": "code",
      "execution_count": null,
      "metadata": {
        "id": "812ydDK_javn"
      },
      "outputs": [],
      "source": [
        "# logical or, one side should be true for the whole expression to be true"
      ]
    },
    {
      "cell_type": "code",
      "execution_count": 57,
      "metadata": {
        "colab": {
          "base_uri": "https://localhost:8080/"
        },
        "id": "ZC-u-sZYjavn",
        "outputId": "db4079cf-b80c-4bd3-ed8e-f169b5436626"
      },
      "outputs": [
        {
          "output_type": "execute_result",
          "data": {
            "text/plain": [
              "True"
            ]
          },
          "metadata": {},
          "execution_count": 57
        }
      ],
      "source": [
        "True or False"
      ]
    },
    {
      "cell_type": "code",
      "execution_count": 59,
      "metadata": {
        "colab": {
          "base_uri": "https://localhost:8080/"
        },
        "id": "8uyaYOpxjavn",
        "outputId": "5fef1442-9e6b-4e73-ae53-f2b0c0f7af33"
      },
      "outputs": [
        {
          "output_type": "execute_result",
          "data": {
            "text/plain": [
              "True"
            ]
          },
          "metadata": {},
          "execution_count": 59
        }
      ],
      "source": [
        "True or True"
      ]
    },
    {
      "cell_type": "code",
      "execution_count": 60,
      "metadata": {
        "colab": {
          "base_uri": "https://localhost:8080/"
        },
        "id": "gt4-DE7Tjavn",
        "outputId": "829bfc64-17bd-4b6e-f27b-da5b19225d61"
      },
      "outputs": [
        {
          "output_type": "execute_result",
          "data": {
            "text/plain": [
              "True"
            ]
          },
          "metadata": {},
          "execution_count": 60
        }
      ],
      "source": [
        "False or True"
      ]
    },
    {
      "cell_type": "code",
      "execution_count": 58,
      "metadata": {
        "colab": {
          "base_uri": "https://localhost:8080/"
        },
        "id": "8Ml-sWwdjavn",
        "outputId": "f669d52e-f8ba-41b8-ab66-eca479f3c828"
      },
      "outputs": [
        {
          "output_type": "execute_result",
          "data": {
            "text/plain": [
              "False"
            ]
          },
          "metadata": {},
          "execution_count": 58
        }
      ],
      "source": [
        "False or False  # only or which will be false"
      ]
    },
    {
      "cell_type": "markdown",
      "source": [
        "### Lazy Evaluation for disjunction (or)"
      ],
      "metadata": {
        "id": "8RGDlBVmsgbp"
      }
    },
    {
      "cell_type": "code",
      "execution_count": 61,
      "metadata": {
        "colab": {
          "base_uri": "https://localhost:8080/"
        },
        "id": "h8Z5DCRrjavn",
        "outputId": "f71bb2ab-0fac-42ab-918f-cb10cecab475"
      },
      "outputs": [
        {
          "output_type": "execute_result",
          "data": {
            "text/plain": [
              "True"
            ]
          },
          "metadata": {},
          "execution_count": 61
        }
      ],
      "source": [
        "# as soon as you get something True in a longer chain or or statements we get a True statement\n",
        "False or True or True or 2*2 == 4 # Python stops checking after first True\n"
      ]
    },
    {
      "cell_type": "code",
      "execution_count": null,
      "metadata": {
        "id": "5QmH9lfejavn"
      },
      "outputs": [],
      "source": [
        "#lazy evaluation\n",
        "(4 == 4 or 4 < 3) or 4 < 3"
      ]
    },
    {
      "cell_type": "code",
      "source": [
        "5/0  # throws a ZeroDivisionError"
      ],
      "metadata": {
        "colab": {
          "base_uri": "https://localhost:8080/",
          "height": 168
        },
        "id": "8a4XKrOFsurT",
        "outputId": "58805d49-3c77-44be-8697-61fc0c9710aa"
      },
      "execution_count": 62,
      "outputs": [
        {
          "output_type": "error",
          "ename": "ZeroDivisionError",
          "evalue": "ignored",
          "traceback": [
            "\u001b[0;31m---------------------------------------------------------------------------\u001b[0m",
            "\u001b[0;31mZeroDivisionError\u001b[0m                         Traceback (most recent call last)",
            "\u001b[0;32m<ipython-input-62-0106664d39e8>\u001b[0m in \u001b[0;36m<module>\u001b[0;34m\u001b[0m\n\u001b[0;32m----> 1\u001b[0;31m \u001b[0;36m5\u001b[0m\u001b[0;34m/\u001b[0m\u001b[0;36m0\u001b[0m\u001b[0;34m\u001b[0m\u001b[0;34m\u001b[0m\u001b[0m\n\u001b[0m",
            "\u001b[0;31mZeroDivisionError\u001b[0m: division by zero"
          ]
        }
      ]
    },
    {
      "cell_type": "code",
      "source": [
        "my_zero = 0\n",
        "my_zero !=0 and 100/my_zero # so 2nd part will not work"
      ],
      "metadata": {
        "colab": {
          "base_uri": "https://localhost:8080/"
        },
        "id": "N3OfsRqZs2d8",
        "outputId": "2b034b6e-92eb-428f-f249-eacf42d5fced"
      },
      "execution_count": 63,
      "outputs": [
        {
          "output_type": "execute_result",
          "data": {
            "text/plain": [
              "False"
            ]
          },
          "metadata": {},
          "execution_count": 63
        }
      ]
    },
    {
      "cell_type": "code",
      "execution_count": 64,
      "metadata": {
        "colab": {
          "base_uri": "https://localhost:8080/"
        },
        "id": "BhmSKvMUjavn",
        "outputId": "1ae0bbdb-e51e-4105-f36b-843027cf5553"
      },
      "outputs": [
        {
          "output_type": "execute_result",
          "data": {
            "text/plain": [
              "False"
            ]
          },
          "metadata": {},
          "execution_count": 64
        }
      ],
      "source": [
        "not 4 == 4 # so we invert True"
      ]
    },
    {
      "cell_type": "markdown",
      "source": [
        "# Longer Comparison shorter syntax"
      ],
      "metadata": {
        "id": "qhck857JtPs4"
      }
    },
    {
      "cell_type": "code",
      "source": [
        "# you can compare\n",
        "1 < a < 3 < b < 5 < 10 # true because a and b are 2 and 4 respectively here"
      ],
      "metadata": {
        "colab": {
          "base_uri": "https://localhost:8080/"
        },
        "id": "qN3Ry5VDtLUu",
        "outputId": "9aa952af-dd10-4c60-cb1f-a184e962043d"
      },
      "execution_count": 65,
      "outputs": [
        {
          "output_type": "execute_result",
          "data": {
            "text/plain": [
              "True"
            ]
          },
          "metadata": {},
          "execution_count": 65
        }
      ]
    },
    {
      "cell_type": "code",
      "source": [
        "# the above would can be written as follows ( most languages require this approach but Python offers the above shorter way)\n",
        "1 < a and a < 3 and 3 < b and b < 5 and 5 < 10"
      ],
      "metadata": {
        "colab": {
          "base_uri": "https://localhost:8080/"
        },
        "id": "nsAEa7W3tZgm",
        "outputId": "ec420579-599c-4f62-c735-b85164003c85"
      },
      "execution_count": 66,
      "outputs": [
        {
          "output_type": "execute_result",
          "data": {
            "text/plain": [
              "True"
            ]
          },
          "metadata": {},
          "execution_count": 66
        }
      ]
    },
    {
      "cell_type": "markdown",
      "metadata": {
        "id": "uA-JxDF0javo"
      },
      "source": [
        "# Bit Operators"
      ]
    },
    {
      "cell_type": "code",
      "execution_count": null,
      "metadata": {
        "id": "Vzj3hHK-javo"
      },
      "outputs": [],
      "source": [
        "# this is for hardware engineers, automechanics, maybe Raspberry Pi owners\n",
        "~0"
      ]
    },
    {
      "cell_type": "code",
      "execution_count": null,
      "metadata": {
        "id": "plr2ZDrdjavo"
      },
      "outputs": [],
      "source": [
        "~1"
      ]
    },
    {
      "cell_type": "code",
      "execution_count": null,
      "metadata": {
        "id": "YRpX2SwBjavo"
      },
      "outputs": [],
      "source": [
        "~0"
      ]
    },
    {
      "cell_type": "code",
      "execution_count": null,
      "metadata": {
        "id": "e9DATNLRjavp"
      },
      "outputs": [],
      "source": [
        "bin(4)"
      ]
    },
    {
      "cell_type": "code",
      "execution_count": null,
      "metadata": {
        "id": "QZ0SHE74javp"
      },
      "outputs": [],
      "source": [
        "bin(7)"
      ]
    },
    {
      "cell_type": "code",
      "execution_count": null,
      "metadata": {
        "id": "3Yoxe5AAjavp"
      },
      "outputs": [],
      "source": [
        "bin(-1)"
      ]
    },
    {
      "cell_type": "code",
      "execution_count": null,
      "metadata": {
        "id": "P_IJ9m8Ojavp"
      },
      "outputs": [],
      "source": [
        "# bit operation 11 and 100 so no bits so we get 000\n",
        "3 & 4 "
      ]
    },
    {
      "cell_type": "code",
      "execution_count": null,
      "metadata": {
        "id": "MJaNdN18javp"
      },
      "outputs": [],
      "source": [
        "3 & 5 # 11 and 101 so we should get 001 that is 1"
      ]
    },
    {
      "cell_type": "code",
      "execution_count": null,
      "metadata": {
        "id": "9ClQCyWQjavp"
      },
      "outputs": [],
      "source": [
        "2**8 # THIS MEANS that one byte can hold 256 different values"
      ]
    },
    {
      "cell_type": "code",
      "execution_count": null,
      "metadata": {
        "id": "-OtyRomtjavq"
      },
      "outputs": [],
      "source": [
        "bin(255),bin(3),bin(4),bin(5),bin(6),bin(7)\n"
      ]
    },
    {
      "cell_type": "code",
      "execution_count": null,
      "metadata": {
        "id": "n7VQd0J3javq"
      },
      "outputs": [],
      "source": [
        "bin(127), bin(128)"
      ]
    },
    {
      "cell_type": "code",
      "execution_count": null,
      "metadata": {
        "id": "t5MN9dGyjavq"
      },
      "outputs": [],
      "source": [
        "1+2**1+2**2+2**3+2**4, bin(31)"
      ]
    },
    {
      "cell_type": "code",
      "execution_count": null,
      "metadata": {
        "id": "znE6d2nJjavq"
      },
      "outputs": [],
      "source": [
        "bin(3)"
      ]
    },
    {
      "cell_type": "code",
      "execution_count": null,
      "metadata": {
        "id": "iwMJyplGjavq"
      },
      "outputs": [],
      "source": [
        "bin(4)"
      ]
    },
    {
      "cell_type": "code",
      "execution_count": null,
      "metadata": {
        "id": "EB1JYSxnjavq"
      },
      "outputs": [],
      "source": [
        "# bit or will be 11 or 100 should be 111\n",
        "3 | 4"
      ]
    },
    {
      "cell_type": "code",
      "execution_count": null,
      "metadata": {
        "id": "eI0NAa1Ojavr"
      },
      "outputs": [],
      "source": [
        "# Bitwise XOR (Exclusive XOR)\n",
        "True ^ False"
      ]
    },
    {
      "cell_type": "code",
      "execution_count": null,
      "metadata": {
        "id": "cUjU_xlRjavr"
      },
      "outputs": [],
      "source": [
        "True ^ True"
      ]
    },
    {
      "cell_type": "code",
      "execution_count": null,
      "metadata": {
        "id": "GWthKTHLjavr"
      },
      "outputs": [],
      "source": [
        "False ^ False"
      ]
    },
    {
      "cell_type": "code",
      "execution_count": null,
      "metadata": {
        "id": "eKOaB6ihjavr"
      },
      "outputs": [],
      "source": [
        "# shifted 1 to 100000 which is 32, 2 to the 5th power\n",
        "1 << 5"
      ]
    },
    {
      "cell_type": "code",
      "execution_count": null,
      "metadata": {
        "id": "QwwtyBHRjavr"
      },
      "outputs": [],
      "source": [
        "bin(32)"
      ]
    },
    {
      "cell_type": "code",
      "execution_count": null,
      "metadata": {
        "id": "NuhxADlnjavr"
      },
      "outputs": [],
      "source": [
        "127 >> 4"
      ]
    },
    {
      "cell_type": "code",
      "execution_count": null,
      "metadata": {
        "id": "bNuRNTV-javs"
      },
      "outputs": [],
      "source": []
    },
    {
      "cell_type": "code",
      "execution_count": null,
      "metadata": {
        "id": "vmQdNl4Gjavs"
      },
      "outputs": [],
      "source": [
        "bin(127)"
      ]
    },
    {
      "cell_type": "markdown",
      "metadata": {
        "id": "33J0zPSXjavs"
      },
      "source": [
        "## If Statement"
      ]
    },
    {
      "cell_type": "code",
      "execution_count": 67,
      "metadata": {
        "colab": {
          "base_uri": "https://localhost:8080/"
        },
        "id": "7n5rJX6Cjavs",
        "outputId": "53b61e29-8441-4440-c221-21205899c987"
      },
      "outputs": [
        {
          "output_type": "stream",
          "name": "stdout",
          "text": [
            "6 is larger than 5 wow!\n"
          ]
        }
      ],
      "source": [
        "## Conditional execution\n",
        "# if 4 is larger than 5 then do something\n",
        "\n",
        "if 6 > 5:\n",
        "    print(\"6 is larger than 5 wow!\")"
      ]
    },
    {
      "cell_type": "code",
      "execution_count": 72,
      "metadata": {
        "colab": {
          "base_uri": "https://localhost:8080/"
        },
        "id": "o8Yiz7DIjavs",
        "outputId": "6c009540-b544-41ba-cc4d-ca82febbe37d"
      },
      "outputs": [
        {
          "output_type": "stream",
          "name": "stdout",
          "text": [
            "10 is larger than 5 wow!\n",
            "Only when if is true\n",
            "This will always run\n"
          ]
        }
      ],
      "source": [
        "## Conditional execution\n",
        "# if 4 is larger than 5 then do something\n",
        "# typically we will have at least one side be a variable\n",
        "my_val = 10\n",
        "if my_val > 5:\n",
        "    # so we have code block when if is true\n",
        "    # in Python colon - : will indicate start of indented block (not only for if but other statement)\n",
        "    # many other languages use {} in Python we use whitespace\n",
        "    # typically it is going to be 4 spaces, most editors will automatically convert tabs to 4 spaces\n",
        "    # some people prefer 2 or 8 but most use 4\n",
        "    print(f\"{my_val} is larger than 5 wow!\")\n",
        "    # only runs when if statement is true\n",
        "    print(\"Only when if is true\")\n",
        "    # if block ends when indentation returns to normal\n",
        "print(\"This will always run\")  #notice the lack of indentation"
      ]
    },
    {
      "cell_type": "code",
      "execution_count": 73,
      "metadata": {
        "colab": {
          "base_uri": "https://localhost:8080/"
        },
        "id": "s7ycTGBbjavs",
        "outputId": "0f1a9a45-f44b-4461-9fd0-969d2fe9a268"
      },
      "outputs": [
        {
          "output_type": "stream",
          "name": "stdout",
          "text": [
            "hello\n",
            "hello\n",
            "hello thats not magic\n"
          ]
        }
      ],
      "source": [
        "# the next 4 if statements are not related to each other\n",
        "if 5 >= 5:\n",
        "    print(\"hello\")\n",
        "if 5 <= 5:\n",
        "    print(\"hello\")\n",
        "if 5 == 6:\n",
        "    print(\"hello thats magic\")\n",
        "if 5 != 6:\n",
        "    print(\"hello thats not magic\")"
      ]
    },
    {
      "cell_type": "code",
      "execution_count": 74,
      "metadata": {
        "colab": {
          "base_uri": "https://localhost:8080/"
        },
        "id": "D3oOAGcrjavs",
        "outputId": "e2297c9b-52ed-410f-ec96-3664e0d4e30b"
      },
      "outputs": [
        {
          "output_type": "stream",
          "name": "stdout",
          "text": [
            "Do one thing if if is True\n",
            "DO more things if if is True\n",
            "Do this always\n"
          ]
        }
      ],
      "source": [
        "if 2*2 == 4:\n",
        "    print(\"Do one thing if if is True\")\n",
        "    print(\"DO more things if if is True\")\n",
        "    # we can write as many things to be done as needed\n",
        "print(\"Do this always\")"
      ]
    },
    {
      "cell_type": "code",
      "execution_count": 76,
      "metadata": {
        "colab": {
          "base_uri": "https://localhost:8080/"
        },
        "id": "lGEV5pbNjavs",
        "outputId": "1882afb2-7de5-4d9a-f5e0-34908963d6d6"
      },
      "outputs": [
        {
          "output_type": "stream",
          "name": "stdout",
          "text": [
            "Do one thing if if is True\n",
            "DO more things if if is True\n",
            "Do more\n",
            "Do this always\n"
          ]
        }
      ],
      "source": [
        "a = 4\n",
        "if 2*2 == a:\n",
        "    print(\"Do one thing if if is True\")\n",
        "    print(\"DO more things if if is True\")\n",
        "    \n",
        "    # you can leave empty rows code will still work\n",
        "    print(\"Do more\")\n",
        "print(\"Do this always\")"
      ]
    },
    {
      "cell_type": "code",
      "execution_count": 78,
      "metadata": {
        "colab": {
          "base_uri": "https://localhost:8080/"
        },
        "id": "tc2VxMA4javt",
        "outputId": "ec7f97ea-1240-422a-e1fb-4561cb056eaa"
      },
      "outputs": [
        {
          "output_type": "stream",
          "name": "stdout",
          "text": [
            "Do one thing if if is True\n",
            "DO more things if if is True\n",
            "Do more when a > 3\n",
            "a is larger than 3\n",
            "Do this always\n"
          ]
        }
      ],
      "source": [
        "# we can nest multiple if statements\n",
        "a = 4\n",
        "if 2*2 == a:\n",
        "    print(\"Do one thing if if is True\")\n",
        "    print(\"DO more things if if is True\")\n",
        "    \n",
        "    if (a > 3):\n",
        "        print(\"Do more when a > 3\")\n",
        "\n",
        "# unrelated if statement to previous       \n",
        "if (a > 3):\n",
        "    print(\"a is larger than 3\")       \n",
        "# Last line will always be printed\n",
        "print(\"Do this always\")"
      ]
    },
    {
      "cell_type": "code",
      "execution_count": 79,
      "metadata": {
        "colab": {
          "base_uri": "https://localhost:8080/"
        },
        "id": "vauyfl8-javt",
        "outputId": "b0870e9e-b475-42a4-8f50-4ee846694992"
      },
      "outputs": [
        {
          "output_type": "stream",
          "name": "stdout",
          "text": [
            "What is your age 45\n",
            "Your age is  45\n"
          ]
        }
      ],
      "source": [
        "a = input(\"What is your age \")\n",
        "print('Your age is ', a)"
      ]
    },
    {
      "cell_type": "code",
      "execution_count": 82,
      "metadata": {
        "colab": {
          "base_uri": "https://localhost:8080/"
        },
        "id": "dSnobc64javt",
        "outputId": "b3c4bd42-63f8-4c10-d903-cfdc2e562cfc"
      },
      "outputs": [
        {
          "output_type": "stream",
          "name": "stdout",
          "text": [
            "Enter temperature in Celsius 36.6\n",
            "Farenheit Temperature is 97.88\n"
          ]
        }
      ],
      "source": [
        "c = float(input(\"Enter temperature in Celsius \"))\n",
        "f = c * 9/5 + 32\n",
        "print(\"Farenheit Temperature is\", round(f,2)) # we using round to 2 decimals because floats are imprecise"
      ]
    },
    {
      "cell_type": "code",
      "execution_count": 86,
      "metadata": {
        "colab": {
          "base_uri": "https://localhost:8080/"
        },
        "id": "xen8tgDdjavt",
        "outputId": "b532a597-e1ca-4774-829f-6537b045f055"
      },
      "outputs": [
        {
          "output_type": "stream",
          "name": "stdout",
          "text": [
            "Enter temperature in Celsius 38.8\n",
            "Farenheit Temperature is 101.84\n",
            "You are too hot, find a doctor?\n",
            "Your temperature is 101.84\n"
          ]
        }
      ],
      "source": [
        "c = float(input(\"Enter temperature in Celsius \"))\n",
        "f = c * 9/5 + 32\n",
        "f = round(f, 2) # we could have added round on the previous row as well\n",
        "print(\"Farenheit Temperature is\", f)\n",
        "if f > 100:\n",
        "    print(\"You are too hot, find a doctor?\")\n",
        "    print(f\"Your temperature is {f}\")"
      ]
    },
    {
      "cell_type": "code",
      "execution_count": 87,
      "metadata": {
        "colab": {
          "base_uri": "https://localhost:8080/"
        },
        "id": "-PYDz7Rljavt",
        "outputId": "0eb135bf-f5e5-442c-d596-8fd0bfac1fba"
      },
      "outputs": [
        {
          "output_type": "stream",
          "name": "stdout",
          "text": [
            "Variable   Type     Data/Info\n",
            "-----------------------------\n",
            "a          str      45\n",
            "b          int      4\n",
            "c          float    38.8\n",
            "f          float    101.84\n",
            "is_hot     bool     True\n",
            "my_val     int      10\n",
            "my_zero    int      0\n"
          ]
        }
      ],
      "source": [
        "# Show all current local variables\n",
        "%whos"
      ]
    },
    {
      "cell_type": "code",
      "execution_count": null,
      "metadata": {
        "id": "uowSz8yZjavt"
      },
      "outputs": [],
      "source": [
        "%store"
      ]
    },
    {
      "cell_type": "code",
      "execution_count": null,
      "metadata": {
        "id": "y0UhW1ZSjavt"
      },
      "outputs": [],
      "source": [
        "a = 5\n",
        "b = \"Food\""
      ]
    },
    {
      "cell_type": "code",
      "execution_count": null,
      "metadata": {
        "id": "lffH33OFjavt"
      },
      "outputs": [],
      "source": [
        "%whos"
      ]
    },
    {
      "cell_type": "code",
      "execution_count": null,
      "metadata": {
        "id": "NJc8R-jgjavu"
      },
      "outputs": [],
      "source": [
        "%store a"
      ]
    },
    {
      "cell_type": "code",
      "execution_count": null,
      "metadata": {
        "id": "ubpgcK2mjavu"
      },
      "outputs": [],
      "source": [
        "%whos"
      ]
    },
    {
      "cell_type": "code",
      "execution_count": null,
      "metadata": {
        "id": "M6kQF18Cjavu"
      },
      "outputs": [],
      "source": [
        "%store"
      ]
    },
    {
      "cell_type": "code",
      "execution_count": null,
      "metadata": {
        "id": "aoBQxADYjavu"
      },
      "outputs": [],
      "source": [
        "#Retrieve variables from disk\n",
        "%store -r"
      ]
    },
    {
      "cell_type": "code",
      "execution_count": null,
      "metadata": {
        "id": "clTlz0tajavu"
      },
      "outputs": [],
      "source": [
        "%whos"
      ]
    },
    {
      "cell_type": "code",
      "execution_count": null,
      "metadata": {
        "id": "a0CWO8gEjavu"
      },
      "outputs": [],
      "source": [
        "%store b"
      ]
    },
    {
      "cell_type": "code",
      "execution_count": null,
      "metadata": {
        "id": "43Wselvbjavu"
      },
      "outputs": [],
      "source": [
        "%store -r b"
      ]
    },
    {
      "cell_type": "code",
      "execution_count": null,
      "metadata": {
        "id": "eFRVVz9zjavu"
      },
      "outputs": [],
      "source": [
        "b"
      ]
    },
    {
      "cell_type": "code",
      "execution_count": null,
      "metadata": {
        "id": "NdoGyeXzjavu"
      },
      "outputs": [],
      "source": [
        "%store -r a"
      ]
    },
    {
      "cell_type": "markdown",
      "source": [
        "## Else in if statements\n",
        "\n",
        "Big idea: we need to do exactly one choice depending on some logical statement\n",
        "\n",
        "If else can help us clarify code and avoid bugs(errors).\n",
        "\n",
        "https://www.poetryfoundation.org/poems/44272/the-road-not-taken\n",
        "\n",
        "![TwoRoads](https://live.staticflickr.com/8186/8142976745_c43ce93805_b.jpg)\n",
        "\n",
        "License: https://creativecommons.org/licenses/by-nc-sa/2.0/"
      ],
      "metadata": {
        "id": "Vj_S5sSJyibE"
      }
    },
    {
      "cell_type": "code",
      "execution_count": null,
      "metadata": {
        "id": "OjC_5OWrjavu"
      },
      "outputs": [],
      "source": [
        "a = 5\n",
        "if a > 5:\n",
        "    print('a is larger than 5')\n",
        "    # do more stuff\n",
        "else: # so here this means a <= b\n",
        "    print('a is NOT larger than 5')\n",
        "    # do more stuff if a is not larger than 5\n",
        "print(\"Always print this\")"
      ]
    },
    {
      "cell_type": "code",
      "source": [
        "# if you have like in the fairy tales 3 or more choices\n",
        "# then you will need to use elif in middle of if else chain"
      ],
      "metadata": {
        "id": "XswafI5CzeXV"
      },
      "execution_count": null,
      "outputs": []
    },
    {
      "cell_type": "markdown",
      "source": [
        "![Sherlock](https://upload.wikimedia.org/wikipedia/commons/9/9e/Sherlock_Holmes_-_The_Man_with_the_Twisted_Lip_%28colored%29.jpg)\n",
        "\n",
        "How often have I said to you that when you have eliminated the impossible, whatever remains, however improbable, must be the truth?"
      ],
      "metadata": {
        "id": "0CYsgOb40U2T"
      }
    },
    {
      "cell_type": "code",
      "source": [],
      "metadata": {
        "id": "g90gixx90UM2"
      },
      "execution_count": null,
      "outputs": []
    },
    {
      "cell_type": "code",
      "execution_count": 90,
      "metadata": {
        "colab": {
          "base_uri": "https://localhost:8080/"
        },
        "id": "0rxbLn8zjavv",
        "outputId": "fa9fd325-c440-4d13-920b-97761f20b50f"
      },
      "outputs": [
        {
          "output_type": "stream",
          "name": "stdout",
          "text": [
            "Enter an integer please! 42\n",
            "That is the answer to everything!\n",
            "Your number is 42\n"
          ]
        }
      ],
      "source": [
        "#elif comes from else if\n",
        "x = int(input(\"Enter an integer please! \"))\n",
        "if x > 42:\n",
        "    print(\"Too ambitious an answer!\")\n",
        "elif x < 42:\n",
        "    print(\"You dream too little!\")\n",
        "else: # so x>42 was false, x<42 was false, this leave only x == 42\n",
        "    print(\"That is the answer to everything!\")\n",
        "#These lines below will execute always\n",
        "print('Your number is', x)"
      ]
    },
    {
      "cell_type": "code",
      "source": [
        "# you can do longer if else chains\n",
        "# order of checking matters!\n",
        "a = 5000\n",
        "if a > 1000:\n",
        "    print(f\"A is truly big {a}\")\n",
        "elif a > 100:\n",
        "    print(f\"A is pretty big over 100 but not more than 1000 {a}\")\n",
        "elif a > 0:\n",
        "    print(f\"Well a is at least positive between 1 and 100 -> {a}\")\n",
        "elif a < 0:\n",
        "    print(f\"Looks like we got a negative here {a}\")\n",
        "else: # again only 0 remains as the value not covered by previous chain\n",
        "    print(f\"A must be zero! {a}\")"
      ],
      "metadata": {
        "id": "ql2ndukd0hB7",
        "outputId": "45a9e6ea-bce5-45c7-9162-3e3a69f6e37e",
        "colab": {
          "base_uri": "https://localhost:8080/"
        }
      },
      "execution_count": 94,
      "outputs": [
        {
          "output_type": "stream",
          "name": "stdout",
          "text": [
            "A is truly big 5000\n"
          ]
        }
      ]
    },
    {
      "cell_type": "markdown",
      "source": [
        "## Pattern matching in Python 3.10 and on\n",
        "\n",
        "People got tired of writing long if elif elif .... elif chains\n",
        "\n",
        "Many other languages had a construction such as switch..case or when...\n",
        "Or some other pattern matching method\n",
        "\n",
        "So Python in 3.10 introduced their own pattern matching\n",
        "https://peps.python.org/pep-0622/#matching-process\n",
        "\n",
        "```\n",
        "match number:\n",
        "    case 0:\n",
        "        print(\"Nothing\")\n",
        "    case 1:\n",
        "        print(\"Just one\")\n",
        "    case 2:\n",
        "        print(\"A couple\")\n",
        "    case -1:\n",
        "        print(\"One less than nothing\")\n",
        "    case 1-1j:\n",
        "        print(\"Good luck with that...\")\n",
        "```\n",
        "\n",
        "At the time Google Colab offers Python 3.8 so will need to wait a few months/years.\n",
        "You can install Python locally from https://python.org . Python versions 3.10 or later that will have this feature"
      ],
      "metadata": {
        "id": "msjetKHp1fdh"
      }
    },
    {
      "cell_type": "code",
      "source": [
        "!python --version"
      ],
      "metadata": {
        "id": "AJshUxg31bZD",
        "outputId": "a4fc4a6f-47e6-4e69-855e-b9d4994bd771",
        "colab": {
          "base_uri": "https://localhost:8080/"
        }
      },
      "execution_count": 95,
      "outputs": [
        {
          "output_type": "stream",
          "name": "stdout",
          "text": [
            "Python 3.8.10\n"
          ]
        }
      ]
    }
  ],
  "metadata": {
    "kernelspec": {
      "display_name": "Python 3",
      "language": "python",
      "name": "python3"
    },
    "language_info": {
      "codemirror_mode": {
        "name": "ipython",
        "version": 3
      },
      "file_extension": ".py",
      "mimetype": "text/x-python",
      "name": "python",
      "nbconvert_exporter": "python",
      "pygments_lexer": "ipython3",
      "version": "3.7.3"
    },
    "colab": {
      "provenance": []
    }
  },
  "nbformat": 4,
  "nbformat_minor": 0
}