{
  "cells": [
    {
      "cell_type": "code",
      "source": [],
      "metadata": {
        "id": "IbfGoA9Mkt92"
      },
      "execution_count": null,
      "outputs": []
    },
    {
      "cell_type": "markdown",
      "source": [
        "# Boolean Algebra\n",
        "\n",
        "George Boole can be considered a grandfather of computer science and programming.\n",
        "\n",
        "![George Boole](https://upload.wikimedia.org/wikipedia/commons/thumb/c/ce/George_Boole_color.jpg/440px-George_Boole_color.jpg)\n",
        "\n",
        "[Boole at Stanford](https://plato.stanford.edu/entries/boole/)"
      ],
      "metadata": {
        "id": "x5avf-YUkuZ2"
      }
    },
    {
      "cell_type": "markdown",
      "source": [
        "## Boolean Variables"
      ],
      "metadata": {
        "id": "rQizlsk1kH5V"
      }
    },
    {
      "cell_type": "code",
      "execution_count": 1,
      "metadata": {
        "colab": {
          "base_uri": "https://localhost:8080/"
        },
        "id": "mFQIbhH2javX",
        "outputId": "13ffd08c-ec11-4e66-baab-a4c4789e38c1"
      },
      "outputs": [
        {
          "output_type": "execute_result",
          "data": {
            "text/plain": [
              "True"
            ]
          },
          "metadata": {},
          "execution_count": 1
        }
      ],
      "source": [
        "True # George Bool 19th century mathematician invented boolean algebra\n",
        "# extremely well suited for computers which work with 0s and 1s"
      ]
    },
    {
      "cell_type": "code",
      "source": [
        "False"
      ],
      "metadata": {
        "colab": {
          "base_uri": "https://localhost:8080/"
        },
        "id": "1YYUVMIukoRI",
        "outputId": "2824e9b5-9d9e-4945-aa11-40e2fc9764ca"
      },
      "execution_count": 2,
      "outputs": [
        {
          "output_type": "execute_result",
          "data": {
            "text/plain": [
              "False"
            ]
          },
          "metadata": {},
          "execution_count": 2
        }
      ]
    },
    {
      "cell_type": "code",
      "execution_count": 3,
      "metadata": {
        "colab": {
          "base_uri": "https://localhost:8080/"
        },
        "id": "5ikkjhxgjavb",
        "outputId": "5fc05013-2b6a-4337-b0b8-f6f706e8df50"
      },
      "outputs": [
        {
          "output_type": "execute_result",
          "data": {
            "text/plain": [
              "(bool, bool)"
            ]
          },
          "metadata": {},
          "execution_count": 3
        }
      ],
      "source": [
        "type(True), type(False)"
      ]
    },
    {
      "cell_type": "code",
      "execution_count": 4,
      "metadata": {
        "colab": {
          "base_uri": "https://localhost:8080/"
        },
        "id": "JwEIV72Ajavb",
        "outputId": "2b0393d2-41ef-4b92-a40a-5242c52c4861"
      },
      "outputs": [
        {
          "output_type": "execute_result",
          "data": {
            "text/plain": [
              "False"
            ]
          },
          "metadata": {},
          "execution_count": 4
        }
      ],
      "source": [
        "# We use Booleans all the time in computer programming to obtain results of some comparison, or equality and many other functions\n",
        "5 > 7"
      ]
    },
    {
      "cell_type": "code",
      "execution_count": 5,
      "metadata": {
        "colab": {
          "base_uri": "https://localhost:8080/"
        },
        "id": "wAaF9yoXjavc",
        "outputId": "1e630918-13f8-4ede-fd8e-2ebbc19fd9be"
      },
      "outputs": [
        {
          "output_type": "execute_result",
          "data": {
            "text/plain": [
              "bool"
            ]
          },
          "metadata": {},
          "execution_count": 5
        }
      ],
      "source": [
        "type(5 > 7)"
      ]
    },
    {
      "cell_type": "code",
      "execution_count": 6,
      "metadata": {
        "colab": {
          "base_uri": "https://localhost:8080/"
        },
        "id": "_euIPEVjjavc",
        "outputId": "84c644d5-016a-4ff1-c44d-450da5d3cc50"
      },
      "outputs": [
        {
          "output_type": "execute_result",
          "data": {
            "text/plain": [
              "True"
            ]
          },
          "metadata": {},
          "execution_count": 6
        }
      ],
      "source": [
        "8 == 18-10  # evaluation in Python ir right to left so 18-10 is done first"
      ]
    },
    {
      "cell_type": "code",
      "execution_count": 7,
      "metadata": {
        "colab": {
          "base_uri": "https://localhost:8080/"
        },
        "id": "afGhxUx8javc",
        "outputId": "c8e0d189-cff7-492b-d66d-7bc0238a2878"
      },
      "outputs": [
        {
          "output_type": "execute_result",
          "data": {
            "text/plain": [
              "(True, False)"
            ]
          },
          "metadata": {},
          "execution_count": 7
        }
      ],
      "source": [
        "2*2 == 4, 2*2 == 5"
      ]
    },
    {
      "cell_type": "code",
      "execution_count": 8,
      "metadata": {
        "colab": {
          "base_uri": "https://localhost:8080/"
        },
        "id": "hg3P-7iIjavd",
        "outputId": "a874c00d-6b13-4fb6-8a0b-7d036c207513"
      },
      "outputs": [
        {
          "output_type": "execute_result",
          "data": {
            "text/plain": [
              "False"
            ]
          },
          "metadata": {},
          "execution_count": 8
        }
      ],
      "source": [
        "5 == '5' # these are not the same in Python!\n",
        "# integer 5 is not the same as string \"5\""
      ]
    },
    {
      "cell_type": "code",
      "execution_count": 9,
      "metadata": {
        "colab": {
          "base_uri": "https://localhost:8080/"
        },
        "id": "xbEIsauljavd",
        "outputId": "c9afba04-ad59-49db-faa3-67bcffbd55a3"
      },
      "outputs": [
        {
          "output_type": "execute_result",
          "data": {
            "text/plain": [
              "True"
            ]
          },
          "metadata": {},
          "execution_count": 9
        }
      ],
      "source": [
        "5 == int('5') # we need to compare same data types in Python otherwise we will just get inequality"
      ]
    },
    {
      "cell_type": "code",
      "execution_count": 10,
      "metadata": {
        "colab": {
          "base_uri": "https://localhost:8080/"
        },
        "id": "xit-Anm6javd",
        "outputId": "b390a25e-8742-4734-8c5c-a3da0779daa8"
      },
      "outputs": [
        {
          "output_type": "execute_result",
          "data": {
            "text/plain": [
              "True"
            ]
          },
          "metadata": {},
          "execution_count": 10
        }
      ],
      "source": [
        "# in Python \" and ' are used the same way so...\n",
        "\"Valdis\" == 'Valdis'"
      ]
    },
    {
      "cell_type": "code",
      "execution_count": 11,
      "metadata": {
        "colab": {
          "base_uri": "https://localhost:8080/"
        },
        "id": "2IIgml5ijave",
        "outputId": "1180f814-eeb0-442a-9b67-3e5ae8bbd84b"
      },
      "outputs": [
        {
          "output_type": "execute_result",
          "data": {
            "text/plain": [
              "False"
            ]
          },
          "metadata": {},
          "execution_count": 11
        }
      ],
      "source": [
        "# however\n",
        "\"Valdis\" == \"valdis\" # not the same!"
      ]
    },
    {
      "cell_type": "code",
      "source": [
        "# also remembere whitespace!\n",
        "\"Valdis \" == \"Valdis\" # that single space is a character!\n",
        "# there are methods to strip whitespace off from strings but that is another discussion"
      ],
      "metadata": {
        "colab": {
          "base_uri": "https://localhost:8080/"
        },
        "id": "rhOHHxU6lxzZ",
        "outputId": "eae7c196-f1eb-4349-f4f7-1c59a766207b"
      },
      "execution_count": 12,
      "outputs": [
        {
          "output_type": "execute_result",
          "data": {
            "text/plain": [
              "False"
            ]
          },
          "metadata": {},
          "execution_count": 12
        }
      ]
    },
    {
      "cell_type": "code",
      "source": [
        "# we have more lesser or greate comparisons\n",
        "# <, <=, >=, >"
      ],
      "metadata": {
        "id": "vmiGqsaSmIxT"
      },
      "execution_count": null,
      "outputs": []
    },
    {
      "cell_type": "code",
      "execution_count": 13,
      "metadata": {
        "colab": {
          "base_uri": "https://localhost:8080/"
        },
        "id": "FDKmfb9ojave",
        "outputId": "cb920d80-004f-4959-ebae-5b6dccb48b48"
      },
      "outputs": [
        {
          "output_type": "execute_result",
          "data": {
            "text/plain": [
              "(True, True)"
            ]
          },
          "metadata": {},
          "execution_count": 13
        }
      ],
      "source": [
        "5 <= 6, 5 <= 5"
      ]
    },
    {
      "cell_type": "code",
      "source": [
        "# we usually compare at least one variable with some number or string, or possible two variables\n",
        "a = 2\n",
        "b = 4\n",
        "a*a == b, a*a == 4, a*a == 5"
      ],
      "metadata": {
        "colab": {
          "base_uri": "https://localhost:8080/"
        },
        "id": "kogzkHOXmQI-",
        "outputId": "78e85c26-dcae-4570-a49c-de8bfae69b16"
      },
      "execution_count": 14,
      "outputs": [
        {
          "output_type": "execute_result",
          "data": {
            "text/plain": [
              "(True, True, False)"
            ]
          },
          "metadata": {},
          "execution_count": 14
        }
      ]
    },
    {
      "cell_type": "code",
      "source": [
        "a >= 2, a > b, a >= b, a < b, a <= b # so True, False, False, True, True"
      ],
      "metadata": {
        "colab": {
          "base_uri": "https://localhost:8080/"
        },
        "id": "0O8FdyvjmkS6",
        "outputId": "f938aec1-391a-4098-a41b-ff6391d9487b"
      },
      "execution_count": 17,
      "outputs": [
        {
          "output_type": "execute_result",
          "data": {
            "text/plain": [
              "(True, False, False, True, True)"
            ]
          },
          "metadata": {},
          "execution_count": 17
        }
      ]
    },
    {
      "cell_type": "code",
      "source": [
        "# there is an inequality comparison # it is like reverse of equality"
      ],
      "metadata": {
        "id": "lNg4Ihclm8B4"
      },
      "execution_count": null,
      "outputs": []
    },
    {
      "cell_type": "code",
      "execution_count": 18,
      "metadata": {
        "colab": {
          "base_uri": "https://localhost:8080/"
        },
        "id": "yvhZtn-9jave",
        "outputId": "ba7f2afe-2e6c-4fec-d463-8c63bca1777c"
      },
      "outputs": [
        {
          "output_type": "execute_result",
          "data": {
            "text/plain": [
              "(True, False)"
            ]
          },
          "metadata": {},
          "execution_count": 18
        }
      ],
      "source": [
        "5 != 6, 5 != 5 # so True and False\n"
      ]
    },
    {
      "cell_type": "code",
      "source": [
        "a*a != 4, a*a != 9000 # so first one is false because a*a is in fact EQUAL to 4, and 2nd one is obviously false here"
      ],
      "metadata": {
        "colab": {
          "base_uri": "https://localhost:8080/"
        },
        "id": "OQ96qY6CnFnZ",
        "outputId": "a1c8187f-adab-4985-85b4-0ad175cf5b2f"
      },
      "execution_count": null,
      "outputs": [
        {
          "output_type": "execute_result",
          "data": {
            "text/plain": [
              "(False, True)"
            ]
          },
          "metadata": {},
          "execution_count": 17
        }
      ]
    },
    {
      "cell_type": "markdown",
      "source": [
        "## Negation\n"
      ],
      "metadata": {
        "id": "6a0mjFOdkwZU"
      }
    },
    {
      "cell_type": "code",
      "source": [],
      "metadata": {
        "id": "1akSJrA0kyVF"
      },
      "execution_count": null,
      "outputs": []
    },
    {
      "cell_type": "code",
      "execution_count": null,
      "metadata": {
        "colab": {
          "base_uri": "https://localhost:8080/"
        },
        "id": "EPLwVqbOjave",
        "outputId": "8b5e2045-8c62-4562-bfdc-3607b85ecadd"
      },
      "outputs": [
        {
          "output_type": "execute_result",
          "data": {
            "text/plain": [
              "(False, True)"
            ]
          },
          "metadata": {},
          "execution_count": 18
        }
      ],
      "source": [
        "not True, not False # more about negation later"
      ]
    },
    {
      "cell_type": "markdown",
      "source": [
        "## Comparing Strings"
      ],
      "metadata": {
        "id": "N4tHj9eznUQs"
      }
    },
    {
      "cell_type": "code",
      "execution_count": 19,
      "metadata": {
        "colab": {
          "base_uri": "https://localhost:8080/"
        },
        "id": "BA4EvnAHjavf",
        "outputId": "cc5f3e48-0ae2-4ac5-c9f6-b1fd4f20ed3f"
      },
      "outputs": [
        {
          "output_type": "execute_result",
          "data": {
            "text/plain": [
              "True"
            ]
          },
          "metadata": {},
          "execution_count": 19
        }
      ],
      "source": [
        "'VALDIS' < 'VOLDEMARS' # what is being compared here?"
      ]
    },
    {
      "cell_type": "code",
      "execution_count": null,
      "metadata": {
        "colab": {
          "base_uri": "https://localhost:8080/"
        },
        "id": "qyHjMdZyjavf",
        "outputId": "5790bc4f-02fc-4d40-80d8-308f9bcffc84"
      },
      "outputs": [
        {
          "output_type": "execute_result",
          "data": {
            "text/plain": [
              "True"
            ]
          },
          "metadata": {},
          "execution_count": 20
        }
      ],
      "source": [
        "len('VALDIS') < len('VOLDEMARS') # this is comparing string lengths"
      ]
    },
    {
      "cell_type": "code",
      "execution_count": null,
      "metadata": {
        "colab": {
          "base_uri": "https://localhost:8080/"
        },
        "id": "6OJAE262javf",
        "outputId": "1bc9cc68-2cff-44e9-d018-f0f398d0c116"
      },
      "outputs": [
        {
          "output_type": "execute_result",
          "data": {
            "text/plain": [
              "True"
            ]
          },
          "metadata": {},
          "execution_count": 21
        }
      ],
      "source": [
        "'VALDIS' < 'VOLD'"
      ]
    },
    {
      "cell_type": "code",
      "source": [
        "'VALDIS' < 'VAL'"
      ],
      "metadata": {
        "id": "wpYAQVTGlJnJ",
        "outputId": "33d30333-7c02-4859-fd00-f4dd9fc9746f",
        "colab": {
          "base_uri": "https://localhost:8080/"
        }
      },
      "execution_count": 20,
      "outputs": [
        {
          "output_type": "execute_result",
          "data": {
            "text/plain": [
              "False"
            ]
          },
          "metadata": {},
          "execution_count": 20
        }
      ]
    },
    {
      "cell_type": "code",
      "execution_count": null,
      "metadata": {
        "colab": {
          "base_uri": "https://localhost:8080/"
        },
        "id": "3axY7k4ojavf",
        "outputId": "5ecbe134-1c76-42ba-c2ba-08b2c40b8e9b"
      },
      "outputs": [
        {
          "output_type": "execute_result",
          "data": {
            "text/plain": [
              "True"
            ]
          },
          "metadata": {},
          "execution_count": 22
        }
      ],
      "source": [
        "'VALDIS' < 'VB'"
      ]
    },
    {
      "cell_type": "code",
      "source": [
        "# so for string comparison will be done lexicographically"
      ],
      "metadata": {
        "id": "tLpTDTMAn7aq"
      },
      "execution_count": null,
      "outputs": []
    },
    {
      "cell_type": "code",
      "execution_count": null,
      "metadata": {
        "colab": {
          "base_uri": "https://localhost:8080/"
        },
        "id": "fr9_V48Sjavf",
        "outputId": "4a3eee28-06eb-4469-bc3e-151283f83fae"
      },
      "outputs": [
        {
          "output_type": "execute_result",
          "data": {
            "text/plain": [
              "False"
            ]
          },
          "metadata": {},
          "execution_count": 23
        }
      ],
      "source": [
        "'ZALDIS' < 'VB'"
      ]
    },
    {
      "cell_type": "code",
      "execution_count": null,
      "metadata": {
        "id": "U5gtytLYjavf"
      },
      "outputs": [],
      "source": [
        "'Valdis' > 'VALDIS' # because a comes after A"
      ]
    },
    {
      "cell_type": "code",
      "execution_count": null,
      "metadata": {
        "id": "xrWOEqOTjavg"
      },
      "outputs": [],
      "source": [
        "len('VALDIS') < len('VOLDEMARS')\n",
        "\n",
        "# We check each letter from left side\n",
        "# on mismatch we check ASCII (UTF-8) tables for values\n",
        "\n",
        "'VALDIS' < 'VOLDEMARS'"
      ]
    },
    {
      "cell_type": "markdown",
      "source": [
        "### Comparing Emojis"
      ],
      "metadata": {
        "id": "nFPr27KhpnBp"
      }
    },
    {
      "cell_type": "code",
      "source": [
        "# we can compare Emojis!\n",
        "\"😀\" < \"😁\""
      ],
      "metadata": {
        "colab": {
          "base_uri": "https://localhost:8080/"
        },
        "id": "tlh2YnxSodxG",
        "outputId": "7aa2e304-c0eb-4672-b265-08918c1a2c75"
      },
      "execution_count": 21,
      "outputs": [
        {
          "output_type": "execute_result",
          "data": {
            "text/plain": [
              "True"
            ]
          },
          "metadata": {},
          "execution_count": 21
        }
      ]
    },
    {
      "cell_type": "markdown",
      "source": [
        "### Checking Unicode value for single character string"
      ],
      "metadata": {
        "id": "YFISYfKXpqFL"
      }
    },
    {
      "cell_type": "code",
      "source": [
        "# above is true because of Unicode represening those Emojis\n",
        "ord(\"😀\"), ord(\"😃\"), ord(\"😁\")"
      ],
      "metadata": {
        "colab": {
          "base_uri": "https://localhost:8080/"
        },
        "id": "_5gz2U1zolgM",
        "outputId": "cf409e0f-feb3-4c00-f523-5c45c3bd60e7"
      },
      "execution_count": 22,
      "outputs": [
        {
          "output_type": "execute_result",
          "data": {
            "text/plain": [
              "(128512, 128515, 128513)"
            ]
          },
          "metadata": {},
          "execution_count": 22
        }
      ]
    },
    {
      "cell_type": "code",
      "execution_count": 23,
      "metadata": {
        "colab": {
          "base_uri": "https://localhost:8080/"
        },
        "id": "42vY4pzUjavg",
        "outputId": "ff58e4e4-c08d-445b-e1c6-5808ab1e827d"
      },
      "outputs": [
        {
          "output_type": "execute_result",
          "data": {
            "text/plain": [
              "False"
            ]
          },
          "metadata": {},
          "execution_count": 23
        }
      ],
      "source": [
        "'kaķis' < 'kakis' # cat vs cat in Latvian"
      ]
    },
    {
      "cell_type": "markdown",
      "source": [
        "### Getting character from Unicode number\n"
      ],
      "metadata": {
        "id": "a_1wPFjupvOx"
      }
    },
    {
      "cell_type": "code",
      "execution_count": 24,
      "metadata": {
        "colab": {
          "base_uri": "https://localhost:8080/",
          "height": 35
        },
        "id": "9vYl622gjavg",
        "outputId": "c7928524-8007-47b5-e79f-7d2720a1af77"
      },
      "outputs": [
        {
          "output_type": "execute_result",
          "data": {
            "text/plain": [
              "'A'"
            ],
            "application/vnd.google.colaboratory.intrinsic+json": {
              "type": "string"
            }
          },
          "metadata": {},
          "execution_count": 24
        }
      ],
      "source": [
        "chr(65)"
      ]
    },
    {
      "cell_type": "code",
      "source": [
        "chr(256),chr(257), chr(258)"
      ],
      "metadata": {
        "colab": {
          "base_uri": "https://localhost:8080/"
        },
        "id": "Ys-9wy-KpMg1",
        "outputId": "a1697f43-76c5-4533-e66d-7b8040feebe7"
      },
      "execution_count": 25,
      "outputs": [
        {
          "output_type": "execute_result",
          "data": {
            "text/plain": [
              "('Ā', 'ā', 'Ă')"
            ]
          },
          "metadata": {},
          "execution_count": 25
        }
      ]
    },
    {
      "cell_type": "code",
      "execution_count": 26,
      "metadata": {
        "colab": {
          "base_uri": "https://localhost:8080/",
          "height": 35
        },
        "id": "Ai6YXOGyjavg",
        "outputId": "2d781596-e630-4ccb-a36f-012e0b3e282d"
      },
      "outputs": [
        {
          "output_type": "execute_result",
          "data": {
            "text/plain": [
              "'Ɛ'"
            ],
            "application/vnd.google.colaboratory.intrinsic+json": {
              "type": "string"
            }
          },
          "metadata": {},
          "execution_count": 26
        }
      ],
      "source": [
        "chr(400) # so you can get UTF-8 characters out of their code numbers"
      ]
    },
    {
      "cell_type": "code",
      "execution_count": 27,
      "metadata": {
        "colab": {
          "base_uri": "https://localhost:8080/",
          "height": 35
        },
        "id": "-dwDPBgvjavh",
        "outputId": "2c9d572a-6c8f-4490-8d17-606a2e929f50"
      },
      "outputs": [
        {
          "output_type": "execute_result",
          "data": {
            "text/plain": [
              "'ྠ'"
            ],
            "application/vnd.google.colaboratory.intrinsic+json": {
              "type": "string"
            }
          },
          "metadata": {},
          "execution_count": 27
        }
      ],
      "source": [
        "chr(4000)"
      ]
    },
    {
      "cell_type": "code",
      "execution_count": 28,
      "metadata": {
        "colab": {
          "base_uri": "https://localhost:8080/",
          "height": 35
        },
        "id": "RYcFvKjnjavh",
        "outputId": "c0bfecd1-fcf2-41de-95b5-298006b3213f"
      },
      "outputs": [
        {
          "output_type": "execute_result",
          "data": {
            "text/plain": [
              "'鱀'"
            ],
            "application/vnd.google.colaboratory.intrinsic+json": {
              "type": "string"
            }
          },
          "metadata": {},
          "execution_count": 28
        }
      ],
      "source": [
        "chr(40000)"
      ]
    },
    {
      "cell_type": "code",
      "execution_count": null,
      "metadata": {
        "colab": {
          "base_uri": "https://localhost:8080/",
          "height": 35
        },
        "id": "LIcTq4fTjavh",
        "outputId": "328fdecf-7bf4-4b26-f41f-b6d95b95ed27"
      },
      "outputs": [
        {
          "output_type": "execute_result",
          "data": {
            "text/plain": [
              "'😋'"
            ],
            "application/vnd.google.colaboratory.intrinsic+json": {
              "type": "string"
            }
          },
          "metadata": {},
          "execution_count": 35
        }
      ],
      "source": [
        "chr(128523)"
      ]
    },
    {
      "cell_type": "code",
      "execution_count": null,
      "metadata": {
        "id": "zohFdPqLjavh"
      },
      "outputs": [],
      "source": []
    },
    {
      "cell_type": "code",
      "execution_count": 30,
      "metadata": {
        "id": "2SJvabA1javh",
        "outputId": "c24dbdfb-857a-420e-cbcd-56c5d56683ff",
        "colab": {
          "base_uri": "https://localhost:8080/"
        }
      },
      "outputs": [
        {
          "output_type": "execute_result",
          "data": {
            "text/plain": [
              "(311, 107)"
            ]
          },
          "metadata": {},
          "execution_count": 30
        }
      ],
      "source": [
        "# ord gets you integer value representing unicode value\n",
        "ord('ķ'), ord('k')"
      ]
    },
    {
      "cell_type": "code",
      "execution_count": null,
      "metadata": {
        "id": "h2LvddTLjavh"
      },
      "outputs": [],
      "source": [
        "ord('Ķ')"
      ]
    },
    {
      "cell_type": "code",
      "execution_count": null,
      "metadata": {
        "id": "uy8W4JRhjavh"
      },
      "outputs": [],
      "source": [
        "ord('Ā'),ord('ā')"
      ]
    },
    {
      "cell_type": "code",
      "execution_count": null,
      "metadata": {
        "id": "mif3vl1Hjavi"
      },
      "outputs": [],
      "source": [
        "'Valdis'  < \"VOLDEMARS\""
      ]
    },
    {
      "cell_type": "code",
      "execution_count": null,
      "metadata": {
        "id": "8F7dqS2yjavi"
      },
      "outputs": [],
      "source": [
        "print(chr(97))"
      ]
    },
    {
      "cell_type": "code",
      "execution_count": null,
      "metadata": {
        "id": "oNNdP7tbjavi"
      },
      "outputs": [],
      "source": [
        "chr(4000)"
      ]
    },
    {
      "cell_type": "code",
      "execution_count": null,
      "metadata": {
        "id": "DEJyxSjtjavi"
      },
      "outputs": [],
      "source": [
        "ord(\"ā\")"
      ]
    },
    {
      "cell_type": "code",
      "execution_count": null,
      "metadata": {
        "id": "OZ-OCoMkjavi"
      },
      "outputs": [],
      "source": [
        "ord('Ķ')"
      ]
    },
    {
      "cell_type": "code",
      "execution_count": null,
      "metadata": {
        "id": "niQ6yWODjavi"
      },
      "outputs": [],
      "source": [
        "list(range(5))"
      ]
    },
    {
      "cell_type": "markdown",
      "metadata": {
        "id": "VQCOHPtAjavi"
      },
      "source": [
        "# Logical Operators"
      ]
    },
    {
      "cell_type": "markdown",
      "source": [
        "## Logical Negation"
      ],
      "metadata": {
        "id": "MC52QPtYqMo4"
      }
    },
    {
      "cell_type": "code",
      "source": [
        "not True"
      ],
      "metadata": {
        "colab": {
          "base_uri": "https://localhost:8080/"
        },
        "id": "DWjgbHdxqLtg",
        "outputId": "7b90e0a3-bf78-4002-b116-f8aebaf14ad4"
      },
      "execution_count": null,
      "outputs": [
        {
          "output_type": "execute_result",
          "data": {
            "text/plain": [
              "False"
            ]
          },
          "metadata": {},
          "execution_count": 36
        }
      ]
    },
    {
      "cell_type": "code",
      "source": [
        "# similarly\n",
        "not False"
      ],
      "metadata": {
        "colab": {
          "base_uri": "https://localhost:8080/"
        },
        "id": "5zcRLSh2qR88",
        "outputId": "888f291b-f6d4-4309-9e2d-581a37e6a5d2"
      },
      "execution_count": null,
      "outputs": [
        {
          "output_type": "execute_result",
          "data": {
            "text/plain": [
              "True"
            ]
          },
          "metadata": {},
          "execution_count": 37
        }
      ]
    },
    {
      "cell_type": "code",
      "source": [
        "# we can use this negation to create a toggle switch\n",
        "is_hot = False\n",
        "print(is_hot)"
      ],
      "metadata": {
        "colab": {
          "base_uri": "https://localhost:8080/"
        },
        "id": "g86QYnAvqWVm",
        "outputId": "da58b711-921b-42e8-ab34-5c6501ff4166"
      },
      "execution_count": 31,
      "outputs": [
        {
          "output_type": "stream",
          "name": "stdout",
          "text": [
            "False\n"
          ]
        }
      ]
    },
    {
      "cell_type": "markdown",
      "source": [
        "![Spark Toggle](https://cdn.sparkfun.com//assets/parts/2/7/7/7/09276-1.jpg)"
      ],
      "metadata": {
        "id": "47Ss93WNq7nS"
      }
    },
    {
      "cell_type": "code",
      "source": [
        "is_hot = not is_hot # so we reverse the value of is_hot to the oppositive of the previous\n",
        "print(is_hot)"
      ],
      "metadata": {
        "colab": {
          "base_uri": "https://localhost:8080/"
        },
        "id": "vcrWHAd5qh3T",
        "outputId": "48ea1146-030e-42e8-e842-f637e8ebd892"
      },
      "execution_count": 36,
      "outputs": [
        {
          "output_type": "stream",
          "name": "stdout",
          "text": [
            "False\n"
          ]
        }
      ]
    },
    {
      "cell_type": "markdown",
      "source": [
        "## Logical Conjuction with and"
      ],
      "metadata": {
        "id": "p2kdgyIWq_28"
      }
    },
    {
      "cell_type": "code",
      "execution_count": null,
      "metadata": {
        "id": "N7_3h0Wajavj"
      },
      "outputs": [],
      "source": [
        "# and is only only true if both sides are true, otherwise false"
      ]
    },
    {
      "cell_type": "code",
      "execution_count": null,
      "metadata": {
        "colab": {
          "base_uri": "https://localhost:8080/"
        },
        "id": "4-c9BqAsjavk",
        "outputId": "b2a91115-088f-40c2-caeb-117ccea03f20"
      },
      "outputs": [
        {
          "output_type": "execute_result",
          "data": {
            "text/plain": [
              "True"
            ]
          },
          "metadata": {},
          "execution_count": 44
        }
      ],
      "source": [
        "True and True"
      ]
    },
    {
      "cell_type": "code",
      "execution_count": 37,
      "metadata": {
        "colab": {
          "base_uri": "https://localhost:8080/"
        },
        "id": "7cpqWTXrjavk",
        "outputId": "d810bb83-627d-4a95-8a27-c30fbda83fa7"
      },
      "outputs": [
        {
          "output_type": "execute_result",
          "data": {
            "text/plain": [
              "False"
            ]
          },
          "metadata": {},
          "execution_count": 37
        }
      ],
      "source": [
        "True and False # and requires for BOTH sides to be true"
      ]
    },
    {
      "cell_type": "code",
      "execution_count": 38,
      "metadata": {
        "colab": {
          "base_uri": "https://localhost:8080/"
        },
        "id": "pC5KYKejjavk",
        "outputId": "66ceb9b6-c6eb-4f6c-b3f2-b814bc609a9f"
      },
      "outputs": [
        {
          "output_type": "execute_result",
          "data": {
            "text/plain": [
              "False"
            ]
          },
          "metadata": {},
          "execution_count": 38
        }
      ],
      "source": [
        "False and True"
      ]
    },
    {
      "cell_type": "code",
      "execution_count": 39,
      "metadata": {
        "colab": {
          "base_uri": "https://localhost:8080/"
        },
        "id": "GCNclNEHjavk",
        "outputId": "0497351f-deb9-4041-dd66-a613bbaa0255"
      },
      "outputs": [
        {
          "output_type": "execute_result",
          "data": {
            "text/plain": [
              "False"
            ]
          },
          "metadata": {},
          "execution_count": 39
        }
      ],
      "source": [
        "False and False"
      ]
    },
    {
      "cell_type": "code",
      "execution_count": 40,
      "metadata": {
        "colab": {
          "base_uri": "https://localhost:8080/"
        },
        "id": "Cz2ZtkcIjavk",
        "outputId": "5eb3b233-b31f-44af-c0ec-74881188872e"
      },
      "outputs": [
        {
          "output_type": "execute_result",
          "data": {
            "text/plain": [
              "True"
            ]
          },
          "metadata": {},
          "execution_count": 40
        }
      ],
      "source": [
        "5 > 4 and 2*2 == 4"
      ]
    },
    {
      "cell_type": "code",
      "execution_count": 41,
      "metadata": {
        "colab": {
          "base_uri": "https://localhost:8080/"
        },
        "id": "r2q5bc-2javk",
        "outputId": "35cd0ac4-89e9-4eed-f4e1-5f56d8e2cdf8"
      },
      "outputs": [
        {
          "output_type": "execute_result",
          "data": {
            "text/plain": [
              "True"
            ]
          },
          "metadata": {},
          "execution_count": 41
        }
      ],
      "source": [
        "True and True and 2*2 == 4"
      ]
    },
    {
      "cell_type": "markdown",
      "source": [
        "## Lazy Evaluation"
      ],
      "metadata": {
        "id": "-s5WKXr3rXtg"
      }
    },
    {
      "cell_type": "code",
      "execution_count": 43,
      "metadata": {
        "colab": {
          "base_uri": "https://localhost:8080/"
        },
        "id": "dHzkWHYdjavl",
        "outputId": "aec90c25-773d-4c58-e457-9d24b7910753"
      },
      "outputs": [
        {
          "output_type": "execute_result",
          "data": {
            "text/plain": [
              "False"
            ]
          },
          "metadata": {},
          "execution_count": 43
        }
      ],
      "source": [
        "True and True and 2*2 == 4 and 2*2 == 5 # one drop of oil spoils honey"
      ]
    },
    {
      "cell_type": "code",
      "source": [
        "200/0"
      ],
      "metadata": {
        "id": "VllBFDQBnRuM",
        "outputId": "9fce6c1d-c6dd-4914-8f2b-ad72680cf197",
        "colab": {
          "base_uri": "https://localhost:8080/",
          "height": 141
        }
      },
      "execution_count": 44,
      "outputs": [
        {
          "output_type": "error",
          "ename": "ZeroDivisionError",
          "evalue": "division by zero",
          "traceback": [
            "\u001b[0;31m---------------------------------------------------------------------------\u001b[0m",
            "\u001b[0;31mZeroDivisionError\u001b[0m                         Traceback (most recent call last)",
            "\u001b[0;32m<ipython-input-44-6699d6528903>\u001b[0m in \u001b[0;36m<cell line: 1>\u001b[0;34m()\u001b[0m\n\u001b[0;32m----> 1\u001b[0;31m \u001b[0;36m200\u001b[0m\u001b[0;34m/\u001b[0m\u001b[0;36m0\u001b[0m\u001b[0;34m\u001b[0m\u001b[0;34m\u001b[0m\u001b[0m\n\u001b[0m",
            "\u001b[0;31mZeroDivisionError\u001b[0m: division by zero"
          ]
        }
      ]
    },
    {
      "cell_type": "code",
      "execution_count": 45,
      "metadata": {
        "colab": {
          "base_uri": "https://localhost:8080/"
        },
        "id": "wGYxEpHGjavl",
        "outputId": "6c4a60ac-5ce9-4c60-c166-f7512347968f"
      },
      "outputs": [
        {
          "output_type": "execute_result",
          "data": {
            "text/plain": [
              "False"
            ]
          },
          "metadata": {},
          "execution_count": 45
        }
      ],
      "source": [
        "#Lazy evaluation\n",
        "# As soon as something is false,Python will stop evaluating the sequence\n",
        "\n",
        "3 < 2 and True and 2*2 == 4 and 5 == 5 and 200/0 == 2\n",
        "# once the first false value is found Python stops looking\n",
        "# so as soon as 3 < 2 is encountered Python stops that particual evaluation because it is going to be false for sure!\n"
      ]
    },
    {
      "cell_type": "code",
      "source": [
        "a*a == 4 and a*2 == b and b < 10"
      ],
      "metadata": {
        "colab": {
          "base_uri": "https://localhost:8080/"
        },
        "id": "N7JokHHrrsYr",
        "outputId": "f0511842-59c9-4f98-a70b-cf8c8ec81e5d"
      },
      "execution_count": null,
      "outputs": [
        {
          "output_type": "execute_result",
          "data": {
            "text/plain": [
              "True"
            ]
          },
          "metadata": {},
          "execution_count": 53
        }
      ]
    },
    {
      "cell_type": "markdown",
      "source": [
        "## Complex Numbers in Python"
      ],
      "metadata": {
        "id": "92n3808yr3OE"
      }
    },
    {
      "cell_type": "code",
      "execution_count": null,
      "metadata": {
        "id": "yn6YAK1kjavl"
      },
      "outputs": [],
      "source": [
        "# complex numbers in Python\n",
        "4+5j # so j is i in math which square root of -1"
      ]
    },
    {
      "cell_type": "code",
      "execution_count": null,
      "metadata": {
        "id": "HgMs_QFQjavl"
      },
      "outputs": [],
      "source": [
        "(4+5j)*(3+2j) # 4*3 == 12 (5*3)j+(2*4)j + (5j*2j)= 10*-1"
      ]
    },
    {
      "cell_type": "code",
      "execution_count": null,
      "metadata": {
        "id": "3sN8soo6javm"
      },
      "outputs": [],
      "source": [
        "i = (2+4j)"
      ]
    },
    {
      "cell_type": "code",
      "execution_count": null,
      "metadata": {
        "id": "H_rpKpzFjavm"
      },
      "outputs": [],
      "source": [
        "i**2"
      ]
    },
    {
      "cell_type": "code",
      "execution_count": null,
      "metadata": {
        "colab": {
          "base_uri": "https://localhost:8080/"
        },
        "id": "3T3LvlS_javm",
        "outputId": "cc1fd288-65e7-41a8-a513-1987b2874129"
      },
      "outputs": [
        {
          "output_type": "execute_result",
          "data": {
            "text/plain": [
              "1000000"
            ]
          },
          "metadata": {},
          "execution_count": 54
        }
      ],
      "source": [
        "1_000_000 # for big numbers you can type like this and _ will be ignored\n"
      ]
    },
    {
      "cell_type": "code",
      "execution_count": null,
      "metadata": {
        "colab": {
          "base_uri": "https://localhost:8080/"
        },
        "id": "99v5xbTyjavm",
        "outputId": "fea03cf3-3e15-40e8-d2e1-572e7d9ae10f"
      },
      "outputs": [
        {
          "output_type": "execute_result",
          "data": {
            "text/plain": [
              "1004"
            ]
          },
          "metadata": {},
          "execution_count": 55
        }
      ],
      "source": [
        "1_0_0_4"
      ]
    },
    {
      "cell_type": "code",
      "execution_count": null,
      "metadata": {
        "colab": {
          "base_uri": "https://localhost:8080/",
          "height": 132
        },
        "id": "JIc1aHvcjavm",
        "outputId": "7f2e4302-de56-421d-8eae-e3160d1f115e"
      },
      "outputs": [
        {
          "output_type": "error",
          "ename": "SyntaxError",
          "evalue": "ignored",
          "traceback": [
            "\u001b[0;36m  File \u001b[0;32m\"<ipython-input-56-7c6292c2a1a7>\"\u001b[0;36m, line \u001b[0;32m1\u001b[0m\n\u001b[0;31m    1 000 000 # this will not work\u001b[0m\n\u001b[0m      ^\u001b[0m\n\u001b[0;31mSyntaxError\u001b[0m\u001b[0;31m:\u001b[0m invalid syntax\n"
          ]
        }
      ],
      "source": [
        "1 000 000 # this will not work"
      ]
    },
    {
      "cell_type": "markdown",
      "source": [
        "## Logical Disjunction\n"
      ],
      "metadata": {
        "id": "wMsSVoG1sMIj"
      }
    },
    {
      "cell_type": "code",
      "execution_count": null,
      "metadata": {
        "id": "812ydDK_javn"
      },
      "outputs": [],
      "source": [
        "# logical or, one side should be true for the whole expression to be true"
      ]
    },
    {
      "cell_type": "code",
      "execution_count": 46,
      "metadata": {
        "colab": {
          "base_uri": "https://localhost:8080/"
        },
        "id": "ZC-u-sZYjavn",
        "outputId": "84b45ffe-07a2-4708-a564-f572f28e6ccb"
      },
      "outputs": [
        {
          "output_type": "execute_result",
          "data": {
            "text/plain": [
              "True"
            ]
          },
          "metadata": {},
          "execution_count": 46
        }
      ],
      "source": [
        "True or False"
      ]
    },
    {
      "cell_type": "code",
      "execution_count": 47,
      "metadata": {
        "colab": {
          "base_uri": "https://localhost:8080/"
        },
        "id": "8uyaYOpxjavn",
        "outputId": "8a72936c-02f2-4dc1-eeb6-6ccf6d7ffd3c"
      },
      "outputs": [
        {
          "output_type": "execute_result",
          "data": {
            "text/plain": [
              "True"
            ]
          },
          "metadata": {},
          "execution_count": 47
        }
      ],
      "source": [
        "True or True"
      ]
    },
    {
      "cell_type": "code",
      "execution_count": 48,
      "metadata": {
        "colab": {
          "base_uri": "https://localhost:8080/"
        },
        "id": "gt4-DE7Tjavn",
        "outputId": "266063b1-a200-417c-fd86-4518f7580293"
      },
      "outputs": [
        {
          "output_type": "execute_result",
          "data": {
            "text/plain": [
              "True"
            ]
          },
          "metadata": {},
          "execution_count": 48
        }
      ],
      "source": [
        "False or True"
      ]
    },
    {
      "cell_type": "code",
      "execution_count": 49,
      "metadata": {
        "colab": {
          "base_uri": "https://localhost:8080/"
        },
        "id": "8Ml-sWwdjavn",
        "outputId": "d5a6772f-d424-4cb9-c590-4eaf971fda01"
      },
      "outputs": [
        {
          "output_type": "execute_result",
          "data": {
            "text/plain": [
              "False"
            ]
          },
          "metadata": {},
          "execution_count": 49
        }
      ],
      "source": [
        "False or False  # only or which will be false"
      ]
    },
    {
      "cell_type": "markdown",
      "source": [
        "### Lazy Evaluation for disjunction (or)"
      ],
      "metadata": {
        "id": "8RGDlBVmsgbp"
      }
    },
    {
      "cell_type": "code",
      "execution_count": 50,
      "metadata": {
        "colab": {
          "base_uri": "https://localhost:8080/"
        },
        "id": "h8Z5DCRrjavn",
        "outputId": "5320ad14-4c10-47cf-e952-aee65f6902e8"
      },
      "outputs": [
        {
          "output_type": "execute_result",
          "data": {
            "text/plain": [
              "True"
            ]
          },
          "metadata": {},
          "execution_count": 50
        }
      ],
      "source": [
        "# as soon as you get something True in a longer chain or or statements we get a True statement\n",
        "False or True or True or 2*2 == 4 # Python stops checking after first True\n"
      ]
    },
    {
      "cell_type": "code",
      "execution_count": 51,
      "metadata": {
        "id": "5QmH9lfejavn",
        "outputId": "c5acfef5-93af-494c-a1f7-10bbbcec997c",
        "colab": {
          "base_uri": "https://localhost:8080/"
        }
      },
      "outputs": [
        {
          "output_type": "execute_result",
          "data": {
            "text/plain": [
              "True"
            ]
          },
          "metadata": {},
          "execution_count": 51
        }
      ],
      "source": [
        "#lazy evaluation\n",
        "(4 == 4 or 4 < 3) or 4 < 3"
      ]
    },
    {
      "cell_type": "code",
      "source": [
        "5/0  # throws a ZeroDivisionError"
      ],
      "metadata": {
        "colab": {
          "base_uri": "https://localhost:8080/",
          "height": 141
        },
        "id": "8a4XKrOFsurT",
        "outputId": "b30c3498-a73a-4f5c-dfab-89183a62e134"
      },
      "execution_count": 52,
      "outputs": [
        {
          "output_type": "error",
          "ename": "ZeroDivisionError",
          "evalue": "division by zero",
          "traceback": [
            "\u001b[0;31m---------------------------------------------------------------------------\u001b[0m",
            "\u001b[0;31mZeroDivisionError\u001b[0m                         Traceback (most recent call last)",
            "\u001b[0;32m<ipython-input-52-c67949db27a3>\u001b[0m in \u001b[0;36m<cell line: 1>\u001b[0;34m()\u001b[0m\n\u001b[0;32m----> 1\u001b[0;31m \u001b[0;36m5\u001b[0m\u001b[0;34m/\u001b[0m\u001b[0;36m0\u001b[0m  \u001b[0;31m# throws a ZeroDivisionError\u001b[0m\u001b[0;34m\u001b[0m\u001b[0;34m\u001b[0m\u001b[0m\n\u001b[0m",
            "\u001b[0;31mZeroDivisionError\u001b[0m: division by zero"
          ]
        }
      ]
    },
    {
      "cell_type": "code",
      "source": [
        "my_zero = 0\n",
        "my_zero != 0 and 100/my_zero # so 2nd part will not work"
      ],
      "metadata": {
        "colab": {
          "base_uri": "https://localhost:8080/"
        },
        "id": "N3OfsRqZs2d8",
        "outputId": "316c5893-4a84-4266-9e84-576726d135fe"
      },
      "execution_count": 54,
      "outputs": [
        {
          "output_type": "execute_result",
          "data": {
            "text/plain": [
              "False"
            ]
          },
          "metadata": {},
          "execution_count": 54
        }
      ]
    },
    {
      "cell_type": "code",
      "execution_count": null,
      "metadata": {
        "colab": {
          "base_uri": "https://localhost:8080/"
        },
        "id": "BhmSKvMUjavn",
        "outputId": "1ae0bbdb-e51e-4105-f36b-843027cf5553"
      },
      "outputs": [
        {
          "output_type": "execute_result",
          "data": {
            "text/plain": [
              "False"
            ]
          },
          "metadata": {},
          "execution_count": 64
        }
      ],
      "source": [
        "not 4 == 4 # so we invert True"
      ]
    },
    {
      "cell_type": "markdown",
      "source": [
        "# Longer Comparison shorter syntax"
      ],
      "metadata": {
        "id": "qhck857JtPs4"
      }
    },
    {
      "cell_type": "code",
      "source": [
        "# you can compare\n",
        "1 < a < 3 < b < 5 < 10 # true because a and b are 2 and 4 respectively here"
      ],
      "metadata": {
        "colab": {
          "base_uri": "https://localhost:8080/"
        },
        "id": "qN3Ry5VDtLUu",
        "outputId": "9aa952af-dd10-4c60-cb1f-a184e962043d"
      },
      "execution_count": null,
      "outputs": [
        {
          "output_type": "execute_result",
          "data": {
            "text/plain": [
              "True"
            ]
          },
          "metadata": {},
          "execution_count": 65
        }
      ]
    },
    {
      "cell_type": "code",
      "source": [
        "# the above would can be written as follows ( most languages require this approach but Python offers the above shorter way)\n",
        "1 < a and a < 3 and 3 < b and b < 5 and 5 < 10"
      ],
      "metadata": {
        "colab": {
          "base_uri": "https://localhost:8080/"
        },
        "id": "nsAEa7W3tZgm",
        "outputId": "ec420579-599c-4f62-c735-b85164003c85"
      },
      "execution_count": null,
      "outputs": [
        {
          "output_type": "execute_result",
          "data": {
            "text/plain": [
              "True"
            ]
          },
          "metadata": {},
          "execution_count": 66
        }
      ]
    },
    {
      "cell_type": "markdown",
      "metadata": {
        "id": "uA-JxDF0javo"
      },
      "source": [
        "## Bit Operators"
      ]
    },
    {
      "cell_type": "code",
      "execution_count": null,
      "metadata": {
        "id": "Vzj3hHK-javo"
      },
      "outputs": [],
      "source": [
        "# this is for hardware engineers, automechanics, maybe Raspberry Pi owners\n",
        "~0"
      ]
    },
    {
      "cell_type": "code",
      "execution_count": null,
      "metadata": {
        "id": "plr2ZDrdjavo"
      },
      "outputs": [],
      "source": [
        "~1"
      ]
    },
    {
      "cell_type": "code",
      "execution_count": null,
      "metadata": {
        "id": "YRpX2SwBjavo"
      },
      "outputs": [],
      "source": [
        "~0"
      ]
    },
    {
      "cell_type": "code",
      "execution_count": null,
      "metadata": {
        "id": "e9DATNLRjavp"
      },
      "outputs": [],
      "source": [
        "bin(4)"
      ]
    },
    {
      "cell_type": "code",
      "execution_count": null,
      "metadata": {
        "id": "QZ0SHE74javp"
      },
      "outputs": [],
      "source": [
        "bin(7)"
      ]
    },
    {
      "cell_type": "code",
      "execution_count": null,
      "metadata": {
        "id": "3Yoxe5AAjavp"
      },
      "outputs": [],
      "source": [
        "bin(-1)"
      ]
    },
    {
      "cell_type": "code",
      "execution_count": null,
      "metadata": {
        "id": "P_IJ9m8Ojavp"
      },
      "outputs": [],
      "source": [
        "# bit operation 11 and 100 so no bits so we get 000\n",
        "3 & 4"
      ]
    },
    {
      "cell_type": "code",
      "execution_count": null,
      "metadata": {
        "id": "MJaNdN18javp"
      },
      "outputs": [],
      "source": [
        "3 & 5 # 11 and 101 so we should get 001 that is 1"
      ]
    },
    {
      "cell_type": "code",
      "execution_count": null,
      "metadata": {
        "id": "9ClQCyWQjavp"
      },
      "outputs": [],
      "source": [
        "2**8 # THIS MEANS that one byte can hold 256 different values"
      ]
    },
    {
      "cell_type": "code",
      "execution_count": null,
      "metadata": {
        "id": "-OtyRomtjavq"
      },
      "outputs": [],
      "source": [
        "bin(255),bin(3),bin(4),bin(5),bin(6),bin(7)\n"
      ]
    },
    {
      "cell_type": "code",
      "execution_count": null,
      "metadata": {
        "id": "n7VQd0J3javq"
      },
      "outputs": [],
      "source": [
        "bin(127), bin(128)"
      ]
    },
    {
      "cell_type": "code",
      "execution_count": null,
      "metadata": {
        "id": "t5MN9dGyjavq"
      },
      "outputs": [],
      "source": [
        "1+2**1+2**2+2**3+2**4, bin(31)"
      ]
    },
    {
      "cell_type": "code",
      "execution_count": null,
      "metadata": {
        "id": "znE6d2nJjavq"
      },
      "outputs": [],
      "source": [
        "bin(3)"
      ]
    },
    {
      "cell_type": "code",
      "execution_count": null,
      "metadata": {
        "id": "iwMJyplGjavq"
      },
      "outputs": [],
      "source": [
        "bin(4)"
      ]
    },
    {
      "cell_type": "code",
      "execution_count": null,
      "metadata": {
        "id": "EB1JYSxnjavq"
      },
      "outputs": [],
      "source": [
        "# bit or will be 11 or 100 should be 111\n",
        "3 | 4"
      ]
    },
    {
      "cell_type": "code",
      "execution_count": null,
      "metadata": {
        "id": "eI0NAa1Ojavr"
      },
      "outputs": [],
      "source": [
        "# Bitwise XOR (Exclusive XOR)\n",
        "True ^ False"
      ]
    },
    {
      "cell_type": "code",
      "execution_count": null,
      "metadata": {
        "id": "cUjU_xlRjavr"
      },
      "outputs": [],
      "source": [
        "True ^ True"
      ]
    },
    {
      "cell_type": "code",
      "execution_count": null,
      "metadata": {
        "id": "GWthKTHLjavr"
      },
      "outputs": [],
      "source": [
        "False ^ False"
      ]
    },
    {
      "cell_type": "code",
      "execution_count": null,
      "metadata": {
        "id": "eKOaB6ihjavr"
      },
      "outputs": [],
      "source": [
        "# shifted 1 to 100000 which is 32, 2 to the 5th power\n",
        "1 << 5"
      ]
    },
    {
      "cell_type": "code",
      "execution_count": null,
      "metadata": {
        "id": "QwwtyBHRjavr"
      },
      "outputs": [],
      "source": [
        "bin(32)"
      ]
    },
    {
      "cell_type": "code",
      "execution_count": null,
      "metadata": {
        "id": "NuhxADlnjavr"
      },
      "outputs": [],
      "source": [
        "127 >> 4"
      ]
    },
    {
      "cell_type": "code",
      "execution_count": null,
      "metadata": {
        "id": "bNuRNTV-javs"
      },
      "outputs": [],
      "source": []
    },
    {
      "cell_type": "code",
      "execution_count": null,
      "metadata": {
        "id": "vmQdNl4Gjavs"
      },
      "outputs": [],
      "source": [
        "bin(127)"
      ]
    },
    {
      "cell_type": "markdown",
      "metadata": {
        "id": "33J0zPSXjavs"
      },
      "source": [
        "## If Statement"
      ]
    },
    {
      "cell_type": "code",
      "execution_count": 55,
      "metadata": {
        "colab": {
          "base_uri": "https://localhost:8080/"
        },
        "id": "7n5rJX6Cjavs",
        "outputId": "164f7acf-5542-4171-f54f-cf5710c5cdce"
      },
      "outputs": [
        {
          "output_type": "stream",
          "name": "stdout",
          "text": [
            "6 is larger than 5 wow!\n"
          ]
        }
      ],
      "source": [
        "## Conditional execution\n",
        "# if 4 is larger than 5 then do something\n",
        "\n",
        "if 6 > 5:\n",
        "    print(\"6 is larger than 5 wow!\")"
      ]
    },
    {
      "cell_type": "code",
      "execution_count": 57,
      "metadata": {
        "colab": {
          "base_uri": "https://localhost:8080/"
        },
        "id": "o8Yiz7DIjavs",
        "outputId": "22565af2-dc1e-4e9d-b3fd-f46d87cd4372"
      },
      "outputs": [
        {
          "output_type": "stream",
          "name": "stdout",
          "text": [
            "10 is larger than 5 wow!\n",
            "Only when if is true\n",
            "This will always run\n"
          ]
        }
      ],
      "source": [
        "## Conditional execution\n",
        "# if 4 is larger than 5 then do something\n",
        "# typically we will have at least one side be a variable\n",
        "my_val = 10 # imagine this comes from earlier in program or user input or file\n",
        "if my_val > 5:\n",
        "    # so we have code block when if is true\n",
        "    # in Python colon - : will indicate start of indented block (not only for if but other statement)\n",
        "    # many other languages use {} in Python we use whitespace\n",
        "    # typically it is going to be 4 spaces, most editors will automatically convert tabs to 4 spaces\n",
        "    # some people prefer 2 or 8 but most use 4\n",
        "    print(f\"{my_val} is larger than 5 wow!\")\n",
        "    # only runs when if statement is true\n",
        "    print(\"Only when if is true\")\n",
        "    # if block ends when indentation returns to normal\n",
        "print(\"This will always run\")  #notice the lack of indentation"
      ]
    },
    {
      "cell_type": "code",
      "execution_count": 58,
      "metadata": {
        "colab": {
          "base_uri": "https://localhost:8080/"
        },
        "id": "s7ycTGBbjavs",
        "outputId": "aad2dcb5-3484-4f91-a1a9-3dda3705b29d"
      },
      "outputs": [
        {
          "output_type": "stream",
          "name": "stdout",
          "text": [
            "hello\n",
            "hello\n",
            "hello thats not magic\n"
          ]
        }
      ],
      "source": [
        "# the next 4 if statements are not related to each other\n",
        "if 5 >= 5:\n",
        "    print(\"hello\")\n",
        "if 5 <= 5:\n",
        "    print(\"hello\")\n",
        "if 5 == 6:\n",
        "    print(\"hello thats magic\")\n",
        "if 5 != 6:\n",
        "    print(\"hello thats not magic\")"
      ]
    },
    {
      "cell_type": "code",
      "execution_count": 59,
      "metadata": {
        "colab": {
          "base_uri": "https://localhost:8080/"
        },
        "id": "D3oOAGcrjavs",
        "outputId": "753bab4e-f28d-4404-fd0d-426c221f1571"
      },
      "outputs": [
        {
          "output_type": "stream",
          "name": "stdout",
          "text": [
            "Do one thing if if is True\n",
            "DO more things if if is True\n",
            "Do this always\n"
          ]
        }
      ],
      "source": [
        "if 2*2 == 4:\n",
        "    print(\"Do one thing if if is True\")\n",
        "    print(\"DO more things if if is True\")\n",
        "    # we can write as many things to be done as needed\n",
        "print(\"Do this always\")"
      ]
    },
    {
      "cell_type": "code",
      "execution_count": 60,
      "metadata": {
        "colab": {
          "base_uri": "https://localhost:8080/"
        },
        "id": "lGEV5pbNjavs",
        "outputId": "071effe3-b8b9-4dcb-a236-22a23a5067f1"
      },
      "outputs": [
        {
          "output_type": "stream",
          "name": "stdout",
          "text": [
            "Do one thing if if is True\n",
            "DO more things if if is True\n",
            "Do more\n",
            "Do this always\n"
          ]
        }
      ],
      "source": [
        "a = 4\n",
        "if 2*2 == a:\n",
        "    print(\"Do one thing if if is True\")\n",
        "    print(\"DO more things if if is True\")\n",
        "\n",
        "    # you can leave empty rows code will still work\n",
        "    print(\"Do more\")\n",
        "print(\"Do this always\")"
      ]
    },
    {
      "cell_type": "code",
      "execution_count": null,
      "metadata": {
        "colab": {
          "base_uri": "https://localhost:8080/"
        },
        "id": "tc2VxMA4javt",
        "outputId": "ec7f97ea-1240-422a-e1fb-4561cb056eaa"
      },
      "outputs": [
        {
          "output_type": "stream",
          "name": "stdout",
          "text": [
            "Do one thing if if is True\n",
            "DO more things if if is True\n",
            "Do more when a > 3\n",
            "a is larger than 3\n",
            "Do this always\n"
          ]
        }
      ],
      "source": [
        "# we can nest multiple if statements\n",
        "a = 4\n",
        "if 2*2 == a:\n",
        "    print(\"Do one thing if if is True\")\n",
        "    print(\"DO more things if if is True\")\n",
        "\n",
        "    if (a > 3):\n",
        "        print(\"Do more when a > 3\")\n",
        "\n",
        "# unrelated if statement to previous\n",
        "if (a > 3):\n",
        "    print(\"a is larger than 3\")\n",
        "# Last line will always be printed\n",
        "print(\"Do this always\")"
      ]
    },
    {
      "cell_type": "code",
      "execution_count": 61,
      "metadata": {
        "colab": {
          "base_uri": "https://localhost:8080/"
        },
        "id": "vauyfl8-javt",
        "outputId": "7e7d31ce-5ff2-497b-b4e5-d711660c1a6f"
      },
      "outputs": [
        {
          "output_type": "stream",
          "name": "stdout",
          "text": [
            "What is your age 45\n",
            "Your age is  45\n"
          ]
        }
      ],
      "source": [
        "a = input(\"What is your age \")\n",
        "print('Your age is ', a)"
      ]
    },
    {
      "cell_type": "code",
      "execution_count": 63,
      "metadata": {
        "colab": {
          "base_uri": "https://localhost:8080/"
        },
        "id": "dSnobc64javt",
        "outputId": "e9890c58-641b-4fcb-9d32-4714c6a70b07"
      },
      "outputs": [
        {
          "output_type": "stream",
          "name": "stdout",
          "text": [
            "Enter temperature in Celsius 100\n",
            "Farenheit Temperature is 212.0\n"
          ]
        }
      ],
      "source": [
        "c = float(input(\"Enter temperature in Celsius \"))\n",
        "f = c * 9/5 + 32\n",
        "print(\"Farenheit Temperature is\", round(f,2)) # we using round to 2 decimals because floats are imprecise"
      ]
    },
    {
      "cell_type": "code",
      "execution_count": 65,
      "metadata": {
        "colab": {
          "base_uri": "https://localhost:8080/"
        },
        "id": "xen8tgDdjavt",
        "outputId": "f7fda12c-154c-4605-9d51-741fb5ec856e"
      },
      "outputs": [
        {
          "output_type": "stream",
          "name": "stdout",
          "text": [
            "Enter temperature in Celsius 37.9\n",
            "Farenheit Temperature is 100.22\n",
            "You are too hot, find a doctor?\n",
            "Your temperature is 100.22\n"
          ]
        }
      ],
      "source": [
        "c = float(input(\"Enter temperature in Celsius \"))\n",
        "f = c * 9/5 + 32\n",
        "f = round(f, 2) # we could have added round on the previous row as well\n",
        "print(\"Farenheit Temperature is\", f)\n",
        "if f > 100:\n",
        "    print(\"You are too hot, find a doctor?\")\n",
        "    print(f\"Your temperature is {f}\")"
      ]
    },
    {
      "cell_type": "code",
      "execution_count": null,
      "metadata": {
        "colab": {
          "base_uri": "https://localhost:8080/"
        },
        "id": "-PYDz7Rljavt",
        "outputId": "0eb135bf-f5e5-442c-d596-8fd0bfac1fba"
      },
      "outputs": [
        {
          "output_type": "stream",
          "name": "stdout",
          "text": [
            "Variable   Type     Data/Info\n",
            "-----------------------------\n",
            "a          str      45\n",
            "b          int      4\n",
            "c          float    38.8\n",
            "f          float    101.84\n",
            "is_hot     bool     True\n",
            "my_val     int      10\n",
            "my_zero    int      0\n"
          ]
        }
      ],
      "source": [
        "# Show all current local variables\n",
        "%whos"
      ]
    },
    {
      "cell_type": "code",
      "execution_count": null,
      "metadata": {
        "id": "uowSz8yZjavt"
      },
      "outputs": [],
      "source": [
        "%store"
      ]
    },
    {
      "cell_type": "code",
      "execution_count": null,
      "metadata": {
        "id": "y0UhW1ZSjavt"
      },
      "outputs": [],
      "source": [
        "a = 5\n",
        "b = \"Food\""
      ]
    },
    {
      "cell_type": "code",
      "execution_count": null,
      "metadata": {
        "id": "lffH33OFjavt"
      },
      "outputs": [],
      "source": [
        "%whos"
      ]
    },
    {
      "cell_type": "code",
      "execution_count": null,
      "metadata": {
        "id": "NJc8R-jgjavu"
      },
      "outputs": [],
      "source": [
        "%store a"
      ]
    },
    {
      "cell_type": "code",
      "execution_count": null,
      "metadata": {
        "id": "ubpgcK2mjavu"
      },
      "outputs": [],
      "source": [
        "%whos"
      ]
    },
    {
      "cell_type": "code",
      "execution_count": null,
      "metadata": {
        "id": "M6kQF18Cjavu"
      },
      "outputs": [],
      "source": [
        "%store"
      ]
    },
    {
      "cell_type": "code",
      "execution_count": null,
      "metadata": {
        "id": "aoBQxADYjavu"
      },
      "outputs": [],
      "source": [
        "#Retrieve variables from disk\n",
        "%store -r"
      ]
    },
    {
      "cell_type": "code",
      "execution_count": null,
      "metadata": {
        "id": "clTlz0tajavu"
      },
      "outputs": [],
      "source": [
        "%whos"
      ]
    },
    {
      "cell_type": "code",
      "execution_count": null,
      "metadata": {
        "id": "a0CWO8gEjavu"
      },
      "outputs": [],
      "source": [
        "%store b"
      ]
    },
    {
      "cell_type": "code",
      "execution_count": null,
      "metadata": {
        "id": "43Wselvbjavu"
      },
      "outputs": [],
      "source": [
        "%store -r b"
      ]
    },
    {
      "cell_type": "code",
      "execution_count": null,
      "metadata": {
        "id": "eFRVVz9zjavu"
      },
      "outputs": [],
      "source": [
        "b"
      ]
    },
    {
      "cell_type": "code",
      "execution_count": null,
      "metadata": {
        "id": "NdoGyeXzjavu"
      },
      "outputs": [],
      "source": [
        "%store -r a"
      ]
    },
    {
      "cell_type": "markdown",
      "source": [
        "## Else in if statements\n",
        "\n",
        "Big idea: we need to do exactly one choice depending on some logical statement\n",
        "\n",
        "If else can help us clarify code and avoid bugs(errors).\n",
        "\n",
        "https://www.poetryfoundation.org/poems/44272/the-road-not-taken\n",
        "\n",
        "![TwoRoads](https://live.staticflickr.com/8186/8142976745_c43ce93805_b.jpg)\n",
        "\n",
        "License: https://creativecommons.org/licenses/by-nc-sa/2.0/"
      ],
      "metadata": {
        "id": "Vj_S5sSJyibE"
      }
    },
    {
      "cell_type": "code",
      "execution_count": 69,
      "metadata": {
        "id": "OjC_5OWrjavu",
        "outputId": "5d86dbe9-2653-4a7e-8880-dc068a843ef7",
        "colab": {
          "base_uri": "https://localhost:8080/"
        }
      },
      "outputs": [
        {
          "output_type": "stream",
          "name": "stdout",
          "text": [
            "a is NOT larger than 5\n",
            "a is actually 2\n",
            "Always print this\n"
          ]
        }
      ],
      "source": [
        "a = 5\n",
        "a = 5.1\n",
        "a = 2\n",
        "if a > 5:\n",
        "    print('a is larger than 5')\n",
        "    # do more stuff\n",
        "else: # so here this means a <= b\n",
        "    print('a is NOT larger than 5')\n",
        "    # do more stuff if a is not larger than 5\n",
        "print(f\"a is actually {a}\")\n",
        "print(\"Always print this\")"
      ]
    },
    {
      "cell_type": "code",
      "source": [
        "# if you have like in the fairy tales 3 or more choices\n",
        "# then you will need to use elif in middle of if else chain"
      ],
      "metadata": {
        "id": "XswafI5CzeXV"
      },
      "execution_count": null,
      "outputs": []
    },
    {
      "cell_type": "markdown",
      "source": [
        "![Sherlock](https://upload.wikimedia.org/wikipedia/commons/9/9e/Sherlock_Holmes_-_The_Man_with_the_Twisted_Lip_%28colored%29.jpg)\n",
        "\n",
        "How often have I said to you that when you have eliminated the impossible, whatever remains, however improbable, must be the truth?"
      ],
      "metadata": {
        "id": "0CYsgOb40U2T"
      }
    },
    {
      "cell_type": "code",
      "source": [],
      "metadata": {
        "id": "g90gixx90UM2"
      },
      "execution_count": null,
      "outputs": []
    },
    {
      "cell_type": "code",
      "execution_count": 72,
      "metadata": {
        "colab": {
          "base_uri": "https://localhost:8080/"
        },
        "id": "0rxbLn8zjavv",
        "outputId": "4b50c957-f720-48c8-b738-acaf72a1b073"
      },
      "outputs": [
        {
          "output_type": "stream",
          "name": "stdout",
          "text": [
            "Enter an integer please! 42\n",
            "That is the answer to everything!\n",
            "Your number is 42\n"
          ]
        }
      ],
      "source": [
        "#elif comes from else if\n",
        "x = int(input(\"Enter an integer please! \"))\n",
        "if x > 42:\n",
        "    print(\"Too ambitious an answer!\")\n",
        "elif x < 42: # elif stands for else if (Python uses elif)\n",
        "    print(\"You dream too little!\")\n",
        "else: # so x>42 was false, x<42 was false, this leave only x == 42\n",
        "    print(\"That is the answer to everything!\")\n",
        "#These lines below will execute always\n",
        "print('Your number is', x)"
      ]
    },
    {
      "cell_type": "code",
      "source": [
        "# you can do longer if else chains\n",
        "# order of checking matters!\n",
        "a = 5000\n",
        "a = 0\n",
        "if a > 1000:\n",
        "    print(f\"A is truly big {a}\")\n",
        "elif a > 100: # here you know a is 1000 or less possibly much less\n",
        "    print(f\"A is pretty big over 100 but not more than 1000 {a}\")\n",
        "elif a > 0: # here you know a is 100 or less\n",
        "    print(f\"Well a is at least positive between 1 and 100 -> {a}\")\n",
        "elif a < 0: # here you know a 0 or less\n",
        "    print(f\"Looks like we got a negative here {a}\")\n",
        "else: # again only 0 remains as the value not covered by previous chain\n",
        "    print(f\"A must be zero! {a}\")"
      ],
      "metadata": {
        "id": "ql2ndukd0hB7",
        "outputId": "d583010f-94ec-4be6-a5bd-e12dde638a6e",
        "colab": {
          "base_uri": "https://localhost:8080/"
        }
      },
      "execution_count": 73,
      "outputs": [
        {
          "output_type": "stream",
          "name": "stdout",
          "text": [
            "A must be zero! 0\n"
          ]
        }
      ]
    },
    {
      "cell_type": "markdown",
      "source": [
        "## Pattern matching in Python 3.10 and on\n",
        "\n",
        "People got tired of writing long if elif elif .... elif chains\n",
        "\n",
        "Many other languages had a construction such as switch..case or when...\n",
        "Or some other pattern matching method\n",
        "\n",
        "So Python in 3.10 introduced their own pattern matching\n",
        "https://peps.python.org/pep-0622/#matching-process\n",
        "\n",
        "```\n",
        "match number:\n",
        "    case 0:\n",
        "        print(\"Nothing\")\n",
        "    case 1:\n",
        "        print(\"Just one\")\n",
        "    case 2:\n",
        "        print(\"A couple\")\n",
        "    case -1:\n",
        "        print(\"One less than nothing\")\n",
        "    case 1-1j:\n",
        "        print(\"Good luck with that...\")\n",
        "```\n",
        "\n",
        "At the time Google Colab offers Python 3.8 so will need to wait a few months/years.\n",
        "You can install Python locally from https://python.org . Python versions 3.10 or later that will have this feature"
      ],
      "metadata": {
        "id": "msjetKHp1fdh"
      }
    },
    {
      "cell_type": "code",
      "source": [
        "!python --version"
      ],
      "metadata": {
        "id": "AJshUxg31bZD",
        "outputId": "a97dc006-dcef-4ab5-dce3-7a3fa42958eb",
        "colab": {
          "base_uri": "https://localhost:8080/"
        }
      },
      "execution_count": 74,
      "outputs": [
        {
          "output_type": "stream",
          "name": "stdout",
          "text": [
            "Python 3.10.12\n"
          ]
        }
      ]
    },
    {
      "cell_type": "code",
      "source": [
        "# prompt: Let's use new pattern matching syntax to check for human temperature, and respond with appropriate guidance.\n",
        "\n",
        "def check_temperature(temperature):\n",
        "  match temperature:\n",
        "    case temp if temp < 35:\n",
        "      print(\"Your temperature is too low, seek medical attention.\")\n",
        "    case temp if temp < 37:\n",
        "      print(\"Your temperature is normal.\")\n",
        "    case temp if temp < 38:\n",
        "      print(\"Your temperature is slightly elevated, monitor closely.\")\n",
        "    case temp if temp < 39:\n",
        "      print(\"You have a mild fever, rest and hydrate.\")\n",
        "    case temp if temp < 40:\n",
        "      print(\"You have a moderate fever, consult a doctor.\")\n",
        "    case temp if temp >= 40:\n",
        "      print(\"You have a high fever, seek immediate medical attention.\")\n",
        "    case _: # so called default case\n",
        "      print(\"Invalid temperature input.\")\n",
        "\n",
        "# Example usage\n",
        "temperature = float(input(\"Enter your temperature in Celsius: \"))\n",
        "check_temperature(temperature)\n"
      ],
      "metadata": {
        "id": "yMOvkEReurf8",
        "outputId": "e768b490-700e-45d5-da52-9663dfe915da",
        "colab": {
          "base_uri": "https://localhost:8080/"
        }
      },
      "execution_count": 75,
      "outputs": [
        {
          "output_type": "stream",
          "name": "stdout",
          "text": [
            "Enter your temperature in Celsius: 37.8\n",
            "Your temperature is slightly elevated, monitor closely.\n"
          ]
        }
      ]
    },
    {
      "cell_type": "code",
      "source": [
        "# prompt: Let's use pattern matching to transform digit to English strings like 0 to \"one\" and so on.\n",
        "\n",
        "def digit_to_english(digit):\n",
        "  match digit:\n",
        "    case 0:\n",
        "      return \"zero\"\n",
        "    case 1:\n",
        "      return \"one\"\n",
        "    case 2:\n",
        "      return \"two\"\n",
        "    case 3:\n",
        "      return \"three\"\n",
        "    case 4:\n",
        "      return \"four\"\n",
        "    case 5:\n",
        "      return \"five\"\n",
        "    case 6:\n",
        "      return \"six\"\n",
        "    case 7:\n",
        "      return \"seven\"\n",
        "    case 8:\n",
        "      return \"eight\"\n",
        "    case 9:\n",
        "      return \"nine\"\n",
        "    case _:\n",
        "      return \"Invalid digit\"\n",
        "\n",
        "# Example usage\n",
        "digit = int(input(\"Enter a digit (0-9): \"))\n",
        "english_word = digit_to_english(digit)\n",
        "print(f\"The English word for {digit} is {english_word}\")\n"
      ],
      "metadata": {
        "id": "enfMVRwgvqiG",
        "outputId": "5b0eca42-ba73-4fbb-9756-e2a14b40a697",
        "colab": {
          "base_uri": "https://localhost:8080/"
        }
      },
      "execution_count": 78,
      "outputs": [
        {
          "output_type": "stream",
          "name": "stdout",
          "text": [
            "Enter a digit (0-9): 9000\n",
            "The English word for 9000 is Invalid digit\n"
          ]
        }
      ]
    }
  ],
  "metadata": {
    "kernelspec": {
      "display_name": "Python 3",
      "language": "python",
      "name": "python3"
    },
    "language_info": {
      "codemirror_mode": {
        "name": "ipython",
        "version": 3
      },
      "file_extension": ".py",
      "mimetype": "text/x-python",
      "name": "python",
      "nbconvert_exporter": "python",
      "pygments_lexer": "ipython3",
      "version": "3.7.3"
    },
    "colab": {
      "provenance": [],
      "toc_visible": true
    }
  },
  "nbformat": 4,
  "nbformat_minor": 0
}