{
  "cells": [
    {
      "cell_type": "markdown",
      "metadata": {
        "id": "9UWFtzoMdmfS"
      },
      "source": [
        "# RTU Lists\n",
        "## Useful Jupyter Commands\n"
      ]
    },
    {
      "cell_type": "markdown",
      "metadata": {
        "id": "HS7cmd4mdmfW"
      },
      "source": [
        "## Python Lists\n",
        "\n",
        "* Ordered\n",
        "* Mutable(can change individual members!)\n",
        "* Dynamic size - can change the size of the list itself\n",
        "* Comma separated between brackets [1,3,2,5,6,2]\n",
        "* Can have duplicates\n",
        "* Can be nested"
      ]
    },
    {
      "cell_type": "code",
      "execution_count": 1,
      "metadata": {
        "colab": {
          "base_uri": "https://localhost:8080/"
        },
        "id": "RgdraD0udmfX",
        "outputId": "b60c2790-a257-4349-b7ff-c34e9af5249f"
      },
      "outputs": [
        {
          "output_type": "stream",
          "name": "stdout",
          "text": [
            "['Bread', 'Eggs', 'Milk']\n"
          ]
        }
      ],
      "source": [
        "groceries=['Bread','Eggs','Milk']\n",
        "print(groceries)"
      ]
    },
    {
      "cell_type": "code",
      "execution_count": 2,
      "metadata": {
        "colab": {
          "base_uri": "https://localhost:8080/"
        },
        "id": "L5ZlB9e6dmfY",
        "outputId": "494c6145-300e-43cd-bc1b-c9bb133aabd5"
      },
      "outputs": [
        {
          "output_type": "execute_result",
          "data": {
            "text/plain": [
              "list"
            ]
          },
          "metadata": {},
          "execution_count": 2
        }
      ],
      "source": [
        "type(groceries)"
      ]
    },
    {
      "cell_type": "code",
      "execution_count": 3,
      "metadata": {
        "colab": {
          "base_uri": "https://localhost:8080/"
        },
        "id": "p44PffLKdmfZ",
        "outputId": "61a1d1f7-599d-42b6-aee4-0f91b177183b"
      },
      "outputs": [
        {
          "output_type": "execute_result",
          "data": {
            "text/plain": [
              "0"
            ]
          },
          "metadata": {},
          "execution_count": 3
        }
      ],
      "source": [
        "emptylist = []\n",
        "len(emptylist)"
      ]
    },
    {
      "cell_type": "code",
      "source": [
        "len(groceries)"
      ],
      "metadata": {
        "colab": {
          "base_uri": "https://localhost:8080/"
        },
        "id": "j-kjaYV7exoj",
        "outputId": "8fa1f38b-8fb5-4ffd-d08e-3c60b12386e1"
      },
      "execution_count": 4,
      "outputs": [
        {
          "output_type": "execute_result",
          "data": {
            "text/plain": [
              "3"
            ]
          },
          "metadata": {},
          "execution_count": 4
        }
      ]
    },
    {
      "cell_type": "code",
      "execution_count": 5,
      "metadata": {
        "colab": {
          "base_uri": "https://localhost:8080/"
        },
        "id": "D_L3aIkHdmfZ",
        "outputId": "9d75e8c0-0ecb-450d-b295-144e6ed7988d"
      },
      "outputs": [
        {
          "output_type": "execute_result",
          "data": {
            "text/plain": [
              "True"
            ]
          },
          "metadata": {},
          "execution_count": 5
        }
      ],
      "source": [
        "# checking for existance\n",
        "'Bread' in groceries"
      ]
    },
    {
      "cell_type": "code",
      "execution_count": 6,
      "metadata": {
        "colab": {
          "base_uri": "https://localhost:8080/"
        },
        "id": "vnM1nB_Mdmfa",
        "outputId": "3fd959f1-238a-4d2d-de3c-c08ac00a2e70"
      },
      "outputs": [
        {
          "output_type": "execute_result",
          "data": {
            "text/plain": [
              "True"
            ]
          },
          "metadata": {},
          "execution_count": 6
        }
      ],
      "source": [
        "food = \"My breadsticks\"\n",
        "\"bread\" in food"
      ]
    },
    {
      "cell_type": "code",
      "execution_count": 7,
      "metadata": {
        "colab": {
          "base_uri": "https://localhost:8080/"
        },
        "id": "cEOlUZiYdmfa",
        "outputId": "38a2ea03-0e9b-44e2-a6c0-65783a0bbeb6"
      },
      "outputs": [
        {
          "output_type": "execute_result",
          "data": {
            "text/plain": [
              "False"
            ]
          },
          "metadata": {},
          "execution_count": 7
        }
      ],
      "source": [
        "\"read\" in groceries # so when checking for existance in a list it has to an exact match, so we will need a loop to find inexact matches"
      ]
    },
    {
      "cell_type": "code",
      "execution_count": 8,
      "metadata": {
        "colab": {
          "base_uri": "https://localhost:8080/"
        },
        "id": "XRUNtZ_0dmfb",
        "outputId": "c0ac931c-73a1-406a-c418-dbd8a9686064"
      },
      "outputs": [
        {
          "output_type": "execute_result",
          "data": {
            "text/plain": [
              "False"
            ]
          },
          "metadata": {},
          "execution_count": 8
        }
      ],
      "source": [
        "'Apples'  in groceries"
      ]
    },
    {
      "cell_type": "code",
      "execution_count": 9,
      "metadata": {
        "colab": {
          "base_uri": "https://localhost:8080/"
        },
        "id": "PFN1a3Zvdmfc",
        "outputId": "834fb057-f460-4799-9b3e-1d32a2bed6c4"
      },
      "outputs": [
        {
          "output_type": "stream",
          "name": "stdout",
          "text": [
            "['V', 'a', 'l', 'd', 'i', 's']\n"
          ]
        }
      ],
      "source": [
        "# we can call a list conversion a a string (or other sequence types)\n",
        "name_list = list(\"Valdis\")\n",
        "print(name_list)"
      ]
    },
    {
      "cell_type": "code",
      "execution_count": 10,
      "metadata": {
        "colab": {
          "base_uri": "https://localhost:8080/"
        },
        "id": "aNN0wPmjdmfc",
        "outputId": "fbe04621-6f8d-4939-e8bc-b6ed7f300938"
      },
      "outputs": [
        {
          "output_type": "stream",
          "name": "stdout",
          "text": [
            "['M', 'y', ' ', 'b', 'r', 'e', 'a', 'd', 's', 't', 'i', 'c', 'k', 's']\n"
          ]
        }
      ],
      "source": [
        "print(list(food))"
      ]
    },
    {
      "cell_type": "code",
      "execution_count": 11,
      "metadata": {
        "colab": {
          "base_uri": "https://localhost:8080/",
          "height": 167
        },
        "id": "6ZkZ4XB4dmfd",
        "outputId": "fa682c13-4dc2-41b9-a0cc-d5c45e5d8808"
      },
      "outputs": [
        {
          "output_type": "error",
          "ename": "TypeError",
          "evalue": "ignored",
          "traceback": [
            "\u001b[0;31m---------------------------------------------------------------------------\u001b[0m",
            "\u001b[0;31mTypeError\u001b[0m                                 Traceback (most recent call last)",
            "\u001b[0;32m<ipython-input-11-feafda342bf6>\u001b[0m in \u001b[0;36m<module>\u001b[0;34m()\u001b[0m\n\u001b[0;32m----> 1\u001b[0;31m \u001b[0mlist\u001b[0m\u001b[0;34m(\u001b[0m\u001b[0;36m5\u001b[0m\u001b[0;34m)\u001b[0m \u001b[0;31m# this will be an error why? because 5 is not an iterable sequence\u001b[0m\u001b[0;34m\u001b[0m\u001b[0;34m\u001b[0m\u001b[0m\n\u001b[0m",
            "\u001b[0;31mTypeError\u001b[0m: 'int' object is not iterable"
          ]
        }
      ],
      "source": [
        "list(5) # this will be an error why? because 5 is not an iterable sequence"
      ]
    },
    {
      "cell_type": "code",
      "source": [
        "single_item_list = [5]\n",
        "single_item_list"
      ],
      "metadata": {
        "colab": {
          "base_uri": "https://localhost:8080/"
        },
        "id": "S2I8A3OjfTw8",
        "outputId": "c6ea2e8c-2a1b-45d9-97a7-3a0c2836a968"
      },
      "execution_count": 12,
      "outputs": [
        {
          "output_type": "execute_result",
          "data": {
            "text/plain": [
              "[5]"
            ]
          },
          "metadata": {},
          "execution_count": 12
        }
      ]
    },
    {
      "cell_type": "code",
      "execution_count": 13,
      "metadata": {
        "colab": {
          "base_uri": "https://localhost:8080/"
        },
        "id": "Ffj-zTZ2dmfd",
        "outputId": "bd1f1635-2d08-4a64-9656-40b97d52d147"
      },
      "outputs": [
        {
          "output_type": "execute_result",
          "data": {
            "text/plain": [
              "['V']"
            ]
          },
          "metadata": {},
          "execution_count": 13
        }
      ],
      "source": [
        "list(\"V\") # so we get a list with single item - string with one character"
      ]
    },
    {
      "cell_type": "code",
      "source": [
        "name_list"
      ],
      "metadata": {
        "colab": {
          "base_uri": "https://localhost:8080/"
        },
        "id": "h2tKbr7ufbBa",
        "outputId": "8247d631-0314-47d1-f6cd-9cc1c074a131"
      },
      "execution_count": 14,
      "outputs": [
        {
          "output_type": "execute_result",
          "data": {
            "text/plain": [
              "['V', 'a', 'l', 'd', 'i', 's']"
            ]
          },
          "metadata": {},
          "execution_count": 14
        }
      ]
    },
    {
      "cell_type": "code",
      "execution_count": 15,
      "metadata": {
        "colab": {
          "base_uri": "https://localhost:8080/",
          "height": 35
        },
        "id": "fVXhfbR6dmfd",
        "outputId": "a01c4ab2-54ab-4f3e-8705-fb69e5a85bc5"
      },
      "outputs": [
        {
          "output_type": "execute_result",
          "data": {
            "application/vnd.google.colaboratory.intrinsic+json": {
              "type": "string"
            },
            "text/plain": [
              "'d'"
            ]
          },
          "metadata": {},
          "execution_count": 15
        }
      ],
      "source": [
        "name_list[3] # index starts with 0 just like with strings"
      ]
    },
    {
      "cell_type": "code",
      "execution_count": 16,
      "metadata": {
        "colab": {
          "base_uri": "https://localhost:8080/"
        },
        "id": "2fM9On8Ldmfe",
        "outputId": "0eed6d9d-a3c8-43ca-aad5-d822a501a0a2"
      },
      "outputs": [
        {
          "output_type": "stream",
          "name": "stdout",
          "text": [
            "['V', 'a', 'l', 'b', 'i', 's']\n"
          ]
        }
      ],
      "source": [
        "name_list[3]='b' # unlike strings we can mutate contents of list\n",
        "print(name_list)\n"
      ]
    },
    {
      "cell_type": "code",
      "execution_count": 17,
      "metadata": {
        "colab": {
          "base_uri": "https://localhost:8080/",
          "height": 35
        },
        "id": "iM28xB5odmfe",
        "outputId": "b8982609-5e2c-4ae9-b882-67a4e096b75c"
      },
      "outputs": [
        {
          "output_type": "execute_result",
          "data": {
            "application/vnd.google.colaboratory.intrinsic+json": {
              "type": "string"
            },
            "text/plain": [
              "\"['V', 'a', 'l', 'b', 'i', 's']\""
            ]
          },
          "metadata": {},
          "execution_count": 17
        }
      ],
      "source": [
        "# this will not work as expected\n",
        "str(name_list)  # this creates a literal string out of how list looks when printed, not very useful"
      ]
    },
    {
      "cell_type": "code",
      "execution_count": 18,
      "metadata": {
        "colab": {
          "base_uri": "https://localhost:8080/",
          "height": 35
        },
        "id": "sNwX21DMdmfe",
        "outputId": "35a1c75d-a00d-4f8d-8c41-75d6a9b6f029"
      },
      "outputs": [
        {
          "output_type": "execute_result",
          "data": {
            "application/vnd.google.colaboratory.intrinsic+json": {
              "type": "string"
            },
            "text/plain": [
              "'Valbis'"
            ]
          },
          "metadata": {},
          "execution_count": 18
        }
      ],
      "source": [
        "# We can join the list back into a string \n",
        "# by using an empty string and joining our list\n",
        "\"\".join(name_list)"
      ]
    },
    {
      "cell_type": "code",
      "execution_count": 20,
      "metadata": {
        "colab": {
          "base_uri": "https://localhost:8080/",
          "height": 35
        },
        "id": "4kofNOFedmff",
        "outputId": "a0a4dc52-f9bc-4551-fda3-c90c4c608619"
      },
      "outputs": [
        {
          "output_type": "execute_result",
          "data": {
            "application/vnd.google.colaboratory.intrinsic+json": {
              "type": "string"
            },
            "text/plain": [
              "'V:|:a:|:l:|:b:|:i:|:s'"
            ]
          },
          "metadata": {},
          "execution_count": 20
        }
      ],
      "source": [
        "\":|:\".join(name_list)  #you can use any string for joining, there is a requirement that list itself contains strings"
      ]
    },
    {
      "cell_type": "code",
      "source": [
        "numbers = list(range(12)) # so this will have numbers from 0 to 11\n",
        "numbers"
      ],
      "metadata": {
        "colab": {
          "base_uri": "https://localhost:8080/"
        },
        "id": "193Jp3YtgLEY",
        "outputId": "57ab4169-1811-406d-9710-fa954acb83c7"
      },
      "execution_count": 21,
      "outputs": [
        {
          "output_type": "execute_result",
          "data": {
            "text/plain": [
              "[0, 1, 2, 3, 4, 5, 6, 7, 8, 9, 10, 11]"
            ]
          },
          "metadata": {},
          "execution_count": 21
        }
      ]
    },
    {
      "cell_type": "code",
      "source": [
        "numbers[:3] # first three"
      ],
      "metadata": {
        "colab": {
          "base_uri": "https://localhost:8080/"
        },
        "id": "fdeW0QQUgR9d",
        "outputId": "eb94e3d3-6c59-4e26-aaea-3d272f51a0f5"
      },
      "execution_count": 22,
      "outputs": [
        {
          "output_type": "execute_result",
          "data": {
            "text/plain": [
              "[0, 1, 2]"
            ]
          },
          "metadata": {},
          "execution_count": 22
        }
      ]
    },
    {
      "cell_type": "code",
      "source": [
        "numbers[-3:] # last three"
      ],
      "metadata": {
        "colab": {
          "base_uri": "https://localhost:8080/"
        },
        "id": "y30Ow7bXgVBR",
        "outputId": "bed5dcc0-cf6a-4ddd-b1fe-0da5b1395f32"
      },
      "execution_count": 23,
      "outputs": [
        {
          "output_type": "execute_result",
          "data": {
            "text/plain": [
              "[9, 10, 11]"
            ]
          },
          "metadata": {},
          "execution_count": 23
        }
      ]
    },
    {
      "cell_type": "code",
      "source": [
        "numbers[5:7]  # so item with index 7 (8th item) is NOT included"
      ],
      "metadata": {
        "colab": {
          "base_uri": "https://localhost:8080/"
        },
        "id": "FSrn2iYpgYLG",
        "outputId": "d3c25836-c47d-4037-9e21-9868ebebff43"
      },
      "execution_count": 24,
      "outputs": [
        {
          "output_type": "execute_result",
          "data": {
            "text/plain": [
              "[5, 6]"
            ]
          },
          "metadata": {},
          "execution_count": 24
        }
      ]
    },
    {
      "cell_type": "code",
      "source": [
        "reversed_numbers = numbers[::-1]\n",
        "reversed_numbers"
      ],
      "metadata": {
        "colab": {
          "base_uri": "https://localhost:8080/"
        },
        "id": "D1Ihe8-MgqHK",
        "outputId": "fc059a66-3422-43ba-f83f-7d9e4351aec3"
      },
      "execution_count": 25,
      "outputs": [
        {
          "output_type": "execute_result",
          "data": {
            "text/plain": [
              "[11, 10, 9, 8, 7, 6, 5, 4, 3, 2, 1, 0]"
            ]
          },
          "metadata": {},
          "execution_count": 25
        }
      ]
    },
    {
      "cell_type": "code",
      "source": [
        "numbers[::2] # will be every second number starting with 0"
      ],
      "metadata": {
        "colab": {
          "base_uri": "https://localhost:8080/"
        },
        "id": "UCuCV7PVgvWR",
        "outputId": "479c9652-ad94-4ebf-c3a8-780540e58122"
      },
      "execution_count": 26,
      "outputs": [
        {
          "output_type": "execute_result",
          "data": {
            "text/plain": [
              "[0, 2, 4, 6, 8, 10]"
            ]
          },
          "metadata": {},
          "execution_count": 26
        }
      ]
    },
    {
      "cell_type": "code",
      "source": [
        "numbers[1::2] # so start with 2nd number with index 1 - in this this is 1 actually"
      ],
      "metadata": {
        "colab": {
          "base_uri": "https://localhost:8080/"
        },
        "id": "_nQm3MiMg630",
        "outputId": "e2eaca37-4738-4854-8a58-e01e10d4bd59"
      },
      "execution_count": 27,
      "outputs": [
        {
          "output_type": "execute_result",
          "data": {
            "text/plain": [
              "[1, 3, 5, 7, 9, 11]"
            ]
          },
          "metadata": {},
          "execution_count": 27
        }
      ]
    },
    {
      "cell_type": "code",
      "source": [
        "# if we have numerics (ints, floats, also booleans)in our list we can use some built in functions sum,min,max\n",
        "sum(numbers)"
      ],
      "metadata": {
        "colab": {
          "base_uri": "https://localhost:8080/"
        },
        "id": "KYBf8c89hD6R",
        "outputId": "8307d271-b842-43a5-fcd3-360f9179f631"
      },
      "execution_count": 28,
      "outputs": [
        {
          "output_type": "execute_result",
          "data": {
            "text/plain": [
              "66"
            ]
          },
          "metadata": {},
          "execution_count": 28
        }
      ]
    },
    {
      "cell_type": "code",
      "source": [
        "avg = sum(numbers) / len(numbers)  \n",
        "avg"
      ],
      "metadata": {
        "colab": {
          "base_uri": "https://localhost:8080/"
        },
        "id": "Kp4EgnbdhM6v",
        "outputId": "7fa7fcb5-5a7a-401b-b3c4-638023503307"
      },
      "execution_count": 29,
      "outputs": [
        {
          "output_type": "execute_result",
          "data": {
            "text/plain": [
              "5.5"
            ]
          },
          "metadata": {},
          "execution_count": 29
        }
      ]
    },
    {
      "cell_type": "code",
      "source": [
        "min(numbers)"
      ],
      "metadata": {
        "colab": {
          "base_uri": "https://localhost:8080/"
        },
        "id": "N1-_QB1HhUdc",
        "outputId": "e66a4cf4-f2e5-44ec-cc44-b75e87937ba5"
      },
      "execution_count": 30,
      "outputs": [
        {
          "output_type": "execute_result",
          "data": {
            "text/plain": [
              "0"
            ]
          },
          "metadata": {},
          "execution_count": 30
        }
      ]
    },
    {
      "cell_type": "code",
      "source": [
        "max(numbers)"
      ],
      "metadata": {
        "colab": {
          "base_uri": "https://localhost:8080/"
        },
        "id": "XlO4inBbhWRp",
        "outputId": "704a1b65-1fa0-4268-8ed5-2364e7ddb4d9"
      },
      "execution_count": 31,
      "outputs": [
        {
          "output_type": "execute_result",
          "data": {
            "text/plain": [
              "11"
            ]
          },
          "metadata": {},
          "execution_count": 31
        }
      ]
    },
    {
      "cell_type": "code",
      "source": [
        "# lists are compound data structures, meaning they are built from other elements\n",
        "# so they are not always copied in order to save space among other reasons"
      ],
      "metadata": {
        "id": "xQDb3G1yhoaU"
      },
      "execution_count": null,
      "outputs": []
    },
    {
      "cell_type": "code",
      "execution_count": 32,
      "metadata": {
        "colab": {
          "base_uri": "https://localhost:8080/"
        },
        "id": "iwW_mbPXdmff",
        "outputId": "1f0cd798-9ebb-469f-af41-d0b3491be9c5"
      },
      "outputs": [
        {
          "output_type": "stream",
          "name": "stdout",
          "text": [
            "['Bread', 'Eggs', 'Milk'] 140546254406112 140546410332320\n"
          ]
        }
      ],
      "source": [
        "# here I create a copy of a lista\n",
        "list_copy=list(groceries)\n",
        "print(list_copy, id(list_copy), id(groceries))\n"
      ]
    },
    {
      "cell_type": "code",
      "execution_count": 33,
      "metadata": {
        "colab": {
          "base_uri": "https://localhost:8080/"
        },
        "id": "wr9x7scBdmff",
        "outputId": "8e948b2c-e136-4b66-d0d9-cbe6cf859081"
      },
      "outputs": [
        {
          "output_type": "stream",
          "name": "stdout",
          "text": [
            "140546410332320 140546410332320 140546254406112\n"
          ]
        }
      ],
      "source": [
        "# here I just point another variable at the SAME list, just a reference/shortcut\n",
        "glist2=groceries\n",
        "print(id(glist2),id(groceries),id(list_copy))"
      ]
    },
    {
      "cell_type": "code",
      "execution_count": 34,
      "metadata": {
        "colab": {
          "base_uri": "https://localhost:8080/"
        },
        "id": "QwclI4hUdmfg",
        "outputId": "26c7469c-7a6a-4116-c93f-8005604cb604"
      },
      "outputs": [
        {
          "output_type": "execute_result",
          "data": {
            "text/plain": [
              "(['Bread', 'Eggs', 'Chocolate'],\n",
              " ['Bread', 'Eggs', 'Chocolate'],\n",
              " ['Bread', 'Eggs', 'Milk'])"
            ]
          },
          "metadata": {},
          "execution_count": 34
        }
      ],
      "source": [
        "groceries[2] = \"Chocolate\"  # so the original list will change any any references to this original list\n",
        "groceries, glist2, list_copy"
      ]
    },
    {
      "cell_type": "code",
      "execution_count": 35,
      "metadata": {
        "colab": {
          "base_uri": "https://localhost:8080/"
        },
        "id": "JAIMR9qNdmfg",
        "outputId": "a9076ea8-a8e7-4803-a434-7d2d2def9ee3"
      },
      "outputs": [
        {
          "output_type": "execute_result",
          "data": {
            "text/plain": [
              "(['Bread', 'Beer', 'Chocolate'],\n",
              " ['Bread', 'Beer', 'Chocolate'],\n",
              " ['Bread', 'Eggs', 'Milk'])"
            ]
          },
          "metadata": {},
          "execution_count": 35
        }
      ],
      "source": [
        "glist2[1] = \"Beer\"\n",
        "groceries, glist2, list_copy"
      ]
    },
    {
      "cell_type": "code",
      "execution_count": 36,
      "metadata": {
        "colab": {
          "base_uri": "https://localhost:8080/"
        },
        "id": "DsCkzzSrdmfg",
        "outputId": "8e274792-7b43-4702-9a71-5a8301bec967"
      },
      "outputs": [
        {
          "output_type": "execute_result",
          "data": {
            "text/plain": [
              "(['Bread', 'Beer', 'Chocolate'],\n",
              " ['Bread', 'Beer', 'Chocolate'],\n",
              " ['Potatoes', 'Eggs', 'Milk'])"
            ]
          },
          "metadata": {},
          "execution_count": 36
        }
      ],
      "source": [
        "list_copy[0] = \"Potatoes\"\n",
        "groceries, glist2, list_copy"
      ]
    },
    {
      "cell_type": "code",
      "execution_count": 37,
      "metadata": {
        "colab": {
          "base_uri": "https://localhost:8080/"
        },
        "id": "P6-nOfJWdmfg",
        "outputId": "17622307-ed99-4f3f-dc97-1ceab298a6ce"
      },
      "outputs": [
        {
          "output_type": "execute_result",
          "data": {
            "text/plain": [
              "False"
            ]
          },
          "metadata": {},
          "execution_count": 37
        }
      ],
      "source": [
        "list_copy == groceries # this check for contents not the actualy memory"
      ]
    },
    {
      "cell_type": "code",
      "source": [
        "groceries is glist2 # so we check the id of each variable and see if they are pointing to same memory address"
      ],
      "metadata": {
        "colab": {
          "base_uri": "https://localhost:8080/"
        },
        "id": "10XtjW7Dic2d",
        "outputId": "9e2fc539-db7c-43bc-92d4-8d798fa09ce2"
      },
      "execution_count": 38,
      "outputs": [
        {
          "output_type": "execute_result",
          "data": {
            "text/plain": [
              "True"
            ]
          },
          "metadata": {},
          "execution_count": 38
        }
      ]
    },
    {
      "cell_type": "code",
      "execution_count": null,
      "metadata": {
        "id": "M1avEovddmfg",
        "outputId": "c759d0f0-ec61-420c-de03-e8d9cd49a4bd"
      },
      "outputs": [
        {
          "data": {
            "text/plain": [
              "(True, False)"
            ]
          },
          "execution_count": 27,
          "metadata": {},
          "output_type": "execute_result"
        }
      ],
      "source": [
        "list_3 = ['Potatoes', 'Eggs', 'Milk']\n",
        "list_3 == list_copy, list_3 is list_copy"
      ]
    },
    {
      "cell_type": "code",
      "execution_count": null,
      "metadata": {
        "id": "nMvtqjYLdmfh",
        "outputId": "704ec235-fb9a-4222-c904-ffd83663a4bf"
      },
      "outputs": [
        {
          "data": {
            "text/plain": [
              "(2346169306112, 2346168541120)"
            ]
          },
          "execution_count": 28,
          "metadata": {},
          "output_type": "execute_result"
        }
      ],
      "source": [
        "id(list_copy), id(list_3) # different memory addresses"
      ]
    },
    {
      "cell_type": "code",
      "execution_count": null,
      "metadata": {
        "id": "FAQx-CLAdmfh",
        "outputId": "03ebf65e-6905-4559-995f-6577aef978f7"
      },
      "outputs": [
        {
          "data": {
            "text/plain": [
              "['Bread', 'Milk', 'Chocolate']"
            ]
          },
          "execution_count": 29,
          "metadata": {},
          "output_type": "execute_result"
        }
      ],
      "source": [
        "groceries"
      ]
    },
    {
      "cell_type": "code",
      "execution_count": 41,
      "metadata": {
        "colab": {
          "base_uri": "https://localhost:8080/"
        },
        "id": "t-jz89oVdmfh",
        "outputId": "3185529a-8982-45ed-c0ae-8709031cccba"
      },
      "outputs": [
        {
          "output_type": "execute_result",
          "data": {
            "text/plain": [
              "True"
            ]
          },
          "metadata": {},
          "execution_count": 41
        }
      ],
      "source": [
        "glist = list_copy # so I created a new alias for my list_copy\n",
        "glist is list_copy  # so glist points at the same memory stucture as does list_copy, think of it as a shortcut "
      ]
    },
    {
      "cell_type": "code",
      "source": [
        "glist"
      ],
      "metadata": {
        "colab": {
          "base_uri": "https://localhost:8080/"
        },
        "id": "F6LzDDhciss8",
        "outputId": "05c50dfd-96ac-4771-9d1d-9a9e325e9ec3"
      },
      "execution_count": 42,
      "outputs": [
        {
          "output_type": "execute_result",
          "data": {
            "text/plain": [
              "['Potatoes', 'Eggs', 'Milk']"
            ]
          },
          "metadata": {},
          "execution_count": 42
        }
      ]
    },
    {
      "cell_type": "code",
      "execution_count": 50,
      "metadata": {
        "colab": {
          "base_uri": "https://localhost:8080/"
        },
        "id": "3C7FkLl3dmfh",
        "outputId": "61e4a898-0671-4bd0-ec57-85e97aee0f7e"
      },
      "outputs": [
        {
          "output_type": "execute_result",
          "data": {
            "text/plain": [
              "['Potatoes',\n",
              " 'Eggs',\n",
              " 'Milk',\n",
              " 'Peaches',\n",
              " 'Peaches',\n",
              " 'Peaches',\n",
              " 'Peaches',\n",
              " 'Peaches',\n",
              " 'Peaches']"
            ]
          },
          "metadata": {},
          "execution_count": 50
        }
      ],
      "source": [
        "# We can add new elements with append\n",
        "glist.append('Peaches') # IN PLACE addition of element\n",
        "# IN PLACE means the collection is changed (generally NOT returned), I am mutating the original list in this case called glist\n",
        "glist"
      ]
    },
    {
      "cell_type": "code",
      "execution_count": 51,
      "metadata": {
        "colab": {
          "base_uri": "https://localhost:8080/"
        },
        "id": "6Rv1O90-dmfh",
        "outputId": "cf07a8e6-a96e-482b-a51a-7078b32c4c79"
      },
      "outputs": [
        {
          "output_type": "execute_result",
          "data": {
            "text/plain": [
              "['Bread', 'Beer', 'Chocolate']"
            ]
          },
          "metadata": {},
          "execution_count": 51
        }
      ],
      "source": [
        "groceries"
      ]
    },
    {
      "cell_type": "code",
      "execution_count": 52,
      "metadata": {
        "colab": {
          "base_uri": "https://localhost:8080/"
        },
        "id": "R6tF7H6jdmfi",
        "outputId": "8726ee0d-bb8f-473c-fdb6-1e6dd4fc0e37"
      },
      "outputs": [
        {
          "output_type": "execute_result",
          "data": {
            "text/plain": [
              "['Potatoes',\n",
              " 'Eggs',\n",
              " 'Milk',\n",
              " 'Peaches',\n",
              " 'Peaches',\n",
              " 'Peaches',\n",
              " 'Peaches',\n",
              " 'Peaches',\n",
              " 'Peaches']"
            ]
          },
          "metadata": {},
          "execution_count": 52
        }
      ],
      "source": [
        "list_copy"
      ]
    },
    {
      "cell_type": "code",
      "execution_count": 53,
      "metadata": {
        "colab": {
          "base_uri": "https://localhost:8080/"
        },
        "id": "dN77T3FHdmfi",
        "outputId": "599db677-86e4-46cd-f408-79a1bbfd9366"
      },
      "outputs": [
        {
          "output_type": "execute_result",
          "data": {
            "text/plain": [
              "['Potatoes', 'Eggs', 'Milk', 'Peaches']"
            ]
          },
          "metadata": {},
          "execution_count": 53
        }
      ],
      "source": [
        "# we cut down our list using slicing syntax\n",
        "glist = glist[:4] # remember our slicing syntax from last week\n",
        "# i am saying I want my list to only contain first four items of this list\n",
        "glist"
      ]
    },
    {
      "cell_type": "code",
      "execution_count": 54,
      "metadata": {
        "colab": {
          "base_uri": "https://localhost:8080/"
        },
        "id": "JrLxHd9Ydmfi",
        "outputId": "3c9399be-32d2-401a-ca65-20b36182ecbd"
      },
      "outputs": [
        {
          "output_type": "execute_result",
          "data": {
            "text/plain": [
              "['Bread', 'Beer', 'Chocolate']"
            ]
          },
          "metadata": {},
          "execution_count": 54
        }
      ],
      "source": [
        "groceries"
      ]
    },
    {
      "cell_type": "code",
      "source": [
        "list_copy"
      ],
      "metadata": {
        "colab": {
          "base_uri": "https://localhost:8080/"
        },
        "id": "Q_WcAKFbjZP1",
        "outputId": "9b1af370-ee79-4619-f592-9de6986b8148"
      },
      "execution_count": 55,
      "outputs": [
        {
          "output_type": "execute_result",
          "data": {
            "text/plain": [
              "['Potatoes',\n",
              " 'Eggs',\n",
              " 'Milk',\n",
              " 'Peaches',\n",
              " 'Peaches',\n",
              " 'Peaches',\n",
              " 'Peaches',\n",
              " 'Peaches',\n",
              " 'Peaches']"
            ]
          },
          "metadata": {},
          "execution_count": 55
        }
      ]
    },
    {
      "cell_type": "code",
      "source": [
        "# Python will manage memory for you and will clean up if you have no references to the list (just like with other data)"
      ],
      "metadata": {
        "id": "Jeh-L7HjjhPM"
      },
      "execution_count": null,
      "outputs": []
    },
    {
      "cell_type": "code",
      "execution_count": null,
      "metadata": {
        "id": "x6_txtPadmfi"
      },
      "outputs": [],
      "source": [
        "glist == groceries"
      ]
    },
    {
      "cell_type": "code",
      "execution_count": 57,
      "metadata": {
        "colab": {
          "base_uri": "https://localhost:8080/"
        },
        "id": "o-vpTZJMdmfi",
        "outputId": "721ea9eb-61d1-480d-ed3e-53c06e62a6fb"
      },
      "outputs": [
        {
          "output_type": "execute_result",
          "data": {
            "text/plain": [
              "[]"
            ]
          },
          "metadata": {},
          "execution_count": 57
        }
      ],
      "source": [
        "# new clear list\n",
        "glist = []\n",
        "glist"
      ]
    },
    {
      "cell_type": "code",
      "execution_count": null,
      "metadata": {
        "id": "yrS-HLUldmfi",
        "outputId": "1c773633-2088-4038-b950-726621178639"
      },
      "outputs": [
        {
          "data": {
            "text/plain": [
              "['Potatoes',\n",
              " 'Eggs',\n",
              " 'Milk',\n",
              " 'Peaches',\n",
              " 'Peaches',\n",
              " 'Peaches',\n",
              " 'Peaches',\n",
              " 'Peaches',\n",
              " 'Peaches',\n",
              " 'Peaches']"
            ]
          },
          "execution_count": 44,
          "metadata": {},
          "output_type": "execute_result"
        }
      ],
      "source": [
        "list_copy"
      ]
    },
    {
      "cell_type": "code",
      "execution_count": 58,
      "metadata": {
        "colab": {
          "base_uri": "https://localhost:8080/"
        },
        "id": "r2YpkYSKdmfj",
        "outputId": "e5875c28-3877-4195-9f47-bed3314c5d75"
      },
      "outputs": [
        {
          "output_type": "execute_result",
          "data": {
            "text/plain": [
              "0"
            ]
          },
          "metadata": {},
          "execution_count": 58
        }
      ],
      "source": [
        "len(glist)"
      ]
    },
    {
      "cell_type": "code",
      "execution_count": 59,
      "metadata": {
        "colab": {
          "base_uri": "https://localhost:8080/"
        },
        "id": "eKw7YoaOdmfj",
        "outputId": "32ed29d2-af68-4683-ca32-a5adf6f086e0"
      },
      "outputs": [
        {
          "output_type": "execute_result",
          "data": {
            "text/plain": [
              "4"
            ]
          },
          "metadata": {},
          "execution_count": 59
        }
      ],
      "source": [
        "glist= [\"Bread\", \"Milk\", \"Cookies\", \"Chocolate\"]\n",
        "len(glist)"
      ]
    },
    {
      "cell_type": "code",
      "execution_count": 60,
      "metadata": {
        "colab": {
          "base_uri": "https://localhost:8080/"
        },
        "id": "A_3PrJP-dmfj",
        "outputId": "b8b64037-a734-4392-b8e3-d92073b5f291"
      },
      "outputs": [
        {
          "output_type": "execute_result",
          "data": {
            "text/plain": [
              "['__add__',\n",
              " '__class__',\n",
              " '__contains__',\n",
              " '__delattr__',\n",
              " '__delitem__',\n",
              " '__dir__',\n",
              " '__doc__',\n",
              " '__eq__',\n",
              " '__format__',\n",
              " '__ge__',\n",
              " '__getattribute__',\n",
              " '__getitem__',\n",
              " '__gt__',\n",
              " '__hash__',\n",
              " '__iadd__',\n",
              " '__imul__',\n",
              " '__init__',\n",
              " '__init_subclass__',\n",
              " '__iter__',\n",
              " '__le__',\n",
              " '__len__',\n",
              " '__lt__',\n",
              " '__mul__',\n",
              " '__ne__',\n",
              " '__new__',\n",
              " '__reduce__',\n",
              " '__reduce_ex__',\n",
              " '__repr__',\n",
              " '__reversed__',\n",
              " '__rmul__',\n",
              " '__setattr__',\n",
              " '__setitem__',\n",
              " '__sizeof__',\n",
              " '__str__',\n",
              " '__subclasshook__',\n",
              " 'append',\n",
              " 'clear',\n",
              " 'copy',\n",
              " 'count',\n",
              " 'extend',\n",
              " 'index',\n",
              " 'insert',\n",
              " 'pop',\n",
              " 'remove',\n",
              " 'reverse',\n",
              " 'sort']"
            ]
          },
          "metadata": {},
          "execution_count": 60
        }
      ],
      "source": [
        "dir(glist)"
      ]
    },
    {
      "cell_type": "code",
      "source": [
        "glist"
      ],
      "metadata": {
        "colab": {
          "base_uri": "https://localhost:8080/"
        },
        "id": "uFzOgW6_j3gr",
        "outputId": "2bfe0171-aad0-444d-e149-7de3ae786c20"
      },
      "execution_count": 61,
      "outputs": [
        {
          "output_type": "execute_result",
          "data": {
            "text/plain": [
              "['Bread', 'Milk', 'Cookies', 'Chocolate']"
            ]
          },
          "metadata": {},
          "execution_count": 61
        }
      ]
    },
    {
      "cell_type": "code",
      "source": [
        "glist.clear()  # again IN PLACE operation meaning modifies the contents wherever the variable points at\n",
        "glist"
      ],
      "metadata": {
        "colab": {
          "base_uri": "https://localhost:8080/"
        },
        "id": "55xEzfPxj7Vk",
        "outputId": "ed332614-e11f-42ea-80e4-2a3e693b195c"
      },
      "execution_count": 62,
      "outputs": [
        {
          "output_type": "execute_result",
          "data": {
            "text/plain": [
              "[]"
            ]
          },
          "metadata": {},
          "execution_count": 62
        }
      ]
    },
    {
      "cell_type": "code",
      "source": [
        "glist.append(\"Tea\") # append is for single items\n",
        "glist"
      ],
      "metadata": {
        "colab": {
          "base_uri": "https://localhost:8080/"
        },
        "id": "yrB4imkGkD0o",
        "outputId": "058d7419-5ccf-4759-af4e-d0d132bd73e5"
      },
      "execution_count": 63,
      "outputs": [
        {
          "output_type": "execute_result",
          "data": {
            "text/plain": [
              "['Tea']"
            ]
          },
          "metadata": {},
          "execution_count": 63
        }
      ]
    },
    {
      "cell_type": "code",
      "source": [
        "glist.extend([\"Milk\",\"Cookies\",\"Chocolate\"])  #again IN PLACE modifiyin the list\n",
        "glist"
      ],
      "metadata": {
        "colab": {
          "base_uri": "https://localhost:8080/"
        },
        "id": "nxgDL-lTkGr-",
        "outputId": "0569cf38-a620-4e46-c249-e883ed92fba8"
      },
      "execution_count": 64,
      "outputs": [
        {
          "output_type": "execute_result",
          "data": {
            "text/plain": [
              "['Tea', 'Milk', 'Cookies', 'Chocolate']"
            ]
          },
          "metadata": {},
          "execution_count": 64
        }
      ]
    },
    {
      "cell_type": "code",
      "source": [
        "glist.append([\"Beer\", \"Cognac\"])  # careful when appending another list to a list, it might not be what you want\n",
        "glist"
      ],
      "metadata": {
        "colab": {
          "base_uri": "https://localhost:8080/"
        },
        "id": "Jsdq4CHDkTSZ",
        "outputId": "1fe5e355-a9d2-4b3c-ea5a-3defa57f1e38"
      },
      "execution_count": 65,
      "outputs": [
        {
          "output_type": "execute_result",
          "data": {
            "text/plain": [
              "['Tea', 'Milk', 'Cookies', 'Chocolate', ['Beer', 'Cognac']]"
            ]
          },
          "metadata": {},
          "execution_count": 65
        }
      ]
    },
    {
      "cell_type": "code",
      "source": [
        "# so we have a list inside our list"
      ],
      "metadata": {
        "id": "RCI_mVCbkg2q"
      },
      "execution_count": 66,
      "outputs": []
    },
    {
      "cell_type": "code",
      "source": [
        "# how to get Beer out of it?"
      ],
      "metadata": {
        "id": "rXwxhCfMkk_i"
      },
      "execution_count": 67,
      "outputs": []
    },
    {
      "cell_type": "code",
      "source": [
        "glist[-1]"
      ],
      "metadata": {
        "colab": {
          "base_uri": "https://localhost:8080/"
        },
        "id": "jy4yg6IRkm3A",
        "outputId": "a0cad9b5-1a42-48f8-f76b-04445619c3aa"
      },
      "execution_count": 68,
      "outputs": [
        {
          "output_type": "execute_result",
          "data": {
            "text/plain": [
              "['Beer', 'Cognac']"
            ]
          },
          "metadata": {},
          "execution_count": 68
        }
      ]
    },
    {
      "cell_type": "code",
      "source": [
        "glist[-1][0]  # so I got last item from the outer list then I get the first item of this inner (nested) list"
      ],
      "metadata": {
        "colab": {
          "base_uri": "https://localhost:8080/",
          "height": 35
        },
        "id": "yffOdORtkpQT",
        "outputId": "9bca23ec-9d13-4d78-b19a-61ce3966f9ac"
      },
      "execution_count": 70,
      "outputs": [
        {
          "output_type": "execute_result",
          "data": {
            "application/vnd.google.colaboratory.intrinsic+json": {
              "type": "string"
            },
            "text/plain": [
              "'Beer'"
            ]
          },
          "metadata": {},
          "execution_count": 70
        }
      ]
    },
    {
      "cell_type": "code",
      "execution_count": 71,
      "metadata": {
        "colab": {
          "base_uri": "https://localhost:8080/"
        },
        "id": "L_UE5NQJdmfj",
        "outputId": "2cba8b58-1e89-4883-a7bf-c195638c7542"
      },
      "outputs": [
        {
          "output_type": "stream",
          "name": "stdout",
          "text": [
            "5\n",
            "0\n"
          ]
        }
      ],
      "source": [
        "print(len(glist))\n",
        "glist.clear() # IN PLACE again! so list is cleared\n",
        "print(len(glist))"
      ]
    },
    {
      "cell_type": "code",
      "execution_count": 72,
      "metadata": {
        "colab": {
          "base_uri": "https://localhost:8080/"
        },
        "id": "GcUQvZSidmfj",
        "outputId": "cb0c8d7f-d574-41f6-9550-3d39cf1c3578"
      },
      "outputs": [
        {
          "output_type": "execute_result",
          "data": {
            "text/plain": [
              "4"
            ]
          },
          "metadata": {},
          "execution_count": 72
        }
      ],
      "source": [
        "glist= [\"Bread\", \"Milk\", \"Cookies\", \"Chocolate\"]\n",
        "len(glist)"
      ]
    },
    {
      "cell_type": "code",
      "execution_count": 79,
      "metadata": {
        "colab": {
          "base_uri": "https://localhost:8080/"
        },
        "id": "gRooUSFZdmfj",
        "outputId": "cb939fe0-9145-4bf1-92b6-ff1d8329017b"
      },
      "outputs": [
        {
          "output_type": "stream",
          "name": "stdout",
          "text": [
            "['Chocolate', 'Cookies', 'Milk', 'Bread']\n"
          ]
        }
      ],
      "source": [
        "# In Place reversal\n",
        "glist.reverse()  # this is IN PLACE\n",
        "print(glist)"
      ]
    },
    {
      "cell_type": "code",
      "execution_count": 80,
      "metadata": {
        "colab": {
          "base_uri": "https://localhost:8080/"
        },
        "id": "PssGy_R_dmfk",
        "outputId": "9aab6b92-9ede-4105-8c8e-7fa2d21e230c"
      },
      "outputs": [
        {
          "output_type": "execute_result",
          "data": {
            "text/plain": [
              "['Bread', 'Milk', 'Cookies', 'Chocolate']"
            ]
          },
          "metadata": {},
          "execution_count": 80
        }
      ],
      "source": [
        "# save the new reversed list in variable reversedlist\n",
        "reversedlist = glist[::-1] # we can store result in new list, but keep the old one this is OUT OF PLACE meaning we need new variable to store\n",
        "reversedlist"
      ]
    },
    {
      "cell_type": "code",
      "source": [
        ""
      ],
      "metadata": {
        "id": "k_ChpZWElI0U"
      },
      "execution_count": null,
      "outputs": []
    },
    {
      "cell_type": "code",
      "execution_count": 81,
      "metadata": {
        "colab": {
          "base_uri": "https://localhost:8080/"
        },
        "id": "4lV6X_rvdmfk",
        "outputId": "52098a64-d469-4708-a796-c0e5a9837af9"
      },
      "outputs": [
        {
          "output_type": "execute_result",
          "data": {
            "text/plain": [
              "(['Chocolate', 'Cookies', 'Milk', 'Bread'],\n",
              " ['Bread', 'Milk', 'Cookies', 'Chocolate'])"
            ]
          },
          "metadata": {},
          "execution_count": 81
        }
      ],
      "source": [
        "glist, reversedlist"
      ]
    },
    {
      "cell_type": "code",
      "execution_count": null,
      "metadata": {
        "id": "W6YqLpsbdmfk",
        "outputId": "1a745b2d-8f9b-4db4-ecc5-3d68d5133e16"
      },
      "outputs": [
        {
          "data": {
            "text/plain": [
              "(['Chocolate', 'Cookies', 'Milk', 'Bread'],\n",
              " ['Bread', 'Milk', 'Cookies', 'Chocolate'])"
            ]
          },
          "execution_count": 53,
          "metadata": {},
          "output_type": "execute_result"
        }
      ],
      "source": [
        "glist = reversedlist[::-1]\n",
        "glist, reversedlist"
      ]
    },
    {
      "cell_type": "code",
      "execution_count": null,
      "metadata": {
        "id": "TJVtAzzUdmfk",
        "outputId": "ca01f281-5c77-40db-ebc7-6c6edb73eff9"
      },
      "outputs": [
        {
          "data": {
            "text/plain": [
              "(['Bread', 'Milk', 'Cookies', 'Chocolate'],\n",
              " ['Bread', 'Milk', 'Cookies', 'Chocolate'])"
            ]
          },
          "execution_count": 54,
          "metadata": {},
          "output_type": "execute_result"
        }
      ],
      "source": [
        "glist = glist[::-1]\n",
        "glist, reversedlist"
      ]
    },
    {
      "cell_type": "code",
      "source": [
        "glist += [\"Tea\"]  # so this is like glist = glist = [\"Tea\"] so similar to append but it is OUT OF PLACE since we are overwriting our list\n",
        "glist"
      ],
      "metadata": {
        "colab": {
          "base_uri": "https://localhost:8080/"
        },
        "id": "qf7-2NMTlN5g",
        "outputId": "c4bc4806-debc-473f-b7b3-6ac659dce332"
      },
      "execution_count": 84,
      "outputs": [
        {
          "output_type": "execute_result",
          "data": {
            "text/plain": [
              "['Chocolate', 'Cookies', 'Milk', 'Bread', 'Tea', 'Tea']"
            ]
          },
          "metadata": {},
          "execution_count": 84
        }
      ]
    },
    {
      "cell_type": "code",
      "source": [
        "glist"
      ],
      "metadata": {
        "colab": {
          "base_uri": "https://localhost:8080/"
        },
        "id": "QRx1_6delkbD",
        "outputId": "1b00551c-eb8a-4faa-9cac-68f4bc8cd99d"
      },
      "execution_count": 85,
      "outputs": [
        {
          "output_type": "execute_result",
          "data": {
            "text/plain": [
              "['Chocolate', 'Cookies', 'Milk', 'Bread', 'Tea', 'Tea']"
            ]
          },
          "metadata": {},
          "execution_count": 85
        }
      ]
    },
    {
      "cell_type": "code",
      "source": [
        "last_item = glist[-1]  # this keeps the list intact\n",
        "last_item"
      ],
      "metadata": {
        "colab": {
          "base_uri": "https://localhost:8080/",
          "height": 35
        },
        "id": "hrhGyUzflpY6",
        "outputId": "e35cb8c5-0a23-4563-b9a6-517461d6959e"
      },
      "execution_count": 86,
      "outputs": [
        {
          "output_type": "execute_result",
          "data": {
            "application/vnd.google.colaboratory.intrinsic+json": {
              "type": "string"
            },
            "text/plain": [
              "'Tea'"
            ]
          },
          "metadata": {},
          "execution_count": 86
        }
      ]
    },
    {
      "cell_type": "code",
      "source": [
        "glist"
      ],
      "metadata": {
        "colab": {
          "base_uri": "https://localhost:8080/"
        },
        "id": "xeFHHr-hlsPb",
        "outputId": "edc1bedc-ef4f-4ace-8322-f95ed1c1db62"
      },
      "execution_count": 87,
      "outputs": [
        {
          "output_type": "execute_result",
          "data": {
            "text/plain": [
              "['Chocolate', 'Cookies', 'Milk', 'Bread', 'Tea', 'Tea']"
            ]
          },
          "metadata": {},
          "execution_count": 87
        }
      ]
    },
    {
      "cell_type": "code",
      "execution_count": 90,
      "metadata": {
        "scrolled": true,
        "colab": {
          "base_uri": "https://localhost:8080/"
        },
        "id": "6i6u3I8Jdmfk",
        "outputId": "79a4a4e0-5247-42c8-ef28-786f8470a11d"
      },
      "outputs": [
        {
          "output_type": "stream",
          "name": "stdout",
          "text": [
            "Bread\n",
            "['Chocolate', 'Cookies', 'Milk']\n"
          ]
        }
      ],
      "source": [
        "# glist= [\"Bread\", \"Milk\", \"Cookies\", \"Chocolate\"]\n",
        "lastelem = glist.pop() # IN PLACE removal of LAST element, and return of this last element\n",
        "print(lastelem)\n",
        "print(glist)"
      ]
    },
    {
      "cell_type": "code",
      "execution_count": null,
      "metadata": {
        "id": "Z6wlnc8ydmfl"
      },
      "outputs": [],
      "source": [
        "# make a blank list\n",
        "newlist = []"
      ]
    },
    {
      "cell_type": "code",
      "execution_count": null,
      "metadata": {
        "id": "1hSOU9nedmfl"
      },
      "outputs": [],
      "source": [
        "nlist = [1,2,3,4,5,6] #this can get boring fast...\n",
        "nlist"
      ]
    },
    {
      "cell_type": "code",
      "execution_count": 91,
      "metadata": {
        "colab": {
          "base_uri": "https://localhost:8080/"
        },
        "id": "0PNkQLqhdmfl",
        "outputId": "fce90178-b36d-416c-ee52-e11b4edbf593"
      },
      "outputs": [
        {
          "output_type": "execute_result",
          "data": {
            "text/plain": [
              "[0, 1, 2, 3, 4, 5, 6, 7, 8, 9, 10, 11, 12, 13, 14, 15, 16, 17, 18, 19]"
            ]
          },
          "metadata": {},
          "execution_count": 91
        }
      ],
      "source": [
        "f20 = list(range(20)) # remember range starts at 0 and goes to n-1\n",
        "f20"
      ]
    },
    {
      "cell_type": "code",
      "execution_count": 92,
      "metadata": {
        "colab": {
          "base_uri": "https://localhost:8080/"
        },
        "id": "6eLVT1Sedmfl",
        "outputId": "ff7eba44-41e3-4c63-8401-ff3e68f65467"
      },
      "outputs": [
        {
          "output_type": "execute_result",
          "data": {
            "text/plain": [
              "[1, 2, 3, 4, 5, 6, 7, 8, 9, 10, 11, 12, 13, 14, 15, 16, 17, 18, 19, 20]"
            ]
          },
          "metadata": {},
          "execution_count": 92
        }
      ],
      "source": [
        "f20 = list(range(1,21))\n",
        "f20"
      ]
    },
    {
      "cell_type": "code",
      "execution_count": null,
      "metadata": {
        "id": "2GHKRLlWdmfl",
        "outputId": "4f5e6409-b41f-4e7f-ac23-b5b960c249d0"
      },
      "outputs": [
        {
          "name": "stdout",
          "output_type": "stream",
          "text": [
            "[0, 3, 6, 9, 12, 15, 18, 21, 24, 27, 30, 33, 36, 39, 42, 45, 48]\n"
          ]
        }
      ],
      "source": [
        "x = list(range(0,51,3))\n",
        "print(x)\n",
        "# Python 3.x range is an improved Python 2.x xrange!"
      ]
    },
    {
      "cell_type": "code",
      "execution_count": 93,
      "metadata": {
        "colab": {
          "base_uri": "https://localhost:8080/"
        },
        "id": "gOLN5-tKdmfl",
        "outputId": "b8fd75a4-7591-40e8-c7f4-6e4184f1763e"
      },
      "outputs": [
        {
          "output_type": "execute_result",
          "data": {
            "text/plain": [
              "[1,\n",
              " 2,\n",
              " 5,\n",
              " 'Valdis',\n",
              " ['Bread', 'milk', 3, 6, 2.77, [3, \"wo'w\"]],\n",
              " ['anotherlist', 2, 3],\n",
              " 'just sometext']"
            ]
          },
          "metadata": {},
          "execution_count": 93
        }
      ],
      "source": [
        "# Lists can take any number of data types\n",
        "mylist = [1,2,5, \"Valdis\", [\"Bread\", \"milk\", 3, 6, 2.77, [3, \"wo'w\"]], [\"anotherlist\", 2,3], \"just sometext\"]\n",
        "mylist"
      ]
    },
    {
      "cell_type": "code",
      "execution_count": null,
      "metadata": {
        "id": "uT5zhvdxdmfm"
      },
      "outputs": [],
      "source": [
        ""
      ]
    },
    {
      "cell_type": "markdown",
      "source": [
        "# Looping through lists"
      ],
      "metadata": {
        "id": "HGFiPT5KmG0t"
      }
    },
    {
      "cell_type": "code",
      "source": [
        "for item in glist:\n",
        "    print(item)"
      ],
      "metadata": {
        "colab": {
          "base_uri": "https://localhost:8080/"
        },
        "id": "mXEPT3UzmK92",
        "outputId": "f04ab2f7-9fb9-4f5e-ef31-0113fb746303"
      },
      "execution_count": 94,
      "outputs": [
        {
          "output_type": "stream",
          "name": "stdout",
          "text": [
            "Chocolate\n",
            "Cookies\n",
            "Milk\n"
          ]
        }
      ]
    },
    {
      "cell_type": "code",
      "source": [
        "# less frequently we might need an index then we use enumarate\n",
        "for index,item in enumerate(glist):\n",
        "    print(index, item)\n",
        "    print(f\"Item no. {index} is {item}\")"
      ],
      "metadata": {
        "colab": {
          "base_uri": "https://localhost:8080/"
        },
        "id": "Mlx7CytEmRgg",
        "outputId": "34cb248b-ee8f-471f-803c-1a2ad6017dcd"
      },
      "execution_count": 95,
      "outputs": [
        {
          "output_type": "stream",
          "name": "stdout",
          "text": [
            "0 Chocolate\n",
            "Item no. 0 is Chocolate\n",
            "1 Cookies\n",
            "Item no. 1 is Cookies\n",
            "2 Milk\n",
            "Item no. 2 is Milk\n"
          ]
        }
      ]
    },
    {
      "cell_type": "code",
      "source": [
        "# let's go through our numbers list and create squares of this list\n",
        "squares = []  # so we start with a new blank list\n",
        "for n in numbers:\n",
        "    print(f\"Squaring {n}\")\n",
        "    squares.append(n**2)  # or n*n # and we keep adding for each number in our original numbers list we create a square\n",
        "print(\"My squares are\", squares)"
      ],
      "metadata": {
        "colab": {
          "base_uri": "https://localhost:8080/"
        },
        "id": "KFPz0gfMmlK9",
        "outputId": "740db174-1bec-4ac9-cb35-18c585fc0268"
      },
      "execution_count": 96,
      "outputs": [
        {
          "output_type": "stream",
          "name": "stdout",
          "text": [
            "Squaring 0\n",
            "Squaring 1\n",
            "Squaring 2\n",
            "Squaring 3\n",
            "Squaring 4\n",
            "Squaring 5\n",
            "Squaring 6\n",
            "Squaring 7\n",
            "Squaring 8\n",
            "Squaring 9\n",
            "Squaring 10\n",
            "Squaring 11\n",
            "My squares are [0, 1, 4, 9, 16, 25, 36, 49, 64, 81, 100, 121]\n"
          ]
        }
      ]
    },
    {
      "cell_type": "code",
      "source": [
        ""
      ],
      "metadata": {
        "id": "XkR0J0AynLkt"
      },
      "execution_count": null,
      "outputs": []
    },
    {
      "cell_type": "markdown",
      "source": [
        "# List Comprehension Example\n"
      ],
      "metadata": {
        "id": "g7Pg7gTRnL6B"
      }
    },
    {
      "cell_type": "code",
      "source": [
        "# so for our squares often we need to take an existing sequence(here it is a list) and do something with it\n",
        "# there is a shorter syntax for such operations\n",
        "square_list = [n**2 for n in numbers] # same idea as above for loop\n",
        "square_list"
      ],
      "metadata": {
        "colab": {
          "base_uri": "https://localhost:8080/"
        },
        "id": "fyftewQtnQsV",
        "outputId": "43cde0d8-89b5-4d9e-a2c9-ad7854662109"
      },
      "execution_count": 97,
      "outputs": [
        {
          "output_type": "execute_result",
          "data": {
            "text/plain": [
              "[0, 1, 4, 9, 16, 25, 36, 49, 64, 81, 100, 121]"
            ]
          },
          "metadata": {},
          "execution_count": 97
        }
      ]
    },
    {
      "cell_type": "code",
      "source": [
        "# list comprehensions are for shorter calculations with minimum of logic\n",
        "# use regular for loops for more complex cases"
      ],
      "metadata": {
        "id": "JIj6FaOXnomY"
      },
      "execution_count": null,
      "outputs": []
    },
    {
      "cell_type": "code",
      "source": [
        "even_squares = [n**2 for n in numbers if n%2 == 0] # we only takes squares of even numbers\n",
        "even_squares"
      ],
      "metadata": {
        "colab": {
          "base_uri": "https://localhost:8080/"
        },
        "id": "58MYVqAGnxEA",
        "outputId": "d7b70484-dae0-4b4e-ba70-b62e0ad61c1a"
      },
      "execution_count": 98,
      "outputs": [
        {
          "output_type": "execute_result",
          "data": {
            "text/plain": [
              "[0, 4, 16, 36, 64, 100]"
            ]
          },
          "metadata": {},
          "execution_count": 98
        }
      ]
    },
    {
      "cell_type": "code",
      "source": [
        "even_squares_2 = []\n",
        "for n in numbers:\n",
        "    if n%2 == 0:\n",
        "        even_squares_2.append(n**2)\n",
        "# same code as list comprehension but more writing\n",
        "even_squares_2"
      ],
      "metadata": {
        "colab": {
          "base_uri": "https://localhost:8080/"
        },
        "id": "6gS0zWpjn6Tn",
        "outputId": "49b6303b-4a36-4558-a868-137fe0a93b79"
      },
      "execution_count": 99,
      "outputs": [
        {
          "output_type": "execute_result",
          "data": {
            "text/plain": [
              "[0, 4, 16, 36, 64, 100]"
            ]
          },
          "metadata": {},
          "execution_count": 99
        }
      ]
    },
    {
      "cell_type": "code",
      "execution_count": null,
      "metadata": {
        "id": "5EyWORegdmfm",
        "outputId": "e581fd4d-5cbf-41de-faa4-6be212d7205c"
      },
      "outputs": [
        {
          "data": {
            "text/plain": [
              "['Bread', 'milk', 3, 6, 2.77, [3, \"wo'w\"]]"
            ]
          },
          "execution_count": 71,
          "metadata": {},
          "output_type": "execute_result"
        }
      ],
      "source": [
        "innerlist = mylist[4]\n",
        "innerlist"
      ]
    },
    {
      "cell_type": "code",
      "execution_count": null,
      "metadata": {
        "id": "kN7MvWPwdmfm",
        "outputId": "3ea7c981-8c0f-4043-f35f-6981bf300fc4"
      },
      "outputs": [
        {
          "data": {
            "text/plain": [
              "[3, \"wo'w\"]"
            ]
          },
          "execution_count": 72,
          "metadata": {},
          "output_type": "execute_result"
        }
      ],
      "source": [
        "inner_inner_list = innerlist[5]\n",
        "inner_inner_list"
      ]
    },
    {
      "cell_type": "code",
      "execution_count": null,
      "metadata": {
        "id": "m-ovanYIdmfm",
        "outputId": "6faf1c29-00e5-431e-ecac-9799db303662"
      },
      "outputs": [
        {
          "data": {
            "text/plain": [
              "[3, \"wo'w\"]"
            ]
          },
          "execution_count": 73,
          "metadata": {},
          "output_type": "execute_result"
        }
      ],
      "source": [
        "i_list = innerlist[-1]\n",
        "i_list"
      ]
    },
    {
      "cell_type": "code",
      "execution_count": null,
      "metadata": {
        "id": "-gkEqoG3dmfm",
        "outputId": "89dffe23-983c-4094-fe0a-d31307e91bde"
      },
      "outputs": [
        {
          "data": {
            "text/plain": [
              "\"wo'w\""
            ]
          },
          "execution_count": 74,
          "metadata": {},
          "output_type": "execute_result"
        }
      ],
      "source": [
        "last_list  = i_list[-1] # here list3[1] would work as well\n",
        "last_list"
      ]
    },
    {
      "cell_type": "code",
      "execution_count": null,
      "metadata": {
        "id": "ozEx2mmzdmfn",
        "outputId": "99cd60e8-8b9f-4c27-9d25-77fb5e11cb5d"
      },
      "outputs": [
        {
          "data": {
            "text/plain": [
              "'o'"
            ]
          },
          "execution_count": 75,
          "metadata": {},
          "output_type": "execute_result"
        }
      ],
      "source": [
        "my_letter = last_list[1]\n",
        "my_letter"
      ]
    },
    {
      "cell_type": "code",
      "execution_count": null,
      "metadata": {
        "id": "82wwhy4Edmfn",
        "outputId": "733649d9-3a71-486a-e51a-176676c211d0"
      },
      "outputs": [
        {
          "data": {
            "text/plain": [
              "'o'"
            ]
          },
          "execution_count": 76,
          "metadata": {},
          "output_type": "execute_result"
        }
      ],
      "source": [
        "mylist[4][-1][-1][1]"
      ]
    },
    {
      "cell_type": "code",
      "execution_count": null,
      "metadata": {
        "id": "IqfBW9IMdmfn",
        "outputId": "28bc5b0f-2dce-4527-97bd-aa4fef3f836a"
      },
      "outputs": [
        {
          "data": {
            "text/plain": [
              "('o', 'o')"
            ]
          },
          "execution_count": 78,
          "metadata": {},
          "output_type": "execute_result"
        }
      ],
      "source": [
        "mylist[4][5][1][1], mylist[4][5][1][-3]"
      ]
    },
    {
      "cell_type": "code",
      "execution_count": null,
      "metadata": {
        "id": "ct58-Uoxdmfn"
      },
      "outputs": [],
      "source": [
        "len(mylist)"
      ]
    },
    {
      "cell_type": "code",
      "execution_count": null,
      "metadata": {
        "id": "jkfO4hB9dmfn"
      },
      "outputs": [],
      "source": [
        "x=list(range(1,11))\n",
        "x"
      ]
    },
    {
      "cell_type": "code",
      "execution_count": null,
      "metadata": {
        "id": "q9EbODnWdmfn",
        "outputId": "01bf77d5-c68c-47af-e6a0-e092f9982476"
      },
      "outputs": [
        {
          "data": {
            "text/plain": [
              "['Bread', 'Milk', 'Cookies']"
            ]
          },
          "execution_count": 79,
          "metadata": {},
          "output_type": "execute_result"
        }
      ],
      "source": [
        "glist"
      ]
    },
    {
      "cell_type": "code",
      "execution_count": 100,
      "metadata": {
        "colab": {
          "base_uri": "https://localhost:8080/"
        },
        "id": "lHiy6FNydmfn",
        "outputId": "f7b89723-c7f7-46bb-bebd-20d3add2f7b2"
      },
      "outputs": [
        {
          "output_type": "execute_result",
          "data": {
            "text/plain": [
              "['Chocolate', 'Cookies', 'Milk', 'Pasta', 'Cereal', 'Water']"
            ]
          },
          "metadata": {},
          "execution_count": 100
        }
      ],
      "source": [
        "# adding more items by making new list\n",
        "glist += [\"Pasta\", \"Cereal\", \"Water\"] # it is same as saying glist = glist + [\"Pasta\", \"Cereal\", \"Water\"]\n",
        "# so += is out of place , unlike mylist.append() method\n",
        "glist"
      ]
    },
    {
      "cell_type": "code",
      "execution_count": 101,
      "metadata": {
        "colab": {
          "base_uri": "https://localhost:8080/"
        },
        "id": "mkQqFtrSdmfo",
        "outputId": "80a461e0-d157-456e-ee1a-0f50c07a5832"
      },
      "outputs": [
        {
          "output_type": "execute_result",
          "data": {
            "text/plain": [
              "['Chocolate',\n",
              " 'Cookies',\n",
              " 'Milk',\n",
              " 'Pasta',\n",
              " 'Cereal',\n",
              " 'Water',\n",
              " ['Booze', 'Candy']]"
            ]
          },
          "metadata": {},
          "execution_count": 101
        }
      ],
      "source": [
        "glist.append([\"Booze\", \"Candy\"])\n",
        "glist"
      ]
    },
    {
      "cell_type": "code",
      "execution_count": 102,
      "metadata": {
        "colab": {
          "base_uri": "https://localhost:8080/"
        },
        "id": "RvUn-Eyydmfo",
        "outputId": "acb09d3a-5494-400f-e914-78066e8bdf2b"
      },
      "outputs": [
        {
          "output_type": "execute_result",
          "data": {
            "text/plain": [
              "['Chocolate',\n",
              " 'Cookies',\n",
              " 'Milk',\n",
              " 'Pasta',\n",
              " 'Cereal',\n",
              " 'Water',\n",
              " ['Booze', 'Candy'],\n",
              " 'Beer',\n",
              " 'Chips']"
            ]
          },
          "metadata": {},
          "execution_count": 102
        }
      ],
      "source": [
        "glist.extend([\"Beer\", \"Chips\"]) # so extend works similarl to += it flattens the new items\n",
        "glist"
      ]
    },
    {
      "cell_type": "code",
      "source": [
        "glist[-3]"
      ],
      "metadata": {
        "id": "VsJzT9--pw1J",
        "outputId": "7db39e4b-5cc1-40a1-c06b-163de57833b8",
        "colab": {
          "base_uri": "https://localhost:8080/"
        }
      },
      "execution_count": 103,
      "outputs": [
        {
          "output_type": "execute_result",
          "data": {
            "text/plain": [
              "['Booze', 'Candy']"
            ]
          },
          "metadata": {},
          "execution_count": 103
        }
      ]
    },
    {
      "cell_type": "code",
      "source": [
        "glist[-3][-1], glist[-3][1] # same thing"
      ],
      "metadata": {
        "id": "XndouHqNpzzU",
        "outputId": "3e6a5a0b-8f1c-423b-83e4-68f939c271b7",
        "colab": {
          "base_uri": "https://localhost:8080/"
        }
      },
      "execution_count": 105,
      "outputs": [
        {
          "output_type": "execute_result",
          "data": {
            "text/plain": [
              "('Candy', 'Candy')"
            ]
          },
          "metadata": {},
          "execution_count": 105
        }
      ]
    },
    {
      "cell_type": "code",
      "execution_count": 107,
      "metadata": {
        "colab": {
          "base_uri": "https://localhost:8080/"
        },
        "id": "I795xrPzdmfo",
        "outputId": "12ab8015-7a2e-44c3-8d19-800e5159f722"
      },
      "outputs": [
        {
          "output_type": "execute_result",
          "data": {
            "text/plain": [
              "1"
            ]
          },
          "metadata": {},
          "execution_count": 107
        }
      ],
      "source": [
        "glist.count(\"Pasta\")  # count need exact match"
      ]
    },
    {
      "cell_type": "code",
      "execution_count": 108,
      "metadata": {
        "colab": {
          "base_uri": "https://localhost:8080/",
          "height": 167
        },
        "id": "LZTKQ71Xdmfp",
        "outputId": "8c8ffb04-48a6-49d3-e636-504b7049f034"
      },
      "outputs": [
        {
          "output_type": "error",
          "ename": "ValueError",
          "evalue": "ignored",
          "traceback": [
            "\u001b[0;31m---------------------------------------------------------------------------\u001b[0m",
            "\u001b[0;31mValueError\u001b[0m                                Traceback (most recent call last)",
            "\u001b[0;32m<ipython-input-108-58a2fd099262>\u001b[0m in \u001b[0;36m<module>\u001b[0;34m()\u001b[0m\n\u001b[0;32m----> 1\u001b[0;31m \u001b[0mglist\u001b[0m\u001b[0;34m.\u001b[0m\u001b[0mindex\u001b[0m\u001b[0;34m(\u001b[0m\u001b[0;34m\"Paste\"\u001b[0m\u001b[0;34m)\u001b[0m\u001b[0;34m\u001b[0m\u001b[0;34m\u001b[0m\u001b[0m\n\u001b[0m",
            "\u001b[0;31mValueError\u001b[0m: 'Paste' is not in list"
          ]
        }
      ],
      "source": [
        "glist.index(\"Paste\")"
      ]
    },
    {
      "cell_type": "code",
      "execution_count": 109,
      "metadata": {
        "colab": {
          "base_uri": "https://localhost:8080/"
        },
        "id": "ctFNiJ_ddmfp",
        "outputId": "84034251-670b-459d-9607-21dd74d3d93a"
      },
      "outputs": [
        {
          "output_type": "execute_result",
          "data": {
            "text/plain": [
              "3"
            ]
          },
          "metadata": {},
          "execution_count": 109
        }
      ],
      "source": [
        "glist.index(\"Pasta\")"
      ]
    },
    {
      "cell_type": "code",
      "execution_count": null,
      "metadata": {
        "id": "02rQ7_cOdmfq",
        "outputId": "99628cdd-7ea2-4c99-c98b-dda76e72487d"
      },
      "outputs": [
        {
          "data": {
            "text/plain": [
              "['Bread',\n",
              " 'Milk',\n",
              " 'Cookies',\n",
              " 'Pasta',\n",
              " 'Cereal',\n",
              " 'Water',\n",
              " ['Booze', 'Candy'],\n",
              " 'Beer',\n",
              " 'Chips']"
            ]
          },
          "execution_count": 86,
          "metadata": {},
          "output_type": "execute_result"
        }
      ],
      "source": [
        "glist"
      ]
    },
    {
      "cell_type": "code",
      "source": [
        "glist[3]"
      ],
      "metadata": {
        "id": "qFG7DnWAqFPH",
        "outputId": "ac7f9527-d301-403d-c7b6-b901a72e9951",
        "colab": {
          "base_uri": "https://localhost:8080/",
          "height": 35
        }
      },
      "execution_count": 110,
      "outputs": [
        {
          "output_type": "execute_result",
          "data": {
            "application/vnd.google.colaboratory.intrinsic+json": {
              "type": "string"
            },
            "text/plain": [
              "'Pasta'"
            ]
          },
          "metadata": {},
          "execution_count": 110
        }
      ]
    },
    {
      "cell_type": "code",
      "source": [
        ""
      ],
      "metadata": {
        "id": "jeY9SkerqLZx"
      },
      "execution_count": null,
      "outputs": []
    },
    {
      "cell_type": "code",
      "execution_count": 111,
      "metadata": {
        "colab": {
          "base_uri": "https://localhost:8080/"
        },
        "id": "qehhlh2sdmfq",
        "outputId": "f3fc5b3d-dfb7-4a7f-abd1-0412516e36cf"
      },
      "outputs": [
        {
          "output_type": "execute_result",
          "data": {
            "text/plain": [
              "['Chocolate',\n",
              " 'Cookies',\n",
              " 'Milk',\n",
              " 'Pasta',\n",
              " 'Tomato Sauce',\n",
              " 'Cereal',\n",
              " 'Water',\n",
              " ['Booze', 'Candy'],\n",
              " 'Beer',\n",
              " 'Chips']"
            ]
          },
          "metadata": {},
          "execution_count": 111
        }
      ],
      "source": [
        "glist.insert(4, \"Tomato Sauce\") # so it will insert before 5th element (with index 4)\n",
        "glist"
      ]
    },
    {
      "cell_type": "code",
      "execution_count": null,
      "metadata": {
        "id": "MZE9-3Agdmfq",
        "outputId": "b1837d91-c74c-45ce-a4f9-f2bce95ff365"
      },
      "outputs": [
        {
          "data": {
            "text/plain": [
              "'Tomato Sauce'"
            ]
          },
          "execution_count": 89,
          "metadata": {},
          "output_type": "execute_result"
        }
      ],
      "source": [
        "glist[4]"
      ]
    },
    {
      "cell_type": "code",
      "execution_count": 112,
      "metadata": {
        "id": "L108NvM7dmfr"
      },
      "outputs": [],
      "source": [
        "# for large lists insert might not be very fast because you have to shift the elements around"
      ]
    },
    {
      "cell_type": "code",
      "execution_count": 113,
      "metadata": {
        "colab": {
          "base_uri": "https://localhost:8080/",
          "height": 167
        },
        "id": "srB6VZFddmfr",
        "outputId": "c229af2f-8d6f-4a9f-c8a0-97c4f31d8ccc"
      },
      "outputs": [
        {
          "output_type": "error",
          "ename": "ValueError",
          "evalue": "ignored",
          "traceback": [
            "\u001b[0;31m---------------------------------------------------------------------------\u001b[0m",
            "\u001b[0;31mValueError\u001b[0m                                Traceback (most recent call last)",
            "\u001b[0;32m<ipython-input-113-917a37689ea6>\u001b[0m in \u001b[0;36m<module>\u001b[0;34m()\u001b[0m\n\u001b[0;32m----> 1\u001b[0;31m \u001b[0mglist\u001b[0m\u001b[0;34m.\u001b[0m\u001b[0mremove\u001b[0m\u001b[0;34m(\u001b[0m\u001b[0;34m\"No idea what to remove\"\u001b[0m\u001b[0;34m)\u001b[0m\u001b[0;34m\u001b[0m\u001b[0;34m\u001b[0m\u001b[0m\n\u001b[0m",
            "\u001b[0;31mValueError\u001b[0m: list.remove(x): x not in list"
          ]
        }
      ],
      "source": [
        "glist.remove(\"No idea what to remove\")"
      ]
    },
    {
      "cell_type": "code",
      "execution_count": 114,
      "metadata": {
        "colab": {
          "base_uri": "https://localhost:8080/"
        },
        "id": "HNSo27rldmfr",
        "outputId": "3e16bc38-cc24-4483-83a6-c1a2a877f52a"
      },
      "outputs": [
        {
          "output_type": "execute_result",
          "data": {
            "text/plain": [
              "['Chocolate',\n",
              " 'Cookies',\n",
              " 'Milk',\n",
              " 'Pasta',\n",
              " 'Cereal',\n",
              " 'Water',\n",
              " ['Booze', 'Candy'],\n",
              " 'Beer',\n",
              " 'Chips']"
            ]
          },
          "metadata": {},
          "execution_count": 114
        }
      ],
      "source": [
        "glist.remove(\"Tomato Sauce\") # we got rid of first tomatoe sauce occurence\n",
        "glist"
      ]
    },
    {
      "cell_type": "code",
      "execution_count": 115,
      "metadata": {
        "colab": {
          "base_uri": "https://localhost:8080/",
          "height": 203
        },
        "id": "3LkOg-atdmfr",
        "outputId": "22c78881-d002-4817-a19e-b60152f813a8"
      },
      "outputs": [
        {
          "output_type": "error",
          "ename": "TypeError",
          "evalue": "ignored",
          "traceback": [
            "\u001b[0;31m---------------------------------------------------------------------------\u001b[0m",
            "\u001b[0;31mTypeError\u001b[0m                                 Traceback (most recent call last)",
            "\u001b[0;32m<ipython-input-115-3eec0de1a358>\u001b[0m in \u001b[0;36m<module>\u001b[0;34m()\u001b[0m\n\u001b[1;32m      1\u001b[0m \u001b[0;31m# You can only sort list that have same data types or types that can be compared like int and float\u001b[0m\u001b[0;34m\u001b[0m\u001b[0;34m\u001b[0m\u001b[0;34m\u001b[0m\u001b[0m\n\u001b[0;32m----> 2\u001b[0;31m \u001b[0mglist\u001b[0m\u001b[0;34m.\u001b[0m\u001b[0msort\u001b[0m\u001b[0;34m(\u001b[0m\u001b[0;34m)\u001b[0m \u001b[0;31m# this is in place and will be numeric, or lexicographical sort\u001b[0m\u001b[0;34m\u001b[0m\u001b[0;34m\u001b[0m\u001b[0m\n\u001b[0m\u001b[1;32m      3\u001b[0m \u001b[0mglist\u001b[0m\u001b[0;34m\u001b[0m\u001b[0;34m\u001b[0m\u001b[0m\n",
            "\u001b[0;31mTypeError\u001b[0m: '<' not supported between instances of 'list' and 'str'"
          ]
        }
      ],
      "source": [
        "# You can only sort list that have same data types or types that can be compared like int and float\n",
        "glist.sort() # this is in place and will be numeric, or lexicographical sort\n",
        "glist"
      ]
    },
    {
      "cell_type": "code",
      "source": [
        "glist.remove(['Booze', 'Candy'])\n",
        "glist"
      ],
      "metadata": {
        "id": "prqJK2maqshJ",
        "outputId": "15afc5d2-9952-465f-aea4-5ce2a1727da1",
        "colab": {
          "base_uri": "https://localhost:8080/"
        }
      },
      "execution_count": 116,
      "outputs": [
        {
          "output_type": "execute_result",
          "data": {
            "text/plain": [
              "['Cereal', 'Chocolate', 'Cookies', 'Milk', 'Pasta', 'Water', 'Beer', 'Chips']"
            ]
          },
          "metadata": {},
          "execution_count": 116
        }
      ]
    },
    {
      "cell_type": "code",
      "source": [
        "glist.sort()  # in place for strings it is lexicographic\n",
        "glist"
      ],
      "metadata": {
        "id": "3mOsqc3Iqw06",
        "outputId": "16e32ebc-0966-4626-e0f9-1cf538586ba5",
        "colab": {
          "base_uri": "https://localhost:8080/"
        }
      },
      "execution_count": 117,
      "outputs": [
        {
          "output_type": "execute_result",
          "data": {
            "text/plain": [
              "['Beer', 'Cereal', 'Chips', 'Chocolate', 'Cookies', 'Milk', 'Pasta', 'Water']"
            ]
          },
          "metadata": {},
          "execution_count": 117
        }
      ]
    },
    {
      "cell_type": "code",
      "source": [
        "glist_copy = sorted(glist) # this is OUT OF PLACE sort meaning we need to store somewhere\n",
        "glist_copy"
      ],
      "metadata": {
        "id": "Zd7CpuxVq6ns",
        "outputId": "fb739e15-d9ab-406e-fe42-0ba1517d81be",
        "colab": {
          "base_uri": "https://localhost:8080/"
        }
      },
      "execution_count": 118,
      "outputs": [
        {
          "output_type": "execute_result",
          "data": {
            "text/plain": [
              "['Beer', 'Cereal', 'Chips', 'Chocolate', 'Cookies', 'Milk', 'Pasta', 'Water']"
            ]
          },
          "metadata": {},
          "execution_count": 118
        }
      ]
    },
    {
      "cell_type": "code",
      "execution_count": null,
      "metadata": {
        "id": "ivgvbX0Idmfs",
        "outputId": "9aeff670-eb76-4236-ce48-0aaf93805243"
      },
      "outputs": [
        {
          "data": {
            "text/plain": [
              "['Bread', 'Cereal', 'Cookies', 'Milk', 'Pasta', 'Tomato Sauce', 'Water']"
            ]
          },
          "execution_count": 94,
          "metadata": {},
          "output_type": "execute_result"
        }
      ],
      "source": [
        "glist = glist[:7]\n",
        "glist"
      ]
    },
    {
      "cell_type": "code",
      "execution_count": null,
      "metadata": {
        "id": "1Rc51kcrdmfs",
        "outputId": "dbdb8c74-7589-42fe-e2fe-6f685d5a917f"
      },
      "outputs": [
        {
          "data": {
            "text/plain": [
              "['Bread',\n",
              " 'Cereal',\n",
              " 'Cookies',\n",
              " 'Milk',\n",
              " 'Pasta',\n",
              " 'Tomato Sauce',\n",
              " 'Water',\n",
              " 'Olive Oil']"
            ]
          },
          "execution_count": 95,
          "metadata": {},
          "output_type": "execute_result"
        }
      ],
      "source": [
        "glist.append(\"Olive Oil\")\n",
        "glist"
      ]
    },
    {
      "cell_type": "code",
      "execution_count": null,
      "metadata": {
        "id": "v7-my_fSdmfs",
        "outputId": "c61bb3c4-eb3e-47c1-8230-ba6d2de62d24"
      },
      "outputs": [
        {
          "data": {
            "text/plain": [
              "['Bread',\n",
              " 'Cereal',\n",
              " 'Cookies',\n",
              " 'Milk',\n",
              " 'Olive Oil',\n",
              " 'Pasta',\n",
              " 'Tomato Sauce',\n",
              " 'Water']"
            ]
          },
          "execution_count": 96,
          "metadata": {},
          "output_type": "execute_result"
        }
      ],
      "source": [
        "glist.sort()\n",
        "glist"
      ]
    },
    {
      "cell_type": "code",
      "execution_count": 119,
      "metadata": {
        "colab": {
          "base_uri": "https://localhost:8080/"
        },
        "id": "Bg--LZfydmfs",
        "outputId": "c4636d8c-ddfb-4a8e-d806-d816d6031341"
      },
      "outputs": [
        {
          "output_type": "execute_result",
          "data": {
            "text/plain": [
              "['Water', 'Pasta', 'Milk', 'Cookies', 'Chocolate', 'Chips', 'Cereal', 'Beer']"
            ]
          },
          "metadata": {},
          "execution_count": 119
        }
      ],
      "source": [
        "glist.sort(reverse = True) # again sort is in place\n",
        "glist"
      ]
    },
    {
      "cell_type": "code",
      "execution_count": null,
      "metadata": {
        "id": "V1pXoMQfdmfs",
        "outputId": "42bf8684-2252-4111-ad84-84f83ee92866"
      },
      "outputs": [
        {
          "data": {
            "text/plain": [
              "['Bread',\n",
              " 'Cereal',\n",
              " 'Cookies',\n",
              " 'Milk',\n",
              " 'Olive Oil',\n",
              " 'Pasta',\n",
              " 'Tomato Sauce',\n",
              " 'Water']"
            ]
          },
          "execution_count": 98,
          "metadata": {},
          "output_type": "execute_result"
        }
      ],
      "source": [
        "new_list = sorted(glist) # so sorted is out of place, returns new sorted something\n",
        "new_list"
      ]
    },
    {
      "cell_type": "code",
      "execution_count": null,
      "metadata": {
        "id": "Is5xwCCGdmfs",
        "outputId": "e9f27e0a-67bc-47bb-8cc4-46d29ec21b7e"
      },
      "outputs": [
        {
          "data": {
            "text/plain": [
              "4"
            ]
          },
          "execution_count": 46,
          "metadata": {},
          "output_type": "execute_result"
        }
      ],
      "source": [
        "glist= [\"Bread\", \"Milk\", \"Cookies\", \"Chocolate\"]\n",
        "len(glist)"
      ]
    },
    {
      "cell_type": "code",
      "execution_count": null,
      "metadata": {
        "id": "a1dO5EtQdmft",
        "outputId": "e76f220b-6f89-4599-8fe9-a9dfa6ee7356"
      },
      "outputs": [
        {
          "name": "stdout",
          "output_type": "stream",
          "text": [
            "[1, 4, 9, 16, 25, 36, 49, 64, 81, 100]\n"
          ]
        }
      ],
      "source": [
        "# Mini exercise\n",
        "# give me a list of squares of names from 1 to 10 [1,4,9....,100]\n",
        "results = []\n",
        "# write a for loop and append something to results\n",
        "for n in range(1,11):\n",
        "    results.append(n**2)\n",
        "print(results)\n",
        "\n"
      ]
    },
    {
      "cell_type": "code",
      "source": [
        "import random"
      ],
      "metadata": {
        "id": "ciKMX0DzrNrU"
      },
      "execution_count": 120,
      "outputs": []
    },
    {
      "cell_type": "code",
      "source": [
        "dice_throws = [random.randint(1,6) for _ in range(30)]  # randint is a rare case where both sides are INCLUSIVE, usually the last number is not included\n",
        "# we are using _ to signify that we do not care for the actual iterator, index in this case we just want to do something\n",
        "dice_throws"
      ],
      "metadata": {
        "id": "g0yVoc97rQd_",
        "outputId": "72ead0f5-5847-4a41-867d-70c6c4f3297c",
        "colab": {
          "base_uri": "https://localhost:8080/"
        }
      },
      "execution_count": 123,
      "outputs": [
        {
          "output_type": "execute_result",
          "data": {
            "text/plain": [
              "[2,\n",
              " 1,\n",
              " 2,\n",
              " 4,\n",
              " 4,\n",
              " 1,\n",
              " 2,\n",
              " 4,\n",
              " 6,\n",
              " 4,\n",
              " 4,\n",
              " 1,\n",
              " 4,\n",
              " 6,\n",
              " 5,\n",
              " 2,\n",
              " 3,\n",
              " 3,\n",
              " 4,\n",
              " 4,\n",
              " 2,\n",
              " 2,\n",
              " 5,\n",
              " 2,\n",
              " 4,\n",
              " 4,\n",
              " 5,\n",
              " 2,\n",
              " 5,\n",
              " 5]"
            ]
          },
          "metadata": {},
          "execution_count": 123
        }
      ]
    },
    {
      "cell_type": "code",
      "source": [
        "sum(dice_throws), min(dice_throws), max(dice_throws), sum(dice_throws) / len(dice_throws)"
      ],
      "metadata": {
        "id": "uZBtvA9ErrgN",
        "outputId": "bac00659-291f-4f73-b79a-0bda5e9fcdbc",
        "colab": {
          "base_uri": "https://localhost:8080/"
        }
      },
      "execution_count": 124,
      "outputs": [
        {
          "output_type": "execute_result",
          "data": {
            "text/plain": [
              "(102, 1, 6, 3.4)"
            ]
          },
          "metadata": {},
          "execution_count": 124
        }
      ]
    },
    {
      "cell_type": "code",
      "source": [
        "dice_total = sum(dice_throws)"
      ],
      "metadata": {
        "id": "fMyNW8ARsbRj"
      },
      "execution_count": 128,
      "outputs": []
    },
    {
      "cell_type": "code",
      "source": [
        "few_randoms = [random.randint(-500,500) for _ in range(10)]\n",
        "few_randoms"
      ],
      "metadata": {
        "id": "cxSLdHVysAA8",
        "outputId": "b5a94681-5557-4eaa-d5c6-2bb8d7aa1de7",
        "colab": {
          "base_uri": "https://localhost:8080/"
        }
      },
      "execution_count": 125,
      "outputs": [
        {
          "output_type": "execute_result",
          "data": {
            "text/plain": [
              "[-193, 163, -297, 409, 468, 11, -37, -255, 101, -400]"
            ]
          },
          "metadata": {},
          "execution_count": 125
        }
      ]
    },
    {
      "cell_type": "code",
      "source": [
        "sorted_randoms = sorted(few_randoms) # OUT OF PLACE, keep original intact\n",
        "few_randoms, sorted_randoms"
      ],
      "metadata": {
        "id": "JFEyPzEdsG6_",
        "outputId": "b5c4f399-b0b1-4e16-8d12-e9beb3475e95",
        "colab": {
          "base_uri": "https://localhost:8080/"
        }
      },
      "execution_count": 126,
      "outputs": [
        {
          "output_type": "execute_result",
          "data": {
            "text/plain": [
              "([-193, 163, -297, 409, 468, 11, -37, -255, 101, -400],\n",
              " [-400, -297, -255, -193, -37, 11, 101, 163, 409, 468])"
            ]
          },
          "metadata": {},
          "execution_count": 126
        }
      ]
    },
    {
      "cell_type": "code",
      "source": [
        "few_randoms.sort() # IN PLACE changing the order of original\n",
        "few_randoms, sorted_randoms"
      ],
      "metadata": {
        "id": "LNtOXDxDsQeV",
        "outputId": "e1fcda28-a50c-4c1b-8b69-50654dae1da3",
        "colab": {
          "base_uri": "https://localhost:8080/"
        }
      },
      "execution_count": 127,
      "outputs": [
        {
          "output_type": "execute_result",
          "data": {
            "text/plain": [
              "([-400, -297, -255, -193, -37, 11, 101, 163, 409, 468],\n",
              " [-400, -297, -255, -193, -37, 11, 101, 163, 409, 468])"
            ]
          },
          "metadata": {},
          "execution_count": 127
        }
      ]
    },
    {
      "cell_type": "code",
      "execution_count": 129,
      "metadata": {
        "colab": {
          "base_uri": "https://localhost:8080/"
        },
        "id": "5U5nkZLBdmft",
        "outputId": "417a71a4-66d7-40fc-b639-8c1917457a96"
      },
      "outputs": [
        {
          "output_type": "execute_result",
          "data": {
            "text/plain": [
              "[1, 2, 3, 4, 5, 6, 7, 8, 9, 10]"
            ]
          },
          "metadata": {},
          "execution_count": 129
        }
      ],
      "source": [
        "x = list(range(1,11))\n",
        "x"
      ]
    },
    {
      "cell_type": "code",
      "execution_count": 130,
      "metadata": {
        "colab": {
          "base_uri": "https://localhost:8080/"
        },
        "id": "ABhWAIrwdmft",
        "outputId": "ba5b83f2-8a9b-4a8f-8e2d-e76c752e0a0a"
      },
      "outputs": [
        {
          "output_type": "stream",
          "name": "stdout",
          "text": [
            "[1, 4, 9, 16, 25, 36, 49, 64, 81, 100]\n"
          ]
        }
      ],
      "source": [
        "y = [n*n for n in range(1,11)]\n",
        "print(y)\n",
        "# List comprehensions! A shorter way to do the above list creations \n",
        "# Pythonism! We'll talk about those again!"
      ]
    },
    {
      "cell_type": "code",
      "execution_count": null,
      "metadata": {
        "id": "XlnF0pZFdmft",
        "outputId": "ce89b0fb-859b-4cfe-8913-65573f1aedd5"
      },
      "outputs": [
        {
          "data": {
            "text/plain": [
              "(55, 385)"
            ]
          },
          "execution_count": 103,
          "metadata": {},
          "output_type": "execute_result"
        }
      ],
      "source": [
        "sum(x),sum(y)"
      ]
    },
    {
      "cell_type": "code",
      "execution_count": null,
      "metadata": {
        "id": "IwS1Lmb6dmft",
        "outputId": "842e7100-60f3-4e1c-d1c0-0d127abf529d"
      },
      "outputs": [
        {
          "data": {
            "text/plain": [
              "(10, 10)"
            ]
          },
          "execution_count": 104,
          "metadata": {},
          "output_type": "execute_result"
        }
      ],
      "source": [
        "len(x),len(y)"
      ]
    },
    {
      "cell_type": "code",
      "execution_count": null,
      "metadata": {
        "id": "4DHXBOmEdmft",
        "outputId": "b27f7e9d-a2c6-492a-8c81-e466e3b49a46"
      },
      "outputs": [
        {
          "data": {
            "text/plain": [
              "(1, 1)"
            ]
          },
          "execution_count": 105,
          "metadata": {},
          "output_type": "execute_result"
        }
      ],
      "source": [
        "min(x), min(y)"
      ]
    },
    {
      "cell_type": "code",
      "execution_count": null,
      "metadata": {
        "id": "c63KUNRRdmfu",
        "outputId": "ab3e8d9f-e39e-4fcf-8b20-2b4875c6db2f"
      },
      "outputs": [
        {
          "data": {
            "text/plain": [
              "(10, 100)"
            ]
          },
          "execution_count": 106,
          "metadata": {},
          "output_type": "execute_result"
        }
      ],
      "source": [
        "max(x), max(y)"
      ]
    },
    {
      "cell_type": "code",
      "execution_count": null,
      "metadata": {
        "id": "wDPGSuhYdmfu"
      },
      "outputs": [],
      "source": [
        "y"
      ]
    },
    {
      "cell_type": "code",
      "execution_count": 131,
      "metadata": {
        "colab": {
          "base_uri": "https://localhost:8080/"
        },
        "id": "Gjbtv9tMdmfu",
        "outputId": "085dfe0b-c9f6-4b13-b038-13c2623f2dd4"
      },
      "outputs": [
        {
          "output_type": "execute_result",
          "data": {
            "text/plain": [
              "[1, 2, 3, 4, 5, 6, 7, 8, 9, 10, 1, 4, 9, 16, 25, 36, 49, 64, 81, 100]"
            ]
          },
          "metadata": {},
          "execution_count": 131
        }
      ],
      "source": [
        "x+y  # i am not saving this new list anywhere"
      ]
    },
    {
      "cell_type": "code",
      "execution_count": 132,
      "metadata": {
        "id": "iEifAe0Idmfu"
      },
      "outputs": [],
      "source": [
        "z=(x+y)*3 # so we create a list of (10+10 )* 3 elements"
      ]
    },
    {
      "cell_type": "code",
      "source": [
        "z"
      ],
      "metadata": {
        "id": "GMZrLOZ6sp7M",
        "outputId": "b1c7f620-0948-45f5-c148-e34ea4d00dee",
        "colab": {
          "base_uri": "https://localhost:8080/"
        }
      },
      "execution_count": 133,
      "outputs": [
        {
          "output_type": "execute_result",
          "data": {
            "text/plain": [
              "[1,\n",
              " 2,\n",
              " 3,\n",
              " 4,\n",
              " 5,\n",
              " 6,\n",
              " 7,\n",
              " 8,\n",
              " 9,\n",
              " 10,\n",
              " 1,\n",
              " 4,\n",
              " 9,\n",
              " 16,\n",
              " 25,\n",
              " 36,\n",
              " 49,\n",
              " 64,\n",
              " 81,\n",
              " 100,\n",
              " 1,\n",
              " 2,\n",
              " 3,\n",
              " 4,\n",
              " 5,\n",
              " 6,\n",
              " 7,\n",
              " 8,\n",
              " 9,\n",
              " 10,\n",
              " 1,\n",
              " 4,\n",
              " 9,\n",
              " 16,\n",
              " 25,\n",
              " 36,\n",
              " 49,\n",
              " 64,\n",
              " 81,\n",
              " 100,\n",
              " 1,\n",
              " 2,\n",
              " 3,\n",
              " 4,\n",
              " 5,\n",
              " 6,\n",
              " 7,\n",
              " 8,\n",
              " 9,\n",
              " 10,\n",
              " 1,\n",
              " 4,\n",
              " 9,\n",
              " 16,\n",
              " 25,\n",
              " 36,\n",
              " 49,\n",
              " 64,\n",
              " 81,\n",
              " 100]"
            ]
          },
          "metadata": {},
          "execution_count": 133
        }
      ]
    },
    {
      "cell_type": "code",
      "execution_count": 134,
      "metadata": {
        "colab": {
          "base_uri": "https://localhost:8080/"
        },
        "id": "dKmgD4TPdmfu",
        "outputId": "8526d4f8-3052-431f-aa23-ce28053225c8"
      },
      "outputs": [
        {
          "output_type": "execute_result",
          "data": {
            "text/plain": [
              "60"
            ]
          },
          "metadata": {},
          "execution_count": 134
        }
      ],
      "source": [
        "len(z)"
      ]
    },
    {
      "cell_type": "code",
      "execution_count": null,
      "metadata": {
        "id": "n_062JaNdmfu"
      },
      "outputs": [],
      "source": [
        "z"
      ]
    },
    {
      "cell_type": "code",
      "execution_count": null,
      "metadata": {
        "id": "I2LitsiYdmfu"
      },
      "outputs": [],
      "source": [
        "tmp = y*2\n",
        "print(tmp)"
      ]
    },
    {
      "cell_type": "code",
      "source": [
        "# so * lists can be useful if you want to initialize a list with 0s\n",
        "my_counters = [0]*10\n",
        "my_counters"
      ],
      "metadata": {
        "id": "TBnxycCXsuov",
        "outputId": "0e37a74e-30e5-4122-a5ae-0620c04375c2",
        "colab": {
          "base_uri": "https://localhost:8080/"
        }
      },
      "execution_count": 136,
      "outputs": [
        {
          "output_type": "execute_result",
          "data": {
            "text/plain": [
              "[0, 0, 0, 0, 0, 0, 0, 0, 0, 0]"
            ]
          },
          "metadata": {},
          "execution_count": 136
        }
      ]
    },
    {
      "cell_type": "code",
      "source": [
        "my_counters[5] += 1\n",
        "my_counters"
      ],
      "metadata": {
        "id": "4QCmQjBMs5YH",
        "outputId": "93660453-ecbd-4fe4-b446-3cba8f58d270",
        "colab": {
          "base_uri": "https://localhost:8080/"
        }
      },
      "execution_count": 138,
      "outputs": [
        {
          "output_type": "execute_result",
          "data": {
            "text/plain": [
              "[0, 0, 0, 0, 0, 2, 0, 0, 0, 0]"
            ]
          },
          "metadata": {},
          "execution_count": 138
        }
      ]
    },
    {
      "cell_type": "code",
      "execution_count": null,
      "metadata": {
        "id": "R0B0TGASdmfu"
      },
      "outputs": [],
      "source": [
        "len(tmp)"
      ]
    },
    {
      "cell_type": "code",
      "execution_count": null,
      "metadata": {
        "id": "krIx39nQdmfv"
      },
      "outputs": [],
      "source": [
        "tmp[3:18:3]"
      ]
    },
    {
      "cell_type": "code",
      "execution_count": null,
      "metadata": {
        "id": "wopL3m6xdmfv"
      },
      "outputs": [],
      "source": [
        "25 in tmp"
      ]
    },
    {
      "cell_type": "code",
      "execution_count": null,
      "metadata": {
        "id": "k5PO0n9Pdmfv"
      },
      "outputs": [],
      "source": [
        "66 in tmp"
      ]
    },
    {
      "cell_type": "code",
      "execution_count": null,
      "metadata": {
        "id": "M-qzoVMBdmfv"
      },
      "outputs": [],
      "source": [
        "\"Valdis\" in tmp"
      ]
    },
    {
      "cell_type": "code",
      "execution_count": null,
      "metadata": {
        "id": "olsC6qD1dmfv"
      },
      "outputs": [],
      "source": [
        "tmp[::-1]"
      ]
    },
    {
      "cell_type": "code",
      "execution_count": null,
      "metadata": {
        "id": "OeJkkthXdmfw"
      },
      "outputs": [],
      "source": [
        "tmp[3:98:2]"
      ]
    },
    {
      "cell_type": "code",
      "execution_count": null,
      "metadata": {
        "id": "fY5mrotldmfx"
      },
      "outputs": [],
      "source": [
        ""
      ]
    },
    {
      "cell_type": "code",
      "execution_count": null,
      "metadata": {
        "id": "9dRZdOZedmfx"
      },
      "outputs": [],
      "source": [
        "len(y)"
      ]
    },
    {
      "cell_type": "code",
      "execution_count": null,
      "metadata": {
        "id": "eZPd0VZYdmfx"
      },
      "outputs": [],
      "source": [
        "dir(tmp)"
      ]
    },
    {
      "cell_type": "code",
      "execution_count": null,
      "metadata": {
        "id": "5FAnampJdmfx"
      },
      "outputs": [],
      "source": [
        "y"
      ]
    },
    {
      "cell_type": "code",
      "execution_count": null,
      "metadata": {
        "id": "ipInnXGydmfx"
      },
      "outputs": [],
      "source": [
        "y.insert(0, 33)\n",
        "y"
      ]
    },
    {
      "cell_type": "code",
      "execution_count": null,
      "metadata": {
        "id": "EdY1P3g_dmfx"
      },
      "outputs": [],
      "source": [
        "# inserting before 7th element\n",
        "y.insert(6, 33)\n",
        "y"
      ]
    },
    {
      "cell_type": "code",
      "execution_count": null,
      "metadata": {
        "id": "YsTRhnuJdmfx"
      },
      "outputs": [],
      "source": [
        "55 in y"
      ]
    },
    {
      "cell_type": "code",
      "execution_count": null,
      "metadata": {
        "id": "8xlBWjV8dmfx"
      },
      "outputs": [],
      "source": [
        "33 in y"
      ]
    },
    {
      "cell_type": "code",
      "execution_count": null,
      "metadata": {
        "id": "fv07fgG4dmfy"
      },
      "outputs": [],
      "source": [
        "y"
      ]
    },
    {
      "cell_type": "code",
      "execution_count": null,
      "metadata": {
        "id": "2CfVJl-Pdmfy"
      },
      "outputs": [],
      "source": [
        "y.index(16)"
      ]
    },
    {
      "cell_type": "code",
      "execution_count": null,
      "metadata": {
        "id": "eETQ9zBWdmfy"
      },
      "outputs": [],
      "source": [
        "y[4]"
      ]
    },
    {
      "cell_type": "code",
      "execution_count": null,
      "metadata": {
        "id": "DV22iK33dmfy"
      },
      "outputs": [],
      "source": [
        "y.index(33), y[0]"
      ]
    },
    {
      "cell_type": "code",
      "execution_count": null,
      "metadata": {
        "id": "durPEPuxdmfy"
      },
      "outputs": [],
      "source": [
        "# y.remove(33)\n",
        "y.remove(33)\n",
        "y"
      ]
    },
    {
      "cell_type": "code",
      "execution_count": null,
      "metadata": {
        "id": "R4klKrUEdmfy"
      },
      "outputs": [],
      "source": [
        "a = 5\n",
        "a = a + 10\n",
        "a"
      ]
    },
    {
      "cell_type": "code",
      "execution_count": null,
      "metadata": {
        "id": "R2ymuCDVdmfy"
      },
      "outputs": [],
      "source": [
        "a += 10 # same as a = a + 10\n",
        "a"
      ]
    },
    {
      "cell_type": "code",
      "execution_count": null,
      "metadata": {
        "id": "pXxh7br4dmfy"
      },
      "outputs": [],
      "source": [
        "y+=[11, -22, 66] # same as y = y + [11, -22, 66]\n",
        "y"
      ]
    },
    {
      "cell_type": "code",
      "execution_count": null,
      "metadata": {
        "id": "S0m3AcDLdmfz"
      },
      "outputs": [],
      "source": [
        "y.append([11, -22, 66])\n",
        "y"
      ]
    },
    {
      "cell_type": "code",
      "execution_count": null,
      "metadata": {
        "id": "xuRTw2WNdmfz"
      },
      "outputs": [],
      "source": [
        "y = y[:-3]\n",
        "y"
      ]
    },
    {
      "cell_type": "code",
      "execution_count": null,
      "metadata": {
        "id": "F4hctJeSdmfz"
      },
      "outputs": [],
      "source": [
        "newlist = sorted(y) # returns a new sorted list , keeps old list unchanged!\n",
        "newlist"
      ]
    },
    {
      "cell_type": "code",
      "execution_count": null,
      "metadata": {
        "id": "3iUV1XDWdmfz"
      },
      "outputs": [],
      "source": [
        "y"
      ]
    },
    {
      "cell_type": "code",
      "execution_count": null,
      "metadata": {
        "id": "ly5toT45dmfz"
      },
      "outputs": [],
      "source": [
        "y.sort()\n",
        "y"
      ]
    },
    {
      "cell_type": "code",
      "execution_count": null,
      "metadata": {
        "id": "FVeRumJrdmfz"
      },
      "outputs": [],
      "source": [
        "y.reverse()\n",
        "y"
      ]
    },
    {
      "cell_type": "code",
      "execution_count": null,
      "metadata": {
        "id": "f2CP48AGdmfz"
      },
      "outputs": [],
      "source": [
        ""
      ]
    },
    {
      "cell_type": "code",
      "execution_count": null,
      "metadata": {
        "id": "gN46-G4Pdmfz"
      },
      "outputs": [],
      "source": [
        "x=y[::-1]\n",
        "x"
      ]
    },
    {
      "cell_type": "code",
      "execution_count": null,
      "metadata": {
        "id": "Swyl_Ieudmf0"
      },
      "outputs": [],
      "source": [
        "x[5]"
      ]
    },
    {
      "cell_type": "code",
      "execution_count": null,
      "metadata": {
        "id": "x7Lykoyadmf0"
      },
      "outputs": [],
      "source": [
        "z=x.pop(5)\n",
        "print(x, z)\n"
      ]
    },
    {
      "cell_type": "code",
      "execution_count": null,
      "metadata": {
        "id": "BapVOuahdmf0"
      },
      "outputs": [],
      "source": [
        "x.insert(5, z)\n",
        "x"
      ]
    },
    {
      "cell_type": "code",
      "execution_count": null,
      "metadata": {
        "id": "5DmD5wkrdmf0"
      },
      "outputs": [],
      "source": [
        "x.count(33)"
      ]
    },
    {
      "cell_type": "markdown",
      "metadata": {
        "id": "LgOVN800dmf1"
      },
      "source": [
        " ## Common list methods.\n",
        "\n",
        "* `list.append(elem)` -- adds a single element to the end of the list. Common error: does not return the new list, just modifies the original.\n",
        "* `list.insert(index, elem)` -- inserts the element at the given index, shifting elements to the right.\n",
        "* `list.extend(list2)` adds the elements in list2 to the end of the list. Using + or += on a list is similar to using extend().\n",
        "* `list.index(elem)` -- searches for the given element from the start of the list and returns its index. Throws a ValueError if the element does not appear (use \"in\" to check without a ValueError).\n",
        "* `list.remove(elem)` -- searches for the first instance of the given element and removes it (throws ValueError if not present)\n",
        "* `list.sort()` -- sorts the list in place (does not return it). (The sorted() function shown later is preferred.)\n",
        "* `list.reverse()` -- reverses the list in place (does not return it)\n",
        "* `list.pop(index)`-- removes and returns the element at the given index. Returns the rightmost element if index is omitted (roughly the opposite of append())."
      ]
    },
    {
      "cell_type": "code",
      "source": [
        "mixed_list = [1, False, 3.1415926, -1, 0, True, 9000, -343]\n",
        "mixed_list"
      ],
      "metadata": {
        "id": "kWF5r3pftTDf",
        "outputId": "f692b8a5-b29f-4318-9339-db1163642ed2",
        "colab": {
          "base_uri": "https://localhost:8080/"
        }
      },
      "execution_count": 139,
      "outputs": [
        {
          "output_type": "execute_result",
          "data": {
            "text/plain": [
              "[1, False, 3.1415926, -1, 0, True, 9000, -343]"
            ]
          },
          "metadata": {},
          "execution_count": 139
        }
      ]
    },
    {
      "cell_type": "code",
      "source": [
        "sorted(mixed_list)  # so here we can see that False has the same value as 0 and True has the same value as 1 for sorting purposes\n"
      ],
      "metadata": {
        "id": "HHAXVafutciZ",
        "outputId": "ae960688-02db-4190-cc88-028719a2e57a",
        "colab": {
          "base_uri": "https://localhost:8080/"
        }
      },
      "execution_count": 141,
      "outputs": [
        {
          "output_type": "execute_result",
          "data": {
            "text/plain": [
              "[-343, -1, False, 0, 1, True, 3.1415926, 9000]"
            ]
          },
          "metadata": {},
          "execution_count": 141
        }
      ]
    },
    {
      "cell_type": "code",
      "source": [
        "mixed_list"
      ],
      "metadata": {
        "id": "HycfdzBQtobn",
        "outputId": "71cb3b69-4400-4146-81ce-4fa052a086f4",
        "colab": {
          "base_uri": "https://localhost:8080/"
        }
      },
      "execution_count": 142,
      "outputs": [
        {
          "output_type": "execute_result",
          "data": {
            "text/plain": [
              "[1, False, 3.1415926, -1, 0, True, 9000, -343]"
            ]
          },
          "metadata": {},
          "execution_count": 142
        }
      ]
    },
    {
      "cell_type": "code",
      "source": [
        "mixed_list.sort() # this will change list IN PLACE\n",
        "mixed_list"
      ],
      "metadata": {
        "id": "Ah-hk00Stq1P",
        "outputId": "92e826f7-4244-4463-a7bb-094da0bd146b",
        "colab": {
          "base_uri": "https://localhost:8080/"
        }
      },
      "execution_count": 143,
      "outputs": [
        {
          "output_type": "execute_result",
          "data": {
            "text/plain": [
              "[-343, -1, False, 0, 1, True, 3.1415926, 9000]"
            ]
          },
          "metadata": {},
          "execution_count": 143
        }
      ]
    },
    {
      "cell_type": "code",
      "execution_count": null,
      "metadata": {
        "id": "jxPW3_X0dmf1"
      },
      "outputs": [],
      "source": [
        "list(range(55,59))"
      ]
    },
    {
      "cell_type": "code",
      "execution_count": null,
      "metadata": {
        "id": "4jY2Rg3admf1"
      },
      "outputs": [],
      "source": [
        "tmp"
      ]
    },
    {
      "cell_type": "code",
      "execution_count": null,
      "metadata": {
        "id": "oijPS-mzdmf2"
      },
      "outputs": [],
      "source": [
        "tmp.count(64)\n",
        "# We count occurences!"
      ]
    },
    {
      "cell_type": "code",
      "execution_count": null,
      "metadata": {
        "id": "L442caStdmf2"
      },
      "outputs": [],
      "source": [
        "tmp.count('Valdis')"
      ]
    },
    {
      "cell_type": "code",
      "execution_count": null,
      "metadata": {
        "id": "ilq8-0gqdmf2"
      },
      "outputs": [],
      "source": [
        "print(tmp.index(64))\n",
        "tmp[7]"
      ]
    },
    {
      "cell_type": "code",
      "execution_count": null,
      "metadata": {
        "id": "yaQFVlY4dmf2"
      },
      "outputs": [],
      "source": [
        "?tmp.index"
      ]
    },
    {
      "cell_type": "code",
      "execution_count": null,
      "metadata": {
        "id": "xthshtc1dmf2"
      },
      "outputs": [],
      "source": [
        "tmp.index()"
      ]
    },
    {
      "cell_type": "code",
      "execution_count": null,
      "metadata": {
        "id": "SS0N58uudmf2"
      },
      "outputs": [],
      "source": [
        "len(x)"
      ]
    },
    {
      "cell_type": "code",
      "execution_count": null,
      "metadata": {
        "id": "UyQBxGvfdmf3"
      },
      "outputs": [],
      "source": [
        "[] is []"
      ]
    },
    {
      "cell_type": "code",
      "execution_count": null,
      "metadata": {
        "id": "55Zywf99dmf3"
      },
      "outputs": [],
      "source": [
        "[] == []"
      ]
    },
    {
      "cell_type": "markdown",
      "metadata": {
        "id": "dkHeoejddmf3"
      },
      "source": [
        "## List exercise\n",
        "* create list of number 5 to 15 (included) and assign to a variable\n",
        "* output first 4 numbers\n",
        "* output last 3 numbers\n",
        "* output last 3 numbers in reversed order\n",
        "* extra credit output average! "
      ]
    },
    {
      "cell_type": "code",
      "execution_count": null,
      "metadata": {
        "id": "eEumYVBodmf3",
        "outputId": "7b31ee02-69e8-4a09-c016-f4560b9829fd"
      },
      "outputs": [
        {
          "data": {
            "text/plain": [
              "[5, 6, 7, 8, 9, 10, 11, 12, 13, 14, 15]"
            ]
          },
          "execution_count": 110,
          "metadata": {},
          "output_type": "execute_result"
        }
      ],
      "source": [
        "mylist = list(range(5,16))\n",
        "mylist"
      ]
    },
    {
      "cell_type": "code",
      "execution_count": null,
      "metadata": {
        "id": "UG1_Gcb5dmf3",
        "outputId": "31455f9e-1d46-46f4-c7fe-ebe15b3894e2"
      },
      "outputs": [
        {
          "data": {
            "text/plain": [
              "[5, 6, 7, 8]"
            ]
          },
          "execution_count": 111,
          "metadata": {},
          "output_type": "execute_result"
        }
      ],
      "source": [
        "mylist[:4]"
      ]
    },
    {
      "cell_type": "code",
      "execution_count": null,
      "metadata": {
        "id": "tV0VLcHpdmf3",
        "outputId": "d111a2f8-1aaa-40fb-9dc8-9f437d6aae21"
      },
      "outputs": [
        {
          "data": {
            "text/plain": [
              "[13, 14, 15]"
            ]
          },
          "execution_count": 112,
          "metadata": {},
          "output_type": "execute_result"
        }
      ],
      "source": [
        "mylist[-3:]"
      ]
    },
    {
      "cell_type": "code",
      "execution_count": null,
      "metadata": {
        "id": "LufPEgfGdmf3",
        "outputId": "d134e3aa-9382-49a4-d4ed-c98acc89082d"
      },
      "outputs": [
        {
          "data": {
            "text/plain": [
              "[15, 14, 13]"
            ]
          },
          "execution_count": 113,
          "metadata": {},
          "output_type": "execute_result"
        }
      ],
      "source": [
        "mylist[-1:-4:-1]"
      ]
    },
    {
      "cell_type": "code",
      "execution_count": null,
      "metadata": {
        "id": "baKT9unMdmf3",
        "outputId": "bbbaf1c9-6272-4dd2-d78f-437ac1f018ea"
      },
      "outputs": [
        {
          "data": {
            "text/plain": [
              "10.0"
            ]
          },
          "execution_count": 114,
          "metadata": {},
          "output_type": "execute_result"
        }
      ],
      "source": [
        "sum(mylist)/len(mylist) # arithmetic average"
      ]
    },
    {
      "cell_type": "code",
      "execution_count": null,
      "metadata": {
        "id": "IWKQz42ydmf4",
        "outputId": "1e225cd2-44c6-49c7-d500-a48100511411"
      },
      "outputs": [
        {
          "data": {
            "text/plain": [
              "['Bread', 'Milk', 'Chocolate']"
            ]
          },
          "execution_count": 115,
          "metadata": {},
          "output_type": "execute_result"
        }
      ],
      "source": [
        "groceries"
      ]
    },
    {
      "cell_type": "code",
      "execution_count": null,
      "metadata": {
        "id": "ysSvaWJidmf4",
        "outputId": "ec83e5a5-4805-4a05-fd86-c69b6a6dd236"
      },
      "outputs": [
        {
          "data": {
            "text/plain": [
              "['Bread', 'Milk', 'Chocolate', 'Brown Bread', 'Chococolate Bread', 'Rye Bread']"
            ]
          },
          "execution_count": 116,
          "metadata": {},
          "output_type": "execute_result"
        }
      ],
      "source": [
        "groceries += [\"Brown Bread\", \"Chococolate Bread\", \"Rye Bread\"]\n",
        "groceries"
      ]
    },
    {
      "cell_type": "code",
      "execution_count": null,
      "metadata": {
        "id": "Ak5azKCvdmf4",
        "outputId": "ee6d71d3-04c8-4f2e-b46d-734c53372a8b"
      },
      "outputs": [
        {
          "data": {
            "text/plain": [
              "['Milk', 'Chocolate', 'Brown Bread', 'Chococolate Bread', 'Rye Bread']"
            ]
          },
          "execution_count": 117,
          "metadata": {},
          "output_type": "execute_result"
        }
      ],
      "source": [
        "groceries = groceries[1:] # get rid of the 1st element\n",
        "groceries"
      ]
    },
    {
      "cell_type": "code",
      "execution_count": null,
      "metadata": {
        "id": "Niyx63Zndmf4",
        "outputId": "97f4c99e-aab0-4f32-fb62-9264ad1dbbb6"
      },
      "outputs": [
        {
          "data": {
            "text/plain": [
              "False"
            ]
          },
          "execution_count": 118,
          "metadata": {},
          "output_type": "execute_result"
        }
      ],
      "source": [
        "\"Bread\" in groceries"
      ]
    },
    {
      "cell_type": "code",
      "execution_count": null,
      "metadata": {
        "id": "lwIsQhIGdmf4",
        "outputId": "f083b81f-b3c5-4654-ee64-4f720b9006a5"
      },
      "outputs": [
        {
          "data": {
            "text/plain": [
              "['Brown Bread', 'Chococolate Bread', 'Rye Bread']"
            ]
          },
          "execution_count": 119,
          "metadata": {},
          "output_type": "execute_result"
        }
      ],
      "source": [
        "found_list = []\n",
        "key = \"Bread\"\n",
        "for item in groceries:\n",
        "    if \"Bread\" in item:\n",
        "        found_list.append(item)\n",
        "found_list"
      ]
    },
    {
      "cell_type": "code",
      "execution_count": null,
      "metadata": {
        "id": "6y0ZjAeSdmf5"
      },
      "outputs": [],
      "source": [
        ""
      ]
    },
    {
      "cell_type": "code",
      "execution_count": null,
      "metadata": {
        "id": "X_X8BmGhdmf5",
        "outputId": "780bd51c-a361-4747-b83f-3b0b74cb83bb"
      },
      "outputs": [
        {
          "data": {
            "text/plain": [
              "['Milk']"
            ]
          },
          "execution_count": 120,
          "metadata": {},
          "output_type": "execute_result"
        }
      ],
      "source": [
        "found_list = []\n",
        "key = \"ilk\"\n",
        "for item in groceries:\n",
        "    if key in item:\n",
        "        found_list.append(item)\n",
        "found_list"
      ]
    },
    {
      "cell_type": "code",
      "execution_count": null,
      "metadata": {
        "id": "30wPX3CDdmf5"
      },
      "outputs": [],
      "source": [
        "groceries.append(\"Silken herring\") # I dont think there is such a herring ..."
      ]
    },
    {
      "cell_type": "code",
      "execution_count": null,
      "metadata": {
        "id": "-AqPC8O2dmf5",
        "outputId": "161f904b-b93c-435d-c6e5-9e2c12a3cfc1"
      },
      "outputs": [
        {
          "data": {
            "text/plain": [
              "['Milk',\n",
              " 'Chocolate',\n",
              " 'Brown Bread',\n",
              " 'Chococolate Bread',\n",
              " 'Rye Bread',\n",
              " 'Silken herring']"
            ]
          },
          "execution_count": 122,
          "metadata": {},
          "output_type": "execute_result"
        }
      ],
      "source": [
        "groceries"
      ]
    },
    {
      "cell_type": "code",
      "execution_count": null,
      "metadata": {
        "id": "TFqv94iYdmf5",
        "outputId": "47f2a9c0-b3e4-49a9-bf88-6f61edd67dcf"
      },
      "outputs": [
        {
          "data": {
            "text/plain": [
              "['Milk', 'Silken herring']"
            ]
          },
          "execution_count": 123,
          "metadata": {},
          "output_type": "execute_result"
        }
      ],
      "source": [
        "found_list = []\n",
        "key = \"ilk\"\n",
        "for item in groceries:\n",
        "    if key in item:\n",
        "        found_list.append(item)\n",
        "found_list"
      ]
    },
    {
      "cell_type": "code",
      "execution_count": null,
      "metadata": {
        "id": "2D3q2Mnddmf5"
      },
      "outputs": [],
      "source": [
        ""
      ]
    },
    {
      "cell_type": "code",
      "source": [
        "# Tuples\n"
      ],
      "metadata": {
        "id": "mpSOjmD2t_po"
      },
      "execution_count": null,
      "outputs": []
    },
    {
      "cell_type": "markdown",
      "source": [
        "# Tuples\n",
        "https://docs.python.org/3/tutorial/datastructures.html#tuples-and-sequences"
      ],
      "metadata": {
        "id": "fpjBu5AZuBtb"
      }
    },
    {
      "cell_type": "code",
      "source": [
        "my_tuple = 3, 6, \"Anything\"\n",
        "my_tuple"
      ],
      "metadata": {
        "id": "DCInVLWPuGdL",
        "outputId": "14f9ab21-83ce-46e6-c68c-d781b054889f",
        "colab": {
          "base_uri": "https://localhost:8080/"
        }
      },
      "execution_count": 144,
      "outputs": [
        {
          "output_type": "execute_result",
          "data": {
            "text/plain": [
              "(3, 6, 'Anything')"
            ]
          },
          "metadata": {},
          "execution_count": 144
        }
      ]
    },
    {
      "cell_type": "code",
      "source": [
        "type(my_tuple)"
      ],
      "metadata": {
        "id": "MQ93PY9xuLkt",
        "outputId": "3c7bc845-2695-4fc4-b0a6-d4091fc1ea68",
        "colab": {
          "base_uri": "https://localhost:8080/"
        }
      },
      "execution_count": 145,
      "outputs": [
        {
          "output_type": "execute_result",
          "data": {
            "text/plain": [
              "tuple"
            ]
          },
          "metadata": {},
          "execution_count": 145
        }
      ]
    },
    {
      "cell_type": "code",
      "source": [
        "# Tuples are more efficient as long as you do not need to change them(then we need lists)\n",
        "# tuples are often used for passing different values around\n"
      ],
      "metadata": {
        "id": "W27L64HxuNzB"
      },
      "execution_count": 146,
      "outputs": []
    },
    {
      "cell_type": "code",
      "source": [
        "number_tuples = tuple(range(5,18))  # notice the round regular parenthesis (not square brackets used by list!)\n",
        "number_tuples"
      ],
      "metadata": {
        "id": "ul8aiAX1uX4E",
        "outputId": "f4bac424-66a4-4955-f094-cd09f2495801",
        "colab": {
          "base_uri": "https://localhost:8080/"
        }
      },
      "execution_count": 147,
      "outputs": [
        {
          "output_type": "execute_result",
          "data": {
            "text/plain": [
              "(5, 6, 7, 8, 9, 10, 11, 12, 13, 14, 15, 16, 17)"
            ]
          },
          "metadata": {},
          "execution_count": 147
        }
      ]
    },
    {
      "cell_type": "code",
      "source": [
        "sum(number_tuples), min(number_tuples), max(number_tuples)"
      ],
      "metadata": {
        "id": "vLvqSH5guiXi",
        "outputId": "3c916ded-aa1c-41d1-ef1f-6ff91dbe4314",
        "colab": {
          "base_uri": "https://localhost:8080/"
        }
      },
      "execution_count": 148,
      "outputs": [
        {
          "output_type": "execute_result",
          "data": {
            "text/plain": [
              "(143, 5, 17)"
            ]
          },
          "metadata": {},
          "execution_count": 148
        }
      ]
    },
    {
      "cell_type": "code",
      "source": [
        "a = 5\n",
        "b = 9\n",
        "mini_tuple = a, b # we pack values inside our tuple\n",
        "mini_tuple"
      ],
      "metadata": {
        "id": "DMak7B5Luojl",
        "outputId": "4dac5698-a79a-4d46-fdb8-bb47d2feae82",
        "colab": {
          "base_uri": "https://localhost:8080/"
        }
      },
      "execution_count": 152,
      "outputs": [
        {
          "output_type": "execute_result",
          "data": {
            "text/plain": [
              "(5, 9)"
            ]
          },
          "metadata": {},
          "execution_count": 152
        }
      ]
    },
    {
      "cell_type": "code",
      "source": [
        "number_tuples[3:6]  #i get another tuple, so I can slice and dice the tuples, just rememer that to save results I need to create new tuples"
      ],
      "metadata": {
        "id": "4GO54Ii3uz2y",
        "outputId": "de5e0f7b-5e65-4a6d-d50a-fd688ba55896",
        "colab": {
          "base_uri": "https://localhost:8080/"
        }
      },
      "execution_count": 151,
      "outputs": [
        {
          "output_type": "execute_result",
          "data": {
            "text/plain": [
              "(8, 9, 10)"
            ]
          },
          "metadata": {},
          "execution_count": 151
        }
      ]
    },
    {
      "cell_type": "code",
      "source": [
        "# i can also unpack a tuple\n",
        "c, d = mini_tuple # so unpacking I do need to pay attention to size of tuple \n",
        "print(c, d)"
      ],
      "metadata": {
        "id": "hCjtPX5_u-VX",
        "outputId": "4d5cc322-c428-4e1b-9025-fd1ac61569bf",
        "colab": {
          "base_uri": "https://localhost:8080/"
        }
      },
      "execution_count": 153,
      "outputs": [
        {
          "output_type": "stream",
          "name": "stdout",
          "text": [
            "5 9\n"
          ]
        }
      ]
    },
    {
      "cell_type": "code",
      "source": [
        "# combining packing and unpacking we can use it to exchange values\n",
        "print(a, b)\n",
        "a, b = b, a # without this trick we would need a 3rd temporary variable\n",
        "print(a, b)"
      ],
      "metadata": {
        "id": "-vTeQWVTvSX5",
        "outputId": "ce5e9160-b267-4021-c69d-ace2231835a1",
        "colab": {
          "base_uri": "https://localhost:8080/"
        }
      },
      "execution_count": 154,
      "outputs": [
        {
          "output_type": "stream",
          "name": "stdout",
          "text": [
            "5 9\n",
            "9 5\n"
          ]
        }
      ]
    },
    {
      "cell_type": "code",
      "source": [
        "# Lists are for storing homogenous items (same data type) so list of strings, list of ints, etc\n",
        "# Tuples are for storing heterogenous items (different data types) just whatever\n",
        "# this is not strictly enforced but just a suggestion\n",
        "# https://stackoverflow.com/questions/626759/whats-the-difference-between-lists-and-tuples more on this issue"
      ],
      "metadata": {
        "id": "C5tHF-CEvjT5"
      },
      "execution_count": 155,
      "outputs": []
    },
    {
      "cell_type": "code",
      "source": [
        "# One last thing on tuples, the values inside can be mutated but not changed\n",
        "my_tuple = (5, \"Valdis\", [1,2,3], (5,6,7)) \n",
        "my_tuple"
      ],
      "metadata": {
        "id": "mbaA6mIEwAiX",
        "outputId": "2b9bce9c-fb62-4c2e-af25-6a4f4330a679",
        "colab": {
          "base_uri": "https://localhost:8080/"
        }
      },
      "execution_count": 156,
      "outputs": [
        {
          "output_type": "execute_result",
          "data": {
            "text/plain": [
              "(5, 'Valdis', [1, 2, 3], (5, 6, 7))"
            ]
          },
          "metadata": {},
          "execution_count": 156
        }
      ]
    },
    {
      "cell_type": "code",
      "source": [
        "# i can not change what I am storing in a tuple\n",
        "my_tuple[1]"
      ],
      "metadata": {
        "id": "HP9FhOdKwQmX",
        "outputId": "4f8956de-1edb-43b9-bab7-a5a8c13a7ecf",
        "colab": {
          "base_uri": "https://localhost:8080/",
          "height": 35
        }
      },
      "execution_count": 157,
      "outputs": [
        {
          "output_type": "execute_result",
          "data": {
            "application/vnd.google.colaboratory.intrinsic+json": {
              "type": "string"
            },
            "text/plain": [
              "'Valdis'"
            ]
          },
          "metadata": {},
          "execution_count": 157
        }
      ]
    },
    {
      "cell_type": "code",
      "source": [
        "# my_tuple[1] = \"Voldemars\" # not allowed"
      ],
      "metadata": {
        "id": "kkR6qEdLwaI2",
        "outputId": "dc5019d5-04d7-4580-d97e-1d85161b727f",
        "colab": {
          "base_uri": "https://localhost:8080/",
          "height": 167
        }
      },
      "execution_count": 158,
      "outputs": [
        {
          "output_type": "error",
          "ename": "TypeError",
          "evalue": "ignored",
          "traceback": [
            "\u001b[0;31m---------------------------------------------------------------------------\u001b[0m",
            "\u001b[0;31mTypeError\u001b[0m                                 Traceback (most recent call last)",
            "\u001b[0;32m<ipython-input-158-172a5a6cb1ae>\u001b[0m in \u001b[0;36m<module>\u001b[0;34m()\u001b[0m\n\u001b[0;32m----> 1\u001b[0;31m \u001b[0mmy_tuple\u001b[0m\u001b[0;34m[\u001b[0m\u001b[0;36m1\u001b[0m\u001b[0;34m]\u001b[0m \u001b[0;34m=\u001b[0m \u001b[0;34m\"Voldemars\"\u001b[0m \u001b[0;31m# not allowed\u001b[0m\u001b[0;34m\u001b[0m\u001b[0;34m\u001b[0m\u001b[0m\n\u001b[0m",
            "\u001b[0;31mTypeError\u001b[0m: 'tuple' object does not support item assignment"
          ]
        }
      ]
    },
    {
      "cell_type": "code",
      "source": [
        "# turns out we can mutate the list inside the tuple no problem\n",
        "my_tuple[2], type(my_tuple[2])"
      ],
      "metadata": {
        "id": "1ox66A2XwidL",
        "outputId": "97c2a3a5-6c08-4ee5-88f6-78c577db6463",
        "colab": {
          "base_uri": "https://localhost:8080/"
        }
      },
      "execution_count": 160,
      "outputs": [
        {
          "output_type": "execute_result",
          "data": {
            "text/plain": [
              "([1, 2, 3], list)"
            ]
          },
          "metadata": {},
          "execution_count": 160
        }
      ]
    },
    {
      "cell_type": "code",
      "source": [
        "my_tuple[2] = [1,6,2,6,7,9]  # not allowed! OUT OF PLACE"
      ],
      "metadata": {
        "id": "M7b0I-SjwrF6",
        "outputId": "4b50776b-75ad-4dec-9f8e-3826f19f51fc",
        "colab": {
          "base_uri": "https://localhost:8080/",
          "height": 167
        }
      },
      "execution_count": 161,
      "outputs": [
        {
          "output_type": "error",
          "ename": "TypeError",
          "evalue": "ignored",
          "traceback": [
            "\u001b[0;31m---------------------------------------------------------------------------\u001b[0m",
            "\u001b[0;31mTypeError\u001b[0m                                 Traceback (most recent call last)",
            "\u001b[0;32m<ipython-input-161-b2525b1cb23d>\u001b[0m in \u001b[0;36m<module>\u001b[0;34m()\u001b[0m\n\u001b[0;32m----> 1\u001b[0;31m \u001b[0mmy_tuple\u001b[0m\u001b[0;34m[\u001b[0m\u001b[0;36m2\u001b[0m\u001b[0;34m]\u001b[0m \u001b[0;34m=\u001b[0m \u001b[0;34m[\u001b[0m\u001b[0;36m1\u001b[0m\u001b[0;34m,\u001b[0m\u001b[0;36m6\u001b[0m\u001b[0;34m,\u001b[0m\u001b[0;36m2\u001b[0m\u001b[0;34m,\u001b[0m\u001b[0;36m6\u001b[0m\u001b[0;34m,\u001b[0m\u001b[0;36m7\u001b[0m\u001b[0;34m,\u001b[0m\u001b[0;36m9\u001b[0m\u001b[0;34m]\u001b[0m  \u001b[0;31m# not allowed! OUT OF PLACE\u001b[0m\u001b[0;34m\u001b[0m\u001b[0;34m\u001b[0m\u001b[0m\n\u001b[0m",
            "\u001b[0;31mTypeError\u001b[0m: 'tuple' object does not support item assignment"
          ]
        }
      ]
    },
    {
      "cell_type": "code",
      "source": [
        "my_tuple[2].append(9000)\n",
        "my_tuple"
      ],
      "metadata": {
        "id": "paVrQywEwwJ8",
        "outputId": "ca9a7b21-f282-4412-bcc5-20291622dd17",
        "colab": {
          "base_uri": "https://localhost:8080/"
        }
      },
      "execution_count": 162,
      "outputs": [
        {
          "output_type": "execute_result",
          "data": {
            "text/plain": [
              "(5, 'Valdis', [1, 2, 3, 9000], (5, 6, 7))"
            ]
          },
          "metadata": {},
          "execution_count": 162
        }
      ]
    },
    {
      "cell_type": "code",
      "source": [
        "my_tuple[2].extend([-6,3.14])  # again IN PLACE methods work on mutable objects inside tuple\n",
        "my_tuple"
      ],
      "metadata": {
        "id": "Xr2H2Bjvw0nd",
        "outputId": "055cb39b-1517-4c04-f061-154518fcc2c3",
        "colab": {
          "base_uri": "https://localhost:8080/"
        }
      },
      "execution_count": 164,
      "outputs": [
        {
          "output_type": "execute_result",
          "data": {
            "text/plain": [
              "(5, 'Valdis', [1, 2, 3, 9000, -6, 3.14], (5, 6, 7))"
            ]
          },
          "metadata": {},
          "execution_count": 164
        }
      ]
    },
    {
      "cell_type": "code",
      "source": [
        "my_tuple[2].clear() # i can clear the list inside the tuple but it remains the same list(object) that we started with\n",
        "my_tuple "
      ],
      "metadata": {
        "id": "Nf5AL3KZxDQp",
        "outputId": "16589aee-a1d0-4105-ab71-b82be267ade5",
        "colab": {
          "base_uri": "https://localhost:8080/"
        }
      },
      "execution_count": 165,
      "outputs": [
        {
          "output_type": "execute_result",
          "data": {
            "text/plain": [
              "(5, 'Valdis', [], (5, 6, 7))"
            ]
          },
          "metadata": {},
          "execution_count": 165
        }
      ]
    },
    {
      "cell_type": "code",
      "source": [
        ""
      ],
      "metadata": {
        "id": "o8wu-laIxVrb"
      },
      "execution_count": null,
      "outputs": []
    }
  ],
  "metadata": {
    "kernelspec": {
      "display_name": "Python 3",
      "language": "python",
      "name": "python3"
    },
    "language_info": {
      "codemirror_mode": {
        "name": "ipython",
        "version": 3
      },
      "file_extension": ".py",
      "mimetype": "text/x-python",
      "name": "python",
      "nbconvert_exporter": "python",
      "pygments_lexer": "ipython3",
      "version": "3.8.3"
    },
    "colab": {
      "name": "Python Lists.ipynb",
      "provenance": []
    }
  },
  "nbformat": 4,
  "nbformat_minor": 0
}