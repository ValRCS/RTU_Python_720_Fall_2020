{
  "cells": [
    {
      "cell_type": "markdown",
      "metadata": {},
      "source": [
        "# Lists and Tuples in Python\n",
        "\n",
        "Lists and Tuples are two of the most commonly used data structures in Python. They are used to store multiple items in a single variable. They are both ordered and indexed, which means that you can access elements by their index. However, there are some differences between them. In this notebook, we will discuss the differences between lists and tuples in Python."
      ]
    },
    {
      "cell_type": "markdown",
      "metadata": {
        "id": "HS7cmd4mdmfW"
      },
      "source": [
        "## Python Lists\n",
        "\n",
        "* Ordered\n",
        "* Mutable(can change individual members!) unlike characters in strings\n",
        "* Dynamic size - can change the size of the list itself, unlike strings which are fixed\n",
        "* Comma separated between brackets [1,3,2,5,6,2]\n",
        "* Can have duplicates\n",
        "* Can be nested - can have list inside list and so on\n",
        "* Can use same syntax for slicing and indexing as in strings\n"
      ]
    },
    {
      "cell_type": "code",
      "execution_count": null,
      "metadata": {},
      "outputs": [],
      "source": [
        "grocery_1 = \"Bread\"\n",
        "grocery_2 = \"Milk\"\n",
        "grocery_3 = \"Eggs\"\n",
        "# is this a good way to store groceries?\n",
        "# there should be a beter way :)"
      ]
    },
    {
      "cell_type": "code",
      "execution_count": 1,
      "metadata": {
        "colab": {
          "base_uri": "https://localhost:8080/"
        },
        "id": "RgdraD0udmfX",
        "outputId": "2b3bd595-1c5c-49ca-bed0-8063a4fe0e1b"
      },
      "outputs": [
        {
          "name": "stdout",
          "output_type": "stream",
          "text": [
            "['Bread', 'Eggs', 'Milk']\n"
          ]
        }
      ],
      "source": [
        "# in other words it is a generic container for whatever you want to store in computer memory\n",
        "groceries=['Bread','Eggs','Milk'] # define my list and I will store 3 strings inside\n",
        "print(groceries)"
      ]
    },
    {
      "cell_type": "code",
      "execution_count": 2,
      "metadata": {
        "colab": {
          "base_uri": "https://localhost:8080/"
        },
        "id": "L5ZlB9e6dmfY",
        "outputId": "98aa38a2-5670-4c34-b849-9b1e1814adda"
      },
      "outputs": [
        {
          "data": {
            "text/plain": [
              "list"
            ]
          },
          "execution_count": 2,
          "metadata": {},
          "output_type": "execute_result"
        }
      ],
      "source": [
        "type(groceries)"
      ]
    },
    {
      "cell_type": "code",
      "execution_count": 3,
      "metadata": {
        "colab": {
          "base_uri": "https://localhost:8080/"
        },
        "id": "p44PffLKdmfZ",
        "outputId": "5690b871-4081-4865-bc41-1a0b7c77dcb6"
      },
      "outputs": [
        {
          "data": {
            "text/plain": [
              "0"
            ]
          },
          "execution_count": 3,
          "metadata": {},
          "output_type": "execute_result"
        }
      ],
      "source": [
        "emptylist = [] # often used to initialize before storing things inside a list\n",
        "# name emptylist could be any valid variable name\n",
        "len(emptylist)"
      ]
    },
    {
      "cell_type": "code",
      "execution_count": 6,
      "metadata": {
        "colab": {
          "base_uri": "https://localhost:8080/"
        },
        "id": "j-kjaYV7exoj",
        "outputId": "63bc8b53-3f08-4ba5-dbfc-be9e1c980312"
      },
      "outputs": [
        {
          "data": {
            "text/plain": [
              "3"
            ]
          },
          "execution_count": 6,
          "metadata": {},
          "output_type": "execute_result"
        }
      ],
      "source": [
        "len(groceries) # if you are working in a different enviroment without variable inspector\n"
      ]
    },
    {
      "cell_type": "code",
      "execution_count": 7,
      "metadata": {
        "colab": {
          "base_uri": "https://localhost:8080/"
        },
        "id": "D_L3aIkHdmfZ",
        "outputId": "b607acfe-61e9-4f21-fed0-2516136c1749"
      },
      "outputs": [
        {
          "data": {
            "text/plain": [
              "True"
            ]
          },
          "execution_count": 7,
          "metadata": {},
          "output_type": "execute_result"
        }
      ],
      "source": [
        "# checking for existance\n",
        "# if we have many items in a list this will take so called O(n) time\n",
        "# meaning if we have million items Python will have to check every single one\n",
        "# there is another structure for this which is more efficient\n",
        "'Bread' in groceries"
      ]
    },
    {
      "cell_type": "code",
      "execution_count": 8,
      "metadata": {
        "colab": {
          "base_uri": "https://localhost:8080/"
        },
        "id": "PaHdfMDbvPs0",
        "outputId": "9aa76740-4e31-482f-e47c-c63841a6e9fe"
      },
      "outputs": [
        {
          "data": {
            "text/plain": [
              "False"
            ]
          },
          "execution_count": 8,
          "metadata": {},
          "output_type": "execute_result"
        }
      ],
      "source": [
        "'Bread' in emptylist # should be False"
      ]
    },
    {
      "cell_type": "code",
      "execution_count": 9,
      "metadata": {
        "colab": {
          "base_uri": "https://localhost:8080/"
        },
        "id": "vnM1nB_Mdmfa",
        "outputId": "ed990619-e7e5-4e47-bc2b-5beb08a38f69"
      },
      "outputs": [
        {
          "data": {
            "text/plain": [
              "True"
            ]
          },
          "execution_count": 9,
          "metadata": {},
          "output_type": "execute_result"
        }
      ],
      "source": [
        "food = \"My breadsticks\" # compare with string membership\n",
        "\"bread\" in food"
      ]
    },
    {
      "cell_type": "code",
      "execution_count": 10,
      "metadata": {
        "colab": {
          "base_uri": "https://localhost:8080/"
        },
        "id": "cEOlUZiYdmfa",
        "outputId": "23c6502b-a27b-48b2-f9aa-a47b056cd599"
      },
      "outputs": [
        {
          "data": {
            "text/plain": [
              "False"
            ]
          },
          "execution_count": 10,
          "metadata": {},
          "output_type": "execute_result"
        }
      ],
      "source": [
        "\"read\" in groceries # so when checking for existance in a list it has to an exact match, \n",
        "# so we will need a loop to find in exact matches"
      ]
    },
    {
      "cell_type": "code",
      "execution_count": 11,
      "metadata": {
        "colab": {
          "base_uri": "https://localhost:8080/"
        },
        "id": "XRUNtZ_0dmfb",
        "outputId": "cea7e622-b458-4355-fe5a-a27253cb1336"
      },
      "outputs": [
        {
          "data": {
            "text/plain": [
              "False"
            ]
          },
          "execution_count": 11,
          "metadata": {},
          "output_type": "execute_result"
        }
      ],
      "source": [
        "'Apples'  in groceries"
      ]
    },
    {
      "cell_type": "code",
      "execution_count": 12,
      "metadata": {
        "colab": {
          "base_uri": "https://localhost:8080/"
        },
        "id": "PFN1a3Zvdmfc",
        "outputId": "3bc34a5e-f331-482e-c845-4347c5117468"
      },
      "outputs": [
        {
          "name": "stdout",
          "output_type": "stream",
          "text": [
            "['V', 'a', 'l', 'd', 'i', 's']\n"
          ]
        }
      ],
      "source": [
        "# we can call a list conversion a a string (or other sequence types)\n",
        "# remember we had int, float, bool and str conversion\n",
        "name_list = list(\"Valdis\")\n",
        "print(name_list)"
      ]
    },
    {
      "cell_type": "code",
      "execution_count": 13,
      "metadata": {
        "colab": {
          "base_uri": "https://localhost:8080/"
        },
        "id": "aNN0wPmjdmfc",
        "outputId": "e1261244-3c36-45cd-8e76-7f9e63df77a4"
      },
      "outputs": [
        {
          "name": "stdout",
          "output_type": "stream",
          "text": [
            "['M', 'y', ' ', 'b', 'r', 'e', 'a', 'd', 's', 't', 'i', 'c', 'k', 's']\n"
          ]
        }
      ],
      "source": [
        "print(list(food))"
      ]
    },
    {
      "cell_type": "code",
      "execution_count": 14,
      "metadata": {
        "colab": {
          "base_uri": "https://localhost:8080/",
          "height": 167
        },
        "id": "6ZkZ4XB4dmfd",
        "outputId": "14b107bd-ec2c-49ad-ca11-fbdc20ec35d0"
      },
      "outputs": [
        {
          "ename": "TypeError",
          "evalue": "ignored",
          "output_type": "error",
          "traceback": [
            "\u001b[0;31m---------------------------------------------------------------------------\u001b[0m",
            "\u001b[0;31mTypeError\u001b[0m                                 Traceback (most recent call last)",
            "\u001b[0;32m<ipython-input-14-feafda342bf6>\u001b[0m in \u001b[0;36m<module>\u001b[0;34m\u001b[0m\n\u001b[0;32m----> 1\u001b[0;31m \u001b[0mlist\u001b[0m\u001b[0;34m(\u001b[0m\u001b[0;36m5\u001b[0m\u001b[0;34m)\u001b[0m \u001b[0;31m# this will be an error why? because 5 is not an iterable sequence\u001b[0m\u001b[0;34m\u001b[0m\u001b[0;34m\u001b[0m\u001b[0m\n\u001b[0m",
            "\u001b[0;31mTypeError\u001b[0m: 'int' object is not iterable"
          ]
        }
      ],
      "source": [
        "list(5) # this will be an error why? because 5 is not an iterable sequence\n",
        "# this means we can not loop over it"
      ]
    },
    {
      "cell_type": "code",
      "execution_count": 15,
      "metadata": {
        "colab": {
          "base_uri": "https://localhost:8080/"
        },
        "id": "S2I8A3OjfTw8",
        "outputId": "6cc1f349-9319-46e5-f10b-0f805c895e1c"
      },
      "outputs": [
        {
          "data": {
            "text/plain": [
              "[5]"
            ]
          },
          "execution_count": 15,
          "metadata": {},
          "output_type": "execute_result"
        }
      ],
      "source": [
        "single_item_list = [5] # notice the square brackets\n",
        "single_item_list"
      ]
    },
    {
      "cell_type": "code",
      "execution_count": null,
      "metadata": {
        "colab": {
          "base_uri": "https://localhost:8080/"
        },
        "id": "Ffj-zTZ2dmfd",
        "outputId": "bd1f1635-2d08-4a64-9656-40b97d52d147"
      },
      "outputs": [
        {
          "data": {
            "text/plain": [
              "['V']"
            ]
          },
          "execution_count": 13,
          "metadata": {},
          "output_type": "execute_result"
        }
      ],
      "source": [
        "list(\"V\") # so we get a list with single item - string with one character\n",
        "# this works because strings even a single character strings are sequences of something we can iterate over"
      ]
    },
    {
      "cell_type": "code",
      "execution_count": null,
      "metadata": {
        "colab": {
          "base_uri": "https://localhost:8080/"
        },
        "id": "h2tKbr7ufbBa",
        "outputId": "8247d631-0314-47d1-f6cd-9cc1c074a131"
      },
      "outputs": [
        {
          "data": {
            "text/plain": [
              "['V', 'a', 'l', 'd', 'i', 's']"
            ]
          },
          "execution_count": 14,
          "metadata": {},
          "output_type": "execute_result"
        }
      ],
      "source": [
        "name_list"
      ]
    },
    {
      "cell_type": "code",
      "execution_count": 16,
      "metadata": {
        "colab": {
          "base_uri": "https://localhost:8080/",
          "height": 35
        },
        "id": "fVXhfbR6dmfd",
        "outputId": "62f714af-f71c-4b2d-da1c-c2fffe1b79a5"
      },
      "outputs": [
        {
          "data": {
            "application/vnd.google.colaboratory.intrinsic+json": {
              "type": "string"
            },
            "text/plain": [
              "'d'"
            ]
          },
          "execution_count": 16,
          "metadata": {},
          "output_type": "execute_result"
        }
      ],
      "source": [
        "name_list[3] # index starts with 0 just like with strings"
      ]
    },
    {
      "cell_type": "code",
      "execution_count": 17,
      "metadata": {
        "colab": {
          "base_uri": "https://localhost:8080/"
        },
        "id": "ncc8iXTxwRGy",
        "outputId": "528ccca4-470f-49e3-e35c-4bc87826277c"
      },
      "outputs": [
        {
          "data": {
            "text/plain": [
              "('i', 'd')"
            ]
          },
          "execution_count": 17,
          "metadata": {},
          "output_type": "execute_result"
        }
      ],
      "source": [
        "# how about from the other end? using negative index\n",
        "name_list[-2], name_list[-3]"
      ]
    },
    {
      "cell_type": "code",
      "execution_count": 18,
      "metadata": {
        "colab": {
          "base_uri": "https://localhost:8080/"
        },
        "id": "2fM9On8Ldmfe",
        "outputId": "e7a126fb-2e9a-4611-e0bb-b37623cdeb9c"
      },
      "outputs": [
        {
          "name": "stdout",
          "output_type": "stream",
          "text": [
            "['V', 'a', 'l', 'b', 'i', 's']\n"
          ]
        }
      ],
      "source": [
        "name_list[3]='b' # unlike strings we can mutate contents of list\n",
        "# i could have put any data instead of 'b' actually\n",
        "print(name_list)\n"
      ]
    },
    {
      "cell_type": "code",
      "execution_count": 19,
      "metadata": {
        "colab": {
          "base_uri": "https://localhost:8080/",
          "height": 35
        },
        "id": "iM28xB5odmfe",
        "outputId": "19b96d1d-f66e-422b-e4f0-94e4f5d7aaa2"
      },
      "outputs": [
        {
          "data": {
            "application/vnd.google.colaboratory.intrinsic+json": {
              "type": "string"
            },
            "text/plain": [
              "\"['V', 'a', 'l', 'b', 'i', 's']\""
            ]
          },
          "execution_count": 19,
          "metadata": {},
          "output_type": "execute_result"
        }
      ],
      "source": [
        "# this will not work as expected\n",
        "str(name_list)  # this creates a literal string out of how list looks when printed, not very useful"
      ]
    },
    {
      "cell_type": "code",
      "execution_count": 20,
      "metadata": {
        "colab": {
          "base_uri": "https://localhost:8080/"
        },
        "id": "Ef310Eiywq3C",
        "outputId": "861da6c9-2700-4203-aa88-c8cd81820602"
      },
      "outputs": [
        {
          "name": "stdout",
          "output_type": "stream",
          "text": [
            "['V', 'a', 'l', 'b', 'i', 's']\n"
          ]
        }
      ],
      "source": [
        "str_from_list = str(name_list)  # not quite what we want\n",
        "print(str_from_list) # this is actually a string, not very useful"
      ]
    },
    {
      "cell_type": "code",
      "execution_count": 22,
      "metadata": {
        "colab": {
          "base_uri": "https://localhost:8080/",
          "height": 35
        },
        "id": "sNwX21DMdmfe",
        "outputId": "3c0a00e3-8f97-4963-8575-495743e0d987"
      },
      "outputs": [
        {
          "data": {
            "application/vnd.google.colaboratory.intrinsic+json": {
              "type": "string"
            },
            "text/plain": [
              "'Valbis'"
            ]
          },
          "execution_count": 22,
          "metadata": {},
          "output_type": "execute_result"
        }
      ],
      "source": [
        "# We can join the list back into a string \n",
        "# by using an empty string and joining our list\n",
        "\"\".join(name_list) # we pass a list as a parameter\n",
        "# important the list should contain ONLY strings"
      ]
    },
    {
      "cell_type": "code",
      "execution_count": 23,
      "metadata": {
        "colab": {
          "base_uri": "https://localhost:8080/",
          "height": 35
        },
        "id": "4kofNOFedmff",
        "outputId": "cd6e4d0c-5d7b-4b7b-c572-7e85f7a6e253"
      },
      "outputs": [
        {
          "data": {
            "application/vnd.google.colaboratory.intrinsic+json": {
              "type": "string"
            },
            "text/plain": [
              "'V:|:a:|:l:|:b:|:i:|:s'"
            ]
          },
          "execution_count": 23,
          "metadata": {},
          "output_type": "execute_result"
        }
      ],
      "source": [
        "\":|:\".join(name_list)  #you can use any string for joining, there is a requirement that list itself contains strings"
      ]
    },
    {
      "cell_type": "code",
      "execution_count": 24,
      "metadata": {
        "colab": {
          "base_uri": "https://localhost:8080/"
        },
        "id": "q9lLudoMxS2g",
        "outputId": "fafcd9d0-95c0-4a99-80a1-a39774ace0bb"
      },
      "outputs": [
        {
          "name": "stdout",
          "output_type": "stream",
          "text": [
            "V🤠a🤠l🤠b🤠i🤠s\n"
          ]
        }
      ],
      "source": [
        "funny_name = \"🤠\".join(name_list)\n",
        "print(funny_name)"
      ]
    },
    {
      "cell_type": "code",
      "execution_count": 25,
      "metadata": {
        "colab": {
          "base_uri": "https://localhost:8080/"
        },
        "id": "193Jp3YtgLEY",
        "outputId": "49c71b07-85b1-4e73-f69b-fd2db62975b4"
      },
      "outputs": [
        {
          "data": {
            "text/plain": [
              "[0, 1, 2, 3, 4, 5, 6, 7, 8, 9, 10, 11]"
            ]
          },
          "execution_count": 25,
          "metadata": {},
          "output_type": "execute_result"
        }
      ],
      "source": [
        "# so range is actually a lazy factory for numbers\n",
        "# in computer programming lazy is usually more efficient than eager(meaning runs immediately)\n",
        "# we need to call list to convert this force this lazy factory actually run the numbers\n",
        "numbers = list(range(12)) # so this will have numbers from 0 to 11\n",
        "numbers"
      ]
    },
    {
      "cell_type": "markdown",
      "metadata": {
        "id": "EVCmJ-7zyC-B"
      },
      "source": [
        "## Slicing lists\n",
        "\n",
        "Slicing lists works just like slicing strings same idea"
      ]
    },
    {
      "cell_type": "code",
      "execution_count": 26,
      "metadata": {
        "colab": {
          "base_uri": "https://localhost:8080/"
        },
        "id": "fdeW0QQUgR9d",
        "outputId": "6ada5869-3730-4c43-bccb-0dfd46b57784"
      },
      "outputs": [
        {
          "data": {
            "text/plain": [
              "[0, 1, 2]"
            ]
          },
          "execution_count": 26,
          "metadata": {},
          "output_type": "execute_result"
        }
      ],
      "source": [
        "numbers[:3] # first three because 0 is implied/default"
      ]
    },
    {
      "cell_type": "code",
      "execution_count": 27,
      "metadata": {
        "colab": {
          "base_uri": "https://localhost:8080/"
        },
        "id": "y30Ow7bXgVBR",
        "outputId": "9d527abf-92bf-40b7-9503-a58bf3d332d5"
      },
      "outputs": [
        {
          "data": {
            "text/plain": [
              "[9, 10, 11]"
            ]
          },
          "execution_count": 27,
          "metadata": {},
          "output_type": "execute_result"
        }
      ],
      "source": [
        "numbers[-3:] # last three"
      ]
    },
    {
      "cell_type": "code",
      "execution_count": 28,
      "metadata": {
        "colab": {
          "base_uri": "https://localhost:8080/"
        },
        "id": "FSrn2iYpgYLG",
        "outputId": "86036d9a-50a2-45d0-ab59-04c2330d6e66"
      },
      "outputs": [
        {
          "data": {
            "text/plain": [
              "[5, 6]"
            ]
          },
          "execution_count": 28,
          "metadata": {},
          "output_type": "execute_result"
        }
      ],
      "source": [
        "numbers[5:7]  # so item with index 7 (8th item) is NOT included"
      ]
    },
    {
      "cell_type": "code",
      "execution_count": 29,
      "metadata": {
        "colab": {
          "base_uri": "https://localhost:8080/"
        },
        "id": "D1Ihe8-MgqHK",
        "outputId": "030f0351-3aad-46dc-95c2-eff214bdcd92"
      },
      "outputs": [
        {
          "data": {
            "text/plain": [
              "[11, 10, 9, 8, 7, 6, 5, 4, 3, 2, 1, 0]"
            ]
          },
          "execution_count": 29,
          "metadata": {},
          "output_type": "execute_result"
        }
      ],
      "source": [
        "reversed_numbers = numbers[::-1]\n",
        "reversed_numbers"
      ]
    },
    {
      "cell_type": "code",
      "execution_count": 30,
      "metadata": {
        "colab": {
          "base_uri": "https://localhost:8080/"
        },
        "id": "UCuCV7PVgvWR",
        "outputId": "5468a228-8fff-458b-c5c2-65327a040073"
      },
      "outputs": [
        {
          "data": {
            "text/plain": [
              "[0, 2, 4, 6, 8, 10]"
            ]
          },
          "execution_count": 30,
          "metadata": {},
          "output_type": "execute_result"
        }
      ],
      "source": [
        "numbers[::2] # will be every second number starting with 0"
      ]
    },
    {
      "cell_type": "code",
      "execution_count": 31,
      "metadata": {
        "colab": {
          "base_uri": "https://localhost:8080/"
        },
        "id": "_nQm3MiMg630",
        "outputId": "4a554e12-67f0-4b3e-b2d7-919377a6c6a6"
      },
      "outputs": [
        {
          "data": {
            "text/plain": [
              "[1, 3, 5, 7, 9, 11]"
            ]
          },
          "execution_count": 31,
          "metadata": {},
          "output_type": "execute_result"
        }
      ],
      "source": [
        "numbers[1::2] # so start with 2nd number with index 1 - in this this is 1 actually"
      ]
    },
    {
      "cell_type": "code",
      "execution_count": 32,
      "metadata": {
        "colab": {
          "base_uri": "https://localhost:8080/"
        },
        "id": "_6CixjYiypgr",
        "outputId": "af723fd1-c88e-453f-9e0d-966ebe45f8c3"
      },
      "outputs": [
        {
          "name": "stdout",
          "output_type": "stream",
          "text": [
            "[3, 5, 7]\n"
          ]
        }
      ],
      "source": [
        "saved_numbers_slice = numbers[3:9:2] # 9 will not be included here\n",
        "# start at 4th item(value 3 here) and take every 2nd after that\n",
        "print(saved_numbers_slice)"
      ]
    },
    {
      "cell_type": "code",
      "execution_count": 33,
      "metadata": {
        "colab": {
          "base_uri": "https://localhost:8080/"
        },
        "id": "KYBf8c89hD6R",
        "outputId": "bfca74ce-843b-42d0-f830-d3ffd810693f"
      },
      "outputs": [
        {
          "data": {
            "text/plain": [
              "66"
            ]
          },
          "execution_count": 33,
          "metadata": {},
          "output_type": "execute_result"
        }
      ],
      "source": [
        "# if we have numerics (ints, floats, also booleans)in our list we can use some built in functions sum,min,max\n",
        "sum(numbers)"
      ]
    },
    {
      "cell_type": "code",
      "execution_count": 34,
      "metadata": {
        "colab": {
          "base_uri": "https://localhost:8080/"
        },
        "id": "VXQsw0tBzGCY",
        "outputId": "45496db9-2819-4487-d776-571af2d098e5"
      },
      "outputs": [
        {
          "data": {
            "text/plain": [
              "15"
            ]
          },
          "execution_count": 34,
          "metadata": {},
          "output_type": "execute_result"
        }
      ],
      "source": [
        "sum(saved_numbers_slice)"
      ]
    },
    {
      "cell_type": "code",
      "execution_count": 35,
      "metadata": {
        "colab": {
          "base_uri": "https://localhost:8080/"
        },
        "id": "K47RrHDbzIb_",
        "outputId": "88006716-23ea-4643-fac8-746cd9d3074d"
      },
      "outputs": [
        {
          "name": "stdout",
          "output_type": "stream",
          "text": [
            "Even number sum from list [0, 1, 2, 3, 4, 5, 6, 7, 8, 9, 10, 11] is 30\n"
          ]
        }
      ],
      "source": [
        "# I could use print and use f-strings to not save any results just print\n",
        "print(f\"Even number sum from list {numbers} is {sum(numbers[::2])}\")"
      ]
    },
    {
      "cell_type": "markdown",
      "metadata": {
        "id": "kGBNc4JBzzIh"
      },
      "source": [
        "## Average from list"
      ]
    },
    {
      "cell_type": "code",
      "execution_count": 36,
      "metadata": {
        "colab": {
          "base_uri": "https://localhost:8080/"
        },
        "id": "Kp4EgnbdhM6v",
        "outputId": "390f69d4-63f0-4bc9-d985-d919991ea9c5"
      },
      "outputs": [
        {
          "data": {
            "text/plain": [
              "5.5"
            ]
          },
          "execution_count": 36,
          "metadata": {},
          "output_type": "execute_result"
        }
      ],
      "source": [
        "# average is not defined but can be easily calculated\n",
        "# there are statistics libraries which have it and other metrics\n",
        "avg = sum(numbers) / len(numbers)  \n",
        "avg"
      ]
    },
    {
      "cell_type": "code",
      "execution_count": 37,
      "metadata": {
        "colab": {
          "base_uri": "https://localhost:8080/"
        },
        "id": "N1-_QB1HhUdc",
        "outputId": "be4d2564-230f-48bd-832b-15f5e822c1ef"
      },
      "outputs": [
        {
          "data": {
            "text/plain": [
              "0"
            ]
          },
          "execution_count": 37,
          "metadata": {},
          "output_type": "execute_result"
        }
      ],
      "source": [
        "# again if the list contains only numbers we can use min and max\n",
        "min(numbers)"
      ]
    },
    {
      "cell_type": "code",
      "execution_count": null,
      "metadata": {
        "colab": {
          "base_uri": "https://localhost:8080/"
        },
        "id": "XlO4inBbhWRp",
        "outputId": "704a1b65-1fa0-4268-8ed5-2364e7ddb4d9"
      },
      "outputs": [
        {
          "data": {
            "text/plain": [
              "11"
            ]
          },
          "execution_count": 31,
          "metadata": {},
          "output_type": "execute_result"
        }
      ],
      "source": [
        "max(numbers)  # of course Python has to go through the whole list to find the min and max"
      ]
    },
    {
      "cell_type": "code",
      "execution_count": null,
      "metadata": {
        "id": "xQDb3G1yhoaU"
      },
      "outputs": [],
      "source": [
        "# lists are compound data structures, meaning they are built from other elements\n",
        "# so they are not always copied in order to save space among other reasons"
      ]
    },
    {
      "cell_type": "markdown",
      "metadata": {
        "id": "928xvx1W0B9g"
      },
      "source": [
        "## List copies"
      ]
    },
    {
      "cell_type": "code",
      "execution_count": 38,
      "metadata": {
        "colab": {
          "base_uri": "https://localhost:8080/"
        },
        "id": "iwW_mbPXdmff",
        "outputId": "a8bea561-8794-4ada-f794-51fbae311150"
      },
      "outputs": [
        {
          "name": "stdout",
          "output_type": "stream",
          "text": [
            "['Bread', 'Eggs', 'Milk'] 139965943315968 139965967311488\n"
          ]
        }
      ],
      "source": [
        "# here I create a copy of a lista\n",
        "list_copy=list(groceries)\n",
        "print(list_copy, id(list_copy), id(groceries)) \n",
        "# so memory address of these two lists is different! this means they have their own lives now"
      ]
    },
    {
      "cell_type": "code",
      "execution_count": 40,
      "metadata": {
        "colab": {
          "base_uri": "https://localhost:8080/"
        },
        "id": "wr9x7scBdmff",
        "outputId": "13c2eef2-8380-4738-e565-c73451f545c3"
      },
      "outputs": [
        {
          "name": "stdout",
          "output_type": "stream",
          "text": [
            "139965967311488\n",
            "139965967311488\n",
            "139965943315968\n"
          ]
        }
      ],
      "source": [
        "# here I just point another variable at the SAME list, just a reference/shortcut\n",
        "glist2=groceries # this is just an alias\n",
        "print(id(glist2),id(groceries),id(list_copy), sep = \"\\n\")"
      ]
    },
    {
      "cell_type": "code",
      "execution_count": 42,
      "metadata": {
        "colab": {
          "base_uri": "https://localhost:8080/"
        },
        "id": "QwclI4hUdmfg",
        "outputId": "035b858e-6ead-45e0-9cf7-bf9732d20bb2"
      },
      "outputs": [
        {
          "data": {
            "text/plain": [
              "(['Bread', 'Eggs', 'Chocolate'],\n",
              " ['Bread', 'Eggs', 'Chocolate'],\n",
              " ['Bread', 'Eggs', 'Milk'])"
            ]
          },
          "execution_count": 42,
          "metadata": {},
          "output_type": "execute_result"
        }
      ],
      "source": [
        "groceries[2] = \"Chocolate\"  # so the original list will change any any references to this original list\n",
        "groceries, glist2, list_copy"
      ]
    },
    {
      "cell_type": "code",
      "execution_count": 43,
      "metadata": {
        "colab": {
          "base_uri": "https://localhost:8080/"
        },
        "id": "JAIMR9qNdmfg",
        "outputId": "7c766eff-9133-427b-a224-8cff3c7791a8"
      },
      "outputs": [
        {
          "data": {
            "text/plain": [
              "(['Bread', 'Beer', 'Chocolate'],\n",
              " ['Bread', 'Beer', 'Chocolate'],\n",
              " ['Bread', 'Eggs', 'Milk'])"
            ]
          },
          "execution_count": 43,
          "metadata": {},
          "output_type": "execute_result"
        }
      ],
      "source": [
        "glist2[1] = \"Beer\"\n",
        "groceries, glist2, list_copy"
      ]
    },
    {
      "cell_type": "code",
      "execution_count": 44,
      "metadata": {
        "colab": {
          "base_uri": "https://localhost:8080/"
        },
        "id": "DsCkzzSrdmfg",
        "outputId": "256f5380-ef23-4fad-b3cf-4e1772a3eb6c"
      },
      "outputs": [
        {
          "data": {
            "text/plain": [
              "(['Bread', 'Beer', 'Chocolate'],\n",
              " ['Bread', 'Beer', 'Chocolate'],\n",
              " ['Potatoes', 'Eggs', 'Milk'])"
            ]
          },
          "execution_count": 44,
          "metadata": {},
          "output_type": "execute_result"
        }
      ],
      "source": [
        "list_copy[0] = \"Potatoes\"\n",
        "groceries, glist2, list_copy"
      ]
    },
    {
      "cell_type": "code",
      "execution_count": 45,
      "metadata": {
        "colab": {
          "base_uri": "https://localhost:8080/"
        },
        "id": "P6-nOfJWdmfg",
        "outputId": "788456c5-ffdd-4854-ef26-983dee89d7fc"
      },
      "outputs": [
        {
          "data": {
            "text/plain": [
              "False"
            ]
          },
          "execution_count": 45,
          "metadata": {},
          "output_type": "execute_result"
        }
      ],
      "source": [
        "list_copy == groceries # this check for contents not the actualy memory"
      ]
    },
    {
      "cell_type": "code",
      "execution_count": 46,
      "metadata": {
        "colab": {
          "base_uri": "https://localhost:8080/"
        },
        "id": "10XtjW7Dic2d",
        "outputId": "3cafed52-5770-441d-ef33-29ee9f7e4523"
      },
      "outputs": [
        {
          "data": {
            "text/plain": [
              "True"
            ]
          },
          "execution_count": 46,
          "metadata": {},
          "output_type": "execute_result"
        }
      ],
      "source": [
        "groceries is glist2 # so we check the id of each variable and see if they are pointing to same memory address"
      ]
    },
    {
      "cell_type": "code",
      "execution_count": 47,
      "metadata": {
        "colab": {
          "base_uri": "https://localhost:8080/"
        },
        "id": "M1avEovddmfg",
        "outputId": "41676edb-62e3-42b9-f54a-958467694df9"
      },
      "outputs": [
        {
          "data": {
            "text/plain": [
              "(True, False)"
            ]
          },
          "execution_count": 47,
          "metadata": {},
          "output_type": "execute_result"
        }
      ],
      "source": [
        "list_3 = ['Potatoes', 'Eggs', 'Milk']\n",
        "list_3 == list_copy, list_3 is list_copy\n",
        "# thus contents are same, but these are different lists\n",
        "# so think of two shopping carts with same type of items in them"
      ]
    },
    {
      "cell_type": "code",
      "execution_count": null,
      "metadata": {
        "id": "oWMYLxFm1Hxk"
      },
      "outputs": [],
      "source": []
    },
    {
      "cell_type": "code",
      "execution_count": 48,
      "metadata": {
        "colab": {
          "base_uri": "https://localhost:8080/"
        },
        "id": "x_1zTcdd1ArC",
        "outputId": "1c01fd7c-3557-48fa-f02c-8a686e520f4d"
      },
      "outputs": [
        {
          "name": "stdout",
          "output_type": "stream",
          "text": [
            "['Potatoes', 'Eggs', 'Milk'] 139965688262784\n",
            "['Potatoes', 'Eggs', 'Milk'] 139965200698176\n",
            "['Potatoes', 'Eggs', 'Milk'] 139965200284608\n"
          ]
        }
      ],
      "source": [
        "## there are two other ways of copying\n",
        "another_copy = list_3.copy() # same result as list(list_3)\n",
        "yet_another_copy = list_3[:] # so slicing a list produces a copy\n",
        "print(list_3, id(list_3))\n",
        "print(another_copy, id(another_copy))\n",
        "print(yet_another_copy, id(yet_another_copy))\n",
        "# so here we have same contents but three different lists in memory"
      ]
    },
    {
      "cell_type": "code",
      "execution_count": null,
      "metadata": {
        "id": "nMvtqjYLdmfh",
        "outputId": "704ec235-fb9a-4222-c904-ffd83663a4bf"
      },
      "outputs": [
        {
          "data": {
            "text/plain": [
              "(2346169306112, 2346168541120)"
            ]
          },
          "execution_count": 28,
          "metadata": {},
          "output_type": "execute_result"
        }
      ],
      "source": [
        "id(list_copy), id(list_3) # different memory addresses"
      ]
    },
    {
      "cell_type": "code",
      "execution_count": null,
      "metadata": {
        "id": "FAQx-CLAdmfh",
        "outputId": "03ebf65e-6905-4559-995f-6577aef978f7"
      },
      "outputs": [
        {
          "data": {
            "text/plain": [
              "['Bread', 'Milk', 'Chocolate']"
            ]
          },
          "execution_count": 29,
          "metadata": {},
          "output_type": "execute_result"
        }
      ],
      "source": [
        "groceries"
      ]
    },
    {
      "cell_type": "code",
      "execution_count": 50,
      "metadata": {
        "colab": {
          "base_uri": "https://localhost:8080/"
        },
        "id": "t-jz89oVdmfh",
        "outputId": "9a3ccdb8-3803-45dd-df82-e6f3633ec835"
      },
      "outputs": [
        {
          "data": {
            "text/plain": [
              "True"
            ]
          },
          "execution_count": 50,
          "metadata": {},
          "output_type": "execute_result"
        }
      ],
      "source": [
        "glist = list_copy # so I created a new alias for my list_copy\n",
        "glist is list_copy  # so glist points at the same memory stucture as does list_copy, think of it as a shortcut "
      ]
    },
    {
      "cell_type": "code",
      "execution_count": null,
      "metadata": {
        "colab": {
          "base_uri": "https://localhost:8080/"
        },
        "id": "F6LzDDhciss8",
        "outputId": "05c50dfd-96ac-4771-9d1d-9a9e325e9ec3"
      },
      "outputs": [
        {
          "data": {
            "text/plain": [
              "['Potatoes', 'Eggs', 'Milk']"
            ]
          },
          "execution_count": 42,
          "metadata": {},
          "output_type": "execute_result"
        }
      ],
      "source": [
        "glist"
      ]
    },
    {
      "cell_type": "markdown",
      "metadata": {
        "id": "TkV77k0P1qmP"
      },
      "source": [
        "## Appending / adding elements to a list\n",
        "\n",
        "Unlike strings we can add elements to a list"
      ]
    },
    {
      "cell_type": "code",
      "execution_count": 51,
      "metadata": {
        "colab": {
          "base_uri": "https://localhost:8080/"
        },
        "id": "GZBzKk1J1xzn",
        "outputId": "1dbb8f18-1835-46ac-f21c-5fba4c364fef"
      },
      "outputs": [
        {
          "name": "stdout",
          "output_type": "stream",
          "text": [
            "['Potatoes', 'Eggs', 'Milk']\n"
          ]
        }
      ],
      "source": [
        "\n",
        "print(glist)"
      ]
    },
    {
      "cell_type": "markdown",
      "metadata": {
        "id": "1HvCJoNt2fMN"
      },
      "source": [
        "### IN PLACE modification\n",
        "\n",
        "IN PLACE means original data structure is modified\n",
        "Often done without assignment - no need original is changed"
      ]
    },
    {
      "cell_type": "code",
      "execution_count": 57,
      "metadata": {
        "colab": {
          "base_uri": "https://localhost:8080/"
        },
        "id": "3C7FkLl3dmfh",
        "outputId": "7280f11a-3668-4f66-d7d6-3bbb44a20d5f"
      },
      "outputs": [
        {
          "data": {
            "text/plain": [
              "['Potatoes', 'Eggs', 'Milk', 'Peaches', 'Peaches', 'Peaches', 'Peaches']"
            ]
          },
          "execution_count": 57,
          "metadata": {},
          "output_type": "execute_result"
        }
      ],
      "source": [
        "# We can add new elements with append\n",
        "glist.append('Peaches') # IN PLACE addition of element\n",
        "# IN PLACE means the collection is changed (generally NOT returned), I am mutating the original list in this case called glist\n",
        "glist"
      ]
    },
    {
      "cell_type": "markdown",
      "metadata": {
        "id": "JYaMLzg22jKw"
      },
      "source": [
        "### OUT OF PLACE modification\n",
        "\n",
        "OUT OF PLACE means original is not changed\n",
        "Typically this is done via assignment\n"
      ]
    },
    {
      "cell_type": "code",
      "execution_count": 64,
      "metadata": {
        "colab": {
          "base_uri": "https://localhost:8080/"
        },
        "id": "6Rv1O90-dmfh",
        "outputId": "8ac661c3-9f5b-4d1a-ca6f-bd2a5e00c61d"
      },
      "outputs": [
        {
          "name": "stdout",
          "output_type": "stream",
          "text": [
            "['Potatoes', 'Eggs', 'Milk', 'Peaches', 'Peaches', 'Peaches', 'Peaches', 'Pomegranates']\n",
            "['Potatoes', 'Eggs', 'Milk', 'Peaches', 'Peaches', 'Peaches', 'Peaches']\n"
          ]
        }
      ],
      "source": [
        "new_list = glist + [\"Pomegranates\"] # THIS IS IN PLACE, original is not affected\n",
        "print(new_list)\n",
        "print(glist)"
      ]
    },
    {
      "cell_type": "code",
      "execution_count": 65,
      "metadata": {
        "colab": {
          "base_uri": "https://localhost:8080/"
        },
        "id": "R6tF7H6jdmfi",
        "outputId": "1eabcd89-30a0-457d-e1aa-30e242e8a943"
      },
      "outputs": [
        {
          "data": {
            "text/plain": [
              "['Potatoes', 'Eggs', 'Milk', 'Peaches', 'Peaches', 'Peaches', 'Peaches']"
            ]
          },
          "execution_count": 65,
          "metadata": {},
          "output_type": "execute_result"
        }
      ],
      "source": [
        "list_copy"
      ]
    },
    {
      "cell_type": "markdown",
      "metadata": {
        "id": "q45G_HmP44zJ"
      },
      "source": [
        "## Cutting down lists"
      ]
    },
    {
      "cell_type": "code",
      "execution_count": 66,
      "metadata": {
        "colab": {
          "base_uri": "https://localhost:8080/"
        },
        "id": "dN77T3FHdmfi",
        "outputId": "f486cce2-0d49-4080-c342-43fff6af06d9"
      },
      "outputs": [
        {
          "data": {
            "text/plain": [
              "['Potatoes', 'Eggs', 'Milk', 'Peaches']"
            ]
          },
          "execution_count": 66,
          "metadata": {},
          "output_type": "execute_result"
        }
      ],
      "source": [
        "# we cut down our list using slicing syntax\n",
        "glist = glist[:4] # remember our slicing syntax from last week so this is OUT OF PLACE\n",
        "# but since I used the same name the new list structure overwrite the old one\n",
        "# i am saying I want my list to only contain first four items of this list\n",
        "# it will work without Error  even when you have 0 to 3 items, just will do nothing\n",
        "glist"
      ]
    },
    {
      "cell_type": "code",
      "execution_count": null,
      "metadata": {
        "colab": {
          "base_uri": "https://localhost:8080/"
        },
        "id": "JrLxHd9Ydmfi",
        "outputId": "3c9399be-32d2-401a-ca65-20b36182ecbd"
      },
      "outputs": [
        {
          "data": {
            "text/plain": [
              "['Bread', 'Beer', 'Chocolate']"
            ]
          },
          "execution_count": 54,
          "metadata": {},
          "output_type": "execute_result"
        }
      ],
      "source": [
        "groceries"
      ]
    },
    {
      "cell_type": "code",
      "execution_count": null,
      "metadata": {
        "colab": {
          "base_uri": "https://localhost:8080/"
        },
        "id": "Q_WcAKFbjZP1",
        "outputId": "9b1af370-ee79-4619-f592-9de6986b8148"
      },
      "outputs": [
        {
          "data": {
            "text/plain": [
              "['Potatoes',\n",
              " 'Eggs',\n",
              " 'Milk',\n",
              " 'Peaches',\n",
              " 'Peaches',\n",
              " 'Peaches',\n",
              " 'Peaches',\n",
              " 'Peaches',\n",
              " 'Peaches']"
            ]
          },
          "execution_count": 55,
          "metadata": {},
          "output_type": "execute_result"
        }
      ],
      "source": [
        "list_copy"
      ]
    },
    {
      "cell_type": "code",
      "execution_count": null,
      "metadata": {
        "id": "Jeh-L7HjjhPM"
      },
      "outputs": [],
      "source": [
        "# Python will manage memory for you and will clean up\n",
        "#  if you have no references to the list (just like with other data)"
      ]
    },
    {
      "cell_type": "code",
      "execution_count": 67,
      "metadata": {
        "colab": {
          "base_uri": "https://localhost:8080/"
        },
        "id": "x6_txtPadmfi",
        "outputId": "ee351e60-a5e0-4431-9e01-84c7900edf53"
      },
      "outputs": [
        {
          "data": {
            "text/plain": [
              "False"
            ]
          },
          "execution_count": 67,
          "metadata": {},
          "output_type": "execute_result"
        }
      ],
      "source": [
        "glist == groceries"
      ]
    },
    {
      "cell_type": "code",
      "execution_count": 72,
      "metadata": {
        "colab": {
          "base_uri": "https://localhost:8080/"
        },
        "id": "o-vpTZJMdmfi",
        "outputId": "4b400fd3-f9f7-4574-f84b-32d4fefccb40"
      },
      "outputs": [
        {
          "data": {
            "text/plain": [
              "[]"
            ]
          },
          "execution_count": 72,
          "metadata": {},
          "output_type": "execute_result"
        }
      ],
      "source": [
        "# new clear list\n",
        "glist = [] # so by assigning a new blank list we essentially erased glist\n",
        "# however if some other variable was pointing to this list the data would still remain on that variable\n",
        "glist"
      ]
    },
    {
      "cell_type": "code",
      "execution_count": 73,
      "metadata": {
        "colab": {
          "base_uri": "https://localhost:8080/"
        },
        "id": "yrS-HLUldmfi",
        "outputId": "f1e8b98a-1492-48ff-aeab-af9119c67141"
      },
      "outputs": [
        {
          "data": {
            "text/plain": [
              "['Potatoes', 'Eggs', 'Milk', 'Peaches', 'Peaches', 'Peaches', 'Peaches']"
            ]
          },
          "execution_count": 73,
          "metadata": {},
          "output_type": "execute_result"
        }
      ],
      "source": [
        "list_copy"
      ]
    },
    {
      "cell_type": "code",
      "execution_count": 74,
      "metadata": {
        "colab": {
          "base_uri": "https://localhost:8080/"
        },
        "id": "r2YpkYSKdmfj",
        "outputId": "10a78f29-54a0-4df3-efea-4b00374e607d"
      },
      "outputs": [
        {
          "data": {
            "text/plain": [
              "0"
            ]
          },
          "execution_count": 74,
          "metadata": {},
          "output_type": "execute_result"
        }
      ],
      "source": [
        "len(glist)"
      ]
    },
    {
      "cell_type": "code",
      "execution_count": 75,
      "metadata": {
        "colab": {
          "base_uri": "https://localhost:8080/"
        },
        "id": "eKw7YoaOdmfj",
        "outputId": "12effc23-2b7c-4ec4-9957-b2f4b1f5de87"
      },
      "outputs": [
        {
          "data": {
            "text/plain": [
              "4"
            ]
          },
          "execution_count": 75,
          "metadata": {},
          "output_type": "execute_result"
        }
      ],
      "source": [
        "glist= [\"Bread\", \"Milk\", \"Cookies\", \"Chocolate\"]\n",
        "len(glist)"
      ]
    },
    {
      "cell_type": "markdown",
      "metadata": {
        "id": "IJqybzNc5YCh"
      },
      "source": [
        "## List methods\n",
        "\n",
        "We saw list append method which adds item to list IN PLACE\n",
        "\n",
        "There are many more methods\n",
        "* We could look up documentation - https://docs.python.org/3/tutorial/datastructures.html#more-on-lists\n",
        "* We could use dir command to find these methods\n",
        "* We could also use . after some list to see them in your Colab and many other IDEs"
      ]
    },
    {
      "cell_type": "code",
      "execution_count": null,
      "metadata": {
        "colab": {
          "base_uri": "https://localhost:8080/"
        },
        "id": "A_3PrJP-dmfj",
        "outputId": "b8b64037-a734-4392-b8e3-d92073b5f291"
      },
      "outputs": [
        {
          "data": {
            "text/plain": [
              "['__add__',\n",
              " '__class__',\n",
              " '__contains__',\n",
              " '__delattr__',\n",
              " '__delitem__',\n",
              " '__dir__',\n",
              " '__doc__',\n",
              " '__eq__',\n",
              " '__format__',\n",
              " '__ge__',\n",
              " '__getattribute__',\n",
              " '__getitem__',\n",
              " '__gt__',\n",
              " '__hash__',\n",
              " '__iadd__',\n",
              " '__imul__',\n",
              " '__init__',\n",
              " '__init_subclass__',\n",
              " '__iter__',\n",
              " '__le__',\n",
              " '__len__',\n",
              " '__lt__',\n",
              " '__mul__',\n",
              " '__ne__',\n",
              " '__new__',\n",
              " '__reduce__',\n",
              " '__reduce_ex__',\n",
              " '__repr__',\n",
              " '__reversed__',\n",
              " '__rmul__',\n",
              " '__setattr__',\n",
              " '__setitem__',\n",
              " '__sizeof__',\n",
              " '__str__',\n",
              " '__subclasshook__',\n",
              " 'append',\n",
              " 'clear',\n",
              " 'copy',\n",
              " 'count',\n",
              " 'extend',\n",
              " 'index',\n",
              " 'insert',\n",
              " 'pop',\n",
              " 'remove',\n",
              " 'reverse',\n",
              " 'sort']"
            ]
          },
          "execution_count": 60,
          "metadata": {},
          "output_type": "execute_result"
        }
      ],
      "source": [
        "dir(glist) # this also gives some internal methods which we generally do not touch"
      ]
    },
    {
      "cell_type": "code",
      "execution_count": 76,
      "metadata": {
        "colab": {
          "base_uri": "https://localhost:8080/"
        },
        "id": "uFzOgW6_j3gr",
        "outputId": "a81bfb1c-19a1-4842-b8f2-baf297f6e343"
      },
      "outputs": [
        {
          "data": {
            "text/plain": [
              "['Bread', 'Milk', 'Cookies', 'Chocolate']"
            ]
          },
          "execution_count": 76,
          "metadata": {},
          "output_type": "execute_result"
        }
      ],
      "source": [
        "glist # . popup will work on most other data structures as well including external libraries"
      ]
    },
    {
      "cell_type": "markdown",
      "metadata": {
        "id": "kq1jVvU26U73"
      },
      "source": [
        "### Clear\n"
      ]
    },
    {
      "cell_type": "code",
      "execution_count": 80,
      "metadata": {
        "colab": {
          "base_uri": "https://localhost:8080/"
        },
        "id": "55xEzfPxj7Vk",
        "outputId": "6de77a20-dfce-4de5-ad6b-bb7db69df1ca"
      },
      "outputs": [
        {
          "data": {
            "text/plain": [
              "[]"
            ]
          },
          "execution_count": 80,
          "metadata": {},
          "output_type": "execute_result"
        }
      ],
      "source": [
        "glist.clear()  # again IN PLACE operation meaning modifies the contents wherever the variable points at\n",
        "glist"
      ]
    },
    {
      "cell_type": "code",
      "execution_count": 82,
      "metadata": {
        "colab": {
          "base_uri": "https://localhost:8080/"
        },
        "id": "yrB4imkGkD0o",
        "outputId": "585e8a15-ecc1-4443-a4c1-78d18f59a4eb"
      },
      "outputs": [
        {
          "data": {
            "text/plain": [
              "['Tea', 'Tea']"
            ]
          },
          "execution_count": 82,
          "metadata": {},
          "output_type": "execute_result"
        }
      ],
      "source": [
        "glist.append(\"Tea\") # append is for single items\n",
        "glist"
      ]
    },
    {
      "cell_type": "markdown",
      "metadata": {
        "id": "Bu56S0wJ6SPM"
      },
      "source": [
        "### Extend"
      ]
    },
    {
      "cell_type": "code",
      "execution_count": 83,
      "metadata": {
        "colab": {
          "base_uri": "https://localhost:8080/"
        },
        "id": "nxgDL-lTkGr-",
        "outputId": "530eb193-8d6d-45eb-a96a-7dfb09e1ee66"
      },
      "outputs": [
        {
          "data": {
            "text/plain": [
              "['Tea', 'Tea', 'Milk', 'Cookies', 'Chocolate']"
            ]
          },
          "execution_count": 83,
          "metadata": {},
          "output_type": "execute_result"
        }
      ],
      "source": [
        "# so extend adds items from another list to an existing list\n",
        "glist.extend([\"Milk\",\"Cookies\",\"Chocolate\"])  #again IN PLACE modifiyin the list\n",
        "glist"
      ]
    },
    {
      "cell_type": "code",
      "execution_count": 84,
      "metadata": {
        "colab": {
          "base_uri": "https://localhost:8080/"
        },
        "id": "Jsdq4CHDkTSZ",
        "outputId": "3a6c2f87-ba45-4403-a90f-49279303f9ec"
      },
      "outputs": [
        {
          "data": {
            "text/plain": [
              "['Tea', 'Tea', 'Milk', 'Cookies', 'Chocolate', ['Beer', 'Cognac']]"
            ]
          },
          "execution_count": 84,
          "metadata": {},
          "output_type": "execute_result"
        }
      ],
      "source": [
        "# append works differently!\n",
        "glist.append([\"Beer\", \"Cognac\"])  # careful when appending another list to a list, it might not be what you want\n",
        "glist"
      ]
    },
    {
      "cell_type": "code",
      "execution_count": null,
      "metadata": {
        "id": "RCI_mVCbkg2q"
      },
      "outputs": [],
      "source": [
        "# so we have a list inside our list"
      ]
    },
    {
      "cell_type": "code",
      "execution_count": null,
      "metadata": {
        "id": "rXwxhCfMkk_i"
      },
      "outputs": [],
      "source": [
        "# how to get Beer out of it?"
      ]
    },
    {
      "cell_type": "code",
      "execution_count": 85,
      "metadata": {
        "colab": {
          "base_uri": "https://localhost:8080/"
        },
        "id": "jy4yg6IRkm3A",
        "outputId": "7dab9ac5-01b0-4447-beb4-b496e80b83e3"
      },
      "outputs": [
        {
          "data": {
            "text/plain": [
              "['Beer', 'Cognac']"
            ]
          },
          "execution_count": 85,
          "metadata": {},
          "output_type": "execute_result"
        }
      ],
      "source": [
        "glist[-1] # let's look at the last item in glist which is the inner list"
      ]
    },
    {
      "cell_type": "code",
      "execution_count": 86,
      "metadata": {
        "colab": {
          "base_uri": "https://localhost:8080/",
          "height": 35
        },
        "id": "yffOdORtkpQT",
        "outputId": "cd81ac63-ba53-4966-83e9-d51ae3dd3cd0"
      },
      "outputs": [
        {
          "data": {
            "application/vnd.google.colaboratory.intrinsic+json": {
              "type": "string"
            },
            "text/plain": [
              "'Beer'"
            ]
          },
          "execution_count": 86,
          "metadata": {},
          "output_type": "execute_result"
        }
      ],
      "source": [
        "glist[-1][0]  # so I got last item from the outer list then I get the first item of this inner (nested) list"
      ]
    },
    {
      "cell_type": "code",
      "execution_count": 87,
      "metadata": {
        "colab": {
          "base_uri": "https://localhost:8080/",
          "height": 35
        },
        "id": "-8mswuSc68aj",
        "outputId": "16071e9c-d2b4-492a-9c1c-5d8b68054e1d"
      },
      "outputs": [
        {
          "data": {
            "application/vnd.google.colaboratory.intrinsic+json": {
              "type": "string"
            },
            "text/plain": [
              "'Beer'"
            ]
          },
          "execution_count": 87,
          "metadata": {},
          "output_type": "execute_result"
        }
      ],
      "source": [
        "# there are other ways of accessing using only positive indexes\n",
        "glist[5][0] "
      ]
    },
    {
      "cell_type": "markdown",
      "metadata": {
        "id": "yech1wkb7aPj"
      },
      "source": [
        "## Pop - in place removal and retrieval of last item"
      ]
    },
    {
      "cell_type": "code",
      "execution_count": 88,
      "metadata": {
        "colab": {
          "base_uri": "https://localhost:8080/"
        },
        "id": "L_UE5NQJdmfj",
        "outputId": "5c628f44-6d19-4165-ac29-212b820b6209"
      },
      "outputs": [
        {
          "name": "stdout",
          "output_type": "stream",
          "text": [
            "['Tea', 'Tea', 'Milk', 'Cookies', 'Chocolate', ['Beer', 'Cognac']]\n",
            "['Tea', 'Tea', 'Milk', 'Cookies', 'Chocolate']\n",
            "['Beer', 'Cognac']\n"
          ]
        }
      ],
      "source": [
        "print(glist)\n",
        "last_item = glist.pop() # IN PLACE again, returns last item and removes it from the list\n",
        "print(glist)\n",
        "print(last_item)"
      ]
    },
    {
      "cell_type": "code",
      "execution_count": 93,
      "metadata": {
        "colab": {
          "base_uri": "https://localhost:8080/"
        },
        "id": "daTgpauu7tP9",
        "outputId": "8ed8d883-036c-4808-c576-3b5a6f573001"
      },
      "outputs": [
        {
          "name": "stdout",
          "output_type": "stream",
          "text": [
            "['Tea']\n",
            "[]\n"
          ]
        }
      ],
      "source": [
        "# if I do it again Chocolate will be gone unless I save it in another variable\n",
        "print(glist)\n",
        "glist.pop() # without saving the item will be gone\n",
        "# if I pop an empty list it will produce an error\n",
        "print(glist)"
      ]
    },
    {
      "cell_type": "code",
      "execution_count": 94,
      "metadata": {
        "colab": {
          "base_uri": "https://localhost:8080/"
        },
        "id": "GcUQvZSidmfj",
        "outputId": "94b7c4c0-e2ea-404e-8cc5-194b808fdd96"
      },
      "outputs": [
        {
          "data": {
            "text/plain": [
              "4"
            ]
          },
          "execution_count": 94,
          "metadata": {},
          "output_type": "execute_result"
        }
      ],
      "source": [
        "glist= [\"Bread\", \"Milk\", \"Cookies\", \"Chocolate\"] # I remade the list\n",
        "len(glist)"
      ]
    },
    {
      "cell_type": "markdown",
      "metadata": {
        "id": "ZWGozCO28Cnu"
      },
      "source": [
        "## Reverse - in place, out of place"
      ]
    },
    {
      "cell_type": "code",
      "execution_count": 95,
      "metadata": {
        "colab": {
          "base_uri": "https://localhost:8080/"
        },
        "id": "gRooUSFZdmfj",
        "outputId": "a2fe611c-e3f5-4404-9967-e5178823d234"
      },
      "outputs": [
        {
          "name": "stdout",
          "output_type": "stream",
          "text": [
            "['Chocolate', 'Cookies', 'Milk', 'Bread']\n"
          ]
        }
      ],
      "source": [
        "# In Place reversal\n",
        "glist.reverse()  # this is IN PLACE\n",
        "print(glist)"
      ]
    },
    {
      "cell_type": "code",
      "execution_count": 96,
      "metadata": {
        "colab": {
          "base_uri": "https://localhost:8080/"
        },
        "id": "PssGy_R_dmfk",
        "outputId": "d2c4bcd0-32be-446d-b8a7-39ecd8936ab1"
      },
      "outputs": [
        {
          "data": {
            "text/plain": [
              "['Bread', 'Milk', 'Cookies', 'Chocolate']"
            ]
          },
          "execution_count": 96,
          "metadata": {},
          "output_type": "execute_result"
        }
      ],
      "source": [
        "# save the new reversed list in variable reversedlist\n",
        "reversedlist = glist[::-1] # we can store result in new list, but keep the old one this is OUT OF PLACE meaning we need new variable to store\n",
        "reversedlist"
      ]
    },
    {
      "cell_type": "code",
      "execution_count": null,
      "metadata": {
        "id": "k_ChpZWElI0U"
      },
      "outputs": [],
      "source": [
        "# there is also reversed function which is lazy "
      ]
    },
    {
      "cell_type": "code",
      "execution_count": null,
      "metadata": {
        "colab": {
          "base_uri": "https://localhost:8080/"
        },
        "id": "4lV6X_rvdmfk",
        "outputId": "52098a64-d469-4708-a796-c0e5a9837af9"
      },
      "outputs": [
        {
          "data": {
            "text/plain": [
              "(['Chocolate', 'Cookies', 'Milk', 'Bread'],\n",
              " ['Bread', 'Milk', 'Cookies', 'Chocolate'])"
            ]
          },
          "execution_count": 81,
          "metadata": {},
          "output_type": "execute_result"
        }
      ],
      "source": [
        "glist, reversedlist"
      ]
    },
    {
      "cell_type": "code",
      "execution_count": null,
      "metadata": {
        "id": "W6YqLpsbdmfk",
        "outputId": "1a745b2d-8f9b-4db4-ecc5-3d68d5133e16"
      },
      "outputs": [
        {
          "data": {
            "text/plain": [
              "(['Chocolate', 'Cookies', 'Milk', 'Bread'],\n",
              " ['Bread', 'Milk', 'Cookies', 'Chocolate'])"
            ]
          },
          "execution_count": 53,
          "metadata": {},
          "output_type": "execute_result"
        }
      ],
      "source": [
        "glist = reversedlist[::-1]\n",
        "glist, reversedlist"
      ]
    },
    {
      "cell_type": "code",
      "execution_count": null,
      "metadata": {
        "id": "TJVtAzzUdmfk",
        "outputId": "ca01f281-5c77-40db-ebc7-6c6edb73eff9"
      },
      "outputs": [
        {
          "data": {
            "text/plain": [
              "(['Bread', 'Milk', 'Cookies', 'Chocolate'],\n",
              " ['Bread', 'Milk', 'Cookies', 'Chocolate'])"
            ]
          },
          "execution_count": 54,
          "metadata": {},
          "output_type": "execute_result"
        }
      ],
      "source": [
        "glist = glist[::-1]\n",
        "glist, reversedlist"
      ]
    },
    {
      "cell_type": "code",
      "execution_count": null,
      "metadata": {
        "colab": {
          "base_uri": "https://localhost:8080/"
        },
        "id": "qf7-2NMTlN5g",
        "outputId": "c4bc4806-debc-473f-b7b3-6ac659dce332"
      },
      "outputs": [
        {
          "data": {
            "text/plain": [
              "['Chocolate', 'Cookies', 'Milk', 'Bread', 'Tea', 'Tea']"
            ]
          },
          "execution_count": 84,
          "metadata": {},
          "output_type": "execute_result"
        }
      ],
      "source": [
        "glist += [\"Tea\"]  # so this is like glist = glist = [\"Tea\"] so similar to append but it is OUT OF PLACE since we are overwriting our list\n",
        "glist"
      ]
    },
    {
      "cell_type": "code",
      "execution_count": null,
      "metadata": {
        "colab": {
          "base_uri": "https://localhost:8080/"
        },
        "id": "QRx1_6delkbD",
        "outputId": "1b00551c-eb8a-4faa-9cac-68f4bc8cd99d"
      },
      "outputs": [
        {
          "data": {
            "text/plain": [
              "['Chocolate', 'Cookies', 'Milk', 'Bread', 'Tea', 'Tea']"
            ]
          },
          "execution_count": 85,
          "metadata": {},
          "output_type": "execute_result"
        }
      ],
      "source": [
        "glist"
      ]
    },
    {
      "cell_type": "code",
      "execution_count": null,
      "metadata": {
        "colab": {
          "base_uri": "https://localhost:8080/",
          "height": 35
        },
        "id": "hrhGyUzflpY6",
        "outputId": "e35cb8c5-0a23-4563-b9a6-517461d6959e"
      },
      "outputs": [
        {
          "data": {
            "application/vnd.google.colaboratory.intrinsic+json": {
              "type": "string"
            },
            "text/plain": [
              "'Tea'"
            ]
          },
          "execution_count": 86,
          "metadata": {},
          "output_type": "execute_result"
        }
      ],
      "source": [
        "last_item = glist[-1]  # this keeps the list intact\n",
        "last_item"
      ]
    },
    {
      "cell_type": "code",
      "execution_count": null,
      "metadata": {
        "colab": {
          "base_uri": "https://localhost:8080/"
        },
        "id": "xeFHHr-hlsPb",
        "outputId": "edc1bedc-ef4f-4ace-8322-f95ed1c1db62"
      },
      "outputs": [
        {
          "data": {
            "text/plain": [
              "['Chocolate', 'Cookies', 'Milk', 'Bread', 'Tea', 'Tea']"
            ]
          },
          "execution_count": 87,
          "metadata": {},
          "output_type": "execute_result"
        }
      ],
      "source": [
        "glist"
      ]
    },
    {
      "cell_type": "code",
      "execution_count": null,
      "metadata": {
        "colab": {
          "base_uri": "https://localhost:8080/"
        },
        "id": "6i6u3I8Jdmfk",
        "outputId": "79a4a4e0-5247-42c8-ef28-786f8470a11d",
        "scrolled": true
      },
      "outputs": [
        {
          "name": "stdout",
          "output_type": "stream",
          "text": [
            "Bread\n",
            "['Chocolate', 'Cookies', 'Milk']\n"
          ]
        }
      ],
      "source": [
        "# glist= [\"Bread\", \"Milk\", \"Cookies\", \"Chocolate\"]\n",
        "lastelem = glist.pop() # IN PLACE removal of LAST element, and return of this last element\n",
        "print(lastelem)\n",
        "print(glist)"
      ]
    },
    {
      "cell_type": "code",
      "execution_count": null,
      "metadata": {
        "id": "Z6wlnc8ydmfl"
      },
      "outputs": [],
      "source": [
        "# make a blank list\n",
        "newlist = []"
      ]
    },
    {
      "cell_type": "code",
      "execution_count": null,
      "metadata": {
        "id": "1hSOU9nedmfl"
      },
      "outputs": [],
      "source": [
        "nlist = [1,2,3,4,5,6] #this can get boring fast...\n",
        "nlist"
      ]
    },
    {
      "cell_type": "code",
      "execution_count": null,
      "metadata": {
        "colab": {
          "base_uri": "https://localhost:8080/"
        },
        "id": "0PNkQLqhdmfl",
        "outputId": "fce90178-b36d-416c-ee52-e11b4edbf593"
      },
      "outputs": [
        {
          "data": {
            "text/plain": [
              "[0, 1, 2, 3, 4, 5, 6, 7, 8, 9, 10, 11, 12, 13, 14, 15, 16, 17, 18, 19]"
            ]
          },
          "execution_count": 91,
          "metadata": {},
          "output_type": "execute_result"
        }
      ],
      "source": [
        "f20 = list(range(20)) # remember range starts at 0 and goes to n-1\n",
        "f20"
      ]
    },
    {
      "cell_type": "code",
      "execution_count": null,
      "metadata": {
        "colab": {
          "base_uri": "https://localhost:8080/"
        },
        "id": "6eLVT1Sedmfl",
        "outputId": "ff7eba44-41e3-4c63-8401-ff3e68f65467"
      },
      "outputs": [
        {
          "data": {
            "text/plain": [
              "[1, 2, 3, 4, 5, 6, 7, 8, 9, 10, 11, 12, 13, 14, 15, 16, 17, 18, 19, 20]"
            ]
          },
          "execution_count": 92,
          "metadata": {},
          "output_type": "execute_result"
        }
      ],
      "source": [
        "f20 = list(range(1,21))\n",
        "f20"
      ]
    },
    {
      "cell_type": "code",
      "execution_count": 98,
      "metadata": {
        "colab": {
          "base_uri": "https://localhost:8080/"
        },
        "id": "2GHKRLlWdmfl",
        "outputId": "80b23100-57b1-4c02-e8f9-9e3f24f08377"
      },
      "outputs": [
        {
          "name": "stdout",
          "output_type": "stream",
          "text": [
            "[0, 3, 6, 9, 12, 15, 18, 21, 24, 27, 30, 33, 36, 39, 42, 45, 48]\n"
          ]
        }
      ],
      "source": [
        "numbers_list = list(range(0,51,3))\n",
        "print(numbers_list)\n",
        "# Python 3.x range is an improved Python 2.x xrange!"
      ]
    },
    {
      "cell_type": "code",
      "execution_count": null,
      "metadata": {
        "colab": {
          "base_uri": "https://localhost:8080/"
        },
        "id": "gOLN5-tKdmfl",
        "outputId": "b8fd75a4-7591-40e8-c7f4-6e4184f1763e"
      },
      "outputs": [
        {
          "data": {
            "text/plain": [
              "[1,\n",
              " 2,\n",
              " 5,\n",
              " 'Valdis',\n",
              " ['Bread', 'milk', 3, 6, 2.77, [3, \"wo'w\"]],\n",
              " ['anotherlist', 2, 3],\n",
              " 'just sometext']"
            ]
          },
          "execution_count": 93,
          "metadata": {},
          "output_type": "execute_result"
        }
      ],
      "source": [
        "# Lists can take any number of data types\n",
        "mylist = [1,2,5, \"Valdis\", [\"Bread\", \"milk\", 3, 6, 2.77, [3, \"wo'w\"]], [\"anotherlist\", 2,3], \"just sometext\"]\n",
        "mylist"
      ]
    },
    {
      "cell_type": "code",
      "execution_count": 99,
      "metadata": {
        "colab": {
          "base_uri": "https://localhost:8080/"
        },
        "id": "uT5zhvdxdmfm",
        "outputId": "32e0929a-819a-42be-8c37-22e0045061a0"
      },
      "outputs": [
        {
          "data": {
            "text/plain": [
              "[0, 3, 6, 9, 12, 888, 18, 21, 24, 27, 30, 33, 36, 39, 42, 45, 48]"
            ]
          },
          "execution_count": 99,
          "metadata": {},
          "output_type": "execute_result"
        }
      ],
      "source": [
        "numbers_list[5] = 888\n",
        "numbers_list"
      ]
    },
    {
      "cell_type": "markdown",
      "metadata": {
        "id": "yLXY6rZn9HvV"
      },
      "source": [
        "## Sorting - in place, out place"
      ]
    },
    {
      "cell_type": "code",
      "execution_count": 101,
      "metadata": {
        "colab": {
          "base_uri": "https://localhost:8080/"
        },
        "id": "UQaEJ3tL8u3Z",
        "outputId": "a54376cb-e7e1-4f7d-e790-d69a5c28a607"
      },
      "outputs": [
        {
          "name": "stdout",
          "output_type": "stream",
          "text": [
            "[0, 3, 6, 9, 12, 18, 21, 24, 27, 30, 33, 36, 39, 42, 45, 48, 888]\n"
          ]
        }
      ],
      "source": [
        "numbers_list.sort() # will sort the numbers IN PLACE in ASCENDING ORDER\n",
        "print(numbers_list)"
      ]
    },
    {
      "cell_type": "code",
      "execution_count": 102,
      "metadata": {
        "colab": {
          "base_uri": "https://localhost:8080/"
        },
        "id": "-3EdYUWy86-z",
        "outputId": "d4050e6b-0aec-4938-9134-63df2d5a4dfa"
      },
      "outputs": [
        {
          "data": {
            "text/plain": [
              "[0, 3, 6, 9, 12, 18, 21, 24, 27, 30, 33, 36, 39, 42, 45, 48, 888, 12]"
            ]
          },
          "execution_count": 102,
          "metadata": {},
          "output_type": "execute_result"
        }
      ],
      "source": [
        "numbers_list.append(12)\n",
        "numbers_list"
      ]
    },
    {
      "cell_type": "code",
      "execution_count": 103,
      "metadata": {
        "colab": {
          "base_uri": "https://localhost:8080/"
        },
        "id": "pC8AmEvv9Akl",
        "outputId": "cca3d130-65d3-4a25-e56a-bd624dd931da"
      },
      "outputs": [
        {
          "data": {
            "text/plain": [
              "[888, 48, 45, 42, 39, 36, 33, 30, 27, 24, 21, 18, 12, 12, 9, 6, 3, 0]"
            ]
          },
          "execution_count": 103,
          "metadata": {},
          "output_type": "execute_result"
        }
      ],
      "source": [
        "numbers_list.sort(reverse= True) # we can sort in reverse order\n",
        "numbers_list"
      ]
    },
    {
      "cell_type": "code",
      "execution_count": 105,
      "metadata": {
        "colab": {
          "base_uri": "https://localhost:8080/"
        },
        "id": "GFsxISZ99MLN",
        "outputId": "34a63893-6a80-4e11-dd71-d87b2dc8c0a2"
      },
      "outputs": [
        {
          "data": {
            "text/plain": [
              "[0, 3, 6, 9, 12, 12, 18, 21, 24, 27, 30, 33, 36, 39, 42, 45, 48, 888]"
            ]
          },
          "execution_count": 105,
          "metadata": {},
          "output_type": "execute_result"
        }
      ],
      "source": [
        "sorted_list = sorted(numbers_list) # OUT OF PLACE returns new list sorted in ASCENDING\n",
        "# there is also a reverse flag\n",
        "sorted_list"
      ]
    },
    {
      "cell_type": "markdown",
      "metadata": {
        "id": "BswL3NRA9gTE"
      },
      "source": [
        "## Count, Index"
      ]
    },
    {
      "cell_type": "code",
      "execution_count": 107,
      "metadata": {
        "colab": {
          "base_uri": "https://localhost:8080/"
        },
        "id": "ByO4fIKl9e7g",
        "outputId": "e89e15e0-fc49-4681-f587-b58b6dba3490"
      },
      "outputs": [
        {
          "data": {
            "text/plain": [
              "(2, 2)"
            ]
          },
          "execution_count": 107,
          "metadata": {},
          "output_type": "execute_result"
        }
      ],
      "source": [
        "sorted_list.count(12), numbers_list.count(12) # so we have 2 in each list"
      ]
    },
    {
      "cell_type": "code",
      "execution_count": 108,
      "metadata": {
        "colab": {
          "base_uri": "https://localhost:8080/"
        },
        "id": "jC-w3kpG9r4g",
        "outputId": "ade6f23a-8996-42a5-e213-711473a10ec9"
      },
      "outputs": [
        {
          "data": {
            "text/plain": [
              "(4, 12)"
            ]
          },
          "execution_count": 108,
          "metadata": {},
          "output_type": "execute_result"
        }
      ],
      "source": [
        "# index will find the index of some item\n",
        "sorted_list.index(12), numbers_list.index(12)\n",
        "# index will throw ValueError if item does not exist"
      ]
    },
    {
      "cell_type": "markdown",
      "metadata": {
        "id": "N1qayn79-DZi"
      },
      "source": [
        "## Insert, removal\n"
      ]
    },
    {
      "cell_type": "code",
      "execution_count": 109,
      "metadata": {
        "colab": {
          "base_uri": "https://localhost:8080/"
        },
        "id": "DSIdGTRP-Ja1",
        "outputId": "4f64d707-f61a-4e12-a038-3945b944f48d"
      },
      "outputs": [
        {
          "name": "stdout",
          "output_type": "stream",
          "text": [
            "[0, 'Booo!', 3, 6, 9, 12, 12, 18, 21, 24, 27, 30, 33, 36, 39, 42, 45, 48, 888]\n"
          ]
        }
      ],
      "source": [
        "sorted_list.insert(1, \"Booo!\") # so inserts at the exact place and shifts rest up\n",
        "print(sorted_list)\n",
        "# this can take a while to move the whole list, so insert is less efficient than append\n",
        "# so inserting things at the begginning of a list is not as efficient as appending at the end"
      ]
    },
    {
      "cell_type": "code",
      "execution_count": 110,
      "metadata": {
        "colab": {
          "base_uri": "https://localhost:8080/"
        },
        "id": "ENA5W8tl979q",
        "outputId": "b0a43d85-3fcb-49a2-c70a-bfe43fd3274a"
      },
      "outputs": [
        {
          "name": "stdout",
          "output_type": "stream",
          "text": [
            "[0, 3, 6, 9, 12, 12, 18, 21, 24, 27, 30, 33, 36, 39, 42, 45, 48, 888]\n"
          ]
        }
      ],
      "source": [
        "sorted_list.remove(\"Booo!\") # removes exact first match\n",
        "print(sorted_list)"
      ]
    },
    {
      "cell_type": "markdown",
      "metadata": {
        "id": "HGFiPT5KmG0t"
      },
      "source": [
        "# Looping through lists\n",
        "\n",
        "Works just like in strings we go through each individual item, for strings it was mini string of one character\n",
        "\n",
        "For lists it is the individual item"
      ]
    },
    {
      "cell_type": "code",
      "execution_count": 111,
      "metadata": {
        "colab": {
          "base_uri": "https://localhost:8080/"
        },
        "id": "mXEPT3UzmK92",
        "outputId": "ae2c4e9a-6eba-4e2b-965c-f95c566b9e9b"
      },
      "outputs": [
        {
          "name": "stdout",
          "output_type": "stream",
          "text": [
            "Chocolate\n",
            "Cookies\n",
            "Milk\n",
            "Bread\n"
          ]
        }
      ],
      "source": [
        "for item in glist:\n",
        "    print(item)"
      ]
    },
    {
      "cell_type": "code",
      "execution_count": 114,
      "metadata": {
        "colab": {
          "base_uri": "https://localhost:8080/"
        },
        "id": "Mlx7CytEmRgg",
        "outputId": "012d4fca-0aab-44e4-ea0a-cd42e16f5d07"
      },
      "outputs": [
        {
          "name": "stdout",
          "output_type": "stream",
          "text": [
            "['Chocolate', 'Cookies', 'Milk', 'Bread']\n",
            "0 Chocolate\n",
            "Item no. 0 is Chocolate same as Chocolate\n",
            "1 Cookies\n",
            "Item no. 1 is Cookies same as Cookies\n",
            "2 Milk\n",
            "Item no. 2 is Milk same as Milk\n",
            "3 Bread\n",
            "Item no. 3 is Bread same as Bread\n"
          ]
        }
      ],
      "source": [
        "# less frequently we might need an index then we use enumarate\n",
        "print(glist)\n",
        "for index,item in enumerate(glist): # we could start at a different numbering as well\n",
        "    print(index, item)\n",
        "    print(f\"Item no. {index} is {item} same as {glist[index]}\") # last approach is not needed"
      ]
    },
    {
      "cell_type": "code",
      "execution_count": 115,
      "metadata": {
        "colab": {
          "base_uri": "https://localhost:8080/"
        },
        "id": "t97MDknb_acF",
        "outputId": "302516d1-96d9-4c8d-8d4e-217925889503"
      },
      "outputs": [
        {
          "data": {
            "text/plain": [
              "[0, 1, 2, 3, 4, 5, 6, 7, 8, 9, 10, 11]"
            ]
          },
          "execution_count": 115,
          "metadata": {},
          "output_type": "execute_result"
        }
      ],
      "source": [
        "numbers"
      ]
    },
    {
      "cell_type": "code",
      "execution_count": 117,
      "metadata": {
        "colab": {
          "base_uri": "https://localhost:8080/"
        },
        "id": "KFPz0gfMmlK9",
        "outputId": "855b0a3d-23eb-413e-a4bc-d175b9ac3482"
      },
      "outputs": [
        {
          "name": "stdout",
          "output_type": "stream",
          "text": [
            "Squaring 0 into 0\n",
            "Squaring 1 into 1\n",
            "Squaring 2 into 4\n",
            "Squaring 3 into 9\n",
            "Squaring 4 into 16\n",
            "Squaring 5 into 25\n",
            "Squaring 6 into 36\n",
            "Squaring 7 into 49\n",
            "Squaring 8 into 64\n",
            "Squaring 9 into 81\n",
            "Squaring 10 into 100\n",
            "Squaring 11 into 121\n",
            "My squares are [0, 1, 4, 9, 16, 25, 36, 49, 64, 81, 100, 121]\n"
          ]
        }
      ],
      "source": [
        "# let's go through our numbers list and create squares of this list\n",
        "squares = []  # so we start with a new blank list\n",
        "for n in numbers:\n",
        "    new_square = n**2\n",
        "    print(f\"Squaring {n} into {new_square}\")\n",
        "    squares.append(new_square)  # or n*n # and we keep adding for each number in our original numbers list we create a square\n",
        "    # you could do it without a temporary variable\n",
        "    # squares.append(n**2)  # or n*n # and we keep adding for each number in our original numbers list we create a square\n",
        "print(\"My squares are\", squares)"
      ]
    },
    {
      "cell_type": "code",
      "execution_count": null,
      "metadata": {
        "id": "XkR0J0AynLkt"
      },
      "outputs": [],
      "source": []
    },
    {
      "cell_type": "markdown",
      "metadata": {
        "id": "g7Pg7gTRnL6B"
      },
      "source": [
        "# List Comprehension Example\n"
      ]
    },
    {
      "cell_type": "code",
      "execution_count": 118,
      "metadata": {
        "colab": {
          "base_uri": "https://localhost:8080/"
        },
        "id": "fyftewQtnQsV",
        "outputId": "9b268fc3-38f2-4155-e2d8-fe2a9d05ea90"
      },
      "outputs": [
        {
          "data": {
            "text/plain": [
              "[0, 1, 4, 9, 16, 25, 36, 49, 64, 81, 100, 121]"
            ]
          },
          "execution_count": 118,
          "metadata": {},
          "output_type": "execute_result"
        }
      ],
      "source": [
        "# so for our squares often we need to take an existing sequence(here it is a list) and do something with it\n",
        "# there is a shorter syntax for such operations\n",
        "square_list = [n**2 for n in numbers] # same idea as above for loop\n",
        "square_list"
      ]
    },
    {
      "cell_type": "code",
      "execution_count": null,
      "metadata": {
        "id": "JIj6FaOXnomY"
      },
      "outputs": [],
      "source": [
        "# list comprehensions are for shorter calculations with minimum of logic\n",
        "# use regular for loops for more complex cases"
      ]
    },
    {
      "cell_type": "code",
      "execution_count": 121,
      "metadata": {
        "colab": {
          "base_uri": "https://localhost:8080/"
        },
        "id": "58MYVqAGnxEA",
        "outputId": "51781929-7f80-4ef1-8e86-bb6e3d9310d8"
      },
      "outputs": [
        {
          "data": {
            "text/plain": [
              "[0, 4, 16, 36, 64, 100]"
            ]
          },
          "execution_count": 121,
          "metadata": {},
          "output_type": "execute_result"
        }
      ],
      "source": [
        "even_squares = [n**2 for n in numbers if n%2 == 0] # we only takes squares of even numbers\n",
        "even_squares"
      ]
    },
    {
      "cell_type": "code",
      "execution_count": 122,
      "metadata": {
        "colab": {
          "base_uri": "https://localhost:8080/"
        },
        "id": "6gS0zWpjn6Tn",
        "outputId": "d27d84ae-ab41-4cff-b46e-ad9991aa9da9"
      },
      "outputs": [
        {
          "data": {
            "text/plain": [
              "[0, 4, 16, 36, 64, 100]"
            ]
          },
          "execution_count": 122,
          "metadata": {},
          "output_type": "execute_result"
        }
      ],
      "source": [
        "# you could do the same thing with regular loop and ifs\n",
        "even_squares_2 = []\n",
        "for n in numbers:\n",
        "    if n%2 == 0:\n",
        "        even_squares_2.append(n**2)\n",
        "# same code as list comprehension but more writing\n",
        "even_squares_2"
      ]
    },
    {
      "cell_type": "code",
      "execution_count": null,
      "metadata": {
        "id": "5EyWORegdmfm",
        "outputId": "e581fd4d-5cbf-41de-faa4-6be212d7205c"
      },
      "outputs": [
        {
          "data": {
            "text/plain": [
              "['Bread', 'milk', 3, 6, 2.77, [3, \"wo'w\"]]"
            ]
          },
          "execution_count": 71,
          "metadata": {},
          "output_type": "execute_result"
        }
      ],
      "source": [
        "innerlist = mylist[4]\n",
        "innerlist"
      ]
    },
    {
      "cell_type": "code",
      "execution_count": null,
      "metadata": {
        "id": "kN7MvWPwdmfm",
        "outputId": "3ea7c981-8c0f-4043-f35f-6981bf300fc4"
      },
      "outputs": [
        {
          "data": {
            "text/plain": [
              "[3, \"wo'w\"]"
            ]
          },
          "execution_count": 72,
          "metadata": {},
          "output_type": "execute_result"
        }
      ],
      "source": [
        "inner_inner_list = innerlist[5]\n",
        "inner_inner_list"
      ]
    },
    {
      "cell_type": "code",
      "execution_count": null,
      "metadata": {
        "id": "m-ovanYIdmfm",
        "outputId": "6faf1c29-00e5-431e-ecac-9799db303662"
      },
      "outputs": [
        {
          "data": {
            "text/plain": [
              "[3, \"wo'w\"]"
            ]
          },
          "execution_count": 73,
          "metadata": {},
          "output_type": "execute_result"
        }
      ],
      "source": [
        "i_list = innerlist[-1]\n",
        "i_list"
      ]
    },
    {
      "cell_type": "code",
      "execution_count": null,
      "metadata": {
        "id": "-gkEqoG3dmfm",
        "outputId": "89dffe23-983c-4094-fe0a-d31307e91bde"
      },
      "outputs": [
        {
          "data": {
            "text/plain": [
              "\"wo'w\""
            ]
          },
          "execution_count": 74,
          "metadata": {},
          "output_type": "execute_result"
        }
      ],
      "source": [
        "last_list  = i_list[-1] # here list3[1] would work as well\n",
        "last_list"
      ]
    },
    {
      "cell_type": "code",
      "execution_count": null,
      "metadata": {
        "id": "ozEx2mmzdmfn",
        "outputId": "99cd60e8-8b9f-4c27-9d25-77fb5e11cb5d"
      },
      "outputs": [
        {
          "data": {
            "text/plain": [
              "'o'"
            ]
          },
          "execution_count": 75,
          "metadata": {},
          "output_type": "execute_result"
        }
      ],
      "source": [
        "my_letter = last_list[1]\n",
        "my_letter"
      ]
    },
    {
      "cell_type": "code",
      "execution_count": null,
      "metadata": {
        "id": "82wwhy4Edmfn",
        "outputId": "733649d9-3a71-486a-e51a-176676c211d0"
      },
      "outputs": [
        {
          "data": {
            "text/plain": [
              "'o'"
            ]
          },
          "execution_count": 76,
          "metadata": {},
          "output_type": "execute_result"
        }
      ],
      "source": [
        "mylist[4][-1][-1][1]"
      ]
    },
    {
      "cell_type": "code",
      "execution_count": null,
      "metadata": {
        "id": "IqfBW9IMdmfn",
        "outputId": "28bc5b0f-2dce-4527-97bd-aa4fef3f836a"
      },
      "outputs": [
        {
          "data": {
            "text/plain": [
              "('o', 'o')"
            ]
          },
          "execution_count": 78,
          "metadata": {},
          "output_type": "execute_result"
        }
      ],
      "source": [
        "mylist[4][5][1][1], mylist[4][5][1][-3]"
      ]
    },
    {
      "cell_type": "code",
      "execution_count": null,
      "metadata": {
        "id": "ct58-Uoxdmfn"
      },
      "outputs": [],
      "source": [
        "len(mylist)"
      ]
    },
    {
      "cell_type": "code",
      "execution_count": null,
      "metadata": {
        "id": "jkfO4hB9dmfn"
      },
      "outputs": [],
      "source": [
        "x=list(range(1,11))\n",
        "x"
      ]
    },
    {
      "cell_type": "code",
      "execution_count": null,
      "metadata": {
        "id": "q9EbODnWdmfn",
        "outputId": "01bf77d5-c68c-47af-e6a0-e092f9982476"
      },
      "outputs": [
        {
          "data": {
            "text/plain": [
              "['Bread', 'Milk', 'Cookies']"
            ]
          },
          "execution_count": 79,
          "metadata": {},
          "output_type": "execute_result"
        }
      ],
      "source": [
        "glist"
      ]
    },
    {
      "cell_type": "code",
      "execution_count": null,
      "metadata": {
        "colab": {
          "base_uri": "https://localhost:8080/"
        },
        "id": "lHiy6FNydmfn",
        "outputId": "f7b89723-c7f7-46bb-bebd-20d3add2f7b2"
      },
      "outputs": [
        {
          "data": {
            "text/plain": [
              "['Chocolate', 'Cookies', 'Milk', 'Pasta', 'Cereal', 'Water']"
            ]
          },
          "execution_count": 100,
          "metadata": {},
          "output_type": "execute_result"
        }
      ],
      "source": [
        "# adding more items by making new list\n",
        "glist += [\"Pasta\", \"Cereal\", \"Water\"] # it is same as saying glist = glist + [\"Pasta\", \"Cereal\", \"Water\"]\n",
        "# so += is out of place , unlike mylist.append() method\n",
        "glist"
      ]
    },
    {
      "cell_type": "code",
      "execution_count": null,
      "metadata": {
        "colab": {
          "base_uri": "https://localhost:8080/"
        },
        "id": "mkQqFtrSdmfo",
        "outputId": "80a461e0-d157-456e-ee1a-0f50c07a5832"
      },
      "outputs": [
        {
          "data": {
            "text/plain": [
              "['Chocolate',\n",
              " 'Cookies',\n",
              " 'Milk',\n",
              " 'Pasta',\n",
              " 'Cereal',\n",
              " 'Water',\n",
              " ['Booze', 'Candy']]"
            ]
          },
          "execution_count": 101,
          "metadata": {},
          "output_type": "execute_result"
        }
      ],
      "source": [
        "glist.append([\"Booze\", \"Candy\"])\n",
        "glist"
      ]
    },
    {
      "cell_type": "code",
      "execution_count": null,
      "metadata": {
        "colab": {
          "base_uri": "https://localhost:8080/"
        },
        "id": "RvUn-Eyydmfo",
        "outputId": "acb09d3a-5494-400f-e914-78066e8bdf2b"
      },
      "outputs": [
        {
          "data": {
            "text/plain": [
              "['Chocolate',\n",
              " 'Cookies',\n",
              " 'Milk',\n",
              " 'Pasta',\n",
              " 'Cereal',\n",
              " 'Water',\n",
              " ['Booze', 'Candy'],\n",
              " 'Beer',\n",
              " 'Chips']"
            ]
          },
          "execution_count": 102,
          "metadata": {},
          "output_type": "execute_result"
        }
      ],
      "source": [
        "glist.extend([\"Beer\", \"Chips\"]) # so extend works similarl to += it flattens the new items\n",
        "glist"
      ]
    },
    {
      "cell_type": "code",
      "execution_count": null,
      "metadata": {
        "colab": {
          "base_uri": "https://localhost:8080/"
        },
        "id": "VsJzT9--pw1J",
        "outputId": "7db39e4b-5cc1-40a1-c06b-163de57833b8"
      },
      "outputs": [
        {
          "data": {
            "text/plain": [
              "['Booze', 'Candy']"
            ]
          },
          "execution_count": 103,
          "metadata": {},
          "output_type": "execute_result"
        }
      ],
      "source": [
        "glist[-3]"
      ]
    },
    {
      "cell_type": "code",
      "execution_count": null,
      "metadata": {
        "colab": {
          "base_uri": "https://localhost:8080/"
        },
        "id": "XndouHqNpzzU",
        "outputId": "3e6a5a0b-8f1c-423b-83e4-68f939c271b7"
      },
      "outputs": [
        {
          "data": {
            "text/plain": [
              "('Candy', 'Candy')"
            ]
          },
          "execution_count": 105,
          "metadata": {},
          "output_type": "execute_result"
        }
      ],
      "source": [
        "glist[-3][-1], glist[-3][1] # same thing"
      ]
    },
    {
      "cell_type": "code",
      "execution_count": null,
      "metadata": {
        "colab": {
          "base_uri": "https://localhost:8080/"
        },
        "id": "I795xrPzdmfo",
        "outputId": "12ab8015-7a2e-44c3-8d19-800e5159f722"
      },
      "outputs": [
        {
          "data": {
            "text/plain": [
              "1"
            ]
          },
          "execution_count": 107,
          "metadata": {},
          "output_type": "execute_result"
        }
      ],
      "source": [
        "glist.count(\"Pasta\")  # count need exact match"
      ]
    },
    {
      "cell_type": "code",
      "execution_count": null,
      "metadata": {
        "colab": {
          "base_uri": "https://localhost:8080/",
          "height": 167
        },
        "id": "LZTKQ71Xdmfp",
        "outputId": "8c8ffb04-48a6-49d3-e636-504b7049f034"
      },
      "outputs": [
        {
          "ename": "ValueError",
          "evalue": "ignored",
          "output_type": "error",
          "traceback": [
            "\u001b[0;31m---------------------------------------------------------------------------\u001b[0m",
            "\u001b[0;31mValueError\u001b[0m                                Traceback (most recent call last)",
            "\u001b[0;32m<ipython-input-108-58a2fd099262>\u001b[0m in \u001b[0;36m<module>\u001b[0;34m()\u001b[0m\n\u001b[0;32m----> 1\u001b[0;31m \u001b[0mglist\u001b[0m\u001b[0;34m.\u001b[0m\u001b[0mindex\u001b[0m\u001b[0;34m(\u001b[0m\u001b[0;34m\"Paste\"\u001b[0m\u001b[0;34m)\u001b[0m\u001b[0;34m\u001b[0m\u001b[0;34m\u001b[0m\u001b[0m\n\u001b[0m",
            "\u001b[0;31mValueError\u001b[0m: 'Paste' is not in list"
          ]
        }
      ],
      "source": [
        "glist.index(\"Paste\")"
      ]
    },
    {
      "cell_type": "code",
      "execution_count": null,
      "metadata": {
        "colab": {
          "base_uri": "https://localhost:8080/"
        },
        "id": "ctFNiJ_ddmfp",
        "outputId": "84034251-670b-459d-9607-21dd74d3d93a"
      },
      "outputs": [
        {
          "data": {
            "text/plain": [
              "3"
            ]
          },
          "execution_count": 109,
          "metadata": {},
          "output_type": "execute_result"
        }
      ],
      "source": [
        "glist.index(\"Pasta\")"
      ]
    },
    {
      "cell_type": "code",
      "execution_count": null,
      "metadata": {
        "id": "02rQ7_cOdmfq",
        "outputId": "99628cdd-7ea2-4c99-c98b-dda76e72487d"
      },
      "outputs": [
        {
          "data": {
            "text/plain": [
              "['Bread',\n",
              " 'Milk',\n",
              " 'Cookies',\n",
              " 'Pasta',\n",
              " 'Cereal',\n",
              " 'Water',\n",
              " ['Booze', 'Candy'],\n",
              " 'Beer',\n",
              " 'Chips']"
            ]
          },
          "execution_count": 86,
          "metadata": {},
          "output_type": "execute_result"
        }
      ],
      "source": [
        "glist"
      ]
    },
    {
      "cell_type": "code",
      "execution_count": null,
      "metadata": {
        "colab": {
          "base_uri": "https://localhost:8080/",
          "height": 35
        },
        "id": "qFG7DnWAqFPH",
        "outputId": "ac7f9527-d301-403d-c7b6-b901a72e9951"
      },
      "outputs": [
        {
          "data": {
            "application/vnd.google.colaboratory.intrinsic+json": {
              "type": "string"
            },
            "text/plain": [
              "'Pasta'"
            ]
          },
          "execution_count": 110,
          "metadata": {},
          "output_type": "execute_result"
        }
      ],
      "source": [
        "glist[3]"
      ]
    },
    {
      "cell_type": "code",
      "execution_count": null,
      "metadata": {
        "id": "jeY9SkerqLZx"
      },
      "outputs": [],
      "source": []
    },
    {
      "cell_type": "code",
      "execution_count": null,
      "metadata": {
        "colab": {
          "base_uri": "https://localhost:8080/"
        },
        "id": "qehhlh2sdmfq",
        "outputId": "f3fc5b3d-dfb7-4a7f-abd1-0412516e36cf"
      },
      "outputs": [
        {
          "data": {
            "text/plain": [
              "['Chocolate',\n",
              " 'Cookies',\n",
              " 'Milk',\n",
              " 'Pasta',\n",
              " 'Tomato Sauce',\n",
              " 'Cereal',\n",
              " 'Water',\n",
              " ['Booze', 'Candy'],\n",
              " 'Beer',\n",
              " 'Chips']"
            ]
          },
          "execution_count": 111,
          "metadata": {},
          "output_type": "execute_result"
        }
      ],
      "source": [
        "glist.insert(4, \"Tomato Sauce\") # so it will insert before 5th element (with index 4)\n",
        "glist"
      ]
    },
    {
      "cell_type": "code",
      "execution_count": null,
      "metadata": {
        "id": "MZE9-3Agdmfq",
        "outputId": "b1837d91-c74c-45ce-a4f9-f2bce95ff365"
      },
      "outputs": [
        {
          "data": {
            "text/plain": [
              "'Tomato Sauce'"
            ]
          },
          "execution_count": 89,
          "metadata": {},
          "output_type": "execute_result"
        }
      ],
      "source": [
        "glist[4]"
      ]
    },
    {
      "cell_type": "code",
      "execution_count": null,
      "metadata": {
        "id": "L108NvM7dmfr"
      },
      "outputs": [],
      "source": [
        "# for large lists insert might not be very fast because you have to shift the elements around"
      ]
    },
    {
      "cell_type": "code",
      "execution_count": null,
      "metadata": {
        "colab": {
          "base_uri": "https://localhost:8080/",
          "height": 167
        },
        "id": "srB6VZFddmfr",
        "outputId": "c229af2f-8d6f-4a9f-c8a0-97c4f31d8ccc"
      },
      "outputs": [
        {
          "ename": "ValueError",
          "evalue": "ignored",
          "output_type": "error",
          "traceback": [
            "\u001b[0;31m---------------------------------------------------------------------------\u001b[0m",
            "\u001b[0;31mValueError\u001b[0m                                Traceback (most recent call last)",
            "\u001b[0;32m<ipython-input-113-917a37689ea6>\u001b[0m in \u001b[0;36m<module>\u001b[0;34m()\u001b[0m\n\u001b[0;32m----> 1\u001b[0;31m \u001b[0mglist\u001b[0m\u001b[0;34m.\u001b[0m\u001b[0mremove\u001b[0m\u001b[0;34m(\u001b[0m\u001b[0;34m\"No idea what to remove\"\u001b[0m\u001b[0;34m)\u001b[0m\u001b[0;34m\u001b[0m\u001b[0;34m\u001b[0m\u001b[0m\n\u001b[0m",
            "\u001b[0;31mValueError\u001b[0m: list.remove(x): x not in list"
          ]
        }
      ],
      "source": [
        "glist.remove(\"No idea what to remove\")"
      ]
    },
    {
      "cell_type": "code",
      "execution_count": null,
      "metadata": {
        "colab": {
          "base_uri": "https://localhost:8080/"
        },
        "id": "HNSo27rldmfr",
        "outputId": "3e16bc38-cc24-4483-83a6-c1a2a877f52a"
      },
      "outputs": [
        {
          "data": {
            "text/plain": [
              "['Chocolate',\n",
              " 'Cookies',\n",
              " 'Milk',\n",
              " 'Pasta',\n",
              " 'Cereal',\n",
              " 'Water',\n",
              " ['Booze', 'Candy'],\n",
              " 'Beer',\n",
              " 'Chips']"
            ]
          },
          "execution_count": 114,
          "metadata": {},
          "output_type": "execute_result"
        }
      ],
      "source": [
        "glist.remove(\"Tomato Sauce\") # we got rid of first tomatoe sauce occurence\n",
        "glist"
      ]
    },
    {
      "cell_type": "code",
      "execution_count": null,
      "metadata": {
        "colab": {
          "base_uri": "https://localhost:8080/",
          "height": 203
        },
        "id": "3LkOg-atdmfr",
        "outputId": "22c78881-d002-4817-a19e-b60152f813a8"
      },
      "outputs": [
        {
          "ename": "TypeError",
          "evalue": "ignored",
          "output_type": "error",
          "traceback": [
            "\u001b[0;31m---------------------------------------------------------------------------\u001b[0m",
            "\u001b[0;31mTypeError\u001b[0m                                 Traceback (most recent call last)",
            "\u001b[0;32m<ipython-input-115-3eec0de1a358>\u001b[0m in \u001b[0;36m<module>\u001b[0;34m()\u001b[0m\n\u001b[1;32m      1\u001b[0m \u001b[0;31m# You can only sort list that have same data types or types that can be compared like int and float\u001b[0m\u001b[0;34m\u001b[0m\u001b[0;34m\u001b[0m\u001b[0;34m\u001b[0m\u001b[0m\n\u001b[0;32m----> 2\u001b[0;31m \u001b[0mglist\u001b[0m\u001b[0;34m.\u001b[0m\u001b[0msort\u001b[0m\u001b[0;34m(\u001b[0m\u001b[0;34m)\u001b[0m \u001b[0;31m# this is in place and will be numeric, or lexicographical sort\u001b[0m\u001b[0;34m\u001b[0m\u001b[0;34m\u001b[0m\u001b[0m\n\u001b[0m\u001b[1;32m      3\u001b[0m \u001b[0mglist\u001b[0m\u001b[0;34m\u001b[0m\u001b[0;34m\u001b[0m\u001b[0m\n",
            "\u001b[0;31mTypeError\u001b[0m: '<' not supported between instances of 'list' and 'str'"
          ]
        }
      ],
      "source": [
        "# You can only sort list that have same data types or types that can be compared like int and float\n",
        "glist.sort() # this is in place and will be numeric, or lexicographical sort\n",
        "glist"
      ]
    },
    {
      "cell_type": "code",
      "execution_count": null,
      "metadata": {
        "colab": {
          "base_uri": "https://localhost:8080/"
        },
        "id": "prqJK2maqshJ",
        "outputId": "15afc5d2-9952-465f-aea4-5ce2a1727da1"
      },
      "outputs": [
        {
          "data": {
            "text/plain": [
              "['Cereal', 'Chocolate', 'Cookies', 'Milk', 'Pasta', 'Water', 'Beer', 'Chips']"
            ]
          },
          "execution_count": 116,
          "metadata": {},
          "output_type": "execute_result"
        }
      ],
      "source": [
        "glist.remove(['Booze', 'Candy'])\n",
        "glist"
      ]
    },
    {
      "cell_type": "code",
      "execution_count": null,
      "metadata": {
        "colab": {
          "base_uri": "https://localhost:8080/"
        },
        "id": "3mOsqc3Iqw06",
        "outputId": "16e32ebc-0966-4626-e0f9-1cf538586ba5"
      },
      "outputs": [
        {
          "data": {
            "text/plain": [
              "['Beer', 'Cereal', 'Chips', 'Chocolate', 'Cookies', 'Milk', 'Pasta', 'Water']"
            ]
          },
          "execution_count": 117,
          "metadata": {},
          "output_type": "execute_result"
        }
      ],
      "source": [
        "glist.sort()  # in place for strings it is lexicographic\n",
        "glist"
      ]
    },
    {
      "cell_type": "code",
      "execution_count": null,
      "metadata": {
        "colab": {
          "base_uri": "https://localhost:8080/"
        },
        "id": "Zd7CpuxVq6ns",
        "outputId": "fb739e15-d9ab-406e-fe42-0ba1517d81be"
      },
      "outputs": [
        {
          "data": {
            "text/plain": [
              "['Beer', 'Cereal', 'Chips', 'Chocolate', 'Cookies', 'Milk', 'Pasta', 'Water']"
            ]
          },
          "execution_count": 118,
          "metadata": {},
          "output_type": "execute_result"
        }
      ],
      "source": [
        "glist_copy = sorted(glist) # this is OUT OF PLACE sort meaning we need to store somewhere\n",
        "glist_copy"
      ]
    },
    {
      "cell_type": "code",
      "execution_count": null,
      "metadata": {
        "id": "ivgvbX0Idmfs",
        "outputId": "9aeff670-eb76-4236-ce48-0aaf93805243"
      },
      "outputs": [
        {
          "data": {
            "text/plain": [
              "['Bread', 'Cereal', 'Cookies', 'Milk', 'Pasta', 'Tomato Sauce', 'Water']"
            ]
          },
          "execution_count": 94,
          "metadata": {},
          "output_type": "execute_result"
        }
      ],
      "source": [
        "glist = glist[:7]\n",
        "glist"
      ]
    },
    {
      "cell_type": "code",
      "execution_count": null,
      "metadata": {
        "id": "1Rc51kcrdmfs",
        "outputId": "dbdb8c74-7589-42fe-e2fe-6f685d5a917f"
      },
      "outputs": [
        {
          "data": {
            "text/plain": [
              "['Bread',\n",
              " 'Cereal',\n",
              " 'Cookies',\n",
              " 'Milk',\n",
              " 'Pasta',\n",
              " 'Tomato Sauce',\n",
              " 'Water',\n",
              " 'Olive Oil']"
            ]
          },
          "execution_count": 95,
          "metadata": {},
          "output_type": "execute_result"
        }
      ],
      "source": [
        "glist.append(\"Olive Oil\")\n",
        "glist"
      ]
    },
    {
      "cell_type": "code",
      "execution_count": null,
      "metadata": {
        "id": "v7-my_fSdmfs",
        "outputId": "c61bb3c4-eb3e-47c1-8230-ba6d2de62d24"
      },
      "outputs": [
        {
          "data": {
            "text/plain": [
              "['Bread',\n",
              " 'Cereal',\n",
              " 'Cookies',\n",
              " 'Milk',\n",
              " 'Olive Oil',\n",
              " 'Pasta',\n",
              " 'Tomato Sauce',\n",
              " 'Water']"
            ]
          },
          "execution_count": 96,
          "metadata": {},
          "output_type": "execute_result"
        }
      ],
      "source": [
        "glist.sort()\n",
        "glist"
      ]
    },
    {
      "cell_type": "code",
      "execution_count": null,
      "metadata": {
        "colab": {
          "base_uri": "https://localhost:8080/"
        },
        "id": "Bg--LZfydmfs",
        "outputId": "c4636d8c-ddfb-4a8e-d806-d816d6031341"
      },
      "outputs": [
        {
          "data": {
            "text/plain": [
              "['Water', 'Pasta', 'Milk', 'Cookies', 'Chocolate', 'Chips', 'Cereal', 'Beer']"
            ]
          },
          "execution_count": 119,
          "metadata": {},
          "output_type": "execute_result"
        }
      ],
      "source": [
        "glist.sort(reverse = True) # again sort is in place\n",
        "glist"
      ]
    },
    {
      "cell_type": "code",
      "execution_count": null,
      "metadata": {
        "id": "V1pXoMQfdmfs",
        "outputId": "42bf8684-2252-4111-ad84-84f83ee92866"
      },
      "outputs": [
        {
          "data": {
            "text/plain": [
              "['Bread',\n",
              " 'Cereal',\n",
              " 'Cookies',\n",
              " 'Milk',\n",
              " 'Olive Oil',\n",
              " 'Pasta',\n",
              " 'Tomato Sauce',\n",
              " 'Water']"
            ]
          },
          "execution_count": 98,
          "metadata": {},
          "output_type": "execute_result"
        }
      ],
      "source": [
        "new_list = sorted(glist) # so sorted is out of place, returns new sorted something\n",
        "new_list"
      ]
    },
    {
      "cell_type": "code",
      "execution_count": null,
      "metadata": {
        "id": "Is5xwCCGdmfs",
        "outputId": "e9f27e0a-67bc-47bb-8cc4-46d29ec21b7e"
      },
      "outputs": [
        {
          "data": {
            "text/plain": [
              "4"
            ]
          },
          "execution_count": 46,
          "metadata": {},
          "output_type": "execute_result"
        }
      ],
      "source": [
        "glist= [\"Bread\", \"Milk\", \"Cookies\", \"Chocolate\"]\n",
        "len(glist)"
      ]
    },
    {
      "cell_type": "code",
      "execution_count": null,
      "metadata": {
        "id": "a1dO5EtQdmft",
        "outputId": "e76f220b-6f89-4599-8fe9-a9dfa6ee7356"
      },
      "outputs": [
        {
          "name": "stdout",
          "output_type": "stream",
          "text": [
            "[1, 4, 9, 16, 25, 36, 49, 64, 81, 100]\n"
          ]
        }
      ],
      "source": [
        "# Mini exercise\n",
        "# give me a list of squares of names from 1 to 10 [1,4,9....,100]\n",
        "results = []\n",
        "# write a for loop and append something to results\n",
        "for n in range(1,11):\n",
        "    results.append(n**2)\n",
        "print(results)\n",
        "\n"
      ]
    },
    {
      "cell_type": "code",
      "execution_count": null,
      "metadata": {
        "id": "ciKMX0DzrNrU"
      },
      "outputs": [],
      "source": [
        "import random"
      ]
    },
    {
      "cell_type": "code",
      "execution_count": null,
      "metadata": {
        "colab": {
          "base_uri": "https://localhost:8080/"
        },
        "id": "g0yVoc97rQd_",
        "outputId": "72ead0f5-5847-4a41-867d-70c6c4f3297c"
      },
      "outputs": [
        {
          "data": {
            "text/plain": [
              "[2,\n",
              " 1,\n",
              " 2,\n",
              " 4,\n",
              " 4,\n",
              " 1,\n",
              " 2,\n",
              " 4,\n",
              " 6,\n",
              " 4,\n",
              " 4,\n",
              " 1,\n",
              " 4,\n",
              " 6,\n",
              " 5,\n",
              " 2,\n",
              " 3,\n",
              " 3,\n",
              " 4,\n",
              " 4,\n",
              " 2,\n",
              " 2,\n",
              " 5,\n",
              " 2,\n",
              " 4,\n",
              " 4,\n",
              " 5,\n",
              " 2,\n",
              " 5,\n",
              " 5]"
            ]
          },
          "execution_count": 123,
          "metadata": {},
          "output_type": "execute_result"
        }
      ],
      "source": [
        "dice_throws = [random.randint(1,6) for _ in range(30)]  # randint is a rare case where both sides are INCLUSIVE, usually the last number is not included\n",
        "# we are using _ to signify that we do not care for the actual iterator, index in this case we just want to do something\n",
        "dice_throws"
      ]
    },
    {
      "cell_type": "code",
      "execution_count": null,
      "metadata": {
        "colab": {
          "base_uri": "https://localhost:8080/"
        },
        "id": "uZBtvA9ErrgN",
        "outputId": "bac00659-291f-4f73-b79a-0bda5e9fcdbc"
      },
      "outputs": [
        {
          "data": {
            "text/plain": [
              "(102, 1, 6, 3.4)"
            ]
          },
          "execution_count": 124,
          "metadata": {},
          "output_type": "execute_result"
        }
      ],
      "source": [
        "sum(dice_throws), min(dice_throws), max(dice_throws), sum(dice_throws) / len(dice_throws)"
      ]
    },
    {
      "cell_type": "code",
      "execution_count": null,
      "metadata": {
        "id": "fMyNW8ARsbRj"
      },
      "outputs": [],
      "source": [
        "dice_total = sum(dice_throws)"
      ]
    },
    {
      "cell_type": "code",
      "execution_count": null,
      "metadata": {
        "colab": {
          "base_uri": "https://localhost:8080/"
        },
        "id": "cxSLdHVysAA8",
        "outputId": "b5a94681-5557-4eaa-d5c6-2bb8d7aa1de7"
      },
      "outputs": [
        {
          "data": {
            "text/plain": [
              "[-193, 163, -297, 409, 468, 11, -37, -255, 101, -400]"
            ]
          },
          "execution_count": 125,
          "metadata": {},
          "output_type": "execute_result"
        }
      ],
      "source": [
        "few_randoms = [random.randint(-500,500) for _ in range(10)]\n",
        "few_randoms"
      ]
    },
    {
      "cell_type": "code",
      "execution_count": null,
      "metadata": {
        "colab": {
          "base_uri": "https://localhost:8080/"
        },
        "id": "JFEyPzEdsG6_",
        "outputId": "b5c4f399-b0b1-4e16-8d12-e9beb3475e95"
      },
      "outputs": [
        {
          "data": {
            "text/plain": [
              "([-193, 163, -297, 409, 468, 11, -37, -255, 101, -400],\n",
              " [-400, -297, -255, -193, -37, 11, 101, 163, 409, 468])"
            ]
          },
          "execution_count": 126,
          "metadata": {},
          "output_type": "execute_result"
        }
      ],
      "source": [
        "sorted_randoms = sorted(few_randoms) # OUT OF PLACE, keep original intact\n",
        "few_randoms, sorted_randoms"
      ]
    },
    {
      "cell_type": "code",
      "execution_count": null,
      "metadata": {
        "colab": {
          "base_uri": "https://localhost:8080/"
        },
        "id": "LNtOXDxDsQeV",
        "outputId": "e1fcda28-a50c-4c1b-8b69-50654dae1da3"
      },
      "outputs": [
        {
          "data": {
            "text/plain": [
              "([-400, -297, -255, -193, -37, 11, 101, 163, 409, 468],\n",
              " [-400, -297, -255, -193, -37, 11, 101, 163, 409, 468])"
            ]
          },
          "execution_count": 127,
          "metadata": {},
          "output_type": "execute_result"
        }
      ],
      "source": [
        "few_randoms.sort() # IN PLACE changing the order of original\n",
        "few_randoms, sorted_randoms"
      ]
    },
    {
      "cell_type": "code",
      "execution_count": null,
      "metadata": {
        "colab": {
          "base_uri": "https://localhost:8080/"
        },
        "id": "5U5nkZLBdmft",
        "outputId": "417a71a4-66d7-40fc-b639-8c1917457a96"
      },
      "outputs": [
        {
          "data": {
            "text/plain": [
              "[1, 2, 3, 4, 5, 6, 7, 8, 9, 10]"
            ]
          },
          "execution_count": 129,
          "metadata": {},
          "output_type": "execute_result"
        }
      ],
      "source": [
        "x = list(range(1,11))\n",
        "x"
      ]
    },
    {
      "cell_type": "code",
      "execution_count": null,
      "metadata": {
        "colab": {
          "base_uri": "https://localhost:8080/"
        },
        "id": "ABhWAIrwdmft",
        "outputId": "ba5b83f2-8a9b-4a8f-8e2d-e76c752e0a0a"
      },
      "outputs": [
        {
          "name": "stdout",
          "output_type": "stream",
          "text": [
            "[1, 4, 9, 16, 25, 36, 49, 64, 81, 100]\n"
          ]
        }
      ],
      "source": [
        "y = [n*n for n in range(1,11)]\n",
        "print(y)\n",
        "# List comprehensions! A shorter way to do the above list creations \n",
        "# Pythonism! We'll talk about those again!"
      ]
    },
    {
      "cell_type": "code",
      "execution_count": null,
      "metadata": {
        "id": "XlnF0pZFdmft",
        "outputId": "ce89b0fb-859b-4cfe-8913-65573f1aedd5"
      },
      "outputs": [
        {
          "data": {
            "text/plain": [
              "(55, 385)"
            ]
          },
          "execution_count": 103,
          "metadata": {},
          "output_type": "execute_result"
        }
      ],
      "source": [
        "sum(x),sum(y)"
      ]
    },
    {
      "cell_type": "code",
      "execution_count": null,
      "metadata": {
        "id": "IwS1Lmb6dmft",
        "outputId": "842e7100-60f3-4e1c-d1c0-0d127abf529d"
      },
      "outputs": [
        {
          "data": {
            "text/plain": [
              "(10, 10)"
            ]
          },
          "execution_count": 104,
          "metadata": {},
          "output_type": "execute_result"
        }
      ],
      "source": [
        "len(x),len(y)"
      ]
    },
    {
      "cell_type": "code",
      "execution_count": null,
      "metadata": {
        "id": "4DHXBOmEdmft",
        "outputId": "b27f7e9d-a2c6-492a-8c81-e466e3b49a46"
      },
      "outputs": [
        {
          "data": {
            "text/plain": [
              "(1, 1)"
            ]
          },
          "execution_count": 105,
          "metadata": {},
          "output_type": "execute_result"
        }
      ],
      "source": [
        "min(x), min(y)"
      ]
    },
    {
      "cell_type": "code",
      "execution_count": null,
      "metadata": {
        "id": "c63KUNRRdmfu",
        "outputId": "ab3e8d9f-e39e-4fcf-8b20-2b4875c6db2f"
      },
      "outputs": [
        {
          "data": {
            "text/plain": [
              "(10, 100)"
            ]
          },
          "execution_count": 106,
          "metadata": {},
          "output_type": "execute_result"
        }
      ],
      "source": [
        "max(x), max(y)"
      ]
    },
    {
      "cell_type": "code",
      "execution_count": null,
      "metadata": {
        "id": "wDPGSuhYdmfu"
      },
      "outputs": [],
      "source": [
        "y"
      ]
    },
    {
      "cell_type": "code",
      "execution_count": null,
      "metadata": {
        "colab": {
          "base_uri": "https://localhost:8080/"
        },
        "id": "Gjbtv9tMdmfu",
        "outputId": "085dfe0b-c9f6-4b13-b038-13c2623f2dd4"
      },
      "outputs": [
        {
          "data": {
            "text/plain": [
              "[1, 2, 3, 4, 5, 6, 7, 8, 9, 10, 1, 4, 9, 16, 25, 36, 49, 64, 81, 100]"
            ]
          },
          "execution_count": 131,
          "metadata": {},
          "output_type": "execute_result"
        }
      ],
      "source": [
        "x+y  # i am not saving this new list anywhere"
      ]
    },
    {
      "cell_type": "code",
      "execution_count": null,
      "metadata": {
        "id": "iEifAe0Idmfu"
      },
      "outputs": [],
      "source": [
        "z=(x+y)*3 # so we create a list of (10+10 )* 3 elements"
      ]
    },
    {
      "cell_type": "code",
      "execution_count": null,
      "metadata": {
        "colab": {
          "base_uri": "https://localhost:8080/"
        },
        "id": "GMZrLOZ6sp7M",
        "outputId": "b1c7f620-0948-45f5-c148-e34ea4d00dee"
      },
      "outputs": [
        {
          "data": {
            "text/plain": [
              "[1,\n",
              " 2,\n",
              " 3,\n",
              " 4,\n",
              " 5,\n",
              " 6,\n",
              " 7,\n",
              " 8,\n",
              " 9,\n",
              " 10,\n",
              " 1,\n",
              " 4,\n",
              " 9,\n",
              " 16,\n",
              " 25,\n",
              " 36,\n",
              " 49,\n",
              " 64,\n",
              " 81,\n",
              " 100,\n",
              " 1,\n",
              " 2,\n",
              " 3,\n",
              " 4,\n",
              " 5,\n",
              " 6,\n",
              " 7,\n",
              " 8,\n",
              " 9,\n",
              " 10,\n",
              " 1,\n",
              " 4,\n",
              " 9,\n",
              " 16,\n",
              " 25,\n",
              " 36,\n",
              " 49,\n",
              " 64,\n",
              " 81,\n",
              " 100,\n",
              " 1,\n",
              " 2,\n",
              " 3,\n",
              " 4,\n",
              " 5,\n",
              " 6,\n",
              " 7,\n",
              " 8,\n",
              " 9,\n",
              " 10,\n",
              " 1,\n",
              " 4,\n",
              " 9,\n",
              " 16,\n",
              " 25,\n",
              " 36,\n",
              " 49,\n",
              " 64,\n",
              " 81,\n",
              " 100]"
            ]
          },
          "execution_count": 133,
          "metadata": {},
          "output_type": "execute_result"
        }
      ],
      "source": [
        "z"
      ]
    },
    {
      "cell_type": "code",
      "execution_count": null,
      "metadata": {
        "colab": {
          "base_uri": "https://localhost:8080/"
        },
        "id": "dKmgD4TPdmfu",
        "outputId": "8526d4f8-3052-431f-aa23-ce28053225c8"
      },
      "outputs": [
        {
          "data": {
            "text/plain": [
              "60"
            ]
          },
          "execution_count": 134,
          "metadata": {},
          "output_type": "execute_result"
        }
      ],
      "source": [
        "len(z)"
      ]
    },
    {
      "cell_type": "code",
      "execution_count": null,
      "metadata": {
        "id": "n_062JaNdmfu"
      },
      "outputs": [],
      "source": [
        "z"
      ]
    },
    {
      "cell_type": "code",
      "execution_count": null,
      "metadata": {
        "id": "I2LitsiYdmfu"
      },
      "outputs": [],
      "source": [
        "tmp = y*2\n",
        "print(tmp)"
      ]
    },
    {
      "cell_type": "code",
      "execution_count": null,
      "metadata": {
        "colab": {
          "base_uri": "https://localhost:8080/"
        },
        "id": "TBnxycCXsuov",
        "outputId": "0e37a74e-30e5-4122-a5ae-0620c04375c2"
      },
      "outputs": [
        {
          "data": {
            "text/plain": [
              "[0, 0, 0, 0, 0, 0, 0, 0, 0, 0]"
            ]
          },
          "execution_count": 136,
          "metadata": {},
          "output_type": "execute_result"
        }
      ],
      "source": [
        "# so * lists can be useful if you want to initialize a list with 0s\n",
        "my_counters = [0]*10\n",
        "my_counters"
      ]
    },
    {
      "cell_type": "code",
      "execution_count": null,
      "metadata": {
        "colab": {
          "base_uri": "https://localhost:8080/"
        },
        "id": "4QCmQjBMs5YH",
        "outputId": "93660453-ecbd-4fe4-b446-3cba8f58d270"
      },
      "outputs": [
        {
          "data": {
            "text/plain": [
              "[0, 0, 0, 0, 0, 2, 0, 0, 0, 0]"
            ]
          },
          "execution_count": 138,
          "metadata": {},
          "output_type": "execute_result"
        }
      ],
      "source": [
        "my_counters[5] += 1\n",
        "my_counters"
      ]
    },
    {
      "cell_type": "code",
      "execution_count": null,
      "metadata": {
        "id": "R0B0TGASdmfu"
      },
      "outputs": [],
      "source": [
        "len(tmp)"
      ]
    },
    {
      "cell_type": "code",
      "execution_count": null,
      "metadata": {
        "id": "krIx39nQdmfv"
      },
      "outputs": [],
      "source": [
        "tmp[3:18:3]"
      ]
    },
    {
      "cell_type": "code",
      "execution_count": null,
      "metadata": {
        "id": "wopL3m6xdmfv"
      },
      "outputs": [],
      "source": [
        "25 in tmp"
      ]
    },
    {
      "cell_type": "code",
      "execution_count": null,
      "metadata": {
        "id": "k5PO0n9Pdmfv"
      },
      "outputs": [],
      "source": [
        "66 in tmp"
      ]
    },
    {
      "cell_type": "code",
      "execution_count": null,
      "metadata": {
        "id": "M-qzoVMBdmfv"
      },
      "outputs": [],
      "source": [
        "\"Valdis\" in tmp"
      ]
    },
    {
      "cell_type": "code",
      "execution_count": null,
      "metadata": {
        "id": "olsC6qD1dmfv"
      },
      "outputs": [],
      "source": [
        "tmp[::-1]"
      ]
    },
    {
      "cell_type": "code",
      "execution_count": null,
      "metadata": {
        "id": "OeJkkthXdmfw"
      },
      "outputs": [],
      "source": [
        "tmp[3:98:2]"
      ]
    },
    {
      "cell_type": "code",
      "execution_count": null,
      "metadata": {
        "id": "fY5mrotldmfx"
      },
      "outputs": [],
      "source": []
    },
    {
      "cell_type": "code",
      "execution_count": null,
      "metadata": {
        "id": "9dRZdOZedmfx"
      },
      "outputs": [],
      "source": [
        "len(y)"
      ]
    },
    {
      "cell_type": "code",
      "execution_count": null,
      "metadata": {
        "id": "eZPd0VZYdmfx"
      },
      "outputs": [],
      "source": [
        "dir(tmp)"
      ]
    },
    {
      "cell_type": "code",
      "execution_count": null,
      "metadata": {
        "id": "5FAnampJdmfx"
      },
      "outputs": [],
      "source": [
        "y"
      ]
    },
    {
      "cell_type": "code",
      "execution_count": null,
      "metadata": {
        "id": "ipInnXGydmfx"
      },
      "outputs": [],
      "source": [
        "y.insert(0, 33)\n",
        "y"
      ]
    },
    {
      "cell_type": "code",
      "execution_count": null,
      "metadata": {
        "id": "EdY1P3g_dmfx"
      },
      "outputs": [],
      "source": [
        "# inserting before 7th element\n",
        "y.insert(6, 33)\n",
        "y"
      ]
    },
    {
      "cell_type": "code",
      "execution_count": null,
      "metadata": {
        "id": "YsTRhnuJdmfx"
      },
      "outputs": [],
      "source": [
        "55 in y"
      ]
    },
    {
      "cell_type": "code",
      "execution_count": null,
      "metadata": {
        "id": "8xlBWjV8dmfx"
      },
      "outputs": [],
      "source": [
        "33 in y"
      ]
    },
    {
      "cell_type": "code",
      "execution_count": null,
      "metadata": {
        "id": "fv07fgG4dmfy"
      },
      "outputs": [],
      "source": [
        "y"
      ]
    },
    {
      "cell_type": "code",
      "execution_count": null,
      "metadata": {
        "id": "2CfVJl-Pdmfy"
      },
      "outputs": [],
      "source": [
        "y.index(16)"
      ]
    },
    {
      "cell_type": "code",
      "execution_count": null,
      "metadata": {
        "id": "eETQ9zBWdmfy"
      },
      "outputs": [],
      "source": [
        "y[4]"
      ]
    },
    {
      "cell_type": "code",
      "execution_count": null,
      "metadata": {
        "id": "DV22iK33dmfy"
      },
      "outputs": [],
      "source": [
        "y.index(33), y[0]"
      ]
    },
    {
      "cell_type": "code",
      "execution_count": null,
      "metadata": {
        "id": "durPEPuxdmfy"
      },
      "outputs": [],
      "source": [
        "# y.remove(33)\n",
        "y.remove(33)\n",
        "y"
      ]
    },
    {
      "cell_type": "code",
      "execution_count": null,
      "metadata": {
        "id": "R4klKrUEdmfy"
      },
      "outputs": [],
      "source": [
        "a = 5\n",
        "a = a + 10\n",
        "a"
      ]
    },
    {
      "cell_type": "code",
      "execution_count": null,
      "metadata": {
        "id": "R2ymuCDVdmfy"
      },
      "outputs": [],
      "source": [
        "a += 10 # same as a = a + 10\n",
        "a"
      ]
    },
    {
      "cell_type": "code",
      "execution_count": null,
      "metadata": {
        "id": "pXxh7br4dmfy"
      },
      "outputs": [],
      "source": [
        "y+=[11, -22, 66] # same as y = y + [11, -22, 66]\n",
        "y"
      ]
    },
    {
      "cell_type": "code",
      "execution_count": null,
      "metadata": {
        "id": "S0m3AcDLdmfz"
      },
      "outputs": [],
      "source": [
        "y.append([11, -22, 66])\n",
        "y"
      ]
    },
    {
      "cell_type": "code",
      "execution_count": null,
      "metadata": {
        "id": "xuRTw2WNdmfz"
      },
      "outputs": [],
      "source": [
        "y = y[:-3]\n",
        "y"
      ]
    },
    {
      "cell_type": "code",
      "execution_count": null,
      "metadata": {
        "id": "F4hctJeSdmfz"
      },
      "outputs": [],
      "source": [
        "newlist = sorted(y) # returns a new sorted list , keeps old list unchanged!\n",
        "newlist"
      ]
    },
    {
      "cell_type": "code",
      "execution_count": null,
      "metadata": {
        "id": "3iUV1XDWdmfz"
      },
      "outputs": [],
      "source": [
        "y"
      ]
    },
    {
      "cell_type": "code",
      "execution_count": null,
      "metadata": {
        "id": "ly5toT45dmfz"
      },
      "outputs": [],
      "source": [
        "y.sort()\n",
        "y"
      ]
    },
    {
      "cell_type": "code",
      "execution_count": null,
      "metadata": {
        "id": "FVeRumJrdmfz"
      },
      "outputs": [],
      "source": [
        "y.reverse()\n",
        "y"
      ]
    },
    {
      "cell_type": "code",
      "execution_count": null,
      "metadata": {
        "id": "f2CP48AGdmfz"
      },
      "outputs": [],
      "source": []
    },
    {
      "cell_type": "code",
      "execution_count": null,
      "metadata": {
        "id": "gN46-G4Pdmfz"
      },
      "outputs": [],
      "source": [
        "x=y[::-1]\n",
        "x"
      ]
    },
    {
      "cell_type": "code",
      "execution_count": null,
      "metadata": {
        "id": "Swyl_Ieudmf0"
      },
      "outputs": [],
      "source": [
        "x[5]"
      ]
    },
    {
      "cell_type": "code",
      "execution_count": null,
      "metadata": {
        "id": "x7Lykoyadmf0"
      },
      "outputs": [],
      "source": [
        "z=x.pop(5)\n",
        "print(x, z)\n"
      ]
    },
    {
      "cell_type": "code",
      "execution_count": null,
      "metadata": {
        "id": "BapVOuahdmf0"
      },
      "outputs": [],
      "source": [
        "x.insert(5, z)\n",
        "x"
      ]
    },
    {
      "cell_type": "code",
      "execution_count": null,
      "metadata": {
        "id": "5DmD5wkrdmf0"
      },
      "outputs": [],
      "source": [
        "x.count(33)"
      ]
    },
    {
      "cell_type": "markdown",
      "metadata": {
        "id": "LgOVN800dmf1"
      },
      "source": [
        " ## Common list methods.\n",
        "\n",
        "* `list.append(elem)` -- adds a single element to the end of the list. Common error: does not return the new list, just modifies the original.\n",
        "* `list.insert(index, elem)` -- inserts the element at the given index, shifting elements to the right.\n",
        "* `list.extend(list2)` adds the elements in list2 to the end of the list. Using + or += on a list is similar to using extend().\n",
        "* `list.index(elem)` -- searches for the given element from the start of the list and returns its index. Throws a ValueError if the element does not appear (use \"in\" to check without a ValueError).\n",
        "* `list.remove(elem)` -- searches for the first instance of the given element and removes it (throws ValueError if not present)\n",
        "* `list.sort()` -- sorts the list in place (does not return it). (The sorted() function shown later is preferred.)\n",
        "* `list.reverse()` -- reverses the list in place (does not return it)\n",
        "* `list.pop(index)`-- removes and returns the element at the given index. Returns the rightmost element if index is omitted (roughly the opposite of append())."
      ]
    },
    {
      "cell_type": "code",
      "execution_count": null,
      "metadata": {
        "colab": {
          "base_uri": "https://localhost:8080/"
        },
        "id": "kWF5r3pftTDf",
        "outputId": "f692b8a5-b29f-4318-9339-db1163642ed2"
      },
      "outputs": [
        {
          "data": {
            "text/plain": [
              "[1, False, 3.1415926, -1, 0, True, 9000, -343]"
            ]
          },
          "execution_count": 139,
          "metadata": {},
          "output_type": "execute_result"
        }
      ],
      "source": [
        "mixed_list = [1, False, 3.1415926, -1, 0, True, 9000, -343]\n",
        "mixed_list"
      ]
    },
    {
      "cell_type": "code",
      "execution_count": null,
      "metadata": {
        "colab": {
          "base_uri": "https://localhost:8080/"
        },
        "id": "HHAXVafutciZ",
        "outputId": "ae960688-02db-4190-cc88-028719a2e57a"
      },
      "outputs": [
        {
          "data": {
            "text/plain": [
              "[-343, -1, False, 0, 1, True, 3.1415926, 9000]"
            ]
          },
          "execution_count": 141,
          "metadata": {},
          "output_type": "execute_result"
        }
      ],
      "source": [
        "sorted(mixed_list)  # so here we can see that False has the same value as 0 and True has the same value as 1 for sorting purposes\n"
      ]
    },
    {
      "cell_type": "code",
      "execution_count": null,
      "metadata": {
        "colab": {
          "base_uri": "https://localhost:8080/"
        },
        "id": "HycfdzBQtobn",
        "outputId": "71cb3b69-4400-4146-81ce-4fa052a086f4"
      },
      "outputs": [
        {
          "data": {
            "text/plain": [
              "[1, False, 3.1415926, -1, 0, True, 9000, -343]"
            ]
          },
          "execution_count": 142,
          "metadata": {},
          "output_type": "execute_result"
        }
      ],
      "source": [
        "mixed_list"
      ]
    },
    {
      "cell_type": "code",
      "execution_count": null,
      "metadata": {
        "colab": {
          "base_uri": "https://localhost:8080/"
        },
        "id": "Ah-hk00Stq1P",
        "outputId": "92e826f7-4244-4463-a7bb-094da0bd146b"
      },
      "outputs": [
        {
          "data": {
            "text/plain": [
              "[-343, -1, False, 0, 1, True, 3.1415926, 9000]"
            ]
          },
          "execution_count": 143,
          "metadata": {},
          "output_type": "execute_result"
        }
      ],
      "source": [
        "mixed_list.sort() # this will change list IN PLACE\n",
        "mixed_list"
      ]
    },
    {
      "cell_type": "code",
      "execution_count": null,
      "metadata": {
        "id": "jxPW3_X0dmf1"
      },
      "outputs": [],
      "source": [
        "list(range(55,59))"
      ]
    },
    {
      "cell_type": "code",
      "execution_count": null,
      "metadata": {
        "id": "4jY2Rg3admf1"
      },
      "outputs": [],
      "source": [
        "tmp"
      ]
    },
    {
      "cell_type": "code",
      "execution_count": null,
      "metadata": {
        "id": "oijPS-mzdmf2"
      },
      "outputs": [],
      "source": [
        "tmp.count(64)\n",
        "# We count occurences!"
      ]
    },
    {
      "cell_type": "code",
      "execution_count": null,
      "metadata": {
        "id": "L442caStdmf2"
      },
      "outputs": [],
      "source": [
        "tmp.count('Valdis')"
      ]
    },
    {
      "cell_type": "code",
      "execution_count": null,
      "metadata": {
        "id": "ilq8-0gqdmf2"
      },
      "outputs": [],
      "source": [
        "print(tmp.index(64))\n",
        "tmp[7]"
      ]
    },
    {
      "cell_type": "code",
      "execution_count": null,
      "metadata": {
        "id": "yaQFVlY4dmf2"
      },
      "outputs": [],
      "source": [
        "?tmp.index"
      ]
    },
    {
      "cell_type": "code",
      "execution_count": null,
      "metadata": {
        "id": "xthshtc1dmf2"
      },
      "outputs": [],
      "source": [
        "tmp.index()"
      ]
    },
    {
      "cell_type": "code",
      "execution_count": null,
      "metadata": {
        "id": "SS0N58uudmf2"
      },
      "outputs": [],
      "source": [
        "len(x)"
      ]
    },
    {
      "cell_type": "code",
      "execution_count": null,
      "metadata": {
        "id": "UyQBxGvfdmf3"
      },
      "outputs": [],
      "source": [
        "[] is []"
      ]
    },
    {
      "cell_type": "code",
      "execution_count": null,
      "metadata": {
        "id": "55Zywf99dmf3"
      },
      "outputs": [],
      "source": [
        "[] == []"
      ]
    },
    {
      "cell_type": "markdown",
      "metadata": {
        "id": "dkHeoejddmf3"
      },
      "source": [
        "## List exercise\n",
        "* create list of number 5 to 15 (included) and assign to a variable\n",
        "* output first 4 numbers\n",
        "* output last 3 numbers\n",
        "* output last 3 numbers in reversed order\n",
        "* extra credit output average! "
      ]
    },
    {
      "cell_type": "code",
      "execution_count": null,
      "metadata": {
        "id": "eEumYVBodmf3",
        "outputId": "7b31ee02-69e8-4a09-c016-f4560b9829fd"
      },
      "outputs": [
        {
          "data": {
            "text/plain": [
              "[5, 6, 7, 8, 9, 10, 11, 12, 13, 14, 15]"
            ]
          },
          "execution_count": 110,
          "metadata": {},
          "output_type": "execute_result"
        }
      ],
      "source": [
        "mylist = list(range(5,16))\n",
        "mylist"
      ]
    },
    {
      "cell_type": "code",
      "execution_count": null,
      "metadata": {
        "id": "UG1_Gcb5dmf3",
        "outputId": "31455f9e-1d46-46f4-c7fe-ebe15b3894e2"
      },
      "outputs": [
        {
          "data": {
            "text/plain": [
              "[5, 6, 7, 8]"
            ]
          },
          "execution_count": 111,
          "metadata": {},
          "output_type": "execute_result"
        }
      ],
      "source": [
        "mylist[:4]"
      ]
    },
    {
      "cell_type": "code",
      "execution_count": null,
      "metadata": {
        "id": "tV0VLcHpdmf3",
        "outputId": "d111a2f8-1aaa-40fb-9dc8-9f437d6aae21"
      },
      "outputs": [
        {
          "data": {
            "text/plain": [
              "[13, 14, 15]"
            ]
          },
          "execution_count": 112,
          "metadata": {},
          "output_type": "execute_result"
        }
      ],
      "source": [
        "mylist[-3:]"
      ]
    },
    {
      "cell_type": "code",
      "execution_count": null,
      "metadata": {
        "id": "LufPEgfGdmf3",
        "outputId": "d134e3aa-9382-49a4-d4ed-c98acc89082d"
      },
      "outputs": [
        {
          "data": {
            "text/plain": [
              "[15, 14, 13]"
            ]
          },
          "execution_count": 113,
          "metadata": {},
          "output_type": "execute_result"
        }
      ],
      "source": [
        "mylist[-1:-4:-1]"
      ]
    },
    {
      "cell_type": "code",
      "execution_count": null,
      "metadata": {
        "id": "baKT9unMdmf3",
        "outputId": "bbbaf1c9-6272-4dd2-d78f-437ac1f018ea"
      },
      "outputs": [
        {
          "data": {
            "text/plain": [
              "10.0"
            ]
          },
          "execution_count": 114,
          "metadata": {},
          "output_type": "execute_result"
        }
      ],
      "source": [
        "sum(mylist)/len(mylist) # arithmetic average"
      ]
    },
    {
      "cell_type": "code",
      "execution_count": null,
      "metadata": {
        "id": "IWKQz42ydmf4",
        "outputId": "1e225cd2-44c6-49c7-d500-a48100511411"
      },
      "outputs": [
        {
          "data": {
            "text/plain": [
              "['Bread', 'Milk', 'Chocolate']"
            ]
          },
          "execution_count": 115,
          "metadata": {},
          "output_type": "execute_result"
        }
      ],
      "source": [
        "groceries"
      ]
    },
    {
      "cell_type": "code",
      "execution_count": null,
      "metadata": {
        "id": "ysSvaWJidmf4",
        "outputId": "ec83e5a5-4805-4a05-fd86-c69b6a6dd236"
      },
      "outputs": [
        {
          "data": {
            "text/plain": [
              "['Bread', 'Milk', 'Chocolate', 'Brown Bread', 'Chococolate Bread', 'Rye Bread']"
            ]
          },
          "execution_count": 116,
          "metadata": {},
          "output_type": "execute_result"
        }
      ],
      "source": [
        "groceries += [\"Brown Bread\", \"Chococolate Bread\", \"Rye Bread\"]\n",
        "groceries"
      ]
    },
    {
      "cell_type": "code",
      "execution_count": null,
      "metadata": {
        "id": "Ak5azKCvdmf4",
        "outputId": "ee6d71d3-04c8-4f2e-b46d-734c53372a8b"
      },
      "outputs": [
        {
          "data": {
            "text/plain": [
              "['Milk', 'Chocolate', 'Brown Bread', 'Chococolate Bread', 'Rye Bread']"
            ]
          },
          "execution_count": 117,
          "metadata": {},
          "output_type": "execute_result"
        }
      ],
      "source": [
        "groceries = groceries[1:] # get rid of the 1st element\n",
        "groceries"
      ]
    },
    {
      "cell_type": "code",
      "execution_count": null,
      "metadata": {
        "id": "Niyx63Zndmf4",
        "outputId": "97f4c99e-aab0-4f32-fb62-9264ad1dbbb6"
      },
      "outputs": [
        {
          "data": {
            "text/plain": [
              "False"
            ]
          },
          "execution_count": 118,
          "metadata": {},
          "output_type": "execute_result"
        }
      ],
      "source": [
        "\"Bread\" in groceries"
      ]
    },
    {
      "cell_type": "code",
      "execution_count": null,
      "metadata": {
        "id": "lwIsQhIGdmf4",
        "outputId": "f083b81f-b3c5-4654-ee64-4f720b9006a5"
      },
      "outputs": [
        {
          "data": {
            "text/plain": [
              "['Brown Bread', 'Chococolate Bread', 'Rye Bread']"
            ]
          },
          "execution_count": 119,
          "metadata": {},
          "output_type": "execute_result"
        }
      ],
      "source": [
        "found_list = []\n",
        "key = \"Bread\"\n",
        "for item in groceries:\n",
        "    if \"Bread\" in item:\n",
        "        found_list.append(item)\n",
        "found_list"
      ]
    },
    {
      "cell_type": "code",
      "execution_count": null,
      "metadata": {
        "id": "6y0ZjAeSdmf5"
      },
      "outputs": [],
      "source": []
    },
    {
      "cell_type": "code",
      "execution_count": null,
      "metadata": {
        "id": "X_X8BmGhdmf5",
        "outputId": "780bd51c-a361-4747-b83f-3b0b74cb83bb"
      },
      "outputs": [
        {
          "data": {
            "text/plain": [
              "['Milk']"
            ]
          },
          "execution_count": 120,
          "metadata": {},
          "output_type": "execute_result"
        }
      ],
      "source": [
        "found_list = []\n",
        "key = \"ilk\"\n",
        "for item in groceries:\n",
        "    if key in item:\n",
        "        found_list.append(item)\n",
        "found_list"
      ]
    },
    {
      "cell_type": "code",
      "execution_count": null,
      "metadata": {
        "id": "30wPX3CDdmf5"
      },
      "outputs": [],
      "source": [
        "groceries.append(\"Silken herring\") # I dont think there is such a herring ..."
      ]
    },
    {
      "cell_type": "code",
      "execution_count": null,
      "metadata": {
        "id": "-AqPC8O2dmf5",
        "outputId": "161f904b-b93c-435d-c6e5-9e2c12a3cfc1"
      },
      "outputs": [
        {
          "data": {
            "text/plain": [
              "['Milk',\n",
              " 'Chocolate',\n",
              " 'Brown Bread',\n",
              " 'Chococolate Bread',\n",
              " 'Rye Bread',\n",
              " 'Silken herring']"
            ]
          },
          "execution_count": 122,
          "metadata": {},
          "output_type": "execute_result"
        }
      ],
      "source": [
        "groceries"
      ]
    },
    {
      "cell_type": "code",
      "execution_count": null,
      "metadata": {
        "id": "TFqv94iYdmf5",
        "outputId": "47f2a9c0-b3e4-49a9-bf88-6f61edd67dcf"
      },
      "outputs": [
        {
          "data": {
            "text/plain": [
              "['Milk', 'Silken herring']"
            ]
          },
          "execution_count": 123,
          "metadata": {},
          "output_type": "execute_result"
        }
      ],
      "source": [
        "found_list = []\n",
        "key = \"ilk\"\n",
        "for item in groceries:\n",
        "    if key in item:\n",
        "        found_list.append(item)\n",
        "found_list"
      ]
    },
    {
      "cell_type": "code",
      "execution_count": null,
      "metadata": {
        "id": "2D3q2Mnddmf5"
      },
      "outputs": [],
      "source": []
    },
    {
      "cell_type": "code",
      "execution_count": null,
      "metadata": {
        "id": "mpSOjmD2t_po"
      },
      "outputs": [],
      "source": [
        "# Tuples\n"
      ]
    },
    {
      "cell_type": "markdown",
      "metadata": {
        "id": "fpjBu5AZuBtb"
      },
      "source": [
        "# Tuples\n",
        "https://docs.python.org/3/tutorial/datastructures.html#tuples-and-sequences\n",
        "\n",
        "Think of tuples as immutable lists"
      ]
    },
    {
      "cell_type": "code",
      "execution_count": 123,
      "metadata": {
        "colab": {
          "base_uri": "https://localhost:8080/"
        },
        "id": "DCInVLWPuGdL",
        "outputId": "f57f4b7b-8092-4d34-b3f6-5abf35616bc1"
      },
      "outputs": [
        {
          "data": {
            "text/plain": [
              "(3, 6, 'Anything')"
            ]
          },
          "execution_count": 123,
          "metadata": {},
          "output_type": "execute_result"
        }
      ],
      "source": [
        "my_tuple = 3, 6, \"Anything\"\n",
        "my_tuple"
      ]
    },
    {
      "cell_type": "code",
      "execution_count": 124,
      "metadata": {
        "colab": {
          "base_uri": "https://localhost:8080/"
        },
        "id": "MQ93PY9xuLkt",
        "outputId": "842cf82d-b820-46e3-9f77-bef0fce61064"
      },
      "outputs": [
        {
          "data": {
            "text/plain": [
              "tuple"
            ]
          },
          "execution_count": 124,
          "metadata": {},
          "output_type": "execute_result"
        }
      ],
      "source": [
        "type(my_tuple)"
      ]
    },
    {
      "cell_type": "markdown",
      "metadata": {
        "id": "stabnbfCA-y5"
      },
      "source": [
        "## When to use tuples and when to use lists\n",
        "\n",
        "Philosophy speaking:\n",
        "\n",
        "* tuples are for heterogenous data - meaning different types\n",
        "* lists are for homogenous data - same types(numbers, strings etc)\n",
        "\n",
        "This rule is not a guideline not a strict one"
      ]
    },
    {
      "cell_type": "code",
      "execution_count": null,
      "metadata": {
        "id": "W27L64HxuNzB"
      },
      "outputs": [],
      "source": [
        "# Tuples are more efficient as long as you do not need to change them(then we need lists)\n",
        "# tuples are often used for passing different values around\n"
      ]
    },
    {
      "cell_type": "code",
      "execution_count": 125,
      "metadata": {
        "colab": {
          "base_uri": "https://localhost:8080/"
        },
        "id": "ul8aiAX1uX4E",
        "outputId": "9c7afef6-28f9-4563-c0dc-276438498ced"
      },
      "outputs": [
        {
          "data": {
            "text/plain": [
              "(5, 6, 7, 8, 9, 10, 11, 12, 13, 14, 15, 16, 17)"
            ]
          },
          "execution_count": 125,
          "metadata": {},
          "output_type": "execute_result"
        }
      ],
      "source": [
        "number_tuples = tuple(range(5,18))  # notice the round regular parenthesis (not square brackets used by list!)\n",
        "number_tuples"
      ]
    },
    {
      "cell_type": "code",
      "execution_count": 126,
      "metadata": {
        "colab": {
          "base_uri": "https://localhost:8080/"
        },
        "id": "vLvqSH5guiXi",
        "outputId": "9cf8d376-0c93-41d0-9672-70f2a16181f8"
      },
      "outputs": [
        {
          "data": {
            "text/plain": [
              "(143, 5, 17)"
            ]
          },
          "execution_count": 126,
          "metadata": {},
          "output_type": "execute_result"
        }
      ],
      "source": [
        "sum(number_tuples), min(number_tuples), max(number_tuples)"
      ]
    },
    {
      "cell_type": "markdown",
      "metadata": {
        "id": "TtZOjlDGBTwB"
      },
      "source": [
        "## Tuple Packing / Unpacking"
      ]
    },
    {
      "cell_type": "code",
      "execution_count": 127,
      "metadata": {
        "colab": {
          "base_uri": "https://localhost:8080/"
        },
        "id": "DMak7B5Luojl",
        "outputId": "c6c151e3-7728-46af-ce3f-e88afcf3e0ae"
      },
      "outputs": [
        {
          "data": {
            "text/plain": [
              "(5, 9)"
            ]
          },
          "execution_count": 127,
          "metadata": {},
          "output_type": "execute_result"
        }
      ],
      "source": [
        "a = 5\n",
        "b = 9\n",
        "mini_tuple = a, b # we pack values inside our tuple\n",
        "mini_tuple"
      ]
    },
    {
      "cell_type": "code",
      "execution_count": null,
      "metadata": {
        "colab": {
          "base_uri": "https://localhost:8080/"
        },
        "id": "4GO54Ii3uz2y",
        "outputId": "de5e0f7b-5e65-4a6d-d50a-fd688ba55896"
      },
      "outputs": [
        {
          "data": {
            "text/plain": [
              "(8, 9, 10)"
            ]
          },
          "execution_count": 151,
          "metadata": {},
          "output_type": "execute_result"
        }
      ],
      "source": [
        "number_tuples[3:6]  #i get another tuple, so I can slice and dice the tuples, just rememer that to save results I need to create new tuples"
      ]
    },
    {
      "cell_type": "code",
      "execution_count": 128,
      "metadata": {
        "colab": {
          "base_uri": "https://localhost:8080/"
        },
        "id": "hCjtPX5_u-VX",
        "outputId": "19c7c6a3-e809-43c3-dac3-2b8176b2bc54"
      },
      "outputs": [
        {
          "name": "stdout",
          "output_type": "stream",
          "text": [
            "5 9\n"
          ]
        }
      ],
      "source": [
        "# i can also unpack a tuple\n",
        "c, d = mini_tuple # so unpacking I do need to pay attention to size of tuple \n",
        "print(c, d)"
      ]
    },
    {
      "cell_type": "markdown",
      "metadata": {
        "id": "kZG6J6CBBZ43"
      },
      "source": [
        "### Swapping values with tuple unpacking and packing"
      ]
    },
    {
      "cell_type": "code",
      "execution_count": 129,
      "metadata": {
        "colab": {
          "base_uri": "https://localhost:8080/"
        },
        "id": "-vTeQWVTvSX5",
        "outputId": "2cc83236-6c4c-4616-98d8-3aaa1689485f"
      },
      "outputs": [
        {
          "name": "stdout",
          "output_type": "stream",
          "text": [
            "5 9\n",
            "9 5\n"
          ]
        }
      ],
      "source": [
        "# combining packing and unpacking we can use it to exchange values\n",
        "# in many languages you would have to use a temporary 3rd variable\n",
        "print(a, b)\n",
        "a, b = b, a # without this trick we would need a 3rd temporary variable\n",
        "print(a, b)"
      ]
    },
    {
      "cell_type": "code",
      "execution_count": 130,
      "metadata": {
        "colab": {
          "base_uri": "https://localhost:8080/"
        },
        "id": "mbaA6mIEwAiX",
        "outputId": "d619c334-5194-48fe-ae1b-12f61ad7fecb"
      },
      "outputs": [
        {
          "data": {
            "text/plain": [
              "(5, 'Valdis', [1, 2, 3], (5, 6, 7))"
            ]
          },
          "execution_count": 130,
          "metadata": {},
          "output_type": "execute_result"
        }
      ],
      "source": [
        "# One last thing on tuples, the values inside can be mutated but not changed\n",
        "# if we have something with IN PLACE methods inside tuple we can use those\n",
        "my_tuple = (5, \"Valdis\", [1,2,3], (5,6,7)) \n",
        "my_tuple"
      ]
    },
    {
      "cell_type": "code",
      "execution_count": 131,
      "metadata": {
        "colab": {
          "base_uri": "https://localhost:8080/",
          "height": 35
        },
        "id": "HP9FhOdKwQmX",
        "outputId": "5b7741a6-8cdd-4bd4-d04d-3356241a79f7"
      },
      "outputs": [
        {
          "data": {
            "application/vnd.google.colaboratory.intrinsic+json": {
              "type": "string"
            },
            "text/plain": [
              "'Valdis'"
            ]
          },
          "execution_count": 131,
          "metadata": {},
          "output_type": "execute_result"
        }
      ],
      "source": [
        "# i can not change what I am storing in a tuple\n",
        "my_tuple[1]"
      ]
    },
    {
      "cell_type": "code",
      "execution_count": null,
      "metadata": {
        "colab": {
          "base_uri": "https://localhost:8080/",
          "height": 167
        },
        "id": "kkR6qEdLwaI2",
        "outputId": "dc5019d5-04d7-4580-d97e-1d85161b727f"
      },
      "outputs": [
        {
          "ename": "TypeError",
          "evalue": "ignored",
          "output_type": "error",
          "traceback": [
            "\u001b[0;31m---------------------------------------------------------------------------\u001b[0m",
            "\u001b[0;31mTypeError\u001b[0m                                 Traceback (most recent call last)",
            "\u001b[0;32m<ipython-input-158-172a5a6cb1ae>\u001b[0m in \u001b[0;36m<module>\u001b[0;34m()\u001b[0m\n\u001b[0;32m----> 1\u001b[0;31m \u001b[0mmy_tuple\u001b[0m\u001b[0;34m[\u001b[0m\u001b[0;36m1\u001b[0m\u001b[0;34m]\u001b[0m \u001b[0;34m=\u001b[0m \u001b[0;34m\"Voldemars\"\u001b[0m \u001b[0;31m# not allowed\u001b[0m\u001b[0;34m\u001b[0m\u001b[0;34m\u001b[0m\u001b[0m\n\u001b[0m",
            "\u001b[0;31mTypeError\u001b[0m: 'tuple' object does not support item assignment"
          ]
        }
      ],
      "source": [
        "# my_tuple[1] = \"Voldemars\" # not allowed"
      ]
    },
    {
      "cell_type": "code",
      "execution_count": 132,
      "metadata": {
        "colab": {
          "base_uri": "https://localhost:8080/"
        },
        "id": "1ox66A2XwidL",
        "outputId": "43faa105-f4d5-477d-f15e-71fb9b5c146e"
      },
      "outputs": [
        {
          "data": {
            "text/plain": [
              "([1, 2, 3], list)"
            ]
          },
          "execution_count": 132,
          "metadata": {},
          "output_type": "execute_result"
        }
      ],
      "source": [
        "# turns out we can mutate the list inside the tuple no problem\n",
        "my_tuple[2], type(my_tuple[2])"
      ]
    },
    {
      "cell_type": "code",
      "execution_count": 133,
      "metadata": {
        "colab": {
          "base_uri": "https://localhost:8080/",
          "height": 167
        },
        "id": "M7b0I-SjwrF6",
        "outputId": "1635275a-ca70-4656-a8fa-dadc4764f682"
      },
      "outputs": [
        {
          "ename": "TypeError",
          "evalue": "ignored",
          "output_type": "error",
          "traceback": [
            "\u001b[0;31m---------------------------------------------------------------------------\u001b[0m",
            "\u001b[0;31mTypeError\u001b[0m                                 Traceback (most recent call last)",
            "\u001b[0;32m<ipython-input-133-b2525b1cb23d>\u001b[0m in \u001b[0;36m<module>\u001b[0;34m\u001b[0m\n\u001b[0;32m----> 1\u001b[0;31m \u001b[0mmy_tuple\u001b[0m\u001b[0;34m[\u001b[0m\u001b[0;36m2\u001b[0m\u001b[0;34m]\u001b[0m \u001b[0;34m=\u001b[0m \u001b[0;34m[\u001b[0m\u001b[0;36m1\u001b[0m\u001b[0;34m,\u001b[0m\u001b[0;36m6\u001b[0m\u001b[0;34m,\u001b[0m\u001b[0;36m2\u001b[0m\u001b[0;34m,\u001b[0m\u001b[0;36m6\u001b[0m\u001b[0;34m,\u001b[0m\u001b[0;36m7\u001b[0m\u001b[0;34m,\u001b[0m\u001b[0;36m9\u001b[0m\u001b[0;34m]\u001b[0m  \u001b[0;31m# not allowed! OUT OF PLACE\u001b[0m\u001b[0;34m\u001b[0m\u001b[0;34m\u001b[0m\u001b[0m\n\u001b[0m",
            "\u001b[0;31mTypeError\u001b[0m: 'tuple' object does not support item assignment"
          ]
        }
      ],
      "source": [
        "my_tuple[2] = [1,6,2,6,7,9]  # not allowed! OUT OF PLACE"
      ]
    },
    {
      "cell_type": "code",
      "execution_count": 134,
      "metadata": {
        "colab": {
          "base_uri": "https://localhost:8080/"
        },
        "id": "paVrQywEwwJ8",
        "outputId": "7826b5db-5b3f-467c-8f9a-d101bc05e5a1"
      },
      "outputs": [
        {
          "data": {
            "text/plain": [
              "(5, 'Valdis', [1, 2, 3, 9000], (5, 6, 7))"
            ]
          },
          "execution_count": 134,
          "metadata": {},
          "output_type": "execute_result"
        }
      ],
      "source": [
        "my_tuple[2].append(9000)  # so my_tuple[2] is just a shortcut to the list\n",
        "my_tuple"
      ]
    },
    {
      "cell_type": "code",
      "execution_count": null,
      "metadata": {
        "colab": {
          "base_uri": "https://localhost:8080/"
        },
        "id": "Xr2H2Bjvw0nd",
        "outputId": "055cb39b-1517-4c04-f061-154518fcc2c3"
      },
      "outputs": [
        {
          "data": {
            "text/plain": [
              "(5, 'Valdis', [1, 2, 3, 9000, -6, 3.14], (5, 6, 7))"
            ]
          },
          "execution_count": 164,
          "metadata": {},
          "output_type": "execute_result"
        }
      ],
      "source": [
        "my_tuple[2].extend([-6,3.14])  # again IN PLACE methods work on mutable objects inside tuple\n",
        "my_tuple"
      ]
    },
    {
      "cell_type": "code",
      "execution_count": 135,
      "metadata": {
        "colab": {
          "base_uri": "https://localhost:8080/"
        },
        "id": "Nf5AL3KZxDQp",
        "outputId": "5c637f32-0312-4c79-ce3b-92687841f5a2"
      },
      "outputs": [
        {
          "data": {
            "text/plain": [
              "(5, 'Valdis', [], (5, 6, 7))"
            ]
          },
          "execution_count": 135,
          "metadata": {},
          "output_type": "execute_result"
        }
      ],
      "source": [
        "my_tuple[2].clear() # i can clear the list inside the tuple but it remains the same list(object) that we started with\n",
        "my_tuple "
      ]
    },
    {
      "cell_type": "code",
      "execution_count": 136,
      "metadata": {
        "colab": {
          "base_uri": "https://localhost:8080/"
        },
        "id": "o8wu-laIxVrb",
        "outputId": "00eb9687-adff-4013-9207-34c4a4045fe2"
      },
      "outputs": [
        {
          "data": {
            "text/plain": [
              "1"
            ]
          },
          "execution_count": 136,
          "metadata": {},
          "output_type": "execute_result"
        }
      ],
      "source": [
        "my_tuple.count(5) # it will only count the 5 which is stand alone\n"
      ]
    },
    {
      "cell_type": "code",
      "execution_count": null,
      "metadata": {
        "id": "_zQSn7_VCWWt"
      },
      "outputs": [],
      "source": []
    },
    {
      "cell_type": "code",
      "execution_count": null,
      "metadata": {
        "id": "DWV7912xCXZ_"
      },
      "outputs": [],
      "source": []
    },
    {
      "cell_type": "markdown",
      "metadata": {
        "id": "6LLaL-_bCX87"
      },
      "source": [
        "## Checking for matches inside list  or tuple"
      ]
    },
    {
      "cell_type": "code",
      "execution_count": 137,
      "metadata": {
        "colab": {
          "base_uri": "https://localhost:8080/"
        },
        "id": "YtAsmePuCcDw",
        "outputId": "fea71d18-0add-4f3b-fee1-002092e37c22"
      },
      "outputs": [
        {
          "data": {
            "text/plain": [
              "['Chocolate', 'Cookies', 'Milk', 'Bread']"
            ]
          },
          "execution_count": 137,
          "metadata": {},
          "output_type": "execute_result"
        }
      ],
      "source": [
        "glist"
      ]
    },
    {
      "cell_type": "code",
      "execution_count": 138,
      "metadata": {
        "colab": {
          "base_uri": "https://localhost:8080/"
        },
        "id": "PqNtcrEdCgEl",
        "outputId": "28b05874-bad2-4912-e76e-9020155042f9"
      },
      "outputs": [
        {
          "data": {
            "text/plain": [
              "False"
            ]
          },
          "execution_count": 138,
          "metadata": {},
          "output_type": "execute_result"
        }
      ],
      "source": [
        "\"late\" in glist # False "
      ]
    },
    {
      "cell_type": "code",
      "execution_count": 139,
      "metadata": {
        "colab": {
          "base_uri": "https://localhost:8080/"
        },
        "id": "CG-gX2x2Ci9c",
        "outputId": "b44df55a-5e3c-4bc8-987f-24a3ad6395c7"
      },
      "outputs": [
        {
          "name": "stdout",
          "output_type": "stream",
          "text": [
            "Found late in Chocolate!\n",
            "Sorry no late in Cookies..\n",
            "Sorry no late in Milk..\n",
            "Sorry no late in Bread..\n"
          ]
        }
      ],
      "source": [
        "needle = \"late\"\n",
        "for item in glist:\n",
        "    if needle in item:\n",
        "        print(f\"Found {needle} in {item}!\")\n",
        "    else:\n",
        "        print(f\"Sorry no {needle} in {item}..\")"
      ]
    },
    {
      "cell_type": "markdown",
      "metadata": {
        "id": "YFbBYJahCbAA"
      },
      "source": []
    },
    {
      "cell_type": "markdown",
      "metadata": {
        "id": "l5SghH_rCGuf"
      },
      "source": [
        "### Usage suggestions\n",
        "\n",
        "* Lists are for storing homogenous items (same data type) so list of strings, list of ints, etc\n",
        "* Tuples are for storing heterogenous items (different data types) just whatever\n",
        "* this is not strictly enforced but just a suggestion\n",
        "* https://stackoverflow.com/questions/626759/whats-the-difference-between-lists-and-tuples more on this issue"
      ]
    }
  ],
  "metadata": {
    "colab": {
      "name": "Python Lists.ipynb",
      "provenance": []
    },
    "kernelspec": {
      "display_name": "Python 3",
      "language": "python",
      "name": "python3"
    },
    "language_info": {
      "codemirror_mode": {
        "name": "ipython",
        "version": 3
      },
      "file_extension": ".py",
      "mimetype": "text/x-python",
      "name": "python",
      "nbconvert_exporter": "python",
      "pygments_lexer": "ipython3",
      "version": "3.12.5"
    }
  },
  "nbformat": 4,
  "nbformat_minor": 0
}
