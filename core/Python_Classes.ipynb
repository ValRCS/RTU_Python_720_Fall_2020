{
 "cells": [
  {
   "cell_type": "markdown",
   "metadata": {
    "id": "zdW3jGB-oMaK"
   },
   "source": [
    "## Programming Styles\n",
    "\n",
    "* Imperative\n",
    " ** All computer machines work in imperative style\n",
    " ** Global variables are a problem\n",
    " \n",
    "* Declarative\n",
    "\n",
    "    ** We declare knowledge \n",
    "    ** We make queries on that knowledge\n",
    "    \n",
    "* Functional Style - pure functions, no side effects\n",
    " \n",
    "* Object Oriented\n",
    "\n",
    "### Data Hiding (Abstraction) - Private and Public\n",
    "### Inheritance (Classes can inherit other Classes)\n",
    "### Polymorphism (Different Classes use same methods doing different actions)\n",
    "The ability of different objects to respond, each in its own way, to identical messages is called polymorphism"
   ]
  },
  {
   "cell_type": "code",
   "execution_count": null,
   "metadata": {
    "id": "m2tA-C4hoMaM"
   },
   "outputs": [],
   "source": [
    "EAFP is a Python acronym that stands for easier to ask for forgiveness than permission. This coding style is highly pushed in the Python community because it completely relies on the duck typing concept, thus fitting well with the language philosophy.\n",
    "\n",
    "The concept behind EAFP is fairly easy: instead of checking if an object has a given attribute or method before actually accessing or using it, just trust the object to provide what you need and manage the error case"
   ]
  },
  {
   "cell_type": "markdown",
   "metadata": {
    "id": "JVjwFbRkoMaM"
   },
   "source": [
    "* casually methods == functions, technically methods are functions defined within class(more to follow) and have class context"
   ]
  },
  {
   "cell_type": "code",
   "execution_count": null,
   "metadata": {
    "id": "33TweJ2-o2_Z"
   },
   "outputs": [],
   "source": [
    "# classes are blueprints\n",
    "# objects are concrete realizations of those blueprints\n",
    "# we use classes to group data(variables, properties) and methods(functions that live inside our objects)\n",
    "# turns out in Python everything is an object"
   ]
  },
  {
   "cell_type": "code",
   "execution_count": 1,
   "metadata": {},
   "outputs": [
    {
     "name": "stdout",
     "output_type": "stream",
     "text": [
      "type of 5 is  <class 'int'>\n",
      "type of 5.0 is  <class 'float'>\n",
      "type of '5' is  <class 'str'>\n",
      "type of [5] is  <class 'list'>\n",
      "type of {5} is  <class 'set'>\n",
      "type of (5) is  <class 'int'>\n",
      "type of True is  <class 'bool'>\n"
     ]
    }
   ],
   "source": [
    "# so let's check out types of some primitive data types\n",
    "print(\"type of 5 is \", type(5))\n",
    "print(\"type of 5.0 is \", type(5.0))\n",
    "print(\"type of '5' is \", type('5'))\n",
    "print(\"type of [5] is \", type([5]))\n",
    "print(\"type of {5} is \", type({5}))\n",
    "print(\"type of (5) is \", type((5)))\n",
    "print(\"type of True is \", type(True))"
   ]
  },
  {
   "cell_type": "markdown",
   "metadata": {},
   "source": [
    "### Super Simple Class that does nothing\n",
    "\n",
    "We can create a class blueprint which is basically empty - a blank sheet of paper. We can then create objects from this blueprint. Not very useful but it is a start.\n",
    "\n"
   ]
  },
  {
   "cell_type": "code",
   "execution_count": 3,
   "metadata": {
    "id": "33l5vQNQpFh3"
   },
   "outputs": [],
   "source": [
    "class SimpleClass:\n",
    "    pass # does nothing"
   ]
  },
  {
   "cell_type": "code",
   "execution_count": 4,
   "metadata": {
    "colab": {
     "base_uri": "https://localhost:8080/"
    },
    "id": "zaq-HredpMBF",
    "outputId": "228140c0-cc81-48bb-9662-4150a2214a77"
   },
   "outputs": [
    {
     "name": "stdout",
     "output_type": "stream",
     "text": [
      "<__main__.SimpleClass object at 0x000001F6C0B499A0>\n"
     ]
    }
   ],
   "source": [
    "simple_object = SimpleClass()\n",
    "print(simple_object) # so we used this blank blueprint and we created an object in memory somewhere\n"
   ]
  },
  {
   "cell_type": "code",
   "execution_count": 5,
   "metadata": {
    "colab": {
     "base_uri": "https://localhost:8080/"
    },
    "id": "w5fnYOXxpXbN",
    "outputId": "5a3a4bab-47bc-4950-8b92-85e683ec7d82"
   },
   "outputs": [
    {
     "name": "stdout",
     "output_type": "stream",
     "text": [
      "100\n"
     ]
    }
   ],
   "source": [
    "simple_object.some_property = 100\n",
    "print(simple_object.some_property) # i could store date in this object"
   ]
  },
  {
   "cell_type": "code",
   "execution_count": null,
   "metadata": {
    "id": "uN3CWZcJph83"
   },
   "outputs": [],
   "source": [
    "# so this blueprint SimpleClass was too plain.. lets make a more complex blueprint"
   ]
  },
  {
   "cell_type": "code",
   "execution_count": null,
   "metadata": {},
   "outputs": [],
   "source": [
    "class SimpleHouse:\n",
    "    windows = 8\n",
    "    basement = False\n",
    "\n",
    "    # print properties method of the house\n",
    "    # methods are functions that live inside objects\n",
    "    def print_properties(self): # self refers to the specific object that is calling this method\n",
    "        print(\"Windows: \", self.windows)\n",
    "        print(\"Basement: \", self.basement)\n",
    "\n"
   ]
  },
  {
   "cell_type": "code",
   "execution_count": null,
   "metadata": {},
   "outputs": [
    {
     "name": "stdout",
     "output_type": "stream",
     "text": [
      "Windows:  8\n",
      "Basement:  False\n",
      "Windows:  10\n",
      "Basement:  True\n",
      "Windows:  8\n",
      "Basement:  False\n"
     ]
    }
   ],
   "source": [
    "# I can use the SimpleHouse blueprint to create a house object\n",
    "first_simple_house = SimpleHouse()\n",
    "first_simple_house.print_properties()\n",
    "# I can change the properties of the house\n",
    "first_simple_house.windows = 10\n",
    "first_simple_house.basement = True\n",
    "first_simple_house.print_properties()\n",
    "\n",
    "# let's make second house\n",
    "second_simple_house = SimpleHouse() # creates a completely new object from SAME blueprint\n",
    "second_simple_house.print_properties()\n",
    "second_simple_house."
   ]
  },
  {
   "cell_type": "code",
   "execution_count": 14,
   "metadata": {
    "colab": {
     "base_uri": "https://localhost:8080/"
    },
    "id": "baWSy_ZZptWq",
    "outputId": "77825c82-accd-467b-95f4-22ada281a989"
   },
   "outputs": [
    {
     "name": "stdout",
     "output_type": "stream",
     "text": [
      "Construction time again! Let's build a house named \n",
      "Construction finished, object ready to go!\n",
      "House name:  \n",
      "        color:Red nails:0\n",
      "        stories:2 windows:8 basement:False\n",
      "        inhabitants: []\n",
      "Construction time again! Let's build a house named Van Housen residence\n",
      "Construction finished, object ready to go!\n",
      "House name: Van Housen residence \n",
      "        color:pink nails:0\n",
      "        stories:2 windows:8 basement:False\n",
      "        inhabitants: []\n",
      "Construction time again! Let's build a house named \n",
      "Construction finished, object ready to go!\n",
      "House name:  \n",
      "        color:yellow nails:20\n",
      "        stories:2 windows:8 basement:False\n",
      "        inhabitants: []\n",
      "Construction time again! Let's build a house named Mr. Burn's house\n",
      "Construction finished, object ready to go!\n",
      "House name: Mr. Burn's house \n",
      "        color:white nails:1000000\n",
      "        stories:3 windows:8 basement:False\n",
      "        inhabitants: []\n",
      "Construction time again! Let's build a house named Simpson's\n",
      "Construction finished, object ready to go!\n",
      "House name: Simpson's \n",
      "        color:yellow nails:0\n",
      "        stories:2 windows:8 basement:False\n",
      "        inhabitants: ['Bart', 'Lisa', 'Maggie', 'Homer', 'Marge']\n"
     ]
    }
   ],
   "source": [
    "class House:\n",
    "    # we could have moved the above two properties to constructor\n",
    "    # there is a special method called once upon creation of an object\n",
    "    # it is called a constructor method\n",
    "    # it is handy to do some initialization tasks\n",
    "    # so we use a predefined name __init__ for method so that will be called automatically\n",
    "    # WARNING for default sequence types use empty tuple (not empty list)\n",
    "    def __init__(self, name=\"\", \n",
    "                 color=\"Red\", \n",
    "                 nails=0, \n",
    "                 stories=2, \n",
    "                 inhabitants = (),\n",
    "                 windows=8,\n",
    "                 has_basement=False): # i entered some default values so not to break the code\n",
    "        print(\"Construction time again! Let's build a house named\", name)\n",
    "    \n",
    "        self.color = color # names typically match the names of the properties, but it is NOT required\n",
    "        self.nails = nails\n",
    "        self.stories = stories\n",
    "        self.name = name\n",
    "        self.inhabitants = list(inhabitants)  # we want a list because we will want to mutate possibly \n",
    "        self.windows = windows\n",
    "        self.basement = has_basement # here the names do not match, but it is OK\n",
    "        print(\"Construction finished, object ready to go!\")\n",
    "        print(self) # this should call __str__ function now\n",
    "\n",
    "    # # so __str__ should return some sort of string, does not matter how long\n",
    "    def __str__(self): # so this __str__ has to be exactly like this\n",
    "        # we redefine __str__ method which is used by print among others\n",
    "        return f\"\"\"House name: {self.name} \n",
    "        color:{self.color} nails:{self.nails}\n",
    "        stories:{self.stories} windows:{self.windows} basement:{self.basement}\n",
    "        inhabitants: {self.inhabitants}\"\"\"  # multi line string\n",
    "    \n",
    "    # __str__ and __init__ are so called dunder methods (double underscore methods)\n",
    "    # there are about 100 of them in Python, they are used to define special behavior of objects\n",
    "    # full list is here: https://docs.python.org/3/reference/datamodel.html#special-method-names\n",
    "\n",
    "    # methods are functions defined inside class blueprint\n",
    "    def print_stats(self): # class methods require self, in many other languages it is called this \n",
    "        # so self returns to the concrete object calling this method\n",
    "        print(f\"You got {self.windows} windows!\")\n",
    "        print(f\"You have a basement? - {self.basement}\")\n",
    "        print(f\"You got {self.nails} nails in your house!\")\n",
    "        # print(self)\n",
    "        return self # this is cool we return ourselves so we can keep chaining our methods\n",
    "\n",
    "    def add_nails(self, new_nails=1):\n",
    "        print(f\"Old nail count {self.nails}\")\n",
    "        self.nails += new_nails # same as self.nails = self.nails + new_nails\n",
    "        print(f\"NEW nail count {self.nails}\")\n",
    "        return self # we return ourselves so we can keep chaining our calls\n",
    "\n",
    "    def add_inhabitant(self, new_member):\n",
    "        print(f\"Adding new member {new_member} to {self.inhabitants}\")\n",
    "        self.inhabitants.append(new_member) # self.inhabitants is a list so we can use in place append\n",
    "        print(f\"Now house {self.name} has {self.inhabitants}\")\n",
    "        return self # we return ourselves so we can keep chaining our calls\n",
    "\n",
    "# i could add some methods that have nothing to do with the house but we will skip that for now\n",
    "    # def some_calc(self, a, b):\n",
    "    #     print(a*b+100)\n",
    "    #     return a*b+100\n",
    "\n",
    "my_house = House()\n",
    "# i can override the default values\n",
    "another_house = House('Van Housen residence', 'pink') # object created with name and color specified (first two arguments)\n",
    "# I can choose to provide some values by using named arguments, order does not matter\n",
    "homer_house = House(color=\"yellow\", nails=20)\n",
    "burns_house = House(name=\"Mr. Burn's house\", color=\"white\", nails=1_000_000, stories=3)\n",
    "simpsons_house = House(name=\"Simpson's\", color=\"yellow\", inhabitants=(\"Bart\",\"Lisa\",\"Maggie\",\"Homer\",\"Marge\"))"
   ]
  },
  {
   "cell_type": "code",
   "execution_count": 13,
   "metadata": {},
   "outputs": [
    {
     "name": "stdout",
     "output_type": "stream",
     "text": [
      "House name: Simpson's \n",
      "        color:yellow nails:0\n",
      "        stories:2 windows:8 basement:False\n",
      "        inhabitants: ['Bart', 'Lisa', 'Maggie', 'Homer', 'Marge']\n"
     ]
    }
   ],
   "source": [
    "print(simpsons_house) # this should call __str__ function now"
   ]
  },
  {
   "cell_type": "code",
   "execution_count": 15,
   "metadata": {
    "colab": {
     "base_uri": "https://localhost:8080/"
    },
    "id": "ohdy2cwAxHOE",
    "outputId": "3cf2fab6-a513-48ad-8ba2-2e4fab65a3d1"
   },
   "outputs": [
    {
     "name": "stdout",
     "output_type": "stream",
     "text": [
      "Adding new member Grandpa to ['Bart', 'Lisa', 'Maggie', 'Homer', 'Marge']\n",
      "Now house Simpson's has ['Bart', 'Lisa', 'Maggie', 'Homer', 'Marge', 'Grandpa']\n",
      "Adding new member Santa's Little Helper to ['Bart', 'Lisa', 'Maggie', 'Homer', 'Marge', 'Grandpa']\n",
      "Now house Simpson's has ['Bart', 'Lisa', 'Maggie', 'Homer', 'Marge', 'Grandpa', \"Santa's Little Helper\"]\n",
      "Old nail count 0\n",
      "NEW nail count 100\n"
     ]
    },
    {
     "data": {
      "text/plain": [
       "<__main__.House at 0x1f6c0b67c80>"
      ]
     },
     "execution_count": 15,
     "metadata": {},
     "output_type": "execute_result"
    }
   ],
   "source": [
    "# now we can chain those methods that return self\n",
    "simpsons_house.add_inhabitant(\"Grandpa\").add_inhabitant(\"Santa's Little Helper\").add_nails(100) # we will have grandpa twice"
   ]
  },
  {
   "cell_type": "code",
   "execution_count": 16,
   "metadata": {},
   "outputs": [
    {
     "name": "stdout",
     "output_type": "stream",
     "text": [
      "You got 8 windows!\n",
      "You have a basement? - False\n",
      "You got 100 nails in your house!\n"
     ]
    },
    {
     "data": {
      "text/plain": [
       "<__main__.House at 0x1f6c0b67c80>"
      ]
     },
     "execution_count": 16,
     "metadata": {},
     "output_type": "execute_result"
    }
   ],
   "source": [
    "simpsons_house.print_stats()"
   ]
  },
  {
   "cell_type": "code",
   "execution_count": 38,
   "metadata": {
    "id": "JBrqEc1zxe0_"
   },
   "outputs": [],
   "source": [
    "# so in conclusion we can use class blueprints to define how our data and methods to manipulate said data should work together"
   ]
  },
  {
   "cell_type": "code",
   "execution_count": 41,
   "metadata": {
    "colab": {
     "base_uri": "https://localhost:8080/"
    },
    "id": "KXLKWQ3gxoZo",
    "outputId": "f749fc01-6a35-4369-8a53-4fcd86a2eef7"
   },
   "outputs": [
    {
     "name": "stdout",
     "output_type": "stream",
     "text": [
      "400\n"
     ]
    },
    {
     "data": {
      "text/plain": [
       "400"
      ]
     },
     "execution_count": 41,
     "metadata": {},
     "output_type": "execute_result"
    }
   ],
   "source": [
    "# most established libraries use this style\n",
    "simpsons_house.some_calc(10,30)"
   ]
  },
  {
   "cell_type": "code",
   "execution_count": 42,
   "metadata": {
    "colab": {
     "base_uri": "https://localhost:8080/"
    },
    "id": "qPhoWNQiyBeO",
    "outputId": "3b47957d-06ac-4907-9935-236bd87e9ef8"
   },
   "outputs": [
    {
     "data": {
      "text/plain": [
       "120"
      ]
     },
     "execution_count": 42,
     "metadata": {},
     "output_type": "execute_result"
    }
   ],
   "source": [
    "import math\n",
    "math.factorial(5)"
   ]
  },
  {
   "cell_type": "code",
   "execution_count": 43,
   "metadata": {
    "colab": {
     "base_uri": "https://localhost:8080/"
    },
    "id": "FmHaG-_ryFyD",
    "outputId": "9fe731af-9f43-45f0-f4b8-95d9f7a34e74"
   },
   "outputs": [
    {
     "data": {
      "text/plain": [
       "1000.0"
      ]
     },
     "execution_count": 43,
     "metadata": {},
     "output_type": "execute_result"
    }
   ],
   "source": [
    "math.pow(10,3)"
   ]
  },
  {
   "cell_type": "code",
   "execution_count": 17,
   "metadata": {
    "colab": {
     "base_uri": "https://localhost:8080/"
    },
    "id": "hObR4nt6usx2",
    "outputId": "28ff8660-0c96-435a-cf13-8a86e9fe4edb"
   },
   "outputs": [
    {
     "name": "stdout",
     "output_type": "stream",
     "text": [
      "House name: Mr. Burn's house \n",
      "        color:white nails:1000000\n",
      "        stories:3 windows:8 basement:False\n",
      "        inhabitants: []\n"
     ]
    }
   ],
   "source": [
    "print(burns_house)  # so we get a pretty print by redefining __str__ method"
   ]
  },
  {
   "cell_type": "code",
   "execution_count": 30,
   "metadata": {
    "colab": {
     "base_uri": "https://localhost:8080/"
    },
    "id": "ER0gaOqhte_D",
    "outputId": "6a7e62c7-ab33-4f8c-9b2e-53c233287c0a"
   },
   "outputs": [
    {
     "name": "stdout",
     "output_type": "stream",
     "text": [
      "Old nail count 50\n",
      "NEW nail count 60\n",
      "Old nail count 60\n",
      "NEW nail count 80\n",
      "Old nail count 1000270\n",
      "NEW nail count 1000320\n",
      "Old nail count 1000320\n",
      "NEW nail count 1000440\n",
      "Old nail count 1000440\n",
      "NEW nail count 1000540\n",
      "House name: Mr. Burn's house color:white nails:1000540 \n",
      "stories:3 windows:8 basement:False\n",
      "Old nail count 1000540\n",
      "NEW nail count 999040\n"
     ]
    },
    {
     "data": {
      "text/plain": [
       "<__main__.House at 0x7eff570b43d0>"
      ]
     },
     "execution_count": 30,
     "metadata": {},
     "output_type": "execute_result"
    }
   ],
   "source": [
    "homer_house.add_nails(10)\n",
    "homer_house.add_nails(20)\n",
    "burns_house.add_nails(50).add_nails(120).add_nails(100).print_stats().add_nails(-1500)  # I can chain because these methods return the object itself"
   ]
  },
  {
   "cell_type": "code",
   "execution_count": 14,
   "metadata": {
    "colab": {
     "base_uri": "https://localhost:8080/"
    },
    "id": "djWl9bKEp1Ni",
    "outputId": "5a5f464d-65a9-41da-dfe2-31a53d27d7c8"
   },
   "outputs": [
    {
     "name": "stdout",
     "output_type": "stream",
     "text": [
      "Construction time again!\n",
      "Construction finished, object ready to go!\n",
      "8\n",
      "False\n"
     ]
    }
   ],
   "source": [
    "my_house = House()  # I create an object from House blueprints\n",
    "print(my_house.windows)\n",
    "print(my_house.basement)"
   ]
  },
  {
   "cell_type": "code",
   "execution_count": 15,
   "metadata": {
    "colab": {
     "base_uri": "https://localhost:8080/"
    },
    "id": "gUR5bew2p8GD",
    "outputId": "88c22e39-3a66-4d05-f1f4-c585e2d8d0dc"
   },
   "outputs": [
    {
     "name": "stdout",
     "output_type": "stream",
     "text": [
      "Construction time again!\n",
      "Construction finished, object ready to go!\n",
      "8\n",
      "False\n",
      "12\n",
      "8\n"
     ]
    }
   ],
   "source": [
    "another_house = House() # new object\n",
    "print(another_house.windows)\n",
    "print(another_house.basement)\n",
    "another_house.windows = 12\n",
    "print(another_house.windows)\n",
    "print(my_house.windows)  # still 8"
   ]
  },
  {
   "cell_type": "code",
   "execution_count": 16,
   "metadata": {
    "colab": {
     "base_uri": "https://localhost:8080/"
    },
    "id": "ZSRxmB8oqHG2",
    "outputId": "18893902-07f5-418b-a5bc-e4ec58adf75a"
   },
   "outputs": [
    {
     "name": "stdout",
     "output_type": "stream",
     "text": [
      "You got 8 windows!\n",
      "You have a basement? - False\n",
      "You got 12 windows!\n",
      "You have a basement? - False\n"
     ]
    }
   ],
   "source": [
    "my_house.print_stats() # notice i do not need to write self in method call\n",
    "another_house.print_stats()"
   ]
  },
  {
   "cell_type": "code",
   "execution_count": 17,
   "metadata": {
    "colab": {
     "base_uri": "https://localhost:8080/"
    },
    "id": "eYPBzwRwsCvN",
    "outputId": "9391b756-9d0c-4751-cb8f-6738f152200a"
   },
   "outputs": [
    {
     "name": "stdout",
     "output_type": "stream",
     "text": [
      "Construction time again!\n",
      "Construction finished, object ready to go!\n",
      "You got 8 windows!\n",
      "You have a basement? - False\n"
     ]
    }
   ],
   "source": [
    "homer_house = House(color=\"yellow\", nails=20) # stories stay same 2 so we do not need to enter them\n",
    "homer_house.print_stats()"
   ]
  },
  {
   "cell_type": "code",
   "execution_count": null,
   "metadata": {
    "id": "Gk2-f23GoMaN",
    "outputId": "d37d0ea5-7c2d-4335-e529-e5d52a65d66b",
    "scrolled": true
   },
   "outputs": [
    {
     "data": {
      "text/plain": [
       "['__class__',\n",
       " '__delattr__',\n",
       " '__dict__',\n",
       " '__dir__',\n",
       " '__doc__',\n",
       " '__eq__',\n",
       " '__format__',\n",
       " '__ge__',\n",
       " '__getattribute__',\n",
       " '__gt__',\n",
       " '__hash__',\n",
       " '__init__',\n",
       " '__init_subclass__',\n",
       " '__le__',\n",
       " '__lt__',\n",
       " '__module__',\n",
       " '__ne__',\n",
       " '__new__',\n",
       " '__reduce__',\n",
       " '__reduce_ex__',\n",
       " '__repr__',\n",
       " '__setattr__',\n",
       " '__sizeof__',\n",
       " '__str__',\n",
       " '__subclasshook__',\n",
       " '__weakref__',\n",
       " 'f',\n",
       " 'i']"
      ]
     },
     "execution_count": 8,
     "metadata": {},
     "output_type": "execute_result"
    }
   ],
   "source": [
    "# think of class definition as a template for what we do\n",
    "class MyClass: # typical to name classes with UpperCase\n",
    "    \"\"\"A simple example class\"\"\"\n",
    "    i = 12345 # class variable\n",
    "\n",
    "    def f(self): #this is important! similar to this in other languages object itself\n",
    "        return f'Hello {self.i}'\n",
    "dir(MyClass)"
   ]
  },
  {
   "cell_type": "code",
   "execution_count": null,
   "metadata": {
    "id": "YGTwjfJ6oMaO"
   },
   "outputs": [],
   "source": [
    "# instance object created from our class template (blueprint if you will)\n",
    "myclassinstance = MyClass()\n",
    "# also called object instantiation"
   ]
  },
  {
   "cell_type": "code",
   "execution_count": null,
   "metadata": {
    "id": "dK278Hp2oMaP",
    "outputId": "75720e36-0374-42e5-cf6b-728ad419cb08"
   },
   "outputs": [
    {
     "data": {
      "text/plain": [
       "12345"
      ]
     },
     "execution_count": 10,
     "metadata": {},
     "output_type": "execute_result"
    }
   ],
   "source": [
    "myclassinstance.i"
   ]
  },
  {
   "cell_type": "code",
   "execution_count": null,
   "metadata": {
    "id": "ONv4Qb2RoMaP",
    "outputId": "303437bc-d21b-48d4-e565-0c77fb632f32"
   },
   "outputs": [
    {
     "data": {
      "text/plain": [
       "5555"
      ]
     },
     "execution_count": 5,
     "metadata": {},
     "output_type": "execute_result"
    }
   ],
   "source": [
    "myclassinstance.i = 5555 # we can overwrite our variables\n",
    "# generally it is better to handle variables via our internal methods(functions)\n",
    "myclassinstance.i"
   ]
  },
  {
   "cell_type": "code",
   "execution_count": null,
   "metadata": {
    "id": "GB8iGGPVoMaQ",
    "outputId": "777fdb55-806a-4fa4-848d-a5a8f94809ed"
   },
   "outputs": [
    {
     "data": {
      "text/plain": [
       "'Hello 12345'"
      ]
     },
     "execution_count": 11,
     "metadata": {},
     "output_type": "execute_result"
    }
   ],
   "source": [
    "# methods are functions residing inside our class definition\n",
    "myclassinstance.f() # so we are calling our method\n"
   ]
  },
  {
   "cell_type": "code",
   "execution_count": null,
   "metadata": {
    "id": "WeFASOh8oMaR",
    "outputId": "7033a7e7-1f6f-4605-aac9-29e19141919e"
   },
   "outputs": [
    {
     "data": {
      "text/plain": [
       "(12345, 12345)"
      ]
     },
     "execution_count": 12,
     "metadata": {},
     "output_type": "execute_result"
    }
   ],
   "source": [
    "second_instance = MyClass() # we create a second object out of class istance\n",
    "second_instance.i, myclassinstance.i\n"
   ]
  },
  {
   "cell_type": "code",
   "execution_count": null,
   "metadata": {
    "id": "5RSd5U8AoMaR"
   },
   "outputs": [],
   "source": [
    "# we can keep making these objects from our class"
   ]
  },
  {
   "cell_type": "code",
   "execution_count": null,
   "metadata": {
    "id": "-Y0np4hkoMaS"
   },
   "outputs": [],
   "source": [
    "class Complex: # blueprint for our complex numbers with some methods\n",
    "    # so __init__ is our class constructor\n",
    "    # constructor gets called each time a new object is created\n",
    "    def __init__(self, realpart, imagpart=0, name=\"Default Complex\"):\n",
    "        self.r = realpart\n",
    "        self.i = imagpart\n",
    "        self.name = name\n",
    "    def __str__(self): # __str__ will let us print(ourobject)\n",
    "        return f\"Complex object:{self.name} {self.r}+i*({self.i})\"\n",
    "    # so writing __add__ lets us make syntactic sugar for ease of use\n",
    "    def __add__(self, other): # other being another Complex\n",
    "        newr = self.r + other.r\n",
    "        newi = self.i + other.i\n",
    "#         newname = \" \".join(set(self.name) & set(other.name))\n",
    "        if len(self.name) > len(other.name):\n",
    "            newname = self.name\n",
    "        else:\n",
    "            newname = other.name\n",
    "        return Complex(newr, newi, newname)\n",
    "    # __methodname__ there are quite a few of them\n",
    "    # __init__ is most useful one\n",
    "    def calcDistance(self, mult):\n",
    "        return (self.r**2+self.i**2)**0.5*mult\n",
    "    "
   ]
  },
  {
   "cell_type": "code",
   "execution_count": null,
   "metadata": {
    "id": "8qsg-lYFoMaS",
    "outputId": "9b847515-0e29-4450-ba20-32eb6854b516"
   },
   "outputs": [
    {
     "name": "stdout",
     "output_type": "stream",
     "text": [
      "3.0 -4.5\n",
      "27.041634565979923\n",
      "Complekss\n",
      "Complex object:Complekss 3.0+i*(-4.5)\n"
     ]
    }
   ],
   "source": [
    "# we intialize a class instance x of a Complex Class\n",
    "x = Complex(3.0, -4.5, \"Complekss\")\n",
    "print(x.r, x.i)\n",
    "print(x.calcDistance(5))\n",
    "print(x.name)\n",
    "print(x) # if we make our __str__ method we can make this pretty"
   ]
  },
  {
   "cell_type": "code",
   "execution_count": null,
   "metadata": {
    "id": "gZfnV2VwoMaS",
    "outputId": "b653bcfc-24bc-48d9-c8bd-52be559b802b"
   },
   "outputs": [
    {
     "name": "stdout",
     "output_type": "stream",
     "text": [
      "Complex object:Complekss 2 2.0+i*(10)\n"
     ]
    }
   ],
   "source": [
    "# we intialize a class instance x of a Complex Class\n",
    "y = Complex(2.0, 10, \"Complekss 2\")\n",
    "print(y) "
   ]
  },
  {
   "cell_type": "code",
   "execution_count": null,
   "metadata": {
    "id": "RUqxaYWloMaT",
    "outputId": "f9565151-6662-4fac-e2b9-ccbbf460f1cb"
   },
   "outputs": [
    {
     "name": "stdout",
     "output_type": "stream",
     "text": [
      "Complex object:Complekss 2 5.0+i*(5.5)\n"
     ]
    }
   ],
   "source": [
    "z = x + y # turns out we can write our own __add__ method\n",
    "print(z)"
   ]
  },
  {
   "cell_type": "markdown",
   "metadata": {
    "id": "i2Bun1u3oMaT"
   },
   "source": [
    "## Data Hiding (Abstraction) - Private and Public\n",
    "\n",
    "### From http://www.faqs.org/docs/diveintopython/fileinfo_private.html\n",
    "\n",
    "\n",
    "* If the name of a Python function, class method, or attribute starts with (but doesn’t end with) two underscores, it’s private; everything else is public.\n",
    "\n",
    "* In Python, all special methods (like __setitem__) and built-in attributes (like __doc__) follow a standard naming convention: they both start with and end with two underscores. Don’t name your own methods and attributes this way; it will only confuse you (and others) later.\n",
    "\n",
    "* Python has no concept of protected class methods (accessible only in their own class and descendant classes). Class methods are either private (accessible only in their own class) or public (accessible from anywhere).\n",
    "\n",
    "Strictly speaking, private methods are accessible outside their class, just not easily accessible. Nothing in Python is truly private; internally, the names of private methods and attributes are mangled and unmangled on the fly to make them seem inaccessible by their given names. You can access the __parse method of the MP3FileInfo class by the name _MP3FileInfo__parse. Acknowledge that this is interesting, **then promise to never, ever do it in real code**. \n",
    "\n",
    "Private methods are private for a reason, but like many other things in Python, their privateness is ultimately a matter of convention, not force."
   ]
  },
  {
   "cell_type": "code",
   "execution_count": 19,
   "metadata": {
    "id": "AhV8qPraoMaU"
   },
   "outputs": [],
   "source": [
    "class Laundry:\n",
    "    def __init__(self, laundry_items): # note we will need to pass a list of items here\n",
    "        self.clean = []\n",
    "        self.__dirty = [] # so __dirty is private variable not easily accessible from outside\n",
    "        for item in laundry_items:\n",
    "            if item > 9000: # this will break on strings or anything that is not comparable with 9000\n",
    "                self.__dirty.append(item)\n",
    "            else:\n",
    "                self.clean.append(item)\n",
    "    def add_item(self, item):\n",
    "        if item > 9000:\n",
    "            self.__dirty.append(item)\n",
    "        else:\n",
    "            self.clean.append(item)\n",
    "        return self\n",
    "    \n",
    "    def showDirty(self):\n",
    "        print(self.__dirty) # so inside access to __dirty still works\n",
    "        return self\n",
    "    def __str__(self):\n",
    "        return f\"Got {len(self.clean)} clean items and {len(self.__dirty)} items\""
   ]
  },
  {
   "cell_type": "code",
   "execution_count": 20,
   "metadata": {
    "id": "6vKmJ2s1oMaU"
   },
   "outputs": [
    {
     "name": "stdout",
     "output_type": "stream",
     "text": [
      "Got 5 clean items and 2 items\n"
     ]
    }
   ],
   "source": [
    "mylaundry = Laundry([3,6,9666,6999,69000,65,2])\n",
    "print(mylaundry)\n"
   ]
  },
  {
   "cell_type": "code",
   "execution_count": 21,
   "metadata": {
    "id": "MUWUTtSdoMaU",
    "outputId": "eaa182b6-865c-41be-edc2-e290e686f55f"
   },
   "outputs": [
    {
     "data": {
      "text/plain": [
       "[3, 6, 6999, 65, 2]"
      ]
     },
     "execution_count": 21,
     "metadata": {},
     "output_type": "execute_result"
    }
   ],
   "source": [
    "# i can access the clean items directly\n",
    "mylaundry.clean"
   ]
  },
  {
   "cell_type": "code",
   "execution_count": 22,
   "metadata": {
    "id": "ftRLvdPdoMaV",
    "outputId": "e06992d2-d21d-4dae-cf9c-a861bd0ca340"
   },
   "outputs": [
    {
     "name": "stdout",
     "output_type": "stream",
     "text": [
      "'Laundry' object has no attribute '__dirty'\n"
     ]
    }
   ],
   "source": [
    "try:\n",
    "    print(mylaundry.__dirty) # so __dirty with __ underscores get hidden, not forgotten!\n",
    "except AttributeError as e:\n",
    "    print(e)"
   ]
  },
  {
   "cell_type": "code",
   "execution_count": 23,
   "metadata": {
    "id": "Gj8GgvGFoMaV",
    "outputId": "65a1f73f-94f8-41e4-bfb0-1759d0ed5582"
   },
   "outputs": [
    {
     "name": "stdout",
     "output_type": "stream",
     "text": [
      "[9666, 69000]\n"
     ]
    },
    {
     "data": {
      "text/plain": [
       "<__main__.Laundry at 0x1f6c0b56030>"
      ]
     },
     "execution_count": 23,
     "metadata": {},
     "output_type": "execute_result"
    }
   ],
   "source": [
    "mylaundry.showDirty() # so accesing private data via methods is idea behind data hiding"
   ]
  },
  {
   "cell_type": "markdown",
   "metadata": {},
   "source": [
    "## Inheritance\n",
    "\n",
    "Inheritance in Python works like this:\n",
    "\n",
    "* When you create a class, you can inherit from an existing class. The new class is called a subclass, and the existing class is called a superclass. If you inherit from a superclass, the subclass inherits all the attributes and methods of the superclass.\n",
    "\n",
    "* You can override the methods of the superclass in the subclass. If you do this, the method of the superclass is not available to the subclass.\n",
    "\n",
    "* You can also extend the methods of the superclass in the subclass. If you do this, you can call the method of the superclass from the subclass."
   ]
  },
  {
   "cell_type": "code",
   "execution_count": 24,
   "metadata": {
    "id": "4qlTTrPFoMaV"
   },
   "outputs": [],
   "source": [
    "# idea behind inheritance is to use already existing class template\n",
    "# and a few things on top of it as a new template\n",
    "class Jeans(Laundry):\n",
    "    # so __init__ will overwrite the __init__ of parent class\n",
    "    def __init__(self,jean_dirt_list, jean_brand_list):\n",
    "        print(\"Initializing Jeans\")\n",
    "        # first we call our parent Class constructor with super\n",
    "        super().__init__(jean_dirt_list) # we call the Laundry constructor here which is our parent class\n",
    "        self.brands = jean_brand_list\n",
    "    def myTwoFavorites(self):\n",
    "        print(self.brands[:2])\n",
    "        "
   ]
  },
  {
   "cell_type": "code",
   "execution_count": 25,
   "metadata": {
    "id": "mpOJAXaboMaW",
    "outputId": "3d4822bd-7303-4ae4-ce6e-22012aa6ce3b"
   },
   "outputs": [
    {
     "name": "stdout",
     "output_type": "stream",
     "text": [
      "Initializing Jeans\n"
     ]
    }
   ],
   "source": [
    "myjeans = Jeans([3,6,7,90000,36666], [\"Lees\", \"Levis\", \"Montana\"])"
   ]
  },
  {
   "cell_type": "code",
   "execution_count": 26,
   "metadata": {
    "id": "KV0Q_SEAoMaW",
    "outputId": "3e197061-597a-4f00-83ce-76cccdce1c08"
   },
   "outputs": [
    {
     "name": "stdout",
     "output_type": "stream",
     "text": [
      "Got 3 clean items and 2 items\n"
     ]
    }
   ],
   "source": [
    "print(myjeans) # so jeans object gets access to Laundry methods"
   ]
  },
  {
   "cell_type": "code",
   "execution_count": null,
   "metadata": {
    "id": "fbvEVG-doMaX",
    "outputId": "f900ee52-6553-43f4-a945-82d4e9e8fe0b"
   },
   "outputs": [
    {
     "name": "stdout",
     "output_type": "stream",
     "text": [
      "['Lees', 'Levis']\n"
     ]
    }
   ],
   "source": [
    "myjeans.myTwoFavorites() # I can also use the methods specific to Jeans"
   ]
  },
  {
   "cell_type": "code",
   "execution_count": null,
   "metadata": {
    "id": "IKgBhYSNoMaX",
    "outputId": "c7c7907f-e43b-4c2e-9814-b52f55aac571"
   },
   "outputs": [
    {
     "data": {
      "text/plain": [
       "__main__.Jeans"
      ]
     },
     "execution_count": 59,
     "metadata": {},
     "output_type": "execute_result"
    }
   ],
   "source": [
    "type(myjeans)"
   ]
  },
  {
   "cell_type": "code",
   "execution_count": 28,
   "metadata": {
    "id": "dk1w35froMaY",
    "outputId": "7d76313b-68c6-4efc-e911-a34fc745a33a"
   },
   "outputs": [
    {
     "name": "stdout",
     "output_type": "stream",
     "text": [
      "Initializing Jeans\n",
      "Got 1 clean items and 3 items\n"
     ]
    }
   ],
   "source": [
    "friendJeans = Jeans([99999,100000,555455, 56], [\"Camel\",\"Gucci\", \"Labietis\"])\n",
    "print(friendJeans)"
   ]
  },
  {
   "cell_type": "code",
   "execution_count": 29,
   "metadata": {
    "id": "uQP88yOKoMaY",
    "outputId": "7a3056a8-0bc3-4a96-c728-0f67f41732f2"
   },
   "outputs": [
    {
     "name": "stdout",
     "output_type": "stream",
     "text": [
      "['Camel', 'Gucci']\n"
     ]
    }
   ],
   "source": [
    "friendJeans.myTwoFavorites()"
   ]
  },
  {
   "cell_type": "code",
   "execution_count": 30,
   "metadata": {
    "id": "Vc1mHTk0oMaY",
    "outputId": "9d893a43-30bc-468a-e203-13079f3dee05"
   },
   "outputs": [
    {
     "name": "stdout",
     "output_type": "stream",
     "text": [
      "[99999, 100000, 555455]\n"
     ]
    },
    {
     "data": {
      "text/plain": [
       "<__main__.Jeans at 0x1f6c0b2d4f0>"
      ]
     },
     "execution_count": 30,
     "metadata": {},
     "output_type": "execute_result"
    }
   ],
   "source": [
    "friendJeans.showDirty()"
   ]
  },
  {
   "cell_type": "markdown",
   "metadata": {
    "id": "lQX2tvHpoMaZ"
   },
   "source": [
    "#### Generally speaking, instance variables are for data unique to each instance and class variables are for attributes and methods shared by all instances of the class:"
   ]
  },
  {
   "cell_type": "markdown",
   "metadata": {
    "id": "1btarDiBoMac"
   },
   "source": [
    "As discussed in A Word About Names and Objects, shared data can have possibly surprising effects with involving mutable objects such as lists and dictionaries. For example, the tricks list in the following code should not be used as a class variable because just a single list would be shared by all Dog instances:"
   ]
  },
  {
   "cell_type": "markdown",
   "metadata": {
    "id": "M7tAvhBQoMaf"
   },
   "source": [
    "Correct design of the class should use an instance variable instead:\n",
    "\n"
   ]
  },
  {
   "cell_type": "markdown",
   "metadata": {
    "id": "847W8OM4oMap"
   },
   "source": [
    "Methods may call other methods by using method attributes of the self argument:"
   ]
  },
  {
   "cell_type": "markdown",
   "metadata": {},
   "source": [
    "## Composition\n",
    "\n",
    "Alternative approach to inheritance is to compose a class from other classes. This is called composition."
   ]
  },
  {
   "cell_type": "code",
   "execution_count": 35,
   "metadata": {},
   "outputs": [],
   "source": [
    "# so let's make a Car that uses Engine and Wheels\n",
    "\n",
    "from typing import Any\n",
    "\n",
    "\n",
    "class Engine:\n",
    "    def __init__(self, power, fuel=\"Diesel\"):\n",
    "        self.power = power\n",
    "        self.fuel = fuel\n",
    "    def __str__(self):\n",
    "        return f\"Engine with {self.power} power and {self.fuel} fuel\"\n",
    "    def start(self):\n",
    "        print(\"Engine started\")\n",
    "\n",
    "class Wheel:\n",
    "    def __init__(self, radius, brand=\"Michelin\"):\n",
    "        self.radius = radius\n",
    "        self.brand = brand\n",
    "    def __str__(self):\n",
    "        return f\"Wheel with {self.radius} radius and {self.brand} brand\"\n",
    "    def __repr__(self):\n",
    "        return f\"Wheel({self.radius}, {self.brand})\"\n",
    "    def rotate(self):\n",
    "        print(\"Wheel rotating\")\n",
    "\n",
    "class Car:\n",
    "    def __init__(self, make, model, engine, wheels):\n",
    "        self.make = make\n",
    "        self.model = model\n",
    "        self.engine = engine\n",
    "        self.wheels = wheels\n",
    "        print(f\"Car created with {self.engine} and {self.wheels}\")\n",
    "    def __str__(self):\n",
    "        return f\"Car with {self.engine} and {self.wheels}\"\n",
    "    def start(self):\n",
    "        self.engine.start()\n",
    "        for wheel in self.wheels:\n",
    "            wheel.rotate()\n",
    "        print(\"Car started\")\n"
   ]
  },
  {
   "cell_type": "code",
   "execution_count": 36,
   "metadata": {},
   "outputs": [
    {
     "name": "stdout",
     "output_type": "stream",
     "text": [
      "Car created with Engine with 100 power and Diesel fuel and [Wheel(20, Michelin), Wheel(20, Michelin), Wheel(20, Michelin), Wheel(20, Michelin)]\n",
      "Car with Engine with 100 power and Diesel fuel and [Wheel(20, Michelin), Wheel(20, Michelin), Wheel(20, Michelin), Wheel(20, Michelin)]\n"
     ]
    }
   ],
   "source": [
    "# now let's make a car \n",
    "engine = Engine(100)\n",
    "wheels = [Wheel(20), Wheel(20), Wheel(20), Wheel(20)] # a list of wheels\n",
    "mycar = Car(\"VW\", \"Golf\", engine, wheels)\n",
    "print(mycar)"
   ]
  }
 ],
 "metadata": {
  "colab": {
   "name": "Python Classes.ipynb",
   "provenance": []
  },
  "kernelspec": {
   "display_name": "venv",
   "language": "python",
   "name": "python3"
  },
  "language_info": {
   "codemirror_mode": {
    "name": "ipython",
    "version": 3
   },
   "file_extension": ".py",
   "mimetype": "text/x-python",
   "name": "python",
   "nbconvert_exporter": "python",
   "pygments_lexer": "ipython3",
   "version": "3.12.5"
  }
 },
 "nbformat": 4,
 "nbformat_minor": 0
}
