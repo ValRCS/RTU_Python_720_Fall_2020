{
  "cells": [
    {
      "cell_type": "code",
      "execution_count": null,
      "metadata": {
        "id": "bcOoZ929oMaF"
      },
      "outputs": [],
      "source": [
        "## Jupyter Shift-Tab Help trick:\n",
        "# press Shift-Tab while cursor is inside function(parenthesis)\n",
        "# ie press Shift-Tab while cursor is inside (\"Sup\")\n",
        "print(\"Sup\")\n",
        "# for our own functions/classes need to run them first in Jupyter"
      ]
    },
    {
      "cell_type": "markdown",
      "metadata": {
        "id": "zdW3jGB-oMaK"
      },
      "source": [
        "## Programming Styles\n",
        "\n",
        "* Imperative\n",
        " ** All computer machines work in imperative style\n",
        " ** Global variables are a problem\n",
        " \n",
        "* Declarative\n",
        "\n",
        "    ** We declare knowledge \n",
        "    ** We make queries on that knowledge\n",
        "    \n",
        "* Functional Style - pure functions, no side effects\n",
        " \n",
        "* Object Oriented\n",
        "\n",
        "### Data Hiding (Abstraction) - Private and Public\n",
        "### Inheritance (Classes can inherit other Classes)\n",
        "### Polymorphism (Different Classes use same methods doing different actions)\n",
        "The ability of different objects to respond, each in its own way, to identical messages is called polymorphism"
      ]
    },
    {
      "cell_type": "code",
      "execution_count": null,
      "metadata": {
        "id": "m2tA-C4hoMaM"
      },
      "outputs": [],
      "source": [
        "EAFP is a Python acronym that stands for easier to ask for forgiveness than permission. This coding style is highly pushed in the Python community because it completely relies on the duck typing concept, thus fitting well with the language philosophy.\n",
        "\n",
        "The concept behind EAFP is fairly easy: instead of checking if an object has a given attribute or method before actually accessing or using it, just trust the object to provide what you need and manage the error case"
      ]
    },
    {
      "cell_type": "markdown",
      "metadata": {
        "id": "JVjwFbRkoMaM"
      },
      "source": [
        "* casually methods == functions, technically methods are functions defined within class(more to follow) and have class context"
      ]
    },
    {
      "cell_type": "code",
      "source": [
        "# classes are blueprints\n",
        "# objects are concrete realizations of those blueprints\n",
        "# we use classes to group data(variables, properties) and methods(functions that live inside our objects)\n",
        "# turns out in Python everything is an object"
      ],
      "metadata": {
        "id": "33TweJ2-o2_Z"
      },
      "execution_count": null,
      "outputs": []
    },
    {
      "cell_type": "code",
      "source": [
        "class SimpleClass:\n",
        "    pass # does nothing"
      ],
      "metadata": {
        "id": "33l5vQNQpFh3"
      },
      "execution_count": 1,
      "outputs": []
    },
    {
      "cell_type": "code",
      "source": [
        "simple_object = SimpleClass()\n",
        "print(simple_object) # so we used this blank blueprint and we created an object in memory somewhere\n"
      ],
      "metadata": {
        "id": "zaq-HredpMBF",
        "outputId": "228140c0-cc81-48bb-9662-4150a2214a77",
        "colab": {
          "base_uri": "https://localhost:8080/"
        }
      },
      "execution_count": 2,
      "outputs": [
        {
          "output_type": "stream",
          "name": "stdout",
          "text": [
            "<__main__.SimpleClass object at 0x7eff5fafcd10>\n"
          ]
        }
      ]
    },
    {
      "cell_type": "code",
      "source": [
        "simple_object.some_property = 100\n",
        "print(simple_object.some_property) # i could store date in this object"
      ],
      "metadata": {
        "id": "w5fnYOXxpXbN",
        "outputId": "5a3a4bab-47bc-4950-8b92-85e683ec7d82",
        "colab": {
          "base_uri": "https://localhost:8080/"
        }
      },
      "execution_count": 3,
      "outputs": [
        {
          "output_type": "stream",
          "name": "stdout",
          "text": [
            "100\n"
          ]
        }
      ]
    },
    {
      "cell_type": "code",
      "source": [
        "# so this blueprint SimpleClass was too plain.. lets make a more complex blueprint"
      ],
      "metadata": {
        "id": "uN3CWZcJph83"
      },
      "execution_count": null,
      "outputs": []
    },
    {
      "cell_type": "code",
      "source": [
        "class House:\n",
        "    windows = 8\n",
        "    basement = False\n",
        "    # we could have moved the above two properties to constructor\n",
        "    # there is a special method called once upon creation of an object\n",
        "    # it is called a constructor method\n",
        "    # it is handy to do some initialization tasks\n",
        "    # so we use a predefined name __init__ for method so that will be called automatically\n",
        "    # WARNING for default sequence types use empty tuple (not empty list)\n",
        "    def __init__(self, name=\"\", color=\"Red\", nails=0, stories=2, inhabitants = ()): # i entered some default values so not to break the code\n",
        "        print(\"Construction time again!\")\n",
        "        self.color = color\n",
        "        self.nails = nails\n",
        "        self.stories = stories\n",
        "        self.name = name\n",
        "        self.inhabitants = list(inhabitants)  # we want a list because we will want to mutate possibly \n",
        "        print(\"Construction finished, object ready to go!\")\n",
        "        print(self) # this should call __str__ function now\n",
        "\n",
        "    # so __str__ should return some sort of string\n",
        "    def __str__(self):\n",
        "        # we redefine __str__ method which is used by print among others\n",
        "        return f\"\"\"House name: {self.name} \n",
        "        color:{self.color} nails:{self.nails}\n",
        "        stories:{self.stories} windows:{self.windows} basement:{self.basement}\n",
        "        inhabitants: {self.inhabitants}\"\"\"  # multi line string\n",
        "\n",
        "    # methods are functions defined inside class blueprint\n",
        "    def print_stats(self): # class methods require self, in many other languages it is called this \n",
        "        # so self returns to the concrete object calling this method\n",
        "        # print(f\"You got {self.windows} windows!\")\n",
        "        # print(f\"You have a basement? - {self.basement}\")\n",
        "        print(self)\n",
        "        return self # this is cool we return ourselves so we can keep chaining our methods\n",
        "\n",
        "    def add_nails(self, new_nails=0):\n",
        "        print(f\"Old nail count {self.nails}\")\n",
        "        self.nails += new_nails # same as self.nails = self.nails + new_nails\n",
        "        print(f\"NEW nail count {self.nails}\")\n",
        "        return self # we return ourselves so we can keep chaining our calls\n",
        "\n",
        "    def add_inhabitant(self, new_member):\n",
        "        print(f\"Adding new member {new_member} to {self.inhabitants}\")\n",
        "        self.inhabitants.append(new_member) # self.inhabitants is a list so we can use in place append\n",
        "        print(f\"Now house {self.name} has {self.inhabitants}\")\n",
        "        return self\n",
        "\n",
        "    def some_calc(self, a, b):\n",
        "        print(a*b+100)\n",
        "        return a*b+100\n",
        "\n",
        "my_house = House()\n",
        "another_house = House() # new object\n",
        "homer_house = House(color=\"yellow\", nails=20)\n",
        "burns_house = House(name=\"Mr. Burn's house\", color=\"white\", nails=1_000_000, stories=3)\n",
        "simpsons_house = House(name=\"Simpson's\", color=\"yellow\", inhabitants=(\"Bart\",\"Lisa\",\"Maggie\",\"Homer\",\"Marge\"))"
      ],
      "metadata": {
        "id": "baWSy_ZZptWq",
        "outputId": "77825c82-accd-467b-95f4-22ada281a989",
        "colab": {
          "base_uri": "https://localhost:8080/"
        }
      },
      "execution_count": 40,
      "outputs": [
        {
          "output_type": "stream",
          "name": "stdout",
          "text": [
            "Construction time again!\n",
            "Construction finished, object ready to go!\n",
            "House name:  \n",
            "        color:Red nails:0\n",
            "        stories:2 windows:8 basement:False\n",
            "        inhabitants: []\n",
            "Construction time again!\n",
            "Construction finished, object ready to go!\n",
            "House name:  \n",
            "        color:Red nails:0\n",
            "        stories:2 windows:8 basement:False\n",
            "        inhabitants: []\n",
            "Construction time again!\n",
            "Construction finished, object ready to go!\n",
            "House name:  \n",
            "        color:yellow nails:20\n",
            "        stories:2 windows:8 basement:False\n",
            "        inhabitants: []\n",
            "Construction time again!\n",
            "Construction finished, object ready to go!\n",
            "House name: Mr. Burn's house \n",
            "        color:white nails:1000000\n",
            "        stories:3 windows:8 basement:False\n",
            "        inhabitants: []\n",
            "Construction time again!\n",
            "Construction finished, object ready to go!\n",
            "House name: Simpson's \n",
            "        color:yellow nails:0\n",
            "        stories:2 windows:8 basement:False\n",
            "        inhabitants: ['Bart', 'Lisa', 'Maggie', 'Homer', 'Marge']\n"
          ]
        }
      ]
    },
    {
      "cell_type": "code",
      "source": [
        "simpsons_house.add_inhabitant(\"Grandpa\").add_inhabitant(\"Santa's Little Helper\").add_nails(100) # we will have grandpa twice"
      ],
      "metadata": {
        "id": "ohdy2cwAxHOE",
        "outputId": "3cf2fab6-a513-48ad-8ba2-2e4fab65a3d1",
        "colab": {
          "base_uri": "https://localhost:8080/"
        }
      },
      "execution_count": 37,
      "outputs": [
        {
          "output_type": "stream",
          "name": "stdout",
          "text": [
            "Adding new member Grandpa to ['Bart', 'Lisa', 'Maggie', 'Homer', 'Marge', 'Grandpa', 'Grandpa', \"Santa's Little Helper\"]\n",
            "Now house Simpson's has ['Bart', 'Lisa', 'Maggie', 'Homer', 'Marge', 'Grandpa', 'Grandpa', \"Santa's Little Helper\", 'Grandpa']\n",
            "Adding new member Santa's Little Helper to ['Bart', 'Lisa', 'Maggie', 'Homer', 'Marge', 'Grandpa', 'Grandpa', \"Santa's Little Helper\", 'Grandpa']\n",
            "Now house Simpson's has ['Bart', 'Lisa', 'Maggie', 'Homer', 'Marge', 'Grandpa', 'Grandpa', \"Santa's Little Helper\", 'Grandpa', \"Santa's Little Helper\"]\n",
            "Old nail count 200\n",
            "NEW nail count 300\n"
          ]
        },
        {
          "output_type": "execute_result",
          "data": {
            "text/plain": [
              "<__main__.House at 0x7eff571eb1d0>"
            ]
          },
          "metadata": {},
          "execution_count": 37
        }
      ]
    },
    {
      "cell_type": "code",
      "source": [
        "# so in conclusion we can use class blueprints to define how our data and methods to manipulate said data should work together"
      ],
      "metadata": {
        "id": "JBrqEc1zxe0_"
      },
      "execution_count": 38,
      "outputs": []
    },
    {
      "cell_type": "code",
      "source": [
        "# most established libraries use this style\n",
        "simpsons_house.some_calc(10,30)"
      ],
      "metadata": {
        "id": "KXLKWQ3gxoZo",
        "outputId": "f749fc01-6a35-4369-8a53-4fcd86a2eef7",
        "colab": {
          "base_uri": "https://localhost:8080/"
        }
      },
      "execution_count": 41,
      "outputs": [
        {
          "output_type": "stream",
          "name": "stdout",
          "text": [
            "400\n"
          ]
        },
        {
          "output_type": "execute_result",
          "data": {
            "text/plain": [
              "400"
            ]
          },
          "metadata": {},
          "execution_count": 41
        }
      ]
    },
    {
      "cell_type": "code",
      "source": [
        "import math\n",
        "math.factorial(5)"
      ],
      "metadata": {
        "id": "qPhoWNQiyBeO",
        "outputId": "3b47957d-06ac-4907-9935-236bd87e9ef8",
        "colab": {
          "base_uri": "https://localhost:8080/"
        }
      },
      "execution_count": 42,
      "outputs": [
        {
          "output_type": "execute_result",
          "data": {
            "text/plain": [
              "120"
            ]
          },
          "metadata": {},
          "execution_count": 42
        }
      ]
    },
    {
      "cell_type": "code",
      "source": [
        "math.pow(10,3)"
      ],
      "metadata": {
        "id": "FmHaG-_ryFyD",
        "outputId": "9fe731af-9f43-45f0-f4b8-95d9f7a34e74",
        "colab": {
          "base_uri": "https://localhost:8080/"
        }
      },
      "execution_count": 43,
      "outputs": [
        {
          "output_type": "execute_result",
          "data": {
            "text/plain": [
              "1000.0"
            ]
          },
          "metadata": {},
          "execution_count": 43
        }
      ]
    },
    {
      "cell_type": "code",
      "source": [
        "print(burns_house)  # so we get a pretty print by redefining __str__ method"
      ],
      "metadata": {
        "id": "hObR4nt6usx2",
        "outputId": "28ff8660-0c96-435a-cf13-8a86e9fe4edb",
        "colab": {
          "base_uri": "https://localhost:8080/"
        }
      },
      "execution_count": 27,
      "outputs": [
        {
          "output_type": "stream",
          "name": "stdout",
          "text": [
            "House name: Mr. Burn's house color:white nails:1000000 \n",
            "stories:3 windows:8 basement:False\n"
          ]
        }
      ]
    },
    {
      "cell_type": "code",
      "source": [
        "homer_house.add_nails(10)\n",
        "homer_house.add_nails(20)\n",
        "burns_house.add_nails(50).add_nails(120).add_nails(100).print_stats().add_nails(-1500)  # I can chain because these methods return the object itself"
      ],
      "metadata": {
        "id": "ER0gaOqhte_D",
        "outputId": "6a7e62c7-ab33-4f8c-9b2e-53c233287c0a",
        "colab": {
          "base_uri": "https://localhost:8080/"
        }
      },
      "execution_count": 30,
      "outputs": [
        {
          "output_type": "stream",
          "name": "stdout",
          "text": [
            "Old nail count 50\n",
            "NEW nail count 60\n",
            "Old nail count 60\n",
            "NEW nail count 80\n",
            "Old nail count 1000270\n",
            "NEW nail count 1000320\n",
            "Old nail count 1000320\n",
            "NEW nail count 1000440\n",
            "Old nail count 1000440\n",
            "NEW nail count 1000540\n",
            "House name: Mr. Burn's house color:white nails:1000540 \n",
            "stories:3 windows:8 basement:False\n",
            "Old nail count 1000540\n",
            "NEW nail count 999040\n"
          ]
        },
        {
          "output_type": "execute_result",
          "data": {
            "text/plain": [
              "<__main__.House at 0x7eff570b43d0>"
            ]
          },
          "metadata": {},
          "execution_count": 30
        }
      ]
    },
    {
      "cell_type": "code",
      "source": [
        "my_house = House()  # I create an object from House blueprints\n",
        "print(my_house.windows)\n",
        "print(my_house.basement)"
      ],
      "metadata": {
        "id": "djWl9bKEp1Ni",
        "outputId": "5a5f464d-65a9-41da-dfe2-31a53d27d7c8",
        "colab": {
          "base_uri": "https://localhost:8080/"
        }
      },
      "execution_count": 14,
      "outputs": [
        {
          "output_type": "stream",
          "name": "stdout",
          "text": [
            "Construction time again!\n",
            "Construction finished, object ready to go!\n",
            "8\n",
            "False\n"
          ]
        }
      ]
    },
    {
      "cell_type": "code",
      "source": [
        "another_house = House() # new object\n",
        "print(another_house.windows)\n",
        "print(another_house.basement)\n",
        "another_house.windows = 12\n",
        "print(another_house.windows)\n",
        "print(my_house.windows)  # still 8"
      ],
      "metadata": {
        "id": "gUR5bew2p8GD",
        "outputId": "88c22e39-3a66-4d05-f1f4-c585e2d8d0dc",
        "colab": {
          "base_uri": "https://localhost:8080/"
        }
      },
      "execution_count": 15,
      "outputs": [
        {
          "output_type": "stream",
          "name": "stdout",
          "text": [
            "Construction time again!\n",
            "Construction finished, object ready to go!\n",
            "8\n",
            "False\n",
            "12\n",
            "8\n"
          ]
        }
      ]
    },
    {
      "cell_type": "code",
      "source": [
        "my_house.print_stats() # notice i do not need to write self in method call\n",
        "another_house.print_stats()"
      ],
      "metadata": {
        "id": "ZSRxmB8oqHG2",
        "outputId": "18893902-07f5-418b-a5bc-e4ec58adf75a",
        "colab": {
          "base_uri": "https://localhost:8080/"
        }
      },
      "execution_count": 16,
      "outputs": [
        {
          "output_type": "stream",
          "name": "stdout",
          "text": [
            "You got 8 windows!\n",
            "You have a basement? - False\n",
            "You got 12 windows!\n",
            "You have a basement? - False\n"
          ]
        }
      ]
    },
    {
      "cell_type": "code",
      "source": [
        "homer_house = House(color=\"yellow\", nails=20) # stories stay same 2 so we do not need to enter them\n",
        "homer_house.print_stats()"
      ],
      "metadata": {
        "id": "eYPBzwRwsCvN",
        "outputId": "9391b756-9d0c-4751-cb8f-6738f152200a",
        "colab": {
          "base_uri": "https://localhost:8080/"
        }
      },
      "execution_count": 17,
      "outputs": [
        {
          "output_type": "stream",
          "name": "stdout",
          "text": [
            "Construction time again!\n",
            "Construction finished, object ready to go!\n",
            "You got 8 windows!\n",
            "You have a basement? - False\n"
          ]
        }
      ]
    },
    {
      "cell_type": "code",
      "execution_count": null,
      "metadata": {
        "scrolled": true,
        "id": "Gk2-f23GoMaN",
        "outputId": "d37d0ea5-7c2d-4335-e529-e5d52a65d66b"
      },
      "outputs": [
        {
          "data": {
            "text/plain": [
              "['__class__',\n",
              " '__delattr__',\n",
              " '__dict__',\n",
              " '__dir__',\n",
              " '__doc__',\n",
              " '__eq__',\n",
              " '__format__',\n",
              " '__ge__',\n",
              " '__getattribute__',\n",
              " '__gt__',\n",
              " '__hash__',\n",
              " '__init__',\n",
              " '__init_subclass__',\n",
              " '__le__',\n",
              " '__lt__',\n",
              " '__module__',\n",
              " '__ne__',\n",
              " '__new__',\n",
              " '__reduce__',\n",
              " '__reduce_ex__',\n",
              " '__repr__',\n",
              " '__setattr__',\n",
              " '__sizeof__',\n",
              " '__str__',\n",
              " '__subclasshook__',\n",
              " '__weakref__',\n",
              " 'f',\n",
              " 'i']"
            ]
          },
          "execution_count": 8,
          "metadata": {},
          "output_type": "execute_result"
        }
      ],
      "source": [
        "# think of class definition as a template for what we do\n",
        "class MyClass: # typical to name classes with UpperCase\n",
        "    \"\"\"A simple example class\"\"\"\n",
        "    i = 12345 # class variable\n",
        "\n",
        "    def f(self): #this is important! similar to this in other languages object itself\n",
        "        return f'Hello {self.i}'\n",
        "dir(MyClass)"
      ]
    },
    {
      "cell_type": "code",
      "execution_count": null,
      "metadata": {
        "id": "YGTwjfJ6oMaO"
      },
      "outputs": [],
      "source": [
        "# instance object created from our class template (blueprint if you will)\n",
        "myclassinstance = MyClass()\n",
        "# also called object instantiation"
      ]
    },
    {
      "cell_type": "code",
      "execution_count": null,
      "metadata": {
        "id": "dK278Hp2oMaP",
        "outputId": "75720e36-0374-42e5-cf6b-728ad419cb08"
      },
      "outputs": [
        {
          "data": {
            "text/plain": [
              "12345"
            ]
          },
          "execution_count": 10,
          "metadata": {},
          "output_type": "execute_result"
        }
      ],
      "source": [
        "myclassinstance.i"
      ]
    },
    {
      "cell_type": "code",
      "execution_count": null,
      "metadata": {
        "id": "ONv4Qb2RoMaP",
        "outputId": "303437bc-d21b-48d4-e565-0c77fb632f32"
      },
      "outputs": [
        {
          "data": {
            "text/plain": [
              "5555"
            ]
          },
          "execution_count": 5,
          "metadata": {},
          "output_type": "execute_result"
        }
      ],
      "source": [
        "myclassinstance.i = 5555 # we can overwrite our variables\n",
        "# generally it is better to handle variables via our internal methods(functions)\n",
        "myclassinstance.i"
      ]
    },
    {
      "cell_type": "code",
      "execution_count": null,
      "metadata": {
        "id": "GB8iGGPVoMaQ",
        "outputId": "777fdb55-806a-4fa4-848d-a5a8f94809ed"
      },
      "outputs": [
        {
          "data": {
            "text/plain": [
              "'Hello 12345'"
            ]
          },
          "execution_count": 11,
          "metadata": {},
          "output_type": "execute_result"
        }
      ],
      "source": [
        "# methods are functions residing inside our class definition\n",
        "myclassinstance.f() # so we are calling our method\n"
      ]
    },
    {
      "cell_type": "code",
      "execution_count": null,
      "metadata": {
        "id": "WeFASOh8oMaR",
        "outputId": "7033a7e7-1f6f-4605-aac9-29e19141919e"
      },
      "outputs": [
        {
          "data": {
            "text/plain": [
              "(12345, 12345)"
            ]
          },
          "execution_count": 12,
          "metadata": {},
          "output_type": "execute_result"
        }
      ],
      "source": [
        "second_instance = MyClass() # we create a second object out of class istance\n",
        "second_instance.i, myclassinstance.i\n"
      ]
    },
    {
      "cell_type": "code",
      "execution_count": null,
      "metadata": {
        "id": "5RSd5U8AoMaR"
      },
      "outputs": [],
      "source": [
        "# we can keep making these objects from our class"
      ]
    },
    {
      "cell_type": "code",
      "execution_count": null,
      "metadata": {
        "id": "-Y0np4hkoMaS"
      },
      "outputs": [],
      "source": [
        "class Complex: # blueprint for our complex numbers with some methods\n",
        "    # so __init__ is our class constructor\n",
        "    # constructor gets called each time a new object is created\n",
        "    def __init__(self, realpart, imagpart=0, name=\"Default Complex\"):\n",
        "        self.r = realpart\n",
        "        self.i = imagpart\n",
        "        self.name = name\n",
        "    def __str__(self): # __str__ will let us print(ourobject)\n",
        "        return f\"Complex object:{self.name} {self.r}+i*({self.i})\"\n",
        "    # so writing __add__ lets us make syntactic sugar for ease of use\n",
        "    def __add__(self, other): # other being another Complex\n",
        "        newr = self.r + other.r\n",
        "        newi = self.i + other.i\n",
        "#         newname = \" \".join(set(self.name) & set(other.name))\n",
        "        if len(self.name) > len(other.name):\n",
        "            newname = self.name\n",
        "        else:\n",
        "            newname = other.name\n",
        "        return Complex(newr, newi, newname)\n",
        "    # __methodname__ there are quite a few of them\n",
        "    # __init__ is most useful one\n",
        "    def calcDistance(self, mult):\n",
        "        return (self.r**2+self.i**2)**0.5*mult\n",
        "    "
      ]
    },
    {
      "cell_type": "code",
      "execution_count": null,
      "metadata": {
        "id": "8qsg-lYFoMaS",
        "outputId": "9b847515-0e29-4450-ba20-32eb6854b516"
      },
      "outputs": [
        {
          "name": "stdout",
          "output_type": "stream",
          "text": [
            "3.0 -4.5\n",
            "27.041634565979923\n",
            "Complekss\n",
            "Complex object:Complekss 3.0+i*(-4.5)\n"
          ]
        }
      ],
      "source": [
        "# we intialize a class instance x of a Complex Class\n",
        "x = Complex(3.0, -4.5, \"Complekss\")\n",
        "print(x.r, x.i)\n",
        "print(x.calcDistance(5))\n",
        "print(x.name)\n",
        "print(x) # if we make our __str__ method we can make this pretty"
      ]
    },
    {
      "cell_type": "code",
      "execution_count": null,
      "metadata": {
        "id": "gZfnV2VwoMaS",
        "outputId": "b653bcfc-24bc-48d9-c8bd-52be559b802b"
      },
      "outputs": [
        {
          "name": "stdout",
          "output_type": "stream",
          "text": [
            "Complex object:Complekss 2 2.0+i*(10)\n"
          ]
        }
      ],
      "source": [
        "# we intialize a class instance x of a Complex Class\n",
        "y = Complex(2.0, 10, \"Complekss 2\")\n",
        "print(y) "
      ]
    },
    {
      "cell_type": "code",
      "execution_count": null,
      "metadata": {
        "id": "RUqxaYWloMaT",
        "outputId": "f9565151-6662-4fac-e2b9-ccbbf460f1cb"
      },
      "outputs": [
        {
          "name": "stdout",
          "output_type": "stream",
          "text": [
            "Complex object:Complekss 2 5.0+i*(5.5)\n"
          ]
        }
      ],
      "source": [
        "z = x + y # turns out we can write our own __add__ method\n",
        "print(z)"
      ]
    },
    {
      "cell_type": "markdown",
      "metadata": {
        "id": "i2Bun1u3oMaT"
      },
      "source": [
        "## Data Hiding (Abstraction) - Private and Public\n",
        "\n",
        "### From http://www.faqs.org/docs/diveintopython/fileinfo_private.html\n",
        "\n",
        "\n",
        "* If the name of a Python function, class method, or attribute starts with (but doesn’t end with) two underscores, it’s private; everything else is public.\n",
        "\n",
        "* In Python, all special methods (like __setitem__) and built-in attributes (like __doc__) follow a standard naming convention: they both start with and end with two underscores. Don’t name your own methods and attributes this way; it will only confuse you (and others) later.\n",
        "\n",
        "* Python has no concept of protected class methods (accessible only in their own class and descendant classes). Class methods are either private (accessible only in their own class) or public (accessible from anywhere).\n",
        "\n",
        "Strictly speaking, private methods are accessible outside their class, just not easily accessible. Nothing in Python is truly private; internally, the names of private methods and attributes are mangled and unmangled on the fly to make them seem inaccessible by their given names. You can access the __parse method of the MP3FileInfo class by the name _MP3FileInfo__parse. Acknowledge that this is interesting, **then promise to never, ever do it in real code**. \n",
        "\n",
        "Private methods are private for a reason, but like many other things in Python, their privateness is ultimately a matter of convention, not force."
      ]
    },
    {
      "cell_type": "code",
      "execution_count": null,
      "metadata": {
        "id": "AhV8qPraoMaU"
      },
      "outputs": [],
      "source": [
        "class Laundry:\n",
        "    def __init__(self, laundry_items):\n",
        "        self.clean = []\n",
        "        self.__dirty = []\n",
        "        for item in laundry_items:\n",
        "            if item > 9000:\n",
        "                self.__dirty.append(item)\n",
        "            else:\n",
        "                self.clean.append(item)\n",
        "    def showDirty(self):\n",
        "        print(self.__dirty) # so inside still works\n",
        "    def __str__(self):\n",
        "        return f\"Got {len(self.clean)} clean items and {len(self.__dirty)} items\""
      ]
    },
    {
      "cell_type": "code",
      "execution_count": null,
      "metadata": {
        "id": "6vKmJ2s1oMaU"
      },
      "outputs": [],
      "source": [
        "mylaundry = Laundry([3,6,9666,6999,69000,65,2])\n"
      ]
    },
    {
      "cell_type": "code",
      "execution_count": null,
      "metadata": {
        "id": "MUWUTtSdoMaU",
        "outputId": "eaa182b6-865c-41be-edc2-e290e686f55f"
      },
      "outputs": [
        {
          "data": {
            "text/plain": [
              "[3, 6, 6999, 65, 2]"
            ]
          },
          "execution_count": 39,
          "metadata": {},
          "output_type": "execute_result"
        }
      ],
      "source": [
        "mylaundry.clean"
      ]
    },
    {
      "cell_type": "code",
      "execution_count": null,
      "metadata": {
        "id": "ftRLvdPdoMaV",
        "outputId": "e06992d2-d21d-4dae-cf9c-a861bd0ca340"
      },
      "outputs": [
        {
          "ename": "AttributeError",
          "evalue": "'Laundry' object has no attribute '__dirty'",
          "output_type": "error",
          "traceback": [
            "\u001b[1;31m---------------------------------------------------------------------------\u001b[0m",
            "\u001b[1;31mAttributeError\u001b[0m                            Traceback (most recent call last)",
            "\u001b[1;32m<ipython-input-36-c248e9406475>\u001b[0m in \u001b[0;36m<module>\u001b[1;34m\u001b[0m\n\u001b[1;32m----> 1\u001b[1;33m \u001b[0mmylaundry\u001b[0m\u001b[1;33m.\u001b[0m\u001b[0m__dirty\u001b[0m\u001b[1;33m\u001b[0m\u001b[1;33m\u001b[0m\u001b[0m\n\u001b[0m",
            "\u001b[1;31mAttributeError\u001b[0m: 'Laundry' object has no attribute '__dirty'"
          ]
        }
      ],
      "source": [
        "mylaundry.__dirty # so __dirty with __ underscores get hidden, not forgotten!"
      ]
    },
    {
      "cell_type": "code",
      "execution_count": null,
      "metadata": {
        "id": "Gj8GgvGFoMaV",
        "outputId": "65a1f73f-94f8-41e4-bfb0-1759d0ed5582"
      },
      "outputs": [
        {
          "name": "stdout",
          "output_type": "stream",
          "text": [
            "[9666, 69000]\n"
          ]
        }
      ],
      "source": [
        "mylaundry.showDirty() # so accesing private data via methods is idea behind data hiding"
      ]
    },
    {
      "cell_type": "code",
      "execution_count": null,
      "metadata": {
        "id": "4qlTTrPFoMaV"
      },
      "outputs": [],
      "source": [
        "# idea behind inheritance is to use already existing class template\n",
        "# and a few things on top of it as a new template\n",
        "class Jeans(Laundry):\n",
        "    def __init__(self,jean_dirt_list, jean_brand_list):\n",
        "        print(\"Initializing Jeans\")\n",
        "        # first we call our parent Class constructor with super\n",
        "        super().__init__(jean_dirt_list)\n",
        "        self.brands = jean_brand_list\n",
        "    def myTwoFavorites(self):\n",
        "        print(self.brands[:2])\n",
        "        "
      ]
    },
    {
      "cell_type": "code",
      "execution_count": null,
      "metadata": {
        "id": "mpOJAXaboMaW",
        "outputId": "3d4822bd-7303-4ae4-ce6e-22012aa6ce3b"
      },
      "outputs": [
        {
          "name": "stdout",
          "output_type": "stream",
          "text": [
            "Initializing Jeans\n"
          ]
        }
      ],
      "source": [
        "myjeans = Jeans([3,6,7,90000,36666], [\"Lees\", \"Levis\", \"Montana\"])"
      ]
    },
    {
      "cell_type": "code",
      "execution_count": null,
      "metadata": {
        "id": "KV0Q_SEAoMaW",
        "outputId": "3e197061-597a-4f00-83ce-76cccdce1c08"
      },
      "outputs": [
        {
          "name": "stdout",
          "output_type": "stream",
          "text": [
            "Got 3 clean items and 2 items\n"
          ]
        }
      ],
      "source": [
        "print(myjeans) # so jeans object gets access to Laundry methods"
      ]
    },
    {
      "cell_type": "code",
      "execution_count": null,
      "metadata": {
        "id": "fbvEVG-doMaX",
        "outputId": "f900ee52-6553-43f4-a945-82d4e9e8fe0b"
      },
      "outputs": [
        {
          "name": "stdout",
          "output_type": "stream",
          "text": [
            "['Lees', 'Levis']\n"
          ]
        }
      ],
      "source": [
        "myjeans.myTwoFavorites()"
      ]
    },
    {
      "cell_type": "code",
      "execution_count": null,
      "metadata": {
        "id": "IKgBhYSNoMaX",
        "outputId": "c7c7907f-e43b-4c2e-9814-b52f55aac571"
      },
      "outputs": [
        {
          "data": {
            "text/plain": [
              "__main__.Jeans"
            ]
          },
          "execution_count": 59,
          "metadata": {},
          "output_type": "execute_result"
        }
      ],
      "source": [
        "type(myjeans)"
      ]
    },
    {
      "cell_type": "code",
      "execution_count": null,
      "metadata": {
        "id": "dk1w35froMaY",
        "outputId": "7d76313b-68c6-4efc-e911-a34fc745a33a"
      },
      "outputs": [
        {
          "name": "stdout",
          "output_type": "stream",
          "text": [
            "Initializing Jeans\n",
            "Got 1 clean items and 3 items\n"
          ]
        }
      ],
      "source": [
        "friendJeans = Jeans([99999,100000,555455, 56], [\"Camel\",\"Gucci\", \"Labietis\"])\n",
        "print(friendJeans)"
      ]
    },
    {
      "cell_type": "code",
      "execution_count": null,
      "metadata": {
        "id": "uQP88yOKoMaY",
        "outputId": "7a3056a8-0bc3-4a96-c728-0f67f41732f2"
      },
      "outputs": [
        {
          "name": "stdout",
          "output_type": "stream",
          "text": [
            "['Camel', 'Gucci']\n"
          ]
        }
      ],
      "source": [
        "friendJeans.myTwoFavorites()"
      ]
    },
    {
      "cell_type": "code",
      "execution_count": null,
      "metadata": {
        "id": "Vc1mHTk0oMaY",
        "outputId": "9d893a43-30bc-468a-e203-13079f3dee05"
      },
      "outputs": [
        {
          "name": "stdout",
          "output_type": "stream",
          "text": [
            "[99999, 100000, 555455]\n"
          ]
        }
      ],
      "source": [
        "friendJeans.showDirty()"
      ]
    },
    {
      "cell_type": "markdown",
      "metadata": {
        "id": "lQX2tvHpoMaZ"
      },
      "source": [
        "#### Generally speaking, instance variables are for data unique to each instance and class variables are for attributes and methods shared by all instances of the class:"
      ]
    },
    {
      "cell_type": "code",
      "execution_count": null,
      "metadata": {
        "id": "kBcmpNhroMaZ",
        "outputId": "5842d10c-563a-458b-83fb-25b285432cbd"
      },
      "outputs": [
        {
          "name": "stdout",
          "output_type": "stream",
          "text": [
            "canine Fido\n",
            "canine Spot\n"
          ]
        }
      ],
      "source": [
        "class Dog:\n",
        "\n",
        "    kind = 'canine'         # class variable shared by all instances\n",
        "\n",
        "    def __init__(self, name):\n",
        "        self.name = name    # instance variable unique to each instance\n",
        "        self.bigname = \"BIGDOG\"\n",
        "    def __str__(self):\n",
        "        return f\"Specialized print for Doggies, my dog is {self.name}\"\n",
        "d = Dog('Fido')\n",
        "e = Dog('Spot')\n",
        "print(d.kind, d.name)\n",
        "print(e.kind, e.name)"
      ]
    },
    {
      "cell_type": "code",
      "execution_count": null,
      "metadata": {
        "id": "Sg0pOfTSoMaa",
        "outputId": "ef7c6d9e-02e6-41c5-89d3-ff90fe557fdb"
      },
      "outputs": [
        {
          "name": "stdout",
          "output_type": "stream",
          "text": [
            "Specialized print for Doggies, my dog is Spot\n"
          ]
        }
      ],
      "source": [
        "print(e)"
      ]
    },
    {
      "cell_type": "code",
      "execution_count": null,
      "metadata": {
        "id": "PNaaz7l0oMab",
        "outputId": "cd75b34f-9869-49e2-9ee2-065b668b797b"
      },
      "outputs": [
        {
          "data": {
            "text/plain": [
              "('wolf', 'canine')"
            ]
          },
          "execution_count": 11,
          "metadata": {},
          "output_type": "execute_result"
        }
      ],
      "source": [
        "d.kind='wolf'\n",
        "d.kind, e.kind # seems to work right?"
      ]
    },
    {
      "cell_type": "code",
      "execution_count": null,
      "metadata": {
        "id": "reqjWKf8oMab",
        "outputId": "1f074ffe-0f4b-4f18-afb4-e7b69703c49a"
      },
      "outputs": [
        {
          "data": {
            "text/plain": [
              "('wolf', ['superdog', 'hound'])"
            ]
          },
          "execution_count": 12,
          "metadata": {},
          "output_type": "execute_result"
        }
      ],
      "source": [
        "e.kind=['superdog']\n",
        "d.kind, e.kind\n",
        "e.kind+=[\"hound\"]\n",
        "d.kind, e.kind\n",
        "# \"d.\".capitalize"
      ]
    },
    {
      "cell_type": "markdown",
      "metadata": {
        "id": "1btarDiBoMac"
      },
      "source": [
        "As discussed in A Word About Names and Objects, shared data can have possibly surprising effects with involving mutable objects such as lists and dictionaries. For example, the tricks list in the following code should not be used as a class variable because just a single list would be shared by all Dog instances:"
      ]
    },
    {
      "cell_type": "code",
      "execution_count": null,
      "metadata": {
        "id": "awUk1SaIoMac",
        "outputId": "fbd34b65-d50f-483d-8b2b-ed86ad0c8e36"
      },
      "outputs": [
        {
          "name": "stdout",
          "output_type": "stream",
          "text": [
            "['Chase Cats']\n",
            "['roll over']\n"
          ]
        }
      ],
      "source": [
        "class Dog:\n",
        "\n",
        "    #tricks = []             # mistaken use of a class variable\n",
        "\n",
        "    def __init__(self, name):\n",
        "        self.name = name\n",
        "        self.tricks=[]\n",
        "\n",
        "    def add_trick(self, trick):\n",
        "        self.tricks.append(trick)\n",
        "\n",
        "d = Dog('Fido')\n",
        "e = Dog('Buddy')\n",
        "d.add_trick('roll over')\n",
        "e.add_trick('play dead')\n",
        "f = Dog('Dzulis')\n",
        "f.add_trick(\"Chase Cats\")\n",
        "print(f.tricks)\n",
        "print(d.tricks)                # unexpectedly shared by all dogs\n"
      ]
    },
    {
      "cell_type": "code",
      "execution_count": null,
      "metadata": {
        "id": "Bdwflg08oMad",
        "outputId": "00cabd6a-5e86-4666-bb88-fb6fbc20f805"
      },
      "outputs": [
        {
          "data": {
            "text/plain": [
              "'canine'"
            ]
          },
          "execution_count": 13,
          "metadata": {},
          "output_type": "execute_result"
        }
      ],
      "source": [
        "Dog.kind"
      ]
    },
    {
      "cell_type": "code",
      "execution_count": null,
      "metadata": {
        "id": "S2aC5zehoMad",
        "outputId": "3140f7ac-53cc-4865-9ae6-e932b8990701"
      },
      "outputs": [
        {
          "data": {
            "text/plain": [
              "['__class__',\n",
              " '__delattr__',\n",
              " '__dict__',\n",
              " '__dir__',\n",
              " '__doc__',\n",
              " '__eq__',\n",
              " '__format__',\n",
              " '__ge__',\n",
              " '__getattribute__',\n",
              " '__gt__',\n",
              " '__hash__',\n",
              " '__init__',\n",
              " '__init_subclass__',\n",
              " '__le__',\n",
              " '__lt__',\n",
              " '__module__',\n",
              " '__ne__',\n",
              " '__new__',\n",
              " '__reduce__',\n",
              " '__reduce_ex__',\n",
              " '__repr__',\n",
              " '__setattr__',\n",
              " '__sizeof__',\n",
              " '__str__',\n",
              " '__subclasshook__',\n",
              " '__weakref__',\n",
              " 'kind']"
            ]
          },
          "execution_count": 14,
          "metadata": {},
          "output_type": "execute_result"
        }
      ],
      "source": [
        "dir(Dog)"
      ]
    },
    {
      "cell_type": "code",
      "execution_count": null,
      "metadata": {
        "id": "jRjO54QBoMae",
        "outputId": "e7926eae-a13f-4bfb-80fb-5368e751ef65"
      },
      "outputs": [
        {
          "name": "stdout",
          "output_type": "stream",
          "text": [
            "<__main__.Dog object at 0x000001E26713AE10>\n"
          ]
        }
      ],
      "source": [
        "print(d)"
      ]
    },
    {
      "cell_type": "code",
      "execution_count": null,
      "metadata": {
        "id": "Dy9d9XzPoMae",
        "outputId": "838d58e2-c32e-41e6-e7b5-2725ab840f9b"
      },
      "outputs": [
        {
          "data": {
            "text/plain": [
              "<__main__.Dog at 0x1e26713ae10>"
            ]
          },
          "execution_count": 16,
          "metadata": {},
          "output_type": "execute_result"
        }
      ],
      "source": [
        "d"
      ]
    },
    {
      "cell_type": "markdown",
      "metadata": {
        "id": "M7tAvhBQoMaf"
      },
      "source": [
        "Correct design of the class should use an instance variable instead:\n",
        "\n"
      ]
    },
    {
      "cell_type": "code",
      "execution_count": null,
      "metadata": {
        "id": "7kjgpzlFoMaf"
      },
      "outputs": [],
      "source": [
        "class Dog:\n",
        "\n",
        "    def __init__(self, name):\n",
        "        self.name = name\n",
        "        self.tricks = []    # creates a new empty list for each dog\n",
        "    def add_trick(self, trick):\n",
        "        self.tricks.append(trick)\n",
        "    def del_trick(self, trick):\n",
        "        self.tricks.remove(trick)\n",
        "    def update_trick(self, ndx, newtrick):\n",
        "        self.tricks[ndx] = newtrick\n",
        "    def update_tr(self, trk, newtrick):\n",
        "        trk = newtrick\n",
        "# Here we construct the classes and call __init__\n",
        "d = Dog('Fido')\n",
        "e = Dog('Buddy')\n",
        "d.add_trick('roll over')\n",
        "e.add_trick('play dead')\n",
        "d.tricks, e.tricks\n",
        "f = Dog('Bully')\n",
        "f.add_trick('bite')\n",
        "f.add_trick('chew')\n",
        "print(d.tricks,e.tricks,f.tricks)\n",
        "f.del_trick('bite')\n",
        "print(f.tricks)\n"
      ]
    },
    {
      "cell_type": "code",
      "execution_count": null,
      "metadata": {
        "id": "tFb17Go7oMag"
      },
      "outputs": [],
      "source": [
        "d.tricks\n",
        "d.add_trick('play dead')\n",
        "d.tricks"
      ]
    },
    {
      "cell_type": "code",
      "execution_count": null,
      "metadata": {
        "id": "R0cjGuDCoMag"
      },
      "outputs": [],
      "source": [
        "d.update_trick(1, 'rise up')\n",
        "d.tricks"
      ]
    },
    {
      "cell_type": "code",
      "execution_count": null,
      "metadata": {
        "id": "tnJpSepPoMag"
      },
      "outputs": [],
      "source": [
        "d.update_tr(d.tricks[1], \"do nothing\")\n",
        "d.tricks"
      ]
    },
    {
      "cell_type": "code",
      "execution_count": null,
      "metadata": {
        "id": "LGm1xbcUoMah"
      },
      "outputs": [],
      "source": [
        "d.tricks[1]= 'do nothing'\n"
      ]
    },
    {
      "cell_type": "code",
      "execution_count": null,
      "metadata": {
        "id": "MPLd-Hl8oMah"
      },
      "outputs": [],
      "source": [
        "d.tricks"
      ]
    },
    {
      "cell_type": "markdown",
      "metadata": {
        "id": "S45ennu0oMah"
      },
      "source": [
        "## Inheritance"
      ]
    },
    {
      "cell_type": "code",
      "execution_count": null,
      "metadata": {
        "id": "TGU0VfYqoMah"
      },
      "outputs": [],
      "source": [
        "class Pet(object):\n",
        "\n",
        "    def __init__(self, name=\"Generic Animal\", species=\"Alien\"):\n",
        "        self.name = name\n",
        "        self.species = species\n",
        "\n",
        "    def getName(self):\n",
        "        return self.name\n",
        "\n",
        "    def getSpecies(self):\n",
        "        return self.species\n",
        "    \n",
        "    def setSpecies(self, newspecies):\n",
        "        self.species = newspecies\n",
        "\n",
        "    def __str__(self):\n",
        "        return f\"{self.name} is a {self.species}\"\n",
        "    "
      ]
    },
    {
      "cell_type": "markdown",
      "metadata": {
        "id": "y3pqaiCaoMai"
      },
      "source": [
        "The first word, class, indicates that we are creating a class. The second word, Pet, indicates the name of the class. The word in parentheses, object, is the class that Pet is inheriting from. We’ll get more into inheritance below, so for now all you need to know is that object is a special variable in Python that you should include in the parentheses when you are creating a new class."
      ]
    },
    {
      "cell_type": "code",
      "execution_count": null,
      "metadata": {
        "id": "VPpmdOCaoMai",
        "outputId": "3bcf158f-0116-410d-8e61-4f801c6a803f"
      },
      "outputs": [
        {
          "name": "stdout",
          "output_type": "stream",
          "text": [
            "Tom is a Cat\n"
          ]
        }
      ],
      "source": [
        "tom=Pet(\"Tom\", \"Cat\")\n",
        "print(tom) # __str__ is overridden here!"
      ]
    },
    {
      "cell_type": "code",
      "execution_count": null,
      "metadata": {
        "id": "yHa0f7QboMai",
        "outputId": "ee2684b4-08b7-4e7a-a09c-c51e3294e2e0"
      },
      "outputs": [
        {
          "name": "stdout",
          "output_type": "stream",
          "text": [
            "Tom is a tiger\n"
          ]
        }
      ],
      "source": [
        "tom.setSpecies('tiger')\n",
        "print(tom)"
      ]
    },
    {
      "cell_type": "markdown",
      "metadata": {
        "id": "NyHMuGbAoMaj"
      },
      "source": [
        "As mentioned before, we don’t actually have to pass in the self parameter because Python automatically figures it out. To make it a little bit clearer as to what is going on, we can look at two different ways of calling getName. The first way is the standard way of doing it: polly.getName(). The second, while not conventional, is equivalent: Pet.getName(polly)\n"
      ]
    },
    {
      "cell_type": "code",
      "execution_count": null,
      "metadata": {
        "id": "aT-fGV69oMaj",
        "outputId": "d379d5c2-b9a7-45f7-a493-6e2bbe4b1b6c"
      },
      "outputs": [
        {
          "data": {
            "text/plain": [
              "'mouse'"
            ]
          },
          "execution_count": 30,
          "metadata": {},
          "output_type": "execute_result"
        }
      ],
      "source": [
        "jerry=Pet(\"Jerry\", \"mouse\")\n",
        "jerry.getSpecies()"
      ]
    },
    {
      "cell_type": "code",
      "execution_count": null,
      "metadata": {
        "id": "asoqvQ79oMaj",
        "outputId": "0b8c2804-80e1-4d9e-fb1d-1861db584c68"
      },
      "outputs": [
        {
          "data": {
            "text/plain": [
              "'mouse'"
            ]
          },
          "execution_count": 31,
          "metadata": {},
          "output_type": "execute_result"
        }
      ],
      "source": [
        "Pet.getSpecies(jerry)"
      ]
    },
    {
      "cell_type": "code",
      "execution_count": null,
      "metadata": {
        "id": "bmjqdET1oMak"
      },
      "outputs": [],
      "source": [
        "jerry."
      ]
    },
    {
      "cell_type": "markdown",
      "metadata": {
        "id": "HIr8bldEoMak"
      },
      "source": [
        "### Inheritance"
      ]
    },
    {
      "cell_type": "code",
      "execution_count": null,
      "metadata": {
        "id": "CMYWIstnoMak"
      },
      "outputs": [],
      "source": [
        "class Cat(Pet):\n",
        "\n",
        "    def __init__(self, name, hates_dogs):\n",
        "        Pet.__init__(self, name, \"Cat\")\n",
        "        self.hates_dogs = hates_dogs\n",
        "\n",
        "    def hatesDogs(self):\n",
        "        return self.hates_dogs\n"
      ]
    },
    {
      "cell_type": "code",
      "execution_count": null,
      "metadata": {
        "id": "0Km_xpQ2oMan",
        "outputId": "d8777035-2a73-4404-9ca3-c7fb590b77f2"
      },
      "outputs": [
        {
          "name": "stdout",
          "output_type": "stream",
          "text": [
            "Tom is a Cat\n",
            "True\n"
          ]
        },
        {
          "data": {
            "text/plain": [
              "['__class__',\n",
              " '__delattr__',\n",
              " '__dict__',\n",
              " '__dir__',\n",
              " '__doc__',\n",
              " '__eq__',\n",
              " '__format__',\n",
              " '__ge__',\n",
              " '__getattribute__',\n",
              " '__gt__',\n",
              " '__hash__',\n",
              " '__init__',\n",
              " '__init_subclass__',\n",
              " '__le__',\n",
              " '__lt__',\n",
              " '__module__',\n",
              " '__ne__',\n",
              " '__new__',\n",
              " '__reduce__',\n",
              " '__reduce_ex__',\n",
              " '__repr__',\n",
              " '__setattr__',\n",
              " '__sizeof__',\n",
              " '__str__',\n",
              " '__subclasshook__',\n",
              " '__weakref__',\n",
              " 'getName',\n",
              " 'getSpecies',\n",
              " 'hatesDogs',\n",
              " 'hates_dogs',\n",
              " 'name',\n",
              " 'setSpecies',\n",
              " 'species']"
            ]
          },
          "execution_count": 33,
          "metadata": {},
          "output_type": "execute_result"
        }
      ],
      "source": [
        "tom=Cat(\"Tom\",True)\n",
        "print(tom) # uses __str__ from Pet!\n",
        "print(tom.hatesDogs())\n",
        "dir(tom)"
      ]
    },
    {
      "cell_type": "markdown",
      "metadata": {
        "id": "t-xZnzk2oMao"
      },
      "source": [
        "## Is Instance of particular class"
      ]
    },
    {
      "cell_type": "code",
      "execution_count": null,
      "metadata": {
        "id": "58TVbu3QoMao",
        "outputId": "d5a44955-3128-43a6-940f-eb592e5d634e"
      },
      "outputs": [
        {
          "data": {
            "text/plain": [
              "True"
            ]
          },
          "execution_count": 34,
          "metadata": {},
          "output_type": "execute_result"
        }
      ],
      "source": [
        "isinstance(tom, Cat)"
      ]
    },
    {
      "cell_type": "code",
      "execution_count": null,
      "metadata": {
        "id": "95dCnxFYoMao",
        "outputId": "1125eb5f-d813-49c2-cd66-8ae12c2be891"
      },
      "outputs": [
        {
          "data": {
            "text/plain": [
              "True"
            ]
          },
          "execution_count": 35,
          "metadata": {},
          "output_type": "execute_result"
        }
      ],
      "source": [
        "isinstance(tom, Pet)"
      ]
    },
    {
      "cell_type": "code",
      "execution_count": null,
      "metadata": {
        "id": "U5kxS6bAoMao",
        "outputId": "ec252e7b-d4fa-4b3b-ae0d-140c128dc277"
      },
      "outputs": [
        {
          "data": {
            "text/plain": [
              "False"
            ]
          },
          "execution_count": 36,
          "metadata": {},
          "output_type": "execute_result"
        }
      ],
      "source": [
        "isinstance(tom, Dog)"
      ]
    },
    {
      "cell_type": "code",
      "execution_count": null,
      "metadata": {
        "id": "nFBN1l1EoMap"
      },
      "outputs": [],
      "source": [
        "# Function defined outside the class\n",
        "def f1(self, x, y):\n",
        "    return min(x, x+y)\n",
        "\n",
        "class C:\n",
        "    f = f1\n",
        "\n",
        "    def g(self):\n",
        "        return 'hello world'\n",
        "    h = g\n",
        "myc=C()\n",
        "print(f1(None,6, 7))\n",
        "print(myc.f(5,99))\n",
        "print(myc.g())\n",
        "print(myc.h())"
      ]
    },
    {
      "cell_type": "markdown",
      "metadata": {
        "id": "VIEqeDqjoMap"
      },
      "source": [
        "Now f, g and h are all attributes of class C that refer to function objects, and consequently they are all methods of instances of C — h being exactly equivalent to g. Note that this practice usually only serves to confuse the reader of a program."
      ]
    },
    {
      "cell_type": "markdown",
      "metadata": {
        "id": "847W8OM4oMap"
      },
      "source": [
        "Methods may call other methods by using method attributes of the self argument:"
      ]
    },
    {
      "cell_type": "code",
      "execution_count": null,
      "metadata": {
        "id": "61ZNk2RtoMap"
      },
      "outputs": [],
      "source": [
        "class Bag:\n",
        "    def __init__(self):\n",
        "        self.data = []\n",
        "\n",
        "    def add(self, x):\n",
        "        self.data.append(x)\n",
        "\n",
        "    def addtwice(self, x):\n",
        "        self.add(x)\n",
        "        self.add(x)"
      ]
    },
    {
      "cell_type": "code",
      "execution_count": null,
      "metadata": {
        "id": "TavBnChLoMap"
      },
      "outputs": [],
      "source": [
        "b = Bag()"
      ]
    },
    {
      "cell_type": "code",
      "execution_count": null,
      "metadata": {
        "id": "cV4yRrAXoMap"
      },
      "outputs": [],
      "source": [
        "b.add('first')"
      ]
    },
    {
      "cell_type": "code",
      "execution_count": null,
      "metadata": {
        "id": "-dZ4ig-ioMaq"
      },
      "outputs": [],
      "source": [
        "b.addtwice(42)"
      ]
    },
    {
      "cell_type": "code",
      "execution_count": null,
      "metadata": {
        "id": "Wt-5ecjDoMaq"
      },
      "outputs": [],
      "source": [
        "b.data"
      ]
    },
    {
      "cell_type": "code",
      "execution_count": null,
      "metadata": {
        "id": "p3dYjUw-oMaq"
      },
      "outputs": [],
      "source": [
        "#An example of a class\n",
        "class Shape:\n",
        "\n",
        "    def __init__(self, x, y, description=\"No description\", author=\"Nobody\"):\n",
        "        self.x = x\n",
        "        self.y = y\n",
        "        self.description = description\n",
        "        self.author = author\n",
        "\n",
        "    def area(self):\n",
        "        return self.x * self.y\n",
        "\n",
        "    def perimeter(self):\n",
        "        return 2 * self.x + 2 * self.y\n",
        "\n",
        "    def describe(self, text):\n",
        "        self.description = text\n",
        "\n",
        "    def authorName(self, text):\n",
        "        self.author = text\n",
        "\n",
        "    def scaleSize(self, scale):\n",
        "        self.x = self.x * scale\n",
        "        self.y = self.y * scale"
      ]
    },
    {
      "cell_type": "code",
      "execution_count": null,
      "metadata": {
        "id": "pDPyavCRoMaq"
      },
      "outputs": [],
      "source": [
        "class Rectangle(Shape):\n",
        "    def __init__(self, x, y, color=\"Red\"):\n",
        "        Shape.__init__(self, x, y, \"Rectangle\")\n",
        "        self.color=color\n",
        "    def __str__(self):\n",
        "        return (f\"Shape color: {self.color} type: {self.description} made by {self.author} x:{self.x} y:{self.y}\")"
      ]
    },
    {
      "cell_type": "code",
      "execution_count": null,
      "metadata": {
        "id": "_tIncu6GoMaq"
      },
      "outputs": [],
      "source": [
        "rect=Rectangle(5,6)\n",
        "print(rect)\n",
        "print(rect.area(), rect.perimeter())"
      ]
    },
    {
      "cell_type": "code",
      "execution_count": null,
      "metadata": {
        "id": "mS2_tvU5oMaq"
      },
      "outputs": [],
      "source": [
        "rectangle=rect\n",
        "#finding the area of your rectangle:\n",
        "print(rectangle.area())\n",
        "\n",
        "#finding the perimeter of your rectangle:\n",
        "print(rectangle.perimeter())\n",
        "\n",
        "#describing the rectangle\n",
        "rectangle.describe(\"A wide rectangle, more than twice\\\n",
        " as wide as it is tall\")\n",
        "\n",
        "#making the rectangle 50% smaller\n",
        "rectangle.scaleSize(0.5)\n",
        "\n",
        "#re-printing the new area of the rectangle\n",
        "print(rectangle.area())"
      ]
    },
    {
      "cell_type": "markdown",
      "metadata": {
        "id": "mPtBtpLioMaq"
      },
      "source": [
        "### We aren't limited to a single instance of a class - we could have as many instances as we like."
      ]
    },
    {
      "cell_type": "code",
      "execution_count": null,
      "metadata": {
        "id": "9Pb2MDtKoMar"
      },
      "outputs": [],
      "source": [
        "long_rectangle = Rectangle(120,10)\n",
        "fat_rectangle = Rectangle(130,120)\n",
        "print(long_rectangle)"
      ]
    },
    {
      "cell_type": "code",
      "execution_count": null,
      "metadata": {
        "id": "mxqNxyqQoMar"
      },
      "outputs": [],
      "source": [
        "## More about self"
      ]
    },
    {
      "cell_type": "code",
      "execution_count": null,
      "metadata": {
        "id": "IjcivPDRoMar"
      },
      "outputs": [],
      "source": [
        "class Restaurant(object):\n",
        "    def __init__(self):\n",
        "        self.bankrupt = False\n",
        "\n",
        "    def open_branch(self):\n",
        "        if not self.bankrupt:\n",
        "            print(\"branch opened\")\n",
        "        else:\n",
        "            print(\"Bankrupt Businesses do not open branches!\")\n",
        "x = Restaurant()\n",
        "y = Restaurant()\n",
        "print(x.bankrupt,y.bankrupt)\n",
        "y.bankrupt=True\n",
        "x.open_branch()\n",
        "y.open_branch()"
      ]
    },
    {
      "cell_type": "markdown",
      "metadata": {
        "id": "4uFpQa5coMar"
      },
      "source": [
        "The first argument of every class method, including init, is always a reference to the current instance of the class. By convention, this argument is always named self. In the init method, self refers to the newly created object; in other class methods, it refers to the instance whose method was called."
      ]
    },
    {
      "cell_type": "markdown",
      "metadata": {
        "id": "76yOE5awoMar"
      },
      "source": [
        "## We could use a different name such as this instead of self, but convention is strong here, so use self!"
      ]
    },
    {
      "cell_type": "markdown",
      "metadata": {
        "id": "7YOxWWQgoMar"
      },
      "source": [
        "Sometimes it is useful to have a data type similar to the Pascal “record” or C “struct”, bundling together a few named data items. An empty class definition will do nicely:"
      ]
    },
    {
      "cell_type": "code",
      "execution_count": null,
      "metadata": {
        "id": "bAXF-5ItoMar"
      },
      "outputs": [],
      "source": [
        "class Employee:\n",
        "    def __init__(self, name, dept, salary=100000):\n",
        "        self.name = name\n",
        "        self.dept = dept\n",
        "        self.salary = salary\n",
        "    def __str__(self):\n",
        "        return f'Employee: {self.name}, dept: {self.dept}, salary: {self.salary}'\n",
        "\n",
        "john = Employee('John', 'Engineering')\n",
        "print(john)\n",
        "# Fill the fields of the record\n",
        "john.name = 'John Doe'\n",
        "john.dept = 'computer lab'\n",
        "john.salary = 1000\n",
        "print(john)"
      ]
    },
    {
      "cell_type": "code",
      "execution_count": null,
      "metadata": {
        "id": "VenJ1fAdoMas"
      },
      "outputs": [],
      "source": [
        "peter = {\"name\" : 'peter', 'dept' = 'computer lab'}\n",
        "peter"
      ]
    },
    {
      "cell_type": "code",
      "execution_count": null,
      "metadata": {
        "id": "ZLvnMBAxoMas"
      },
      "outputs": [],
      "source": [
        "class Customer(object):\n",
        "    \"\"\"A customer of ABC Bank with a checking account. Customers have the\n",
        "    following properties:\n",
        "\n",
        "    Attributes:\n",
        "        name: A string representing the customer's name.\n",
        "        balance: A float tracking the current balance of the customer's account.\n",
        "    \"\"\"\n",
        "\n",
        "    def __init__(self, name, balance=0.0):\n",
        "        \"\"\"Return a Customer object whose name is *name* and starting\n",
        "        balance is *balance*.\"\"\"\n",
        "        self.name = name\n",
        "        self.balance = balance\n",
        "\n",
        "    def withdraw(self, amount):\n",
        "        \"\"\"Return the balance remaining after withdrawing *amount*\n",
        "        dollars.\"\"\"\n",
        "        if amount > self.balance:\n",
        "            raise RuntimeError('Amount greater than available balance.')\n",
        "        self.balance -= amount\n",
        "        return self.balance\n",
        "\n",
        "    def deposit(self, amount):\n",
        "        \"\"\"Return the balance remaining after depositing *amount*\n",
        "        dollars.\"\"\"\n",
        "        self.balance += amount\n",
        "        return self.balance"
      ]
    },
    {
      "cell_type": "code",
      "execution_count": null,
      "metadata": {
        "id": "YZfXw3E-oMas"
      },
      "outputs": [],
      "source": [
        "vs = Customer(\"Valdis\", balance=333)\n",
        "print(vs.balance)\n",
        "vs.withdraw(300)\n",
        "print(vs.balance)\n",
        "vs.withdraw(40)"
      ]
    },
    {
      "cell_type": "code",
      "execution_count": null,
      "metadata": {
        "id": "-SMnHWnroMas"
      },
      "outputs": [],
      "source": [
        "## Extra: Adding Iterators to your own classes\n",
        "\n",
        "https://docs.python.org/3/tutorial/classes.html#iterators"
      ]
    },
    {
      "cell_type": "markdown",
      "metadata": {
        "id": "7WhjuNF0oMas"
      },
      "source": [
        "It is easy to add iterator behavior to your classes. Define an __iter__() method which returns an object with a __next__() method. If the class defines __next__(), then __iter__() can just return self:"
      ]
    },
    {
      "cell_type": "code",
      "execution_count": null,
      "metadata": {
        "id": "aSDldqLBoMat"
      },
      "outputs": [],
      "source": [
        "class Reverse:\n",
        "    \"\"\"Iterator for looping over a sequence backwards.\"\"\"\n",
        "    def __init__(self, data):\n",
        "        self.data = data\n",
        "        self.index = len(data)\n",
        "\n",
        "    def __iter__(self):\n",
        "        return self\n",
        "\n",
        "    def __next__(self):\n",
        "        if self.index == 0:\n",
        "            raise StopIteration\n",
        "        self.index = self.index - 1\n",
        "        return self.data[self.index]"
      ]
    },
    {
      "cell_type": "markdown",
      "metadata": {
        "id": "tWomT_xXoMat"
      },
      "source": [
        "###  Discussion for another day on Generators"
      ]
    },
    {
      "cell_type": "markdown",
      "metadata": {
        "id": "aa6UndPCoMat"
      },
      "source": [
        "Generators are a simple and powerful tool for creating iterators. They are written like regular functions but use the yield statement whenever they want to return data. Each time next() is called on it, the generator resumes where it left off (it remembers all the data values and which statement was last executed). An example shows that generators can be trivially easy to create:"
      ]
    },
    {
      "cell_type": "code",
      "execution_count": null,
      "metadata": {
        "id": "6-MwUqBqoMat"
      },
      "outputs": [],
      "source": [
        "def reverse(data):\n",
        "    for index in range(len(data)-1, -1, -1):\n",
        "        yield data[index]\n",
        "for char in reverse('golf'):\n",
        "    print(char)"
      ]
    },
    {
      "cell_type": "code",
      "execution_count": null,
      "metadata": {
        "id": "lluH5ThQoMat"
      },
      "outputs": [],
      "source": [
        "## Home rewrite Employee function using dictionary\n",
        "## Correct predefined functions (replace pass with instructions)\n",
        "## Use dictionary to update and retrieve records from employee\n",
        "## create two employees:\n",
        "## John with name \"John\" and salary 100000\n",
        "## Peter with name \"Peter\" and salary 80000\n",
        "\n",
        "\n",
        "class Employee:\n",
        "    \n",
        "    def __init__(self, name, dept, salary=100000):\n",
        "        self.edict={}\n",
        "        \n",
        "    def __str__(self):\n",
        "        return f'Employee: {self.name}, dept: {self.dept}, salary: {self.salary}'\n",
        "    def updateName():\n",
        "        pass\n",
        "    def updateSalary():\n",
        "        pass\n",
        "    def getName():\n",
        "        pass\n",
        "    def getSalary():\n",
        "        pass\n",
        "\n",
        "\n"
      ]
    },
    {
      "cell_type": "markdown",
      "metadata": {
        "id": "r-MXREd8oMat"
      },
      "source": [
        "## Microsoft Azure \n",
        "### Interactive coding in your browser\n",
        "https://notebooks.azure.com/"
      ]
    },
    {
      "cell_type": "code",
      "execution_count": null,
      "metadata": {
        "id": "gjtLb2tIoMat",
        "outputId": "bb31d1e6-9144-4814-c2b0-952c844fe173"
      },
      "outputs": [
        {
          "name": "stdout",
          "output_type": "stream",
          "text": [
            "Overwriting Calc.py\n"
          ]
        }
      ],
      "source": [
        "%%writefile Calc.py\n",
        "class Calc():\n",
        "    def __init__(self,a=5,b=12):\n",
        "        self.x = a\n",
        "        self.y = b\n",
        "        self._secret = a*b\n",
        "    def add(self):\n",
        "        return self.x+self.y\n",
        "    def add2(self):\n",
        "        sum = self.add() + 10\n",
        "        return sum\n",
        "    def mult(self,c=20):\n",
        "        return self.x*self.y*c\n",
        "    def __str__(self):\n",
        "        return f'Our a is {self.x} and our b is {self.y}'\n",
        "    "
      ]
    },
    {
      "cell_type": "code",
      "execution_count": null,
      "metadata": {
        "id": "mMp9huGWoMau",
        "outputId": "9f18bd8a-c595-4ef1-cab1-dd554939c880"
      },
      "outputs": [
        {
          "name": "stdout",
          "output_type": "stream",
          "text": [
            "Our a is 5 and our b is 12\n"
          ]
        }
      ],
      "source": [
        "newc = Calc()\n",
        "print(newc)"
      ]
    },
    {
      "cell_type": "code",
      "execution_count": null,
      "metadata": {
        "id": "84Vmt6fnoMau",
        "outputId": "9c2b5904-39c2-4333-a9d0-e32b9e4f667b"
      },
      "outputs": [
        {
          "name": "stdout",
          "output_type": "stream",
          "text": [
            "Our a is 3 and our b is 12\n"
          ]
        }
      ],
      "source": [
        "secondc = Calc(3)\n",
        "print(secondc)"
      ]
    },
    {
      "cell_type": "code",
      "execution_count": null,
      "metadata": {
        "id": "KwS8aiMDoMau",
        "outputId": "9c68ea55-2cfd-435d-aa43-1113a5ca140f"
      },
      "outputs": [
        {
          "data": {
            "text/plain": [
              "17"
            ]
          },
          "execution_count": 42,
          "metadata": {},
          "output_type": "execute_result"
        }
      ],
      "source": [
        "newc.add()"
      ]
    },
    {
      "cell_type": "code",
      "execution_count": null,
      "metadata": {
        "id": "XrmTd7BfoMau",
        "outputId": "fae4a8a7-e548-4f01-9d81-920eea5de02d"
      },
      "outputs": [
        {
          "data": {
            "text/plain": [
              "1200"
            ]
          },
          "execution_count": 43,
          "metadata": {},
          "output_type": "execute_result"
        }
      ],
      "source": [
        "newc.mult()"
      ]
    },
    {
      "cell_type": "code",
      "execution_count": null,
      "metadata": {
        "id": "TXwWILBOoMau",
        "outputId": "e80721b8-b687-4d67-bbc4-9d26f70b2261"
      },
      "outputs": [
        {
          "data": {
            "text/plain": [
              "512"
            ]
          },
          "execution_count": 44,
          "metadata": {},
          "output_type": "execute_result"
        }
      ],
      "source": [
        "newc.x = 500\n",
        "newc.add()"
      ]
    },
    {
      "cell_type": "code",
      "execution_count": null,
      "metadata": {
        "id": "thp-OmIMoMau"
      },
      "outputs": [],
      "source": [
        ""
      ]
    }
  ],
  "metadata": {
    "kernelspec": {
      "display_name": "Python 3",
      "language": "python",
      "name": "python3"
    },
    "language_info": {
      "codemirror_mode": {
        "name": "ipython",
        "version": 3
      },
      "file_extension": ".py",
      "mimetype": "text/x-python",
      "name": "python",
      "nbconvert_exporter": "python",
      "pygments_lexer": "ipython3",
      "version": "3.8.3"
    },
    "colab": {
      "name": "Python Classes.ipynb",
      "provenance": []
    }
  },
  "nbformat": 4,
  "nbformat_minor": 0
}