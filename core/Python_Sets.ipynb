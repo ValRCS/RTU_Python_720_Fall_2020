{
 "cells": [
  {
   "cell_type": "markdown",
   "metadata": {
    "id": "lZN5cV4oVcGK"
   },
   "source": [
    "# Sets\n"
   ]
  },
  {
   "cell_type": "markdown",
   "metadata": {
    "id": "sYY_8BPdVcGN"
   },
   "source": [
    "## Sets\n",
    "\n",
    "* unordered collections of unique elements\n",
    "* uniques only - great for getting unique items out of some collection\n",
    "* curly braces {3, 6, 7}"
   ]
  },
  {
   "cell_type": "markdown",
   "metadata": {
    "id": "MiVEm7VqV6AZ"
   },
   "source": [
    "![Set](https://upload.wikimedia.org/wikipedia/commons/thumb/6/6d/Venn_A_intersect_B.svg/440px-Venn_A_intersect_B.svg.png)\n",
    "\n",
    "https://en.wikipedia.org/wiki/Set_theory"
   ]
  },
  {
   "cell_type": "code",
   "execution_count": null,
   "metadata": {
    "id": "OM-mo_FLV_aa"
   },
   "outputs": [],
   "source": [
    "#"
   ]
  },
  {
   "cell_type": "markdown",
   "metadata": {},
   "source": [
    "## Creating a set\n",
    "\n",
    "```python"
   ]
  },
  {
   "cell_type": "code",
   "execution_count": 1,
   "metadata": {
    "colab": {
     "base_uri": "https://localhost:8080/"
    },
    "id": "iiVY0V6FVcGN",
    "outputId": "dc8bd4f9-4cbf-4408-a05c-56964ca228d0"
   },
   "outputs": [
    {
     "name": "stdout",
     "output_type": "stream",
     "text": [
      "{1, 3, 6, 7}\n"
     ]
    }
   ],
   "source": [
    "s = {3,3,6,1,3,6,7} # so curly braces are also used for a set not only a dictionary\n",
    "print(s)"
   ]
  },
  {
   "cell_type": "code",
   "execution_count": 2,
   "metadata": {
    "colab": {
     "base_uri": "https://localhost:8080/"
    },
    "id": "0315_bNRVcGP",
    "outputId": "1f8f0b2f-1e49-424a-97af-ea844660d986"
   },
   "outputs": [
    {
     "data": {
      "text/plain": [
       "{1, 3, 6, 7}"
      ]
     },
     "execution_count": 2,
     "metadata": {},
     "output_type": "execute_result"
    }
   ],
   "source": [
    "nset = set((3,3,6,1,3,6,7)) # alternative is to use set which takes an iterable\n",
    "nset"
   ]
  },
  {
   "cell_type": "code",
   "execution_count": 3,
   "metadata": {
    "colab": {
     "base_uri": "https://localhost:8080/"
    },
    "id": "bWe_nabIVcGQ",
    "outputId": "b4067ec5-5c6b-4e6c-ae05-db0bf7ce9b83"
   },
   "outputs": [
    {
     "data": {
      "text/plain": [
       "{1, 2, 6, 7}"
      ]
     },
     "execution_count": 3,
     "metadata": {},
     "output_type": "execute_result"
    }
   ],
   "source": [
    "num_set = set([1,2,6,2,7,2,1]) # could pass a list\n",
    "num_set"
   ]
  },
  {
   "cell_type": "code",
   "execution_count": 7,
   "metadata": {
    "colab": {
     "base_uri": "https://localhost:8080/"
    },
    "id": "QoD88L3NVcGQ",
    "outputId": "3bd44ebf-a594-4e70-d92e-06ed4976f2ed"
   },
   "outputs": [
    {
     "data": {
      "text/plain": [
       "{' ', 'a', 'i', 'k', 'l', 'm', 'n', 'p', 's', 'u', 'ē', 'ķ', 'ļ'}"
      ]
     },
     "execution_count": 7,
     "metadata": {},
     "output_type": "execute_result"
    }
   ],
   "source": [
    "a = set(\"ķiļķēni un klimpas\") # takes a sequence so string qualifies\n",
    "a"
   ]
  },
  {
   "cell_type": "code",
   "execution_count": 11,
   "metadata": {
    "colab": {
     "base_uri": "https://localhost:8080/"
    },
    "id": "joRnjm_dVcGR",
    "outputId": "ccd54f2c-b3fc-44a9-eb32-842e94fe5bfe"
   },
   "outputs": [
    {
     "data": {
      "text/plain": [
       "{1, 12, 2, 56, 7, 'abba', 'abracadbra', 'dubba'}"
      ]
     },
     "execution_count": 11,
     "metadata": {},
     "output_type": "execute_result"
    }
   ],
   "source": [
    "# we can pass different types of elements\n",
    "b = {\"abracadbra\",\"abba\", \"dubba\", \"abba\",56,7,2,12,2,2,1,1}\n",
    "b"
   ]
  },
  {
   "cell_type": "code",
   "execution_count": 12,
   "metadata": {
    "colab": {
     "base_uri": "https://localhost:8080/"
    },
    "id": "3zcLBgL2VcGS",
    "outputId": "f6b80759-779b-4b16-be54-219bddf2c5c2"
   },
   "outputs": [
    {
     "data": {
      "text/plain": [
       "{'abba', 'abracadbra', 'dubba'}"
      ]
     },
     "execution_count": 12,
     "metadata": {},
     "output_type": "execute_result"
    }
   ],
   "source": [
    "bset = set([\"abracadbra\",\"abba\", \"dubba\", \"abba\"])\n",
    "bset"
   ]
  },
  {
   "cell_type": "code",
   "execution_count": null,
   "metadata": {
    "colab": {
     "base_uri": "https://localhost:8080/"
    },
    "id": "gb9RE79YVcGS",
    "outputId": "9ce780c9-6a09-4457-9105-cb341b1b0e73"
   },
   "outputs": [
    {
     "data": {
      "text/plain": [
       "{'a', 'b', 'c', 'd', 'r'}"
      ]
     },
     "execution_count": 14,
     "metadata": {},
     "output_type": "execute_result"
    }
   ],
   "source": [
    "aset = set(\"abracadbra\") # compare with next set which is a list\n",
    "aset"
   ]
  },
  {
   "cell_type": "code",
   "execution_count": null,
   "metadata": {
    "colab": {
     "base_uri": "https://localhost:8080/"
    },
    "id": "NFLe5akfXeGZ",
    "outputId": "6bdb1e2f-3138-4d4d-988a-58bb3a7c241a"
   },
   "outputs": [
    {
     "data": {
      "text/plain": [
       "{'abracadbra'}"
      ]
     },
     "execution_count": 15,
     "metadata": {},
     "output_type": "execute_result"
    }
   ],
   "source": [
    "set([\"abracadbra\"])  # compare with previous I gave list of one string which is in fact unique"
   ]
  },
  {
   "cell_type": "markdown",
   "metadata": {},
   "source": [
    "## Python sets - NOT ordered!\n",
    "\n",
    "Python sets do not have a specific order. You cannot access items in a set by referring to an index, since sets are unordered the items has no index."
   ]
  },
  {
   "cell_type": "code",
   "execution_count": null,
   "metadata": {
    "colab": {
     "base_uri": "https://localhost:8080/"
    },
    "id": "tqRRYR3UVcGT",
    "outputId": "f452ed31-ee3c-4337-9b46-175ddd29d0be"
   },
   "outputs": [
    {
     "name": "stdout",
     "output_type": "stream",
     "text": [
      "d\n",
      "c\n",
      "r\n",
      "a\n",
      "b\n"
     ]
    }
   ],
   "source": [
    "# we can loop through a set\n",
    "for c in aset: # notice no guarantee on order\n",
    "    print(c)"
   ]
  },
  {
   "cell_type": "markdown",
   "metadata": {},
   "source": [
    "## Membership testing in sets - very fast! O(1)"
   ]
  },
  {
   "cell_type": "code",
   "execution_count": 18,
   "metadata": {
    "colab": {
     "base_uri": "https://localhost:8080/"
    },
    "id": "J8ec67MhVcGT",
    "outputId": "4a006d64-c9a7-4841-a6d8-2d1ca0d1b21b"
   },
   "outputs": [
    {
     "data": {
      "text/plain": [
       "(True, True, False)"
      ]
     },
     "execution_count": 18,
     "metadata": {},
     "output_type": "execute_result"
    }
   ],
   "source": [
    "# this lookup (membership testing) is very quick even for large sets\n",
    "# In computer science terms this is O(1) lookup, so constant time even with millions of elements\n",
    "# much faster than in a list\n",
    "'a' in aset, 'b' in aset, 'f' in aset "
   ]
  },
  {
   "cell_type": "code",
   "execution_count": 20,
   "metadata": {
    "colab": {
     "base_uri": "https://localhost:8080/"
    },
    "id": "W9Ho_YRSVcGU",
    "outputId": "a2852d34-ddf0-413f-8703-1923a8eb6b88"
   },
   "outputs": [
    {
     "data": {
      "text/plain": [
       "['a', 'b', 'c', 'd', 'r']"
      ]
     },
     "execution_count": 20,
     "metadata": {},
     "output_type": "execute_result"
    }
   ],
   "source": [
    "# if you need sorted list from a set\n",
    "# then use sorted function which returns a list\n",
    "mylist = sorted(aset) # sorted gives you a list\n",
    "mylist"
   ]
  },
  {
   "cell_type": "code",
   "execution_count": 21,
   "metadata": {
    "colab": {
     "base_uri": "https://localhost:8080/"
    },
    "id": "lRbMAautVcGU",
    "outputId": "80f25c8f-f07c-46a4-dc6c-8d059a0591e4"
   },
   "outputs": [
    {
     "data": {
      "text/plain": [
       "(True, True, False)"
      ]
     },
     "execution_count": 21,
     "metadata": {},
     "output_type": "execute_result"
    }
   ],
   "source": [
    "# list lookup is linear so much slower for large data list > 10_000 and so on\n",
    "'a' in mylist, 'b' in mylist, 'f' in mylist \n"
   ]
  },
  {
   "cell_type": "code",
   "execution_count": 22,
   "metadata": {
    "colab": {
     "base_uri": "https://localhost:8080/"
    },
    "id": "6feX67vGVcGU",
    "outputId": "1d65ce96-2265-449f-9491-d1f611984439"
   },
   "outputs": [
    {
     "data": {
      "text/plain": [
       "(set, set)"
      ]
     },
     "execution_count": 22,
     "metadata": {},
     "output_type": "execute_result"
    }
   ],
   "source": [
    "type(s), type(aset)"
   ]
  },
  {
   "cell_type": "code",
   "execution_count": null,
   "metadata": {
    "id": "-2vUdwYGVcGV",
    "outputId": "a5218d5f-52ec-40a7-8009-4454eec7e7de"
   },
   "outputs": [
    {
     "data": {
      "text/plain": [
       "{' ', 'a', 'i', 'k', 'l', 'm', 'n', 'p', 's', 'u', 'ē', 'ķ', 'ļ'}"
      ]
     },
     "execution_count": 14,
     "metadata": {},
     "output_type": "execute_result"
    }
   ],
   "source": [
    "a"
   ]
  },
  {
   "cell_type": "code",
   "execution_count": 28,
   "metadata": {
    "colab": {
     "base_uri": "https://localhost:8080/"
    },
    "id": "uwVloWJhVcGV",
    "outputId": "d6991cf8-e2ea-479e-d4e9-c89dd53d6f24"
   },
   "outputs": [
    {
     "data": {
      "text/plain": [
       "['p', 'ē', 'u', 's', 'l', 'k', 'n', 'ķ', ' ', 'a', 'ļ', 'i', 'm']"
      ]
     },
     "execution_count": 28,
     "metadata": {},
     "output_type": "execute_result"
    }
   ],
   "source": [
    "myletters = list(a)\n",
    "myletters"
   ]
  },
  {
   "cell_type": "code",
   "execution_count": 29,
   "metadata": {
    "colab": {
     "base_uri": "https://localhost:8080/",
     "height": 35
    },
    "id": "ajwE3_MDVcGV",
    "outputId": "88b73c48-63c5-40d7-93fe-d89f052fb549"
   },
   "outputs": [
    {
     "data": {
      "text/plain": [
       "' |a|i|k|l|m|n|p|s|u|ē|ķ|ļ'"
      ]
     },
     "execution_count": 29,
     "metadata": {},
     "output_type": "execute_result"
    }
   ],
   "source": [
    "\"|\".join(sorted(a)) # you can join with any character even blank space\n",
    "# notice that sorting is using Unicode chr values so Latvian letters are after English\n",
    "# TODO sort it locale specific way"
   ]
  },
  {
   "cell_type": "code",
   "execution_count": null,
   "metadata": {
    "id": "lT-4465CVcGV",
    "outputId": "f4c8f82c-32c0-4459-f35b-9576fd1c3a8d"
   },
   "outputs": [
    {
     "data": {
      "text/plain": [
       "['a', 'ķ', 'u']"
      ]
     },
     "execution_count": 5,
     "metadata": {},
     "output_type": "execute_result"
    }
   ],
   "source": [
    "myletters[:3]"
   ]
  },
  {
   "cell_type": "code",
   "execution_count": null,
   "metadata": {
    "id": "H3qISlZFVcGW",
    "outputId": "55373bde-cea4-46b2-f088-4d8786fd8e1d"
   },
   "outputs": [
    {
     "data": {
      "text/plain": [
       "['a', 'ķ', 'u', 'l', 'm', 'n', 'p', 's', ' ', 'ē', 'ļ', 'i', 'k']"
      ]
     },
     "execution_count": 6,
     "metadata": {},
     "output_type": "execute_result"
    }
   ],
   "source": [
    "al = list(a)\n",
    "al"
   ]
  },
  {
   "cell_type": "code",
   "execution_count": null,
   "metadata": {
    "id": "3b03slVnVcGW",
    "outputId": "d90954e0-1a74-44f7-d90e-29936e43ebec"
   },
   "outputs": [
    {
     "data": {
      "text/plain": [
       "[' ', 'a', 'i', 'k', 'l', 'm', 'n', 'p', 's', 'u', 'ē', 'ķ', 'ļ']"
      ]
     },
     "execution_count": 7,
     "metadata": {},
     "output_type": "execute_result"
    }
   ],
   "source": [
    "sorted(al)"
   ]
  },
  {
   "cell_type": "code",
   "execution_count": 24,
   "metadata": {
    "colab": {
     "base_uri": "https://localhost:8080/"
    },
    "id": "-MZ8Dkh9VcGW",
    "outputId": "92705bd9-323c-40ac-caec-8b49a4e5fd8f"
   },
   "outputs": [
    {
     "data": {
      "text/plain": [
       "{1, 2, 3, 6, 65}"
      ]
     },
     "execution_count": 24,
     "metadata": {},
     "output_type": "execute_result"
    }
   ],
   "source": [
    "s = {1,2,65,2,6,3}\n",
    "s"
   ]
  },
  {
   "cell_type": "code",
   "execution_count": 23,
   "metadata": {
    "colab": {
     "base_uri": "https://localhost:8080/"
    },
    "id": "StAMiLZBVcGX",
    "outputId": "d9263cbd-10ce-43f2-f590-a8330b66e5d6"
   },
   "outputs": [
    {
     "data": {
      "text/plain": [
       "{0, 1, 2, 3, 4, 5, 6, 7, 8, 9}"
      ]
     },
     "execution_count": 23,
     "metadata": {},
     "output_type": "execute_result"
    }
   ],
   "source": [
    "nset = set(range(10))\n",
    "nset"
   ]
  },
  {
   "cell_type": "markdown",
   "metadata": {},
   "source": [
    "## Set as a way to remove duplicates from a list\n",
    "\n",
    "Sets offer an easy way to remove duplicates from a list. Just convert the list to a set and then back to a list.\n",
    "\n"
   ]
  },
  {
   "cell_type": "code",
   "execution_count": 35,
   "metadata": {},
   "outputs": [
    {
     "name": "stdout",
     "output_type": "stream",
     "text": [
      "Original Shopping list:\n",
      " ['apple', 'banana', 'carrot', 'banana', 'apple', 'banana', 'pumpkin', 'candy', 'apple']\n",
      "Unique items set:\n",
      " {'carrot', 'apple', 'pumpkin', 'candy', 'banana'}\n",
      "Unique items list:\n",
      " ['carrot', 'apple', 'pumpkin', 'candy', 'banana']\n"
     ]
    }
   ],
   "source": [
    "shopping_list = [\"apple\",\"banana\", \"carrot\", \"banana\", \"apple\", \"banana\", \"pumpkin\",\"candy\", \"apple\"]\n",
    "shopping_set = set(shopping_list)\n",
    "unique_items = list(shopping_set)\n",
    "\n",
    "# let's print all three\n",
    "print(\"Original Shopping list:\\n\",shopping_list)\n",
    "print(\"Unique items set:\\n\",shopping_set)\n",
    "print(\"Unique items list:\\n\",unique_items)"
   ]
  },
  {
   "cell_type": "code",
   "execution_count": 36,
   "metadata": {},
   "outputs": [
    {
     "name": "stdout",
     "output_type": "stream",
     "text": [
      "Unique items list:\n",
      " ['carrot', 'apple', 'pumpkin', 'candy', 'banana']\n"
     ]
    }
   ],
   "source": [
    "# we could have done this in one line\n",
    "unique_items = list(set(shopping_list))\n",
    "print(\"Unique items list:\\n\",unique_items)\n"
   ]
  },
  {
   "cell_type": "code",
   "execution_count": 25,
   "metadata": {
    "colab": {
     "base_uri": "https://localhost:8080/"
    },
    "id": "H-WDYmWpVcGX",
    "outputId": "271e209c-6bf9-4b6e-e404-e91e54c7b073"
   },
   "outputs": [
    {
     "data": {
      "text/plain": [
       "False"
      ]
     },
     "execution_count": 25,
     "metadata": {},
     "output_type": "execute_result"
    }
   ],
   "source": [
    "s.issubset(nset)  # false because s has 65 which is outside of nset values"
   ]
  },
  {
   "cell_type": "markdown",
   "metadata": {},
   "source": [
    "## Set operations\n",
    "\n",
    "Set offers a wide range of set algebra operations. Here are some of the most common ones:\n",
    "\n",
    "* issubset\n",
    "* issuperset\n",
    "* union\n",
    "* intersection\n",
    "* difference\n",
    "* symmetric difference\n",
    "\n"
   ]
  },
  {
   "cell_type": "code",
   "execution_count": null,
   "metadata": {},
   "outputs": [],
   "source": []
  },
  {
   "cell_type": "code",
   "execution_count": 37,
   "metadata": {
    "colab": {
     "base_uri": "https://localhost:8080/"
    },
    "id": "u6IB6sXrVcGX",
    "outputId": "54ab2ff2-8cba-4bb5-ef49-4d916adb34dc"
   },
   "outputs": [
    {
     "data": {
      "text/plain": [
       "{3, 4, 5, 6, 7}"
      ]
     },
     "execution_count": 37,
     "metadata": {},
     "output_type": "execute_result"
    }
   ],
   "source": [
    "# range is a sequence of numbers so we can convert it to a set\n",
    "n_3_7 = set(range(3,8))\n",
    "n_3_7"
   ]
  },
  {
   "cell_type": "code",
   "execution_count": 40,
   "metadata": {
    "colab": {
     "base_uri": "https://localhost:8080/"
    },
    "id": "R3FoopPvVcGY",
    "outputId": "d19c7c6a-2ea4-4001-f561-8dec28cc7f5b"
   },
   "outputs": [
    {
     "name": "stdout",
     "output_type": "stream",
     "text": [
      "number set is {0, 1, 2, 3, 4, 5, 6, 7, 8, 9}\n"
     ]
    },
    {
     "data": {
      "text/plain": [
       "True"
      ]
     },
     "execution_count": 40,
     "metadata": {},
     "output_type": "execute_result"
    }
   ],
   "source": [
    "nset = set(range(10))\n",
    "print(\"number set is\", nset)\n",
    "n_3_7.issubset(nset)"
   ]
  },
  {
   "cell_type": "code",
   "execution_count": 41,
   "metadata": {
    "colab": {
     "base_uri": "https://localhost:8080/"
    },
    "id": "OVdYQZVSVcGY",
    "outputId": "2afac7b1-7529-47ce-a594-c5c38f641c8c"
   },
   "outputs": [
    {
     "data": {
      "text/plain": [
       "True"
      ]
     },
     "execution_count": 41,
     "metadata": {},
     "output_type": "execute_result"
    }
   ],
   "source": [
    "# Alternative syntax\n",
    "n_3_7 < nset # strong subset meaning n_3_7 can't be equal to nset"
   ]
  },
  {
   "cell_type": "code",
   "execution_count": 42,
   "metadata": {
    "colab": {
     "base_uri": "https://localhost:8080/"
    },
    "id": "fkmZJFWzVcGY",
    "outputId": "4b2f78f4-5613-4171-f9d9-4cc325dcdae3"
   },
   "outputs": [
    {
     "data": {
      "text/plain": [
       "True"
      ]
     },
     "execution_count": 42,
     "metadata": {},
     "output_type": "execute_result"
    }
   ],
   "source": [
    "n_3_7 <= nset  # this is just like issubset but not strict"
   ]
  },
  {
   "cell_type": "code",
   "execution_count": null,
   "metadata": {
    "colab": {
     "base_uri": "https://localhost:8080/"
    },
    "id": "hZi2cjKgVcGY",
    "outputId": "eb31a56e-5ca6-4813-8a2b-7093697dafa8"
   },
   "outputs": [
    {
     "data": {
      "text/plain": [
       "False"
      ]
     },
     "execution_count": 43,
     "metadata": {},
     "output_type": "execute_result"
    }
   ],
   "source": [
    "nset < nset # strong subset meaning nset can't be equal to nset"
   ]
  },
  {
   "cell_type": "code",
   "execution_count": null,
   "metadata": {
    "colab": {
     "base_uri": "https://localhost:8080/"
    },
    "id": "OLpbviuYVcGY",
    "outputId": "dbb00d22-795a-4f25-b662-fa8fa2803a02"
   },
   "outputs": [
    {
     "data": {
      "text/plain": [
       "True"
      ]
     },
     "execution_count": 44,
     "metadata": {},
     "output_type": "execute_result"
    }
   ],
   "source": [
    "nset <= nset # this is just like issubset but not strict"
   ]
  },
  {
   "cell_type": "code",
   "execution_count": 45,
   "metadata": {
    "colab": {
     "base_uri": "https://localhost:8080/"
    },
    "id": "ZojY7xHtVcGZ",
    "outputId": "4d64359d-6891-45e3-f6c4-68ef625831a6"
   },
   "outputs": [
    {
     "data": {
      "text/plain": [
       "{1, 3, 6, 7}"
      ]
     },
     "execution_count": 45,
     "metadata": {},
     "output_type": "execute_result"
    }
   ],
   "source": [
    "s"
   ]
  },
  {
   "cell_type": "code",
   "execution_count": 46,
   "metadata": {
    "colab": {
     "base_uri": "https://localhost:8080/"
    },
    "id": "1a0GLyeOVcGZ",
    "outputId": "f01e5344-3d6c-4085-bab4-e636b5cd5edb"
   },
   "outputs": [
    {
     "data": {
      "text/plain": [
       "True"
      ]
     },
     "execution_count": 46,
     "metadata": {},
     "output_type": "execute_result"
    }
   ],
   "source": [
    "# we can go the other way around\n",
    "nset.issuperset(s)"
   ]
  },
  {
   "cell_type": "code",
   "execution_count": 47,
   "metadata": {
    "id": "9GH8XZcRVcGZ",
    "outputId": "900be858-92af-41bd-f88a-f95623943209"
   },
   "outputs": [
    {
     "data": {
      "text/plain": [
       "({0, 1, 2, 3, 4, 5, 6, 7, 8, 9}, {1, 3, 6, 7})"
      ]
     },
     "execution_count": 47,
     "metadata": {},
     "output_type": "execute_result"
    }
   ],
   "source": [
    "nset, s"
   ]
  },
  {
   "cell_type": "code",
   "execution_count": 50,
   "metadata": {
    "colab": {
     "base_uri": "https://localhost:8080/"
    },
    "id": "PRs8QHEMVcGZ",
    "outputId": "0062b9c4-9c6f-430f-9d95-decea341c034"
   },
   "outputs": [
    {
     "name": "stdout",
     "output_type": "stream",
     "text": [
      "{65, 1, 3, 6, 7}\n",
      "{1, 3, 6, 7}\n"
     ]
    }
   ],
   "source": [
    "s.add(65) # we can add elements\n",
    "print(s)\n",
    "try:\n",
    "    s.remove(65) # we can remove elements\n",
    "except KeyError as e:\n",
    "    print(\"Error:\", e)\n",
    "print(s)\n"
   ]
  },
  {
   "cell_type": "code",
   "execution_count": 37,
   "metadata": {
    "colab": {
     "base_uri": "https://localhost:8080/"
    },
    "id": "KfAODVAFVcGZ",
    "outputId": "fb2b7aa9-ecb1-480b-a1ce-88aade6a80c9"
   },
   "outputs": [
    {
     "data": {
      "text/plain": [
       "({0, 1, 2, 3, 4, 5, 6, 7, 8, 9}, {1, 2, 3, 6})"
      ]
     },
     "execution_count": 37,
     "metadata": {},
     "output_type": "execute_result"
    }
   ],
   "source": [
    "nset, s"
   ]
  },
  {
   "cell_type": "code",
   "execution_count": 38,
   "metadata": {
    "colab": {
     "base_uri": "https://localhost:8080/"
    },
    "id": "8tjPgTuDVcGa",
    "outputId": "a9da1944-63b7-4e98-fb7d-cdd25995ba8f"
   },
   "outputs": [
    {
     "data": {
      "text/plain": [
       "True"
      ]
     },
     "execution_count": 38,
     "metadata": {},
     "output_type": "execute_result"
    }
   ],
   "source": [
    "nset.issuperset(s)"
   ]
  },
  {
   "cell_type": "code",
   "execution_count": 39,
   "metadata": {
    "colab": {
     "base_uri": "https://localhost:8080/"
    },
    "id": "_7ZtESrBVcGa",
    "outputId": "2ae8c880-8bd3-4acc-b4e6-2143cd3d8e0e"
   },
   "outputs": [
    {
     "data": {
      "text/plain": [
       "(True, True, False)"
      ]
     },
     "execution_count": 39,
     "metadata": {},
     "output_type": "execute_result"
    }
   ],
   "source": [
    "nset > s, nset >= s, nset < s"
   ]
  },
  {
   "cell_type": "code",
   "execution_count": 40,
   "metadata": {
    "colab": {
     "base_uri": "https://localhost:8080/"
    },
    "id": "GQ7jphDlVcGa",
    "outputId": "e422c58c-7566-40be-e540-95089e69ab91"
   },
   "outputs": [
    {
     "data": {
      "text/plain": [
       "False"
      ]
     },
     "execution_count": 40,
     "metadata": {},
     "output_type": "execute_result"
    }
   ],
   "source": [
    "s.issuperset(range(6))"
   ]
  },
  {
   "cell_type": "code",
   "execution_count": 41,
   "metadata": {
    "colab": {
     "base_uri": "https://localhost:8080/"
    },
    "id": "8fiRAUmHVcGa",
    "outputId": "b74eae4a-d9a9-43b3-ef01-986c70dc7b81"
   },
   "outputs": [
    {
     "data": {
      "text/plain": [
       "True"
      ]
     },
     "execution_count": 41,
     "metadata": {},
     "output_type": "execute_result"
    }
   ],
   "source": [
    "nset.issuperset(range(6))"
   ]
  },
  {
   "cell_type": "code",
   "execution_count": 42,
   "metadata": {
    "colab": {
     "base_uri": "https://localhost:8080/"
    },
    "id": "oH1BQGk_VcGa",
    "outputId": "be0aaf44-276d-4ae8-dffa-992d6609b577"
   },
   "outputs": [
    {
     "data": {
      "text/plain": [
       "{5, 6, 7, 8, 9}"
      ]
     },
     "execution_count": 42,
     "metadata": {},
     "output_type": "execute_result"
    }
   ],
   "source": [
    "n_5_9 = set(range(5,10))\n",
    "n_5_9"
   ]
  },
  {
   "cell_type": "markdown",
   "metadata": {},
   "source": [
    "### Set union\n",
    "\n",
    "The union of two sets is a set containing all elements that are in either set.\n",
    "\n",
    "```python"
   ]
  },
  {
   "cell_type": "code",
   "execution_count": 52,
   "metadata": {
    "colab": {
     "base_uri": "https://localhost:8080/"
    },
    "id": "AhofiecPVcGa",
    "outputId": "369d77f0-d54d-4468-94d7-51b6952d356e"
   },
   "outputs": [
    {
     "name": "stdout",
     "output_type": "stream",
     "text": [
      "n_5_9 is {5, 6, 7, 8, 9}\n",
      "Union of n_3_7 and n_5_9 is {3, 4, 5, 6, 7, 8, 9}\n"
     ]
    }
   ],
   "source": [
    "# let's create n_5_9 first\n",
    "n_5_9 = set(range(5,10))\n",
    "print(\"n_5_9 is\", n_5_9)\n",
    "print(\"Union of n_3_7 and n_5_9 is\", n_3_7.union(n_5_9))"
   ]
  },
  {
   "cell_type": "code",
   "execution_count": 53,
   "metadata": {
    "id": "HiQkI4AKVcGb",
    "outputId": "9a6f84b5-e347-4e26-8852-646ad84329d0"
   },
   "outputs": [
    {
     "data": {
      "text/plain": [
       "{3, 4, 5, 6, 7, 8, 9}"
      ]
     },
     "execution_count": 53,
     "metadata": {},
     "output_type": "execute_result"
    }
   ],
   "source": [
    "# shorter union syntax is \n",
    "n_3_7 | n_5_9 # means we make a new set out of ALL elements of the two sets"
   ]
  },
  {
   "cell_type": "markdown",
   "metadata": {},
   "source": [
    "### Intersection\n",
    "\n",
    "The intersection of two sets is a set containing all elements that are in both sets.\n",
    "\n"
   ]
  },
  {
   "cell_type": "code",
   "execution_count": 54,
   "metadata": {
    "colab": {
     "base_uri": "https://localhost:8080/"
    },
    "id": "641mNzNgVcGb",
    "outputId": "b27e1722-6e3c-4b50-dd0f-2360f286b709"
   },
   "outputs": [
    {
     "data": {
      "text/plain": [
       "{5, 6, 7}"
      ]
     },
     "execution_count": 54,
     "metadata": {},
     "output_type": "execute_result"
    }
   ],
   "source": [
    "n_3_7.intersection(n_5_9)"
   ]
  },
  {
   "cell_type": "code",
   "execution_count": null,
   "metadata": {
    "colab": {
     "base_uri": "https://localhost:8080/"
    },
    "id": "VjKfRUoLVcGb",
    "outputId": "b7019aee-3f97-4051-b2cb-311fe7910299"
   },
   "outputs": [
    {
     "data": {
      "text/plain": [
       "{5, 6, 7}"
      ]
     },
     "execution_count": 45,
     "metadata": {},
     "output_type": "execute_result"
    }
   ],
   "source": [
    "# syntactic sugar for intersection is &\n",
    "n_3_7 & n_5_9 # same as intersection above so only elements in BOTH sets"
   ]
  },
  {
   "cell_type": "code",
   "execution_count": 55,
   "metadata": {
    "colab": {
     "base_uri": "https://localhost:8080/"
    },
    "id": "Jg-Nbt6pVcGb",
    "outputId": "d75ef437-5b64-43c4-dc3b-486caf34e1ca"
   },
   "outputs": [
    {
     "data": {
      "text/plain": [
       "{5, 6, 7}"
      ]
     },
     "execution_count": 55,
     "metadata": {},
     "output_type": "execute_result"
    }
   ],
   "source": [
    "n_5_7 = n_3_7 & n_5_9  # we can store the values\n",
    "n_5_7"
   ]
  },
  {
   "cell_type": "code",
   "execution_count": 56,
   "metadata": {
    "colab": {
     "base_uri": "https://localhost:8080/"
    },
    "id": "A2m5FPkAVcGb",
    "outputId": "84a98bc3-f540-4fe9-815b-31b026438793"
   },
   "outputs": [
    {
     "data": {
      "text/plain": [
       "{5, 6, 7}"
      ]
     },
     "execution_count": 56,
     "metadata": {},
     "output_type": "execute_result"
    }
   ],
   "source": [
    "n_5_7 = n_3_7 & n_5_9 & nset # nset is 0 to 9 so this will not change the result\n",
    "n_5_7"
   ]
  },
  {
   "cell_type": "code",
   "execution_count": 57,
   "metadata": {
    "colab": {
     "base_uri": "https://localhost:8080/"
    },
    "id": "gwOuNhM6aJX7",
    "outputId": "000f71af-b87e-4294-8023-1012656b00b9"
   },
   "outputs": [
    {
     "data": {
      "text/plain": [
       "{0, 1, 2, 3, 4, 5, 6}"
      ]
     },
     "execution_count": 57,
     "metadata": {},
     "output_type": "execute_result"
    }
   ],
   "source": [
    "set(range(7))"
   ]
  },
  {
   "cell_type": "code",
   "execution_count": 58,
   "metadata": {
    "colab": {
     "base_uri": "https://localhost:8080/"
    },
    "id": "gAPKRPu6VcGb",
    "outputId": "bf5c9153-5fab-417b-f8e2-ebbca3c84979"
   },
   "outputs": [
    {
     "data": {
      "text/plain": [
       "{5, 6}"
      ]
     },
     "execution_count": 58,
     "metadata": {},
     "output_type": "execute_result"
    }
   ],
   "source": [
    "n_5_6 = n_3_7 & n_5_9 & set(range(7)) # range goes to 6\n",
    "n_5_6 # only 5 and 6 is in ALL 3 sets"
   ]
  },
  {
   "cell_type": "markdown",
   "metadata": {},
   "source": [
    "### Set difference\n",
    "\n",
    "Set difference is the set of elements that are only in the first set but not in the second set.\n",
    "\n",
    "Thus set difference is not commutative. This means that the order of the sets is important for difference.\n",
    "\n",
    "```python"
   ]
  },
  {
   "cell_type": "code",
   "execution_count": 59,
   "metadata": {
    "colab": {
     "base_uri": "https://localhost:8080/"
    },
    "id": "8CBbNHU-VcGc",
    "outputId": "a7d9ef6e-ebdf-4a44-f82c-53e66a22e362"
   },
   "outputs": [
    {
     "data": {
      "text/plain": [
       "{3, 4}"
      ]
     },
     "execution_count": 59,
     "metadata": {},
     "output_type": "execute_result"
    }
   ],
   "source": [
    "n_3_7.difference(n_5_9) # only elements unique to left side"
   ]
  },
  {
   "cell_type": "code",
   "execution_count": 60,
   "metadata": {
    "colab": {
     "base_uri": "https://localhost:8080/"
    },
    "id": "GaC1SteXVcGc",
    "outputId": "1921a638-e551-4008-ad94-8a3dff05966f"
   },
   "outputs": [
    {
     "data": {
      "text/plain": [
       "({3, 4}, {8, 9})"
      ]
     },
     "execution_count": 60,
     "metadata": {},
     "output_type": "execute_result"
    }
   ],
   "source": [
    "n_3_7 - n_5_9, n_5_9 - n_3_7 # so - is syntactic sugar to the difference"
   ]
  },
  {
   "cell_type": "markdown",
   "metadata": {},
   "source": [
    "### Set symmetric difference\n",
    "\n",
    "Symmetric difference is the set of elements that are in one of the sets but not in both.\n",
    "\n",
    "Symmetric difference is commutative. This means that the order of the sets is not important for symmetric difference.\n",
    "\n",
    "If we think about it symmetric difference is the opposite of intersection.\n",
    "It could also be thought of as a union of the differences of two sets.\n",
    "\n",
    "```python"
   ]
  },
  {
   "cell_type": "code",
   "execution_count": 53,
   "metadata": {
    "colab": {
     "base_uri": "https://localhost:8080/"
    },
    "id": "0zGxuyfWVcGc",
    "outputId": "8e07f29f-f3c6-44ef-c352-42a778db67dd"
   },
   "outputs": [
    {
     "data": {
      "text/plain": [
       "{3, 4, 8, 9}"
      ]
     },
     "execution_count": 53,
     "metadata": {},
     "output_type": "execute_result"
    }
   ],
   "source": [
    "n_3_7.symmetric_difference(n_5_9) # only elements unique either side # analogy to XOR in logic"
   ]
  },
  {
   "cell_type": "code",
   "execution_count": 61,
   "metadata": {
    "colab": {
     "base_uri": "https://localhost:8080/"
    },
    "id": "WJbPLGiOVcGc",
    "outputId": "5e4b2f7c-aec1-4a89-99d1-b108851f7a31"
   },
   "outputs": [
    {
     "data": {
      "text/plain": [
       "{3, 4, 8, 9}"
      ]
     },
     "execution_count": 61,
     "metadata": {},
     "output_type": "execute_result"
    }
   ],
   "source": [
    "n_3_7 ^ n_5_9 # ^ is short for .symmetric_difference"
   ]
  },
  {
   "cell_type": "code",
   "execution_count": 62,
   "metadata": {
    "id": "vlQwD18gVcGc",
    "outputId": "1834491c-a8ee-4717-a7d3-815e496b40bc"
   },
   "outputs": [
    {
     "data": {
      "text/plain": [
       "{3, 4, 8, 9}"
      ]
     },
     "execution_count": 62,
     "metadata": {},
     "output_type": "execute_result"
    }
   ],
   "source": [
    "# compare to union of set differences\n",
    "(n_3_7 - n_5_9) | (n_5_9 - n_3_7)"
   ]
  },
  {
   "cell_type": "markdown",
   "metadata": {},
   "source": [
    "## Updating sets"
   ]
  },
  {
   "cell_type": "code",
   "execution_count": 63,
   "metadata": {
    "colab": {
     "base_uri": "https://localhost:8080/"
    },
    "id": "95z5bXA4VcGc",
    "outputId": "e9873cd3-f97f-49b4-cbb9-3e7482362871"
   },
   "outputs": [
    {
     "data": {
      "text/plain": [
       "{1,\n",
       " 10,\n",
       " 11,\n",
       " 12,\n",
       " 13,\n",
       " 14,\n",
       " 2,\n",
       " 3,\n",
       " 4,\n",
       " 5,\n",
       " 6,\n",
       " 7,\n",
       " 8,\n",
       " 9,\n",
       " 'A',\n",
       " 'Badac',\n",
       " 'Valdis',\n",
       " 'a',\n",
       " 'b'}"
      ]
     },
     "execution_count": 63,
     "metadata": {},
     "output_type": "execute_result"
    }
   ],
   "source": [
    "# we can update  a single with many differnt data types as long as they are in iterable format\n",
    "s.update({3,3,6,2,7,9},range(4,15), [3,6,7,\"Valdis\", \"Badac\",\"Valdis\"],\"Abba\")\n",
    "s"
   ]
  },
  {
   "cell_type": "code",
   "execution_count": null,
   "metadata": {
    "id": "jpwr_xm2VcGc",
    "outputId": "df9cc7b2-f1b3-457d-ec90-3dc89e2a0695"
   },
   "outputs": [
    {
     "data": {
      "text/plain": [
       "['__and__',\n",
       " '__class__',\n",
       " '__contains__',\n",
       " '__delattr__',\n",
       " '__dir__',\n",
       " '__doc__',\n",
       " '__eq__',\n",
       " '__format__',\n",
       " '__ge__',\n",
       " '__getattribute__',\n",
       " '__gt__',\n",
       " '__hash__',\n",
       " '__iand__',\n",
       " '__init__',\n",
       " '__init_subclass__',\n",
       " '__ior__',\n",
       " '__isub__',\n",
       " '__iter__',\n",
       " '__ixor__',\n",
       " '__le__',\n",
       " '__len__',\n",
       " '__lt__',\n",
       " '__ne__',\n",
       " '__new__',\n",
       " '__or__',\n",
       " '__rand__',\n",
       " '__reduce__',\n",
       " '__reduce_ex__',\n",
       " '__repr__',\n",
       " '__ror__',\n",
       " '__rsub__',\n",
       " '__rxor__',\n",
       " '__setattr__',\n",
       " '__sizeof__',\n",
       " '__str__',\n",
       " '__sub__',\n",
       " '__subclasshook__',\n",
       " '__xor__',\n",
       " 'add',\n",
       " 'clear',\n",
       " 'copy',\n",
       " 'difference',\n",
       " 'difference_update',\n",
       " 'discard',\n",
       " 'intersection',\n",
       " 'intersection_update',\n",
       " 'isdisjoint',\n",
       " 'issubset',\n",
       " 'issuperset',\n",
       " 'pop',\n",
       " 'remove',\n",
       " 'symmetric_difference',\n",
       " 'symmetric_difference_update',\n",
       " 'union',\n",
       " 'update']"
      ]
     },
     "execution_count": 213,
     "metadata": {},
     "output_type": "execute_result"
    }
   ],
   "source": [
    "dir(s)"
   ]
  },
  {
   "cell_type": "code",
   "execution_count": 64,
   "metadata": {
    "colab": {
     "base_uri": "https://localhost:8080/"
    },
    "id": "40bRVEdGVcGd",
    "outputId": "6ffe7de4-fcf1-4360-ff2c-6124f67cbd81"
   },
   "outputs": [
    {
     "data": {
      "text/plain": [
       "False"
      ]
     },
     "execution_count": 64,
     "metadata": {},
     "output_type": "execute_result"
    }
   ],
   "source": [
    "# we can check if our set has anything in common with anohther data structures\n",
    "n_3_7.isdisjoint(n_5_9) # False because sets do intersect with 5,6,7"
   ]
  },
  {
   "cell_type": "code",
   "execution_count": 65,
   "metadata": {
    "colab": {
     "base_uri": "https://localhost:8080/"
    },
    "id": "kwA7J4aObP9E",
    "outputId": "82d6e03e-410a-4acc-a1e8-3be217d8e94b"
   },
   "outputs": [
    {
     "data": {
      "text/plain": [
       "{8, 9}"
      ]
     },
     "execution_count": 65,
     "metadata": {},
     "output_type": "execute_result"
    }
   ],
   "source": [
    "n_8_9 = set((8,9))\n",
    "n_8_9"
   ]
  },
  {
   "cell_type": "code",
   "execution_count": 66,
   "metadata": {
    "colab": {
     "base_uri": "https://localhost:8080/"
    },
    "id": "qG_sv2Aubapp",
    "outputId": "7b4e9f5f-d87a-43d3-83a8-547fb55d8d63"
   },
   "outputs": [
    {
     "data": {
      "text/plain": [
       "True"
      ]
     },
     "execution_count": 66,
     "metadata": {},
     "output_type": "execute_result"
    }
   ],
   "source": [
    "n_3_7.isdisjoint(n_8_9)"
   ]
  },
  {
   "cell_type": "code",
   "execution_count": 67,
   "metadata": {
    "colab": {
     "base_uri": "https://localhost:8080/"
    },
    "id": "DNyt9sFgbicj",
    "outputId": "42495c58-4d87-4a6d-edd2-81ff853fa5d1"
   },
   "outputs": [
    {
     "data": {
      "text/plain": [
       "['a',\n",
       " 'quick',\n",
       " 'brown',\n",
       " 'fox',\n",
       " 'jumped',\n",
       " 'over',\n",
       " 'a',\n",
       " 'sleeping',\n",
       " 'dog',\n",
       " 'which',\n",
       " 'is',\n",
       " 'not',\n",
       " 'a',\n",
       " 'normal',\n",
       " 'dog']"
      ]
     },
     "execution_count": 67,
     "metadata": {},
     "output_type": "execute_result"
    }
   ],
   "source": [
    "sentence = \"a quick brown fox jumped over a sleeping dog which is not a normal dog\"\n",
    "words = sentence.split()\n",
    "words"
   ]
  },
  {
   "cell_type": "code",
   "execution_count": 68,
   "metadata": {
    "colab": {
     "base_uri": "https://localhost:8080/"
    },
    "id": "8Z6nNyXmbs5u",
    "outputId": "da05bb0e-8c5a-4b87-df1d-accc53cb2195"
   },
   "outputs": [
    {
     "data": {
      "text/plain": [
       "{'a',\n",
       " 'brown',\n",
       " 'dog',\n",
       " 'fox',\n",
       " 'is',\n",
       " 'jumped',\n",
       " 'normal',\n",
       " 'not',\n",
       " 'over',\n",
       " 'quick',\n",
       " 'sleeping',\n",
       " 'which'}"
      ]
     },
     "execution_count": 68,
     "metadata": {},
     "output_type": "execute_result"
    }
   ],
   "source": [
    "unique_words_set = set(words)\n",
    "unique_words_set"
   ]
  },
  {
   "cell_type": "code",
   "execution_count": 69,
   "metadata": {
    "colab": {
     "base_uri": "https://localhost:8080/"
    },
    "id": "Tof1jlGzb4my",
    "outputId": "e43c98f5-2b7b-4ee1-87d8-6423a2943dcc"
   },
   "outputs": [
    {
     "data": {
      "text/plain": [
       "['over',\n",
       " 'brown',\n",
       " 'dog',\n",
       " 'normal',\n",
       " 'sleeping',\n",
       " 'which',\n",
       " 'fox',\n",
       " 'jumped',\n",
       " 'is',\n",
       " 'a',\n",
       " 'not',\n",
       " 'quick']"
      ]
     },
     "execution_count": 69,
     "metadata": {},
     "output_type": "execute_result"
    }
   ],
   "source": [
    "unique_words_list = list(unique_words_set)\n",
    "unique_words_list"
   ]
  },
  {
   "cell_type": "code",
   "execution_count": null,
   "metadata": {
    "id": "qeZZNvWiVcGd"
   },
   "outputs": [],
   "source": [
    "# so Sets use them to obtain  unique elements \n",
    "# then can convert back to other data structures"
   ]
  }
 ],
 "metadata": {
  "colab": {
   "name": "Python Sets.ipynb",
   "provenance": []
  },
  "kernelspec": {
   "display_name": "venv",
   "language": "python",
   "name": "python3"
  },
  "language_info": {
   "codemirror_mode": {
    "name": "ipython",
    "version": 3
   },
   "file_extension": ".py",
   "mimetype": "text/x-python",
   "name": "python",
   "nbconvert_exporter": "python",
   "pygments_lexer": "ipython3",
   "version": "3.12.5"
  }
 },
 "nbformat": 4,
 "nbformat_minor": 0
}
