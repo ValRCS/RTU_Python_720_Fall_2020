{
  "cells": [
    {
      "cell_type": "markdown",
      "metadata": {
        "id": "mQvuSk0jCjmH"
      },
      "source": [
        "# Python Modules, Packages, and External Libraries\n"
      ]
    },
    {
      "cell_type": "markdown",
      "metadata": {
        "id": "K5HtGhXtCjmP"
      },
      "source": [
        "## Python Modules\n",
        "\n",
        "What is a module?\n",
        "\n",
        "A module is a file containing Python definitions and statements. The file name is the module name with the suffix .py appended.\n",
        "\n",
        "Modules let us organize code into reusable files. We can import modules into other modules, or into the main module (the script being executed)."
      ]
    },
    {
      "cell_type": "code",
      "execution_count": 1,
      "metadata": {
        "colab": {
          "base_uri": "https://localhost:8080/"
        },
        "id": "E75n6U4pCjmP",
        "outputId": "c8b01376-1b24-4872-9908-51b0fe744ca1"
      },
      "outputs": [
        {
          "name": "stdout",
          "output_type": "stream",
          "text": [
            "Hello Python modules!\n"
          ]
        }
      ],
      "source": [
        "print(\"Hello Python modules!\")"
      ]
    },
    {
      "cell_type": "code",
      "execution_count": 2,
      "metadata": {
        "id": "vjm5tdHGCjmS"
      },
      "outputs": [],
      "source": [
        "import myAprilMod # thiw will work as long as we have myAprilMod.py in my current search path starting with current directory"
      ]
    },
    {
      "cell_type": "code",
      "execution_count": 3,
      "metadata": {
        "colab": {
          "base_uri": "https://localhost:8080/"
        },
        "id": "4siedZC2CjmS",
        "outputId": "884cac03-0c2f-493c-dd2d-af9166cf6c4f"
      },
      "outputs": [
        {
          "data": {
            "text/plain": [
              "5"
            ]
          },
          "execution_count": 3,
          "metadata": {},
          "output_type": "execute_result"
        }
      ],
      "source": [
        "myAprilMod.add(2,3)"
      ]
    },
    {
      "cell_type": "code",
      "execution_count": 4,
      "metadata": {
        "colab": {
          "base_uri": "https://localhost:8080/"
        },
        "id": "602XjF3DCjmT",
        "outputId": "28f30431-7e48-452d-fefb-d159afc8fbe9"
      },
      "outputs": [
        {
          "data": {
            "text/plain": [
              "6"
            ]
          },
          "execution_count": 4,
          "metadata": {},
          "output_type": "execute_result"
        }
      ],
      "source": [
        "myAprilMod.sub(10,4)"
      ]
    },
    {
      "cell_type": "code",
      "execution_count": null,
      "metadata": {
        "id": "MPr8_uKZCjmU",
        "outputId": "21b33902-5a30-4616-d3d9-7427495ee9f3"
      },
      "outputs": [
        {
          "data": {
            "text/plain": [
              "3.14"
            ]
          },
          "execution_count": 5,
          "metadata": {},
          "output_type": "execute_result"
        }
      ],
      "source": [
        "myAprilMod.MYPI"
      ]
    },
    {
      "cell_type": "code",
      "execution_count": null,
      "metadata": {
        "id": "lmGyWtaOCjmV",
        "outputId": "8e8125ef-1e10-4690-ce69-ff915cf308ef"
      },
      "outputs": [
        {
          "data": {
            "text/plain": [
              "'Hello darkness my old friend'"
            ]
          },
          "execution_count": 6,
          "metadata": {},
          "output_type": "execute_result"
        }
      ],
      "source": [
        "myAprilMod.some_text"
      ]
    },
    {
      "cell_type": "markdown",
      "metadata": {
        "id": "fbNRV072CjmW"
      },
      "source": [
        "## Why use modules?\n",
        "\n",
        "* Keep Python files small\n",
        "* Reuse code across multiple files by importing\n",
        "* A module can define functions, classes, and variables\n",
        "* namespaces prevent name collisions across modules - IMPORTANT"
      ]
    },
    {
      "cell_type": "markdown",
      "metadata": {
        "id": "zQJt7XZHCjmW"
      },
      "source": [
        "### Importing Modules with different names\n",
        "\n",
        "We can import modules with different names using the `as` keyword.\n",
        "\n",
        "\n"
      ]
    },
    {
      "cell_type": "code",
      "execution_count": 5,
      "metadata": {
        "colab": {
          "base_uri": "https://localhost:8080/"
        },
        "id": "WdcexE3WCjmX",
        "outputId": "415b8f63-c0fe-4596-8cb6-f9229e003ced"
      },
      "outputs": [
        {
          "data": {
            "text/plain": [
              "40"
            ]
          },
          "execution_count": 5,
          "metadata": {},
          "output_type": "execute_result"
        }
      ],
      "source": [
        "import myAprilMod as myMod # so have different name for module\n",
        "# very common is import as short abbreviation\n",
        "# for example \n",
        "# import numpy as np - numpy is a very popular numerical library\n",
        "myMod.add(10,30)"
      ]
    },
    {
      "cell_type": "code",
      "execution_count": null,
      "metadata": {
        "id": "23dCr2hDCjmY",
        "outputId": "730f4288-a21f-43a0-ada1-1d384832fbc7"
      },
      "outputs": [
        {
          "data": {
            "text/plain": [
              "15"
            ]
          },
          "execution_count": 8,
          "metadata": {},
          "output_type": "execute_result"
        }
      ],
      "source": [
        "myMod.sub(45,30)  #of course now I have two names for the same module\n",
        "# ordinarily I would not do this I would just import the module once"
      ]
    },
    {
      "cell_type": "markdown",
      "metadata": {
        "id": "KV9XCzDBCjmY"
      },
      "source": [
        "### Import some specific functions or variables from a module\n"
      ]
    },
    {
      "cell_type": "code",
      "execution_count": null,
      "metadata": {
        "id": "wV7sC0XMCjmZ"
      },
      "outputs": [],
      "source": [
        "from myAprilMod import add # so I can import just one function\n",
        "# Usually you do not need to rename the function or variable but you can\n",
        "from myAprilMod import MYPI as SUPERPI # so I can rename the constant"
      ]
    },
    {
      "cell_type": "code",
      "execution_count": null,
      "metadata": {
        "id": "z8RaPO0uCjmZ",
        "outputId": "f13d162b-e690-4234-ed98-f4145e38737d"
      },
      "outputs": [
        {
          "data": {
            "text/plain": [
              "60"
            ]
          },
          "execution_count": 12,
          "metadata": {},
          "output_type": "execute_result"
        }
      ],
      "source": [
        "add(50,10)"
      ]
    },
    {
      "cell_type": "markdown",
      "metadata": {
        "id": "ZcNsvbuwCjmZ"
      },
      "source": [
        "### Import all functions and variables from a module - AVOID\n",
        "\n",
        "```from my_module import * # AVOID```\n",
        "\n",
        "AVOID this method. It is not clear where the functions and variables are coming from. It can also cause name collisions if you import two modules that have the same function or variable names."
      ]
    },
    {
      "cell_type": "markdown",
      "metadata": {
        "id": "yGt-GT_ZCjma"
      },
      "source": [
        "## Python Packages\n",
        "\n",
        "What is a package?\n",
        "\n",
        "A package is a collection of modules. It is a directory of Python modules containing an additional __init__.py file. The __init__.py file is used to distinguish packages from directories that just happen to contain a bunch of Python scripts.\n",
        "\n",
        "NOTE: __init__.py is not required since Python 3.3"
      ]
    },
    {
      "cell_type": "code",
      "execution_count": null,
      "metadata": {
        "id": "Aj1RGk6jCjma"
      },
      "outputs": [],
      "source": [
        "from myAprilPackage import my_numeric_mod  # again you would need myAprilPackage folder for this to work\n",
        "# and myAprilPackage should have my_numeri_mod.py inside\n",
        "# and also my_string_mod.py inside\n",
        "# I could also import second one\n",
        "from myAprilPackage import my_string_mod as myStrMod # I could rename it"
      ]
    },
    {
      "cell_type": "code",
      "execution_count": null,
      "metadata": {
        "id": "-WKtKD9wCjma",
        "outputId": "55d0ba6e-0d26-4a0e-a083-b5568afe23d3"
      },
      "outputs": [
        {
          "data": {
            "text/plain": [
              "1000"
            ]
          },
          "execution_count": 2,
          "metadata": {},
          "output_type": "execute_result"
        }
      ],
      "source": [
        "my_numeric_mod.cube(10)"
      ]
    },
    {
      "cell_type": "code",
      "execution_count": null,
      "metadata": {
        "id": "IVOhtsFoCjmb",
        "outputId": "3f941983-80a6-4731-e693-0d4a2ad25d42"
      },
      "outputs": [
        {
          "data": {
            "text/plain": [
              "'dneirf dlo ym ssenkrad olleH'"
            ]
          },
          "execution_count": 3,
          "metadata": {},
          "output_type": "execute_result"
        }
      ],
      "source": [
        "myStrMod.text_reverser(\"Hello darkness my old friend\")"
      ]
    },
    {
      "cell_type": "markdown",
      "metadata": {
        "id": "NEjt6mYgCjmb"
      },
      "source": [
        "### Importing whole package\n",
        "\n",
        "```import my_package```"
      ]
    },
    {
      "cell_type": "code",
      "execution_count": null,
      "metadata": {
        "id": "8gy5z3ByCjmb",
        "outputId": "a95ed4a4-8932-462a-b7b2-6f95a37a9e47"
      },
      "outputs": [
        {
          "data": {
            "text/plain": [
              "100"
            ]
          },
          "execution_count": 4,
          "metadata": {},
          "output_type": "execute_result"
        }
      ],
      "source": [
        "import myAprilPackage # so I can import the whole package\n",
        "# you will need to write the whole thing\n",
        "myAprilPackage.my_numeric_mod.square(10)"
      ]
    },
    {
      "cell_type": "code",
      "execution_count": null,
      "metadata": {
        "id": "cAYqXDImCjmc",
        "outputId": "b078e85a-df09-45cd-b3ec-07338bd97095"
      },
      "outputs": [
        {
          "data": {
            "text/plain": [
              "'BeerBeerBeer'"
            ]
          },
          "execution_count": 5,
          "metadata": {},
          "output_type": "execute_result"
        }
      ],
      "source": [
        "myAprilPackage.my_string_mod.text_repeater(\"Beer\", 3)"
      ]
    },
    {
      "cell_type": "markdown",
      "metadata": {
        "id": "SvpIn9dACjmc"
      },
      "source": [
        "## Python Libraries\n",
        "\n",
        "What is a library?\n",
        "\n",
        "A library is a collection of packages and modules. The Python Standard Library is a collection of libraries.\n",
        "\n",
        "So modules -> packages -> libraries"
      ]
    },
    {
      "cell_type": "markdown",
      "metadata": {
        "id": "BCtXqBw5Cjmc"
      },
      "source": [
        "## External libraries\n",
        "\n",
        "Python has a rich ecosystem of third-party libraries. These libraries are not part of the Python Standard Library. They are developed and maintained by the Python community.\n",
        "\n",
        "### PyPI - Python Package Index\n",
        "\n",
        "PyPI is a repository for open-source third-party Python packages.\n",
        "\n",
        "**URL: https://pypi.org/**\n",
        "\n",
        "### Installing external libraries \n",
        "We can install external libraries using the `pip` command.\n",
        "\n",
        "```pip install numpy```\n",
        "\n",
        "Installing libraries by default puts them in the `site-packages` directory.\n",
        "They will be available for all Python scripts and projects.\n",
        "\n",
        "You might not want to install libraries globally. You can install them locally in your project directory.\n",
        "\n",
        "Also you might want to make a virtual environment for your project. This will isolate your project from other projects.\n",
        "\n",
        "### Using virtual environments\n",
        "\n",
        "```python -m venv my_project``` \n",
        "\n",
        "We would talk about virtual environments in more detail in the next section.\n",
        "\n",
        "### Using external libraries\n",
        "\n",
        "```import numpy```\n",
        "\n"
      ]
    },
    {
      "cell_type": "markdown",
      "metadata": {
        "id": "i1mBHIX7DR5a"
      },
      "source": [
        "## Calling Terminal commands from notebook\n",
        "\n",
        "It might be beneficial to call terminal commands from\n",
        "In Colab you would be calling Linux commands\n",
        "From your Windows machine you would be calling Windows commands\n",
        "\n",
        "You simply prefix !\n",
        "```!dir```"
      ]
    },
    {
      "cell_type": "code",
      "execution_count": 6,
      "metadata": {
        "colab": {
          "base_uri": "https://localhost:8080/"
        },
        "id": "nB85-jAbDQMP",
        "outputId": "7be12350-c0c1-4259-ba70-bfdbe0ad38f6"
      },
      "outputs": [
        {
          "name": "stdout",
          "output_type": "stream",
          "text": [
            "myAprilMod.py  __pycache__  sample_data\n"
          ]
        }
      ],
      "source": [
        "!dir"
      ]
    },
    {
      "cell_type": "code",
      "execution_count": 7,
      "metadata": {
        "colab": {
          "base_uri": "https://localhost:8080/"
        },
        "id": "MWcfLxNUDtAJ",
        "outputId": "cae1f0a2-a796-4451-bcbb-8904cade1ba9"
      },
      "outputs": [
        {
          "name": "stdout",
          "output_type": "stream",
          "text": [
            "Package                       Version\n",
            "----------------------------- --------------------\n",
            "absl-py                       1.4.0\n",
            "alabaster                     0.7.13\n",
            "albumentations                1.2.1\n",
            "altair                        4.2.2\n",
            "anyio                         3.6.2\n",
            "appdirs                       1.4.4\n",
            "argon2-cffi                   21.3.0\n",
            "argon2-cffi-bindings          21.2.0\n",
            "arviz                         0.15.1\n",
            "astropy                       5.2.2\n",
            "astunparse                    1.6.3\n",
            "attrs                         23.1.0\n",
            "audioread                     3.0.0\n",
            "autograd                      1.5\n",
            "Babel                         2.12.1\n",
            "backcall                      0.2.0\n",
            "beautifulsoup4                4.11.2\n",
            "bleach                        6.0.0\n",
            "blis                          0.7.9\n",
            "blosc2                        2.0.0\n",
            "bokeh                         2.4.3\n",
            "branca                        0.6.0\n",
            "CacheControl                  0.12.11\n",
            "cached-property               1.5.2\n",
            "cachetools                    5.3.0\n",
            "catalogue                     2.0.8\n",
            "certifi                       2022.12.7\n",
            "cffi                          1.15.1\n",
            "chardet                       4.0.0\n",
            "charset-normalizer            2.0.12\n",
            "chex                          0.1.7\n",
            "click                         8.1.3\n",
            "cloudpickle                   2.2.1\n",
            "cmake                         3.25.2\n",
            "cmdstanpy                     1.1.0\n",
            "colorcet                      3.0.1\n",
            "colorlover                    0.3.0\n",
            "community                     1.0.0b1\n",
            "confection                    0.0.4\n",
            "cons                          0.4.5\n",
            "contextlib2                   0.6.0.post1\n",
            "contourpy                     1.0.7\n",
            "convertdate                   2.4.0\n",
            "cryptography                  40.0.2\n",
            "cufflinks                     0.17.3\n",
            "cvxopt                        1.3.0\n",
            "cvxpy                         1.3.1\n",
            "cycler                        0.11.0\n",
            "cymem                         2.0.7\n",
            "Cython                        0.29.34\n",
            "dask                          2022.12.1\n",
            "datascience                   0.17.6\n",
            "db-dtypes                     1.1.1\n",
            "dbus-python                   1.2.16\n",
            "debugpy                       1.6.6\n",
            "decorator                     4.4.2\n",
            "defusedxml                    0.7.1\n",
            "distributed                   2022.12.1\n",
            "dlib                          19.24.1\n",
            "dm-tree                       0.1.8\n",
            "docutils                      0.16\n",
            "dopamine-rl                   4.0.6\n",
            "duckdb                        0.7.1\n",
            "earthengine-api               0.1.349\n",
            "easydict                      1.10\n",
            "ecos                          2.0.12\n",
            "editdistance                  0.6.2\n",
            "en-core-web-sm                3.5.0\n",
            "entrypoints                   0.4\n",
            "ephem                         4.1.4\n",
            "et-xmlfile                    1.1.0\n",
            "etils                         1.2.0\n",
            "etuples                       0.3.8\n",
            "exceptiongroup                1.1.1\n",
            "fastai                        2.7.12\n",
            "fastcore                      1.5.29\n",
            "fastdownload                  0.0.7\n",
            "fastjsonschema                2.16.3\n",
            "fastprogress                  1.0.3\n",
            "fastrlock                     0.8.1\n",
            "filelock                      3.11.0\n",
            "firebase-admin                5.3.0\n",
            "Flask                         2.2.3\n",
            "flatbuffers                   23.3.3\n",
            "flax                          0.6.8\n",
            "folium                        0.14.0\n",
            "fonttools                     4.39.3\n",
            "frozendict                    2.3.7\n",
            "fsspec                        2023.4.0\n",
            "future                        0.18.3\n",
            "gast                          0.4.0\n",
            "GDAL                          3.3.2\n",
            "gdown                         4.6.6\n",
            "gensim                        4.3.1\n",
            "geographiclib                 2.0\n",
            "geopy                         2.3.0\n",
            "gin-config                    0.5.0\n",
            "glob2                         0.7\n",
            "google                        2.0.3\n",
            "google-api-core               2.11.0\n",
            "google-api-python-client      2.84.0\n",
            "google-auth                   2.17.3\n",
            "google-auth-httplib2          0.1.0\n",
            "google-auth-oauthlib          1.0.0\n",
            "google-cloud-bigquery         3.9.0\n",
            "google-cloud-bigquery-storage 2.19.1\n",
            "google-cloud-core             2.3.2\n",
            "google-cloud-datastore        2.15.1\n",
            "google-cloud-firestore        2.11.0\n",
            "google-cloud-language         2.9.1\n",
            "google-cloud-storage          2.8.0\n",
            "google-cloud-translate        3.11.1\n",
            "google-colab                  1.0.0\n",
            "google-crc32c                 1.5.0\n",
            "google-pasta                  0.2.0\n",
            "google-resumable-media        2.4.1\n",
            "googleapis-common-protos      1.59.0\n",
            "googledrivedownloader         0.4\n",
            "graphviz                      0.20.1\n",
            "greenlet                      2.0.2\n",
            "grpcio                        1.53.0\n",
            "grpcio-status                 1.48.2\n",
            "gspread                       3.4.2\n",
            "gspread-dataframe             3.0.8\n",
            "gym                           0.25.2\n",
            "gym-notices                   0.0.8\n",
            "h5netcdf                      1.1.0\n",
            "h5py                          3.8.0\n",
            "HeapDict                      1.0.1\n",
            "hijri-converter               2.2.4\n",
            "holidays                      0.22\n",
            "holoviews                     1.15.4\n",
            "html5lib                      1.1\n",
            "httpimport                    1.3.0\n",
            "httplib2                      0.21.0\n",
            "humanize                      4.6.0\n",
            "hyperopt                      0.2.7\n",
            "idna                          3.4\n",
            "imageio                       2.25.1\n",
            "imageio-ffmpeg                0.4.8\n",
            "imagesize                     1.4.1\n",
            "imbalanced-learn              0.10.1\n",
            "imgaug                        0.4.0\n",
            "importlib-metadata            6.4.1\n",
            "importlib-resources           5.12.0\n",
            "imutils                       0.5.4\n",
            "inflect                       6.0.4\n",
            "iniconfig                     2.0.0\n",
            "intel-openmp                  2023.1.0\n",
            "ipykernel                     5.5.6\n",
            "ipython                       7.34.0\n",
            "ipython-genutils              0.2.0\n",
            "ipython-sql                   0.4.1\n",
            "ipywidgets                    7.7.1\n",
            "itsdangerous                  2.1.2\n",
            "jax                           0.4.8\n",
            "jaxlib                        0.4.7+cuda11.cudnn86\n",
            "jieba                         0.42.1\n",
            "Jinja2                        3.1.2\n",
            "joblib                        1.2.0\n",
            "jsonpickle                    3.0.1\n",
            "jsonschema                    4.3.3\n",
            "jupyter-client                6.1.12\n",
            "jupyter-console               6.1.0\n",
            "jupyter_core                  5.3.0\n",
            "jupyter-server                1.24.0\n",
            "jupyterlab-pygments           0.2.2\n",
            "jupyterlab-widgets            3.0.7\n",
            "kaggle                        1.5.13\n",
            "keras                         2.12.0\n",
            "keras-vis                     0.4.1\n",
            "kiwisolver                    1.4.4\n",
            "korean-lunar-calendar         0.3.1\n",
            "langcodes                     3.3.0\n",
            "lazy_loader                   0.2\n",
            "libclang                      16.0.0\n",
            "librosa                       0.10.0.post2\n",
            "lightgbm                      3.3.5\n",
            "lit                           16.0.1\n",
            "llvmlite                      0.39.1\n",
            "locket                        1.0.0\n",
            "logical-unification           0.4.5\n",
            "LunarCalendar                 0.0.9\n",
            "lxml                          4.9.2\n",
            "Markdown                      3.4.3\n",
            "markdown-it-py                2.2.0\n",
            "MarkupSafe                    2.1.2\n",
            "matplotlib                    3.7.1\n",
            "matplotlib-inline             0.1.6\n",
            "matplotlib-venn               0.11.9\n",
            "mdurl                         0.1.2\n",
            "miniKanren                    1.0.3\n",
            "missingno                     0.5.2\n",
            "mistune                       0.8.4\n",
            "mizani                        0.8.1\n",
            "mkl                           2019.0\n",
            "ml-dtypes                     0.1.0\n",
            "mlxtend                       0.14.0\n",
            "more-itertools                9.1.0\n",
            "moviepy                       1.0.3\n",
            "mpmath                        1.3.0\n",
            "msgpack                       1.0.5\n",
            "multipledispatch              0.6.0\n",
            "multitasking                  0.0.11\n",
            "murmurhash                    1.0.9\n",
            "music21                       8.1.0\n",
            "natsort                       8.3.1\n",
            "nbclient                      0.7.3\n",
            "nbconvert                     6.5.4\n",
            "nbformat                      5.8.0\n",
            "nest-asyncio                  1.5.6\n",
            "networkx                      3.1\n",
            "nibabel                       3.0.2\n",
            "nltk                          3.8.1\n",
            "notebook                      6.4.8\n",
            "numba                         0.56.4\n",
            "numexpr                       2.8.4\n",
            "numpy                         1.22.4\n",
            "oauth2client                  4.1.3\n",
            "oauthlib                      3.2.2\n",
            "opencv-contrib-python         4.7.0.72\n",
            "opencv-python                 4.7.0.72\n",
            "opencv-python-headless        4.7.0.72\n",
            "openpyxl                      3.0.10\n",
            "opt-einsum                    3.3.0\n",
            "optax                         0.1.4\n",
            "orbax                         0.1.7\n",
            "osqp                          0.6.2.post0\n",
            "packaging                     23.1\n",
            "palettable                    3.3.2\n",
            "pandas                        1.5.3\n",
            "pandas-datareader             0.10.0\n",
            "pandas-gbq                    0.17.9\n",
            "pandocfilters                 1.5.0\n",
            "panel                         0.14.4\n",
            "param                         1.13.0\n",
            "parso                         0.8.3\n",
            "partd                         1.4.0\n",
            "pathlib                       1.0.1\n",
            "pathy                         0.10.1\n",
            "patsy                         0.5.3\n",
            "pep517                        0.13.0\n",
            "pexpect                       4.8.0\n",
            "pickleshare                   0.7.5\n",
            "Pillow                        8.4.0\n",
            "pip                           23.0.1\n",
            "pip-tools                     6.6.2\n",
            "platformdirs                  3.2.0\n",
            "plotly                        5.13.1\n",
            "plotnine                      0.10.1\n",
            "pluggy                        1.0.0\n",
            "polars                        0.17.3\n",
            "pooch                         1.6.0\n",
            "portpicker                    1.3.9\n",
            "prefetch-generator            1.0.3\n",
            "preshed                       3.0.8\n",
            "prettytable                   0.7.2\n",
            "proglog                       0.1.10\n",
            "progressbar2                  4.2.0\n",
            "prometheus-client             0.16.0\n",
            "promise                       2.3\n",
            "prompt-toolkit                3.0.38\n",
            "prophet                       1.1.2\n",
            "proto-plus                    1.22.2\n",
            "protobuf                      3.20.3\n",
            "psutil                        5.9.5\n",
            "psycopg2                      2.9.6\n",
            "ptyprocess                    0.7.0\n",
            "py-cpuinfo                    9.0.0\n",
            "py4j                          0.10.9.7\n",
            "pyarrow                       9.0.0\n",
            "pyasn1                        0.4.8\n",
            "pyasn1-modules                0.2.8\n",
            "pycocotools                   2.0.6\n",
            "pycparser                     2.21\n",
            "pyct                          0.5.0\n",
            "pydantic                      1.10.7\n",
            "pydata-google-auth            1.7.0\n",
            "pydot                         1.4.2\n",
            "pydot-ng                      2.0.0\n",
            "pydotplus                     2.0.2\n",
            "PyDrive                       1.3.1\n",
            "pyerfa                        2.0.0.3\n",
            "pygame                        2.3.0\n",
            "Pygments                      2.14.0\n",
            "PyGObject                     3.36.0\n",
            "pymc                          5.1.2\n",
            "PyMeeus                       0.5.12\n",
            "pymystem3                     0.2.0\n",
            "PyOpenGL                      3.1.6\n",
            "pyparsing                     3.0.9\n",
            "pyrsistent                    0.19.3\n",
            "PySocks                       1.7.1\n",
            "pytensor                      2.10.1\n",
            "pytest                        7.2.2\n",
            "python-apt                    0.0.0\n",
            "python-dateutil               2.8.2\n",
            "python-louvain                0.16\n",
            "python-slugify                8.0.1\n",
            "python-utils                  3.5.2\n",
            "pytz                          2022.7.1\n",
            "pytz-deprecation-shim         0.1.0.post0\n",
            "pyviz-comms                   2.2.1\n",
            "PyWavelets                    1.4.1\n",
            "PyYAML                        6.0\n",
            "pyzmq                         23.2.1\n",
            "qdldl                         0.1.7\n",
            "qudida                        0.0.4\n",
            "regex                         2022.10.31\n",
            "requests                      2.27.1\n",
            "requests-oauthlib             1.3.1\n",
            "requests-unixsocket           0.2.0\n",
            "rich                          13.3.4\n",
            "rpy2                          3.5.5\n",
            "rsa                           4.9\n",
            "scikit-image                  0.19.3\n",
            "scikit-learn                  1.2.2\n",
            "scipy                         1.10.1\n",
            "scs                           3.2.3\n",
            "seaborn                       0.12.2\n",
            "Send2Trash                    1.8.0\n",
            "setuptools                    67.6.1\n",
            "shapely                       2.0.1\n",
            "six                           1.16.0\n",
            "sklearn-pandas                2.2.0\n",
            "smart-open                    6.3.0\n",
            "sniffio                       1.3.0\n",
            "snowballstemmer               2.2.0\n",
            "sortedcontainers              2.4.0\n",
            "soundfile                     0.12.1\n",
            "soupsieve                     2.4.1\n",
            "soxr                          0.3.5\n",
            "spacy                         3.5.2\n",
            "spacy-legacy                  3.0.12\n",
            "spacy-loggers                 1.0.4\n",
            "Sphinx                        3.5.4\n",
            "sphinxcontrib-applehelp       1.0.4\n",
            "sphinxcontrib-devhelp         1.0.2\n",
            "sphinxcontrib-htmlhelp        2.0.1\n",
            "sphinxcontrib-jsmath          1.0.1\n",
            "sphinxcontrib-qthelp          1.0.3\n",
            "sphinxcontrib-serializinghtml 1.1.5\n",
            "SQLAlchemy                    2.0.9\n",
            "sqlparse                      0.4.3\n",
            "srsly                         2.4.6\n",
            "statsmodels                   0.13.5\n",
            "sympy                         1.11.1\n",
            "tables                        3.8.0\n",
            "tabulate                      0.8.10\n",
            "tblib                         1.7.0\n",
            "tenacity                      8.2.2\n",
            "tensorboard                   2.12.2\n",
            "tensorboard-data-server       0.7.0\n",
            "tensorboard-plugin-wit        1.8.1\n",
            "tensorflow                    2.12.0\n",
            "tensorflow-datasets           4.8.3\n",
            "tensorflow-estimator          2.12.0\n",
            "tensorflow-gcs-config         2.12.0\n",
            "tensorflow-hub                0.13.0\n",
            "tensorflow-io-gcs-filesystem  0.32.0\n",
            "tensorflow-metadata           1.13.1\n",
            "tensorflow-probability        0.19.0\n",
            "tensorstore                   0.1.35\n",
            "termcolor                     2.2.0\n",
            "terminado                     0.17.1\n",
            "text-unidecode                1.3\n",
            "textblob                      0.17.1\n",
            "tf-slim                       1.1.0\n",
            "thinc                         8.1.9\n",
            "threadpoolctl                 3.1.0\n",
            "tifffile                      2023.4.12\n",
            "tinycss2                      1.2.1\n",
            "toml                          0.10.2\n",
            "tomli                         2.0.1\n",
            "toolz                         0.12.0\n",
            "torch                         2.0.0+cu118\n",
            "torchaudio                    2.0.1+cu118\n",
            "torchdata                     0.6.0\n",
            "torchsummary                  1.5.1\n",
            "torchtext                     0.15.1\n",
            "torchvision                   0.15.1+cu118\n",
            "tornado                       6.2\n",
            "tqdm                          4.65.0\n",
            "traitlets                     5.7.1\n",
            "triton                        2.0.0\n",
            "tweepy                        4.13.0\n",
            "typer                         0.7.0\n",
            "typing_extensions             4.5.0\n",
            "tzdata                        2023.3\n",
            "tzlocal                       4.3\n",
            "uritemplate                   4.1.1\n",
            "urllib3                       1.26.15\n",
            "vega-datasets                 0.9.0\n",
            "wasabi                        1.1.1\n",
            "wcwidth                       0.2.6\n",
            "webcolors                     1.13\n",
            "webencodings                  0.5.1\n",
            "websocket-client              1.5.1\n",
            "Werkzeug                      2.2.3\n",
            "wheel                         0.40.0\n",
            "widgetsnbextension            3.6.4\n",
            "wordcloud                     1.8.2.2\n",
            "wrapt                         1.14.1\n",
            "xarray                        2022.12.0\n",
            "xarray-einstats               0.5.1\n",
            "xgboost                       1.7.5\n",
            "xlrd                          2.0.1\n",
            "yellowbrick                   1.5\n",
            "yfinance                      0.2.18\n",
            "zict                          2.2.0\n",
            "zipp                          3.15.0\n"
          ]
        }
      ],
      "source": [
        "# we are interested in getting a list of all installed external libraries\n",
        "!pip list # turns out on Google Colabe you have many installed external packages"
      ]
    },
    {
      "cell_type": "code",
      "execution_count": 8,
      "metadata": {
        "colab": {
          "base_uri": "https://localhost:8080/"
        },
        "id": "SQ-O-SxsECLc",
        "outputId": "01e04196-88a2-449b-f14f-b18ce004334c"
      },
      "outputs": [
        {
          "name": "stdout",
          "output_type": "stream",
          "text": [
            "413\n"
          ]
        }
      ],
      "source": [
        "# in Linux can pipe the output to another command here wc -l counts lines\n",
        "!pip list | wc -l"
      ]
    },
    {
      "cell_type": "markdown",
      "metadata": {
        "id": "Vb0ziwYrE17s"
      },
      "source": [
        "## colored library\n",
        "\n",
        "We will install a library for colored output in terminal\n",
        "\n",
        "https://pypi.org/project/colored/"
      ]
    },
    {
      "cell_type": "code",
      "execution_count": 9,
      "metadata": {
        "colab": {
          "base_uri": "https://localhost:8080/"
        },
        "id": "LXLPS1bLE0ra",
        "outputId": "b6d84a01-e31d-44ce-eccc-464ec6dd6e25"
      },
      "outputs": [
        {
          "name": "stdout",
          "output_type": "stream",
          "text": [
            "Looking in indexes: https://pypi.org/simple, https://us-python.pkg.dev/colab-wheels/public/simple/\n",
            "Collecting colored\n",
            "  Downloading colored-1.4.4.tar.gz (36 kB)\n",
            "  Preparing metadata (setup.py) ... \u001b[?25l\u001b[?25hdone\n",
            "Building wheels for collected packages: colored\n",
            "  Building wheel for colored (setup.py) ... \u001b[?25l\u001b[?25hdone\n",
            "  Created wheel for colored: filename=colored-1.4.4-py3-none-any.whl size=14268 sha256=d78d65e1cae468445a44a0bf3f33bc87c388a2bcb49e5a332b851e9e86d9896a\n",
            "  Stored in directory: /root/.cache/pip/wheels/7a/f5/27/54cfa98930f018369067d8d02e508e053b1fec3704c258916b\n",
            "Successfully built colored\n",
            "Installing collected packages: colored\n",
            "Successfully installed colored-1.4.4\n"
          ]
        }
      ],
      "source": [
        "# in your computer you would only need to do this once or when you need updated version\n",
        "!pip install colored"
      ]
    },
    {
      "cell_type": "code",
      "execution_count": 10,
      "metadata": {
        "id": "L0VKsMpZFDFJ"
      },
      "outputs": [],
      "source": [
        "import colored"
      ]
    },
    {
      "cell_type": "code",
      "execution_count": 11,
      "metadata": {
        "id": "djxqmEhBFPlG"
      },
      "outputs": [],
      "source": [
        "from colored import fg, bg, attr"
      ]
    },
    {
      "cell_type": "code",
      "execution_count": 12,
      "metadata": {
        "colab": {
          "base_uri": "https://localhost:8080/"
        },
        "id": "3VbCEM4qFaQ5",
        "outputId": "53475b6d-1e0d-4870-dc51-c24db8697913"
      },
      "outputs": [
        {
          "name": "stdout",
          "output_type": "stream",
          "text": [
            " Hello World !!! \n"
          ]
        }
      ],
      "source": [
        "print(f'{fg(1)} Hello World !!! {attr(0)}') # so this would work in a script on terminal not in web page notebook"
      ]
    },
    {
      "cell_type": "code",
      "execution_count": 13,
      "metadata": {
        "colab": {
          "base_uri": "https://localhost:8080/"
        },
        "id": "VJyKYTFkF9Oo",
        "outputId": "c23c0e2c-a660-4c04-caf8-837bc7341e82"
      },
      "outputs": [
        {
          "name": "stdout",
          "output_type": "stream",
          "text": [
            "\u001b[31m\"red\"\u001b[0m\n"
          ]
        }
      ],
      "source": [
        "print(\"\\x1b[31m\\\"red\\\"\\x1b[0m\") # on notebooks you would use special codes for color printing no library needed"
      ]
    },
    {
      "cell_type": "code",
      "execution_count": 1,
      "metadata": {},
      "outputs": [
        {
          "name": "stdout",
          "output_type": "stream",
          "text": [
            "Package           Version\n",
            "----------------- -------\n",
            "asttokens         2.2.1\n",
            "backcall          0.2.0\n",
            "colorama          0.4.6\n",
            "comm              0.1.3\n",
            "debugpy           1.6.7\n",
            "decorator         5.1.1\n",
            "executing         1.2.0\n",
            "ipykernel         6.22.0\n",
            "ipython           8.12.0\n",
            "jedi              0.18.2\n",
            "jupyter_client    8.2.0\n",
            "jupyter_core      5.3.0\n",
            "matplotlib-inline 0.1.6\n",
            "nest-asyncio      1.5.6\n",
            "packaging         23.1\n",
            "parso             0.8.3\n",
            "pickleshare       0.7.5\n",
            "pip               22.3.1\n",
            "platformdirs      3.2.0\n",
            "prompt-toolkit    3.0.38\n",
            "psutil            5.9.5\n",
            "pure-eval         0.2.2\n",
            "Pygments          2.15.1\n",
            "python-dateutil   2.8.2\n",
            "pywin32           306\n",
            "pyzmq             25.0.2\n",
            "setuptools        65.5.0\n",
            "six               1.16.0\n",
            "stack-data        0.6.2\n",
            "tornado           6.3.1\n",
            "traitlets         5.9.0\n",
            "wcwidth           0.2.6\n"
          ]
        },
        {
          "name": "stderr",
          "output_type": "stream",
          "text": [
            "\n",
            "[notice] A new release of pip available: 22.3.1 -> 23.1.1\n",
            "[notice] To update, run: python.exe -m pip install --upgrade pip\n"
          ]
        }
      ],
      "source": [
        "## Locally installed packages\n",
        "!pip list"
      ]
    },
    {
      "attachments": {},
      "cell_type": "markdown",
      "metadata": {},
      "source": [
        "### saving requirements.txt\n",
        "\n",
        "\n",
        "\n",
        "So above would be bare basic libraries needed to use Python as a Jupyter notebook in a virtual environment\n",
        "\n",
        "We would like to preserver this setup so that we can easily recreate it on another machine\n",
        "\n",
        "We do not want to save the virtual environment itself, but we want to save the list of libraries that we installed - the requirements\n",
        "\n",
        "```pip freeze > requirements.txt```\n"
      ]
    },
    {
      "cell_type": "code",
      "execution_count": null,
      "metadata": {},
      "outputs": [],
      "source": [
        "!pip freeze > requirements.txt # so this will create a file with all installed packages"
      ]
    },
    {
      "attachments": {},
      "cell_type": "markdown",
      "metadata": {},
      "source": [
        "## Virtual Environment\n",
        "\n",
        "It is considered best practice to create a virtual environment for each project. This will isolate your project from other projects.\n",
        "\n",
        "This means each project will have its own Python installation and its own set of libraries - besides the standard library.\n",
        "\n",
        "This way if some library is not compatible with your project, you can simply create a new virtual environment and install the compatible version of the library.\n",
        "\n",
        "### Creating a virtual environment\n",
        "\n",
        "```python -m venv venv``` \n",
        "Note: second venv can be any name you want"
      ]
    },
    {
      "attachments": {},
      "cell_type": "markdown",
      "metadata": {},
      "source": [
        "## Activating a virtual environment\n",
        "\n",
        "```source venv/bin/activate``` on Linux\n",
        "\n",
        "```venv\\Scripts\\activate.Ps1``` on Windows\n",
        "\n",
        "## Deactivating a virtual environment\n",
        "\n",
        "```deactivate```"
      ]
    },
    {
      "attachments": {},
      "cell_type": "markdown",
      "metadata": {},
      "source": [
        "## Let's install some library such as Plotly for visualization\n",
        "\n",
        "```pip install plotly```\n",
        "\n",
        "IF you called this command from virtual environment, it will install the library (and all the libraries that support this library) in the virtual environment"
      ]
    },
    {
      "attachments": {},
      "cell_type": "markdown",
      "metadata": {},
      "source": [
        "## Freeze after installing libraries\n",
        "\n",
        "```pip freeze > requirements.txt``` \n",
        "\n",
        "requirements.txt is just a name. You can call it anything you want but it is a good practice to call it requirements.txt"
      ]
    },
    {
      "attachments": {},
      "cell_type": "markdown",
      "metadata": {},
      "source": [
        "## Installing specific version of a library\n",
        "\n",
        "```pip install numpy==1.19.2```\n",
        "\n",
        "You would do this if you want to make sure that you are using the same version of a library as someone else"
      ]
    },
    {
      "attachments": {},
      "cell_type": "markdown",
      "metadata": {},
      "source": [
        "## Installing from requirements.txt\n",
        "\n",
        "Do this only after you've have activated the virtual environment!!!\n",
        "Otherwise you will install the libraries in your global Python installation\n",
        "\n",
        "```pip install -r requirements.txt```"
      ]
    }
  ],
  "metadata": {
    "colab": {
      "provenance": [],
      "toc_visible": true
    },
    "kernelspec": {
      "display_name": "Python 3",
      "language": "python",
      "name": "python3"
    },
    "language_info": {
      "codemirror_mode": {
        "name": "ipython",
        "version": 3
      },
      "file_extension": ".py",
      "mimetype": "text/x-python",
      "name": "python",
      "nbconvert_exporter": "python",
      "pygments_lexer": "ipython3",
      "version": "3.11.3"
    },
    "orig_nbformat": 4
  },
  "nbformat": 4,
  "nbformat_minor": 0
}
