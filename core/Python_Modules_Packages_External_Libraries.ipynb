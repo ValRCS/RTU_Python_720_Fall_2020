{
 "cells": [
  {
   "cell_type": "markdown",
   "metadata": {
    "id": "mQvuSk0jCjmH"
   },
   "source": [
    "# Python Modules, Packages, and External Libraries\n"
   ]
  },
  {
   "cell_type": "code",
   "execution_count": null,
   "metadata": {},
   "outputs": [],
   "source": []
  },
  {
   "cell_type": "markdown",
   "metadata": {
    "id": "K5HtGhXtCjmP"
   },
   "source": [
    "## Python Modules\n",
    "\n",
    "What is a module?\n",
    "\n",
    "A module is a file containing Python definitions and statements. The file name is the module name with the suffix .py appended.\n",
    "\n",
    "Modules let us organize code into reusable files. We can import modules into other modules, or into the main module (the script being executed)."
   ]
  },
  {
   "cell_type": "code",
   "execution_count": 1,
   "metadata": {
    "colab": {
     "base_uri": "https://localhost:8080/"
    },
    "id": "E75n6U4pCjmP",
    "outputId": "c8b01376-1b24-4872-9908-51b0fe744ca1"
   },
   "outputs": [
    {
     "name": "stdout",
     "output_type": "stream",
     "text": [
      "Hello Python modules!\n"
     ]
    }
   ],
   "source": [
    "print(\"Hello Python modules!\")"
   ]
  },
  {
   "cell_type": "code",
   "execution_count": 3,
   "metadata": {},
   "outputs": [
    {
     "name": "stdout",
     "output_type": "stream",
     "text": [
      "Python search path: ['c:\\\\Program Files\\\\Python312\\\\python312.zip', 'c:\\\\Program Files\\\\Python312\\\\DLLs', 'c:\\\\Program Files\\\\Python312\\\\Lib', 'c:\\\\Program Files\\\\Python312', '', 'C:\\\\Users\\\\val-wd\\\\AppData\\\\Roaming\\\\Python\\\\Python312\\\\site-packages', 'C:\\\\Users\\\\val-wd\\\\AppData\\\\Roaming\\\\Python\\\\Python312\\\\site-packages\\\\win32', 'C:\\\\Users\\\\val-wd\\\\AppData\\\\Roaming\\\\Python\\\\Python312\\\\site-packages\\\\win32\\\\lib', 'C:\\\\Users\\\\val-wd\\\\AppData\\\\Roaming\\\\Python\\\\Python312\\\\site-packages\\\\Pythonwin', 'c:\\\\Program Files\\\\Python312\\\\Lib\\\\site-packages']\n"
     ]
    }
   ],
   "source": [
    "# let's show the current search path for loading modules\n",
    "import sys\n",
    "print(f\"Python search path: {sys.path}\")"
   ]
  },
  {
   "cell_type": "code",
   "execution_count": 1,
   "metadata": {
    "id": "vjm5tdHGCjmS"
   },
   "outputs": [],
   "source": [
    "import myAprilMod # this will work as long as we have myAprilMod.py in my current search path starting with current directory"
   ]
  },
  {
   "cell_type": "markdown",
   "metadata": {},
   "source": [
    "## Using Modules"
   ]
  },
  {
   "cell_type": "code",
   "execution_count": 2,
   "metadata": {
    "colab": {
     "base_uri": "https://localhost:8080/"
    },
    "id": "4siedZC2CjmS",
    "outputId": "884cac03-0c2f-493c-dd2d-af9166cf6c4f"
   },
   "outputs": [
    {
     "data": {
      "text/plain": [
       "7"
      ]
     },
     "execution_count": 2,
     "metadata": {},
     "output_type": "execute_result"
    }
   ],
   "source": [
    "myAprilMod.add(3, 4)"
   ]
  },
  {
   "cell_type": "code",
   "execution_count": 7,
   "metadata": {
    "colab": {
     "base_uri": "https://localhost:8080/"
    },
    "id": "602XjF3DCjmT",
    "outputId": "28f30431-7e48-452d-fefb-d159afc8fbe9"
   },
   "outputs": [
    {
     "data": {
      "text/plain": [
       "6"
      ]
     },
     "execution_count": 7,
     "metadata": {},
     "output_type": "execute_result"
    }
   ],
   "source": [
    "myAprilMod.sub(10,4)"
   ]
  },
  {
   "cell_type": "code",
   "execution_count": 8,
   "metadata": {
    "id": "MPr8_uKZCjmU",
    "outputId": "21b33902-5a30-4616-d3d9-7427495ee9f3"
   },
   "outputs": [
    {
     "data": {
      "text/plain": [
       "3.14"
      ]
     },
     "execution_count": 8,
     "metadata": {},
     "output_type": "execute_result"
    }
   ],
   "source": [
    "myAprilMod.MYPI"
   ]
  },
  {
   "cell_type": "code",
   "execution_count": 9,
   "metadata": {
    "id": "lmGyWtaOCjmV",
    "outputId": "8e8125ef-1e10-4690-ce69-ff915cf308ef"
   },
   "outputs": [
    {
     "data": {
      "text/plain": [
       "'Hello darkness my old friend'"
      ]
     },
     "execution_count": 9,
     "metadata": {},
     "output_type": "execute_result"
    }
   ],
   "source": [
    "myAprilMod.some_text"
   ]
  },
  {
   "cell_type": "code",
   "execution_count": null,
   "metadata": {},
   "outputs": [
    {
     "name": "stdout",
     "output_type": "stream",
     "text": [
      "Name: Alice, Age: 25\n"
     ]
    }
   ],
   "source": [
    "# how about some Person objects from myAprilMod\n",
    "alice = myAprilMod.Person(\"Alice\", 25) # if you modify the .py file and reload, you will need to restart the kernel\n",
    "# otherwise the notebook will use the cached version of the module which is out of date\n",
    "print(alice)"
   ]
  },
  {
   "cell_type": "markdown",
   "metadata": {
    "id": "fbNRV072CjmW"
   },
   "source": [
    "## Why use modules?\n",
    "\n",
    "* Keep Python files small\n",
    "* Reuse code across multiple files by importing\n",
    "* A module can define functions, classes, and variables\n",
    "* modules should not do anything when imported, only define things to be used by the program/script/notebook\n",
    "* namespaces prevent name collisions across modules - IMPORTANT"
   ]
  },
  {
   "cell_type": "markdown",
   "metadata": {
    "id": "zQJt7XZHCjmW"
   },
   "source": [
    "### Importing Modules with different names\n",
    "\n",
    "We can import modules with different names using the `as` keyword.\n",
    "\n",
    "\n"
   ]
  },
  {
   "cell_type": "code",
   "execution_count": 4,
   "metadata": {
    "colab": {
     "base_uri": "https://localhost:8080/"
    },
    "id": "WdcexE3WCjmX",
    "outputId": "415b8f63-c0fe-4596-8cb6-f9229e003ced"
   },
   "outputs": [
    {
     "data": {
      "text/plain": [
       "40"
      ]
     },
     "execution_count": 4,
     "metadata": {},
     "output_type": "execute_result"
    }
   ],
   "source": [
    "import myAprilMod as myMod # so have different name for module\n",
    "# very common is import as short abbreviation\n",
    "# for example \n",
    "# import numpy as np - numpy is a very popular numerical library\n",
    "myMod.add(10,30)"
   ]
  },
  {
   "cell_type": "code",
   "execution_count": 5,
   "metadata": {
    "id": "23dCr2hDCjmY",
    "outputId": "730f4288-a21f-43a0-ada1-1d384832fbc7"
   },
   "outputs": [
    {
     "data": {
      "text/plain": [
       "15"
      ]
     },
     "execution_count": 5,
     "metadata": {},
     "output_type": "execute_result"
    }
   ],
   "source": [
    "myMod.sub(45,30)  #of course now I have two names for the same module\n",
    "# ordinarily I would not do this I would just import the module once"
   ]
  },
  {
   "cell_type": "markdown",
   "metadata": {
    "id": "KV9XCzDBCjmY"
   },
   "source": [
    "### Import some specific functions or variables from a module\n"
   ]
  },
  {
   "cell_type": "code",
   "execution_count": 6,
   "metadata": {
    "id": "wV7sC0XMCjmZ"
   },
   "outputs": [],
   "source": [
    "from myAprilMod import add # so I can import just one function\n",
    "# Usually you do not need to rename the function or variable but you can\n",
    "from myAprilMod import MYPI as SUPERPI # so I can rename the constant\n",
    "\n",
    "# careful with renaming functions and variables as it can make code harder to read\n",
    "# also you could be overwriting a function or variable that you have already defined\n",
    "# by importing specific functions or variables we lose namespace protection"
   ]
  },
  {
   "cell_type": "code",
   "execution_count": 8,
   "metadata": {
    "id": "z8RaPO0uCjmZ",
    "outputId": "f13d162b-e690-4234-ed98-f4145e38737d"
   },
   "outputs": [
    {
     "name": "stdout",
     "output_type": "stream",
     "text": [
      "60\n",
      "3.14\n"
     ]
    }
   ],
   "source": [
    "print(add(50,10))\n",
    "print(SUPERPI)\n"
   ]
  },
  {
   "cell_type": "markdown",
   "metadata": {
    "id": "ZcNsvbuwCjmZ"
   },
   "source": [
    "### Import all functions and variables from a module - AVOID\n",
    "\n",
    "```from my_module import * # AVOID```\n",
    "\n",
    "AVOID this method. It is not clear where the functions and variables are coming from. It can also cause name collisions if you import two modules that have the same function or variable names."
   ]
  },
  {
   "cell_type": "markdown",
   "metadata": {
    "id": "yGt-GT_ZCjma"
   },
   "source": [
    "## Python Packages\n",
    "\n",
    "What is a package?\n",
    "\n",
    "A package is a collection of modules. \n",
    "\n",
    "It used to be a directory of Python modules containing an additional `__init__.py` file. The `__init__.py` file is used to distinguish packages from directories that just happen to contain a bunch of Python scripts.\n",
    "\n",
    "NOTE: `__init__.py` is not required since Python 3.3"
   ]
  },
  {
   "cell_type": "code",
   "execution_count": 9,
   "metadata": {
    "id": "Aj1RGk6jCjma"
   },
   "outputs": [],
   "source": [
    "from myAprilPackage import my_numeric_mod  # again you would need myAprilPackage folder for this to work\n",
    "# and myAprilPackage should have my_numeri_mod.py inside\n",
    "# and also my_string_mod.py inside\n",
    "# I could also import second one\n",
    "from myAprilPackage import my_string_mod as myStrMod # I could rename it"
   ]
  },
  {
   "cell_type": "code",
   "execution_count": 10,
   "metadata": {
    "id": "-WKtKD9wCjma",
    "outputId": "55d0ba6e-0d26-4a0e-a083-b5568afe23d3"
   },
   "outputs": [
    {
     "data": {
      "text/plain": [
       "1000"
      ]
     },
     "execution_count": 10,
     "metadata": {},
     "output_type": "execute_result"
    }
   ],
   "source": [
    "my_numeric_mod.cube(10)"
   ]
  },
  {
   "cell_type": "code",
   "execution_count": 11,
   "metadata": {
    "id": "IVOhtsFoCjmb",
    "outputId": "3f941983-80a6-4731-e693-0d4a2ad25d42"
   },
   "outputs": [
    {
     "data": {
      "text/plain": [
       "'dneirf dlo ym ssenkrad olleH'"
      ]
     },
     "execution_count": 11,
     "metadata": {},
     "output_type": "execute_result"
    }
   ],
   "source": [
    "myStrMod.text_reverser(\"Hello darkness my old friend\")"
   ]
  },
  {
   "cell_type": "markdown",
   "metadata": {
    "id": "NEjt6mYgCjmb"
   },
   "source": [
    "### Importing whole package\n",
    "\n",
    "```import my_package```"
   ]
  },
  {
   "cell_type": "code",
   "execution_count": 12,
   "metadata": {
    "id": "8gy5z3ByCjmb",
    "outputId": "a95ed4a4-8932-462a-b7b2-6f95a37a9e47"
   },
   "outputs": [
    {
     "data": {
      "text/plain": [
       "100"
      ]
     },
     "execution_count": 12,
     "metadata": {},
     "output_type": "execute_result"
    }
   ],
   "source": [
    "import myAprilPackage # so I can import the whole package\n",
    "# you will still need to write the whole thing\n",
    "myAprilPackage.my_numeric_mod.square(10)"
   ]
  },
  {
   "cell_type": "code",
   "execution_count": 13,
   "metadata": {
    "id": "cAYqXDImCjmc",
    "outputId": "b078e85a-df09-45cd-b3ec-07338bd97095"
   },
   "outputs": [
    {
     "data": {
      "text/plain": [
       "'BeerBeerBeer'"
      ]
     },
     "execution_count": 13,
     "metadata": {},
     "output_type": "execute_result"
    }
   ],
   "source": [
    "myAprilPackage.my_string_mod.text_repeater(\"Beer\", 3)"
   ]
  },
  {
   "cell_type": "code",
   "execution_count": null,
   "metadata": {},
   "outputs": [
    {
     "data": {
      "text/plain": [
       "100"
      ]
     },
     "execution_count": 14,
     "metadata": {},
     "output_type": "execute_result"
    }
   ],
   "source": [
    "# you could import package and rename it\n",
    "import myAprilPackage as myPack\n",
    "# i still will need the full path\n",
    "myPack.my_numeric_mod.square(10)\n",
    "\n",
    "# again reminder that you do not need to import multiple times\n",
    "# here we are importing the same package multiple times"
   ]
  },
  {
   "cell_type": "markdown",
   "metadata": {
    "id": "SvpIn9dACjmc"
   },
   "source": [
    "## Python Libraries\n",
    "\n",
    "What is a library?\n",
    "\n",
    "A library is a collection of packages and modules. The Python Standard Library is a collection of libraries.\n",
    "\n",
    "So modules -> packages -> libraries"
   ]
  },
  {
   "cell_type": "markdown",
   "metadata": {
    "id": "BCtXqBw5Cjmc"
   },
   "source": [
    "## External libraries\n",
    "\n",
    "Python has a rich ecosystem of third-party libraries. These libraries are not part of the Python Standard Library. They are developed and maintained by the Python community.\n",
    "\n",
    "### PyPI - Python Package Index\n",
    "\n",
    "PyPI is a repository for open-source third-party Python packages.\n",
    "\n",
    "**URL: https://pypi.org/**\n",
    "\n",
    "### Installing external libraries \n",
    "We can install external libraries using the `pip` command.\n",
    "\n",
    "```pip install numpy```\n",
    "\n",
    "Installing libraries by default puts them in the `site-packages` directory.\n",
    "They will be available for all Python scripts and projects.\n",
    "\n",
    "You might not want to install libraries globally. You can install them locally in your project directory.\n",
    "\n",
    "Also you might want to make a virtual environment for your project. This will isolate your project from other projects.\n",
    "\n",
    "### Using virtual environments\n",
    "\n",
    "```python -m venv my_project``` \n",
    "\n",
    "We would talk about virtual environments in more detail in the next section.\n",
    "\n",
    "### Using external libraries\n",
    "\n",
    "```import numpy```\n",
    "\n"
   ]
  },
  {
   "cell_type": "code",
   "execution_count": 2,
   "metadata": {},
   "outputs": [
    {
     "name": "stdout",
     "output_type": "stream",
     "text": [
      "tqdm not installed, please install it with 'pip install tqdm'\n",
      "if you are using Jupyter Notebook, you can install it with '!pip install tqdm'\n"
     ]
    }
   ],
   "source": [
    "try:\n",
    "    from tqdm import tqdm\n",
    "except ImportError:\n",
    "    print(\"tqdm not installed, please install it with 'pip install tqdm'\")\n",
    "    print(\"if you are using Jupyter Notebook, you can install it with '!pip install tqdm'\")"
   ]
  },
  {
   "cell_type": "code",
   "execution_count": 18,
   "metadata": {},
   "outputs": [
    {
     "name": "stderr",
     "output_type": "stream",
     "text": [
      "100%|██████████| 10/10 [00:05<00:00,  1.99it/s]\n"
     ]
    }
   ],
   "source": [
    "# let's show tqdm in action\n",
    "import time # sleep is from time module in standard library\n",
    "for i in tqdm(range(10)):\n",
    "    time.sleep(0.5)"
   ]
  },
  {
   "cell_type": "code",
   "execution_count": 20,
   "metadata": {},
   "outputs": [
    {
     "name": "stderr",
     "output_type": "stream",
     "text": [
      "100%|██████████| 10000000/10000000 [00:02<00:00, 3717690.50it/s]"
     ]
    },
    {
     "name": "stdout",
     "output_type": "stream",
     "text": [
      "49999995000000\n"
     ]
    },
    {
     "name": "stderr",
     "output_type": "stream",
     "text": [
      "\n"
     ]
    }
   ],
   "source": [
    "# let's count some numbers 10_000_000 times\n",
    "total = 0\n",
    "for i in tqdm(range(10_000_000)):\n",
    "    total += i\n",
    "print(total)"
   ]
  },
  {
   "cell_type": "markdown",
   "metadata": {
    "id": "i1mBHIX7DR5a"
   },
   "source": [
    "## Calling Terminal commands from notebook\n",
    "\n",
    "It might be beneficial to call terminal commands from\n",
    "In Colab you would be calling Linux commands\n",
    "From your Windows machine you would be calling Windows commands\n",
    "\n",
    "You simply prefix !\n",
    "```!dir```"
   ]
  },
  {
   "cell_type": "code",
   "execution_count": 6,
   "metadata": {
    "colab": {
     "base_uri": "https://localhost:8080/"
    },
    "id": "nB85-jAbDQMP",
    "outputId": "7be12350-c0c1-4259-ba70-bfdbe0ad38f6"
   },
   "outputs": [
    {
     "name": "stdout",
     "output_type": "stream",
     "text": [
      "myAprilMod.py  __pycache__  sample_data\n"
     ]
    }
   ],
   "source": [
    "!dir"
   ]
  },
  {
   "cell_type": "code",
   "execution_count": 3,
   "metadata": {
    "colab": {
     "base_uri": "https://localhost:8080/"
    },
    "id": "MWcfLxNUDtAJ",
    "outputId": "cae1f0a2-a796-4451-bcbb-8904cade1ba9"
   },
   "outputs": [
    {
     "name": "stdout",
     "output_type": "stream",
     "text": [
      "Package           Version\n",
      "----------------- -----------\n",
      "asttokens         2.4.1\n",
      "colorama          0.4.6\n",
      "comm              0.2.2\n",
      "debugpy           1.8.8\n",
      "decorator         5.1.1\n",
      "executing         2.1.0\n",
      "ipykernel         6.29.5\n",
      "ipython           8.29.0\n",
      "jedi              0.19.2\n",
      "jupyter_client    8.6.3\n",
      "jupyter_core      5.7.2\n",
      "matplotlib-inline 0.1.7\n",
      "nest-asyncio      1.6.0\n",
      "packaging         24.2\n",
      "parso             0.8.4\n",
      "pip               24.2\n",
      "platformdirs      4.3.6\n",
      "prompt_toolkit    3.0.48\n",
      "psutil            6.1.0\n",
      "pure_eval         0.2.3\n",
      "Pygments          2.18.0\n",
      "python-dateutil   2.9.0.post0\n",
      "pywin32           308\n",
      "pyzmq             26.2.0\n",
      "six               1.16.0\n",
      "stack-data        0.6.3\n",
      "tornado           6.4.1\n",
      "tqdm              4.67.0\n",
      "traitlets         5.14.3\n",
      "wcwidth           0.2.13\n"
     ]
    }
   ],
   "source": [
    "# we are interested in getting a list of all installed external libraries\n",
    "!pip list # turns out on Google Colab you have many installed external packages"
   ]
  },
  {
   "cell_type": "code",
   "execution_count": 8,
   "metadata": {
    "colab": {
     "base_uri": "https://localhost:8080/"
    },
    "id": "SQ-O-SxsECLc",
    "outputId": "01e04196-88a2-449b-f14f-b18ce004334c"
   },
   "outputs": [
    {
     "name": "stdout",
     "output_type": "stream",
     "text": [
      "413\n"
     ]
    }
   ],
   "source": [
    "# in Linux can pipe the output to another command here wc -l counts lines\n",
    "!pip list | wc -l"
   ]
  },
  {
   "cell_type": "markdown",
   "metadata": {
    "id": "Vb0ziwYrE17s"
   },
   "source": [
    "## colored library\n",
    "\n",
    "We will install a library for colored output in terminal\n",
    "\n",
    "https://pypi.org/project/colored/"
   ]
  },
  {
   "cell_type": "code",
   "execution_count": 22,
   "metadata": {
    "colab": {
     "base_uri": "https://localhost:8080/"
    },
    "id": "LXLPS1bLE0ra",
    "outputId": "b6d84a01-e31d-44ce-eccc-464ec6dd6e25"
   },
   "outputs": [
    {
     "name": "stdout",
     "output_type": "stream",
     "text": [
      "Defaulting to user installation because normal site-packages is not writeable\n",
      "Collecting colored\n",
      "  Downloading colored-2.2.4-py3-none-any.whl.metadata (3.6 kB)\n",
      "Downloading colored-2.2.4-py3-none-any.whl (16 kB)\n",
      "Installing collected packages: colored\n",
      "Successfully installed colored-2.2.4\n"
     ]
    },
    {
     "name": "stderr",
     "output_type": "stream",
     "text": [
      "\n",
      "[notice] A new release of pip is available: 24.2 -> 24.3.1\n",
      "[notice] To update, run: python.exe -m pip install --upgrade pip\n"
     ]
    }
   ],
   "source": [
    "# in your computer you would only need to do this once or when you need updated version\n",
    "!pip install colored"
   ]
  },
  {
   "cell_type": "code",
   "execution_count": 23,
   "metadata": {
    "id": "L0VKsMpZFDFJ"
   },
   "outputs": [],
   "source": [
    "import colored"
   ]
  },
  {
   "cell_type": "code",
   "execution_count": 24,
   "metadata": {
    "id": "djxqmEhBFPlG"
   },
   "outputs": [],
   "source": [
    "from colored import fg, bg, attr"
   ]
  },
  {
   "cell_type": "code",
   "execution_count": 25,
   "metadata": {
    "colab": {
     "base_uri": "https://localhost:8080/"
    },
    "id": "3VbCEM4qFaQ5",
    "outputId": "53475b6d-1e0d-4870-dc51-c24db8697913"
   },
   "outputs": [
    {
     "name": "stdout",
     "output_type": "stream",
     "text": [
      "\u001b[38;5;1m Hello World !!! \u001b[0m\n"
     ]
    }
   ],
   "source": [
    "print(f'{fg(1)} Hello World !!! {attr(0)}') # so this would work in a script on terminal not in web page notebook"
   ]
  },
  {
   "cell_type": "code",
   "execution_count": 26,
   "metadata": {
    "colab": {
     "base_uri": "https://localhost:8080/"
    },
    "id": "VJyKYTFkF9Oo",
    "outputId": "c23c0e2c-a660-4c04-caf8-837bc7341e82"
   },
   "outputs": [
    {
     "name": "stdout",
     "output_type": "stream",
     "text": [
      "\u001b[31m\"red\"\u001b[0m\n"
     ]
    }
   ],
   "source": [
    "print(\"\\x1b[31m\\\"red\\\"\\x1b[0m\") # on notebooks you would use special codes for color printing no library needed"
   ]
  },
  {
   "cell_type": "code",
   "execution_count": 1,
   "metadata": {},
   "outputs": [
    {
     "name": "stdout",
     "output_type": "stream",
     "text": [
      "Package           Version\n",
      "----------------- -------\n",
      "asttokens         2.2.1\n",
      "backcall          0.2.0\n",
      "colorama          0.4.6\n",
      "comm              0.1.3\n",
      "debugpy           1.6.7\n",
      "decorator         5.1.1\n",
      "executing         1.2.0\n",
      "ipykernel         6.22.0\n",
      "ipython           8.12.0\n",
      "jedi              0.18.2\n",
      "jupyter_client    8.2.0\n",
      "jupyter_core      5.3.0\n",
      "matplotlib-inline 0.1.6\n",
      "nest-asyncio      1.5.6\n",
      "packaging         23.1\n",
      "parso             0.8.3\n",
      "pickleshare       0.7.5\n",
      "pip               22.3.1\n",
      "platformdirs      3.2.0\n",
      "prompt-toolkit    3.0.38\n",
      "psutil            5.9.5\n",
      "pure-eval         0.2.2\n",
      "Pygments          2.15.1\n",
      "python-dateutil   2.8.2\n",
      "pywin32           306\n",
      "pyzmq             25.0.2\n",
      "setuptools        65.5.0\n",
      "six               1.16.0\n",
      "stack-data        0.6.2\n",
      "tornado           6.3.1\n",
      "traitlets         5.9.0\n",
      "wcwidth           0.2.6\n"
     ]
    },
    {
     "name": "stderr",
     "output_type": "stream",
     "text": [
      "\n",
      "[notice] A new release of pip available: 22.3.1 -> 23.1.1\n",
      "[notice] To update, run: python.exe -m pip install --upgrade pip\n"
     ]
    }
   ],
   "source": [
    "## Locally installed packages\n",
    "!pip list"
   ]
  },
  {
   "attachments": {},
   "cell_type": "markdown",
   "metadata": {},
   "source": [
    "### saving requirements.txt\n",
    "\n",
    "\n",
    "\n",
    "So above would be bare basic libraries needed to use Python as a Jupyter notebook in a virtual environment\n",
    "\n",
    "We would like to preserver this setup so that we can easily recreate it on another machine\n",
    "\n",
    "We do not want to save the virtual environment itself, but we want to save the list of libraries that we installed - the requirements\n",
    "\n",
    "```pip freeze > requirements.txt```\n"
   ]
  },
  {
   "cell_type": "code",
   "execution_count": 4,
   "metadata": {},
   "outputs": [],
   "source": [
    "!pip freeze > requirements.txt # so this will create a file with all installed packages"
   ]
  },
  {
   "cell_type": "markdown",
   "metadata": {},
   "source": [
    "## Restoring from requirements.txt\n",
    "\n",
    "This would install all the libraries listed in the requirements.txt file\n",
    "```pip install -r requirements.txt```   "
   ]
  },
  {
   "cell_type": "code",
   "execution_count": null,
   "metadata": {},
   "outputs": [],
   "source": []
  },
  {
   "attachments": {},
   "cell_type": "markdown",
   "metadata": {},
   "source": [
    "## Virtual Environment\n",
    "\n",
    "It is considered best practice to create a virtual environment for each project. This will isolate your project from other projects.\n",
    "\n",
    "This means each project will have its own Python installation and its own set of libraries - besides the standard library.\n",
    "\n",
    "This way if some library is not compatible with your project, you can simply create a new virtual environment and install the compatible version of the library.\n",
    "\n",
    "### Creating a virtual environment\n",
    "\n",
    "```python -m venv venv``` \n",
    "Note: second venv can be any name you want"
   ]
  },
  {
   "attachments": {},
   "cell_type": "markdown",
   "metadata": {},
   "source": [
    "## Activating a virtual environment\n",
    "\n",
    "```source venv/bin/activate``` on Linux\n",
    "\n",
    "```venv\\Scripts\\activate.Ps1``` on Windows\n",
    "\n",
    "## Deactivating a virtual environment\n",
    "\n",
    "```deactivate```"
   ]
  },
  {
   "attachments": {},
   "cell_type": "markdown",
   "metadata": {},
   "source": [
    "## Let's install some library such as Plotly for visualization\n",
    "\n",
    "```pip install plotly```\n",
    "\n",
    "IF you called this command from virtual environment, it will install the library (and all the libraries that support this library) in the virtual environment"
   ]
  },
  {
   "attachments": {},
   "cell_type": "markdown",
   "metadata": {},
   "source": [
    "## Freeze after installing libraries\n",
    "\n",
    "```pip freeze > requirements.txt``` \n",
    "\n",
    "requirements.txt is just a name. You can call it anything you want but it is a good practice to call it requirements.txt"
   ]
  },
  {
   "attachments": {},
   "cell_type": "markdown",
   "metadata": {},
   "source": [
    "## Installing specific version of a library\n",
    "\n",
    "```pip install numpy==1.19.2```\n",
    "\n",
    "You would do this if you want to make sure that you are using the same version of a library as someone else"
   ]
  },
  {
   "attachments": {},
   "cell_type": "markdown",
   "metadata": {},
   "source": [
    "## Installing from requirements.txt\n",
    "\n",
    "Do this only after you've have activated the virtual environment!!!\n",
    "Otherwise you will install the libraries in your global Python installation\n",
    "\n",
    "```pip install -r requirements.txt```"
   ]
  },
  {
   "cell_type": "markdown",
   "metadata": {},
   "source": [
    "## Conda and Anaconda\n",
    "\n",
    "Anaconda is a distribution of Python that comes with a lot of libraries pre-installed. It also comes with a package manager called conda.\n",
    "\n",
    "Home: https://www.anaconda.com/\n",
    "\n",
    "Conda can be used to create virtual environments and install libraries.\n",
    "\n",
    "Conda is not the same as pip. Conda can install libraries that are not available on PyPI.\n",
    "\n",
    "Conda has less libraries than pip but it is more reliable and more curated.\n",
    "Generally Conda lags behind pip in terms of library versions.\n",
    "\n",
    "### Usage of conda\n",
    "\n",
    "Use conda when you expect large non-PyPI libraries which contain non Python code"
   ]
  },
  {
   "cell_type": "markdown",
   "metadata": {},
   "source": [
    "## Summary\n",
    "\n",
    "* Modules are files containing Python definitions and statements\n",
    "* Packages are collections of modules\n",
    "* Libraries are collections of packages and modules - Standard Library is a collection of libraries\n",
    "* External libraries are third-party libraries not part of the Python Standard Library\n",
    "* PyPI is the biggest repository for open-source third-party Python packages\n",
    "* `pip` is a package manager for Python\n",
    "* we can use it from the terminal to install libraries or from a Jupyter notebook by prefixing `!`\n",
    "* We can create virtual environments to isolate projects from each other (there are many ways to do this)"
   ]
  }
 ],
 "metadata": {
  "colab": {
   "provenance": [],
   "toc_visible": true
  },
  "kernelspec": {
   "display_name": "venv312",
   "language": "python",
   "name": "python3"
  },
  "language_info": {
   "codemirror_mode": {
    "name": "ipython",
    "version": 3
   },
   "file_extension": ".py",
   "mimetype": "text/x-python",
   "name": "python",
   "nbconvert_exporter": "python",
   "pygments_lexer": "ipython3",
   "version": "3.12.5"
  },
  "orig_nbformat": 4
 },
 "nbformat": 4,
 "nbformat_minor": 0
}
