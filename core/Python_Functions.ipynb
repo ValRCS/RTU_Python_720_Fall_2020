{
  "cells": [
    {
      "cell_type": "markdown",
      "metadata": {
        "id": "NtmO1FyBkYmd"
      },
      "source": [
        "# Python Functions"
      ]
    },
    {
      "cell_type": "markdown",
      "metadata": {
        "id": "AVmNSB5DkYmg"
      },
      "source": [
        "## What is a function?\n",
        "\n",
        "* A function is a block of organized, reusable code that is used to perform a single, related action.\n",
        "* Single, organized, related always ? :)\n",
        "\n",
        "\n",
        "### DRY - Do not Repeat Yourself principle\n",
        "\n",
        "* *Every piece of knowledge must have a single, unambiguous, authoritative representation within a system.*\n",
        "http://wiki.c2.com/?DontRepeatYourself\n",
        "\n",
        "* Contrast WET - We Enjoy Typing, Write Everything Twice, Waste Everyone's Time"
      ]
    },
    {
      "cell_type": "code",
      "execution_count": 1,
      "metadata": {
        "id": "6rpsv8rmkYmh",
        "outputId": "bc7a38a8-a214-4f53-9c20-c3c7ebee0f5c",
        "colab": {
          "base_uri": "https://localhost:8080/"
        }
      },
      "outputs": [
        {
          "output_type": "stream",
          "name": "stdout",
          "text": [
            "I want to go eat\n",
            "I am going to order food\n"
          ]
        }
      ],
      "source": [
        "print(\"I want to go eat\")\n",
        "print(\"I am going to order food\")"
      ]
    },
    {
      "cell_type": "code",
      "execution_count": 2,
      "metadata": {
        "id": "OPsTAL0TkYmi"
      },
      "outputs": [],
      "source": [
        "# Here we define our first function # order_food is more Pythonic style than orderFood which is camelCase\n",
        "def order_food():\n",
        "    print(\"I want to go eat\")\n",
        "    print(\"I am going to order food\")\n",
        "# so i've defined my function\n",
        "# yet I have not run it"
      ]
    },
    {
      "cell_type": "code",
      "execution_count": 3,
      "metadata": {
        "id": "UbpnxhTvkYmj",
        "outputId": "32bb7629-2740-42c1-efa3-7f3b3b5a15bc",
        "colab": {
          "base_uri": "https://localhost:8080/"
        }
      },
      "outputs": [
        {
          "output_type": "stream",
          "name": "stdout",
          "text": [
            "I want to go eat\n",
            "I am going to order food\n",
            "I want to go eat\n",
            "I am going to order food\n"
          ]
        }
      ],
      "source": [
        "order_food()\n",
        "order_food()"
      ]
    },
    {
      "cell_type": "code",
      "execution_count": 4,
      "metadata": {
        "id": "Q-ABr3yykYmj"
      },
      "outputs": [],
      "source": [
        "# i can nest functions including my own\n",
        "def going_out():\n",
        "    print(\"Let's go out!\")\n",
        "    order_food()\n",
        "    print(\"Let's run!\")\n",
        "    order_food()\n"
      ]
    },
    {
      "cell_type": "code",
      "execution_count": 5,
      "metadata": {
        "id": "b7Onv5rrkYmk",
        "outputId": "7a4cd1d1-5d3d-4907-a65b-742328c5a433",
        "colab": {
          "base_uri": "https://localhost:8080/"
        }
      },
      "outputs": [
        {
          "output_type": "stream",
          "name": "stdout",
          "text": [
            "Let's go out!\n",
            "I want to go eat\n",
            "I am going to order food\n",
            "Let's run!\n",
            "I want to go eat\n",
            "I am going to order food\n"
          ]
        }
      ],
      "source": [
        "going_out()"
      ]
    },
    {
      "cell_type": "markdown",
      "source": [
        "# Function names serve as a way of self-documenting code"
      ],
      "metadata": {
        "id": "clP_e5P7lZ1k"
      }
    },
    {
      "cell_type": "markdown",
      "source": [
        "## Function parameters / passing arguments"
      ],
      "metadata": {
        "id": "WudvbE9LliM5"
      }
    },
    {
      "cell_type": "code",
      "execution_count": 7,
      "metadata": {
        "id": "HQ6WLTQckYml"
      },
      "outputs": [],
      "source": [
        "def place_order(dish):  # so dish is a function parameter\n",
        "    print(f\"Hello waiter!\")\n",
        "    print(f\"I'd like to order {dish}\")\n",
        "    print(f\"Let's eat {dish.upper()}!\")"
      ]
    },
    {
      "cell_type": "code",
      "execution_count": 8,
      "metadata": {
        "id": "674jdwj5kYml",
        "outputId": "61ab53cd-ef6e-4445-8e67-8705d9dd089c",
        "colab": {
          "base_uri": "https://localhost:8080/"
        }
      },
      "outputs": [
        {
          "output_type": "stream",
          "name": "stdout",
          "text": [
            "Hello waiter!\n",
            "I'd like to order potatoes\n",
            "Let's eat POTATOES!\n"
          ]
        }
      ],
      "source": [
        "place_order(\"potatoes\")"
      ]
    },
    {
      "cell_type": "code",
      "execution_count": 9,
      "metadata": {
        "id": "nGt12jGtkYmm",
        "outputId": "282bc61b-0e5e-46f3-84d2-db27799f9a80",
        "colab": {
          "base_uri": "https://localhost:8080/"
        }
      },
      "outputs": [
        {
          "output_type": "stream",
          "name": "stdout",
          "text": [
            "Hello waiter!\n",
            "I'd like to order Ice cream\n",
            "Let's eat ICE CREAM!\n"
          ]
        }
      ],
      "source": [
        "dessert = \"Ice cream\"\n",
        "place_order(dessert)  # i can pass variables as argument to our function"
      ]
    },
    {
      "cell_type": "code",
      "execution_count": 10,
      "metadata": {
        "id": "pYjGh713kYmn",
        "outputId": "18f0f69d-6c49-43e0-f668-e4715aeb50b5",
        "colab": {
          "base_uri": "https://localhost:8080/"
        }
      },
      "outputs": [
        {
          "output_type": "stream",
          "name": "stdout",
          "text": [
            "Hello waiter!\n",
            "I'd like to order Beet soup\n",
            "Let's eat BEET SOUP!\n",
            "Hello waiter!\n",
            "I'd like to order Salad\n",
            "Let's eat SALAD!\n",
            "Hello waiter!\n",
            "I'd like to order Meat and potatoes\n",
            "Let's eat MEAT AND POTATOES!\n",
            "Hello waiter!\n",
            "I'd like to order Ice cream\n",
            "Let's eat ICE CREAM!\n"
          ]
        }
      ],
      "source": [
        "food_list = [\"Beet soup\", \"Salad\", \"Meat and potatoes\", \"Ice cream\"]\n",
        "for food in food_list:\n",
        "    place_order(food)"
      ]
    },
    {
      "cell_type": "code",
      "source": [
        "def order_from_food_list(food_list):  #food_list here has no relation to food_list in the previous cell\n",
        "    for food in food_list:\n",
        "        place_order(food)"
      ],
      "metadata": {
        "id": "c4yW2TQomJqi"
      },
      "execution_count": 11,
      "outputs": []
    },
    {
      "cell_type": "markdown",
      "source": [
        ""
      ],
      "metadata": {
        "id": "m_Q5tqMgmbsg"
      }
    },
    {
      "cell_type": "code",
      "source": [
        "order_from_food_list(food_list=food_list) # commonly we would just write order_from_food_list(food_list)"
      ],
      "metadata": {
        "id": "8l3i-EAxmUd7",
        "outputId": "1146d956-4140-4a8f-8a91-f69192e4d9eb",
        "colab": {
          "base_uri": "https://localhost:8080/"
        }
      },
      "execution_count": 12,
      "outputs": [
        {
          "output_type": "stream",
          "name": "stdout",
          "text": [
            "Hello waiter!\n",
            "I'd like to order Beet soup\n",
            "Let's eat BEET SOUP!\n",
            "Hello waiter!\n",
            "I'd like to order Salad\n",
            "Let's eat SALAD!\n",
            "Hello waiter!\n",
            "I'd like to order Meat and potatoes\n",
            "Let's eat MEAT AND POTATOES!\n",
            "Hello waiter!\n",
            "I'd like to order Ice cream\n",
            "Let's eat ICE CREAM!\n"
          ]
        }
      ]
    },
    {
      "cell_type": "code",
      "execution_count": null,
      "metadata": {
        "id": "pTkFOeKlkYmn",
        "outputId": "4e94923e-0804-40ea-c70a-a6fc40a959cd"
      },
      "outputs": [
        {
          "data": {
            "text/plain": [
              "('Ice cream',\n",
              " ['Beet soup', 'Salad', 'Meat and potatoes', 'Ice cream'],\n",
              " 'Ice cream')"
            ]
          },
          "execution_count": 19,
          "metadata": {},
          "output_type": "execute_result"
        }
      ],
      "source": [
        "food, food_list, dessert"
      ]
    },
    {
      "cell_type": "code",
      "execution_count": 13,
      "metadata": {
        "id": "-pqYet_KkYmo"
      },
      "outputs": [],
      "source": [
        "# Passing parameters(arguments)\n",
        "def add(a, b):\n",
        "    # you'd have an opportunity to verify, validate before using +\n",
        "    print(a+b)\n",
        "    # returns None"
      ]
    },
    {
      "cell_type": "code",
      "execution_count": 15,
      "metadata": {
        "id": "xxckR4z-kYmo",
        "outputId": "04f07a12-646c-48ad-a59c-ba9285a9d77c",
        "colab": {
          "base_uri": "https://localhost:8080/"
        }
      },
      "outputs": [
        {
          "output_type": "stream",
          "name": "stdout",
          "text": [
            "10\n",
            "242.3423\n",
            "Hello Riga\n",
            "[1, 2, 7, 6, 7, 8, 9, 10, 11]\n"
          ]
        }
      ],
      "source": [
        "add(4,6)\n",
        "add(9,233.3423)\n",
        "add(\"Hello \",\"Riga\")\n",
        "add([1,2,7],list(range(6,12)))"
      ]
    },
    {
      "cell_type": "code",
      "execution_count": null,
      "metadata": {
        "id": "V154NS6ekYmp"
      },
      "outputs": [],
      "source": [
        "# what do we do if we want to modify some value, we could have global value which modify..\n",
        "# but modifying global values generally can get messy\n"
      ]
    },
    {
      "cell_type": "code",
      "execution_count": 16,
      "metadata": {
        "id": "OhfhNix4kYmp"
      },
      "outputs": [],
      "source": [
        "def mult(a, b):\n",
        "    result = a*b # result is just a name of inner local variable could be anything\n",
        "    print(f\"Look Ma! I am multiplying {a} * {b} which is {result}\")\n",
        "    # result is not going to be available outside my function\n",
        "    # so I am going to return it so we can use it elsewhere\n",
        "    return result # with no return the default return is None"
      ]
    },
    {
      "cell_type": "code",
      "execution_count": 17,
      "metadata": {
        "id": "MKHvBi3tkYmp",
        "outputId": "d30d4953-2cbf-4bea-9364-61e7798bec4f",
        "colab": {
          "base_uri": "https://localhost:8080/"
        }
      },
      "outputs": [
        {
          "output_type": "stream",
          "name": "stdout",
          "text": [
            "Look Ma! I am multiplying 5 * 9 which is 45\n"
          ]
        },
        {
          "output_type": "execute_result",
          "data": {
            "text/plain": [
              "45"
            ]
          },
          "metadata": {},
          "execution_count": 17
        }
      ],
      "source": [
        "mult(5,9)"
      ]
    },
    {
      "cell_type": "code",
      "execution_count": 18,
      "metadata": {
        "id": "dD6uXDUYkYmq",
        "outputId": "b5a845cc-0e42-41dd-c524-f308c5ccf2ca",
        "colab": {
          "base_uri": "https://localhost:8080/"
        }
      },
      "outputs": [
        {
          "output_type": "stream",
          "name": "stdout",
          "text": [
            "14\n"
          ]
        }
      ],
      "source": [
        "add(5,9)"
      ]
    },
    {
      "cell_type": "code",
      "execution_count": 19,
      "metadata": {
        "id": "Hex6C2EYkYmq",
        "outputId": "58a63a1e-6a02-458f-b763-5a659d5ab3cd",
        "colab": {
          "base_uri": "https://localhost:8080/"
        }
      },
      "outputs": [
        {
          "output_type": "stream",
          "name": "stdout",
          "text": [
            "Look Ma! I am multiplying 10 * 5 which is 50\n",
            "15\n"
          ]
        }
      ],
      "source": [
        "t1 = mult(10,5)\n",
        "t2 = add(10,5)"
      ]
    },
    {
      "cell_type": "code",
      "execution_count": 20,
      "metadata": {
        "id": "lVfbzXxskYmq",
        "outputId": "e3a5d553-422a-47d5-fb7c-bc3d3fed6925",
        "colab": {
          "base_uri": "https://localhost:8080/"
        }
      },
      "outputs": [
        {
          "output_type": "execute_result",
          "data": {
            "text/plain": [
              "(50, None)"
            ]
          },
          "metadata": {},
          "execution_count": 20
        }
      ],
      "source": [
        "t1,t2 # so t1 from mult function has a real result, while t2 has None because or add function returns nothing"
      ]
    },
    {
      "cell_type": "code",
      "execution_count": null,
      "metadata": {
        "id": "DtIt-MAQkYmq",
        "outputId": "57edde9c-f237-4390-e8c6-0117d56a58a7"
      },
      "outputs": [
        {
          "data": {
            "text/plain": [
              "False"
            ]
          },
          "execution_count": 28,
          "metadata": {},
          "output_type": "execute_result"
        }
      ],
      "source": [
        "'soup' in food_list"
      ]
    },
    {
      "cell_type": "code",
      "execution_count": 21,
      "metadata": {
        "id": "iOSzuyPdkYmr",
        "outputId": "a0f13a9a-414d-4b59-bea3-a0a9d7573d94",
        "colab": {
          "base_uri": "https://localhost:8080/"
        }
      },
      "outputs": [
        {
          "output_type": "execute_result",
          "data": {
            "text/plain": [
              "['Beet soup', 'Salad', 'Meat and potatoes', 'Ice cream']"
            ]
          },
          "metadata": {},
          "execution_count": 21
        }
      ],
      "source": [
        "food_list"
      ]
    },
    {
      "cell_type": "code",
      "source": [
        "'soup' in food_list  # false because we have \"Beet soup\" so lets write a function to find  a match inside a list item"
      ],
      "metadata": {
        "id": "37XFFUFAnd0d",
        "outputId": "695b16e0-4acb-4eb7-f468-061c0fa59890",
        "colab": {
          "base_uri": "https://localhost:8080/"
        }
      },
      "execution_count": 22,
      "outputs": [
        {
          "output_type": "execute_result",
          "data": {
            "text/plain": [
              "False"
            ]
          },
          "metadata": {},
          "execution_count": 22
        }
      ]
    },
    {
      "cell_type": "code",
      "execution_count": 25,
      "metadata": {
        "id": "7aeACSl4kYmr"
      },
      "outputs": [],
      "source": [
        "def find_needle(needle, mylist):  #for multiple word function names we use underscores to separate\n",
        "    for item in mylist:\n",
        "        if needle in item:\n",
        "            print(f\"Eureka! Found {needle} in {item}\")\n",
        "            return item # so this fun will return first found item which contains needle\n",
        "    "
      ]
    },
    {
      "cell_type": "code",
      "execution_count": 26,
      "metadata": {
        "id": "TdkQ3-REkYmr",
        "outputId": "ab376900-fa26-45a8-b39a-7e18e5549f65",
        "colab": {
          "base_uri": "https://localhost:8080/"
        }
      },
      "outputs": [
        {
          "output_type": "stream",
          "name": "stdout",
          "text": [
            "Eureka! Found soup in Beet soup\n"
          ]
        }
      ],
      "source": [
        "mysoup = find_needle('soup', food_list)"
      ]
    },
    {
      "cell_type": "code",
      "execution_count": 27,
      "metadata": {
        "id": "JZc0jzrQkYmr",
        "outputId": "4459c52d-9ed0-492c-87c2-2fd2876108e0",
        "colab": {
          "base_uri": "https://localhost:8080/",
          "height": 35
        }
      },
      "outputs": [
        {
          "output_type": "execute_result",
          "data": {
            "text/plain": [
              "'Beet soup'"
            ],
            "application/vnd.google.colaboratory.intrinsic+json": {
              "type": "string"
            }
          },
          "metadata": {},
          "execution_count": 27
        }
      ],
      "source": [
        "mysoup"
      ]
    },
    {
      "cell_type": "code",
      "execution_count": 28,
      "metadata": {
        "id": "ZvwEPOWUkYms"
      },
      "outputs": [],
      "source": [
        "def addFood(food, mylist):  # IN PLACE will modify the original list\n",
        "    # check for poison, give it to cour jester to try it out\n",
        "    mylist.append(food) # remember append is IN PLACE meaning you modify mylist\n",
        "    food = \"Strawberries\" # this will not matter outside the function, only for local use\n",
        "    mylist.append(food) # remember append is IN PLACE meaning you modify mylist\n",
        "    # mylist = [\"Diet soda\", \"Beyond Meat burger\"]\n",
        "    # remember our variables are like aliases, like shortcuts, \n",
        "    # so here we changed mylist to point a completely new list and are not point to incoming mylist anymore\n",
        "    return mylist #not strictly necessary because well mylist will be modified"
      ]
    },
    {
      "cell_type": "code",
      "source": [
        "food_list"
      ],
      "metadata": {
        "id": "hMFfIgc-oFdB",
        "outputId": "c5609231-0552-4d59-e8c8-b5c2ab8c6663",
        "colab": {
          "base_uri": "https://localhost:8080/"
        }
      },
      "execution_count": 29,
      "outputs": [
        {
          "output_type": "execute_result",
          "data": {
            "text/plain": [
              "['Beet soup', 'Salad', 'Meat and potatoes', 'Ice cream']"
            ]
          },
          "metadata": {},
          "execution_count": 29
        }
      ]
    },
    {
      "cell_type": "code",
      "execution_count": 30,
      "metadata": {
        "id": "lw16tEFCkYms",
        "outputId": "e9b872a7-3b5c-4e62-a700-57f7da5f4b1b",
        "colab": {
          "base_uri": "https://localhost:8080/"
        }
      },
      "outputs": [
        {
          "output_type": "execute_result",
          "data": {
            "text/plain": [
              "['Beet soup',\n",
              " 'Salad',\n",
              " 'Meat and potatoes',\n",
              " 'Ice cream',\n",
              " 'Ice cream',\n",
              " 'Strawberries']"
            ]
          },
          "metadata": {},
          "execution_count": 30
        }
      ],
      "source": [
        "addFood(dessert, food_list) # this returns the modified list as well"
      ]
    },
    {
      "cell_type": "code",
      "source": [
        "food_list"
      ],
      "metadata": {
        "id": "brW2ZKl9oEME",
        "outputId": "9e560c63-20d0-4894-8d78-10310a9f1372",
        "colab": {
          "base_uri": "https://localhost:8080/"
        }
      },
      "execution_count": 31,
      "outputs": [
        {
          "output_type": "execute_result",
          "data": {
            "text/plain": [
              "['Beet soup',\n",
              " 'Salad',\n",
              " 'Meat and potatoes',\n",
              " 'Ice cream',\n",
              " 'Ice cream',\n",
              " 'Strawberries']"
            ]
          },
          "metadata": {},
          "execution_count": 31
        }
      ]
    },
    {
      "cell_type": "code",
      "execution_count": null,
      "metadata": {
        "id": "dTSieUGhkYms",
        "outputId": "ebc76d39-0e85-4478-a847-710df6a85afc"
      },
      "outputs": [
        {
          "data": {
            "text/plain": [
              "'Ice cream'"
            ]
          },
          "execution_count": 56,
          "metadata": {},
          "output_type": "execute_result"
        }
      ],
      "source": [
        "dessert"
      ]
    },
    {
      "cell_type": "code",
      "execution_count": null,
      "metadata": {
        "id": "kuQ2nYrRkYms",
        "outputId": "990ad97b-d2c3-48dd-9829-1a7266c39f17"
      },
      "outputs": [
        {
          "data": {
            "text/plain": [
              "['Beet soup',\n",
              " 'Salad',\n",
              " 'Meat and potatoes',\n",
              " 'Ice cream',\n",
              " 'crab legs',\n",
              " 'Salad',\n",
              " 555,\n",
              " 'Ice cream',\n",
              " 'Ice cream',\n",
              " 'Ice cream',\n",
              " 'Strawberries',\n",
              " 'Ice cream',\n",
              " 'Strawberries']"
            ]
          },
          "execution_count": 57,
          "metadata": {},
          "output_type": "execute_result"
        }
      ],
      "source": [
        "food_list"
      ]
    },
    {
      "cell_type": "code",
      "execution_count": 37,
      "metadata": {
        "id": "1odnETcFkYmt"
      },
      "outputs": [],
      "source": [
        "# generally safer to use out of place methods so return a new list\n",
        "def add_food_fun(food, mylist):\n",
        "    # check our food\n",
        "    # if we do not want to modify our list we could do this\n",
        "    # this is functional style\n",
        "    new_list = mylist + [food] # so this will not modify mylist\n",
        "    # do more stuff with new_list\n",
        "    return new_list # so we will get a new list but old list will stay unmodifed"
      ]
    },
    {
      "cell_type": "code",
      "source": [
        "my_new_list = add_food_fun(\"Kebab\", food_list)"
      ],
      "metadata": {
        "id": "xjNz7zeXog54"
      },
      "execution_count": 38,
      "outputs": []
    },
    {
      "cell_type": "code",
      "source": [
        "my_new_list"
      ],
      "metadata": {
        "id": "gHUhQtTkoqDf",
        "outputId": "55c38634-ded0-4761-8891-120b0fbbae57",
        "colab": {
          "base_uri": "https://localhost:8080/"
        }
      },
      "execution_count": 39,
      "outputs": [
        {
          "output_type": "execute_result",
          "data": {
            "text/plain": [
              "['Beet soup',\n",
              " 'Salad',\n",
              " 'Meat and potatoes',\n",
              " 'Ice cream',\n",
              " 'Ice cream',\n",
              " 'Strawberries',\n",
              " 'Kebab']"
            ]
          },
          "metadata": {},
          "execution_count": 39
        }
      ]
    },
    {
      "cell_type": "code",
      "source": [
        "food_list # my old list has stayed the same"
      ],
      "metadata": {
        "id": "CBMLPK7tosrA",
        "outputId": "8f880b52-7209-43e7-cdeb-8dadf57c0429",
        "colab": {
          "base_uri": "https://localhost:8080/"
        }
      },
      "execution_count": 35,
      "outputs": [
        {
          "output_type": "execute_result",
          "data": {
            "text/plain": [
              "['Beet soup',\n",
              " 'Salad',\n",
              " 'Meat and potatoes',\n",
              " 'Ice cream',\n",
              " 'Ice cream',\n",
              " 'Strawberries']"
            ]
          },
          "metadata": {},
          "execution_count": 35
        }
      ]
    },
    {
      "cell_type": "code",
      "execution_count": 45,
      "metadata": {
        "id": "oTMf8A00kYmt"
      },
      "outputs": [],
      "source": [
        "# i can make all values default\n",
        "def make_cocktail(soda=\"tomato juice\", alcohol=\"Vodka\", mixer=\"Glass\", verbose=True):\n",
        "    if verbose:\n",
        "        print(f\"Mixing {soda} with {alcohol} in a {mixer}\")\n",
        "    return f\"{soda}X{alcohol}\""
      ]
    },
    {
      "cell_type": "code",
      "source": [
        "make_cocktail()  # so now I gain ability to run function without giving any arguments"
      ],
      "metadata": {
        "id": "z4leE3b_ppSC",
        "outputId": "1ae8cf14-93f3-4bbc-a3a9-cdb284c1b950",
        "colab": {
          "base_uri": "https://localhost:8080/",
          "height": 52
        }
      },
      "execution_count": 46,
      "outputs": [
        {
          "output_type": "stream",
          "name": "stdout",
          "text": [
            "Mixing tomato juice with Vodka in a Glass\n"
          ]
        },
        {
          "output_type": "execute_result",
          "data": {
            "text/plain": [
              "'tomato juiceXVodka'"
            ],
            "application/vnd.google.colaboratory.intrinsic+json": {
              "type": "string"
            }
          },
          "metadata": {},
          "execution_count": 46
        }
      ]
    },
    {
      "cell_type": "code",
      "execution_count": 47,
      "metadata": {
        "id": "O8Non-1ukYmt",
        "outputId": "588f8a27-43fd-4fa5-8eac-3f07d5627c9a",
        "colab": {
          "base_uri": "https://localhost:8080/",
          "height": 52
        }
      },
      "outputs": [
        {
          "output_type": "stream",
          "name": "stdout",
          "text": [
            "Mixing coke with rum in a shaker\n"
          ]
        },
        {
          "output_type": "execute_result",
          "data": {
            "text/plain": [
              "'cokeXrum'"
            ],
            "application/vnd.google.colaboratory.intrinsic+json": {
              "type": "string"
            }
          },
          "metadata": {},
          "execution_count": 47
        }
      ],
      "source": [
        "make_cocktail(\"coke\", \"rum\", \"shaker\")  # i can pass up to and including 3 arguments"
      ]
    },
    {
      "cell_type": "code",
      "execution_count": 48,
      "metadata": {
        "id": "hzG_5OybkYmt",
        "outputId": "7a220604-bd61-40d2-c4c8-3207c0c1ea02",
        "colab": {
          "base_uri": "https://localhost:8080/",
          "height": 52
        }
      },
      "outputs": [
        {
          "output_type": "stream",
          "name": "stdout",
          "text": [
            "Mixing tonic with gin in a Glass\n"
          ]
        },
        {
          "output_type": "execute_result",
          "data": {
            "text/plain": [
              "'tonicXgin'"
            ],
            "application/vnd.google.colaboratory.intrinsic+json": {
              "type": "string"
            }
          },
          "metadata": {},
          "execution_count": 48
        }
      ],
      "source": [
        "make_cocktail(\"tonic\", \"gin\") # i can be lazy i can use glass as default"
      ]
    },
    {
      "cell_type": "code",
      "execution_count": 50,
      "metadata": {
        "id": "oHIM_Zm3kYmt",
        "outputId": "04ce97e6-484a-4028-fd72-1e344a3aa7c7",
        "colab": {
          "base_uri": "https://localhost:8080/",
          "height": 35
        }
      },
      "outputs": [
        {
          "output_type": "execute_result",
          "data": {
            "text/plain": [
              "'tomato juiceXVodka'"
            ],
            "application/vnd.google.colaboratory.intrinsic+json": {
              "type": "string"
            }
          },
          "metadata": {},
          "execution_count": 50
        }
      ],
      "source": [
        "my_cocktail = make_cocktail(verbose=False) # I pass verbose specifically, I had to specify because soda is first argument\n",
        "my_cocktail"
      ]
    },
    {
      "cell_type": "code",
      "execution_count": 51,
      "metadata": {
        "id": "CRER3guqkYmt",
        "outputId": "2be898f2-5f6e-41a8-fc6a-5c4a78b02c9c",
        "colab": {
          "base_uri": "https://localhost:8080/",
          "height": 52
        }
      },
      "outputs": [
        {
          "output_type": "stream",
          "name": "stdout",
          "text": [
            "Mixing tomato juice with Grappa in a Glass\n"
          ]
        },
        {
          "output_type": "execute_result",
          "data": {
            "text/plain": [
              "'tomato juiceXGrappa'"
            ],
            "application/vnd.google.colaboratory.intrinsic+json": {
              "type": "string"
            }
          },
          "metadata": {},
          "execution_count": 51
        }
      ],
      "source": [
        "make_cocktail(alcohol=\"Grappa\") # so I can skip some default values"
      ]
    },
    {
      "cell_type": "code",
      "execution_count": 52,
      "metadata": {
        "id": "LVsWB2I9kYmu"
      },
      "outputs": [],
      "source": [
        "new_list = add_food_fun(\"Pancakes\", food_list)\n"
      ]
    },
    {
      "cell_type": "code",
      "execution_count": null,
      "metadata": {
        "id": "YrH35Do1kYmu",
        "outputId": "46186115-8631-433f-edbd-c6278faf0f86"
      },
      "outputs": [
        {
          "data": {
            "text/plain": [
              "'Ice cream'"
            ]
          },
          "execution_count": 60,
          "metadata": {},
          "output_type": "execute_result"
        }
      ],
      "source": [
        "dessert"
      ]
    },
    {
      "cell_type": "code",
      "execution_count": null,
      "metadata": {
        "id": "3SL52ufgkYmu"
      },
      "outputs": [],
      "source": [
        ""
      ]
    },
    {
      "cell_type": "code",
      "execution_count": null,
      "metadata": {
        "id": "-5LkCj-7kYmu",
        "outputId": "1eb4cc34-be7f-481a-cbc9-91742b9fe656"
      },
      "outputs": [
        {
          "data": {
            "text/plain": [
              "['Beet soup',\n",
              " 'Salad',\n",
              " 'Meat and potatoes',\n",
              " 'Ice cream',\n",
              " 'crab legs',\n",
              " 'Salad',\n",
              " 555,\n",
              " 'Ice cream',\n",
              " 'Ice cream',\n",
              " 'Ice cream',\n",
              " 'Strawberries',\n",
              " 'Ice cream',\n",
              " 'Strawberries',\n",
              " 'Pancakes']"
            ]
          },
          "execution_count": 61,
          "metadata": {},
          "output_type": "execute_result"
        }
      ],
      "source": [
        "new_list"
      ]
    },
    {
      "cell_type": "code",
      "execution_count": null,
      "metadata": {
        "id": "8gRf4LKgkYmu",
        "outputId": "922457ec-268f-44e9-bacb-8756c4d3afdc"
      },
      "outputs": [
        {
          "data": {
            "text/plain": [
              "['Beet soup',\n",
              " 'Salad',\n",
              " 'Meat and potatoes',\n",
              " 'Ice cream',\n",
              " 'crab legs',\n",
              " 'Salad',\n",
              " 555]"
            ]
          },
          "execution_count": 45,
          "metadata": {},
          "output_type": "execute_result"
        }
      ],
      "source": [
        "food_list"
      ]
    },
    {
      "cell_type": "code",
      "execution_count": 53,
      "metadata": {
        "id": "3Vp5YLvXkYmu",
        "outputId": "45b6e348-7fb7-47e4-f0c6-0fba681e44d3",
        "colab": {
          "base_uri": "https://localhost:8080/"
        }
      },
      "outputs": [
        {
          "output_type": "execute_result",
          "data": {
            "text/plain": [
              "['Beet soup',\n",
              " 'Salad',\n",
              " 'Meat and potatoes',\n",
              " 'Ice cream',\n",
              " 'Ice cream',\n",
              " 'Strawberries',\n",
              " 'crab legs',\n",
              " 'Strawberries']"
            ]
          },
          "metadata": {},
          "execution_count": 53
        }
      ],
      "source": [
        "addFood(\"crab legs\", food_list)"
      ]
    },
    {
      "cell_type": "code",
      "execution_count": 54,
      "metadata": {
        "id": "K0NG_oSYkYmv",
        "outputId": "8261fd66-a6dc-40b9-edd0-7d9a233c74cd",
        "colab": {
          "base_uri": "https://localhost:8080/"
        }
      },
      "outputs": [
        {
          "output_type": "execute_result",
          "data": {
            "text/plain": [
              "['Beet soup',\n",
              " 'Salad',\n",
              " 'Meat and potatoes',\n",
              " 'Ice cream',\n",
              " 'Ice cream',\n",
              " 'Strawberries',\n",
              " 'crab legs',\n",
              " 'Strawberries']"
            ]
          },
          "metadata": {},
          "execution_count": 54
        }
      ],
      "source": [
        "food_list"
      ]
    },
    {
      "cell_type": "code",
      "execution_count": 55,
      "metadata": {
        "id": "y4xXfAXfkYmv",
        "outputId": "98440ffc-06fe-4294-9317-d10f68884fe0",
        "colab": {
          "base_uri": "https://localhost:8080/"
        }
      },
      "outputs": [
        {
          "output_type": "execute_result",
          "data": {
            "text/plain": [
              "1"
            ]
          },
          "metadata": {},
          "execution_count": 55
        }
      ],
      "source": [
        "food_list.count(\"Salad\")"
      ]
    },
    {
      "cell_type": "code",
      "execution_count": null,
      "metadata": {
        "id": "sauJ5Fo9kYmv",
        "outputId": "777fac31-9c7a-4a94-dc7b-0e5d8d886e8b"
      },
      "outputs": [
        {
          "data": {
            "text/plain": [
              "2"
            ]
          },
          "execution_count": 37,
          "metadata": {},
          "output_type": "execute_result"
        }
      ],
      "source": [
        "addFood(\"Salad\", food_list).count(\"Salad\")"
      ]
    },
    {
      "cell_type": "code",
      "execution_count": null,
      "metadata": {
        "id": "3gokz61akYmv",
        "outputId": "149acfd9-ab20-4fff-a72c-9ce8711fad86"
      },
      "outputs": [
        {
          "data": {
            "text/plain": [
              "['Beet soup',\n",
              " 'Salad',\n",
              " 'Meat and potatoes',\n",
              " 'Ice cream',\n",
              " 'crab legs',\n",
              " 'Salad',\n",
              " 555]"
            ]
          },
          "execution_count": 39,
          "metadata": {},
          "output_type": "execute_result"
        }
      ],
      "source": [
        "addFood(555, food_list)"
      ]
    },
    {
      "cell_type": "code",
      "execution_count": null,
      "metadata": {
        "id": "o14WWocZkYmv",
        "outputId": "a57667be-1792-417c-adab-28b5b015870e"
      },
      "outputs": [
        {
          "data": {
            "text/plain": [
              "['Beet soup', 'Salad', 'Meat and potatoes', 'Ice cream', 'crab legs', 'Salad']"
            ]
          },
          "execution_count": 38,
          "metadata": {},
          "output_type": "execute_result"
        }
      ],
      "source": [
        "food_list"
      ]
    },
    {
      "cell_type": "code",
      "execution_count": 56,
      "metadata": {
        "id": "zGwoONlCkYmv",
        "outputId": "4a2f247f-cded-4218-ef2c-80bd5b60c906",
        "colab": {
          "base_uri": "https://localhost:8080/"
        }
      },
      "outputs": [
        {
          "output_type": "stream",
          "name": "stdout",
          "text": [
            "Look Ma! I am multiplying 4 * 6 which is 24\n"
          ]
        }
      ],
      "source": [
        "result = mult(4,6)"
      ]
    },
    {
      "cell_type": "code",
      "execution_count": null,
      "metadata": {
        "id": "8ew3Qia0kYmw"
      },
      "outputs": [],
      "source": [
        "print(result)"
      ]
    },
    {
      "cell_type": "code",
      "execution_count": 57,
      "metadata": {
        "id": "ielZI4uSkYmw",
        "outputId": "3e3430af-780d-4c30-8137-3433a0b264c1",
        "colab": {
          "base_uri": "https://localhost:8080/"
        }
      },
      "outputs": [
        {
          "output_type": "stream",
          "name": "stdout",
          "text": [
            "Look Ma! I am multiplying 5 * 7 which is 35\n",
            "35\n",
            "Look Ma! I am multiplying [3, 6] * 4 which is [3, 6, 3, 6, 3, 6, 3, 6]\n",
            "[3, 6, 3, 6, 3, 6, 3, 6]\n",
            "Look Ma! I am multiplying Gunta  * 4 which is Gunta Gunta Gunta Gunta \n",
            "Gunta Gunta Gunta Gunta \n"
          ]
        }
      ],
      "source": [
        "print(mult(5,7))\n",
        "print(mult([3,6],4))\n",
        "print(mult(\"Gunta \", 4))\n"
      ]
    },
    {
      "cell_type": "code",
      "execution_count": 58,
      "metadata": {
        "id": "Y3QO52apkYmw",
        "outputId": "4f623a28-e94b-412a-8925-b4c86ee213ad",
        "colab": {
          "base_uri": "https://localhost:8080/"
        }
      },
      "outputs": [
        {
          "output_type": "stream",
          "name": "stdout",
          "text": [
            "Help on function mult in module __main__:\n",
            "\n",
            "mult(a, b)\n",
            "\n"
          ]
        }
      ],
      "source": [
        "help(mult)"
      ]
    },
    {
      "cell_type": "code",
      "source": [
        "# I can add documentation for help for my functions\n",
        "# This is very useful if you are going to give your functions to someone to use\n",
        "# in this docstring using '''  ''' you should explain what type of parameters\n",
        "# what to expect as a result\n",
        "def dance(dancers, songs):\n",
        "    '''\n",
        "    Dance functions takes two sequences \n",
        "    dancers - list of dancers\n",
        "    songs - list of songs\n",
        "    returns a list of ALL songs vs dancers\n",
        "    '''\n",
        "    dance_list = []\n",
        "    for dancer in dancers:\n",
        "        for song in songs:\n",
        "            print(f\"Dancer {dancer} is dancing to {song}\")\n",
        "            dance_list.append((dancer,song)) # I need to append a tuple to my list\n",
        "    return dance_list\n"
      ],
      "metadata": {
        "id": "nQFwRXsArCm0"
      },
      "execution_count": 64,
      "outputs": []
    },
    {
      "cell_type": "code",
      "source": [
        "dance([\"Valdis\", \"Līga\"], [\"Dancing Queen\", \"Ziemelmeita\"])"
      ],
      "metadata": {
        "id": "gqfILmgtreII",
        "outputId": "2a8bed84-5c9d-4dc2-bcfe-0fbb6e912b11",
        "colab": {
          "base_uri": "https://localhost:8080/"
        }
      },
      "execution_count": 62,
      "outputs": [
        {
          "output_type": "stream",
          "name": "stdout",
          "text": [
            "Dancer Valdis is dancing to Dancing Queen\n",
            "Dancer Valdis is dancing to Ziemelmeita\n",
            "Dancer Līga is dancing to Dancing Queen\n",
            "Dancer Līga is dancing to Ziemelmeita\n"
          ]
        },
        {
          "output_type": "execute_result",
          "data": {
            "text/plain": [
              "[('Valdis', 'Dancing Queen'),\n",
              " ('Valdis', 'Ziemelmeita'),\n",
              " ('Līga', 'Dancing Queen'),\n",
              " ('Līga', 'Ziemelmeita')]"
            ]
          },
          "metadata": {},
          "execution_count": 62
        }
      ]
    },
    {
      "cell_type": "code",
      "source": [
        "help(dance)"
      ],
      "metadata": {
        "id": "x1xP1ZArr_y0",
        "outputId": "5291566f-88b4-4241-fd47-3cf92ba31729",
        "colab": {
          "base_uri": "https://localhost:8080/"
        }
      },
      "execution_count": 65,
      "outputs": [
        {
          "output_type": "stream",
          "name": "stdout",
          "text": [
            "Help on function dance in module __main__:\n",
            "\n",
            "dance(dancers, songs)\n",
            "    Dance functions takes two sequences \n",
            "    dancers - list of dancers\n",
            "    songs - list of songs\n",
            "    returns a list of ALL songs vs dancers\n",
            "\n"
          ]
        }
      ]
    },
    {
      "cell_type": "code",
      "execution_count": 66,
      "metadata": {
        "id": "CDHft0PhkYmw",
        "outputId": "4b2b6ec0-4c8c-47af-93ff-7a530a5a5070",
        "colab": {
          "base_uri": "https://localhost:8080/"
        }
      },
      "outputs": [
        {
          "output_type": "stream",
          "name": "stdout",
          "text": [
            "Look Ma! I am multiplying 2 * 3 which is 6\n",
            "Look Ma! I am multiplying 5 * 7 which is 35\n",
            "Look Ma! I am multiplying 6 * 35 which is 210\n"
          ]
        },
        {
          "output_type": "execute_result",
          "data": {
            "text/plain": [
              "210"
            ]
          },
          "metadata": {},
          "execution_count": 66
        }
      ],
      "source": [
        "# by having return values we gain ability to chain our function results\n",
        "\n",
        "mult(mult(2,3), mult(5,7))"
      ]
    },
    {
      "cell_type": "code",
      "execution_count": 67,
      "metadata": {
        "id": "CbwHCFqokYmw",
        "outputId": "18d1747f-dee1-451e-c522-0bcb545cd061",
        "colab": {
          "base_uri": "https://localhost:8080/"
        }
      },
      "outputs": [
        {
          "output_type": "stream",
          "name": "stdout",
          "text": [
            "17\n"
          ]
        },
        {
          "output_type": "execute_result",
          "data": {
            "text/plain": [
              "17"
            ]
          },
          "metadata": {},
          "execution_count": 67
        }
      ],
      "source": [
        "def sub(a, b):\n",
        "    print(a-b)\n",
        "    return(a-b)\n",
        "sub(20, 3)"
      ]
    },
    {
      "cell_type": "code",
      "source": [
        "my_result = sub(mult(10,4), mult(8,2)) # so 40-16 should be 24\n",
        "my_result"
      ],
      "metadata": {
        "id": "3zXIWKv4sysD",
        "outputId": "71b6cd79-cf83-4de9-ef0b-c4339fbf1001",
        "colab": {
          "base_uri": "https://localhost:8080/"
        }
      },
      "execution_count": 68,
      "outputs": [
        {
          "output_type": "stream",
          "name": "stdout",
          "text": [
            "Look Ma! I am multiplying 10 * 4 which is 40\n",
            "Look Ma! I am multiplying 8 * 2 which is 16\n",
            "24\n"
          ]
        },
        {
          "output_type": "execute_result",
          "data": {
            "text/plain": [
              "24"
            ]
          },
          "metadata": {},
          "execution_count": 68
        }
      ]
    },
    {
      "cell_type": "code",
      "execution_count": null,
      "metadata": {
        "id": "XnyS0Z_gkYmw"
      },
      "outputs": [],
      "source": [
        "result = 0"
      ]
    },
    {
      "cell_type": "code",
      "execution_count": 69,
      "metadata": {
        "id": "QJjAcrlFkYmw",
        "outputId": "c5d431e6-c272-4a84-9242-aa54789e00c2",
        "colab": {
          "base_uri": "https://localhost:8080/"
        }
      },
      "outputs": [
        {
          "output_type": "stream",
          "name": "stdout",
          "text": [
            "33\n"
          ]
        }
      ],
      "source": [
        "# Avoid this, more of an anti-pattern\n",
        "\n",
        "def add2(a,b):\n",
        "    global result  # so this will access the global variable result, try to avoid this pattern\n",
        "    # problem with using global access is that you can't figure out if function works properly\n",
        "    \n",
        "    result += a+b\n",
        "    # many calculations\n",
        "    print(result)\n",
        "\n",
        "add2(3,6)"
      ]
    },
    {
      "cell_type": "code",
      "source": [
        "add2(10,6)"
      ],
      "metadata": {
        "id": "88r_-cn5tOA5",
        "outputId": "d43281c5-16a4-435c-fceb-fb352ec62caa",
        "colab": {
          "base_uri": "https://localhost:8080/"
        }
      },
      "execution_count": 70,
      "outputs": [
        {
          "output_type": "stream",
          "name": "stdout",
          "text": [
            "49\n"
          ]
        }
      ]
    },
    {
      "cell_type": "code",
      "source": [
        "result  # this is global"
      ],
      "metadata": {
        "id": "-Km3xilVtS1L",
        "outputId": "3f8774db-19f6-4aa4-a59f-a8246b3ff3aa",
        "colab": {
          "base_uri": "https://localhost:8080/"
        }
      },
      "execution_count": 71,
      "outputs": [
        {
          "output_type": "execute_result",
          "data": {
            "text/plain": [
              "49"
            ]
          },
          "metadata": {},
          "execution_count": 71
        }
      ]
    },
    {
      "cell_type": "code",
      "execution_count": 72,
      "metadata": {
        "id": "14f8d8ZBkYmw"
      },
      "outputs": [],
      "source": [
        "def addResult(a, b, result):\n",
        "    result += a+b # same result = result + (a+b)\n",
        "    # many calculations\n",
        "    print(result)\n",
        "    return result\n"
      ]
    },
    {
      "cell_type": "code",
      "execution_count": 73,
      "metadata": {
        "id": "wCVDRDBokYmx",
        "outputId": "90afeb82-9729-4aa5-ebd7-700e75e1c4d7",
        "colab": {
          "base_uri": "https://localhost:8080/"
        }
      },
      "outputs": [
        {
          "output_type": "stream",
          "name": "stdout",
          "text": [
            "64\n",
            "64\n"
          ]
        }
      ],
      "source": [
        "result = addResult(5,10, result)\n",
        "print(result)"
      ]
    },
    {
      "cell_type": "code",
      "execution_count": 74,
      "metadata": {
        "id": "ix599BuHkYmx",
        "outputId": "833387fe-2c28-4a97-a095-492a6baa020b",
        "colab": {
          "base_uri": "https://localhost:8080/"
        }
      },
      "outputs": [
        {
          "output_type": "stream",
          "name": "stdout",
          "text": [
            "903\n"
          ]
        },
        {
          "output_type": "execute_result",
          "data": {
            "text/plain": [
              "903"
            ]
          },
          "metadata": {},
          "execution_count": 74
        }
      ],
      "source": [
        "def add3(a,b,c):\n",
        "    print(a+b+c)\n",
        "    return(a+b+c)\n",
        "add3(13,26,864)"
      ]
    },
    {
      "cell_type": "code",
      "execution_count": 75,
      "metadata": {
        "id": "k_Jzpx-NkYmx",
        "outputId": "16a48360-6756-4c55-9461-d8c76b74d352",
        "colab": {
          "base_uri": "https://localhost:8080/"
        }
      },
      "outputs": [
        {
          "output_type": "stream",
          "name": "stdout",
          "text": [
            "[5, 6, 7, 8, 9, 1, 3, 6, 5, 'VVVV']\n",
            "[5, 6, 7, 8, 9, 1, 3, 6, 5, 'VVVV']\n"
          ]
        }
      ],
      "source": [
        "print(add3(list(range(5,10)), [1,3,6], [5,'VVVV']))"
      ]
    },
    {
      "cell_type": "code",
      "execution_count": 76,
      "metadata": {
        "id": "JFonNReEkYmx",
        "outputId": "ec622e1d-20a4-4f99-8323-bc9bdcfae1b3",
        "colab": {
          "base_uri": "https://localhost:8080/"
        }
      },
      "outputs": [
        {
          "output_type": "stream",
          "name": "stdout",
          "text": [
            "ABRACADABRA\n"
          ]
        }
      ],
      "source": [
        "result = add3(\"A\",\"BRACA\",\"DABRA\")"
      ]
    },
    {
      "cell_type": "code",
      "execution_count": 77,
      "metadata": {
        "id": "bi5QsoTukYmx",
        "outputId": "8f2bd169-3d9a-4e9c-94b3-07c439d5ecc0",
        "colab": {
          "base_uri": "https://localhost:8080/",
          "height": 35
        }
      },
      "outputs": [
        {
          "output_type": "execute_result",
          "data": {
            "text/plain": [
              "'ABRACADABRA'"
            ],
            "application/vnd.google.colaboratory.intrinsic+json": {
              "type": "string"
            }
          },
          "metadata": {},
          "execution_count": 77
        }
      ],
      "source": [
        "result"
      ]
    },
    {
      "cell_type": "code",
      "source": [
        "# It would be nice to have a function which takes unlimited number or arguments\n",
        "# print function does it, we can give many values to print\n",
        "print(\"Valdis\", \"RTU\", \"Python\", \"etc\")"
      ],
      "metadata": {
        "id": "QK_S8PITtyqk",
        "outputId": "14fb2204-f301-433f-e657-6df1c0547f9c",
        "colab": {
          "base_uri": "https://localhost:8080/"
        }
      },
      "execution_count": 78,
      "outputs": [
        {
          "output_type": "stream",
          "name": "stdout",
          "text": [
            "Valdis RTU Python etc\n"
          ]
        }
      ]
    },
    {
      "cell_type": "code",
      "source": [
        "# After the break I show you :)\n",
        "def process_unlimited(*values):  #by using * we indicate that values will be a list of unlimited number of arguments\n",
        "    for item in values:\n",
        "        print(f\"Doing something with {item}\")"
      ],
      "metadata": {
        "id": "d59zdPcTt8sf"
      },
      "execution_count": 79,
      "outputs": []
    },
    {
      "cell_type": "code",
      "source": [
        "help(print)"
      ],
      "metadata": {
        "id": "zyUA3y2owzE_",
        "outputId": "7de6263e-ac57-4d1f-aff4-5fb6231b019a",
        "colab": {
          "base_uri": "https://localhost:8080/"
        }
      },
      "execution_count": 85,
      "outputs": [
        {
          "output_type": "stream",
          "name": "stdout",
          "text": [
            "Help on built-in function print in module builtins:\n",
            "\n",
            "print(...)\n",
            "    print(value, ..., sep=' ', end='\\n', file=sys.stdout, flush=False)\n",
            "    \n",
            "    Prints the values to a stream, or to sys.stdout by default.\n",
            "    Optional keyword arguments:\n",
            "    file:  a file-like object (stream); defaults to the current sys.stdout.\n",
            "    sep:   string inserted between values, default a space.\n",
            "    end:   string appended after the last value, default a newline.\n",
            "    flush: whether to forcibly flush the stream.\n",
            "\n"
          ]
        }
      ]
    },
    {
      "cell_type": "code",
      "source": [
        "process_unlimited(\"Valdis\", \"Riga\", 9000, \"and so on\")"
      ],
      "metadata": {
        "id": "qMB4juHKvw3j",
        "outputId": "bda76b77-bb80-4397-e925-d75ab018b64e",
        "colab": {
          "base_uri": "https://localhost:8080/"
        }
      },
      "execution_count": 80,
      "outputs": [
        {
          "output_type": "stream",
          "name": "stdout",
          "text": [
            "Doing something with Valdis\n",
            "Doing something with Riga\n",
            "Doing something with 9000\n",
            "Doing something with and so on\n"
          ]
        }
      ]
    },
    {
      "cell_type": "code",
      "source": [
        "def get_average_length(*words):\n",
        "    word_lengths = [len(word) for word in words]\n",
        "    return sum(word_lengths)/len(word_lengths)"
      ],
      "metadata": {
        "id": "GiHYOj6-v6uZ"
      },
      "execution_count": 81,
      "outputs": []
    },
    {
      "cell_type": "code",
      "source": [
        "get_average_length(\"Valdis\", \"Riga\")"
      ],
      "metadata": {
        "id": "6I9AX4lCwVZ2",
        "outputId": "4ade3a04-34f0-41ae-e846-d4501847e14b",
        "colab": {
          "base_uri": "https://localhost:8080/"
        }
      },
      "execution_count": 82,
      "outputs": [
        {
          "output_type": "execute_result",
          "data": {
            "text/plain": [
              "5.0"
            ]
          },
          "metadata": {},
          "execution_count": 82
        }
      ]
    },
    {
      "cell_type": "markdown",
      "source": [
        ""
      ],
      "metadata": {
        "id": "tpaBREjSxHVm"
      }
    },
    {
      "cell_type": "code",
      "source": [
        "# alternative is to ask to pass a word list\n",
        "def get_average_length_from_list(word_list):\n",
        "    word_lengths = [len(word) for word in word_list]\n",
        "    return sum(word_lengths)/len(word_lengths)"
      ],
      "metadata": {
        "id": "JEF_VcfjwZB7"
      },
      "execution_count": 83,
      "outputs": []
    },
    {
      "cell_type": "code",
      "source": [
        "get_average_length_from_list([\"Valdis\", \"Riga\"])"
      ],
      "metadata": {
        "id": "Jwz0hrgOwmQa",
        "outputId": "88e4f818-c50d-4fae-cf54-e3da322f57a0",
        "colab": {
          "base_uri": "https://localhost:8080/"
        }
      },
      "execution_count": 84,
      "outputs": [
        {
          "output_type": "execute_result",
          "data": {
            "text/plain": [
              "5.0"
            ]
          },
          "metadata": {},
          "execution_count": 84
        }
      ]
    },
    {
      "cell_type": "code",
      "source": [
        "def get_min_max(value_list):\n",
        "    # of course I could do more calculations here\n",
        "    # have internal variables etc etc\n",
        "    return min(value_list), max(value_list) # I am returning two values in a tuple\n"
      ],
      "metadata": {
        "id": "zZePnE_zw6r3"
      },
      "execution_count": 86,
      "outputs": []
    },
    {
      "cell_type": "code",
      "source": [
        "get_min_max([1,6,-662,9000,3423])"
      ],
      "metadata": {
        "id": "kLyicBbSxNpC",
        "outputId": "4ff21f87-69da-4a26-fc56-e64c894f46e1",
        "colab": {
          "base_uri": "https://localhost:8080/"
        }
      },
      "execution_count": 87,
      "outputs": [
        {
          "output_type": "execute_result",
          "data": {
            "text/plain": [
              "(-662, 9000)"
            ]
          },
          "metadata": {},
          "execution_count": 87
        }
      ]
    },
    {
      "cell_type": "code",
      "source": [
        "my_tuple = get_min_max([1,6,-662,9000,3423])\n",
        "my_tuple"
      ],
      "metadata": {
        "id": "ldadyO1XxS2B",
        "outputId": "421c742e-8dc6-4f9f-aa4a-addd6ea9aa08",
        "colab": {
          "base_uri": "https://localhost:8080/"
        }
      },
      "execution_count": 88,
      "outputs": [
        {
          "output_type": "execute_result",
          "data": {
            "text/plain": [
              "(-662, 9000)"
            ]
          },
          "metadata": {},
          "execution_count": 88
        }
      ]
    },
    {
      "cell_type": "code",
      "source": [
        "# we can also unpack these values as we get them\n",
        "my_min, my_max = get_min_max([1,6,-662,9000,3423])\n",
        "print(my_min, my_max)"
      ],
      "metadata": {
        "id": "02HZXpw5xWv9",
        "outputId": "1aa1b89a-6f8a-4f8b-be5e-42e4d91eff3c",
        "colab": {
          "base_uri": "https://localhost:8080/"
        }
      },
      "execution_count": 89,
      "outputs": [
        {
          "output_type": "stream",
          "name": "stdout",
          "text": [
            "-662 9000\n"
          ]
        }
      ]
    },
    {
      "cell_type": "code",
      "execution_count": 90,
      "metadata": {
        "id": "Z5fvniB1kYmx",
        "outputId": "5e7cc78b-060f-422f-cf48-407d81d4e6bb",
        "colab": {
          "base_uri": "https://localhost:8080/"
        }
      },
      "outputs": [
        {
          "output_type": "stream",
          "name": "stdout",
          "text": [
            "53 is prime\n",
            "True\n",
            "51 is not prime, it divides by 3\n",
            "False\n",
            "59 is prime\n",
            "True\n"
          ]
        }
      ],
      "source": [
        "def isPrime(num):\n",
        "    '''\n",
        "    Super simple method of checking for prime. \n",
        "    '''\n",
        "    for n in range(2,num): #How could we optimize this?\n",
        "        if num % n == 0:\n",
        "            print(f'{num} is not prime, it divides by {n}')\n",
        "            return False\n",
        "    else: # runs when no divisors found\n",
        "        print(f'{num} is prime')\n",
        "        return True\n",
        "print(isPrime(53))\n",
        "print(isPrime(51))\n",
        "print(isPrime(59))"
      ]
    },
    {
      "cell_type": "code",
      "execution_count": 91,
      "metadata": {
        "id": "cHFAkE7IkYmy",
        "outputId": "52765e0c-321d-4451-dc66-209e50d5096d",
        "colab": {
          "base_uri": "https://localhost:8080/"
        }
      },
      "outputs": [
        {
          "output_type": "stream",
          "name": "stdout",
          "text": [
            "10 is not prime, it divides by 2\n"
          ]
        },
        {
          "output_type": "execute_result",
          "data": {
            "text/plain": [
              "False"
            ]
          },
          "metadata": {},
          "execution_count": 91
        }
      ],
      "source": [
        "isPrime(10)"
      ]
    },
    {
      "cell_type": "code",
      "execution_count": 92,
      "metadata": {
        "id": "y_RMjX9PkYmy",
        "outputId": "b7cc2352-59e7-410a-a493-8a326e5a0a92",
        "colab": {
          "base_uri": "https://localhost:8080/"
        }
      },
      "outputs": [
        {
          "output_type": "execute_result",
          "data": {
            "text/plain": [
              "True"
            ]
          },
          "metadata": {},
          "execution_count": 92
        }
      ],
      "source": [
        "def isPrimeO(num):\n",
        "    '''\n",
        "    Faster method of checking for prime. \n",
        "    '''\n",
        "    if num % 2 == 0 and num > 2: # even numbers except 2 are not prime\n",
        "        return False\n",
        "    for i in range(3, int(num**0.5) + 1, 2): ## notice we only care about odd numbers  and do not need to check past sqrt of num\n",
        "        if num % i == 0:\n",
        "            return False\n",
        "    return True\n",
        "isPrimeO(23)"
      ]
    },
    {
      "cell_type": "markdown",
      "metadata": {
        "id": "gNw4fyV4kYmy"
      },
      "source": [
        "## Jupyter magic\n",
        "* *%%HTML* lets you render cell as HTML\n",
        "* *%%time* times your cell operation, *%time* times your single line run time\n",
        "* *%%timeit* runs your cell multiple time and gives you average\n",
        "\n",
        "### Magic docs: http://ipython.readthedocs.io/en/stable/interactive/magics.html"
      ]
    },
    {
      "cell_type": "code",
      "execution_count": 93,
      "metadata": {
        "id": "A2MHxsVIkYmy",
        "outputId": "b88e07a8-1f3c-4598-ea13-242ad5d238a3",
        "colab": {
          "base_uri": "https://localhost:8080/"
        }
      },
      "outputs": [
        {
          "output_type": "stream",
          "name": "stdout",
          "text": [
            "The slowest run took 11.28 times longer than the fastest. This could mean that an intermediate result is being cached.\n",
            "1000000 loops, best of 5: 1.13 µs per loop\n"
          ]
        }
      ],
      "source": [
        "%timeit isPrimeO(100001)"
      ]
    },
    {
      "cell_type": "code",
      "execution_count": 94,
      "metadata": {
        "collapsed": true,
        "id": "pA9HMNzAkYmy",
        "outputId": "0f412fd2-62a2-4f0a-a4bf-2f84c7975bba",
        "colab": {
          "base_uri": "https://localhost:8080/"
        }
      },
      "outputs": [
        {
          "output_type": "stream",
          "name": "stdout",
          "text": [
            "\u001b[1;30;43mStreaming output truncated to the last 5000 lines.\u001b[0m\n",
            "100001 is not prime, it divides by 11\n",
            "100001 is not prime, it divides by 11\n",
            "100001 is not prime, it divides by 11\n",
            "100001 is not prime, it divides by 11\n",
            "100001 is not prime, it divides by 11\n",
            "100001 is not prime, it divides by 11\n",
            "100001 is not prime, it divides by 11\n",
            "100001 is not prime, it divides by 11\n",
            "100001 is not prime, it divides by 11\n",
            "100001 is not prime, it divides by 11\n",
            "100001 is not prime, it divides by 11\n",
            "100001 is not prime, it divides by 11\n",
            "100001 is not prime, it divides by 11\n",
            "100001 is not prime, it divides by 11\n",
            "100001 is not prime, it divides by 11\n",
            "100001 is not prime, it divides by 11\n",
            "100001 is not prime, it divides by 11\n",
            "100001 is not prime, it divides by 11\n",
            "100001 is not prime, it divides by 11\n",
            "100001 is not prime, it divides by 11\n",
            "100001 is not prime, it divides by 11\n",
            "100001 is not prime, it divides by 11\n",
            "100001 is not prime, it divides by 11\n",
            "100001 is not prime, it divides by 11\n",
            "100001 is not prime, it divides by 11\n",
            "100001 is not prime, it divides by 11\n",
            "100001 is not prime, it divides by 11\n",
            "100001 is not prime, it divides by 11\n",
            "100001 is not prime, it divides by 11\n",
            "100001 is not prime, it divides by 11\n",
            "100001 is not prime, it divides by 11\n",
            "100001 is not prime, it divides by 11\n",
            "100001 is not prime, it divides by 11\n",
            "100001 is not prime, it divides by 11\n",
            "100001 is not prime, it divides by 11\n",
            "100001 is not prime, it divides by 11\n",
            "100001 is not prime, it divides by 11\n",
            "100001 is not prime, it divides by 11\n",
            "100001 is not prime, it divides by 11\n",
            "100001 is not prime, it divides by 11\n",
            "100001 is not prime, it divides by 11\n",
            "100001 is not prime, it divides by 11\n",
            "100001 is not prime, it divides by 11\n",
            "100001 is not prime, it divides by 11\n",
            "100001 is not prime, it divides by 11\n",
            "100001 is not prime, it divides by 11\n",
            "100001 is not prime, it divides by 11\n",
            "100001 is not prime, it divides by 11\n",
            "100001 is not prime, it divides by 11\n",
            "100001 is not prime, it divides by 11\n",
            "100001 is not prime, it divides by 11\n",
            "100001 is not prime, it divides by 11\n",
            "100001 is not prime, it divides by 11\n",
            "100001 is not prime, it divides by 11\n",
            "100001 is not prime, it divides by 11\n",
            "100001 is not prime, it divides by 11\n",
            "100001 is not prime, it divides by 11\n",
            "100001 is not prime, it divides by 11\n",
            "100001 is not prime, it divides by 11\n",
            "100001 is not prime, it divides by 11\n",
            "100001 is not prime, it divides by 11\n",
            "100001 is not prime, it divides by 11\n",
            "100001 is not prime, it divides by 11\n",
            "100001 is not prime, it divides by 11\n",
            "100001 is not prime, it divides by 11\n",
            "100001 is not prime, it divides by 11\n",
            "100001 is not prime, it divides by 11\n",
            "100001 is not prime, it divides by 11\n",
            "100001 is not prime, it divides by 11\n",
            "100001 is not prime, it divides by 11\n",
            "100001 is not prime, it divides by 11\n",
            "100001 is not prime, it divides by 11\n",
            "100001 is not prime, it divides by 11\n",
            "100001 is not prime, it divides by 11\n",
            "100001 is not prime, it divides by 11\n",
            "100001 is not prime, it divides by 11\n",
            "100001 is not prime, it divides by 11\n",
            "100001 is not prime, it divides by 11\n",
            "100001 is not prime, it divides by 11\n",
            "100001 is not prime, it divides by 11\n",
            "100001 is not prime, it divides by 11\n",
            "100001 is not prime, it divides by 11\n",
            "100001 is not prime, it divides by 11\n",
            "100001 is not prime, it divides by 11\n",
            "100001 is not prime, it divides by 11\n",
            "100001 is not prime, it divides by 11\n",
            "100001 is not prime, it divides by 11\n",
            "100001 is not prime, it divides by 11\n",
            "100001 is not prime, it divides by 11\n",
            "100001 is not prime, it divides by 11\n",
            "100001 is not prime, it divides by 11\n",
            "100001 is not prime, it divides by 11\n",
            "100001 is not prime, it divides by 11\n",
            "100001 is not prime, it divides by 11\n",
            "100001 is not prime, it divides by 11\n",
            "100001 is not prime, it divides by 11\n",
            "100001 is not prime, it divides by 11\n",
            "100001 is not prime, it divides by 11\n",
            "100001 is not prime, it divides by 11\n",
            "100001 is not prime, it divides by 11\n",
            "100001 is not prime, it divides by 11\n",
            "100001 is not prime, it divides by 11\n",
            "100001 is not prime, it divides by 11\n",
            "100001 is not prime, it divides by 11\n",
            "100001 is not prime, it divides by 11\n",
            "100001 is not prime, it divides by 11\n",
            "100001 is not prime, it divides by 11\n",
            "100001 is not prime, it divides by 11\n",
            "100001 is not prime, it divides by 11\n",
            "100001 is not prime, it divides by 11\n",
            "100001 is not prime, it divides by 11\n",
            "100001 is not prime, it divides by 11\n",
            "100001 is not prime, it divides by 11\n",
            "100001 is not prime, it divides by 11\n",
            "100001 is not prime, it divides by 11\n",
            "100001 is not prime, it divides by 11\n",
            "100001 is not prime, it divides by 11\n",
            "100001 is not prime, it divides by 11\n",
            "100001 is not prime, it divides by 11\n",
            "100001 is not prime, it divides by 11\n",
            "100001 is not prime, it divides by 11\n",
            "100001 is not prime, it divides by 11\n",
            "100001 is not prime, it divides by 11\n",
            "100001 is not prime, it divides by 11\n",
            "100001 is not prime, it divides by 11\n",
            "100001 is not prime, it divides by 11\n",
            "100001 is not prime, it divides by 11\n",
            "100001 is not prime, it divides by 11\n",
            "100001 is not prime, it divides by 11\n",
            "100001 is not prime, it divides by 11\n",
            "100001 is not prime, it divides by 11\n",
            "100001 is not prime, it divides by 11\n",
            "100001 is not prime, it divides by 11\n",
            "100001 is not prime, it divides by 11\n",
            "100001 is not prime, it divides by 11\n",
            "100001 is not prime, it divides by 11\n",
            "100001 is not prime, it divides by 11\n",
            "100001 is not prime, it divides by 11\n",
            "100001 is not prime, it divides by 11\n",
            "100001 is not prime, it divides by 11\n",
            "100001 is not prime, it divides by 11\n",
            "100001 is not prime, it divides by 11\n",
            "100001 is not prime, it divides by 11\n",
            "100001 is not prime, it divides by 11\n",
            "100001 is not prime, it divides by 11\n",
            "100001 is not prime, it divides by 11\n",
            "100001 is not prime, it divides by 11\n",
            "100001 is not prime, it divides by 11\n",
            "100001 is not prime, it divides by 11\n",
            "100001 is not prime, it divides by 11\n",
            "100001 is not prime, it divides by 11\n",
            "100001 is not prime, it divides by 11\n",
            "100001 is not prime, it divides by 11\n",
            "100001 is not prime, it divides by 11\n",
            "100001 is not prime, it divides by 11\n",
            "100001 is not prime, it divides by 11\n",
            "100001 is not prime, it divides by 11\n",
            "100001 is not prime, it divides by 11\n",
            "100001 is not prime, it divides by 11\n",
            "100001 is not prime, it divides by 11\n",
            "100001 is not prime, it divides by 11\n",
            "100001 is not prime, it divides by 11\n",
            "100001 is not prime, it divides by 11\n",
            "100001 is not prime, it divides by 11\n",
            "100001 is not prime, it divides by 11\n",
            "100001 is not prime, it divides by 11\n",
            "100001 is not prime, it divides by 11\n",
            "100001 is not prime, it divides by 11\n",
            "100001 is not prime, it divides by 11\n",
            "100001 is not prime, it divides by 11\n",
            "100001 is not prime, it divides by 11\n",
            "100001 is not prime, it divides by 11\n",
            "100001 is not prime, it divides by 11\n",
            "100001 is not prime, it divides by 11\n",
            "100001 is not prime, it divides by 11\n",
            "100001 is not prime, it divides by 11\n",
            "100001 is not prime, it divides by 11\n",
            "100001 is not prime, it divides by 11\n",
            "100001 is not prime, it divides by 11\n",
            "100001 is not prime, it divides by 11\n",
            "100001 is not prime, it divides by 11\n",
            "100001 is not prime, it divides by 11\n",
            "100001 is not prime, it divides by 11\n",
            "100001 is not prime, it divides by 11\n",
            "100001 is not prime, it divides by 11\n",
            "100001 is not prime, it divides by 11\n",
            "100001 is not prime, it divides by 11\n",
            "100001 is not prime, it divides by 11\n",
            "100001 is not prime, it divides by 11\n",
            "100001 is not prime, it divides by 11\n",
            "100001 is not prime, it divides by 11\n",
            "100001 is not prime, it divides by 11\n",
            "100001 is not prime, it divides by 11\n",
            "100001 is not prime, it divides by 11\n",
            "100001 is not prime, it divides by 11\n",
            "100001 is not prime, it divides by 11\n",
            "100001 is not prime, it divides by 11\n",
            "100001 is not prime, it divides by 11\n",
            "100001 is not prime, it divides by 11\n",
            "100001 is not prime, it divides by 11\n",
            "100001 is not prime, it divides by 11\n",
            "100001 is not prime, it divides by 11\n",
            "100001 is not prime, it divides by 11\n",
            "100001 is not prime, it divides by 11\n",
            "100001 is not prime, it divides by 11\n",
            "100001 is not prime, it divides by 11\n",
            "100001 is not prime, it divides by 11\n",
            "100001 is not prime, it divides by 11\n",
            "100001 is not prime, it divides by 11\n",
            "100001 is not prime, it divides by 11\n",
            "100001 is not prime, it divides by 11\n",
            "100001 is not prime, it divides by 11\n",
            "100001 is not prime, it divides by 11\n",
            "100001 is not prime, it divides by 11\n",
            "100001 is not prime, it divides by 11\n",
            "100001 is not prime, it divides by 11\n",
            "100001 is not prime, it divides by 11\n",
            "100001 is not prime, it divides by 11\n",
            "100001 is not prime, it divides by 11\n",
            "100001 is not prime, it divides by 11\n",
            "100001 is not prime, it divides by 11\n",
            "100001 is not prime, it divides by 11\n",
            "100001 is not prime, it divides by 11\n",
            "100001 is not prime, it divides by 11\n",
            "100001 is not prime, it divides by 11\n",
            "100001 is not prime, it divides by 11\n",
            "100001 is not prime, it divides by 11\n",
            "100001 is not prime, it divides by 11\n",
            "100001 is not prime, it divides by 11\n",
            "100001 is not prime, it divides by 11\n",
            "100001 is not prime, it divides by 11\n",
            "100001 is not prime, it divides by 11\n",
            "100001 is not prime, it divides by 11\n",
            "100001 is not prime, it divides by 11\n",
            "100001 is not prime, it divides by 11\n",
            "100001 is not prime, it divides by 11\n",
            "100001 is not prime, it divides by 11\n",
            "100001 is not prime, it divides by 11\n",
            "100001 is not prime, it divides by 11\n",
            "100001 is not prime, it divides by 11\n",
            "100001 is not prime, it divides by 11\n",
            "100001 is not prime, it divides by 11\n",
            "100001 is not prime, it divides by 11\n",
            "100001 is not prime, it divides by 11\n",
            "100001 is not prime, it divides by 11\n",
            "100001 is not prime, it divides by 11\n",
            "100001 is not prime, it divides by 11\n",
            "100001 is not prime, it divides by 11\n",
            "100001 is not prime, it divides by 11\n",
            "100001 is not prime, it divides by 11\n",
            "100001 is not prime, it divides by 11\n",
            "100001 is not prime, it divides by 11\n",
            "100001 is not prime, it divides by 11\n",
            "100001 is not prime, it divides by 11\n",
            "100001 is not prime, it divides by 11\n",
            "100001 is not prime, it divides by 11\n",
            "100001 is not prime, it divides by 11\n",
            "100001 is not prime, it divides by 11\n",
            "100001 is not prime, it divides by 11\n",
            "100001 is not prime, it divides by 11\n",
            "100001 is not prime, it divides by 11\n",
            "100001 is not prime, it divides by 11\n",
            "100001 is not prime, it divides by 11\n",
            "100001 is not prime, it divides by 11\n",
            "100001 is not prime, it divides by 11\n",
            "100001 is not prime, it divides by 11\n",
            "100001 is not prime, it divides by 11\n",
            "100001 is not prime, it divides by 11\n",
            "100001 is not prime, it divides by 11\n",
            "100001 is not prime, it divides by 11\n",
            "100001 is not prime, it divides by 11\n",
            "100001 is not prime, it divides by 11\n",
            "100001 is not prime, it divides by 11\n",
            "100001 is not prime, it divides by 11\n",
            "100001 is not prime, it divides by 11\n",
            "100001 is not prime, it divides by 11\n",
            "100001 is not prime, it divides by 11\n",
            "100001 is not prime, it divides by 11\n",
            "100001 is not prime, it divides by 11\n",
            "100001 is not prime, it divides by 11\n",
            "100001 is not prime, it divides by 11\n",
            "100001 is not prime, it divides by 11\n",
            "100001 is not prime, it divides by 11\n",
            "100001 is not prime, it divides by 11\n",
            "100001 is not prime, it divides by 11\n",
            "100001 is not prime, it divides by 11\n",
            "100001 is not prime, it divides by 11\n",
            "100001 is not prime, it divides by 11\n",
            "100001 is not prime, it divides by 11\n",
            "100001 is not prime, it divides by 11\n",
            "100001 is not prime, it divides by 11\n",
            "100001 is not prime, it divides by 11\n",
            "100001 is not prime, it divides by 11\n",
            "100001 is not prime, it divides by 11\n",
            "100001 is not prime, it divides by 11\n",
            "100001 is not prime, it divides by 11\n",
            "100001 is not prime, it divides by 11\n",
            "100001 is not prime, it divides by 11\n",
            "100001 is not prime, it divides by 11\n",
            "100001 is not prime, it divides by 11\n",
            "100001 is not prime, it divides by 11\n",
            "100001 is not prime, it divides by 11\n",
            "100001 is not prime, it divides by 11\n",
            "100001 is not prime, it divides by 11\n",
            "100001 is not prime, it divides by 11\n",
            "100001 is not prime, it divides by 11\n",
            "100001 is not prime, it divides by 11\n",
            "100001 is not prime, it divides by 11\n",
            "100001 is not prime, it divides by 11\n",
            "100001 is not prime, it divides by 11\n",
            "100001 is not prime, it divides by 11\n",
            "100001 is not prime, it divides by 11\n",
            "100001 is not prime, it divides by 11\n",
            "100001 is not prime, it divides by 11\n",
            "100001 is not prime, it divides by 11\n",
            "100001 is not prime, it divides by 11\n",
            "100001 is not prime, it divides by 11\n",
            "100001 is not prime, it divides by 11\n",
            "100001 is not prime, it divides by 11\n",
            "100001 is not prime, it divides by 11\n",
            "100001 is not prime, it divides by 11\n",
            "100001 is not prime, it divides by 11\n",
            "100001 is not prime, it divides by 11\n",
            "100001 is not prime, it divides by 11\n",
            "100001 is not prime, it divides by 11\n",
            "100001 is not prime, it divides by 11\n",
            "100001 is not prime, it divides by 11\n",
            "100001 is not prime, it divides by 11\n",
            "100001 is not prime, it divides by 11\n",
            "100001 is not prime, it divides by 11\n",
            "100001 is not prime, it divides by 11\n",
            "100001 is not prime, it divides by 11\n",
            "100001 is not prime, it divides by 11\n",
            "100001 is not prime, it divides by 11\n",
            "100001 is not prime, it divides by 11\n",
            "100001 is not prime, it divides by 11\n",
            "100001 is not prime, it divides by 11\n",
            "100001 is not prime, it divides by 11\n",
            "100001 is not prime, it divides by 11\n",
            "100001 is not prime, it divides by 11\n",
            "100001 is not prime, it divides by 11\n",
            "100001 is not prime, it divides by 11\n",
            "100001 is not prime, it divides by 11\n",
            "100001 is not prime, it divides by 11\n",
            "100001 is not prime, it divides by 11\n",
            "100001 is not prime, it divides by 11\n",
            "100001 is not prime, it divides by 11\n",
            "100001 is not prime, it divides by 11\n",
            "100001 is not prime, it divides by 11\n",
            "100001 is not prime, it divides by 11\n",
            "100001 is not prime, it divides by 11\n",
            "100001 is not prime, it divides by 11\n",
            "100001 is not prime, it divides by 11\n",
            "100001 is not prime, it divides by 11\n",
            "100001 is not prime, it divides by 11\n",
            "100001 is not prime, it divides by 11\n",
            "100001 is not prime, it divides by 11\n",
            "100001 is not prime, it divides by 11\n",
            "100001 is not prime, it divides by 11\n",
            "100001 is not prime, it divides by 11\n",
            "100001 is not prime, it divides by 11\n",
            "100001 is not prime, it divides by 11\n",
            "100001 is not prime, it divides by 11\n",
            "100001 is not prime, it divides by 11\n",
            "100001 is not prime, it divides by 11\n",
            "100001 is not prime, it divides by 11\n",
            "100001 is not prime, it divides by 11\n",
            "100001 is not prime, it divides by 11\n",
            "100001 is not prime, it divides by 11\n",
            "100001 is not prime, it divides by 11\n",
            "100001 is not prime, it divides by 11\n",
            "100001 is not prime, it divides by 11\n",
            "100001 is not prime, it divides by 11\n",
            "100001 is not prime, it divides by 11\n",
            "100001 is not prime, it divides by 11\n",
            "100001 is not prime, it divides by 11\n",
            "100001 is not prime, it divides by 11\n",
            "100001 is not prime, it divides by 11\n",
            "100001 is not prime, it divides by 11\n",
            "100001 is not prime, it divides by 11\n",
            "100001 is not prime, it divides by 11\n",
            "100001 is not prime, it divides by 11\n",
            "100001 is not prime, it divides by 11\n",
            "100001 is not prime, it divides by 11\n",
            "100001 is not prime, it divides by 11\n",
            "100001 is not prime, it divides by 11\n",
            "100001 is not prime, it divides by 11\n",
            "100001 is not prime, it divides by 11\n",
            "100001 is not prime, it divides by 11\n",
            "100001 is not prime, it divides by 11\n",
            "100001 is not prime, it divides by 11\n",
            "100001 is not prime, it divides by 11\n",
            "100001 is not prime, it divides by 11\n",
            "100001 is not prime, it divides by 11\n",
            "100001 is not prime, it divides by 11\n",
            "100001 is not prime, it divides by 11\n",
            "100001 is not prime, it divides by 11\n",
            "100001 is not prime, it divides by 11\n",
            "100001 is not prime, it divides by 11\n",
            "100001 is not prime, it divides by 11\n",
            "100001 is not prime, it divides by 11\n",
            "100001 is not prime, it divides by 11\n",
            "100001 is not prime, it divides by 11\n",
            "100001 is not prime, it divides by 11\n",
            "100001 is not prime, it divides by 11\n",
            "100001 is not prime, it divides by 11\n",
            "100001 is not prime, it divides by 11\n",
            "100001 is not prime, it divides by 11\n",
            "100001 is not prime, it divides by 11\n",
            "100001 is not prime, it divides by 11\n",
            "100001 is not prime, it divides by 11\n",
            "100001 is not prime, it divides by 11\n",
            "100001 is not prime, it divides by 11\n",
            "100001 is not prime, it divides by 11\n",
            "100001 is not prime, it divides by 11\n",
            "100001 is not prime, it divides by 11\n",
            "100001 is not prime, it divides by 11\n",
            "100001 is not prime, it divides by 11\n",
            "100001 is not prime, it divides by 11\n",
            "100001 is not prime, it divides by 11\n",
            "100001 is not prime, it divides by 11\n",
            "100001 is not prime, it divides by 11\n",
            "100001 is not prime, it divides by 11\n",
            "100001 is not prime, it divides by 11\n",
            "100001 is not prime, it divides by 11\n",
            "100001 is not prime, it divides by 11\n",
            "100001 is not prime, it divides by 11\n",
            "100001 is not prime, it divides by 11\n",
            "100001 is not prime, it divides by 11\n",
            "100001 is not prime, it divides by 11\n",
            "100001 is not prime, it divides by 11\n",
            "100001 is not prime, it divides by 11\n",
            "100001 is not prime, it divides by 11\n",
            "100001 is not prime, it divides by 11\n",
            "100001 is not prime, it divides by 11\n",
            "100001 is not prime, it divides by 11\n",
            "100001 is not prime, it divides by 11\n",
            "100001 is not prime, it divides by 11\n",
            "100001 is not prime, it divides by 11\n",
            "100001 is not prime, it divides by 11\n",
            "100001 is not prime, it divides by 11\n",
            "100001 is not prime, it divides by 11\n",
            "100001 is not prime, it divides by 11\n",
            "100001 is not prime, it divides by 11\n",
            "100001 is not prime, it divides by 11\n",
            "100001 is not prime, it divides by 11\n",
            "100001 is not prime, it divides by 11\n",
            "100001 is not prime, it divides by 11\n",
            "100001 is not prime, it divides by 11\n",
            "100001 is not prime, it divides by 11\n",
            "100001 is not prime, it divides by 11\n",
            "100001 is not prime, it divides by 11\n",
            "100001 is not prime, it divides by 11\n",
            "100001 is not prime, it divides by 11\n",
            "100001 is not prime, it divides by 11\n",
            "100001 is not prime, it divides by 11\n",
            "100001 is not prime, it divides by 11\n",
            "100001 is not prime, it divides by 11\n",
            "100001 is not prime, it divides by 11\n",
            "100001 is not prime, it divides by 11\n",
            "100001 is not prime, it divides by 11\n",
            "100001 is not prime, it divides by 11\n",
            "100001 is not prime, it divides by 11\n",
            "100001 is not prime, it divides by 11\n",
            "100001 is not prime, it divides by 11\n",
            "100001 is not prime, it divides by 11\n",
            "100001 is not prime, it divides by 11\n",
            "100001 is not prime, it divides by 11\n",
            "100001 is not prime, it divides by 11\n",
            "100001 is not prime, it divides by 11\n",
            "100001 is not prime, it divides by 11\n",
            "100001 is not prime, it divides by 11\n",
            "100001 is not prime, it divides by 11\n",
            "100001 is not prime, it divides by 11\n",
            "100001 is not prime, it divides by 11\n",
            "100001 is not prime, it divides by 11\n",
            "100001 is not prime, it divides by 11\n",
            "100001 is not prime, it divides by 11\n",
            "100001 is not prime, it divides by 11\n",
            "100001 is not prime, it divides by 11\n",
            "100001 is not prime, it divides by 11\n",
            "100001 is not prime, it divides by 11\n",
            "100001 is not prime, it divides by 11\n",
            "100001 is not prime, it divides by 11\n",
            "100001 is not prime, it divides by 11\n",
            "100001 is not prime, it divides by 11\n",
            "100001 is not prime, it divides by 11\n",
            "100001 is not prime, it divides by 11\n",
            "100001 is not prime, it divides by 11\n",
            "100001 is not prime, it divides by 11\n",
            "100001 is not prime, it divides by 11\n",
            "100001 is not prime, it divides by 11\n",
            "100001 is not prime, it divides by 11\n",
            "100001 is not prime, it divides by 11\n",
            "100001 is not prime, it divides by 11\n",
            "100001 is not prime, it divides by 11\n",
            "100001 is not prime, it divides by 11\n",
            "100001 is not prime, it divides by 11\n",
            "100001 is not prime, it divides by 11\n",
            "100001 is not prime, it divides by 11\n",
            "100001 is not prime, it divides by 11\n",
            "100001 is not prime, it divides by 11\n",
            "100001 is not prime, it divides by 11\n",
            "100001 is not prime, it divides by 11\n",
            "100001 is not prime, it divides by 11\n",
            "100001 is not prime, it divides by 11\n",
            "100001 is not prime, it divides by 11\n",
            "100001 is not prime, it divides by 11\n",
            "100001 is not prime, it divides by 11\n",
            "100001 is not prime, it divides by 11\n",
            "100001 is not prime, it divides by 11\n",
            "100001 is not prime, it divides by 11\n",
            "100001 is not prime, it divides by 11\n",
            "100001 is not prime, it divides by 11\n",
            "100001 is not prime, it divides by 11\n",
            "100001 is not prime, it divides by 11\n",
            "100001 is not prime, it divides by 11\n",
            "100001 is not prime, it divides by 11\n",
            "100001 is not prime, it divides by 11\n",
            "100001 is not prime, it divides by 11\n",
            "100001 is not prime, it divides by 11\n",
            "100001 is not prime, it divides by 11\n",
            "100001 is not prime, it divides by 11\n",
            "100001 is not prime, it divides by 11\n",
            "100001 is not prime, it divides by 11\n",
            "100001 is not prime, it divides by 11\n",
            "100001 is not prime, it divides by 11\n",
            "100001 is not prime, it divides by 11\n",
            "100001 is not prime, it divides by 11\n",
            "100001 is not prime, it divides by 11\n",
            "100001 is not prime, it divides by 11\n",
            "100001 is not prime, it divides by 11\n",
            "100001 is not prime, it divides by 11\n",
            "100001 is not prime, it divides by 11\n",
            "100001 is not prime, it divides by 11\n",
            "100001 is not prime, it divides by 11\n",
            "100001 is not prime, it divides by 11\n",
            "100001 is not prime, it divides by 11\n",
            "100001 is not prime, it divides by 11\n",
            "100001 is not prime, it divides by 11\n",
            "100001 is not prime, it divides by 11\n",
            "100001 is not prime, it divides by 11\n",
            "100001 is not prime, it divides by 11\n",
            "100001 is not prime, it divides by 11\n",
            "100001 is not prime, it divides by 11\n",
            "100001 is not prime, it divides by 11\n",
            "100001 is not prime, it divides by 11\n",
            "100001 is not prime, it divides by 11\n",
            "100001 is not prime, it divides by 11\n",
            "100001 is not prime, it divides by 11\n",
            "100001 is not prime, it divides by 11\n",
            "100001 is not prime, it divides by 11\n",
            "100001 is not prime, it divides by 11\n",
            "100001 is not prime, it divides by 11\n",
            "100001 is not prime, it divides by 11\n",
            "100001 is not prime, it divides by 11\n",
            "100001 is not prime, it divides by 11\n",
            "100001 is not prime, it divides by 11\n",
            "100001 is not prime, it divides by 11\n",
            "100001 is not prime, it divides by 11\n",
            "100001 is not prime, it divides by 11\n",
            "100001 is not prime, it divides by 11\n",
            "100001 is not prime, it divides by 11\n",
            "100001 is not prime, it divides by 11\n",
            "100001 is not prime, it divides by 11\n",
            "100001 is not prime, it divides by 11\n",
            "100001 is not prime, it divides by 11\n",
            "100001 is not prime, it divides by 11\n",
            "100001 is not prime, it divides by 11\n",
            "100001 is not prime, it divides by 11\n",
            "100001 is not prime, it divides by 11\n",
            "100001 is not prime, it divides by 11\n",
            "100001 is not prime, it divides by 11\n",
            "100001 is not prime, it divides by 11\n",
            "100001 is not prime, it divides by 11\n",
            "100001 is not prime, it divides by 11\n",
            "100001 is not prime, it divides by 11\n",
            "100001 is not prime, it divides by 11\n",
            "100001 is not prime, it divides by 11\n",
            "100001 is not prime, it divides by 11\n",
            "100001 is not prime, it divides by 11\n",
            "100001 is not prime, it divides by 11\n",
            "100001 is not prime, it divides by 11\n",
            "100001 is not prime, it divides by 11\n",
            "100001 is not prime, it divides by 11\n",
            "100001 is not prime, it divides by 11\n",
            "100001 is not prime, it divides by 11\n",
            "100001 is not prime, it divides by 11\n",
            "100001 is not prime, it divides by 11\n",
            "100001 is not prime, it divides by 11\n",
            "100001 is not prime, it divides by 11\n",
            "100001 is not prime, it divides by 11\n",
            "100001 is not prime, it divides by 11\n",
            "100001 is not prime, it divides by 11\n",
            "100001 is not prime, it divides by 11\n",
            "100001 is not prime, it divides by 11\n",
            "100001 is not prime, it divides by 11\n",
            "100001 is not prime, it divides by 11\n",
            "100001 is not prime, it divides by 11\n",
            "100001 is not prime, it divides by 11\n",
            "100001 is not prime, it divides by 11\n",
            "100001 is not prime, it divides by 11\n",
            "100001 is not prime, it divides by 11\n",
            "100001 is not prime, it divides by 11\n",
            "100001 is not prime, it divides by 11\n",
            "100001 is not prime, it divides by 11\n",
            "100001 is not prime, it divides by 11\n",
            "100001 is not prime, it divides by 11\n",
            "100001 is not prime, it divides by 11\n",
            "100001 is not prime, it divides by 11\n",
            "100001 is not prime, it divides by 11\n",
            "100001 is not prime, it divides by 11\n",
            "100001 is not prime, it divides by 11\n",
            "100001 is not prime, it divides by 11\n",
            "100001 is not prime, it divides by 11\n",
            "100001 is not prime, it divides by 11\n",
            "100001 is not prime, it divides by 11\n",
            "100001 is not prime, it divides by 11\n",
            "100001 is not prime, it divides by 11\n",
            "100001 is not prime, it divides by 11\n",
            "100001 is not prime, it divides by 11\n",
            "100001 is not prime, it divides by 11\n",
            "100001 is not prime, it divides by 11\n",
            "100001 is not prime, it divides by 11\n",
            "100001 is not prime, it divides by 11\n",
            "100001 is not prime, it divides by 11\n",
            "100001 is not prime, it divides by 11\n",
            "100001 is not prime, it divides by 11\n",
            "100001 is not prime, it divides by 11\n",
            "100001 is not prime, it divides by 11\n",
            "100001 is not prime, it divides by 11\n",
            "100001 is not prime, it divides by 11\n",
            "100001 is not prime, it divides by 11\n",
            "100001 is not prime, it divides by 11\n",
            "100001 is not prime, it divides by 11\n",
            "100001 is not prime, it divides by 11\n",
            "100001 is not prime, it divides by 11\n",
            "100001 is not prime, it divides by 11\n",
            "100001 is not prime, it divides by 11\n",
            "100001 is not prime, it divides by 11\n",
            "100001 is not prime, it divides by 11\n",
            "100001 is not prime, it divides by 11\n",
            "100001 is not prime, it divides by 11\n",
            "100001 is not prime, it divides by 11\n",
            "100001 is not prime, it divides by 11\n",
            "100001 is not prime, it divides by 11\n",
            "100001 is not prime, it divides by 11\n",
            "100001 is not prime, it divides by 11\n",
            "100001 is not prime, it divides by 11\n",
            "100001 is not prime, it divides by 11\n",
            "100001 is not prime, it divides by 11\n",
            "100001 is not prime, it divides by 11\n",
            "100001 is not prime, it divides by 11\n",
            "100001 is not prime, it divides by 11\n",
            "100001 is not prime, it divides by 11\n",
            "100001 is not prime, it divides by 11\n",
            "100001 is not prime, it divides by 11\n",
            "100001 is not prime, it divides by 11\n",
            "100001 is not prime, it divides by 11\n",
            "100001 is not prime, it divides by 11\n",
            "100001 is not prime, it divides by 11\n",
            "100001 is not prime, it divides by 11\n",
            "100001 is not prime, it divides by 11\n",
            "100001 is not prime, it divides by 11\n",
            "100001 is not prime, it divides by 11\n",
            "100001 is not prime, it divides by 11\n",
            "100001 is not prime, it divides by 11\n",
            "100001 is not prime, it divides by 11\n",
            "100001 is not prime, it divides by 11\n",
            "100001 is not prime, it divides by 11\n",
            "100001 is not prime, it divides by 11\n",
            "100001 is not prime, it divides by 11\n",
            "100001 is not prime, it divides by 11\n",
            "100001 is not prime, it divides by 11\n",
            "100001 is not prime, it divides by 11\n",
            "100001 is not prime, it divides by 11\n",
            "100001 is not prime, it divides by 11\n",
            "100001 is not prime, it divides by 11\n",
            "100001 is not prime, it divides by 11\n",
            "100001 is not prime, it divides by 11\n",
            "100001 is not prime, it divides by 11\n",
            "100001 is not prime, it divides by 11\n",
            "100001 is not prime, it divides by 11\n",
            "100001 is not prime, it divides by 11\n",
            "100001 is not prime, it divides by 11\n",
            "100001 is not prime, it divides by 11\n",
            "100001 is not prime, it divides by 11\n",
            "100001 is not prime, it divides by 11\n",
            "100001 is not prime, it divides by 11\n",
            "100001 is not prime, it divides by 11\n",
            "100001 is not prime, it divides by 11\n",
            "100001 is not prime, it divides by 11\n",
            "100001 is not prime, it divides by 11\n",
            "100001 is not prime, it divides by 11\n",
            "100001 is not prime, it divides by 11\n",
            "100001 is not prime, it divides by 11\n",
            "100001 is not prime, it divides by 11\n",
            "100001 is not prime, it divides by 11\n",
            "100001 is not prime, it divides by 11\n",
            "100001 is not prime, it divides by 11\n",
            "100001 is not prime, it divides by 11\n",
            "100001 is not prime, it divides by 11\n",
            "100001 is not prime, it divides by 11\n",
            "100001 is not prime, it divides by 11\n",
            "100001 is not prime, it divides by 11\n",
            "100001 is not prime, it divides by 11\n",
            "100001 is not prime, it divides by 11\n",
            "100001 is not prime, it divides by 11\n",
            "100001 is not prime, it divides by 11\n",
            "100001 is not prime, it divides by 11\n",
            "100001 is not prime, it divides by 11\n",
            "100001 is not prime, it divides by 11\n",
            "100001 is not prime, it divides by 11\n",
            "100001 is not prime, it divides by 11\n",
            "100001 is not prime, it divides by 11\n",
            "100001 is not prime, it divides by 11\n",
            "100001 is not prime, it divides by 11\n",
            "100001 is not prime, it divides by 11\n",
            "100001 is not prime, it divides by 11\n",
            "100001 is not prime, it divides by 11\n",
            "100001 is not prime, it divides by 11\n",
            "100001 is not prime, it divides by 11\n",
            "100001 is not prime, it divides by 11\n",
            "100001 is not prime, it divides by 11\n",
            "100001 is not prime, it divides by 11\n",
            "100001 is not prime, it divides by 11\n",
            "100001 is not prime, it divides by 11\n",
            "100001 is not prime, it divides by 11\n",
            "100001 is not prime, it divides by 11\n",
            "100001 is not prime, it divides by 11\n",
            "100001 is not prime, it divides by 11\n",
            "100001 is not prime, it divides by 11\n",
            "100001 is not prime, it divides by 11\n",
            "100001 is not prime, it divides by 11\n",
            "100001 is not prime, it divides by 11\n",
            "100001 is not prime, it divides by 11\n",
            "100001 is not prime, it divides by 11\n",
            "100001 is not prime, it divides by 11\n",
            "100001 is not prime, it divides by 11\n",
            "100001 is not prime, it divides by 11\n",
            "100001 is not prime, it divides by 11\n",
            "100001 is not prime, it divides by 11\n",
            "100001 is not prime, it divides by 11\n",
            "100001 is not prime, it divides by 11\n",
            "100001 is not prime, it divides by 11\n",
            "100001 is not prime, it divides by 11\n",
            "100001 is not prime, it divides by 11\n",
            "100001 is not prime, it divides by 11\n",
            "100001 is not prime, it divides by 11\n",
            "100001 is not prime, it divides by 11\n",
            "100001 is not prime, it divides by 11\n",
            "100001 is not prime, it divides by 11\n",
            "100001 is not prime, it divides by 11\n",
            "100001 is not prime, it divides by 11\n",
            "100001 is not prime, it divides by 11\n",
            "100001 is not prime, it divides by 11\n",
            "100001 is not prime, it divides by 11\n",
            "100001 is not prime, it divides by 11\n",
            "100001 is not prime, it divides by 11\n",
            "100001 is not prime, it divides by 11\n",
            "100001 is not prime, it divides by 11\n",
            "100001 is not prime, it divides by 11\n",
            "100001 is not prime, it divides by 11\n",
            "100001 is not prime, it divides by 11\n",
            "100001 is not prime, it divides by 11\n",
            "100001 is not prime, it divides by 11\n",
            "100001 is not prime, it divides by 11\n",
            "100001 is not prime, it divides by 11\n",
            "100001 is not prime, it divides by 11\n",
            "100001 is not prime, it divides by 11\n",
            "100001 is not prime, it divides by 11\n",
            "100001 is not prime, it divides by 11\n",
            "100001 is not prime, it divides by 11\n",
            "100001 is not prime, it divides by 11\n",
            "100001 is not prime, it divides by 11\n",
            "100001 is not prime, it divides by 11\n",
            "100001 is not prime, it divides by 11\n",
            "100001 is not prime, it divides by 11\n",
            "100001 is not prime, it divides by 11\n",
            "100001 is not prime, it divides by 11\n",
            "100001 is not prime, it divides by 11\n",
            "100001 is not prime, it divides by 11\n",
            "100001 is not prime, it divides by 11\n",
            "100001 is not prime, it divides by 11\n",
            "100001 is not prime, it divides by 11\n",
            "100001 is not prime, it divides by 11\n",
            "100001 is not prime, it divides by 11\n",
            "100001 is not prime, it divides by 11\n",
            "100001 is not prime, it divides by 11\n",
            "100001 is not prime, it divides by 11\n",
            "100001 is not prime, it divides by 11\n",
            "100001 is not prime, it divides by 11\n",
            "100001 is not prime, it divides by 11\n",
            "100001 is not prime, it divides by 11\n",
            "100001 is not prime, it divides by 11\n",
            "100001 is not prime, it divides by 11\n",
            "100001 is not prime, it divides by 11\n",
            "100001 is not prime, it divides by 11\n",
            "100001 is not prime, it divides by 11\n",
            "100001 is not prime, it divides by 11\n",
            "100001 is not prime, it divides by 11\n",
            "100001 is not prime, it divides by 11\n",
            "100001 is not prime, it divides by 11\n",
            "100001 is not prime, it divides by 11\n",
            "100001 is not prime, it divides by 11\n",
            "100001 is not prime, it divides by 11\n",
            "100001 is not prime, it divides by 11\n",
            "100001 is not prime, it divides by 11\n",
            "100001 is not prime, it divides by 11\n",
            "100001 is not prime, it divides by 11\n",
            "100001 is not prime, it divides by 11\n",
            "100001 is not prime, it divides by 11\n",
            "100001 is not prime, it divides by 11\n",
            "100001 is not prime, it divides by 11\n",
            "100001 is not prime, it divides by 11\n",
            "100001 is not prime, it divides by 11\n",
            "100001 is not prime, it divides by 11\n",
            "100001 is not prime, it divides by 11\n",
            "100001 is not prime, it divides by 11\n",
            "100001 is not prime, it divides by 11\n",
            "100001 is not prime, it divides by 11\n",
            "100001 is not prime, it divides by 11\n",
            "100001 is not prime, it divides by 11\n",
            "100001 is not prime, it divides by 11\n",
            "100001 is not prime, it divides by 11\n",
            "100001 is not prime, it divides by 11\n",
            "100001 is not prime, it divides by 11\n",
            "100001 is not prime, it divides by 11\n",
            "100001 is not prime, it divides by 11\n",
            "100001 is not prime, it divides by 11\n",
            "100001 is not prime, it divides by 11\n",
            "100001 is not prime, it divides by 11\n",
            "100001 is not prime, it divides by 11\n",
            "100001 is not prime, it divides by 11\n",
            "100001 is not prime, it divides by 11\n",
            "100001 is not prime, it divides by 11\n",
            "100001 is not prime, it divides by 11\n",
            "100001 is not prime, it divides by 11\n",
            "100001 is not prime, it divides by 11\n",
            "100001 is not prime, it divides by 11\n",
            "100001 is not prime, it divides by 11\n",
            "100001 is not prime, it divides by 11\n",
            "100001 is not prime, it divides by 11\n",
            "100001 is not prime, it divides by 11\n",
            "100001 is not prime, it divides by 11\n",
            "100001 is not prime, it divides by 11\n",
            "100001 is not prime, it divides by 11\n",
            "100001 is not prime, it divides by 11\n",
            "100001 is not prime, it divides by 11\n",
            "100001 is not prime, it divides by 11\n",
            "100001 is not prime, it divides by 11\n",
            "100001 is not prime, it divides by 11\n",
            "100001 is not prime, it divides by 11\n",
            "100001 is not prime, it divides by 11\n",
            "100001 is not prime, it divides by 11\n",
            "100001 is not prime, it divides by 11\n",
            "100001 is not prime, it divides by 11\n",
            "100001 is not prime, it divides by 11\n",
            "100001 is not prime, it divides by 11\n",
            "100001 is not prime, it divides by 11\n",
            "100001 is not prime, it divides by 11\n",
            "100001 is not prime, it divides by 11\n",
            "100001 is not prime, it divides by 11\n",
            "100001 is not prime, it divides by 11\n",
            "100001 is not prime, it divides by 11\n",
            "100001 is not prime, it divides by 11\n",
            "100001 is not prime, it divides by 11\n",
            "100001 is not prime, it divides by 11\n",
            "100001 is not prime, it divides by 11\n",
            "100001 is not prime, it divides by 11\n",
            "100001 is not prime, it divides by 11\n",
            "100001 is not prime, it divides by 11\n",
            "100001 is not prime, it divides by 11\n",
            "100001 is not prime, it divides by 11\n",
            "100001 is not prime, it divides by 11\n",
            "100001 is not prime, it divides by 11\n",
            "100001 is not prime, it divides by 11\n",
            "100001 is not prime, it divides by 11\n",
            "100001 is not prime, it divides by 11\n",
            "100001 is not prime, it divides by 11\n",
            "100001 is not prime, it divides by 11\n",
            "100001 is not prime, it divides by 11\n",
            "100001 is not prime, it divides by 11\n",
            "100001 is not prime, it divides by 11\n",
            "100001 is not prime, it divides by 11\n",
            "100001 is not prime, it divides by 11\n",
            "100001 is not prime, it divides by 11\n",
            "100001 is not prime, it divides by 11\n",
            "100001 is not prime, it divides by 11\n",
            "100001 is not prime, it divides by 11\n",
            "100001 is not prime, it divides by 11\n",
            "100001 is not prime, it divides by 11\n",
            "100001 is not prime, it divides by 11\n",
            "100001 is not prime, it divides by 11\n",
            "100001 is not prime, it divides by 11\n",
            "100001 is not prime, it divides by 11\n",
            "100001 is not prime, it divides by 11\n",
            "100001 is not prime, it divides by 11\n",
            "100001 is not prime, it divides by 11\n",
            "100001 is not prime, it divides by 11\n",
            "100001 is not prime, it divides by 11\n",
            "100001 is not prime, it divides by 11\n",
            "100001 is not prime, it divides by 11\n",
            "100001 is not prime, it divides by 11\n",
            "100001 is not prime, it divides by 11\n",
            "100001 is not prime, it divides by 11\n",
            "100001 is not prime, it divides by 11\n",
            "100001 is not prime, it divides by 11\n",
            "100001 is not prime, it divides by 11\n",
            "100001 is not prime, it divides by 11\n",
            "100001 is not prime, it divides by 11\n",
            "100001 is not prime, it divides by 11\n",
            "100001 is not prime, it divides by 11\n",
            "100001 is not prime, it divides by 11\n",
            "100001 is not prime, it divides by 11\n",
            "100001 is not prime, it divides by 11\n",
            "100001 is not prime, it divides by 11\n",
            "100001 is not prime, it divides by 11\n",
            "100001 is not prime, it divides by 11\n",
            "100001 is not prime, it divides by 11\n",
            "100001 is not prime, it divides by 11\n",
            "100001 is not prime, it divides by 11\n",
            "100001 is not prime, it divides by 11\n",
            "100001 is not prime, it divides by 11\n",
            "100001 is not prime, it divides by 11\n",
            "100001 is not prime, it divides by 11\n",
            "100001 is not prime, it divides by 11\n",
            "100001 is not prime, it divides by 11\n",
            "100001 is not prime, it divides by 11\n",
            "100001 is not prime, it divides by 11\n",
            "100001 is not prime, it divides by 11\n",
            "100001 is not prime, it divides by 11\n",
            "100001 is not prime, it divides by 11\n",
            "100001 is not prime, it divides by 11\n",
            "100001 is not prime, it divides by 11\n",
            "100001 is not prime, it divides by 11\n",
            "100001 is not prime, it divides by 11\n",
            "100001 is not prime, it divides by 11\n",
            "100001 is not prime, it divides by 11\n",
            "100001 is not prime, it divides by 11\n",
            "100001 is not prime, it divides by 11\n",
            "100001 is not prime, it divides by 11\n",
            "100001 is not prime, it divides by 11\n",
            "100001 is not prime, it divides by 11\n",
            "100001 is not prime, it divides by 11\n",
            "100001 is not prime, it divides by 11\n",
            "100001 is not prime, it divides by 11\n",
            "100001 is not prime, it divides by 11\n",
            "100001 is not prime, it divides by 11\n",
            "100001 is not prime, it divides by 11\n",
            "100001 is not prime, it divides by 11\n",
            "100001 is not prime, it divides by 11\n",
            "100001 is not prime, it divides by 11\n",
            "100001 is not prime, it divides by 11\n",
            "100001 is not prime, it divides by 11\n",
            "100001 is not prime, it divides by 11\n",
            "100001 is not prime, it divides by 11\n",
            "100001 is not prime, it divides by 11\n",
            "100001 is not prime, it divides by 11\n",
            "100001 is not prime, it divides by 11\n",
            "100001 is not prime, it divides by 11\n",
            "100001 is not prime, it divides by 11\n",
            "100001 is not prime, it divides by 11\n",
            "100001 is not prime, it divides by 11\n",
            "100001 is not prime, it divides by 11\n",
            "100001 is not prime, it divides by 11\n",
            "100001 is not prime, it divides by 11\n",
            "100001 is not prime, it divides by 11\n",
            "100001 is not prime, it divides by 11\n",
            "100001 is not prime, it divides by 11\n",
            "100001 is not prime, it divides by 11\n",
            "100001 is not prime, it divides by 11\n",
            "100001 is not prime, it divides by 11\n",
            "100001 is not prime, it divides by 11\n",
            "100001 is not prime, it divides by 11\n",
            "100001 is not prime, it divides by 11\n",
            "100001 is not prime, it divides by 11\n",
            "100001 is not prime, it divides by 11\n",
            "100001 is not prime, it divides by 11\n",
            "100001 is not prime, it divides by 11\n",
            "100001 is not prime, it divides by 11\n",
            "100001 is not prime, it divides by 11\n",
            "100001 is not prime, it divides by 11\n",
            "100001 is not prime, it divides by 11\n",
            "100001 is not prime, it divides by 11\n",
            "100001 is not prime, it divides by 11\n",
            "100001 is not prime, it divides by 11\n",
            "100001 is not prime, it divides by 11\n",
            "100001 is not prime, it divides by 11\n",
            "100001 is not prime, it divides by 11\n",
            "100001 is not prime, it divides by 11\n",
            "100001 is not prime, it divides by 11\n",
            "100001 is not prime, it divides by 11\n",
            "100001 is not prime, it divides by 11\n",
            "100001 is not prime, it divides by 11\n",
            "100001 is not prime, it divides by 11\n",
            "100001 is not prime, it divides by 11\n",
            "100001 is not prime, it divides by 11\n",
            "100001 is not prime, it divides by 11\n",
            "100001 is not prime, it divides by 11\n",
            "100001 is not prime, it divides by 11\n",
            "100001 is not prime, it divides by 11\n",
            "100001 is not prime, it divides by 11\n",
            "100001 is not prime, it divides by 11\n",
            "100001 is not prime, it divides by 11\n",
            "100001 is not prime, it divides by 11\n",
            "100001 is not prime, it divides by 11\n",
            "100001 is not prime, it divides by 11\n",
            "100001 is not prime, it divides by 11\n",
            "100001 is not prime, it divides by 11\n",
            "100001 is not prime, it divides by 11\n",
            "100001 is not prime, it divides by 11\n",
            "100001 is not prime, it divides by 11\n",
            "100001 is not prime, it divides by 11\n",
            "100001 is not prime, it divides by 11\n",
            "100001 is not prime, it divides by 11\n",
            "100001 is not prime, it divides by 11\n",
            "100001 is not prime, it divides by 11\n",
            "100001 is not prime, it divides by 11\n",
            "100001 is not prime, it divides by 11\n",
            "100001 is not prime, it divides by 11\n",
            "100001 is not prime, it divides by 11\n",
            "100001 is not prime, it divides by 11\n",
            "100001 is not prime, it divides by 11\n",
            "100001 is not prime, it divides by 11\n",
            "100001 is not prime, it divides by 11\n",
            "100001 is not prime, it divides by 11\n",
            "100001 is not prime, it divides by 11\n",
            "100001 is not prime, it divides by 11\n",
            "100001 is not prime, it divides by 11\n",
            "100001 is not prime, it divides by 11\n",
            "100001 is not prime, it divides by 11\n",
            "100001 is not prime, it divides by 11\n",
            "100001 is not prime, it divides by 11\n",
            "100001 is not prime, it divides by 11\n",
            "100001 is not prime, it divides by 11\n",
            "100001 is not prime, it divides by 11\n",
            "100001 is not prime, it divides by 11\n",
            "100001 is not prime, it divides by 11\n",
            "100001 is not prime, it divides by 11\n",
            "100001 is not prime, it divides by 11\n",
            "100001 is not prime, it divides by 11\n",
            "100001 is not prime, it divides by 11\n",
            "100001 is not prime, it divides by 11\n",
            "100001 is not prime, it divides by 11\n",
            "100001 is not prime, it divides by 11\n",
            "100001 is not prime, it divides by 11\n",
            "100001 is not prime, it divides by 11\n",
            "100001 is not prime, it divides by 11\n",
            "100001 is not prime, it divides by 11\n",
            "100001 is not prime, it divides by 11\n",
            "100001 is not prime, it divides by 11\n",
            "100001 is not prime, it divides by 11\n",
            "100001 is not prime, it divides by 11\n",
            "100001 is not prime, it divides by 11\n",
            "100001 is not prime, it divides by 11\n",
            "100001 is not prime, it divides by 11\n",
            "100001 is not prime, it divides by 11\n",
            "100001 is not prime, it divides by 11\n",
            "100001 is not prime, it divides by 11\n",
            "100001 is not prime, it divides by 11\n",
            "100001 is not prime, it divides by 11\n",
            "100001 is not prime, it divides by 11\n",
            "100001 is not prime, it divides by 11\n",
            "100001 is not prime, it divides by 11\n",
            "100001 is not prime, it divides by 11\n",
            "100001 is not prime, it divides by 11\n",
            "100001 is not prime, it divides by 11\n",
            "100001 is not prime, it divides by 11\n",
            "100001 is not prime, it divides by 11\n",
            "100001 is not prime, it divides by 11\n",
            "100001 is not prime, it divides by 11\n",
            "100001 is not prime, it divides by 11\n",
            "100001 is not prime, it divides by 11\n",
            "100001 is not prime, it divides by 11\n",
            "100001 is not prime, it divides by 11\n",
            "100001 is not prime, it divides by 11\n",
            "100001 is not prime, it divides by 11\n",
            "100001 is not prime, it divides by 11\n",
            "100001 is not prime, it divides by 11\n",
            "100001 is not prime, it divides by 11\n",
            "100001 is not prime, it divides by 11\n",
            "100001 is not prime, it divides by 11\n",
            "100001 is not prime, it divides by 11\n",
            "100001 is not prime, it divides by 11\n",
            "100001 is not prime, it divides by 11\n",
            "100001 is not prime, it divides by 11\n",
            "100001 is not prime, it divides by 11\n",
            "100001 is not prime, it divides by 11\n",
            "100001 is not prime, it divides by 11\n",
            "100001 is not prime, it divides by 11\n",
            "100001 is not prime, it divides by 11\n",
            "100001 is not prime, it divides by 11\n",
            "100001 is not prime, it divides by 11\n",
            "100001 is not prime, it divides by 11\n",
            "100001 is not prime, it divides by 11\n",
            "100001 is not prime, it divides by 11\n",
            "100001 is not prime, it divides by 11\n",
            "100001 is not prime, it divides by 11\n",
            "100001 is not prime, it divides by 11\n",
            "100001 is not prime, it divides by 11\n",
            "100001 is not prime, it divides by 11\n",
            "100001 is not prime, it divides by 11\n",
            "100001 is not prime, it divides by 11\n",
            "100001 is not prime, it divides by 11\n",
            "100001 is not prime, it divides by 11\n",
            "100001 is not prime, it divides by 11\n",
            "100001 is not prime, it divides by 11\n",
            "100001 is not prime, it divides by 11\n",
            "100001 is not prime, it divides by 11\n",
            "100001 is not prime, it divides by 11\n",
            "100001 is not prime, it divides by 11\n",
            "100001 is not prime, it divides by 11\n",
            "100001 is not prime, it divides by 11\n",
            "100001 is not prime, it divides by 11\n",
            "100001 is not prime, it divides by 11\n",
            "100001 is not prime, it divides by 11\n",
            "100001 is not prime, it divides by 11\n",
            "100001 is not prime, it divides by 11\n",
            "100001 is not prime, it divides by 11\n",
            "100001 is not prime, it divides by 11\n",
            "100001 is not prime, it divides by 11\n",
            "100001 is not prime, it divides by 11\n",
            "100001 is not prime, it divides by 11\n",
            "100001 is not prime, it divides by 11\n",
            "100001 is not prime, it divides by 11\n",
            "100001 is not prime, it divides by 11\n",
            "100001 is not prime, it divides by 11\n",
            "100001 is not prime, it divides by 11\n",
            "100001 is not prime, it divides by 11\n",
            "100001 is not prime, it divides by 11\n",
            "100001 is not prime, it divides by 11\n",
            "100001 is not prime, it divides by 11\n",
            "100001 is not prime, it divides by 11\n",
            "100001 is not prime, it divides by 11\n",
            "100001 is not prime, it divides by 11\n",
            "100001 is not prime, it divides by 11\n",
            "100001 is not prime, it divides by 11\n",
            "100001 is not prime, it divides by 11\n",
            "100001 is not prime, it divides by 11\n",
            "100001 is not prime, it divides by 11\n",
            "100001 is not prime, it divides by 11\n",
            "100001 is not prime, it divides by 11\n",
            "100001 is not prime, it divides by 11\n",
            "100001 is not prime, it divides by 11\n",
            "100001 is not prime, it divides by 11\n",
            "100001 is not prime, it divides by 11\n",
            "100001 is not prime, it divides by 11\n",
            "100001 is not prime, it divides by 11\n",
            "100001 is not prime, it divides by 11\n",
            "100001 is not prime, it divides by 11\n",
            "100001 is not prime, it divides by 11\n",
            "100001 is not prime, it divides by 11\n",
            "100001 is not prime, it divides by 11\n",
            "100001 is not prime, it divides by 11\n",
            "100001 is not prime, it divides by 11\n",
            "100001 is not prime, it divides by 11\n",
            "100001 is not prime, it divides by 11\n",
            "100001 is not prime, it divides by 11\n",
            "100001 is not prime, it divides by 11\n",
            "100001 is not prime, it divides by 11\n",
            "100001 is not prime, it divides by 11\n",
            "100001 is not prime, it divides by 11\n",
            "100001 is not prime, it divides by 11\n",
            "100001 is not prime, it divides by 11\n",
            "100001 is not prime, it divides by 11\n",
            "100001 is not prime, it divides by 11\n",
            "100001 is not prime, it divides by 11\n",
            "100001 is not prime, it divides by 11\n",
            "100001 is not prime, it divides by 11\n",
            "100001 is not prime, it divides by 11\n",
            "100001 is not prime, it divides by 11\n",
            "100001 is not prime, it divides by 11\n",
            "100001 is not prime, it divides by 11\n",
            "100001 is not prime, it divides by 11\n",
            "100001 is not prime, it divides by 11\n",
            "100001 is not prime, it divides by 11\n",
            "100001 is not prime, it divides by 11\n",
            "100001 is not prime, it divides by 11\n",
            "100001 is not prime, it divides by 11\n",
            "100001 is not prime, it divides by 11\n",
            "100001 is not prime, it divides by 11\n",
            "100001 is not prime, it divides by 11\n",
            "100001 is not prime, it divides by 11\n",
            "100001 is not prime, it divides by 11\n",
            "100001 is not prime, it divides by 11\n",
            "100001 is not prime, it divides by 11\n",
            "100001 is not prime, it divides by 11\n",
            "100001 is not prime, it divides by 11\n",
            "100001 is not prime, it divides by 11\n",
            "100001 is not prime, it divides by 11\n",
            "100001 is not prime, it divides by 11\n",
            "100001 is not prime, it divides by 11\n",
            "100001 is not prime, it divides by 11\n",
            "100001 is not prime, it divides by 11\n",
            "100001 is not prime, it divides by 11\n",
            "100001 is not prime, it divides by 11\n",
            "100001 is not prime, it divides by 11\n",
            "100001 is not prime, it divides by 11\n",
            "100001 is not prime, it divides by 11\n",
            "100001 is not prime, it divides by 11\n",
            "100001 is not prime, it divides by 11\n",
            "100001 is not prime, it divides by 11\n",
            "100001 is not prime, it divides by 11\n",
            "100001 is not prime, it divides by 11\n",
            "100001 is not prime, it divides by 11\n",
            "100001 is not prime, it divides by 11\n",
            "100001 is not prime, it divides by 11\n",
            "100001 is not prime, it divides by 11\n",
            "100001 is not prime, it divides by 11\n",
            "100001 is not prime, it divides by 11\n",
            "100001 is not prime, it divides by 11\n",
            "100001 is not prime, it divides by 11\n",
            "100001 is not prime, it divides by 11\n",
            "100001 is not prime, it divides by 11\n",
            "100001 is not prime, it divides by 11\n",
            "100001 is not prime, it divides by 11\n",
            "100001 is not prime, it divides by 11\n",
            "100001 is not prime, it divides by 11\n",
            "100001 is not prime, it divides by 11\n",
            "100001 is not prime, it divides by 11\n",
            "100001 is not prime, it divides by 11\n",
            "100001 is not prime, it divides by 11\n",
            "100001 is not prime, it divides by 11\n",
            "100001 is not prime, it divides by 11\n",
            "100001 is not prime, it divides by 11\n",
            "100001 is not prime, it divides by 11\n",
            "100001 is not prime, it divides by 11\n",
            "100001 is not prime, it divides by 11\n",
            "100001 is not prime, it divides by 11\n",
            "100001 is not prime, it divides by 11\n",
            "100001 is not prime, it divides by 11\n",
            "100001 is not prime, it divides by 11\n",
            "100001 is not prime, it divides by 11\n",
            "100001 is not prime, it divides by 11\n",
            "100001 is not prime, it divides by 11\n",
            "100001 is not prime, it divides by 11\n",
            "100001 is not prime, it divides by 11\n",
            "100001 is not prime, it divides by 11\n",
            "100001 is not prime, it divides by 11\n",
            "100001 is not prime, it divides by 11\n",
            "100001 is not prime, it divides by 11\n",
            "100001 is not prime, it divides by 11\n",
            "100001 is not prime, it divides by 11\n",
            "100001 is not prime, it divides by 11\n",
            "100001 is not prime, it divides by 11\n",
            "100001 is not prime, it divides by 11\n",
            "100001 is not prime, it divides by 11\n",
            "100001 is not prime, it divides by 11\n",
            "100001 is not prime, it divides by 11\n",
            "100001 is not prime, it divides by 11\n",
            "100001 is not prime, it divides by 11\n",
            "100001 is not prime, it divides by 11\n",
            "100001 is not prime, it divides by 11\n",
            "100001 is not prime, it divides by 11\n",
            "100001 is not prime, it divides by 11\n",
            "100001 is not prime, it divides by 11\n",
            "100001 is not prime, it divides by 11\n",
            "100001 is not prime, it divides by 11\n",
            "100001 is not prime, it divides by 11\n",
            "100001 is not prime, it divides by 11\n",
            "100001 is not prime, it divides by 11\n",
            "100001 is not prime, it divides by 11\n",
            "100001 is not prime, it divides by 11\n",
            "100001 is not prime, it divides by 11\n",
            "100001 is not prime, it divides by 11\n",
            "100001 is not prime, it divides by 11\n",
            "100001 is not prime, it divides by 11\n",
            "100001 is not prime, it divides by 11\n",
            "100001 is not prime, it divides by 11\n",
            "100001 is not prime, it divides by 11\n",
            "100001 is not prime, it divides by 11\n",
            "100001 is not prime, it divides by 11\n",
            "100001 is not prime, it divides by 11\n",
            "100001 is not prime, it divides by 11\n",
            "100001 is not prime, it divides by 11\n",
            "100001 is not prime, it divides by 11\n",
            "100001 is not prime, it divides by 11\n",
            "100001 is not prime, it divides by 11\n",
            "100001 is not prime, it divides by 11\n",
            "100001 is not prime, it divides by 11\n",
            "100001 is not prime, it divides by 11\n",
            "100001 is not prime, it divides by 11\n",
            "100001 is not prime, it divides by 11\n",
            "100001 is not prime, it divides by 11\n",
            "100001 is not prime, it divides by 11\n",
            "100001 is not prime, it divides by 11\n",
            "100001 is not prime, it divides by 11\n",
            "100001 is not prime, it divides by 11\n",
            "100001 is not prime, it divides by 11\n",
            "100001 is not prime, it divides by 11\n",
            "100001 is not prime, it divides by 11\n",
            "100001 is not prime, it divides by 11\n",
            "100001 is not prime, it divides by 11\n",
            "100001 is not prime, it divides by 11\n",
            "100001 is not prime, it divides by 11\n",
            "100001 is not prime, it divides by 11\n",
            "100001 is not prime, it divides by 11\n",
            "100001 is not prime, it divides by 11\n",
            "100001 is not prime, it divides by 11\n",
            "100001 is not prime, it divides by 11\n",
            "100001 is not prime, it divides by 11\n",
            "100001 is not prime, it divides by 11\n",
            "100001 is not prime, it divides by 11\n",
            "100001 is not prime, it divides by 11\n",
            "100001 is not prime, it divides by 11\n",
            "100001 is not prime, it divides by 11\n",
            "100001 is not prime, it divides by 11\n",
            "100001 is not prime, it divides by 11\n",
            "100001 is not prime, it divides by 11\n",
            "100001 is not prime, it divides by 11\n",
            "100001 is not prime, it divides by 11\n",
            "100001 is not prime, it divides by 11\n",
            "100001 is not prime, it divides by 11\n",
            "100001 is not prime, it divides by 11\n",
            "100001 is not prime, it divides by 11\n",
            "100001 is not prime, it divides by 11\n",
            "100001 is not prime, it divides by 11\n",
            "100001 is not prime, it divides by 11\n",
            "100001 is not prime, it divides by 11\n",
            "100001 is not prime, it divides by 11\n",
            "100001 is not prime, it divides by 11\n",
            "100001 is not prime, it divides by 11\n",
            "100001 is not prime, it divides by 11\n",
            "100001 is not prime, it divides by 11\n",
            "100001 is not prime, it divides by 11\n",
            "100001 is not prime, it divides by 11\n",
            "100001 is not prime, it divides by 11\n",
            "100001 is not prime, it divides by 11\n",
            "100001 is not prime, it divides by 11\n",
            "100001 is not prime, it divides by 11\n",
            "100001 is not prime, it divides by 11\n",
            "100001 is not prime, it divides by 11\n",
            "100001 is not prime, it divides by 11\n",
            "100001 is not prime, it divides by 11\n",
            "100001 is not prime, it divides by 11\n",
            "100001 is not prime, it divides by 11\n",
            "100001 is not prime, it divides by 11\n",
            "100001 is not prime, it divides by 11\n",
            "100001 is not prime, it divides by 11\n",
            "100001 is not prime, it divides by 11\n",
            "100001 is not prime, it divides by 11\n",
            "100001 is not prime, it divides by 11\n",
            "100001 is not prime, it divides by 11\n",
            "100001 is not prime, it divides by 11\n",
            "100001 is not prime, it divides by 11\n",
            "100001 is not prime, it divides by 11\n",
            "100001 is not prime, it divides by 11\n",
            "100001 is not prime, it divides by 11\n",
            "100001 is not prime, it divides by 11\n",
            "100001 is not prime, it divides by 11\n",
            "100001 is not prime, it divides by 11\n",
            "100001 is not prime, it divides by 11\n",
            "100001 is not prime, it divides by 11\n",
            "100001 is not prime, it divides by 11\n",
            "100001 is not prime, it divides by 11\n",
            "100001 is not prime, it divides by 11\n",
            "100001 is not prime, it divides by 11\n",
            "100001 is not prime, it divides by 11\n",
            "100001 is not prime, it divides by 11\n",
            "100001 is not prime, it divides by 11\n",
            "100001 is not prime, it divides by 11\n",
            "100001 is not prime, it divides by 11\n",
            "100001 is not prime, it divides by 11\n",
            "100001 is not prime, it divides by 11\n",
            "100001 is not prime, it divides by 11\n",
            "100001 is not prime, it divides by 11\n",
            "100001 is not prime, it divides by 11\n",
            "100001 is not prime, it divides by 11\n",
            "100001 is not prime, it divides by 11\n",
            "100001 is not prime, it divides by 11\n",
            "100001 is not prime, it divides by 11\n",
            "100001 is not prime, it divides by 11\n",
            "100001 is not prime, it divides by 11\n",
            "100001 is not prime, it divides by 11\n",
            "100001 is not prime, it divides by 11\n",
            "100001 is not prime, it divides by 11\n",
            "100001 is not prime, it divides by 11\n",
            "100001 is not prime, it divides by 11\n",
            "100001 is not prime, it divides by 11\n",
            "100001 is not prime, it divides by 11\n",
            "100001 is not prime, it divides by 11\n",
            "100001 is not prime, it divides by 11\n",
            "100001 is not prime, it divides by 11\n",
            "100001 is not prime, it divides by 11\n",
            "100001 is not prime, it divides by 11\n",
            "100001 is not prime, it divides by 11\n",
            "100001 is not prime, it divides by 11\n",
            "100001 is not prime, it divides by 11\n",
            "100001 is not prime, it divides by 11\n",
            "100001 is not prime, it divides by 11\n",
            "100001 is not prime, it divides by 11\n",
            "100001 is not prime, it divides by 11\n",
            "100001 is not prime, it divides by 11\n",
            "100001 is not prime, it divides by 11\n",
            "100001 is not prime, it divides by 11\n",
            "100001 is not prime, it divides by 11\n",
            "100001 is not prime, it divides by 11\n",
            "100001 is not prime, it divides by 11\n",
            "100001 is not prime, it divides by 11\n",
            "100001 is not prime, it divides by 11\n",
            "100001 is not prime, it divides by 11\n",
            "100001 is not prime, it divides by 11\n",
            "100001 is not prime, it divides by 11\n",
            "100001 is not prime, it divides by 11\n",
            "100001 is not prime, it divides by 11\n",
            "100001 is not prime, it divides by 11\n",
            "100001 is not prime, it divides by 11\n",
            "100001 is not prime, it divides by 11\n",
            "100001 is not prime, it divides by 11\n",
            "100001 is not prime, it divides by 11\n",
            "100001 is not prime, it divides by 11\n",
            "100001 is not prime, it divides by 11\n",
            "100001 is not prime, it divides by 11\n",
            "100001 is not prime, it divides by 11\n",
            "100001 is not prime, it divides by 11\n",
            "100001 is not prime, it divides by 11\n",
            "100001 is not prime, it divides by 11\n",
            "100001 is not prime, it divides by 11\n",
            "100001 is not prime, it divides by 11\n",
            "100001 is not prime, it divides by 11\n",
            "100001 is not prime, it divides by 11\n",
            "100001 is not prime, it divides by 11\n",
            "100001 is not prime, it divides by 11\n",
            "100001 is not prime, it divides by 11\n",
            "100001 is not prime, it divides by 11\n",
            "100001 is not prime, it divides by 11\n",
            "100001 is not prime, it divides by 11\n",
            "100001 is not prime, it divides by 11\n",
            "100001 is not prime, it divides by 11\n",
            "100001 is not prime, it divides by 11\n",
            "100001 is not prime, it divides by 11\n",
            "100001 is not prime, it divides by 11\n",
            "100001 is not prime, it divides by 11\n",
            "100001 is not prime, it divides by 11\n",
            "100001 is not prime, it divides by 11\n",
            "100001 is not prime, it divides by 11\n",
            "100001 is not prime, it divides by 11\n",
            "100001 is not prime, it divides by 11\n",
            "100001 is not prime, it divides by 11\n",
            "100001 is not prime, it divides by 11\n",
            "100001 is not prime, it divides by 11\n",
            "100001 is not prime, it divides by 11\n",
            "100001 is not prime, it divides by 11\n",
            "100001 is not prime, it divides by 11\n",
            "100001 is not prime, it divides by 11\n",
            "100001 is not prime, it divides by 11\n",
            "100001 is not prime, it divides by 11\n",
            "100001 is not prime, it divides by 11\n",
            "100001 is not prime, it divides by 11\n",
            "100001 is not prime, it divides by 11\n",
            "100001 is not prime, it divides by 11\n",
            "100001 is not prime, it divides by 11\n",
            "100001 is not prime, it divides by 11\n",
            "100001 is not prime, it divides by 11\n",
            "100001 is not prime, it divides by 11\n",
            "100001 is not prime, it divides by 11\n",
            "100001 is not prime, it divides by 11\n",
            "100001 is not prime, it divides by 11\n",
            "100001 is not prime, it divides by 11\n",
            "100001 is not prime, it divides by 11\n",
            "100001 is not prime, it divides by 11\n",
            "100001 is not prime, it divides by 11\n",
            "100001 is not prime, it divides by 11\n",
            "100001 is not prime, it divides by 11\n",
            "100001 is not prime, it divides by 11\n",
            "100001 is not prime, it divides by 11\n",
            "100001 is not prime, it divides by 11\n",
            "100001 is not prime, it divides by 11\n",
            "100001 is not prime, it divides by 11\n",
            "100001 is not prime, it divides by 11\n",
            "100001 is not prime, it divides by 11\n",
            "100001 is not prime, it divides by 11\n",
            "100001 is not prime, it divides by 11\n",
            "100001 is not prime, it divides by 11\n",
            "100001 is not prime, it divides by 11\n",
            "100001 is not prime, it divides by 11\n",
            "100001 is not prime, it divides by 11\n",
            "100001 is not prime, it divides by 11\n",
            "100001 is not prime, it divides by 11\n",
            "100001 is not prime, it divides by 11\n",
            "100001 is not prime, it divides by 11\n",
            "100001 is not prime, it divides by 11\n",
            "100001 is not prime, it divides by 11\n",
            "100001 is not prime, it divides by 11\n",
            "100001 is not prime, it divides by 11\n",
            "100001 is not prime, it divides by 11\n",
            "100001 is not prime, it divides by 11\n",
            "100001 is not prime, it divides by 11\n",
            "100001 is not prime, it divides by 11\n",
            "100001 is not prime, it divides by 11\n",
            "100001 is not prime, it divides by 11\n",
            "100001 is not prime, it divides by 11\n",
            "100001 is not prime, it divides by 11\n",
            "100001 is not prime, it divides by 11\n",
            "100001 is not prime, it divides by 11\n",
            "100001 is not prime, it divides by 11\n",
            "100001 is not prime, it divides by 11\n",
            "100001 is not prime, it divides by 11\n",
            "100001 is not prime, it divides by 11\n",
            "100001 is not prime, it divides by 11\n",
            "100001 is not prime, it divides by 11\n",
            "100001 is not prime, it divides by 11\n",
            "100001 is not prime, it divides by 11\n",
            "100001 is not prime, it divides by 11\n",
            "100001 is not prime, it divides by 11\n",
            "100001 is not prime, it divides by 11\n",
            "100001 is not prime, it divides by 11\n",
            "100001 is not prime, it divides by 11\n",
            "100001 is not prime, it divides by 11\n",
            "100001 is not prime, it divides by 11\n",
            "100001 is not prime, it divides by 11\n",
            "100001 is not prime, it divides by 11\n",
            "100001 is not prime, it divides by 11\n",
            "100001 is not prime, it divides by 11\n",
            "100001 is not prime, it divides by 11\n",
            "100001 is not prime, it divides by 11\n",
            "100001 is not prime, it divides by 11\n",
            "100001 is not prime, it divides by 11\n",
            "100001 is not prime, it divides by 11\n",
            "100001 is not prime, it divides by 11\n",
            "100001 is not prime, it divides by 11\n",
            "100001 is not prime, it divides by 11\n",
            "100001 is not prime, it divides by 11\n",
            "100001 is not prime, it divides by 11\n",
            "100001 is not prime, it divides by 11\n",
            "100001 is not prime, it divides by 11\n",
            "100001 is not prime, it divides by 11\n",
            "100001 is not prime, it divides by 11\n",
            "100001 is not prime, it divides by 11\n",
            "100001 is not prime, it divides by 11\n",
            "100001 is not prime, it divides by 11\n",
            "100001 is not prime, it divides by 11\n",
            "100001 is not prime, it divides by 11\n",
            "100001 is not prime, it divides by 11\n",
            "100001 is not prime, it divides by 11\n",
            "100001 is not prime, it divides by 11\n",
            "100001 is not prime, it divides by 11\n",
            "100001 is not prime, it divides by 11\n",
            "100001 is not prime, it divides by 11\n",
            "100001 is not prime, it divides by 11\n",
            "100001 is not prime, it divides by 11\n",
            "100001 is not prime, it divides by 11\n",
            "100001 is not prime, it divides by 11\n",
            "100001 is not prime, it divides by 11\n",
            "100001 is not prime, it divides by 11\n",
            "100001 is not prime, it divides by 11\n",
            "100001 is not prime, it divides by 11\n",
            "100001 is not prime, it divides by 11\n",
            "100001 is not prime, it divides by 11\n",
            "100001 is not prime, it divides by 11\n",
            "100001 is not prime, it divides by 11\n",
            "100001 is not prime, it divides by 11\n",
            "100001 is not prime, it divides by 11\n",
            "100001 is not prime, it divides by 11\n",
            "100001 is not prime, it divides by 11\n",
            "100001 is not prime, it divides by 11\n",
            "100001 is not prime, it divides by 11\n",
            "100001 is not prime, it divides by 11\n",
            "100001 is not prime, it divides by 11\n",
            "100001 is not prime, it divides by 11\n",
            "100001 is not prime, it divides by 11\n",
            "100001 is not prime, it divides by 11\n",
            "100001 is not prime, it divides by 11\n",
            "100001 is not prime, it divides by 11\n",
            "100001 is not prime, it divides by 11\n",
            "100001 is not prime, it divides by 11\n",
            "100001 is not prime, it divides by 11\n",
            "100001 is not prime, it divides by 11\n",
            "100001 is not prime, it divides by 11\n",
            "100001 is not prime, it divides by 11\n",
            "100001 is not prime, it divides by 11\n",
            "100001 is not prime, it divides by 11\n",
            "100001 is not prime, it divides by 11\n",
            "100001 is not prime, it divides by 11\n",
            "100001 is not prime, it divides by 11\n",
            "100001 is not prime, it divides by 11\n",
            "100001 is not prime, it divides by 11\n",
            "100001 is not prime, it divides by 11\n",
            "100001 is not prime, it divides by 11\n",
            "100001 is not prime, it divides by 11\n",
            "100001 is not prime, it divides by 11\n",
            "100001 is not prime, it divides by 11\n",
            "100001 is not prime, it divides by 11\n",
            "100001 is not prime, it divides by 11\n",
            "100001 is not prime, it divides by 11\n",
            "100001 is not prime, it divides by 11\n",
            "100001 is not prime, it divides by 11\n",
            "100001 is not prime, it divides by 11\n",
            "100001 is not prime, it divides by 11\n",
            "100001 is not prime, it divides by 11\n",
            "100001 is not prime, it divides by 11\n",
            "100001 is not prime, it divides by 11\n",
            "100001 is not prime, it divides by 11\n",
            "100001 is not prime, it divides by 11\n",
            "100001 is not prime, it divides by 11\n",
            "100001 is not prime, it divides by 11\n",
            "100001 is not prime, it divides by 11\n",
            "100001 is not prime, it divides by 11\n",
            "100001 is not prime, it divides by 11\n",
            "100001 is not prime, it divides by 11\n",
            "100001 is not prime, it divides by 11\n",
            "100001 is not prime, it divides by 11\n",
            "100001 is not prime, it divides by 11\n",
            "100001 is not prime, it divides by 11\n",
            "100001 is not prime, it divides by 11\n",
            "100001 is not prime, it divides by 11\n",
            "100001 is not prime, it divides by 11\n",
            "100001 is not prime, it divides by 11\n",
            "100001 is not prime, it divides by 11\n",
            "100001 is not prime, it divides by 11\n",
            "100001 is not prime, it divides by 11\n",
            "100001 is not prime, it divides by 11\n",
            "100001 is not prime, it divides by 11\n",
            "100001 is not prime, it divides by 11\n",
            "100001 is not prime, it divides by 11\n",
            "100001 is not prime, it divides by 11\n",
            "100001 is not prime, it divides by 11\n",
            "100001 is not prime, it divides by 11\n",
            "100001 is not prime, it divides by 11\n",
            "100001 is not prime, it divides by 11\n",
            "100001 is not prime, it divides by 11\n",
            "100001 is not prime, it divides by 11\n",
            "100001 is not prime, it divides by 11\n",
            "100001 is not prime, it divides by 11\n",
            "100001 is not prime, it divides by 11\n",
            "100001 is not prime, it divides by 11\n",
            "100001 is not prime, it divides by 11\n",
            "100001 is not prime, it divides by 11\n",
            "100001 is not prime, it divides by 11\n",
            "100001 is not prime, it divides by 11\n",
            "100001 is not prime, it divides by 11\n",
            "100001 is not prime, it divides by 11\n",
            "100001 is not prime, it divides by 11\n",
            "100001 is not prime, it divides by 11\n",
            "100001 is not prime, it divides by 11\n",
            "100001 is not prime, it divides by 11\n",
            "100001 is not prime, it divides by 11\n",
            "100001 is not prime, it divides by 11\n",
            "100001 is not prime, it divides by 11\n",
            "100001 is not prime, it divides by 11\n",
            "100001 is not prime, it divides by 11\n",
            "100001 is not prime, it divides by 11\n",
            "100001 is not prime, it divides by 11\n",
            "100001 is not prime, it divides by 11\n",
            "100001 is not prime, it divides by 11\n",
            "100001 is not prime, it divides by 11\n",
            "100001 is not prime, it divides by 11\n",
            "100001 is not prime, it divides by 11\n",
            "100001 is not prime, it divides by 11\n",
            "100001 is not prime, it divides by 11\n",
            "100001 is not prime, it divides by 11\n",
            "100001 is not prime, it divides by 11\n",
            "100001 is not prime, it divides by 11\n",
            "100001 is not prime, it divides by 11\n",
            "100001 is not prime, it divides by 11\n",
            "100001 is not prime, it divides by 11\n",
            "100001 is not prime, it divides by 11\n",
            "100001 is not prime, it divides by 11\n",
            "100001 is not prime, it divides by 11\n",
            "100001 is not prime, it divides by 11\n",
            "100001 is not prime, it divides by 11\n",
            "100001 is not prime, it divides by 11\n",
            "100001 is not prime, it divides by 11\n",
            "100001 is not prime, it divides by 11\n",
            "100001 is not prime, it divides by 11\n",
            "100001 is not prime, it divides by 11\n",
            "100001 is not prime, it divides by 11\n",
            "100001 is not prime, it divides by 11\n",
            "100001 is not prime, it divides by 11\n",
            "100001 is not prime, it divides by 11\n",
            "100001 is not prime, it divides by 11\n",
            "100001 is not prime, it divides by 11\n",
            "100001 is not prime, it divides by 11\n",
            "100001 is not prime, it divides by 11\n",
            "100001 is not prime, it divides by 11\n",
            "100001 is not prime, it divides by 11\n",
            "100001 is not prime, it divides by 11\n",
            "100001 is not prime, it divides by 11\n",
            "100001 is not prime, it divides by 11\n",
            "100001 is not prime, it divides by 11\n",
            "100001 is not prime, it divides by 11\n",
            "100001 is not prime, it divides by 11\n",
            "100001 is not prime, it divides by 11\n",
            "100001 is not prime, it divides by 11\n",
            "100001 is not prime, it divides by 11\n",
            "100001 is not prime, it divides by 11\n",
            "100001 is not prime, it divides by 11\n",
            "100001 is not prime, it divides by 11\n",
            "100001 is not prime, it divides by 11\n",
            "100001 is not prime, it divides by 11\n",
            "100001 is not prime, it divides by 11\n",
            "100001 is not prime, it divides by 11\n",
            "100001 is not prime, it divides by 11\n",
            "100001 is not prime, it divides by 11\n",
            "100001 is not prime, it divides by 11\n",
            "100001 is not prime, it divides by 11\n",
            "100001 is not prime, it divides by 11\n",
            "100001 is not prime, it divides by 11\n",
            "100001 is not prime, it divides by 11\n",
            "100001 is not prime, it divides by 11\n",
            "100001 is not prime, it divides by 11\n",
            "100001 is not prime, it divides by 11\n",
            "100001 is not prime, it divides by 11\n",
            "100001 is not prime, it divides by 11\n",
            "100001 is not prime, it divides by 11\n",
            "100001 is not prime, it divides by 11\n",
            "100001 is not prime, it divides by 11\n",
            "100001 is not prime, it divides by 11\n",
            "100001 is not prime, it divides by 11\n",
            "100001 is not prime, it divides by 11\n",
            "100001 is not prime, it divides by 11\n",
            "100001 is not prime, it divides by 11\n",
            "100001 is not prime, it divides by 11\n",
            "100001 is not prime, it divides by 11\n",
            "100001 is not prime, it divides by 11\n",
            "100001 is not prime, it divides by 11\n",
            "100001 is not prime, it divides by 11\n",
            "100001 is not prime, it divides by 11\n",
            "100001 is not prime, it divides by 11\n",
            "100001 is not prime, it divides by 11\n",
            "100001 is not prime, it divides by 11\n",
            "100001 is not prime, it divides by 11\n",
            "100001 is not prime, it divides by 11\n",
            "100001 is not prime, it divides by 11\n",
            "100001 is not prime, it divides by 11\n",
            "100001 is not prime, it divides by 11\n",
            "100001 is not prime, it divides by 11\n",
            "100001 is not prime, it divides by 11\n",
            "100001 is not prime, it divides by 11\n",
            "100001 is not prime, it divides by 11\n",
            "100001 is not prime, it divides by 11\n",
            "100001 is not prime, it divides by 11\n",
            "100001 is not prime, it divides by 11\n",
            "100001 is not prime, it divides by 11\n",
            "100001 is not prime, it divides by 11\n",
            "100001 is not prime, it divides by 11\n",
            "100001 is not prime, it divides by 11\n",
            "100001 is not prime, it divides by 11\n",
            "100001 is not prime, it divides by 11\n",
            "100001 is not prime, it divides by 11\n",
            "100001 is not prime, it divides by 11\n",
            "100001 is not prime, it divides by 11\n",
            "100001 is not prime, it divides by 11\n",
            "100001 is not prime, it divides by 11\n",
            "100001 is not prime, it divides by 11\n",
            "100001 is not prime, it divides by 11\n",
            "100001 is not prime, it divides by 11\n",
            "100001 is not prime, it divides by 11\n",
            "100001 is not prime, it divides by 11\n",
            "100001 is not prime, it divides by 11\n",
            "100001 is not prime, it divides by 11\n",
            "100001 is not prime, it divides by 11\n",
            "100001 is not prime, it divides by 11\n",
            "100001 is not prime, it divides by 11\n",
            "100001 is not prime, it divides by 11\n",
            "100001 is not prime, it divides by 11\n",
            "100001 is not prime, it divides by 11\n",
            "100001 is not prime, it divides by 11\n",
            "100001 is not prime, it divides by 11\n",
            "100001 is not prime, it divides by 11\n",
            "100001 is not prime, it divides by 11\n",
            "100001 is not prime, it divides by 11\n",
            "100001 is not prime, it divides by 11\n",
            "100001 is not prime, it divides by 11\n",
            "100001 is not prime, it divides by 11\n",
            "100001 is not prime, it divides by 11\n",
            "100001 is not prime, it divides by 11\n",
            "100001 is not prime, it divides by 11\n",
            "100001 is not prime, it divides by 11\n",
            "100001 is not prime, it divides by 11\n",
            "100001 is not prime, it divides by 11\n",
            "100001 is not prime, it divides by 11\n",
            "100001 is not prime, it divides by 11\n",
            "100001 is not prime, it divides by 11\n",
            "100001 is not prime, it divides by 11\n",
            "100001 is not prime, it divides by 11\n",
            "100001 is not prime, it divides by 11\n",
            "100001 is not prime, it divides by 11\n",
            "100001 is not prime, it divides by 11\n",
            "100001 is not prime, it divides by 11\n",
            "100001 is not prime, it divides by 11\n",
            "100001 is not prime, it divides by 11\n",
            "100001 is not prime, it divides by 11\n",
            "100001 is not prime, it divides by 11\n",
            "100001 is not prime, it divides by 11\n",
            "100001 is not prime, it divides by 11\n",
            "100001 is not prime, it divides by 11\n",
            "100001 is not prime, it divides by 11\n",
            "100001 is not prime, it divides by 11\n",
            "100001 is not prime, it divides by 11\n",
            "100001 is not prime, it divides by 11\n",
            "100001 is not prime, it divides by 11\n",
            "100001 is not prime, it divides by 11\n",
            "100001 is not prime, it divides by 11\n",
            "100001 is not prime, it divides by 11\n",
            "100001 is not prime, it divides by 11\n",
            "100001 is not prime, it divides by 11\n",
            "100001 is not prime, it divides by 11\n",
            "100001 is not prime, it divides by 11\n",
            "100001 is not prime, it divides by 11\n",
            "100001 is not prime, it divides by 11\n",
            "100001 is not prime, it divides by 11\n",
            "100001 is not prime, it divides by 11\n",
            "100001 is not prime, it divides by 11\n",
            "100001 is not prime, it divides by 11\n",
            "100001 is not prime, it divides by 11\n",
            "100001 is not prime, it divides by 11\n",
            "100001 is not prime, it divides by 11\n",
            "100001 is not prime, it divides by 11\n",
            "100001 is not prime, it divides by 11\n",
            "100001 is not prime, it divides by 11\n",
            "100001 is not prime, it divides by 11\n",
            "100001 is not prime, it divides by 11\n",
            "100001 is not prime, it divides by 11\n",
            "100001 is not prime, it divides by 11\n",
            "100001 is not prime, it divides by 11\n",
            "100001 is not prime, it divides by 11\n",
            "100001 is not prime, it divides by 11\n",
            "100001 is not prime, it divides by 11\n",
            "100001 is not prime, it divides by 11\n",
            "100001 is not prime, it divides by 11\n",
            "100001 is not prime, it divides by 11\n",
            "100001 is not prime, it divides by 11\n",
            "100001 is not prime, it divides by 11\n",
            "100001 is not prime, it divides by 11\n",
            "100001 is not prime, it divides by 11\n",
            "100001 is not prime, it divides by 11\n",
            "100001 is not prime, it divides by 11\n",
            "100001 is not prime, it divides by 11\n",
            "100001 is not prime, it divides by 11\n",
            "100001 is not prime, it divides by 11\n",
            "100001 is not prime, it divides by 11\n",
            "100001 is not prime, it divides by 11\n",
            "100001 is not prime, it divides by 11\n",
            "100001 is not prime, it divides by 11\n",
            "100001 is not prime, it divides by 11\n",
            "100001 is not prime, it divides by 11\n",
            "100001 is not prime, it divides by 11\n",
            "100001 is not prime, it divides by 11\n",
            "100001 is not prime, it divides by 11\n",
            "100001 is not prime, it divides by 11\n",
            "100001 is not prime, it divides by 11\n",
            "100001 is not prime, it divides by 11\n",
            "100001 is not prime, it divides by 11\n",
            "100001 is not prime, it divides by 11\n",
            "100001 is not prime, it divides by 11\n",
            "100001 is not prime, it divides by 11\n",
            "100001 is not prime, it divides by 11\n",
            "100001 is not prime, it divides by 11\n",
            "100001 is not prime, it divides by 11\n",
            "100001 is not prime, it divides by 11\n",
            "100001 is not prime, it divides by 11\n",
            "100001 is not prime, it divides by 11\n",
            "100001 is not prime, it divides by 11\n",
            "100001 is not prime, it divides by 11\n",
            "100001 is not prime, it divides by 11\n",
            "100001 is not prime, it divides by 11\n",
            "100001 is not prime, it divides by 11\n",
            "100001 is not prime, it divides by 11\n",
            "100001 is not prime, it divides by 11\n",
            "100001 is not prime, it divides by 11\n",
            "100001 is not prime, it divides by 11\n",
            "100001 is not prime, it divides by 11\n",
            "100001 is not prime, it divides by 11\n",
            "100001 is not prime, it divides by 11\n",
            "100001 is not prime, it divides by 11\n",
            "100001 is not prime, it divides by 11\n",
            "100001 is not prime, it divides by 11\n",
            "100001 is not prime, it divides by 11\n",
            "100001 is not prime, it divides by 11\n",
            "100001 is not prime, it divides by 11\n",
            "100001 is not prime, it divides by 11\n",
            "100001 is not prime, it divides by 11\n",
            "100001 is not prime, it divides by 11\n",
            "100001 is not prime, it divides by 11\n",
            "100001 is not prime, it divides by 11\n",
            "100001 is not prime, it divides by 11\n",
            "100001 is not prime, it divides by 11\n",
            "100001 is not prime, it divides by 11\n",
            "100001 is not prime, it divides by 11\n",
            "100001 is not prime, it divides by 11\n",
            "100001 is not prime, it divides by 11\n",
            "100001 is not prime, it divides by 11\n",
            "100001 is not prime, it divides by 11\n",
            "100001 is not prime, it divides by 11\n",
            "100001 is not prime, it divides by 11\n",
            "100001 is not prime, it divides by 11\n",
            "100001 is not prime, it divides by 11\n",
            "100001 is not prime, it divides by 11\n",
            "100001 is not prime, it divides by 11\n",
            "100001 is not prime, it divides by 11\n",
            "100001 is not prime, it divides by 11\n",
            "100001 is not prime, it divides by 11\n",
            "100001 is not prime, it divides by 11\n",
            "100001 is not prime, it divides by 11\n",
            "100001 is not prime, it divides by 11\n",
            "100001 is not prime, it divides by 11\n",
            "100001 is not prime, it divides by 11\n",
            "100001 is not prime, it divides by 11\n",
            "100001 is not prime, it divides by 11\n",
            "100001 is not prime, it divides by 11\n",
            "100001 is not prime, it divides by 11\n",
            "100001 is not prime, it divides by 11\n",
            "100001 is not prime, it divides by 11\n",
            "100001 is not prime, it divides by 11\n",
            "100001 is not prime, it divides by 11\n",
            "100001 is not prime, it divides by 11\n",
            "100001 is not prime, it divides by 11\n",
            "100001 is not prime, it divides by 11\n",
            "100001 is not prime, it divides by 11\n",
            "100001 is not prime, it divides by 11\n",
            "100001 is not prime, it divides by 11\n",
            "100001 is not prime, it divides by 11\n",
            "100001 is not prime, it divides by 11\n",
            "100001 is not prime, it divides by 11\n",
            "100001 is not prime, it divides by 11\n",
            "100001 is not prime, it divides by 11\n",
            "100001 is not prime, it divides by 11\n",
            "100001 is not prime, it divides by 11\n",
            "100001 is not prime, it divides by 11\n",
            "100001 is not prime, it divides by 11\n",
            "100001 is not prime, it divides by 11\n",
            "100001 is not prime, it divides by 11\n",
            "100001 is not prime, it divides by 11\n",
            "100001 is not prime, it divides by 11\n",
            "100001 is not prime, it divides by 11\n",
            "100001 is not prime, it divides by 11\n",
            "100001 is not prime, it divides by 11\n",
            "100001 is not prime, it divides by 11\n",
            "100001 is not prime, it divides by 11\n",
            "100001 is not prime, it divides by 11\n",
            "100001 is not prime, it divides by 11\n",
            "100001 is not prime, it divides by 11\n",
            "100001 is not prime, it divides by 11\n",
            "100001 is not prime, it divides by 11\n",
            "100001 is not prime, it divides by 11\n",
            "100001 is not prime, it divides by 11\n",
            "100001 is not prime, it divides by 11\n",
            "100001 is not prime, it divides by 11\n",
            "100001 is not prime, it divides by 11\n",
            "100001 is not prime, it divides by 11\n",
            "100001 is not prime, it divides by 11\n",
            "100001 is not prime, it divides by 11\n",
            "100001 is not prime, it divides by 11\n",
            "100001 is not prime, it divides by 11\n",
            "100001 is not prime, it divides by 11\n",
            "100001 is not prime, it divides by 11\n",
            "100001 is not prime, it divides by 11\n",
            "100001 is not prime, it divides by 11\n",
            "100001 is not prime, it divides by 11\n",
            "100001 is not prime, it divides by 11\n",
            "100001 is not prime, it divides by 11\n",
            "100001 is not prime, it divides by 11\n",
            "100001 is not prime, it divides by 11\n",
            "100001 is not prime, it divides by 11\n",
            "100001 is not prime, it divides by 11\n",
            "100001 is not prime, it divides by 11\n",
            "100001 is not prime, it divides by 11\n",
            "100001 is not prime, it divides by 11\n",
            "100001 is not prime, it divides by 11\n",
            "100001 is not prime, it divides by 11\n",
            "100001 is not prime, it divides by 11\n",
            "100001 is not prime, it divides by 11\n",
            "100001 is not prime, it divides by 11\n",
            "100001 is not prime, it divides by 11\n",
            "100001 is not prime, it divides by 11\n",
            "100001 is not prime, it divides by 11\n",
            "100001 is not prime, it divides by 11\n",
            "100001 is not prime, it divides by 11\n",
            "100001 is not prime, it divides by 11\n",
            "100001 is not prime, it divides by 11\n",
            "100001 is not prime, it divides by 11\n",
            "100001 is not prime, it divides by 11\n",
            "100001 is not prime, it divides by 11\n",
            "100001 is not prime, it divides by 11\n",
            "100001 is not prime, it divides by 11\n",
            "100001 is not prime, it divides by 11\n",
            "100001 is not prime, it divides by 11\n",
            "100001 is not prime, it divides by 11\n",
            "100001 is not prime, it divides by 11\n",
            "100001 is not prime, it divides by 11\n",
            "100001 is not prime, it divides by 11\n",
            "100001 is not prime, it divides by 11\n",
            "100001 is not prime, it divides by 11\n",
            "100001 is not prime, it divides by 11\n",
            "100001 is not prime, it divides by 11\n",
            "100001 is not prime, it divides by 11\n",
            "100001 is not prime, it divides by 11\n",
            "100001 is not prime, it divides by 11\n",
            "100001 is not prime, it divides by 11\n",
            "100001 is not prime, it divides by 11\n",
            "100001 is not prime, it divides by 11\n",
            "100001 is not prime, it divides by 11\n",
            "100001 is not prime, it divides by 11\n",
            "100001 is not prime, it divides by 11\n",
            "100001 is not prime, it divides by 11\n",
            "100001 is not prime, it divides by 11\n",
            "100001 is not prime, it divides by 11\n",
            "100001 is not prime, it divides by 11\n",
            "100001 is not prime, it divides by 11\n",
            "100001 is not prime, it divides by 11\n",
            "100001 is not prime, it divides by 11\n",
            "100001 is not prime, it divides by 11\n",
            "100001 is not prime, it divides by 11\n",
            "100001 is not prime, it divides by 11\n",
            "100001 is not prime, it divides by 11\n",
            "100001 is not prime, it divides by 11\n",
            "100001 is not prime, it divides by 11\n",
            "100001 is not prime, it divides by 11\n",
            "100001 is not prime, it divides by 11\n",
            "100001 is not prime, it divides by 11\n",
            "100001 is not prime, it divides by 11\n",
            "100001 is not prime, it divides by 11\n",
            "100001 is not prime, it divides by 11\n",
            "100001 is not prime, it divides by 11\n",
            "100001 is not prime, it divides by 11\n",
            "100001 is not prime, it divides by 11\n",
            "100001 is not prime, it divides by 11\n",
            "100001 is not prime, it divides by 11\n",
            "100001 is not prime, it divides by 11\n",
            "100001 is not prime, it divides by 11\n",
            "100001 is not prime, it divides by 11\n",
            "100001 is not prime, it divides by 11\n",
            "100001 is not prime, it divides by 11\n",
            "100001 is not prime, it divides by 11\n",
            "100001 is not prime, it divides by 11\n",
            "100001 is not prime, it divides by 11\n",
            "100001 is not prime, it divides by 11\n",
            "100001 is not prime, it divides by 11\n",
            "100001 is not prime, it divides by 11\n",
            "100001 is not prime, it divides by 11\n",
            "100001 is not prime, it divides by 11\n",
            "100001 is not prime, it divides by 11\n",
            "100001 is not prime, it divides by 11\n",
            "100001 is not prime, it divides by 11\n",
            "100001 is not prime, it divides by 11\n",
            "100001 is not prime, it divides by 11\n",
            "100001 is not prime, it divides by 11\n",
            "100001 is not prime, it divides by 11\n",
            "100001 is not prime, it divides by 11\n",
            "100001 is not prime, it divides by 11\n",
            "100001 is not prime, it divides by 11\n",
            "100001 is not prime, it divides by 11\n",
            "100001 is not prime, it divides by 11\n",
            "100001 is not prime, it divides by 11\n",
            "100001 is not prime, it divides by 11\n",
            "100001 is not prime, it divides by 11\n",
            "100001 is not prime, it divides by 11\n",
            "100001 is not prime, it divides by 11\n",
            "100001 is not prime, it divides by 11\n",
            "100001 is not prime, it divides by 11\n",
            "100001 is not prime, it divides by 11\n",
            "100001 is not prime, it divides by 11\n",
            "100001 is not prime, it divides by 11\n",
            "100001 is not prime, it divides by 11\n",
            "100001 is not prime, it divides by 11\n",
            "100001 is not prime, it divides by 11\n",
            "100001 is not prime, it divides by 11\n",
            "100001 is not prime, it divides by 11\n",
            "100001 is not prime, it divides by 11\n",
            "100001 is not prime, it divides by 11\n",
            "100001 is not prime, it divides by 11\n",
            "100001 is not prime, it divides by 11\n",
            "100001 is not prime, it divides by 11\n",
            "100001 is not prime, it divides by 11\n",
            "100001 is not prime, it divides by 11\n",
            "100001 is not prime, it divides by 11\n",
            "100001 is not prime, it divides by 11\n",
            "100001 is not prime, it divides by 11\n",
            "100001 is not prime, it divides by 11\n",
            "100001 is not prime, it divides by 11\n",
            "100001 is not prime, it divides by 11\n",
            "100001 is not prime, it divides by 11\n",
            "100001 is not prime, it divides by 11\n",
            "100001 is not prime, it divides by 11\n",
            "100001 is not prime, it divides by 11\n",
            "100001 is not prime, it divides by 11\n",
            "100001 is not prime, it divides by 11\n",
            "100001 is not prime, it divides by 11\n",
            "100001 is not prime, it divides by 11\n",
            "100001 is not prime, it divides by 11\n",
            "100001 is not prime, it divides by 11\n",
            "100001 is not prime, it divides by 11\n",
            "100001 is not prime, it divides by 11\n",
            "100001 is not prime, it divides by 11\n",
            "100001 is not prime, it divides by 11\n",
            "100001 is not prime, it divides by 11\n",
            "100001 is not prime, it divides by 11\n",
            "100001 is not prime, it divides by 11\n",
            "100001 is not prime, it divides by 11\n",
            "100001 is not prime, it divides by 11\n",
            "100001 is not prime, it divides by 11\n",
            "100001 is not prime, it divides by 11\n",
            "100001 is not prime, it divides by 11\n",
            "100001 is not prime, it divides by 11\n",
            "100001 is not prime, it divides by 11\n",
            "100001 is not prime, it divides by 11\n",
            "100001 is not prime, it divides by 11\n",
            "100001 is not prime, it divides by 11\n",
            "100001 is not prime, it divides by 11\n",
            "100001 is not prime, it divides by 11\n",
            "100001 is not prime, it divides by 11\n",
            "100001 is not prime, it divides by 11\n",
            "100001 is not prime, it divides by 11\n",
            "100001 is not prime, it divides by 11\n",
            "100001 is not prime, it divides by 11\n",
            "100001 is not prime, it divides by 11\n",
            "100001 is not prime, it divides by 11\n",
            "100001 is not prime, it divides by 11\n",
            "100001 is not prime, it divides by 11\n",
            "100001 is not prime, it divides by 11\n",
            "100001 is not prime, it divides by 11\n",
            "100001 is not prime, it divides by 11\n",
            "100001 is not prime, it divides by 11\n",
            "100001 is not prime, it divides by 11\n",
            "100001 is not prime, it divides by 11\n",
            "100001 is not prime, it divides by 11\n",
            "100001 is not prime, it divides by 11\n",
            "100001 is not prime, it divides by 11\n",
            "100001 is not prime, it divides by 11\n",
            "100001 is not prime, it divides by 11\n",
            "100001 is not prime, it divides by 11\n",
            "100001 is not prime, it divides by 11\n",
            "100001 is not prime, it divides by 11\n",
            "100001 is not prime, it divides by 11\n",
            "100001 is not prime, it divides by 11\n",
            "100001 is not prime, it divides by 11\n",
            "100001 is not prime, it divides by 11\n",
            "100001 is not prime, it divides by 11\n",
            "100001 is not prime, it divides by 11\n",
            "100001 is not prime, it divides by 11\n",
            "100001 is not prime, it divides by 11\n",
            "100001 is not prime, it divides by 11\n",
            "100001 is not prime, it divides by 11\n",
            "100001 is not prime, it divides by 11\n",
            "100001 is not prime, it divides by 11\n",
            "100001 is not prime, it divides by 11\n",
            "100001 is not prime, it divides by 11\n",
            "100001 is not prime, it divides by 11\n",
            "100001 is not prime, it divides by 11\n",
            "100001 is not prime, it divides by 11\n",
            "100001 is not prime, it divides by 11\n",
            "100001 is not prime, it divides by 11\n",
            "100001 is not prime, it divides by 11\n",
            "100001 is not prime, it divides by 11\n",
            "100001 is not prime, it divides by 11\n",
            "100001 is not prime, it divides by 11\n",
            "100001 is not prime, it divides by 11\n",
            "100001 is not prime, it divides by 11\n",
            "100001 is not prime, it divides by 11\n",
            "100001 is not prime, it divides by 11\n",
            "100001 is not prime, it divides by 11\n",
            "100001 is not prime, it divides by 11\n",
            "100001 is not prime, it divides by 11\n",
            "100001 is not prime, it divides by 11\n",
            "100001 is not prime, it divides by 11\n",
            "100001 is not prime, it divides by 11\n",
            "100001 is not prime, it divides by 11\n",
            "100001 is not prime, it divides by 11\n",
            "100001 is not prime, it divides by 11\n",
            "100001 is not prime, it divides by 11\n",
            "100001 is not prime, it divides by 11\n",
            "100001 is not prime, it divides by 11\n",
            "100001 is not prime, it divides by 11\n",
            "100001 is not prime, it divides by 11\n",
            "100001 is not prime, it divides by 11\n",
            "100001 is not prime, it divides by 11\n",
            "100001 is not prime, it divides by 11\n",
            "100001 is not prime, it divides by 11\n",
            "100001 is not prime, it divides by 11\n",
            "100001 is not prime, it divides by 11\n",
            "100001 is not prime, it divides by 11\n",
            "100001 is not prime, it divides by 11\n",
            "100001 is not prime, it divides by 11\n",
            "100001 is not prime, it divides by 11\n",
            "100001 is not prime, it divides by 11\n",
            "100001 is not prime, it divides by 11\n",
            "100001 is not prime, it divides by 11\n",
            "100001 is not prime, it divides by 11\n",
            "100001 is not prime, it divides by 11\n",
            "100001 is not prime, it divides by 11\n",
            "100001 is not prime, it divides by 11\n",
            "100001 is not prime, it divides by 11\n",
            "100001 is not prime, it divides by 11\n",
            "100001 is not prime, it divides by 11\n",
            "100001 is not prime, it divides by 11\n",
            "100001 is not prime, it divides by 11\n",
            "100001 is not prime, it divides by 11\n",
            "100001 is not prime, it divides by 11\n",
            "100001 is not prime, it divides by 11\n",
            "100001 is not prime, it divides by 11\n",
            "100001 is not prime, it divides by 11\n",
            "100001 is not prime, it divides by 11\n",
            "100001 is not prime, it divides by 11\n",
            "100001 is not prime, it divides by 11\n",
            "100001 is not prime, it divides by 11\n",
            "100001 is not prime, it divides by 11\n",
            "100001 is not prime, it divides by 11\n",
            "100001 is not prime, it divides by 11\n",
            "100001 is not prime, it divides by 11\n",
            "100001 is not prime, it divides by 11\n",
            "100001 is not prime, it divides by 11\n",
            "100001 is not prime, it divides by 11\n",
            "100001 is not prime, it divides by 11\n",
            "100001 is not prime, it divides by 11\n",
            "100001 is not prime, it divides by 11\n",
            "100001 is not prime, it divides by 11\n",
            "100001 is not prime, it divides by 11\n",
            "100001 is not prime, it divides by 11\n",
            "100001 is not prime, it divides by 11\n",
            "100001 is not prime, it divides by 11\n",
            "100001 is not prime, it divides by 11\n",
            "100001 is not prime, it divides by 11\n",
            "100001 is not prime, it divides by 11\n",
            "100001 is not prime, it divides by 11\n",
            "100001 is not prime, it divides by 11\n",
            "100001 is not prime, it divides by 11\n",
            "100001 is not prime, it divides by 11\n",
            "100001 is not prime, it divides by 11\n",
            "100001 is not prime, it divides by 11\n",
            "100001 is not prime, it divides by 11\n",
            "100001 is not prime, it divides by 11\n",
            "100001 is not prime, it divides by 11\n",
            "100001 is not prime, it divides by 11\n",
            "100001 is not prime, it divides by 11\n",
            "100001 is not prime, it divides by 11\n",
            "100001 is not prime, it divides by 11\n",
            "100001 is not prime, it divides by 11\n",
            "100001 is not prime, it divides by 11\n",
            "100001 is not prime, it divides by 11\n",
            "100001 is not prime, it divides by 11\n",
            "100001 is not prime, it divides by 11\n",
            "100001 is not prime, it divides by 11\n",
            "100001 is not prime, it divides by 11\n",
            "100001 is not prime, it divides by 11\n",
            "100001 is not prime, it divides by 11\n",
            "100001 is not prime, it divides by 11\n",
            "100001 is not prime, it divides by 11\n",
            "100001 is not prime, it divides by 11\n",
            "100001 is not prime, it divides by 11\n",
            "100001 is not prime, it divides by 11\n",
            "100001 is not prime, it divides by 11\n",
            "100001 is not prime, it divides by 11\n",
            "100001 is not prime, it divides by 11\n",
            "100001 is not prime, it divides by 11\n",
            "100001 is not prime, it divides by 11\n",
            "100001 is not prime, it divides by 11\n",
            "100001 is not prime, it divides by 11\n",
            "100001 is not prime, it divides by 11\n",
            "100001 is not prime, it divides by 11\n",
            "100001 is not prime, it divides by 11\n",
            "100001 is not prime, it divides by 11\n",
            "100001 is not prime, it divides by 11\n",
            "100001 is not prime, it divides by 11\n",
            "100001 is not prime, it divides by 11\n",
            "100001 is not prime, it divides by 11\n",
            "100001 is not prime, it divides by 11\n",
            "100001 is not prime, it divides by 11\n",
            "100001 is not prime, it divides by 11\n",
            "100001 is not prime, it divides by 11\n",
            "100001 is not prime, it divides by 11\n",
            "100001 is not prime, it divides by 11\n",
            "100001 is not prime, it divides by 11\n",
            "100001 is not prime, it divides by 11\n",
            "100001 is not prime, it divides by 11\n",
            "100001 is not prime, it divides by 11\n",
            "100001 is not prime, it divides by 11\n",
            "100001 is not prime, it divides by 11\n",
            "100001 is not prime, it divides by 11\n",
            "100001 is not prime, it divides by 11\n",
            "100001 is not prime, it divides by 11\n",
            "100001 is not prime, it divides by 11\n",
            "100001 is not prime, it divides by 11\n",
            "100001 is not prime, it divides by 11\n",
            "100001 is not prime, it divides by 11\n",
            "100001 is not prime, it divides by 11\n",
            "100001 is not prime, it divides by 11\n",
            "100001 is not prime, it divides by 11\n",
            "100001 is not prime, it divides by 11\n",
            "100001 is not prime, it divides by 11\n",
            "100001 is not prime, it divides by 11\n",
            "100001 is not prime, it divides by 11\n",
            "100001 is not prime, it divides by 11\n",
            "100001 is not prime, it divides by 11\n",
            "100001 is not prime, it divides by 11\n",
            "100001 is not prime, it divides by 11\n",
            "100001 is not prime, it divides by 11\n",
            "100001 is not prime, it divides by 11\n",
            "100001 is not prime, it divides by 11\n",
            "100001 is not prime, it divides by 11\n",
            "100001 is not prime, it divides by 11\n",
            "100001 is not prime, it divides by 11\n",
            "100001 is not prime, it divides by 11\n",
            "100001 is not prime, it divides by 11\n",
            "100001 is not prime, it divides by 11\n",
            "100001 is not prime, it divides by 11\n",
            "100001 is not prime, it divides by 11\n",
            "100001 is not prime, it divides by 11\n",
            "100001 is not prime, it divides by 11\n",
            "100001 is not prime, it divides by 11\n",
            "100001 is not prime, it divides by 11\n",
            "100001 is not prime, it divides by 11\n",
            "100001 is not prime, it divides by 11\n",
            "100001 is not prime, it divides by 11\n",
            "100001 is not prime, it divides by 11\n",
            "100001 is not prime, it divides by 11\n",
            "100001 is not prime, it divides by 11\n",
            "100001 is not prime, it divides by 11\n",
            "100001 is not prime, it divides by 11\n",
            "100001 is not prime, it divides by 11\n",
            "100001 is not prime, it divides by 11\n",
            "100001 is not prime, it divides by 11\n",
            "100001 is not prime, it divides by 11\n",
            "100001 is not prime, it divides by 11\n",
            "100001 is not prime, it divides by 11\n",
            "100001 is not prime, it divides by 11\n",
            "100001 is not prime, it divides by 11\n",
            "100001 is not prime, it divides by 11\n",
            "100001 is not prime, it divides by 11\n",
            "100001 is not prime, it divides by 11\n",
            "100001 is not prime, it divides by 11\n",
            "100001 is not prime, it divides by 11\n",
            "100001 is not prime, it divides by 11\n",
            "100001 is not prime, it divides by 11\n",
            "100001 is not prime, it divides by 11\n",
            "100001 is not prime, it divides by 11\n",
            "100001 is not prime, it divides by 11\n",
            "100001 is not prime, it divides by 11\n",
            "100001 is not prime, it divides by 11\n",
            "100001 is not prime, it divides by 11\n",
            "100001 is not prime, it divides by 11\n",
            "100001 is not prime, it divides by 11\n",
            "100001 is not prime, it divides by 11\n",
            "100001 is not prime, it divides by 11\n",
            "100001 is not prime, it divides by 11\n",
            "100001 is not prime, it divides by 11\n",
            "100001 is not prime, it divides by 11\n",
            "100001 is not prime, it divides by 11\n",
            "100001 is not prime, it divides by 11\n",
            "100001 is not prime, it divides by 11\n",
            "100001 is not prime, it divides by 11\n",
            "100001 is not prime, it divides by 11\n",
            "100001 is not prime, it divides by 11\n",
            "100001 is not prime, it divides by 11\n",
            "100001 is not prime, it divides by 11\n",
            "100001 is not prime, it divides by 11\n",
            "100001 is not prime, it divides by 11\n",
            "100001 is not prime, it divides by 11\n",
            "100001 is not prime, it divides by 11\n",
            "100001 is not prime, it divides by 11\n",
            "100001 is not prime, it divides by 11\n",
            "100001 is not prime, it divides by 11\n",
            "100001 is not prime, it divides by 11\n",
            "100001 is not prime, it divides by 11\n",
            "100001 is not prime, it divides by 11\n",
            "100001 is not prime, it divides by 11\n",
            "100001 is not prime, it divides by 11\n",
            "100001 is not prime, it divides by 11\n",
            "100001 is not prime, it divides by 11\n",
            "100001 is not prime, it divides by 11\n",
            "100001 is not prime, it divides by 11\n",
            "100001 is not prime, it divides by 11\n",
            "100001 is not prime, it divides by 11\n",
            "100001 is not prime, it divides by 11\n",
            "100001 is not prime, it divides by 11\n",
            "100001 is not prime, it divides by 11\n",
            "100001 is not prime, it divides by 11\n",
            "100001 is not prime, it divides by 11\n",
            "100001 is not prime, it divides by 11\n",
            "100001 is not prime, it divides by 11\n",
            "100001 is not prime, it divides by 11\n",
            "100001 is not prime, it divides by 11\n",
            "100001 is not prime, it divides by 11\n",
            "100001 is not prime, it divides by 11\n",
            "100001 is not prime, it divides by 11\n",
            "100001 is not prime, it divides by 11\n",
            "100001 is not prime, it divides by 11\n",
            "100001 is not prime, it divides by 11\n",
            "100001 is not prime, it divides by 11\n",
            "100001 is not prime, it divides by 11\n",
            "100001 is not prime, it divides by 11\n",
            "100001 is not prime, it divides by 11\n",
            "100001 is not prime, it divides by 11\n",
            "100001 is not prime, it divides by 11\n",
            "100001 is not prime, it divides by 11\n",
            "100001 is not prime, it divides by 11\n",
            "100001 is not prime, it divides by 11\n",
            "100001 is not prime, it divides by 11\n",
            "100001 is not prime, it divides by 11\n",
            "100001 is not prime, it divides by 11\n",
            "100001 is not prime, it divides by 11\n",
            "100001 is not prime, it divides by 11\n",
            "100001 is not prime, it divides by 11\n",
            "100001 is not prime, it divides by 11\n",
            "100001 is not prime, it divides by 11\n",
            "100001 is not prime, it divides by 11\n",
            "100001 is not prime, it divides by 11\n",
            "100001 is not prime, it divides by 11\n",
            "100001 is not prime, it divides by 11\n",
            "100001 is not prime, it divides by 11\n",
            "100001 is not prime, it divides by 11\n",
            "100001 is not prime, it divides by 11\n",
            "100001 is not prime, it divides by 11\n",
            "100001 is not prime, it divides by 11\n",
            "100001 is not prime, it divides by 11\n",
            "100001 is not prime, it divides by 11\n",
            "100001 is not prime, it divides by 11\n",
            "100001 is not prime, it divides by 11\n",
            "100001 is not prime, it divides by 11\n",
            "100001 is not prime, it divides by 11\n",
            "100001 is not prime, it divides by 11\n",
            "100001 is not prime, it divides by 11\n",
            "100001 is not prime, it divides by 11\n",
            "100001 is not prime, it divides by 11\n",
            "100001 is not prime, it divides by 11\n",
            "100001 is not prime, it divides by 11\n",
            "100001 is not prime, it divides by 11\n",
            "100001 is not prime, it divides by 11\n",
            "100001 is not prime, it divides by 11\n",
            "100001 is not prime, it divides by 11\n",
            "100001 is not prime, it divides by 11\n",
            "100001 is not prime, it divides by 11\n",
            "100001 is not prime, it divides by 11\n",
            "100001 is not prime, it divides by 11\n",
            "100001 is not prime, it divides by 11\n",
            "100001 is not prime, it divides by 11\n",
            "100001 is not prime, it divides by 11\n",
            "100001 is not prime, it divides by 11\n",
            "100001 is not prime, it divides by 11\n",
            "100001 is not prime, it divides by 11\n",
            "100001 is not prime, it divides by 11\n",
            "100001 is not prime, it divides by 11\n",
            "100001 is not prime, it divides by 11\n",
            "100001 is not prime, it divides by 11\n",
            "100001 is not prime, it divides by 11\n",
            "100001 is not prime, it divides by 11\n",
            "100001 is not prime, it divides by 11\n",
            "100001 is not prime, it divides by 11\n",
            "100001 is not prime, it divides by 11\n",
            "100001 is not prime, it divides by 11\n",
            "100001 is not prime, it divides by 11\n",
            "100001 is not prime, it divides by 11\n",
            "100001 is not prime, it divides by 11\n",
            "100001 is not prime, it divides by 11\n",
            "100001 is not prime, it divides by 11\n",
            "100001 is not prime, it divides by 11\n",
            "100001 is not prime, it divides by 11\n",
            "100001 is not prime, it divides by 11\n",
            "100001 is not prime, it divides by 11\n",
            "100001 is not prime, it divides by 11\n",
            "100001 is not prime, it divides by 11\n",
            "100001 is not prime, it divides by 11\n",
            "100001 is not prime, it divides by 11\n",
            "100001 is not prime, it divides by 11\n",
            "100001 is not prime, it divides by 11\n",
            "100001 is not prime, it divides by 11\n",
            "100001 is not prime, it divides by 11\n",
            "100001 is not prime, it divides by 11\n",
            "100001 is not prime, it divides by 11\n",
            "100001 is not prime, it divides by 11\n",
            "100001 is not prime, it divides by 11\n",
            "100001 is not prime, it divides by 11\n",
            "100001 is not prime, it divides by 11\n",
            "100001 is not prime, it divides by 11\n",
            "100001 is not prime, it divides by 11\n",
            "100001 is not prime, it divides by 11\n",
            "100001 is not prime, it divides by 11\n",
            "100001 is not prime, it divides by 11\n",
            "100001 is not prime, it divides by 11\n",
            "100001 is not prime, it divides by 11\n",
            "100001 is not prime, it divides by 11\n",
            "100001 is not prime, it divides by 11\n",
            "100001 is not prime, it divides by 11\n",
            "100001 is not prime, it divides by 11\n",
            "100001 is not prime, it divides by 11\n",
            "100001 is not prime, it divides by 11\n",
            "100001 is not prime, it divides by 11\n",
            "100001 is not prime, it divides by 11\n",
            "100001 is not prime, it divides by 11\n",
            "100001 is not prime, it divides by 11\n",
            "100001 is not prime, it divides by 11\n",
            "100001 is not prime, it divides by 11\n",
            "100001 is not prime, it divides by 11\n",
            "100001 is not prime, it divides by 11\n",
            "100001 is not prime, it divides by 11\n",
            "100001 is not prime, it divides by 11\n",
            "100001 is not prime, it divides by 11\n",
            "100001 is not prime, it divides by 11\n",
            "100001 is not prime, it divides by 11\n",
            "100001 is not prime, it divides by 11\n",
            "100001 is not prime, it divides by 11\n",
            "100001 is not prime, it divides by 11\n",
            "100001 is not prime, it divides by 11\n",
            "100001 is not prime, it divides by 11\n",
            "100001 is not prime, it divides by 11\n",
            "100001 is not prime, it divides by 11\n",
            "100001 is not prime, it divides by 11\n",
            "100001 is not prime, it divides by 11\n",
            "100001 is not prime, it divides by 11\n",
            "100001 is not prime, it divides by 11\n",
            "100001 is not prime, it divides by 11\n",
            "100001 is not prime, it divides by 11\n",
            "100001 is not prime, it divides by 11\n",
            "100001 is not prime, it divides by 11\n",
            "100001 is not prime, it divides by 11\n",
            "100001 is not prime, it divides by 11\n",
            "100001 is not prime, it divides by 11\n",
            "100001 is not prime, it divides by 11\n",
            "100001 is not prime, it divides by 11\n",
            "100001 is not prime, it divides by 11\n",
            "100001 is not prime, it divides by 11\n",
            "100001 is not prime, it divides by 11\n",
            "100001 is not prime, it divides by 11\n",
            "100001 is not prime, it divides by 11\n",
            "100001 is not prime, it divides by 11\n",
            "100001 is not prime, it divides by 11\n",
            "100001 is not prime, it divides by 11\n",
            "100001 is not prime, it divides by 11\n",
            "100001 is not prime, it divides by 11\n",
            "100001 is not prime, it divides by 11\n",
            "100001 is not prime, it divides by 11\n",
            "100001 is not prime, it divides by 11\n",
            "100001 is not prime, it divides by 11\n",
            "100001 is not prime, it divides by 11\n",
            "100001 is not prime, it divides by 11\n",
            "100001 is not prime, it divides by 11\n",
            "100001 is not prime, it divides by 11\n",
            "100001 is not prime, it divides by 11\n",
            "100001 is not prime, it divides by 11\n",
            "100001 is not prime, it divides by 11\n",
            "100001 is not prime, it divides by 11\n",
            "100001 is not prime, it divides by 11\n",
            "100001 is not prime, it divides by 11\n",
            "100001 is not prime, it divides by 11\n",
            "100001 is not prime, it divides by 11\n",
            "100001 is not prime, it divides by 11\n",
            "100001 is not prime, it divides by 11\n",
            "100001 is not prime, it divides by 11\n",
            "100001 is not prime, it divides by 11\n",
            "100001 is not prime, it divides by 11\n",
            "100001 is not prime, it divides by 11\n",
            "100001 is not prime, it divides by 11\n",
            "100001 is not prime, it divides by 11\n",
            "100001 is not prime, it divides by 11\n",
            "100001 is not prime, it divides by 11\n",
            "100001 is not prime, it divides by 11\n",
            "100001 is not prime, it divides by 11\n",
            "100001 is not prime, it divides by 11\n",
            "100001 is not prime, it divides by 11\n",
            "100001 is not prime, it divides by 11\n",
            "100001 is not prime, it divides by 11\n",
            "100001 is not prime, it divides by 11\n",
            "100001 is not prime, it divides by 11\n",
            "100001 is not prime, it divides by 11\n",
            "100001 is not prime, it divides by 11\n",
            "100001 is not prime, it divides by 11\n",
            "100001 is not prime, it divides by 11\n",
            "100001 is not prime, it divides by 11\n",
            "100001 is not prime, it divides by 11\n",
            "100001 is not prime, it divides by 11\n",
            "100001 is not prime, it divides by 11\n",
            "100001 is not prime, it divides by 11\n",
            "100001 is not prime, it divides by 11\n",
            "100001 is not prime, it divides by 11\n",
            "100001 is not prime, it divides by 11\n",
            "100001 is not prime, it divides by 11\n",
            "100001 is not prime, it divides by 11\n",
            "100001 is not prime, it divides by 11\n",
            "100001 is not prime, it divides by 11\n",
            "100001 is not prime, it divides by 11\n",
            "100001 is not prime, it divides by 11\n",
            "100001 is not prime, it divides by 11\n",
            "100001 is not prime, it divides by 11\n",
            "100001 is not prime, it divides by 11\n",
            "100001 is not prime, it divides by 11\n",
            "100001 is not prime, it divides by 11\n",
            "100001 is not prime, it divides by 11\n",
            "100001 is not prime, it divides by 11\n",
            "100001 is not prime, it divides by 11\n",
            "100001 is not prime, it divides by 11\n",
            "100001 is not prime, it divides by 11\n",
            "100001 is not prime, it divides by 11\n",
            "100001 is not prime, it divides by 11\n",
            "100001 is not prime, it divides by 11\n",
            "100001 is not prime, it divides by 11\n",
            "100001 is not prime, it divides by 11\n",
            "100001 is not prime, it divides by 11\n",
            "100001 is not prime, it divides by 11\n",
            "100001 is not prime, it divides by 11\n",
            "100001 is not prime, it divides by 11\n",
            "100001 is not prime, it divides by 11\n",
            "100001 is not prime, it divides by 11\n",
            "100001 is not prime, it divides by 11\n",
            "100001 is not prime, it divides by 11\n",
            "100001 is not prime, it divides by 11\n",
            "100001 is not prime, it divides by 11\n",
            "100001 is not prime, it divides by 11\n",
            "100001 is not prime, it divides by 11\n",
            "100001 is not prime, it divides by 11\n",
            "100001 is not prime, it divides by 11\n",
            "100001 is not prime, it divides by 11\n",
            "100001 is not prime, it divides by 11\n",
            "100001 is not prime, it divides by 11\n",
            "100001 is not prime, it divides by 11\n",
            "100001 is not prime, it divides by 11\n",
            "100001 is not prime, it divides by 11\n",
            "100001 is not prime, it divides by 11\n",
            "100001 is not prime, it divides by 11\n",
            "100001 is not prime, it divides by 11\n",
            "100001 is not prime, it divides by 11\n",
            "100001 is not prime, it divides by 11\n",
            "100001 is not prime, it divides by 11\n",
            "100001 is not prime, it divides by 11\n",
            "100001 is not prime, it divides by 11\n",
            "100001 is not prime, it divides by 11\n",
            "100001 is not prime, it divides by 11\n",
            "100001 is not prime, it divides by 11\n",
            "100001 is not prime, it divides by 11\n",
            "100001 is not prime, it divides by 11\n",
            "100001 is not prime, it divides by 11\n",
            "100001 is not prime, it divides by 11\n",
            "100001 is not prime, it divides by 11\n",
            "100001 is not prime, it divides by 11\n",
            "100001 is not prime, it divides by 11\n",
            "100001 is not prime, it divides by 11\n",
            "100001 is not prime, it divides by 11\n",
            "100001 is not prime, it divides by 11\n",
            "100001 is not prime, it divides by 11\n",
            "100001 is not prime, it divides by 11\n",
            "100001 is not prime, it divides by 11\n",
            "100001 is not prime, it divides by 11\n",
            "100001 is not prime, it divides by 11\n",
            "100001 is not prime, it divides by 11\n",
            "100001 is not prime, it divides by 11\n",
            "100001 is not prime, it divides by 11\n",
            "100001 is not prime, it divides by 11\n",
            "100001 is not prime, it divides by 11\n",
            "100001 is not prime, it divides by 11\n",
            "100001 is not prime, it divides by 11\n",
            "100001 is not prime, it divides by 11\n",
            "100001 is not prime, it divides by 11\n",
            "100001 is not prime, it divides by 11\n",
            "100001 is not prime, it divides by 11\n",
            "100001 is not prime, it divides by 11\n",
            "100001 is not prime, it divides by 11\n",
            "100001 is not prime, it divides by 11\n",
            "100001 is not prime, it divides by 11\n",
            "100001 is not prime, it divides by 11\n",
            "100001 is not prime, it divides by 11\n",
            "100001 is not prime, it divides by 11\n",
            "100001 is not prime, it divides by 11\n",
            "100001 is not prime, it divides by 11\n",
            "100001 is not prime, it divides by 11\n",
            "100001 is not prime, it divides by 11\n",
            "100001 is not prime, it divides by 11\n",
            "100001 is not prime, it divides by 11\n",
            "100001 is not prime, it divides by 11\n",
            "100001 is not prime, it divides by 11\n",
            "100001 is not prime, it divides by 11\n",
            "100001 is not prime, it divides by 11\n",
            "100001 is not prime, it divides by 11\n",
            "100001 is not prime, it divides by 11\n",
            "100001 is not prime, it divides by 11\n",
            "100001 is not prime, it divides by 11\n",
            "100001 is not prime, it divides by 11\n",
            "100001 is not prime, it divides by 11\n",
            "100001 is not prime, it divides by 11\n",
            "100001 is not prime, it divides by 11\n",
            "100001 is not prime, it divides by 11\n",
            "100001 is not prime, it divides by 11\n",
            "100001 is not prime, it divides by 11\n",
            "100001 is not prime, it divides by 11\n",
            "100001 is not prime, it divides by 11\n",
            "100001 is not prime, it divides by 11\n",
            "100001 is not prime, it divides by 11\n",
            "100001 is not prime, it divides by 11\n",
            "100001 is not prime, it divides by 11\n",
            "100001 is not prime, it divides by 11\n",
            "100001 is not prime, it divides by 11\n",
            "100001 is not prime, it divides by 11\n",
            "100001 is not prime, it divides by 11\n",
            "100001 is not prime, it divides by 11\n",
            "100001 is not prime, it divides by 11\n",
            "100001 is not prime, it divides by 11\n",
            "100001 is not prime, it divides by 11\n",
            "100001 is not prime, it divides by 11\n",
            "100001 is not prime, it divides by 11\n",
            "100001 is not prime, it divides by 11\n",
            "100001 is not prime, it divides by 11\n",
            "100001 is not prime, it divides by 11\n",
            "100001 is not prime, it divides by 11\n",
            "100001 is not prime, it divides by 11\n",
            "100001 is not prime, it divides by 11\n",
            "100001 is not prime, it divides by 11\n",
            "100001 is not prime, it divides by 11\n",
            "100001 is not prime, it divides by 11\n",
            "100001 is not prime, it divides by 11\n",
            "100001 is not prime, it divides by 11\n",
            "100001 is not prime, it divides by 11\n",
            "100001 is not prime, it divides by 11\n",
            "100001 is not prime, it divides by 11\n",
            "100001 is not prime, it divides by 11\n",
            "100001 is not prime, it divides by 11\n",
            "100001 is not prime, it divides by 11\n",
            "100001 is not prime, it divides by 11\n",
            "100001 is not prime, it divides by 11\n",
            "100001 is not prime, it divides by 11\n",
            "100001 is not prime, it divides by 11\n",
            "100001 is not prime, it divides by 11\n",
            "100001 is not prime, it divides by 11\n",
            "100001 is not prime, it divides by 11\n",
            "100001 is not prime, it divides by 11\n",
            "100001 is not prime, it divides by 11\n",
            "100001 is not prime, it divides by 11\n",
            "100001 is not prime, it divides by 11\n",
            "100001 is not prime, it divides by 11\n",
            "100001 is not prime, it divides by 11\n",
            "100001 is not prime, it divides by 11\n",
            "100001 is not prime, it divides by 11\n",
            "100001 is not prime, it divides by 11\n",
            "100001 is not prime, it divides by 11\n",
            "100001 is not prime, it divides by 11\n",
            "100001 is not prime, it divides by 11\n",
            "100001 is not prime, it divides by 11\n",
            "100001 is not prime, it divides by 11\n",
            "100001 is not prime, it divides by 11\n",
            "100001 is not prime, it divides by 11\n",
            "100001 is not prime, it divides by 11\n",
            "100001 is not prime, it divides by 11\n",
            "100001 is not prime, it divides by 11\n",
            "100001 is not prime, it divides by 11\n",
            "100001 is not prime, it divides by 11\n",
            "100001 is not prime, it divides by 11\n",
            "100001 is not prime, it divides by 11\n",
            "100001 is not prime, it divides by 11\n",
            "100001 is not prime, it divides by 11\n",
            "100001 is not prime, it divides by 11\n",
            "100001 is not prime, it divides by 11\n",
            "100001 is not prime, it divides by 11\n",
            "100001 is not prime, it divides by 11\n",
            "100001 is not prime, it divides by 11\n",
            "100001 is not prime, it divides by 11\n",
            "100001 is not prime, it divides by 11\n",
            "100001 is not prime, it divides by 11\n",
            "100001 is not prime, it divides by 11\n",
            "100001 is not prime, it divides by 11\n",
            "100001 is not prime, it divides by 11\n",
            "100001 is not prime, it divides by 11\n",
            "100001 is not prime, it divides by 11\n",
            "100001 is not prime, it divides by 11\n",
            "100001 is not prime, it divides by 11\n",
            "100001 is not prime, it divides by 11\n",
            "100001 is not prime, it divides by 11\n",
            "100001 is not prime, it divides by 11\n",
            "100001 is not prime, it divides by 11\n",
            "100001 is not prime, it divides by 11\n",
            "100001 is not prime, it divides by 11\n",
            "100001 is not prime, it divides by 11\n",
            "100001 is not prime, it divides by 11\n",
            "100001 is not prime, it divides by 11\n",
            "100001 is not prime, it divides by 11\n",
            "100001 is not prime, it divides by 11\n",
            "100001 is not prime, it divides by 11\n",
            "100001 is not prime, it divides by 11\n",
            "100001 is not prime, it divides by 11\n",
            "100001 is not prime, it divides by 11\n",
            "100001 is not prime, it divides by 11\n",
            "100001 is not prime, it divides by 11\n",
            "100001 is not prime, it divides by 11\n",
            "100001 is not prime, it divides by 11\n",
            "100001 is not prime, it divides by 11\n",
            "100001 is not prime, it divides by 11\n",
            "100001 is not prime, it divides by 11\n",
            "100001 is not prime, it divides by 11\n",
            "100001 is not prime, it divides by 11\n",
            "100001 is not prime, it divides by 11\n",
            "100001 is not prime, it divides by 11\n",
            "100001 is not prime, it divides by 11\n",
            "100001 is not prime, it divides by 11\n",
            "100001 is not prime, it divides by 11\n",
            "100001 is not prime, it divides by 11\n",
            "100001 is not prime, it divides by 11\n",
            "100001 is not prime, it divides by 11\n",
            "100001 is not prime, it divides by 11\n",
            "100001 is not prime, it divides by 11\n",
            "100001 is not prime, it divides by 11\n",
            "100001 is not prime, it divides by 11\n",
            "100001 is not prime, it divides by 11\n",
            "100001 is not prime, it divides by 11\n",
            "100001 is not prime, it divides by 11\n",
            "100001 is not prime, it divides by 11\n",
            "100001 is not prime, it divides by 11\n",
            "100001 is not prime, it divides by 11\n",
            "100001 is not prime, it divides by 11\n",
            "100001 is not prime, it divides by 11\n",
            "100001 is not prime, it divides by 11\n",
            "100001 is not prime, it divides by 11\n",
            "100001 is not prime, it divides by 11\n",
            "100001 is not prime, it divides by 11\n",
            "100001 is not prime, it divides by 11\n",
            "100001 is not prime, it divides by 11\n",
            "100001 is not prime, it divides by 11\n",
            "100001 is not prime, it divides by 11\n",
            "100001 is not prime, it divides by 11\n",
            "100001 is not prime, it divides by 11\n",
            "100001 is not prime, it divides by 11\n",
            "100001 is not prime, it divides by 11\n",
            "100001 is not prime, it divides by 11\n",
            "100001 is not prime, it divides by 11\n",
            "100001 is not prime, it divides by 11\n",
            "100001 is not prime, it divides by 11\n",
            "100001 is not prime, it divides by 11\n",
            "100001 is not prime, it divides by 11\n",
            "100001 is not prime, it divides by 11\n",
            "100001 is not prime, it divides by 11\n",
            "100001 is not prime, it divides by 11\n",
            "100001 is not prime, it divides by 11\n",
            "100001 is not prime, it divides by 11\n",
            "100001 is not prime, it divides by 11\n",
            "100001 is not prime, it divides by 11\n",
            "100001 is not prime, it divides by 11\n",
            "100001 is not prime, it divides by 11\n",
            "100001 is not prime, it divides by 11\n",
            "100001 is not prime, it divides by 11\n",
            "100001 is not prime, it divides by 11\n",
            "100001 is not prime, it divides by 11\n",
            "100001 is not prime, it divides by 11\n",
            "100001 is not prime, it divides by 11\n",
            "100001 is not prime, it divides by 11\n",
            "100001 is not prime, it divides by 11\n",
            "100001 is not prime, it divides by 11\n",
            "100001 is not prime, it divides by 11\n",
            "100001 is not prime, it divides by 11\n",
            "100001 is not prime, it divides by 11\n",
            "100001 is not prime, it divides by 11\n",
            "100001 is not prime, it divides by 11\n",
            "100001 is not prime, it divides by 11\n",
            "100001 is not prime, it divides by 11\n",
            "100001 is not prime, it divides by 11\n",
            "100001 is not prime, it divides by 11\n",
            "100001 is not prime, it divides by 11\n",
            "100001 is not prime, it divides by 11\n",
            "100001 is not prime, it divides by 11\n",
            "100001 is not prime, it divides by 11\n",
            "100001 is not prime, it divides by 11\n",
            "100001 is not prime, it divides by 11\n",
            "100001 is not prime, it divides by 11\n",
            "100001 is not prime, it divides by 11\n",
            "100001 is not prime, it divides by 11\n",
            "100001 is not prime, it divides by 11\n",
            "100001 is not prime, it divides by 11\n",
            "100001 is not prime, it divides by 11\n",
            "100001 is not prime, it divides by 11\n",
            "100001 is not prime, it divides by 11\n",
            "100001 is not prime, it divides by 11\n",
            "100001 is not prime, it divides by 11\n",
            "100001 is not prime, it divides by 11\n",
            "100001 is not prime, it divides by 11\n",
            "100001 is not prime, it divides by 11\n",
            "100001 is not prime, it divides by 11\n",
            "100001 is not prime, it divides by 11\n",
            "100001 is not prime, it divides by 11\n",
            "100001 is not prime, it divides by 11\n",
            "100001 is not prime, it divides by 11\n",
            "100001 is not prime, it divides by 11\n",
            "100001 is not prime, it divides by 11\n",
            "100001 is not prime, it divides by 11\n",
            "100001 is not prime, it divides by 11\n",
            "100001 is not prime, it divides by 11\n",
            "100001 is not prime, it divides by 11\n",
            "100001 is not prime, it divides by 11\n",
            "100001 is not prime, it divides by 11\n",
            "100001 is not prime, it divides by 11\n",
            "100001 is not prime, it divides by 11\n",
            "100001 is not prime, it divides by 11\n",
            "100001 is not prime, it divides by 11\n",
            "100001 is not prime, it divides by 11\n",
            "100001 is not prime, it divides by 11\n",
            "100001 is not prime, it divides by 11\n",
            "100001 is not prime, it divides by 11\n",
            "100001 is not prime, it divides by 11\n",
            "100001 is not prime, it divides by 11\n",
            "100001 is not prime, it divides by 11\n",
            "100001 is not prime, it divides by 11\n",
            "100001 is not prime, it divides by 11\n",
            "100001 is not prime, it divides by 11\n",
            "100001 is not prime, it divides by 11\n",
            "100001 is not prime, it divides by 11\n",
            "100001 is not prime, it divides by 11\n",
            "100001 is not prime, it divides by 11\n",
            "100001 is not prime, it divides by 11\n",
            "100001 is not prime, it divides by 11\n",
            "100001 is not prime, it divides by 11\n",
            "100001 is not prime, it divides by 11\n",
            "100001 is not prime, it divides by 11\n",
            "100001 is not prime, it divides by 11\n",
            "100001 is not prime, it divides by 11\n",
            "100001 is not prime, it divides by 11\n",
            "100001 is not prime, it divides by 11\n",
            "100001 is not prime, it divides by 11\n",
            "100001 is not prime, it divides by 11\n",
            "100001 is not prime, it divides by 11\n",
            "100001 is not prime, it divides by 11\n",
            "100001 is not prime, it divides by 11\n",
            "100001 is not prime, it divides by 11\n",
            "100001 is not prime, it divides by 11\n",
            "100001 is not prime, it divides by 11\n",
            "100001 is not prime, it divides by 11\n",
            "100001 is not prime, it divides by 11\n",
            "100001 is not prime, it divides by 11\n",
            "100001 is not prime, it divides by 11\n",
            "100001 is not prime, it divides by 11\n",
            "100001 is not prime, it divides by 11\n",
            "100001 is not prime, it divides by 11\n",
            "100001 is not prime, it divides by 11\n",
            "100001 is not prime, it divides by 11\n",
            "100001 is not prime, it divides by 11\n",
            "100001 is not prime, it divides by 11\n",
            "100001 is not prime, it divides by 11\n",
            "100001 is not prime, it divides by 11\n",
            "100001 is not prime, it divides by 11\n",
            "100001 is not prime, it divides by 11\n",
            "100001 is not prime, it divides by 11\n",
            "100001 is not prime, it divides by 11\n",
            "100001 is not prime, it divides by 11\n",
            "100001 is not prime, it divides by 11\n",
            "100001 is not prime, it divides by 11\n",
            "100001 is not prime, it divides by 11\n",
            "100001 is not prime, it divides by 11\n",
            "100001 is not prime, it divides by 11\n",
            "100001 is not prime, it divides by 11\n",
            "100001 is not prime, it divides by 11\n",
            "100001 is not prime, it divides by 11\n",
            "100001 is not prime, it divides by 11\n",
            "100001 is not prime, it divides by 11\n",
            "100001 is not prime, it divides by 11\n",
            "100001 is not prime, it divides by 11\n",
            "100001 is not prime, it divides by 11\n",
            "100001 is not prime, it divides by 11\n",
            "100001 is not prime, it divides by 11\n",
            "100001 is not prime, it divides by 11\n",
            "100001 is not prime, it divides by 11\n",
            "100001 is not prime, it divides by 11\n",
            "100001 is not prime, it divides by 11\n",
            "100001 is not prime, it divides by 11\n",
            "100001 is not prime, it divides by 11\n",
            "100001 is not prime, it divides by 11\n",
            "100001 is not prime, it divides by 11\n",
            "100001 is not prime, it divides by 11\n",
            "100001 is not prime, it divides by 11\n",
            "100001 is not prime, it divides by 11\n",
            "100001 is not prime, it divides by 11\n",
            "100001 is not prime, it divides by 11\n",
            "100001 is not prime, it divides by 11\n",
            "100001 is not prime, it divides by 11\n",
            "100001 is not prime, it divides by 11\n",
            "100001 is not prime, it divides by 11\n",
            "100001 is not prime, it divides by 11\n",
            "100001 is not prime, it divides by 11\n",
            "100001 is not prime, it divides by 11\n",
            "100001 is not prime, it divides by 11\n",
            "100001 is not prime, it divides by 11\n",
            "100001 is not prime, it divides by 11\n",
            "100001 is not prime, it divides by 11\n",
            "100001 is not prime, it divides by 11\n",
            "100001 is not prime, it divides by 11\n",
            "100001 is not prime, it divides by 11\n",
            "100001 is not prime, it divides by 11\n",
            "100001 is not prime, it divides by 11\n",
            "100001 is not prime, it divides by 11\n",
            "100001 is not prime, it divides by 11\n",
            "100001 is not prime, it divides by 11\n",
            "100001 is not prime, it divides by 11\n",
            "100001 is not prime, it divides by 11\n",
            "100001 is not prime, it divides by 11\n",
            "100001 is not prime, it divides by 11\n",
            "100001 is not prime, it divides by 11\n",
            "100001 is not prime, it divides by 11\n",
            "100001 is not prime, it divides by 11\n",
            "100001 is not prime, it divides by 11\n",
            "100001 is not prime, it divides by 11\n",
            "100001 is not prime, it divides by 11\n",
            "100001 is not prime, it divides by 11\n",
            "100001 is not prime, it divides by 11\n",
            "100001 is not prime, it divides by 11\n",
            "100001 is not prime, it divides by 11\n",
            "100001 is not prime, it divides by 11\n",
            "100001 is not prime, it divides by 11\n",
            "100001 is not prime, it divides by 11\n",
            "100001 is not prime, it divides by 11\n",
            "100001 is not prime, it divides by 11\n",
            "100001 is not prime, it divides by 11\n",
            "100001 is not prime, it divides by 11\n",
            "100001 is not prime, it divides by 11\n",
            "100001 is not prime, it divides by 11\n",
            "100001 is not prime, it divides by 11\n",
            "100001 is not prime, it divides by 11\n",
            "100001 is not prime, it divides by 11\n",
            "100001 is not prime, it divides by 11\n",
            "100001 is not prime, it divides by 11\n",
            "100001 is not prime, it divides by 11\n",
            "100001 is not prime, it divides by 11\n",
            "100001 is not prime, it divides by 11\n",
            "100001 is not prime, it divides by 11\n",
            "100001 is not prime, it divides by 11\n",
            "100001 is not prime, it divides by 11\n",
            "100001 is not prime, it divides by 11\n",
            "100001 is not prime, it divides by 11\n",
            "100001 is not prime, it divides by 11\n",
            "100001 is not prime, it divides by 11\n",
            "100001 is not prime, it divides by 11\n",
            "100001 is not prime, it divides by 11\n",
            "100001 is not prime, it divides by 11\n",
            "100001 is not prime, it divides by 11\n",
            "100001 is not prime, it divides by 11\n",
            "100001 is not prime, it divides by 11\n",
            "100001 is not prime, it divides by 11\n",
            "100001 is not prime, it divides by 11\n",
            "100001 is not prime, it divides by 11\n",
            "100001 is not prime, it divides by 11\n",
            "100001 is not prime, it divides by 11\n",
            "100001 is not prime, it divides by 11\n",
            "100001 is not prime, it divides by 11\n",
            "100001 is not prime, it divides by 11\n",
            "100001 is not prime, it divides by 11\n",
            "100001 is not prime, it divides by 11\n",
            "100001 is not prime, it divides by 11\n",
            "100001 is not prime, it divides by 11\n",
            "100001 is not prime, it divides by 11\n",
            "100001 is not prime, it divides by 11\n",
            "100001 is not prime, it divides by 11\n",
            "100001 is not prime, it divides by 11\n",
            "100001 is not prime, it divides by 11\n",
            "100001 is not prime, it divides by 11\n",
            "100001 is not prime, it divides by 11\n",
            "100001 is not prime, it divides by 11\n",
            "100001 is not prime, it divides by 11\n",
            "100001 is not prime, it divides by 11\n",
            "100001 is not prime, it divides by 11\n",
            "100001 is not prime, it divides by 11\n",
            "100001 is not prime, it divides by 11\n",
            "100001 is not prime, it divides by 11\n",
            "100001 is not prime, it divides by 11\n",
            "100001 is not prime, it divides by 11\n",
            "100001 is not prime, it divides by 11\n",
            "100001 is not prime, it divides by 11\n",
            "100001 is not prime, it divides by 11\n",
            "100001 is not prime, it divides by 11\n",
            "100001 is not prime, it divides by 11\n",
            "100001 is not prime, it divides by 11\n",
            "100001 is not prime, it divides by 11\n",
            "100001 is not prime, it divides by 11\n",
            "100001 is not prime, it divides by 11\n",
            "100001 is not prime, it divides by 11\n",
            "100001 is not prime, it divides by 11\n",
            "100001 is not prime, it divides by 11\n",
            "100001 is not prime, it divides by 11\n",
            "100001 is not prime, it divides by 11\n",
            "100001 is not prime, it divides by 11\n",
            "100001 is not prime, it divides by 11\n",
            "100001 is not prime, it divides by 11\n",
            "100001 is not prime, it divides by 11\n",
            "100001 is not prime, it divides by 11\n",
            "100001 is not prime, it divides by 11\n",
            "100001 is not prime, it divides by 11\n",
            "100001 is not prime, it divides by 11\n",
            "100001 is not prime, it divides by 11\n",
            "100001 is not prime, it divides by 11\n",
            "100001 is not prime, it divides by 11\n",
            "100001 is not prime, it divides by 11\n",
            "100001 is not prime, it divides by 11\n",
            "100001 is not prime, it divides by 11\n",
            "100001 is not prime, it divides by 11\n",
            "100001 is not prime, it divides by 11\n",
            "100001 is not prime, it divides by 11\n",
            "100001 is not prime, it divides by 11\n",
            "100001 is not prime, it divides by 11\n",
            "100001 is not prime, it divides by 11\n",
            "100001 is not prime, it divides by 11\n",
            "100001 is not prime, it divides by 11\n",
            "100001 is not prime, it divides by 11\n",
            "100001 is not prime, it divides by 11\n",
            "100001 is not prime, it divides by 11\n",
            "100001 is not prime, it divides by 11\n",
            "100001 is not prime, it divides by 11\n",
            "100001 is not prime, it divides by 11\n",
            "100001 is not prime, it divides by 11\n",
            "100001 is not prime, it divides by 11\n",
            "100001 is not prime, it divides by 11\n",
            "100001 is not prime, it divides by 11\n",
            "100001 is not prime, it divides by 11\n",
            "100001 is not prime, it divides by 11\n",
            "100001 is not prime, it divides by 11\n",
            "100001 is not prime, it divides by 11\n",
            "100001 is not prime, it divides by 11\n",
            "100001 is not prime, it divides by 11\n",
            "100001 is not prime, it divides by 11\n",
            "100001 is not prime, it divides by 11\n",
            "100001 is not prime, it divides by 11\n",
            "100001 is not prime, it divides by 11\n",
            "100001 is not prime, it divides by 11\n",
            "100001 is not prime, it divides by 11\n",
            "100001 is not prime, it divides by 11\n",
            "100001 is not prime, it divides by 11\n",
            "100001 is not prime, it divides by 11\n",
            "100001 is not prime, it divides by 11\n",
            "100001 is not prime, it divides by 11\n",
            "100001 is not prime, it divides by 11\n",
            "100001 is not prime, it divides by 11\n",
            "100001 is not prime, it divides by 11\n",
            "100001 is not prime, it divides by 11\n",
            "100001 is not prime, it divides by 11\n",
            "100001 is not prime, it divides by 11\n",
            "100001 is not prime, it divides by 11\n",
            "100001 is not prime, it divides by 11\n",
            "100001 is not prime, it divides by 11\n",
            "100001 is not prime, it divides by 11\n",
            "100001 is not prime, it divides by 11\n",
            "100001 is not prime, it divides by 11\n",
            "100001 is not prime, it divides by 11\n",
            "100001 is not prime, it divides by 11\n",
            "100001 is not prime, it divides by 11\n",
            "100001 is not prime, it divides by 11\n",
            "100001 is not prime, it divides by 11\n",
            "100001 is not prime, it divides by 11\n",
            "100001 is not prime, it divides by 11\n",
            "100001 is not prime, it divides by 11\n",
            "100001 is not prime, it divides by 11\n",
            "100001 is not prime, it divides by 11\n",
            "100001 is not prime, it divides by 11\n",
            "100001 is not prime, it divides by 11\n",
            "100001 is not prime, it divides by 11\n",
            "100001 is not prime, it divides by 11\n",
            "100001 is not prime, it divides by 11\n",
            "100001 is not prime, it divides by 11\n",
            "100001 is not prime, it divides by 11\n",
            "100001 is not prime, it divides by 11\n",
            "100001 is not prime, it divides by 11\n",
            "100001 is not prime, it divides by 11\n",
            "100001 is not prime, it divides by 11\n",
            "100001 is not prime, it divides by 11\n",
            "100001 is not prime, it divides by 11\n",
            "100001 is not prime, it divides by 11\n",
            "100001 is not prime, it divides by 11\n",
            "100001 is not prime, it divides by 11\n",
            "100001 is not prime, it divides by 11\n",
            "100001 is not prime, it divides by 11\n",
            "100001 is not prime, it divides by 11\n",
            "100001 is not prime, it divides by 11\n",
            "100001 is not prime, it divides by 11\n",
            "100001 is not prime, it divides by 11\n",
            "100001 is not prime, it divides by 11\n",
            "100001 is not prime, it divides by 11\n",
            "100001 is not prime, it divides by 11\n",
            "100001 is not prime, it divides by 11\n",
            "100001 is not prime, it divides by 11\n",
            "100001 is not prime, it divides by 11\n",
            "100001 is not prime, it divides by 11\n",
            "100001 is not prime, it divides by 11\n",
            "100001 is not prime, it divides by 11\n",
            "100001 is not prime, it divides by 11\n",
            "100001 is not prime, it divides by 11\n",
            "100001 is not prime, it divides by 11\n",
            "100001 is not prime, it divides by 11\n",
            "100001 is not prime, it divides by 11\n",
            "100001 is not prime, it divides by 11\n",
            "100001 is not prime, it divides by 11\n",
            "100001 is not prime, it divides by 11\n",
            "100001 is not prime, it divides by 11\n",
            "100001 is not prime, it divides by 11\n",
            "100001 is not prime, it divides by 11\n",
            "100001 is not prime, it divides by 11\n",
            "100001 is not prime, it divides by 11\n",
            "100001 is not prime, it divides by 11\n",
            "100001 is not prime, it divides by 11\n",
            "100001 is not prime, it divides by 11\n",
            "100001 is not prime, it divides by 11\n",
            "100001 is not prime, it divides by 11\n",
            "100001 is not prime, it divides by 11\n",
            "100001 is not prime, it divides by 11\n",
            "100001 is not prime, it divides by 11\n",
            "100001 is not prime, it divides by 11\n",
            "100001 is not prime, it divides by 11\n",
            "100001 is not prime, it divides by 11\n",
            "100001 is not prime, it divides by 11\n",
            "100001 is not prime, it divides by 11\n",
            "100001 is not prime, it divides by 11\n",
            "100001 is not prime, it divides by 11\n",
            "100001 is not prime, it divides by 11\n",
            "100001 is not prime, it divides by 11\n",
            "100001 is not prime, it divides by 11\n",
            "100001 is not prime, it divides by 11\n",
            "100001 is not prime, it divides by 11\n",
            "100001 is not prime, it divides by 11\n",
            "100001 is not prime, it divides by 11\n",
            "100001 is not prime, it divides by 11\n",
            "100001 is not prime, it divides by 11\n",
            "100001 is not prime, it divides by 11\n",
            "100001 is not prime, it divides by 11\n",
            "100001 is not prime, it divides by 11\n",
            "100001 is not prime, it divides by 11\n",
            "100001 is not prime, it divides by 11\n",
            "100001 is not prime, it divides by 11\n",
            "100001 is not prime, it divides by 11\n",
            "100001 is not prime, it divides by 11\n",
            "100001 is not prime, it divides by 11\n",
            "100001 is not prime, it divides by 11\n",
            "100001 is not prime, it divides by 11\n",
            "100001 is not prime, it divides by 11\n",
            "100001 is not prime, it divides by 11\n",
            "100001 is not prime, it divides by 11\n",
            "100001 is not prime, it divides by 11\n",
            "100001 is not prime, it divides by 11\n",
            "100001 is not prime, it divides by 11\n",
            "100001 is not prime, it divides by 11\n",
            "100001 is not prime, it divides by 11\n",
            "100001 is not prime, it divides by 11\n",
            "100001 is not prime, it divides by 11\n",
            "100001 is not prime, it divides by 11\n",
            "100001 is not prime, it divides by 11\n",
            "100001 is not prime, it divides by 11\n",
            "100001 is not prime, it divides by 11\n",
            "100001 is not prime, it divides by 11\n",
            "100001 is not prime, it divides by 11\n",
            "100001 is not prime, it divides by 11\n",
            "100001 is not prime, it divides by 11\n",
            "100001 is not prime, it divides by 11\n",
            "100001 is not prime, it divides by 11\n",
            "100001 is not prime, it divides by 11\n",
            "100001 is not prime, it divides by 11\n",
            "100001 is not prime, it divides by 11\n",
            "100001 is not prime, it divides by 11\n",
            "100001 is not prime, it divides by 11\n",
            "100001 is not prime, it divides by 11\n",
            "100001 is not prime, it divides by 11\n",
            "100001 is not prime, it divides by 11\n",
            "100001 is not prime, it divides by 11\n",
            "100001 is not prime, it divides by 11\n",
            "100001 is not prime, it divides by 11\n",
            "100001 is not prime, it divides by 11\n",
            "100001 is not prime, it divides by 11\n",
            "100001 is not prime, it divides by 11\n",
            "100001 is not prime, it divides by 11\n",
            "100001 is not prime, it divides by 11\n",
            "100001 is not prime, it divides by 11\n",
            "100001 is not prime, it divides by 11\n",
            "100001 is not prime, it divides by 11\n",
            "100001 is not prime, it divides by 11\n",
            "100001 is not prime, it divides by 11\n",
            "100001 is not prime, it divides by 11\n",
            "100001 is not prime, it divides by 11\n",
            "100001 is not prime, it divides by 11\n",
            "100001 is not prime, it divides by 11\n",
            "100001 is not prime, it divides by 11\n",
            "100001 is not prime, it divides by 11\n",
            "100001 is not prime, it divides by 11\n",
            "100001 is not prime, it divides by 11\n",
            "100001 is not prime, it divides by 11\n",
            "100001 is not prime, it divides by 11\n",
            "100001 is not prime, it divides by 11\n",
            "100001 is not prime, it divides by 11\n",
            "100001 is not prime, it divides by 11\n",
            "100001 is not prime, it divides by 11\n",
            "100001 is not prime, it divides by 11\n",
            "100001 is not prime, it divides by 11\n",
            "100001 is not prime, it divides by 11\n",
            "100001 is not prime, it divides by 11\n",
            "100001 is not prime, it divides by 11\n",
            "100001 is not prime, it divides by 11\n",
            "100001 is not prime, it divides by 11\n",
            "100001 is not prime, it divides by 11\n",
            "100001 is not prime, it divides by 11\n",
            "100001 is not prime, it divides by 11\n",
            "100001 is not prime, it divides by 11\n",
            "100001 is not prime, it divides by 11\n",
            "100001 is not prime, it divides by 11\n",
            "100001 is not prime, it divides by 11\n",
            "100001 is not prime, it divides by 11\n",
            "100001 is not prime, it divides by 11\n",
            "100001 is not prime, it divides by 11\n",
            "100001 is not prime, it divides by 11\n",
            "100001 is not prime, it divides by 11\n",
            "100001 is not prime, it divides by 11\n",
            "100001 is not prime, it divides by 11\n",
            "100001 is not prime, it divides by 11\n",
            "100001 is not prime, it divides by 11\n",
            "100001 is not prime, it divides by 11\n",
            "100001 is not prime, it divides by 11\n",
            "100001 is not prime, it divides by 11\n",
            "100001 is not prime, it divides by 11\n",
            "100001 is not prime, it divides by 11\n",
            "100001 is not prime, it divides by 11\n",
            "100001 is not prime, it divides by 11\n",
            "100001 is not prime, it divides by 11\n",
            "100001 is not prime, it divides by 11\n",
            "100001 is not prime, it divides by 11\n",
            "100001 is not prime, it divides by 11\n",
            "100001 is not prime, it divides by 11\n",
            "100001 is not prime, it divides by 11\n",
            "100001 is not prime, it divides by 11\n",
            "100001 is not prime, it divides by 11\n",
            "100001 is not prime, it divides by 11\n",
            "100001 is not prime, it divides by 11\n",
            "100001 is not prime, it divides by 11\n",
            "100001 is not prime, it divides by 11\n",
            "100001 is not prime, it divides by 11\n",
            "100001 is not prime, it divides by 11\n",
            "100001 is not prime, it divides by 11\n",
            "100001 is not prime, it divides by 11\n",
            "100001 is not prime, it divides by 11\n",
            "100001 is not prime, it divides by 11\n",
            "100001 is not prime, it divides by 11\n",
            "100001 is not prime, it divides by 11\n",
            "100001 is not prime, it divides by 11\n",
            "100001 is not prime, it divides by 11\n",
            "100001 is not prime, it divides by 11\n",
            "100001 is not prime, it divides by 11\n",
            "100001 is not prime, it divides by 11\n",
            "100001 is not prime, it divides by 11\n",
            "100001 is not prime, it divides by 11\n",
            "100001 is not prime, it divides by 11\n",
            "100001 is not prime, it divides by 11\n",
            "100001 is not prime, it divides by 11\n",
            "100001 is not prime, it divides by 11\n",
            "100001 is not prime, it divides by 11\n",
            "100001 is not prime, it divides by 11\n",
            "100001 is not prime, it divides by 11\n",
            "100001 is not prime, it divides by 11\n",
            "100001 is not prime, it divides by 11\n",
            "100001 is not prime, it divides by 11\n",
            "100001 is not prime, it divides by 11\n",
            "100001 is not prime, it divides by 11\n",
            "100001 is not prime, it divides by 11\n",
            "100001 is not prime, it divides by 11\n",
            "100001 is not prime, it divides by 11\n",
            "100001 is not prime, it divides by 11\n",
            "100001 is not prime, it divides by 11\n",
            "100001 is not prime, it divides by 11\n",
            "100001 is not prime, it divides by 11\n",
            "100001 is not prime, it divides by 11\n",
            "100001 is not prime, it divides by 11\n",
            "100001 is not prime, it divides by 11\n",
            "100001 is not prime, it divides by 11\n",
            "100001 is not prime, it divides by 11\n",
            "100001 is not prime, it divides by 11\n",
            "100001 is not prime, it divides by 11\n",
            "100001 is not prime, it divides by 11\n",
            "100001 is not prime, it divides by 11\n",
            "100001 is not prime, it divides by 11\n",
            "100001 is not prime, it divides by 11\n",
            "100001 is not prime, it divides by 11\n",
            "100001 is not prime, it divides by 11\n",
            "100001 is not prime, it divides by 11\n",
            "100001 is not prime, it divides by 11\n",
            "100001 is not prime, it divides by 11\n",
            "100001 is not prime, it divides by 11\n",
            "100001 is not prime, it divides by 11\n",
            "100001 is not prime, it divides by 11\n",
            "100001 is not prime, it divides by 11\n",
            "100001 is not prime, it divides by 11\n",
            "100001 is not prime, it divides by 11\n",
            "100001 is not prime, it divides by 11\n",
            "100001 is not prime, it divides by 11\n",
            "100001 is not prime, it divides by 11\n",
            "100001 is not prime, it divides by 11\n",
            "100001 is not prime, it divides by 11\n",
            "100001 is not prime, it divides by 11\n",
            "100001 is not prime, it divides by 11\n",
            "100001 is not prime, it divides by 11\n",
            "100001 is not prime, it divides by 11\n",
            "100001 is not prime, it divides by 11\n",
            "100001 is not prime, it divides by 11\n",
            "100001 is not prime, it divides by 11\n",
            "100001 is not prime, it divides by 11\n",
            "100001 is not prime, it divides by 11\n",
            "100001 is not prime, it divides by 11\n",
            "100001 is not prime, it divides by 11\n",
            "100001 is not prime, it divides by 11\n",
            "100001 is not prime, it divides by 11\n",
            "100001 is not prime, it divides by 11\n",
            "100001 is not prime, it divides by 11\n",
            "100001 is not prime, it divides by 11\n",
            "100001 is not prime, it divides by 11\n",
            "100001 is not prime, it divides by 11\n",
            "100001 is not prime, it divides by 11\n",
            "100001 is not prime, it divides by 11\n",
            "100001 is not prime, it divides by 11\n",
            "100001 is not prime, it divides by 11\n",
            "100001 is not prime, it divides by 11\n",
            "100001 is not prime, it divides by 11\n",
            "100001 is not prime, it divides by 11\n",
            "100001 is not prime, it divides by 11\n",
            "100001 is not prime, it divides by 11\n",
            "100001 is not prime, it divides by 11\n",
            "100001 is not prime, it divides by 11\n",
            "100001 is not prime, it divides by 11\n",
            "100001 is not prime, it divides by 11\n",
            "100001 is not prime, it divides by 11\n",
            "100001 is not prime, it divides by 11\n",
            "100001 is not prime, it divides by 11\n",
            "100001 is not prime, it divides by 11\n",
            "100001 is not prime, it divides by 11\n",
            "100001 is not prime, it divides by 11\n",
            "100001 is not prime, it divides by 11\n",
            "100001 is not prime, it divides by 11\n",
            "100001 is not prime, it divides by 11\n",
            "100001 is not prime, it divides by 11\n",
            "100001 is not prime, it divides by 11\n",
            "100001 is not prime, it divides by 11\n",
            "100001 is not prime, it divides by 11\n",
            "100001 is not prime, it divides by 11\n",
            "100001 is not prime, it divides by 11\n",
            "100001 is not prime, it divides by 11\n",
            "100001 is not prime, it divides by 11\n",
            "100001 is not prime, it divides by 11\n",
            "100001 is not prime, it divides by 11\n",
            "100001 is not prime, it divides by 11\n",
            "100001 is not prime, it divides by 11\n",
            "100001 is not prime, it divides by 11\n",
            "100001 is not prime, it divides by 11\n",
            "100001 is not prime, it divides by 11\n",
            "100001 is not prime, it divides by 11\n",
            "100001 is not prime, it divides by 11\n",
            "100001 is not prime, it divides by 11\n",
            "100001 is not prime, it divides by 11\n",
            "100001 is not prime, it divides by 11\n",
            "100001 is not prime, it divides by 11\n",
            "100001 is not prime, it divides by 11\n",
            "100001 is not prime, it divides by 11\n",
            "100001 is not prime, it divides by 11\n",
            "100001 is not prime, it divides by 11\n",
            "100001 is not prime, it divides by 11\n",
            "100001 is not prime, it divides by 11\n",
            "100001 is not prime, it divides by 11\n",
            "100001 is not prime, it divides by 11\n",
            "100001 is not prime, it divides by 11\n",
            "100001 is not prime, it divides by 11\n",
            "100001 is not prime, it divides by 11\n",
            "100001 is not prime, it divides by 11\n",
            "100001 is not prime, it divides by 11\n",
            "100001 is not prime, it divides by 11\n",
            "100001 is not prime, it divides by 11\n",
            "100001 is not prime, it divides by 11\n",
            "100001 is not prime, it divides by 11\n",
            "100001 is not prime, it divides by 11\n",
            "100001 is not prime, it divides by 11\n",
            "100001 is not prime, it divides by 11\n",
            "100001 is not prime, it divides by 11\n",
            "100001 is not prime, it divides by 11\n",
            "100001 is not prime, it divides by 11\n",
            "100001 is not prime, it divides by 11\n",
            "100001 is not prime, it divides by 11\n",
            "100001 is not prime, it divides by 11\n",
            "100001 is not prime, it divides by 11\n",
            "100001 is not prime, it divides by 11\n",
            "100001 is not prime, it divides by 11\n",
            "100001 is not prime, it divides by 11\n",
            "100001 is not prime, it divides by 11\n",
            "100001 is not prime, it divides by 11\n",
            "100001 is not prime, it divides by 11\n",
            "100001 is not prime, it divides by 11\n",
            "100001 is not prime, it divides by 11\n",
            "100001 is not prime, it divides by 11\n",
            "100001 is not prime, it divides by 11\n",
            "100001 is not prime, it divides by 11\n",
            "100001 is not prime, it divides by 11\n",
            "100001 is not prime, it divides by 11\n",
            "100001 is not prime, it divides by 11\n",
            "100001 is not prime, it divides by 11\n",
            "100001 is not prime, it divides by 11\n",
            "100001 is not prime, it divides by 11\n",
            "100001 is not prime, it divides by 11\n",
            "100001 is not prime, it divides by 11\n",
            "100001 is not prime, it divides by 11\n",
            "100001 is not prime, it divides by 11\n",
            "100001 is not prime, it divides by 11\n",
            "100001 is not prime, it divides by 11\n",
            "100001 is not prime, it divides by 11\n",
            "100001 is not prime, it divides by 11\n",
            "100001 is not prime, it divides by 11\n",
            "100001 is not prime, it divides by 11\n",
            "100001 is not prime, it divides by 11\n",
            "100001 is not prime, it divides by 11\n",
            "100001 is not prime, it divides by 11\n",
            "100001 is not prime, it divides by 11\n",
            "100001 is not prime, it divides by 11\n",
            "100001 is not prime, it divides by 11\n",
            "100001 is not prime, it divides by 11\n",
            "100001 is not prime, it divides by 11\n",
            "100001 is not prime, it divides by 11\n",
            "100001 is not prime, it divides by 11\n",
            "100001 is not prime, it divides by 11\n",
            "100001 is not prime, it divides by 11\n",
            "100001 is not prime, it divides by 11\n",
            "100001 is not prime, it divides by 11\n",
            "100001 is not prime, it divides by 11\n",
            "100001 is not prime, it divides by 11\n",
            "100001 is not prime, it divides by 11\n",
            "100001 is not prime, it divides by 11\n",
            "100001 is not prime, it divides by 11\n",
            "100001 is not prime, it divides by 11\n",
            "100001 is not prime, it divides by 11\n",
            "100001 is not prime, it divides by 11\n",
            "100001 is not prime, it divides by 11\n",
            "100001 is not prime, it divides by 11\n",
            "100001 is not prime, it divides by 11\n",
            "100001 is not prime, it divides by 11\n",
            "100001 is not prime, it divides by 11\n",
            "100001 is not prime, it divides by 11\n",
            "100001 is not prime, it divides by 11\n",
            "100001 is not prime, it divides by 11\n",
            "100001 is not prime, it divides by 11\n",
            "100001 is not prime, it divides by 11\n",
            "100001 is not prime, it divides by 11\n",
            "100001 is not prime, it divides by 11\n",
            "100001 is not prime, it divides by 11\n",
            "100001 is not prime, it divides by 11\n",
            "100001 is not prime, it divides by 11\n",
            "100001 is not prime, it divides by 11\n",
            "100001 is not prime, it divides by 11\n",
            "100001 is not prime, it divides by 11\n",
            "100001 is not prime, it divides by 11\n",
            "100001 is not prime, it divides by 11\n",
            "100001 is not prime, it divides by 11\n",
            "100001 is not prime, it divides by 11\n",
            "100001 is not prime, it divides by 11\n",
            "100001 is not prime, it divides by 11\n",
            "100001 is not prime, it divides by 11\n",
            "100001 is not prime, it divides by 11\n",
            "100001 is not prime, it divides by 11\n",
            "100001 is not prime, it divides by 11\n",
            "100001 is not prime, it divides by 11\n",
            "100001 is not prime, it divides by 11\n",
            "100001 is not prime, it divides by 11\n",
            "100001 is not prime, it divides by 11\n",
            "100001 is not prime, it divides by 11\n",
            "100001 is not prime, it divides by 11\n",
            "100001 is not prime, it divides by 11\n",
            "100001 is not prime, it divides by 11\n",
            "100001 is not prime, it divides by 11\n",
            "100001 is not prime, it divides by 11\n",
            "100001 is not prime, it divides by 11\n",
            "100001 is not prime, it divides by 11\n",
            "100001 is not prime, it divides by 11\n",
            "100001 is not prime, it divides by 11\n",
            "100001 is not prime, it divides by 11\n",
            "100001 is not prime, it divides by 11\n",
            "100001 is not prime, it divides by 11\n",
            "100001 is not prime, it divides by 11\n",
            "100001 is not prime, it divides by 11\n",
            "100001 is not prime, it divides by 11\n",
            "100001 is not prime, it divides by 11\n",
            "100001 is not prime, it divides by 11\n",
            "100001 is not prime, it divides by 11\n",
            "100001 is not prime, it divides by 11\n",
            "100001 is not prime, it divides by 11\n",
            "100001 is not prime, it divides by 11\n",
            "100001 is not prime, it divides by 11\n",
            "100001 is not prime, it divides by 11\n",
            "100001 is not prime, it divides by 11\n",
            "100001 is not prime, it divides by 11\n",
            "100001 is not prime, it divides by 11\n",
            "100001 is not prime, it divides by 11\n",
            "100001 is not prime, it divides by 11\n",
            "100001 is not prime, it divides by 11\n",
            "100001 is not prime, it divides by 11\n",
            "100001 is not prime, it divides by 11\n",
            "100001 is not prime, it divides by 11\n",
            "100001 is not prime, it divides by 11\n",
            "100001 is not prime, it divides by 11\n",
            "100001 is not prime, it divides by 11\n",
            "100001 is not prime, it divides by 11\n",
            "100001 is not prime, it divides by 11\n",
            "100001 is not prime, it divides by 11\n",
            "100001 is not prime, it divides by 11\n",
            "100001 is not prime, it divides by 11\n",
            "100001 is not prime, it divides by 11\n",
            "100001 is not prime, it divides by 11\n",
            "100001 is not prime, it divides by 11\n",
            "100001 is not prime, it divides by 11\n",
            "100001 is not prime, it divides by 11\n",
            "100001 is not prime, it divides by 11\n",
            "100001 is not prime, it divides by 11\n",
            "100001 is not prime, it divides by 11\n",
            "100001 is not prime, it divides by 11\n",
            "100001 is not prime, it divides by 11\n",
            "100001 is not prime, it divides by 11\n",
            "100001 is not prime, it divides by 11\n",
            "100001 is not prime, it divides by 11\n",
            "100001 is not prime, it divides by 11\n",
            "100001 is not prime, it divides by 11\n",
            "100001 is not prime, it divides by 11\n",
            "100001 is not prime, it divides by 11\n",
            "100001 is not prime, it divides by 11\n",
            "100001 is not prime, it divides by 11\n",
            "100001 is not prime, it divides by 11\n",
            "100001 is not prime, it divides by 11\n",
            "100001 is not prime, it divides by 11\n",
            "100001 is not prime, it divides by 11\n",
            "100001 is not prime, it divides by 11\n",
            "100001 is not prime, it divides by 11\n",
            "100001 is not prime, it divides by 11\n",
            "100001 is not prime, it divides by 11\n",
            "100001 is not prime, it divides by 11\n",
            "100001 is not prime, it divides by 11\n",
            "100001 is not prime, it divides by 11\n",
            "100001 is not prime, it divides by 11\n",
            "100001 is not prime, it divides by 11\n",
            "100001 is not prime, it divides by 11\n",
            "100001 is not prime, it divides by 11\n",
            "100001 is not prime, it divides by 11\n",
            "100001 is not prime, it divides by 11\n",
            "100001 is not prime, it divides by 11\n",
            "100001 is not prime, it divides by 11\n",
            "100001 is not prime, it divides by 11\n",
            "100001 is not prime, it divides by 11\n",
            "100001 is not prime, it divides by 11\n",
            "100001 is not prime, it divides by 11\n",
            "100001 is not prime, it divides by 11\n",
            "100001 is not prime, it divides by 11\n",
            "100001 is not prime, it divides by 11\n",
            "100001 is not prime, it divides by 11\n",
            "100001 is not prime, it divides by 11\n",
            "100001 is not prime, it divides by 11\n",
            "100001 is not prime, it divides by 11\n",
            "100001 is not prime, it divides by 11\n",
            "100001 is not prime, it divides by 11\n",
            "100001 is not prime, it divides by 11\n",
            "100001 is not prime, it divides by 11\n",
            "100001 is not prime, it divides by 11\n",
            "100001 is not prime, it divides by 11\n",
            "100001 is not prime, it divides by 11\n",
            "100001 is not prime, it divides by 11\n",
            "100001 is not prime, it divides by 11\n",
            "100001 is not prime, it divides by 11\n",
            "100001 is not prime, it divides by 11\n",
            "100001 is not prime, it divides by 11\n",
            "100001 is not prime, it divides by 11\n",
            "100001 is not prime, it divides by 11\n",
            "100001 is not prime, it divides by 11\n",
            "100001 is not prime, it divides by 11\n",
            "100001 is not prime, it divides by 11\n",
            "100001 is not prime, it divides by 11\n",
            "100001 is not prime, it divides by 11\n",
            "100001 is not prime, it divides by 11\n",
            "100001 is not prime, it divides by 11\n",
            "100001 is not prime, it divides by 11\n",
            "100001 is not prime, it divides by 11\n",
            "100001 is not prime, it divides by 11\n",
            "100001 is not prime, it divides by 11\n",
            "100001 is not prime, it divides by 11\n",
            "100001 is not prime, it divides by 11\n",
            "100001 is not prime, it divides by 11\n",
            "100001 is not prime, it divides by 11\n",
            "100001 is not prime, it divides by 11\n",
            "100001 is not prime, it divides by 11\n",
            "100001 is not prime, it divides by 11\n",
            "100001 is not prime, it divides by 11\n",
            "100001 is not prime, it divides by 11\n",
            "100001 is not prime, it divides by 11\n",
            "100001 is not prime, it divides by 11\n",
            "100001 is not prime, it divides by 11\n",
            "100001 is not prime, it divides by 11\n",
            "100001 is not prime, it divides by 11\n",
            "100001 is not prime, it divides by 11\n",
            "100001 is not prime, it divides by 11\n",
            "100001 is not prime, it divides by 11\n",
            "100001 is not prime, it divides by 11\n",
            "100001 is not prime, it divides by 11\n",
            "100001 is not prime, it divides by 11\n",
            "100001 is not prime, it divides by 11\n",
            "100001 is not prime, it divides by 11\n",
            "100001 is not prime, it divides by 11\n",
            "100001 is not prime, it divides by 11\n",
            "100001 is not prime, it divides by 11\n",
            "100001 is not prime, it divides by 11\n",
            "100001 is not prime, it divides by 11\n",
            "100001 is not prime, it divides by 11\n",
            "100001 is not prime, it divides by 11\n",
            "100001 is not prime, it divides by 11\n",
            "100001 is not prime, it divides by 11\n",
            "100001 is not prime, it divides by 11\n",
            "100001 is not prime, it divides by 11\n",
            "100001 is not prime, it divides by 11\n",
            "100001 is not prime, it divides by 11\n",
            "100001 is not prime, it divides by 11\n",
            "100001 is not prime, it divides by 11\n",
            "100001 is not prime, it divides by 11\n",
            "100001 is not prime, it divides by 11\n",
            "100001 is not prime, it divides by 11\n",
            "100001 is not prime, it divides by 11\n",
            "100001 is not prime, it divides by 11\n",
            "100001 is not prime, it divides by 11\n",
            "100001 is not prime, it divides by 11\n",
            "100001 is not prime, it divides by 11\n",
            "100001 is not prime, it divides by 11\n",
            "100001 is not prime, it divides by 11\n",
            "100001 is not prime, it divides by 11\n",
            "100001 is not prime, it divides by 11\n",
            "100001 is not prime, it divides by 11\n",
            "100001 is not prime, it divides by 11\n",
            "100001 is not prime, it divides by 11\n",
            "100001 is not prime, it divides by 11\n",
            "100001 is not prime, it divides by 11\n",
            "100001 is not prime, it divides by 11\n",
            "100001 is not prime, it divides by 11\n",
            "100001 is not prime, it divides by 11\n",
            "100001 is not prime, it divides by 11\n",
            "100001 is not prime, it divides by 11\n",
            "100001 is not prime, it divides by 11\n",
            "100001 is not prime, it divides by 11\n",
            "100001 is not prime, it divides by 11\n",
            "100001 is not prime, it divides by 11\n",
            "100001 is not prime, it divides by 11\n",
            "100001 is not prime, it divides by 11\n",
            "100001 is not prime, it divides by 11\n",
            "100001 is not prime, it divides by 11\n",
            "100001 is not prime, it divides by 11\n",
            "100001 is not prime, it divides by 11\n",
            "100001 is not prime, it divides by 11\n",
            "100001 is not prime, it divides by 11\n",
            "100001 is not prime, it divides by 11\n",
            "100001 is not prime, it divides by 11\n",
            "100001 is not prime, it divides by 11\n",
            "100001 is not prime, it divides by 11\n",
            "100001 is not prime, it divides by 11\n",
            "100001 is not prime, it divides by 11\n",
            "100001 is not prime, it divides by 11\n",
            "100001 is not prime, it divides by 11\n",
            "100001 is not prime, it divides by 11\n",
            "100001 is not prime, it divides by 11\n",
            "100001 is not prime, it divides by 11\n",
            "100001 is not prime, it divides by 11\n",
            "100001 is not prime, it divides by 11\n",
            "100001 is not prime, it divides by 11\n",
            "100001 is not prime, it divides by 11\n",
            "100001 is not prime, it divides by 11\n",
            "100001 is not prime, it divides by 11\n",
            "100001 is not prime, it divides by 11\n",
            "100001 is not prime, it divides by 11\n",
            "100001 is not prime, it divides by 11\n",
            "100001 is not prime, it divides by 11\n",
            "100001 is not prime, it divides by 11\n",
            "100001 is not prime, it divides by 11\n",
            "100001 is not prime, it divides by 11\n",
            "100001 is not prime, it divides by 11\n",
            "100001 is not prime, it divides by 11\n",
            "100001 is not prime, it divides by 11\n",
            "100001 is not prime, it divides by 11\n",
            "100001 is not prime, it divides by 11\n",
            "100001 is not prime, it divides by 11\n",
            "100001 is not prime, it divides by 11\n",
            "100001 is not prime, it divides by 11\n",
            "100001 is not prime, it divides by 11\n",
            "100001 is not prime, it divides by 11\n",
            "100001 is not prime, it divides by 11\n",
            "100001 is not prime, it divides by 11\n",
            "100001 is not prime, it divides by 11\n",
            "100001 is not prime, it divides by 11\n",
            "100001 is not prime, it divides by 11\n",
            "100001 is not prime, it divides by 11\n",
            "100001 is not prime, it divides by 11\n",
            "100001 is not prime, it divides by 11\n",
            "100001 is not prime, it divides by 11\n",
            "100001 is not prime, it divides by 11\n",
            "100001 is not prime, it divides by 11\n",
            "100001 is not prime, it divides by 11\n",
            "100001 is not prime, it divides by 11\n",
            "100001 is not prime, it divides by 11\n",
            "100001 is not prime, it divides by 11\n",
            "100001 is not prime, it divides by 11\n",
            "100001 is not prime, it divides by 11\n",
            "100001 is not prime, it divides by 11\n",
            "100001 is not prime, it divides by 11\n",
            "100001 is not prime, it divides by 11\n",
            "100001 is not prime, it divides by 11\n",
            "100001 is not prime, it divides by 11\n",
            "100001 is not prime, it divides by 11\n",
            "100001 is not prime, it divides by 11\n",
            "100001 is not prime, it divides by 11\n",
            "100001 is not prime, it divides by 11\n",
            "100001 is not prime, it divides by 11\n",
            "100001 is not prime, it divides by 11\n",
            "100001 is not prime, it divides by 11\n",
            "100001 is not prime, it divides by 11\n",
            "100001 is not prime, it divides by 11\n",
            "100001 is not prime, it divides by 11\n",
            "100001 is not prime, it divides by 11\n",
            "100001 is not prime, it divides by 11\n",
            "100001 is not prime, it divides by 11\n",
            "100001 is not prime, it divides by 11\n",
            "100001 is not prime, it divides by 11\n",
            "100001 is not prime, it divides by 11\n",
            "100001 is not prime, it divides by 11\n",
            "100001 is not prime, it divides by 11\n",
            "100001 is not prime, it divides by 11\n",
            "100001 is not prime, it divides by 11\n",
            "100001 is not prime, it divides by 11\n",
            "100001 is not prime, it divides by 11\n",
            "100001 is not prime, it divides by 11\n",
            "100001 is not prime, it divides by 11\n",
            "100001 is not prime, it divides by 11\n",
            "100001 is not prime, it divides by 11\n",
            "100001 is not prime, it divides by 11\n",
            "100001 is not prime, it divides by 11\n",
            "100001 is not prime, it divides by 11\n",
            "100001 is not prime, it divides by 11\n",
            "100001 is not prime, it divides by 11\n",
            "100001 is not prime, it divides by 11\n",
            "100001 is not prime, it divides by 11\n",
            "100001 is not prime, it divides by 11\n",
            "100001 is not prime, it divides by 11\n",
            "100001 is not prime, it divides by 11\n",
            "100001 is not prime, it divides by 11\n",
            "100001 is not prime, it divides by 11\n",
            "100001 is not prime, it divides by 11\n",
            "100001 is not prime, it divides by 11\n",
            "100001 is not prime, it divides by 11\n",
            "100001 is not prime, it divides by 11\n",
            "100001 is not prime, it divides by 11\n",
            "100001 is not prime, it divides by 11\n",
            "100001 is not prime, it divides by 11\n",
            "100001 is not prime, it divides by 11\n",
            "100001 is not prime, it divides by 11\n",
            "100001 is not prime, it divides by 11\n",
            "100001 is not prime, it divides by 11\n",
            "100001 is not prime, it divides by 11\n",
            "100001 is not prime, it divides by 11\n",
            "100001 is not prime, it divides by 11\n",
            "100001 is not prime, it divides by 11\n",
            "100001 is not prime, it divides by 11\n",
            "100001 is not prime, it divides by 11\n",
            "100001 is not prime, it divides by 11\n",
            "100001 is not prime, it divides by 11\n",
            "100001 is not prime, it divides by 11\n",
            "100001 is not prime, it divides by 11\n",
            "100001 is not prime, it divides by 11\n",
            "100001 is not prime, it divides by 11\n",
            "100001 is not prime, it divides by 11\n",
            "100001 is not prime, it divides by 11\n",
            "100001 is not prime, it divides by 11\n",
            "100001 is not prime, it divides by 11\n",
            "100001 is not prime, it divides by 11\n",
            "100001 is not prime, it divides by 11\n",
            "100001 is not prime, it divides by 11\n",
            "100001 is not prime, it divides by 11\n",
            "100001 is not prime, it divides by 11\n",
            "100001 is not prime, it divides by 11\n",
            "100001 is not prime, it divides by 11\n",
            "100001 is not prime, it divides by 11\n",
            "100001 is not prime, it divides by 11\n",
            "100001 is not prime, it divides by 11\n",
            "100001 is not prime, it divides by 11\n",
            "100001 is not prime, it divides by 11\n",
            "100001 is not prime, it divides by 11\n",
            "100001 is not prime, it divides by 11\n",
            "100001 is not prime, it divides by 11\n",
            "100001 is not prime, it divides by 11\n",
            "100001 is not prime, it divides by 11\n",
            "100001 is not prime, it divides by 11\n",
            "100001 is not prime, it divides by 11\n",
            "100001 is not prime, it divides by 11\n",
            "100001 is not prime, it divides by 11\n",
            "100001 is not prime, it divides by 11\n",
            "100001 is not prime, it divides by 11\n",
            "100001 is not prime, it divides by 11\n",
            "100001 is not prime, it divides by 11\n",
            "100001 is not prime, it divides by 11\n",
            "100001 is not prime, it divides by 11\n",
            "100001 is not prime, it divides by 11\n",
            "100001 is not prime, it divides by 11\n",
            "100001 is not prime, it divides by 11\n",
            "100001 is not prime, it divides by 11\n",
            "100001 is not prime, it divides by 11\n",
            "100001 is not prime, it divides by 11\n",
            "100001 is not prime, it divides by 11\n",
            "100001 is not prime, it divides by 11\n",
            "100001 is not prime, it divides by 11\n",
            "100001 is not prime, it divides by 11\n",
            "100001 is not prime, it divides by 11\n",
            "100001 is not prime, it divides by 11\n",
            "100001 is not prime, it divides by 11\n",
            "100001 is not prime, it divides by 11\n",
            "100001 is not prime, it divides by 11\n",
            "100001 is not prime, it divides by 11\n",
            "100001 is not prime, it divides by 11\n",
            "100001 is not prime, it divides by 11\n",
            "100001 is not prime, it divides by 11\n",
            "100001 is not prime, it divides by 11\n",
            "100001 is not prime, it divides by 11\n",
            "100001 is not prime, it divides by 11\n",
            "100001 is not prime, it divides by 11\n",
            "100001 is not prime, it divides by 11\n",
            "100001 is not prime, it divides by 11\n",
            "100001 is not prime, it divides by 11\n",
            "100001 is not prime, it divides by 11\n",
            "100001 is not prime, it divides by 11\n",
            "100001 is not prime, it divides by 11\n",
            "100001 is not prime, it divides by 11\n",
            "100001 is not prime, it divides by 11\n",
            "100001 is not prime, it divides by 11\n",
            "100001 is not prime, it divides by 11\n",
            "100001 is not prime, it divides by 11\n",
            "100001 is not prime, it divides by 11\n",
            "100001 is not prime, it divides by 11\n",
            "100001 is not prime, it divides by 11\n",
            "100001 is not prime, it divides by 11\n",
            "100001 is not prime, it divides by 11\n",
            "100001 is not prime, it divides by 11\n",
            "100001 is not prime, it divides by 11\n",
            "100001 is not prime, it divides by 11\n",
            "100001 is not prime, it divides by 11\n",
            "100001 is not prime, it divides by 11\n",
            "100001 is not prime, it divides by 11\n",
            "100001 is not prime, it divides by 11\n",
            "100001 is not prime, it divides by 11\n",
            "100001 is not prime, it divides by 11\n",
            "100001 is not prime, it divides by 11\n",
            "100001 is not prime, it divides by 11\n",
            "100001 is not prime, it divides by 11\n",
            "100001 is not prime, it divides by 11\n",
            "100001 is not prime, it divides by 11\n",
            "100001 is not prime, it divides by 11\n",
            "100001 is not prime, it divides by 11\n",
            "100001 is not prime, it divides by 11\n",
            "100001 is not prime, it divides by 11\n",
            "100001 is not prime, it divides by 11\n",
            "100001 is not prime, it divides by 11\n",
            "100001 is not prime, it divides by 11\n",
            "100001 is not prime, it divides by 11\n",
            "100001 is not prime, it divides by 11\n",
            "100001 is not prime, it divides by 11\n",
            "100001 is not prime, it divides by 11\n",
            "100001 is not prime, it divides by 11\n",
            "100001 is not prime, it divides by 11\n",
            "100001 is not prime, it divides by 11\n",
            "100001 is not prime, it divides by 11\n",
            "100001 is not prime, it divides by 11\n",
            "100001 is not prime, it divides by 11\n",
            "100001 is not prime, it divides by 11\n",
            "100001 is not prime, it divides by 11\n",
            "100001 is not prime, it divides by 11\n",
            "100001 is not prime, it divides by 11\n",
            "100001 is not prime, it divides by 11\n",
            "100001 is not prime, it divides by 11\n",
            "100001 is not prime, it divides by 11\n",
            "100001 is not prime, it divides by 11\n",
            "100001 is not prime, it divides by 11\n",
            "100001 is not prime, it divides by 11\n",
            "100001 is not prime, it divides by 11\n",
            "100001 is not prime, it divides by 11\n",
            "100001 is not prime, it divides by 11\n",
            "100001 is not prime, it divides by 11\n",
            "100001 is not prime, it divides by 11\n",
            "100001 is not prime, it divides by 11\n",
            "100001 is not prime, it divides by 11\n",
            "100001 is not prime, it divides by 11\n",
            "100001 is not prime, it divides by 11\n",
            "100001 is not prime, it divides by 11\n",
            "100001 is not prime, it divides by 11\n",
            "100001 is not prime, it divides by 11\n",
            "100001 is not prime, it divides by 11\n",
            "100001 is not prime, it divides by 11\n",
            "100001 is not prime, it divides by 11\n",
            "100001 is not prime, it divides by 11\n",
            "100001 is not prime, it divides by 11\n",
            "100001 is not prime, it divides by 11\n",
            "100001 is not prime, it divides by 11\n",
            "100001 is not prime, it divides by 11\n",
            "100001 is not prime, it divides by 11\n",
            "100001 is not prime, it divides by 11\n",
            "100001 is not prime, it divides by 11\n",
            "100001 is not prime, it divides by 11\n",
            "100001 is not prime, it divides by 11\n",
            "100001 is not prime, it divides by 11\n",
            "100001 is not prime, it divides by 11\n",
            "100001 is not prime, it divides by 11\n",
            "100001 is not prime, it divides by 11\n",
            "100001 is not prime, it divides by 11\n",
            "100001 is not prime, it divides by 11\n",
            "100001 is not prime, it divides by 11\n",
            "100001 is not prime, it divides by 11\n",
            "100001 is not prime, it divides by 11\n",
            "100001 is not prime, it divides by 11\n",
            "100001 is not prime, it divides by 11\n",
            "100001 is not prime, it divides by 11\n",
            "100001 is not prime, it divides by 11\n",
            "100001 is not prime, it divides by 11\n",
            "100001 is not prime, it divides by 11\n",
            "100001 is not prime, it divides by 11\n",
            "100001 is not prime, it divides by 11\n",
            "100001 is not prime, it divides by 11\n",
            "100001 is not prime, it divides by 11\n",
            "100001 is not prime, it divides by 11\n",
            "100001 is not prime, it divides by 11\n",
            "100001 is not prime, it divides by 11\n",
            "100001 is not prime, it divides by 11\n",
            "100001 is not prime, it divides by 11\n",
            "100001 is not prime, it divides by 11\n",
            "100001 is not prime, it divides by 11\n",
            "100001 is not prime, it divides by 11\n",
            "100001 is not prime, it divides by 11\n",
            "100001 is not prime, it divides by 11\n",
            "100001 is not prime, it divides by 11\n",
            "100001 is not prime, it divides by 11\n",
            "100001 is not prime, it divides by 11\n",
            "100001 is not prime, it divides by 11\n",
            "100001 is not prime, it divides by 11\n",
            "100001 is not prime, it divides by 11\n",
            "100001 is not prime, it divides by 11\n",
            "100001 is not prime, it divides by 11\n",
            "100001 is not prime, it divides by 11\n",
            "100001 is not prime, it divides by 11\n",
            "100001 is not prime, it divides by 11\n",
            "100001 is not prime, it divides by 11\n",
            "100001 is not prime, it divides by 11\n",
            "100001 is not prime, it divides by 11\n",
            "100001 is not prime, it divides by 11\n",
            "100001 is not prime, it divides by 11\n",
            "100001 is not prime, it divides by 11\n",
            "100001 is not prime, it divides by 11\n",
            "100001 is not prime, it divides by 11\n",
            "100001 is not prime, it divides by 11\n",
            "100001 is not prime, it divides by 11\n",
            "100001 is not prime, it divides by 11\n",
            "100001 is not prime, it divides by 11\n",
            "100001 is not prime, it divides by 11\n",
            "100001 is not prime, it divides by 11\n",
            "100001 is not prime, it divides by 11\n",
            "100001 is not prime, it divides by 11\n",
            "100001 is not prime, it divides by 11\n",
            "100001 is not prime, it divides by 11\n",
            "100001 is not prime, it divides by 11\n",
            "100001 is not prime, it divides by 11\n",
            "100001 is not prime, it divides by 11\n",
            "100001 is not prime, it divides by 11\n",
            "100001 is not prime, it divides by 11\n",
            "100001 is not prime, it divides by 11\n",
            "100001 is not prime, it divides by 11\n",
            "100001 is not prime, it divides by 11\n",
            "100001 is not prime, it divides by 11\n",
            "100001 is not prime, it divides by 11\n",
            "100001 is not prime, it divides by 11\n",
            "100001 is not prime, it divides by 11\n",
            "100001 is not prime, it divides by 11\n",
            "100001 is not prime, it divides by 11\n",
            "100001 is not prime, it divides by 11\n",
            "100001 is not prime, it divides by 11\n",
            "100001 is not prime, it divides by 11\n",
            "100001 is not prime, it divides by 11\n",
            "100001 is not prime, it divides by 11\n",
            "100001 is not prime, it divides by 11\n",
            "100001 is not prime, it divides by 11\n",
            "100001 is not prime, it divides by 11\n",
            "100001 is not prime, it divides by 11\n",
            "100001 is not prime, it divides by 11\n",
            "100001 is not prime, it divides by 11\n",
            "100001 is not prime, it divides by 11\n",
            "100001 is not prime, it divides by 11\n",
            "100001 is not prime, it divides by 11\n",
            "100001 is not prime, it divides by 11\n",
            "100001 is not prime, it divides by 11\n",
            "100001 is not prime, it divides by 11\n",
            "100001 is not prime, it divides by 11\n",
            "100001 is not prime, it divides by 11\n",
            "100001 is not prime, it divides by 11\n",
            "100001 is not prime, it divides by 11\n",
            "100001 is not prime, it divides by 11\n",
            "100001 is not prime, it divides by 11\n",
            "100001 is not prime, it divides by 11\n",
            "100001 is not prime, it divides by 11\n",
            "100001 is not prime, it divides by 11\n",
            "100001 is not prime, it divides by 11\n",
            "100001 is not prime, it divides by 11\n",
            "100001 is not prime, it divides by 11\n",
            "100001 is not prime, it divides by 11\n",
            "100001 is not prime, it divides by 11\n",
            "100001 is not prime, it divides by 11\n",
            "100001 is not prime, it divides by 11\n",
            "100001 is not prime, it divides by 11\n",
            "100001 is not prime, it divides by 11\n",
            "100001 is not prime, it divides by 11\n",
            "100001 is not prime, it divides by 11\n",
            "100001 is not prime, it divides by 11\n",
            "100001 is not prime, it divides by 11\n",
            "100001 is not prime, it divides by 11\n",
            "100001 is not prime, it divides by 11\n",
            "100001 is not prime, it divides by 11\n",
            "100001 is not prime, it divides by 11\n",
            "100001 is not prime, it divides by 11\n",
            "100001 is not prime, it divides by 11\n",
            "100001 is not prime, it divides by 11\n",
            "100001 is not prime, it divides by 11\n",
            "100001 is not prime, it divides by 11\n",
            "100001 is not prime, it divides by 11\n",
            "100001 is not prime, it divides by 11\n",
            "100001 is not prime, it divides by 11\n",
            "100001 is not prime, it divides by 11\n",
            "100001 is not prime, it divides by 11\n",
            "100001 is not prime, it divides by 11\n",
            "100001 is not prime, it divides by 11\n",
            "100001 is not prime, it divides by 11\n",
            "100001 is not prime, it divides by 11\n",
            "100001 is not prime, it divides by 11\n",
            "100001 is not prime, it divides by 11\n",
            "100001 is not prime, it divides by 11\n",
            "100001 is not prime, it divides by 11\n",
            "100001 is not prime, it divides by 11\n",
            "100001 is not prime, it divides by 11\n",
            "100001 is not prime, it divides by 11\n",
            "100001 is not prime, it divides by 11\n",
            "100001 is not prime, it divides by 11\n",
            "100001 is not prime, it divides by 11\n",
            "100001 is not prime, it divides by 11\n",
            "100001 is not prime, it divides by 11\n",
            "100001 is not prime, it divides by 11\n",
            "100001 is not prime, it divides by 11\n",
            "100001 is not prime, it divides by 11\n",
            "100001 is not prime, it divides by 11\n",
            "100001 is not prime, it divides by 11\n",
            "100001 is not prime, it divides by 11\n",
            "100001 is not prime, it divides by 11\n",
            "100001 is not prime, it divides by 11\n",
            "100001 is not prime, it divides by 11\n",
            "100001 is not prime, it divides by 11\n",
            "100001 is not prime, it divides by 11\n",
            "100001 is not prime, it divides by 11\n",
            "100001 is not prime, it divides by 11\n",
            "100001 is not prime, it divides by 11\n",
            "100001 is not prime, it divides by 11\n",
            "100001 is not prime, it divides by 11\n",
            "100001 is not prime, it divides by 11\n",
            "100001 is not prime, it divides by 11\n",
            "100001 is not prime, it divides by 11\n",
            "100001 is not prime, it divides by 11\n",
            "100001 is not prime, it divides by 11\n",
            "100001 is not prime, it divides by 11\n",
            "100001 is not prime, it divides by 11\n",
            "100001 is not prime, it divides by 11\n",
            "100001 is not prime, it divides by 11\n",
            "100001 is not prime, it divides by 11\n",
            "100001 is not prime, it divides by 11\n",
            "100001 is not prime, it divides by 11\n",
            "100001 is not prime, it divides by 11\n",
            "100001 is not prime, it divides by 11\n",
            "100001 is not prime, it divides by 11\n",
            "100001 is not prime, it divides by 11\n",
            "100001 is not prime, it divides by 11\n",
            "100001 is not prime, it divides by 11\n",
            "100001 is not prime, it divides by 11\n",
            "100001 is not prime, it divides by 11\n",
            "100001 is not prime, it divides by 11\n",
            "100001 is not prime, it divides by 11\n",
            "100001 is not prime, it divides by 11\n",
            "100001 is not prime, it divides by 11\n",
            "100001 is not prime, it divides by 11\n",
            "100001 is not prime, it divides by 11\n",
            "100001 is not prime, it divides by 11\n",
            "100001 is not prime, it divides by 11\n",
            "100001 is not prime, it divides by 11\n",
            "100001 is not prime, it divides by 11\n",
            "100001 is not prime, it divides by 11\n",
            "100001 is not prime, it divides by 11\n",
            "100001 is not prime, it divides by 11\n",
            "100001 is not prime, it divides by 11\n",
            "100001 is not prime, it divides by 11\n",
            "100001 is not prime, it divides by 11\n",
            "100001 is not prime, it divides by 11\n",
            "100001 is not prime, it divides by 11\n",
            "100001 is not prime, it divides by 11\n",
            "100001 is not prime, it divides by 11\n",
            "100001 is not prime, it divides by 11\n",
            "100001 is not prime, it divides by 11\n",
            "100001 is not prime, it divides by 11\n",
            "100001 is not prime, it divides by 11\n",
            "100001 is not prime, it divides by 11\n",
            "100001 is not prime, it divides by 11\n",
            "100001 is not prime, it divides by 11\n",
            "100001 is not prime, it divides by 11\n",
            "100001 is not prime, it divides by 11\n",
            "100001 is not prime, it divides by 11\n",
            "100001 is not prime, it divides by 11\n",
            "100001 is not prime, it divides by 11\n",
            "100001 is not prime, it divides by 11\n",
            "100001 is not prime, it divides by 11\n",
            "100001 is not prime, it divides by 11\n",
            "100001 is not prime, it divides by 11\n",
            "100001 is not prime, it divides by 11\n",
            "100001 is not prime, it divides by 11\n",
            "100001 is not prime, it divides by 11\n",
            "100001 is not prime, it divides by 11\n",
            "100001 is not prime, it divides by 11\n",
            "100001 is not prime, it divides by 11\n",
            "100001 is not prime, it divides by 11\n",
            "100001 is not prime, it divides by 11\n",
            "100001 is not prime, it divides by 11\n",
            "100001 is not prime, it divides by 11\n",
            "100001 is not prime, it divides by 11\n",
            "100001 is not prime, it divides by 11\n",
            "100001 is not prime, it divides by 11\n",
            "100001 is not prime, it divides by 11\n",
            "100001 is not prime, it divides by 11\n",
            "100001 is not prime, it divides by 11\n",
            "100001 is not prime, it divides by 11\n",
            "100001 is not prime, it divides by 11\n",
            "100001 is not prime, it divides by 11\n",
            "100001 is not prime, it divides by 11\n",
            "100001 is not prime, it divides by 11\n",
            "100001 is not prime, it divides by 11\n",
            "100001 is not prime, it divides by 11\n",
            "100001 is not prime, it divides by 11\n",
            "100001 is not prime, it divides by 11\n",
            "100001 is not prime, it divides by 11\n",
            "100001 is not prime, it divides by 11\n",
            "100001 is not prime, it divides by 11\n",
            "100001 is not prime, it divides by 11\n",
            "100001 is not prime, it divides by 11\n",
            "100001 is not prime, it divides by 11\n",
            "100001 is not prime, it divides by 11\n",
            "100001 is not prime, it divides by 11\n",
            "100001 is not prime, it divides by 11\n",
            "100001 is not prime, it divides by 11\n",
            "100001 is not prime, it divides by 11\n",
            "100001 is not prime, it divides by 11\n",
            "100001 is not prime, it divides by 11\n",
            "100001 is not prime, it divides by 11\n",
            "100001 is not prime, it divides by 11\n",
            "100001 is not prime, it divides by 11\n",
            "100001 is not prime, it divides by 11\n",
            "100001 is not prime, it divides by 11\n",
            "100001 is not prime, it divides by 11\n",
            "100001 is not prime, it divides by 11\n",
            "100001 is not prime, it divides by 11\n",
            "100001 is not prime, it divides by 11\n",
            "100001 is not prime, it divides by 11\n",
            "100001 is not prime, it divides by 11\n",
            "100001 is not prime, it divides by 11\n",
            "100001 is not prime, it divides by 11\n",
            "100001 is not prime, it divides by 11\n",
            "100001 is not prime, it divides by 11\n",
            "100001 is not prime, it divides by 11\n",
            "100001 is not prime, it divides by 11\n",
            "100001 is not prime, it divides by 11\n",
            "100001 is not prime, it divides by 11\n",
            "100001 is not prime, it divides by 11\n",
            "100001 is not prime, it divides by 11\n",
            "100001 is not prime, it divides by 11\n",
            "100001 is not prime, it divides by 11\n",
            "100001 is not prime, it divides by 11\n",
            "100001 is not prime, it divides by 11\n",
            "100001 is not prime, it divides by 11\n",
            "100001 is not prime, it divides by 11\n",
            "100001 is not prime, it divides by 11\n",
            "100001 is not prime, it divides by 11\n",
            "100001 is not prime, it divides by 11\n",
            "100001 is not prime, it divides by 11\n",
            "100001 is not prime, it divides by 11\n",
            "100001 is not prime, it divides by 11\n",
            "100001 is not prime, it divides by 11\n",
            "100001 is not prime, it divides by 11\n",
            "100001 is not prime, it divides by 11\n",
            "100001 is not prime, it divides by 11\n",
            "100001 is not prime, it divides by 11\n",
            "100001 is not prime, it divides by 11\n",
            "100001 is not prime, it divides by 11\n",
            "100001 is not prime, it divides by 11\n",
            "100001 is not prime, it divides by 11\n",
            "100001 is not prime, it divides by 11\n",
            "100001 is not prime, it divides by 11\n",
            "100001 is not prime, it divides by 11\n",
            "100001 is not prime, it divides by 11\n",
            "100001 is not prime, it divides by 11\n",
            "100001 is not prime, it divides by 11\n",
            "100001 is not prime, it divides by 11\n",
            "100001 is not prime, it divides by 11\n",
            "100001 is not prime, it divides by 11\n",
            "100001 is not prime, it divides by 11\n",
            "100001 is not prime, it divides by 11\n",
            "100001 is not prime, it divides by 11\n",
            "100001 is not prime, it divides by 11\n",
            "100001 is not prime, it divides by 11\n",
            "100001 is not prime, it divides by 11\n",
            "100001 is not prime, it divides by 11\n",
            "100001 is not prime, it divides by 11\n",
            "100001 is not prime, it divides by 11\n",
            "100001 is not prime, it divides by 11\n",
            "100001 is not prime, it divides by 11\n",
            "100001 is not prime, it divides by 11\n",
            "100001 is not prime, it divides by 11\n",
            "100001 is not prime, it divides by 11\n",
            "100001 is not prime, it divides by 11\n",
            "100001 is not prime, it divides by 11\n",
            "100001 is not prime, it divides by 11\n",
            "100001 is not prime, it divides by 11\n",
            "100001 is not prime, it divides by 11\n",
            "100001 is not prime, it divides by 11\n",
            "100001 is not prime, it divides by 11\n",
            "100001 is not prime, it divides by 11\n",
            "100001 is not prime, it divides by 11\n",
            "100001 is not prime, it divides by 11\n",
            "100001 is not prime, it divides by 11\n",
            "100001 is not prime, it divides by 11\n",
            "100001 is not prime, it divides by 11\n",
            "100001 is not prime, it divides by 11\n",
            "100001 is not prime, it divides by 11\n",
            "100001 is not prime, it divides by 11\n",
            "100001 is not prime, it divides by 11\n",
            "100001 is not prime, it divides by 11\n",
            "100001 is not prime, it divides by 11\n",
            "100001 is not prime, it divides by 11\n",
            "100001 is not prime, it divides by 11\n",
            "100001 is not prime, it divides by 11\n",
            "100001 is not prime, it divides by 11\n",
            "100001 is not prime, it divides by 11\n",
            "100001 is not prime, it divides by 11\n",
            "100001 is not prime, it divides by 11\n",
            "100001 is not prime, it divides by 11\n",
            "100001 is not prime, it divides by 11\n",
            "100001 is not prime, it divides by 11\n",
            "100001 is not prime, it divides by 11\n",
            "100001 is not prime, it divides by 11\n",
            "100001 is not prime, it divides by 11\n",
            "100001 is not prime, it divides by 11\n",
            "100001 is not prime, it divides by 11\n",
            "100001 is not prime, it divides by 11\n",
            "100001 is not prime, it divides by 11\n",
            "100001 is not prime, it divides by 11\n",
            "100001 is not prime, it divides by 11\n",
            "100001 is not prime, it divides by 11\n",
            "100001 is not prime, it divides by 11\n",
            "100001 is not prime, it divides by 11\n",
            "100001 is not prime, it divides by 11\n",
            "100001 is not prime, it divides by 11\n",
            "100001 is not prime, it divides by 11\n",
            "100001 is not prime, it divides by 11\n",
            "100001 is not prime, it divides by 11\n",
            "100001 is not prime, it divides by 11\n",
            "100001 is not prime, it divides by 11\n",
            "100001 is not prime, it divides by 11\n",
            "100001 is not prime, it divides by 11\n",
            "100001 is not prime, it divides by 11\n",
            "100001 is not prime, it divides by 11\n",
            "100001 is not prime, it divides by 11\n",
            "100001 is not prime, it divides by 11\n",
            "100001 is not prime, it divides by 11\n",
            "100001 is not prime, it divides by 11\n",
            "100001 is not prime, it divides by 11\n",
            "100001 is not prime, it divides by 11\n",
            "100001 is not prime, it divides by 11\n",
            "100001 is not prime, it divides by 11\n",
            "100001 is not prime, it divides by 11\n",
            "100001 is not prime, it divides by 11\n",
            "100001 is not prime, it divides by 11\n",
            "100001 is not prime, it divides by 11\n",
            "100001 is not prime, it divides by 11\n",
            "100001 is not prime, it divides by 11\n",
            "100001 is not prime, it divides by 11\n",
            "100001 is not prime, it divides by 11\n",
            "100001 is not prime, it divides by 11\n",
            "100001 is not prime, it divides by 11\n",
            "100001 is not prime, it divides by 11\n",
            "100001 is not prime, it divides by 11\n",
            "100001 is not prime, it divides by 11\n",
            "100001 is not prime, it divides by 11\n",
            "100001 is not prime, it divides by 11\n",
            "100001 is not prime, it divides by 11\n",
            "100001 is not prime, it divides by 11\n",
            "100001 is not prime, it divides by 11\n",
            "100001 is not prime, it divides by 11\n",
            "100001 is not prime, it divides by 11\n",
            "100001 is not prime, it divides by 11\n",
            "100001 is not prime, it divides by 11\n",
            "100001 is not prime, it divides by 11\n",
            "100001 is not prime, it divides by 11\n",
            "100001 is not prime, it divides by 11\n",
            "100001 is not prime, it divides by 11\n",
            "100001 is not prime, it divides by 11\n",
            "100001 is not prime, it divides by 11\n",
            "100001 is not prime, it divides by 11\n",
            "100001 is not prime, it divides by 11\n",
            "100001 is not prime, it divides by 11\n",
            "100001 is not prime, it divides by 11\n",
            "100001 is not prime, it divides by 11\n",
            "100001 is not prime, it divides by 11\n",
            "100001 is not prime, it divides by 11\n",
            "100001 is not prime, it divides by 11\n",
            "100001 is not prime, it divides by 11\n",
            "100001 is not prime, it divides by 11\n",
            "100001 is not prime, it divides by 11\n",
            "100001 is not prime, it divides by 11\n",
            "100001 is not prime, it divides by 11\n",
            "100001 is not prime, it divides by 11\n",
            "100001 is not prime, it divides by 11\n",
            "100001 is not prime, it divides by 11\n",
            "100001 is not prime, it divides by 11\n",
            "100001 is not prime, it divides by 11\n",
            "100001 is not prime, it divides by 11\n",
            "100001 is not prime, it divides by 11\n",
            "100001 is not prime, it divides by 11\n",
            "100001 is not prime, it divides by 11\n",
            "100001 is not prime, it divides by 11\n",
            "100001 is not prime, it divides by 11\n",
            "100001 is not prime, it divides by 11\n",
            "100001 is not prime, it divides by 11\n",
            "100001 is not prime, it divides by 11\n",
            "100001 is not prime, it divides by 11\n",
            "100001 is not prime, it divides by 11\n",
            "100001 is not prime, it divides by 11\n",
            "100001 is not prime, it divides by 11\n",
            "100001 is not prime, it divides by 11\n",
            "100001 is not prime, it divides by 11\n",
            "100001 is not prime, it divides by 11\n",
            "100001 is not prime, it divides by 11\n",
            "100001 is not prime, it divides by 11\n",
            "100001 is not prime, it divides by 11\n",
            "100001 is not prime, it divides by 11\n",
            "100001 is not prime, it divides by 11\n",
            "100001 is not prime, it divides by 11\n",
            "100001 is not prime, it divides by 11\n",
            "100001 is not prime, it divides by 11\n",
            "100001 is not prime, it divides by 11\n",
            "100001 is not prime, it divides by 11\n",
            "100001 is not prime, it divides by 11\n",
            "100001 is not prime, it divides by 11\n",
            "100001 is not prime, it divides by 11\n",
            "100001 is not prime, it divides by 11\n",
            "100001 is not prime, it divides by 11\n",
            "100001 is not prime, it divides by 11\n",
            "100001 is not prime, it divides by 11\n",
            "100001 is not prime, it divides by 11\n",
            "100001 is not prime, it divides by 11\n",
            "100001 is not prime, it divides by 11\n",
            "100001 is not prime, it divides by 11\n",
            "100001 is not prime, it divides by 11\n",
            "100001 is not prime, it divides by 11\n",
            "100001 is not prime, it divides by 11\n",
            "100001 is not prime, it divides by 11\n",
            "100001 is not prime, it divides by 11\n",
            "100001 is not prime, it divides by 11\n",
            "100001 is not prime, it divides by 11\n",
            "100001 is not prime, it divides by 11\n",
            "100001 is not prime, it divides by 11\n",
            "100001 is not prime, it divides by 11\n",
            "100001 is not prime, it divides by 11\n",
            "100001 is not prime, it divides by 11\n",
            "100001 is not prime, it divides by 11\n",
            "100001 is not prime, it divides by 11\n",
            "100001 is not prime, it divides by 11\n",
            "100001 is not prime, it divides by 11\n",
            "100001 is not prime, it divides by 11\n",
            "100001 is not prime, it divides by 11\n",
            "100001 is not prime, it divides by 11\n",
            "100001 is not prime, it divides by 11\n",
            "100001 is not prime, it divides by 11\n",
            "100001 is not prime, it divides by 11\n",
            "100001 is not prime, it divides by 11\n",
            "100001 is not prime, it divides by 11\n",
            "100001 is not prime, it divides by 11\n",
            "100001 is not prime, it divides by 11\n",
            "100001 is not prime, it divides by 11\n",
            "100001 is not prime, it divides by 11\n",
            "100001 is not prime, it divides by 11\n",
            "100001 is not prime, it divides by 11\n",
            "100001 is not prime, it divides by 11\n",
            "100001 is not prime, it divides by 11\n",
            "100001 is not prime, it divides by 11\n",
            "100001 is not prime, it divides by 11\n",
            "100001 is not prime, it divides by 11\n",
            "100001 is not prime, it divides by 11\n",
            "100001 is not prime, it divides by 11\n",
            "100001 is not prime, it divides by 11\n",
            "100001 is not prime, it divides by 11\n",
            "100001 is not prime, it divides by 11\n",
            "100001 is not prime, it divides by 11\n",
            "100001 is not prime, it divides by 11\n",
            "100001 is not prime, it divides by 11\n",
            "100001 is not prime, it divides by 11\n",
            "100001 is not prime, it divides by 11\n",
            "100001 is not prime, it divides by 11\n",
            "100001 is not prime, it divides by 11\n",
            "100001 is not prime, it divides by 11\n",
            "100001 is not prime, it divides by 11\n",
            "100001 is not prime, it divides by 11\n",
            "100001 is not prime, it divides by 11\n",
            "100001 is not prime, it divides by 11\n",
            "100001 is not prime, it divides by 11\n",
            "100001 is not prime, it divides by 11\n",
            "100001 is not prime, it divides by 11\n",
            "100001 is not prime, it divides by 11\n",
            "100001 is not prime, it divides by 11\n",
            "100001 is not prime, it divides by 11\n",
            "100001 is not prime, it divides by 11\n",
            "100001 is not prime, it divides by 11\n",
            "100001 is not prime, it divides by 11\n",
            "100001 is not prime, it divides by 11\n",
            "100001 is not prime, it divides by 11\n",
            "100001 is not prime, it divides by 11\n",
            "100001 is not prime, it divides by 11\n",
            "100001 is not prime, it divides by 11\n",
            "100001 is not prime, it divides by 11\n",
            "100001 is not prime, it divides by 11\n",
            "100001 is not prime, it divides by 11\n",
            "100001 is not prime, it divides by 11\n",
            "100001 is not prime, it divides by 11\n",
            "100001 is not prime, it divides by 11\n",
            "100001 is not prime, it divides by 11\n",
            "100001 is not prime, it divides by 11\n",
            "100001 is not prime, it divides by 11\n",
            "100001 is not prime, it divides by 11\n",
            "100001 is not prime, it divides by 11\n",
            "100001 is not prime, it divides by 11\n",
            "100001 is not prime, it divides by 11\n",
            "100001 is not prime, it divides by 11\n",
            "100001 is not prime, it divides by 11\n",
            "100001 is not prime, it divides by 11\n",
            "100001 is not prime, it divides by 11\n",
            "100001 is not prime, it divides by 11\n",
            "100001 is not prime, it divides by 11\n",
            "100001 is not prime, it divides by 11\n",
            "100001 is not prime, it divides by 11\n",
            "100001 is not prime, it divides by 11\n",
            "100001 is not prime, it divides by 11\n",
            "100001 is not prime, it divides by 11\n",
            "100001 is not prime, it divides by 11\n",
            "100001 is not prime, it divides by 11\n",
            "100001 is not prime, it divides by 11\n",
            "100001 is not prime, it divides by 11\n",
            "100001 is not prime, it divides by 11\n",
            "100001 is not prime, it divides by 11\n",
            "100001 is not prime, it divides by 11\n",
            "100001 is not prime, it divides by 11\n",
            "100001 is not prime, it divides by 11\n",
            "100001 is not prime, it divides by 11\n",
            "100001 is not prime, it divides by 11\n",
            "100001 is not prime, it divides by 11\n",
            "100001 is not prime, it divides by 11\n",
            "100001 is not prime, it divides by 11\n",
            "100001 is not prime, it divides by 11\n",
            "100001 is not prime, it divides by 11\n",
            "100001 is not prime, it divides by 11\n",
            "100001 is not prime, it divides by 11\n",
            "100001 is not prime, it divides by 11\n",
            "100001 is not prime, it divides by 11\n",
            "100001 is not prime, it divides by 11\n",
            "100001 is not prime, it divides by 11\n",
            "100001 is not prime, it divides by 11\n",
            "100001 is not prime, it divides by 11\n",
            "100001 is not prime, it divides by 11\n",
            "100001 is not prime, it divides by 11\n",
            "100001 is not prime, it divides by 11\n",
            "100001 is not prime, it divides by 11\n",
            "100001 is not prime, it divides by 11\n",
            "100001 is not prime, it divides by 11\n",
            "100001 is not prime, it divides by 11\n",
            "100001 is not prime, it divides by 11\n",
            "100001 is not prime, it divides by 11\n",
            "100001 is not prime, it divides by 11\n",
            "100001 is not prime, it divides by 11\n",
            "100001 is not prime, it divides by 11\n",
            "100001 is not prime, it divides by 11\n",
            "100001 is not prime, it divides by 11\n",
            "100001 is not prime, it divides by 11\n",
            "100001 is not prime, it divides by 11\n",
            "100001 is not prime, it divides by 11\n",
            "100001 is not prime, it divides by 11\n",
            "100001 is not prime, it divides by 11\n",
            "100001 is not prime, it divides by 11\n",
            "100001 is not prime, it divides by 11\n",
            "100001 is not prime, it divides by 11\n",
            "100001 is not prime, it divides by 11\n",
            "100001 is not prime, it divides by 11\n",
            "100001 is not prime, it divides by 11\n",
            "100001 is not prime, it divides by 11\n",
            "100001 is not prime, it divides by 11\n",
            "100001 is not prime, it divides by 11\n",
            "100001 is not prime, it divides by 11\n",
            "100001 is not prime, it divides by 11\n",
            "100001 is not prime, it divides by 11\n",
            "100001 is not prime, it divides by 11\n",
            "100001 is not prime, it divides by 11\n",
            "100001 is not prime, it divides by 11\n",
            "100001 is not prime, it divides by 11\n",
            "100001 is not prime, it divides by 11\n",
            "100001 is not prime, it divides by 11\n",
            "100001 is not prime, it divides by 11\n",
            "100001 is not prime, it divides by 11\n",
            "100001 is not prime, it divides by 11\n",
            "100001 is not prime, it divides by 11\n",
            "100001 is not prime, it divides by 11\n",
            "100001 is not prime, it divides by 11\n",
            "100001 is not prime, it divides by 11\n",
            "100001 is not prime, it divides by 11\n",
            "100001 is not prime, it divides by 11\n",
            "100001 is not prime, it divides by 11\n",
            "100001 is not prime, it divides by 11\n",
            "100001 is not prime, it divides by 11\n",
            "100001 is not prime, it divides by 11\n",
            "100001 is not prime, it divides by 11\n",
            "100001 is not prime, it divides by 11\n",
            "100001 is not prime, it divides by 11\n",
            "100001 is not prime, it divides by 11\n",
            "100001 is not prime, it divides by 11\n",
            "100001 is not prime, it divides by 11\n",
            "100001 is not prime, it divides by 11\n",
            "100001 is not prime, it divides by 11\n",
            "100001 is not prime, it divides by 11\n",
            "100001 is not prime, it divides by 11\n",
            "100001 is not prime, it divides by 11\n",
            "100001 is not prime, it divides by 11\n",
            "100001 is not prime, it divides by 11\n",
            "100001 is not prime, it divides by 11\n",
            "100001 is not prime, it divides by 11\n",
            "100001 is not prime, it divides by 11\n",
            "100001 is not prime, it divides by 11\n",
            "100001 is not prime, it divides by 11\n",
            "100001 is not prime, it divides by 11\n",
            "100001 is not prime, it divides by 11\n",
            "100001 is not prime, it divides by 11\n",
            "100001 is not prime, it divides by 11\n",
            "100001 is not prime, it divides by 11\n",
            "100001 is not prime, it divides by 11\n",
            "100001 is not prime, it divides by 11\n",
            "100001 is not prime, it divides by 11\n",
            "100001 is not prime, it divides by 11\n",
            "100001 is not prime, it divides by 11\n",
            "100001 is not prime, it divides by 11\n",
            "100001 is not prime, it divides by 11\n",
            "100001 is not prime, it divides by 11\n",
            "100001 is not prime, it divides by 11\n",
            "100001 is not prime, it divides by 11\n",
            "100001 is not prime, it divides by 11\n",
            "100001 is not prime, it divides by 11\n",
            "100001 is not prime, it divides by 11\n",
            "100001 is not prime, it divides by 11\n",
            "100001 is not prime, it divides by 11\n",
            "100001 is not prime, it divides by 11\n",
            "100001 is not prime, it divides by 11\n",
            "100001 is not prime, it divides by 11\n",
            "100001 is not prime, it divides by 11\n",
            "100001 is not prime, it divides by 11\n",
            "100001 is not prime, it divides by 11\n",
            "100001 is not prime, it divides by 11\n",
            "100001 is not prime, it divides by 11\n",
            "100001 is not prime, it divides by 11\n",
            "100001 is not prime, it divides by 11\n",
            "100001 is not prime, it divides by 11\n",
            "100001 is not prime, it divides by 11\n",
            "100001 is not prime, it divides by 11\n",
            "100001 is not prime, it divides by 11\n",
            "100001 is not prime, it divides by 11\n",
            "100001 is not prime, it divides by 11\n",
            "100001 is not prime, it divides by 11\n",
            "100001 is not prime, it divides by 11\n",
            "100001 is not prime, it divides by 11\n",
            "100001 is not prime, it divides by 11\n",
            "100001 is not prime, it divides by 11\n",
            "100001 is not prime, it divides by 11\n",
            "100001 is not prime, it divides by 11\n",
            "100001 is not prime, it divides by 11\n",
            "100001 is not prime, it divides by 11\n",
            "100001 is not prime, it divides by 11\n",
            "100001 is not prime, it divides by 11\n",
            "100001 is not prime, it divides by 11\n",
            "100001 is not prime, it divides by 11\n",
            "100001 is not prime, it divides by 11\n",
            "100001 is not prime, it divides by 11\n",
            "100001 is not prime, it divides by 11\n",
            "100001 is not prime, it divides by 11\n",
            "100001 is not prime, it divides by 11\n",
            "100001 is not prime, it divides by 11\n",
            "100001 is not prime, it divides by 11\n",
            "100001 is not prime, it divides by 11\n",
            "100001 is not prime, it divides by 11\n",
            "100001 is not prime, it divides by 11\n",
            "100001 is not prime, it divides by 11\n",
            "100001 is not prime, it divides by 11\n",
            "100001 is not prime, it divides by 11\n",
            "100001 is not prime, it divides by 11\n",
            "100001 is not prime, it divides by 11\n",
            "100001 is not prime, it divides by 11\n",
            "100001 is not prime, it divides by 11\n",
            "100001 is not prime, it divides by 11\n",
            "100001 is not prime, it divides by 11\n",
            "100001 is not prime, it divides by 11\n",
            "100001 is not prime, it divides by 11\n",
            "100001 is not prime, it divides by 11\n",
            "100001 is not prime, it divides by 11\n",
            "100001 is not prime, it divides by 11\n",
            "100001 is not prime, it divides by 11\n",
            "100001 is not prime, it divides by 11\n",
            "100001 is not prime, it divides by 11\n",
            "100001 is not prime, it divides by 11\n",
            "100001 is not prime, it divides by 11\n",
            "100001 is not prime, it divides by 11\n",
            "100001 is not prime, it divides by 11\n",
            "100001 is not prime, it divides by 11\n",
            "100001 is not prime, it divides by 11\n",
            "100001 is not prime, it divides by 11\n",
            "100001 is not prime, it divides by 11\n",
            "100001 is not prime, it divides by 11\n",
            "100001 is not prime, it divides by 11\n",
            "100001 is not prime, it divides by 11\n",
            "100001 is not prime, it divides by 11\n",
            "100001 is not prime, it divides by 11\n",
            "100001 is not prime, it divides by 11\n",
            "100001 is not prime, it divides by 11\n",
            "100001 is not prime, it divides by 11\n",
            "100001 is not prime, it divides by 11\n",
            "100001 is not prime, it divides by 11\n",
            "100001 is not prime, it divides by 11\n",
            "100001 is not prime, it divides by 11\n",
            "100001 is not prime, it divides by 11\n",
            "100001 is not prime, it divides by 11\n",
            "100001 is not prime, it divides by 11\n",
            "100001 is not prime, it divides by 11\n",
            "100001 is not prime, it divides by 11\n",
            "100001 is not prime, it divides by 11\n",
            "100001 is not prime, it divides by 11\n",
            "100001 is not prime, it divides by 11\n",
            "100001 is not prime, it divides by 11\n",
            "100001 is not prime, it divides by 11\n",
            "100001 is not prime, it divides by 11\n",
            "100001 is not prime, it divides by 11\n",
            "100001 is not prime, it divides by 11\n",
            "100001 is not prime, it divides by 11\n",
            "100001 is not prime, it divides by 11\n",
            "100001 is not prime, it divides by 11\n",
            "100001 is not prime, it divides by 11\n",
            "100001 is not prime, it divides by 11\n",
            "100001 is not prime, it divides by 11\n",
            "100001 is not prime, it divides by 11\n",
            "100001 is not prime, it divides by 11\n",
            "100001 is not prime, it divides by 11\n",
            "100001 is not prime, it divides by 11\n",
            "100001 is not prime, it divides by 11\n",
            "100001 is not prime, it divides by 11\n",
            "100001 is not prime, it divides by 11\n",
            "100001 is not prime, it divides by 11\n",
            "100001 is not prime, it divides by 11\n",
            "100001 is not prime, it divides by 11\n",
            "100001 is not prime, it divides by 11\n",
            "100001 is not prime, it divides by 11\n",
            "100001 is not prime, it divides by 11\n",
            "100001 is not prime, it divides by 11\n",
            "100001 is not prime, it divides by 11\n",
            "100001 is not prime, it divides by 11\n",
            "100001 is not prime, it divides by 11\n",
            "100001 is not prime, it divides by 11\n",
            "100001 is not prime, it divides by 11\n",
            "100001 is not prime, it divides by 11\n",
            "100001 is not prime, it divides by 11\n",
            "100001 is not prime, it divides by 11\n",
            "100001 is not prime, it divides by 11\n",
            "100001 is not prime, it divides by 11\n",
            "100001 is not prime, it divides by 11\n",
            "100001 is not prime, it divides by 11\n",
            "100001 is not prime, it divides by 11\n",
            "100001 is not prime, it divides by 11\n",
            "100001 is not prime, it divides by 11\n",
            "100001 is not prime, it divides by 11\n",
            "100001 is not prime, it divides by 11\n",
            "100001 is not prime, it divides by 11\n",
            "100001 is not prime, it divides by 11\n",
            "100001 is not prime, it divides by 11\n",
            "100001 is not prime, it divides by 11\n",
            "100001 is not prime, it divides by 11\n",
            "100001 is not prime, it divides by 11\n",
            "100001 is not prime, it divides by 11\n",
            "100001 is not prime, it divides by 11\n",
            "100001 is not prime, it divides by 11\n",
            "100001 is not prime, it divides by 11\n",
            "100001 is not prime, it divides by 11\n",
            "100001 is not prime, it divides by 11\n",
            "100001 is not prime, it divides by 11\n",
            "100001 is not prime, it divides by 11\n",
            "100001 is not prime, it divides by 11\n",
            "100001 is not prime, it divides by 11\n",
            "100001 is not prime, it divides by 11\n",
            "100001 is not prime, it divides by 11\n",
            "100001 is not prime, it divides by 11\n",
            "100001 is not prime, it divides by 11\n",
            "100001 is not prime, it divides by 11\n",
            "100001 is not prime, it divides by 11\n",
            "100001 is not prime, it divides by 11\n",
            "100001 is not prime, it divides by 11\n",
            "100001 is not prime, it divides by 11\n",
            "100001 is not prime, it divides by 11\n",
            "100001 is not prime, it divides by 11\n",
            "100001 is not prime, it divides by 11\n",
            "100001 is not prime, it divides by 11\n",
            "100001 is not prime, it divides by 11\n",
            "100001 is not prime, it divides by 11\n",
            "100001 is not prime, it divides by 11\n",
            "100001 is not prime, it divides by 11\n",
            "100001 is not prime, it divides by 11\n",
            "100001 is not prime, it divides by 11\n",
            "100001 is not prime, it divides by 11\n",
            "100001 is not prime, it divides by 11\n",
            "100001 is not prime, it divides by 11\n",
            "100001 is not prime, it divides by 11\n",
            "100001 is not prime, it divides by 11\n",
            "100001 is not prime, it divides by 11\n",
            "100001 is not prime, it divides by 11\n",
            "100001 is not prime, it divides by 11\n",
            "100001 is not prime, it divides by 11\n",
            "100001 is not prime, it divides by 11\n",
            "100001 is not prime, it divides by 11\n",
            "100001 is not prime, it divides by 11\n",
            "100001 is not prime, it divides by 11\n",
            "100001 is not prime, it divides by 11\n",
            "100001 is not prime, it divides by 11\n",
            "100001 is not prime, it divides by 11\n",
            "100001 is not prime, it divides by 11\n",
            "100001 is not prime, it divides by 11\n",
            "100001 is not prime, it divides by 11\n",
            "100001 is not prime, it divides by 11\n",
            "100001 is not prime, it divides by 11\n",
            "100001 is not prime, it divides by 11\n",
            "100001 is not prime, it divides by 11\n",
            "100001 is not prime, it divides by 11\n",
            "100001 is not prime, it divides by 11\n",
            "100001 is not prime, it divides by 11\n",
            "100001 is not prime, it divides by 11\n",
            "100001 is not prime, it divides by 11\n",
            "100001 is not prime, it divides by 11\n",
            "100001 is not prime, it divides by 11\n",
            "100001 is not prime, it divides by 11\n",
            "100001 is not prime, it divides by 11\n",
            "100001 is not prime, it divides by 11\n",
            "100001 is not prime, it divides by 11\n",
            "100001 is not prime, it divides by 11\n",
            "100001 is not prime, it divides by 11\n",
            "100001 is not prime, it divides by 11\n",
            "100001 is not prime, it divides by 11\n",
            "100001 is not prime, it divides by 11\n",
            "100001 is not prime, it divides by 11\n",
            "100001 is not prime, it divides by 11\n",
            "100001 is not prime, it divides by 11\n",
            "100001 is not prime, it divides by 11\n",
            "100001 is not prime, it divides by 11\n",
            "100001 is not prime, it divides by 11\n",
            "100001 is not prime, it divides by 11\n",
            "100001 is not prime, it divides by 11\n",
            "100001 is not prime, it divides by 11\n",
            "100001 is not prime, it divides by 11\n",
            "100001 is not prime, it divides by 11\n",
            "100001 is not prime, it divides by 11\n",
            "100001 is not prime, it divides by 11\n",
            "100001 is not prime, it divides by 11\n",
            "100001 is not prime, it divides by 11\n",
            "100001 is not prime, it divides by 11\n",
            "100001 is not prime, it divides by 11\n",
            "100001 is not prime, it divides by 11\n",
            "100001 is not prime, it divides by 11\n",
            "100001 is not prime, it divides by 11\n",
            "100001 is not prime, it divides by 11\n",
            "100001 is not prime, it divides by 11\n",
            "100001 is not prime, it divides by 11\n",
            "100001 is not prime, it divides by 11\n",
            "100001 is not prime, it divides by 11\n",
            "100001 is not prime, it divides by 11\n",
            "100001 is not prime, it divides by 11\n",
            "100001 is not prime, it divides by 11\n",
            "100001 is not prime, it divides by 11\n",
            "100001 is not prime, it divides by 11\n",
            "100001 is not prime, it divides by 11\n",
            "100001 is not prime, it divides by 11\n",
            "100001 is not prime, it divides by 11\n",
            "100001 is not prime, it divides by 11\n",
            "100001 is not prime, it divides by 11\n",
            "100001 is not prime, it divides by 11\n",
            "100001 is not prime, it divides by 11\n",
            "100001 is not prime, it divides by 11\n",
            "100001 is not prime, it divides by 11\n",
            "100001 is not prime, it divides by 11\n",
            "100001 is not prime, it divides by 11\n",
            "100001 is not prime, it divides by 11\n",
            "100001 is not prime, it divides by 11\n",
            "100001 is not prime, it divides by 11\n",
            "100001 is not prime, it divides by 11\n",
            "100001 is not prime, it divides by 11\n",
            "100001 is not prime, it divides by 11\n",
            "100001 is not prime, it divides by 11\n",
            "100001 is not prime, it divides by 11\n",
            "100001 is not prime, it divides by 11\n",
            "100001 is not prime, it divides by 11\n",
            "100001 is not prime, it divides by 11\n",
            "100001 is not prime, it divides by 11\n",
            "100001 is not prime, it divides by 11\n",
            "100001 is not prime, it divides by 11\n",
            "100001 is not prime, it divides by 11\n",
            "100001 is not prime, it divides by 11\n",
            "100001 is not prime, it divides by 11\n",
            "100001 is not prime, it divides by 11\n",
            "100001 is not prime, it divides by 11\n",
            "100001 is not prime, it divides by 11\n",
            "100001 is not prime, it divides by 11\n",
            "100001 is not prime, it divides by 11\n",
            "100001 is not prime, it divides by 11\n",
            "100001 is not prime, it divides by 11\n",
            "100001 is not prime, it divides by 11\n",
            "100001 is not prime, it divides by 11\n",
            "100001 is not prime, it divides by 11\n",
            "100001 is not prime, it divides by 11\n",
            "100001 is not prime, it divides by 11\n",
            "100001 is not prime, it divides by 11\n",
            "100001 is not prime, it divides by 11\n",
            "100001 is not prime, it divides by 11\n",
            "100001 is not prime, it divides by 11\n",
            "100001 is not prime, it divides by 11\n",
            "100001 is not prime, it divides by 11\n",
            "100001 is not prime, it divides by 11\n",
            "100001 is not prime, it divides by 11\n",
            "100001 is not prime, it divides by 11\n",
            "100001 is not prime, it divides by 11\n",
            "100001 is not prime, it divides by 11\n",
            "100001 is not prime, it divides by 11\n",
            "100001 is not prime, it divides by 11\n",
            "100001 is not prime, it divides by 11\n",
            "100001 is not prime, it divides by 11\n",
            "100001 is not prime, it divides by 11\n",
            "100001 is not prime, it divides by 11\n",
            "100001 is not prime, it divides by 11\n",
            "100001 is not prime, it divides by 11\n",
            "100001 is not prime, it divides by 11\n",
            "100001 is not prime, it divides by 11\n",
            "100001 is not prime, it divides by 11\n",
            "100001 is not prime, it divides by 11\n",
            "100001 is not prime, it divides by 11\n",
            "100001 is not prime, it divides by 11\n",
            "100001 is not prime, it divides by 11\n",
            "100001 is not prime, it divides by 11\n",
            "100001 is not prime, it divides by 11\n",
            "100001 is not prime, it divides by 11\n",
            "100001 is not prime, it divides by 11\n",
            "100001 is not prime, it divides by 11\n",
            "100001 is not prime, it divides by 11\n",
            "100001 is not prime, it divides by 11\n",
            "100001 is not prime, it divides by 11\n",
            "100001 is not prime, it divides by 11\n",
            "100001 is not prime, it divides by 11\n",
            "100001 is not prime, it divides by 11\n",
            "100001 is not prime, it divides by 11\n",
            "100001 is not prime, it divides by 11\n",
            "100001 is not prime, it divides by 11\n",
            "100001 is not prime, it divides by 11\n",
            "100001 is not prime, it divides by 11\n",
            "100001 is not prime, it divides by 11\n",
            "100001 is not prime, it divides by 11\n",
            "100001 is not prime, it divides by 11\n",
            "100001 is not prime, it divides by 11\n",
            "100001 is not prime, it divides by 11\n",
            "100001 is not prime, it divides by 11\n",
            "100001 is not prime, it divides by 11\n",
            "100001 is not prime, it divides by 11\n",
            "100001 is not prime, it divides by 11\n",
            "100001 is not prime, it divides by 11\n",
            "100001 is not prime, it divides by 11\n",
            "100001 is not prime, it divides by 11\n",
            "100001 is not prime, it divides by 11\n",
            "100001 is not prime, it divides by 11\n",
            "100001 is not prime, it divides by 11\n",
            "100001 is not prime, it divides by 11\n",
            "100001 is not prime, it divides by 11\n",
            "100001 is not prime, it divides by 11\n",
            "100001 is not prime, it divides by 11\n",
            "100001 is not prime, it divides by 11\n",
            "100001 is not prime, it divides by 11\n",
            "100001 is not prime, it divides by 11\n",
            "100001 is not prime, it divides by 11\n",
            "100001 is not prime, it divides by 11\n",
            "100001 is not prime, it divides by 11\n",
            "100001 is not prime, it divides by 11\n",
            "100001 is not prime, it divides by 11\n",
            "100001 is not prime, it divides by 11\n",
            "100001 is not prime, it divides by 11\n",
            "100001 is not prime, it divides by 11\n",
            "100001 is not prime, it divides by 11\n",
            "100001 is not prime, it divides by 11\n",
            "100001 is not prime, it divides by 11\n",
            "100001 is not prime, it divides by 11\n",
            "100001 is not prime, it divides by 11\n",
            "100001 is not prime, it divides by 11\n",
            "100001 is not prime, it divides by 11\n",
            "100001 is not prime, it divides by 11\n",
            "100001 is not prime, it divides by 11\n",
            "100001 is not prime, it divides by 11\n",
            "100001 is not prime, it divides by 11\n",
            "100001 is not prime, it divides by 11\n",
            "100001 is not prime, it divides by 11\n",
            "100001 is not prime, it divides by 11\n",
            "100001 is not prime, it divides by 11\n",
            "100001 is not prime, it divides by 11\n",
            "100001 is not prime, it divides by 11\n",
            "100001 is not prime, it divides by 11\n",
            "100001 is not prime, it divides by 11\n",
            "100001 is not prime, it divides by 11\n",
            "100001 is not prime, it divides by 11\n",
            "10000 loops, best of 5: 107 µs per loop\n"
          ]
        }
      ],
      "source": [
        "%timeit isPrime(100001)\n"
      ]
    },
    {
      "cell_type": "code",
      "execution_count": null,
      "metadata": {
        "id": "2ZrBVmUOkYmy"
      },
      "outputs": [],
      "source": [
        "# Why are the tests not comparable?\n",
        "# Hint: What is different about the function outputs?"
      ]
    },
    {
      "cell_type": "code",
      "execution_count": null,
      "metadata": {
        "id": "EqD23oU9kYmz"
      },
      "outputs": [],
      "source": [
        "def isPrimeSimple(num):\n",
        "    '''\n",
        "    Super simple method of checking for prime. \n",
        "    '''\n",
        "    for n in range(2,num): #How could we optimize this?\n",
        "        if num % n == 0:\n",
        "#             print(f'{num} is not prime, it divides by {n}')\n",
        "            return False\n",
        "    else: # runs when no divisors found\n",
        "#         print(f'{num} is prime')\n",
        "        return True"
      ]
    },
    {
      "cell_type": "code",
      "execution_count": null,
      "metadata": {
        "id": "_N25GarYkYmz"
      },
      "outputs": [],
      "source": [
        "isPrimeSimple(100001)"
      ]
    },
    {
      "cell_type": "code",
      "execution_count": null,
      "metadata": {
        "id": "F_2Xxkg7kYmz"
      },
      "outputs": [],
      "source": [
        "%timeit isPrimeSimple(100001)\n",
        "# when using %timeit you should take off print because you will have lots of output to your browser/output"
      ]
    },
    {
      "cell_type": "code",
      "execution_count": null,
      "metadata": {
        "id": "hwJGDC6XkYmz"
      },
      "outputs": [],
      "source": [
        "max(3,7,2)"
      ]
    },
    {
      "cell_type": "code",
      "execution_count": null,
      "metadata": {
        "id": "pGxn_G74kYmz"
      },
      "outputs": [],
      "source": [
        "# notice that max function works with variable argument count(could 2 could 1000) or more\n",
        "max(5,2,7,222,1000, -555)"
      ]
    },
    {
      "cell_type": "code",
      "execution_count": null,
      "metadata": {
        "id": "AY6jC-VdkYmz"
      },
      "outputs": [],
      "source": [
        "def getLargest(a,b,c):\n",
        "    result = 0\n",
        "    if a > b:\n",
        "        print(\"Aha a is largest\",a)\n",
        "        result = a\n",
        "    else:\n",
        "        print(\"Aha b is largest\",b)\n",
        "        result = b\n",
        "        \n",
        "    if c > result:\n",
        "        print(\"Hmm c is the largest of them all\", c)\n",
        "        result = c \n",
        "        \n",
        "    return result"
      ]
    },
    {
      "cell_type": "code",
      "execution_count": null,
      "metadata": {
        "id": "DoytQcY6kYmz"
      },
      "outputs": [],
      "source": [
        "getLargest(-33,-455, -555)"
      ]
    },
    {
      "cell_type": "code",
      "execution_count": null,
      "metadata": {
        "id": "IOFL2I87kYmz"
      },
      "outputs": [],
      "source": [
        "getLargest(333,0,500)"
      ]
    },
    {
      "cell_type": "code",
      "execution_count": null,
      "metadata": {
        "id": "Ghff_skEkYm0"
      },
      "outputs": [],
      "source": [
        "5 > 3 > 2"
      ]
    },
    {
      "cell_type": "code",
      "execution_count": null,
      "metadata": {
        "id": "5HSbNJ2ekYm0"
      },
      "outputs": [],
      "source": [
        "3 > 2 > 6"
      ]
    },
    {
      "cell_type": "code",
      "execution_count": null,
      "metadata": {
        "id": "6wf5v-RakYm0"
      },
      "outputs": [],
      "source": [
        "# with import we can use other libraries\n",
        "import random"
      ]
    },
    {
      "cell_type": "code",
      "execution_count": null,
      "metadata": {
        "id": "9BNT2E9QkYm0"
      },
      "outputs": [],
      "source": [
        "random.random()"
      ]
    },
    {
      "cell_type": "code",
      "execution_count": null,
      "metadata": {
        "id": "HNjoaQJgkYm0"
      },
      "outputs": [],
      "source": [
        "random.randrange(2)"
      ]
    },
    {
      "cell_type": "code",
      "execution_count": null,
      "metadata": {
        "id": "4U7j8RGfkYm0"
      },
      "outputs": [],
      "source": [
        "def guessnum():\n",
        "    '''\n",
        "    Plays the number guessing game\n",
        "    '''\n",
        "    secret = random.randrange(100)\n",
        "    #print(secret)\n",
        "    x=-1 #Why did we need this declaration? How could we change the code to not require this assignment?\n",
        "    while x != secret:\n",
        "        x = int(input(\"Enter an integer please! \"))\n",
        "        if x > secret:\n",
        "            print(\"your number is too large\")\n",
        "        elif x < secret:\n",
        "            print(\"your number is too small\")\n",
        "        elif x == 555:\n",
        "            print(\"Secret Exit\")\n",
        "            break\n",
        "        else:\n",
        "            print(\"YOU WON!\")\n",
        "            print(f\"secret number is {secret}\")\n",
        "            break\n",
        "guessnum()\n",
        "    "
      ]
    },
    {
      "cell_type": "code",
      "execution_count": null,
      "metadata": {
        "id": "tlQWnUQYkYm0"
      },
      "outputs": [],
      "source": [
        "def guessnumCorr():\n",
        "    '''\n",
        "    Plays the number guessing game\n",
        "    '''\n",
        "    secret = random.randrange(100)\n",
        "    #print(secret)\n",
        "    x=-1 #Why did we need this declaration? How could we change the code to not require this assignment?\n",
        "    while x != secret:\n",
        "        x = int(input(\"Enter an integer please! \"))\n",
        "        if x == 555:\n",
        "            print(\"Secret Exit\")\n",
        "            break\n",
        "        elif x > secret:\n",
        "            print(\"your number is too large\")\n",
        "        elif x < secret:\n",
        "            print(\"your number is too small\")\n",
        "        else:\n",
        "            print(\"YOU WON!\")\n",
        "            print(f\"secret number is {secret}\")\n",
        "            break\n",
        "guessnumCorr()\n",
        "    "
      ]
    },
    {
      "cell_type": "code",
      "execution_count": null,
      "metadata": {
        "id": "u1RD0a9QkYm0"
      },
      "outputs": [],
      "source": [
        "guessnum()"
      ]
    },
    {
      "cell_type": "code",
      "execution_count": null,
      "metadata": {
        "id": "t_rxeojbkYm1"
      },
      "outputs": [],
      "source": [
        "## Possible improvements, count how many tries it took to play the game"
      ]
    },
    {
      "cell_type": "code",
      "execution_count": null,
      "metadata": {
        "id": "sBhali_2kYm1"
      },
      "outputs": [],
      "source": [
        "def lazypow(a, b=2):\n",
        "    '''Returns a taken to the power of b\n",
        "    b default is 2'''\n",
        "    return(a**b)\n"
      ]
    },
    {
      "cell_type": "code",
      "execution_count": null,
      "metadata": {
        "id": "LbQaSbAfkYm1"
      },
      "outputs": [],
      "source": [
        "lazypow(5)"
      ]
    },
    {
      "cell_type": "code",
      "execution_count": null,
      "metadata": {
        "id": "qkkO_iWAkYm1"
      },
      "outputs": [],
      "source": [
        "lazypow(5,3)"
      ]
    },
    {
      "cell_type": "code",
      "execution_count": null,
      "metadata": {
        "id": "PSJZ3uh4kYm1"
      },
      "outputs": [],
      "source": [
        "print(lazypow(3,4))\n",
        "print(lazypow(11))"
      ]
    },
    {
      "cell_type": "code",
      "execution_count": null,
      "metadata": {
        "id": "eXcPQ9WAkYm1"
      },
      "outputs": [],
      "source": [
        "#Chaining function calls\n",
        "print(lazypow(mult(2,6)))"
      ]
    },
    {
      "cell_type": "code",
      "execution_count": null,
      "metadata": {
        "id": "Fx0Ynl_fkYm1"
      },
      "outputs": [],
      "source": [
        "print(lazypow(mult(2,6), 3))"
      ]
    },
    {
      "cell_type": "code",
      "execution_count": null,
      "metadata": {
        "id": "BXsryFtqkYm2"
      },
      "outputs": [],
      "source": [
        "12**3\n"
      ]
    },
    {
      "cell_type": "code",
      "execution_count": null,
      "metadata": {
        "id": "j5zl6qiskYm2"
      },
      "outputs": [],
      "source": [
        "print(lazypow(mult(3,5), 4))"
      ]
    },
    {
      "cell_type": "code",
      "execution_count": null,
      "metadata": {
        "id": "ns56mmZ5kYm2"
      },
      "outputs": [],
      "source": [
        "#Returning multiple values\n",
        "def multdiv(a=6,b=3):\n",
        "    '''Returns two values as a tuple!:\n",
        "    1. multiplication of arguments\n",
        "    2. a/b\n",
        "    '''\n",
        "    return a*b, a/b\n"
      ]
    },
    {
      "cell_type": "code",
      "execution_count": null,
      "metadata": {
        "id": "HZLEpQYQkYm2"
      },
      "outputs": [],
      "source": [
        "res = multdiv()\n",
        "print(res)"
      ]
    },
    {
      "cell_type": "code",
      "execution_count": null,
      "metadata": {
        "id": "ajP7loh-kYm2"
      },
      "outputs": [],
      "source": [
        "type(res)"
      ]
    },
    {
      "cell_type": "code",
      "execution_count": null,
      "metadata": {
        "id": "HOtWU-KbkYm2"
      },
      "outputs": [],
      "source": [
        "result = multdiv(4,3)"
      ]
    },
    {
      "cell_type": "code",
      "execution_count": null,
      "metadata": {
        "id": "_pVZ4TmokYm2"
      },
      "outputs": [],
      "source": [
        "result"
      ]
    },
    {
      "cell_type": "code",
      "execution_count": null,
      "metadata": {
        "id": "r0YT8kiCkYm2"
      },
      "outputs": [],
      "source": [
        "type(result)"
      ]
    },
    {
      "cell_type": "code",
      "execution_count": null,
      "metadata": {
        "id": "AN-eXewGkYm3"
      },
      "outputs": [],
      "source": [
        "result[0]"
      ]
    },
    {
      "cell_type": "code",
      "execution_count": null,
      "metadata": {
        "id": "c6W4mZ5QkYm3"
      },
      "outputs": [],
      "source": [
        "result[1]"
      ]
    },
    {
      "cell_type": "code",
      "execution_count": null,
      "metadata": {
        "id": "7jErh1nmkYm3"
      },
      "outputs": [],
      "source": [
        "result = None"
      ]
    },
    {
      "cell_type": "code",
      "execution_count": null,
      "metadata": {
        "id": "1mrc1242kYm3"
      },
      "outputs": [],
      "source": [
        "mytuple = tuple(range(1,11))"
      ]
    },
    {
      "cell_type": "code",
      "execution_count": null,
      "metadata": {
        "id": "IAS_hOLJkYm3"
      },
      "outputs": [],
      "source": [
        "mytuple"
      ]
    },
    {
      "cell_type": "code",
      "execution_count": null,
      "metadata": {
        "id": "NG28vcE_kYm3"
      },
      "outputs": [],
      "source": [
        "mytuple[::-1]"
      ]
    },
    {
      "cell_type": "code",
      "execution_count": null,
      "metadata": {
        "id": "pT6CAmkLkYm3"
      },
      "outputs": [],
      "source": [
        "mytuple[3:7:2]"
      ]
    },
    {
      "cell_type": "code",
      "execution_count": null,
      "metadata": {
        "id": "58dQ5nc8kYm3"
      },
      "outputs": [],
      "source": [
        "mylist = list(mytuple)"
      ]
    },
    {
      "cell_type": "code",
      "execution_count": null,
      "metadata": {
        "id": "VqXoqwGxkYm5"
      },
      "outputs": [],
      "source": [
        "mylist"
      ]
    },
    {
      "cell_type": "code",
      "execution_count": null,
      "metadata": {
        "id": "V6CFqh2RkYm5"
      },
      "outputs": [],
      "source": [
        ""
      ]
    },
    {
      "cell_type": "code",
      "execution_count": null,
      "metadata": {
        "id": "7Ye2WML5kYm5"
      },
      "outputs": [],
      "source": [
        "print(multdiv())\n",
        "print(multdiv(12))\n",
        "print(multdiv(b=4))\n",
        "print(multdiv(15,3))\n",
        "# we could just return two values separately"
      ]
    },
    {
      "cell_type": "code",
      "execution_count": null,
      "metadata": {
        "id": "t6m7lytFkYm6"
      },
      "outputs": [],
      "source": [
        "Create a lazybuzz function which takes four arguments with default values of 3,5 , 1 and 100 representing the two divisors the beggining and end"
      ]
    },
    {
      "cell_type": "markdown",
      "metadata": {
        "id": "CHJzi2yckYm6"
      },
      "source": [
        "# Side effects\n",
        "\n",
        "In computer science, a function or expression is said to have a side effect if it modifies some state outside its scope or has an observable interaction with its calling functions or the outside world besides returning a value.\n",
        "* Ideal (Platonic?) function has none, but not always possible(input/output, globals)\n",
        "* Functional programming style strives towards this ideal, but real life is mixture of styles"
      ]
    },
    {
      "cell_type": "code",
      "execution_count": null,
      "metadata": {
        "id": "E1TtDLFXkYm6"
      },
      "outputs": [],
      "source": [
        "%%time\n",
        "import time #this time library has nothing to do with %%time Jupyter command\n",
        "def hello():\n",
        "    print(\"HW\")\n",
        "    time.sleep(.100)\n",
        "    print(\"Awake\")\n",
        "    \n",
        "hello()\n",
        "hello()"
      ]
    },
    {
      "cell_type": "code",
      "execution_count": null,
      "metadata": {
        "id": "JdHtGyZbkYm6"
      },
      "outputs": [],
      "source": [
        "##Built-in Functions\t\t\n",
        "abs()   dict()\thelp()\tmin()\tsetattr()\n",
        "all()\tdir()\thex()\tnext()\tslice()\n",
        "any()\tdivmod()\tid()\tobject()\tsorted()\n",
        "ascii()\tenumerate()\tinput()\toct()\tstaticmethod()\n",
        "bin()\teval()\tint()\topen()\tstr()\n",
        "bool()\texec()\tisinstance()\tord()\tsum()\n",
        "bytearray()\tfilter()\tissubclass()\tpow()\tsuper()\n",
        "bytes()\tfloat()\titer()\tprint()\ttuple()\n",
        "callable()\tformat()\tlen()\tproperty()\ttype()\n",
        "chr()\tfrozenset()\tlist()\trange()\tvars()\n",
        "classmethod()\tgetattr()\tlocals()\trepr()\tzip()\n",
        "compile()\tglobals()\tmap()\treversed()\t__import__()\n",
        "complex()\thasattr()\tmax()\tround()\t \n",
        "delattr()\thash()\tmemoryview()\tset()"
      ]
    },
    {
      "cell_type": "markdown",
      "metadata": {
        "id": "x_yBOoIwkYm6"
      },
      "source": [
        "### More info on builtin functions: https://docs.python.org/3/library/functions.html"
      ]
    },
    {
      "cell_type": "code",
      "source": [
        "all([True, True, True])"
      ],
      "metadata": {
        "id": "fTmQK877zGSG",
        "outputId": "0b1f4b75-2ad8-4299-dff2-e4a8e4dea45c",
        "colab": {
          "base_uri": "https://localhost:8080/"
        }
      },
      "execution_count": 95,
      "outputs": [
        {
          "output_type": "execute_result",
          "data": {
            "text/plain": [
              "True"
            ]
          },
          "metadata": {},
          "execution_count": 95
        }
      ]
    },
    {
      "cell_type": "code",
      "source": [
        "all([True, True, True, False, True])"
      ],
      "metadata": {
        "id": "Xv4MVWFHzJs1",
        "outputId": "975976d7-c356-40ad-cdd2-ce523dea1b62",
        "colab": {
          "base_uri": "https://localhost:8080/"
        }
      },
      "execution_count": 96,
      "outputs": [
        {
          "output_type": "execute_result",
          "data": {
            "text/plain": [
              "False"
            ]
          },
          "metadata": {},
          "execution_count": 96
        }
      ]
    },
    {
      "cell_type": "code",
      "source": [
        "any([True, False, False])"
      ],
      "metadata": {
        "id": "92pA6kuhzNGY",
        "outputId": "a5203474-7c72-4cc2-8298-978e57f305aa",
        "colab": {
          "base_uri": "https://localhost:8080/"
        }
      },
      "execution_count": 97,
      "outputs": [
        {
          "output_type": "execute_result",
          "data": {
            "text/plain": [
              "True"
            ]
          },
          "metadata": {},
          "execution_count": 97
        }
      ]
    },
    {
      "cell_type": "code",
      "source": [
        "any([False, False, False, False])"
      ],
      "metadata": {
        "id": "vmq410OAzPpw",
        "outputId": "6d30b7ca-7c93-47b4-bd6e-70c86e897b3c",
        "colab": {
          "base_uri": "https://localhost:8080/"
        }
      },
      "execution_count": 98,
      "outputs": [
        {
          "output_type": "execute_result",
          "data": {
            "text/plain": [
              "False"
            ]
          },
          "metadata": {},
          "execution_count": 98
        }
      ]
    },
    {
      "cell_type": "markdown",
      "metadata": {
        "id": "-Q89czLZkYm6"
      },
      "source": [
        "# Usage of *args \n",
        "\n",
        " *args and **kwargs are mostly used in function definitions. *args and **kwargs allow you to pass a variable number of arguments to a function. What does variable mean here is that you do not know before hand that how many arguments can be passed to your function by the user so in this case you use these two keywords. *args is used to send a non-keyworded variable length argument list to the function.\n",
        " \n",
        "\n"
      ]
    },
    {
      "cell_type": "code",
      "execution_count": null,
      "metadata": {
        "id": "neGKX0BlkYm7",
        "outputId": "2c1f6f7c-641c-415e-b21a-ac302358a517"
      },
      "outputs": [
        {
          "name": "stdout",
          "output_type": "stream",
          "text": [
            "first normal arg: yasoob\n",
            "another arg through *argv : python\n",
            "another arg through *argv : eggs\n",
            "another arg through *argv : test\n"
          ]
        }
      ],
      "source": [
        "# you can pass multiple arguments in a function without specifying them in advance\n",
        "def test_var_args(f_arg=\"Valdis\", *argv):\n",
        "    print(\"first normal arg:\", f_arg)\n",
        "    for arg in argv:\n",
        "        print(\"another arg through *argv :\", arg)\n",
        "\n",
        "test_var_args('yasoob','python','eggs','test')"
      ]
    },
    {
      "cell_type": "code",
      "execution_count": null,
      "metadata": {
        "id": "6V5BnN9IkYm7",
        "outputId": "0df540ae-770c-4b7f-a503-287c6fe39328"
      },
      "outputs": [
        {
          "name": "stdout",
          "output_type": "stream",
          "text": [
            "first normal arg: Valdis\n",
            "another arg through *argv : RTU\n"
          ]
        }
      ],
      "source": [
        "test_var_args(\"Valdis\", \"RTU\")"
      ]
    },
    {
      "cell_type": "code",
      "execution_count": null,
      "metadata": {
        "id": "sV6Mxnt8kYm7",
        "outputId": "2381675d-3ee9-4f77-8268-41c02e8d477d"
      },
      "outputs": [
        {
          "name": "stdout",
          "output_type": "stream",
          "text": [
            "first normal arg: Valdis\n"
          ]
        }
      ],
      "source": [
        "test_var_args(\"Valdis\")"
      ]
    },
    {
      "cell_type": "code",
      "execution_count": null,
      "metadata": {
        "id": "JGAoGUGfkYm7",
        "outputId": "61879c05-2b80-4a1b-975a-b0a84c0f6980"
      },
      "outputs": [
        {
          "name": "stdout",
          "output_type": "stream",
          "text": [
            "first normal arg: Valdis\n"
          ]
        }
      ],
      "source": [
        "# this will not work unless i made f_arg a default\n",
        "test_var_args()"
      ]
    },
    {
      "cell_type": "code",
      "execution_count": null,
      "metadata": {
        "id": "avqlGlIEkYm7",
        "outputId": "3b9b1107-bb09-4fa5-a863-6e0e0579cb93"
      },
      "outputs": [
        {
          "name": "stdout",
          "output_type": "stream",
          "text": [
            "5 Ice cream Ice cream\n"
          ]
        }
      ],
      "source": [
        "print(5, dessert, food) # so print takes multiple arguments"
      ]
    },
    {
      "cell_type": "code",
      "execution_count": 99,
      "metadata": {
        "id": "vswBAbYIkYm7"
      },
      "outputs": [],
      "source": [
        "# Write a function to return result of multiplying ALL arguments\n",
        "# If no arguments given function should return 1\n",
        "def multMany(*argv):\n",
        "    result = 1\n",
        "    for num in argv:\n",
        "        result *= num # this is the same as result = result * num\n",
        "    return result"
      ]
    },
    {
      "cell_type": "code",
      "execution_count": 100,
      "metadata": {
        "id": "QNaezqNfkYm7",
        "outputId": "9aea974a-c306-4fa9-ed62-21497f4f5d3d",
        "colab": {
          "base_uri": "https://localhost:8080/"
        }
      },
      "outputs": [
        {
          "output_type": "execute_result",
          "data": {
            "text/plain": [
              "1"
            ]
          },
          "metadata": {},
          "execution_count": 100
        }
      ],
      "source": [
        "multMany()"
      ]
    },
    {
      "cell_type": "code",
      "execution_count": 101,
      "metadata": {
        "id": "F8n8nyQvkYm8",
        "outputId": "31d8435c-631c-40a4-bcca-5b259b1b8615",
        "colab": {
          "base_uri": "https://localhost:8080/"
        }
      },
      "outputs": [
        {
          "output_type": "execute_result",
          "data": {
            "text/plain": [
              "10590"
            ]
          },
          "metadata": {},
          "execution_count": 101
        }
      ],
      "source": [
        "multMany(1,3,5,353,2)"
      ]
    },
    {
      "cell_type": "markdown",
      "metadata": {
        "id": "_4ipjJj8kYm8"
      },
      "source": [
        "#Usage of **kwargs\n",
        "\n",
        "  **kwargs allows you to pass keyworded variable length of arguments to a function. You should use **kwargs if you want to handle named arguments in a function.\n",
        "  "
      ]
    },
    {
      "cell_type": "code",
      "execution_count": null,
      "metadata": {
        "id": "flwAH6ZZkYm8"
      },
      "outputs": [],
      "source": [
        ""
      ]
    },
    {
      "cell_type": "code",
      "execution_count": null,
      "metadata": {
        "id": "OHdgtmjwkYm8"
      },
      "outputs": [],
      "source": [
        "edict = {}"
      ]
    },
    {
      "cell_type": "code",
      "execution_count": null,
      "metadata": {
        "id": "Br2pSKZmkYm8"
      },
      "outputs": [],
      "source": [
        "edict.items()"
      ]
    },
    {
      "cell_type": "code",
      "execution_count": null,
      "metadata": {
        "id": "cVnYtgpjkYm8"
      },
      "outputs": [],
      "source": [
        "def greetMe(**kwargs):\n",
        "    if kwargs is not None:\n",
        "        for key, value in kwargs.items():\n",
        "            print(f\"{key} == {value}\")"
      ]
    },
    {
      "cell_type": "code",
      "execution_count": null,
      "metadata": {
        "id": "A7vBkBXykYm8"
      },
      "outputs": [],
      "source": [
        "greetMe(name=\"Valdis\",hobby=\"biking\",work=\"programming\")"
      ]
    },
    {
      "cell_type": "code",
      "execution_count": null,
      "metadata": {
        "id": "DCX5XJpXkYm8"
      },
      "outputs": [],
      "source": [
        "def defaultFun(a=6):\n",
        "    print(a)\n",
        "defaultFun(333)\n",
        "defaultFun()"
      ]
    },
    {
      "cell_type": "markdown",
      "metadata": {
        "id": "X1picZ5kkYm8"
      },
      "source": [
        "## Homework Problems"
      ]
    },
    {
      "cell_type": "code",
      "execution_count": 104,
      "metadata": {
        "id": "1Mmi3SCbkYm9",
        "outputId": "0775168b-aa1b-43f0-a8d0-427c96a3c90d",
        "colab": {
          "base_uri": "https://localhost:8080/"
        }
      },
      "outputs": [
        {
          "output_type": "stream",
          "name": "stdout",
          "text": [
            "True\n",
            "True\n"
          ]
        }
      ],
      "source": [
        "# Easy\n",
        "# Write a function to calculate volume for Rectangular Cuboid (visas malas ir taisnsturas 3D objektam)\n",
        "def getRectVol(l,w,h):\n",
        "    '''\n",
        "    Gets the volume of Cuboid\n",
        "    l - length\n",
        "    w - widght\n",
        "    h - height\n",
        "    '''\n",
        "    return l * w * h #You should be returning something not None!\n",
        "print(getRectVol(2,5,7) == 70)\n",
        "print(getRectVol(0,5,7) == 0)"
      ]
    },
    {
      "cell_type": "code",
      "execution_count": 106,
      "metadata": {
        "id": "271mbpwRkYm9",
        "outputId": "811f982c-3e7d-456d-dc13-8043168668b4",
        "colab": {
          "base_uri": "https://localhost:8080/"
        }
      },
      "outputs": [
        {
          "output_type": "execute_result",
          "data": {
            "text/plain": [
              "2500"
            ]
          },
          "metadata": {},
          "execution_count": 106
        }
      ],
      "source": [
        "getRectVol(5,1,500)"
      ]
    },
    {
      "cell_type": "code",
      "execution_count": 107,
      "metadata": {
        "id": "0rszKxXtkYm9",
        "outputId": "d00430db-e14a-401f-8257-ac3794946840",
        "colab": {
          "base_uri": "https://localhost:8080/"
        }
      },
      "outputs": [
        {
          "output_type": "stream",
          "name": "stdout",
          "text": [
            "True\n",
            "True\n",
            "True\n",
            "True\n",
            "True\n",
            "True\n"
          ]
        }
      ],
      "source": [
        "# Medium\n",
        "# Write a function to check if string is a palindrome\n",
        "# ignore whitespace and capital letters\n",
        "def isPalindrome(s):\n",
        "    '''\n",
        "    A palindrome is a word, number, phrase, or other sequence of characters which reads the same backward as forward, such as madam, racecar\n",
        "    '''\n",
        "    # lets do a bit of preprocessing first\n",
        "    clean_text = s.lower().replace(\" \", \"\") # could use upper doesnt matter\n",
        "    # this clean_text will live only inside the function\n",
        "    return clean_text == clean_text[::-1] # so we compare string to its reverse\n",
        "# test your function, you do not touch these test cases\n",
        "\n",
        "print(isPalindrome(\"Abba\") == True)\n",
        "print(isPalindrome(\"madam\") == True)\n",
        "print(isPalindrome(\"madamm\") == False)\n",
        "print(isPalindrome(\"race    car\") == True)\n",
        "print(isPalindrome('alusariirasula') == True)\n",
        "print(isPalindrome('normaltext') == False)"
      ]
    },
    {
      "cell_type": "code",
      "execution_count": null,
      "metadata": {
        "id": "eRpNhLDYkYm9"
      },
      "outputs": [],
      "source": [
        "dir(\"string\")"
      ]
    },
    {
      "cell_type": "code",
      "execution_count": null,
      "metadata": {
        "id": "0FMU_j_NkYm9"
      },
      "outputs": [],
      "source": [
        "string.ascii_lowercase"
      ]
    },
    {
      "cell_type": "code",
      "execution_count": null,
      "metadata": {
        "id": "rGQrHaOqkYm-"
      },
      "outputs": [],
      "source": [
        "# One liner is possible! Okay to do it a longer way\n",
        "# Hints: dir(\"mystring\") for string manipulation(might need more than one method)\n",
        "# Also remember one \"unique\" data structure we covered\n",
        "\n",
        "import string\n",
        "print(string.ascii_lowercase)\n",
        "def isPangram(mytext, a=string.ascii_lowercase):\n",
        "    '''\n",
        "    '''\n",
        "    print(mytext)\n",
        "    return None # here it should return True or False\n",
        "# assert(isPangram('dadfafd') == False)\n",
        "# assert(isPangram(\"The quick brown fox jumps over the lazy dog\") == True)\n",
        "# assert(isPangram(\"The five boxing wizards jump quickly\") == True)"
      ]
    },
    {
      "cell_type": "code",
      "execution_count": null,
      "metadata": {
        "id": "pOm5SqRwkYm-"
      },
      "outputs": [],
      "source": [
        "isPangram('badac')"
      ]
    },
    {
      "cell_type": "code",
      "execution_count": null,
      "metadata": {
        "id": "2sDlLaKhkYm-"
      },
      "outputs": [],
      "source": [
        "def isAbigger(a,b):\n",
        "    #Anti-pattern\n",
        "    if a > b:\n",
        "        return True\n",
        "    else:\n",
        "        return False"
      ]
    },
    {
      "cell_type": "code",
      "execution_count": null,
      "metadata": {
        "id": "OnUs4K0ukYm-"
      },
      "outputs": [],
      "source": [
        "5 > 6"
      ]
    },
    {
      "cell_type": "code",
      "execution_count": null,
      "metadata": {
        "id": "JMZg2WeWkYm-"
      },
      "outputs": [],
      "source": [
        "# We can check Truth in a single line\n",
        "def isAbigger2(a,b):\n",
        "    return a > b"
      ]
    },
    {
      "cell_type": "markdown",
      "metadata": {
        "id": "fEMcr8RxkYm-"
      },
      "source": [
        "# Small Town Population Exercise\n",
        "\n",
        "From: https://www.codewars.com/kata/5b39e3772ae7545f650000fc\n",
        "\n",
        "In a small town the population is p0 = 1000 at the beginning of a year. The population regularly increases by 2 percent per year and moreover 50 new inhabitants per year come to live in the town. How many years does the town need to see its population greater or equal to p = 1200 inhabitants?\n",
        "\n",
        "At the end of the first year there will be: \n",
        "1000 + 1000 * 0.02 + 50 => 1070 inhabitants\n",
        "\n",
        "At the end of the 2nd year there will be: \n",
        "1070 + 1070 * 0.02 + 50 => 1141 inhabitants (number of inhabitants is an integer)\n",
        "\n",
        "At the end of the 3rd year there will be:\n",
        "1141 + 1141 * 0.02 + 50 => 1213\n",
        "\n",
        "It will need 3 entire years.\n",
        "More generally given parameters:\n",
        "\n",
        "p0, percent, aug (inhabitants coming or leaving each year), p (population to surpass)\n",
        "\n",
        "the function nb_year should return n number of entire years needed to get a population greater or equal to p.\n",
        "\n",
        "aug is an integer, percent a positive or null number, p0 and p are positive integers (> 0)\n",
        "\n",
        "Examples:\n",
        "\n",
        "**nb_year(1500, 5, 100, 5000) -> 15**\n",
        "\n",
        "**nb_year(1500000, 2.5, 10000, 2000000) -> 10**\n",
        "\n",
        "Note: Don't forget to convert the percent parameter as a percentage in the body of your function: if the parameter percent is 2 you have to convert it to 0.02."
      ]
    },
    {
      "cell_type": "code",
      "execution_count": null,
      "metadata": {
        "id": "yNyYswkKkYm-"
      },
      "outputs": [],
      "source": [
        "def nb_year(start, perc, delta, target):\n",
        "    \n",
        "    return 0 # FIXME how many years are needed to reach the target population"
      ]
    }
  ],
  "metadata": {
    "kernelspec": {
      "display_name": "Python 3",
      "language": "python",
      "name": "python3"
    },
    "language_info": {
      "codemirror_mode": {
        "name": "ipython",
        "version": 3
      },
      "file_extension": ".py",
      "mimetype": "text/x-python",
      "name": "python",
      "nbconvert_exporter": "python",
      "pygments_lexer": "ipython3",
      "version": "3.8.3"
    },
    "colab": {
      "name": "Python Functions.ipynb",
      "provenance": []
    }
  },
  "nbformat": 4,
  "nbformat_minor": 0
}