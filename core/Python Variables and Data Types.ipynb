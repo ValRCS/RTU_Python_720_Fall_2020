{
  "cells": [
    {
      "cell_type": "markdown",
      "metadata": {
        "id": "NoyABH2ihMnE"
      },
      "source": [
        "# Variables, Arithmetic and Data Types\n",
        "\n",
        "## Text Cells are for writing text\n",
        "\n",
        "You can write lists like this list of topics:\n",
        "* Variables\n",
        "* Arithmetic\n",
        "* Data types\n",
        "\n",
        "![Python](https://www.python.org/static/community_logos/python-logo.png)\n",
        "\n",
        "Links such as this \n",
        "[Github guide to Markdown](https://docs.github.com/en/get-started/writing-on-github/getting-started-with-writing-and-formatting-on-github/basic-writing-and-formatting-syntax)\n"
      ]
    },
    {
      "cell_type": "code",
      "execution_count": 1,
      "metadata": {
        "id": "TisTXHLHhMnH",
        "outputId": "6a514bdd-a2ca-4860-b074-cc36e571bbe3",
        "colab": {
          "base_uri": "https://localhost:8080/"
        }
      },
      "outputs": [
        {
          "output_type": "stream",
          "name": "stdout",
          "text": [
            "Hello Variables!\n"
          ]
        }
      ],
      "source": [
        "print(\"Hello Variables!\")"
      ]
    },
    {
      "cell_type": "code",
      "execution_count": 2,
      "metadata": {
        "id": "0xJtw27QhMnI",
        "outputId": "331bdd82-4308-4c1d-a476-2c0146800e66",
        "colab": {
          "base_uri": "https://localhost:8080/"
        }
      },
      "outputs": [
        {
          "output_type": "stream",
          "name": "stdout",
          "text": [
            "sample_data\n"
          ]
        }
      ],
      "source": [
        "!dir"
      ]
    },
    {
      "cell_type": "code",
      "source": [
        "!dir sample_data"
      ],
      "metadata": {
        "id": "8lAP4i8tjOkG",
        "outputId": "d1898123-86da-450b-ecf9-77393facbbad",
        "colab": {
          "base_uri": "https://localhost:8080/"
        }
      },
      "execution_count": 3,
      "outputs": [
        {
          "output_type": "stream",
          "name": "stdout",
          "text": [
            "anscombe.json\t\t      mnist_test.csv\n",
            "california_housing_test.csv   mnist_train_small.csv\n",
            "california_housing_train.csv  README.md\n"
          ]
        }
      ]
    },
    {
      "cell_type": "code",
      "execution_count": 4,
      "metadata": {
        "id": "EZ6YYeuXhMnJ",
        "outputId": "fdf1695c-d4fa-4cef-f082-855150d97ba7",
        "colab": {
          "base_uri": "https://localhost:8080/"
        }
      },
      "outputs": [
        {
          "output_type": "stream",
          "name": "stdout",
          "text": [
            "This is printing\n"
          ]
        }
      ],
      "source": [
        "# This is a comment - meant for humans, computers ignore anything after #\n",
        "print(\"This is printing\")\n",
        "# print(\"This is not printing\")"
      ]
    },
    {
      "cell_type": "code",
      "source": [
        "# see if you can make an error - debugging errors is an important skill\n",
        "print(\"somehing\")"
      ],
      "metadata": {
        "id": "uVuMsBElkMiJ",
        "outputId": "9fbc2427-28ce-4ab1-94ec-d63aa579a858",
        "colab": {
          "base_uri": "https://localhost:8080/"
        }
      },
      "execution_count": 9,
      "outputs": [
        {
          "output_type": "stream",
          "name": "stdout",
          "text": [
            "somehing\n"
          ]
        }
      ]
    },
    {
      "cell_type": "code",
      "execution_count": 10,
      "metadata": {
        "id": "HzAk2_2thMnJ"
      },
      "outputs": [],
      "source": [
        "my_name = \"Valdis\" # in Python we need no special keyword for variables\n",
        "# in effect I am binding my_name to string literal \"Valdis\" - for the time being\n"
      ]
    },
    {
      "cell_type": "code",
      "source": [
        "print(\"So my current name is\", my_name) # by default , will give us single space separation for print"
      ],
      "metadata": {
        "id": "Ah8QxHeFlU7A",
        "outputId": "afa28edd-2ccf-4bc1-c98f-7f8fe396c144",
        "colab": {
          "base_uri": "https://localhost:8080/"
        }
      },
      "execution_count": 17,
      "outputs": [
        {
          "output_type": "stream",
          "name": "stdout",
          "text": [
            "So my current name is Valdis\n"
          ]
        }
      ]
    },
    {
      "cell_type": "code",
      "execution_count": 14,
      "metadata": {
        "id": "IN_lLr4RhMnK"
      },
      "outputs": [],
      "source": [
        "myname = \"Val\" # this is a different variable!"
      ]
    },
    {
      "cell_type": "code",
      "execution_count": 16,
      "metadata": {
        "id": "Zigh893WhMnK",
        "outputId": "92f67de1-8a73-40ef-aab3-5e0e01b37860",
        "colab": {
          "base_uri": "https://localhost:8080/"
        }
      },
      "outputs": [
        {
          "output_type": "stream",
          "name": "stdout",
          "text": [
            "My name is Val\n"
          ]
        }
      ],
      "source": [
        "print(\"My name is\", myname)"
      ]
    },
    {
      "cell_type": "code",
      "execution_count": null,
      "metadata": {
        "id": "VF0XGA7khMnK"
      },
      "outputs": [],
      "source": [
        "# Generally you should run cells in order because easier to reason about"
      ]
    },
    {
      "cell_type": "code",
      "execution_count": null,
      "metadata": {
        "id": "CTgRDD78hMnL"
      },
      "outputs": [],
      "source": [
        "# variable names should generally start with lowercase letter \n",
        "# and can contain letters, numbers and underscores like some_Var_5324 - not a good name but legal\n",
        "# so typically multiple words in variable are connected with _"
      ]
    },
    {
      "cell_type": "code",
      "execution_count": 18,
      "metadata": {
        "id": "7BJ1QE7XhMnL",
        "outputId": "a09c87f4-3c4c-45a9-955c-dd5416143c25",
        "colab": {
          "base_uri": "https://localhost:8080/"
        }
      },
      "outputs": [
        {
          "output_type": "stream",
          "name": "stdout",
          "text": [
            "6\n",
            "50\n"
          ]
        }
      ],
      "source": [
        "my_var = 6\n",
        "print(my_var) # snake syntax meaning _ syntax\n",
        "myVar = 50 # camelCase syntax common in Javascript other programming\n",
        "# camelCase syntax is generally less used or avoided in Python\n",
        "print(myVar) \n",
        "# Recommendation is to keep one style for one project, one notebook"
      ]
    },
    {
      "cell_type": "code",
      "source": [
        "my_NAME = \"Saules\"\n",
        "print(my_NAME) # Case sensitive so different from my_name\n",
        "# generally you want to use lowercase"
      ],
      "metadata": {
        "id": "t9rWWXvdmhZR",
        "outputId": "976081fb-4d21-41bd-aadc-7df0ef829abb",
        "colab": {
          "base_uri": "https://localhost:8080/"
        }
      },
      "execution_count": 20,
      "outputs": [
        {
          "output_type": "stream",
          "name": "stdout",
          "text": [
            "Saules\n"
          ]
        }
      ]
    },
    {
      "cell_type": "code",
      "execution_count": null,
      "metadata": {
        "id": "YsShZxaEhMnM"
      },
      "outputs": [],
      "source": [
        "\n",
        "The following identifiers are used as reserved words, or keywords of the language, and cannot be used as ordinary identifiers. They must be spelled exactly as written here:\n",
        "\n",
        "False      class      finally    is         return\n",
        "None       continue   for        lambda     try\n",
        "True       def        from       nonlocal   while\n",
        "and        del        global     not        with\n",
        "as         elif       if         or         yield\n",
        "assert     else       import     pass\n",
        "break      except     in         raise"
      ]
    },
    {
      "cell_type": "code",
      "source": [
        "# class = \"RTU\" # not legal\n",
        "class_ = \"RTU Python\" # legal with underscore\n",
        "# one workaround if you really need the class as a variable name for some reason\n",
        "# add underscore, I've seen libraries(tools) that use this approach\n",
        "print(\"We are taking\", class_)"
      ],
      "metadata": {
        "id": "cltLOFk9nFQP",
        "outputId": "3627a6d2-2b26-43db-9663-f27714c49d1a",
        "colab": {
          "base_uri": "https://localhost:8080/"
        }
      },
      "execution_count": 27,
      "outputs": [
        {
          "output_type": "stream",
          "name": "stdout",
          "text": [
            "We are taking RTU Python\n"
          ]
        }
      ]
    },
    {
      "cell_type": "code",
      "source": [
        "# there are some other words that are not prohibited but are built in Python functions\n",
        "# and best should be left alone\n",
        "# i could redefine print as a regular variable such as print = 525235325 # not a good idea\n",
        "# built in functions that CAN but should not be overwritten\n",
        "# https://docs.python.org/3/library/functions.html#built-in-functions"
      ],
      "metadata": {
        "id": "sL-64-hRnj3D"
      },
      "execution_count": null,
      "outputs": []
    },
    {
      "cell_type": "markdown",
      "source": [
        "# Built in Python functions\n",
        "\n",
        "there are some other words that are not prohibited but are built in *Python* functions\n",
        "and best should be left alone\n",
        "i could redefine print as a regular variable such as print = 525235325 # not a good idea\n",
        "built in functions that CAN but **should not** be overwritten\n",
        "\n",
        "[Built in Python Functions](https://docs.python.org/3/library/functions.html#built-in-functions)"
      ],
      "metadata": {
        "id": "TyiNvJznq4IM"
      }
    },
    {
      "cell_type": "code",
      "execution_count": 35,
      "metadata": {
        "id": "CFARtGFuhMnM",
        "outputId": "da2d8e65-d1e6-4b7c-dd48-d1cff4f9bcef",
        "colab": {
          "base_uri": "https://localhost:8080/"
        }
      },
      "outputs": [
        {
          "output_type": "stream",
          "name": "stdout",
          "text": [
            "My favorite foods are potatoes and carrots\n"
          ]
        }
      ],
      "source": [
        "my_food = \"carrots\"\n",
        "# my_other_food = myfood # this will be NameError: name 'myfood' is not defined\n",
        "\n",
        "my_other_food = my_food # now both variables point to the same value \"carrots\"\n",
        "# in Python I can reassign values\n",
        "my_food = \"potatoes\" # without this line both my foods would point to \"potatoes\"\n",
        "print(\"My favorite foods are\", my_food, \"and\", my_other_food)"
      ]
    },
    {
      "cell_type": "code",
      "execution_count": 41,
      "metadata": {
        "id": "BwXWZLK8hMnM"
      },
      "outputs": [],
      "source": [
        "my_food = \"oats\""
      ]
    },
    {
      "cell_type": "code",
      "execution_count": 38,
      "metadata": {
        "id": "Y48wgGznhMnN"
      },
      "outputs": [],
      "source": [
        "my_other_food = \"blueberries\" #if I do not run the cell the values will not reassigned!"
      ]
    },
    {
      "cell_type": "code",
      "execution_count": 42,
      "metadata": {
        "id": "AtnituZBhMnN",
        "outputId": "b3a15b96-5afb-4693-91e9-26f586657576",
        "colab": {
          "base_uri": "https://localhost:8080/"
        }
      },
      "outputs": [
        {
          "output_type": "stream",
          "name": "stdout",
          "text": [
            "My favorite foods are oats and blueberries\n"
          ]
        }
      ],
      "source": [
        "\n",
        "\n",
        "print(\"My favorite foods are\", my_food, \"and\", my_other_food)"
      ]
    },
    {
      "cell_type": "code",
      "execution_count": 44,
      "metadata": {
        "id": "g4ndgQuBhMnN",
        "outputId": "d9b7a7dc-86d3-4e9d-b0c9-dfc1a928b945",
        "colab": {
          "base_uri": "https://localhost:8080/"
        }
      },
      "outputs": [
        {
          "output_type": "execute_result",
          "data": {
            "text/plain": [
              "str"
            ]
          },
          "metadata": {},
          "execution_count": 44
        }
      ],
      "source": [
        "type(my_food) # we can determine the data type\n",
        "# str means string"
      ]
    },
    {
      "cell_type": "code",
      "execution_count": 45,
      "metadata": {
        "id": "y0xIkMUxhMnN",
        "outputId": "df22f1c5-42f1-4cce-9fee-cb2f533cf90d",
        "colab": {
          "base_uri": "https://localhost:8080/"
        }
      },
      "outputs": [
        {
          "output_type": "execute_result",
          "data": {
            "text/plain": [
              "int"
            ]
          },
          "metadata": {},
          "execution_count": 45
        }
      ],
      "source": [
        "type(5)"
      ]
    },
    {
      "cell_type": "code",
      "execution_count": 46,
      "metadata": {
        "id": "uyby0TbShMnN",
        "outputId": "47c330a1-b7eb-4153-d94d-cddea8e7a715",
        "colab": {
          "base_uri": "https://localhost:8080/"
        }
      },
      "outputs": [
        {
          "output_type": "execute_result",
          "data": {
            "text/plain": [
              "str"
            ]
          },
          "metadata": {},
          "execution_count": 46
        }
      ],
      "source": [
        "type(\"5\")"
      ]
    },
    {
      "cell_type": "code",
      "execution_count": 47,
      "metadata": {
        "id": "QOBEJ3oRhMnO",
        "outputId": "5b0fedfd-9b00-4546-aba1-83bf1c4a4abf",
        "colab": {
          "base_uri": "https://localhost:8080/"
        }
      },
      "outputs": [
        {
          "output_type": "execute_result",
          "data": {
            "text/plain": [
              "int"
            ]
          },
          "metadata": {},
          "execution_count": 47
        }
      ],
      "source": [
        "a = 42\n",
        "type(a)"
      ]
    },
    {
      "cell_type": "code",
      "execution_count": 48,
      "metadata": {
        "id": "AsZD8yhjhMnO",
        "outputId": "7a703527-3666-4dc5-cb0f-b4d3ffcd0d48",
        "colab": {
          "base_uri": "https://localhost:8080/"
        }
      },
      "outputs": [
        {
          "output_type": "execute_result",
          "data": {
            "text/plain": [
              "str"
            ]
          },
          "metadata": {},
          "execution_count": 48
        }
      ],
      "source": [
        "a = \"answer\"\n",
        "type(a)\n",
        "# this means that in Python data types are dynamic - can be changed\n",
        "# can be convenient\n",
        "# also can lead to hard to catch bugs\n",
        "# try to avoid changing data types in Python"
      ]
    },
    {
      "cell_type": "code",
      "execution_count": 49,
      "metadata": {
        "id": "HBeyt8XbhMnO",
        "outputId": "b46edc31-bec5-47d2-a3d3-01c5a2a15a9b",
        "colab": {
          "base_uri": "https://localhost:8080/"
        }
      },
      "outputs": [
        {
          "output_type": "execute_result",
          "data": {
            "text/plain": [
              "str"
            ]
          },
          "metadata": {},
          "execution_count": 49
        }
      ],
      "source": [
        "type(my_name)"
      ]
    },
    {
      "cell_type": "code",
      "source": [
        "# so not a variable\n",
        "this_is_a_variable = 5.1637 # this gives us floating point (number with comma, )"
      ],
      "metadata": {
        "id": "LYRuHbglqZLy"
      },
      "execution_count": null,
      "outputs": []
    },
    {
      "cell_type": "markdown",
      "metadata": {
        "id": "1xNxJgt7hMnO"
      },
      "source": [
        "## Data types in Python 3.x\n",
        "* Integers type(42) int \n",
        "* Floating Point type(3.14) float\n",
        "* Boolean type(True),type(False) bool\n",
        "* String(ordered, **immutable** char sequence) type(\"OyCaramba\") str\n",
        "* List type([1,2,63,\"aha\",\"youcanmixtypeinsidelist\", [\"even\",\"nest\"]]) list\n",
        "* Dictionary(key:value pairs) type({\"foo\":\"bar\", \"favoriteday\":\"Friday\"}) dict\n",
        "* Tuple - ordered immutable sequence type(\"sup\",7,\"dwarves\") tup\n",
        "* Set (unordered collection of uniques) (\"k\",\"a\",\"r\",\"t\",\"u\",\"p\",\"e\",\"l\",\"i\",\"s\")\n",
        "\n"
      ]
    },
    {
      "cell_type": "code",
      "execution_count": null,
      "metadata": {
        "id": "g01VF3JshMnO"
      },
      "outputs": [],
      "source": [
        "a=42\n",
        "print(type(a), type(42))"
      ]
    },
    {
      "cell_type": "code",
      "execution_count": null,
      "metadata": {
        "id": "MXmJGPpdhMnP"
      },
      "outputs": [],
      "source": [
        "b=20\n",
        "print(b, id(b)) # id means some memory location(virtual)"
      ]
    },
    {
      "cell_type": "code",
      "execution_count": null,
      "metadata": {
        "id": "8_Nw9X2-hMnP"
      },
      "outputs": [],
      "source": [
        "c=200\n",
        "print(c, id(c))"
      ]
    },
    {
      "cell_type": "code",
      "execution_count": null,
      "metadata": {
        "id": "U8L0ck7khMnP"
      },
      "outputs": [],
      "source": [
        "pi = 3.1415926\n",
        "print(pi, type(pi))"
      ]
    },
    {
      "cell_type": "code",
      "execution_count": null,
      "metadata": {
        "id": "_Vlm9yV7hMnP"
      },
      "outputs": [],
      "source": [
        "result = 2+2\n",
        "print(result)"
      ]
    },
    {
      "cell_type": "code",
      "execution_count": null,
      "metadata": {
        "id": "N_eihSaQhMnP"
      },
      "outputs": [],
      "source": [
        "res2 = 30/2 # so 30/2 gives you what data type?\n",
        "print(res2, type(res2))"
      ]
    },
    {
      "cell_type": "code",
      "execution_count": null,
      "metadata": {
        "id": "fzh_WOVFhMnP"
      },
      "outputs": [],
      "source": [
        "30//2 # this gives you whole part"
      ]
    },
    {
      "cell_type": "code",
      "execution_count": null,
      "metadata": {
        "id": "qe9Ate3bhMnQ"
      },
      "outputs": [],
      "source": [
        "7 / 2, 7 // 2"
      ]
    },
    {
      "cell_type": "code",
      "execution_count": null,
      "metadata": {
        "id": "h_lMRlB6hMnQ"
      },
      "outputs": [],
      "source": [
        "7%5 # so % gives you reminder, there is a tiny bit of difference modulo"
      ]
    },
    {
      "cell_type": "code",
      "execution_count": null,
      "metadata": {
        "id": "aXAYjd-mhMnQ"
      },
      "outputs": [],
      "source": [
        "7%2, 8%2, 9%2, 10%2, 11%2, 12%2 # so % 2 will let us determine if number is ?"
      ]
    },
    {
      "cell_type": "code",
      "execution_count": null,
      "metadata": {
        "id": "W-gaCdkJhMnQ"
      },
      "outputs": [],
      "source": [
        "535264264624 % 10 # this will give us ?"
      ]
    },
    {
      "cell_type": "code",
      "execution_count": null,
      "metadata": {
        "id": "sSmBNmXQhMnR"
      },
      "outputs": [],
      "source": [
        "34344435%2"
      ]
    },
    {
      "cell_type": "code",
      "execution_count": null,
      "metadata": {
        "id": "8Exct9jshMnS"
      },
      "outputs": [],
      "source": [
        "0.1+0.2 # floats are weird"
      ]
    },
    {
      "cell_type": "code",
      "execution_count": null,
      "metadata": {
        "id": "GITOV8T0hMnU"
      },
      "outputs": [],
      "source": [
        "0 == 0.1+0.2-0.3"
      ]
    },
    {
      "cell_type": "code",
      "execution_count": null,
      "metadata": {
        "id": "eQ5fl7MGhMnW"
      },
      "outputs": [],
      "source": [
        "2**3 # this is 2 to the power of 3 , so 2 cubed"
      ]
    },
    {
      "cell_type": "code",
      "execution_count": null,
      "metadata": {
        "id": "exGqny4ThMnX"
      },
      "outputs": [],
      "source": [
        "81**0.5 # so square root"
      ]
    },
    {
      "cell_type": "code",
      "execution_count": null,
      "metadata": {
        "id": "oncMXlF9hMnZ"
      },
      "outputs": [],
      "source": [
        "2**32 # this is significant number for computer hardware"
      ]
    },
    {
      "cell_type": "code",
      "execution_count": null,
      "metadata": {
        "id": "dxX0VcF3hMnZ"
      },
      "outputs": [],
      "source": [
        "2**64"
      ]
    },
    {
      "cell_type": "code",
      "execution_count": null,
      "metadata": {
        "id": "dMVpLfdfhMnZ"
      },
      "outputs": [],
      "source": [
        "2**3242 # python lets us use big numbers immediately"
      ]
    },
    {
      "cell_type": "code",
      "execution_count": null,
      "metadata": {
        "id": "JSr3LCBJhMna"
      },
      "outputs": [],
      "source": [
        "10**100 # Googol"
      ]
    },
    {
      "cell_type": "code",
      "execution_count": null,
      "metadata": {
        "id": "aG-kQ96ahMnb"
      },
      "outputs": [],
      "source": [
        "c=b+a"
      ]
    },
    {
      "cell_type": "code",
      "execution_count": null,
      "metadata": {
        "id": "1hG5rg35hMnc"
      },
      "outputs": [],
      "source": [
        "d=b/a\n",
        "print(d, type(d))"
      ]
    },
    {
      "cell_type": "code",
      "execution_count": null,
      "metadata": {
        "id": "kjXYaOPyhMne"
      },
      "outputs": [],
      "source": [
        "e=b-a\n",
        "print(e, type(e))"
      ]
    },
    {
      "cell_type": "code",
      "execution_count": null,
      "metadata": {
        "id": "StmDWF3MhMnf"
      },
      "outputs": [],
      "source": [
        "f=b*e\n",
        "f"
      ]
    },
    {
      "cell_type": "code",
      "execution_count": null,
      "metadata": {
        "id": "uMH3gZWihMng"
      },
      "outputs": [],
      "source": [
        "2**10"
      ]
    },
    {
      "cell_type": "code",
      "execution_count": null,
      "metadata": {
        "id": "KoYdFRdYhMng"
      },
      "outputs": [],
      "source": [
        "2**32"
      ]
    },
    {
      "cell_type": "code",
      "execution_count": null,
      "metadata": {
        "id": "UBPPeVp9hMnh"
      },
      "outputs": [],
      "source": [
        "2**64"
      ]
    },
    {
      "cell_type": "code",
      "execution_count": null,
      "metadata": {
        "id": "qf6FSxTLhMnh"
      },
      "outputs": [],
      "source": [
        "result = 2**64\n",
        "print(a)\n",
        "print(result)"
      ]
    },
    {
      "cell_type": "code",
      "execution_count": null,
      "metadata": {
        "id": "EGJgbbbFhMni"
      },
      "outputs": [],
      "source": [
        "42//20"
      ]
    },
    {
      "cell_type": "code",
      "execution_count": null,
      "metadata": {
        "id": "965sk2xyhMni"
      },
      "outputs": [],
      "source": [
        "47//20"
      ]
    },
    {
      "cell_type": "code",
      "execution_count": null,
      "metadata": {
        "id": "2lPolVQ-hMni"
      },
      "outputs": [],
      "source": [
        "47%20"
      ]
    },
    {
      "cell_type": "code",
      "execution_count": null,
      "metadata": {
        "id": "iuTY1DoehMni"
      },
      "outputs": [],
      "source": [
        "7%2"
      ]
    },
    {
      "cell_type": "code",
      "execution_count": null,
      "metadata": {
        "id": "cGFRrFGyhMnm"
      },
      "outputs": [],
      "source": [
        "a = 10\n",
        "print(a)"
      ]
    },
    {
      "cell_type": "code",
      "execution_count": null,
      "metadata": {
        "id": "FkU4sIVwhMnm"
      },
      "outputs": [],
      "source": [
        "a = a + 5 # expression is evaluated right to left\n",
        "print(a)"
      ]
    },
    {
      "cell_type": "code",
      "execution_count": null,
      "metadata": {
        "id": "6S6X-SKShMnm"
      },
      "outputs": [],
      "source": [
        "a += 6 # this means a = a + 6\n",
        "print(a)"
      ]
    },
    {
      "cell_type": "markdown",
      "metadata": {
        "id": "Sd-02BnphMnm"
      },
      "source": [
        "## id(object)\n",
        "\n",
        "Return the “identity” of an object. \n",
        "\n",
        "This is an integer which is guaranteed to be unique and constant for this object during its lifetime. \n",
        "Two objects with non-overlapping lifetimes may have the same id() value.\n",
        "\n",
        "#### CPython implementation detail: This is the address of the object in memory."
      ]
    },
    {
      "cell_type": "code",
      "execution_count": null,
      "metadata": {
        "id": "sQX6O2umhMnn"
      },
      "outputs": [],
      "source": [
        "b+=22 # shortcut operator to add to existing value of a variable b = b + 22\n",
        "# += /= -= *=\n",
        "print(b)"
      ]
    },
    {
      "cell_type": "code",
      "execution_count": null,
      "metadata": {
        "id": "NCZiE0VBhMnn"
      },
      "outputs": [],
      "source": [
        "id(a),id(b),id(42),id(3),id(4),id(5),id(5000),id(5001),id(5002) # notice how ids are incremented!"
      ]
    },
    {
      "cell_type": "code",
      "execution_count": null,
      "metadata": {
        "id": "9doP2dMThMnn"
      },
      "outputs": [],
      "source": [
        "id(6)"
      ]
    },
    {
      "cell_type": "code",
      "execution_count": null,
      "metadata": {
        "id": "1HoTtBw4hMnn"
      },
      "outputs": [],
      "source": [
        "id(-1),id(0),id(1)"
      ]
    },
    {
      "cell_type": "code",
      "execution_count": null,
      "metadata": {
        "id": "CwZ4b8PNhMnn"
      },
      "outputs": [],
      "source": [
        "id(7)\n",
        "id(-6),id(-5),id(-4)"
      ]
    },
    {
      "cell_type": "code",
      "execution_count": null,
      "metadata": {
        "scrolled": true,
        "id": "KmrKlQSRhMno"
      },
      "outputs": [],
      "source": [
        "a is b"
      ]
    },
    {
      "cell_type": "code",
      "execution_count": null,
      "metadata": {
        "id": "Xr5dXKsyhMno"
      },
      "outputs": [],
      "source": [
        "second_name = \"Valdis\"\n",
        "name = \"Valdis\"\n",
        "print(name, second_name)"
      ]
    },
    {
      "cell_type": "code",
      "execution_count": null,
      "metadata": {
        "id": "fUlG3g4YhMno"
      },
      "outputs": [],
      "source": [
        "print(id(name), id(second_name))"
      ]
    },
    {
      "cell_type": "markdown",
      "metadata": {
        "id": "PQhzWhXshMno"
      },
      "source": [
        "## Floating Point "
      ]
    },
    {
      "cell_type": "code",
      "execution_count": null,
      "metadata": {
        "id": "JxsZ1XKAhMno"
      },
      "outputs": [],
      "source": [
        "4/5 + 2/3 + 1/7"
      ]
    },
    {
      "cell_type": "code",
      "execution_count": null,
      "metadata": {
        "id": "cdE_-eKYhMnp"
      },
      "outputs": [],
      "source": [
        "0.1+0.2+0.3-0.6\n",
        "# More on floating point https://docs.python.org/2/tutorial/floatingpoint.html"
      ]
    },
    {
      "cell_type": "markdown",
      "metadata": {
        "id": "RGwqwogthMnp"
      },
      "source": [
        "## Strings\n",
        "* immutable"
      ]
    },
    {
      "cell_type": "code",
      "execution_count": null,
      "metadata": {
        "scrolled": true,
        "id": "-Czh9ulvhMnp"
      },
      "outputs": [],
      "source": [
        "name = \"Valdis\"\n",
        "print(name)"
      ]
    },
    {
      "cell_type": "code",
      "execution_count": null,
      "metadata": {
        "id": "5n0ws4HAhMnp"
      },
      "outputs": [],
      "source": [
        "# this is a comment meaning for us humans, not for computer :)"
      ]
    },
    {
      "cell_type": "code",
      "execution_count": null,
      "metadata": {
        "id": "9pCQtu-mhMnq"
      },
      "outputs": [],
      "source": [
        "len(name) # length of string which name variable points to"
      ]
    },
    {
      "cell_type": "code",
      "execution_count": null,
      "metadata": {
        "id": "FRcDsq9hhMnq"
      },
      "outputs": [],
      "source": [
        "len(\"name\") # so \"name\" is just some text - string literal"
      ]
    },
    {
      "cell_type": "markdown",
      "metadata": {
        "id": "BZSmS3a3hMnq"
      },
      "source": [
        "### Slicing Notation\n",
        "![Slice](https://i.stack.imgur.com/IVkET.jpg)\n",
        "* hot linking can be dangerous if you are taking image where you are not supposed to somebody can put something rude on that image"
      ]
    },
    {
      "cell_type": "code",
      "execution_count": null,
      "metadata": {
        "id": "CUursBDZhMnq"
      },
      "outputs": [],
      "source": [
        "name, name[0] \n",
        "# notice index starts with 0! most programming languages start with 0"
      ]
    },
    {
      "cell_type": "code",
      "execution_count": null,
      "metadata": {
        "id": "MB9DZeqNhMnq"
      },
      "outputs": [],
      "source": []
    },
    {
      "cell_type": "code",
      "execution_count": null,
      "metadata": {
        "id": "PxcFj0A6hMnq"
      },
      "outputs": [],
      "source": [
        "name, name[5],name[-1],name[-2]"
      ]
    },
    {
      "cell_type": "code",
      "execution_count": null,
      "metadata": {
        "id": "dr9cRlgMhMnq"
      },
      "outputs": [],
      "source": [
        "name[0:3], name[:3] # so [:index] will go until that index from 0"
      ]
    },
    {
      "cell_type": "code",
      "execution_count": null,
      "metadata": {
        "id": "egR1AxCBhMnr"
      },
      "outputs": [],
      "source": [
        "name[:4]"
      ]
    },
    {
      "cell_type": "code",
      "execution_count": null,
      "metadata": {
        "id": "gfdvpd44hMnr"
      },
      "outputs": [],
      "source": [
        "name[1:4] # so I skip the 0 character"
      ]
    },
    {
      "cell_type": "code",
      "execution_count": null,
      "metadata": {
        "id": "MNXHXKhPhMnr"
      },
      "outputs": [],
      "source": [
        "name[-3]"
      ]
    },
    {
      "cell_type": "code",
      "execution_count": null,
      "metadata": {
        "id": "FqqIXvDyhMnr"
      },
      "outputs": [],
      "source": [
        "name[0:6:1] # this is actually the full syntax of slice\n"
      ]
    },
    {
      "cell_type": "code",
      "execution_count": null,
      "metadata": {
        "id": "e4v6mCCLhMnr"
      },
      "outputs": [],
      "source": [
        "name[::1]"
      ]
    },
    {
      "cell_type": "code",
      "execution_count": null,
      "metadata": {
        "id": "Lw_cADWIhMnr"
      },
      "outputs": [],
      "source": [
        "name, name[1:6:2]"
      ]
    },
    {
      "cell_type": "code",
      "execution_count": null,
      "metadata": {
        "id": "zxmttyThhMns"
      },
      "outputs": [],
      "source": [
        "name, name[::2]"
      ]
    },
    {
      "cell_type": "code",
      "execution_count": null,
      "metadata": {
        "id": "R92Q8qoIhMns"
      },
      "outputs": [],
      "source": [
        "# Python way of reversing a string\n",
        "name, name[::-1]"
      ]
    },
    {
      "cell_type": "code",
      "execution_count": null,
      "metadata": {
        "id": "SAm2aFrkhMns"
      },
      "outputs": [],
      "source": [
        "name_rev = name[::-1]\n",
        "name_rev"
      ]
    },
    {
      "cell_type": "code",
      "execution_count": null,
      "metadata": {
        "id": "uD71uYg9hMns"
      },
      "outputs": [],
      "source": [
        "name[5:2:-1]"
      ]
    },
    {
      "cell_type": "code",
      "execution_count": null,
      "metadata": {
        "id": "Ue7mh-NLhMns"
      },
      "outputs": [],
      "source": [
        "# name[3]='b' \n",
        "# string are immutable you are not supposed to change strings"
      ]
    },
    {
      "cell_type": "code",
      "execution_count": null,
      "metadata": {
        "id": "dxbajadXhMns"
      },
      "outputs": [],
      "source": [
        "#name[3]=\"b\" # You can in fact make new strings\n",
        "name=name[:3]+\"D\"+name[4:]\n",
        "print(name)"
      ]
    },
    {
      "cell_type": "code",
      "execution_count": null,
      "metadata": {
        "id": "W69ipyQAhMns"
      },
      "outputs": [],
      "source": [
        "n2=name[:]\n",
        "print(n2)\n",
        "print(id(n2),id(name))\n",
        "print(name[:])"
      ]
    },
    {
      "cell_type": "code",
      "execution_count": null,
      "metadata": {
        "id": "S5wZrQyghMnt"
      },
      "outputs": [],
      "source": [
        "name = \"Voldemars\"\n",
        "print(n,n2,name)"
      ]
    },
    {
      "cell_type": "code",
      "execution_count": null,
      "metadata": {
        "id": "bbaJ2ZtWhMnt"
      },
      "outputs": [],
      "source": [
        "n2 = \"Something\""
      ]
    },
    {
      "cell_type": "code",
      "execution_count": null,
      "metadata": {
        "id": "Mq5kRWp3hMnt"
      },
      "outputs": [],
      "source": []
    },
    {
      "cell_type": "code",
      "execution_count": null,
      "metadata": {
        "id": "f8viEEruhMnt"
      },
      "outputs": [],
      "source": [
        "name=name[::-1]\n",
        "print(name)"
      ]
    },
    {
      "cell_type": "code",
      "execution_count": null,
      "metadata": {
        "id": "BfhNpDTrhMnt"
      },
      "outputs": [],
      "source": []
    },
    {
      "cell_type": "code",
      "execution_count": null,
      "metadata": {
        "scrolled": true,
        "id": "IPHOkKsJhMnt"
      },
      "outputs": [],
      "source": [
        "multi_string = \"\"\"Really\n",
        "Long\n",
        "And\n",
        "Boring\n",
        "String\"\"\"\n",
        "print(multi_string)"
      ]
    },
    {
      "cell_type": "code",
      "execution_count": null,
      "metadata": {
        "id": "7lZ4saBdhMnt"
      },
      "outputs": [],
      "source": [
        "t = \"Talk \" + 10 # Python is strongly typed so this will not work!\n",
        "print(t)"
      ]
    },
    {
      "cell_type": "code",
      "execution_count": null,
      "metadata": {
        "id": "dFxybwgMhMnu"
      },
      "outputs": [],
      "source": [
        "str(555)"
      ]
    },
    {
      "cell_type": "code",
      "execution_count": null,
      "metadata": {
        "id": "_x7da_xKhMnu"
      },
      "outputs": [],
      "source": [
        "t = \"Talk \" + str(10) # Python is strongly typed so this will not work!\n",
        "print(t)"
      ]
    },
    {
      "cell_type": "code",
      "execution_count": null,
      "metadata": {
        "id": "RpMmMaMUhMnu"
      },
      "outputs": [],
      "source": [
        "my_talk = f\"Talk {a} {b} {c} {name} and so on\" # f-strings\n",
        "my_talk"
      ]
    },
    {
      "cell_type": "code",
      "execution_count": null,
      "metadata": {
        "id": "qY-zyLxIhMnu"
      },
      "outputs": [],
      "source": [
        "print(f\"Hello there {name}! \")"
      ]
    },
    {
      "cell_type": "code",
      "execution_count": null,
      "metadata": {
        "id": "gqJQ8VbjhMnu"
      },
      "outputs": [],
      "source": [
        "new_name = input(\"What is your name friend?\") # input gives out str\n",
        "print(f\"Wow {new_name} that is a nice name!\")"
      ]
    },
    {
      "cell_type": "code",
      "execution_count": null,
      "metadata": {
        "id": "9K1Nh_pwhMnu",
        "outputId": "4b4a2dbc-0dab-4e0d-e526-2bef309656e7"
      },
      "outputs": [
        {
          "name": "stdout",
          "output_type": "stream",
          "text": [
            "Enter a number777\n",
            "777 <class 'int'>\n"
          ]
        }
      ],
      "source": [
        "new_num = input(\"Enter a number\")\n",
        "new_num = int(new_num) # we trust user is giving us number, we cast to number\n",
        "print(new_num, type(new_num))"
      ]
    },
    {
      "cell_type": "code",
      "execution_count": null,
      "metadata": {
        "id": "jAMm79VNhMnv"
      },
      "outputs": [],
      "source": [
        "id('25'),id(25)"
      ]
    },
    {
      "cell_type": "code",
      "execution_count": null,
      "metadata": {
        "id": "33uhwmT7hMnv"
      },
      "outputs": [],
      "source": [
        "int('345')"
      ]
    },
    {
      "cell_type": "code",
      "execution_count": null,
      "metadata": {
        "id": "bacTWR1vhMnv"
      },
      "outputs": [],
      "source": [
        "?str"
      ]
    },
    {
      "cell_type": "code",
      "execution_count": null,
      "metadata": {
        "id": "cTynpv7bhMnv"
      },
      "outputs": [],
      "source": [
        "# Automatic string concatenation without +\n",
        "funny_string = ('Monty '\n",
        "'Python ' \n",
        "'Spam '*5)\n",
        "print(funny_string)\n",
        "# Notice that string multiplication happens after concatenation"
      ]
    },
    {
      "cell_type": "code",
      "execution_count": null,
      "metadata": {
        "id": "JZOki0DthMnw"
      },
      "outputs": [],
      "source": [
        "print(\"It's \\ta \\\"wonderful\\\" \\nlife\")"
      ]
    },
    {
      "cell_type": "code",
      "execution_count": null,
      "metadata": {
        "id": "yEDSD3_KhMnw"
      },
      "outputs": [],
      "source": [
        "print('Really really long line\\"
      ]
    },
    {
      "cell_type": "code",
      "execution_count": null,
      "metadata": {
        "id": "3yAMfgREhMnw"
      },
      "outputs": [],
      "source": []
    },
    {
      "cell_type": "markdown",
      "metadata": {
        "id": "LHEXa4Y8hMnw"
      },
      "source": [
        "## Fstrings (new since Python 3.6)\n",
        "* faster way to format strings\n",
        "* can use variables in current scope\n",
        "* same idea as .format() but faster and easier to read"
      ]
    },
    {
      "cell_type": "code",
      "execution_count": null,
      "metadata": {
        "id": "X9CJF2mIhMnw"
      },
      "outputs": [],
      "source": []
    },
    {
      "cell_type": "code",
      "execution_count": null,
      "metadata": {
        "id": "WwQBclnwhMnw"
      },
      "outputs": [],
      "source": [
        "weekday=\"Tuesday\"\n",
        "month=\"June\"\n",
        "day=8\n",
        "greeting = f'Today is {day}th of {month} which is {weekday}. Nice {month} isn\\'t it ? '\n",
        "print(greeting)\n",
        "#nicer than format method"
      ]
    },
    {
      "cell_type": "code",
      "execution_count": null,
      "metadata": {
        "id": "HOBH02gyhMnw"
      },
      "outputs": [],
      "source": [
        "seconds=345.24556\n",
        "width=22 # how much space our formatted value should take up\n",
        "precision=8 # how many digits to use\n",
        "print(f'Elapsed {seconds} seconds since start of new era')\n",
        "print(f'Elapsed {seconds:{12}.{precision}} seconds since start of new era')\n",
        "print(f'Elapsed {seconds:{7}.{5}} seconds since start of new era')\n",
        "print(f'Number {5556.2222:{12}.{6}}')"
      ]
    },
    {
      "cell_type": "code",
      "execution_count": null,
      "metadata": {
        "id": "f3raYjXWhMnw"
      },
      "outputs": [],
      "source": [
        "greeting[10:33:1]"
      ]
    },
    {
      "cell_type": "markdown",
      "metadata": {
        "id": "4SwDFWzShMnx"
      },
      "source": [
        "### Python 3.X strings are Unicode by default no more 'u prefixes"
      ]
    },
    {
      "cell_type": "markdown",
      "metadata": {
        "id": "8EBwlfIahMnx"
      },
      "source": [
        "## String Exercise: \n",
        "* Assign your favorite food to variable of your choosing\n",
        "* Output 3rd letter of your favorite\n",
        "* Output first 2 letters of your favorite\n",
        "* Output last 3 letters of your favorite\n",
        "* Output reverse of your favorite\n",
        "* Output every 2nd character of your favorite in reverse\n"
      ]
    },
    {
      "cell_type": "code",
      "execution_count": null,
      "metadata": {
        "id": "O1YB25M3hMnx"
      },
      "outputs": [],
      "source": [
        "food = \"\""
      ]
    }
  ],
  "metadata": {
    "kernelspec": {
      "display_name": "Python 3",
      "language": "python",
      "name": "python3"
    },
    "language_info": {
      "codemirror_mode": {
        "name": "ipython",
        "version": 3
      },
      "file_extension": ".py",
      "mimetype": "text/x-python",
      "name": "python",
      "nbconvert_exporter": "python",
      "pygments_lexer": "ipython3",
      "version": "3.7.3"
    },
    "colab": {
      "provenance": []
    }
  },
  "nbformat": 4,
  "nbformat_minor": 0
}