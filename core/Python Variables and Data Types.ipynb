{
  "cells": [
    {
      "cell_type": "markdown",
      "metadata": {
        "id": "NoyABH2ihMnE"
      },
      "source": [
        "# Variables, Arithmetic and Data Types\n",
        "\n",
        "## Text Cells are for writing text\n",
        "\n",
        "You can write lists like this list of topics:\n",
        "* Variables\n",
        "* Arithmetic\n",
        "* Data types\n",
        "\n",
        "![Python](https://www.python.org/static/community_logos/python-logo.png)\n",
        "\n",
        "Links such as this \n",
        "[Github guide to Markdown](https://docs.github.com/en/get-started/writing-on-github/getting-started-with-writing-and-formatting-on-github/basic-writing-and-formatting-syntax)\n"
      ]
    },
    {
      "cell_type": "code",
      "execution_count": 1,
      "metadata": {
        "colab": {
          "base_uri": "https://localhost:8080/"
        },
        "id": "TisTXHLHhMnH",
        "outputId": "6a514bdd-a2ca-4860-b074-cc36e571bbe3"
      },
      "outputs": [
        {
          "output_type": "stream",
          "name": "stdout",
          "text": [
            "Hello Variables!\n"
          ]
        }
      ],
      "source": [
        "print(\"Hello Variables!\")"
      ]
    },
    {
      "cell_type": "code",
      "execution_count": 2,
      "metadata": {
        "colab": {
          "base_uri": "https://localhost:8080/"
        },
        "id": "0xJtw27QhMnI",
        "outputId": "331bdd82-4308-4c1d-a476-2c0146800e66"
      },
      "outputs": [
        {
          "output_type": "stream",
          "name": "stdout",
          "text": [
            "sample_data\n"
          ]
        }
      ],
      "source": [
        "!dir"
      ]
    },
    {
      "cell_type": "code",
      "source": [
        "!dir sample_data"
      ],
      "metadata": {
        "colab": {
          "base_uri": "https://localhost:8080/"
        },
        "id": "8lAP4i8tjOkG",
        "outputId": "d1898123-86da-450b-ecf9-77393facbbad"
      },
      "execution_count": 3,
      "outputs": [
        {
          "output_type": "stream",
          "name": "stdout",
          "text": [
            "anscombe.json\t\t      mnist_test.csv\n",
            "california_housing_test.csv   mnist_train_small.csv\n",
            "california_housing_train.csv  README.md\n"
          ]
        }
      ]
    },
    {
      "cell_type": "code",
      "execution_count": 4,
      "metadata": {
        "colab": {
          "base_uri": "https://localhost:8080/"
        },
        "id": "EZ6YYeuXhMnJ",
        "outputId": "fdf1695c-d4fa-4cef-f082-855150d97ba7"
      },
      "outputs": [
        {
          "output_type": "stream",
          "name": "stdout",
          "text": [
            "This is printing\n"
          ]
        }
      ],
      "source": [
        "# This is a comment - meant for humans, computers ignore anything after #\n",
        "print(\"This is printing\")\n",
        "# print(\"This is not printing\")"
      ]
    },
    {
      "cell_type": "code",
      "source": [
        "# see if you can make an error - debugging errors is an important skill\n",
        "print(\"somehing\")"
      ],
      "metadata": {
        "colab": {
          "base_uri": "https://localhost:8080/"
        },
        "id": "uVuMsBElkMiJ",
        "outputId": "9fbc2427-28ce-4ab1-94ec-d63aa579a858"
      },
      "execution_count": 9,
      "outputs": [
        {
          "output_type": "stream",
          "name": "stdout",
          "text": [
            "somehing\n"
          ]
        }
      ]
    },
    {
      "cell_type": "code",
      "execution_count": 10,
      "metadata": {
        "id": "HzAk2_2thMnJ"
      },
      "outputs": [],
      "source": [
        "my_name = \"Valdis\" # in Python we need no special keyword for variables\n",
        "# in effect I am binding my_name to string literal \"Valdis\" - for the time being\n"
      ]
    },
    {
      "cell_type": "code",
      "source": [
        "print(\"So my current name is\", my_name) # by default , will give us single space separation for print"
      ],
      "metadata": {
        "colab": {
          "base_uri": "https://localhost:8080/"
        },
        "id": "Ah8QxHeFlU7A",
        "outputId": "afa28edd-2ccf-4bc1-c98f-7f8fe396c144"
      },
      "execution_count": 17,
      "outputs": [
        {
          "output_type": "stream",
          "name": "stdout",
          "text": [
            "So my current name is Valdis\n"
          ]
        }
      ]
    },
    {
      "cell_type": "code",
      "execution_count": 14,
      "metadata": {
        "id": "IN_lLr4RhMnK"
      },
      "outputs": [],
      "source": [
        "myname = \"Val\" # this is a different variable!"
      ]
    },
    {
      "cell_type": "code",
      "execution_count": 16,
      "metadata": {
        "colab": {
          "base_uri": "https://localhost:8080/"
        },
        "id": "Zigh893WhMnK",
        "outputId": "92f67de1-8a73-40ef-aab3-5e0e01b37860"
      },
      "outputs": [
        {
          "output_type": "stream",
          "name": "stdout",
          "text": [
            "My name is Val\n"
          ]
        }
      ],
      "source": [
        "print(\"My name is\", myname)"
      ]
    },
    {
      "cell_type": "code",
      "execution_count": null,
      "metadata": {
        "id": "VF0XGA7khMnK"
      },
      "outputs": [],
      "source": [
        "# Generally you should run cells in order because easier to reason about"
      ]
    },
    {
      "cell_type": "code",
      "execution_count": null,
      "metadata": {
        "id": "CTgRDD78hMnL"
      },
      "outputs": [],
      "source": [
        "# variable names should generally start with lowercase letter \n",
        "# and can contain letters, numbers and underscores like some_Var_5324 - not a good name but legal\n",
        "# so typically multiple words in variable are connected with _"
      ]
    },
    {
      "cell_type": "code",
      "execution_count": 18,
      "metadata": {
        "colab": {
          "base_uri": "https://localhost:8080/"
        },
        "id": "7BJ1QE7XhMnL",
        "outputId": "a09c87f4-3c4c-45a9-955c-dd5416143c25"
      },
      "outputs": [
        {
          "output_type": "stream",
          "name": "stdout",
          "text": [
            "6\n",
            "50\n"
          ]
        }
      ],
      "source": [
        "my_var = 6\n",
        "print(my_var) # snake syntax meaning _ syntax\n",
        "myVar = 50 # camelCase syntax common in Javascript other programming\n",
        "# camelCase syntax is generally less used or avoided in Python\n",
        "print(myVar) \n",
        "# Recommendation is to keep one style for one project, one notebook"
      ]
    },
    {
      "cell_type": "code",
      "source": [
        "my_NAME = \"Saules\"\n",
        "print(my_NAME) # Case sensitive so different from my_name\n",
        "# generally you want to use lowercase"
      ],
      "metadata": {
        "colab": {
          "base_uri": "https://localhost:8080/"
        },
        "id": "t9rWWXvdmhZR",
        "outputId": "976081fb-4d21-41bd-aadc-7df0ef829abb"
      },
      "execution_count": 20,
      "outputs": [
        {
          "output_type": "stream",
          "name": "stdout",
          "text": [
            "Saules\n"
          ]
        }
      ]
    },
    {
      "cell_type": "code",
      "execution_count": null,
      "metadata": {
        "id": "YsShZxaEhMnM"
      },
      "outputs": [],
      "source": [
        "\n",
        "The following identifiers are used as reserved words, or keywords of the language, and cannot be used as ordinary identifiers. They must be spelled exactly as written here:\n",
        "\n",
        "False      class      finally    is         return\n",
        "None       continue   for        lambda     try\n",
        "True       def        from       nonlocal   while\n",
        "and        del        global     not        with\n",
        "as         elif       if         or         yield\n",
        "assert     else       import     pass\n",
        "break      except     in         raise"
      ]
    },
    {
      "cell_type": "code",
      "source": [
        "# class = \"RTU\" # not legal\n",
        "class_ = \"RTU Python\" # legal with underscore\n",
        "# one workaround if you really need the class as a variable name for some reason\n",
        "# add underscore, I've seen libraries(tools) that use this approach\n",
        "print(\"We are taking\", class_)"
      ],
      "metadata": {
        "colab": {
          "base_uri": "https://localhost:8080/"
        },
        "id": "cltLOFk9nFQP",
        "outputId": "3627a6d2-2b26-43db-9663-f27714c49d1a"
      },
      "execution_count": 27,
      "outputs": [
        {
          "output_type": "stream",
          "name": "stdout",
          "text": [
            "We are taking RTU Python\n"
          ]
        }
      ]
    },
    {
      "cell_type": "code",
      "source": [
        "# there are some other words that are not prohibited but are built in Python functions\n",
        "# and best should be left alone\n",
        "# i could redefine print as a regular variable such as print = 525235325 # not a good idea\n",
        "# built in functions that CAN but should not be overwritten\n",
        "# https://docs.python.org/3/library/functions.html#built-in-functions"
      ],
      "metadata": {
        "id": "sL-64-hRnj3D"
      },
      "execution_count": null,
      "outputs": []
    },
    {
      "cell_type": "markdown",
      "source": [
        "# Built in Python functions\n",
        "\n",
        "there are some other words that are not prohibited but are built in *Python* functions\n",
        "and best should be left alone\n",
        "i could redefine print as a regular variable such as print = 525235325 # not a good idea\n",
        "built in functions that CAN but **should not** be overwritten\n",
        "\n",
        "[Built in Python Functions](https://docs.python.org/3/library/functions.html#built-in-functions)"
      ],
      "metadata": {
        "id": "TyiNvJznq4IM"
      }
    },
    {
      "cell_type": "code",
      "execution_count": 35,
      "metadata": {
        "colab": {
          "base_uri": "https://localhost:8080/"
        },
        "id": "CFARtGFuhMnM",
        "outputId": "da2d8e65-d1e6-4b7c-dd48-d1cff4f9bcef"
      },
      "outputs": [
        {
          "output_type": "stream",
          "name": "stdout",
          "text": [
            "My favorite foods are potatoes and carrots\n"
          ]
        }
      ],
      "source": [
        "my_food = \"carrots\"\n",
        "# my_other_food = myfood # this will be NameError: name 'myfood' is not defined\n",
        "\n",
        "my_other_food = my_food # now both variables point to the same value \"carrots\"\n",
        "# in Python I can reassign values\n",
        "my_food = \"potatoes\" # without this line both my foods would point to \"potatoes\"\n",
        "print(\"My favorite foods are\", my_food, \"and\", my_other_food)"
      ]
    },
    {
      "cell_type": "code",
      "execution_count": 41,
      "metadata": {
        "id": "BwXWZLK8hMnM"
      },
      "outputs": [],
      "source": [
        "my_food = \"oats\""
      ]
    },
    {
      "cell_type": "code",
      "execution_count": 38,
      "metadata": {
        "id": "Y48wgGznhMnN"
      },
      "outputs": [],
      "source": [
        "my_other_food = \"blueberries\" #if I do not run the cell the values will not reassigned!"
      ]
    },
    {
      "cell_type": "code",
      "execution_count": 42,
      "metadata": {
        "colab": {
          "base_uri": "https://localhost:8080/"
        },
        "id": "AtnituZBhMnN",
        "outputId": "b3a15b96-5afb-4693-91e9-26f586657576"
      },
      "outputs": [
        {
          "output_type": "stream",
          "name": "stdout",
          "text": [
            "My favorite foods are oats and blueberries\n"
          ]
        }
      ],
      "source": [
        "\n",
        "\n",
        "print(\"My favorite foods are\", my_food, \"and\", my_other_food)"
      ]
    },
    {
      "cell_type": "code",
      "execution_count": 44,
      "metadata": {
        "colab": {
          "base_uri": "https://localhost:8080/"
        },
        "id": "g4ndgQuBhMnN",
        "outputId": "d9b7a7dc-86d3-4e9d-b0c9-dfc1a928b945"
      },
      "outputs": [
        {
          "output_type": "execute_result",
          "data": {
            "text/plain": [
              "str"
            ]
          },
          "metadata": {},
          "execution_count": 44
        }
      ],
      "source": [
        "type(my_food) # we can determine the data type\n",
        "# str means string"
      ]
    },
    {
      "cell_type": "code",
      "execution_count": 45,
      "metadata": {
        "colab": {
          "base_uri": "https://localhost:8080/"
        },
        "id": "y0xIkMUxhMnN",
        "outputId": "df22f1c5-42f1-4cce-9fee-cb2f533cf90d"
      },
      "outputs": [
        {
          "output_type": "execute_result",
          "data": {
            "text/plain": [
              "int"
            ]
          },
          "metadata": {},
          "execution_count": 45
        }
      ],
      "source": [
        "type(5)"
      ]
    },
    {
      "cell_type": "code",
      "execution_count": 46,
      "metadata": {
        "colab": {
          "base_uri": "https://localhost:8080/"
        },
        "id": "uyby0TbShMnN",
        "outputId": "47c330a1-b7eb-4153-d94d-cddea8e7a715"
      },
      "outputs": [
        {
          "output_type": "execute_result",
          "data": {
            "text/plain": [
              "str"
            ]
          },
          "metadata": {},
          "execution_count": 46
        }
      ],
      "source": [
        "type(\"5\")"
      ]
    },
    {
      "cell_type": "code",
      "execution_count": 47,
      "metadata": {
        "colab": {
          "base_uri": "https://localhost:8080/"
        },
        "id": "QOBEJ3oRhMnO",
        "outputId": "5b0fedfd-9b00-4546-aba1-83bf1c4a4abf"
      },
      "outputs": [
        {
          "output_type": "execute_result",
          "data": {
            "text/plain": [
              "int"
            ]
          },
          "metadata": {},
          "execution_count": 47
        }
      ],
      "source": [
        "a = 42\n",
        "type(a)"
      ]
    },
    {
      "cell_type": "code",
      "execution_count": 48,
      "metadata": {
        "colab": {
          "base_uri": "https://localhost:8080/"
        },
        "id": "AsZD8yhjhMnO",
        "outputId": "7a703527-3666-4dc5-cb0f-b4d3ffcd0d48"
      },
      "outputs": [
        {
          "output_type": "execute_result",
          "data": {
            "text/plain": [
              "str"
            ]
          },
          "metadata": {},
          "execution_count": 48
        }
      ],
      "source": [
        "a = \"answer\"\n",
        "type(a)\n",
        "# this means that in Python data types are dynamic - can be changed\n",
        "# can be convenient\n",
        "# also can lead to hard to catch bugs\n",
        "# try to avoid changing data types in Python"
      ]
    },
    {
      "cell_type": "code",
      "execution_count": 49,
      "metadata": {
        "colab": {
          "base_uri": "https://localhost:8080/"
        },
        "id": "HBeyt8XbhMnO",
        "outputId": "b46edc31-bec5-47d2-a3d3-01c5a2a15a9b"
      },
      "outputs": [
        {
          "output_type": "execute_result",
          "data": {
            "text/plain": [
              "str"
            ]
          },
          "metadata": {},
          "execution_count": 49
        }
      ],
      "source": [
        "type(my_name)"
      ]
    },
    {
      "cell_type": "code",
      "source": [
        "# so not a variable\n",
        "this_is_a_variable = 5.1637 # this gives us floating point (number with comma, )"
      ],
      "metadata": {
        "id": "LYRuHbglqZLy"
      },
      "execution_count": null,
      "outputs": []
    },
    {
      "cell_type": "markdown",
      "metadata": {
        "id": "1xNxJgt7hMnO"
      },
      "source": [
        "## Data types in Python 3.x\n",
        "* Integers type(42) int \n",
        "* Floating Point type(3.14) float\n",
        "* Boolean type(True),type(False) bool\n",
        "* String(ordered, **immutable** char sequence) type(\"OyCaramba\") str\n",
        "* List type([1,2,63,\"aha\",\"youcanmixtypeinsidelist\", [\"even\",\"nest\"]]) list\n",
        "* Dictionary(key:value pairs) type({\"foo\":\"bar\", \"favoriteday\":\"Friday\"}) dict\n",
        "* Tuple - ordered immutable sequence type(\"sup\",7,\"dwarves\") tup\n",
        "* Set (unordered collection of uniques) (\"k\",\"a\",\"r\",\"t\",\"u\",\"p\",\"e\",\"l\",\"i\",\"s\")\n",
        "\n"
      ]
    },
    {
      "cell_type": "code",
      "execution_count": 51,
      "metadata": {
        "colab": {
          "base_uri": "https://localhost:8080/"
        },
        "id": "g01VF3JshMnO",
        "outputId": "f899a8f7-2a8e-4e2d-d76c-fffedb598406"
      },
      "outputs": [
        {
          "output_type": "stream",
          "name": "stdout",
          "text": [
            "<class 'int'> <class 'int'>\n"
          ]
        }
      ],
      "source": [
        "a=42 # so automatically and dynamically Python assigns integer type to variable a\n",
        "print(type(a), type(42))"
      ]
    },
    {
      "cell_type": "code",
      "execution_count": 54,
      "metadata": {
        "colab": {
          "base_uri": "https://localhost:8080/"
        },
        "id": "MXmJGPpdhMnP",
        "outputId": "6b5002c5-7d9b-40da-93e1-b1c60785fe4d"
      },
      "outputs": [
        {
          "output_type": "stream",
          "name": "stdout",
          "text": [
            "20 9793696\n"
          ]
        }
      ],
      "source": [
        "b=20\n",
        "print(b, id(b)) # id means some memory location(virtual) the number itself is not significant"
      ]
    },
    {
      "cell_type": "code",
      "execution_count": 55,
      "metadata": {
        "colab": {
          "base_uri": "https://localhost:8080/"
        },
        "id": "8_Nw9X2-hMnP",
        "outputId": "06d16f28-c555-44d9-f088-301bd28249e7"
      },
      "outputs": [
        {
          "output_type": "stream",
          "name": "stdout",
          "text": [
            "200 9799456\n"
          ]
        }
      ],
      "source": [
        "c=200\n",
        "print(c, id(c))"
      ]
    },
    {
      "cell_type": "code",
      "source": [
        "# interestingly enough number from I believe -5 to 255 are preassigned in memory for Python for performance use\n",
        "d=254\n",
        "e=255\n",
        "f=257\n",
        "g=258\n",
        "print(id(d), id(e),id(f), id(g))\n",
        "# so up to 255 have early seats somewhere in memory\n",
        "# in general in Python we do not control memory\n",
        "# it is managed for us automatically\n",
        "# in fact when we do not use some data anymore(we have no variables pointing at it)\n",
        "# the memory is automatically freed - garbage collected"
      ],
      "metadata": {
        "id": "LD-YHIWHtFjP",
        "outputId": "85879e51-3969-4d15-db9d-8a155eac9723",
        "colab": {
          "base_uri": "https://localhost:8080/"
        }
      },
      "execution_count": 56,
      "outputs": [
        {
          "output_type": "stream",
          "name": "stdout",
          "text": [
            "9801184 9801216 140188036628336 140188036628080\n"
          ]
        }
      ]
    },
    {
      "cell_type": "code",
      "execution_count": 57,
      "metadata": {
        "colab": {
          "base_uri": "https://localhost:8080/"
        },
        "id": "U8L0ck7khMnP",
        "outputId": "35ad651f-af48-43d8-ceb8-7e8cf2404220"
      },
      "outputs": [
        {
          "output_type": "stream",
          "name": "stdout",
          "text": [
            "3.1415926 <class 'float'>\n"
          ]
        }
      ],
      "source": [
        "pi = 3.1415926\n",
        "print(pi, type(pi)) # so floating point value"
      ]
    },
    {
      "cell_type": "code",
      "source": [
        "# Python does not have true constants\n",
        "# convention says to use ALL_CAPS for your constant values\n",
        "MY_PI = 3.1416\n",
        "print(pi, MY_PI)"
      ],
      "metadata": {
        "id": "RYwV-YLctvsl",
        "outputId": "43e66a10-d608-45c2-a14e-3c6a572e6bb4",
        "colab": {
          "base_uri": "https://localhost:8080/"
        }
      },
      "execution_count": 58,
      "outputs": [
        {
          "output_type": "stream",
          "name": "stdout",
          "text": [
            "3.1415926 3.1416\n"
          ]
        }
      ]
    },
    {
      "cell_type": "code",
      "source": [
        "# nothing prevents from changing that value ( just like that US 19th century congressman..)\n",
        "MY_PI = 3\n",
        "# and well your calculations will be quite off  :)\n",
        "print(MY_PI)"
      ],
      "metadata": {
        "id": "ZpTDDMhnt7Ht",
        "outputId": "debc3a2b-c201-4496-8f45-1690172fde8e",
        "colab": {
          "base_uri": "https://localhost:8080/"
        }
      },
      "execution_count": 60,
      "outputs": [
        {
          "output_type": "stream",
          "name": "stdout",
          "text": [
            "3\n"
          ]
        }
      ]
    },
    {
      "cell_type": "code",
      "execution_count": 61,
      "metadata": {
        "colab": {
          "base_uri": "https://localhost:8080/"
        },
        "id": "_Vlm9yV7hMnP",
        "outputId": "e00c2eff-387c-4fb7-8fe1-2fe46cceaa56"
      },
      "outputs": [
        {
          "output_type": "stream",
          "name": "stdout",
          "text": [
            "4\n"
          ]
        }
      ],
      "source": [
        "# we can make the computer do the math for us!\n",
        "result = 2+2\n",
        "print(result)"
      ]
    },
    {
      "cell_type": "code",
      "execution_count": 62,
      "metadata": {
        "colab": {
          "base_uri": "https://localhost:8080/"
        },
        "id": "N_eihSaQhMnP",
        "outputId": "565b26f8-77af-4bbe-e1de-efa91190b044"
      },
      "outputs": [
        {
          "output_type": "stream",
          "name": "stdout",
          "text": [
            "15.0 <class 'float'>\n"
          ]
        }
      ],
      "source": [
        "res2 = 30/2 # so 30/2 gives you what data type?\n",
        "# so / gives us floats\n",
        "print(res2, type(res2))"
      ]
    },
    {
      "cell_type": "code",
      "execution_count": 64,
      "metadata": {
        "colab": {
          "base_uri": "https://localhost:8080/"
        },
        "id": "fzh_WOVFhMnP",
        "outputId": "6dd116fd-eae1-47e8-ba68-71917807c92a"
      },
      "outputs": [
        {
          "output_type": "stream",
          "name": "stdout",
          "text": [
            "15 <class 'int'>\n"
          ]
        }
      ],
      "source": [
        "whole_number = 30//2 # this gives you whole part\n",
        "print(whole_number, type(whole_number))"
      ]
    },
    {
      "cell_type": "code",
      "execution_count": 65,
      "metadata": {
        "colab": {
          "base_uri": "https://localhost:8080/"
        },
        "id": "qe9Ate3bhMnQ",
        "outputId": "c7cc2fae-d7c6-40d1-b410-66831596dbe9"
      },
      "outputs": [
        {
          "output_type": "execute_result",
          "data": {
            "text/plain": [
              "(3.5, 3)"
            ]
          },
          "metadata": {},
          "execution_count": 65
        }
      ],
      "source": [
        "7 / 2, 7 // 2"
      ]
    },
    {
      "cell_type": "code",
      "source": [
        "# to get the reminder (remember your grade school)\n",
        "# we use %\n",
        "7 % 2 # will be 1"
      ],
      "metadata": {
        "id": "G98pKmfpulmb",
        "outputId": "218137d6-2171-4f86-acc5-7f49f7bfcafc",
        "colab": {
          "base_uri": "https://localhost:8080/"
        }
      },
      "execution_count": 66,
      "outputs": [
        {
          "output_type": "execute_result",
          "data": {
            "text/plain": [
              "1"
            ]
          },
          "metadata": {},
          "execution_count": 66
        }
      ]
    },
    {
      "cell_type": "code",
      "execution_count": 69,
      "metadata": {
        "colab": {
          "base_uri": "https://localhost:8080/"
        },
        "id": "h_lMRlB6hMnQ",
        "outputId": "11007d1f-3509-4783-ff15-fff5173b2c99"
      },
      "outputs": [
        {
          "output_type": "execute_result",
          "data": {
            "text/plain": [
              "2"
            ]
          },
          "metadata": {},
          "execution_count": 69
        }
      ],
      "source": [
        "7%5 # so % gives you reminder, there is a tiny bit of difference modulo"
      ]
    },
    {
      "cell_type": "code",
      "execution_count": 70,
      "metadata": {
        "colab": {
          "base_uri": "https://localhost:8080/"
        },
        "id": "aXAYjd-mhMnQ",
        "outputId": "d5154601-fbb7-4329-a8f9-b0dfcc0cf225"
      },
      "outputs": [
        {
          "output_type": "execute_result",
          "data": {
            "text/plain": [
              "(1, 0, 1, 0, 1, 0)"
            ]
          },
          "metadata": {},
          "execution_count": 70
        }
      ],
      "source": [
        "7%2, 8%2, 9%2, 10%2, 11%2, 12%2 # so % 2 will let us determine if number is ?"
      ]
    },
    {
      "cell_type": "code",
      "execution_count": 71,
      "metadata": {
        "colab": {
          "base_uri": "https://localhost:8080/"
        },
        "id": "W-gaCdkJhMnQ",
        "outputId": "bc8b6533-fcb8-4c4f-b0d7-9c50d2f9a9d2"
      },
      "outputs": [
        {
          "output_type": "execute_result",
          "data": {
            "text/plain": [
              "4"
            ]
          },
          "metadata": {},
          "execution_count": 71
        }
      ],
      "source": [
        "535264264624 % 10 # this will give us ?"
      ]
    },
    {
      "cell_type": "code",
      "execution_count": null,
      "metadata": {
        "id": "sSmBNmXQhMnR"
      },
      "outputs": [],
      "source": [
        "34344435%2"
      ]
    },
    {
      "cell_type": "code",
      "execution_count": 72,
      "metadata": {
        "colab": {
          "base_uri": "https://localhost:8080/"
        },
        "id": "8Exct9jshMnS",
        "outputId": "31ecce5d-9473-45c3-a30b-7257be44f5fb"
      },
      "outputs": [
        {
          "output_type": "execute_result",
          "data": {
            "text/plain": [
              "0.30000000000000004"
            ]
          },
          "metadata": {},
          "execution_count": 72
        }
      ],
      "source": [
        "0.1+0.2 # floats are weird in pretty much ALL programming languages "
      ]
    },
    {
      "cell_type": "code",
      "source": [
        "# turns out floats have an international specification\n",
        "# some numbers after comma are not representable by floats - they are just aproximations\n",
        "# https://en.wikipedia.org/wiki/IEEE_754\n",
        "# key takeaway do not trust floats completely"
      ],
      "metadata": {
        "id": "NKQtZRaWvc1J"
      },
      "execution_count": null,
      "outputs": []
    },
    {
      "cell_type": "code",
      "execution_count": 73,
      "metadata": {
        "colab": {
          "base_uri": "https://localhost:8080/"
        },
        "id": "GITOV8T0hMnU",
        "outputId": "e6b559b4-7c80-4ebd-f9ea-e5ec3acb9a54"
      },
      "outputs": [
        {
          "output_type": "execute_result",
          "data": {
            "text/plain": [
              "False"
            ]
          },
          "metadata": {},
          "execution_count": 73
        }
      ],
      "source": [
        "0 == 0.1+0.2-0.3"
      ]
    },
    {
      "cell_type": "code",
      "source": [
        "# so what to do with floats\n",
        "# if you need some control over them\n",
        "# simply use round\n",
        "weird_num = 0.1+0.2\n",
        "rounded_num = round(weird_num, 2)  # 2 here means 2 digits after comma\n",
        "print(weird_num)\n",
        "print(rounded_num)\n"
      ],
      "metadata": {
        "id": "Hby8lBtevzQU",
        "outputId": "de4560e0-ef9d-4eb2-e2b3-e6d2a0146afb",
        "colab": {
          "base_uri": "https://localhost:8080/"
        }
      },
      "execution_count": 75,
      "outputs": [
        {
          "output_type": "stream",
          "name": "stdout",
          "text": [
            "0.30000000000000004\n",
            "0.3\n"
          ]
        }
      ]
    },
    {
      "cell_type": "code",
      "source": [
        "pi, round(pi, 4) # so here rounded to 4 digits after comma"
      ],
      "metadata": {
        "id": "0DXlblUFwIgd",
        "outputId": "32d668c1-d3e6-4fc5-ee05-a1ac7aad1ec6",
        "colab": {
          "base_uri": "https://localhost:8080/"
        }
      },
      "execution_count": 77,
      "outputs": [
        {
          "output_type": "execute_result",
          "data": {
            "text/plain": [
              "(3.1415926, 3.1416)"
            ]
          },
          "metadata": {},
          "execution_count": 77
        }
      ]
    },
    {
      "cell_type": "code",
      "execution_count": 78,
      "metadata": {
        "colab": {
          "base_uri": "https://localhost:8080/"
        },
        "id": "eQ5fl7MGhMnW",
        "outputId": "3110a941-85ba-4c87-c83c-fdeaecfa60d5"
      },
      "outputs": [
        {
          "output_type": "execute_result",
          "data": {
            "text/plain": [
              "8"
            ]
          },
          "metadata": {},
          "execution_count": 78
        }
      ],
      "source": [
        "2**3 # this is 2 to the power of 3 , so 2 cubed"
      ]
    },
    {
      "cell_type": "code",
      "execution_count": 79,
      "metadata": {
        "colab": {
          "base_uri": "https://localhost:8080/"
        },
        "id": "exGqny4ThMnX",
        "outputId": "4baff6d3-ae47-431e-9ec4-0b76b1f438ba"
      },
      "outputs": [
        {
          "output_type": "execute_result",
          "data": {
            "text/plain": [
              "9.0"
            ]
          },
          "metadata": {},
          "execution_count": 79
        }
      ],
      "source": [
        "81**0.5 # so square root"
      ]
    },
    {
      "cell_type": "code",
      "source": [
        "5**(-1) # should be one fifth as it is indeed"
      ],
      "metadata": {
        "id": "5QwovBTKwZCa",
        "outputId": "1ca1d48a-9db4-4c56-9de4-3e8db2fe2a23",
        "colab": {
          "base_uri": "https://localhost:8080/"
        }
      },
      "execution_count": 80,
      "outputs": [
        {
          "output_type": "execute_result",
          "data": {
            "text/plain": [
              "0.2"
            ]
          },
          "metadata": {},
          "execution_count": 80
        }
      ]
    },
    {
      "cell_type": "code",
      "execution_count": 81,
      "metadata": {
        "colab": {
          "base_uri": "https://localhost:8080/"
        },
        "id": "oncMXlF9hMnZ",
        "outputId": "c21800c0-9845-46f5-9284-c64ed3b0f7ac"
      },
      "outputs": [
        {
          "output_type": "execute_result",
          "data": {
            "text/plain": [
              "4294967296"
            ]
          },
          "metadata": {},
          "execution_count": 81
        }
      ],
      "source": [
        "2**32 # this is significant number for computer hardware\n",
        "# important limitation in older harware was 32 bit limit\n",
        "# this explains it"
      ]
    },
    {
      "cell_type": "code",
      "execution_count": 82,
      "metadata": {
        "colab": {
          "base_uri": "https://localhost:8080/"
        },
        "id": "dxX0VcF3hMnZ",
        "outputId": "77a49b51-b947-470a-db2e-5a7b51f98c0e"
      },
      "outputs": [
        {
          "output_type": "execute_result",
          "data": {
            "text/plain": [
              "18446744073709551616"
            ]
          },
          "metadata": {},
          "execution_count": 82
        }
      ],
      "source": [
        "2**64 # so we moved to 64 bit systems\n",
        "# plenty of space for addressing"
      ]
    },
    {
      "cell_type": "code",
      "execution_count": 83,
      "metadata": {
        "colab": {
          "base_uri": "https://localhost:8080/"
        },
        "id": "dMVpLfdfhMnZ",
        "outputId": "dd39b09a-6c52-4459-d8a9-a1e736c7a10e"
      },
      "outputs": [
        {
          "output_type": "execute_result",
          "data": {
            "text/plain": [
              "8694526642668158675939383389473345623963157818716993537942169888940326772047361958748816623049234678032233658041460026169763104602866921826819334951005465192974916749259779145806091604938672667360593734392697918231223508087869326609682808263084677711181011036760097221745670271824913505540895552136511105753880255909795697573245840056893245892073179510979246748063169140826693842048522697848236664386778686091257869743551213031607158566152634422160633382844449416616137985858162143852572116256078026709971654347633079887927256057840945394779200140837974032770377298380287085928804364399515666335722139964720996252417725862747688816045795707126425054985473385611718903740603680894096224557790767660583867206363284303599670951703306753356037331121171160872997396189901122009729299944673787118617652487453199704020165385920212065750108221533531913490388774742622184300111424606314693026377099943672490756892821659675387618261437304036816209606802510169219679309647679934749999104"
            ]
          },
          "metadata": {},
          "execution_count": 83
        }
      ],
      "source": [
        "2**3242 # python lets us use big numbers immediately, unlike most languages"
      ]
    },
    {
      "cell_type": "code",
      "execution_count": 84,
      "metadata": {
        "colab": {
          "base_uri": "https://localhost:8080/"
        },
        "id": "JSr3LCBJhMna",
        "outputId": "9816dd91-cae2-4549-b78b-7c01dddc84df"
      },
      "outputs": [
        {
          "output_type": "execute_result",
          "data": {
            "text/plain": [
              "10000000000000000000000000000000000000000000000000000000000000000000000000000000000000000000000000000"
            ]
          },
          "metadata": {},
          "execution_count": 84
        }
      ],
      "source": [
        "10**100 # Googol from https://en.wikipedia.org/wiki/Googol"
      ]
    },
    {
      "cell_type": "code",
      "execution_count": 86,
      "metadata": {
        "colab": {
          "base_uri": "https://localhost:8080/"
        },
        "id": "aG-kQ96ahMnb",
        "outputId": "b14baf83-f54c-432f-c6f5-3ea2738a4a7a"
      },
      "outputs": [
        {
          "output_type": "stream",
          "name": "stdout",
          "text": [
            "42 20 62\n"
          ]
        }
      ],
      "source": [
        "c=b+a # = is assignment not equality!! equality is ==\n",
        "print(a,b,c)"
      ]
    },
    {
      "cell_type": "code",
      "execution_count": null,
      "metadata": {
        "id": "1hG5rg35hMnc"
      },
      "outputs": [],
      "source": [
        "d=b/a\n",
        "print(d, type(d))"
      ]
    },
    {
      "cell_type": "code",
      "execution_count": null,
      "metadata": {
        "id": "kjXYaOPyhMne"
      },
      "outputs": [],
      "source": [
        "e=b-a\n",
        "print(e, type(e))"
      ]
    },
    {
      "cell_type": "code",
      "execution_count": null,
      "metadata": {
        "id": "StmDWF3MhMnf"
      },
      "outputs": [],
      "source": [
        "f=b*e\n",
        "f"
      ]
    },
    {
      "cell_type": "code",
      "execution_count": null,
      "metadata": {
        "id": "uMH3gZWihMng"
      },
      "outputs": [],
      "source": [
        "2**10"
      ]
    },
    {
      "cell_type": "code",
      "execution_count": null,
      "metadata": {
        "id": "KoYdFRdYhMng"
      },
      "outputs": [],
      "source": [
        "2**32"
      ]
    },
    {
      "cell_type": "code",
      "execution_count": null,
      "metadata": {
        "id": "UBPPeVp9hMnh"
      },
      "outputs": [],
      "source": [
        "2**64"
      ]
    },
    {
      "cell_type": "code",
      "execution_count": null,
      "metadata": {
        "id": "qf6FSxTLhMnh"
      },
      "outputs": [],
      "source": [
        "result = 2**64\n",
        "print(a)\n",
        "print(result)"
      ]
    },
    {
      "cell_type": "code",
      "execution_count": null,
      "metadata": {
        "id": "EGJgbbbFhMni"
      },
      "outputs": [],
      "source": [
        "42//20"
      ]
    },
    {
      "cell_type": "code",
      "execution_count": null,
      "metadata": {
        "id": "965sk2xyhMni"
      },
      "outputs": [],
      "source": [
        "47//20"
      ]
    },
    {
      "cell_type": "code",
      "execution_count": null,
      "metadata": {
        "id": "2lPolVQ-hMni"
      },
      "outputs": [],
      "source": [
        "47%20"
      ]
    },
    {
      "cell_type": "code",
      "execution_count": null,
      "metadata": {
        "id": "iuTY1DoehMni"
      },
      "outputs": [],
      "source": [
        "7%2"
      ]
    },
    {
      "cell_type": "code",
      "execution_count": 97,
      "metadata": {
        "colab": {
          "base_uri": "https://localhost:8080/"
        },
        "id": "cGFRrFGyhMnm",
        "outputId": "a9a6df20-d235-482f-a94a-aaabff785ebf"
      },
      "outputs": [
        {
          "output_type": "stream",
          "name": "stdout",
          "text": [
            "10\n"
          ]
        }
      ],
      "source": [
        "a = 10\n",
        "print(a)"
      ]
    },
    {
      "cell_type": "code",
      "execution_count": 98,
      "metadata": {
        "colab": {
          "base_uri": "https://localhost:8080/"
        },
        "id": "FkU4sIVwhMnm",
        "outputId": "203ff1b4-dbb1-4974-965b-89b0a8f15b2f"
      },
      "outputs": [
        {
          "output_type": "stream",
          "name": "stdout",
          "text": [
            "15\n"
          ]
        }
      ],
      "source": [
        "a = a + 5 # expression is evaluated right to left\n",
        "# = is assignment!\n",
        "print(a)"
      ]
    },
    {
      "cell_type": "code",
      "execution_count": 102,
      "metadata": {
        "colab": {
          "base_uri": "https://localhost:8080/"
        },
        "id": "6S6X-SKShMnm",
        "outputId": "807a33df-c985-4ec2-f48d-e5df3f84cdb7"
      },
      "outputs": [
        {
          "output_type": "stream",
          "name": "stdout",
          "text": [
            "39\n"
          ]
        }
      ],
      "source": [
        "# adding something to itself is so common\n",
        "# that there is a shorter way of writing it\n",
        "a += 6 # this means a = a + 6\n",
        "print(a)"
      ]
    },
    {
      "cell_type": "markdown",
      "metadata": {
        "id": "Sd-02BnphMnm"
      },
      "source": [
        "## id(object)\n",
        "\n",
        "Return the “identity” of an object. \n",
        "\n",
        "This is an integer which is guaranteed to be unique and constant for this object during its lifetime. \n",
        "Two objects with non-overlapping lifetimes may have the same id() value.\n",
        "\n",
        "#### CPython implementation detail: This is the address of the object in memory."
      ]
    },
    {
      "cell_type": "code",
      "execution_count": null,
      "metadata": {
        "id": "sQX6O2umhMnn"
      },
      "outputs": [],
      "source": [
        "b+=22 # shortcut operator to add to existing value of a variable b = b + 22\n",
        "# += /= -= *=\n",
        "print(b)"
      ]
    },
    {
      "cell_type": "code",
      "execution_count": null,
      "metadata": {
        "id": "NCZiE0VBhMnn"
      },
      "outputs": [],
      "source": [
        "id(a),id(b),id(42),id(3),id(4),id(5),id(5000),id(5001),id(5002) # notice how ids are incremented!"
      ]
    },
    {
      "cell_type": "code",
      "execution_count": null,
      "metadata": {
        "id": "9doP2dMThMnn"
      },
      "outputs": [],
      "source": [
        "id(6)"
      ]
    },
    {
      "cell_type": "code",
      "execution_count": null,
      "metadata": {
        "id": "1HoTtBw4hMnn"
      },
      "outputs": [],
      "source": [
        "id(-1),id(0),id(1)"
      ]
    },
    {
      "cell_type": "code",
      "execution_count": null,
      "metadata": {
        "id": "CwZ4b8PNhMnn"
      },
      "outputs": [],
      "source": [
        "id(7)\n",
        "id(-6),id(-5),id(-4)"
      ]
    },
    {
      "cell_type": "code",
      "execution_count": null,
      "metadata": {
        "scrolled": true,
        "id": "KmrKlQSRhMno"
      },
      "outputs": [],
      "source": [
        "a is b"
      ]
    },
    {
      "cell_type": "code",
      "execution_count": null,
      "metadata": {
        "id": "Xr5dXKsyhMno"
      },
      "outputs": [],
      "source": [
        "second_name = \"Valdis\"\n",
        "name = \"Valdis\"\n",
        "print(name, second_name)"
      ]
    },
    {
      "cell_type": "code",
      "execution_count": null,
      "metadata": {
        "id": "fUlG3g4YhMno"
      },
      "outputs": [],
      "source": [
        "print(id(name), id(second_name))"
      ]
    },
    {
      "cell_type": "markdown",
      "metadata": {
        "id": "PQhzWhXshMno"
      },
      "source": [
        "## Floating Point "
      ]
    },
    {
      "cell_type": "code",
      "execution_count": null,
      "metadata": {
        "id": "JxsZ1XKAhMno"
      },
      "outputs": [],
      "source": [
        "4/5 + 2/3 + 1/7"
      ]
    },
    {
      "cell_type": "code",
      "execution_count": null,
      "metadata": {
        "id": "cdE_-eKYhMnp"
      },
      "outputs": [],
      "source": [
        "0.1+0.2+0.3-0.6\n",
        "# More on floating point https://docs.python.org/2/tutorial/floatingpoint.html"
      ]
    },
    {
      "cell_type": "markdown",
      "metadata": {
        "id": "RGwqwogthMnp"
      },
      "source": [
        "## Strings\n",
        "* immutable"
      ]
    },
    {
      "cell_type": "code",
      "execution_count": 103,
      "metadata": {
        "scrolled": true,
        "colab": {
          "base_uri": "https://localhost:8080/"
        },
        "id": "-Czh9ulvhMnp",
        "outputId": "7dce0f0d-bc78-459b-dbaa-cf2a9aa34592"
      },
      "outputs": [
        {
          "output_type": "stream",
          "name": "stdout",
          "text": [
            "Valdis\n"
          ]
        }
      ],
      "source": [
        "name = \"Valdis\"\n",
        "print(name)"
      ]
    },
    {
      "cell_type": "code",
      "execution_count": null,
      "metadata": {
        "id": "5n0ws4HAhMnp"
      },
      "outputs": [],
      "source": [
        "# this is a comment meaning for us humans, not for computer :)"
      ]
    },
    {
      "cell_type": "code",
      "execution_count": 104,
      "metadata": {
        "colab": {
          "base_uri": "https://localhost:8080/"
        },
        "id": "9pCQtu-mhMnq",
        "outputId": "cd874b6e-94dc-4161-c4b0-ead4f27ea7ab"
      },
      "outputs": [
        {
          "output_type": "execute_result",
          "data": {
            "text/plain": [
              "6"
            ]
          },
          "metadata": {},
          "execution_count": 104
        }
      ],
      "source": [
        "len(name) # length of string which name variable points to"
      ]
    },
    {
      "cell_type": "code",
      "execution_count": 105,
      "metadata": {
        "colab": {
          "base_uri": "https://localhost:8080/"
        },
        "id": "FRcDsq9hhMnq",
        "outputId": "542fa3c0-93d1-4a02-dd32-8e5b3e8ce7a4"
      },
      "outputs": [
        {
          "output_type": "execute_result",
          "data": {
            "text/plain": [
              "4"
            ]
          },
          "metadata": {},
          "execution_count": 105
        }
      ],
      "source": [
        "len(\"name\") # so \"name\" is just some text - string literal"
      ]
    },
    {
      "cell_type": "markdown",
      "source": [
        "# User input\n",
        "\n",
        "We can use input function that asks user for input\n",
        "\n",
        "Key points:\n",
        "* input always returns str"
      ],
      "metadata": {
        "id": "u7LN6s3L2Tm7"
      }
    },
    {
      "cell_type": "code",
      "source": [
        "# short program to ask for someone's name and then display it\n",
        "# we use input to get input from user\n",
        "# notebooks are not the best for asking for input but they do work\n",
        "user_name = input(\"What is your name friend?\")\n",
        "print(\"Nice to meet you\", user_name)\n",
        "favorite_food = input(\"What is your favorite food?\")\n",
        "print(f\"Nice I like {favorite_food} myself\") # I am using f-strings for formatting here\n",
        "quantity = input(f\"How many kg of your favorite {favorite_food} you want to buy?\")\n",
        "price = input(f\"How much are {favorite_food} in your store?\")\n",
        "print(f\"Fantastic I will buy {quantity} kgs of {favorite_food} for you!\")\n",
        "# total_price = quantity * price # do you see a potential problem here?\n",
        "# so we need to typecast first\n",
        "# we could have done this immediately by wrapping input but we can also do it standalone\n",
        "quantity = int(quantity) # this depends whether you expect your users to enter fractions of kg\n",
        "price = float(price)\n",
        "total_price = quantity * price\n",
        "# one last fix lets use round to avoid the needless imprecision 15 digits after comma\n",
        "total_price = round(total_price, 2)  # we want to to represent cents here\n",
        "print(f\"\"\"Great news {name}!\n",
        "  I went and purchased {quantity} kg of {favorite_food}.\n",
        "\n",
        "  It only cost me €{total_price}. My treat! 😀 🥔 🍳\n",
        "\n",
        "\"\"\") # triple quotes lets us make multi line string"
      ],
      "metadata": {
        "id": "gqYl3LX_yLTE",
        "outputId": "99affb08-f522-48b8-b35b-0654417b8807",
        "colab": {
          "base_uri": "https://localhost:8080/"
        }
      },
      "execution_count": 113,
      "outputs": [
        {
          "output_type": "stream",
          "name": "stdout",
          "text": [
            "What is your name friend?Valdis\n",
            "Nice to meet you Valdis\n",
            "What is your favorite food?potatoes\n",
            "Nice I like potatoes myself\n",
            "How many kg of your favorite potatoes you want to buy?4\n",
            "How much are potatoes in your store?0.89\n",
            "Fantastic I will buy 4 kgs of potatoes for you!\n",
            "Great news Valdis!\n",
            "  I went and purchased 4 of potatoes.\n",
            "\n",
            "  It only cost me €3.56. My treat! 😀 🥔 🍳\n",
            "\n",
            "\n"
          ]
        }
      ]
    },
    {
      "cell_type": "code",
      "source": [],
      "metadata": {
        "id": "qUTx4wzk1SXS"
      },
      "execution_count": null,
      "outputs": []
    },
    {
      "cell_type": "code",
      "source": [
        "# turns out we can multiple strings by numbers\n",
        "# but we can not multiple strings by strings\n",
        "# and input gives us strings only!\n",
        "print(\"Beer \" * 5) # notice I left a space before quotes ended"
      ],
      "metadata": {
        "id": "v5Oy61vxzixG",
        "outputId": "f114069b-af23-4de3-d73f-b660ce8618ed",
        "colab": {
          "base_uri": "https://localhost:8080/"
        }
      },
      "execution_count": 111,
      "outputs": [
        {
          "output_type": "stream",
          "name": "stdout",
          "text": [
            "Beer Beer Beer Beer Beer \n"
          ]
        }
      ]
    },
    {
      "cell_type": "code",
      "source": [
        "# Type Casting"
      ],
      "metadata": {
        "id": "WZdCJPwI1TDd"
      },
      "execution_count": null,
      "outputs": []
    },
    {
      "cell_type": "code",
      "source": [
        "# we can convert any other type to str at any time\n",
        "my_str = str(342525.34115)\n",
        "print(my_str, type(my_str))"
      ],
      "metadata": {
        "id": "YUdvTxCr1VEa",
        "outputId": "6ef1edfe-561a-4271-fd64-3c2d66577f40",
        "colab": {
          "base_uri": "https://localhost:8080/"
        }
      },
      "execution_count": 116,
      "outputs": [
        {
          "output_type": "stream",
          "name": "stdout",
          "text": [
            "342525.34115 <class 'str'>\n"
          ]
        }
      ]
    },
    {
      "cell_type": "code",
      "source": [
        "my_float = float(my_str)\n",
        "print(my_float, type(my_float))"
      ],
      "metadata": {
        "id": "-uBeLqVx1vYG",
        "outputId": "6ee2a03d-5b88-40c2-f07d-20a7c4db0a40",
        "colab": {
          "base_uri": "https://localhost:8080/"
        }
      },
      "execution_count": 118,
      "outputs": [
        {
          "output_type": "stream",
          "name": "stdout",
          "text": [
            "342525.34115 <class 'float'>\n"
          ]
        }
      ]
    },
    {
      "cell_type": "code",
      "source": [
        "# my_int = int(my_str) # so non integers will throw ValueErrors on conversion\n",
        "my_int = int(my_float)\n",
        "print(my_int, type(my_int))"
      ],
      "metadata": {
        "id": "jtk6vey91gSN",
        "outputId": "d7971c55-9cff-45ed-e253-20b4ccdff5c9",
        "colab": {
          "base_uri": "https://localhost:8080/"
        }
      },
      "execution_count": 120,
      "outputs": [
        {
          "output_type": "stream",
          "name": "stdout",
          "text": [
            "342525 <class 'int'>\n"
          ]
        }
      ]
    },
    {
      "cell_type": "code",
      "source": [
        "float_again = float(my_int)\n",
        "print(float_again, type(float_again)) # you do not get the floating point part back after conversion to int!"
      ],
      "metadata": {
        "id": "Ce2iO3Pk19Af",
        "outputId": "ab856bf1-85f5-40e7-8ed6-2812786c1712",
        "colab": {
          "base_uri": "https://localhost:8080/"
        }
      },
      "execution_count": 121,
      "outputs": [
        {
          "output_type": "stream",
          "name": "stdout",
          "text": [
            "342525.0 <class 'float'>\n"
          ]
        }
      ]
    },
    {
      "cell_type": "markdown",
      "metadata": {
        "id": "BZSmS3a3hMnq"
      },
      "source": [
        "### Slicing Notation\n",
        "![Slice](https://i.stack.imgur.com/IVkET.jpg)\n",
        "* hot linking can be dangerous if you are taking image where you are not supposed to somebody can put something rude on that image"
      ]
    },
    {
      "cell_type": "code",
      "execution_count": null,
      "metadata": {
        "id": "CUursBDZhMnq"
      },
      "outputs": [],
      "source": [
        "name, name[0] \n",
        "# notice index starts with 0! most programming languages start with 0"
      ]
    },
    {
      "cell_type": "code",
      "execution_count": null,
      "metadata": {
        "id": "MB9DZeqNhMnq"
      },
      "outputs": [],
      "source": []
    },
    {
      "cell_type": "code",
      "execution_count": null,
      "metadata": {
        "id": "PxcFj0A6hMnq"
      },
      "outputs": [],
      "source": [
        "name, name[5],name[-1],name[-2]"
      ]
    },
    {
      "cell_type": "code",
      "execution_count": null,
      "metadata": {
        "id": "dr9cRlgMhMnq"
      },
      "outputs": [],
      "source": [
        "name[0:3], name[:3] # so [:index] will go until that index from 0"
      ]
    },
    {
      "cell_type": "code",
      "execution_count": null,
      "metadata": {
        "id": "egR1AxCBhMnr"
      },
      "outputs": [],
      "source": [
        "name[:4]"
      ]
    },
    {
      "cell_type": "code",
      "execution_count": null,
      "metadata": {
        "id": "gfdvpd44hMnr"
      },
      "outputs": [],
      "source": [
        "name[1:4] # so I skip the 0 character"
      ]
    },
    {
      "cell_type": "code",
      "execution_count": null,
      "metadata": {
        "id": "MNXHXKhPhMnr"
      },
      "outputs": [],
      "source": [
        "name[-3]"
      ]
    },
    {
      "cell_type": "code",
      "execution_count": null,
      "metadata": {
        "id": "FqqIXvDyhMnr"
      },
      "outputs": [],
      "source": [
        "name[0:6:1] # this is actually the full syntax of slice\n"
      ]
    },
    {
      "cell_type": "code",
      "execution_count": null,
      "metadata": {
        "id": "e4v6mCCLhMnr"
      },
      "outputs": [],
      "source": [
        "name[::1]"
      ]
    },
    {
      "cell_type": "code",
      "execution_count": null,
      "metadata": {
        "id": "Lw_cADWIhMnr"
      },
      "outputs": [],
      "source": [
        "name, name[1:6:2]"
      ]
    },
    {
      "cell_type": "code",
      "execution_count": null,
      "metadata": {
        "id": "zxmttyThhMns"
      },
      "outputs": [],
      "source": [
        "name, name[::2]"
      ]
    },
    {
      "cell_type": "code",
      "execution_count": null,
      "metadata": {
        "id": "R92Q8qoIhMns"
      },
      "outputs": [],
      "source": [
        "# Python way of reversing a string\n",
        "name, name[::-1]"
      ]
    },
    {
      "cell_type": "code",
      "execution_count": null,
      "metadata": {
        "id": "SAm2aFrkhMns"
      },
      "outputs": [],
      "source": [
        "name_rev = name[::-1]\n",
        "name_rev"
      ]
    },
    {
      "cell_type": "code",
      "execution_count": null,
      "metadata": {
        "id": "uD71uYg9hMns"
      },
      "outputs": [],
      "source": [
        "name[5:2:-1]"
      ]
    },
    {
      "cell_type": "code",
      "execution_count": null,
      "metadata": {
        "id": "Ue7mh-NLhMns"
      },
      "outputs": [],
      "source": [
        "# name[3]='b' \n",
        "# string are immutable you are not supposed to change strings"
      ]
    },
    {
      "cell_type": "code",
      "execution_count": null,
      "metadata": {
        "id": "dxbajadXhMns"
      },
      "outputs": [],
      "source": [
        "#name[3]=\"b\" # You can in fact make new strings\n",
        "name=name[:3]+\"D\"+name[4:]\n",
        "print(name)"
      ]
    },
    {
      "cell_type": "code",
      "execution_count": null,
      "metadata": {
        "id": "W69ipyQAhMns"
      },
      "outputs": [],
      "source": [
        "n2=name[:]\n",
        "print(n2)\n",
        "print(id(n2),id(name))\n",
        "print(name[:])"
      ]
    },
    {
      "cell_type": "code",
      "execution_count": null,
      "metadata": {
        "id": "S5wZrQyghMnt"
      },
      "outputs": [],
      "source": [
        "name = \"Voldemars\"\n",
        "print(n,n2,name)"
      ]
    },
    {
      "cell_type": "code",
      "execution_count": null,
      "metadata": {
        "id": "bbaJ2ZtWhMnt"
      },
      "outputs": [],
      "source": [
        "n2 = \"Something\""
      ]
    },
    {
      "cell_type": "code",
      "execution_count": null,
      "metadata": {
        "id": "Mq5kRWp3hMnt"
      },
      "outputs": [],
      "source": []
    },
    {
      "cell_type": "code",
      "execution_count": null,
      "metadata": {
        "id": "f8viEEruhMnt"
      },
      "outputs": [],
      "source": [
        "name=name[::-1]\n",
        "print(name)"
      ]
    },
    {
      "cell_type": "code",
      "execution_count": null,
      "metadata": {
        "id": "BfhNpDTrhMnt"
      },
      "outputs": [],
      "source": []
    },
    {
      "cell_type": "code",
      "execution_count": null,
      "metadata": {
        "scrolled": true,
        "id": "IPHOkKsJhMnt"
      },
      "outputs": [],
      "source": [
        "multi_string = \"\"\"Really\n",
        "Long\n",
        "And\n",
        "Boring\n",
        "String\"\"\"\n",
        "print(multi_string)"
      ]
    },
    {
      "cell_type": "code",
      "execution_count": null,
      "metadata": {
        "id": "7lZ4saBdhMnt"
      },
      "outputs": [],
      "source": [
        "t = \"Talk \" + 10 # Python is strongly typed so this will not work!\n",
        "print(t)"
      ]
    },
    {
      "cell_type": "code",
      "execution_count": null,
      "metadata": {
        "id": "dFxybwgMhMnu"
      },
      "outputs": [],
      "source": [
        "str(555)"
      ]
    },
    {
      "cell_type": "code",
      "execution_count": null,
      "metadata": {
        "id": "_x7da_xKhMnu"
      },
      "outputs": [],
      "source": [
        "t = \"Talk \" + str(10) # Python is strongly typed so this will not work!\n",
        "print(t)"
      ]
    },
    {
      "cell_type": "code",
      "execution_count": null,
      "metadata": {
        "id": "RpMmMaMUhMnu"
      },
      "outputs": [],
      "source": [
        "my_talk = f\"Talk {a} {b} {c} {name} and so on\" # f-strings\n",
        "my_talk"
      ]
    },
    {
      "cell_type": "code",
      "execution_count": null,
      "metadata": {
        "id": "qY-zyLxIhMnu"
      },
      "outputs": [],
      "source": [
        "print(f\"Hello there {name}! \")"
      ]
    },
    {
      "cell_type": "code",
      "execution_count": null,
      "metadata": {
        "id": "gqJQ8VbjhMnu"
      },
      "outputs": [],
      "source": [
        "new_name = input(\"What is your name friend?\") # input gives out str\n",
        "print(f\"Wow {new_name} that is a nice name!\")"
      ]
    },
    {
      "cell_type": "code",
      "execution_count": null,
      "metadata": {
        "id": "9K1Nh_pwhMnu",
        "outputId": "4b4a2dbc-0dab-4e0d-e526-2bef309656e7"
      },
      "outputs": [
        {
          "name": "stdout",
          "output_type": "stream",
          "text": [
            "Enter a number777\n",
            "777 <class 'int'>\n"
          ]
        }
      ],
      "source": [
        "new_num = input(\"Enter a number\")\n",
        "new_num = int(new_num) # we trust user is giving us number, we cast to number\n",
        "print(new_num, type(new_num))"
      ]
    },
    {
      "cell_type": "code",
      "execution_count": null,
      "metadata": {
        "id": "jAMm79VNhMnv"
      },
      "outputs": [],
      "source": [
        "id('25'),id(25)"
      ]
    },
    {
      "cell_type": "code",
      "execution_count": null,
      "metadata": {
        "id": "33uhwmT7hMnv"
      },
      "outputs": [],
      "source": [
        "int('345')"
      ]
    },
    {
      "cell_type": "code",
      "execution_count": null,
      "metadata": {
        "id": "bacTWR1vhMnv"
      },
      "outputs": [],
      "source": [
        "?str"
      ]
    },
    {
      "cell_type": "code",
      "execution_count": null,
      "metadata": {
        "id": "cTynpv7bhMnv"
      },
      "outputs": [],
      "source": [
        "# Automatic string concatenation without +\n",
        "funny_string = ('Monty '\n",
        "'Python ' \n",
        "'Spam '*5)\n",
        "print(funny_string)\n",
        "# Notice that string multiplication happens after concatenation"
      ]
    },
    {
      "cell_type": "code",
      "execution_count": null,
      "metadata": {
        "id": "JZOki0DthMnw"
      },
      "outputs": [],
      "source": [
        "print(\"It's \\ta \\\"wonderful\\\" \\nlife\")"
      ]
    },
    {
      "cell_type": "code",
      "execution_count": null,
      "metadata": {
        "id": "yEDSD3_KhMnw"
      },
      "outputs": [],
      "source": [
        "print('Really really long line\\"
      ]
    },
    {
      "cell_type": "code",
      "execution_count": null,
      "metadata": {
        "id": "3yAMfgREhMnw"
      },
      "outputs": [],
      "source": []
    },
    {
      "cell_type": "markdown",
      "metadata": {
        "id": "LHEXa4Y8hMnw"
      },
      "source": [
        "## Fstrings (new since Python 3.6)\n",
        "* faster way to format strings\n",
        "* can use variables in current scope\n",
        "* same idea as .format() but faster and easier to read"
      ]
    },
    {
      "cell_type": "code",
      "execution_count": null,
      "metadata": {
        "id": "X9CJF2mIhMnw"
      },
      "outputs": [],
      "source": []
    },
    {
      "cell_type": "code",
      "execution_count": null,
      "metadata": {
        "id": "WwQBclnwhMnw"
      },
      "outputs": [],
      "source": [
        "weekday=\"Tuesday\"\n",
        "month=\"June\"\n",
        "day=8\n",
        "greeting = f'Today is {day}th of {month} which is {weekday}. Nice {month} isn\\'t it ? '\n",
        "print(greeting)\n",
        "#nicer than format method"
      ]
    },
    {
      "cell_type": "code",
      "execution_count": null,
      "metadata": {
        "id": "HOBH02gyhMnw"
      },
      "outputs": [],
      "source": [
        "seconds=345.24556\n",
        "width=22 # how much space our formatted value should take up\n",
        "precision=8 # how many digits to use\n",
        "print(f'Elapsed {seconds} seconds since start of new era')\n",
        "print(f'Elapsed {seconds:{12}.{precision}} seconds since start of new era')\n",
        "print(f'Elapsed {seconds:{7}.{5}} seconds since start of new era')\n",
        "print(f'Number {5556.2222:{12}.{6}}')"
      ]
    },
    {
      "cell_type": "code",
      "execution_count": null,
      "metadata": {
        "id": "f3raYjXWhMnw"
      },
      "outputs": [],
      "source": [
        "greeting[10:33:1]"
      ]
    },
    {
      "cell_type": "markdown",
      "metadata": {
        "id": "4SwDFWzShMnx"
      },
      "source": [
        "### Python 3.X strings are Unicode by default no more 'u prefixes"
      ]
    },
    {
      "cell_type": "markdown",
      "metadata": {
        "id": "8EBwlfIahMnx"
      },
      "source": [
        "## String Exercise: \n",
        "* Assign your favorite food to variable of your choosing\n",
        "* Output 3rd letter of your favorite\n",
        "* Output first 2 letters of your favorite\n",
        "* Output last 3 letters of your favorite\n",
        "* Output reverse of your favorite\n",
        "* Output every 2nd character of your favorite in reverse\n"
      ]
    },
    {
      "cell_type": "code",
      "execution_count": null,
      "metadata": {
        "id": "O1YB25M3hMnx"
      },
      "outputs": [],
      "source": [
        "food = \"\""
      ]
    }
  ],
  "metadata": {
    "kernelspec": {
      "display_name": "Python 3",
      "language": "python",
      "name": "python3"
    },
    "language_info": {
      "codemirror_mode": {
        "name": "ipython",
        "version": 3
      },
      "file_extension": ".py",
      "mimetype": "text/x-python",
      "name": "python",
      "nbconvert_exporter": "python",
      "pygments_lexer": "ipython3",
      "version": "3.7.3"
    },
    "colab": {
      "provenance": [],
      "toc_visible": true
    }
  },
  "nbformat": 4,
  "nbformat_minor": 0
}