{
 "cells": [
  {
   "cell_type": "markdown",
   "metadata": {},
   "source": [
    "# Python Standard Library \n",
    "\n",
    "Python Standard Library is a collection of modules that are available with every Python installation. It contains many useful modules that can be used to perform various tasks.\n",
    "\n",
    "You pick and choose the modules you want to use in your program. You can use the Python Standard Library to perform tasks such as reading and writing files, working with the operating system, working with the network, and much more.\n",
    "\n",
    "Documentation: [Python Standard Library](https://docs.python.org/3/library/index.html)"
   ]
  },
  {
   "cell_type": "code",
   "execution_count": 28,
   "metadata": {
    "id": "wqn83o_vEn5C"
   },
   "outputs": [],
   "source": [
    "# https://docs.python.org/3/library/ - location"
   ]
  },
  {
   "cell_type": "markdown",
   "metadata": {},
   "source": [
    "## Our first import - string module"
   ]
  },
  {
   "cell_type": "code",
   "execution_count": 29,
   "metadata": {
    "id": "ti5mMMCWDFZT"
   },
   "outputs": [],
   "source": [
    "import string #meaning I have access now to extra string goodies\n",
    "# now I have access to everything under string namespace\n",
    "# documentation - https://docs.python.org/3/library/string.html"
   ]
  },
  {
   "cell_type": "code",
   "execution_count": 30,
   "metadata": {
    "colab": {
     "base_uri": "https://localhost:8080/",
     "height": 35
    },
    "id": "ZJP-G_7-DFZV",
    "outputId": "f3cce0ac-816f-41f8-946b-233deaf83494"
   },
   "outputs": [
    {
     "data": {
      "text/plain": [
       "'abcdefghijklmnopqrstuvwxyzABCDEFGHIJKLMNOPQRSTUVWXYZ'"
      ]
     },
     "execution_count": 30,
     "metadata": {},
     "output_type": "execute_result"
    }
   ],
   "source": [
    "string.ascii_letters"
   ]
  },
  {
   "cell_type": "code",
   "execution_count": 31,
   "metadata": {
    "colab": {
     "base_uri": "https://localhost:8080/",
     "height": 35
    },
    "id": "j2lNru_mDFZX",
    "outputId": "4323795b-1229-40c2-99e8-28a321578fb6"
   },
   "outputs": [
    {
     "data": {
      "text/plain": [
       "'!\"#$%&\\'()*+,-./:;<=>?@[\\\\]^_`{|}~'"
      ]
     },
     "execution_count": 31,
     "metadata": {},
     "output_type": "execute_result"
    }
   ],
   "source": [
    "string.punctuation"
   ]
  },
  {
   "cell_type": "code",
   "execution_count": 32,
   "metadata": {
    "colab": {
     "base_uri": "https://localhost:8080/",
     "height": 35
    },
    "id": "yOkOdsoZE6RR",
    "outputId": "05c165e9-ff2f-4ef0-bfe5-3f87226818b0"
   },
   "outputs": [
    {
     "data": {
      "text/plain": [
       "'0123456789'"
      ]
     },
     "execution_count": 32,
     "metadata": {},
     "output_type": "execute_result"
    }
   ],
   "source": [
    "string.digits"
   ]
  },
  {
   "cell_type": "code",
   "execution_count": 33,
   "metadata": {
    "id": "2N-47YF0DFZX"
   },
   "outputs": [],
   "source": [
    "# you do not want to calculate dates yourself, \n",
    "# easy to make mistakes with timezones, Georgian calendar, leap years etc\n",
    "from datetime import datetime # I import only datetime class from datetime module\n",
    "# https://docs.python.org/3/library/datetime.html"
   ]
  },
  {
   "cell_type": "code",
   "execution_count": 34,
   "metadata": {
    "colab": {
     "base_uri": "https://localhost:8080/"
    },
    "id": "LEmI3T3GDFZX",
    "outputId": "156226b9-597c-4b16-f797-2df0f0beda73"
   },
   "outputs": [
    {
     "data": {
      "text/plain": [
       "datetime.datetime(2024, 11, 7, 17, 14, 39, 57798)"
      ]
     },
     "execution_count": 34,
     "metadata": {},
     "output_type": "execute_result"
    }
   ],
   "source": [
    "now = datetime.now() #notice datetime needs another datetime\n",
    "now"
   ]
  },
  {
   "cell_type": "code",
   "execution_count": 35,
   "metadata": {
    "colab": {
     "base_uri": "https://localhost:8080/"
    },
    "id": "ID-rhIiMDFZY",
    "outputId": "548feb5f-1fc9-4132-fb0a-ad39f31904ec"
   },
   "outputs": [
    {
     "data": {
      "text/plain": [
       "datetime.timedelta(microseconds=14428)"
      ]
     },
     "execution_count": 35,
     "metadata": {},
     "output_type": "execute_result"
    }
   ],
   "source": [
    "time_passed = datetime.now() - now\n",
    "time_passed"
   ]
  },
  {
   "cell_type": "code",
   "execution_count": 36,
   "metadata": {
    "colab": {
     "base_uri": "https://localhost:8080/"
    },
    "id": "BoF5VHrtDFZY",
    "outputId": "bbb9be30-fb23-4541-e2cc-69e17fe8f23e"
   },
   "outputs": [
    {
     "name": "stdout",
     "output_type": "stream",
     "text": [
      "Time passed in seconds 0\n"
     ]
    }
   ],
   "source": [
    "print(f\"Time passed in seconds {time_passed.seconds}\")"
   ]
  },
  {
   "cell_type": "code",
   "execution_count": 37,
   "metadata": {
    "colab": {
     "base_uri": "https://localhost:8080/"
    },
    "id": "o54SHcW9DFZZ",
    "outputId": "36ea6a97-cfdb-4def-f864-e2c02e6cb88e"
   },
   "outputs": [
    {
     "name": "stdout",
     "output_type": "stream",
     "text": [
      "Time passed in days 0\n"
     ]
    }
   ],
   "source": [
    "# how many days have passed?\n",
    "print(f\"Time passed in days {time_passed.days}\")"
   ]
  },
  {
   "cell_type": "code",
   "execution_count": 38,
   "metadata": {
    "colab": {
     "base_uri": "https://localhost:8080/"
    },
    "id": "9n7KQecFFwAs",
    "outputId": "d7ca084e-214f-4640-a4c9-1ad30ced03ca"
   },
   "outputs": [
    {
     "name": "stdout",
     "output_type": "stream",
     "text": [
      "Time passed in seconds 0.014428\n"
     ]
    }
   ],
   "source": [
    "# how many total seconds have passed?\n",
    "print(f\"Time passed in seconds {time_passed.total_seconds()}\")"
   ]
  },
  {
   "cell_type": "code",
   "execution_count": 39,
   "metadata": {
    "id": "MeblspKiDFZZ",
    "outputId": "6eecb55c-3035-458c-eb3e-d8abdbbe9878"
   },
   "outputs": [
    {
     "name": "stdout",
     "output_type": "stream",
     "text": [
      "Year 2024\n",
      "Month 11\n",
      "Day 7\n",
      "Hour 17\n",
      "Minute 14\n",
      "Second 39\n",
      "Microsecond 57798\n",
      "Date 2024-11-07\n",
      "Time 17:14:39.057798\n",
      "Weekday 3\n"
     ]
    }
   ],
   "source": [
    "# we can get individual years, months, days, hours, minutes, seconds\n",
    "# also date\n",
    "print(f\"Year {now.year}\")\n",
    "print(f\"Month {now.month}\")\n",
    "print(f\"Day {now.day}\")\n",
    "print(f\"Hour {now.hour}\")\n",
    "print(f\"Minute {now.minute}\")\n",
    "print(f\"Second {now.second}\")\n",
    "print(f\"Microsecond {now.microsecond}\")\n",
    "print(f\"Date {now.date()}\")\n",
    "print(f\"Time {now.time()}\")\n",
    "# day\n",
    "print(f\"Weekday {now.weekday()}\") # 0 is Monday, 6 is Sunday"
   ]
  },
  {
   "cell_type": "markdown",
   "metadata": {},
   "source": [
    "## Alias for datetime module\n",
    "\n",
    "```python"
   ]
  },
  {
   "cell_type": "code",
   "execution_count": 40,
   "metadata": {
    "colab": {
     "base_uri": "https://localhost:8080/"
    },
    "id": "Ib_4Y97JDFZb",
    "outputId": "807521fc-6fd6-48ce-9a45-297fd74f3d8b"
   },
   "outputs": [
    {
     "data": {
      "text/plain": [
       "datetime.datetime(2024, 11, 7, 17, 14, 39, 145640)"
      ]
     },
     "execution_count": 40,
     "metadata": {},
     "output_type": "execute_result"
    }
   ],
   "source": [
    "from datetime import datetime as dtime #you can create alias to a longer module  # dtime could be dt, mytime etc, \n",
    "really_now = dtime.now() \n",
    "really_now"
   ]
  },
  {
   "cell_type": "code",
   "execution_count": 41,
   "metadata": {
    "colab": {
     "base_uri": "https://localhost:8080/"
    },
    "id": "oAwBRMTwDFZb",
    "outputId": "a6148700-a6b6-409e-ed19-6c6bd75ded2e"
   },
   "outputs": [
    {
     "data": {
      "text/plain": [
       "3"
      ]
     },
     "execution_count": 41,
     "metadata": {},
     "output_type": "execute_result"
    }
   ],
   "source": [
    "really_now.weekday() # it is a method not a property"
   ]
  },
  {
   "cell_type": "code",
   "execution_count": 42,
   "metadata": {
    "id": "umm3Ng12DFZb"
   },
   "outputs": [],
   "source": [
    "# turns out weekday starts on Monday with 0 and Sunday is 6"
   ]
  },
  {
   "cell_type": "code",
   "execution_count": 43,
   "metadata": {
    "colab": {
     "base_uri": "https://localhost:8080/"
    },
    "id": "uLgFYNUZGk_D",
    "outputId": "93d5abab-b405-48a0-a121-ca42e7a21a26"
   },
   "outputs": [
    {
     "data": {
      "text/plain": [
       "(2024, 11)"
      ]
     },
     "execution_count": 43,
     "metadata": {},
     "output_type": "execute_result"
    }
   ],
   "source": [
    "really_now.year, really_now.month  # just use the dot notation to get the useful methods and properties"
   ]
  },
  {
   "cell_type": "code",
   "execution_count": 44,
   "metadata": {
    "colab": {
     "base_uri": "https://localhost:8080/"
    },
    "id": "IybHHKRaG3xs",
    "outputId": "c84a2188-b7f5-4b99-fda4-e07cf6693a0e"
   },
   "outputs": [
    {
     "data": {
      "text/plain": [
       "(8, 15, 1.6666666666666667, 1, 2, 125, 2)"
      ]
     },
     "execution_count": 44,
     "metadata": {},
     "output_type": "execute_result"
    }
   ],
   "source": [
    "5+3, 5*3, 5/3, 5//3, 5%3,5**3, 5-3  # basic math included"
   ]
  },
  {
   "cell_type": "markdown",
   "metadata": {},
   "source": [
    "## Math module\n",
    "\n",
    "Math module provides mathematical functions and constants. \n"
   ]
  },
  {
   "cell_type": "code",
   "execution_count": 45,
   "metadata": {
    "id": "6rYqjU8wG1Qq"
   },
   "outputs": [],
   "source": [
    "import math\n",
    "# all math functions are here\n",
    "# https://docs.python.org/3/library/math.html"
   ]
  },
  {
   "cell_type": "code",
   "execution_count": 46,
   "metadata": {
    "colab": {
     "base_uri": "https://localhost:8080/"
    },
    "id": "ZpEN838FHIQ2",
    "outputId": "f12e40e8-4ee8-4d07-99d6-9062ded3c785"
   },
   "outputs": [
    {
     "data": {
      "text/plain": [
       "(2, 1)"
      ]
     },
     "execution_count": 46,
     "metadata": {},
     "output_type": "execute_result"
    }
   ],
   "source": [
    "math.ceil(1.01), math.floor(1.99)"
   ]
  },
  {
   "cell_type": "code",
   "execution_count": 47,
   "metadata": {
    "colab": {
     "base_uri": "https://localhost:8080/"
    },
    "id": "HX4MyjgRHT92",
    "outputId": "e6176aeb-e721-4d1a-9115-7c260aa68c21"
   },
   "outputs": [
    {
     "data": {
      "text/plain": [
       "120"
      ]
     },
     "execution_count": 47,
     "metadata": {},
     "output_type": "execute_result"
    }
   ],
   "source": [
    "math.factorial(5)"
   ]
  },
  {
   "cell_type": "code",
   "execution_count": 48,
   "metadata": {
    "colab": {
     "base_uri": "https://localhost:8080/"
    },
    "id": "wu5n2dlBHkxi",
    "outputId": "d65bccf2-fc5a-4317-d01a-00cf74c8d88d"
   },
   "outputs": [
    {
     "data": {
      "text/plain": [
       "3.141592653589793"
      ]
     },
     "execution_count": 48,
     "metadata": {},
     "output_type": "execute_result"
    }
   ],
   "source": [
    "math.pi"
   ]
  },
  {
   "cell_type": "code",
   "execution_count": 49,
   "metadata": {
    "colab": {
     "base_uri": "https://localhost:8080/"
    },
    "id": "2vrj_tCHHZjL",
    "outputId": "95d64f97-8111-4aca-cdd6-a0acdd5b6039"
   },
   "outputs": [
    {
     "data": {
      "text/plain": [
       "-1.0"
      ]
     },
     "execution_count": 49,
     "metadata": {},
     "output_type": "execute_result"
    }
   ],
   "source": [
    "math.cos(math.pi)  # so cos takes radians, so 180 degrees is pi"
   ]
  },
  {
   "cell_type": "code",
   "execution_count": 50,
   "metadata": {},
   "outputs": [
    {
     "name": "stdout",
     "output_type": "stream",
     "text": [
      "Product of numbers from 1 to 5 is 120 same as 120\n"
     ]
    }
   ],
   "source": [
    "# we can use prod to multiply all elements in a list\n",
    "# so let's get a multiplication of numbers from 1 to 5 - so factorial\n",
    "product = math.prod(range(1,6))\n",
    "print(f\"Product of numbers from 1 to 5 is {product} same as {math.factorial(5)}\")"
   ]
  },
  {
   "cell_type": "markdown",
   "metadata": {},
   "source": [
    "## Statistics and Counting things"
   ]
  },
  {
   "cell_type": "code",
   "execution_count": 51,
   "metadata": {
    "id": "1WAdQmT0HrtW"
   },
   "outputs": [],
   "source": [
    "import statistics # now i get access to some statistics goodies"
   ]
  },
  {
   "cell_type": "code",
   "execution_count": 52,
   "metadata": {
    "colab": {
     "base_uri": "https://localhost:8080/"
    },
    "id": "QyWPcJrnHxmy",
    "outputId": "f79abe28-d96a-451b-e23b-50d7d61de98b"
   },
   "outputs": [
    {
     "data": {
      "text/plain": [
       "4.5"
      ]
     },
     "execution_count": 52,
     "metadata": {},
     "output_type": "execute_result"
    }
   ],
   "source": [
    "statistics.mean(range(10)) # should be 4.5 since from 0 to 9"
   ]
  },
  {
   "cell_type": "code",
   "execution_count": 53,
   "metadata": {
    "id": "CUr_3YIHH--j"
   },
   "outputs": [
    {
     "name": "stdout",
     "output_type": "stream",
     "text": [
      "[1, 1, 2, 3, 5, 5, 5, 6, 6, 6, 7, 8, 9, 10, 17]\n",
      "Median is 6\n",
      "Median is 6\n"
     ]
    }
   ],
   "source": [
    "# we can do median meaning middle value when sorted\n",
    "unsorted_data = [3,1,5,1,6,17,5,6,2,5,6,7,8,9,10]\n",
    "sorted_data = sorted(unsorted_data)\n",
    "print(sorted_data)\n",
    "# so median is 6 since we have 15 elements\n",
    "# we take the middle value which has index 7\n",
    "print(f\"Median is {statistics.median(sorted_data)}\")\n",
    "print(f\"Median is {sorted_data[7]}\")"
   ]
  },
  {
   "cell_type": "code",
   "execution_count": 54,
   "metadata": {},
   "outputs": [],
   "source": [
    "# median is often times preferred over mean since it is not affected by outliers as much"
   ]
  },
  {
   "cell_type": "code",
   "execution_count": 56,
   "metadata": {
    "id": "aUn97go9DFZc"
   },
   "outputs": [],
   "source": [
    "from collections import Counter  # so we import not the whole library but just one module"
   ]
  },
  {
   "cell_type": "code",
   "execution_count": 57,
   "metadata": {
    "colab": {
     "base_uri": "https://localhost:8080/"
    },
    "id": "y4TGyQZCDFZc",
    "outputId": "a1fef2c7-165b-4510-ec89-b3be71d04bd7"
   },
   "outputs": [
    {
     "data": {
      "text/plain": [
       "[('a', 5),\n",
       " ('b', 3),\n",
       " ('r', 2),\n",
       " ('c', 2),\n",
       " (' ', 2),\n",
       " ('m', 2),\n",
       " ('A', 1),\n",
       " ('y', 1),\n",
       " ('g', 1),\n",
       " ('i', 1)]"
      ]
     },
     "execution_count": 57,
     "metadata": {},
     "output_type": "execute_result"
    }
   ],
   "source": [
    "cnt = Counter(\"Abracababra my magic\") # so i pass my string to Counter class constructor\n",
    "cnt.most_common()"
   ]
  },
  {
   "cell_type": "code",
   "execution_count": 58,
   "metadata": {
    "colab": {
     "base_uri": "https://localhost:8080/"
    },
    "id": "K34NQhZ-DFZc",
    "outputId": "744f990d-74fa-4241-de57-14f682ad1ec8"
   },
   "outputs": [
    {
     "data": {
      "text/plain": [
       "[('fox', 2),\n",
       " ('a', 2),\n",
       " ('A', 1),\n",
       " ('quick', 1),\n",
       " ('brown', 1),\n",
       " ('jumped', 1),\n",
       " ('over', 1),\n",
       " ('sleeping', 1),\n",
       " ('and', 1),\n",
       " (\"that's\", 1),\n",
       " ('wrap', 1)]"
      ]
     },
     "execution_count": 58,
     "metadata": {},
     "output_type": "execute_result"
    }
   ],
   "source": [
    "sentence = \"A quick brown fox jumped over a sleeping fox and that's a wrap\"\n",
    "word_count = Counter(sentence.split()) # we split sentence into a list of words by default whitespace\n",
    "word_count.most_common()"
   ]
  },
  {
   "cell_type": "code",
   "execution_count": 59,
   "metadata": {
    "colab": {
     "base_uri": "https://localhost:8080/"
    },
    "id": "GP52-m1WDFZd",
    "outputId": "9e720962-eac3-480a-c77f-6f7e6316c725"
   },
   "outputs": [
    {
     "data": {
      "text/plain": [
       "[(' ', 12),\n",
       " ('a', 5),\n",
       " ('o', 4),\n",
       " ('e', 4),\n",
       " ('r', 3),\n",
       " ('n', 3),\n",
       " ('p', 3),\n",
       " ('u', 2),\n",
       " ('i', 2),\n",
       " ('w', 2),\n",
       " ('f', 2),\n",
       " ('x', 2),\n",
       " ('d', 2),\n",
       " ('s', 2),\n",
       " ('t', 2),\n",
       " ('A', 1),\n",
       " ('q', 1),\n",
       " ('c', 1),\n",
       " ('k', 1),\n",
       " ('b', 1),\n",
       " ('j', 1),\n",
       " ('m', 1),\n",
       " ('v', 1),\n",
       " ('l', 1),\n",
       " ('g', 1),\n",
       " ('h', 1),\n",
       " (\"'\", 1)]"
      ]
     },
     "execution_count": 59,
     "metadata": {},
     "output_type": "execute_result"
    }
   ],
   "source": [
    "# compare to not splitting then we get characters\n",
    "char_count = Counter(sentence)\n",
    "char_count.most_common()"
   ]
  },
  {
   "cell_type": "markdown",
   "metadata": {},
   "source": [
    "## Random module"
   ]
  },
  {
   "cell_type": "code",
   "execution_count": 61,
   "metadata": {
    "id": "d4nyxb1XDFZd"
   },
   "outputs": [],
   "source": [
    "import random\n",
    "# https://docs.python.org/3/library/random.html\n",
    "# we used random to generate random numbers not surprisingly.."
   ]
  },
  {
   "cell_type": "code",
   "execution_count": 68,
   "metadata": {
    "colab": {
     "base_uri": "https://localhost:8080/"
    },
    "id": "Zx7GQUTjDFZd",
    "outputId": "bf17dbfa-802a-4e11-e083-d9ae35492dd2"
   },
   "outputs": [
    {
     "data": {
      "text/plain": [
       "(0.47009071843107064, 6, 5, 3, 2, 6)"
      ]
     },
     "execution_count": 68,
     "metadata": {},
     "output_type": "execute_result"
    }
   ],
   "source": [
    "# numbers are not really random but pseudo-random\n",
    "random.seed(2024) # pick you own starting seed guarantees same specific pseudo-random values, 9000, 42, 23, etc etc\n",
    "# https://www.youtube.com/watch?v=1cUUfMeOijg\n",
    "# good for testing but obviously this line not good if you need fresh values\n",
    "random.random(), random.randint(1,6), random.randint(1,6), random.randint(1,6), random.randint(1,6), random.randint(1,6)"
   ]
  },
  {
   "cell_type": "code",
   "execution_count": 44,
   "metadata": {
    "colab": {
     "base_uri": "https://localhost:8080/"
    },
    "id": "w9dsAVQNDFZd",
    "outputId": "be11db9a-9857-4d24-d26d-99c7a6f80db5",
    "scrolled": true
   },
   "outputs": [
    {
     "data": {
      "text/plain": [
       "1"
      ]
     },
     "execution_count": 44,
     "metadata": {},
     "output_type": "execute_result"
    }
   ],
   "source": [
    "random.randint(1,6) # start AND end is both included, thus 6 is included, quite rare in programming"
   ]
  },
  {
   "cell_type": "code",
   "execution_count": 70,
   "metadata": {
    "id": "YksChRd0JehC"
   },
   "outputs": [],
   "source": [
    "max_throws = 10_000\n",
    "dice_throws = [random.randint(1,6) + random.randint(1,6) for _ in range(max_throws)]"
   ]
  },
  {
   "cell_type": "code",
   "execution_count": 71,
   "metadata": {
    "colab": {
     "base_uri": "https://localhost:8080/"
    },
    "id": "HFFhYO80JzLD",
    "outputId": "be5e2573-95a9-40a4-fd9e-65b27df635e8"
   },
   "outputs": [
    {
     "data": {
      "text/plain": [
       "(6.9725, 7.0, 7)"
      ]
     },
     "execution_count": 71,
     "metadata": {},
     "output_type": "execute_result"
    }
   ],
   "source": [
    "statistics.mean(dice_throws), statistics.median(dice_throws), statistics.mode(dice_throws)  # mode is most frequently seen item\n",
    "# here these values will actually be very close to each other"
   ]
  },
  {
   "cell_type": "code",
   "execution_count": 73,
   "metadata": {
    "colab": {
     "base_uri": "https://localhost:8080/"
    },
    "id": "RqLLOWHXKK5Z",
    "outputId": "b807aca4-2551-4024-9f78-2b8cd7bbb2e3"
   },
   "outputs": [
    {
     "name": "stdout",
     "output_type": "stream",
     "text": [
      "Standard deviation is 2.415269571437166\n"
     ]
    }
   ],
   "source": [
    "# standard deviation is a measure of how spread out numbers are\n",
    "print(f\"Standard deviation is {statistics.stdev(dice_throws)}\")"
   ]
  },
  {
   "cell_type": "code",
   "execution_count": 74,
   "metadata": {
    "colab": {
     "base_uri": "https://localhost:8080/"
    },
    "id": "JoVa6PKYKeAR",
    "outputId": "2d5f414a-416e-4a69-8ca4-3d8f8b7c51b8"
   },
   "outputs": [
    {
     "data": {
      "text/plain": [
       "Counter({7: 1666,\n",
       "         6: 1400,\n",
       "         8: 1367,\n",
       "         5: 1136,\n",
       "         9: 1082,\n",
       "         4: 870,\n",
       "         10: 808,\n",
       "         11: 572,\n",
       "         3: 559,\n",
       "         2: 270,\n",
       "         12: 270})"
      ]
     },
     "execution_count": 74,
     "metadata": {},
     "output_type": "execute_result"
    }
   ],
   "source": [
    "# let's count our throws\n",
    "dice_cnt = Counter(dice_throws)\n",
    "dice_cnt"
   ]
  },
  {
   "cell_type": "code",
   "execution_count": 75,
   "metadata": {
    "colab": {
     "base_uri": "https://localhost:8080/"
    },
    "id": "ksodxjZaKkUb",
    "outputId": "e03459f5-ecfd-409b-bf13-3acece4d2a02"
   },
   "outputs": [
    {
     "data": {
      "text/plain": [
       "[(7, 1666),\n",
       " (6, 1400),\n",
       " (8, 1367),\n",
       " (5, 1136),\n",
       " (9, 1082),\n",
       " (4, 870),\n",
       " (10, 808),\n",
       " (11, 572),\n",
       " (3, 559),\n",
       " (2, 270),\n",
       " (12, 270)]"
      ]
     },
     "execution_count": 75,
     "metadata": {},
     "output_type": "execute_result"
    }
   ],
   "source": [
    "dice_cnt.most_common()"
   ]
  },
  {
   "cell_type": "code",
   "execution_count": null,
   "metadata": {},
   "outputs": [],
   "source": [
    "# there are external libraries such as matplotlib, seaborn, plotly, bokeh, etc that could be used\n",
    "# to plot the data\n",
    "# we will cover external libraries in the near future"
   ]
  },
  {
   "cell_type": "code",
   "execution_count": 76,
   "metadata": {
    "colab": {
     "base_uri": "https://localhost:8080/"
    },
    "id": "ExoCfbLZDFZe",
    "outputId": "2a91a473-2895-42f1-ee2d-bdf5add8d434"
   },
   "outputs": [
    {
     "data": {
      "text/plain": [
       "['a',\n",
       " 'b',\n",
       " 'c',\n",
       " 'd',\n",
       " 'e',\n",
       " 'f',\n",
       " 'g',\n",
       " 'h',\n",
       " 'i',\n",
       " 'j',\n",
       " 'k',\n",
       " 'l',\n",
       " 'm',\n",
       " 'n',\n",
       " 'o',\n",
       " 'p',\n",
       " 'q',\n",
       " 'r',\n",
       " 's',\n",
       " 't',\n",
       " 'u',\n",
       " 'v',\n",
       " 'w',\n",
       " 'x',\n",
       " 'y',\n",
       " 'z']"
      ]
     },
     "execution_count": 76,
     "metadata": {},
     "output_type": "execute_result"
    }
   ],
   "source": [
    "my_alphabet = list(string.ascii_lowercase)\n",
    "my_alphabet"
   ]
  },
  {
   "cell_type": "markdown",
   "metadata": {},
   "source": [
    "### Shuffling items in a list"
   ]
  },
  {
   "cell_type": "code",
   "execution_count": 82,
   "metadata": {
    "colab": {
     "base_uri": "https://localhost:8080/"
    },
    "id": "WEosN3UxDFZe",
    "outputId": "d021e732-01e0-433f-c591-ed0dc9c5a73d"
   },
   "outputs": [
    {
     "name": "stdout",
     "output_type": "stream",
     "text": [
      "Original alphabet ['l', 'x', 'v', 'h', 'w', 'i', 'q', 'a', 't', 'n', 'z', 'p', 'k', 'u', 'e', 'r', 'y', 'c', 'b', 'j', 'd', 'o', 'f', 's', 'm', 'g']\n",
      "Shuffled alphabet ['l', 'z', 't', 'x', 'e', 'c', 'h', 'u', 'i', 'j', 'w', 's', 'a', 'r', 'y', 'q', 'v', 'k', 'f', 'n', 'g', 'o', 'b', 'm', 'p', 'd']\n"
     ]
    }
   ],
   "source": [
    "# you do not want to write your own shuffle algorithm \n",
    "# it is easy to make mistakes\n",
    "print(f\"Original alphabet {my_alphabet}\")\n",
    "random.shuffle(my_alphabet) # we shuffle all 26 items IN PLACE\n",
    "# this means that my_alphabet will be shuffled\n",
    "# this will be in place meaning my_alphabet will get shuffled\n",
    "print(f\"Shuffled alphabet {my_alphabet}\")"
   ]
  },
  {
   "cell_type": "code",
   "execution_count": 62,
   "metadata": {
    "colab": {
     "base_uri": "https://localhost:8080/",
     "height": 35
    },
    "id": "pkjQXZdvDFZe",
    "outputId": "128b90b5-451d-4882-9ac2-3f05a1224148"
   },
   "outputs": [
    {
     "data": {
      "application/vnd.google.colaboratory.intrinsic+json": {
       "type": "string"
      },
      "text/plain": [
       "'h'"
      ]
     },
     "execution_count": 62,
     "metadata": {},
     "output_type": "execute_result"
    }
   ],
   "source": [
    "random.choice(my_alphabet)"
   ]
  },
  {
   "cell_type": "code",
   "execution_count": 67,
   "metadata": {
    "colab": {
     "base_uri": "https://localhost:8080/"
    },
    "id": "-aydpof_K6G0",
    "outputId": "bd2435de-508d-403a-d956-9a0aaabbd62d"
   },
   "outputs": [
    {
     "data": {
      "text/plain": [
       "['l', 'e', 'z']"
      ]
     },
     "execution_count": 67,
     "metadata": {},
     "output_type": "execute_result"
    }
   ],
   "source": [
    "random.choices(my_alphabet, k=3)"
   ]
  },
  {
   "cell_type": "code",
   "execution_count": 85,
   "metadata": {
    "colab": {
     "base_uri": "https://localhost:8080/"
    },
    "id": "qeRFi8TbDFZe",
    "outputId": "fa17fb56-124c-4f48-f4a1-202f6a1d0f31"
   },
   "outputs": [
    {
     "data": {
      "text/plain": [
       "(['l', 'z', 't', 'x', 'e', 'c', 'h', 'u', 'i', 'j'],\n",
       " ['u', 'i', 's', 'c', 'p', 'y', 'a', 'e', 'y', 'u'])"
      ]
     },
     "execution_count": 85,
     "metadata": {},
     "output_type": "execute_result"
    }
   ],
   "source": [
    "original_alphabet = list(string.ascii_letters)# we make a copy of the original alphabet\n",
    "new_alphabet_with_repeats = random.choices(my_alphabet, k=len(my_alphabet)) \n",
    "# returns a new shuffled list with unique picks keeping old one untouched\n",
    "my_alphabet[:10], new_alphabet_with_repeats[:10]"
   ]
  },
  {
   "cell_type": "code",
   "execution_count": 87,
   "metadata": {
    "colab": {
     "base_uri": "https://localhost:8080/"
    },
    "id": "_WB3cvqgLUme",
    "outputId": "2ccaf556-fc6a-4acf-bb7b-a00a096d1c84"
   },
   "outputs": [
    {
     "data": {
      "text/plain": [
       "['j',\n",
       " 't',\n",
       " 'x',\n",
       " 'f',\n",
       " 'n',\n",
       " 'l',\n",
       " 'o',\n",
       " 'i',\n",
       " 's',\n",
       " 'a',\n",
       " 'w',\n",
       " 'g',\n",
       " 'e',\n",
       " 'r',\n",
       " 'b',\n",
       " 'm',\n",
       " 'p',\n",
       " 'q',\n",
       " 'z',\n",
       " 'd',\n",
       " 'h',\n",
       " 'u',\n",
       " 'c',\n",
       " 'k',\n",
       " 'y',\n",
       " 'v']"
      ]
     },
     "execution_count": 87,
     "metadata": {},
     "output_type": "execute_result"
    }
   ],
   "source": [
    "# if you do not want repeats you can use sample\n",
    "# naturally if you try to sample more than you have you will get an error actually\n",
    "new_alphabet_no_repeats = random.sample(my_alphabet, k=len(my_alphabet))\n",
    "new_alphabet_no_repeats"
   ]
  },
  {
   "cell_type": "markdown",
   "metadata": {},
   "source": [
    "## System modules\n",
    "\n",
    "System modules deal with the operating system and file system."
   ]
  },
  {
   "cell_type": "code",
   "execution_count": 88,
   "metadata": {
    "id": "mAqwAg2EDFZf"
   },
   "outputs": [],
   "source": [
    "import os"
   ]
  },
  {
   "cell_type": "code",
   "execution_count": 89,
   "metadata": {
    "colab": {
     "base_uri": "https://localhost:8080/"
    },
    "id": "V4jXyAU3DFZf",
    "outputId": "0e2ee302-37c9-4cd9-9fb1-de3642f9de66"
   },
   "outputs": [
    {
     "data": {
      "text/plain": [
       "['alice_queen.txt',\n",
       " 'Jupyter Tips.ipynb',\n",
       " 'myAprilMod.py',\n",
       " 'myAprilPackage',\n",
       " 'MyMod.ipynb',\n",
       " 'Practice_1.ipynb',\n",
       " 'Python Classes.ipynb',\n",
       " 'Python Dictionaries.ipynb',\n",
       " 'Python File IO.ipynb',\n",
       " 'Python File Operations 2 Binary Files and Pickle.ipynb',\n",
       " 'Python Flow Control.ipynb',\n",
       " 'Python Flow Control.md',\n",
       " 'Python Functions.ipynb',\n",
       " 'Python Functions.md',\n",
       " 'Python Lists.ipynb',\n",
       " 'Python Reading Writing Files.md',\n",
       " 'Python Sets.ipynb',\n",
       " 'Python Standard Library.ipynb',\n",
       " 'Python Strings.ipynb',\n",
       " 'Python Variables and Data Types.ipynb',\n",
       " 'Python_Classes.ipynb',\n",
       " 'Python_Dictionaries.ipynb',\n",
       " 'Python_File_IO.ipynb',\n",
       " 'Python_Flow_Control.ipynb',\n",
       " 'Python_Functions.ipynb',\n",
       " 'Python_Lists_and_Tuples.ipynb',\n",
       " 'Python_Loops.ipynb',\n",
       " 'Python_Modules_Packages_External_Libraries.ipynb',\n",
       " 'Python_Sets.ipynb',\n",
       " 'Python_Standard_Library.ipynb',\n",
       " 'Python_Strings.ipynb',\n",
       " 'Python_Variables_and_Data_Types.ipynb',\n",
       " 'RunOtherNotebooks.ipynb',\n",
       " 'somefile.txt',\n",
       " 'Tuples.ipynb',\n",
       " 'tuples.py',\n",
       " '__pycache__']"
      ]
     },
     "execution_count": 89,
     "metadata": {},
     "output_type": "execute_result"
    }
   ],
   "source": [
    "os.listdir() # list all the files/directories in your current directory # in this case this is my Google colab directory"
   ]
  },
  {
   "cell_type": "code",
   "execution_count": 90,
   "metadata": {
    "colab": {
     "base_uri": "https://localhost:8080/",
     "height": 35
    },
    "id": "oRUWygQPDFZf",
    "outputId": "fffcebca-f285-4b6e-f31b-db4665ebe370"
   },
   "outputs": [
    {
     "data": {
      "text/plain": [
       "'d:\\\\Github\\\\RTU_Python_720_Fall_2020\\\\core'"
      ]
     },
     "execution_count": 90,
     "metadata": {},
     "output_type": "execute_result"
    }
   ],
   "source": [
    "# sometimes it is important to know where you are in the file system\n",
    "os.getcwd() # get current working directory\n",
    "# should be different to you"
   ]
  },
  {
   "cell_type": "code",
   "execution_count": null,
   "metadata": {
    "id": "dKytGpCLDFZf"
   },
   "outputs": [],
   "source": [
    "# for files there is newer Pathlib library which is recommended"
   ]
  },
  {
   "cell_type": "code",
   "execution_count": 91,
   "metadata": {
    "id": "uVTafOUhL3b9"
   },
   "outputs": [],
   "source": [
    "from pathlib import Path"
   ]
  },
  {
   "cell_type": "code",
   "execution_count": 93,
   "metadata": {
    "colab": {
     "base_uri": "https://localhost:8080/"
    },
    "id": "N3NeSzCaL6D2",
    "outputId": "9e662419-0de5-476e-a807-2584decead0c"
   },
   "outputs": [
    {
     "data": {
      "text/plain": [
       "[WindowsPath('sample_data/test.csv')]"
      ]
     },
     "execution_count": 93,
     "metadata": {},
     "output_type": "execute_result"
    }
   ],
   "source": [
    "csv_files = [f for f in Path(\"sample_data\").glob(\"*.csv\") if f.is_file()]  # we look in specific subdirectory\n",
    "csv_files # if not using colab you will need to change the path"
   ]
  },
  {
   "cell_type": "markdown",
   "metadata": {},
   "source": []
  },
  {
   "cell_type": "code",
   "execution_count": 95,
   "metadata": {
    "colab": {
     "base_uri": "https://localhost:8080/"
    },
    "id": "OhEn3gehMNOG",
    "outputId": "29e6333e-f14e-4cb4-ae07-df7c2707d39a"
   },
   "outputs": [
    {
     "name": "stdout",
     "output_type": "stream",
     "text": [
      "How many txt files 2\n"
     ]
    },
    {
     "data": {
      "text/plain": [
       "[WindowsPath('alice_queen.txt'), WindowsPath('somefile.txt')]"
      ]
     },
     "execution_count": 95,
     "metadata": {},
     "output_type": "execute_result"
    }
   ],
   "source": [
    "all_txt_files = [f for f in Path(\"./\").rglob(\"*.txt\") if f.is_file()] # we go through all subdirectories\n",
    "print(f\"How many txt files {len(all_txt_files)}\")\n",
    "all_txt_files"
   ]
  },
  {
   "cell_type": "markdown",
   "metadata": {},
   "source": [
    "## CSV library\n",
    "\n",
    "Personally I prefer the external library pandas for working with CSV files, but the csv module is also available in the Python Standard Library."
   ]
  },
  {
   "cell_type": "code",
   "execution_count": null,
   "metadata": {},
   "outputs": [],
   "source": []
  },
  {
   "cell_type": "code",
   "execution_count": 79,
   "metadata": {
    "id": "r42OPkBqMdrC"
   },
   "outputs": [],
   "source": [
    "import csv\n",
    "# usually external pandas is preferred, but for smaller tasks csv library might be enough\n",
    "# https://docs.python.org/3/library/csv.html"
   ]
  },
  {
   "cell_type": "code",
   "execution_count": 80,
   "metadata": {
    "colab": {
     "base_uri": "https://localhost:8080/"
    },
    "id": "qLYOlN9hM4Sc",
    "outputId": "0cc6f011-47ac-4d95-b3e5-d0d93bdf0710"
   },
   "outputs": [
    {
     "data": {
      "text/plain": [
       "PosixPath('sample_data/california_housing_test.csv')"
      ]
     },
     "execution_count": 80,
     "metadata": {},
     "output_type": "execute_result"
    }
   ],
   "source": [
    "all_csv_files[0]"
   ]
  },
  {
   "cell_type": "code",
   "execution_count": 81,
   "metadata": {
    "id": "nd89EPfeMiV4"
   },
   "outputs": [],
   "source": [
    "with open(all_csv_files[0], newline='\\n') as csvfile:\n",
    "    spamreader = csv.reader(csvfile, delimiter=',', quotechar='\"')\n",
    "    my_data = list(spamreader) # spamreader is a stream of data so we might need to commit it to memory"
   ]
  },
  {
   "cell_type": "code",
   "execution_count": 82,
   "metadata": {
    "colab": {
     "base_uri": "https://localhost:8080/"
    },
    "id": "-ZnZvXLENVi7",
    "outputId": "63495ef7-368e-41ee-b73d-8691386c5e59"
   },
   "outputs": [
    {
     "data": {
      "text/plain": [
       "3001"
      ]
     },
     "execution_count": 82,
     "metadata": {},
     "output_type": "execute_result"
    }
   ],
   "source": [
    "len(my_data)"
   ]
  },
  {
   "cell_type": "code",
   "execution_count": 83,
   "metadata": {
    "colab": {
     "base_uri": "https://localhost:8080/"
    },
    "id": "8UitbczzNX-n",
    "outputId": "60a71791-8d8c-482e-9f18-db9f487bade0"
   },
   "outputs": [
    {
     "data": {
      "text/plain": [
       "[['longitude',\n",
       "  'latitude',\n",
       "  'housing_median_age',\n",
       "  'total_rooms',\n",
       "  'total_bedrooms',\n",
       "  'population',\n",
       "  'households',\n",
       "  'median_income',\n",
       "  'median_house_value'],\n",
       " ['-122.050000',\n",
       "  '37.370000',\n",
       "  '27.000000',\n",
       "  '3885.000000',\n",
       "  '661.000000',\n",
       "  '1537.000000',\n",
       "  '606.000000',\n",
       "  '6.608500',\n",
       "  '344700.000000'],\n",
       " ['-118.300000',\n",
       "  '34.260000',\n",
       "  '43.000000',\n",
       "  '1510.000000',\n",
       "  '310.000000',\n",
       "  '809.000000',\n",
       "  '277.000000',\n",
       "  '3.599000',\n",
       "  '176500.000000']]"
      ]
     },
     "execution_count": 83,
     "metadata": {},
     "output_type": "execute_result"
    }
   ],
   "source": [
    "my_data[:3] # so we have our data we would need to convert the strings to numbers\n",
    "# but again pandas library would be better suited for more advanced analysis"
   ]
  },
  {
   "cell_type": "markdown",
   "metadata": {},
   "source": [
    "## Shutil for file operations\n",
    "\n",
    "We can shutil module to perform file operations such as copying, moving, and deleting files.\n",
    "\n",
    "We can also make zip files using the shutil module."
   ]
  },
  {
   "cell_type": "code",
   "execution_count": 85,
   "metadata": {
    "colab": {
     "base_uri": "https://localhost:8080/",
     "height": 35
    },
    "id": "VfcMvZ6CNj4E",
    "outputId": "999c3188-7201-4f96-b6ea-35485fb3dc6c"
   },
   "outputs": [
    {
     "data": {
      "application/vnd.google.colaboratory.intrinsic+json": {
       "type": "string"
      },
      "text/plain": [
       "'/content/my_zip_archive.zip'"
      ]
     },
     "execution_count": 85,
     "metadata": {},
     "output_type": "execute_result"
    }
   ],
   "source": [
    "import shutil\n",
    "\n",
    "shutil.make_archive(\"my_zip_archive\", \"zip\", \"sample_data\")"
   ]
  },
  {
   "cell_type": "code",
   "execution_count": null,
   "metadata": {
    "id": "ZxG5AefjOO2G"
   },
   "outputs": [],
   "source": [
    "# there is also zipfile standard library for more operations with zip files"
   ]
  },
  {
   "cell_type": "code",
   "execution_count": null,
   "metadata": {
    "id": "ch3cusCmPHM-"
   },
   "outputs": [],
   "source": [
    "# there are many more standard library modules - all found  at https://docs.python.org/3/library/"
   ]
  },
  {
   "cell_type": "markdown",
   "metadata": {},
   "source": [
    "## Itertools module - for efficient looping\n",
    "\n",
    "Itertools module provides a set of functions for working with iterators. It provides many functions that can be used to create and work with iterators."
   ]
  },
  {
   "cell_type": "code",
   "execution_count": 97,
   "metadata": {},
   "outputs": [
    {
     "name": "stdout",
     "output_type": "stream",
     "text": [
      "All combinations\n"
     ]
    },
    {
     "data": {
      "text/plain": [
       "[('Alice', 'Coke', 0.99),\n",
       " ('Alice', 'Coke', 4.99),\n",
       " ('Alice', 'Beer', 0.99),\n",
       " ('Alice', 'Beer', 4.99),\n",
       " ('Alice', 'Water', 0.99),\n",
       " ('Alice', 'Water', 4.99),\n",
       " ('Bob', 'Coke', 0.99),\n",
       " ('Bob', 'Coke', 4.99),\n",
       " ('Bob', 'Beer', 0.99),\n",
       " ('Bob', 'Beer', 4.99),\n",
       " ('Bob', 'Water', 0.99),\n",
       " ('Bob', 'Water', 4.99),\n",
       " ('Charlie', 'Coke', 0.99),\n",
       " ('Charlie', 'Coke', 4.99),\n",
       " ('Charlie', 'Beer', 0.99),\n",
       " ('Charlie', 'Beer', 4.99),\n",
       " ('Charlie', 'Water', 0.99),\n",
       " ('Charlie', 'Water', 4.99),\n",
       " ('David', 'Coke', 0.99),\n",
       " ('David', 'Coke', 4.99),\n",
       " ('David', 'Beer', 0.99),\n",
       " ('David', 'Beer', 4.99),\n",
       " ('David', 'Water', 0.99),\n",
       " ('David', 'Water', 4.99)]"
      ]
     },
     "execution_count": 97,
     "metadata": {},
     "output_type": "execute_result"
    }
   ],
   "source": [
    "# let's start with product\n",
    "# we want to have a Cartesian product of two lists\n",
    "# we have a list of people\n",
    "people = [\"Alice\", \"Bob\", \"Charlie\", \"David\"]\n",
    "# and we have a list of drinks\n",
    "drinks = [\"Coke\", \"Beer\", \"Water\"]\n",
    "prices = [0.99, 4.99]\n",
    "# we could use two nested loops to get all combinations\n",
    "\n",
    "# instead it is better to use product\n",
    "from itertools import product\n",
    "all_combinations = list(product(people, drinks, prices))\n",
    "print(\"All combinations\")\n",
    "all_combinations"
   ]
  },
  {
   "cell_type": "code",
   "execution_count": null,
   "metadata": {},
   "outputs": [],
   "source": []
  }
 ],
 "metadata": {
  "colab": {
   "name": "Python Standard Library.ipynb",
   "provenance": []
  },
  "kernelspec": {
   "display_name": "Python 3",
   "language": "python",
   "name": "python3"
  },
  "language_info": {
   "codemirror_mode": {
    "name": "ipython",
    "version": 3
   },
   "file_extension": ".py",
   "mimetype": "text/x-python",
   "name": "python",
   "nbconvert_exporter": "python",
   "pygments_lexer": "ipython3",
   "version": "3.13.0"
  }
 },
 "nbformat": 4,
 "nbformat_minor": 0
}
