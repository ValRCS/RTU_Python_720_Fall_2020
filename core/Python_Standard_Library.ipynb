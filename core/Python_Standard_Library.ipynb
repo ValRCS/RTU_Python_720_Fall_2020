{
  "cells": [
    {
      "cell_type": "code",
      "source": [
        "# https://docs.python.org/3/library/ - location"
      ],
      "metadata": {
        "id": "wqn83o_vEn5C"
      },
      "execution_count": null,
      "outputs": []
    },
    {
      "cell_type": "code",
      "execution_count": 1,
      "metadata": {
        "id": "ti5mMMCWDFZT"
      },
      "outputs": [],
      "source": [
        "import string #meaning I have access now to extra string goodies"
      ]
    },
    {
      "cell_type": "code",
      "execution_count": 2,
      "metadata": {
        "id": "ZJP-G_7-DFZV",
        "outputId": "f3cce0ac-816f-41f8-946b-233deaf83494",
        "colab": {
          "base_uri": "https://localhost:8080/",
          "height": 35
        }
      },
      "outputs": [
        {
          "output_type": "execute_result",
          "data": {
            "text/plain": [
              "'abcdefghijklmnopqrstuvwxyzABCDEFGHIJKLMNOPQRSTUVWXYZ'"
            ],
            "application/vnd.google.colaboratory.intrinsic+json": {
              "type": "string"
            }
          },
          "metadata": {},
          "execution_count": 2
        }
      ],
      "source": [
        "string.ascii_letters"
      ]
    },
    {
      "cell_type": "code",
      "execution_count": 3,
      "metadata": {
        "id": "j2lNru_mDFZX",
        "outputId": "4323795b-1229-40c2-99e8-28a321578fb6",
        "colab": {
          "base_uri": "https://localhost:8080/",
          "height": 35
        }
      },
      "outputs": [
        {
          "output_type": "execute_result",
          "data": {
            "text/plain": [
              "'!\"#$%&\\'()*+,-./:;<=>?@[\\\\]^_`{|}~'"
            ],
            "application/vnd.google.colaboratory.intrinsic+json": {
              "type": "string"
            }
          },
          "metadata": {},
          "execution_count": 3
        }
      ],
      "source": [
        "string.punctuation"
      ]
    },
    {
      "cell_type": "code",
      "source": [
        "string.digits"
      ],
      "metadata": {
        "id": "yOkOdsoZE6RR",
        "outputId": "05c165e9-ff2f-4ef0-bfe5-3f87226818b0",
        "colab": {
          "base_uri": "https://localhost:8080/",
          "height": 35
        }
      },
      "execution_count": 4,
      "outputs": [
        {
          "output_type": "execute_result",
          "data": {
            "text/plain": [
              "'0123456789'"
            ],
            "application/vnd.google.colaboratory.intrinsic+json": {
              "type": "string"
            }
          },
          "metadata": {},
          "execution_count": 4
        }
      ]
    },
    {
      "cell_type": "code",
      "execution_count": 5,
      "metadata": {
        "id": "2N-47YF0DFZX"
      },
      "outputs": [],
      "source": [
        "# you do not want to calculate dates yourself, \n",
        "# easy to make mistakes with timezones, Georgian calendar, leap years etc\n",
        "import datetime\n",
        "# https://docs.python.org/3/library/datetime.html"
      ]
    },
    {
      "cell_type": "code",
      "execution_count": 6,
      "metadata": {
        "id": "LEmI3T3GDFZX",
        "outputId": "156226b9-597c-4b16-f797-2df0f0beda73",
        "colab": {
          "base_uri": "https://localhost:8080/"
        }
      },
      "outputs": [
        {
          "output_type": "execute_result",
          "data": {
            "text/plain": [
              "datetime.datetime(2022, 4, 20, 13, 7, 25, 909642)"
            ]
          },
          "metadata": {},
          "execution_count": 6
        }
      ],
      "source": [
        "now = datetime.datetime.now() #notice datetime needs another datetime\n",
        "now"
      ]
    },
    {
      "cell_type": "code",
      "execution_count": 7,
      "metadata": {
        "id": "ID-rhIiMDFZY",
        "outputId": "548feb5f-1fc9-4132-fb0a-ad39f31904ec",
        "colab": {
          "base_uri": "https://localhost:8080/"
        }
      },
      "outputs": [
        {
          "output_type": "execute_result",
          "data": {
            "text/plain": [
              "datetime.timedelta(seconds=57, microseconds=727447)"
            ]
          },
          "metadata": {},
          "execution_count": 7
        }
      ],
      "source": [
        "time_passed = datetime.datetime.now() - now\n",
        "time_passed"
      ]
    },
    {
      "cell_type": "code",
      "execution_count": 8,
      "metadata": {
        "id": "BoF5VHrtDFZY",
        "outputId": "bbb9be30-fb23-4541-e2cc-69e17fe8f23e",
        "colab": {
          "base_uri": "https://localhost:8080/"
        }
      },
      "outputs": [
        {
          "output_type": "execute_result",
          "data": {
            "text/plain": [
              "57"
            ]
          },
          "metadata": {},
          "execution_count": 8
        }
      ],
      "source": [
        "time_passed.seconds"
      ]
    },
    {
      "cell_type": "code",
      "execution_count": 9,
      "metadata": {
        "id": "o54SHcW9DFZZ",
        "outputId": "36ea6a97-cfdb-4def-f864-e2c02e6cb88e",
        "colab": {
          "base_uri": "https://localhost:8080/"
        }
      },
      "outputs": [
        {
          "output_type": "execute_result",
          "data": {
            "text/plain": [
              "0"
            ]
          },
          "metadata": {},
          "execution_count": 9
        }
      ],
      "source": [
        "time_passed.days"
      ]
    },
    {
      "cell_type": "code",
      "source": [
        "time_passed.total_seconds()  # this would give you floating point results"
      ],
      "metadata": {
        "id": "9n7KQecFFwAs",
        "outputId": "d7ca084e-214f-4640-a4c9-1ad30ced03ca",
        "colab": {
          "base_uri": "https://localhost:8080/"
        }
      },
      "execution_count": 12,
      "outputs": [
        {
          "output_type": "execute_result",
          "data": {
            "text/plain": [
              "57.727447"
            ]
          },
          "metadata": {},
          "execution_count": 12
        }
      ]
    },
    {
      "cell_type": "code",
      "execution_count": null,
      "metadata": {
        "id": "MeblspKiDFZZ",
        "outputId": "6eecb55c-3035-458c-eb3e-d8abdbbe9878"
      },
      "outputs": [
        {
          "data": {
            "text/plain": [
              "(2020, 17, datetime.date(2020, 11, 17))"
            ]
          },
          "execution_count": 14,
          "metadata": {},
          "output_type": "execute_result"
        }
      ],
      "source": [
        "now.year, now.day, now.date()"
      ]
    },
    {
      "cell_type": "code",
      "execution_count": null,
      "metadata": {
        "id": "aqEE2apJDFZa",
        "outputId": "0033be3a-7c77-462c-bc70-9e0da5447d9f"
      },
      "outputs": [
        {
          "data": {
            "text/plain": [
              "datetime.datetime"
            ]
          },
          "execution_count": 15,
          "metadata": {},
          "output_type": "execute_result"
        }
      ],
      "source": [
        "type(now)"
      ]
    },
    {
      "cell_type": "code",
      "execution_count": 13,
      "metadata": {
        "id": "Ib_4Y97JDFZb",
        "outputId": "807521fc-6fd6-48ce-9a45-297fd74f3d8b",
        "colab": {
          "base_uri": "https://localhost:8080/"
        }
      },
      "outputs": [
        {
          "output_type": "execute_result",
          "data": {
            "text/plain": [
              "datetime.datetime(2022, 4, 20, 13, 11, 17, 639019)"
            ]
          },
          "metadata": {},
          "execution_count": 13
        }
      ],
      "source": [
        "from datetime import datetime as dtime #you can create alias to a longer module  # dtime could be dt, mytime etc, \n",
        "really_now = dtime.now() \n",
        "really_now"
      ]
    },
    {
      "cell_type": "code",
      "execution_count": 14,
      "metadata": {
        "id": "oAwBRMTwDFZb",
        "outputId": "a6148700-a6b6-409e-ed19-6c6bd75ded2e",
        "colab": {
          "base_uri": "https://localhost:8080/"
        }
      },
      "outputs": [
        {
          "output_type": "execute_result",
          "data": {
            "text/plain": [
              "2"
            ]
          },
          "metadata": {},
          "execution_count": 14
        }
      ],
      "source": [
        "really_now.weekday() # it is a method not a property"
      ]
    },
    {
      "cell_type": "code",
      "execution_count": null,
      "metadata": {
        "id": "umm3Ng12DFZb"
      },
      "outputs": [],
      "source": [
        "# turns out weekday starts on Monday with 0 and Sunday is 6"
      ]
    },
    {
      "cell_type": "code",
      "source": [
        "really_now.year, really_now.month  # just use the dot notation to get the useful methods and properties"
      ],
      "metadata": {
        "id": "uLgFYNUZGk_D",
        "outputId": "93d5abab-b405-48a0-a121-ca42e7a21a26",
        "colab": {
          "base_uri": "https://localhost:8080/"
        }
      },
      "execution_count": 15,
      "outputs": [
        {
          "output_type": "execute_result",
          "data": {
            "text/plain": [
              "(2022, 4)"
            ]
          },
          "metadata": {},
          "execution_count": 15
        }
      ]
    },
    {
      "cell_type": "code",
      "source": [
        "5+3, 5*3, 5/3, 5//3, 5%3,5**3, 5-3  # basic math included"
      ],
      "metadata": {
        "id": "IybHHKRaG3xs",
        "outputId": "c84a2188-b7f5-4b99-fda4-e07cf6693a0e",
        "colab": {
          "base_uri": "https://localhost:8080/"
        }
      },
      "execution_count": 17,
      "outputs": [
        {
          "output_type": "execute_result",
          "data": {
            "text/plain": [
              "(8, 15, 1.6666666666666667, 1, 2, 125, 2)"
            ]
          },
          "metadata": {},
          "execution_count": 17
        }
      ]
    },
    {
      "cell_type": "code",
      "source": [
        "import math"
      ],
      "metadata": {
        "id": "6rYqjU8wG1Qq"
      },
      "execution_count": 18,
      "outputs": []
    },
    {
      "cell_type": "code",
      "source": [
        "math.ceil(1.01), math.floor(1.99)"
      ],
      "metadata": {
        "id": "ZpEN838FHIQ2",
        "outputId": "f12e40e8-4ee8-4d07-99d6-9062ded3c785",
        "colab": {
          "base_uri": "https://localhost:8080/"
        }
      },
      "execution_count": 19,
      "outputs": [
        {
          "output_type": "execute_result",
          "data": {
            "text/plain": [
              "(2, 1)"
            ]
          },
          "metadata": {},
          "execution_count": 19
        }
      ]
    },
    {
      "cell_type": "code",
      "source": [
        "math.factorial(5)"
      ],
      "metadata": {
        "id": "HX4MyjgRHT92",
        "outputId": "e6176aeb-e721-4d1a-9115-7c260aa68c21",
        "colab": {
          "base_uri": "https://localhost:8080/"
        }
      },
      "execution_count": 20,
      "outputs": [
        {
          "output_type": "execute_result",
          "data": {
            "text/plain": [
              "120"
            ]
          },
          "metadata": {},
          "execution_count": 20
        }
      ]
    },
    {
      "cell_type": "code",
      "source": [
        "math.pi"
      ],
      "metadata": {
        "id": "wu5n2dlBHkxi",
        "outputId": "d65bccf2-fc5a-4317-d01a-00cf74c8d88d",
        "colab": {
          "base_uri": "https://localhost:8080/"
        }
      },
      "execution_count": 22,
      "outputs": [
        {
          "output_type": "execute_result",
          "data": {
            "text/plain": [
              "3.141592653589793"
            ]
          },
          "metadata": {},
          "execution_count": 22
        }
      ]
    },
    {
      "cell_type": "code",
      "source": [
        "math.cos(math.pi)  # so cos takes radians"
      ],
      "metadata": {
        "id": "2vrj_tCHHZjL",
        "outputId": "95d64f97-8111-4aca-cdd6-a0acdd5b6039",
        "colab": {
          "base_uri": "https://localhost:8080/"
        }
      },
      "execution_count": 21,
      "outputs": [
        {
          "output_type": "execute_result",
          "data": {
            "text/plain": [
              "-1.0"
            ]
          },
          "metadata": {},
          "execution_count": 21
        }
      ]
    },
    {
      "cell_type": "code",
      "source": [
        "import statistics # now i get access to some statistics goodies"
      ],
      "metadata": {
        "id": "1WAdQmT0HrtW"
      },
      "execution_count": 23,
      "outputs": []
    },
    {
      "cell_type": "code",
      "source": [
        "statistics.mean(range(10)) # should be 4.5 since from 0 to 9"
      ],
      "metadata": {
        "id": "QyWPcJrnHxmy",
        "outputId": "f79abe28-d96a-451b-e23b-50d7d61de98b",
        "colab": {
          "base_uri": "https://localhost:8080/"
        }
      },
      "execution_count": 24,
      "outputs": [
        {
          "output_type": "execute_result",
          "data": {
            "text/plain": [
              "4.5"
            ]
          },
          "metadata": {},
          "execution_count": 24
        }
      ]
    },
    {
      "cell_type": "code",
      "source": [
        "#"
      ],
      "metadata": {
        "id": "CUr_3YIHH--j"
      },
      "execution_count": null,
      "outputs": []
    },
    {
      "cell_type": "code",
      "execution_count": 25,
      "metadata": {
        "id": "aUn97go9DFZc"
      },
      "outputs": [],
      "source": [
        "from collections import Counter  # so we import not the whole library but just one module"
      ]
    },
    {
      "cell_type": "code",
      "execution_count": 26,
      "metadata": {
        "id": "y4TGyQZCDFZc",
        "outputId": "a1fef2c7-165b-4510-ec89-b3be71d04bd7",
        "colab": {
          "base_uri": "https://localhost:8080/"
        }
      },
      "outputs": [
        {
          "output_type": "execute_result",
          "data": {
            "text/plain": [
              "[('a', 5),\n",
              " ('b', 3),\n",
              " ('r', 2),\n",
              " ('c', 2),\n",
              " (' ', 2),\n",
              " ('m', 2),\n",
              " ('A', 1),\n",
              " ('y', 1),\n",
              " ('g', 1),\n",
              " ('i', 1)]"
            ]
          },
          "metadata": {},
          "execution_count": 26
        }
      ],
      "source": [
        "cnt = Counter(\"Abracababra my magic\") # so i pass my string to Counter class constructor\n",
        "cnt.most_common()"
      ]
    },
    {
      "cell_type": "code",
      "execution_count": 28,
      "metadata": {
        "id": "K34NQhZ-DFZc",
        "outputId": "744f990d-74fa-4241-de57-14f682ad1ec8",
        "colab": {
          "base_uri": "https://localhost:8080/"
        }
      },
      "outputs": [
        {
          "output_type": "execute_result",
          "data": {
            "text/plain": [
              "[('fox', 2),\n",
              " ('a', 2),\n",
              " ('A', 1),\n",
              " ('quick', 1),\n",
              " ('brown', 1),\n",
              " ('jumped', 1),\n",
              " ('over', 1),\n",
              " ('sleeping', 1),\n",
              " ('and', 1),\n",
              " (\"that's\", 1),\n",
              " ('wrap', 1)]"
            ]
          },
          "metadata": {},
          "execution_count": 28
        }
      ],
      "source": [
        "sentence = \"A quick brown fox jumped over a sleeping fox and that's a wrap\"\n",
        "word_count = Counter(sentence.split()) # we split sentence into a list of words by default whitespace\n",
        "word_count.most_common()"
      ]
    },
    {
      "cell_type": "code",
      "execution_count": 29,
      "metadata": {
        "id": "GP52-m1WDFZd",
        "outputId": "9e720962-eac3-480a-c77f-6f7e6316c725",
        "colab": {
          "base_uri": "https://localhost:8080/"
        }
      },
      "outputs": [
        {
          "output_type": "execute_result",
          "data": {
            "text/plain": [
              "[(' ', 12),\n",
              " ('a', 5),\n",
              " ('o', 4),\n",
              " ('e', 4),\n",
              " ('r', 3),\n",
              " ('n', 3),\n",
              " ('p', 3),\n",
              " ('u', 2),\n",
              " ('i', 2),\n",
              " ('w', 2),\n",
              " ('f', 2),\n",
              " ('x', 2),\n",
              " ('d', 2),\n",
              " ('s', 2),\n",
              " ('t', 2),\n",
              " ('A', 1),\n",
              " ('q', 1),\n",
              " ('c', 1),\n",
              " ('k', 1),\n",
              " ('b', 1),\n",
              " ('j', 1),\n",
              " ('m', 1),\n",
              " ('v', 1),\n",
              " ('l', 1),\n",
              " ('g', 1),\n",
              " ('h', 1),\n",
              " (\"'\", 1)]"
            ]
          },
          "metadata": {},
          "execution_count": 29
        }
      ],
      "source": [
        "# compare to not splitting then we get characters\n",
        "char_count = Counter(sentence)\n",
        "char_count.most_common()"
      ]
    },
    {
      "cell_type": "code",
      "execution_count": 30,
      "metadata": {
        "id": "d4nyxb1XDFZd"
      },
      "outputs": [],
      "source": [
        "import random"
      ]
    },
    {
      "cell_type": "code",
      "execution_count": 43,
      "metadata": {
        "id": "Zx7GQUTjDFZd",
        "outputId": "bf17dbfa-802a-4e11-e083-d9ae35492dd2",
        "colab": {
          "base_uri": "https://localhost:8080/"
        }
      },
      "outputs": [
        {
          "output_type": "execute_result",
          "data": {
            "text/plain": [
              "(0.343962224840236, 5)"
            ]
          },
          "metadata": {},
          "execution_count": 43
        }
      ],
      "source": [
        "\n",
        "random.seed(9000) # pick you own starting seed guarantees same specific pseudo-random values, 9000, 42, 23, etc etc\n",
        "# https://www.youtube.com/watch?v=1cUUfMeOijg\n",
        "# good for testing but obviously this line not good if you need fresh values\n",
        "random.random(), random.randint(1,6)"
      ]
    },
    {
      "cell_type": "code",
      "execution_count": 44,
      "metadata": {
        "scrolled": true,
        "id": "w9dsAVQNDFZd",
        "outputId": "be11db9a-9857-4d24-d26d-99c7a6f80db5",
        "colab": {
          "base_uri": "https://localhost:8080/"
        }
      },
      "outputs": [
        {
          "output_type": "execute_result",
          "data": {
            "text/plain": [
              "1"
            ]
          },
          "metadata": {},
          "execution_count": 44
        }
      ],
      "source": [
        "random.randint(1,6) # start AND end is both included, thus 6 is included, quite rare in programming"
      ]
    },
    {
      "cell_type": "code",
      "source": [
        "max_throws = 10_000\n",
        "dice_throws = [random.randint(1,6) + random.randint(1,6) for _ in range(max_throws)]"
      ],
      "metadata": {
        "id": "YksChRd0JehC"
      },
      "execution_count": 45,
      "outputs": []
    },
    {
      "cell_type": "code",
      "source": [
        "statistics.mean(dice_throws), statistics.median(dice_throws), statistics.mode(dice_throws)  # mode is most frequently seen item\n",
        "# here these values will actually be very close to each other"
      ],
      "metadata": {
        "id": "HFFhYO80JzLD",
        "outputId": "be5e2573-95a9-40a4-fd9e-65b27df635e8",
        "colab": {
          "base_uri": "https://localhost:8080/"
        }
      },
      "execution_count": 46,
      "outputs": [
        {
          "output_type": "execute_result",
          "data": {
            "text/plain": [
              "(7.0071, 7.0, 7)"
            ]
          },
          "metadata": {},
          "execution_count": 46
        }
      ]
    },
    {
      "cell_type": "code",
      "source": [
        "statistics.stdev(dice_throws)"
      ],
      "metadata": {
        "id": "RqLLOWHXKK5Z",
        "outputId": "b807aca4-2551-4024-9f78-2b8cd7bbb2e3",
        "colab": {
          "base_uri": "https://localhost:8080/"
        }
      },
      "execution_count": 49,
      "outputs": [
        {
          "output_type": "execute_result",
          "data": {
            "text/plain": [
              "2.442631006644979"
            ]
          },
          "metadata": {},
          "execution_count": 49
        }
      ]
    },
    {
      "cell_type": "code",
      "source": [
        "dice_cnt = Counter(dice_throws)\n",
        "dice_cnt"
      ],
      "metadata": {
        "id": "JoVa6PKYKeAR",
        "outputId": "2d5f414a-416e-4a69-8ca4-3d8f8b7c51b8",
        "colab": {
          "base_uri": "https://localhost:8080/"
        }
      },
      "execution_count": 50,
      "outputs": [
        {
          "output_type": "execute_result",
          "data": {
            "text/plain": [
              "Counter({2: 302,\n",
              "         3: 602,\n",
              "         4: 789,\n",
              "         5: 1077,\n",
              "         6: 1334,\n",
              "         7: 1700,\n",
              "         8: 1399,\n",
              "         9: 1095,\n",
              "         10: 850,\n",
              "         11: 555,\n",
              "         12: 297})"
            ]
          },
          "metadata": {},
          "execution_count": 50
        }
      ]
    },
    {
      "cell_type": "code",
      "source": [
        "dice_cnt.most_common()"
      ],
      "metadata": {
        "id": "ksodxjZaKkUb",
        "outputId": "e03459f5-ecfd-409b-bf13-3acece4d2a02",
        "colab": {
          "base_uri": "https://localhost:8080/"
        }
      },
      "execution_count": 51,
      "outputs": [
        {
          "output_type": "execute_result",
          "data": {
            "text/plain": [
              "[(7, 1700),\n",
              " (8, 1399),\n",
              " (6, 1334),\n",
              " (9, 1095),\n",
              " (5, 1077),\n",
              " (10, 850),\n",
              " (4, 789),\n",
              " (3, 602),\n",
              " (11, 555),\n",
              " (2, 302),\n",
              " (12, 297)]"
            ]
          },
          "metadata": {},
          "execution_count": 51
        }
      ]
    },
    {
      "cell_type": "code",
      "execution_count": 52,
      "metadata": {
        "id": "ExoCfbLZDFZe",
        "outputId": "2a91a473-2895-42f1-ee2d-bdf5add8d434",
        "colab": {
          "base_uri": "https://localhost:8080/"
        }
      },
      "outputs": [
        {
          "output_type": "execute_result",
          "data": {
            "text/plain": [
              "['a', 'b', 'c', 'd', 'e', 'f', 'g', 'h', 'i', 'j']"
            ]
          },
          "metadata": {},
          "execution_count": 52
        }
      ],
      "source": [
        "my_alphabet = list(string.ascii_lowercase)\n",
        "my_alphabet[:10]"
      ]
    },
    {
      "cell_type": "code",
      "execution_count": 58,
      "metadata": {
        "id": "WEosN3UxDFZe",
        "outputId": "d021e732-01e0-433f-c591-ed0dc9c5a73d",
        "colab": {
          "base_uri": "https://localhost:8080/"
        }
      },
      "outputs": [
        {
          "output_type": "execute_result",
          "data": {
            "text/plain": [
              "['d',\n",
              " 'x',\n",
              " 'h',\n",
              " 'o',\n",
              " 'w',\n",
              " 'm',\n",
              " 'k',\n",
              " 'r',\n",
              " 'l',\n",
              " 'c',\n",
              " 'n',\n",
              " 'z',\n",
              " 'i',\n",
              " 'a',\n",
              " 'g',\n",
              " 'b',\n",
              " 'y',\n",
              " 'p',\n",
              " 'q',\n",
              " 'v',\n",
              " 'j',\n",
              " 't',\n",
              " 's',\n",
              " 'u',\n",
              " 'e',\n",
              " 'f']"
            ]
          },
          "metadata": {},
          "execution_count": 58
        }
      ],
      "source": [
        "# you do not want to write your own shuffle algorithm \n",
        "# it is easy to make mistakes\n",
        "random.shuffle(my_alphabet) # we shuffle all 26 items\n",
        "# this will be in place meaning my_alphabet will get shuffled\n",
        "my_alphabet"
      ]
    },
    {
      "cell_type": "code",
      "execution_count": 62,
      "metadata": {
        "id": "pkjQXZdvDFZe",
        "outputId": "128b90b5-451d-4882-9ac2-3f05a1224148",
        "colab": {
          "base_uri": "https://localhost:8080/",
          "height": 35
        }
      },
      "outputs": [
        {
          "output_type": "execute_result",
          "data": {
            "text/plain": [
              "'h'"
            ],
            "application/vnd.google.colaboratory.intrinsic+json": {
              "type": "string"
            }
          },
          "metadata": {},
          "execution_count": 62
        }
      ],
      "source": [
        "random.choice(my_alphabet)"
      ]
    },
    {
      "cell_type": "code",
      "source": [
        "random.choices(my_alphabet, k=3)"
      ],
      "metadata": {
        "id": "-aydpof_K6G0",
        "outputId": "bd2435de-508d-403a-d956-9a0aaabbd62d",
        "colab": {
          "base_uri": "https://localhost:8080/"
        }
      },
      "execution_count": 67,
      "outputs": [
        {
          "output_type": "execute_result",
          "data": {
            "text/plain": [
              "['l', 'e', 'z']"
            ]
          },
          "metadata": {},
          "execution_count": 67
        }
      ]
    },
    {
      "cell_type": "code",
      "execution_count": 71,
      "metadata": {
        "id": "qeRFi8TbDFZe",
        "outputId": "fa17fb56-124c-4f48-f4a1-202f6a1d0f31",
        "colab": {
          "base_uri": "https://localhost:8080/"
        }
      },
      "outputs": [
        {
          "output_type": "execute_result",
          "data": {
            "text/plain": [
              "(['d', 'x', 'h', 'o', 'w', 'm', 'k', 'r', 'l', 'c'],\n",
              " ['c', 'g', 'p', 'f', 'l', 'o', 'l', 'i', 'v', 'r'])"
            ]
          },
          "metadata": {},
          "execution_count": 71
        }
      ],
      "source": [
        "new_alphabet_with_repeats = random.choices(my_alphabet, k=len(my_alphabet)) \n",
        "# returns a new shuffled list with unique picks keeping old one untouched\n",
        "my_alphabet[:10], new_alphabet_with_repeats[:10]"
      ]
    },
    {
      "cell_type": "code",
      "source": [
        "new_alphabet_no_repeats = random.sample(my_alphabet, k=len(my_alphabet))\n",
        "new_alphabet_no_repeats"
      ],
      "metadata": {
        "id": "_WB3cvqgLUme",
        "outputId": "2ccaf556-fc6a-4acf-bb7b-a00a096d1c84",
        "colab": {
          "base_uri": "https://localhost:8080/"
        }
      },
      "execution_count": 72,
      "outputs": [
        {
          "output_type": "execute_result",
          "data": {
            "text/plain": [
              "['s',\n",
              " 'a',\n",
              " 'x',\n",
              " 'o',\n",
              " 'h',\n",
              " 'u',\n",
              " 'i',\n",
              " 'y',\n",
              " 'l',\n",
              " 'e',\n",
              " 'r',\n",
              " 'p',\n",
              " 'q',\n",
              " 'j',\n",
              " 'w',\n",
              " 'm',\n",
              " 'z',\n",
              " 't',\n",
              " 'g',\n",
              " 'n',\n",
              " 'd',\n",
              " 'c',\n",
              " 'k',\n",
              " 'f',\n",
              " 'b',\n",
              " 'v']"
            ]
          },
          "metadata": {},
          "execution_count": 72
        }
      ]
    },
    {
      "cell_type": "code",
      "execution_count": 73,
      "metadata": {
        "id": "mAqwAg2EDFZf"
      },
      "outputs": [],
      "source": [
        "import os"
      ]
    },
    {
      "cell_type": "code",
      "execution_count": 74,
      "metadata": {
        "id": "V4jXyAU3DFZf",
        "outputId": "0e2ee302-37c9-4cd9-9fb1-de3642f9de66",
        "colab": {
          "base_uri": "https://localhost:8080/"
        }
      },
      "outputs": [
        {
          "output_type": "execute_result",
          "data": {
            "text/plain": [
              "['.config', 'sample_data']"
            ]
          },
          "metadata": {},
          "execution_count": 74
        }
      ],
      "source": [
        "os.listdir() # list all the files/directories in your current directory # in this case this is my Google colab directory"
      ]
    },
    {
      "cell_type": "code",
      "execution_count": 75,
      "metadata": {
        "id": "oRUWygQPDFZf",
        "outputId": "fffcebca-f285-4b6e-f31b-db4665ebe370",
        "colab": {
          "base_uri": "https://localhost:8080/",
          "height": 35
        }
      },
      "outputs": [
        {
          "output_type": "execute_result",
          "data": {
            "text/plain": [
              "'/content'"
            ],
            "application/vnd.google.colaboratory.intrinsic+json": {
              "type": "string"
            }
          },
          "metadata": {},
          "execution_count": 75
        }
      ],
      "source": [
        "os.getcwd() # get current working directory\n",
        "# should be different to you"
      ]
    },
    {
      "cell_type": "code",
      "execution_count": null,
      "metadata": {
        "id": "dKytGpCLDFZf"
      },
      "outputs": [],
      "source": [
        "# for files there is newer Pathlib library which is recommended"
      ]
    },
    {
      "cell_type": "code",
      "source": [
        "from pathlib import Path"
      ],
      "metadata": {
        "id": "uVTafOUhL3b9"
      },
      "execution_count": 76,
      "outputs": []
    },
    {
      "cell_type": "code",
      "source": [
        "csv_files = [f for f in Path(\"sample_data\").glob(\"*.csv\") if f.is_file()]  # we look in specific subdirectory\n",
        "csv_files"
      ],
      "metadata": {
        "id": "N3NeSzCaL6D2",
        "outputId": "9e662419-0de5-476e-a807-2584decead0c",
        "colab": {
          "base_uri": "https://localhost:8080/"
        }
      },
      "execution_count": 77,
      "outputs": [
        {
          "output_type": "execute_result",
          "data": {
            "text/plain": [
              "[PosixPath('sample_data/california_housing_test.csv'),\n",
              " PosixPath('sample_data/california_housing_train.csv'),\n",
              " PosixPath('sample_data/mnist_test.csv'),\n",
              " PosixPath('sample_data/mnist_train_small.csv')]"
            ]
          },
          "metadata": {},
          "execution_count": 77
        }
      ]
    },
    {
      "cell_type": "code",
      "source": [
        "all_csv_files = [f for f in Path(\"./\").rglob(\"*.csv\") if f.is_file()] # we go through all subdirectories\n",
        "all_csv_files"
      ],
      "metadata": {
        "id": "OhEn3gehMNOG",
        "outputId": "29e6333e-f14e-4cb4-ae07-df7c2707d39a",
        "colab": {
          "base_uri": "https://localhost:8080/"
        }
      },
      "execution_count": 78,
      "outputs": [
        {
          "output_type": "execute_result",
          "data": {
            "text/plain": [
              "[PosixPath('sample_data/california_housing_test.csv'),\n",
              " PosixPath('sample_data/california_housing_train.csv'),\n",
              " PosixPath('sample_data/mnist_test.csv'),\n",
              " PosixPath('sample_data/mnist_train_small.csv')]"
            ]
          },
          "metadata": {},
          "execution_count": 78
        }
      ]
    },
    {
      "cell_type": "code",
      "source": [
        "import csv\n",
        "# usually external pandas is preferred, but for smaller tasks csv library might be enough\n",
        "# https://docs.python.org/3/library/csv.html"
      ],
      "metadata": {
        "id": "r42OPkBqMdrC"
      },
      "execution_count": 79,
      "outputs": []
    },
    {
      "cell_type": "code",
      "source": [
        "all_csv_files[0]"
      ],
      "metadata": {
        "id": "qLYOlN9hM4Sc",
        "outputId": "0cc6f011-47ac-4d95-b3e5-d0d93bdf0710",
        "colab": {
          "base_uri": "https://localhost:8080/"
        }
      },
      "execution_count": 80,
      "outputs": [
        {
          "output_type": "execute_result",
          "data": {
            "text/plain": [
              "PosixPath('sample_data/california_housing_test.csv')"
            ]
          },
          "metadata": {},
          "execution_count": 80
        }
      ]
    },
    {
      "cell_type": "code",
      "source": [
        "with open(all_csv_files[0], newline='\\n') as csvfile:\n",
        "    spamreader = csv.reader(csvfile, delimiter=',', quotechar='\"')\n",
        "    my_data = list(spamreader) # spamreader is a stream of data so we might need to commit it to memory"
      ],
      "metadata": {
        "id": "nd89EPfeMiV4"
      },
      "execution_count": 81,
      "outputs": []
    },
    {
      "cell_type": "code",
      "source": [
        "len(my_data)"
      ],
      "metadata": {
        "id": "-ZnZvXLENVi7",
        "outputId": "63495ef7-368e-41ee-b73d-8691386c5e59",
        "colab": {
          "base_uri": "https://localhost:8080/"
        }
      },
      "execution_count": 82,
      "outputs": [
        {
          "output_type": "execute_result",
          "data": {
            "text/plain": [
              "3001"
            ]
          },
          "metadata": {},
          "execution_count": 82
        }
      ]
    },
    {
      "cell_type": "code",
      "source": [
        "my_data[:3] # so we have our data we would need to convert the strings to numbers\n",
        "# but again pandas library would be better suited for more advanced analysis"
      ],
      "metadata": {
        "id": "8UitbczzNX-n",
        "outputId": "60a71791-8d8c-482e-9f18-db9f487bade0",
        "colab": {
          "base_uri": "https://localhost:8080/"
        }
      },
      "execution_count": 83,
      "outputs": [
        {
          "output_type": "execute_result",
          "data": {
            "text/plain": [
              "[['longitude',\n",
              "  'latitude',\n",
              "  'housing_median_age',\n",
              "  'total_rooms',\n",
              "  'total_bedrooms',\n",
              "  'population',\n",
              "  'households',\n",
              "  'median_income',\n",
              "  'median_house_value'],\n",
              " ['-122.050000',\n",
              "  '37.370000',\n",
              "  '27.000000',\n",
              "  '3885.000000',\n",
              "  '661.000000',\n",
              "  '1537.000000',\n",
              "  '606.000000',\n",
              "  '6.608500',\n",
              "  '344700.000000'],\n",
              " ['-118.300000',\n",
              "  '34.260000',\n",
              "  '43.000000',\n",
              "  '1510.000000',\n",
              "  '310.000000',\n",
              "  '809.000000',\n",
              "  '277.000000',\n",
              "  '3.599000',\n",
              "  '176500.000000']]"
            ]
          },
          "metadata": {},
          "execution_count": 83
        }
      ]
    },
    {
      "cell_type": "code",
      "source": [
        "import shutil\n",
        "\n",
        "shutil.make_archive(\"my_zip_archive\", \"zip\", \"sample_data\")"
      ],
      "metadata": {
        "id": "VfcMvZ6CNj4E",
        "outputId": "999c3188-7201-4f96-b6ea-35485fb3dc6c",
        "colab": {
          "base_uri": "https://localhost:8080/",
          "height": 35
        }
      },
      "execution_count": 85,
      "outputs": [
        {
          "output_type": "execute_result",
          "data": {
            "text/plain": [
              "'/content/my_zip_archive.zip'"
            ],
            "application/vnd.google.colaboratory.intrinsic+json": {
              "type": "string"
            }
          },
          "metadata": {},
          "execution_count": 85
        }
      ]
    },
    {
      "cell_type": "code",
      "source": [
        "# there is also zipfile standard library for more operations with zip files"
      ],
      "metadata": {
        "id": "ZxG5AefjOO2G"
      },
      "execution_count": null,
      "outputs": []
    },
    {
      "cell_type": "code",
      "source": [
        "# there are many more standard library modules - all found "
      ],
      "metadata": {
        "id": "ch3cusCmPHM-"
      },
      "execution_count": null,
      "outputs": []
    }
  ],
  "metadata": {
    "kernelspec": {
      "display_name": "Python 3",
      "language": "python",
      "name": "python3"
    },
    "language_info": {
      "codemirror_mode": {
        "name": "ipython",
        "version": 3
      },
      "file_extension": ".py",
      "mimetype": "text/x-python",
      "name": "python",
      "nbconvert_exporter": "python",
      "pygments_lexer": "ipython3",
      "version": "3.8.3"
    },
    "colab": {
      "name": "Python Standard Library.ipynb",
      "provenance": []
    }
  },
  "nbformat": 4,
  "nbformat_minor": 0
}