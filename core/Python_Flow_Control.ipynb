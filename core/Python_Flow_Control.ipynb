{
  "cells": [
    {
      "cell_type": "code",
      "execution_count": 1,
      "metadata": {
        "id": "tnW9fl5TUoC_",
        "outputId": "48ddc449-42de-410c-f6f2-b3e3df6f69c7",
        "colab": {
          "base_uri": "https://localhost:8080/"
        }
      },
      "outputs": [
        {
          "output_type": "execute_result",
          "data": {
            "text/plain": [
              "True"
            ]
          },
          "metadata": {},
          "execution_count": 1
        }
      ],
      "source": [
        "True # George Boole 19th century mathematician invented boolean algebra\n",
        "# extremely well suited for computers which work with 0s and 1s"
      ]
    },
    {
      "cell_type": "code",
      "execution_count": 3,
      "metadata": {
        "id": "nfPTqyc9UoDF",
        "outputId": "9e151afb-bfa0-4d0d-c734-46a893928344",
        "colab": {
          "base_uri": "https://localhost:8080/"
        }
      },
      "outputs": [
        {
          "output_type": "execute_result",
          "data": {
            "text/plain": [
              "(bool, bool)"
            ]
          },
          "metadata": {},
          "execution_count": 3
        }
      ],
      "source": [
        "type(True), type(False) # there is no Maybe"
      ]
    },
    {
      "cell_type": "code",
      "execution_count": 4,
      "metadata": {
        "id": "9CYGFFwgUoDF",
        "outputId": "8138570e-20f7-46be-f251-1c15f62ad76c",
        "colab": {
          "base_uri": "https://localhost:8080/"
        }
      },
      "outputs": [
        {
          "output_type": "execute_result",
          "data": {
            "text/plain": [
              "False"
            ]
          },
          "metadata": {},
          "execution_count": 4
        }
      ],
      "source": [
        "5 > 7"
      ]
    },
    {
      "cell_type": "code",
      "execution_count": 5,
      "metadata": {
        "id": "Ibif_29AUoDG",
        "outputId": "db6db0fa-e7c8-464d-dd82-07500b0d640b",
        "colab": {
          "base_uri": "https://localhost:8080/"
        }
      },
      "outputs": [
        {
          "output_type": "execute_result",
          "data": {
            "text/plain": [
              "bool"
            ]
          },
          "metadata": {},
          "execution_count": 5
        }
      ],
      "source": [
        "type(5 > 7)"
      ]
    },
    {
      "cell_type": "code",
      "execution_count": 6,
      "metadata": {
        "id": "eJK41rOoUoDG",
        "outputId": "5c1a502e-2fbc-4b20-bad4-e9d1f906c6af",
        "colab": {
          "base_uri": "https://localhost:8080/"
        }
      },
      "outputs": [
        {
          "output_type": "execute_result",
          "data": {
            "text/plain": [
              "True"
            ]
          },
          "metadata": {},
          "execution_count": 6
        }
      ],
      "source": [
        "8 == 18-10  # not to be confused with assignment =   !!!"
      ]
    },
    {
      "cell_type": "code",
      "execution_count": 7,
      "metadata": {
        "id": "LaU6Lf9rUoDH",
        "outputId": "4101de3f-789b-42e1-c1d8-1f65b76ec0e4",
        "colab": {
          "base_uri": "https://localhost:8080/"
        }
      },
      "outputs": [
        {
          "output_type": "execute_result",
          "data": {
            "text/plain": [
              "(True, False)"
            ]
          },
          "metadata": {},
          "execution_count": 7
        }
      ],
      "source": [
        "2*2 == 4, 2*2 == 5"
      ]
    },
    {
      "cell_type": "code",
      "execution_count": 9,
      "metadata": {
        "id": "h4yEuN2lUoDH",
        "outputId": "3b22d7ec-956d-45f2-bd08-6fa30e7c5222",
        "colab": {
          "base_uri": "https://localhost:8080/"
        }
      },
      "outputs": [
        {
          "output_type": "execute_result",
          "data": {
            "text/plain": [
              "False"
            ]
          },
          "metadata": {},
          "execution_count": 9
        }
      ],
      "source": [
        "5 == '5' # these are not the same in Python! because '5' is a string!"
      ]
    },
    {
      "cell_type": "code",
      "execution_count": 10,
      "metadata": {
        "id": "WGI6Xt6KUoDI",
        "outputId": "996180e0-b2eb-4857-815d-9eadcb152fe0",
        "colab": {
          "base_uri": "https://localhost:8080/"
        }
      },
      "outputs": [
        {
          "output_type": "execute_result",
          "data": {
            "text/plain": [
              "True"
            ]
          },
          "metadata": {},
          "execution_count": 10
        }
      ],
      "source": [
        "5 == int('5')"
      ]
    },
    {
      "cell_type": "code",
      "source": [
        "2 < 3"
      ],
      "metadata": {
        "id": "ltmsTc4RVj0n",
        "outputId": "ddf27ef1-caf0-4889-859a-c5e46d849383",
        "colab": {
          "base_uri": "https://localhost:8080/"
        }
      },
      "execution_count": 11,
      "outputs": [
        {
          "output_type": "execute_result",
          "data": {
            "text/plain": [
              "True"
            ]
          },
          "metadata": {},
          "execution_count": 11
        }
      ]
    },
    {
      "cell_type": "code",
      "source": [
        "10 >= 10 # True when left side is greater or equal than right side"
      ],
      "metadata": {
        "id": "VLCUEvTlVo45",
        "outputId": "df344ac7-0c09-4716-e313-a9f01c122fd6",
        "colab": {
          "base_uri": "https://localhost:8080/"
        }
      },
      "execution_count": 12,
      "outputs": [
        {
          "output_type": "execute_result",
          "data": {
            "text/plain": [
              "True"
            ]
          },
          "metadata": {},
          "execution_count": 12
        }
      ]
    },
    {
      "cell_type": "code",
      "execution_count": 13,
      "metadata": {
        "id": "h4V4UZSvUoDJ",
        "outputId": "2527046c-3f98-4bbb-cce9-28aade0fd3ca",
        "colab": {
          "base_uri": "https://localhost:8080/"
        }
      },
      "outputs": [
        {
          "output_type": "execute_result",
          "data": {
            "text/plain": [
              "(True, True, False)"
            ]
          },
          "metadata": {},
          "execution_count": 13
        }
      ],
      "source": [
        "5 <= 6, 5 <= 5, 6 <= 5"
      ]
    },
    {
      "cell_type": "code",
      "source": [
        "a = 2\n",
        "b = 3\n",
        "a < b"
      ],
      "metadata": {
        "id": "BX7mYpTFV3ZZ",
        "outputId": "a9a46eb5-20ce-4603-cb48-1ecfa2d2b227",
        "colab": {
          "base_uri": "https://localhost:8080/"
        }
      },
      "execution_count": 14,
      "outputs": [
        {
          "output_type": "execute_result",
          "data": {
            "text/plain": [
              "True"
            ]
          },
          "metadata": {},
          "execution_count": 14
        }
      ]
    },
    {
      "cell_type": "code",
      "source": [
        "a < b, a > b"
      ],
      "metadata": {
        "id": "yhYS3gvIWCTg",
        "outputId": "741a49c7-3a0b-46c5-8394-4b22666fd4a8",
        "colab": {
          "base_uri": "https://localhost:8080/"
        }
      },
      "execution_count": 16,
      "outputs": [
        {
          "output_type": "execute_result",
          "data": {
            "text/plain": [
              "(True, False)"
            ]
          },
          "metadata": {},
          "execution_count": 16
        }
      ]
    },
    {
      "cell_type": "code",
      "source": [
        "# Inequality"
      ],
      "metadata": {
        "id": "URGUzXWqWKK-"
      },
      "execution_count": 17,
      "outputs": []
    },
    {
      "cell_type": "code",
      "source": [
        "5 != 4 # this is a True statement "
      ],
      "metadata": {
        "id": "ibwelRTXWPgH",
        "outputId": "7def422a-4584-48c5-943b-9c2c188b4016",
        "colab": {
          "base_uri": "https://localhost:8080/"
        }
      },
      "execution_count": 18,
      "outputs": [
        {
          "output_type": "execute_result",
          "data": {
            "text/plain": [
              "True"
            ]
          },
          "metadata": {},
          "execution_count": 18
        }
      ]
    },
    {
      "cell_type": "code",
      "execution_count": 19,
      "metadata": {
        "id": "Zm3aaNP1UoDJ",
        "outputId": "66b6af25-3f59-4c8e-9423-dad9f675062b",
        "colab": {
          "base_uri": "https://localhost:8080/"
        }
      },
      "outputs": [
        {
          "output_type": "execute_result",
          "data": {
            "text/plain": [
              "True"
            ]
          },
          "metadata": {},
          "execution_count": 19
        }
      ],
      "source": [
        "5 != 6\n"
      ]
    },
    {
      "cell_type": "code",
      "source": [
        "5 != 5  # This is False  because they are in fact equal"
      ],
      "metadata": {
        "id": "PSmiLxXbWYi7",
        "outputId": "1d766abb-7b26-4809-8843-7db7dc42b815",
        "colab": {
          "base_uri": "https://localhost:8080/"
        }
      },
      "execution_count": 20,
      "outputs": [
        {
          "output_type": "execute_result",
          "data": {
            "text/plain": [
              "False"
            ]
          },
          "metadata": {},
          "execution_count": 20
        }
      ]
    },
    {
      "cell_type": "code",
      "source": [
        "a * a == 4"
      ],
      "metadata": {
        "id": "_5r5m202Whdq",
        "outputId": "01d2ab9b-4c5e-49c1-9486-236dc065e8a3",
        "colab": {
          "base_uri": "https://localhost:8080/"
        }
      },
      "execution_count": 21,
      "outputs": [
        {
          "output_type": "execute_result",
          "data": {
            "text/plain": [
              "True"
            ]
          },
          "metadata": {},
          "execution_count": 21
        }
      ]
    },
    {
      "cell_type": "code",
      "source": [
        "a * a != 4  # False because in fact a*a is equal to 4"
      ],
      "metadata": {
        "id": "U5jLPMOPWq5B",
        "outputId": "3e39d26a-fa90-4337-96ab-78369a074edf",
        "colab": {
          "base_uri": "https://localhost:8080/"
        }
      },
      "execution_count": 23,
      "outputs": [
        {
          "output_type": "execute_result",
          "data": {
            "text/plain": [
              "False"
            ]
          },
          "metadata": {},
          "execution_count": 23
        }
      ]
    },
    {
      "cell_type": "code",
      "source": [
        "2 < 3 < 4 < 6  # we can chain comparisons together"
      ],
      "metadata": {
        "id": "pAKoSR9VWy5J",
        "outputId": "9a681020-f7df-4d95-8138-e6e19a9bbc62",
        "colab": {
          "base_uri": "https://localhost:8080/"
        }
      },
      "execution_count": 24,
      "outputs": [
        {
          "output_type": "execute_result",
          "data": {
            "text/plain": [
              "True"
            ]
          },
          "metadata": {},
          "execution_count": 24
        }
      ]
    },
    {
      "cell_type": "code",
      "source": [
        "2 < 3 == 4 < 6"
      ],
      "metadata": {
        "id": "7tW8LGSNW8u0",
        "outputId": "b0a002a1-53f1-411a-bcf3-12590496b7eb",
        "colab": {
          "base_uri": "https://localhost:8080/"
        }
      },
      "execution_count": 25,
      "outputs": [
        {
          "output_type": "execute_result",
          "data": {
            "text/plain": [
              "False"
            ]
          },
          "metadata": {},
          "execution_count": 25
        }
      ]
    },
    {
      "cell_type": "code",
      "source": [
        "a < b < 100"
      ],
      "metadata": {
        "id": "f3UEFd2HXC1V",
        "outputId": "a02757be-f2c4-4e4e-cc7a-43a009bb4032",
        "colab": {
          "base_uri": "https://localhost:8080/"
        }
      },
      "execution_count": 26,
      "outputs": [
        {
          "output_type": "execute_result",
          "data": {
            "text/plain": [
              "True"
            ]
          },
          "metadata": {},
          "execution_count": 26
        }
      ]
    },
    {
      "cell_type": "code",
      "source": [
        "a,b\n"
      ],
      "metadata": {
        "id": "xtazCLECXIjS",
        "outputId": "49ed068d-c9c2-443a-820d-be0e8dafa453",
        "colab": {
          "base_uri": "https://localhost:8080/"
        }
      },
      "execution_count": 27,
      "outputs": [
        {
          "output_type": "execute_result",
          "data": {
            "text/plain": [
              "(2, 3)"
            ]
          },
          "metadata": {},
          "execution_count": 27
        }
      ]
    },
    {
      "cell_type": "code",
      "execution_count": 29,
      "metadata": {
        "id": "xWphVI5cUoDK",
        "outputId": "84a9b4eb-648a-4231-a1d9-e17e81382b21",
        "colab": {
          "base_uri": "https://localhost:8080/"
        }
      },
      "outputs": [
        {
          "output_type": "execute_result",
          "data": {
            "text/plain": [
              "True"
            ]
          },
          "metadata": {},
          "execution_count": 29
        }
      ],
      "source": [
        "'VALDIS' < 'VOLDEMARS' # what is being compared here?"
      ]
    },
    {
      "cell_type": "code",
      "execution_count": 30,
      "metadata": {
        "id": "fnos6E7iUoDL",
        "outputId": "8d93dea4-025a-494f-d901-ef9d1c904734",
        "colab": {
          "base_uri": "https://localhost:8080/"
        }
      },
      "outputs": [
        {
          "output_type": "execute_result",
          "data": {
            "text/plain": [
              "True"
            ]
          },
          "metadata": {},
          "execution_count": 30
        }
      ],
      "source": [
        "len('VALDIS') < len('VOLDEMARS')  # if you want to  compare string lengths this is what you would use"
      ]
    },
    {
      "cell_type": "code",
      "execution_count": 31,
      "metadata": {
        "id": "jt2ugr9sUoDL",
        "outputId": "e20f1631-3bde-430a-a996-ffd518566364",
        "colab": {
          "base_uri": "https://localhost:8080/"
        }
      },
      "outputs": [
        {
          "output_type": "execute_result",
          "data": {
            "text/plain": [
              "True"
            ]
          },
          "metadata": {},
          "execution_count": 31
        }
      ],
      "source": [
        "'VALDIS' < 'VOLD'"
      ]
    },
    {
      "cell_type": "code",
      "source": [
        "'Valdis' < 'VALDIS'  # should be False, because lowercase a has a higher ascii (and Unicode) value over capital A"
      ],
      "metadata": {
        "id": "VXpx69XWYEkk",
        "outputId": "41ba53da-f567-476c-a51a-8dc48f626d60",
        "colab": {
          "base_uri": "https://localhost:8080/"
        }
      },
      "execution_count": 34,
      "outputs": [
        {
          "output_type": "execute_result",
          "data": {
            "text/plain": [
              "False"
            ]
          },
          "metadata": {},
          "execution_count": 34
        }
      ]
    },
    {
      "cell_type": "code",
      "execution_count": 35,
      "metadata": {
        "id": "hBimAzIzUoDL",
        "outputId": "fb69beaf-85ec-4f1c-8301-138b8acbe944",
        "colab": {
          "base_uri": "https://localhost:8080/"
        }
      },
      "outputs": [
        {
          "output_type": "execute_result",
          "data": {
            "text/plain": [
              "True"
            ]
          },
          "metadata": {},
          "execution_count": 35
        }
      ],
      "source": [
        "'VALDIS' < 'VB'"
      ]
    },
    {
      "cell_type": "code",
      "execution_count": 36,
      "metadata": {
        "id": "w21YP3ELUoDL",
        "outputId": "7aaf0bb3-09f5-46f8-bbce-b4bb0b8a2686",
        "colab": {
          "base_uri": "https://localhost:8080/"
        }
      },
      "outputs": [
        {
          "output_type": "execute_result",
          "data": {
            "text/plain": [
              "(False, True)"
            ]
          },
          "metadata": {},
          "execution_count": 36
        }
      ],
      "source": [
        "'ZALDIS' < 'VB',  'ZALDIS' > 'VB'"
      ]
    },
    {
      "cell_type": "code",
      "execution_count": 37,
      "metadata": {
        "id": "kg4pIRXbUoDM",
        "outputId": "b1a4f496-7969-484f-cf91-7a7f86602c05",
        "colab": {
          "base_uri": "https://localhost:8080/"
        }
      },
      "outputs": [
        {
          "output_type": "execute_result",
          "data": {
            "text/plain": [
              "True"
            ]
          },
          "metadata": {},
          "execution_count": 37
        }
      ],
      "source": [
        "'Valdis' > 'VALDIS' # because a comes after A"
      ]
    },
    {
      "cell_type": "code",
      "source": [
        "len('VALDIS'), len('VOLDEMARS')"
      ],
      "metadata": {
        "id": "D_AEXhiwYXnD",
        "outputId": "ee1371ad-e414-4631-edc9-e7f6077a55f4",
        "colab": {
          "base_uri": "https://localhost:8080/"
        }
      },
      "execution_count": 39,
      "outputs": [
        {
          "output_type": "execute_result",
          "data": {
            "text/plain": [
              "(6, 9)"
            ]
          },
          "metadata": {},
          "execution_count": 39
        }
      ]
    },
    {
      "cell_type": "code",
      "execution_count": null,
      "metadata": {
        "id": "FnnQMQeyUoDM"
      },
      "outputs": [],
      "source": [
        "len('VALDIS') < len('VOLDEMARS')\n",
        "\n",
        "# We check each letter from left side\n",
        "# on mismatch we check ASCII (UTF-8) tables for values\n",
        "\n",
        "'VALDIS' < 'VOLDEMARS'"
      ]
    },
    {
      "cell_type": "code",
      "execution_count": 40,
      "metadata": {
        "id": "due0CNnsUoDM",
        "outputId": "dcca420a-5091-4c5f-80b5-6062ba596d76",
        "colab": {
          "base_uri": "https://localhost:8080/"
        }
      },
      "outputs": [
        {
          "output_type": "execute_result",
          "data": {
            "text/plain": [
              "False"
            ]
          },
          "metadata": {},
          "execution_count": 40
        }
      ],
      "source": [
        "'kaķis' < 'kakis' # cat vs cat in Latvian, False because ķ has higher Unicode value"
      ]
    },
    {
      "cell_type": "code",
      "execution_count": 41,
      "metadata": {
        "id": "K0D4jB5ZUoDN",
        "outputId": "ca1930ef-67ef-4b24-aceb-1e4e672c2a1a",
        "colab": {
          "base_uri": "https://localhost:8080/",
          "height": 35
        }
      },
      "outputs": [
        {
          "output_type": "execute_result",
          "data": {
            "application/vnd.google.colaboratory.intrinsic+json": {
              "type": "string"
            },
            "text/plain": [
              "'A'"
            ]
          },
          "metadata": {},
          "execution_count": 41
        }
      ],
      "source": [
        "chr(65)"
      ]
    },
    {
      "cell_type": "code",
      "execution_count": 42,
      "metadata": {
        "id": "HuhERVnTUoDN",
        "outputId": "3da8c351-51d1-4719-cf16-3287571baeaa",
        "colab": {
          "base_uri": "https://localhost:8080/",
          "height": 35
        }
      },
      "outputs": [
        {
          "output_type": "execute_result",
          "data": {
            "application/vnd.google.colaboratory.intrinsic+json": {
              "type": "string"
            },
            "text/plain": [
              "'Ɛ'"
            ]
          },
          "metadata": {},
          "execution_count": 42
        }
      ],
      "source": [
        "chr(400) # so you can get UTF-8 characters out of their code numbers"
      ]
    },
    {
      "cell_type": "code",
      "execution_count": 43,
      "metadata": {
        "id": "hjBxffRMUoDO",
        "outputId": "00f6d4cd-7ff5-42c8-ddd0-a682317a8359",
        "colab": {
          "base_uri": "https://localhost:8080/",
          "height": 35
        }
      },
      "outputs": [
        {
          "output_type": "execute_result",
          "data": {
            "application/vnd.google.colaboratory.intrinsic+json": {
              "type": "string"
            },
            "text/plain": [
              "'ྠ'"
            ]
          },
          "metadata": {},
          "execution_count": 43
        }
      ],
      "source": [
        "chr(4000)"
      ]
    },
    {
      "cell_type": "code",
      "execution_count": 44,
      "metadata": {
        "id": "-ZZKuDCLUoDP",
        "outputId": "b0882617-09b1-4df2-fbf6-a2b433903c00",
        "colab": {
          "base_uri": "https://localhost:8080/",
          "height": 35
        }
      },
      "outputs": [
        {
          "output_type": "execute_result",
          "data": {
            "application/vnd.google.colaboratory.intrinsic+json": {
              "type": "string"
            },
            "text/plain": [
              "'鱀'"
            ]
          },
          "metadata": {},
          "execution_count": 44
        }
      ],
      "source": [
        "chr(40000)"
      ]
    },
    {
      "cell_type": "code",
      "execution_count": 45,
      "metadata": {
        "id": "hP2c8vPOUoDP",
        "outputId": "49796a36-a44f-4e30-f7a3-a0a588f826b3",
        "colab": {
          "base_uri": "https://localhost:8080/",
          "height": 35
        }
      },
      "outputs": [
        {
          "output_type": "execute_result",
          "data": {
            "application/vnd.google.colaboratory.intrinsic+json": {
              "type": "string"
            },
            "text/plain": [
              "'𘚠'"
            ]
          },
          "metadata": {},
          "execution_count": 45
        }
      ],
      "source": [
        "chr(100000)"
      ]
    },
    {
      "cell_type": "code",
      "execution_count": null,
      "metadata": {
        "id": "Xswm1IdVUoDQ"
      },
      "outputs": [],
      "source": [
        ""
      ]
    },
    {
      "cell_type": "code",
      "execution_count": 46,
      "metadata": {
        "id": "U6vV29J-UoDQ",
        "outputId": "d7e36eba-1e0f-44ab-e243-8290a4439740",
        "colab": {
          "base_uri": "https://localhost:8080/"
        }
      },
      "outputs": [
        {
          "output_type": "execute_result",
          "data": {
            "text/plain": [
              "311"
            ]
          },
          "metadata": {},
          "execution_count": 46
        }
      ],
      "source": [
        "# ord gets you integer value representing unicode value\n",
        "ord('ķ')"
      ]
    },
    {
      "cell_type": "code",
      "execution_count": 47,
      "metadata": {
        "id": "-PzGlfZwUoDR",
        "outputId": "2abc4eaa-a66e-4077-a85c-c2da074a0a43",
        "colab": {
          "base_uri": "https://localhost:8080/"
        }
      },
      "outputs": [
        {
          "output_type": "execute_result",
          "data": {
            "text/plain": [
              "310"
            ]
          },
          "metadata": {},
          "execution_count": 47
        }
      ],
      "source": [
        "ord('Ķ')"
      ]
    },
    {
      "cell_type": "code",
      "execution_count": 48,
      "metadata": {
        "id": "zXCifr3EUoDR",
        "outputId": "318733b4-5f64-4569-821d-71c4e919c71d",
        "colab": {
          "base_uri": "https://localhost:8080/"
        }
      },
      "outputs": [
        {
          "output_type": "execute_result",
          "data": {
            "text/plain": [
              "(256, 257)"
            ]
          },
          "metadata": {},
          "execution_count": 48
        }
      ],
      "source": [
        "ord('Ā'),ord('ā')"
      ]
    },
    {
      "cell_type": "code",
      "source": [
        "ord('😀')"
      ],
      "metadata": {
        "id": "-q2P3ZDyYxpK",
        "outputId": "1ff5621d-20b7-44ec-8d7b-7995079bf43f",
        "colab": {
          "base_uri": "https://localhost:8080/"
        }
      },
      "execution_count": 49,
      "outputs": [
        {
          "output_type": "execute_result",
          "data": {
            "text/plain": [
              "128512"
            ]
          },
          "metadata": {},
          "execution_count": 49
        }
      ]
    },
    {
      "cell_type": "code",
      "source": [
        "int(\"0x1f600\", 16)  # so unicode.org was giving us the values in hex format which is base 16, meaning hex A = 10 in decimal, hex F is 15 in decimal"
      ],
      "metadata": {
        "id": "EbIvtUfrY3GS",
        "outputId": "2c71dec5-8709-40c5-b286-6d1c9dabe570",
        "colab": {
          "base_uri": "https://localhost:8080/"
        }
      },
      "execution_count": 51,
      "outputs": [
        {
          "output_type": "execute_result",
          "data": {
            "text/plain": [
              "128512"
            ]
          },
          "metadata": {},
          "execution_count": 51
        }
      ]
    },
    {
      "cell_type": "code",
      "source": [
        "int(\"01111011\", 2)"
      ],
      "metadata": {
        "id": "Noe39X8dZNXb",
        "outputId": "b1c3364a-710f-4d54-af5a-287ec9c7cf1b",
        "colab": {
          "base_uri": "https://localhost:8080/"
        }
      },
      "execution_count": 52,
      "outputs": [
        {
          "output_type": "execute_result",
          "data": {
            "text/plain": [
              "123"
            ]
          },
          "metadata": {},
          "execution_count": 52
        }
      ]
    },
    {
      "cell_type": "code",
      "source": [
        "int(\"111\", 2) # this is 7 because , we have 4 + 2 + 1 which are powers of 2"
      ],
      "metadata": {
        "id": "owaGkZGxZSXU",
        "outputId": "823da834-4c07-4dab-f990-694d69fa1b34",
        "colab": {
          "base_uri": "https://localhost:8080/"
        }
      },
      "execution_count": 53,
      "outputs": [
        {
          "output_type": "execute_result",
          "data": {
            "text/plain": [
              "7"
            ]
          },
          "metadata": {},
          "execution_count": 53
        }
      ]
    },
    {
      "cell_type": "code",
      "source": [
        "'😀' < '😁'  # True because of the Unicode values https://unicode.org/"
      ],
      "metadata": {
        "id": "onYCZknDZ2aW",
        "outputId": "cf4566ff-8491-444c-f5c2-a2b33fe3d6fe",
        "colab": {
          "base_uri": "https://localhost:8080/"
        }
      },
      "execution_count": 54,
      "outputs": [
        {
          "output_type": "execute_result",
          "data": {
            "text/plain": [
              "True"
            ]
          },
          "metadata": {},
          "execution_count": 54
        }
      ]
    },
    {
      "cell_type": "code",
      "execution_count": 55,
      "metadata": {
        "id": "hK_8qu5AUoDS",
        "outputId": "9e75999c-288d-4aa3-e55d-dacedd4a908f",
        "colab": {
          "base_uri": "https://localhost:8080/"
        }
      },
      "outputs": [
        {
          "output_type": "execute_result",
          "data": {
            "text/plain": [
              "False"
            ]
          },
          "metadata": {},
          "execution_count": 55
        }
      ],
      "source": [
        "'Valdis'  < \"VOLDEMARS\"  # False because a has a higher ASCII (and Unicode) value than O"
      ]
    },
    {
      "cell_type": "code",
      "execution_count": 56,
      "metadata": {
        "id": "3wXF9mFpUoDS",
        "outputId": "61b34db9-31a7-4eb5-a6f0-2623afce12ba",
        "colab": {
          "base_uri": "https://localhost:8080/"
        }
      },
      "outputs": [
        {
          "output_type": "stream",
          "name": "stdout",
          "text": [
            "a\n"
          ]
        }
      ],
      "source": [
        "print(chr(97))"
      ]
    },
    {
      "cell_type": "code",
      "execution_count": 57,
      "metadata": {
        "id": "6-FEbx2vUoDS",
        "outputId": "7b3ef854-76a2-4b2c-f824-e4b06523d2a0",
        "colab": {
          "base_uri": "https://localhost:8080/",
          "height": 35
        }
      },
      "outputs": [
        {
          "output_type": "execute_result",
          "data": {
            "application/vnd.google.colaboratory.intrinsic+json": {
              "type": "string"
            },
            "text/plain": [
              "'ྠ'"
            ]
          },
          "metadata": {},
          "execution_count": 57
        }
      ],
      "source": [
        "chr(4000)"
      ]
    },
    {
      "cell_type": "code",
      "execution_count": null,
      "metadata": {
        "id": "tDjApeENUoDS"
      },
      "outputs": [],
      "source": [
        "ord(\"ā\")"
      ]
    },
    {
      "cell_type": "code",
      "source": [
        "ord('😁')"
      ],
      "metadata": {
        "id": "5oDPCLqraTm4",
        "outputId": "b68a5529-d05a-47e1-e277-801061439056",
        "colab": {
          "base_uri": "https://localhost:8080/"
        }
      },
      "execution_count": 58,
      "outputs": [
        {
          "output_type": "execute_result",
          "data": {
            "text/plain": [
              "128513"
            ]
          },
          "metadata": {},
          "execution_count": 58
        }
      ]
    },
    {
      "cell_type": "code",
      "execution_count": null,
      "metadata": {
        "id": "oTAQQ0APUoDS"
      },
      "outputs": [],
      "source": [
        "ord('Ķ')"
      ]
    },
    {
      "cell_type": "code",
      "execution_count": null,
      "metadata": {
        "id": "fRVEKucKUoDS"
      },
      "outputs": [],
      "source": [
        "list(range(5))"
      ]
    },
    {
      "cell_type": "code",
      "source": [
        "0 == 0"
      ],
      "metadata": {
        "id": "rwJGBID4adOr",
        "outputId": "30027aff-e647-48ed-926a-20e9bac7cfa4",
        "colab": {
          "base_uri": "https://localhost:8080/"
        }
      },
      "execution_count": 59,
      "outputs": [
        {
          "output_type": "execute_result",
          "data": {
            "text/plain": [
              "True"
            ]
          },
          "metadata": {},
          "execution_count": 59
        }
      ]
    },
    {
      "cell_type": "code",
      "source": [
        "0.1+0.2-0.3 == 0  # False because of floating point imprecision"
      ],
      "metadata": {
        "id": "V9dkc3QBaenQ",
        "outputId": "aef524a8-e45d-4fdf-877f-781c83ff2400",
        "colab": {
          "base_uri": "https://localhost:8080/"
        }
      },
      "execution_count": 64,
      "outputs": [
        {
          "output_type": "execute_result",
          "data": {
            "text/plain": [
              "False"
            ]
          },
          "metadata": {},
          "execution_count": 64
        }
      ]
    },
    {
      "cell_type": "code",
      "source": [
        "round(0.1+0.2) == 0  # True because 0.3 rounded down is 0"
      ],
      "metadata": {
        "id": "sXo05eysakm2",
        "outputId": "6aaf86b1-286b-464d-c5ec-baef2711758f",
        "colab": {
          "base_uri": "https://localhost:8080/"
        }
      },
      "execution_count": 61,
      "outputs": [
        {
          "output_type": "execute_result",
          "data": {
            "text/plain": [
              "True"
            ]
          },
          "metadata": {},
          "execution_count": 61
        }
      ]
    },
    {
      "cell_type": "code",
      "source": [
        "round(0.1+0.2, 5) == 0  # Fals because with 5 digit precision we get 0.3 and that is not equal to 0"
      ],
      "metadata": {
        "id": "5n7lQqjZaoO9",
        "outputId": "07dde4ea-3c91-43eb-ace6-96ab33e39d0d",
        "colab": {
          "base_uri": "https://localhost:8080/"
        }
      },
      "execution_count": 62,
      "outputs": [
        {
          "output_type": "execute_result",
          "data": {
            "text/plain": [
              "False"
            ]
          },
          "metadata": {},
          "execution_count": 62
        }
      ]
    },
    {
      "cell_type": "code",
      "source": [
        "round(0.1+0.2, 5)"
      ],
      "metadata": {
        "id": "CQ2ZT2WOasiz",
        "outputId": "aed2abf9-473f-423a-c8ff-a0f382e3e640",
        "colab": {
          "base_uri": "https://localhost:8080/"
        }
      },
      "execution_count": 65,
      "outputs": [
        {
          "output_type": "execute_result",
          "data": {
            "text/plain": [
              "0.3"
            ]
          },
          "metadata": {},
          "execution_count": 65
        }
      ]
    },
    {
      "cell_type": "code",
      "source": [
        "0.1+0.2-0.3"
      ],
      "metadata": {
        "id": "G43cDWGra66Z",
        "outputId": "ba095b47-99e5-4d78-af22-65d86c8a152b",
        "colab": {
          "base_uri": "https://localhost:8080/"
        }
      },
      "execution_count": 66,
      "outputs": [
        {
          "output_type": "execute_result",
          "data": {
            "text/plain": [
              "5.551115123125783e-17"
            ]
          },
          "metadata": {},
          "execution_count": 66
        }
      ]
    },
    {
      "cell_type": "code",
      "source": [
        "round(0.1+0.2-0.3, 6)"
      ],
      "metadata": {
        "id": "PHYJUITHa9ZZ",
        "outputId": "3b80cb29-3ede-46f8-f4d6-69580ccdca43",
        "colab": {
          "base_uri": "https://localhost:8080/"
        }
      },
      "execution_count": 67,
      "outputs": [
        {
          "output_type": "execute_result",
          "data": {
            "text/plain": [
              "0.0"
            ]
          },
          "metadata": {},
          "execution_count": 67
        }
      ]
    },
    {
      "cell_type": "code",
      "source": [
        "round(0.1+0.2-0.3, 5) == 0 # so i can round to 5 digit precision and then the equality will work"
      ],
      "metadata": {
        "id": "Aqn9Yy8XbBQq",
        "outputId": "319e81ff-0b3b-4857-b918-3dbe5a84bc97",
        "colab": {
          "base_uri": "https://localhost:8080/"
        }
      },
      "execution_count": 69,
      "outputs": [
        {
          "output_type": "execute_result",
          "data": {
            "text/plain": [
              "True"
            ]
          },
          "metadata": {},
          "execution_count": 69
        }
      ]
    },
    {
      "cell_type": "markdown",
      "source": [
        "## is identity comparison"
      ],
      "metadata": {
        "id": "w0TvX5NMbOW1"
      }
    },
    {
      "cell_type": "code",
      "source": [
        "a is b # generally we use == for comparision, this is equivalent to  id(a) == id(b) so checks if a and b refence the same object in memory"
      ],
      "metadata": {
        "id": "e2KTiPU-bNBP",
        "outputId": "c7dceb88-5568-469d-baaf-3fb2d9f50a6b",
        "colab": {
          "base_uri": "https://localhost:8080/"
        }
      },
      "execution_count": 72,
      "outputs": [
        {
          "output_type": "execute_result",
          "data": {
            "text/plain": [
              "False"
            ]
          },
          "metadata": {},
          "execution_count": 72
        }
      ]
    },
    {
      "cell_type": "code",
      "source": [
        "5 is 4 # avoid, use == for numeric comparison"
      ],
      "metadata": {
        "id": "eZf2lbwpbq21",
        "outputId": "3ab1dd2b-edd8-4020-c8be-9bf441e93757",
        "colab": {
          "base_uri": "https://localhost:8080/"
        }
      },
      "execution_count": 73,
      "outputs": [
        {
          "output_type": "execute_result",
          "data": {
            "text/plain": [
              "False"
            ]
          },
          "metadata": {},
          "execution_count": 73
        }
      ]
    },
    {
      "cell_type": "code",
      "source": [
        "# is is useful when we compare two more complex objects, data structures and we want to know whether they refer to same object or are copies of this object"
      ],
      "metadata": {
        "id": "2MpmLQJibxTg"
      },
      "execution_count": null,
      "outputs": []
    },
    {
      "cell_type": "code",
      "source": [
        "# overusing is can lead to false negative bugs"
      ],
      "metadata": {
        "id": "XAYHIWIucCGI"
      },
      "execution_count": null,
      "outputs": []
    },
    {
      "cell_type": "code",
      "source": [
        "bool(1)  # actually most values are Truthy that is bool(somevalue) will give True"
      ],
      "metadata": {
        "id": "0CmTWP_Xc2KB",
        "outputId": "8c9223a6-8759-4d06-acea-8b43462353a4",
        "colab": {
          "base_uri": "https://localhost:8080/"
        }
      },
      "execution_count": 76,
      "outputs": [
        {
          "output_type": "execute_result",
          "data": {
            "text/plain": [
              "True"
            ]
          },
          "metadata": {},
          "execution_count": 76
        }
      ]
    },
    {
      "cell_type": "code",
      "source": [
        "bool(\"Valdis\")"
      ],
      "metadata": {
        "id": "8C1G4-aLdDif",
        "outputId": "ff41b7f7-35aa-4632-fdc2-3faf7c9b8330",
        "colab": {
          "base_uri": "https://localhost:8080/"
        }
      },
      "execution_count": 80,
      "outputs": [
        {
          "output_type": "execute_result",
          "data": {
            "text/plain": [
              "True"
            ]
          },
          "metadata": {},
          "execution_count": 80
        }
      ]
    },
    {
      "cell_type": "code",
      "source": [
        "bool(9001)"
      ],
      "metadata": {
        "id": "V6MDoI9mdGXh",
        "outputId": "93ba31fb-8c3f-4f87-b641-387b1568026f",
        "colab": {
          "base_uri": "https://localhost:8080/"
        }
      },
      "execution_count": 81,
      "outputs": [
        {
          "output_type": "execute_result",
          "data": {
            "text/plain": [
              "True"
            ]
          },
          "metadata": {},
          "execution_count": 81
        }
      ]
    },
    {
      "cell_type": "code",
      "source": [
        "bool(-1)"
      ],
      "metadata": {
        "id": "1SifwY02dInI",
        "outputId": "f616f57a-1083-4aa5-92e7-d34d9fd8bc3b",
        "colab": {
          "base_uri": "https://localhost:8080/"
        }
      },
      "execution_count": 82,
      "outputs": [
        {
          "output_type": "execute_result",
          "data": {
            "text/plain": [
              "True"
            ]
          },
          "metadata": {},
          "execution_count": 82
        }
      ]
    },
    {
      "cell_type": "code",
      "source": [
        "bool(None)  # therea are a few more falsy values, that is values that give False when converted with bool(somevalue)"
      ],
      "metadata": {
        "id": "_Q-HJEa-dMW4",
        "outputId": "8e4826d2-92ba-4061-eca5-9cf5ed818cbe",
        "colab": {
          "base_uri": "https://localhost:8080/"
        }
      },
      "execution_count": 83,
      "outputs": [
        {
          "output_type": "execute_result",
          "data": {
            "text/plain": [
              "False"
            ]
          },
          "metadata": {},
          "execution_count": 83
        }
      ]
    },
    {
      "cell_type": "code",
      "source": [
        "int(True)"
      ],
      "metadata": {
        "id": "dkL0U2P4c49z",
        "outputId": "9204924f-9c15-4803-f233-4cc72fc06c45",
        "colab": {
          "base_uri": "https://localhost:8080/"
        }
      },
      "execution_count": 77,
      "outputs": [
        {
          "output_type": "execute_result",
          "data": {
            "text/plain": [
              "1"
            ]
          },
          "metadata": {},
          "execution_count": 77
        }
      ]
    },
    {
      "cell_type": "code",
      "source": [
        "bool(0)"
      ],
      "metadata": {
        "id": "rcwk1W2fc648",
        "outputId": "5f1fc623-befa-490d-a4da-e695251df87e",
        "colab": {
          "base_uri": "https://localhost:8080/"
        }
      },
      "execution_count": 78,
      "outputs": [
        {
          "output_type": "execute_result",
          "data": {
            "text/plain": [
              "False"
            ]
          },
          "metadata": {},
          "execution_count": 78
        }
      ]
    },
    {
      "cell_type": "code",
      "source": [
        "int(False)"
      ],
      "metadata": {
        "id": "DLOvWmSVc8cj",
        "outputId": "1b9a6434-abee-4dba-a7d8-f68107c3678d",
        "colab": {
          "base_uri": "https://localhost:8080/"
        }
      },
      "execution_count": 79,
      "outputs": [
        {
          "output_type": "execute_result",
          "data": {
            "text/plain": [
              "0"
            ]
          },
          "metadata": {},
          "execution_count": 79
        }
      ]
    },
    {
      "cell_type": "markdown",
      "metadata": {
        "id": "z9ndrBRnUoDT"
      },
      "source": [
        "# Logical Operators"
      ]
    },
    {
      "cell_type": "code",
      "execution_count": 74,
      "metadata": {
        "id": "WV0D_c0PUoDK",
        "outputId": "28e68307-046e-42ef-cfa0-d823e24105d9",
        "colab": {
          "base_uri": "https://localhost:8080/"
        }
      },
      "outputs": [
        {
          "output_type": "execute_result",
          "data": {
            "text/plain": [
              "(False, True)"
            ]
          },
          "metadata": {},
          "execution_count": 74
        }
      ],
      "source": [
        "not True, not False # so this logical negation, # other computer languages use ! for negation not Python"
      ]
    },
    {
      "cell_type": "code",
      "source": [
        ""
      ],
      "metadata": {
        "id": "Hf5hEtCXc1P-"
      },
      "execution_count": null,
      "outputs": []
    },
    {
      "cell_type": "code",
      "source": [
        "not 2*2 == 4 # False because the right side is true, and we start evaluation from the right side"
      ],
      "metadata": {
        "id": "CTu-PH5CcgKh",
        "outputId": "bd33cc0b-d1c6-4c9a-9720-432d76d733b3",
        "colab": {
          "base_uri": "https://localhost:8080/"
        }
      },
      "execution_count": 75,
      "outputs": [
        {
          "output_type": "execute_result",
          "data": {
            "text/plain": [
              "False"
            ]
          },
          "metadata": {},
          "execution_count": 75
        }
      ]
    },
    {
      "cell_type": "code",
      "source": [
        ""
      ],
      "metadata": {
        "id": "306Z1Mw2csaX"
      },
      "execution_count": null,
      "outputs": []
    },
    {
      "cell_type": "code",
      "execution_count": null,
      "metadata": {
        "id": "LnSYyTLWUoDU"
      },
      "outputs": [],
      "source": [
        "# and is only only true if both sides are true, otherwise false"
      ]
    },
    {
      "cell_type": "markdown",
      "source": [
        "## Logical Conjuction with and"
      ],
      "metadata": {
        "id": "MdNSE7B0dnuW"
      }
    },
    {
      "cell_type": "code",
      "execution_count": 84,
      "metadata": {
        "id": "YnBiaxNtUoDV",
        "outputId": "986fce67-57b3-47ee-d2da-101f7e0cf32c",
        "colab": {
          "base_uri": "https://localhost:8080/"
        }
      },
      "outputs": [
        {
          "output_type": "execute_result",
          "data": {
            "text/plain": [
              "True"
            ]
          },
          "metadata": {},
          "execution_count": 84
        }
      ],
      "source": [
        "True and True"
      ]
    },
    {
      "cell_type": "code",
      "execution_count": 85,
      "metadata": {
        "id": "BJAnnIdoUoDV",
        "outputId": "b1b8e514-f336-40ff-b377-d96b9afdd4ad",
        "colab": {
          "base_uri": "https://localhost:8080/"
        }
      },
      "outputs": [
        {
          "output_type": "execute_result",
          "data": {
            "text/plain": [
              "False"
            ]
          },
          "metadata": {},
          "execution_count": 85
        }
      ],
      "source": [
        "True and False # and requires for BOTH sides to be true"
      ]
    },
    {
      "cell_type": "code",
      "execution_count": 86,
      "metadata": {
        "id": "6idAT4PBUoDW",
        "outputId": "f21f2862-84bd-4559-9f1c-7c0d1d3aa729",
        "colab": {
          "base_uri": "https://localhost:8080/"
        }
      },
      "outputs": [
        {
          "output_type": "execute_result",
          "data": {
            "text/plain": [
              "False"
            ]
          },
          "metadata": {},
          "execution_count": 86
        }
      ],
      "source": [
        "False and True"
      ]
    },
    {
      "cell_type": "code",
      "execution_count": 87,
      "metadata": {
        "id": "3y-Dp7LaUoDX",
        "outputId": "3139b80d-885a-4816-9d00-c71f7afb5b45",
        "colab": {
          "base_uri": "https://localhost:8080/"
        }
      },
      "outputs": [
        {
          "output_type": "execute_result",
          "data": {
            "text/plain": [
              "False"
            ]
          },
          "metadata": {},
          "execution_count": 87
        }
      ],
      "source": [
        "False and False"
      ]
    },
    {
      "cell_type": "code",
      "execution_count": 88,
      "metadata": {
        "id": "yKa3cDT8UoDX",
        "outputId": "6df64956-f190-4349-ceab-91c3033bd1eb",
        "colab": {
          "base_uri": "https://localhost:8080/"
        }
      },
      "outputs": [
        {
          "output_type": "execute_result",
          "data": {
            "text/plain": [
              "True"
            ]
          },
          "metadata": {},
          "execution_count": 88
        }
      ],
      "source": [
        "5 > 4 and 2*2 == 4"
      ]
    },
    {
      "cell_type": "code",
      "execution_count": 89,
      "metadata": {
        "id": "YH90loagUoDX",
        "outputId": "21e64cd6-dc4b-49e4-8bd7-87b79dd47ff4",
        "colab": {
          "base_uri": "https://localhost:8080/"
        }
      },
      "outputs": [
        {
          "output_type": "execute_result",
          "data": {
            "text/plain": [
              "True"
            ]
          },
          "metadata": {},
          "execution_count": 89
        }
      ],
      "source": [
        "True and True and 2*2 == 4"
      ]
    },
    {
      "cell_type": "code",
      "execution_count": 90,
      "metadata": {
        "id": "vpkXJUohUoDY",
        "outputId": "83846136-73a9-49ee-feab-a329387cc443",
        "colab": {
          "base_uri": "https://localhost:8080/"
        }
      },
      "outputs": [
        {
          "output_type": "execute_result",
          "data": {
            "text/plain": [
              "False"
            ]
          },
          "metadata": {},
          "execution_count": 90
        }
      ],
      "source": [
        "True and True and 2*2 == 4 and 2*2 == 5 # one drop of oil spoils honey"
      ]
    },
    {
      "cell_type": "code",
      "execution_count": 91,
      "metadata": {
        "id": "nHEZVTMiUoDY",
        "outputId": "450dc410-c776-41d7-e421-ffc4f1cf03d5",
        "colab": {
          "base_uri": "https://localhost:8080/"
        }
      },
      "outputs": [
        {
          "output_type": "execute_result",
          "data": {
            "text/plain": [
              "False"
            ]
          },
          "metadata": {},
          "execution_count": 91
        }
      ],
      "source": [
        "#Lazy evaluation\n",
        "# As soon as something is false,Python will stop evaluating the sequence\n",
        "\n",
        "3 < 2 and True and 2*2 == 4 and 5 == 5 \n",
        "# once the first false value is found Python stops looking"
      ]
    },
    {
      "cell_type": "markdown",
      "source": [
        "## Logical Disjunction using **or**"
      ],
      "metadata": {
        "id": "L0N7wR1veSVF"
      }
    },
    {
      "cell_type": "code",
      "execution_count": 92,
      "metadata": {
        "id": "BEdrvH0UUoDZ",
        "outputId": "2743d7a1-fff1-4aa5-bb9f-6634c473b593",
        "colab": {
          "base_uri": "https://localhost:8080/"
        }
      },
      "outputs": [
        {
          "output_type": "execute_result",
          "data": {
            "text/plain": [
              "True"
            ]
          },
          "metadata": {},
          "execution_count": 92
        }
      ],
      "source": [
        "True or False"
      ]
    },
    {
      "cell_type": "code",
      "execution_count": 93,
      "metadata": {
        "id": "MVscDuWVUoDZ",
        "outputId": "4c4f950c-7455-4851-f034-b395da1f7fb5",
        "colab": {
          "base_uri": "https://localhost:8080/"
        }
      },
      "outputs": [
        {
          "output_type": "execute_result",
          "data": {
            "text/plain": [
              "False"
            ]
          },
          "metadata": {},
          "execution_count": 93
        }
      ],
      "source": [
        "False or False"
      ]
    },
    {
      "cell_type": "code",
      "execution_count": 94,
      "metadata": {
        "id": "xFIptWP3UoDa",
        "outputId": "b332b00a-cae6-43d1-8e5a-0df4694b62cb",
        "colab": {
          "base_uri": "https://localhost:8080/"
        }
      },
      "outputs": [
        {
          "output_type": "execute_result",
          "data": {
            "text/plain": [
              "True"
            ]
          },
          "metadata": {},
          "execution_count": 94
        }
      ],
      "source": [
        "True or True"
      ]
    },
    {
      "cell_type": "code",
      "execution_count": 95,
      "metadata": {
        "id": "lknycMZ7UoDa",
        "outputId": "849175f8-7557-4865-f607-0633a60de1c5",
        "colab": {
          "base_uri": "https://localhost:8080/"
        }
      },
      "outputs": [
        {
          "output_type": "execute_result",
          "data": {
            "text/plain": [
              "True"
            ]
          },
          "metadata": {},
          "execution_count": 95
        }
      ],
      "source": [
        "False or True"
      ]
    },
    {
      "cell_type": "code",
      "execution_count": null,
      "metadata": {
        "id": "KfXohmiaUoDa"
      },
      "outputs": [],
      "source": [
        "False or True or True or 2*2 == 4 # Python stops checking after first True\n"
      ]
    },
    {
      "cell_type": "code",
      "execution_count": 96,
      "metadata": {
        "id": "Cpp2RoY5UoDc",
        "outputId": "07d38f7d-7567-4540-c0b1-b93b9b4a8db1",
        "colab": {
          "base_uri": "https://localhost:8080/"
        }
      },
      "outputs": [
        {
          "output_type": "execute_result",
          "data": {
            "text/plain": [
              "True"
            ]
          },
          "metadata": {},
          "execution_count": 96
        }
      ],
      "source": [
        "#lazy evaluation\n",
        "(4 == 4 or 4 < 3) or 4 < 3"
      ]
    },
    {
      "cell_type": "code",
      "execution_count": 97,
      "metadata": {
        "id": "zlvlhWKIUoDc",
        "outputId": "a9f34be6-0c61-4768-848d-e552b7491cf5",
        "colab": {
          "base_uri": "https://localhost:8080/"
        }
      },
      "outputs": [
        {
          "output_type": "execute_result",
          "data": {
            "text/plain": [
              "False"
            ]
          },
          "metadata": {},
          "execution_count": 97
        }
      ],
      "source": [
        "not 4 == 4 # so we invert True"
      ]
    },
    {
      "cell_type": "code",
      "source": [
        "# if you are unsure of the order , you can are free to use parenthesis when combining and and or or and and or :)"
      ],
      "metadata": {
        "id": "gd4g0Fkle0ki"
      },
      "execution_count": 98,
      "outputs": []
    },
    {
      "cell_type": "markdown",
      "metadata": {
        "id": "NgGcUdlRUoDc"
      },
      "source": [
        "# Bit Operators"
      ]
    },
    {
      "cell_type": "code",
      "execution_count": null,
      "metadata": {
        "id": "QCaOJQzwUoDc"
      },
      "outputs": [],
      "source": [
        "# this is for hardware engineers, automechanics, maybe Raspberry Pi owners\n",
        "~0"
      ]
    },
    {
      "cell_type": "code",
      "execution_count": null,
      "metadata": {
        "id": "deYBZWKPUoDc"
      },
      "outputs": [],
      "source": [
        "~1"
      ]
    },
    {
      "cell_type": "code",
      "execution_count": null,
      "metadata": {
        "id": "PggZkeG0UoDc"
      },
      "outputs": [],
      "source": [
        "~0"
      ]
    },
    {
      "cell_type": "code",
      "execution_count": null,
      "metadata": {
        "id": "t9rz9eBHUoDc"
      },
      "outputs": [],
      "source": [
        "bin(4)"
      ]
    },
    {
      "cell_type": "code",
      "execution_count": null,
      "metadata": {
        "id": "FC8kPH9iUoDd"
      },
      "outputs": [],
      "source": [
        "bin(7)"
      ]
    },
    {
      "cell_type": "code",
      "execution_count": null,
      "metadata": {
        "id": "qi0JKeH_UoDd"
      },
      "outputs": [],
      "source": [
        "bin(-1)"
      ]
    },
    {
      "cell_type": "code",
      "execution_count": null,
      "metadata": {
        "id": "Dswtk9J0UoDd"
      },
      "outputs": [],
      "source": [
        "# bit operation 11 and 100 so no bits so we get 000\n",
        "3 & 4 "
      ]
    },
    {
      "cell_type": "code",
      "execution_count": null,
      "metadata": {
        "id": "nX7n-pivUoDd"
      },
      "outputs": [],
      "source": [
        "3 & 5 # 11 and 101 so we should get 001 that is 1"
      ]
    },
    {
      "cell_type": "code",
      "execution_count": null,
      "metadata": {
        "id": "ub-2bqLJUoDd"
      },
      "outputs": [],
      "source": [
        "2**8 # THIS MEANS that one byte can hold 256 different values"
      ]
    },
    {
      "cell_type": "code",
      "execution_count": null,
      "metadata": {
        "id": "-1bKC58AUoDd"
      },
      "outputs": [],
      "source": [
        "bin(255),bin(3),bin(4),bin(5),bin(6),bin(7)\n"
      ]
    },
    {
      "cell_type": "code",
      "execution_count": null,
      "metadata": {
        "id": "hGCNQIq0UoDd"
      },
      "outputs": [],
      "source": [
        "bin(127), bin(128)"
      ]
    },
    {
      "cell_type": "code",
      "execution_count": null,
      "metadata": {
        "id": "4TyR78OuUoDd"
      },
      "outputs": [],
      "source": [
        "1+2**1+2**2+2**3+2**4, bin(31)"
      ]
    },
    {
      "cell_type": "code",
      "execution_count": null,
      "metadata": {
        "id": "uyb_Q6pAUoDe"
      },
      "outputs": [],
      "source": [
        "bin(3)"
      ]
    },
    {
      "cell_type": "code",
      "execution_count": null,
      "metadata": {
        "id": "DK8_dJAYUoDe"
      },
      "outputs": [],
      "source": [
        "bin(4)"
      ]
    },
    {
      "cell_type": "code",
      "execution_count": null,
      "metadata": {
        "id": "Xr00f7SXUoDe"
      },
      "outputs": [],
      "source": [
        "# bit or will be 11 or 100 should be 111\n",
        "3 | 4"
      ]
    },
    {
      "cell_type": "code",
      "execution_count": null,
      "metadata": {
        "id": "O5ABvcn8UoDe"
      },
      "outputs": [],
      "source": [
        "# Bitwise XOR (Exclusive XOR)\n",
        "True ^ False"
      ]
    },
    {
      "cell_type": "code",
      "execution_count": null,
      "metadata": {
        "id": "B2KESCaxUoDe"
      },
      "outputs": [],
      "source": [
        "True ^ True"
      ]
    },
    {
      "cell_type": "code",
      "execution_count": null,
      "metadata": {
        "id": "Iqh7uZS3UoDe"
      },
      "outputs": [],
      "source": [
        "False ^ False"
      ]
    },
    {
      "cell_type": "code",
      "execution_count": null,
      "metadata": {
        "id": "Zd1PqeCdUoDe"
      },
      "outputs": [],
      "source": [
        "# shifted 1 to 100000 which is 32, 2 to the 5th power\n",
        "1 << 5"
      ]
    },
    {
      "cell_type": "code",
      "execution_count": null,
      "metadata": {
        "id": "05QOtakzUoDf"
      },
      "outputs": [],
      "source": [
        "bin(32)"
      ]
    },
    {
      "cell_type": "code",
      "execution_count": null,
      "metadata": {
        "id": "PZ2Zs2FWUoDf"
      },
      "outputs": [],
      "source": [
        "127 >> 4"
      ]
    },
    {
      "cell_type": "code",
      "execution_count": null,
      "metadata": {
        "id": "upuhcyppUoDf"
      },
      "outputs": [],
      "source": [
        ""
      ]
    },
    {
      "cell_type": "code",
      "execution_count": null,
      "metadata": {
        "id": "63OKEwAkUoDf"
      },
      "outputs": [],
      "source": [
        "bin(127)"
      ]
    },
    {
      "cell_type": "markdown",
      "metadata": {
        "id": "HN8_wLuhUoDf"
      },
      "source": [
        "## If Statement"
      ]
    },
    {
      "cell_type": "code",
      "execution_count": 99,
      "metadata": {
        "id": "tbFbYhziUoDf",
        "outputId": "bc4b67cb-5b1d-45b6-b48d-60efefe19b79",
        "colab": {
          "base_uri": "https://localhost:8080/"
        }
      },
      "outputs": [
        {
          "output_type": "stream",
          "name": "stdout",
          "text": [
            "6 is larger than 5 wow!\n"
          ]
        }
      ],
      "source": [
        "## Conditional execution is what makes our languages Turing complete - this means that theoretically all Turing languages have same power(computational capabilites)\n",
        "# if 4 is larger than 5 then do something\n",
        "if 6 > 5:\n",
        "    print(\"6 is larger than 5 wow!\")"
      ]
    },
    {
      "cell_type": "code",
      "execution_count": 101,
      "metadata": {
        "id": "tBiFaY3xUoDf",
        "outputId": "cd0e707d-e626-4d5c-d303-d3719d20f1c9",
        "colab": {
          "base_uri": "https://localhost:8080/"
        }
      },
      "outputs": [
        {
          "output_type": "stream",
          "name": "stdout",
          "text": [
            "10 is larger than 5 wow!\n",
            "Only when if is true\n",
            "This will always run no matter the value of  10\n"
          ]
        }
      ],
      "source": [
        "## Conditional execution\n",
        "# if 4 is larger than 5 then do something\n",
        "my_val = 10\n",
        "if my_val > 5: # so if blocks only when the statement is True\n",
        "    # so we have code block when if is true\n",
        "    print(f\"{my_val} is larger than 5 wow!\")\n",
        "    # only runs when if statement is true\n",
        "    print(\"Only when if is true\")\n",
        "print(\"This will always run no matter the value of \", my_val)"
      ]
    },
    {
      "cell_type": "code",
      "source": [
        "a = 10\n",
        "b = 5\n",
        "if a > b:  #most code editors you can set identation level (it is usually 2 or 4)\n",
        "    print(\"nice\", a, \" is larger than\", b)\n",
        "    print(\"This will also print\")\n",
        "print(\"This will print no matter what a > b\")"
      ],
      "metadata": {
        "id": "uPhGaEkIhxW-",
        "outputId": "80d0036b-b518-4c6c-f6c5-9239a622d6f1",
        "colab": {
          "base_uri": "https://localhost:8080/"
        }
      },
      "execution_count": 104,
      "outputs": [
        {
          "output_type": "stream",
          "name": "stdout",
          "text": [
            "nice 10  is larger than 5\n",
            "This will also print\n",
            "This will print no matter what a > b\n"
          ]
        }
      ]
    },
    {
      "cell_type": "code",
      "execution_count": 105,
      "metadata": {
        "id": "q7T9bOimUoDg",
        "outputId": "68535efb-342d-4bc3-998e-27d39a90cb07",
        "colab": {
          "base_uri": "https://localhost:8080/"
        }
      },
      "outputs": [
        {
          "output_type": "stream",
          "name": "stdout",
          "text": [
            "hello\n",
            "hello\n",
            "hello thats not magic\n"
          ]
        }
      ],
      "source": [
        "if 5 >= 5:\n",
        "    print(\"hello\")\n",
        "if 5 <= 5:\n",
        "    print(\"hello\")\n",
        "if 5 == 6:\n",
        "    print(\"hello thats magic\")\n",
        "if 5 != 6:\n",
        "    print(\"hello thats not magic\")"
      ]
    },
    {
      "cell_type": "code",
      "execution_count": 106,
      "metadata": {
        "id": "C3lUEhneUoDg",
        "outputId": "f850130d-224f-47b2-ccc3-19f7abbe30bf",
        "colab": {
          "base_uri": "https://localhost:8080/"
        }
      },
      "outputs": [
        {
          "output_type": "stream",
          "name": "stdout",
          "text": [
            "Do one thing if if is True\n",
            "DO more things if if is True\n",
            "Do this always\n"
          ]
        }
      ],
      "source": [
        "if 2*2 == 4:\n",
        "    print(\"Do one thing if if is True\")\n",
        "    print(\"DO more things if if is True\")\n",
        "print(\"Do this always\")"
      ]
    },
    {
      "cell_type": "code",
      "execution_count": null,
      "metadata": {
        "id": "whvSWKubUoDg"
      },
      "outputs": [],
      "source": [
        "a = 4\n",
        "if 2*2 == a:\n",
        "    print(\"Do one thing if if is True\")\n",
        "    print(\"DO more things if if is True\")\n",
        "    \n",
        "    \n",
        "    print(\"Do more\")\n",
        "print(\"Do this always\")"
      ]
    },
    {
      "cell_type": "code",
      "execution_count": 108,
      "metadata": {
        "id": "GjfSNBIkUoDg",
        "outputId": "dee3046c-a849-4052-f008-af3ac9746468",
        "colab": {
          "base_uri": "https://localhost:8080/"
        }
      },
      "outputs": [
        {
          "output_type": "stream",
          "name": "stdout",
          "text": [
            "Do one thing if if is True\n",
            "DO more things if if is True\n",
            "Do more\n",
            "a is larger than 3\n",
            "Do this always\n"
          ]
        }
      ],
      "source": [
        "a = 4\n",
        "if 2*2 == a:\n",
        "    print(\"Do one thing if if is True\")\n",
        "    print(\"DO more things if if is True\")\n",
        "    # we can do nested ifs (meaning we check inside another if)\n",
        "    if (a > 3):\n",
        "        print(\"Do more\")\n",
        "        \n",
        "if (a > 3):\n",
        "    print(\"a is larger than 3\")       \n",
        "# Last line will always be printed\n",
        "print(\"Do this always\")"
      ]
    },
    {
      "cell_type": "code",
      "execution_count": 111,
      "metadata": {
        "id": "9abuxGkVUoDg",
        "outputId": "97f93c89-15aa-4560-d48f-ffac56ff9475",
        "colab": {
          "base_uri": "https://localhost:8080/"
        }
      },
      "outputs": [
        {
          "output_type": "stream",
          "name": "stdout",
          "text": [
            "What is your age just a number\n",
            "Your age is  just a number\n"
          ]
        }
      ],
      "source": [
        "a = input(\"What is your age \")  # so a will have a string value (always string!)\n",
        "print('Your age is ', a)"
      ]
    },
    {
      "cell_type": "code",
      "execution_count": 115,
      "metadata": {
        "id": "RgU7_X8mUoDg",
        "outputId": "355a6a89-5106-4ba3-eb7b-aab5cb96efe1",
        "colab": {
          "base_uri": "https://localhost:8080/"
        }
      },
      "outputs": [
        {
          "output_type": "stream",
          "name": "stdout",
          "text": [
            "Enter temperature in Celsius 36\n",
            "Farenheit Temperature is 96.8\n"
          ]
        }
      ],
      "source": [
        "c = int(input(\"Enter temperature in Celsius \")) # you need to convert the string to integer to calculate\n",
        "f = c * 9/5 + 32\n",
        "f = round(f, 2)  # round it to 2 digits after comma\n",
        "print(\"Farenheit Temperature is\", f)"
      ]
    },
    {
      "cell_type": "code",
      "execution_count": 117,
      "metadata": {
        "id": "4GTJfYjgUoDg",
        "outputId": "21fed489-2109-44de-fddb-71816e2533f6",
        "colab": {
          "base_uri": "https://localhost:8080/"
        }
      },
      "outputs": [
        {
          "output_type": "stream",
          "name": "stdout",
          "text": [
            "ievadiet  temperature in Celsius 37.9\n",
            "Farenheit Temperature is 100.22\n",
            "You are too hot, find a doctor?\n"
          ]
        }
      ],
      "source": [
        "c = float(input(\"ievadiet  temperature in Celsius \"))\n",
        "f = c * 9/5 + 32\n",
        "f = round(f, 2)\n",
        "print(\"Farenheit Temperature is\", f)\n",
        "if f > 100:\n",
        "    print(\"You are too hot, find a doctor?\")"
      ]
    },
    {
      "cell_type": "code",
      "execution_count": 119,
      "metadata": {
        "id": "KgUBnmvyUoDh",
        "outputId": "f34750c9-c1f4-4e6a-b88c-cd8ab3ba8b6f",
        "colab": {
          "base_uri": "https://localhost:8080/"
        }
      },
      "outputs": [
        {
          "output_type": "stream",
          "name": "stdout",
          "text": [
            "Variable   Type     Data/Info\n",
            "-----------------------------\n",
            "a          str      just a number\n",
            "b          int      5\n",
            "c          float    37.9\n",
            "f          float    100.22\n",
            "my_val     int      10\n"
          ]
        }
      ],
      "source": [
        "# Show all current local variables # this is Jupyter notebooks specific\n",
        "%whos"
      ]
    },
    {
      "cell_type": "code",
      "execution_count": null,
      "metadata": {
        "id": "m7OUYdxTUoDh"
      },
      "outputs": [],
      "source": [
        "%store"
      ]
    },
    {
      "cell_type": "code",
      "execution_count": null,
      "metadata": {
        "id": "KkRHYxgbUoDh"
      },
      "outputs": [],
      "source": [
        "a = 5\n",
        "b = \"Food\""
      ]
    },
    {
      "cell_type": "code",
      "execution_count": null,
      "metadata": {
        "id": "qN5eez6JUoDh"
      },
      "outputs": [],
      "source": [
        "%whos"
      ]
    },
    {
      "cell_type": "code",
      "execution_count": null,
      "metadata": {
        "id": "qWSIuoM4UoDh"
      },
      "outputs": [],
      "source": [
        "%store a"
      ]
    },
    {
      "cell_type": "code",
      "execution_count": null,
      "metadata": {
        "id": "AcvSAXwqUoDh"
      },
      "outputs": [],
      "source": [
        "%whos"
      ]
    },
    {
      "cell_type": "code",
      "execution_count": null,
      "metadata": {
        "id": "0VpVCUSmUoDh"
      },
      "outputs": [],
      "source": [
        "%store"
      ]
    },
    {
      "cell_type": "code",
      "execution_count": null,
      "metadata": {
        "id": "TGO9zD_QUoDh"
      },
      "outputs": [],
      "source": [
        "#Retrieve variables from disk\n",
        "%store -r"
      ]
    },
    {
      "cell_type": "code",
      "execution_count": null,
      "metadata": {
        "id": "wYy1QzTVUoDi"
      },
      "outputs": [],
      "source": [
        "%whos"
      ]
    },
    {
      "cell_type": "code",
      "execution_count": null,
      "metadata": {
        "id": "4qMg-KM1UoDi"
      },
      "outputs": [],
      "source": [
        "%store b"
      ]
    },
    {
      "cell_type": "code",
      "execution_count": null,
      "metadata": {
        "id": "Ue-vB1ogUoDi"
      },
      "outputs": [],
      "source": [
        "%store -r b"
      ]
    },
    {
      "cell_type": "code",
      "execution_count": null,
      "metadata": {
        "id": "PJ_uL7_KUoDi"
      },
      "outputs": [],
      "source": [
        "b"
      ]
    },
    {
      "cell_type": "code",
      "execution_count": null,
      "metadata": {
        "id": "JybFWUsoUoDi"
      },
      "outputs": [],
      "source": [
        "%store -r a"
      ]
    },
    {
      "cell_type": "markdown",
      "source": [
        "# Branching with **if else**\n",
        "\n",
        "> [Road not taken](https://www.poetryfoundation.org/poems/44272/the-road-not-taken)\n",
        "\n"
      ],
      "metadata": {
        "id": "pym8O9aGkEye"
      }
    },
    {
      "cell_type": "code",
      "execution_count": 122,
      "metadata": {
        "id": "tjQDij9uUoDi",
        "outputId": "eb14b271-7767-418e-a4af-cc1537e914f1",
        "colab": {
          "base_uri": "https://localhost:8080/"
        }
      },
      "outputs": [
        {
          "output_type": "stream",
          "name": "stdout",
          "text": [
            "a is NOT larger than 5\n",
            "Always print this\n"
          ]
        }
      ],
      "source": [
        "a = -15\n",
        "if a > 5:  # if statement is true\n",
        "    print('a is larger than 5')\n",
        "    # do more stuff\n",
        "else: # if statement is false\n",
        "    print('a is NOT larger than 5')\n",
        "    # do more stuff if a is not larger than 5\n",
        "# we go back to normal code flow\n",
        "print(\"Always print this\")"
      ]
    },
    {
      "cell_type": "code",
      "source": [
        ""
      ],
      "metadata": {
        "id": "m5iW28Z1k6mm"
      },
      "execution_count": null,
      "outputs": []
    },
    {
      "cell_type": "markdown",
      "source": [
        "## Multiple branches with **if elif and else**"
      ],
      "metadata": {
        "id": "G10GN3_Mk_QT"
      }
    },
    {
      "cell_type": "code",
      "execution_count": 125,
      "metadata": {
        "id": "i3ZvRpNNUoDi",
        "outputId": "39f4f648-ff7c-4105-f283-2d166a47d4fa",
        "colab": {
          "base_uri": "https://localhost:8080/"
        }
      },
      "outputs": [
        {
          "output_type": "stream",
          "name": "stdout",
          "text": [
            "Enter an integer please! 42\n",
            "That is the answer to everything!\n",
            "Your number is 42\n"
          ]
        }
      ],
      "source": [
        "#elif comes from else if\n",
        "x = int(input(\"Enter an integer please! \"))  # remember we have to convert our input to integer because it is a string\n",
        "if x > 42:\n",
        "    print(\"Too ambitious an answer!\")\n",
        "elif x < 42:\n",
        "    print(\"You dream too little!\")\n",
        "else:\n",
        "    print(\"That is the answer to everything!\")\n",
        "#These lines below will execute always\n",
        "print('Your number is', x)"
      ]
    },
    {
      "cell_type": "code",
      "source": [
        "# in Python before 3.10 you only get if elif and else no other normal branching\n",
        "# this can lead to long chaina of if elif elif elif else\n",
        "char = input(\"input a character \")\n",
        "if char == \"A\":\n",
        "    print(\"Alpha!\")\n",
        "elif char == \"B\":\n",
        "    print(\"Beta!\")\n",
        "elif char == \"C\":\n",
        "    print(\"Charlie!\")\n",
        "else:\n",
        "    print(\"Default something\")\n",
        "# we will see later there are some other ways of looking up values (using dictionaries and some other means)"
      ],
      "metadata": {
        "id": "z0PfifIbld-i",
        "outputId": "0d57edba-2f78-4fe7-aa8d-0c556ea1a0e1",
        "colab": {
          "base_uri": "https://localhost:8080/"
        }
      },
      "execution_count": 129,
      "outputs": [
        {
          "output_type": "stream",
          "name": "stdout",
          "text": [
            "input a character C\n",
            "Charlie!\n"
          ]
        }
      ]
    },
    {
      "cell_type": "code",
      "source": [
        "!python --version"
      ],
      "metadata": {
        "id": "D2NPhnhrlaDA",
        "outputId": "1f250792-975a-421d-d958-7aa25f717d01",
        "colab": {
          "base_uri": "https://localhost:8080/"
        }
      },
      "execution_count": 126,
      "outputs": [
        {
          "output_type": "stream",
          "name": "stdout",
          "text": [
            "Python 3.7.12\n"
          ]
        }
      ]
    },
    {
      "cell_type": "code",
      "source": [
        ""
      ],
      "metadata": {
        "id": "g3-d69czmfaI"
      },
      "execution_count": null,
      "outputs": []
    },
    {
      "cell_type": "markdown",
      "source": [
        "## Match in Python 3.10 and later (starting with late 2021 versions) you get match statement\n",
        "https://www.python.org/dev/peps/pep-0634/#the-match-statement\n",
        "\n",
        "Useful as a replacement for long chains of if elif elif statements"
      ],
      "metadata": {
        "id": "8g9afzEkmpjs"
      }
    },
    {
      "cell_type": "code",
      "source": [
        "a, b"
      ],
      "metadata": {
        "id": "XIvNHxIZnHgj",
        "outputId": "75db1e51-175c-4ead-b386-e3e78b8a6335",
        "colab": {
          "base_uri": "https://localhost:8080/"
        }
      },
      "execution_count": 130,
      "outputs": [
        {
          "output_type": "execute_result",
          "data": {
            "text/plain": [
              "(-15, 5)"
            ]
          },
          "metadata": {},
          "execution_count": 130
        }
      ]
    },
    {
      "cell_type": "code",
      "source": [
        "my_value = a or b  # what will be assigned to my_value\n",
        "# this is a little trick\n",
        "# in some languages this would be False or True, but not necessarily in Python\n",
        "my_value  "
      ],
      "metadata": {
        "id": "OxRqrQcWm-NA",
        "outputId": "7b659df4-d9e9-4d36-e3db-4973051ad348",
        "colab": {
          "base_uri": "https://localhost:8080/"
        }
      },
      "execution_count": 131,
      "outputs": [
        {
          "output_type": "execute_result",
          "data": {
            "text/plain": [
              "-15"
            ]
          },
          "metadata": {},
          "execution_count": 131
        }
      ]
    },
    {
      "cell_type": "code",
      "source": [
        "# why the value of a ? because it is the first truthy value and with or we do not need any more values\n",
        "# so there is some logic behind this"
      ],
      "metadata": {
        "id": "-QE8m-XgnXVt"
      },
      "execution_count": null,
      "outputs": []
    },
    {
      "cell_type": "code",
      "source": [
        "another_value = a and b # how about now - it is not going be True necessarily\n",
        "another_value # so here we will have the last value that makes it true"
      ],
      "metadata": {
        "id": "gXy_joHCnf7i",
        "outputId": "ee644d44-6229-4d9d-d251-832eda0da691",
        "colab": {
          "base_uri": "https://localhost:8080/"
        }
      },
      "execution_count": 132,
      "outputs": [
        {
          "output_type": "execute_result",
          "data": {
            "text/plain": [
              "5"
            ]
          },
          "metadata": {},
          "execution_count": 132
        }
      ]
    },
    {
      "cell_type": "code",
      "source": [
        "# The above should be uses sparingly because it can be hard to understand what is going on\n",
        "# instead you could do this\n",
        "if a: #if a is truthy - ie not zero, not empty , not None\n",
        "    my_value = a\n",
        "elif b:\n",
        "    my_value = b\n",
        "else:\n",
        "    my_value = 0\n",
        "my_value"
      ],
      "metadata": {
        "id": "x4LfhK8RnvrX",
        "outputId": "6251677b-a92e-4aa7-a410-365fec4a4354",
        "colab": {
          "base_uri": "https://localhost:8080/"
        }
      },
      "execution_count": 133,
      "outputs": [
        {
          "output_type": "execute_result",
          "data": {
            "text/plain": [
              "-15"
            ]
          },
          "metadata": {},
          "execution_count": 133
        }
      ]
    },
    {
      "cell_type": "code",
      "source": [
        "# there is also a ternary operator\n",
        "a = -10_000\n",
        "my_value = 10 if a > 9000 else 200  # so assign first value if if statement is true otherwise assign the last value\n",
        "my_value\n"
      ],
      "metadata": {
        "id": "3NPJZH5HoQag",
        "outputId": "9c13e2b5-d844-4648-d855-118a93f4a431",
        "colab": {
          "base_uri": "https://localhost:8080/"
        }
      },
      "execution_count": 137,
      "outputs": [
        {
          "output_type": "execute_result",
          "data": {
            "text/plain": [
              "200"
            ]
          },
          "metadata": {},
          "execution_count": 137
        }
      ]
    },
    {
      "cell_type": "code",
      "source": [
        "# ternary again can be useful but can easily be replaced by regular if\n",
        "if a > 9000:\n",
        "    my_value = 10\n",
        "else:\n",
        "    my_vale = 200"
      ],
      "metadata": {
        "id": "5THLvc9OosOd"
      },
      "execution_count": null,
      "outputs": []
    },
    {
      "cell_type": "code",
      "source": [
        "# Try to write not too clever code, because reading code is 2x as hard as writing, clever code is enemy of good code"
      ],
      "metadata": {
        "id": "10knHxKcoceS"
      },
      "execution_count": null,
      "outputs": []
    },
    {
      "cell_type": "markdown",
      "metadata": {
        "id": "ygo36CAzUoDj"
      },
      "source": [
        "## Loops\n",
        "* While\n",
        "* For\n",
        "* Do While (emulate)"
      ]
    },
    {
      "cell_type": "code",
      "execution_count": null,
      "metadata": {
        "id": "J4-w7TjMUoDj"
      },
      "outputs": [],
      "source": [
        "sum(range(0,30))"
      ]
    },
    {
      "cell_type": "code",
      "execution_count": null,
      "metadata": {
        "id": "XZ52nvtDUoDj"
      },
      "outputs": [],
      "source": [
        "sum(range(0,30,5))"
      ]
    },
    {
      "cell_type": "code",
      "execution_count": null,
      "metadata": {
        "id": "_GbZQ3gwUoDj"
      },
      "outputs": [],
      "source": [
        "i = 0\n",
        "sum = 0\n",
        "while i < 30 and sum < 100:\n",
        "    print('i is ', i)\n",
        "    sum += i # same as sum = sum + i\n",
        "    print('sum is ', sum)\n",
        "    i += 1\n",
        "print('Final sum is ', sum)"
      ]
    },
    {
      "cell_type": "code",
      "execution_count": null,
      "metadata": {
        "id": "Pa9w7k7eUoDk"
      },
      "outputs": [],
      "source": [
        "i = 0\n",
        "while i < 5:\n",
        "    print('i is', round(i, 6), i )\n",
        "    i+=0.3 # same as i = i + 0.3\n",
        "print('All Done', round(i, 6))"
      ]
    },
    {
      "cell_type": "code",
      "execution_count": null,
      "metadata": {
        "id": "RCD8XhIrUoDk"
      },
      "outputs": [],
      "source": [
        "# we can import an additional library for math functions\n",
        "import math\n",
        "math.ceil(5.7)"
      ]
    },
    {
      "cell_type": "code",
      "execution_count": null,
      "metadata": {
        "id": "ZzVFWrEYUoDk"
      },
      "outputs": [],
      "source": [
        "summa = 0\n",
        "maxnum = 30\n",
        "step = 5\n",
        "i = 0\n",
        "while i < 30:\n",
        "    summa += i\n",
        "    print(\"Value:\", i, \" Current Sum:\", summa)\n",
        "    i += step\n",
        "print(\"Iterator is\", i, \"Final sum is\", summa)\n",
        "    "
      ]
    },
    {
      "cell_type": "code",
      "execution_count": null,
      "metadata": {
        "id": "WAyh7AHOUoDk"
      },
      "outputs": [],
      "source": [
        "i = 0\n",
        "while True:\n",
        "    print(\"i is \", i)\n",
        "    i += 1\n",
        "    if i > 10:\n",
        "        break # this will exit the loop\n",
        "print(\"This will never print\", i)"
      ]
    },
    {
      "cell_type": "code",
      "execution_count": null,
      "metadata": {
        "id": "L1MRHfMhUoDk"
      },
      "outputs": [],
      "source": [
        "i = 0\n",
        "sum = 0\n",
        "while i < 10:\n",
        "    print(i)\n",
        "    i += 1\n",
        "    if i > 5:\n",
        "        print(\"continuing loop when i is \", i)\n",
        "        continue\n",
        "    sum += i # this line will not be process if continue fires\n",
        "print(sum)"
      ]
    },
    {
      "cell_type": "code",
      "execution_count": null,
      "metadata": {
        "id": "D2UqVNPxUoDk"
      },
      "outputs": [],
      "source": [
        "i"
      ]
    },
    {
      "cell_type": "code",
      "execution_count": null,
      "metadata": {
        "id": "8ALaV3e3UoDk"
      },
      "outputs": [],
      "source": [
        "# This will run forever and you will need to restart kernel\n",
        "i = 0\n",
        "while True:\n",
        "    print(\"This print forever i is\", i)\n",
        "    i += 1\n",
        "    if i > 5:\n",
        "        print(\"Actually I decided to stop when i is\", i)\n",
        "        break # here we break out of while loop\n",
        "    \n",
        "print(\"This prints when we break out of loop\")"
      ]
    },
    {
      "cell_type": "code",
      "execution_count": null,
      "metadata": {
        "id": "ekDM8LpPUoDl"
      },
      "outputs": [],
      "source": [
        "summa = 0\n",
        "maxnum = 30\n",
        "i = 0\n",
        "while i < maxnum:\n",
        "    summa += i\n",
        "    print(\"Current sum is\", summa)\n",
        "    i += 1\n",
        "print(\"Final sum is\", summa)\n",
        "    "
      ]
    },
    {
      "cell_type": "code",
      "execution_count": null,
      "metadata": {
        "id": "7b9xzN-PUoDl"
      },
      "outputs": [],
      "source": [
        "sum(range(10))"
      ]
    },
    {
      "cell_type": "code",
      "execution_count": null,
      "metadata": {
        "id": "kx-wjRhaUoDl"
      },
      "outputs": [],
      "source": [
        "sum(range(0,22,2))"
      ]
    },
    {
      "cell_type": "code",
      "execution_count": null,
      "metadata": {
        "id": "bnMSOY05UoDl"
      },
      "outputs": [],
      "source": [
        "summa = 0\n",
        "i = 2\n",
        "while i <= 20:\n",
        "    summa += i # summa = summa + i\n",
        "    print('Sum is ', summa)\n",
        "    i += 2\n",
        "print(\"Final sum\", summa)"
      ]
    },
    {
      "cell_type": "code",
      "execution_count": null,
      "metadata": {
        "id": "Szzgv7CgUoDl"
      },
      "outputs": [],
      "source": [
        "a = 2018\n",
        "b = 2019\n",
        "print(a,b)"
      ]
    },
    {
      "cell_type": "code",
      "execution_count": null,
      "metadata": {
        "id": "uuzDSS8VUoDl"
      },
      "outputs": [],
      "source": [
        "a = b\n",
        "print(a,b)"
      ]
    },
    {
      "cell_type": "code",
      "execution_count": null,
      "metadata": {
        "id": "FgsLFtCRUoDl"
      },
      "outputs": [],
      "source": [
        "a = 2018\n",
        "b = 2019\n",
        "print(a,b)"
      ]
    },
    {
      "cell_type": "code",
      "execution_count": null,
      "metadata": {
        "id": "aVOuOD8vUoDl"
      },
      "outputs": [],
      "source": [
        "temp = a\n",
        "a = b\n",
        "b = temp\n",
        "print(a, b)"
      ]
    },
    {
      "cell_type": "code",
      "execution_count": null,
      "metadata": {
        "id": "udbsjyIGUoDl"
      },
      "outputs": [],
      "source": [
        "#More python way to exchange values\n",
        "print(\"Before swap\\t\", a, b)\n",
        "a, b = b, a\n",
        "print(\"After swap\\t\", a, b)"
      ]
    },
    {
      "cell_type": "code",
      "execution_count": null,
      "metadata": {
        "id": "Kkf2O9qKUoDm"
      },
      "outputs": [],
      "source": [
        "c = 2020\n",
        "d = 2077"
      ]
    },
    {
      "cell_type": "code",
      "execution_count": null,
      "metadata": {
        "id": "z6UcjYjKUoDm"
      },
      "outputs": [],
      "source": [
        "# we can swap many values at once\n",
        "print(a,b,c,d)\n",
        "a,b,c,d = d,c,b,a # we calculate from right to left\n",
        "print(a,b,c,d)"
      ]
    },
    {
      "cell_type": "code",
      "execution_count": null,
      "metadata": {
        "id": "OYfpRPxUUoDm"
      },
      "outputs": [],
      "source": [
        "# Good old Fibonacci\n",
        "#a, b, c = 0, 1, 10\n",
        "a = 1\n",
        "b = 1\n",
        "c = 10\n",
        "while c < 100:\n",
        "    print(a, b, c, b/a)\n",
        "    a, b, c = b, a+b, c+1 # multiple assignment yay! right side from left to right eval first then assigned to left!\n",
        "print(c)"
      ]
    },
    {
      "cell_type": "code",
      "execution_count": null,
      "metadata": {
        "id": "aEdRc9lmUoDm"
      },
      "outputs": [],
      "source": [
        "name = \"Valdis\"\n",
        "for c in name: # we will loop through all characters in name\n",
        "    print(c)"
      ]
    },
    {
      "cell_type": "code",
      "execution_count": null,
      "metadata": {
        "id": "6y9mhNw8UoDm"
      },
      "outputs": [],
      "source": [
        "for n in range(10):\n",
        "    print(n)"
      ]
    },
    {
      "cell_type": "code",
      "execution_count": null,
      "metadata": {
        "id": "0B1FliX_UoDm"
      },
      "outputs": [],
      "source": [
        "# this is an anti-pattern, try to avoid this\n",
        "for c in range(len(name)):\n",
        "    print(name[c])"
      ]
    },
    {
      "cell_type": "code",
      "execution_count": null,
      "metadata": {
        "id": "-o25NO03UoDn"
      },
      "outputs": [],
      "source": [
        "c"
      ]
    },
    {
      "cell_type": "code",
      "execution_count": null,
      "metadata": {
        "id": "8D4-r4NNUoDn"
      },
      "outputs": [],
      "source": [
        "for x in range(10):\n",
        "    print(x, end=\"*\")"
      ]
    },
    {
      "cell_type": "code",
      "execution_count": null,
      "metadata": {
        "id": "PDTulZhZUoDn"
      },
      "outputs": [],
      "source": [
        "for x in [1,6,3,77,788]:\n",
        "    print(x, x*x)\n",
        "    # we could do more with our x here and do more\n",
        "print(x)"
      ]
    },
    {
      "cell_type": "code",
      "execution_count": null,
      "metadata": {
        "id": "R6D31EUMUoDn"
      },
      "outputs": [],
      "source": [
        "for c in \"Valdis\":\n",
        "    print(c)"
      ]
    },
    {
      "cell_type": "code",
      "execution_count": null,
      "metadata": {
        "id": "vZjQxzfpUoDn"
      },
      "outputs": [],
      "source": [
        "name = \"Valdis\"\n",
        "#Not Pythonic\n",
        "for i in range(len(name)):\n",
        "    print(i, name[i])"
      ]
    },
    {
      "cell_type": "code",
      "execution_count": null,
      "metadata": {
        "id": "PcmsdWZcUoDn"
      },
      "outputs": [],
      "source": [
        "name=\"Valdis Saules\"\n",
        "# Pythonic Way to number items in an iterable\n",
        "for i, el in enumerate(name,start=1000):\n",
        "    print(i, el)\n",
        "print(\"At end\", i, el)    "
      ]
    },
    {
      "cell_type": "code",
      "execution_count": null,
      "metadata": {
        "id": "vDjeGNmCUoDn"
      },
      "outputs": [],
      "source": [
        "for el in name:\n",
        "    print(el)"
      ]
    },
    {
      "cell_type": "code",
      "execution_count": null,
      "metadata": {
        "id": "3ClpgDklUoDn"
      },
      "outputs": [],
      "source": [
        "groceries = [\"Bread\", \"Milk\", \"Chocolate\"]\n",
        "for elem in groceries:\n",
        "    print(\"I need to buy\", elem)"
      ]
    },
    {
      "cell_type": "code",
      "execution_count": null,
      "metadata": {
        "id": "f9u9PU8uUoDn"
      },
      "outputs": [],
      "source": [
        "mlist = list(range(0,20,2))\n",
        "mlist"
      ]
    },
    {
      "cell_type": "code",
      "execution_count": null,
      "metadata": {
        "id": "ASIeNavlUoDo"
      },
      "outputs": [],
      "source": [
        "mlist[5]"
      ]
    },
    {
      "cell_type": "code",
      "execution_count": null,
      "metadata": {
        "id": "im4mlYtxUoDo"
      },
      "outputs": [],
      "source": [
        "d={}\n",
        "for index, elem in enumerate([1,2,6,55]):\n",
        "    print(index, elem)\n",
        "    d[str(index)]=elem\n",
        "print(d)\n"
      ]
    },
    {
      "cell_type": "code",
      "execution_count": null,
      "metadata": {
        "id": "pw8XS3BSUoDo"
      },
      "outputs": [],
      "source": [
        "nd={}\n",
        "for index, elem in enumerate([1,2,6,55]):\n",
        "    print(index, elem)\n",
        "    nd[index]=elem\n",
        "print(nd)\n"
      ]
    },
    {
      "cell_type": "code",
      "execution_count": null,
      "metadata": {
        "id": "K4-mQasAUoDo"
      },
      "outputs": [],
      "source": [
        "d['2']"
      ]
    },
    {
      "cell_type": "code",
      "execution_count": null,
      "metadata": {
        "id": "ffwdCYdjUoDo"
      },
      "outputs": [],
      "source": [
        "nd[3]"
      ]
    },
    {
      "cell_type": "code",
      "execution_count": null,
      "metadata": {
        "id": "whVJg2F6UoDo"
      },
      "outputs": [],
      "source": [
        "nd[2]"
      ]
    },
    {
      "cell_type": "code",
      "execution_count": null,
      "metadata": {
        "scrolled": false,
        "id": "T7IGWuGPUoDp"
      },
      "outputs": [],
      "source": [
        "nd['2']"
      ]
    },
    {
      "cell_type": "code",
      "execution_count": null,
      "metadata": {
        "id": "t1f-NfrsUoDp"
      },
      "outputs": [],
      "source": [
        "d"
      ]
    },
    {
      "cell_type": "code",
      "execution_count": null,
      "metadata": {
        "id": "VXDamYswUoDp"
      },
      "outputs": [],
      "source": [
        "# also for k,v in d.items(): any names will do\n",
        "for key, value in d.items():\n",
        "    print('My dictionary item with key:',key, \" value:\", value)"
      ]
    },
    {
      "cell_type": "code",
      "execution_count": null,
      "metadata": {
        "id": "Rr_NXfHJUoDp"
      },
      "outputs": [],
      "source": [
        "# How to iterate over a dictionary\n",
        "for key, value in d.items():\n",
        "    print(\"Processing\")\n",
        "    # here we add an if statement\n",
        "    if value % 2 == 0:\n",
        "        print(key,value)"
      ]
    },
    {
      "cell_type": "code",
      "execution_count": null,
      "metadata": {
        "id": "cVYRhUWXUoDp"
      },
      "outputs": [],
      "source": [
        "# outer loop\n",
        "for a in range(1,5):\n",
        "    # inner loop\n",
        "    for b in range(20,24):\n",
        "        print(a,b)"
      ]
    },
    {
      "cell_type": "code",
      "execution_count": null,
      "metadata": {
        "id": "F9F0RIa7UoDp"
      },
      "outputs": [],
      "source": [
        "print(a,b)"
      ]
    },
    {
      "cell_type": "code",
      "execution_count": null,
      "metadata": {
        "id": "QX7d9EGUUoDp"
      },
      "outputs": [],
      "source": [
        "for a in range(1,9):\n",
        "    print('A is ', a)\n",
        "    for b in range(a,6):\n",
        "        print(a,b)"
      ]
    },
    {
      "cell_type": "code",
      "execution_count": null,
      "metadata": {
        "id": "MjhvHcveUoDq"
      },
      "outputs": [],
      "source": [
        "n=0\n",
        "for a in range(1,4):\n",
        "    for b in range(11,14):\n",
        "        for c in range(21,24):\n",
        "            print(n, a, b, c)\n",
        "            n+=1"
      ]
    },
    {
      "cell_type": "code",
      "execution_count": null,
      "metadata": {
        "id": "TesL-va5UoDq"
      },
      "outputs": [],
      "source": [
        "#The break statement, like in C, breaks out of the innermost enclosing for or while loop.\n",
        "\n",
        "#Loop statements may have an else clause; it is executed when the loop terminates through exhaustion of the list (with for) or when the condition becomes false (with while), but not when the loop is terminated by a break statement. This is exemplified by the following loop, which searches for prime numbers:\n",
        "\n",
        "for n in range(2, 10):\n",
        "    for x in range(2, n):\n",
        "        if n % x == 0:\n",
        "            print(n, 'equals', x, '*', n//x)\n",
        "            break\n",
        "    else: #badly named Else IMHO! should be exhausted not ELSE!!! VS\n",
        "        # loop fell through without finding a factor\n",
        "        print(n, 'is a prime number')"
      ]
    },
    {
      "cell_type": "code",
      "execution_count": null,
      "metadata": {
        "id": "9W_M3nsRUoDq"
      },
      "outputs": [],
      "source": [
        "# The pass statement does nothing. It can be used when a statement is required syntactically but the program requires no action. For example:\n",
        "# Do not run this !!!\n",
        "while True:\n",
        "    pass  # Busy-wait for keyboard interrupt (Ctrl+C)"
      ]
    },
    {
      "cell_type": "code",
      "execution_count": null,
      "metadata": {
        "id": "3eBRT1L4UoDq"
      },
      "outputs": [],
      "source": [
        "#emulated do while loop\n",
        "a=0\n",
        "while True:\n",
        "    # statement(s)\n",
        "    a+=1\n",
        "    print(a)\n",
        "    if not a < 5:\n",
        "        break"
      ]
    },
    {
      "cell_type": "markdown",
      "metadata": {
        "id": "Qssmdz3wUoDq"
      },
      "source": [
        "## Iterating over lists"
      ]
    },
    {
      "cell_type": "code",
      "execution_count": null,
      "metadata": {
        "id": "qAyS64MDUoDq"
      },
      "outputs": [],
      "source": [
        "for i in range(10):\n",
        "    print(i, end='')  #Python 3.x specific "
      ]
    },
    {
      "cell_type": "code",
      "execution_count": null,
      "metadata": {
        "id": "wevFaMXoUoDq"
      },
      "outputs": [],
      "source": [
        "for i in range(10):\n",
        "    print(f'{i} ',end='')  #Python 3.6+ specific "
      ]
    },
    {
      "cell_type": "code",
      "execution_count": null,
      "metadata": {
        "id": "NoouJCjoUoDq"
      },
      "outputs": [],
      "source": [
        "names=['Alice','Bob','Carol','David']\n",
        "for n in names:\n",
        "    print(n, len(n))"
      ]
    },
    {
      "cell_type": "code",
      "execution_count": null,
      "metadata": {
        "id": "-1ifJU9HUoDr"
      },
      "outputs": [],
      "source": [
        "# An older Pythonic method of iterating over indices of a sequence\n",
        "# an anti-pattern \n",
        "for i in range(len(names)):\n",
        "    print(i, names[i])\n"
      ]
    },
    {
      "cell_type": "code",
      "execution_count": null,
      "metadata": {
        "id": "8La5he5cUoDr"
      },
      "outputs": [],
      "source": [
        ""
      ]
    },
    {
      "cell_type": "code",
      "execution_count": null,
      "metadata": {
        "id": "1KB7hMSiUoDr"
      },
      "outputs": [],
      "source": [
        "for i, name in enumerate(names):\n",
        "    print(i, name)"
      ]
    },
    {
      "cell_type": "code",
      "execution_count": null,
      "metadata": {
        "id": "U7ITzbwPUoDr"
      },
      "outputs": [],
      "source": [
        "mycollection=[]\n",
        "for el in mycollection:\n",
        "    pass # empty operation\n",
        "    # do work on el in your collection\n"
      ]
    },
    {
      "cell_type": "code",
      "execution_count": null,
      "metadata": {
        "id": "iQ-Gz2PbUoDr"
      },
      "outputs": [],
      "source": [
        "squares = []"
      ]
    },
    {
      "cell_type": "code",
      "execution_count": null,
      "metadata": {
        "id": "6fF4AjRsUoDr"
      },
      "outputs": [],
      "source": [
        "squares = []\n",
        "# For example, assume we want to create a list of squares, like:\n",
        "for x in range(30,40,2):\n",
        "    squares.append(f'Square of {{x}} {x} is {x**2}')\n",
        "    squares.append('Square of {x} ' +str(x) + ' is ' + str(x**2))\n",
        "squares\n",
        "#[0, 1, 4, 9, 16, 25, 36, 49, 64, 81]\n"
      ]
    },
    {
      "cell_type": "code",
      "execution_count": null,
      "metadata": {
        "id": "7-J9eEY_UoDY"
      },
      "outputs": [],
      "source": [
        "# complex numbers in Python\n",
        "4+5j # so j is i in math which square root of -1"
      ]
    },
    {
      "cell_type": "code",
      "execution_count": null,
      "metadata": {
        "id": "NsZYy40nUoDY"
      },
      "outputs": [],
      "source": [
        "(4+5j)*(3+2j) # 4*3 == 12 (5*3)j+(2*4)j + (5j*2j)= 10*-1"
      ]
    },
    {
      "cell_type": "code",
      "execution_count": null,
      "metadata": {
        "id": "BMmXO__QUoDY"
      },
      "outputs": [],
      "source": [
        "i = (2+4j)"
      ]
    },
    {
      "cell_type": "code",
      "execution_count": null,
      "metadata": {
        "id": "gZjPy5tXUoDZ"
      },
      "outputs": [],
      "source": [
        "i**2"
      ]
    },
    {
      "cell_type": "code",
      "execution_count": null,
      "metadata": {
        "id": "mQyMQCFTUoDZ"
      },
      "outputs": [],
      "source": [
        "1_000_000 # for big numbers you can type like this and _ will be ignored\n"
      ]
    },
    {
      "cell_type": "code",
      "execution_count": null,
      "metadata": {
        "id": "L_x-LyaBUoDZ"
      },
      "outputs": [],
      "source": [
        "1_0_0_4"
      ]
    },
    {
      "cell_type": "code",
      "execution_count": null,
      "metadata": {
        "id": "Xwr-U5LnUoDZ"
      },
      "outputs": [],
      "source": [
        "1 000 000 # this will not work"
      ]
    },
    {
      "cell_type": "code",
      "execution_count": null,
      "metadata": {
        "id": "p8Uo6Cv4UoDZ"
      },
      "outputs": [],
      "source": [
        "# logical or, one side should be true for the whole expression to be true"
      ]
    },
    {
      "cell_type": "markdown",
      "metadata": {
        "id": "AU5MRJ7FUoDr"
      },
      "source": [
        "# List Comprehensions"
      ]
    },
    {
      "cell_type": "code",
      "execution_count": null,
      "metadata": {
        "id": "33h63qPOUoDr"
      },
      "outputs": [],
      "source": [
        "mlist = [x**2 for x in range(10)]\n",
        "mlist"
      ]
    },
    {
      "cell_type": "code",
      "execution_count": null,
      "metadata": {
        "id": "75aR7evSUoDs"
      },
      "outputs": [],
      "source": [
        "mylist = [x+5 for x in range(10) if x%2 == 0]\n",
        "mylist"
      ]
    },
    {
      "cell_type": "code",
      "execution_count": null,
      "metadata": {
        "id": "Rpp2mDQlUoDs"
      },
      "outputs": [],
      "source": [
        "myl = [x+10 for x in range(5) if x%2 == 0]\n",
        "myl"
      ]
    },
    {
      "cell_type": "code",
      "execution_count": null,
      "metadata": {
        "id": "QF9r4Fd7UoDs"
      },
      "outputs": [],
      "source": [
        "\"kartupelis\"[::2]"
      ]
    },
    {
      "cell_type": "code",
      "execution_count": null,
      "metadata": {
        "id": "_OCEpUgjUoDs"
      },
      "outputs": [],
      "source": [
        "mytlist = [\"Letter is \"+ c for c in \"kartupelis\" if c > 'e']\n",
        "mytlist"
      ]
    },
    {
      "cell_type": "code",
      "execution_count": null,
      "metadata": {
        "id": "IDS-0L4VUoDs"
      },
      "outputs": [],
      "source": [
        "name = \"Valdis Saules\"\n",
        "mynd = {\"key \"+c: ord(c) for c in name}\n",
        "mynd"
      ]
    },
    {
      "cell_type": "code",
      "execution_count": null,
      "metadata": {
        "id": "CyxcLwj6UoDs"
      },
      "outputs": [],
      "source": [
        "name = \"Valdis Saules\"\n",
        "mynd = {\"key \"+c+str(i): [c, ord(c)] for i,c in enumerate(name)}\n",
        "mynd"
      ]
    },
    {
      "cell_type": "code",
      "execution_count": null,
      "metadata": {
        "id": "bVUMhk4RUoDs"
      },
      "outputs": [],
      "source": [
        "mylist=[]\n",
        "for x in range(10):\n",
        "    mylist.append(x+5)\n"
      ]
    },
    {
      "cell_type": "code",
      "execution_count": null,
      "metadata": {
        "id": "2zfvbHQuUoDs"
      },
      "outputs": [],
      "source": [
        "# Note that this creates (or overwrites) a variable named x that still exists after the loop completes. We can calculate the list of squares without any side effects using:\n",
        "\n",
        "# squares = list(map(lambda x: x**2, range(10)))\n",
        "\n",
        "squares = [x**2 for x in range(10)]\n",
        "squares"
      ]
    },
    {
      "cell_type": "code",
      "execution_count": null,
      "metadata": {
        "id": "dn54QaiEUoDt"
      },
      "outputs": [],
      "source": [
        "squares = [x**2 for x in range(10) if x % 2 == 1]\n",
        "squares"
      ]
    },
    {
      "cell_type": "code",
      "execution_count": null,
      "metadata": {
        "id": "tKbvKa93UoDt"
      },
      "outputs": [],
      "source": [
        "mydict = {\"key \"+c: ord(c) for c in \"kartupelis\"}\n",
        "mydict"
      ]
    },
    {
      "cell_type": "code",
      "execution_count": null,
      "metadata": {
        "id": "vm1kM6TzUoDt"
      },
      "outputs": [],
      "source": [
        "# In addition, dict comprehensions can be used to create dictionaries from arbitrary key and value expressions:\n",
        "\n",
        "\n",
        "sqrs={str(x): x**2 for x in range(1,20)}\n",
        "print(sqrs)\n"
      ]
    },
    {
      "cell_type": "code",
      "execution_count": null,
      "metadata": {
        "id": "s5lj9DTHUoDt"
      },
      "outputs": [],
      "source": [
        "sqrs[5]\n"
      ]
    },
    {
      "cell_type": "code",
      "execution_count": null,
      "metadata": {
        "id": "gSaK1fkVUoDt"
      },
      "outputs": [],
      "source": [
        "#When looping through dictionaries, the key and corresponding value can be retrieved at the same time using the items() method.\n",
        "\n",
        "knights = {'gallahad': 'the pure', 'robin': 'the brave'}\n",
        "for k, v in knights.items():\n",
        "    print(k, v)"
      ]
    },
    {
      "cell_type": "markdown",
      "metadata": {
        "id": "tQnQ9ewvUoDt"
      },
      "source": [
        "## Avoid changing the sequence that you loop(iterate) over!"
      ]
    },
    {
      "cell_type": "code",
      "execution_count": null,
      "metadata": {
        "id": "b9NJpVaVUoDt"
      },
      "outputs": [],
      "source": [
        "mlist = list(range(10))\n",
        "mlist"
      ]
    },
    {
      "cell_type": "code",
      "execution_count": null,
      "metadata": {
        "id": "TssGi0S2UoDt"
      },
      "outputs": [],
      "source": [
        "for el in mlist:\n",
        "    print(el)\n",
        "    # do not modify mlist when going looping through:"
      ]
    },
    {
      "cell_type": "code",
      "execution_count": null,
      "metadata": {
        "id": "Ux7H8SHvUoDt"
      },
      "outputs": [],
      "source": [
        "names"
      ]
    },
    {
      "cell_type": "code",
      "execution_count": null,
      "metadata": {
        "id": "jJYLLVrhUoDu"
      },
      "outputs": [],
      "source": [
        "\n",
        "for n in names[:]: #Looping over shallow copy of a list useful if we are going to modify the original list!\n",
        "    if n[0]=='B':\n",
        "        names.append(n)\n",
        "print(names)\n",
        "    "
      ]
    },
    {
      "cell_type": "code",
      "execution_count": null,
      "metadata": {
        "id": "rTFkUzq_UoDu"
      },
      "outputs": [],
      "source": [
        "## Enumerate method\n",
        "#When looping through a sequence, the position index and corresponding value can be retrieved at the same time using the enumerate() function.\n",
        "\n",
        "\n",
        "for i, v in enumerate(['tic', 'tac', 'toe']):\n",
        "    print(i, v)\n"
      ]
    },
    {
      "cell_type": "markdown",
      "metadata": {
        "id": "WovTXXV8UoDu"
      },
      "source": [
        "### To loop over two or more sequences at the same time, the entries can be paired with the zip() function."
      ]
    },
    {
      "cell_type": "code",
      "execution_count": null,
      "metadata": {
        "id": "efrpF_4MUoDu"
      },
      "outputs": [],
      "source": [
        "mlist"
      ]
    },
    {
      "cell_type": "code",
      "execution_count": null,
      "metadata": {
        "id": "F0btvs0FUoDv"
      },
      "outputs": [],
      "source": [
        "# two ways of looping through list and creating a new list\n",
        "clist = []\n",
        "for el in mlist:\n",
        "    clist.append(el**3)\n",
        "clist"
      ]
    },
    {
      "cell_type": "code",
      "execution_count": null,
      "metadata": {
        "id": "1vti4AqjUoDv"
      },
      "outputs": [],
      "source": [
        "# second way of creating a list\n",
        "clist = [x**3 for x in range(10)]\n",
        "clist"
      ]
    },
    {
      "cell_type": "code",
      "execution_count": null,
      "metadata": {
        "id": "WdssDEtjUoDw"
      },
      "outputs": [],
      "source": [
        "for a,b in zip(mlist,clist[:5]):\n",
        "    print(a,b)"
      ]
    },
    {
      "cell_type": "code",
      "execution_count": null,
      "metadata": {
        "id": "nU8_KmHxUoDw"
      },
      "outputs": [],
      "source": [
        "questions = ['name', 'quest', 'favorite color']\n",
        "answers = ['lancelot', 'the holy grail', 'blue']\n",
        "for q, a in zip(questions, answers):\n",
        "    print(f'What is your {q}?  It is {a}.')"
      ]
    },
    {
      "cell_type": "code",
      "execution_count": null,
      "metadata": {
        "id": "LY6smnk1UoDw"
      },
      "outputs": [],
      "source": [
        "# To loop over a sequence in reverse, first specify the sequence in a forward direction and then call the reversed() function.\n",
        "\n",
        "\n",
        "for i in reversed(range(1, 10, 2)):\n",
        "    print(i)"
      ]
    },
    {
      "cell_type": "code",
      "execution_count": null,
      "metadata": {
        "id": "0X1fehCcUoDx"
      },
      "outputs": [],
      "source": [
        "# To loop over a sequence in sorted order, use the sorted() function which returns a new sorted list while leaving the source unaltered.\n",
        "\n",
        "\n",
        "basket = ['apple', 'orange', 'apple', 'pear', 'orange', 'banana']\n",
        "for f in sorted(set(basket)):\n",
        "    print(f)"
      ]
    },
    {
      "cell_type": "markdown",
      "metadata": {
        "id": "JU9hUvNVUoDx"
      },
      "source": [
        "## Homework\n",
        "### Write a program that goes over(iterates) numbers from 1 to 100(included)\n",
        "* For each number it prints Fizz if number divides by 5 even\n",
        "* For each number it prints Buzz if number divides by 7 evenly\n",
        "* If number divides by 5 AND 7 print FizzBuzz\n",
        "* print number if it does not divide by 5 nor 7\n",
        "* 1,2,3,4,Fizz,6,Buzz,8,9,Fizz,11,.......34,FizzBuzz,36"
      ]
    },
    {
      "cell_type": "code",
      "execution_count": null,
      "metadata": {
        "id": "_zrvjRmLUoDx"
      },
      "outputs": [],
      "source": [
        "1,2,3,4,\"Fizz\""
      ]
    },
    {
      "cell_type": "code",
      "execution_count": null,
      "metadata": {
        "id": "VdCMZStwUoDy"
      },
      "outputs": [],
      "source": [
        "for x in range(1,101):\n",
        "    print(x)"
      ]
    }
  ],
  "metadata": {
    "kernelspec": {
      "display_name": "Python 3",
      "language": "python",
      "name": "python3"
    },
    "language_info": {
      "codemirror_mode": {
        "name": "ipython",
        "version": 3
      },
      "file_extension": ".py",
      "mimetype": "text/x-python",
      "name": "python",
      "nbconvert_exporter": "python",
      "pygments_lexer": "ipython3",
      "version": "3.7.3"
    },
    "colab": {
      "name": "Python Flow Control.ipynb",
      "provenance": []
    }
  },
  "nbformat": 4,
  "nbformat_minor": 0
}