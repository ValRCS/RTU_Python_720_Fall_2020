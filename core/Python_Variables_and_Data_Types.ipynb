{
  "cells": [
    {
      "cell_type": "markdown",
      "metadata": {
        "id": "8iV5zccnRRCR"
      },
      "source": [
        "# Variables, Arithmetic and Data Types\n"
      ]
    },
    {
      "cell_type": "code",
      "execution_count": 2,
      "metadata": {
        "colab": {
          "base_uri": "https://localhost:8080/"
        },
        "id": "TkyF9EDDRRCV",
        "outputId": "2887224b-662b-4659-b383-725c59ddd619"
      },
      "outputs": [
        {
          "output_type": "stream",
          "name": "stdout",
          "text": [
            "hello Variables\n"
          ]
        }
      ],
      "source": [
        "print(\"hello Variables\")"
      ]
    },
    {
      "cell_type": "code",
      "execution_count": 3,
      "metadata": {
        "colab": {
          "base_uri": "https://localhost:8080/"
        },
        "id": "stGKPRgpRRCY",
        "outputId": "4516bb4f-8e48-43a4-fcf9-378bee767157"
      },
      "outputs": [
        {
          "output_type": "stream",
          "name": "stdout",
          "text": [
            "sample_data\n"
          ]
        }
      ],
      "source": [
        "!dir # not python ! gives us access to command line commands"
      ]
    },
    {
      "cell_type": "code",
      "execution_count": 5,
      "metadata": {
        "colab": {
          "base_uri": "https://localhost:8080/"
        },
        "id": "unPWF0TfRRCY",
        "outputId": "bdf13e33-e722-4deb-868f-73a39c2e2c7f"
      },
      "outputs": [
        {
          "output_type": "stream",
          "name": "stdout",
          "text": [
            "This is printing\n"
          ]
        }
      ],
      "source": [
        "# This is a comment for humans not computer, so think of a note for future ourselves\n",
        "# best comments are those that explain WHY we are doing something\n",
        "print(\"This is printing\") # this prints something is not a great comment past beginner stage\n",
        "# print(\"This is not printing\") # so Ctrl+/ works in most code editors for Python (and many other languages)"
      ]
    },
    {
      "cell_type": "code",
      "execution_count": 14,
      "metadata": {
        "id": "ig96FTviRRCZ"
      },
      "outputs": [],
      "source": [
        "myname = \"Valdis\" # in python we need no special keyword for variables\n",
        "# so variable myname now points to string literal \"Valdis\"\n"
      ]
    },
    {
      "cell_type": "code",
      "source": [
        "print(myname)"
      ],
      "metadata": {
        "colab": {
          "base_uri": "https://localhost:8080/"
        },
        "id": "91yNa3vYUupJ",
        "outputId": "08897c77-9420-4340-d27d-9dd32434931d"
      },
      "execution_count": 10,
      "outputs": [
        {
          "output_type": "stream",
          "name": "stdout",
          "text": [
            "Valdis\n"
          ]
        }
      ]
    },
    {
      "cell_type": "code",
      "source": [
        "myname # lazy approach in notebooks, it prints the last line in a developer mode - gives you '' around strings for one"
      ],
      "metadata": {
        "colab": {
          "base_uri": "https://localhost:8080/",
          "height": 35
        },
        "id": "7O6NedEiUxVe",
        "outputId": "714430ca-0838-46f3-a968-07e9dfec4a25"
      },
      "execution_count": 9,
      "outputs": [
        {
          "output_type": "execute_result",
          "data": {
            "application/vnd.google.colaboratory.intrinsic+json": {
              "type": "string"
            },
            "text/plain": [
              "'Valdis'"
            ]
          },
          "metadata": {},
          "execution_count": 9
        }
      ]
    },
    {
      "cell_type": "code",
      "execution_count": 11,
      "metadata": {
        "colab": {
          "base_uri": "https://localhost:8080/",
          "height": 53
        },
        "id": "kNoBpN5eRRCZ",
        "outputId": "a3374500-ebac-491c-95dd-5a503e55079b"
      },
      "outputs": [
        {
          "output_type": "stream",
          "name": "stdout",
          "text": [
            "Val\n"
          ]
        },
        {
          "output_type": "execute_result",
          "data": {
            "application/vnd.google.colaboratory.intrinsic+json": {
              "type": "string"
            },
            "text/plain": [
              "'Val'"
            ]
          },
          "metadata": {},
          "execution_count": 11
        }
      ],
      "source": [
        "myname = \"Val\" # reassigns myname to point at a different string literal \"Val\"\n",
        "# 'Valdis' if no variable is pointing at it, will be deleted automatically (garbage collection)\n",
        "print(myname)  # this prints to standard output by defaul\n",
        "myname  # this line will not be printed\n",
        "myname  # as the last one it will be printed\n"
      ]
    },
    {
      "cell_type": "code",
      "execution_count": 15,
      "metadata": {
        "colab": {
          "base_uri": "https://localhost:8080/"
        },
        "id": "yWwG0dnYRRCZ",
        "outputId": "8a9d6cb1-f663-4f29-d907-ce97dc1fb236"
      },
      "outputs": [
        {
          "output_type": "stream",
          "name": "stdout",
          "text": [
            "My name is Valdis\n"
          ]
        }
      ],
      "source": [
        "print(\"My name is\", myname)  # so by default print separates different variables, strings by one whitespace"
      ]
    },
    {
      "cell_type": "code",
      "source": [
        "print(\"My name is\", myname, sep=\"-\\*/-\")  # i can put a fancy separator, not used too often"
      ],
      "metadata": {
        "colab": {
          "base_uri": "https://localhost:8080/"
        },
        "id": "2UwtbFySVyov",
        "outputId": "a193784b-4b09-48e5-cf05-89ced2eff4e9"
      },
      "execution_count": 13,
      "outputs": [
        {
          "output_type": "stream",
          "name": "stdout",
          "text": [
            "My name is-\\*/-Val\n"
          ]
        }
      ]
    },
    {
      "cell_type": "code",
      "execution_count": null,
      "metadata": {
        "id": "iQSdE0E7RRCa"
      },
      "outputs": [],
      "source": [
        "# Generally you should run cells in order because easier to reason about"
      ]
    },
    {
      "cell_type": "code",
      "execution_count": null,
      "metadata": {
        "id": "J1Iq34W7RRCb"
      },
      "outputs": [],
      "source": [
        "# variable names should start with lowercase letter \n",
        "# and can contain letters, numbers and underscores\n"
      ]
    },
    {
      "cell_type": "code",
      "execution_count": 16,
      "metadata": {
        "colab": {
          "base_uri": "https://localhost:8080/"
        },
        "id": "As3uxaNRRRCb",
        "outputId": "2d60afcd-d517-49e6-975d-8e1d6b7cc095"
      },
      "outputs": [
        {
          "output_type": "stream",
          "name": "stdout",
          "text": [
            "6\n",
            "50\n"
          ]
        }
      ],
      "source": [
        "my_var = 6\n",
        "print(my_var) # snake syntax meaning _ syntax\n",
        "myVar = 50 # camelCase syntax common in Javascript other programming\n",
        "print(myVar) \n",
        "# Recommendation is to keep one style for one project, one notebook, so mixing two styles is generally not recommended"
      ]
    },
    {
      "cell_type": "code",
      "source": [
        "name = \"Valdis\"\n",
        "print(name) # this prints the contents to which the variable points at\n",
        "print(\"name\")  # we print the so called string literal - not a variable"
      ],
      "metadata": {
        "colab": {
          "base_uri": "https://localhost:8080/"
        },
        "id": "kTF1y04YXs_H",
        "outputId": "5fe6ee24-318e-42f7-8cb5-eb32e0d62a3b"
      },
      "execution_count": 17,
      "outputs": [
        {
          "output_type": "stream",
          "name": "stdout",
          "text": [
            "Valdis\n",
            "name\n"
          ]
        }
      ]
    },
    {
      "cell_type": "code",
      "execution_count": null,
      "metadata": {
        "id": "YSXgLLJhRRCc"
      },
      "outputs": [],
      "source": [
        "\n",
        "The following identifiers are used as reserved words, or keywords of the language, and cannot be used as ordinary identifiers. They must be spelled exactly as written here:\n",
        "\n",
        "False      class      finally    is         return\n",
        "None       continue   for        lambda     try\n",
        "True       def        from       nonlocal   while\n",
        "and        del        global     not        with\n",
        "as         elif       if         or         yield\n",
        "assert     else       import     pass\n",
        "break      except     in         raise"
      ]
    },
    {
      "cell_type": "code",
      "execution_count": 22,
      "metadata": {
        "colab": {
          "base_uri": "https://localhost:8080/"
        },
        "id": "--V-N2PwRRCc",
        "outputId": "738199c3-4b99-431a-b264-73bd2c25d377"
      },
      "outputs": [
        {
          "output_type": "stream",
          "name": "stdout",
          "text": [
            "My favorite foods are potatoes and carrots\n"
          ]
        }
      ],
      "source": [
        "my_food = \"carrots\"\n",
        "my_other_food = my_food  # here my_other_food points at the same string(text) as my_food\n",
        "my_food = \"potatoes\" # now my_food points at a new string value, BUT my_other_food still points at the original carrots string\n",
        "print(\"My favorite foods are\", my_food, \"and\", my_other_food) # the names have to exist before we print them"
      ]
    },
    {
      "cell_type": "code",
      "execution_count": null,
      "metadata": {
        "id": "m1aygmsIRRCd"
      },
      "outputs": [],
      "source": [
        "my_food = \"oats\""
      ]
    },
    {
      "cell_type": "code",
      "execution_count": null,
      "metadata": {
        "id": "4d0jtbJaRRCd"
      },
      "outputs": [],
      "source": [
        "my_food = \"blueberries\""
      ]
    },
    {
      "cell_type": "code",
      "execution_count": null,
      "metadata": {
        "id": "byJJvrpTRRCd"
      },
      "outputs": [],
      "source": [
        "\n",
        "\n",
        "print(\"My favorite foods are\", my_food, \"and\", my_other_food)"
      ]
    },
    {
      "cell_type": "code",
      "execution_count": 23,
      "metadata": {
        "colab": {
          "base_uri": "https://localhost:8080/"
        },
        "id": "Mmz7aCc4RRCd",
        "outputId": "e1425bef-e33a-4465-a2c1-cf63e34cde0a"
      },
      "outputs": [
        {
          "output_type": "execute_result",
          "data": {
            "text/plain": [
              "str"
            ]
          },
          "metadata": {},
          "execution_count": 23
        }
      ],
      "source": [
        "type(my_food) # we can determine the data type"
      ]
    },
    {
      "cell_type": "code",
      "source": [
        "type(\"Valdis\")"
      ],
      "metadata": {
        "colab": {
          "base_uri": "https://localhost:8080/"
        },
        "id": "4bGYuC2kZulD",
        "outputId": "b7da15e5-4545-4646-c3d1-e22044f85692"
      },
      "execution_count": 24,
      "outputs": [
        {
          "output_type": "execute_result",
          "data": {
            "text/plain": [
              "str"
            ]
          },
          "metadata": {},
          "execution_count": 24
        }
      ]
    },
    {
      "cell_type": "code",
      "source": [
        "RTU = \"Riga Technical University\" # uppercase are generally reserver for constant value, it is a convention not a prohibition\n",
        "# so RTU is really a variable, but the uppercase indicates that it should not be changed, but there is no hard prohibition\n",
        "my_school = RTU\n",
        "type(my_school), my_school, RTU"
      ],
      "metadata": {
        "colab": {
          "base_uri": "https://localhost:8080/"
        },
        "id": "THfnb1RUZx0t",
        "outputId": "801f1f6c-9101-48da-817a-124d0ce45814"
      },
      "execution_count": 30,
      "outputs": [
        {
          "output_type": "execute_result",
          "data": {
            "text/plain": [
              "(str, 'Riga Technical University', 'Riga Technical University')"
            ]
          },
          "metadata": {},
          "execution_count": 30
        }
      ]
    },
    {
      "cell_type": "code",
      "source": [
        "print(RTU, my_school)"
      ],
      "metadata": {
        "colab": {
          "base_uri": "https://localhost:8080/"
        },
        "id": "S_KVek3iaYTv",
        "outputId": "f65be9fe-c726-4e20-a887-8e8ea16672dc"
      },
      "execution_count": 31,
      "outputs": [
        {
          "output_type": "stream",
          "name": "stdout",
          "text": [
            "Riga Technical University Riga Technical University\n"
          ]
        }
      ]
    },
    {
      "cell_type": "code",
      "source": [
        "# so good variable names should be descriptive but also as short as possible\n",
        "# my_really_important_variable_with_contents_of_my_thesis is a bit too long for a variable name\n",
        "# learning materials tend to use short names and often they are too short\n",
        "# a,b,c should be avoided unless you can figure out what they mean from context\n",
        "# there some short variable names that are widely used\n",
        "# c - could mean a single character (even though Python only has strings does not have character data type) so string with single char\n",
        "# f - could be file name, or file stream\n",
        "# i - this is very common in many languages it could be index, iterator, something we count\n",
        "# s - could be text/string \n",
        "# t - time or temporary\n",
        "# x,y,z for coordinate variables would be ok\n",
        "\n",
        "# something like aa would be pretty weak name unless you have some specific domain where it makes sense\n",
        "# aa - could be american_airlines or something else\n",
        "\n",
        "# one of the hardest tasks in programming is coming up with good variable names"
      ],
      "metadata": {
        "id": "pOn0Ug03ar6b"
      },
      "execution_count": 33,
      "outputs": []
    },
    {
      "cell_type": "code",
      "source": [
        "print(type(\"Valdis\"))"
      ],
      "metadata": {
        "id": "pZgJ7pgecWGx",
        "outputId": "9c13a28b-91fa-491b-cc40-d6e785257fce",
        "colab": {
          "base_uri": "https://localhost:8080/"
        }
      },
      "execution_count": 34,
      "outputs": [
        {
          "output_type": "stream",
          "name": "stdout",
          "text": [
            "<class 'str'>\n"
          ]
        }
      ]
    },
    {
      "cell_type": "code",
      "execution_count": 35,
      "metadata": {
        "colab": {
          "base_uri": "https://localhost:8080/"
        },
        "id": "9wLrSllvRRCe",
        "outputId": "9da3396d-6edb-456d-9ed6-787b74b589d8"
      },
      "outputs": [
        {
          "output_type": "execute_result",
          "data": {
            "text/plain": [
              "int"
            ]
          },
          "metadata": {},
          "execution_count": 35
        }
      ],
      "source": [
        "type(5)"
      ]
    },
    {
      "cell_type": "code",
      "execution_count": 36,
      "metadata": {
        "colab": {
          "base_uri": "https://localhost:8080/"
        },
        "id": "c5qJBMEvRRCe",
        "outputId": "e3d1b9c7-4248-4b74-a047-ac9dfa8dd0c8"
      },
      "outputs": [
        {
          "output_type": "execute_result",
          "data": {
            "text/plain": [
              "str"
            ]
          },
          "metadata": {},
          "execution_count": 36
        }
      ],
      "source": [
        "type(\"5\")"
      ]
    },
    {
      "cell_type": "code",
      "source": [
        "print(type(5), type(\"5\")) # one is an integer one is a string data type"
      ],
      "metadata": {
        "id": "6IVaIBCZdkyU",
        "outputId": "b2069749-938d-4e12-d7fa-108d79e4b06e",
        "colab": {
          "base_uri": "https://localhost:8080/"
        }
      },
      "execution_count": 37,
      "outputs": [
        {
          "output_type": "stream",
          "name": "stdout",
          "text": [
            "<class 'int'> <class 'str'>\n"
          ]
        }
      ]
    },
    {
      "cell_type": "code",
      "execution_count": 38,
      "metadata": {
        "colab": {
          "base_uri": "https://localhost:8080/"
        },
        "id": "ppgdjez4RRCe",
        "outputId": "d4b73757-5701-41c3-b20c-b5903bad8bc4"
      },
      "outputs": [
        {
          "output_type": "execute_result",
          "data": {
            "text/plain": [
              "int"
            ]
          },
          "metadata": {},
          "execution_count": 38
        }
      ],
      "source": [
        "a = 42\n",
        "type(a)"
      ]
    },
    {
      "cell_type": "code",
      "execution_count": 40,
      "metadata": {
        "colab": {
          "base_uri": "https://localhost:8080/"
        },
        "id": "Ryw4bxoRRRCe",
        "outputId": "99c223c7-5cd6-431b-c2f8-3fe7a5bc15d5"
      },
      "outputs": [
        {
          "output_type": "execute_result",
          "data": {
            "text/plain": [
              "str"
            ]
          },
          "metadata": {},
          "execution_count": 40
        }
      ],
      "source": [
        "a = \"answer\"\n",
        "type(a)\n",
        "# this means that in Python data types are dynamic - can be changed, \n",
        "# this can be convenient but can lead to errors in a longer code (or notebook)"
      ]
    },
    {
      "cell_type": "code",
      "execution_count": 42,
      "metadata": {
        "colab": {
          "base_uri": "https://localhost:8080/"
        },
        "id": "iFFjbPNoRRCf",
        "outputId": "88e2ec4f-0f57-417e-aadf-1e08c4b08fc3"
      },
      "outputs": [
        {
          "output_type": "execute_result",
          "data": {
            "text/plain": [
              "str"
            ]
          },
          "metadata": {},
          "execution_count": 42
        }
      ],
      "source": [
        "type(myname)"
      ]
    },
    {
      "cell_type": "code",
      "source": [
        "myname = 7\n",
        "type(myname)"
      ],
      "metadata": {
        "id": "rSrSWfYreKRe",
        "outputId": "2e67921f-ae53-4e3e-8301-2622a83b604f",
        "colab": {
          "base_uri": "https://localhost:8080/"
        }
      },
      "execution_count": 43,
      "outputs": [
        {
          "output_type": "execute_result",
          "data": {
            "text/plain": [
              "int"
            ]
          },
          "metadata": {},
          "execution_count": 43
        }
      ]
    },
    {
      "cell_type": "markdown",
      "metadata": {
        "id": "h0Mkcyy6RRCf"
      },
      "source": [
        "## Data types in Python 3.x\n",
        "* Integers type(42) int \n",
        "* Floating Point type(3.14) float\n",
        "* Boolean type(True),type(False) bool\n",
        "* String(ordered, **immutable** char sequence) type(\"OyCaramba\") str\n",
        "* List type([1,2,63,\"aha\",\"youcanmixtypeinsidelist\", [\"even\",\"nest\"]]) list\n",
        "* Dictionary(key:value pairs) type({\"foo\":\"bar\", \"favoriteday\":\"Friday\"}) dict\n",
        "* Tuple - ordered immutable sequence type(\"sup\",7,\"dwarves\") tup\n",
        "* Set (unordered collection of uniques) (\"k\",\"a\",\"r\",\"t\",\"u\",\"p\",\"e\",\"l\",\"i\",\"s\")\n",
        "\n"
      ]
    },
    {
      "cell_type": "code",
      "execution_count": 44,
      "metadata": {
        "colab": {
          "base_uri": "https://localhost:8080/"
        },
        "id": "ErYO3w5pRRCf",
        "outputId": "3270e045-19a4-41bd-df95-1fe728506f9b"
      },
      "outputs": [
        {
          "output_type": "stream",
          "name": "stdout",
          "text": [
            "<class 'int'> <class 'int'>\n"
          ]
        }
      ],
      "source": [
        "a=42\n",
        "print(type(a), type(42))"
      ]
    },
    {
      "cell_type": "code",
      "execution_count": 45,
      "metadata": {
        "colab": {
          "base_uri": "https://localhost:8080/"
        },
        "id": "foZCMBI8RRCf",
        "outputId": "9a334daa-ec67-4491-946a-ed3b4b51f295"
      },
      "outputs": [
        {
          "output_type": "stream",
          "name": "stdout",
          "text": [
            "20 94400372857952\n"
          ]
        }
      ],
      "source": [
        "b=20\n",
        "print(b, id(b)) # id means some memory location(virtual)"
      ]
    },
    {
      "cell_type": "code",
      "execution_count": 46,
      "metadata": {
        "colab": {
          "base_uri": "https://localhost:8080/"
        },
        "id": "e583Dwr1RRCg",
        "outputId": "f5511202-537f-4d2e-f60c-cbff7b866636"
      },
      "outputs": [
        {
          "output_type": "stream",
          "name": "stdout",
          "text": [
            "200 94400372863712\n"
          ]
        }
      ],
      "source": [
        "c=200\n",
        "print(c, id(c))"
      ]
    },
    {
      "cell_type": "code",
      "source": [
        "my_number = 200\n",
        "print(my_number, id(my_number)) # so id's in this case will match because both variables c and my_number are pointing to the same memory location"
      ],
      "metadata": {
        "id": "ohelt2BRe7I-",
        "outputId": "94df11f9-d2f3-4d3b-85e0-70c4544485dc",
        "colab": {
          "base_uri": "https://localhost:8080/"
        }
      },
      "execution_count": 48,
      "outputs": [
        {
          "output_type": "stream",
          "name": "stdout",
          "text": [
            "200 94400372863712\n"
          ]
        }
      ]
    },
    {
      "cell_type": "code",
      "execution_count": 49,
      "metadata": {
        "colab": {
          "base_uri": "https://localhost:8080/"
        },
        "id": "hlIF81BqRRCg",
        "outputId": "bd44309c-4efc-4cc8-86fa-eb6e88959192"
      },
      "outputs": [
        {
          "output_type": "stream",
          "name": "stdout",
          "text": [
            "3.1415926 <class 'float'>\n"
          ]
        }
      ],
      "source": [
        "pi = 3.1415926 # so in Python we use . not comma\n",
        "print(pi, type(pi))"
      ]
    },
    {
      "cell_type": "code",
      "execution_count": 51,
      "metadata": {
        "colab": {
          "base_uri": "https://localhost:8080/"
        },
        "id": "JwiSDYn9RRCg",
        "outputId": "831b3d79-0ca9-4d6a-939b-3000c945fb25"
      },
      "outputs": [
        {
          "output_type": "stream",
          "name": "stdout",
          "text": [
            "4 <class 'int'>\n"
          ]
        }
      ],
      "source": [
        "result = 2+2\n",
        "print(result, type(result))"
      ]
    },
    {
      "cell_type": "code",
      "execution_count": 52,
      "metadata": {
        "colab": {
          "base_uri": "https://localhost:8080/"
        },
        "id": "8haNp02WRRCg",
        "outputId": "83bad35f-635b-44aa-ff05-f1d39a015d75"
      },
      "outputs": [
        {
          "output_type": "stream",
          "name": "stdout",
          "text": [
            "15.0 <class 'float'>\n"
          ]
        }
      ],
      "source": [
        "res2 = 30/2 # so 30/2 gives you what data type?\n",
        "print(res2, type(res2))"
      ]
    },
    {
      "cell_type": "code",
      "source": [
        "res3 = 10 / 3 \n",
        "print(res3, type(res3))"
      ],
      "metadata": {
        "id": "yhmXBf87fd_K",
        "outputId": "9025f287-c39d-4a11-e23b-8fa4ddfece23",
        "colab": {
          "base_uri": "https://localhost:8080/"
        }
      },
      "execution_count": 53,
      "outputs": [
        {
          "output_type": "stream",
          "name": "stdout",
          "text": [
            "3.3333333333333335 <class 'float'>\n"
          ]
        }
      ]
    },
    {
      "cell_type": "code",
      "execution_count": 54,
      "metadata": {
        "colab": {
          "base_uri": "https://localhost:8080/"
        },
        "id": "syrGuvsRRRCg",
        "outputId": "9d33d95b-5f9e-4114-d3a4-d190a3c3a616"
      },
      "outputs": [
        {
          "output_type": "execute_result",
          "data": {
            "text/plain": [
              "15"
            ]
          },
          "metadata": {},
          "execution_count": 54
        }
      ],
      "source": [
        "30//2 # this gives you whole part"
      ]
    },
    {
      "cell_type": "code",
      "execution_count": 55,
      "metadata": {
        "colab": {
          "base_uri": "https://localhost:8080/"
        },
        "id": "Ded7w0fMRRCh",
        "outputId": "b925feb3-e5fa-4779-ebc6-58525a14f86e"
      },
      "outputs": [
        {
          "output_type": "execute_result",
          "data": {
            "text/plain": [
              "(3.5, 3)"
            ]
          },
          "metadata": {},
          "execution_count": 55
        }
      ],
      "source": [
        "7 / 2, 7 // 2"
      ]
    },
    {
      "cell_type": "code",
      "source": [
        "7*5, 7**2  # so * for multiplication and ** for raising powers"
      ],
      "metadata": {
        "id": "ihjVjWVTf6py",
        "outputId": "d18b706c-b199-442c-b651-80665cb21231",
        "colab": {
          "base_uri": "https://localhost:8080/"
        }
      },
      "execution_count": 56,
      "outputs": [
        {
          "output_type": "execute_result",
          "data": {
            "text/plain": [
              "(35, 49)"
            ]
          },
          "metadata": {},
          "execution_count": 56
        }
      ]
    },
    {
      "cell_type": "code",
      "source": [
        "10**100"
      ],
      "metadata": {
        "id": "ZVGduhpcgBh5",
        "outputId": "46d57557-fe5c-4aa6-d3ca-3fb9dbd612b4",
        "colab": {
          "base_uri": "https://localhost:8080/"
        }
      },
      "execution_count": 57,
      "outputs": [
        {
          "output_type": "execute_result",
          "data": {
            "text/plain": [
              "10000000000000000000000000000000000000000000000000000000000000000000000000000000000000000000000000000"
            ]
          },
          "metadata": {},
          "execution_count": 57
        }
      ]
    },
    {
      "cell_type": "code",
      "source": [
        "googol = 10**100\n",
        "print(googol, type(googol))"
      ],
      "metadata": {
        "id": "OZt82REOgEQB",
        "outputId": "811f26d6-18a6-4169-bae2-5cb58c484371",
        "colab": {
          "base_uri": "https://localhost:8080/"
        }
      },
      "execution_count": 58,
      "outputs": [
        {
          "output_type": "stream",
          "name": "stdout",
          "text": [
            "10000000000000000000000000000000000000000000000000000000000000000000000000000000000000000000000000000 <class 'int'>\n"
          ]
        }
      ]
    },
    {
      "cell_type": "code",
      "source": [
        "negative_big = -3432532505820582\n",
        "print(negative_big, type(negative_big))"
      ],
      "metadata": {
        "id": "-lXxPMgZgMrq",
        "outputId": "35777b27-7f4c-453e-8306-eff0ec581189",
        "colab": {
          "base_uri": "https://localhost:8080/"
        }
      },
      "execution_count": 59,
      "outputs": [
        {
          "output_type": "stream",
          "name": "stdout",
          "text": [
            "-3432532505820582 <class 'int'>\n"
          ]
        }
      ]
    },
    {
      "cell_type": "code",
      "execution_count": 60,
      "metadata": {
        "colab": {
          "base_uri": "https://localhost:8080/"
        },
        "id": "JqH066EyRRCh",
        "outputId": "3524ec1d-8e13-4a00-a034-de7c72562a38"
      },
      "outputs": [
        {
          "output_type": "execute_result",
          "data": {
            "text/plain": [
              "2"
            ]
          },
          "metadata": {},
          "execution_count": 60
        }
      ],
      "source": [
        "7%5 # so % gives you reminder, there is a tiny bit of difference modulo"
      ]
    },
    {
      "cell_type": "code",
      "execution_count": 61,
      "metadata": {
        "colab": {
          "base_uri": "https://localhost:8080/"
        },
        "id": "Kac5cFUkRRCh",
        "outputId": "2da2f58a-df3d-4034-f3d4-46096898f048"
      },
      "outputs": [
        {
          "output_type": "execute_result",
          "data": {
            "text/plain": [
              "(1, 0, 1, 0, 1, 0)"
            ]
          },
          "metadata": {},
          "execution_count": 61
        }
      ],
      "source": [
        "7%2, 8%2, 9%2, 10%2, 11%2, 12%2 # so % 2 will let us determine if number is ?"
      ]
    },
    {
      "cell_type": "code",
      "execution_count": 62,
      "metadata": {
        "colab": {
          "base_uri": "https://localhost:8080/"
        },
        "id": "wDeV_L9GRRCh",
        "outputId": "cd5c61d6-406b-41f4-d3bd-e8c10e57836c"
      },
      "outputs": [
        {
          "output_type": "execute_result",
          "data": {
            "text/plain": [
              "4"
            ]
          },
          "metadata": {},
          "execution_count": 62
        }
      ],
      "source": [
        "535264264624 % 10 # this will give us ?"
      ]
    },
    {
      "cell_type": "code",
      "source": [
        ""
      ],
      "metadata": {
        "id": "4t1ikru8g4Kl"
      },
      "execution_count": null,
      "outputs": []
    },
    {
      "cell_type": "code",
      "execution_count": 63,
      "metadata": {
        "colab": {
          "base_uri": "https://localhost:8080/"
        },
        "outputId": "7be87ae8-5e70-4efd-f0ed-011eedb38beb",
        "id": "BICiPST3g6Zo"
      },
      "outputs": [
        {
          "output_type": "execute_result",
          "data": {
            "text/plain": [
              "24"
            ]
          },
          "metadata": {},
          "execution_count": 63
        }
      ],
      "source": [
        "535264264624 % 100 # this will give us ?"
      ]
    },
    {
      "cell_type": "code",
      "source": [
        "535264264624 / 100"
      ],
      "metadata": {
        "id": "9qEU23SWg9wP",
        "outputId": "a8719771-d622-437e-eadd-6e013faadc6e",
        "colab": {
          "base_uri": "https://localhost:8080/"
        }
      },
      "execution_count": 64,
      "outputs": [
        {
          "output_type": "execute_result",
          "data": {
            "text/plain": [
              "5352642646.24"
            ]
          },
          "metadata": {},
          "execution_count": 64
        }
      ]
    },
    {
      "cell_type": "code",
      "execution_count": null,
      "metadata": {
        "id": "XdCaqUDdRRCh"
      },
      "outputs": [],
      "source": [
        "34344435%2"
      ]
    },
    {
      "cell_type": "code",
      "execution_count": 65,
      "metadata": {
        "colab": {
          "base_uri": "https://localhost:8080/"
        },
        "id": "PKNEcmGnRRCh",
        "outputId": "a069c7c9-1ee6-4ce8-c0f2-7fe803f4de2b"
      },
      "outputs": [
        {
          "output_type": "execute_result",
          "data": {
            "text/plain": [
              "0.30000000000000004"
            ]
          },
          "metadata": {},
          "execution_count": 65
        }
      ],
      "source": [
        "0.1+0.2 # floats are weird you'd expect it to be 0.3 right ?"
      ]
    },
    {
      "cell_type": "code",
      "source": [
        "# https://en.wikipedia.org/wiki/IEEE_754\n",
        "# turns out there are many numbers which you can not represent in floating point standard exactly"
      ],
      "metadata": {
        "id": "qlj3UHwehUpe"
      },
      "execution_count": 66,
      "outputs": []
    },
    {
      "cell_type": "code",
      "execution_count": 68,
      "metadata": {
        "colab": {
          "base_uri": "https://localhost:8080/"
        },
        "id": "B7hLEMJpRRCh",
        "outputId": "6c44c44a-cb37-47ed-a991-fe8cddc204f2"
      },
      "outputs": [
        {
          "output_type": "execute_result",
          "data": {
            "text/plain": [
              "False"
            ]
          },
          "metadata": {},
          "execution_count": 68
        }
      ],
      "source": [
        "0 == 0.1+0.2-0.3"
      ]
    },
    {
      "cell_type": "code",
      "source": [
        "0.1+0.2-0.3 # so almost 0 but not quite like 0.0000000000000000551 "
      ],
      "metadata": {
        "id": "JyRyYx3bhfIu",
        "outputId": "cb5bf96f-9eb6-4b74-fc73-af50252e37ae",
        "colab": {
          "base_uri": "https://localhost:8080/"
        }
      },
      "execution_count": 69,
      "outputs": [
        {
          "output_type": "execute_result",
          "data": {
            "text/plain": [
              "5.551115123125783e-17"
            ]
          },
          "metadata": {},
          "execution_count": 69
        }
      ]
    },
    {
      "cell_type": "code",
      "execution_count": null,
      "metadata": {
        "id": "5ctslY9mRRCi"
      },
      "outputs": [],
      "source": [
        "2**3 # this is 2 to the power of 3 , so 2 cubed"
      ]
    },
    {
      "cell_type": "code",
      "execution_count": null,
      "metadata": {
        "id": "7efIMlqMRRCi"
      },
      "outputs": [],
      "source": [
        "81**0.5 # so square root"
      ]
    },
    {
      "cell_type": "code",
      "execution_count": 70,
      "metadata": {
        "colab": {
          "base_uri": "https://localhost:8080/"
        },
        "id": "B7lMWfHMRRCi",
        "outputId": "d8c1578f-1fc2-4001-fda7-5c428e7081f9"
      },
      "outputs": [
        {
          "output_type": "execute_result",
          "data": {
            "text/plain": [
              "4294967296"
            ]
          },
          "metadata": {},
          "execution_count": 70
        }
      ],
      "source": [
        "2**32 # this is significant number for computer hardware  # this explains why 32bit memory addressing is not enough only 4GB"
      ]
    },
    {
      "cell_type": "code",
      "execution_count": 71,
      "metadata": {
        "colab": {
          "base_uri": "https://localhost:8080/"
        },
        "id": "hVyTsAXIRRCi",
        "outputId": "02092402-0475-4649-ec65-2e3a19e2adac"
      },
      "outputs": [
        {
          "output_type": "execute_result",
          "data": {
            "text/plain": [
              "18446744073709551616"
            ]
          },
          "metadata": {},
          "execution_count": 71
        }
      ],
      "source": [
        "2**64 # why we have 64 bit machines these days and OSes"
      ]
    },
    {
      "cell_type": "code",
      "execution_count": null,
      "metadata": {
        "id": "s1YdjuTjRRCi"
      },
      "outputs": [],
      "source": [
        "2**3242 # python lets us use big numbers immediately"
      ]
    },
    {
      "cell_type": "code",
      "execution_count": null,
      "metadata": {
        "id": "Ti1-cfVdRRCi"
      },
      "outputs": [],
      "source": [
        "10**100 # Googol"
      ]
    },
    {
      "cell_type": "code",
      "source": [
        "a,b,c"
      ],
      "metadata": {
        "id": "YbqsA-tShzhD",
        "outputId": "831c3178-fc4d-45bc-e6d4-78d9c91030dc",
        "colab": {
          "base_uri": "https://localhost:8080/"
        }
      },
      "execution_count": 73,
      "outputs": [
        {
          "output_type": "execute_result",
          "data": {
            "text/plain": [
              "(42, 20, 200)"
            ]
          },
          "metadata": {},
          "execution_count": 73
        }
      ]
    },
    {
      "cell_type": "code",
      "execution_count": 74,
      "metadata": {
        "id": "ATsD1lvLRRCi"
      },
      "outputs": [],
      "source": [
        "c=b+a  # evaluation is from the right to the left so c points to the results of b+a"
      ]
    },
    {
      "cell_type": "code",
      "source": [
        "c"
      ],
      "metadata": {
        "id": "ugRxEpsXh29z",
        "outputId": "eedeeceb-e598-422d-85fa-fe2988189a7f",
        "colab": {
          "base_uri": "https://localhost:8080/"
        }
      },
      "execution_count": 75,
      "outputs": [
        {
          "output_type": "execute_result",
          "data": {
            "text/plain": [
              "62"
            ]
          },
          "metadata": {},
          "execution_count": 75
        }
      ]
    },
    {
      "cell_type": "code",
      "execution_count": 76,
      "metadata": {
        "colab": {
          "base_uri": "https://localhost:8080/"
        },
        "id": "48vJkfSjRRCi",
        "outputId": "c1786056-77ea-45f8-95ea-5b017471e5f3"
      },
      "outputs": [
        {
          "output_type": "stream",
          "name": "stdout",
          "text": [
            "0.47619047619047616 <class 'float'>\n"
          ]
        }
      ],
      "source": [
        "d=b/a\n",
        "print(d, type(d))"
      ]
    },
    {
      "cell_type": "code",
      "execution_count": 77,
      "metadata": {
        "colab": {
          "base_uri": "https://localhost:8080/"
        },
        "id": "JHKZKfpcRRCj",
        "outputId": "952f987f-8d68-4c16-b97e-f92bd5e4f2a4"
      },
      "outputs": [
        {
          "output_type": "stream",
          "name": "stdout",
          "text": [
            "-22 <class 'int'>\n"
          ]
        }
      ],
      "source": [
        "e=b-a\n",
        "print(e, type(e))"
      ]
    },
    {
      "cell_type": "code",
      "execution_count": 78,
      "metadata": {
        "colab": {
          "base_uri": "https://localhost:8080/"
        },
        "id": "Ofvkdh0sRRCj",
        "outputId": "288a9c53-dad4-4c9d-e1f3-2946e5391ef1"
      },
      "outputs": [
        {
          "output_type": "execute_result",
          "data": {
            "text/plain": [
              "-440"
            ]
          },
          "metadata": {},
          "execution_count": 78
        }
      ],
      "source": [
        "f=b*e\n",
        "f"
      ]
    },
    {
      "cell_type": "code",
      "execution_count": null,
      "metadata": {
        "id": "ApBcBOGZRRCj"
      },
      "outputs": [],
      "source": [
        "2**10"
      ]
    },
    {
      "cell_type": "code",
      "execution_count": null,
      "metadata": {
        "id": "FDKcajkPRRCj"
      },
      "outputs": [],
      "source": [
        "2**32"
      ]
    },
    {
      "cell_type": "code",
      "execution_count": null,
      "metadata": {
        "id": "JzntN1q3RRCj"
      },
      "outputs": [],
      "source": [
        "2**64"
      ]
    },
    {
      "cell_type": "code",
      "execution_count": 79,
      "metadata": {
        "colab": {
          "base_uri": "https://localhost:8080/"
        },
        "id": "p3GPuPQIRRCj",
        "outputId": "dbbaf343-d855-4f43-af88-792e7a6f029d"
      },
      "outputs": [
        {
          "output_type": "stream",
          "name": "stdout",
          "text": [
            "42\n",
            "18446744073709551616\n"
          ]
        }
      ],
      "source": [
        "result = 2**64\n",
        "print(a)\n",
        "print(result)"
      ]
    },
    {
      "cell_type": "code",
      "execution_count": null,
      "metadata": {
        "id": "JRKYB_GURRCj"
      },
      "outputs": [],
      "source": [
        "42//20"
      ]
    },
    {
      "cell_type": "code",
      "execution_count": null,
      "metadata": {
        "id": "aAxpwRjpRRCj"
      },
      "outputs": [],
      "source": [
        "47//20"
      ]
    },
    {
      "cell_type": "code",
      "execution_count": null,
      "metadata": {
        "id": "H1uksOOaRRCj"
      },
      "outputs": [],
      "source": [
        "47%20"
      ]
    },
    {
      "cell_type": "code",
      "execution_count": null,
      "metadata": {
        "id": "nytIc0tpRRCk"
      },
      "outputs": [],
      "source": [
        "7%2"
      ]
    },
    {
      "cell_type": "code",
      "execution_count": 80,
      "metadata": {
        "colab": {
          "base_uri": "https://localhost:8080/"
        },
        "id": "PF_6ghnNRRCk",
        "outputId": "d27066ac-adba-4142-86b7-fac5b69917c9"
      },
      "outputs": [
        {
          "output_type": "stream",
          "name": "stdout",
          "text": [
            "10\n"
          ]
        }
      ],
      "source": [
        "a = 10\n",
        "print(a)"
      ]
    },
    {
      "cell_type": "code",
      "execution_count": 86,
      "metadata": {
        "colab": {
          "base_uri": "https://localhost:8080/"
        },
        "id": "IuYOUyrrRRCk",
        "outputId": "bdc4f2da-d7ee-4a46-eec6-f40ff9725d7c"
      },
      "outputs": [
        {
          "output_type": "stream",
          "name": "stdout",
          "text": [
            "40\n"
          ]
        }
      ],
      "source": [
        "a = a + 5 # expression is evaluated right to left, NOT an algebra equality!!!\n",
        "print(a)"
      ]
    },
    {
      "cell_type": "code",
      "execution_count": 90,
      "metadata": {
        "colab": {
          "base_uri": "https://localhost:8080/"
        },
        "id": "FoU11WlYRRCk",
        "outputId": "88e66a16-e598-4f53-e153-28a51d96ce19"
      },
      "outputs": [
        {
          "output_type": "stream",
          "name": "stdout",
          "text": [
            "64\n"
          ]
        }
      ],
      "source": [
        "# this increasing a variable by something is so common that there is a lazy shortcut \n",
        "a += 6 # this means a = a + 6\n",
        "print(a)"
      ]
    },
    {
      "cell_type": "code",
      "source": [
        "# Python does not have ++ or --\n",
        "a += 1 # increase by one\n",
        "a"
      ],
      "metadata": {
        "id": "VWZ0QvtQik-z",
        "outputId": "3f7892af-11db-4f48-f41e-7128e4596776",
        "colab": {
          "base_uri": "https://localhost:8080/"
        }
      },
      "execution_count": 91,
      "outputs": [
        {
          "output_type": "execute_result",
          "data": {
            "text/plain": [
              "65"
            ]
          },
          "metadata": {},
          "execution_count": 91
        }
      ]
    },
    {
      "cell_type": "code",
      "source": [
        "a -= 1 # decrease by one same as writing a = a - 1\n",
        "a"
      ],
      "metadata": {
        "id": "jm8VS83BirVx",
        "outputId": "01109f3a-b070-4764-ee53-b396a9a26650",
        "colab": {
          "base_uri": "https://localhost:8080/"
        }
      },
      "execution_count": 97,
      "outputs": [
        {
          "output_type": "execute_result",
          "data": {
            "text/plain": [
              "59"
            ]
          },
          "metadata": {},
          "execution_count": 97
        }
      ]
    },
    {
      "cell_type": "markdown",
      "metadata": {
        "id": "Fs8_09K0RRCk"
      },
      "source": [
        "## id(object)\n",
        "\n",
        "Return the “identity” of an object. \n",
        "\n",
        "This is an integer which is guaranteed to be unique and constant for this object during its lifetime. \n",
        "Two objects with non-overlapping lifetimes may have the same id() value.\n",
        "\n",
        "#### CPython implementation detail: This is the address of the object in memory."
      ]
    },
    {
      "cell_type": "code",
      "execution_count": null,
      "metadata": {
        "id": "bms8EqWvRRCl"
      },
      "outputs": [],
      "source": [
        "b+=22 # shortcut operator to add to existing value of a variable b = b + 22\n",
        "# += /= -= *=\n",
        "print(b)"
      ]
    },
    {
      "cell_type": "code",
      "execution_count": 98,
      "metadata": {
        "colab": {
          "base_uri": "https://localhost:8080/"
        },
        "id": "lGqF5PbhRRCl",
        "outputId": "e6a3e831-9cf0-44d2-84b2-0cd2eab2fa37"
      },
      "outputs": [
        {
          "output_type": "execute_result",
          "data": {
            "text/plain": [
              "(94400372859200,\n",
              " 94400372857952,\n",
              " 94400372858656,\n",
              " 94400372857408,\n",
              " 94400372857440,\n",
              " 94400372857472,\n",
              " 140017784649968,\n",
              " 140017784649392,\n",
              " 140017784649360)"
            ]
          },
          "metadata": {},
          "execution_count": 98
        }
      ],
      "source": [
        "id(a),id(b),id(42),id(3),id(4),id(5),id(5000),id(5001),id(5002) # notice how ids are incremented!\n",
        "# explanation is that most Python implementations -10 to 255 is pre-stored in memory \n",
        "# other numbers are stored as needed"
      ]
    },
    {
      "cell_type": "code",
      "execution_count": null,
      "metadata": {
        "id": "_XPQVJX4RRCl"
      },
      "outputs": [],
      "source": [
        "id(6)"
      ]
    },
    {
      "cell_type": "code",
      "execution_count": null,
      "metadata": {
        "id": "hCRjFaO6RRCl"
      },
      "outputs": [],
      "source": [
        "id(-1),id(0),id(1)"
      ]
    },
    {
      "cell_type": "code",
      "execution_count": null,
      "metadata": {
        "id": "Y7ZyShBKRRCl"
      },
      "outputs": [],
      "source": [
        "id(7)\n",
        "id(-6),id(-5),id(-4)"
      ]
    },
    {
      "cell_type": "code",
      "execution_count": null,
      "metadata": {
        "scrolled": true,
        "id": "iwNeoDtGRRCl"
      },
      "outputs": [],
      "source": [
        "a is b"
      ]
    },
    {
      "cell_type": "code",
      "execution_count": null,
      "metadata": {
        "id": "lxLkTPguRRCl"
      },
      "outputs": [],
      "source": [
        "second_name = \"Valdis\"\n",
        "name = \"Valdis\"\n",
        "print(name, second_name)"
      ]
    },
    {
      "cell_type": "code",
      "execution_count": null,
      "metadata": {
        "id": "zxFqbDdSRRCl"
      },
      "outputs": [],
      "source": [
        "print(id(name), id(second_name))"
      ]
    },
    {
      "cell_type": "markdown",
      "metadata": {
        "id": "2SC4nr7DRRCm"
      },
      "source": [
        "## Floating Point "
      ]
    },
    {
      "cell_type": "code",
      "execution_count": null,
      "metadata": {
        "id": "yUT1jzymRRCm"
      },
      "outputs": [],
      "source": [
        "4/5 + 2/3 + 1/7"
      ]
    },
    {
      "cell_type": "code",
      "execution_count": null,
      "metadata": {
        "id": "y611Ac7hRRCm"
      },
      "outputs": [],
      "source": [
        "0.1+0.2+0.3-0.6\n",
        "# More on floating point https://docs.python.org/2/tutorial/floatingpoint.html"
      ]
    },
    {
      "cell_type": "markdown",
      "metadata": {
        "id": "iDh_QuTkRRCm"
      },
      "source": [
        "## Strings\n",
        "* immutable"
      ]
    },
    {
      "cell_type": "code",
      "execution_count": null,
      "metadata": {
        "scrolled": true,
        "id": "ZsMpg5CDRRCm"
      },
      "outputs": [],
      "source": [
        "name = \"Valdis\"\n",
        "print(name)"
      ]
    },
    {
      "cell_type": "code",
      "execution_count": null,
      "metadata": {
        "id": "TwTaNDgKRRCm"
      },
      "outputs": [],
      "source": [
        "# this is a comment meaning for us humans, not for computer :)"
      ]
    },
    {
      "cell_type": "code",
      "execution_count": null,
      "metadata": {
        "id": "UVbitMGpRRCm"
      },
      "outputs": [],
      "source": [
        "len(name) # length of string which name variable points to"
      ]
    },
    {
      "cell_type": "code",
      "execution_count": null,
      "metadata": {
        "id": "eh9Jlnu4RRCm"
      },
      "outputs": [],
      "source": [
        "len(\"name\") # so \"name\" is just some text - string literal"
      ]
    },
    {
      "cell_type": "markdown",
      "metadata": {
        "id": "P7taVXafRRCn"
      },
      "source": [
        "### Slicing Notation\n",
        "![Slice](https://i.stack.imgur.com/IVkET.jpg)\n",
        "* hot linking can be dangerous if you are taking image where you are not supposed to somebody can put something rude on that image"
      ]
    },
    {
      "cell_type": "code",
      "execution_count": null,
      "metadata": {
        "id": "rzcz2q1oRRCn"
      },
      "outputs": [],
      "source": [
        "name, name[0] \n",
        "# notice index starts with 0! most programming languages start with 0"
      ]
    },
    {
      "cell_type": "code",
      "execution_count": null,
      "metadata": {
        "id": "Xq3GqZvXRRCn"
      },
      "outputs": [],
      "source": [
        ""
      ]
    },
    {
      "cell_type": "code",
      "execution_count": null,
      "metadata": {
        "id": "Zb5bI9_WRRCn"
      },
      "outputs": [],
      "source": [
        "name, name[5],name[-1],name[-2]"
      ]
    },
    {
      "cell_type": "code",
      "execution_count": null,
      "metadata": {
        "id": "sA0y_nkiRRCn"
      },
      "outputs": [],
      "source": [
        "name[0:3], name[:3] # so [:index] will go until that index from 0"
      ]
    },
    {
      "cell_type": "code",
      "execution_count": null,
      "metadata": {
        "id": "bF-NFlQWRRCn"
      },
      "outputs": [],
      "source": [
        "name[:4]"
      ]
    },
    {
      "cell_type": "code",
      "execution_count": null,
      "metadata": {
        "id": "pcg4BGdiRRCn"
      },
      "outputs": [],
      "source": [
        "name[1:4] # so I skip the 0 character"
      ]
    },
    {
      "cell_type": "code",
      "execution_count": null,
      "metadata": {
        "id": "3rGfRXx3RRCn"
      },
      "outputs": [],
      "source": [
        "name[-3]"
      ]
    },
    {
      "cell_type": "code",
      "execution_count": null,
      "metadata": {
        "id": "UnIsijDYRRCn"
      },
      "outputs": [],
      "source": [
        "name[0:6:1] # this is actually the full syntax of slice\n"
      ]
    },
    {
      "cell_type": "code",
      "execution_count": null,
      "metadata": {
        "id": "219A6zXmRRCo"
      },
      "outputs": [],
      "source": [
        "name[::1]"
      ]
    },
    {
      "cell_type": "code",
      "execution_count": null,
      "metadata": {
        "id": "ezkFHr1jRRCo"
      },
      "outputs": [],
      "source": [
        "name, name[1:6:2]"
      ]
    },
    {
      "cell_type": "code",
      "execution_count": null,
      "metadata": {
        "id": "x0w8DFw6RRCo"
      },
      "outputs": [],
      "source": [
        "name, name[::2]"
      ]
    },
    {
      "cell_type": "code",
      "execution_count": null,
      "metadata": {
        "id": "Dm4E8f_zRRCo"
      },
      "outputs": [],
      "source": [
        "# Python way of reversing a string\n",
        "name, name[::-1]"
      ]
    },
    {
      "cell_type": "code",
      "execution_count": null,
      "metadata": {
        "id": "8ciLBtHERRCo"
      },
      "outputs": [],
      "source": [
        "name_rev = name[::-1]\n",
        "name_rev"
      ]
    },
    {
      "cell_type": "code",
      "execution_count": null,
      "metadata": {
        "id": "71w_UBrQRRCo"
      },
      "outputs": [],
      "source": [
        "name[5:2:-1]"
      ]
    },
    {
      "cell_type": "code",
      "execution_count": null,
      "metadata": {
        "id": "i67gJfJTRRCo"
      },
      "outputs": [],
      "source": [
        "# name[3]='b' \n",
        "# string are immutable you are not supposed to change strings"
      ]
    },
    {
      "cell_type": "code",
      "execution_count": null,
      "metadata": {
        "id": "3y5vVGZsRRCo"
      },
      "outputs": [],
      "source": [
        "#name[3]=\"b\" # You can in fact make new strings\n",
        "name=name[:3]+\"D\"+name[4:]\n",
        "print(name)"
      ]
    },
    {
      "cell_type": "code",
      "execution_count": null,
      "metadata": {
        "id": "EwFEpUPuRRCo"
      },
      "outputs": [],
      "source": [
        "n2=name[:]\n",
        "print(n2)\n",
        "print(id(n2),id(name))\n",
        "print(name[:])"
      ]
    },
    {
      "cell_type": "code",
      "execution_count": null,
      "metadata": {
        "id": "uouJlwGfRRCp"
      },
      "outputs": [],
      "source": [
        "name = \"Voldemars\"\n",
        "print(n,n2,name)"
      ]
    },
    {
      "cell_type": "code",
      "execution_count": null,
      "metadata": {
        "id": "iTFDlM5pRRCp"
      },
      "outputs": [],
      "source": [
        "n2 = \"Something\""
      ]
    },
    {
      "cell_type": "code",
      "execution_count": null,
      "metadata": {
        "id": "stPkgEyrRRCp"
      },
      "outputs": [],
      "source": [
        ""
      ]
    },
    {
      "cell_type": "code",
      "execution_count": null,
      "metadata": {
        "id": "K_AwSFvKRRCp"
      },
      "outputs": [],
      "source": [
        "name=name[::-1]\n",
        "print(name)"
      ]
    },
    {
      "cell_type": "code",
      "execution_count": null,
      "metadata": {
        "id": "UWqP7wD9RRCp"
      },
      "outputs": [],
      "source": [
        ""
      ]
    },
    {
      "cell_type": "code",
      "execution_count": null,
      "metadata": {
        "scrolled": true,
        "id": "e8r4sZKoRRCp"
      },
      "outputs": [],
      "source": [
        "multi_string = \"\"\"Really\n",
        "Long\n",
        "And\n",
        "Boring\n",
        "String\"\"\"\n",
        "print(multi_string)"
      ]
    },
    {
      "cell_type": "code",
      "execution_count": null,
      "metadata": {
        "id": "QfoydnRrRRCp"
      },
      "outputs": [],
      "source": [
        "t = \"Talk \" + 10 # Python is strongly typed so this will not work!\n",
        "print(t)"
      ]
    },
    {
      "cell_type": "code",
      "execution_count": null,
      "metadata": {
        "id": "U0KPq76zRRCp"
      },
      "outputs": [],
      "source": [
        "str(555)"
      ]
    },
    {
      "cell_type": "code",
      "execution_count": null,
      "metadata": {
        "id": "8gCdylYWRRCp"
      },
      "outputs": [],
      "source": [
        "t = \"Talk \" + str(10) # Python is strongly typed so this will not work!\n",
        "print(t)"
      ]
    },
    {
      "cell_type": "code",
      "execution_count": null,
      "metadata": {
        "id": "_2eMj1JzRRCq"
      },
      "outputs": [],
      "source": [
        "my_talk = f\"Talk {a} {b} {c} {name} and so on\" # f-strings\n",
        "my_talk"
      ]
    },
    {
      "cell_type": "code",
      "execution_count": null,
      "metadata": {
        "id": "seta0M2KRRCq"
      },
      "outputs": [],
      "source": [
        "print(f\"Hello there {name}! \")"
      ]
    },
    {
      "cell_type": "code",
      "execution_count": null,
      "metadata": {
        "id": "fPh8BqSuRRCq"
      },
      "outputs": [],
      "source": [
        "new_name = input(\"What is your name friend?\") # input gives out str\n",
        "print(f\"Wow {new_name} that is a nice name!\")"
      ]
    },
    {
      "cell_type": "code",
      "execution_count": null,
      "metadata": {
        "id": "mw87P030RRCq",
        "outputId": "38d296a7-49c1-4b87-dfef-a410f72a61bd"
      },
      "outputs": [
        {
          "name": "stdout",
          "output_type": "stream",
          "text": [
            "Enter a number777\n",
            "777 <class 'int'>\n"
          ]
        }
      ],
      "source": [
        "new_num = input(\"Enter a number\")\n",
        "new_num = int(new_num) # we trust user is giving us number, we cast to number\n",
        "print(new_num, type(new_num))"
      ]
    },
    {
      "cell_type": "code",
      "execution_count": null,
      "metadata": {
        "id": "qMFtc2w7RRCr"
      },
      "outputs": [],
      "source": [
        "id('25'),id(25)"
      ]
    },
    {
      "cell_type": "code",
      "execution_count": null,
      "metadata": {
        "id": "dQ_H1LlvRRCr"
      },
      "outputs": [],
      "source": [
        "int('345')"
      ]
    },
    {
      "cell_type": "code",
      "execution_count": null,
      "metadata": {
        "id": "GXauAs6_RRCr"
      },
      "outputs": [],
      "source": [
        "?str"
      ]
    },
    {
      "cell_type": "code",
      "execution_count": null,
      "metadata": {
        "id": "i11WMrZPRRCr"
      },
      "outputs": [],
      "source": [
        "# Automatic string concatenation without +\n",
        "funny_string = ('Monty '\n",
        "'Python ' \n",
        "'Spam '*5)\n",
        "print(funny_string)\n",
        "# Notice that string multiplication happens after concatenation"
      ]
    },
    {
      "cell_type": "code",
      "execution_count": null,
      "metadata": {
        "id": "0KjEGgAbRRCr"
      },
      "outputs": [],
      "source": [
        "print(\"It's \\ta \\\"wonderful\\\" \\nlife\")"
      ]
    },
    {
      "cell_type": "code",
      "execution_count": null,
      "metadata": {
        "id": "OZ4RwF0SRRCr"
      },
      "outputs": [],
      "source": [
        "print('Really really long line\\"
      ]
    },
    {
      "cell_type": "code",
      "execution_count": null,
      "metadata": {
        "id": "chSAiux3RRCr"
      },
      "outputs": [],
      "source": [
        ""
      ]
    },
    {
      "cell_type": "markdown",
      "metadata": {
        "id": "6M4SwgwURRCr"
      },
      "source": [
        "## Fstrings (new since Python 3.6)\n",
        "* faster way to format strings\n",
        "* can use variables in current scope\n",
        "* same idea as .format() but faster and easier to read"
      ]
    },
    {
      "cell_type": "code",
      "execution_count": null,
      "metadata": {
        "id": "ppcGi0_9RRCs"
      },
      "outputs": [],
      "source": [
        ""
      ]
    },
    {
      "cell_type": "code",
      "execution_count": 99,
      "metadata": {
        "colab": {
          "base_uri": "https://localhost:8080/"
        },
        "id": "7m8KGEh8RRCs",
        "outputId": "b305b23d-b1ff-4fe5-f7e7-e9498a20479f"
      },
      "outputs": [
        {
          "output_type": "stream",
          "name": "stdout",
          "text": [
            "Today is 9th of February which is Wednesday. Nice February isn't it ? \n"
          ]
        }
      ],
      "source": [
        "weekday=\"Wednesday\"\n",
        "month=\"February\"\n",
        "day=9\n",
        "greeting = f'Today is {day}th of {month} which is {weekday}. Nice {month} isn\\'t it ? ' # so I can use {} to put variables and expressions inside strings\n",
        "print(greeting)\n",
        "#nicer than format method"
      ]
    },
    {
      "cell_type": "code",
      "execution_count": null,
      "metadata": {
        "id": "E8wdgcy-RRCs"
      },
      "outputs": [],
      "source": [
        "seconds=345.24556\n",
        "width=22 # how much space our formatted value should take up\n",
        "precision=8 # how many digits to use\n",
        "print(f'Elapsed {seconds} seconds since start of new era')\n",
        "print(f'Elapsed {seconds:{12}.{precision}} seconds since start of new era')\n",
        "print(f'Elapsed {seconds:{7}.{5}} seconds since start of new era')\n",
        "print(f'Number {5556.2222:{12}.{6}}')"
      ]
    },
    {
      "cell_type": "code",
      "source": [
        "my_name = input(\"What is your name?\") # inputs asks interactive for a string value"
      ],
      "metadata": {
        "id": "4Jm7eW26j66-",
        "outputId": "c7291588-d37e-4784-bd7a-2042f33c932e",
        "colab": {
          "base_uri": "https://localhost:8080/"
        }
      },
      "execution_count": 100,
      "outputs": [
        {
          "name": "stdout",
          "output_type": "stream",
          "text": [
            "What is your name?Valdis\n"
          ]
        }
      ]
    },
    {
      "cell_type": "code",
      "source": [
        "my_name"
      ],
      "metadata": {
        "id": "L8Oih9VBkFui",
        "outputId": "143e3d55-40b6-4cab-cb2c-aac85c0fb52f",
        "colab": {
          "base_uri": "https://localhost:8080/",
          "height": 35
        }
      },
      "execution_count": 101,
      "outputs": [
        {
          "output_type": "execute_result",
          "data": {
            "application/vnd.google.colaboratory.intrinsic+json": {
              "type": "string"
            },
            "text/plain": [
              "'Valdis'"
            ]
          },
          "metadata": {},
          "execution_count": 101
        }
      ]
    },
    {
      "cell_type": "code",
      "source": [
        "# there is one catch with input\n",
        "my_number = input(\"What is your favorite number?\")\n",
        "print(my_number)"
      ],
      "metadata": {
        "id": "D2hKyW51kIrb",
        "outputId": "34dd8be3-1468-4208-ff5c-1bdec35a6189",
        "colab": {
          "base_uri": "https://localhost:8080/"
        }
      },
      "execution_count": 102,
      "outputs": [
        {
          "output_type": "stream",
          "name": "stdout",
          "text": [
            "What is your favorite number?77\n",
            "77\n"
          ]
        }
      ]
    },
    {
      "cell_type": "code",
      "source": [
        "type(my_number)"
      ],
      "metadata": {
        "id": "dLxstnuNkZSP",
        "outputId": "412a6e07-0d97-41ed-9282-407bef6b2988",
        "colab": {
          "base_uri": "https://localhost:8080/"
        }
      },
      "execution_count": 103,
      "outputs": [
        {
          "output_type": "execute_result",
          "data": {
            "text/plain": [
              "str"
            ]
          },
          "metadata": {},
          "execution_count": 103
        }
      ]
    },
    {
      "cell_type": "code",
      "source": [
        "new_result = my_number + 100  # this will not work out of the box because of types\n",
        "print(new_result)"
      ],
      "metadata": {
        "id": "FFBGJd5AkeOf",
        "outputId": "44513d2a-4205-481e-cf1d-bbea907c78cd",
        "colab": {
          "base_uri": "https://localhost:8080/",
          "height": 185
        }
      },
      "execution_count": 104,
      "outputs": [
        {
          "output_type": "error",
          "ename": "TypeError",
          "evalue": "ignored",
          "traceback": [
            "\u001b[0;31m---------------------------------------------------------------------------\u001b[0m",
            "\u001b[0;31mTypeError\u001b[0m                                 Traceback (most recent call last)",
            "\u001b[0;32m<ipython-input-104-ac29d956ba1f>\u001b[0m in \u001b[0;36m<module>\u001b[0;34m()\u001b[0m\n\u001b[0;32m----> 1\u001b[0;31m \u001b[0mnew_result\u001b[0m \u001b[0;34m=\u001b[0m \u001b[0mmy_number\u001b[0m \u001b[0;34m+\u001b[0m \u001b[0;36m100\u001b[0m  \u001b[0;31m# this will not work out of the box because of types\u001b[0m\u001b[0;34m\u001b[0m\u001b[0;34m\u001b[0m\u001b[0m\n\u001b[0m\u001b[1;32m      2\u001b[0m \u001b[0mprint\u001b[0m\u001b[0;34m(\u001b[0m\u001b[0mnew_result\u001b[0m\u001b[0;34m)\u001b[0m\u001b[0;34m\u001b[0m\u001b[0;34m\u001b[0m\u001b[0m\n",
            "\u001b[0;31mTypeError\u001b[0m: can only concatenate str (not \"int\") to str"
          ]
        }
      ]
    },
    {
      "cell_type": "code",
      "source": [
        "full_name = my_name + \" Saulespurens\" #i can use + to add strings , notice the space before Sau\n",
        "print(full_name)"
      ],
      "metadata": {
        "id": "hBSddHKFksdu",
        "outputId": "2f73bb00-66ee-4edb-c38b-579fb07f5db8",
        "colab": {
          "base_uri": "https://localhost:8080/"
        }
      },
      "execution_count": 106,
      "outputs": [
        {
          "output_type": "stream",
          "name": "stdout",
          "text": [
            "Valdis Saulespurens\n"
          ]
        }
      ]
    },
    {
      "cell_type": "code",
      "source": [
        "new_result = int(my_number) + 100\n",
        "new_result # probably what you want\n"
      ],
      "metadata": {
        "id": "gY9PuGKwk6Ap",
        "outputId": "06d29276-672e-47aa-ef64-06302fa503d0",
        "colab": {
          "base_uri": "https://localhost:8080/"
        }
      },
      "execution_count": 107,
      "outputs": [
        {
          "output_type": "execute_result",
          "data": {
            "text/plain": [
              "177"
            ]
          },
          "metadata": {},
          "execution_count": 107
        }
      ]
    },
    {
      "cell_type": "code",
      "source": [
        "# alternatively maybe you want this\n",
        "another_result = my_number +str(100)\n",
        "print(another_result, type(another_result))"
      ],
      "metadata": {
        "id": "FXdv-jqdlC0L",
        "outputId": "073bad19-2542-47cd-cb5b-e52366ce5e37",
        "colab": {
          "base_uri": "https://localhost:8080/"
        }
      },
      "execution_count": 110,
      "outputs": [
        {
          "output_type": "stream",
          "name": "stdout",
          "text": [
            "77100 <class 'str'>\n"
          ]
        }
      ]
    },
    {
      "cell_type": "code",
      "source": [
        "new_int = int(\"Valdis007\") # will not work..."
      ],
      "metadata": {
        "id": "NL_Y72sAlVPm",
        "outputId": "a2462a4a-899a-4174-fbdf-f32a946085a0",
        "colab": {
          "base_uri": "https://localhost:8080/",
          "height": 167
        }
      },
      "execution_count": 111,
      "outputs": [
        {
          "output_type": "error",
          "ename": "ValueError",
          "evalue": "ignored",
          "traceback": [
            "\u001b[0;31m---------------------------------------------------------------------------\u001b[0m",
            "\u001b[0;31mValueError\u001b[0m                                Traceback (most recent call last)",
            "\u001b[0;32m<ipython-input-111-5128cc964c00>\u001b[0m in \u001b[0;36m<module>\u001b[0;34m()\u001b[0m\n\u001b[0;32m----> 1\u001b[0;31m \u001b[0mnew_int\u001b[0m \u001b[0;34m=\u001b[0m \u001b[0mint\u001b[0m\u001b[0;34m(\u001b[0m\u001b[0;34m\"Valdis007\"\u001b[0m\u001b[0;34m)\u001b[0m \u001b[0;31m# will not work...\u001b[0m\u001b[0;34m\u001b[0m\u001b[0;34m\u001b[0m\u001b[0m\n\u001b[0m",
            "\u001b[0;31mValueError\u001b[0m: invalid literal for int() with base 10: 'Valdis007'"
          ]
        }
      ]
    },
    {
      "cell_type": "code",
      "source": [
        "new_int = int(3.1415926) # this will work but we will lose whatever was after comma\n",
        "new_int"
      ],
      "metadata": {
        "id": "XsElqiqulZ7d",
        "outputId": "b535c04a-6002-4626-d521-e7a6c902814e",
        "colab": {
          "base_uri": "https://localhost:8080/"
        }
      },
      "execution_count": 112,
      "outputs": [
        {
          "output_type": "execute_result",
          "data": {
            "text/plain": [
              "3"
            ]
          },
          "metadata": {},
          "execution_count": 112
        }
      ]
    },
    {
      "cell_type": "code",
      "source": [
        "another_int = float(new_int)\n",
        "another_int # so whatever was after comma is gone"
      ],
      "metadata": {
        "id": "yTiiGZj0lg9t",
        "outputId": "99821a65-cba8-41a2-88ec-9bec2e5b32f3",
        "colab": {
          "base_uri": "https://localhost:8080/"
        }
      },
      "execution_count": 113,
      "outputs": [
        {
          "output_type": "execute_result",
          "data": {
            "text/plain": [
              "3.0"
            ]
          },
          "metadata": {},
          "execution_count": 113
        }
      ]
    },
    {
      "cell_type": "code",
      "execution_count": null,
      "metadata": {
        "id": "ps7Y6gFXRRCs"
      },
      "outputs": [],
      "source": [
        "greeting[10:33:1]"
      ]
    },
    {
      "cell_type": "markdown",
      "metadata": {
        "id": "OvlHAE4wRRCs"
      },
      "source": [
        "### Python 3.X strings are Unicode by default no more 'u prefixes"
      ]
    },
    {
      "cell_type": "markdown",
      "metadata": {
        "id": "g9OZbLCURRCs"
      },
      "source": [
        "## String Exercise: \n",
        "* Assign your favorite food to variable of your choosing\n",
        "* Output 3rd letter of your favorite\n",
        "* Output first 2 letters of your favorite\n",
        "* Output last 3 letters of your favorite\n",
        "* Output reverse of your favorite\n",
        "* Output every 2nd character of your favorite in reverse\n"
      ]
    },
    {
      "cell_type": "code",
      "execution_count": null,
      "metadata": {
        "id": "EppPa7mcRRCs"
      },
      "outputs": [],
      "source": [
        "food = \"\""
      ]
    }
  ],
  "metadata": {
    "kernelspec": {
      "display_name": "Python 3",
      "language": "python",
      "name": "python3"
    },
    "language_info": {
      "codemirror_mode": {
        "name": "ipython",
        "version": 3
      },
      "file_extension": ".py",
      "mimetype": "text/x-python",
      "name": "python",
      "nbconvert_exporter": "python",
      "pygments_lexer": "ipython3",
      "version": "3.7.3"
    },
    "colab": {
      "name": "Python Variables and Data Types.ipynb",
      "provenance": []
    }
  },
  "nbformat": 4,
  "nbformat_minor": 0
}