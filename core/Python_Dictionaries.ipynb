{
  "cells": [
    {
      "cell_type": "markdown",
      "metadata": {
        "id": "NLYmkj48LhsQ"
      },
      "source": [
        "# Python Dictionaries\n",
        "\n",
        "## Need for dictionaries\n",
        "\n",
        "We already know of lists and tuples in Python. Both of these are used to store collections of data. However, there are times when we need to store data in a way that is more meaningful. For example, consider the following list of tuples:\n",
        "\n",
        "```python\n",
        "student = [(\"name\", \"Alice\"), (\"age\", 20), (\"grade\", \"A\")]\n",
        "```\n",
        "\n",
        "Above list of tuples represents a student's data. However, it is not very clear what each element in the list represents. We can make it more clear by using a dictionary:\n",
        "\n",
        "```python\n",
        "student = {\"name\": \"Alice\", \"age\": 20, \"grade\": \"A\"}\n",
        "```\n",
        "\n",
        "There are also access benefits of using dictionaries. In lists and tuples, we access elements by their index. In dictionaries, we can access elements by their key. This makes it easier to access elements in a dictionary.\n",
        "\n"
      ]
    },
    {
      "cell_type": "markdown",
      "metadata": {
        "id": "vjP8XAJVLhsT"
      },
      "source": [
        "## Dictionaries\n",
        "\n",
        "* Collection of Key - Value pairs\n",
        "* also known as associative array\n",
        "* also known as map, hashmap\n",
        "* unordered - in reality Python remembers the order of insertion since Python 3.7+\n",
        "* keys unique in one dictionary\n",
        "* support insertion, deletion, updation of elements - so mutable structure\n",
        "* store and extract data in O(1) time - meaning large dictionaries are very fast\n",
        "\n",
        "https://docs.python.org/3/tutorial/datastructures.html#dictionaries - official\n",
        "\n",
        "https://realpython.com/python-dicts/ - unofficial\n"
      ]
    },
    {
      "cell_type": "markdown",
      "metadata": {
        "id": "y0__9BTBNM0w"
      },
      "source": [
        "![Dictionary](https://upload.wikimedia.org/wikipedia/commons/5/5b/GooglePythonClass_Day1_Part3_Pic.jpg)\n",
        "\n",
        "Source: https://code.google.com/edu/languages/google-python-class/dict-files.html"
      ]
    },
    {
      "cell_type": "markdown",
      "metadata": {},
      "source": [
        "## Creating dictionaries"
      ]
    },
    {
      "cell_type": "code",
      "execution_count": 1,
      "metadata": {
        "colab": {
          "base_uri": "https://localhost:8080/"
        },
        "id": "hEtix5bOLhsU",
        "outputId": "372d5487-fa14-4fdb-8733-518180dc10c1"
      },
      "outputs": [
        {
          "name": "stdout",
          "output_type": "stream",
          "text": [
            "Length of emptyd: 0\n"
          ]
        }
      ],
      "source": [
        "emptyd = {} # most common way of creating a new dictionary\n",
        "# alternatively would have been emptyd = dict() # using dict constructor\n",
        "print(f\"Length of emptyd: {len(emptyd)}\")"
      ]
    },
    {
      "cell_type": "code",
      "execution_count": 3,
      "metadata": {
        "colab": {
          "base_uri": "https://localhost:8080/"
        },
        "id": "MX4K1MGjLhsW",
        "outputId": "c7e63eaa-480c-42c0-e21e-71d0c0260b7a"
      },
      "outputs": [
        {
          "name": "stdout",
          "output_type": "stream",
          "text": [
            "emptyd is of type <class 'dict'>\n"
          ]
        }
      ],
      "source": [
        "print(\"emptyd is of type\", type(emptyd))"
      ]
    },
    {
      "cell_type": "code",
      "execution_count": 4,
      "metadata": {
        "colab": {
          "base_uri": "https://localhost:8080/"
        },
        "id": "5oZTfMW-OKIs",
        "outputId": "94f27b46-84bf-4b88-8f83-47e54ee07d00"
      },
      "outputs": [
        {
          "name": "stdout",
          "output_type": "stream",
          "text": [
            "{}\n"
          ]
        }
      ],
      "source": [
        "also_dict = dict()  # alternative way of making a blank dictionary\n",
        "print(also_dict)  # when we print we see curly braces, that strongly implies a dictionary (although sets also use {})"
      ]
    },
    {
      "cell_type": "markdown",
      "metadata": {},
      "source": [
        "### Creating a dictionary with some data\n",
        "\n",
        "```python"
      ]
    },
    {
      "cell_type": "code",
      "execution_count": 5,
      "metadata": {
        "colab": {
          "base_uri": "https://localhost:8080/"
        },
        "id": "Yyq7WFB0LhsW",
        "outputId": "a9243a73-7aed-44ef-e7a5-976aa1e2b943"
      },
      "outputs": [
        {
          "name": "stdout",
          "output_type": "stream",
          "text": [
            "tel dictionary has 2 entries\n",
            "{'jack': 4098, 'sape': 4139}\n"
          ]
        }
      ],
      "source": [
        "tel = {'jack': 4098, 'sape': 4139} # so  { key: value, key2:value2, and so on}\n",
        "print(f\"tel dictionary has {len(tel)} entries\")\n",
        "print(tel)"
      ]
    },
    {
      "cell_type": "code",
      "execution_count": 6,
      "metadata": {
        "colab": {
          "base_uri": "https://localhost:8080/"
        },
        "id": "LOTPy8GcLhsX",
        "outputId": "7d9427ac-7cd6-44b1-fe5f-46b95b2831b3"
      },
      "outputs": [
        {
          "name": "stdout",
          "output_type": "stream",
          "text": [
            "{'jack': 9000, 'sape': 4139}\n"
          ]
        }
      ],
      "source": [
        "# so what can be keys ? what happens if we add second identical key\n",
        "tel = {'jack': 4098, 'sape': 4139, 'jack': 9000} # you generally should not do this, keys should be unique\n",
        "print(tel) # we can see that last key:value pair wins"
      ]
    },
    {
      "cell_type": "markdown",
      "metadata": {},
      "source": [
        "### Adding a new key-value pair to existing dictionary\n",
        "```python"
      ]
    },
    {
      "cell_type": "code",
      "execution_count": 7,
      "metadata": {
        "colab": {
          "base_uri": "https://localhost:8080/"
        },
        "id": "VtiIsnYOLhsY",
        "outputId": "40191c3a-2a65-4841-e5c6-5c0f4920a746"
      },
      "outputs": [
        {
          "name": "stdout",
          "output_type": "stream",
          "text": [
            "dict_keys(['jack', 'sape', 'guido'])\n",
            "dict_values([9000, 4139, 4127])\n"
          ]
        }
      ],
      "source": [
        "# add a new key-value pair\n",
        "tel['guido'] = 4127 # of course guido refers to Guido van Rossum, the creator of Python\n",
        "print(tel.keys()) # we can print all keys\n",
        "print(tel.values()) # we can print all values"
      ]
    },
    {
      "cell_type": "code",
      "execution_count": 8,
      "metadata": {
        "colab": {
          "base_uri": "https://localhost:8080/"
        },
        "id": "rluCljB3LhsZ",
        "outputId": "0e6afe61-e8d2-4b1d-f48d-44614d6196ae"
      },
      "outputs": [
        {
          "data": {
            "text/plain": [
              "{'jack': 9000, 'sape': 4139, 'guido': 4127, 'valdis': 4127}"
            ]
          },
          "execution_count": 8,
          "metadata": {},
          "output_type": "execute_result"
        }
      ],
      "source": [
        "# add key 'valdis' with value 4127 to our tel dictionary\n",
        "tel['valdis'] = 4127\n",
        "tel # so values can be same"
      ]
    },
    {
      "cell_type": "code",
      "execution_count": 9,
      "metadata": {
        "colab": {
          "base_uri": "https://localhost:8080/"
        },
        "id": "zMHNt5TwLhsZ",
        "outputId": "e9460c17-1c88-43f0-fd3a-84a2a88eab6d"
      },
      "outputs": [
        {
          "data": {
            "text/plain": [
              "{'jack': 9000, 'sape': 4139, 'guido': 4127, 'valdis': [9000, 2640, 2911]}"
            ]
          },
          "execution_count": 9,
          "metadata": {},
          "output_type": "execute_result"
        }
      ],
      "source": [
        "tel['valdis'] = [9000,2640,2911]  # I can store a list of numbers as value in my dictionary against some specific key\n",
        "tel"
      ]
    },
    {
      "cell_type": "code",
      "execution_count": 14,
      "metadata": {
        "colab": {
          "base_uri": "https://localhost:8080/"
        },
        "id": "40-9qcgALhsa",
        "outputId": "6888d4ac-6691-4f98-94c7-e3fbe6d6a3bb"
      },
      "outputs": [
        {
          "data": {
            "text/plain": [
              "[['jack', 9000],\n",
              " ['valdis', 9000],\n",
              " ['līga', 2640],\n",
              " ['pēteris', 2911],\n",
              " ['valdis', 4127]]"
            ]
          },
          "execution_count": 14,
          "metadata": {},
          "output_type": "execute_result"
        }
      ],
      "source": [
        "# if we did not have dictionaries we could have used a list of lists\n",
        "# but those lists would have to be in a specific order to find the right one\n",
        "tel_list = [['jack',9000], ['valdis',9000],['līga',2640],['pēteris',2911], ['valdis',4127]]\n",
        "tel_list  # 2D list  checking for specific entry will be slow unless I know the index\n",
        "# with a list of lists I need to know that valdis has index 1 in the inner list\n",
        "# otherwise I need to loop through all inner lists to find the right one"
      ]
    },
    {
      "cell_type": "markdown",
      "metadata": {},
      "source": [
        "### Converting 2D list to dictionary"
      ]
    },
    {
      "cell_type": "code",
      "execution_count": 15,
      "metadata": {
        "colab": {
          "base_uri": "https://localhost:8080/"
        },
        "id": "IA61fmcpPGgt",
        "outputId": "7759bb9a-202e-454a-ec3e-d55eb083f274"
      },
      "outputs": [
        {
          "data": {
            "text/plain": [
              "{'jack': 9000, 'valdis': 4127, 'līga': 2640, 'pēteris': 2911}"
            ]
          },
          "execution_count": 15,
          "metadata": {},
          "output_type": "execute_result"
        }
      ],
      "source": [
        "# if you expect that you will be working with a lot of key-value pairs\n",
        "# and you have 2d list structure you can convert it to a dictionary\n",
        "new_dict_from_tel_list = dict(tel_list)  # so i can pass a 2d list type of structure with 2 entries and create a new dictionary\n",
        "new_dict_from_tel_list"
      ]
    },
    {
      "cell_type": "code",
      "execution_count": 16,
      "metadata": {},
      "outputs": [
        {
          "data": {
            "text/plain": [
              "{'jack': 9000,\n",
              " 'sape': 4139,\n",
              " 'guido': 4127,\n",
              " 'valdis': [9000, 2640, 2911],\n",
              " 'Valdis': 4127,\n",
              " 'valdis2': 2640,\n",
              " 'valdisZ': 2911,\n",
              " 'Valdis Znotiņš': 2911}"
            ]
          },
          "execution_count": 16,
          "metadata": {},
          "output_type": "execute_result"
        }
      ],
      "source": [
        "# so what do you do if you have multiple persons called valdis with different phone numbers\n",
        "# well you do what you do in real life you add a new key-value pair\n",
        "# you use something extra to differentiate between the two or more valdises\n",
        "tel[\"Valdis\"] = 4127 # case sensitive so Valdis is different from valdis\n",
        "tel['valdis2'] = 2640\n",
        "tel['valdisZ'] = 2911\n",
        "tel[\"Valdis Znotiņš\"] = 2911 # note space is not a problem in keys\n",
        "tel"
      ]
    },
    {
      "cell_type": "code",
      "execution_count": 17,
      "metadata": {
        "colab": {
          "base_uri": "https://localhost:8080/"
        },
        "id": "OlAagkT2Lhsa",
        "outputId": "c0e328a7-0906-4e5d-aaaf-f85a0f837d5d"
      },
      "outputs": [
        {
          "data": {
            "text/plain": [
              "9000"
            ]
          },
          "execution_count": 17,
          "metadata": {},
          "output_type": "execute_result"
        }
      ],
      "source": [
        "#get value from key in dictionary\n",
        "# very fast even in large dictionaries! O(1)\n",
        "# this means even a huge dictionary will retrieve the values in constant time - ie very quickly\n",
        "\n",
        "tel['jack']"
      ]
    },
    {
      "cell_type": "code",
      "execution_count": 18,
      "metadata": {
        "id": "jRJHLPfSLhsb"
      },
      "outputs": [],
      "source": [
        "tel['sape'] = 54545  # i can overwrite already existing value (no warning given!)\n",
        "# this is also O(1) operation - very fast on large dictionaries"
      ]
    },
    {
      "cell_type": "code",
      "execution_count": null,
      "metadata": {
        "id": "7T6Y8Ny9Lhsb"
      },
      "outputs": [],
      "source": [
        "# try adding your own name to tel dictionary"
      ]
    },
    {
      "cell_type": "code",
      "execution_count": 19,
      "metadata": {
        "colab": {
          "base_uri": "https://localhost:8080/"
        },
        "id": "v08ogKHmLhsc",
        "outputId": "52d58d2b-e3a6-4e7f-e68c-0407294d2c74"
      },
      "outputs": [
        {
          "data": {
            "text/plain": [
              "[9000, 2640, 2911]"
            ]
          },
          "execution_count": 19,
          "metadata": {},
          "output_type": "execute_result"
        }
      ],
      "source": [
        "tel['valdis']"
      ]
    },
    {
      "cell_type": "code",
      "execution_count": 20,
      "metadata": {
        "colab": {
          "base_uri": "https://localhost:8080/",
          "height": 167
        },
        "id": "Bwnq6EQ9Lhsc",
        "outputId": "3663f26f-faa6-4561-f1ed-c650e4f46525"
      },
      "outputs": [
        {
          "data": {
            "text/plain": [
              "4127"
            ]
          },
          "execution_count": 20,
          "metadata": {},
          "output_type": "execute_result"
        }
      ],
      "source": [
        "tel['Valdis'] # this is not error because I added this key-value pair"
      ]
    },
    {
      "cell_type": "code",
      "execution_count": 21,
      "metadata": {
        "id": "dGIYIeBSLhsc"
      },
      "outputs": [
        {
          "name": "stdout",
          "output_type": "stream",
          "text": [
            "KeyError: 'Alice'\n"
          ]
        }
      ],
      "source": [
        "# let's try to get a key that does not exist\n",
        "try:\n",
        "    print(tel[\"Alice\"]) # this will throw an error\n",
        "except KeyError as e:\n",
        "    print(f\"KeyError: {e}\")"
      ]
    },
    {
      "cell_type": "markdown",
      "metadata": {},
      "source": [
        "## Membership test in dictionaries\n",
        "\n",
        "This is O(1) operation again very fast for large dictionaries.\n",
        "We check the existance of a key in a dictionary using the `in` operator.\n",
        "\n",
        "This will be much faster than checking something in a list or tuple.\n",
        "\n",
        "```python"
      ]
    },
    {
      "cell_type": "code",
      "execution_count": 22,
      "metadata": {
        "colab": {
          "base_uri": "https://localhost:8080/"
        },
        "id": "I4WtLnY-Lhsc",
        "outputId": "f4305013-c8cd-4b43-ec0b-0e2334189822"
      },
      "outputs": [
        {
          "data": {
            "text/plain": [
              "True"
            ]
          },
          "execution_count": 22,
          "metadata": {},
          "output_type": "execute_result"
        }
      ],
      "source": [
        "# check for key in our dictionary\n",
        "'valdis' in tel"
      ]
    },
    {
      "cell_type": "code",
      "execution_count": 23,
      "metadata": {
        "colab": {
          "base_uri": "https://localhost:8080/"
        },
        "id": "hVRDPhwkLhsd",
        "outputId": "5af11f31-4f3c-4880-a3a0-18e4e200c5b0"
      },
      "outputs": [
        {
          "data": {
            "text/plain": [
              "False"
            ]
          },
          "execution_count": 23,
          "metadata": {},
          "output_type": "execute_result"
        }
      ],
      "source": [
        "'pēteris' in tel"
      ]
    },
    {
      "cell_type": "code",
      "execution_count": 24,
      "metadata": {
        "colab": {
          "base_uri": "https://localhost:8080/"
        },
        "id": "gcr1zf-oLhsd",
        "outputId": "86981805-f240-4031-9732-c039d4367f46"
      },
      "outputs": [
        {
          "name": "stdout",
          "output_type": "stream",
          "text": [
            "No such key\n"
          ]
        }
      ],
      "source": [
        "# I can store the key in variable and then check if it is in the dictionary\n",
        "key = 'nnevaldis'\n",
        "# key = 'valdis'\n",
        "if key in tel:\n",
        "    print(tel[key]) # we print the value of the key if there is such a key\n",
        "else:\n",
        "    print(\"No such key\")"
      ]
    },
    {
      "cell_type": "code",
      "execution_count": 19,
      "metadata": {
        "colab": {
          "base_uri": "https://localhost:8080/"
        },
        "id": "Q-Vr7uvjLhsd",
        "outputId": "b2f38671-d528-4cc3-a20a-994c0be3eed9"
      },
      "outputs": [
        {
          "data": {
            "text/plain": [
              "NoneType"
            ]
          },
          "execution_count": 19,
          "metadata": {},
          "output_type": "execute_result"
        }
      ],
      "source": [
        "type(None)"
      ]
    },
    {
      "cell_type": "code",
      "execution_count": null,
      "metadata": {
        "id": "V8O3qIWjP0oR"
      },
      "outputs": [],
      "source": [
        "# this type of getting value by key and not getting error is so common Python has the above functionality built in"
      ]
    },
    {
      "cell_type": "markdown",
      "metadata": {},
      "source": [
        "### dictionary get method\n",
        "\n",
        "Using get method we can get the value of a key in a dictionary. If the key does not exist, it will return None.\n"
      ]
    },
    {
      "cell_type": "code",
      "execution_count": 25,
      "metadata": {
        "colab": {
          "base_uri": "https://localhost:8080/"
        },
        "id": "wUzDvMTYLhse",
        "outputId": "2a41afe9-e071-4e59-db02-bec4f703ed65"
      },
      "outputs": [
        {
          "data": {
            "text/plain": [
              "[9000, 2640, 2911]"
            ]
          },
          "execution_count": 25,
          "metadata": {},
          "output_type": "execute_result"
        }
      ],
      "source": [
        "tel.get('valdis') # gets value by key without errors"
      ]
    },
    {
      "cell_type": "code",
      "execution_count": 26,
      "metadata": {
        "colab": {
          "base_uri": "https://localhost:8080/"
        },
        "id": "VqV827n1Lhse",
        "outputId": "6896cc83-a55b-457d-d0da-e368978273c3"
      },
      "outputs": [
        {
          "name": "stdout",
          "output_type": "stream",
          "text": [
            "None\n"
          ]
        }
      ],
      "source": [
        "print(tel.get('nevaldis')) #by default on bad key we get None"
      ]
    },
    {
      "cell_type": "code",
      "execution_count": 27,
      "metadata": {
        "colab": {
          "base_uri": "https://localhost:8080/"
        },
        "id": "f24DTCrQLhse",
        "outputId": "08f02a6a-9d23-4d7b-894e-54b116f40ac6"
      },
      "outputs": [
        {
          "data": {
            "text/plain": [
              "-657"
            ]
          },
          "execution_count": 27,
          "metadata": {},
          "output_type": "execute_result"
        }
      ],
      "source": [
        "tel.get('nevaldis', 555-1212) # we can change the return on bad keys to our own \n",
        "# note we will get a negative number because we are doing math operation on 555 and 1212"
      ]
    },
    {
      "cell_type": "code",
      "execution_count": 28,
      "metadata": {
        "colab": {
          "base_uri": "https://localhost:8080/",
          "height": 35
        },
        "id": "qtPyLelOLhse",
        "outputId": "a9d98087-a395-4860-e807-9c63fa0f5d79"
      },
      "outputs": [
        {
          "data": {
            "text/plain": [
              "'555-1212'"
            ]
          },
          "execution_count": 28,
          "metadata": {},
          "output_type": "execute_result"
        }
      ],
      "source": [
        "tel.get('nevaldis', '555-1212') # we can change the return on bad keys to our own "
      ]
    },
    {
      "cell_type": "markdown",
      "metadata": {},
      "source": [
        "### Usage of get versus direct access\n",
        "\n",
        "So use direct access with **[]** when you are sure that the key exists in the dictionary. If you are not sure, use **get** method.\n",
        "\n"
      ]
    },
    {
      "cell_type": "code",
      "execution_count": 26,
      "metadata": {
        "colab": {
          "base_uri": "https://localhost:8080/"
        },
        "id": "CzsVVas8Lhse",
        "outputId": "cad9d41b-504e-4bad-faae-d87598fd699b"
      },
      "outputs": [
        {
          "data": {
            "text/plain": [
              "{'guido': 4127, 'jack': 9000, 'valdis': [9000, 2640, 2911]}"
            ]
          },
          "execution_count": 26,
          "metadata": {},
          "output_type": "execute_result"
        }
      ],
      "source": [
        "# remove key value pair\n",
        "tel['sape'] = 665453 # create key or overwrite if it existed\n",
        "del tel['sape']  # so i can delete a specific key\n",
        "tel"
      ]
    },
    {
      "cell_type": "code",
      "execution_count": 27,
      "metadata": {
        "colab": {
          "base_uri": "https://localhost:8080/",
          "height": 167
        },
        "id": "GgJfM9OBQYZP",
        "outputId": "b8f0e6c3-3e98-470c-e48c-8641cdc46973"
      },
      "outputs": [
        {
          "ename": "KeyError",
          "evalue": "ignored",
          "output_type": "error",
          "traceback": [
            "\u001b[0;31m---------------------------------------------------------------------------\u001b[0m",
            "\u001b[0;31mKeyError\u001b[0m                                  Traceback (most recent call last)",
            "\u001b[0;32m<ipython-input-27-5068050af7ba>\u001b[0m in \u001b[0;36m<module>\u001b[0;34m()\u001b[0m\n\u001b[0;32m----> 1\u001b[0;31m \u001b[0;32mdel\u001b[0m \u001b[0mtel\u001b[0m\u001b[0;34m[\u001b[0m\u001b[0;34m'sape'\u001b[0m\u001b[0;34m]\u001b[0m\u001b[0;34m\u001b[0m\u001b[0;34m\u001b[0m\u001b[0m\n\u001b[0m",
            "\u001b[0;31mKeyError\u001b[0m: 'sape'"
          ]
        }
      ],
      "source": [
        "# del tel['sape'] # so for deletion we would need to check first if the key exists (no get alternative)"
      ]
    },
    {
      "cell_type": "code",
      "execution_count": 28,
      "metadata": {
        "colab": {
          "base_uri": "https://localhost:8080/",
          "height": 35
        },
        "id": "s29G4POOLhsf",
        "outputId": "b53c8b91-0bb2-4c4b-aa17-8f4930efe73b"
      },
      "outputs": [
        {
          "data": {
            "application/vnd.google.colaboratory.intrinsic+json": {
              "type": "string"
            },
            "text/plain": [
              "'Sorry no such key'"
            ]
          },
          "execution_count": 28,
          "metadata": {},
          "output_type": "execute_result"
        }
      ],
      "source": [
        "tel.get('sape', 'Sorry no such key')"
      ]
    },
    {
      "cell_type": "code",
      "execution_count": 29,
      "metadata": {
        "colab": {
          "base_uri": "https://localhost:8080/"
        },
        "id": "yFTAt5ypLhsf",
        "outputId": "1233f235-71e0-41c0-af0d-3e2454b14734"
      },
      "outputs": [
        {
          "data": {
            "text/plain": [
              "True"
            ]
          },
          "execution_count": 29,
          "metadata": {},
          "output_type": "execute_result"
        }
      ],
      "source": [
        "'valdis' in tel.keys()  # basically the same as 'valdis' in tel"
      ]
    },
    {
      "cell_type": "code",
      "execution_count": null,
      "metadata": {
        "id": "_HoV2KIiLhsf"
      },
      "outputs": [],
      "source": [
        "'karlis' in tel.keys()"
      ]
    },
    {
      "cell_type": "code",
      "execution_count": null,
      "metadata": {
        "id": "hjjeCYf8Lhsf",
        "outputId": "c6719470-e57c-4e0a-bfea-7089dfc79cd8"
      },
      "outputs": [
        {
          "data": {
            "text/plain": [
              "True"
            ]
          },
          "execution_count": 28,
          "metadata": {},
          "output_type": "execute_result"
        }
      ],
      "source": [
        "# this will be slower going through all the key:value pairs\n",
        "4127 in tel.values()"
      ]
    },
    {
      "cell_type": "code",
      "execution_count": 30,
      "metadata": {
        "colab": {
          "base_uri": "https://localhost:8080/"
        },
        "id": "9HpUoHURLhsf",
        "outputId": "16d32622-0c48-4f8e-f99b-6e292d3cb42b"
      },
      "outputs": [
        {
          "data": {
            "text/plain": [
              "False"
            ]
          },
          "execution_count": 30,
          "metadata": {},
          "output_type": "execute_result"
        }
      ],
      "source": [
        "112 in tel.values()"
      ]
    },
    {
      "cell_type": "code",
      "execution_count": 31,
      "metadata": {
        "colab": {
          "base_uri": "https://localhost:8080/"
        },
        "id": "xT-VvS_bLhsf",
        "outputId": "83b50e17-7049-452e-9700-8b695f3d6092"
      },
      "outputs": [
        {
          "data": {
            "text/plain": [
              "dict_values"
            ]
          },
          "execution_count": 31,
          "metadata": {},
          "output_type": "execute_result"
        }
      ],
      "source": [
        "type(tel.values())"
      ]
    },
    {
      "cell_type": "code",
      "execution_count": 32,
      "metadata": {
        "colab": {
          "base_uri": "https://localhost:8080/"
        },
        "id": "yGnuK8XwQ5Jb",
        "outputId": "bcf8d921-3f49-4786-e6ea-54271673734d"
      },
      "outputs": [
        {
          "data": {
            "text/plain": [
              "dict_keys(['jack', 'guido', 'valdis'])"
            ]
          },
          "execution_count": 32,
          "metadata": {},
          "output_type": "execute_result"
        }
      ],
      "source": [
        "tel.keys()"
      ]
    },
    {
      "cell_type": "code",
      "execution_count": 33,
      "metadata": {
        "colab": {
          "base_uri": "https://localhost:8080/"
        },
        "id": "pOYwM_VLQ6ww",
        "outputId": "783163f7-9ab9-4aff-86db-2c676e2c83db"
      },
      "outputs": [
        {
          "data": {
            "text/plain": [
              "dict_values([9000, 4127, [9000, 2640, 2911]])"
            ]
          },
          "execution_count": 33,
          "metadata": {},
          "output_type": "execute_result"
        }
      ],
      "source": [
        "tel.values()\n"
      ]
    },
    {
      "cell_type": "code",
      "execution_count": 34,
      "metadata": {
        "colab": {
          "base_uri": "https://localhost:8080/"
        },
        "id": "QC5m_kinQ9V3",
        "outputId": "4530c409-7172-4340-8fb1-a24c0ad7d2b5"
      },
      "outputs": [
        {
          "data": {
            "text/plain": [
              "['jack', 'guido', 'valdis']"
            ]
          },
          "execution_count": 34,
          "metadata": {},
          "output_type": "execute_result"
        }
      ],
      "source": [
        "my_key_list = list(tel.keys())\n",
        "my_key_list"
      ]
    },
    {
      "cell_type": "code",
      "execution_count": 35,
      "metadata": {
        "colab": {
          "base_uri": "https://localhost:8080/"
        },
        "id": "btnTfTLARCfF",
        "outputId": "08b2dfc1-3500-4e1c-9adf-202421cac668"
      },
      "outputs": [
        {
          "data": {
            "text/plain": [
              "[9000, 4127, [9000, 2640, 2911]]"
            ]
          },
          "execution_count": 35,
          "metadata": {},
          "output_type": "execute_result"
        }
      ],
      "source": [
        "my_value_list = list(tel.values())\n",
        "my_value_list"
      ]
    },
    {
      "cell_type": "code",
      "execution_count": null,
      "metadata": {
        "id": "YFSpRScfLhsg",
        "outputId": "683490df-675e-49d8-b297-8af3255d2295"
      },
      "outputs": [
        {
          "data": {
            "text/plain": [
              "['__class__',\n",
              " '__delattr__',\n",
              " '__dir__',\n",
              " '__doc__',\n",
              " '__eq__',\n",
              " '__format__',\n",
              " '__ge__',\n",
              " '__getattribute__',\n",
              " '__gt__',\n",
              " '__hash__',\n",
              " '__init__',\n",
              " '__init_subclass__',\n",
              " '__iter__',\n",
              " '__le__',\n",
              " '__len__',\n",
              " '__lt__',\n",
              " '__ne__',\n",
              " '__new__',\n",
              " '__reduce__',\n",
              " '__reduce_ex__',\n",
              " '__repr__',\n",
              " '__reversed__',\n",
              " '__setattr__',\n",
              " '__sizeof__',\n",
              " '__str__',\n",
              " '__subclasshook__']"
            ]
          },
          "execution_count": 31,
          "metadata": {},
          "output_type": "execute_result"
        }
      ],
      "source": [
        "dir(tel.values())"
      ]
    },
    {
      "cell_type": "code",
      "execution_count": null,
      "metadata": {
        "id": "nMNoYu2zLhsg"
      },
      "outputs": [],
      "source": [
        "tel.values()"
      ]
    },
    {
      "cell_type": "code",
      "execution_count": null,
      "metadata": {
        "id": "OYEtpdZtLhsg",
        "outputId": "8fd833fb-be65-4102-8994-32246b614fe4"
      },
      "outputs": [
        {
          "data": {
            "text/plain": [
              "[9000, 4127, [9000, 2640, 2911]]"
            ]
          },
          "execution_count": 32,
          "metadata": {},
          "output_type": "execute_result"
        }
      ],
      "source": [
        "telvalues = list(tel.values())\n",
        "telvalues"
      ]
    },
    {
      "cell_type": "code",
      "execution_count": null,
      "metadata": {
        "id": "R_NkLcCLLhsg",
        "outputId": "f0504980-bdb8-4c31-edb4-ceeb07bb03d8"
      },
      "outputs": [
        {
          "data": {
            "text/plain": [
              "['jack', 'guido', 'valdis']"
            ]
          },
          "execution_count": 33,
          "metadata": {},
          "output_type": "execute_result"
        }
      ],
      "source": [
        "telkeys = list(tel.keys())\n",
        "telkeys"
      ]
    },
    {
      "cell_type": "code",
      "execution_count": null,
      "metadata": {
        "id": "S0C3v7lzLhsg"
      },
      "outputs": [],
      "source": [
        "tel['irv'] = 4127"
      ]
    },
    {
      "cell_type": "code",
      "execution_count": null,
      "metadata": {
        "id": "jqX5OwgHLhsg",
        "outputId": "18cb7142-4a58-46f1-e5d2-111ad9615df8"
      },
      "outputs": [
        {
          "data": {
            "text/plain": [
              "{'jack': 9000, 'guido': 4127, 'valdis': [9000, 2640, 2911], 'irv': 4127}"
            ]
          },
          "execution_count": 35,
          "metadata": {},
          "output_type": "execute_result"
        }
      ],
      "source": [
        "tel"
      ]
    },
    {
      "cell_type": "code",
      "execution_count": null,
      "metadata": {
        "id": "50laIggqLhsh",
        "outputId": "41d10363-8d46-421f-998c-7cfa6216ff7a"
      },
      "outputs": [
        {
          "data": {
            "text/plain": [
              "2"
            ]
          },
          "execution_count": 37,
          "metadata": {},
          "output_type": "execute_result"
        }
      ],
      "source": [
        "# tel.values.count(4127) dict_values has no count\n",
        "telvalues = list(tel.values())\n",
        "telvalues.count(4127)"
      ]
    },
    {
      "cell_type": "code",
      "execution_count": null,
      "metadata": {
        "id": "N2o8rvn7Lhsh",
        "outputId": "4bda2720-2735-4123-bb28-ea8bc35ef6f8"
      },
      "outputs": [
        {
          "data": {
            "text/plain": [
              "2"
            ]
          },
          "execution_count": 38,
          "metadata": {},
          "output_type": "execute_result"
        }
      ],
      "source": [
        "list(tel.values()).count(4127)"
      ]
    },
    {
      "cell_type": "code",
      "execution_count": null,
      "metadata": {
        "id": "FLv9bGFOLhsh"
      },
      "outputs": [],
      "source": [
        "list(tel.values()).count(9004127)"
      ]
    },
    {
      "cell_type": "code",
      "execution_count": null,
      "metadata": {
        "id": "a6aQbFKgLhsh"
      },
      "outputs": [],
      "source": [
        "tel['jack'] = 9999"
      ]
    },
    {
      "cell_type": "code",
      "execution_count": 36,
      "metadata": {
        "colab": {
          "base_uri": "https://localhost:8080/"
        },
        "id": "gfht9Il7Lhsh",
        "outputId": "ad0f28b2-b9c2-43ce-b0eb-68e6e10be94b"
      },
      "outputs": [
        {
          "name": "stdout",
          "output_type": "stream",
          "text": [
            "Added new key police value 911 pair\n"
          ]
        },
        {
          "data": {
            "text/plain": [
              "{'guido': 4127, 'jack': 9000, 'police': 911, 'valdis': [9000, 2640, 2911]}"
            ]
          },
          "execution_count": 36,
          "metadata": {},
          "output_type": "execute_result"
        }
      ],
      "source": [
        "key = 'police'\n",
        "value = 911\n",
        "if key not in tel:\n",
        "    tel[key] = value\n",
        "    print(f\"Added new key {key} value {value} pair\")\n",
        "else:\n",
        "    print(\"You already have key\", key, \"value\", tel[key])\n",
        "tel"
      ]
    },
    {
      "cell_type": "code",
      "execution_count": 37,
      "metadata": {
        "colab": {
          "base_uri": "https://localhost:8080/"
        },
        "id": "TvqgSuu2Lhsh",
        "outputId": "4890b876-0ef8-4c97-8ba2-5228dfd9f819"
      },
      "outputs": [
        {
          "data": {
            "text/plain": [
              "{'guido': 4127,\n",
              " 'jack': 9000,\n",
              " 'police': 911,\n",
              " 'rtu': 777700,\n",
              " 'valdis': [9000, 2640, 2911]}"
            ]
          },
          "execution_count": 37,
          "metadata": {},
          "output_type": "execute_result"
        }
      ],
      "source": [
        "# the above code can be written using setdefault method\n",
        "tel.setdefault(\"rtu\", 777700) # so this will only work once\n",
        "tel"
      ]
    },
    {
      "cell_type": "code",
      "execution_count": 38,
      "metadata": {
        "colab": {
          "base_uri": "https://localhost:8080/"
        },
        "id": "AwpSQ2-nRZ_a",
        "outputId": "3f7c51be-47a0-4f6e-a6e9-508426f26f38"
      },
      "outputs": [
        {
          "data": {
            "text/plain": [
              "{'guido': 4127,\n",
              " 'jack': 9000,\n",
              " 'police': 911,\n",
              " 'rtu': 777700,\n",
              " 'valdis': [9000, 2640, 2911]}"
            ]
          },
          "execution_count": 38,
          "metadata": {},
          "output_type": "execute_result"
        }
      ],
      "source": [
        "tel.setdefault(\"rtu\", 9001) # so this will only work once\n",
        "tel"
      ]
    },
    {
      "cell_type": "code",
      "execution_count": null,
      "metadata": {
        "id": "ozTXOEeQLhsi"
      },
      "outputs": [],
      "source": [
        "type(tel)"
      ]
    },
    {
      "cell_type": "code",
      "execution_count": null,
      "metadata": {
        "id": "yOGbgoJDLhsi",
        "outputId": "f5f50235-6bf8-4d7f-e00a-cada6ba60449"
      },
      "outputs": [
        {
          "data": {
            "text/plain": [
              "(9000, 9000)"
            ]
          },
          "execution_count": 43,
          "metadata": {},
          "output_type": "execute_result"
        }
      ],
      "source": [
        "tel.get('jack'), tel['jack'] # the diffence being that get doesnt throw errors"
      ]
    },
    {
      "cell_type": "code",
      "execution_count": null,
      "metadata": {
        "id": "jFIMARtJLhsi"
      },
      "outputs": [],
      "source": [
        "tel[1] = 5555\n",
        "tel"
      ]
    },
    {
      "cell_type": "code",
      "execution_count": null,
      "metadata": {
        "id": "YgcSwIqbLhsi"
      },
      "outputs": [],
      "source": [
        "tel[1]"
      ]
    },
    {
      "cell_type": "code",
      "execution_count": null,
      "metadata": {
        "id": "mbGqUgS4Lhsi"
      },
      "outputs": [],
      "source": [
        "myphonelist=[3432432,242342,24,234,2432]\n",
        "myphonelist[1]"
      ]
    },
    {
      "cell_type": "code",
      "execution_count": null,
      "metadata": {
        "id": "tSkRiM15Lhsi"
      },
      "outputs": [],
      "source": [
        "list(tel.keys())"
      ]
    },
    {
      "cell_type": "code",
      "execution_count": null,
      "metadata": {
        "id": "3P1OC2kILhsi"
      },
      "outputs": [],
      "source": [
        "list(tel.values())"
      ]
    },
    {
      "cell_type": "code",
      "execution_count": null,
      "metadata": {
        "id": "ijfmT_LVLhsk"
      },
      "outputs": [],
      "source": [
        "sorted([5,7,1,66], reverse=True)"
      ]
    },
    {
      "cell_type": "code",
      "execution_count": null,
      "metadata": {
        "id": "QmtZ0VJvLhsk"
      },
      "outputs": [],
      "source": [
        "sorted(tel.values())"
      ]
    },
    {
      "cell_type": "code",
      "execution_count": null,
      "metadata": {
        "id": "8n0Sk3SwLhsl"
      },
      "outputs": [],
      "source": [
        "# delete irv key\n",
        "# add irv key with new value\n",
        "del tel['irv']\n",
        "tel.keys()"
      ]
    },
    {
      "cell_type": "code",
      "execution_count": null,
      "metadata": {
        "id": "O5RA_vPlLhsl",
        "outputId": "d6b02709-4c41-4dc0-d1b8-e19378fa21b2"
      },
      "outputs": [
        {
          "data": {
            "text/plain": [
              "dict_keys(['jack', 'guido', 'valdis', 'irv', 'police', 'rtu'])"
            ]
          },
          "execution_count": 46,
          "metadata": {},
          "output_type": "execute_result"
        }
      ],
      "source": [
        "tel['irv'] = [333, 333,13214141]\n",
        "tel.keys()"
      ]
    },
    {
      "cell_type": "code",
      "execution_count": null,
      "metadata": {
        "id": "NvxMVR5RLhsl"
      },
      "outputs": [],
      "source": [
        "tel"
      ]
    },
    {
      "cell_type": "code",
      "execution_count": null,
      "metadata": {
        "id": "0k4uIBQwLhsl"
      },
      "outputs": [],
      "source": [
        "len(tel)"
      ]
    },
    {
      "cell_type": "code",
      "execution_count": null,
      "metadata": {
        "id": "Dx8YCpxgLhsl",
        "outputId": "cdd608bb-66a7-4638-b463-958664880f47"
      },
      "outputs": [
        {
          "data": {
            "text/plain": [
              "[9000, 2640, 2911]"
            ]
          },
          "execution_count": 44,
          "metadata": {},
          "output_type": "execute_result"
        }
      ],
      "source": [
        "valdisphones = tel.get('valdis')\n",
        "valdisphones # this is just a reference to a list"
      ]
    },
    {
      "cell_type": "code",
      "execution_count": null,
      "metadata": {
        "id": "F2RSaXqLLhsl",
        "outputId": "b1fc440b-9521-41bb-fa49-308a6155812e"
      },
      "outputs": [
        {
          "data": {
            "text/plain": [
              "2911"
            ]
          },
          "execution_count": 45,
          "metadata": {},
          "output_type": "execute_result"
        }
      ],
      "source": [
        "# how to get last phone number from irvingphones ?\n",
        "valdisphones[-1]"
      ]
    },
    {
      "cell_type": "code",
      "execution_count": null,
      "metadata": {
        "id": "dKr-j0BOLhsm",
        "outputId": "bc854da0-b7d7-4821-8865-30b767beafdd"
      },
      "outputs": [
        {
          "data": {
            "text/plain": [
              "[333, 333, 13214141]"
            ]
          },
          "execution_count": 47,
          "metadata": {},
          "output_type": "execute_result"
        }
      ],
      "source": [
        "tel['irv']"
      ]
    },
    {
      "cell_type": "code",
      "execution_count": null,
      "metadata": {
        "id": "Zs3w_roWLhsm",
        "outputId": "be266ac0-84ed-4bfb-8faf-c55a3d1f9337"
      },
      "outputs": [
        {
          "data": {
            "text/plain": [
              "13214141"
            ]
          },
          "execution_count": 48,
          "metadata": {},
          "output_type": "execute_result"
        }
      ],
      "source": [
        "tel['irv'][-1] # last value from dictionary by key irv which contains a list"
      ]
    },
    {
      "cell_type": "code",
      "execution_count": null,
      "metadata": {
        "id": "kr_X6Dw5Lhsm",
        "outputId": "03e5f25e-9fb3-49ef-c5b6-73c4b26c0ad0"
      },
      "outputs": [
        {
          "data": {
            "text/plain": [
              "[333, 333]"
            ]
          },
          "execution_count": 49,
          "metadata": {},
          "output_type": "execute_result"
        }
      ],
      "source": [
        "tel['irv'][:2] # first two value from irv value (which is a list)"
      ]
    },
    {
      "cell_type": "code",
      "execution_count": null,
      "metadata": {
        "id": "w_8u0CZ3Lhsm"
      },
      "outputs": [],
      "source": [
        "?sorted"
      ]
    },
    {
      "cell_type": "code",
      "execution_count": 39,
      "metadata": {
        "colab": {
          "base_uri": "https://localhost:8080/"
        },
        "id": "lk7P6-bMLhsm",
        "outputId": "ac14d55a-1561-4d1f-8270-8b28a0d9f17c"
      },
      "outputs": [
        {
          "data": {
            "text/plain": [
              "dict_keys(['jack', 'guido', 'valdis', 'police', 'rtu'])"
            ]
          },
          "execution_count": 39,
          "metadata": {},
          "output_type": "execute_result"
        }
      ],
      "source": [
        "tel.keys()"
      ]
    },
    {
      "cell_type": "code",
      "execution_count": null,
      "metadata": {
        "id": "GJjjibvbLhsm"
      },
      "outputs": [],
      "source": [
        "# since Python 3.7 the original insertion order of keys is preserved"
      ]
    },
    {
      "cell_type": "code",
      "execution_count": 40,
      "metadata": {
        "colab": {
          "base_uri": "https://localhost:8080/"
        },
        "id": "qJRilEGNLhsm",
        "outputId": "94f0f8c8-56d8-44eb-f299-2cde7123268b"
      },
      "outputs": [
        {
          "data": {
            "text/plain": [
              "['guido', 'jack', 'police', 'rtu', 'valdis']"
            ]
          },
          "execution_count": 40,
          "metadata": {},
          "output_type": "execute_result"
        }
      ],
      "source": [
        "sorted(tel.keys())"
      ]
    },
    {
      "cell_type": "code",
      "execution_count": null,
      "metadata": {
        "id": "peEwSUCjLhsn",
        "outputId": "7d80c637-29f5-48c1-96ca-2db9ac7ea8bb"
      },
      "outputs": [
        {
          "data": {
            "text/plain": [
              "{'guido': 4127,\n",
              " 'irv': [333, 333, 13214141],\n",
              " 'jack': 9000,\n",
              " 'police': 911,\n",
              " 'rtu': 7777,\n",
              " 'valdis': [9000, 2640, 2911]}"
            ]
          },
          "execution_count": 53,
          "metadata": {},
          "output_type": "execute_result"
        }
      ],
      "source": [
        "sorted_tel = {}\n",
        "for key in sorted(tel.keys()):\n",
        "    sorted_tel[key] = tel[key]\n",
        "# this looping is not free and would take the size the whole dictionary plus sorting is also takes time\n",
        "sorted_tel"
      ]
    },
    {
      "cell_type": "code",
      "execution_count": null,
      "metadata": {
        "id": "eyXBVyw6R0xq"
      },
      "outputs": [],
      "source": [
        "# there is a specific sorted dictionary as well(less common)"
      ]
    },
    {
      "cell_type": "code",
      "execution_count": null,
      "metadata": {
        "id": "9vpx0pgvLhsn"
      },
      "outputs": [],
      "source": [
        "telkeys = list(tel.keys())\n",
        "telkeys"
      ]
    },
    {
      "cell_type": "code",
      "execution_count": null,
      "metadata": {
        "id": "AbG4To_DLhsn"
      },
      "outputs": [],
      "source": [
        "newkeys = []\n",
        "for key in telkeys:\n",
        "    newkeys.append(str(key))\n",
        "newkeys"
      ]
    },
    {
      "cell_type": "code",
      "execution_count": 41,
      "metadata": {
        "colab": {
          "base_uri": "https://localhost:8080/"
        },
        "id": "5gQfBivCLhsn",
        "outputId": "52edd77b-ed70-44c0-e405-653f75ebfa3e"
      },
      "outputs": [
        {
          "data": {
            "text/plain": [
              "{'beets': 3, 'carrots': 5, 'chocolate': 10, 'potatoes': 8, 'pumpkins': 2}"
            ]
          },
          "execution_count": 41,
          "metadata": {},
          "output_type": "execute_result"
        }
      ],
      "source": [
        "shopdict = {\"potatoes\":8, \"carrots\": 5, \"beets\": 3, \"pumpkins\":2, \"chocolate\":10}\n",
        "shopdict"
      ]
    },
    {
      "cell_type": "code",
      "execution_count": 42,
      "metadata": {
        "colab": {
          "base_uri": "https://localhost:8080/"
        },
        "id": "8Le9HuVGLhsn",
        "outputId": "fcccddd6-4d9a-46f3-fbe5-1bdff42986cb"
      },
      "outputs": [
        {
          "name": "stdout",
          "output_type": "stream",
          "text": [
            "potatoes 8\n",
            "Buying 8kgs of potatoes\n",
            "carrots 5\n",
            "Buying 5kgs of carrots\n",
            "beets 3\n",
            "Buying 3kgs of beets\n",
            "pumpkins 2\n",
            "Buying 2kgs of pumpkins\n",
            "chocolate 10\n",
            "Buying 10kgs of chocolate\n"
          ]
        }
      ],
      "source": [
        "for key,value in shopdict.items(): # key and value are just names we made up also common is k,v\n",
        "    print(key,value)\n",
        "    print(f\"Buying {value}kgs of {key}\")\n",
        "    # I could do more work on this particular key value pair here"
      ]
    },
    {
      "cell_type": "code",
      "execution_count": 43,
      "metadata": {
        "colab": {
          "base_uri": "https://localhost:8080/"
        },
        "id": "VSTSX3mzLhsn",
        "outputId": "c90e8f9f-2404-45f2-a80d-da444a2e4b5c"
      },
      "outputs": [
        {
          "name": "stdout",
          "output_type": "stream",
          "text": [
            "potatoes 8\n",
            "carrots 5\n",
            "beets 3\n",
            "pumpkins 2\n",
            "chocolate 10\n"
          ]
        }
      ],
      "source": [
        "for key in shopdict: # so only key is provided # same as for key in shopdict.keys()\n",
        "    print(key, shopdict[key])  # no point in using get since we know the key exists!"
      ]
    },
    {
      "cell_type": "code",
      "execution_count": 46,
      "metadata": {
        "colab": {
          "base_uri": "https://localhost:8080/"
        },
        "id": "nq_lVyD8Lhsn",
        "outputId": "50ac5794-0f9d-49ee-cd3c-43004e7a59c7"
      },
      "outputs": [
        {
          "data": {
            "text/plain": [
              "{'beets': 33, 'carrots': 35, 'chocolate': 40, 'potatoes': 38, 'pumpkins': 32}"
            ]
          },
          "execution_count": 46,
          "metadata": {},
          "output_type": "execute_result"
        }
      ],
      "source": [
        "for key in shopdict:\n",
        "    shopdict[key] += 10 # same as shopdict[key] = shopdict[key] + 10\n",
        "shopdict"
      ]
    },
    {
      "cell_type": "code",
      "execution_count": 47,
      "metadata": {
        "colab": {
          "base_uri": "https://localhost:8080/"
        },
        "id": "Jbtlc4wOLhso",
        "outputId": "80c9e1c0-6cd4-4323-bc6f-e2dd3ab1618a"
      },
      "outputs": [
        {
          "name": "stdout",
          "output_type": "stream",
          "text": [
            "101 potatoes 38\n",
            "102 carrots 35\n",
            "103 beets 33\n",
            "104 pumpkins 32\n",
            "105 chocolate 40\n",
            "[[101, 'potatoes', 38], [102, 'carrots', 35], [103, 'beets', 33], [104, 'pumpkins', 32], [105, 'chocolate', 40]]\n",
            "{101: ('potatoes', 38), 102: ('carrots', 35), 103: ('beets', 33), 104: ('pumpkins', 32), 105: ('chocolate', 40)}\n"
          ]
        }
      ],
      "source": [
        "newlist = []\n",
        "newdict = {}\n",
        "for index,(key,value) in enumerate(shopdict.items(), start=101):\n",
        "    print(index,key,value)\n",
        "    newlist.append([index,key,value])\n",
        "    newdict[index] = (key,value)\n",
        "print(newlist)\n",
        "print(newdict)"
      ]
    },
    {
      "cell_type": "code",
      "execution_count": 48,
      "metadata": {
        "colab": {
          "base_uri": "https://localhost:8080/"
        },
        "id": "i_SBg_9KLhso",
        "outputId": "e3acf619-9ca4-40dd-8cac-97cb632df63e"
      },
      "outputs": [
        {
          "data": {
            "text/plain": [
              "('carrots', 35)"
            ]
          },
          "execution_count": 48,
          "metadata": {},
          "output_type": "execute_result"
        }
      ],
      "source": [
        "newdict[102] # looks like a list but it's a dictionary"
      ]
    },
    {
      "cell_type": "code",
      "execution_count": null,
      "metadata": {
        "id": "UaK12LIdSrTc"
      },
      "outputs": [],
      "source": [
        "# numbers as keys would make sense if you have large gaps in your numbers say 5, 5532, 34141255 then dictionary would be great\n",
        "# if you only have a few items maybe a list would be better\n"
      ]
    },
    {
      "cell_type": "code",
      "execution_count": 49,
      "metadata": {
        "colab": {
          "base_uri": "https://localhost:8080/"
        },
        "id": "5u86OTW3Lhso",
        "outputId": "5c0f3327-c620-4f1d-b441-bd73be547453"
      },
      "outputs": [
        {
          "data": {
            "text/plain": [
              "{'beets': {'id': 103, 'quantity': 33},\n",
              " 'carrots': {'id': 102, 'quantity': 35},\n",
              " 'chocolate': {'id': 105, 'quantity': 40},\n",
              " 'potatoes': {'id': 101, 'quantity': 38},\n",
              " 'pumpkins': {'id': 104, 'quantity': 32}}"
            ]
          },
          "execution_count": 49,
          "metadata": {},
          "output_type": "execute_result"
        }
      ],
      "source": [
        "# i can create a dictionary of dictionaries\n",
        "newdict2 = {}\n",
        "for item in newlist:\n",
        "    newdict2[item[1]] = {'id':item[0],'quantity':item[2]}\n",
        "newdict2 # so this will be dictionary with values being separate dictionaries"
      ]
    },
    {
      "cell_type": "code",
      "execution_count": 50,
      "metadata": {
        "colab": {
          "base_uri": "https://localhost:8080/"
        },
        "id": "NAFhcVkxLhso",
        "outputId": "56fef80b-d29e-41fb-9eb8-db418a67deb8"
      },
      "outputs": [
        {
          "data": {
            "text/plain": [
              "{'id': 103, 'quantity': 33}"
            ]
          },
          "execution_count": 50,
          "metadata": {},
          "output_type": "execute_result"
        }
      ],
      "source": [
        "# can you get me quantity of beets needed from newdict2 ?\n",
        "newdict2['beets']"
      ]
    },
    {
      "cell_type": "code",
      "execution_count": 51,
      "metadata": {
        "colab": {
          "base_uri": "https://localhost:8080/"
        },
        "id": "2a9kt21uLhso",
        "outputId": "07e92d99-bd49-4512-817f-ccffcac594ca"
      },
      "outputs": [
        {
          "data": {
            "text/plain": [
              "33"
            ]
          },
          "execution_count": 51,
          "metadata": {},
          "output_type": "execute_result"
        }
      ],
      "source": [
        "newdict2['beets']['quantity']"
      ]
    },
    {
      "cell_type": "code",
      "execution_count": 52,
      "metadata": {
        "colab": {
          "base_uri": "https://localhost:8080/"
        },
        "id": "RaUQ3OdyLhso",
        "outputId": "378fdbc0-b239-4793-f8f1-bed61ecc40a7"
      },
      "outputs": [
        {
          "data": {
            "text/plain": [
              "33"
            ]
          },
          "execution_count": 52,
          "metadata": {},
          "output_type": "execute_result"
        }
      ],
      "source": [
        "newdict2.get('beets').get('quantity') # somewhat less common due to mostly laziness i think :0"
      ]
    },
    {
      "cell_type": "code",
      "execution_count": 55,
      "metadata": {
        "colab": {
          "base_uri": "https://localhost:8080/",
          "height": 35
        },
        "id": "Oe6R7ZDkTQNh",
        "outputId": "6249b399-8197-4d03-e4aa-fd680d78220f"
      },
      "outputs": [
        {
          "data": {
            "application/vnd.google.colaboratory.intrinsic+json": {
              "type": "string"
            },
            "text/plain": [
              "'Sorry nothing'"
            ]
          },
          "execution_count": 55,
          "metadata": {},
          "output_type": "execute_result"
        }
      ],
      "source": [
        "newdict2.get('badbeets', {}).get('quantity',\"Sorry nothing\") # trick to have multilevel get work we give blank dict as default"
      ]
    },
    {
      "cell_type": "code",
      "execution_count": null,
      "metadata": {
        "id": "uZtWhb9bLhsp",
        "outputId": "896a8f42-ccbc-4196-e2b3-6d94948a89e0"
      },
      "outputs": [
        {
          "data": {
            "text/plain": [
              "{'a': 1, 'b': 2, 3: 'c', '3': '3c'}"
            ]
          },
          "execution_count": 65,
          "metadata": {},
          "output_type": "execute_result"
        }
      ],
      "source": [
        "# there are other of creating dictionaries\n",
        "t3 = dict([['a', 1],['b',2],[3, 'c'], ['3', '3c']])\n",
        "t3"
      ]
    },
    {
      "cell_type": "code",
      "execution_count": 58,
      "metadata": {
        "colab": {
          "base_uri": "https://localhost:8080/"
        },
        "id": "OyMPE20-TkZ_",
        "outputId": "74bde038-3c7c-4d7d-ca0f-93797bb8a520"
      },
      "outputs": [
        {
          "data": {
            "text/plain": [
              "(['jack', 'guido', 'valdis', 'police', 'rtu'],\n",
              " [9000, 4127, [9000, 2640, 2911], 911, 777700])"
            ]
          },
          "execution_count": 58,
          "metadata": {},
          "output_type": "execute_result"
        }
      ],
      "source": [
        "tel_keys = list(tel.keys())\n",
        "tel_values = list(tel.values())\n",
        "tel_keys, tel_values # i can deconstruct"
      ]
    },
    {
      "cell_type": "code",
      "execution_count": 60,
      "metadata": {
        "colab": {
          "base_uri": "https://localhost:8080/"
        },
        "id": "TzKLnC67T55N",
        "outputId": "fe55fc7c-b65a-45b7-f59a-d9e21593109d"
      },
      "outputs": [
        {
          "data": {
            "text/plain": [
              "{'guido': 4127,\n",
              " 'jack': 9000,\n",
              " 'police': 911,\n",
              " 'rtu': 777700,\n",
              " 'valdis': [9000, 2640, 2911]}"
            ]
          },
          "execution_count": 60,
          "metadata": {},
          "output_type": "execute_result"
        }
      ],
      "source": [
        "new_tel_dict = dict(zip(tel_keys, tel_values)) # i can zip the two lists together and construct a new dictionary\n",
        "new_tel_dict"
      ]
    },
    {
      "cell_type": "code",
      "execution_count": null,
      "metadata": {
        "id": "YWSag2HGLhsp",
        "outputId": "8de18a9b-2727-4350-c9d6-1b6dd23ca16e"
      },
      "outputs": [
        {
          "data": {
            "text/plain": [
              "('c', '3c')"
            ]
          },
          "execution_count": 66,
          "metadata": {},
          "output_type": "execute_result"
        }
      ],
      "source": [
        "t3[3],t3['3']"
      ]
    },
    {
      "cell_type": "code",
      "execution_count": null,
      "metadata": {
        "id": "JMCDzmN1Lhsp",
        "outputId": "7231c0e2-700e-4aea-9571-ff070cd6531a",
        "scrolled": true
      },
      "outputs": [
        {
          "name": "stdout",
          "output_type": "stream",
          "text": [
            "{'sape': 4139, 'guido': 4127, 'jack': 4098}\n"
          ]
        }
      ],
      "source": [
        "# alternative way of creating a dictionary using tuples ()\n",
        "t2=dict([('sape', 4139), ('guido', 4127), ('jack', 4098)])\n",
        "print(t2)"
      ]
    },
    {
      "cell_type": "code",
      "execution_count": null,
      "metadata": {
        "id": "Qja6IQMJLhsp"
      },
      "outputs": [],
      "source": [
        "names = ['Valdis', 'valdis', 'Antons', 'Anna', 'Kārlis', 'karlis']\n",
        "names"
      ]
    },
    {
      "cell_type": "code",
      "execution_count": null,
      "metadata": {
        "id": "dIeF7FfnLhsp"
      },
      "outputs": [],
      "source": [
        "sorted(names)"
      ]
    },
    {
      "cell_type": "markdown",
      "metadata": {
        "id": "CGu17goqLhsq"
      },
      "source": [
        "* `globals()` always returns the dictionary of the module namespace\n",
        "* `locals()` always returns a dictionary of the current namespace\n",
        "* `vars()` returns either a dictionary of the current namespace (if called with no argument) or the dictionary of the argument."
      ]
    },
    {
      "cell_type": "code",
      "execution_count": 61,
      "metadata": {
        "colab": {
          "base_uri": "https://localhost:8080/"
        },
        "id": "TPJsK3l1Lhsq",
        "outputId": "0c42ccd7-b75e-4a95-fc75-771cb76e90a1"
      },
      "outputs": [
        {
          "data": {
            "text/plain": [
              "{'In': ['',\n",
              "  'emptyd = {} # most common way of creating a new dictionary\\nlen(emptyd)',\n",
              "  'type(emptyd)',\n",
              "  'also_dict = dict()\\nprint(also_dict)',\n",
              "  \"tel = {'jack': 4098, 'sape': 4139} # so  { key: value, key2:value2, and so on}\\nprint(tel)\",\n",
              "  \"# so what can be keys ? what happens if we add second identical key\\ntel = {'jack': 4098, 'sape': 4139, 'jack': 9000} # you generally should not do this, keys should be unique\\nprint(tel)\",\n",
              "  \"# add a new key-value pair\\ntel['guido'] = 4127\\nprint(tel.keys())\\nprint(tel.values())\",\n",
              "  \"# add key 'valdis' with value 4127 to our tel dictionary\\ntel['valdis'] = 4127\\ntel # so values can be same\",\n",
              "  \"tel['valdis'] = [9000,2640,2911]  # I can store a list of numbers as value in my dictionary against some specific key\\ntel\",\n",
              "  \"tel_list = [['jack',9000], ['valdis',9000]]\\ntel_list\",\n",
              "  'new_dict_from_tel_list = dict(tel_list)\\nnew_dict_from_tel_list',\n",
              "  \"#get value from key in dictionary\\n# very fast even in large dictionaries! O(1)\\n# this means even a huge dictionary will retrieve the values in constant time - ie very quickly\\n\\ntel['jack']\",\n",
              "  \"tel['sape'] = 54545\",\n",
              "  \"tel['valdis']\",\n",
              "  \"tel['Valdis'] # this should give error because no such key exists\",\n",
              "  \"# check for key in our dictionary\\n'valdis' in tel\",\n",
              "  \"'peteris' in tel\",\n",
              "  '# key = \\'nnevaldis\\'\\nkey = \\'valdis\\'\\nif key in tel:\\n    print(tel[key]) # we print the value of the key if there is such a key\\nelse:\\n    print(\"No such key\")',\n",
              "  'key = \\'nnevaldis\\'\\n# key = \\'valdis\\'\\nif key in tel:\\n    print(tel[key]) # we print the value of the key if there is such a key\\nelse:\\n    print(\"No such key\")',\n",
              "  'type(None)',\n",
              "  \"tel.get('valdis') # gets value by key without errors\",\n",
              "  \"print(tel.get('nevaldis')) #by default on bad key we get None\",\n",
              "  \"tel.get('nevaldis', 555-1212) # we can change the return on bad keys to our own \",\n",
              "  \"tel.get('nevaldis', '555-1212') # we can change the return on bad keys to our own \",\n",
              "  \"tel.get('nevaldis', '555-1212') # we can change the return on bad keys to our own \",\n",
              "  \"# remove key value pair\\ntel['sape'] = 665453 # create key or overwrite if it existed\\ndel tel['sape']\\ntel\",\n",
              "  \"# remove key value pair\\ntel['sape'] = 665453 # create key or overwrite if it existed\\ndel tel['sape']  # so i can delete a specific key\\ntel\",\n",
              "  \"del tel['sape']\",\n",
              "  \"tel.get('sape', 'Sorry no such key')\",\n",
              "  \"'valdis' in tel.keys()  # basically the same as 'valdis' in tel\",\n",
              "  '112 in tel.values()',\n",
              "  'type(tel.values())',\n",
              "  'tel.keys()',\n",
              "  'tel.values()',\n",
              "  'my_key_list = list(tel.keys())\\nmy_key_list',\n",
              "  'my_value_list = list(tel.values())\\nmy_value_list',\n",
              "  'key = \\'police\\'\\nvalue = 911\\nif key not in tel:\\n    tel[key] = value\\n    print(f\"Added new key {key} value {value} pair\")\\nelse:\\n    print(\"You already have key\", key, \"value\", tel[key])\\ntel',\n",
              "  '# the above code can be written using setdefault method\\ntel.setdefault(\"rtu\", 777700) # so this will only work once\\ntel',\n",
              "  'tel.setdefault(\"rtu\", 9001) # so this will only work once\\ntel',\n",
              "  'tel.keys()',\n",
              "  'sorted(tel.keys())',\n",
              "  'shopdict = {\"potatoes\":8, \"carrots\": 5, \"beets\": 3, \"pumpkins\":2, \"chocolate\":10}\\nshopdict',\n",
              "  'for key,value in shopdict.items(): # key and value are just names we made up also common is k,v\\n    print(key,value)\\n    print(f\"Buying {value}kgs of {key}\")\\n    # I could do more work on this particular key value pair here',\n",
              "  'for key in shopdict: # so only key is provided # same as for key in shopdict.keys()\\n    print(key, shopdict[key])  # no point in using get since we know the key exists!',\n",
              "  'for key in shopdict:\\n    shopdict[key] += 10 # same as shopdict[key] = shopdict[key] + 10\\nshopdict',\n",
              "  'for key in shopdict:\\n    shopdict[key] += 10 # same as shopdict[key] = shopdict[key] + 10\\nshopdict',\n",
              "  'for key in shopdict:\\n    shopdict[key] += 10 # same as shopdict[key] = shopdict[key] + 10\\nshopdict',\n",
              "  'newlist = []\\nnewdict = {}\\nfor index,(key,value) in enumerate(shopdict.items(), start=101):\\n    print(index,key,value)\\n    newlist.append([index,key,value])\\n    newdict[index] = (key,value)\\nprint(newlist)\\nprint(newdict)',\n",
              "  \"newdict[102] # looks like a list but it's a dictionary\",\n",
              "  \"# i can create a dictionary of dictionaries\\nnewdict2 = {}\\nfor item in newlist:\\n    newdict2[item[1]] = {'id':item[0],'quantity':item[2]}\\nnewdict2 # so this will be dictionary with values being separate dictionaries\",\n",
              "  \"# can you get me quantity of beets needed from newdict2 ?\\nnewdict2['beets']\",\n",
              "  \"newdict2['beets']['quantity']\",\n",
              "  \"newdict2.get('beets').get('quantity') # somewhat less common due to mostly laziness i think :0\",\n",
              "  \"newdict2.get('badbeets').get('quantity') \",\n",
              "  \"newdict2.get('badbeets', {}).get('quantity') \",\n",
              "  'newdict2.get(\\'badbeets\\', {}).get(\\'quantity\\',\"Sorry nothing\") ',\n",
              "  'telkeys',\n",
              "  'tel_keys',\n",
              "  'tel_keys = list(tel.keys())\\ntel_values = list(tel.values())\\ntel_keys, tel_values',\n",
              "  'new_tel_dict = dict(*zip(tel_keys, tel_values))\\nnew_tel_dict',\n",
              "  'new_tel_dict = dict(zip(tel_keys, tel_values))\\nnew_tel_dict',\n",
              "  'globals()'],\n",
              " 'Out': {1: 0,\n",
              "  2: dict,\n",
              "  7: {'guido': 4127,\n",
              "   'jack': 9000,\n",
              "   'police': 911,\n",
              "   'rtu': 777700,\n",
              "   'valdis': [9000, 2640, 2911]},\n",
              "  8: {'guido': 4127,\n",
              "   'jack': 9000,\n",
              "   'police': 911,\n",
              "   'rtu': 777700,\n",
              "   'valdis': [9000, 2640, 2911]},\n",
              "  9: [['jack', 9000], ['valdis', 9000]],\n",
              "  10: {'jack': 9000, 'valdis': 9000},\n",
              "  11: 9000,\n",
              "  13: [9000, 2640, 2911],\n",
              "  15: True,\n",
              "  16: False,\n",
              "  19: NoneType,\n",
              "  20: [9000, 2640, 2911],\n",
              "  22: -657,\n",
              "  23: '555-1212',\n",
              "  24: '555-1212',\n",
              "  25: {'guido': 4127,\n",
              "   'jack': 9000,\n",
              "   'police': 911,\n",
              "   'rtu': 777700,\n",
              "   'valdis': [9000, 2640, 2911]},\n",
              "  26: {'guido': 4127,\n",
              "   'jack': 9000,\n",
              "   'police': 911,\n",
              "   'rtu': 777700,\n",
              "   'valdis': [9000, 2640, 2911]},\n",
              "  28: 'Sorry no such key',\n",
              "  29: True,\n",
              "  30: False,\n",
              "  31: dict_values,\n",
              "  32: dict_keys(['jack', 'guido', 'valdis', 'police', 'rtu']),\n",
              "  33: dict_values([9000, 4127, [9000, 2640, 2911], 911, 777700]),\n",
              "  34: ['jack', 'guido', 'valdis'],\n",
              "  35: [9000, 4127, [9000, 2640, 2911]],\n",
              "  36: {'guido': 4127,\n",
              "   'jack': 9000,\n",
              "   'police': 911,\n",
              "   'rtu': 777700,\n",
              "   'valdis': [9000, 2640, 2911]},\n",
              "  37: {'guido': 4127,\n",
              "   'jack': 9000,\n",
              "   'police': 911,\n",
              "   'rtu': 777700,\n",
              "   'valdis': [9000, 2640, 2911]},\n",
              "  38: {'guido': 4127,\n",
              "   'jack': 9000,\n",
              "   'police': 911,\n",
              "   'rtu': 777700,\n",
              "   'valdis': [9000, 2640, 2911]},\n",
              "  39: dict_keys(['jack', 'guido', 'valdis', 'police', 'rtu']),\n",
              "  40: ['guido', 'jack', 'police', 'rtu', 'valdis'],\n",
              "  41: {'beets': 33,\n",
              "   'carrots': 35,\n",
              "   'chocolate': 40,\n",
              "   'potatoes': 38,\n",
              "   'pumpkins': 32},\n",
              "  44: {'beets': 33,\n",
              "   'carrots': 35,\n",
              "   'chocolate': 40,\n",
              "   'potatoes': 38,\n",
              "   'pumpkins': 32},\n",
              "  45: {'beets': 33,\n",
              "   'carrots': 35,\n",
              "   'chocolate': 40,\n",
              "   'potatoes': 38,\n",
              "   'pumpkins': 32},\n",
              "  46: {'beets': 33,\n",
              "   'carrots': 35,\n",
              "   'chocolate': 40,\n",
              "   'potatoes': 38,\n",
              "   'pumpkins': 32},\n",
              "  48: ('carrots', 35),\n",
              "  49: {'beets': {'id': 103, 'quantity': 33},\n",
              "   'carrots': {'id': 102, 'quantity': 35},\n",
              "   'chocolate': {'id': 105, 'quantity': 40},\n",
              "   'potatoes': {'id': 101, 'quantity': 38},\n",
              "   'pumpkins': {'id': 104, 'quantity': 32}},\n",
              "  50: {'id': 103, 'quantity': 33},\n",
              "  51: 33,\n",
              "  52: 33,\n",
              "  55: 'Sorry nothing',\n",
              "  58: (['jack', 'guido', 'valdis', 'police', 'rtu'],\n",
              "   [9000, 4127, [9000, 2640, 2911], 911, 777700]),\n",
              "  60: {'guido': 4127,\n",
              "   'jack': 9000,\n",
              "   'police': 911,\n",
              "   'rtu': 777700,\n",
              "   'valdis': [9000, 2640, 2911]}},\n",
              " '_': {'guido': 4127,\n",
              "  'jack': 9000,\n",
              "  'police': 911,\n",
              "  'rtu': 777700,\n",
              "  'valdis': [9000, 2640, 2911]},\n",
              " '_1': 0,\n",
              " '_10': {'jack': 9000, 'valdis': 9000},\n",
              " '_11': 9000,\n",
              " '_13': [9000, 2640, 2911],\n",
              " '_15': True,\n",
              " '_16': False,\n",
              " '_19': NoneType,\n",
              " '_2': dict,\n",
              " '_20': [9000, 2640, 2911],\n",
              " '_22': -657,\n",
              " '_23': '555-1212',\n",
              " '_24': '555-1212',\n",
              " '_25': {'guido': 4127,\n",
              "  'jack': 9000,\n",
              "  'police': 911,\n",
              "  'rtu': 777700,\n",
              "  'valdis': [9000, 2640, 2911]},\n",
              " '_26': {'guido': 4127,\n",
              "  'jack': 9000,\n",
              "  'police': 911,\n",
              "  'rtu': 777700,\n",
              "  'valdis': [9000, 2640, 2911]},\n",
              " '_28': 'Sorry no such key',\n",
              " '_29': True,\n",
              " '_30': False,\n",
              " '_31': dict_values,\n",
              " '_32': dict_keys(['jack', 'guido', 'valdis', 'police', 'rtu']),\n",
              " '_33': dict_values([9000, 4127, [9000, 2640, 2911], 911, 777700]),\n",
              " '_34': ['jack', 'guido', 'valdis'],\n",
              " '_35': [9000, 4127, [9000, 2640, 2911]],\n",
              " '_36': {'guido': 4127,\n",
              "  'jack': 9000,\n",
              "  'police': 911,\n",
              "  'rtu': 777700,\n",
              "  'valdis': [9000, 2640, 2911]},\n",
              " '_37': {'guido': 4127,\n",
              "  'jack': 9000,\n",
              "  'police': 911,\n",
              "  'rtu': 777700,\n",
              "  'valdis': [9000, 2640, 2911]},\n",
              " '_38': {'guido': 4127,\n",
              "  'jack': 9000,\n",
              "  'police': 911,\n",
              "  'rtu': 777700,\n",
              "  'valdis': [9000, 2640, 2911]},\n",
              " '_39': dict_keys(['jack', 'guido', 'valdis', 'police', 'rtu']),\n",
              " '_40': ['guido', 'jack', 'police', 'rtu', 'valdis'],\n",
              " '_41': {'beets': 33,\n",
              "  'carrots': 35,\n",
              "  'chocolate': 40,\n",
              "  'potatoes': 38,\n",
              "  'pumpkins': 32},\n",
              " '_44': {'beets': 33,\n",
              "  'carrots': 35,\n",
              "  'chocolate': 40,\n",
              "  'potatoes': 38,\n",
              "  'pumpkins': 32},\n",
              " '_45': {'beets': 33,\n",
              "  'carrots': 35,\n",
              "  'chocolate': 40,\n",
              "  'potatoes': 38,\n",
              "  'pumpkins': 32},\n",
              " '_46': {'beets': 33,\n",
              "  'carrots': 35,\n",
              "  'chocolate': 40,\n",
              "  'potatoes': 38,\n",
              "  'pumpkins': 32},\n",
              " '_48': ('carrots', 35),\n",
              " '_49': {'beets': {'id': 103, 'quantity': 33},\n",
              "  'carrots': {'id': 102, 'quantity': 35},\n",
              "  'chocolate': {'id': 105, 'quantity': 40},\n",
              "  'potatoes': {'id': 101, 'quantity': 38},\n",
              "  'pumpkins': {'id': 104, 'quantity': 32}},\n",
              " '_50': {'id': 103, 'quantity': 33},\n",
              " '_51': 33,\n",
              " '_52': 33,\n",
              " '_55': 'Sorry nothing',\n",
              " '_58': (['jack', 'guido', 'valdis', 'police', 'rtu'],\n",
              "  [9000, 4127, [9000, 2640, 2911], 911, 777700]),\n",
              " '_60': {'guido': 4127,\n",
              "  'jack': 9000,\n",
              "  'police': 911,\n",
              "  'rtu': 777700,\n",
              "  'valdis': [9000, 2640, 2911]},\n",
              " '_7': {'guido': 4127,\n",
              "  'jack': 9000,\n",
              "  'police': 911,\n",
              "  'rtu': 777700,\n",
              "  'valdis': [9000, 2640, 2911]},\n",
              " '_8': {'guido': 4127,\n",
              "  'jack': 9000,\n",
              "  'police': 911,\n",
              "  'rtu': 777700,\n",
              "  'valdis': [9000, 2640, 2911]},\n",
              " '_9': [['jack', 9000], ['valdis', 9000]],\n",
              " '__': (['jack', 'guido', 'valdis', 'police', 'rtu'],\n",
              "  [9000, 4127, [9000, 2640, 2911], 911, 777700]),\n",
              " '___': 'Sorry nothing',\n",
              " '__builtin__': <module 'builtins' (built-in)>,\n",
              " '__builtins__': <module 'builtins' (built-in)>,\n",
              " '__doc__': 'Automatically created module for IPython interactive environment',\n",
              " '__loader__': None,\n",
              " '__name__': '__main__',\n",
              " '__package__': None,\n",
              " '__spec__': None,\n",
              " '_dh': ['/content'],\n",
              " '_i': 'new_tel_dict = dict(zip(tel_keys, tel_values))\\nnew_tel_dict',\n",
              " '_i1': 'emptyd = {} # most common way of creating a new dictionary\\nlen(emptyd)',\n",
              " '_i10': 'new_dict_from_tel_list = dict(tel_list)\\nnew_dict_from_tel_list',\n",
              " '_i11': \"#get value from key in dictionary\\n# very fast even in large dictionaries! O(1)\\n# this means even a huge dictionary will retrieve the values in constant time - ie very quickly\\n\\ntel['jack']\",\n",
              " '_i12': \"tel['sape'] = 54545\",\n",
              " '_i13': \"tel['valdis']\",\n",
              " '_i14': \"tel['Valdis'] # this should give error because no such key exists\",\n",
              " '_i15': \"# check for key in our dictionary\\n'valdis' in tel\",\n",
              " '_i16': \"'peteris' in tel\",\n",
              " '_i17': '# key = \\'nnevaldis\\'\\nkey = \\'valdis\\'\\nif key in tel:\\n    print(tel[key]) # we print the value of the key if there is such a key\\nelse:\\n    print(\"No such key\")',\n",
              " '_i18': 'key = \\'nnevaldis\\'\\n# key = \\'valdis\\'\\nif key in tel:\\n    print(tel[key]) # we print the value of the key if there is such a key\\nelse:\\n    print(\"No such key\")',\n",
              " '_i19': 'type(None)',\n",
              " '_i2': 'type(emptyd)',\n",
              " '_i20': \"tel.get('valdis') # gets value by key without errors\",\n",
              " '_i21': \"print(tel.get('nevaldis')) #by default on bad key we get None\",\n",
              " '_i22': \"tel.get('nevaldis', 555-1212) # we can change the return on bad keys to our own \",\n",
              " '_i23': \"tel.get('nevaldis', '555-1212') # we can change the return on bad keys to our own \",\n",
              " '_i24': \"tel.get('nevaldis', '555-1212') # we can change the return on bad keys to our own \",\n",
              " '_i25': \"# remove key value pair\\ntel['sape'] = 665453 # create key or overwrite if it existed\\ndel tel['sape']\\ntel\",\n",
              " '_i26': \"# remove key value pair\\ntel['sape'] = 665453 # create key or overwrite if it existed\\ndel tel['sape']  # so i can delete a specific key\\ntel\",\n",
              " '_i27': \"del tel['sape']\",\n",
              " '_i28': \"tel.get('sape', 'Sorry no such key')\",\n",
              " '_i29': \"'valdis' in tel.keys()  # basically the same as 'valdis' in tel\",\n",
              " '_i3': 'also_dict = dict()\\nprint(also_dict)',\n",
              " '_i30': '112 in tel.values()',\n",
              " '_i31': 'type(tel.values())',\n",
              " '_i32': 'tel.keys()',\n",
              " '_i33': 'tel.values()',\n",
              " '_i34': 'my_key_list = list(tel.keys())\\nmy_key_list',\n",
              " '_i35': 'my_value_list = list(tel.values())\\nmy_value_list',\n",
              " '_i36': 'key = \\'police\\'\\nvalue = 911\\nif key not in tel:\\n    tel[key] = value\\n    print(f\"Added new key {key} value {value} pair\")\\nelse:\\n    print(\"You already have key\", key, \"value\", tel[key])\\ntel',\n",
              " '_i37': '# the above code can be written using setdefault method\\ntel.setdefault(\"rtu\", 777700) # so this will only work once\\ntel',\n",
              " '_i38': 'tel.setdefault(\"rtu\", 9001) # so this will only work once\\ntel',\n",
              " '_i39': 'tel.keys()',\n",
              " '_i4': \"tel = {'jack': 4098, 'sape': 4139} # so  { key: value, key2:value2, and so on}\\nprint(tel)\",\n",
              " '_i40': 'sorted(tel.keys())',\n",
              " '_i41': 'shopdict = {\"potatoes\":8, \"carrots\": 5, \"beets\": 3, \"pumpkins\":2, \"chocolate\":10}\\nshopdict',\n",
              " '_i42': 'for key,value in shopdict.items(): # key and value are just names we made up also common is k,v\\n    print(key,value)\\n    print(f\"Buying {value}kgs of {key}\")\\n    # I could do more work on this particular key value pair here',\n",
              " '_i43': 'for key in shopdict: # so only key is provided # same as for key in shopdict.keys()\\n    print(key, shopdict[key])  # no point in using get since we know the key exists!',\n",
              " '_i44': 'for key in shopdict:\\n    shopdict[key] += 10 # same as shopdict[key] = shopdict[key] + 10\\nshopdict',\n",
              " '_i45': 'for key in shopdict:\\n    shopdict[key] += 10 # same as shopdict[key] = shopdict[key] + 10\\nshopdict',\n",
              " '_i46': 'for key in shopdict:\\n    shopdict[key] += 10 # same as shopdict[key] = shopdict[key] + 10\\nshopdict',\n",
              " '_i47': 'newlist = []\\nnewdict = {}\\nfor index,(key,value) in enumerate(shopdict.items(), start=101):\\n    print(index,key,value)\\n    newlist.append([index,key,value])\\n    newdict[index] = (key,value)\\nprint(newlist)\\nprint(newdict)',\n",
              " '_i48': \"newdict[102] # looks like a list but it's a dictionary\",\n",
              " '_i49': \"# i can create a dictionary of dictionaries\\nnewdict2 = {}\\nfor item in newlist:\\n    newdict2[item[1]] = {'id':item[0],'quantity':item[2]}\\nnewdict2 # so this will be dictionary with values being separate dictionaries\",\n",
              " '_i5': \"# so what can be keys ? what happens if we add second identical key\\ntel = {'jack': 4098, 'sape': 4139, 'jack': 9000} # you generally should not do this, keys should be unique\\nprint(tel)\",\n",
              " '_i50': \"# can you get me quantity of beets needed from newdict2 ?\\nnewdict2['beets']\",\n",
              " '_i51': \"newdict2['beets']['quantity']\",\n",
              " '_i52': \"newdict2.get('beets').get('quantity') # somewhat less common due to mostly laziness i think :0\",\n",
              " '_i53': \"newdict2.get('badbeets').get('quantity') \",\n",
              " '_i54': \"newdict2.get('badbeets', {}).get('quantity') \",\n",
              " '_i55': 'newdict2.get(\\'badbeets\\', {}).get(\\'quantity\\',\"Sorry nothing\") ',\n",
              " '_i56': 'telkeys',\n",
              " '_i57': 'tel_keys',\n",
              " '_i58': 'tel_keys = list(tel.keys())\\ntel_values = list(tel.values())\\ntel_keys, tel_values',\n",
              " '_i59': 'new_tel_dict = dict(*zip(tel_keys, tel_values))\\nnew_tel_dict',\n",
              " '_i6': \"# add a new key-value pair\\ntel['guido'] = 4127\\nprint(tel.keys())\\nprint(tel.values())\",\n",
              " '_i60': 'new_tel_dict = dict(zip(tel_keys, tel_values))\\nnew_tel_dict',\n",
              " '_i61': 'globals()',\n",
              " '_i7': \"# add key 'valdis' with value 4127 to our tel dictionary\\ntel['valdis'] = 4127\\ntel # so values can be same\",\n",
              " '_i8': \"tel['valdis'] = [9000,2640,2911]  # I can store a list of numbers as value in my dictionary against some specific key\\ntel\",\n",
              " '_i9': \"tel_list = [['jack',9000], ['valdis',9000]]\\ntel_list\",\n",
              " '_ih': ['',\n",
              "  'emptyd = {} # most common way of creating a new dictionary\\nlen(emptyd)',\n",
              "  'type(emptyd)',\n",
              "  'also_dict = dict()\\nprint(also_dict)',\n",
              "  \"tel = {'jack': 4098, 'sape': 4139} # so  { key: value, key2:value2, and so on}\\nprint(tel)\",\n",
              "  \"# so what can be keys ? what happens if we add second identical key\\ntel = {'jack': 4098, 'sape': 4139, 'jack': 9000} # you generally should not do this, keys should be unique\\nprint(tel)\",\n",
              "  \"# add a new key-value pair\\ntel['guido'] = 4127\\nprint(tel.keys())\\nprint(tel.values())\",\n",
              "  \"# add key 'valdis' with value 4127 to our tel dictionary\\ntel['valdis'] = 4127\\ntel # so values can be same\",\n",
              "  \"tel['valdis'] = [9000,2640,2911]  # I can store a list of numbers as value in my dictionary against some specific key\\ntel\",\n",
              "  \"tel_list = [['jack',9000], ['valdis',9000]]\\ntel_list\",\n",
              "  'new_dict_from_tel_list = dict(tel_list)\\nnew_dict_from_tel_list',\n",
              "  \"#get value from key in dictionary\\n# very fast even in large dictionaries! O(1)\\n# this means even a huge dictionary will retrieve the values in constant time - ie very quickly\\n\\ntel['jack']\",\n",
              "  \"tel['sape'] = 54545\",\n",
              "  \"tel['valdis']\",\n",
              "  \"tel['Valdis'] # this should give error because no such key exists\",\n",
              "  \"# check for key in our dictionary\\n'valdis' in tel\",\n",
              "  \"'peteris' in tel\",\n",
              "  '# key = \\'nnevaldis\\'\\nkey = \\'valdis\\'\\nif key in tel:\\n    print(tel[key]) # we print the value of the key if there is such a key\\nelse:\\n    print(\"No such key\")',\n",
              "  'key = \\'nnevaldis\\'\\n# key = \\'valdis\\'\\nif key in tel:\\n    print(tel[key]) # we print the value of the key if there is such a key\\nelse:\\n    print(\"No such key\")',\n",
              "  'type(None)',\n",
              "  \"tel.get('valdis') # gets value by key without errors\",\n",
              "  \"print(tel.get('nevaldis')) #by default on bad key we get None\",\n",
              "  \"tel.get('nevaldis', 555-1212) # we can change the return on bad keys to our own \",\n",
              "  \"tel.get('nevaldis', '555-1212') # we can change the return on bad keys to our own \",\n",
              "  \"tel.get('nevaldis', '555-1212') # we can change the return on bad keys to our own \",\n",
              "  \"# remove key value pair\\ntel['sape'] = 665453 # create key or overwrite if it existed\\ndel tel['sape']\\ntel\",\n",
              "  \"# remove key value pair\\ntel['sape'] = 665453 # create key or overwrite if it existed\\ndel tel['sape']  # so i can delete a specific key\\ntel\",\n",
              "  \"del tel['sape']\",\n",
              "  \"tel.get('sape', 'Sorry no such key')\",\n",
              "  \"'valdis' in tel.keys()  # basically the same as 'valdis' in tel\",\n",
              "  '112 in tel.values()',\n",
              "  'type(tel.values())',\n",
              "  'tel.keys()',\n",
              "  'tel.values()',\n",
              "  'my_key_list = list(tel.keys())\\nmy_key_list',\n",
              "  'my_value_list = list(tel.values())\\nmy_value_list',\n",
              "  'key = \\'police\\'\\nvalue = 911\\nif key not in tel:\\n    tel[key] = value\\n    print(f\"Added new key {key} value {value} pair\")\\nelse:\\n    print(\"You already have key\", key, \"value\", tel[key])\\ntel',\n",
              "  '# the above code can be written using setdefault method\\ntel.setdefault(\"rtu\", 777700) # so this will only work once\\ntel',\n",
              "  'tel.setdefault(\"rtu\", 9001) # so this will only work once\\ntel',\n",
              "  'tel.keys()',\n",
              "  'sorted(tel.keys())',\n",
              "  'shopdict = {\"potatoes\":8, \"carrots\": 5, \"beets\": 3, \"pumpkins\":2, \"chocolate\":10}\\nshopdict',\n",
              "  'for key,value in shopdict.items(): # key and value are just names we made up also common is k,v\\n    print(key,value)\\n    print(f\"Buying {value}kgs of {key}\")\\n    # I could do more work on this particular key value pair here',\n",
              "  'for key in shopdict: # so only key is provided # same as for key in shopdict.keys()\\n    print(key, shopdict[key])  # no point in using get since we know the key exists!',\n",
              "  'for key in shopdict:\\n    shopdict[key] += 10 # same as shopdict[key] = shopdict[key] + 10\\nshopdict',\n",
              "  'for key in shopdict:\\n    shopdict[key] += 10 # same as shopdict[key] = shopdict[key] + 10\\nshopdict',\n",
              "  'for key in shopdict:\\n    shopdict[key] += 10 # same as shopdict[key] = shopdict[key] + 10\\nshopdict',\n",
              "  'newlist = []\\nnewdict = {}\\nfor index,(key,value) in enumerate(shopdict.items(), start=101):\\n    print(index,key,value)\\n    newlist.append([index,key,value])\\n    newdict[index] = (key,value)\\nprint(newlist)\\nprint(newdict)',\n",
              "  \"newdict[102] # looks like a list but it's a dictionary\",\n",
              "  \"# i can create a dictionary of dictionaries\\nnewdict2 = {}\\nfor item in newlist:\\n    newdict2[item[1]] = {'id':item[0],'quantity':item[2]}\\nnewdict2 # so this will be dictionary with values being separate dictionaries\",\n",
              "  \"# can you get me quantity of beets needed from newdict2 ?\\nnewdict2['beets']\",\n",
              "  \"newdict2['beets']['quantity']\",\n",
              "  \"newdict2.get('beets').get('quantity') # somewhat less common due to mostly laziness i think :0\",\n",
              "  \"newdict2.get('badbeets').get('quantity') \",\n",
              "  \"newdict2.get('badbeets', {}).get('quantity') \",\n",
              "  'newdict2.get(\\'badbeets\\', {}).get(\\'quantity\\',\"Sorry nothing\") ',\n",
              "  'telkeys',\n",
              "  'tel_keys',\n",
              "  'tel_keys = list(tel.keys())\\ntel_values = list(tel.values())\\ntel_keys, tel_values',\n",
              "  'new_tel_dict = dict(*zip(tel_keys, tel_values))\\nnew_tel_dict',\n",
              "  'new_tel_dict = dict(zip(tel_keys, tel_values))\\nnew_tel_dict',\n",
              "  'globals()'],\n",
              " '_ii': 'new_tel_dict = dict(*zip(tel_keys, tel_values))\\nnew_tel_dict',\n",
              " '_iii': 'tel_keys = list(tel.keys())\\ntel_values = list(tel.values())\\ntel_keys, tel_values',\n",
              " '_oh': {1: 0,\n",
              "  2: dict,\n",
              "  7: {'guido': 4127,\n",
              "   'jack': 9000,\n",
              "   'police': 911,\n",
              "   'rtu': 777700,\n",
              "   'valdis': [9000, 2640, 2911]},\n",
              "  8: {'guido': 4127,\n",
              "   'jack': 9000,\n",
              "   'police': 911,\n",
              "   'rtu': 777700,\n",
              "   'valdis': [9000, 2640, 2911]},\n",
              "  9: [['jack', 9000], ['valdis', 9000]],\n",
              "  10: {'jack': 9000, 'valdis': 9000},\n",
              "  11: 9000,\n",
              "  13: [9000, 2640, 2911],\n",
              "  15: True,\n",
              "  16: False,\n",
              "  19: NoneType,\n",
              "  20: [9000, 2640, 2911],\n",
              "  22: -657,\n",
              "  23: '555-1212',\n",
              "  24: '555-1212',\n",
              "  25: {'guido': 4127,\n",
              "   'jack': 9000,\n",
              "   'police': 911,\n",
              "   'rtu': 777700,\n",
              "   'valdis': [9000, 2640, 2911]},\n",
              "  26: {'guido': 4127,\n",
              "   'jack': 9000,\n",
              "   'police': 911,\n",
              "   'rtu': 777700,\n",
              "   'valdis': [9000, 2640, 2911]},\n",
              "  28: 'Sorry no such key',\n",
              "  29: True,\n",
              "  30: False,\n",
              "  31: dict_values,\n",
              "  32: dict_keys(['jack', 'guido', 'valdis', 'police', 'rtu']),\n",
              "  33: dict_values([9000, 4127, [9000, 2640, 2911], 911, 777700]),\n",
              "  34: ['jack', 'guido', 'valdis'],\n",
              "  35: [9000, 4127, [9000, 2640, 2911]],\n",
              "  36: {'guido': 4127,\n",
              "   'jack': 9000,\n",
              "   'police': 911,\n",
              "   'rtu': 777700,\n",
              "   'valdis': [9000, 2640, 2911]},\n",
              "  37: {'guido': 4127,\n",
              "   'jack': 9000,\n",
              "   'police': 911,\n",
              "   'rtu': 777700,\n",
              "   'valdis': [9000, 2640, 2911]},\n",
              "  38: {'guido': 4127,\n",
              "   'jack': 9000,\n",
              "   'police': 911,\n",
              "   'rtu': 777700,\n",
              "   'valdis': [9000, 2640, 2911]},\n",
              "  39: dict_keys(['jack', 'guido', 'valdis', 'police', 'rtu']),\n",
              "  40: ['guido', 'jack', 'police', 'rtu', 'valdis'],\n",
              "  41: {'beets': 33,\n",
              "   'carrots': 35,\n",
              "   'chocolate': 40,\n",
              "   'potatoes': 38,\n",
              "   'pumpkins': 32},\n",
              "  44: {'beets': 33,\n",
              "   'carrots': 35,\n",
              "   'chocolate': 40,\n",
              "   'potatoes': 38,\n",
              "   'pumpkins': 32},\n",
              "  45: {'beets': 33,\n",
              "   'carrots': 35,\n",
              "   'chocolate': 40,\n",
              "   'potatoes': 38,\n",
              "   'pumpkins': 32},\n",
              "  46: {'beets': 33,\n",
              "   'carrots': 35,\n",
              "   'chocolate': 40,\n",
              "   'potatoes': 38,\n",
              "   'pumpkins': 32},\n",
              "  48: ('carrots', 35),\n",
              "  49: {'beets': {'id': 103, 'quantity': 33},\n",
              "   'carrots': {'id': 102, 'quantity': 35},\n",
              "   'chocolate': {'id': 105, 'quantity': 40},\n",
              "   'potatoes': {'id': 101, 'quantity': 38},\n",
              "   'pumpkins': {'id': 104, 'quantity': 32}},\n",
              "  50: {'id': 103, 'quantity': 33},\n",
              "  51: 33,\n",
              "  52: 33,\n",
              "  55: 'Sorry nothing',\n",
              "  58: (['jack', 'guido', 'valdis', 'police', 'rtu'],\n",
              "   [9000, 4127, [9000, 2640, 2911], 911, 777700]),\n",
              "  60: {'guido': 4127,\n",
              "   'jack': 9000,\n",
              "   'police': 911,\n",
              "   'rtu': 777700,\n",
              "   'valdis': [9000, 2640, 2911]}},\n",
              " '_sh': <module 'IPython.core.shadowns' from '/usr/local/lib/python3.7/dist-packages/IPython/core/shadowns.py'>,\n",
              " 'also_dict': {},\n",
              " 'emptyd': {},\n",
              " 'exit': <IPython.core.autocall.ZMQExitAutocall at 0x7f49269e1550>,\n",
              " 'get_ipython': <bound method InteractiveShell.get_ipython of <google.colab._shell.Shell object at 0x7f4928486510>>,\n",
              " 'index': 105,\n",
              " 'item': [105, 'chocolate', 40],\n",
              " 'key': 'chocolate',\n",
              " 'my_key_list': ['jack', 'guido', 'valdis'],\n",
              " 'my_value_list': [9000, 4127, [9000, 2640, 2911]],\n",
              " 'new_dict_from_tel_list': {'jack': 9000, 'valdis': 9000},\n",
              " 'new_tel_dict': {'guido': 4127,\n",
              "  'jack': 9000,\n",
              "  'police': 911,\n",
              "  'rtu': 777700,\n",
              "  'valdis': [9000, 2640, 2911]},\n",
              " 'newdict': {101: ('potatoes', 38),\n",
              "  102: ('carrots', 35),\n",
              "  103: ('beets', 33),\n",
              "  104: ('pumpkins', 32),\n",
              "  105: ('chocolate', 40)},\n",
              " 'newdict2': {'beets': {'id': 103, 'quantity': 33},\n",
              "  'carrots': {'id': 102, 'quantity': 35},\n",
              "  'chocolate': {'id': 105, 'quantity': 40},\n",
              "  'potatoes': {'id': 101, 'quantity': 38},\n",
              "  'pumpkins': {'id': 104, 'quantity': 32}},\n",
              " 'newlist': [[101, 'potatoes', 38],\n",
              "  [102, 'carrots', 35],\n",
              "  [103, 'beets', 33],\n",
              "  [104, 'pumpkins', 32],\n",
              "  [105, 'chocolate', 40]],\n",
              " 'quit': <IPython.core.autocall.ZMQExitAutocall at 0x7f49269e1550>,\n",
              " 'shopdict': {'beets': 33,\n",
              "  'carrots': 35,\n",
              "  'chocolate': 40,\n",
              "  'potatoes': 38,\n",
              "  'pumpkins': 32},\n",
              " 'tel': {'guido': 4127,\n",
              "  'jack': 9000,\n",
              "  'police': 911,\n",
              "  'rtu': 777700,\n",
              "  'valdis': [9000, 2640, 2911]},\n",
              " 'tel_keys': ['jack', 'guido', 'valdis', 'police', 'rtu'],\n",
              " 'tel_list': [['jack', 9000], ['valdis', 9000]],\n",
              " 'tel_values': [9000, 4127, [9000, 2640, 2911], 911, 777700],\n",
              " 'value': 40}"
            ]
          },
          "execution_count": 61,
          "metadata": {},
          "output_type": "execute_result"
        }
      ],
      "source": [
        "globals()"
      ]
    },
    {
      "cell_type": "code",
      "execution_count": null,
      "metadata": {
        "id": "vIsYGYp9Lhsq"
      },
      "outputs": [],
      "source": [
        "'print(a,b)' in globals()['In']"
      ]
    },
    {
      "cell_type": "code",
      "execution_count": 62,
      "metadata": {
        "colab": {
          "base_uri": "https://localhost:8080/"
        },
        "id": "qPzUS7a5Lhsq",
        "outputId": "3721ede9-154d-4b88-bab0-844afbf7fd81"
      },
      "outputs": [
        {
          "data": {
            "text/plain": [
              "dict_keys(['__name__', '__doc__', '__package__', '__loader__', '__spec__', '__builtin__', '__builtins__', '_ih', '_oh', '_dh', '_sh', 'In', 'Out', 'get_ipython', 'exit', 'quit', '_', '__', '___', '_i', '_ii', '_iii', '_i1', 'emptyd', '_1', '_i2', '_2', '_i3', 'also_dict', '_i4', 'tel', '_i5', '_i6', '_i7', '_7', '_i8', '_8', '_i9', 'tel_list', '_9', '_i10', 'new_dict_from_tel_list', '_10', '_i11', '_11', '_i12', '_i13', '_13', '_i14', '_i15', '_15', '_i16', '_16', '_i17', 'key', '_i18', '_i19', '_19', '_i20', '_20', '_i21', '_i22', '_22', '_i23', '_23', '_i24', '_24', '_i25', '_25', '_i26', '_26', '_i27', '_i28', '_28', '_i29', '_29', '_i30', '_30', '_i31', '_31', '_i32', '_32', '_i33', '_33', '_i34', 'my_key_list', '_34', '_i35', 'my_value_list', '_35', '_i36', 'value', '_36', '_i37', '_37', '_i38', '_38', '_i39', '_39', '_i40', '_40', '_i41', 'shopdict', '_41', '_i42', '_i43', '_i44', '_44', '_i45', '_45', '_i46', '_46', '_i47', 'newlist', 'newdict', 'index', '_i48', '_48', '_i49', 'newdict2', 'item', '_49', '_i50', '_50', '_i51', '_51', '_i52', '_52', '_i53', '_i54', '_i55', '_55', '_i56', '_i57', '_i58', 'tel_keys', 'tel_values', '_58', '_i59', '_i60', 'new_tel_dict', '_60', '_i61', '_61', '_i62'])"
            ]
          },
          "execution_count": 62,
          "metadata": {},
          "output_type": "execute_result"
        }
      ],
      "source": [
        "vars().keys()"
      ]
    },
    {
      "cell_type": "code",
      "execution_count": null,
      "metadata": {
        "id": "GVOFukbQLhsq",
        "outputId": "8b1975a5-6b4d-49e3-ded7-fa0aa6b67149"
      },
      "outputs": [
        {
          "data": {
            "text/plain": [
              "{'id': 103, 'quantity': 13}"
            ]
          },
          "execution_count": 72,
          "metadata": {},
          "output_type": "execute_result"
        }
      ],
      "source": [
        "_62"
      ]
    },
    {
      "cell_type": "code",
      "execution_count": null,
      "metadata": {
        "id": "tZgAplzVLhsq"
      },
      "outputs": [],
      "source": [
        "sorted(vars().keys())"
      ]
    },
    {
      "cell_type": "code",
      "execution_count": null,
      "metadata": {
        "id": "Xnoyc2bGLhsq",
        "outputId": "ad4aae93-85a8-49b6-f09a-5ba48f3dc3ab"
      },
      "outputs": [
        {
          "data": {
            "text/plain": [
              "[9000, 2640, 2911]"
            ]
          },
          "execution_count": 73,
          "metadata": {},
          "output_type": "execute_result"
        }
      ],
      "source": [
        "# return value of the key AND destroy the key:value\n",
        "# if key does not exist, then KeyError will appear\n",
        "mynumbers = tel.pop('valdis')\n",
        "mynumbers"
      ]
    },
    {
      "cell_type": "code",
      "execution_count": null,
      "metadata": {
        "id": "kntB_o5vLhsr",
        "outputId": "37acd5e1-39cd-412f-e7d5-c6820f9886d6"
      },
      "outputs": [
        {
          "data": {
            "text/plain": [
              "{'jack': 9000,\n",
              " 'guido': 4127,\n",
              " 'irv': [333, 333, 13214141],\n",
              " 'police': 911,\n",
              " 'rtu': 7777}"
            ]
          },
          "execution_count": 74,
          "metadata": {},
          "output_type": "execute_result"
        }
      ],
      "source": [
        "tel"
      ]
    },
    {
      "cell_type": "code",
      "execution_count": null,
      "metadata": {
        "id": "sBg6cvyVLhsr"
      },
      "outputs": [],
      "source": [
        "tel['jack']"
      ]
    },
    {
      "cell_type": "code",
      "execution_count": 63,
      "metadata": {
        "colab": {
          "base_uri": "https://localhost:8080/"
        },
        "id": "XyCgpHXXLhsr",
        "outputId": "b6f0255b-14c7-4180-fa45-0d588f5da0a7"
      },
      "outputs": [
        {
          "data": {
            "text/plain": [
              "9000"
            ]
          },
          "execution_count": 63,
          "metadata": {},
          "output_type": "execute_result"
        }
      ],
      "source": [
        "poppedvalue = tel.pop('jack', \"No KEY Found\")\n",
        "poppedvalue"
      ]
    },
    {
      "cell_type": "code",
      "execution_count": 64,
      "metadata": {
        "colab": {
          "base_uri": "https://localhost:8080/",
          "height": 35
        },
        "id": "_Hdgq_UfLhsr",
        "outputId": "ca607146-1f67-461e-8a42-42bad96393c3"
      },
      "outputs": [
        {
          "data": {
            "application/vnd.google.colaboratory.intrinsic+json": {
              "type": "string"
            },
            "text/plain": [
              "'No KEY Found'"
            ]
          },
          "execution_count": 64,
          "metadata": {},
          "output_type": "execute_result"
        }
      ],
      "source": [
        "poppedvalue = tel.pop('jack', \"No KEY Found\")\n",
        "poppedvalue"
      ]
    },
    {
      "cell_type": "code",
      "execution_count": null,
      "metadata": {
        "id": "Q3lfoGlELhsr"
      },
      "outputs": [],
      "source": [
        "poppedvalue = tel.pop('jack') # we get key error if there is no key and no default\n",
        "poppedvalue"
      ]
    },
    {
      "cell_type": "code",
      "execution_count": null,
      "metadata": {
        "id": "njXuhtMKLhsr"
      },
      "outputs": [],
      "source": [
        "type(tel)"
      ]
    },
    {
      "cell_type": "code",
      "execution_count": null,
      "metadata": {
        "id": "z5Aa6lIvLhsr"
      },
      "outputs": [],
      "source": [
        "tel."
      ]
    },
    {
      "cell_type": "code",
      "execution_count": null,
      "metadata": {
        "id": "_0rvT_jTLhsr"
      },
      "outputs": [],
      "source": [
        "# return value of the key AND destroy the key:value\n",
        "# if key does not exist, then KeyError will appear\n",
        "tel.pop('valdis')"
      ]
    },
    {
      "cell_type": "code",
      "execution_count": null,
      "metadata": {
        "id": "pF0mbXZoLhss"
      },
      "outputs": [],
      "source": [
        "# this does not destroy the key:value, just returns\n",
        "tel['guido']"
      ]
    },
    {
      "cell_type": "code",
      "execution_count": null,
      "metadata": {
        "id": "zYaLHu44Lhss"
      },
      "outputs": [],
      "source": [
        "# we can store anything in dictionaries \n",
        "# including other dictionaries and lists\n",
        "mydict = {'mylist':[1,2,6,6,\"Badac\"], 55:165, 'innerd':{'a':100,'b':[1,2,6]}}\n",
        "mydict"
      ]
    },
    {
      "cell_type": "code",
      "execution_count": null,
      "metadata": {
        "id": "HtQt4pKSLhss"
      },
      "outputs": [],
      "source": [
        "# get 6 out of mydict\n",
        "mydict['innerd']"
      ]
    },
    {
      "cell_type": "code",
      "execution_count": null,
      "metadata": {
        "id": "HDlO8r-mLhss"
      },
      "outputs": [],
      "source": [
        "mydict['innerd']['b']"
      ]
    },
    {
      "cell_type": "code",
      "execution_count": null,
      "metadata": {
        "id": "Mrf0aWHuLhss"
      },
      "outputs": [],
      "source": [
        "# get 6 out of mydict\n",
        "mydict['innerd']['b'][-1]"
      ]
    },
    {
      "cell_type": "code",
      "execution_count": null,
      "metadata": {
        "id": "h9fvmUosLhss"
      },
      "outputs": [],
      "source": [
        "#sum all values under mydict['innerd']['b']\n",
        "sum(mydict['innerd']['b']),min(mydict['innerd']['b']),max(mydict['innerd']['b'])"
      ]
    },
    {
      "cell_type": "code",
      "execution_count": null,
      "metadata": {
        "id": "UFJNLHchLhss"
      },
      "outputs": [],
      "source": [
        "mydict.keys()"
      ]
    },
    {
      "cell_type": "code",
      "execution_count": null,
      "metadata": {
        "id": "8BJf-5tPLhss"
      },
      "outputs": [],
      "source": [
        "# we can use numeric keys as well!\n",
        "mydict[55]"
      ]
    },
    {
      "cell_type": "code",
      "execution_count": null,
      "metadata": {
        "id": "zbwDDNffLhss"
      },
      "outputs": [],
      "source": [
        "mydict['55'] = 330"
      ]
    },
    {
      "cell_type": "code",
      "execution_count": null,
      "metadata": {
        "id": "2IfLsNhTLhst"
      },
      "outputs": [],
      "source": [
        "mydict"
      ]
    },
    {
      "cell_type": "code",
      "execution_count": null,
      "metadata": {
        "id": "0tFOC_OSLhst"
      },
      "outputs": [],
      "source": [
        "mlist = mydict['mylist']\n",
        "mlist"
      ]
    },
    {
      "cell_type": "code",
      "execution_count": null,
      "metadata": {
        "id": "niToHw7gLhst"
      },
      "outputs": [],
      "source": [
        "mytext = mlist[-1]\n",
        "mytext"
      ]
    },
    {
      "cell_type": "code",
      "execution_count": null,
      "metadata": {
        "id": "7Za2-g2mLhst"
      },
      "outputs": [],
      "source": [
        "mychar = mytext[-3]\n",
        "mychar"
      ]
    },
    {
      "cell_type": "code",
      "execution_count": null,
      "metadata": {
        "id": "zLEMpxwbLhst"
      },
      "outputs": [],
      "source": [
        "mydict"
      ]
    },
    {
      "cell_type": "code",
      "execution_count": null,
      "metadata": {
        "id": "EhzAiB3iLhst"
      },
      "outputs": [],
      "source": [
        "# get letter d\n",
        "mydict['mylist'][-1][-3]"
      ]
    },
    {
      "cell_type": "code",
      "execution_count": null,
      "metadata": {
        "id": "yT9kZn35Lhst"
      },
      "outputs": [],
      "source": [
        "# get letter d\n",
        "mydict['mylist'][-1][2]"
      ]
    },
    {
      "cell_type": "code",
      "execution_count": null,
      "metadata": {
        "id": "e4X_kUltLhst"
      },
      "outputs": [],
      "source": [
        "mydict"
      ]
    },
    {
      "cell_type": "code",
      "execution_count": null,
      "metadata": {
        "id": "qOkyb0lfLhsu"
      },
      "outputs": [],
      "source": [
        "mydict['mylist'][-1][2]"
      ]
    },
    {
      "cell_type": "code",
      "execution_count": null,
      "metadata": {
        "id": "PJK_Q1ufLhsu"
      },
      "outputs": [],
      "source": [
        "mlist[-1][2]"
      ]
    },
    {
      "cell_type": "code",
      "execution_count": null,
      "metadata": {
        "id": "JXQM31JBLhsu"
      },
      "outputs": [],
      "source": [
        "mydict['real55'] = mydict[55]"
      ]
    },
    {
      "cell_type": "code",
      "execution_count": null,
      "metadata": {
        "id": "RshCl4mSLhsu"
      },
      "outputs": [],
      "source": [
        "del mydict[55]"
      ]
    },
    {
      "cell_type": "code",
      "execution_count": null,
      "metadata": {
        "id": "2lXjputELhsu"
      },
      "outputs": [],
      "source": [
        "mydict"
      ]
    },
    {
      "cell_type": "code",
      "execution_count": null,
      "metadata": {
        "id": "fhQymhI4Lhsu",
        "scrolled": true
      },
      "outputs": [],
      "source": [
        "sorted(mydict.keys())"
      ]
    },
    {
      "cell_type": "code",
      "execution_count": null,
      "metadata": {
        "id": "rdOUNRApLhsu"
      },
      "outputs": [],
      "source": [
        "myresult = mydict.get('Vadfadfafd')"
      ]
    },
    {
      "cell_type": "code",
      "execution_count": null,
      "metadata": {
        "id": "slD6vajBLhsu"
      },
      "outputs": [],
      "source": [
        "type(myresult)"
      ]
    },
    {
      "cell_type": "code",
      "execution_count": null,
      "metadata": {
        "id": "FEo8NkpDLhsu"
      },
      "outputs": [],
      "source": [
        "mydict.keys()"
      ]
    },
    {
      "cell_type": "code",
      "execution_count": null,
      "metadata": {
        "id": "EYB9Z8AsLhsv"
      },
      "outputs": [],
      "source": [
        "mydict.get(55)"
      ]
    },
    {
      "cell_type": "code",
      "execution_count": null,
      "metadata": {
        "id": "XRv4WSxJLhsv"
      },
      "outputs": [],
      "source": [
        "mydict.get('innerd')"
      ]
    },
    {
      "cell_type": "code",
      "execution_count": null,
      "metadata": {
        "id": "m67-yMpALhsv"
      },
      "outputs": [],
      "source": [
        "mydict.get('55')"
      ]
    },
    {
      "cell_type": "code",
      "execution_count": null,
      "metadata": {
        "id": "OVeTvYf-Lhsv"
      },
      "outputs": [],
      "source": [
        "# we get None on nonexisting key instead of KeyError\n",
        "mydict.get('53253242452')"
      ]
    },
    {
      "cell_type": "code",
      "execution_count": null,
      "metadata": {
        "id": "u59VinBGLhsv"
      },
      "outputs": [],
      "source": [
        "# here we will get KeyError on nonexisting key\n",
        "mydict['53253242452']"
      ]
    },
    {
      "cell_type": "code",
      "execution_count": null,
      "metadata": {
        "id": "uoT0p8JFLhsv"
      },
      "outputs": [],
      "source": [
        "mydict.get(\"badkey\") == None"
      ]
    },
    {
      "cell_type": "code",
      "execution_count": null,
      "metadata": {
        "id": "8qt4kuUELhsv"
      },
      "outputs": [],
      "source": [
        "mydict"
      ]
    },
    {
      "cell_type": "code",
      "execution_count": null,
      "metadata": {
        "id": "RLm4xrZfLhsw"
      },
      "outputs": [],
      "source": [
        "# we can check if dictionary has any items without checking len(mydict)\n",
        "if mydict:\n",
        "    print(mydict)"
      ]
    },
    {
      "cell_type": "code",
      "execution_count": null,
      "metadata": {
        "id": "BLC2jOLWLhsw"
      },
      "outputs": [],
      "source": [
        "print(mydict)"
      ]
    },
    {
      "cell_type": "code",
      "execution_count": null,
      "metadata": {
        "id": "F_9W_3mjLhsw"
      },
      "outputs": [],
      "source": [
        "key,value = mydict.popitem()\n",
        "key, value"
      ]
    },
    {
      "cell_type": "code",
      "execution_count": null,
      "metadata": {
        "id": "bHpsKkZbLhsw"
      },
      "outputs": [],
      "source": [
        "mydict['mykey'] ='myvalue'\n",
        "mydict"
      ]
    },
    {
      "cell_type": "code",
      "execution_count": null,
      "metadata": {
        "id": "pziIKtUCLhsw"
      },
      "outputs": [],
      "source": [
        "mydict"
      ]
    },
    {
      "cell_type": "code",
      "execution_count": 65,
      "metadata": {
        "colab": {
          "base_uri": "https://localhost:8080/"
        },
        "id": "dmZ8GIeBLhsw",
        "outputId": "18989136-fe77-445e-cafc-0d24ccac6528"
      },
      "outputs": [
        {
          "data": {
            "text/plain": [
              "{'guido': 4127, 'police': 911, 'rtu': 777700, 'valdis': [9000, 2640, 2911]}"
            ]
          },
          "execution_count": 65,
          "metadata": {},
          "output_type": "execute_result"
        }
      ],
      "source": [
        "tel"
      ]
    },
    {
      "cell_type": "code",
      "execution_count": null,
      "metadata": {
        "id": "KfFkcL3nLhsw"
      },
      "outputs": [],
      "source": [
        "del tel[1]\n",
        "tel"
      ]
    },
    {
      "cell_type": "code",
      "execution_count": 66,
      "metadata": {
        "colab": {
          "base_uri": "https://localhost:8080/"
        },
        "id": "pT1jhQ0mLhsw",
        "outputId": "72331bb2-91cd-4070-92b3-80d8aa08965e"
      },
      "outputs": [
        {
          "data": {
            "text/plain": [
              "{'guido': 4127,\n",
              " 'liga': 911,\n",
              " 'peteris': 900,\n",
              " 'police': 911,\n",
              " 'rtu': 777700,\n",
              " 'valdis': 1800}"
            ]
          },
          "execution_count": 66,
          "metadata": {},
          "output_type": "execute_result"
        }
      ],
      "source": [
        "tel.update({'valdis':1800, 'peteris':900, 'liga':911}) # in place addition meaning tel is modified\n",
        "tel"
      ]
    },
    {
      "cell_type": "code",
      "execution_count": null,
      "metadata": {
        "id": "sIPr1wVNLhsx",
        "outputId": "44d7cf40-8de3-4c48-83d5-eff15a34c461"
      },
      "outputs": [
        {
          "data": {
            "text/plain": [
              "{'Val': 25, 'Baiba': 25, 'Cālis': 25}"
            ]
          },
          "execution_count": 76,
          "metadata": {},
          "output_type": "execute_result"
        }
      ],
      "source": [
        "tel.fromkeys(['Val','Baiba','Cālis'], 25) # here tel really didnt do anything"
      ]
    },
    {
      "cell_type": "code",
      "execution_count": null,
      "metadata": {
        "id": "fPStSALaLhsx",
        "outputId": "193c1c1f-7691-46d4-d915-a6be92b97467"
      },
      "outputs": [
        {
          "data": {
            "text/plain": [
              "{'Val': 25, 'Baiba': 25, 'Cālis': 25}"
            ]
          },
          "execution_count": 78,
          "metadata": {},
          "output_type": "execute_result"
        }
      ],
      "source": [
        "{}.fromkeys(['Val','Baiba','Cālis'], 25) # we could use {} really didnt do anything"
      ]
    },
    {
      "cell_type": "code",
      "execution_count": null,
      "metadata": {
        "id": "Me0UMFF0Lhsx",
        "outputId": "4cd4aad0-fe50-48aa-a2d2-935813cb26f8"
      },
      "outputs": [
        {
          "data": {
            "text/plain": [
              "{'jack': None, 'valdis': None}"
            ]
          },
          "execution_count": 79,
          "metadata": {},
          "output_type": "execute_result"
        }
      ],
      "source": [
        "tel.fromkeys(['jack', 'valdis']) # so again tel really was not needed could use {}"
      ]
    },
    {
      "cell_type": "code",
      "execution_count": null,
      "metadata": {
        "id": "gI30J_MMLhsx",
        "outputId": "6ec37ae4-9137-4aea-9249-e8b1f76989a0"
      },
      "outputs": [
        {
          "data": {
            "text/plain": [
              "{'jack': 9000,\n",
              " 'guido': 4127,\n",
              " 'irv': [333, 333, 13214141],\n",
              " 'police': 911,\n",
              " 'rtu': 7777,\n",
              " 'valdis': 1800,\n",
              " 'peteris': 900,\n",
              " 'liga': 911}"
            ]
          },
          "execution_count": 77,
          "metadata": {},
          "output_type": "execute_result"
        }
      ],
      "source": [
        "tel"
      ]
    },
    {
      "cell_type": "code",
      "execution_count": null,
      "metadata": {
        "id": "PPpzeW9KLhsx"
      },
      "outputs": [],
      "source": [
        "newdictwithdefaultvalues = {}.fromkeys(['Val','Baiba','Cālis'], 25)\n",
        "newdictwithdefaultvalues"
      ]
    },
    {
      "cell_type": "code",
      "execution_count": null,
      "metadata": {
        "id": "TIy_OYdYLhsx"
      },
      "outputs": [],
      "source": [
        "# what setdefault does\n",
        "key= \"Valdis\"\n",
        "defaultvalue = 9000\n",
        "if key in tel.keys():\n",
        "    print(\"Returning default\", tel[key])\n",
        "else:\n",
        "    tel[key] = defaultvalue\n",
        "tel"
      ]
    },
    {
      "cell_type": "code",
      "execution_count": null,
      "metadata": {
        "id": "cMTQzFf7Lhsx"
      },
      "outputs": [],
      "source": [
        "tel.setdefault('baiba', 4524352455000) \n",
        "tel\n",
        "# notice that value of 'baiba' does not change after the first set "
      ]
    },
    {
      "cell_type": "code",
      "execution_count": null,
      "metadata": {
        "id": "Rbyhp4XVLhsy",
        "outputId": "f5714d72-1376-4c8c-9f1f-30b1c3c107d5"
      },
      "outputs": [
        {
          "data": {
            "text/plain": [
              "{'keyb': 53543543333}"
            ]
          },
          "execution_count": 82,
          "metadata": {},
          "output_type": "execute_result"
        }
      ],
      "source": [
        "# same as\n",
        "# if not 'b' in mydict:\n",
        "#     mydict['b'] = 3333\n",
        "mydict = {}\n",
        "mydict.setdefault('keyb', 53543543333)\n",
        "mydict"
      ]
    },
    {
      "cell_type": "code",
      "execution_count": null,
      "metadata": {
        "id": "k-eP0EDDLhsy"
      },
      "outputs": [],
      "source": [
        "mydict.setdefault('emptykey')\n",
        "mydict"
      ]
    },
    {
      "cell_type": "code",
      "execution_count": null,
      "metadata": {
        "id": "ZSRtUhTJLhsy"
      },
      "outputs": [],
      "source": [
        "# change dictionary key value pair ONLY if key does not exist\n",
        "mydict.setdefault('a', 'aaaaaaaa')\n",
        "mydict"
      ]
    },
    {
      "cell_type": "code",
      "execution_count": null,
      "metadata": {
        "id": "3IYxYDovLhsy",
        "outputId": "6cce1c82-c84d-4b53-fc62-9beb65d635b1"
      },
      "outputs": [
        {
          "data": {
            "text/plain": [
              "{'keyb': 53543543333, 'a': 'changed a value'}"
            ]
          },
          "execution_count": 83,
          "metadata": {},
          "output_type": "execute_result"
        }
      ],
      "source": [
        "# here we overwite no matter what\n",
        "mydict['a'] = 'changed a value'\n",
        "mydict"
      ]
    },
    {
      "cell_type": "code",
      "execution_count": 68,
      "metadata": {
        "colab": {
          "base_uri": "https://localhost:8080/"
        },
        "id": "C3Eu8VjELhsy",
        "outputId": "7e58fb72-125c-459c-9329-290f4c29ca8c"
      },
      "outputs": [
        {
          "data": {
            "text/plain": [
              "{}"
            ]
          },
          "execution_count": 68,
          "metadata": {},
          "output_type": "execute_result"
        }
      ],
      "source": [
        "# and we clear our dictionary\n",
        "tel.clear() # clear removes all key-value pairs from dictionary IN PLACE\n",
        "tel"
      ]
    },
    {
      "cell_type": "code",
      "execution_count": null,
      "metadata": {
        "id": "-1R38qBELhsy"
      },
      "outputs": [],
      "source": [
        "type(mydict)"
      ]
    },
    {
      "cell_type": "code",
      "execution_count": null,
      "metadata": {
        "id": "4nsCjPzpLhsy"
      },
      "outputs": [],
      "source": [
        "# better not change mydict to int but you could do it\n",
        "mydict = 5\n",
        "type(mydict)"
      ]
    },
    {
      "cell_type": "code",
      "execution_count": 70,
      "metadata": {
        "id": "LzS-xWTKLhsz"
      },
      "outputs": [],
      "source": [
        "import random # this is standart python library for randomness"
      ]
    },
    {
      "cell_type": "code",
      "execution_count": 78,
      "metadata": {
        "colab": {
          "base_uri": "https://localhost:8080/"
        },
        "id": "9R1gvpPmLhsz",
        "outputId": "29b252d0-f0e2-4a12-e644-6eda253fc7f8"
      },
      "outputs": [
        {
          "data": {
            "text/plain": [
              "3"
            ]
          },
          "execution_count": 78,
          "metadata": {},
          "output_type": "execute_result"
        }
      ],
      "source": [
        "random.randint(1,6) # randint gives includes BOTH and start and end"
      ]
    },
    {
      "cell_type": "markdown",
      "metadata": {
        "id": "BdVy_4KyLhsz"
      },
      "source": [
        "![xkcd](https://imgs.xkcd.com/comics/random_number.png)"
      ]
    },
    {
      "cell_type": "code",
      "execution_count": 79,
      "metadata": {
        "colab": {
          "base_uri": "https://localhost:8080/"
        },
        "id": "KjlyKOy-Lhsz",
        "outputId": "289788a4-83dd-4171-be71-4de7b3b49915"
      },
      "outputs": [
        {
          "data": {
            "text/plain": [
              "[6, 1, 1, 6, 3, 2, 2, 2, 6, 1]"
            ]
          },
          "execution_count": 79,
          "metadata": {},
          "output_type": "execute_result"
        }
      ],
      "source": [
        "# generate 100 random dice throws and save in myrandoms\n",
        "random.seed(42)\n",
        "# myrandoms = []\n",
        "# for _ in range(100):\n",
        "#     myrandoms.append(random.randint(1,6))\n",
        "# list comprehension same as above\n",
        "myrandoms = [random.randint(1,6) for _ in range(100)]  # _ indicated we do not care for the iterator index\n",
        "myrandoms[:10]"
      ]
    },
    {
      "cell_type": "code",
      "execution_count": 80,
      "metadata": {
        "colab": {
          "base_uri": "https://localhost:8080/"
        },
        "id": "2yqYaN1uVJ1c",
        "outputId": "71a9db80-6561-48ac-b719-a3c84a202e63"
      },
      "outputs": [
        {
          "data": {
            "text/plain": [
              "(1, 6, 3.41)"
            ]
          },
          "execution_count": 80,
          "metadata": {},
          "output_type": "execute_result"
        }
      ],
      "source": [
        "min(myrandoms),max(myrandoms), sum(myrandoms)/len(myrandoms)"
      ]
    },
    {
      "cell_type": "code",
      "execution_count": 81,
      "metadata": {
        "colab": {
          "base_uri": "https://localhost:8080/"
        },
        "id": "1FHt9JXCLhsz",
        "outputId": "23a2469e-3b9d-4dd7-d66a-3442c371cc8b"
      },
      "outputs": [
        {
          "data": {
            "text/plain": [
              "{1: 20, 2: 18, 3: 17, 4: 11, 5: 14, 6: 20}"
            ]
          },
          "execution_count": 81,
          "metadata": {},
          "output_type": "execute_result"
        }
      ],
      "source": [
        "mycounter = {} # new blank dictionary\n",
        "# count how many time each digit appears in myrandoms\n",
        "# loop through all myrandoms and count\n",
        "for num in myrandoms:\n",
        "    # print(num)\n",
        "    # check key for existance\n",
        "    if num in mycounter:\n",
        "        mycounter[num] += 1 # mycounter[num] = mycounter[num]+1\n",
        "    else: \n",
        "        mycounter[num] = 1\n",
        "mycounter"
      ]
    },
    {
      "cell_type": "code",
      "execution_count": null,
      "metadata": {
        "id": "N9ArH27VVbGo"
      },
      "outputs": [],
      "source": [
        "# here for numbers from 1 to 6 I could have used a list as well to store my counts"
      ]
    },
    {
      "cell_type": "code",
      "execution_count": 84,
      "metadata": {
        "colab": {
          "base_uri": "https://localhost:8080/"
        },
        "id": "iLwnUoF0VhPg",
        "outputId": "900159ba-4e1d-43de-a162-8946e2c6b49c"
      },
      "outputs": [
        {
          "data": {
            "text/plain": [
              "['Lorem',\n",
              " 'Ipsum',\n",
              " 'is',\n",
              " 'simply',\n",
              " 'dummy',\n",
              " 'text',\n",
              " 'of',\n",
              " 'the',\n",
              " 'printing',\n",
              " 'and']"
            ]
          },
          "execution_count": 84,
          "metadata": {},
          "output_type": "execute_result"
        }
      ],
      "source": [
        "my_text = \"Lorem Ipsum is simply dummy text of the printing and typesetting industry. Lorem Ipsum has been the industry's standard dummy text ever since the 1500s, when an unknown printer took a galley of type and scrambled it to make a type specimen book. It has survived not only five centuries, but also the leap into electronic typesetting, remaining essentially unchanged. It was popularised in the 1960s with the release of Letraset sheets containing Lorem Ipsum passages, and more recently with desktop publishing software like Aldus PageMaker including versions of Lorem Ipsum.\"\n",
        "my_words = my_text.split() # i get a list of words\n",
        "my_words[:10]"
      ]
    },
    {
      "cell_type": "code",
      "execution_count": 85,
      "metadata": {
        "id": "QLLcqL9PLhsz"
      },
      "outputs": [],
      "source": [
        "from collections import Counter  # turns out Python has batteries included and counteris provided already"
      ]
    },
    {
      "cell_type": "code",
      "execution_count": 87,
      "metadata": {
        "colab": {
          "base_uri": "https://localhost:8080/"
        },
        "id": "1JFeOWx4Lhsz",
        "outputId": "91ef3672-6cf1-4100-c0c7-8fea30b382fc"
      },
      "outputs": [
        {
          "data": {
            "text/plain": [
              "Counter({1: 20, 2: 18, 3: 17, 4: 11, 5: 14, 6: 20})"
            ]
          },
          "execution_count": 87,
          "metadata": {},
          "output_type": "execute_result"
        }
      ],
      "source": [
        "# https://docs.python.org/3/library/collections.html#collections.Counter\n",
        "pycounter = Counter(myrandoms)\n",
        "pycounter"
      ]
    },
    {
      "cell_type": "code",
      "execution_count": 88,
      "metadata": {
        "colab": {
          "base_uri": "https://localhost:8080/"
        },
        "id": "1rkMSGjfLhs0",
        "outputId": "04218746-f2ed-4ded-92e7-c70893d619e5"
      },
      "outputs": [
        {
          "data": {
            "text/plain": [
              "collections.Counter"
            ]
          },
          "execution_count": 88,
          "metadata": {},
          "output_type": "execute_result"
        }
      ],
      "source": [
        "type(pycounter) # like a dictionary but with some extra benefits"
      ]
    },
    {
      "cell_type": "code",
      "execution_count": 89,
      "metadata": {
        "colab": {
          "base_uri": "https://localhost:8080/"
        },
        "id": "mybpqmtLLhs0",
        "outputId": "fa806145-4718-4b33-9a87-a17fe6b77134"
      },
      "outputs": [
        {
          "data": {
            "text/plain": [
              "[(6, 20), (1, 20), (2, 18)]"
            ]
          },
          "execution_count": 89,
          "metadata": {},
          "output_type": "execute_result"
        }
      ],
      "source": [
        "pycounter.most_common(3)"
      ]
    },
    {
      "cell_type": "code",
      "execution_count": 90,
      "metadata": {
        "colab": {
          "base_uri": "https://localhost:8080/"
        },
        "id": "HsHeVvn6Lhs0",
        "outputId": "ef6d0e57-1663-49c2-9ef7-b2da5ae9a380"
      },
      "outputs": [
        {
          "data": {
            "text/plain": [
              "{1: 20, 2: 18, 3: 17, 4: 11, 5: 14, 6: 20}"
            ]
          },
          "execution_count": 90,
          "metadata": {},
          "output_type": "execute_result"
        }
      ],
      "source": [
        "dict(pycounter) # so you can remove the extra benefits"
      ]
    },
    {
      "cell_type": "code",
      "execution_count": 91,
      "metadata": {
        "colab": {
          "base_uri": "https://localhost:8080/"
        },
        "id": "Vv_GEO98Lhs0",
        "outputId": "8e4fa9b8-7b57-4814-e687-8386c56fca66"
      },
      "outputs": [
        {
          "data": {
            "text/plain": [
              "{1: 20, 2: 18, 3: 17, 4: 11, 5: 14, 6: 20}"
            ]
          },
          "execution_count": 91,
          "metadata": {},
          "output_type": "execute_result"
        }
      ],
      "source": [
        "dicounter = dict(pycounter)\n",
        "dicounter"
      ]
    },
    {
      "cell_type": "code",
      "execution_count": 93,
      "metadata": {
        "colab": {
          "base_uri": "https://localhost:8080/"
        },
        "id": "nVZIV31bV9jK",
        "outputId": "29a0744d-1a61-401c-bc3c-a97ba65060b1"
      },
      "outputs": [
        {
          "data": {
            "text/plain": [
              "[('the', 6),\n",
              " ('Lorem', 4),\n",
              " ('of', 4),\n",
              " ('Ipsum', 3),\n",
              " ('and', 3),\n",
              " ('dummy', 2),\n",
              " ('text', 2),\n",
              " ('has', 2),\n",
              " ('a', 2),\n",
              " ('type', 2)]"
            ]
          },
          "execution_count": 93,
          "metadata": {},
          "output_type": "execute_result"
        }
      ],
      "source": [
        "word_count = Counter(my_words)\n",
        "word_count.most_common(10)"
      ]
    },
    {
      "cell_type": "code",
      "execution_count": null,
      "metadata": {
        "id": "qUkuBu0vLhs0"
      },
      "outputs": [],
      "source": [
        "type(mycounter)"
      ]
    },
    {
      "cell_type": "code",
      "execution_count": null,
      "metadata": {
        "id": "D56TtAH3Lhs0"
      },
      "outputs": [],
      "source": [
        "# idiom for looping through dictionary each key - value pair\n",
        "for key, value in mycounter.items():\n",
        "    print(\"key\", key, \"value\", value)"
      ]
    },
    {
      "cell_type": "code",
      "execution_count": null,
      "metadata": {
        "id": "R9gR5QBYLhs0",
        "outputId": "5cfd2516-a084-4e1e-aff8-ba767140e879"
      },
      "outputs": [
        {
          "name": "stdout",
          "output_type": "stream",
          "text": [
            "Working with x 1\n",
            "1 squared\n",
            "Working with x 2\n",
            "2 squared\n",
            "Working with x 3\n",
            "3 squared\n",
            "Working with x 4\n",
            "4 squared\n",
            "Working with x 5\n",
            "5 squared\n",
            "Working with x 6\n",
            "6 squared\n",
            "Working with x 7\n",
            "7 squared\n",
            "Working with x 8\n",
            "8 squared\n",
            "Working with x 9\n",
            "9 squared\n",
            "Working with x 10\n",
            "10 squared\n"
          ]
        },
        {
          "data": {
            "text/plain": [
              "{'1 squared': 1,\n",
              " '2 squared': 4,\n",
              " '3 squared': 9,\n",
              " '4 squared': 16,\n",
              " '5 squared': 25,\n",
              " '6 squared': 36,\n",
              " '7 squared': 49,\n",
              " '8 squared': 64,\n",
              " '9 squared': 81,\n",
              " '10 squared': 100}"
            ]
          },
          "execution_count": 95,
          "metadata": {},
          "output_type": "execute_result"
        }
      ],
      "source": [
        "# squaredict = {\"1 squared\":1, \"2 squared\":4} # lidz 10\n",
        "squaredict = {}\n",
        "for x in range(1,11):\n",
        "    print(\"Working with x\",x)\n",
        "#     print(\"My key should look like:\") \n",
        "    print(f\"{x} squared\")\n",
        "    squaredict[f\"{x} squared\"] = x**2\n",
        "squaredict"
      ]
    },
    {
      "cell_type": "code",
      "execution_count": 94,
      "metadata": {
        "colab": {
          "base_uri": "https://localhost:8080/"
        },
        "id": "kFIC91IlLhs1",
        "outputId": "6189c34d-a0e9-450c-bbed-175727b38c70"
      },
      "outputs": [
        {
          "data": {
            "text/plain": [
              "{'1 squared': 1,\n",
              " '10 squared': 100,\n",
              " '2 squared': 4,\n",
              " '3 squared': 9,\n",
              " '4 squared': 16,\n",
              " '5 squared': 25,\n",
              " '6 squared': 36,\n",
              " '7 squared': 49,\n",
              " '8 squared': 64,\n",
              " '9 squared': 81}"
            ]
          },
          "execution_count": 94,
          "metadata": {},
          "output_type": "execute_result"
        }
      ],
      "source": [
        "squares = {f\"{x} squared\":x**2 for x in range(1,11)} # dictionary comprehension\n",
        "squares"
      ]
    },
    {
      "cell_type": "code",
      "execution_count": 95,
      "metadata": {
        "colab": {
          "base_uri": "https://localhost:8080/"
        },
        "id": "yUuChjwsLhs1",
        "outputId": "703bfa8e-9c31-464a-9377-8e564ff9131b"
      },
      "outputs": [
        {
          "data": {
            "text/plain": [
              "{1: 1, 2: 4, 3: 9, 4: 16, 5: 25}"
            ]
          },
          "execution_count": 95,
          "metadata": {},
          "output_type": "execute_result"
        }
      ],
      "source": [
        "squaredict = {x:x**2 for x in range(1,6)}\n",
        "squaredict"
      ]
    },
    {
      "cell_type": "code",
      "execution_count": 96,
      "metadata": {
        "colab": {
          "base_uri": "https://localhost:8080/"
        },
        "id": "qz_rH2AILhs1",
        "outputId": "53dd0f48-71f7-4ad2-a2fe-6447d4d92095"
      },
      "outputs": [
        {
          "data": {
            "text/plain": [
              "[1, 4, 9, 16, 25]"
            ]
          },
          "execution_count": 96,
          "metadata": {},
          "output_type": "execute_result"
        }
      ],
      "source": [
        "squarelist = [x**2 for x in range(1,6)] #list comprehension x is a name we came up with\n",
        "squarelist"
      ]
    },
    {
      "cell_type": "code",
      "execution_count": 97,
      "metadata": {
        "colab": {
          "base_uri": "https://localhost:8080/"
        },
        "id": "ia7LLKeELhs1",
        "outputId": "60ee5c2c-9f3a-45c9-9ccc-00b4a899f279"
      },
      "outputs": [
        {
          "data": {
            "text/plain": [
              "{'Letter 1 is': 'k',\n",
              " 'Letter 10 is': 's',\n",
              " 'Letter 2 is': 'a',\n",
              " 'Letter 3 is': 'r',\n",
              " 'Letter 4 is': 't',\n",
              " 'Letter 5 is': 'u',\n",
              " 'Letter 6 is': 'p',\n",
              " 'Letter 7 is': 'e',\n",
              " 'Letter 8 is': 'l',\n",
              " 'Letter 9 is': 'i'}"
            ]
          },
          "execution_count": 97,
          "metadata": {},
          "output_type": "execute_result"
        }
      ],
      "source": [
        "# so we can create a dictionary from our string by enumerating it and using index as key\n",
        "kdict = {f\"Letter {i} is\":c for i,c in enumerate(list(\"kartupelis\"), start=1)}\n",
        "kdict"
      ]
    },
    {
      "cell_type": "code",
      "execution_count": null,
      "metadata": {
        "id": "4KlOdnZxLhs1",
        "outputId": "764ca48d-96d8-4777-c710-0fa7197ace80"
      },
      "outputs": [
        {
          "data": {
            "text/plain": [
              "'k'"
            ]
          },
          "execution_count": 100,
          "metadata": {},
          "output_type": "execute_result"
        }
      ],
      "source": [
        "kdict['Letter 1 is']"
      ]
    },
    {
      "cell_type": "code",
      "execution_count": null,
      "metadata": {
        "id": "Fz_-1alBLhs1",
        "outputId": "73bebedf-a4b7-4bf7-9fd8-cdea109da3da"
      },
      "outputs": [
        {
          "data": {
            "text/plain": [
              "{'101': 'k',\n",
              " '102': 'a',\n",
              " '103': 'r',\n",
              " '104': 't',\n",
              " '105': 'u',\n",
              " '106': 'p',\n",
              " '107': 'e',\n",
              " '108': 'l',\n",
              " '109': 'i',\n",
              " '110': 's'}"
            ]
          },
          "execution_count": 101,
          "metadata": {},
          "output_type": "execute_result"
        }
      ],
      "source": [
        "ldict = {f\"{i}\" : c for i,c in enumerate(list(\"kartupelis\"), start = 101)}\n",
        "ldict"
      ]
    },
    {
      "cell_type": "code",
      "execution_count": null,
      "metadata": {
        "id": "Y-Az_2lgLhs1",
        "outputId": "0e3bc1b2-3ee2-4ad4-9dc4-825e993519e5"
      },
      "outputs": [
        {
          "data": {
            "text/plain": [
              "{'k': 107,\n",
              " 'a': 97,\n",
              " 'r': 114,\n",
              " 't': 116,\n",
              " 'u': 117,\n",
              " 'p': 112,\n",
              " 'e': 101,\n",
              " 'l': 108,\n",
              " 'i': 105,\n",
              " 's': 115}"
            ]
          },
          "execution_count": 103,
          "metadata": {},
          "output_type": "execute_result"
        }
      ],
      "source": [
        "word = \"kartupelis\"\n",
        "char_codes = {c:ord(c) for c in word}\n",
        "char_codes"
      ]
    },
    {
      "cell_type": "code",
      "execution_count": null,
      "metadata": {
        "id": "U8YTidZvLhs1",
        "outputId": "5932d06d-44eb-4f55-f030-a3b5692dfd76"
      },
      "outputs": [
        {
          "data": {
            "text/plain": [
              "{'jack': 9000,\n",
              " 'guido': 4127,\n",
              " 'irv': [333, 333, 13214141],\n",
              " 'police': 911,\n",
              " 'rtu': 7777,\n",
              " 'valdis': 1800,\n",
              " 'peteris': 900,\n",
              " 'liga': 911}"
            ]
          },
          "execution_count": 104,
          "metadata": {},
          "output_type": "execute_result"
        }
      ],
      "source": [
        "tel"
      ]
    },
    {
      "cell_type": "code",
      "execution_count": 100,
      "metadata": {
        "colab": {
          "base_uri": "https://localhost:8080/"
        },
        "id": "vPnN6yXYLhs2",
        "outputId": "efa99d39-63fc-4662-a8a0-7b02174d3396"
      },
      "outputs": [
        {
          "data": {
            "text/plain": [
              "{}"
            ]
          },
          "execution_count": 100,
          "metadata": {},
          "output_type": "execute_result"
        }
      ],
      "source": [
        "# One last imporant thing, when looping through dictionary we must NOT modify the key size\n",
        "# we can modify values but we must NOT add or delete keys to what we loop through\n",
        "value_to_delete = 911\n",
        "for k,v in tel.copy().items(): # you need a create a copy for iterating\n",
        "    if v == value_to_delete:\n",
        "        del tel[k]\n",
        "tel"
      ]
    },
    {
      "cell_type": "code",
      "execution_count": 103,
      "metadata": {
        "colab": {
          "base_uri": "https://localhost:8080/"
        },
        "id": "k_yNnb_VLhs2",
        "outputId": "63797339-5d16-4b2c-d59c-7baa93a14c21"
      },
      "outputs": [
        {
          "data": {
            "text/plain": [
              "{'liga': 911, 'maija': 2351, 'police': 911, 'valdis': 2640}"
            ]
          },
          "execution_count": 103,
          "metadata": {},
          "output_type": "execute_result"
        }
      ],
      "source": [
        "tel.update({'police':911, 'liga':911, 'valdis':2640, 'maija':2351})\n",
        "tel"
      ]
    },
    {
      "cell_type": "code",
      "execution_count": 105,
      "metadata": {
        "colab": {
          "base_uri": "https://localhost:8080/"
        },
        "id": "BedipL6cLhs2",
        "outputId": "fcdb3417-0afd-429c-fa97-00a7a7412a28"
      },
      "outputs": [
        {
          "data": {
            "text/plain": [
              "{'valdis': 2640}"
            ]
          },
          "execution_count": 105,
          "metadata": {},
          "output_type": "execute_result"
        }
      ],
      "source": [
        "# Using list comprehension to create a new dictionary and overwite old one is fine too\n",
        "value_to_delete = 911\n",
        "key_to_delete = \"maija\"\n",
        "tel = {k:v for k,v in tel.items() if v != value_to_delete and k != key_to_delete}\n",
        "tel"
      ]
    },
    {
      "cell_type": "code",
      "execution_count": null,
      "metadata": {
        "id": "n0Gzh0QSLhs2"
      },
      "outputs": [],
      "source": []
    }
  ],
  "metadata": {
    "colab": {
      "name": "Python Dictionaries.ipynb",
      "provenance": []
    },
    "kernelspec": {
      "display_name": "venv",
      "language": "python",
      "name": "python3"
    },
    "language_info": {
      "codemirror_mode": {
        "name": "ipython",
        "version": 3
      },
      "file_extension": ".py",
      "mimetype": "text/x-python",
      "name": "python",
      "nbconvert_exporter": "python",
      "pygments_lexer": "ipython3",
      "version": "3.12.5"
    }
  },
  "nbformat": 4,
  "nbformat_minor": 0
}
