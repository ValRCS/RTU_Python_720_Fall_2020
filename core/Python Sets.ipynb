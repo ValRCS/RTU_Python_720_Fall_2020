{
  "cells": [
    {
      "cell_type": "markdown",
      "metadata": {
        "id": "6eVdkQbKqK2c"
      },
      "source": [
        "# Sets\n"
      ]
    },
    {
      "cell_type": "markdown",
      "metadata": {
        "id": "X2wAO6SYqK2q"
      },
      "source": [
        "## Sets\n",
        "\n",
        "* unordered\n",
        "* uniques only - great for getting unique items out of some collection\n",
        "* curly braces {3, 6, 7} - we used {} for dictionaries as well, dictionaries used : for key:value"
      ]
    },
    {
      "cell_type": "code",
      "execution_count": 1,
      "metadata": {
        "id": "53imLg9hqK2t",
        "outputId": "cea99d5d-598d-4e34-9562-bdb237858903",
        "colab": {
          "base_uri": "https://localhost:8080/"
        }
      },
      "outputs": [
        {
          "output_type": "stream",
          "name": "stdout",
          "text": [
            "{1, 3, 6, 7}\n"
          ]
        }
      ],
      "source": [
        "s = {3,3,6,1,3,6,7} # so curly braces are also used for a set not only a dictionary\n",
        "print(s)"
      ]
    },
    {
      "cell_type": "code",
      "execution_count": 2,
      "metadata": {
        "id": "hzt7Ncw9qK2w",
        "outputId": "d593596b-68fd-4a8a-d0ec-81e7e1d95941",
        "colab": {
          "base_uri": "https://localhost:8080/"
        }
      },
      "outputs": [
        {
          "output_type": "execute_result",
          "data": {
            "text/plain": [
              "{1, 3, 6, 7}"
            ]
          },
          "metadata": {},
          "execution_count": 2
        }
      ],
      "source": [
        "nset = set((3,3,6,1,3,6,7)) # alternative is to use set which takes any iterable\n",
        "nset"
      ]
    },
    {
      "cell_type": "code",
      "source": [
        "character_set = set(\"abracadbra\") # since string is an iterable this is allowed\n",
        "character_set"
      ],
      "metadata": {
        "id": "qtxcb-voq9jj",
        "outputId": "edbcb448-ff19-433e-99ae-99461e1565d0",
        "colab": {
          "base_uri": "https://localhost:8080/"
        }
      },
      "execution_count": 3,
      "outputs": [
        {
          "output_type": "execute_result",
          "data": {
            "text/plain": [
              "{'a', 'b', 'c', 'd', 'r'}"
            ]
          },
          "metadata": {},
          "execution_count": 3
        }
      ]
    },
    {
      "cell_type": "code",
      "execution_count": 4,
      "metadata": {
        "id": "n-l4enAdqK2x",
        "outputId": "8561cb32-7baf-4dd0-cd29-6baa3c5de269",
        "colab": {
          "base_uri": "https://localhost:8080/"
        }
      },
      "outputs": [
        {
          "output_type": "execute_result",
          "data": {
            "text/plain": [
              "{1, 2, 6, 7}"
            ]
          },
          "metadata": {},
          "execution_count": 4
        }
      ],
      "source": [
        "num_set = set([1,2,6,2,7,2,1]) # could pass a list\n",
        "num_set"
      ]
    },
    {
      "cell_type": "code",
      "execution_count": 5,
      "metadata": {
        "id": "bLPShfGFqK2x",
        "outputId": "36703fab-061e-43ce-fb63-8fbb7e100ff6",
        "colab": {
          "base_uri": "https://localhost:8080/"
        }
      },
      "outputs": [
        {
          "output_type": "execute_result",
          "data": {
            "text/plain": [
              "{' ', 'a', 'i', 'k', 'l', 'm', 'n', 'p', 's', 'u', 'ē', 'ķ', 'ļ'}"
            ]
          },
          "metadata": {},
          "execution_count": 5
        }
      ],
      "source": [
        "a = set(\"ķiļķēni un klimpas\") # takes a sequence so string qualifies\n",
        "a"
      ]
    },
    {
      "cell_type": "markdown",
      "source": [
        "### Set from Mixed Data Types\n",
        "\n",
        "Since this is Python we can mix and match our data types"
      ],
      "metadata": {
        "id": "Ysd7FrOcrP6Y"
      }
    },
    {
      "cell_type": "code",
      "execution_count": 6,
      "metadata": {
        "id": "hqxS9cmYqK2y",
        "outputId": "e00f3e2d-eb9f-4d4c-8579-bb26d9531745",
        "colab": {
          "base_uri": "https://localhost:8080/"
        }
      },
      "outputs": [
        {
          "output_type": "execute_result",
          "data": {
            "text/plain": [
              "{1, 12, 2, 56, 7, 'abba', 'abracadbra', 'dubba'}"
            ]
          },
          "metadata": {},
          "execution_count": 6
        }
      ],
      "source": [
        "b = {\"abracadbra\",\"abba\", \"dubba\", \"abba\",56,7,2,12,2,2,1,1}\n",
        "b"
      ]
    },
    {
      "cell_type": "code",
      "execution_count": 7,
      "metadata": {
        "id": "XU5GaIuOqK2z",
        "outputId": "e800ad92-119a-4617-b738-bed444559892",
        "colab": {
          "base_uri": "https://localhost:8080/"
        }
      },
      "outputs": [
        {
          "output_type": "execute_result",
          "data": {
            "text/plain": [
              "{'abba', 'abracadbra', 'dubba'}"
            ]
          },
          "metadata": {},
          "execution_count": 7
        }
      ],
      "source": [
        "bset = set([\"abracadbra\",\"abba\", \"dubba\", \"abba\"])\n",
        "bset"
      ]
    },
    {
      "cell_type": "code",
      "execution_count": 12,
      "metadata": {
        "id": "y3_bPucLqK2z",
        "outputId": "f6d295d6-0c42-4675-f50b-e3f246c6c294",
        "colab": {
          "base_uri": "https://localhost:8080/"
        }
      },
      "outputs": [
        {
          "output_type": "execute_result",
          "data": {
            "text/plain": [
              "{'a', 'b', 'c', 'd', 'r'}"
            ]
          },
          "metadata": {},
          "execution_count": 12
        }
      ],
      "source": [
        "aset = set(\"abracadbra\")\n",
        "aset"
      ]
    },
    {
      "cell_type": "markdown",
      "source": [
        "### Looping through sets\n",
        "\n",
        "No order guarantee"
      ],
      "metadata": {
        "id": "NL6fHAclrn8v"
      }
    },
    {
      "cell_type": "code",
      "execution_count": 13,
      "metadata": {
        "id": "Zs73rlaOqK20",
        "outputId": "b2e8420e-f5c9-4302-c40a-e0a50760ba76",
        "colab": {
          "base_uri": "https://localhost:8080/"
        }
      },
      "outputs": [
        {
          "output_type": "stream",
          "name": "stdout",
          "text": [
            "r\n",
            "d\n",
            "c\n",
            "b\n",
            "a\n"
          ]
        }
      ],
      "source": [
        "for c in aset: # notice no guarantee on order \n",
        "    print(c)"
      ]
    },
    {
      "cell_type": "code",
      "source": [
        "# If i wanted guarantee I would convert set to sorted list and use that to loop through\n",
        "for c in sorted(aset):\n",
        "    print(c)"
      ],
      "metadata": {
        "id": "2SwA5LharzUM",
        "outputId": "da8b4f0e-18bc-480a-93f5-2d4b0b492b7d",
        "colab": {
          "base_uri": "https://localhost:8080/"
        }
      },
      "execution_count": 14,
      "outputs": [
        {
          "output_type": "stream",
          "name": "stdout",
          "text": [
            "a\n",
            "b\n",
            "c\n",
            "d\n",
            "r\n"
          ]
        }
      ]
    },
    {
      "cell_type": "markdown",
      "source": [
        "### Membership check in set - O(1)\n",
        "\n",
        "Membership check for sets is very fast - constant time\n",
        "\n",
        "Use sets if you need to make many membership checks as compared to list\n",
        "\n",
        "Lists use linear time lookup."
      ],
      "metadata": {
        "id": "1ha1KrUcr7q7"
      }
    },
    {
      "cell_type": "code",
      "execution_count": 15,
      "metadata": {
        "id": "ToMReOjEqK20",
        "outputId": "822ce5b2-b619-456a-97f1-091f90d7a526",
        "colab": {
          "base_uri": "https://localhost:8080/"
        }
      },
      "outputs": [
        {
          "output_type": "execute_result",
          "data": {
            "text/plain": [
              "(True, True, False)"
            ]
          },
          "metadata": {},
          "execution_count": 15
        }
      ],
      "source": [
        "# this lookup is very quick even for large sets - just like key lookup in dictionaries\n",
        "'a' in aset, 'b' in aset, 'f' in aset "
      ]
    },
    {
      "cell_type": "code",
      "execution_count": null,
      "metadata": {
        "id": "shdaA8E6qK21",
        "outputId": "46d282b5-fe63-4e31-9954-72183ea09d2f"
      },
      "outputs": [
        {
          "data": {
            "text/plain": [
              "['a', 'b', 'c', 'd', 'r']"
            ]
          },
          "execution_count": 6,
          "metadata": {},
          "output_type": "execute_result"
        }
      ],
      "source": [
        "mylist = sorted(aset) # sorted gives you a list\n",
        "mylist"
      ]
    },
    {
      "cell_type": "code",
      "execution_count": null,
      "metadata": {
        "id": "8oqF1G0gqK21",
        "outputId": "5e0f7b67-3dad-479e-b745-31b64409c416"
      },
      "outputs": [
        {
          "data": {
            "text/plain": [
              "(True, True, False)"
            ]
          },
          "execution_count": 13,
          "metadata": {},
          "output_type": "execute_result"
        }
      ],
      "source": [
        "# list lookup is linear so much slower for large data list > 10_000 and so on\n",
        "'a' in mylist, 'b' in mylist, 'f' in mylist \n",
        "\n",
        "# of course making a set from million item list will also be slow, but only needs to be done one time.\n"
      ]
    },
    {
      "cell_type": "code",
      "execution_count": null,
      "metadata": {
        "id": "mR4CWcCPqK22",
        "outputId": "439676a0-52a4-4d5e-ba03-434148dd0e61"
      },
      "outputs": [
        {
          "data": {
            "text/plain": [
              "set"
            ]
          },
          "execution_count": 8,
          "metadata": {},
          "output_type": "execute_result"
        }
      ],
      "source": [
        "type(s)"
      ]
    },
    {
      "cell_type": "code",
      "execution_count": 16,
      "metadata": {
        "id": "-PF6c6mOqK22",
        "outputId": "405c923b-a9ad-4cb4-d5a8-a2c372dc16bd",
        "colab": {
          "base_uri": "https://localhost:8080/"
        }
      },
      "outputs": [
        {
          "output_type": "execute_result",
          "data": {
            "text/plain": [
              "{' ', 'a', 'i', 'k', 'l', 'm', 'n', 'p', 's', 'u', 'ē', 'ķ', 'ļ'}"
            ]
          },
          "metadata": {},
          "execution_count": 16
        }
      ],
      "source": [
        "a"
      ]
    },
    {
      "cell_type": "code",
      "execution_count": 17,
      "metadata": {
        "id": "YaACf2TgqK22",
        "outputId": "1f2c8fa6-3d27-4f21-ae5c-152234696582",
        "colab": {
          "base_uri": "https://localhost:8080/"
        }
      },
      "outputs": [
        {
          "output_type": "execute_result",
          "data": {
            "text/plain": [
              "['n', 'i', 'ķ', 'ē', ' ', 'u', 'm', 'l', 'p', 'ļ', 's', 'k', 'a']"
            ]
          },
          "metadata": {},
          "execution_count": 17
        }
      ],
      "source": [
        "# I can always type cast set to list if i need to keep the items in order\n",
        "myletters = list(a)\n",
        "myletters"
      ]
    },
    {
      "cell_type": "code",
      "execution_count": 18,
      "metadata": {
        "id": "hNkviAwQqK23",
        "outputId": "72be2a4f-ff2f-412d-d0ed-125968930db7",
        "colab": {
          "base_uri": "https://localhost:8080/",
          "height": 35
        }
      },
      "outputs": [
        {
          "output_type": "execute_result",
          "data": {
            "text/plain": [
              "' |a|i|k|l|m|n|p|s|u|ē|ķ|ļ'"
            ],
            "application/vnd.google.colaboratory.intrinsic+json": {
              "type": "string"
            }
          },
          "metadata": {},
          "execution_count": 18
        }
      ],
      "source": [
        "\"|\".join(sorted(a)) # you can join with any character even blank space\n",
        "# notice that sorting is using Unicode chr values so Latvian letters are after English\n",
        "# TODO sort it locale specific way"
      ]
    },
    {
      "cell_type": "code",
      "execution_count": null,
      "metadata": {
        "id": "l_sCacb3qK23",
        "outputId": "4eb73927-a32d-427f-bf99-cb1a33775a9f"
      },
      "outputs": [
        {
          "data": {
            "text/plain": [
              "['a', 'ķ', 'u']"
            ]
          },
          "execution_count": 5,
          "metadata": {},
          "output_type": "execute_result"
        }
      ],
      "source": [
        "myletters[:3]"
      ]
    },
    {
      "cell_type": "code",
      "execution_count": null,
      "metadata": {
        "id": "5DT1TnQAqK23",
        "outputId": "40de82c5-ff2c-4d66-e792-2c08619b76dc"
      },
      "outputs": [
        {
          "data": {
            "text/plain": [
              "['a', 'ķ', 'u', 'l', 'm', 'n', 'p', 's', ' ', 'ē', 'ļ', 'i', 'k']"
            ]
          },
          "execution_count": 6,
          "metadata": {},
          "output_type": "execute_result"
        }
      ],
      "source": [
        "al = list(a)\n",
        "al"
      ]
    },
    {
      "cell_type": "code",
      "execution_count": null,
      "metadata": {
        "id": "gHQXL39oqK24",
        "outputId": "9113c0c3-b4d3-4634-b89f-7d6b44ce5961"
      },
      "outputs": [
        {
          "data": {
            "text/plain": [
              "[' ', 'a', 'i', 'k', 'l', 'm', 'n', 'p', 's', 'u', 'ē', 'ķ', 'ļ']"
            ]
          },
          "execution_count": 7,
          "metadata": {},
          "output_type": "execute_result"
        }
      ],
      "source": [
        "sorted(al)"
      ]
    },
    {
      "cell_type": "code",
      "execution_count": null,
      "metadata": {
        "id": "obsIP9PiqK25",
        "outputId": "04110623-6f5a-4f66-9dde-30d79c653120"
      },
      "outputs": [
        {
          "data": {
            "text/plain": [
              "{1, 2, 3, 6, 65}"
            ]
          },
          "execution_count": 21,
          "metadata": {},
          "output_type": "execute_result"
        }
      ],
      "source": [
        "s = {1,2,65,2,6,3}\n",
        "s"
      ]
    },
    {
      "cell_type": "code",
      "execution_count": 19,
      "metadata": {
        "id": "q7IjcfGeqK26",
        "outputId": "ec1711d2-28d2-4a56-a853-5d1039956618",
        "colab": {
          "base_uri": "https://localhost:8080/"
        }
      },
      "outputs": [
        {
          "output_type": "execute_result",
          "data": {
            "text/plain": [
              "{0, 1, 2, 3, 4, 5, 6, 7, 8, 9}"
            ]
          },
          "metadata": {},
          "execution_count": 19
        }
      ],
      "source": [
        "nset = set(range(10))\n",
        "nset # still this is not sorted"
      ]
    },
    {
      "cell_type": "code",
      "execution_count": 27,
      "metadata": {
        "id": "E9a1ULhLqK27",
        "outputId": "195c3e55-3984-48b4-89dc-b9f4e57abc49",
        "colab": {
          "base_uri": "https://localhost:8080/"
        }
      },
      "outputs": [
        {
          "output_type": "execute_result",
          "data": {
            "text/plain": [
              "{-120,\n",
              " -95,\n",
              " -70,\n",
              " -45,\n",
              " -20,\n",
              " 4,\n",
              " 5,\n",
              " 6,\n",
              " 7,\n",
              " 8,\n",
              " 9,\n",
              " 10,\n",
              " 11,\n",
              " 12,\n",
              " 13,\n",
              " 14,\n",
              " 15,\n",
              " 16,\n",
              " 17,\n",
              " 30,\n",
              " 55,\n",
              " 80}"
            ]
          },
          "metadata": {},
          "execution_count": 27
        }
      ],
      "source": [
        "big_number_set = set(list(range(4,18)) + list(range(-120,100,25)))\n",
        "big_number_set"
      ]
    },
    {
      "cell_type": "code",
      "source": [
        "!python --version"
      ],
      "metadata": {
        "id": "07dEIwgUtJy4",
        "outputId": "59f47aad-d83a-4818-d8f9-3cbe90e6f9a2",
        "colab": {
          "base_uri": "https://localhost:8080/"
        }
      },
      "execution_count": 28,
      "outputs": [
        {
          "output_type": "stream",
          "name": "stdout",
          "text": [
            "Python 3.9.16\n"
          ]
        }
      ]
    },
    {
      "cell_type": "markdown",
      "source": [
        "## Set Operations\n",
        "\n",
        "### Subset\n",
        "\n",
        "![subset](https://upload.wikimedia.org/wikipedia/commons/thumb/b/b0/Venn_A_subset_B.svg/300px-Venn_A_subset_B.svg.png)"
      ],
      "metadata": {
        "id": "GirY_qRdtY8N"
      }
    },
    {
      "cell_type": "code",
      "execution_count": 29,
      "metadata": {
        "id": "KJuBkJjbqK28",
        "outputId": "e151a334-e14f-4ea3-8e00-521dc0f31014",
        "colab": {
          "base_uri": "https://localhost:8080/"
        }
      },
      "outputs": [
        {
          "output_type": "stream",
          "name": "stdout",
          "text": [
            "{1, 3, 6, 7}\n",
            "{0, 1, 2, 3, 4, 5, 6, 7, 8, 9}\n"
          ]
        },
        {
          "output_type": "execute_result",
          "data": {
            "text/plain": [
              "True"
            ]
          },
          "metadata": {},
          "execution_count": 29
        }
      ],
      "source": [
        "print(s)\n",
        "print(nset)\n",
        "s.issubset(nset)"
      ]
    },
    {
      "cell_type": "code",
      "execution_count": 30,
      "metadata": {
        "id": "eTfai8r3qK28",
        "outputId": "fb7098a1-dbeb-4041-b760-ad98eee247c7",
        "colab": {
          "base_uri": "https://localhost:8080/"
        }
      },
      "outputs": [
        {
          "output_type": "execute_result",
          "data": {
            "text/plain": [
              "{3, 4, 5, 6, 7}"
            ]
          },
          "metadata": {},
          "execution_count": 30
        }
      ],
      "source": [
        "n_3_7 = set(range(3,8))\n",
        "n_3_7"
      ]
    },
    {
      "cell_type": "code",
      "execution_count": 31,
      "metadata": {
        "id": "zyftiur4qK28",
        "outputId": "ab2573ff-1b6e-41fb-9b1c-979f82dc27f7",
        "colab": {
          "base_uri": "https://localhost:8080/"
        }
      },
      "outputs": [
        {
          "output_type": "execute_result",
          "data": {
            "text/plain": [
              "True"
            ]
          },
          "metadata": {},
          "execution_count": 31
        }
      ],
      "source": [
        "n_3_7.issubset(nset)"
      ]
    },
    {
      "cell_type": "code",
      "execution_count": null,
      "metadata": {
        "id": "Ev1rGcJwqK29",
        "outputId": "bb51de8b-40e9-42ef-a3c9-f875b0e678a3"
      },
      "outputs": [
        {
          "data": {
            "text/plain": [
              "True"
            ]
          },
          "execution_count": 25,
          "metadata": {},
          "output_type": "execute_result"
        }
      ],
      "source": [
        "# Alternative syntax\n",
        "n_3_7 < nset # strong subset meaning n_3_7 can't be equal to nset"
      ]
    },
    {
      "cell_type": "code",
      "execution_count": 32,
      "metadata": {
        "id": "pp8jljK6qK29",
        "outputId": "ba55ee64-a214-40dd-8857-fad866c33395",
        "colab": {
          "base_uri": "https://localhost:8080/"
        }
      },
      "outputs": [
        {
          "output_type": "execute_result",
          "data": {
            "text/plain": [
              "True"
            ]
          },
          "metadata": {},
          "execution_count": 32
        }
      ],
      "source": [
        "n_3_7 <= nset # allows equality meaning set of same items can be subset of same set with same items"
      ]
    },
    {
      "cell_type": "code",
      "execution_count": 33,
      "metadata": {
        "id": "flIo5r3hqK29",
        "outputId": "d70794fc-9d9c-4eca-b545-526a4a40504d",
        "colab": {
          "base_uri": "https://localhost:8080/"
        }
      },
      "outputs": [
        {
          "output_type": "execute_result",
          "data": {
            "text/plain": [
              "False"
            ]
          },
          "metadata": {},
          "execution_count": 33
        }
      ],
      "source": [
        "nset < nset"
      ]
    },
    {
      "cell_type": "code",
      "execution_count": 34,
      "metadata": {
        "id": "y_0FJnlQqK29",
        "outputId": "c77fc413-0fc4-4f9e-e8c9-2c5adbf39fcb",
        "colab": {
          "base_uri": "https://localhost:8080/"
        }
      },
      "outputs": [
        {
          "output_type": "execute_result",
          "data": {
            "text/plain": [
              "True"
            ]
          },
          "metadata": {},
          "execution_count": 34
        }
      ],
      "source": [
        "nset <= nset"
      ]
    },
    {
      "cell_type": "markdown",
      "source": [
        "### Superset\n",
        "\n",
        "So inverse of subset"
      ],
      "metadata": {
        "id": "NC5-hSIZt-xc"
      }
    },
    {
      "cell_type": "code",
      "execution_count": 35,
      "metadata": {
        "id": "RkszphdYqK2-",
        "outputId": "bdfff5ba-ce33-47c7-ef69-0fc4b1e8291e",
        "colab": {
          "base_uri": "https://localhost:8080/"
        }
      },
      "outputs": [
        {
          "output_type": "execute_result",
          "data": {
            "text/plain": [
              "True"
            ]
          },
          "metadata": {},
          "execution_count": 35
        }
      ],
      "source": [
        "nset.issuperset(s)"
      ]
    },
    {
      "cell_type": "code",
      "execution_count": 36,
      "metadata": {
        "id": "W8tEdrdUqK2-",
        "outputId": "666a5d06-487d-4f5d-ebbe-7eab02be43ed",
        "colab": {
          "base_uri": "https://localhost:8080/"
        }
      },
      "outputs": [
        {
          "output_type": "execute_result",
          "data": {
            "text/plain": [
              "({0, 1, 2, 3, 4, 5, 6, 7, 8, 9}, {1, 3, 6, 7})"
            ]
          },
          "metadata": {},
          "execution_count": 36
        }
      ],
      "source": [
        "nset, s"
      ]
    },
    {
      "cell_type": "code",
      "execution_count": 38,
      "metadata": {
        "id": "HeTEmbo6qK2-",
        "outputId": "f153235b-a5ba-4cdc-8958-84f8bf6de1ff",
        "colab": {
          "base_uri": "https://localhost:8080/"
        }
      },
      "outputs": [
        {
          "output_type": "execute_result",
          "data": {
            "text/plain": [
              "{1, 3, 7}"
            ]
          },
          "metadata": {},
          "execution_count": 38
        }
      ],
      "source": [
        "s.remove(6) # we can remove elements\n",
        "s"
      ]
    },
    {
      "cell_type": "code",
      "execution_count": 39,
      "metadata": {
        "id": "WPOwyOV4qK2_",
        "outputId": "53826670-f510-466c-83f9-b9ac17d2f3ce",
        "colab": {
          "base_uri": "https://localhost:8080/"
        }
      },
      "outputs": [
        {
          "output_type": "execute_result",
          "data": {
            "text/plain": [
              "({0, 1, 2, 3, 4, 5, 6, 7, 8, 9}, {1, 3, 7})"
            ]
          },
          "metadata": {},
          "execution_count": 39
        }
      ],
      "source": [
        "nset, s"
      ]
    },
    {
      "cell_type": "code",
      "execution_count": 40,
      "metadata": {
        "id": "2qfYW4HMqK2_",
        "outputId": "1efbadff-6625-481c-e904-90008d04d025",
        "colab": {
          "base_uri": "https://localhost:8080/"
        }
      },
      "outputs": [
        {
          "output_type": "execute_result",
          "data": {
            "text/plain": [
              "True"
            ]
          },
          "metadata": {},
          "execution_count": 40
        }
      ],
      "source": [
        "nset.issuperset(s)"
      ]
    },
    {
      "cell_type": "code",
      "execution_count": null,
      "metadata": {
        "id": "8rE7LlNAqK2_",
        "outputId": "fe53e4ab-6616-49ce-e8ed-7bd73949c420"
      },
      "outputs": [
        {
          "data": {
            "text/plain": [
              "(True, True, False)"
            ]
          },
          "execution_count": 35,
          "metadata": {},
          "output_type": "execute_result"
        }
      ],
      "source": [
        "# again we have shortcuts for strong superset >\n",
        "# weak superset meaning allowing equality >=\n",
        "nset > s, nset >= s, nset < s"
      ]
    },
    {
      "cell_type": "code",
      "execution_count": 41,
      "metadata": {
        "id": "0qdAtyquqK2_",
        "outputId": "fc22939a-9419-43d2-f2c0-d7e54a8e58e8",
        "colab": {
          "base_uri": "https://localhost:8080/"
        }
      },
      "outputs": [
        {
          "output_type": "execute_result",
          "data": {
            "text/plain": [
              "False"
            ]
          },
          "metadata": {},
          "execution_count": 41
        }
      ],
      "source": [
        "s.issuperset(range(6))"
      ]
    },
    {
      "cell_type": "code",
      "execution_count": null,
      "metadata": {
        "id": "3lWIT6h2qK2_",
        "outputId": "b323d746-c321-4477-ec9e-17c639113ff9"
      },
      "outputs": [
        {
          "data": {
            "text/plain": [
              "True"
            ]
          },
          "execution_count": 18,
          "metadata": {},
          "output_type": "execute_result"
        }
      ],
      "source": [
        "nset.issuperset(range(6))"
      ]
    },
    {
      "cell_type": "markdown",
      "source": [
        "### Union\n",
        "\n",
        "Union will let us combine sets - still no duplicates\n",
        "\n",
        "![union](https://upload.wikimedia.org/wikipedia/commons/thumb/3/30/Venn0111.svg/400px-Venn0111.svg.png)\n",
        "\n",
        "Mathematically used notation: A∪B"
      ],
      "metadata": {
        "id": "BxsGYnJlucnO"
      }
    },
    {
      "cell_type": "code",
      "execution_count": 42,
      "metadata": {
        "id": "lbhatv-3qK3A",
        "outputId": "0e34ef06-5948-469e-cdf7-40c4d5060f95",
        "colab": {
          "base_uri": "https://localhost:8080/"
        }
      },
      "outputs": [
        {
          "output_type": "execute_result",
          "data": {
            "text/plain": [
              "{5, 6, 7, 8, 9}"
            ]
          },
          "metadata": {},
          "execution_count": 42
        }
      ],
      "source": [
        "n_5_9 = set(range(5,10))\n",
        "n_5_9"
      ]
    },
    {
      "cell_type": "code",
      "execution_count": 44,
      "metadata": {
        "id": "K8PlXQPpqK3A",
        "outputId": "06179328-9119-458c-d65a-bd9ca21ec48c",
        "colab": {
          "base_uri": "https://localhost:8080/"
        }
      },
      "outputs": [
        {
          "output_type": "execute_result",
          "data": {
            "text/plain": [
              "{3, 4, 5, 6, 7, 8, 9}"
            ]
          },
          "metadata": {},
          "execution_count": 44
        }
      ],
      "source": [
        "n_3_9 = n_3_7.union(n_5_9)\n",
        "n_3_9 # note how duplicates are gone"
      ]
    },
    {
      "cell_type": "code",
      "source": [
        "# you can union on  multiple sets\n",
        "{1,3,51,61,1,3} | {3,1,5,1,6,1} | {3,3,1,1,5,1,63,3}"
      ],
      "metadata": {
        "id": "HVw58cYpvV7D",
        "outputId": "aee8cd94-cd30-4ac5-abca-e7741a5374cc",
        "colab": {
          "base_uri": "https://localhost:8080/"
        }
      },
      "execution_count": 46,
      "outputs": [
        {
          "output_type": "execute_result",
          "data": {
            "text/plain": [
              "{1, 3, 5, 6, 51, 61, 63}"
            ]
          },
          "metadata": {},
          "execution_count": 46
        }
      ]
    },
    {
      "cell_type": "code",
      "source": [
        "# lets make a list of random sets\n",
        "import random\n",
        "random.seed(42) # so we get same randoms\n",
        "set_list = [] # store our sets\n",
        "for _ in range(5):\n",
        "    set_list.append(set(range(random.randint(1,6), random.randint(10,20))))\n",
        "    print(set_list[-1]) # print last one - since I set specific i get same sets\n"
      ],
      "metadata": {
        "id": "JpWS_RX6vstF",
        "outputId": "c385803f-6c9a-47f0-c0d0-27323049e4f9",
        "colab": {
          "base_uri": "https://localhost:8080/"
        }
      },
      "execution_count": 49,
      "outputs": [
        {
          "output_type": "stream",
          "name": "stdout",
          "text": [
            "{6, 7, 8, 9, 10}\n",
            "{1, 2, 3, 4, 5, 6, 7, 8, 9, 10, 11, 12, 13}\n",
            "{2, 3, 4, 5, 6, 7, 8, 9, 10, 11, 12}\n",
            "{2, 3, 4, 5, 6, 7, 8, 9, 10}\n",
            "{6, 7, 8, 9, 10, 11, 12, 13, 14, 15, 16, 17}\n"
          ]
        }
      ]
    },
    {
      "cell_type": "code",
      "source": [
        "# i can unroll the list into separate sets as parameters to my set.intersection\n",
        "set.union(*set_list) # shorter than spelling out each set individually\n",
        "# we need * because union needs individual sets"
      ],
      "metadata": {
        "id": "EUEIGgAcvhKi",
        "outputId": "50f3bf55-a5c0-4971-faff-34969a1845e6",
        "colab": {
          "base_uri": "https://localhost:8080/"
        }
      },
      "execution_count": 51,
      "outputs": [
        {
          "output_type": "execute_result",
          "data": {
            "text/plain": [
              "{1, 2, 3, 4, 5, 6, 7, 8, 9, 10, 11, 12, 13, 14, 15, 16, 17}"
            ]
          },
          "metadata": {},
          "execution_count": 51
        }
      ]
    },
    {
      "cell_type": "markdown",
      "source": [
        "### Set Intersection\n",
        "\n",
        "We keep values that are present in BOTH (or more) sets\n",
        "\n",
        "A∩B\n",
        "\n",
        "![intersection](https://upload.wikimedia.org/wikipedia/commons/thumb/9/99/Venn0001.svg/440px-Venn0001.svg.png)"
      ],
      "metadata": {
        "id": "bC9i6YOPvQE4"
      }
    },
    {
      "cell_type": "code",
      "execution_count": 52,
      "metadata": {
        "id": "ccAEmpPnqK3A",
        "outputId": "e1fbf07a-f25d-4d9e-d817-f45be97422ed",
        "colab": {
          "base_uri": "https://localhost:8080/"
        }
      },
      "outputs": [
        {
          "output_type": "execute_result",
          "data": {
            "text/plain": [
              "{5, 6, 7}"
            ]
          },
          "metadata": {},
          "execution_count": 52
        }
      ],
      "source": [
        "n_3_7.intersection(n_5_9)"
      ]
    },
    {
      "cell_type": "code",
      "execution_count": 53,
      "metadata": {
        "id": "VBr_i_kDqK3B",
        "outputId": "389c7014-5105-418d-f948-8ba9f88b54a3",
        "colab": {
          "base_uri": "https://localhost:8080/"
        }
      },
      "outputs": [
        {
          "output_type": "execute_result",
          "data": {
            "text/plain": [
              "{5, 6, 7}"
            ]
          },
          "metadata": {},
          "execution_count": 53
        }
      ],
      "source": [
        "n_3_7 & n_5_9 # same as intersection above so only elements in BOTH sets\n",
        "# again shorter way of writing"
      ]
    },
    {
      "cell_type": "code",
      "execution_count": 54,
      "metadata": {
        "id": "bP7SOkUkqK3B",
        "outputId": "f5e3c307-d0e2-4f59-d860-782c78dc7af3",
        "colab": {
          "base_uri": "https://localhost:8080/"
        }
      },
      "outputs": [
        {
          "output_type": "execute_result",
          "data": {
            "text/plain": [
              "{5, 6, 7}"
            ]
          },
          "metadata": {},
          "execution_count": 54
        }
      ],
      "source": [
        "n_5_7 = n_3_7 & n_5_9\n",
        "n_5_7"
      ]
    },
    {
      "cell_type": "code",
      "execution_count": 55,
      "metadata": {
        "id": "AByZY3WnqK3B",
        "outputId": "ec28d566-06bf-46de-f8a2-20f7a02f16d6",
        "colab": {
          "base_uri": "https://localhost:8080/"
        }
      },
      "outputs": [
        {
          "output_type": "execute_result",
          "data": {
            "text/plain": [
              "{5, 6, 7}"
            ]
          },
          "metadata": {},
          "execution_count": 55
        }
      ],
      "source": [
        "n_5_7 = n_3_7 & n_5_9 & nset # nset is 0 to 9\n",
        "n_5_7"
      ]
    },
    {
      "cell_type": "code",
      "execution_count": 56,
      "metadata": {
        "id": "6UzfKAAZqK3B",
        "outputId": "fd6f6c1e-7a86-4e2b-f1d2-cea8869c9030",
        "colab": {
          "base_uri": "https://localhost:8080/"
        }
      },
      "outputs": [
        {
          "output_type": "execute_result",
          "data": {
            "text/plain": [
              "{5, 6}"
            ]
          },
          "metadata": {},
          "execution_count": 56
        }
      ],
      "source": [
        "n_5_6 = n_3_7 & n_5_9 & set(range(7)) # range goes to 6\n",
        "n_5_6 # only 5 and 6 is in ALL 3 sets"
      ]
    },
    {
      "cell_type": "code",
      "source": [
        "# interesting bug/error/unexpected might happend if we create an intersection which includes and empty set\n",
        "empty_set = set()\n",
        "empty_set"
      ],
      "metadata": {
        "id": "bh33ZFKEw70t",
        "outputId": "da9c2458-cc00-479d-a8d0-59e3e5497125",
        "colab": {
          "base_uri": "https://localhost:8080/"
        }
      },
      "execution_count": 57,
      "outputs": [
        {
          "output_type": "execute_result",
          "data": {
            "text/plain": [
              "set()"
            ]
          },
          "metadata": {},
          "execution_count": 57
        }
      ]
    },
    {
      "cell_type": "code",
      "source": [
        "empty_set & n_3_7 & n_5_7 # what will happen is... well we get an empty set because there are NO common elements"
      ],
      "metadata": {
        "id": "48KWDznFxICG",
        "outputId": "e1924ab1-eeee-474e-bce8-5ec16f749394",
        "colab": {
          "base_uri": "https://localhost:8080/"
        }
      },
      "execution_count": 58,
      "outputs": [
        {
          "output_type": "execute_result",
          "data": {
            "text/plain": [
              "set()"
            ]
          },
          "metadata": {},
          "execution_count": 58
        }
      ]
    },
    {
      "cell_type": "code",
      "source": [
        "# same trick that we used for union will work on intersection for multiples\n",
        "set.intersection(*set_list)"
      ],
      "metadata": {
        "id": "2eYFPBhJxUY_",
        "outputId": "9263c923-a252-4523-c206-23230363ac93",
        "colab": {
          "base_uri": "https://localhost:8080/"
        }
      },
      "execution_count": 59,
      "outputs": [
        {
          "output_type": "execute_result",
          "data": {
            "text/plain": [
              "{6, 7, 8, 9, 10}"
            ]
          },
          "metadata": {},
          "execution_count": 59
        }
      ]
    },
    {
      "cell_type": "markdown",
      "source": [
        "### Set Difference\n",
        "\n",
        "So items that are ONLy in the left set but not in right set\n",
        "\n",
        "![Set Difference](https://upload.wikimedia.org/wikipedia/commons/thumb/2/23/Relative_compliment.svg/460px-Relative_compliment.svg.png)\n",
        "\n",
        "In picture only items in B since B is on the left B\\A"
      ],
      "metadata": {
        "id": "ryysTVKXxfyz"
      }
    },
    {
      "cell_type": "code",
      "execution_count": 60,
      "metadata": {
        "id": "76tTajxvqK3C",
        "outputId": "5733a6f1-761f-483f-8b11-76a3702b2308",
        "colab": {
          "base_uri": "https://localhost:8080/"
        }
      },
      "outputs": [
        {
          "output_type": "execute_result",
          "data": {
            "text/plain": [
              "{3, 4}"
            ]
          },
          "metadata": {},
          "execution_count": 60
        }
      ],
      "source": [
        "n_3_7.difference(n_5_9) # only elements unique to left side"
      ]
    },
    {
      "cell_type": "code",
      "execution_count": 61,
      "metadata": {
        "id": "zBsPLRcbqK3C",
        "outputId": "20656a85-dbc9-4240-c8b2-5350648e8bbe",
        "colab": {
          "base_uri": "https://localhost:8080/"
        }
      },
      "outputs": [
        {
          "output_type": "execute_result",
          "data": {
            "text/plain": [
              "({3, 4}, {8, 9})"
            ]
          },
          "metadata": {},
          "execution_count": 61
        }
      ],
      "source": [
        "n_3_7 - n_5_9, n_5_9 - n_3_7 # so - is syntactic sugar to the difference"
      ]
    },
    {
      "cell_type": "markdown",
      "source": [
        "### Symmetrical Difference"
      ],
      "metadata": {
        "id": "z0p5qICQx-EI"
      }
    },
    {
      "cell_type": "code",
      "execution_count": 62,
      "metadata": {
        "id": "K-kywOo7qK3C",
        "outputId": "c0220658-80b0-42d5-9fd3-31b69dfef5eb",
        "colab": {
          "base_uri": "https://localhost:8080/"
        }
      },
      "outputs": [
        {
          "output_type": "execute_result",
          "data": {
            "text/plain": [
              "{3, 4, 8, 9}"
            ]
          },
          "metadata": {},
          "execution_count": 62
        }
      ],
      "source": [
        "n_3_7.symmetric_difference(n_5_9) # only elements unique either side"
      ]
    },
    {
      "cell_type": "code",
      "execution_count": 63,
      "metadata": {
        "id": "1_Gc49U-qK3C",
        "outputId": "9797e2a8-dc4d-47d5-d39e-09f5534e3029",
        "colab": {
          "base_uri": "https://localhost:8080/"
        }
      },
      "outputs": [
        {
          "output_type": "execute_result",
          "data": {
            "text/plain": [
              "{3, 4, 8, 9}"
            ]
          },
          "metadata": {},
          "execution_count": 63
        }
      ],
      "source": [
        "n_3_7 ^ n_5_9 # ^ is short for .symmetric_difference"
      ]
    },
    {
      "cell_type": "code",
      "execution_count": null,
      "metadata": {
        "id": "qoxD4kEBqK3C",
        "outputId": "cbe61ea8-00b6-48ef-934e-f8a53fb48c82"
      },
      "outputs": [
        {
          "data": {
            "text/plain": [
              "{1, 2, 3, 6}"
            ]
          },
          "execution_count": 53,
          "metadata": {},
          "output_type": "execute_result"
        }
      ],
      "source": [
        "s"
      ]
    },
    {
      "cell_type": "markdown",
      "source": [
        "### Updating existing sets"
      ],
      "metadata": {
        "id": "6OKKJI88yG2c"
      }
    },
    {
      "cell_type": "code",
      "source": [
        "print(s)"
      ],
      "metadata": {
        "id": "c30JpHidyKSh",
        "outputId": "b1034964-e8e7-481e-a2e2-ada6490db9c6",
        "colab": {
          "base_uri": "https://localhost:8080/"
        }
      },
      "execution_count": 64,
      "outputs": [
        {
          "output_type": "stream",
          "name": "stdout",
          "text": [
            "{1, 3, 7}\n"
          ]
        }
      ]
    },
    {
      "cell_type": "code",
      "execution_count": 65,
      "metadata": {
        "id": "tWWcU5axqK3D",
        "outputId": "b0f43580-be05-4f7e-ee61-4b5dcf88a439",
        "colab": {
          "base_uri": "https://localhost:8080/"
        }
      },
      "outputs": [
        {
          "output_type": "execute_result",
          "data": {
            "text/plain": [
              "{1, 10, 11, 12, 13, 14, 2, 3, 4, 5, 6, 7, 8, 9, 'Badac', 'Valdis'}"
            ]
          },
          "metadata": {},
          "execution_count": 65
        }
      ],
      "source": [
        "# we can update with many differnt data types\n",
        "s.update({3,3,6,2,7,9},range(4,15), [3,6,7,\"Valdis\", \"Badac\"])\n",
        "s # so no order guaranteeed"
      ]
    },
    {
      "cell_type": "code",
      "execution_count": null,
      "metadata": {
        "id": "mwLSE8NzqK3D",
        "outputId": "a10154c8-3420-4fbb-d2f0-3133ff7ba0e9"
      },
      "outputs": [
        {
          "data": {
            "text/plain": [
              "['__and__',\n",
              " '__class__',\n",
              " '__contains__',\n",
              " '__delattr__',\n",
              " '__dir__',\n",
              " '__doc__',\n",
              " '__eq__',\n",
              " '__format__',\n",
              " '__ge__',\n",
              " '__getattribute__',\n",
              " '__gt__',\n",
              " '__hash__',\n",
              " '__iand__',\n",
              " '__init__',\n",
              " '__init_subclass__',\n",
              " '__ior__',\n",
              " '__isub__',\n",
              " '__iter__',\n",
              " '__ixor__',\n",
              " '__le__',\n",
              " '__len__',\n",
              " '__lt__',\n",
              " '__ne__',\n",
              " '__new__',\n",
              " '__or__',\n",
              " '__rand__',\n",
              " '__reduce__',\n",
              " '__reduce_ex__',\n",
              " '__repr__',\n",
              " '__ror__',\n",
              " '__rsub__',\n",
              " '__rxor__',\n",
              " '__setattr__',\n",
              " '__sizeof__',\n",
              " '__str__',\n",
              " '__sub__',\n",
              " '__subclasshook__',\n",
              " '__xor__',\n",
              " 'add',\n",
              " 'clear',\n",
              " 'copy',\n",
              " 'difference',\n",
              " 'difference_update',\n",
              " 'discard',\n",
              " 'intersection',\n",
              " 'intersection_update',\n",
              " 'isdisjoint',\n",
              " 'issubset',\n",
              " 'issuperset',\n",
              " 'pop',\n",
              " 'remove',\n",
              " 'symmetric_difference',\n",
              " 'symmetric_difference_update',\n",
              " 'union',\n",
              " 'update']"
            ]
          },
          "execution_count": 213,
          "metadata": {},
          "output_type": "execute_result"
        }
      ],
      "source": [
        "dir(s)"
      ]
    },
    {
      "cell_type": "code",
      "execution_count": null,
      "metadata": {
        "id": "EvxHlS42qK3D",
        "outputId": "c84de8c2-a30f-42ea-e20e-7ea009b76bf4"
      },
      "outputs": [
        {
          "data": {
            "text/plain": [
              "False"
            ]
          },
          "execution_count": 55,
          "metadata": {},
          "output_type": "execute_result"
        }
      ],
      "source": [
        "# we can check if our set has anything in common with anohther data structures\n",
        "n_3_7.isdisjoint(n_5_9) # False because sets do intersect with 5,6,7"
      ]
    },
    {
      "cell_type": "markdown",
      "source": [
        "## Typical Use Cases for Sets\n",
        "\n",
        "* so Sets use them to obtain  unique elements \n",
        "* then can convert back to other data structures\n",
        "\n",
        "* Convert to Sets - use set operations back to other structures \n",
        "\n",
        "* Convert to set to perform multiple membership tests\n",
        "\n",
        "Example: Good for comparing two word lists from two document corpuses.\n",
        "You could find what words are common and which words are unique to each corpus.\n",
        "\n",
        "Another way of thinking of sets is as dictionaries of only keys, which you remembe have to be unique. Plus we get the set operations here."
      ],
      "metadata": {
        "id": "QYW4XUDGyWiy"
      }
    },
    {
      "cell_type": "code",
      "execution_count": null,
      "metadata": {
        "id": "bVdDBqsXqK3D"
      },
      "outputs": [],
      "source": [
        "# so Sets use them to obtain  unique elements \n",
        "# then can convert back to other data structures"
      ]
    }
  ],
  "metadata": {
    "kernelspec": {
      "display_name": "Python 3",
      "language": "python",
      "name": "python3"
    },
    "language_info": {
      "codemirror_mode": {
        "name": "ipython",
        "version": 3
      },
      "file_extension": ".py",
      "mimetype": "text/x-python",
      "name": "python",
      "nbconvert_exporter": "python",
      "pygments_lexer": "ipython3",
      "version": "3.8.3"
    },
    "colab": {
      "provenance": []
    }
  },
  "nbformat": 4,
  "nbformat_minor": 0
}