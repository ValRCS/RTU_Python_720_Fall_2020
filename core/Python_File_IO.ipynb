{
  "cells": [
    {
      "attachments": {},
      "cell_type": "markdown",
      "metadata": {
        "id": "l4QTcjrghYo2"
      },
      "source": [
        "##  File I/O (Input / Output)"
      ]
    },
    {
      "attachments": {},
      "cell_type": "markdown",
      "metadata": {
        "id": "KSgkKXwfhYo6"
      },
      "source": [
        "## Jupyter only writing to text file\n",
        "* %%writefile filename.ext\n",
        "\n",
        "Writes in the working directory (first run pwd) \n",
        "\n",
        "This is not Python specific command"
      ]
    },
    {
      "cell_type": "code",
      "execution_count": 1,
      "metadata": {},
      "outputs": [
        {
          "data": {
            "text/plain": [
              "'d:\\\\Github\\\\RTU_Python_720_Fall_2020\\\\core'"
            ]
          },
          "execution_count": 1,
          "metadata": {},
          "output_type": "execute_result"
        }
      ],
      "source": [
        "import os\n",
        "os.getcwd()"
      ]
    },
    {
      "cell_type": "code",
      "execution_count": 1,
      "metadata": {
        "colab": {
          "base_uri": "https://localhost:8080/"
        },
        "id": "ouKJsbyGhYo8",
        "outputId": "dc2bb26b-9558-4813-c30a-d56725793423"
      },
      "outputs": [
        {
          "name": "stdout",
          "output_type": "stream",
          "text": [
            "Writing mylib.py\n"
          ]
        }
      ],
      "source": [
        "%%writefile mylib.py\n",
        "# this is a small .py file that we will use for as a module(import)\n",
        "import math # importing standard Python math library\n",
        "MY_PI = 3.1415926\n",
        "\n",
        "def nb_year(pop_start, percent, yearly_arrival, pop_end):\n",
        "    count = 0\n",
        "    population = pop_start\n",
        "    while population < pop_end:\n",
        "        # short hand population *= (1+percent/100)\n",
        "        # also shortone population += population * percent / 100\n",
        "        population = population + math.floor(population * percent / 100)\n",
        "        population += yearly_arrival\n",
        "        count += 1\n",
        "    return count\n",
        "\n",
        "def add(a,b):\n",
        "    return a+b\n",
        "\n",
        "# could add main guard here"
      ]
    },
    {
      "cell_type": "code",
      "execution_count": 2,
      "metadata": {
        "id": "VPuZwNoRhYo9"
      },
      "outputs": [],
      "source": [
        "import mylib # it works because C:\\PyLib\\mylib.py is in my PYTHONPATH enviroment variables\n",
        "# import looks FIRST in your current directory"
      ]
    },
    {
      "cell_type": "code",
      "execution_count": 3,
      "metadata": {
        "colab": {
          "base_uri": "https://localhost:8080/"
        },
        "id": "6SnvHsFrne0e",
        "outputId": "2b1a97e5-cc23-4686-ec41-0f5f626e130a"
      },
      "outputs": [
        {
          "name": "stdout",
          "output_type": "stream",
          "text": [
            "3.1415926\n"
          ]
        }
      ],
      "source": [
        "print(mylib.MY_PI)"
      ]
    },
    {
      "cell_type": "code",
      "execution_count": 4,
      "metadata": {
        "colab": {
          "base_uri": "https://localhost:8080/"
        },
        "id": "KXhcK3eghYo9",
        "outputId": "77b662ee-bc19-4d8b-e047-97dbdfd8a7eb"
      },
      "outputs": [
        {
          "data": {
            "text/plain": [
              "42"
            ]
          },
          "execution_count": 4,
          "metadata": {},
          "output_type": "execute_result"
        }
      ],
      "source": [
        "mylib.nb_year(100,2,0,200)"
      ]
    },
    {
      "cell_type": "code",
      "execution_count": 5,
      "metadata": {
        "colab": {
          "base_uri": "https://localhost:8080/"
        },
        "id": "M2KNz6Uwnz7K",
        "outputId": "e3f6a1b8-0cf9-4838-9891-be7a8d352205"
      },
      "outputs": [
        {
          "data": {
            "text/plain": [
              "20"
            ]
          },
          "execution_count": 5,
          "metadata": {},
          "output_type": "execute_result"
        }
      ],
      "source": [
        "mylib.add(5,15)  # so adding on the fly is problematic on Google Colab"
      ]
    },
    {
      "cell_type": "code",
      "execution_count": 6,
      "metadata": {
        "colab": {
          "base_uri": "https://localhost:8080/"
        },
        "id": "YiDWH112hYo7",
        "outputId": "742ddfd5-0604-46b6-ed94-cd55d8298c42",
        "scrolled": true
      },
      "outputs": [
        {
          "name": "stdout",
          "output_type": "stream",
          "text": [
            "Writing two_roads.txt\n"
          ]
        }
      ],
      "source": [
        "%%writefile two_roads.txt\n",
        "Robert Frost\n",
        "The Road not Taken\n",
        "\n",
        "Two roads diverged in a yellow wood,\n",
        "And sorry I could not travel both\n",
        "And be one traveler, long I stood\n",
        "And looked down one as far as I could\n",
        "To where it bent in the undergrowth;\n",
        "\n",
        "Then took the other, just as fair,\n",
        "And having perhaps the better claim,\n",
        "Because it was grassy and wanted wear;\n",
        "Though as for that the passing there\n",
        "Had worn them really about the same,\n",
        "\n",
        "3rd verse\n",
        "\n",
        "And both that morning equally lay\n",
        "In leaves, no step had trodden black.\n",
        "Oh, I kept the first for another day!\n",
        "Yet knowing how way leads on to way,\n",
        "I doubted if I should ever come back.\n",
        "\n",
        "4th verse\n",
        "\n",
        "I shall be telling this with a sigh\n",
        "Somewhere ages and ages hence:\n",
        "Two roads diverged in a wood, and I—\n",
        "I took the one less traveled by,\n",
        "And that has made all the difference."
      ]
    },
    {
      "cell_type": "code",
      "execution_count": 8,
      "metadata": {
        "id": "kNiXxb-CoXR5"
      },
      "outputs": [],
      "source": [
        "from pathlib import Path"
      ]
    },
    {
      "cell_type": "code",
      "execution_count": 10,
      "metadata": {
        "colab": {
          "base_uri": "https://localhost:8080/"
        },
        "id": "owFkKdEWobKo",
        "outputId": "380d8746-8df4-45fb-b5e5-a5d23ee0a6a1"
      },
      "outputs": [
        {
          "data": {
            "text/plain": [
              "[PosixPath('alice.txt'), PosixPath('two_roads.txt')]"
            ]
          },
          "execution_count": 10,
          "metadata": {},
          "output_type": "execute_result"
        }
      ],
      "source": [
        "files = [f for f in Path(\".\").glob(\"*.txt\") if f.is_file()]\n",
        "files"
      ]
    },
    {
      "cell_type": "code",
      "execution_count": 11,
      "metadata": {
        "colab": {
          "base_uri": "https://localhost:8080/"
        },
        "id": "poaNKG7WzZFp",
        "outputId": "748f1d4f-06cb-40bc-b072-537eae8db538"
      },
      "outputs": [
        {
          "data": {
            "text/plain": [
              "PosixPath('alice.txt')"
            ]
          },
          "execution_count": 11,
          "metadata": {},
          "output_type": "execute_result"
        }
      ],
      "source": [
        "alice_file_name = files[0]\n",
        "alice_file_name"
      ]
    },
    {
      "cell_type": "code",
      "execution_count": 12,
      "metadata": {
        "colab": {
          "base_uri": "https://localhost:8080/"
        },
        "id": "RwjXboTHzgAd",
        "outputId": "78b4a93c-c87a-495c-bf9e-72a26e0c518a"
      },
      "outputs": [
        {
          "name": "stdout",
          "output_type": "stream",
          "text": [
            "Got 164410 symbols in alice.txt\n"
          ]
        }
      ],
      "source": [
        "with open(alice_file_name, encoding=\"utf-8\") as f:\n",
        "    alice_text = f.read()\n",
        "print(\"Got\", len(alice_text), \"symbols in\", alice_file_name)"
      ]
    },
    {
      "cell_type": "code",
      "execution_count": 20,
      "metadata": {
        "colab": {
          "base_uri": "https://localhost:8080/",
          "height": 35
        },
        "id": "eYp0mFrk118U",
        "outputId": "67543d57-4eae-4598-f94f-7141696d80de"
      },
      "outputs": [
        {
          "data": {
            "application/vnd.google.colaboratory.intrinsic+json": {
              "type": "string"
            },
            "text/plain": [
              "'!\"#$%&\\'()*+,-./:;<=>?@[\\\\]^_`{|}~'"
            ]
          },
          "execution_count": 20,
          "metadata": {},
          "output_type": "execute_result"
        }
      ],
      "source": [
        "import string\n",
        "string.punctuation"
      ]
    },
    {
      "cell_type": "code",
      "execution_count": 21,
      "metadata": {
        "colab": {
          "base_uri": "https://localhost:8080/"
        },
        "id": "q-hAsBze16Nc",
        "outputId": "e0536d30-b098-497b-c652-0649cb91e857"
      },
      "outputs": [
        {
          "name": "stdout",
          "output_type": "stream",
          "text": [
            "Got 158560 symbols after cleaning\n"
          ]
        }
      ],
      "source": [
        "clean_text = alice_text\n",
        "for punct in string.punctuation:\n",
        "    clean_text = clean_text.replace(punct, \"\") # so i can replace all occurences of all punctuation\n",
        "print(\"Got\", len(clean_text), \"symbols after cleaning\")"
      ]
    },
    {
      "cell_type": "code",
      "execution_count": 22,
      "metadata": {
        "colab": {
          "base_uri": "https://localhost:8080/"
        },
        "id": "Wl-gYcMvzvj_",
        "outputId": "ed09b62d-5ff7-44c3-98b0-196b8b497915"
      },
      "outputs": [
        {
          "name": "stdout",
          "output_type": "stream",
          "text": [
            "Got 29574 tokens in alice.txt\n"
          ]
        }
      ],
      "source": [
        "# tokens = alice_text.split()\n",
        "tokens = clean_text.split()\n",
        "print(\"Got\", len(tokens), \"tokens in\", alice_file_name)"
      ]
    },
    {
      "cell_type": "code",
      "execution_count": 23,
      "metadata": {
        "colab": {
          "base_uri": "https://localhost:8080/"
        },
        "id": "U9Cipagsz6vN",
        "outputId": "14f1a627-4124-44bc-af05-238fd1c2b35a"
      },
      "outputs": [
        {
          "data": {
            "text/plain": [
              "[('the', 1684),\n",
              " ('and', 809),\n",
              " ('to', 786),\n",
              " ('a', 669),\n",
              " ('of', 604),\n",
              " ('she', 500),\n",
              " ('said', 453),\n",
              " ('it', 443),\n",
              " ('in', 412),\n",
              " ('Alice', 383),\n",
              " ('was', 352),\n",
              " ('you', 344),\n",
              " ('I', 266),\n",
              " ('as', 251),\n",
              " ('her', 244),\n",
              " ('that', 244),\n",
              " ('with', 220),\n",
              " ('at', 210),\n",
              " ('on', 188),\n",
              " ('all', 182)]"
            ]
          },
          "execution_count": 23,
          "metadata": {},
          "output_type": "execute_result"
        }
      ],
      "source": [
        "from collections import Counter\n",
        "word_count = Counter(tokens)\n",
        "word_count.most_common(20)"
      ]
    },
    {
      "cell_type": "code",
      "execution_count": 24,
      "metadata": {
        "id": "J37XsnqV0In4"
      },
      "outputs": [],
      "source": [
        "# CSV - comma separareted files are just text files with some structure\n",
        "with open(\"alice_word_stats.csv\", mode=\"w\", encoding=\"utf-8\") as f:\n",
        "    f.write(\"word, frequency\\n\")\n",
        "    # f.write(\"\\n\".join(word_count.most_common(50)))\n",
        "    for my_tuple in word_count.most_common(50):\n",
        "        f.write(f\"{my_tuple[0]}, {my_tuple[1]}\\n\")\n"
      ]
    },
    {
      "cell_type": "code",
      "execution_count": null,
      "metadata": {
        "id": "PFsg60fHhYo-"
      },
      "outputs": [],
      "source": [
        "# filein is our own name for file stream\n",
        "filein = open('two_roads.txt')"
      ]
    },
    {
      "cell_type": "code",
      "execution_count": null,
      "metadata": {
        "colab": {
          "base_uri": "https://localhost:8080/"
        },
        "id": "wvpTohbbhYo-",
        "outputId": "43641849-4e26-4d8c-c98b-add7552125cb"
      },
      "outputs": [
        {
          "data": {
            "text/plain": [
              "_io.TextIOWrapper"
            ]
          },
          "execution_count": 13,
          "metadata": {},
          "output_type": "execute_result"
        }
      ],
      "source": [
        "type(filein)"
      ]
    },
    {
      "cell_type": "code",
      "execution_count": null,
      "metadata": {
        "colab": {
          "base_uri": "https://localhost:8080/"
        },
        "id": "aGHCMKlmhYo_",
        "outputId": "fa2eceff-ed71-442d-a40a-aa3398e9bb7f"
      },
      "outputs": [
        {
          "name": "stdout",
          "output_type": "stream",
          "text": [
            "Robert Frost\n",
            "The Road not Taken\n",
            "\n",
            "Two roads diverged in a yellow wood,\n",
            "And sorry I could not travel both\n",
            "And be one traveler, long I stood\n",
            "And looked down one as far as I could\n",
            "To where it bent in the undergrowth;\n",
            "\n",
            "Then took the other, just as fair,\n",
            "And having perhaps the better claim,\n",
            "Because it was grassy and wanted wear;\n",
            "Though as for that the passing there\n",
            "Had worn them really about the same,\n",
            "\n",
            "3rd verse\n",
            "\n",
            "And both that morning equally lay\n",
            "In leaves, no step had trodden black.\n",
            "Oh, I kept the first for another day!\n",
            "Yet knowing how way leads on to way,\n",
            "I doubted if I should ever come back.\n",
            "\n",
            "4th verse\n",
            "\n",
            "I shall be telling this with a sigh\n",
            "Somewhere ages and ages hence:\n",
            "Two roads diverged in a wood, and I—\n",
            "I took the one less traveled by,\n",
            "And that has made all the difference.\n"
          ]
        }
      ],
      "source": [
        "\n",
        "mytext = filein.read() # usually not that useful but you can read everything at once\n",
        "print(mytext)"
      ]
    },
    {
      "cell_type": "code",
      "execution_count": null,
      "metadata": {
        "colab": {
          "base_uri": "https://localhost:8080/",
          "height": 35
        },
        "id": "AdTGti4QhYpA",
        "outputId": "73d9329c-fe88-47e4-9c52-53931600984b"
      },
      "outputs": [
        {
          "data": {
            "application/vnd.google.colaboratory.intrinsic+json": {
              "type": "string"
            },
            "text/plain": [
              "''"
            ]
          },
          "execution_count": 15,
          "metadata": {},
          "output_type": "execute_result"
        }
      ],
      "source": [
        "filein.read()"
      ]
    },
    {
      "cell_type": "code",
      "execution_count": null,
      "metadata": {
        "id": "B-FeaTHYhYpA"
      },
      "outputs": [],
      "source": [
        "# it is like a record from vinyl records we went to the end of this file"
      ]
    },
    {
      "cell_type": "code",
      "execution_count": null,
      "metadata": {
        "id": "dTiKcisHhYpA"
      },
      "outputs": [],
      "source": [
        "# there can be many pointers to file stream\n",
        "fin = filein"
      ]
    },
    {
      "cell_type": "code",
      "execution_count": null,
      "metadata": {
        "colab": {
          "base_uri": "https://localhost:8080/",
          "height": 35
        },
        "id": "NveSdG-DhYpB",
        "outputId": "e1b1acea-e40e-47a4-f974-9637474df1eb"
      },
      "outputs": [
        {
          "data": {
            "application/vnd.google.colaboratory.intrinsic+json": {
              "type": "string"
            },
            "text/plain": [
              "'two_roads.txt'"
            ]
          },
          "execution_count": 18,
          "metadata": {},
          "output_type": "execute_result"
        }
      ],
      "source": [
        "fin.name"
      ]
    },
    {
      "cell_type": "code",
      "execution_count": null,
      "metadata": {
        "id": "J5g_csTVhYpB",
        "outputId": "b6d263c1-9894-4ef9-dc8c-e31b06300420"
      },
      "outputs": [
        {
          "data": {
            "text/plain": [
              "''"
            ]
          },
          "execution_count": 13,
          "metadata": {},
          "output_type": "execute_result"
        }
      ],
      "source": [
        "fin.read() # what will happen ?"
      ]
    },
    {
      "cell_type": "code",
      "execution_count": null,
      "metadata": {
        "id": "7yBqNwGGhYpB"
      },
      "outputs": [],
      "source": [
        "# if for some reason you want to read the file again you have to seek() back to some position"
      ]
    },
    {
      "cell_type": "code",
      "execution_count": null,
      "metadata": {
        "colab": {
          "base_uri": "https://localhost:8080/",
          "height": 194
        },
        "id": "2qbjDzUVhYpC",
        "outputId": "248491e0-5786-403c-f7e4-738d2568f4ed"
      },
      "outputs": [
        {
          "data": {
            "application/vnd.google.colaboratory.intrinsic+json": {
              "type": "string"
            },
            "text/plain": [
              "'Robert Frost\\nThe Road not Taken\\n\\nTwo roads diverged in a yellow wood,\\nAnd sorry I could not travel both\\nAnd be one traveler, long I stood\\nAnd looked down one as far as I could\\nTo where it bent in the undergrowth;\\n\\nThen took the other, just as fair,\\nAnd having perhaps the better claim,\\nBecause it was grassy and wanted wear;\\nThough as for that the passing there\\nHad worn them really about the same,\\n\\n3rd verse\\n\\nAnd both that morning equally lay\\nIn leaves, no step had trodden black.\\nOh, I kept the first for another day!\\nYet knowing how way leads on to way,\\nI doubted if I should ever come back.\\n\\n4th verse\\n\\nI shall be telling this with a sigh\\nSomewhere ages and ages hence:\\nTwo roads diverged in a wood, and I—\\nI took the one less traveled by,\\nAnd that has made all the difference.'"
            ]
          },
          "execution_count": 19,
          "metadata": {},
          "output_type": "execute_result"
        }
      ],
      "source": [
        "fin.seek(0) # so i seek back to 0 characters from the start - beginning\n",
        "fin.read()"
      ]
    },
    {
      "cell_type": "code",
      "execution_count": null,
      "metadata": {
        "id": "hCzpnwSKhYpC",
        "outputId": "ee64a613-bfc5-4676-a349-04ef3575c6ad"
      },
      "outputs": [
        {
          "name": "stdout",
          "output_type": "stream",
          "text": [
            "text first line\n",
            "Super easy second line\n",
            "OH and third line is\n",
            "\n"
          ]
        }
      ],
      "source": [
        "fin.seek(6) # so i skip 6 characters and only then start reading\n",
        "text6= fin.read()\n",
        "print(text6)"
      ]
    },
    {
      "cell_type": "code",
      "execution_count": null,
      "metadata": {
        "id": "DH4mnUSShYpC",
        "outputId": "ed1c9cf0-be34-41a4-fd0d-450d4bb9b4bc"
      },
      "outputs": [
        {
          "name": "stdout",
          "output_type": "stream",
          "text": [
            "Oh my text first line\n",
            "Super easy second line\n",
            "OH and third line is\n",
            "\n"
          ]
        }
      ],
      "source": [
        "# we seek the very beginning of the file\n",
        "fin.seek(0)\n",
        "fulltext = fin.read()\n",
        "print(fulltext)"
      ]
    },
    {
      "cell_type": "code",
      "execution_count": null,
      "metadata": {
        "id": "TnzvDW2IhYpD",
        "outputId": "60b444f9-ad77-483b-991b-0a95967e0a43"
      },
      "outputs": [
        {
          "data": {
            "text/plain": [
              "'text first line\\nSuper easy second line\\nOH and third line is\\n'"
            ]
          },
          "execution_count": 28,
          "metadata": {},
          "output_type": "execute_result"
        }
      ],
      "source": [
        "fulltext[6:]"
      ]
    },
    {
      "cell_type": "code",
      "execution_count": null,
      "metadata": {
        "id": "TnpKR6E1hYpD",
        "outputId": "567c1e85-c2d3-4d6f-9d71-6690555b0356"
      },
      "outputs": [
        {
          "data": {
            "text/plain": [
              "['Oh my text first line\\n',\n",
              " 'Super easy second line\\n',\n",
              " 'OH and third line is\\n']"
            ]
          },
          "execution_count": 20,
          "metadata": {},
          "output_type": "execute_result"
        }
      ],
      "source": [
        "# more useful that .read() can be readlines() which read by looking for \\n newline character\n",
        "fin.seek(0)\n",
        "mylines=fin.readlines()\n",
        "mylines"
      ]
    },
    {
      "cell_type": "code",
      "execution_count": null,
      "metadata": {
        "id": "m7XERKD8hYpD",
        "outputId": "67072def-8c8f-419b-c687-a088ed667802"
      },
      "outputs": [
        {
          "data": {
            "text/plain": [
              "list"
            ]
          },
          "execution_count": 21,
          "metadata": {},
          "output_type": "execute_result"
        }
      ],
      "source": [
        "type(mylines)"
      ]
    },
    {
      "cell_type": "code",
      "execution_count": null,
      "metadata": {
        "id": "tQaYOwQIhYpE",
        "outputId": "358d8f6c-2ccd-479e-c143-40ecc9df942d"
      },
      "outputs": [
        {
          "data": {
            "text/plain": [
              "list"
            ]
          },
          "execution_count": 9,
          "metadata": {},
          "output_type": "execute_result"
        }
      ],
      "source": [
        "type(mylines)"
      ]
    },
    {
      "cell_type": "code",
      "execution_count": null,
      "metadata": {
        "id": "zEwSDRO6hYpE",
        "outputId": "e5ffe739-ee27-4fbb-fcc5-49e45765e4f0"
      },
      "outputs": [
        {
          "data": {
            "text/plain": [
              "3"
            ]
          },
          "execution_count": 31,
          "metadata": {},
          "output_type": "execute_result"
        }
      ],
      "source": [
        "len(mylines)"
      ]
    },
    {
      "cell_type": "code",
      "execution_count": null,
      "metadata": {
        "id": "GxJOhR8ZhYpE",
        "outputId": "b307e72e-eb43-400f-e3bb-7acb26a23d31"
      },
      "outputs": [
        {
          "data": {
            "text/plain": [
              "[22, 23, 21]"
            ]
          },
          "execution_count": 22,
          "metadata": {},
          "output_type": "execute_result"
        }
      ],
      "source": [
        "# list comprehension to generate line lengths\n",
        "linelengths = [len(line) for line in mylines]\n",
        "linelengths"
      ]
    },
    {
      "cell_type": "code",
      "execution_count": null,
      "metadata": {
        "id": "2SjelltphYpE",
        "outputId": "ae4702f8-1d1e-4f15-9d8d-befaa47f2963"
      },
      "outputs": [
        {
          "data": {
            "text/plain": [
              "'Oh my text first line\\n'"
            ]
          },
          "execution_count": 23,
          "metadata": {},
          "output_type": "execute_result"
        }
      ],
      "source": [
        "mylines[0]"
      ]
    },
    {
      "cell_type": "code",
      "execution_count": null,
      "metadata": {
        "id": "4FBJq_VghYpE",
        "outputId": "11536134-7af9-4009-8238-39419c1cce15"
      },
      "outputs": [
        {
          "name": "stdout",
          "output_type": "stream",
          "text": [
            "Oh my text first line\n",
            "\n"
          ]
        }
      ],
      "source": [
        "print(mylines[0])"
      ]
    },
    {
      "cell_type": "code",
      "execution_count": null,
      "metadata": {
        "id": "cx3xu6PghYpG",
        "outputId": "6286edd6-a829-4a68-bd88-e5b2f3382fa0"
      },
      "outputs": [
        {
          "name": "stdout",
          "output_type": "stream",
          "text": [
            "Oh my text first line\n",
            "\n",
            "'Oh my text first line\\n'\n"
          ]
        },
        {
          "data": {
            "text/plain": [
              "'Oh my text first line\\n'"
            ]
          },
          "execution_count": 19,
          "metadata": {},
          "output_type": "execute_result"
        }
      ],
      "source": [
        "# if we need the representation of string then we use built in repr function\n",
        "print(mylines[0])\n",
        "print(repr(mylines[0])) # same as mylines[0] as the first last item\n",
        "mylines[0]"
      ]
    },
    {
      "cell_type": "code",
      "execution_count": null,
      "metadata": {
        "id": "adsm4RsChYpH",
        "outputId": "f4add9ec-415a-4b30-b9fe-9ee72d9e18f1"
      },
      "outputs": [
        {
          "data": {
            "text/plain": [
              "['Oh my text first line\\n',\n",
              " 'Super easy second line\\n',\n",
              " 'OH and third line is\\n']"
            ]
          },
          "execution_count": 26,
          "metadata": {},
          "output_type": "execute_result"
        }
      ],
      "source": [
        "mylines"
      ]
    },
    {
      "cell_type": "code",
      "execution_count": null,
      "metadata": {
        "id": "o8diAMwbhYpH",
        "outputId": "662f4d1d-a76d-4d0a-843e-e407bf4e2be9"
      },
      "outputs": [
        {
          "name": "stdout",
          "output_type": "stream",
          "text": [
            "My Line Is:Oh my text first line\n",
            "\n",
            "My Line Is:Super easy second line\n",
            "\n",
            "My Line Is:OH and third line is\n",
            "\n"
          ]
        }
      ],
      "source": [
        "# we go trough each line and do some work\n",
        "for line in mylines:\n",
        "    print(f'My Line Is:{line}')\n",
        "    # Do more work on lines"
      ]
    },
    {
      "cell_type": "code",
      "execution_count": null,
      "metadata": {
        "id": "E2G__N-MhYpH",
        "outputId": "738a9468-7708-4926-867b-4226d33db48d"
      },
      "outputs": [
        {
          "name": "stdout",
          "output_type": "stream",
          "text": [
            "Oh my text first line\n",
            "Super easy second line\n",
            "OH and third line is\n"
          ]
        }
      ],
      "source": [
        "# We can go throught the file directly (without reading the whole file into memory)\n",
        "fin.seek(0)\n",
        "# we can go through very large files here as long as it has many newlines\n",
        "for line in fin:\n",
        "    print(line, end='')"
      ]
    },
    {
      "cell_type": "code",
      "execution_count": null,
      "metadata": {
        "id": "1cFW6PXxhYpH",
        "outputId": "33ec41f9-b828-487f-9594-9720f7f430fa"
      },
      "outputs": [
        {
          "name": "stdout",
          "output_type": "stream",
          "text": [
            "Oh my text first line\n",
            "\n",
            "Super easy second line\n",
            "\n",
            "OH and third line is\n",
            "\n"
          ]
        }
      ],
      "source": [
        "for line in mylines:\n",
        "    print(line)"
      ]
    },
    {
      "cell_type": "code",
      "execution_count": null,
      "metadata": {
        "id": "Ytgh-yDRhYpI"
      },
      "outputs": [],
      "source": [
        "#close the file if you .open() it!!\n",
        "fin.close() \n",
        "# problem is that we can forget to close it and leave the file hanging so to say"
      ]
    },
    {
      "attachments": {},
      "cell_type": "markdown",
      "metadata": {
        "id": "HH9Z4K0nhYpI"
      },
      "source": [
        "## Use with open always! \n",
        "\n",
        "* closes automatically!\n",
        "* throws exceptions on errors"
      ]
    },
    {
      "cell_type": "code",
      "execution_count": null,
      "metadata": {
        "colab": {
          "base_uri": "https://localhost:8080/"
        },
        "id": "n-EzL_e4hYpI",
        "outputId": "a4051f2a-61b6-4bf2-d869-26cef43b136b"
      },
      "outputs": [
        {
          "name": "stdout",
          "output_type": "stream",
          "text": [
            "Robert Frost\n",
            "\n",
            "The Road not Taken\n",
            "\n",
            "\n",
            "\n",
            "Two roads diverged in a yellow wood,\n",
            "\n",
            "And sorry I could not travel both\n",
            "\n",
            "And be one traveler, long I stood\n",
            "\n",
            "And looked down one as far as I could\n",
            "\n",
            "To where it bent in the undergrowth;\n",
            "\n",
            "\n",
            "\n",
            "Then took the other, just as fair,\n",
            "\n",
            "And having perhaps the better claim,\n",
            "\n",
            "Because it was grassy and wanted wear;\n",
            "\n",
            "Though as for that the passing there\n",
            "\n",
            "Had worn them really about the same,\n",
            "\n",
            "\n",
            "\n",
            "3rd verse\n",
            "\n",
            "\n",
            "\n",
            "And both that morning equally lay\n",
            "\n",
            "In leaves, no step had trodden black.\n",
            "\n",
            "Oh, I kept the first for another day!\n",
            "\n",
            "Yet knowing how way leads on to way,\n",
            "\n",
            "I doubted if I should ever come back.\n",
            "\n",
            "\n",
            "\n",
            "4th verse\n",
            "\n",
            "\n",
            "\n",
            "I shall be telling this with a sigh\n",
            "\n",
            "Somewhere ages and ages hence:\n",
            "\n",
            "Two roads diverged in a wood, and I—\n",
            "\n",
            "I took the one less traveled by,\n",
            "\n",
            "And that has made all the difference.\n",
            "file is closed already here\n"
          ]
        }
      ],
      "source": [
        "# Idiom on how to open AND close a file for reading and doing work\n",
        "with open('two_roads.txt') as fin: # fin or f or file_in whatever name makes most sense, f is very common\n",
        "    for line in fin:\n",
        "        print(line)\n",
        "        # do wo with each line here,save into a list or other structure\n",
        "    # we can do more work with file here\n",
        "    # maybe fin.seek(0) to read it again for some reason\n",
        "    # File will be closed once this line ends\n",
        "# File is closed now    \n",
        "print(\"file is closed already here\")\n",
        "#closes here!\n",
        "#closes automatically!!! "
      ]
    },
    {
      "cell_type": "code",
      "execution_count": null,
      "metadata": {
        "colab": {
          "base_uri": "https://localhost:8080/",
          "height": 167
        },
        "id": "WbHfUkX7hYpI",
        "outputId": "2e83a8e1-e98a-41ce-dd83-40df81c70a57"
      },
      "outputs": [
        {
          "ename": "ValueError",
          "evalue": "ignored",
          "output_type": "error",
          "traceback": [
            "\u001b[0;31m---------------------------------------------------------------------------\u001b[0m",
            "\u001b[0;31mValueError\u001b[0m                                Traceback (most recent call last)",
            "\u001b[0;32m<ipython-input-22-93e8124b6791>\u001b[0m in \u001b[0;36m<module>\u001b[0;34m()\u001b[0m\n\u001b[0;32m----> 1\u001b[0;31m \u001b[0mfin\u001b[0m\u001b[0;34m.\u001b[0m\u001b[0mread\u001b[0m\u001b[0;34m(\u001b[0m\u001b[0;34m)\u001b[0m\u001b[0;34m\u001b[0m\u001b[0;34m\u001b[0m\u001b[0m\n\u001b[0m",
            "\u001b[0;31mValueError\u001b[0m: I/O operation on closed file."
          ]
        }
      ],
      "source": [
        "fin.read() # File is already Closed"
      ]
    },
    {
      "attachments": {},
      "cell_type": "markdown",
      "metadata": {
        "id": "lBVt7GI8hYpI"
      },
      "source": [
        "## For MacOS and Linux\n",
        "* use pwd to see where you are\n",
        "### myfile = open(\"/Users/MyUserName/SomeFolder/MaybeAnotherFolder/myfile.txt\")"
      ]
    },
    {
      "attachments": {},
      "cell_type": "markdown",
      "metadata": {
        "id": "Ykwrj10WhYpJ"
      },
      "source": [
        "## For Windows\n",
        "* use pwd to see where you are\n",
        "### myfile = open(\"C:\\\\Users\\\\MyUserName\\\\SomeFolder\\\\MaybeAnotherFolder\\\\myfile.txt\")"
      ]
    },
    {
      "cell_type": "code",
      "execution_count": null,
      "metadata": {
        "colab": {
          "base_uri": "https://localhost:8080/"
        },
        "id": "N_GMBNYIhYpJ",
        "outputId": "f4f81984-c74b-4f9f-dc10-b78a259e7368"
      },
      "outputs": [
        {
          "name": "stdout",
          "output_type": "stream",
          "text": [
            "mylib.py  __pycache__  sample_data  two_roads.txt\n"
          ]
        }
      ],
      "source": [
        "# Jupyter Magic !someOScommand for example !dir or !ls\n",
        "!dir"
      ]
    },
    {
      "cell_type": "code",
      "execution_count": null,
      "metadata": {
        "colab": {
          "base_uri": "https://localhost:8080/",
          "height": 35
        },
        "id": "b_5CxrkNhYpJ",
        "outputId": "f10329e4-1203-4d2a-ce09-6c9b27d46a29"
      },
      "outputs": [
        {
          "data": {
            "application/vnd.google.colaboratory.intrinsic+json": {
              "type": "string"
            },
            "text/plain": [
              "'/content'"
            ]
          },
          "execution_count": 24,
          "metadata": {},
          "output_type": "execute_result"
        }
      ],
      "source": [
        "pwd"
      ]
    },
    {
      "cell_type": "code",
      "execution_count": null,
      "metadata": {
        "id": "RNd7-qJjhYpJ"
      },
      "outputs": [],
      "source": [
        "# importing OS specific library for system work\n",
        "# idea being that we can do same on Windows/Mac/Linux and not worry about the OS\n",
        "import os"
      ]
    },
    {
      "cell_type": "code",
      "execution_count": null,
      "metadata": {
        "colab": {
          "base_uri": "https://localhost:8080/",
          "height": 35
        },
        "id": "Y9dyQ578hYpJ",
        "outputId": "c177fc96-7349-46ef-8d45-61073cd779cc"
      },
      "outputs": [
        {
          "data": {
            "application/vnd.google.colaboratory.intrinsic+json": {
              "type": "string"
            },
            "text/plain": [
              "'/content'"
            ]
          },
          "execution_count": 26,
          "metadata": {},
          "output_type": "execute_result"
        }
      ],
      "source": [
        "cwd = os.getcwd()\n",
        "cwd"
      ]
    },
    {
      "cell_type": "code",
      "execution_count": null,
      "metadata": {
        "colab": {
          "base_uri": "https://localhost:8080/"
        },
        "id": "gjkEMInshYpK",
        "outputId": "404f43e1-ed07-4099-9f4e-65efd69a2925"
      },
      "outputs": [
        {
          "data": {
            "text/plain": [
              "['.config',\n",
              " '__pycache__',\n",
              " 'mylib.py',\n",
              " '.ipynb_checkpoints',\n",
              " 'two_roads.txt',\n",
              " 'sample_data']"
            ]
          },
          "execution_count": 27,
          "metadata": {},
          "output_type": "execute_result"
        }
      ],
      "source": [
        "myfiles = os.listdir() # so this gives you a list of file names in your current directory\n",
        "myfiles"
      ]
    },
    {
      "cell_type": "code",
      "execution_count": null,
      "metadata": {
        "id": "tpA4mQHKhYpK",
        "outputId": "20b9c1da-e6df-48a5-bce4-e1db0e843ff7"
      },
      "outputs": [
        {
          "data": {
            "text/plain": [
              "['somefile.txt']"
            ]
          },
          "execution_count": 44,
          "metadata": {},
          "output_type": "execute_result"
        }
      ],
      "source": [
        "mytextfiles = [fname for fname in myfiles if fname.endswith(\".txt\")]\n",
        "mytextfiles"
      ]
    },
    {
      "attachments": {},
      "cell_type": "markdown",
      "metadata": {
        "id": "AR8W2IbRhYpK"
      },
      "source": [
        "# absolute paths and relative paths"
      ]
    },
    {
      "cell_type": "code",
      "execution_count": null,
      "metadata": {
        "id": "mMxtLXwGhYpK",
        "outputId": "1a87bba2-eacd-4dce-abe8-8865688cc3d2"
      },
      "outputs": [
        {
          "data": {
            "text/plain": [
              "'C:\\\\Users\\\\liga\\\\Github\\\\RTU_Python_720_Fall_2020\\\\core'"
            ]
          },
          "execution_count": 45,
          "metadata": {},
          "output_type": "execute_result"
        }
      ],
      "source": [
        "cwd # so that is my absolute path for current working directory"
      ]
    },
    {
      "cell_type": "code",
      "execution_count": null,
      "metadata": {
        "id": "B3IiT0YQhYpL",
        "outputId": "d281a059-51de-40e9-9b84-810eb32bee80"
      },
      "outputs": [
        {
          "name": "stdout",
          "output_type": "stream",
          "text": [
            "Oh my text first line\n",
            "\n",
            "Super easy second line\n",
            "\n",
            "OH and third line is\n",
            "\n"
          ]
        }
      ],
      "source": [
        "# absolute path using cw\n",
        "with open(cwd+'\\\\somefile.txt') as f:\n",
        "    for line in f:\n",
        "        print(line)"
      ]
    },
    {
      "cell_type": "code",
      "execution_count": null,
      "metadata": {
        "id": "xGbHC9p9hYpL",
        "outputId": "7c358e3e-b4ef-494e-f6af-1f237c140c12"
      },
      "outputs": [
        {
          "data": {
            "text/plain": [
              "'C:\\\\Users\\\\liga\\\\Github\\\\RTU_Python_720_Fall_2020\\\\core\\\\somefile.txt'"
            ]
          },
          "execution_count": 47,
          "metadata": {},
          "output_type": "execute_result"
        }
      ],
      "source": [
        "# join path no mater what OS we have\n",
        "# meaning it will do / for Mac and Linux and \\\\ for Windows\n",
        "fullpath = os.path.join(cwd, 'somefile.txt')\n",
        "fullpath"
      ]
    },
    {
      "cell_type": "code",
      "execution_count": null,
      "metadata": {
        "id": "355IyN0ihYpL",
        "outputId": "dcc994c4-4729-4c8d-c2ee-9d2497f2885c"
      },
      "outputs": [
        {
          "data": {
            "text/plain": [
              "'C:\\\\Users\\\\liga\\\\Github\\\\RTU_Python_720_Fall_2020\\\\core\\\\myimages\\\\catpictures\\\\mycat.png'"
            ]
          },
          "execution_count": 48,
          "metadata": {},
          "output_type": "execute_result"
        }
      ],
      "source": [
        "os.path.join(os.getcwd(), \"myimages\", \"catpictures\", \"mycat.png\")"
      ]
    },
    {
      "cell_type": "code",
      "execution_count": null,
      "metadata": {
        "id": "hox4-AFlhYpL",
        "outputId": "ea279947-579f-4ad7-aa12-73129ddf39ca"
      },
      "outputs": [
        {
          "data": {
            "text/plain": [
              "'C:\\\\Users\\\\liga\\\\Github\\\\RTU_Python_720_Fall_2020\\\\core\\\\somefile.txt'"
            ]
          },
          "execution_count": 49,
          "metadata": {},
          "output_type": "execute_result"
        }
      ],
      "source": [
        "os.path.join(os.getcwd(), 'somefile.txt')"
      ]
    },
    {
      "cell_type": "code",
      "execution_count": null,
      "metadata": {
        "id": "aKsUaqV-hYpL",
        "outputId": "3b4b9e9c-eb8c-4632-c917-71f807e45dd8"
      },
      "outputs": [
        {
          "name": "stdout",
          "output_type": "stream",
          "text": [
            "Oh my text first line\n",
            "\n",
            "Super easy second line\n",
            "\n",
            "OH and third line is\n",
            "\n"
          ]
        }
      ],
      "source": [
        "# i get the current working directory and join the file path\n",
        "with open(os.path.join(os.getcwd(), 'somefile.txt')) as f:\n",
        "    for line in f:\n",
        "        print(line)"
      ]
    },
    {
      "cell_type": "code",
      "execution_count": null,
      "metadata": {
        "id": "ElhqtvrNhYpL",
        "outputId": "341aa897-07d9-4763-ecae-bb2f6bc7e734"
      },
      "outputs": [
        {
          "data": {
            "text/plain": [
              "11549"
            ]
          },
          "execution_count": 51,
          "metadata": {},
          "output_type": "execute_result"
        }
      ],
      "source": [
        "# this is a relative path\n",
        "# on a relative path we are going back one level with ..\n",
        "# then we enter a sister/brother folder data\n",
        "# and read the file from there\n",
        "# with relative paths we do not have to worry about the outside world so much\n",
        "# that is what kind of folder structure is outside our project\n",
        "with open('../data/veidenbaums_clean.txt', encoding='UTF-8') as f:\n",
        "    mytext = f.read()\n",
        "len(mytext)"
      ]
    },
    {
      "cell_type": "code",
      "execution_count": null,
      "metadata": {
        "id": "jtjwBwCHhYpM"
      },
      "outputs": [],
      "source": [
        "afile = \"../data/alice.txt\""
      ]
    },
    {
      "cell_type": "code",
      "execution_count": null,
      "metadata": {
        "id": "q0yKAAY1hYpM",
        "outputId": "3e455893-c0cc-4267-d31f-1fab454e99e5"
      },
      "outputs": [
        {
          "name": "stdout",
          "output_type": "stream",
          "text": [
            "164410 Characters\n"
          ]
        }
      ],
      "source": [
        "with open(afile, encoding=\"utf-8\") as f:\n",
        "    whole_alice = f.read()\n",
        "print(len(whole_alice), \"Characters\")"
      ]
    },
    {
      "cell_type": "code",
      "execution_count": null,
      "metadata": {
        "id": "UEZn4UIihYpM",
        "outputId": "31feecc7-3f73-43ee-edc1-abba39e3cffa"
      },
      "outputs": [
        {
          "data": {
            "text/plain": [
              "'\\ufeffThe Project Gutenberg EBook of Alice’s Adventures in Wonderland, by Lewis Carroll\\n\\nThis eBook is fo'"
            ]
          },
          "execution_count": 56,
          "metadata": {},
          "output_type": "execute_result"
        }
      ],
      "source": [
        "whole_alice[:100]"
      ]
    },
    {
      "cell_type": "code",
      "execution_count": null,
      "metadata": {
        "id": "Tv0vipvqhYpM"
      },
      "outputs": [],
      "source": [
        "afile = \"two_roads.txt\"\n",
        "to_find = \"roads\""
      ]
    },
    {
      "cell_type": "code",
      "execution_count": null,
      "metadata": {
        "colab": {
          "base_uri": "https://localhost:8080/"
        },
        "id": "N1LE5Um_hYpM",
        "outputId": "4dcf16f4-ba71-476c-8e58-3bddd6ab48d6"
      },
      "outputs": [
        {
          "name": "stdout",
          "output_type": "stream",
          "text": [
            "2 lines with roads\n"
          ]
        }
      ],
      "source": [
        "lines_to_keep = []\n",
        "with open(afile, encoding=\"utf-8\") as f:\n",
        "    for line in f:\n",
        "        if to_find in line:\n",
        "            lines_to_keep.append(line)\n",
        "# file is closed here already\n",
        "print(len(lines_to_keep), f\"lines with {to_find}\")"
      ]
    },
    {
      "cell_type": "code",
      "execution_count": null,
      "metadata": {
        "colab": {
          "base_uri": "https://localhost:8080/"
        },
        "id": "fWzHFkwPqIg7",
        "outputId": "618c5060-c730-4639-972e-dccfc8e674f1"
      },
      "outputs": [
        {
          "data": {
            "text/plain": [
              "['Two roads diverged in a yellow wood,\\n',\n",
              " 'Two roads diverged in a wood, and I—\\n']"
            ]
          },
          "execution_count": 32,
          "metadata": {},
          "output_type": "execute_result"
        }
      ],
      "source": [
        "lines_to_keep"
      ]
    },
    {
      "cell_type": "code",
      "execution_count": null,
      "metadata": {
        "colab": {
          "base_uri": "https://localhost:8080/"
        },
        "id": "qW9Imrd5qPfp",
        "outputId": "37ae3443-8c42-4d99-e67e-9e93936562e2"
      },
      "outputs": [
        {
          "data": {
            "text/plain": [
              "['Robert Frost\\n',\n",
              " 'The Road not Taken\\n',\n",
              " '\\n',\n",
              " 'Two roads diverged in a yellow wood,\\n',\n",
              " 'And sorry I could not travel both\\n']"
            ]
          },
          "execution_count": 33,
          "metadata": {},
          "output_type": "execute_result"
        }
      ],
      "source": [
        "with open(afile, encoding=\"utf-8\") as f:\n",
        "    all_lines = f.readlines() # so have all the text saved in a list one row per list item\n",
        "all_lines[:5]"
      ]
    },
    {
      "cell_type": "code",
      "execution_count": null,
      "metadata": {
        "colab": {
          "base_uri": "https://localhost:8080/"
        },
        "id": "RFMjDHRTqub6",
        "outputId": "db56866e-ed58-4acb-bf96-992a8168f15f"
      },
      "outputs": [
        {
          "data": {
            "text/plain": [
              "['I shall be telling this with a sigh\\n',\n",
              " 'Somewhere ages and ages hence:\\n',\n",
              " 'Two roads diverged in a wood, and I—\\n',\n",
              " 'I took the one less traveled by,\\n',\n",
              " 'And that has made all the difference.']"
            ]
          },
          "execution_count": 34,
          "metadata": {},
          "output_type": "execute_result"
        }
      ],
      "source": [
        "all_lines[-5:]"
      ]
    },
    {
      "cell_type": "code",
      "execution_count": null,
      "metadata": {
        "colab": {
          "base_uri": "https://localhost:8080/"
        },
        "id": "46ZsLKhjqyX9",
        "outputId": "8ab23299-64f2-4d7c-a7ff-bd9aa044b637"
      },
      "outputs": [
        {
          "name": "stdout",
          "output_type": "stream",
          "text": [
            "['I shall be telling this with a sigh\\n', 'Somewhere ages and ages hence:\\n', 'Two roads diverged in a wood, and I—\\n', 'I took the one less traveled by,\\n', 'And that has made all the difference.']\n"
          ]
        }
      ],
      "source": [
        "with open(afile) as f:\n",
        "    lines_without_coding = f.readlines() # so have all the text saved in a list one row per list item\n",
        "print(lines_without_coding[-5:])"
      ]
    },
    {
      "cell_type": "code",
      "execution_count": null,
      "metadata": {
        "id": "tgBPLBSnhYpM"
      },
      "outputs": [],
      "source": [
        "good_words = [\"wood\", \"road\"]\n",
        "mytext = \"Yellow rabbit jumped over a brown Rabbit on a road indeed\""
      ]
    },
    {
      "cell_type": "code",
      "execution_count": null,
      "metadata": {
        "colab": {
          "base_uri": "https://localhost:8080/"
        },
        "id": "YQ5f_7b5hYpN",
        "outputId": "5f7752f6-ff83-42e8-8af4-a6d3fd751c82"
      },
      "outputs": [
        {
          "data": {
            "text/plain": [
              "True"
            ]
          },
          "execution_count": 38,
          "metadata": {},
          "output_type": "execute_result"
        }
      ],
      "source": [
        "# any is similar idea to existential quantor in logic\n",
        "# https://en.wikipedia.org/wiki/Existential_quantification#:~:text=In%20predicate%20logic%2C%20an%20existential,%2C%20or%20%22for%20some%22.\n",
        "any(word in mytext for word in good_words ) # to check if any(1 or more words from my good_words list are in mytext"
      ]
    },
    {
      "cell_type": "code",
      "execution_count": null,
      "metadata": {
        "colab": {
          "base_uri": "https://localhost:8080/"
        },
        "id": "EZrmCfywhYpN",
        "outputId": "d0310bb3-0f84-48d2-c0f8-81712c2822dd"
      },
      "outputs": [
        {
          "data": {
            "text/plain": [
              "False"
            ]
          },
          "execution_count": 39,
          "metadata": {},
          "output_type": "execute_result"
        }
      ],
      "source": [
        "# https://en.wikipedia.org/wiki/Universal_quantification\n",
        "all(word in mytext for word in good_words ) # same BUt needs ALL to be in the the text"
      ]
    },
    {
      "cell_type": "code",
      "execution_count": null,
      "metadata": {
        "colab": {
          "base_uri": "https://localhost:8080/"
        },
        "id": "5diMoSXXhYpN",
        "outputId": "9873d621-2a9e-47a3-e26e-7f42281e34e8"
      },
      "outputs": [
        {
          "name": "stdout",
          "output_type": "stream",
          "text": [
            "3 lines with ['morning', 'road', 'wood']\n"
          ]
        }
      ],
      "source": [
        "good_words = [\"morning\", \"road\", \"wood\"]\n",
        "lines_to_keep = [] # start with a blank list\n",
        "with open(afile, encoding=\"utf-8\") as f:\n",
        "    for line in f:\n",
        "        if any(word in line for word in good_words):\n",
        "            lines_to_keep.append(line)\n",
        "# file is closed here already\n",
        "print(len(lines_to_keep), f\"lines with {good_words}\")"
      ]
    },
    {
      "cell_type": "code",
      "execution_count": null,
      "metadata": {
        "colab": {
          "base_uri": "https://localhost:8080/"
        },
        "id": "vB9-WAC4hYpN",
        "outputId": "49b831a1-6207-452c-efb1-ce41dced64c5"
      },
      "outputs": [
        {
          "data": {
            "text/plain": [
              "['Two roads diverged in a yellow wood,\\n',\n",
              " 'And both that morning equally lay\\n',\n",
              " 'Two roads diverged in a wood, and I—\\n']"
            ]
          },
          "execution_count": 41,
          "metadata": {},
          "output_type": "execute_result"
        }
      ],
      "source": [
        "lines_to_keep[:10]"
      ]
    },
    {
      "cell_type": "code",
      "execution_count": null,
      "metadata": {
        "id": "qzRSQX23hYpN"
      },
      "outputs": [],
      "source": [
        "def get_filtered_list(fname, good_words=()):\n",
        "    lines_to_keep = []\n",
        "    with open(afile, encoding=\"utf-8\") as f:\n",
        "        for line in f: # we go through file line by line\n",
        "            if any(word in line for word in good_words):\n",
        "                lines_to_keep.append(line)\n",
        "    # file is closed here already\n",
        "    print(len(lines_to_keep), f\"lines with {good_words}\")\n",
        "    return lines_to_keep"
      ]
    },
    {
      "cell_type": "code",
      "execution_count": null,
      "metadata": {
        "colab": {
          "base_uri": "https://localhost:8080/"
        },
        "id": "5Gc-7nUnhYpN",
        "outputId": "d127b9d6-2fc7-4c94-f081-b626919691d3"
      },
      "outputs": [
        {
          "name": "stdout",
          "output_type": "stream",
          "text": [
            "2 lines with ['ages', 'grassy', 'Riga']\n"
          ]
        },
        {
          "data": {
            "text/plain": [
              "['Because it was grassy and wanted wear;\\n',\n",
              " 'Somewhere ages and ages hence:\\n']"
            ]
          },
          "execution_count": 43,
          "metadata": {},
          "output_type": "execute_result"
        }
      ],
      "source": [
        "ages_grassy_list = get_filtered_list(afile, good_words=[\"ages\", \"grassy\", \"Riga\"])\n",
        "ages_grassy_list"
      ]
    },
    {
      "cell_type": "code",
      "execution_count": null,
      "metadata": {
        "id": "FL_hvhPbtFaD"
      },
      "outputs": [],
      "source": [
        "with open(\"ages_grassy.txt\", mode=\"w\", encoding=\"utf-8\") as fwriter:\n",
        "    fwriter.writelines(ages_grassy_list)\n"
      ]
    },
    {
      "cell_type": "code",
      "execution_count": null,
      "metadata": {
        "colab": {
          "base_uri": "https://localhost:8080/",
          "height": 52
        },
        "id": "7q9hgDNPsdip",
        "outputId": "5ceb4aff-39cb-47e5-9bae-4c390b945a4d"
      },
      "outputs": [
        {
          "data": {
            "application/vnd.google.colaboratory.intrinsic+json": {
              "type": "string"
            },
            "text/plain": [
              "'Robert Frost\\nThe Road not Taken\\n\\nTwo roads diverged in a yellow wood,\\nAnd sorry I could not travel b'"
            ]
          },
          "execution_count": 44,
          "metadata": {},
          "output_type": "execute_result"
        }
      ],
      "source": [
        "with open(afile, encoding=\"utf-8\") as f: # f could be anything else \n",
        "    full_text = f.read() # so I ingest the whole text at once\n",
        "full_text[:100]"
      ]
    },
    {
      "cell_type": "code",
      "execution_count": null,
      "metadata": {
        "colab": {
          "base_uri": "https://localhost:8080/"
        },
        "id": "WK78IXSlsqCW",
        "outputId": "d0a5ada3-b424-4f55-849b-891fa1bd0746"
      },
      "outputs": [
        {
          "data": {
            "text/plain": [
              "['Robert Frost',\n",
              " 'The Road not Taken',\n",
              " '',\n",
              " 'Two roads diverged in a yellow wood,',\n",
              " 'And sorry I could not travel both']"
            ]
          },
          "execution_count": 45,
          "metadata": {},
          "output_type": "execute_result"
        }
      ],
      "source": [
        "lines_from_full_text = full_text.split(\"\\n\") # usually we would use read lines instead\n",
        "lines_from_full_text[:5]"
      ]
    },
    {
      "cell_type": "code",
      "execution_count": null,
      "metadata": {
        "id": "JjslFr2ptcjR"
      },
      "outputs": [],
      "source": [
        "# if i do not have newlines I will need to add them myself\n",
        "with open(\"first_5_lines.txt\", mode=\"w\", encoding=\"utf-8\") as f:\n",
        "    # f.writelines(lines_from_full_text[:5])\n",
        "    # one way to fix it is to join the lines together with newline symbol \\n\n",
        "    f.write(\"\\n\\n\".join(lines_from_full_text[:5])) # now I will add an extra empty line under each line"
      ]
    },
    {
      "cell_type": "code",
      "execution_count": null,
      "metadata": {
        "id": "3kAvL2zUuLxY"
      },
      "outputs": [],
      "source": [
        "# with mode=\"w\" each time I overwrite the old file\n",
        "# the other option is to append at the end of an existing file\n",
        "# NOTE: there is no way to insert at the beginning or middle without overwriting the whole "
      ]
    },
    {
      "cell_type": "code",
      "execution_count": null,
      "metadata": {
        "id": "baW3i80vuek1"
      },
      "outputs": [],
      "source": [
        "# so we use mode=\"w\" to append to an existing text file\n",
        "with open(\"ages_grassy.txt\", mode=\"a\", encoding=\"utf-8\") as f:\n",
        "    f.write(\"Why hello mom, I am appending!\\nTwo Lines even\\n\")\n",
        "    f.writelines(lines_to_keep)"
      ]
    },
    {
      "cell_type": "code",
      "execution_count": null,
      "metadata": {
        "id": "G20z2vmvu_Vj"
      },
      "outputs": [],
      "source": [
        "# typical workflow for smaller files (up to a couple million rows)\n",
        "my_file_name = \"two_roads.txt\"\n",
        "out_file = \"two_roads_filtered.txt\"\n",
        "with open(my_file_name, encoding=\"utf-8\") as f:\n",
        "    my_lines = f.readlines()\n",
        "# file is closed\n",
        "# now my_lines is just a list of strings\n",
        "# do whatever text processing you want and analysis\n",
        "my_filtered_lines = [line for line in my_lines if \"road\" in line]\n",
        "# i could do more processing here\n",
        "\n",
        "with open(out_file, mode=\"w\", encoding=\"utf-8\") as f: # new f\n",
        "    f.write(\"Just a header of my own choosing\\n\") # note the newline\n",
        "    f.writelines(my_filtered_lines)"
      ]
    },
    {
      "cell_type": "code",
      "execution_count": null,
      "metadata": {
        "id": "Ma19_w79wrUG"
      },
      "outputs": [],
      "source": [
        "# if you have to process huge files (Gigabytes in size or even Terabytes)\n",
        "# then we need a different and we open both reader and writer streams at once\n",
        "# and process the incoming file one row(line) at a time\n",
        "my_file_name = \"two_roads.txt\"\n",
        "out_file = \"two_roads_filtered.txt\"\n",
        "with open(my_file_name, encoding=\"utf-8\") as fin, open(out_file, mode=\"w\", encoding=\"utf-8\") as fout:\n",
        "    fout.write(\"I could add a header here if I wish\\n\")\n",
        "    for row in fin: # we go through each line of a the incoming file\n",
        "        if \"road\" in row:  #just a simple filter but you can use regular experession and stronger filters\n",
        "            fout.write(row)\n",
        "    fout.write(\"I can write a footer as well\\n(C)2022\")\n",
        "# this approach will work even on huge files that do not fit in your computer memory"
      ]
    },
    {
      "cell_type": "code",
      "execution_count": null,
      "metadata": {
        "id": "8I1nxY9AhYpN",
        "outputId": "2e27dd75-ce2a-46f8-d721-736c6a10e401"
      },
      "outputs": [
        {
          "data": {
            "text/plain": [
              "[' CHAPTER VIII.  The Queen’s Croquet-Ground\\n',\n",
              " 'Queen to play croquet.” The Frog-Footman repeated, in the same solemn\\n',\n",
              " 'tone, only changing the order of the words a little, “From the Queen.\\n',\n",
              " 'croquet with the Queen,” and she hurried out of the room. The cook\\n',\n",
              " 'Queen to-day?”\\n',\n",
              " 'given by the Queen of Hearts, and I had to sing\\n',\n",
              " 'Queen jumped up and bawled out, ‘He’s murdering the time! Off with his\\n',\n",
              " 'The Queen’s Croquet-Ground\\n',\n",
              " '“_You’d_ better not talk!” said Five. “I heard the Queen say only\\n',\n",
              " '_red_ rose-tree, and we put a white one in by mistake; and if the Queen\\n',\n",
              " 'out “The Queen! The Queen!” and the three gardeners instantly threw\\n',\n",
              " 'and Alice looked round, eager to see the Queen.\\n',\n",
              " 'ornamented with hearts. Next came the guests, mostly Kings and Queens,\\n',\n",
              " 'at her, and the Queen said severely “Who is this?” She said it to the\\n',\n",
              " '“Idiot!” said the Queen, tossing her head impatiently; and, turning to\\n',\n",
              " '“And who are _these?_” said the Queen, pointing to the three gardeners\\n',\n",
              " 'The Queen turned crimson with fury, and, after glaring at her for a\\n',\n",
              " '“Nonsense!” said Alice, very loudly and decidedly, and the Queen was\\n',\n",
              " 'The Queen turned angrily away from him, and said to the Knave “Turn\\n',\n",
              " '“Get up!” said the Queen, in a shrill, loud voice, and the three\\n',\n",
              " 'gardeners instantly jumped up, and began bowing to the King, the Queen,\\n',\n",
              " '“Leave off that!” screamed the Queen. “You make me giddy.” And then,\\n',\n",
              " '“_I_ see!” said the Queen, who had meanwhile been examining the roses.\\n',\n",
              " '“Are their heads off?” shouted the Queen.\\n',\n",
              " '“That’s right!” shouted the Queen. “Can you play croquet?”\\n',\n",
              " '“Come on, then!” roared the Queen, and Alice joined the procession,\\n',\n",
              " '“She boxed the Queen’s ears—” the Rabbit began. Alice gave a little\\n',\n",
              " 'tone. “The Queen will hear you! You see, she came rather late, and the\\n',\n",
              " 'Queen said—”\\n',\n",
              " '“Get to your places!” shouted the Queen in a voice of thunder, and\\n',\n",
              " 'the Queen was in a furious passion, and went stamping about, and\\n',\n",
              " 'dispute with the Queen, but she knew that it might happen any minute,\\n',\n",
              " 'ground—and I should have croqueted the Queen’s hedgehog just now, only\\n',\n",
              " '“How do you like the Queen?” said the Cat in a low voice.\\n',\n",
              " 'that the Queen was close behind her, listening: so she went on,\\n',\n",
              " 'The Queen smiled and passed on.\\n',\n",
              " '“A cat may look at a king,” said Alice. “I’ve read that in some book,\\n',\n",
              " 'the Queen, who was passing at the moment, “My dear! I wish you would\\n',\n",
              " 'The Queen had only one way of settling all difficulties, great or\\n',\n",
              " 'on, as she heard the Queen’s voice in the distance, screaming with\\n',\n",
              " 'the executioner, the King, and the Queen, who were all talking at once,\\n',\n",
              " 'The Queen’s argument was, that if something wasn’t done about it in\\n',\n",
              " '“She’s in prison,” the Queen said to the executioner: “fetch her here.”\\n',\n",
              " 'Queen in front of them, with her arms folded, frowning like a\\n',\n",
              " '“Now, I give you fair warning,” shouted the Queen, stamping on the\\n',\n",
              " '“Let’s go on with the game,” the Queen said to Alice; and Alice was too\\n',\n",
              " 'The other guests had taken advantage of the Queen’s absence, and were\\n',\n",
              " 'back to the game, the Queen merely remarking that a moment’s delay\\n',\n",
              " 'All the time they were playing the Queen never left off quarrelling\\n',\n",
              " 'all the players, except the King, the Queen, and Alice, were in custody\\n',\n",
              " 'Then the Queen left off, quite out of breath, and said to Alice, “Have\\n',\n",
              " '“It’s the thing Mock Turtle Soup is made from,” said the Queen.\\n',\n",
              " '“Come on, then,” said the Queen, “and he shall tell you his history,”\\n',\n",
              " 'number of executions the Queen had ordered.\\n',\n",
              " 'thing!” said the Queen, “and take this young lady to see the Mock\\n',\n",
              " 'as to go after that savage Queen: so she waited.\\n',\n",
              " 'The Gryphon sat up and rubbed its eyes: then it watched the Queen till\\n',\n",
              " 'The King and Queen of Hearts were seated on their throne when they\\n',\n",
              " '“The Queen of Hearts, she made some tarts,\\n',\n",
              " 'Here the Queen put on her spectacles, and began staring at the Hatter,\\n',\n",
              " 'from one foot to the other, looking uneasily at the Queen, and in his\\n',\n",
              " 'All this time the Queen had never left off staring at the Hatter, and,\\n',\n",
              " 'the Queen, who was reading the list of singers.\\n',\n",
              " '“—and just take his head off outside,” the Queen added to one of the\\n',\n",
              " '“Collar that Dormouse,” the Queen shrieked out. “Behead that Dormouse!\\n',\n",
              " 'next witness.” And he added in an undertone to the Queen, “Really, my\\n',\n",
              " '“Nearly two miles high,” added the Queen.\\n',\n",
              " '“What’s in it?” said the Queen.\\n',\n",
              " '“That _proves_ his guilt,” said the Queen.\\n',\n",
              " 'think?” he said to the Queen.\\n',\n",
              " '“Never!” said the Queen furiously, throwing an inkstand at the Lizard\\n',\n",
              " '“No, no!” said the Queen. “Sentence first—verdict afterwards.”\\n',\n",
              " '“Hold your tongue!” said the Queen, turning purple.\\n',\n",
              " '“Off with her head!” the Queen shouted at the top of her voice. Nobody\\n',\n",
              " 'shared their never-ending meal, and the shrill voice of the Queen\\n',\n",
              " 'teacups would change to tinkling sheep-bells, and the Queen’s shrill\\n']"
            ]
          },
          "execution_count": 77,
          "metadata": {},
          "output_type": "execute_result"
        }
      ],
      "source": [
        "queen"
      ]
    },
    {
      "cell_type": "code",
      "execution_count": null,
      "metadata": {
        "id": "66m4iJp3hYpO"
      },
      "outputs": [],
      "source": [
        "with open(\"alice_queen.txt\", mode=\"w\", encoding=\"utf-8\") as f:\n",
        "    f.writelines(queen)\n",
        "# remember here file is already closed"
      ]
    },
    {
      "cell_type": "code",
      "execution_count": null,
      "metadata": {
        "id": "tXPvdmflhYpO",
        "outputId": "2abc5cbe-8b90-4946-c2c5-29a104983f82"
      },
      "outputs": [
        {
          "name": "stdout",
          "output_type": "stream",
          "text": [
            "Oh my text first line\n",
            "Super easy second line\n",
            "OH and third line is\n",
            "\n"
          ]
        }
      ],
      "source": [
        "\n",
        "with open('C:\\\\Users\\\\val-p1\\\\Github\\\\RCS_Data_Analysis_Python_2019_July\\\\somefile.txt', mode='r') as fin:\n",
        "    cont = fin.read()\n",
        "print(cont)\n",
        "#?open"
      ]
    },
    {
      "cell_type": "code",
      "execution_count": null,
      "metadata": {
        "id": "gDViawymhYpO"
      },
      "outputs": [],
      "source": [
        "def get_good_not_bad(fname, good_words=(), bad_words=()):\n",
        "    lines_to_keep = []\n",
        "    with open(afile, encoding=\"utf-8\") as f:\n",
        "        for line in f: # we go through file line by line\n",
        "            if any(word in line for word in good_words) and not any(word in line for word in bad_words):\n",
        "                lines_to_keep.append(line)\n",
        "    # file is closed here already\n",
        "    print(len(lines_to_keep), f\"lines with {good_words} and none with {bad_words}\")\n",
        "    return lines_to_keep"
      ]
    },
    {
      "cell_type": "code",
      "execution_count": null,
      "metadata": {
        "id": "CpRKaBdihYpO",
        "outputId": "df7d1957-f1a0-4cb9-b616-9fff4a7c7d24"
      },
      "outputs": [
        {
          "data": {
            "text/plain": [
              "['rabbit', 'Rabbit', 'Alice']"
            ]
          },
          "execution_count": 82,
          "metadata": {},
          "output_type": "execute_result"
        }
      ],
      "source": [
        "good_words"
      ]
    },
    {
      "cell_type": "code",
      "execution_count": null,
      "metadata": {
        "id": "-pCibTW3hYpO"
      },
      "outputs": [],
      "source": [
        "bad_words = [\" and \", \" or \"]"
      ]
    },
    {
      "cell_type": "code",
      "execution_count": null,
      "metadata": {
        "id": "EaQqREZBhYpO",
        "outputId": "a7248473-f16c-4f40-b43d-3edb7137a173"
      },
      "outputs": [
        {
          "name": "stdout",
          "output_type": "stream",
          "text": [
            "0 lines with ()\n"
          ]
        },
        {
          "data": {
            "text/plain": [
              "[]"
            ]
          },
          "execution_count": 84,
          "metadata": {},
          "output_type": "execute_result"
        }
      ],
      "source": [
        "filtered_lines = get_good_not_bad(afile) # what happens with default values?\n",
        "filtered_lines"
      ]
    },
    {
      "cell_type": "code",
      "execution_count": null,
      "metadata": {
        "id": "wrQanfeKhYpO",
        "outputId": "5aca754c-f26d-4b2d-a778-daf6b94be0d4"
      },
      "outputs": [
        {
          "name": "stdout",
          "output_type": "stream",
          "text": [
            "445 lines with ['rabbit', 'Rabbit', 'Alice'] and none with ()\n"
          ]
        }
      ],
      "source": [
        "filtered_lines = get_good_not_bad(afile, good_words=good_words)"
      ]
    },
    {
      "cell_type": "code",
      "execution_count": null,
      "metadata": {
        "id": "KBACY3evhYpP",
        "outputId": "8c2f9b12-8d2b-43d0-a3fa-a5ed2c1c81b2"
      },
      "outputs": [
        {
          "name": "stdout",
          "output_type": "stream",
          "text": [
            "361 lines with ['rabbit', 'Rabbit', 'Alice'] and none with [' and ', ' or ']\n"
          ]
        }
      ],
      "source": [
        "filtered_lines = get_good_not_bad(afile, good_words=good_words, bad_words=bad_words)"
      ]
    },
    {
      "cell_type": "code",
      "execution_count": null,
      "metadata": {
        "id": "02pv8G0ghYpP",
        "outputId": "4af73862-be0b-41f7-d950-9670f6fd17b3"
      },
      "outputs": [
        {
          "data": {
            "text/plain": [
              "['\\ufeffThe Project Gutenberg EBook of Alice’s Adventures in Wonderland, by Lewis Carroll\\n',\n",
              " 'Title: Alice’s Adventures in Wonderland\\n',\n",
              " 'Alice’s Adventures in Wonderland\\n',\n",
              " ' CHAPTER I.     Down the Rabbit-Hole\\n',\n",
              " ' CHAPTER IV.    The Rabbit Sends in a Little Bill\\n',\n",
              " ' CHAPTER XII.   Alice’s Evidence\\n',\n",
              " 'Down the Rabbit-Hole\\n',\n",
              " 'Alice was beginning to get very tired of sitting by her sister on the\\n',\n",
              " 'conversations in it, “and what is the use of a book,” thought Alice\\n',\n",
              " 'picking the daisies, when suddenly a White Rabbit with pink eyes ran\\n',\n",
              " 'There was nothing so _very_ remarkable in that; nor did Alice think it\\n',\n",
              " 'so _very_ much out of the way to hear the Rabbit say to itself, “Oh\\n',\n",
              " 'time it all seemed quite natural); but when the Rabbit actually _took a\\n',\n",
              " 'on, Alice started to her feet, for it flashed across her mind that she\\n',\n",
              " 'large rabbit-hole under the hedge.\\n',\n",
              " 'In another moment down went Alice after it, never once considering how\\n',\n",
              " 'dipped suddenly down, so suddenly that Alice had not a moment to think\\n',\n",
              " '“Well!” thought Alice to herself, “after such a fall as this, I shall\\n',\n",
              " 'be four thousand miles down, I think—” (for, you see, Alice had learnt\\n',\n",
              " 'Down, down, down. There was nothing else to do, so Alice soon began\\n']"
            ]
          },
          "execution_count": 89,
          "metadata": {},
          "output_type": "execute_result"
        }
      ],
      "source": [
        "filtered_lines[:20]"
      ]
    },
    {
      "cell_type": "code",
      "execution_count": null,
      "metadata": {
        "id": "zuxCYpCchYpP",
        "outputId": "1d1d4db2-413f-4d9f-8ab7-3aaa9307f7f5"
      },
      "outputs": [
        {
          "name": "stdout",
          "output_type": "stream",
          "text": [
            "24 lines with ['CHAPTER'] and none with ()\n"
          ]
        }
      ],
      "source": [
        "filtered_lines = get_good_not_bad(afile, good_words=[\"CHAPTER\"])"
      ]
    },
    {
      "cell_type": "code",
      "execution_count": null,
      "metadata": {
        "id": "UIuZ97RKhYpP",
        "outputId": "31e72619-af0e-4534-ea6b-9b1b3ee08369"
      },
      "outputs": [
        {
          "data": {
            "text/plain": [
              "[' CHAPTER I.     Down the Rabbit-Hole\\n',\n",
              " ' CHAPTER II.    The Pool of Tears\\n',\n",
              " ' CHAPTER III.   A Caucus-Race and a Long Tale\\n',\n",
              " ' CHAPTER IV.    The Rabbit Sends in a Little Bill\\n',\n",
              " ' CHAPTER V.     Advice from a Caterpillar\\n',\n",
              " ' CHAPTER VI.    Pig and Pepper\\n',\n",
              " ' CHAPTER VII.   A Mad Tea-Party\\n',\n",
              " ' CHAPTER VIII.  The Queen’s Croquet-Ground\\n',\n",
              " ' CHAPTER IX.    The Mock Turtle’s Story\\n',\n",
              " ' CHAPTER X.     The Lobster Quadrille\\n',\n",
              " ' CHAPTER XI.    Who Stole the Tarts?\\n',\n",
              " ' CHAPTER XII.   Alice’s Evidence\\n',\n",
              " 'CHAPTER I.\\n',\n",
              " 'CHAPTER II.\\n',\n",
              " 'CHAPTER III.\\n',\n",
              " 'CHAPTER IV.\\n',\n",
              " 'CHAPTER V.\\n',\n",
              " 'CHAPTER VI.\\n',\n",
              " 'CHAPTER VII.\\n',\n",
              " 'CHAPTER VIII.\\n',\n",
              " 'CHAPTER IX.\\n',\n",
              " 'CHAPTER X.\\n',\n",
              " 'CHAPTER XI.\\n',\n",
              " 'CHAPTER XII.\\n']"
            ]
          },
          "execution_count": 91,
          "metadata": {},
          "output_type": "execute_result"
        }
      ],
      "source": [
        "filtered_lines"
      ]
    },
    {
      "cell_type": "code",
      "execution_count": null,
      "metadata": {
        "id": "eTsAYfVGhYpP",
        "outputId": "d742796a-c428-442b-e9c0-004167d7b6e0"
      },
      "outputs": [
        {
          "data": {
            "text/plain": [
              "[' CHAPTER I.     Down the Rabbit-Hole\\n',\n",
              " ' CHAPTER II.    The Pool of Tears\\n',\n",
              " ' CHAPTER III.   A Caucus-Race and a Long Tale\\n',\n",
              " ' CHAPTER IV.    The Rabbit Sends in a Little Bill\\n',\n",
              " ' CHAPTER V.     Advice from a Caterpillar\\n',\n",
              " ' CHAPTER VI.    Pig and Pepper\\n',\n",
              " ' CHAPTER VII.   A Mad Tea-Party\\n',\n",
              " ' CHAPTER VIII.  The Queen’s Croquet-Ground\\n',\n",
              " ' CHAPTER IX.    The Mock Turtle’s Story\\n',\n",
              " ' CHAPTER X.     The Lobster Quadrille\\n',\n",
              " ' CHAPTER XI.    Who Stole the Tarts?\\n',\n",
              " ' CHAPTER XII.   Alice’s Evidence\\n']"
            ]
          },
          "execution_count": 92,
          "metadata": {},
          "output_type": "execute_result"
        }
      ],
      "source": [
        "more_filtered = [line for line in filtered_lines if \"  \" in line]\n",
        "more_filtered"
      ]
    },
    {
      "cell_type": "code",
      "execution_count": null,
      "metadata": {
        "id": "Af0fJmxlhYpP",
        "outputId": "aa230ef0-16fa-45fe-8671-bc4a7d7a03a2"
      },
      "outputs": [
        {
          "name": "stdout",
          "output_type": "stream",
          "text": [
            "[user]\n",
            "\temail = valdis.s.coding@gmail.com\n",
            "\tname = Valdis SCoding\n",
            "\n"
          ]
        }
      ],
      "source": [
        "\n",
        "with open('..\\\\..\\\\.gitconfig', mode='r') as fin:\n",
        "    cont = fin.read()\n",
        "print(cont)\n",
        "#?open"
      ]
    },
    {
      "cell_type": "code",
      "execution_count": null,
      "metadata": {
        "id": "iIQeegEohYpP"
      },
      "outputs": [],
      "source": [
        "#mode=w is write only and it deletes OLD file!!\n",
        "with open('numbers.txt', mode='w') as fwriter:\n",
        "    for n in range(1,10):\n",
        "        fwriter.write(f'The number is {n*2} \\n')\n",
        "        #fout.write(f'The number is {n}') # diferences between \\n and no \\n\n",
        "    #file is closed is here    "
      ]
    },
    {
      "cell_type": "code",
      "execution_count": null,
      "metadata": {
        "id": "ZVVNfAWghYpQ",
        "outputId": "35a97c05-df2b-4fd3-e2a0-31df1282579e"
      },
      "outputs": [
        {
          "data": {
            "text/plain": [
              "189"
            ]
          },
          "execution_count": 46,
          "metadata": {},
          "output_type": "execute_result"
        }
      ],
      "source": [
        "len('The number is {n*2} \\n')*9"
      ]
    },
    {
      "cell_type": "code",
      "execution_count": null,
      "metadata": {
        "id": "f0O_nVInhYpQ",
        "outputId": "8a66f35e-2e24-476c-8b6e-cf9e411815fa"
      },
      "outputs": [
        {
          "data": {
            "text/plain": [
              "158"
            ]
          },
          "execution_count": 47,
          "metadata": {},
          "output_type": "execute_result"
        }
      ],
      "source": [
        "with open('numbers.txt') as freader:\n",
        "    mytext = freader.read()\n",
        "len(mytext)"
      ]
    },
    {
      "cell_type": "code",
      "execution_count": null,
      "metadata": {
        "id": "ntwie1CghYpQ",
        "outputId": "b9d3752f-4fde-46e3-df51-f32823384d1a"
      },
      "outputs": [
        {
          "name": "stdout",
          "output_type": "stream",
          "text": [
            "The number is 2 \n",
            "\n",
            "17\n",
            "The number is 4 \n",
            "\n",
            "17\n",
            "The number is 6 \n",
            "\n",
            "17\n",
            "The number is 8 \n",
            "\n",
            "17\n",
            "The number is 10 \n",
            "\n",
            "18\n",
            "The number is 12 \n",
            "\n",
            "18\n",
            "The number is 14 \n",
            "\n",
            "18\n",
            "The number is 16 \n",
            "\n",
            "18\n",
            "The number is 18 \n",
            "\n",
            "18\n",
            "158\n"
          ]
        }
      ],
      "source": [
        "with open('numbers.txt') as freader:\n",
        "    sum = 0\n",
        "    for line in freader:\n",
        "        print(line)\n",
        "        print(len(line))\n",
        "        sum += len(line)\n",
        "print(sum)"
      ]
    },
    {
      "cell_type": "code",
      "execution_count": null,
      "metadata": {
        "id": "hMjsKVx6hYpQ",
        "outputId": "15abbc22-ffd2-4b9b-cfeb-fe00c43cb596"
      },
      "outputs": [
        {
          "data": {
            "text/plain": [
              "datetime.datetime(2019, 7, 18, 16, 47, 28, 58718)"
            ]
          },
          "execution_count": 51,
          "metadata": {},
          "output_type": "execute_result"
        }
      ],
      "source": [
        "from datetime import datetime\n",
        "now = datetime.now()\n",
        "now"
      ]
    },
    {
      "cell_type": "code",
      "execution_count": null,
      "metadata": {
        "id": "4owR0sfIhYpQ",
        "outputId": "e2544090-2dd5-479d-c4d5-55a2d34192c0"
      },
      "outputs": [
        {
          "name": "stdout",
          "output_type": "stream",
          "text": [
            "2019-07-18 16:47:32.332155\n"
          ]
        }
      ],
      "source": [
        "today = datetime.today()\n",
        "print(today)"
      ]
    },
    {
      "cell_type": "code",
      "execution_count": null,
      "metadata": {
        "id": "ED2vOLU6hYpQ"
      },
      "outputs": [],
      "source": [
        "#mode=w is write only and it deletes OLD file!!\n",
        "today = datetime.today()\n",
        "with open(f'numbers{today.hour}_{today.minute}_{today.second}.txt', mode='w') as fwriter:\n",
        "    for n in range(1,10):\n",
        "        fwriter.write(f'The number is {n*2} \\n')\n",
        "        #fout.write(f'The number is {n}') # diferences between \\n and no \\n\n",
        "    #file is closed is here    "
      ]
    },
    {
      "cell_type": "code",
      "execution_count": null,
      "metadata": {
        "id": "EGN_qOtvhYpQ",
        "outputId": "104fd17c-32c1-47e6-bcef-3496e8beaa46"
      },
      "outputs": [
        {
          "data": {
            "text/plain": [
              "datetime.datetime(2019, 7, 18, 16, 48, 38, 942791)"
            ]
          },
          "execution_count": 55,
          "metadata": {},
          "output_type": "execute_result"
        }
      ],
      "source": [
        "today"
      ]
    },
    {
      "cell_type": "code",
      "execution_count": null,
      "metadata": {
        "id": "0LncRsunhYpR",
        "outputId": "d6f54ede-8059-428f-ac83-d17af4d47344"
      },
      "outputs": [
        {
          "data": {
            "text/plain": [
              "16"
            ]
          },
          "execution_count": 56,
          "metadata": {},
          "output_type": "execute_result"
        }
      ],
      "source": [
        "today.hour"
      ]
    },
    {
      "cell_type": "code",
      "execution_count": null,
      "metadata": {
        "id": "pwiGsi52hYpR",
        "outputId": "f4bca8aa-a18c-4632-a223-67adb59f9ae0"
      },
      "outputs": [
        {
          "data": {
            "text/plain": [
              "48"
            ]
          },
          "execution_count": 58,
          "metadata": {},
          "output_type": "execute_result"
        }
      ],
      "source": [
        "today.minute"
      ]
    },
    {
      "cell_type": "code",
      "execution_count": null,
      "metadata": {
        "id": "HroivLauhYpR",
        "outputId": "03e6310b-c1dd-49f0-b401-d77a90d71aaf"
      },
      "outputs": [
        {
          "data": {
            "text/plain": [
              "datetime.datetime(2019, 7, 18, 16, 50, 0, 396834)"
            ]
          },
          "execution_count": 66,
          "metadata": {},
          "output_type": "execute_result"
        }
      ],
      "source": [
        "datetime.today()"
      ]
    },
    {
      "cell_type": "code",
      "execution_count": null,
      "metadata": {
        "id": "EtRTgjXuhYpR",
        "outputId": "14b69fc4-d2d2-4cc3-a4c7-da9fa5aa2210"
      },
      "outputs": [
        {
          "data": {
            "text/plain": [
              "1563457648.058718"
            ]
          },
          "execution_count": 67,
          "metadata": {},
          "output_type": "execute_result"
        }
      ],
      "source": [
        "timestamp = datetime.timestamp(now)\n",
        "timestamp"
      ]
    },
    {
      "cell_type": "code",
      "execution_count": null,
      "metadata": {
        "id": "E-ETkdkzhYpR",
        "outputId": "e9c839fa-8f2d-48a0-9e76-470d3cc01472"
      },
      "outputs": [
        {
          "data": {
            "text/plain": [
              "'2019-05-21 16:33:12.606716'"
            ]
          },
          "execution_count": 34,
          "metadata": {},
          "output_type": "execute_result"
        }
      ],
      "source": [
        "str(datetime.now())"
      ]
    },
    {
      "cell_type": "code",
      "execution_count": null,
      "metadata": {
        "id": "nk952YdQhYpR",
        "outputId": "212fcb9a-0ea2-498e-da04-65894ee97cfb"
      },
      "outputs": [
        {
          "name": "stdout",
          "output_type": "stream",
          "text": [
            "['The number is 2 \\n', 'The number is 4 \\n', 'The number is 6 \\n', 'The number is 8 \\n', 'The number is 10 \\n', 'The number is 12 \\n', 'The number is 14 \\n', 'The number is 16 \\n', 'The number is 18 \\n']\n"
          ]
        }
      ],
      "source": [
        "with open('numbers.txt') as fin:\n",
        "    print(fin.readlines())"
      ]
    },
    {
      "cell_type": "code",
      "execution_count": null,
      "metadata": {
        "id": "dk8MijWthYpS",
        "outputId": "2860de9c-0fa3-46ae-aad7-57352c51e85f"
      },
      "outputs": [
        {
          "name": "stdout",
          "output_type": "stream",
          "text": [
            "The number is 2 \n",
            "The number is 4 \n",
            "The number is 6 \n",
            "The number is 8 \n",
            "The number is 10 \n",
            "The number is 12 \n",
            "The number is 14 \n",
            "The number is 16 \n",
            "The number is 18 \n"
          ]
        }
      ],
      "source": [
        "with open('numbers.txt', mode='r') as fin:\n",
        "    for line in fin:\n",
        "        print(line, end=\"\")"
      ]
    },
    {
      "cell_type": "code",
      "execution_count": null,
      "metadata": {
        "id": "NTM9TQCNhYpS"
      },
      "outputs": [],
      "source": []
    },
    {
      "cell_type": "code",
      "execution_count": null,
      "metadata": {
        "id": "nnrCiVzyhYpS"
      },
      "outputs": [],
      "source": [
        "# We can append to the files without overwriting\n",
        "with open('numbers.txt', mode='a') as fin:\n",
        "    fin.write(\"This might not be the end\\nThis is really the end\")"
      ]
    },
    {
      "cell_type": "code",
      "execution_count": null,
      "metadata": {
        "id": "DRkbtTkihYpS"
      },
      "outputs": [],
      "source": [
        "with open('numbers.txt', mode='a') as fin:\n",
        "    fin.seek(4) # seek will not work here for writing\n",
        "    fin.write(\"This is not the end\")"
      ]
    },
    {
      "cell_type": "code",
      "execution_count": null,
      "metadata": {
        "id": "lCkIPVbwhYpS",
        "outputId": "6fae2e80-f192-4f83-9988-19a32774f132"
      },
      "outputs": [
        {
          "name": "stdout",
          "output_type": "stream",
          "text": [
            "The number is 2 \n",
            "The number is 4 \n",
            "The number is 6 \n",
            "The number is 8 \n",
            "The number is 10 \n",
            "The number is 12 \n",
            "The number is 14 \n",
            "The number is 16 \n",
            "The number is 18 \n",
            "This might not be the endThis might not be the endThis might not be the end\n",
            "This is really the endThis is not the end\n"
          ]
        }
      ],
      "source": [
        "with open('numbers.txt') as f:\n",
        "    print(f.read())"
      ]
    },
    {
      "cell_type": "code",
      "execution_count": null,
      "metadata": {
        "id": "c6Cn6g4ghYpS",
        "outputId": "9269d261-065b-48eb-df2d-5ddad905968b"
      },
      "outputs": [
        {
          "ename": "SyntaxError",
          "evalue": "invalid syntax (<ipython-input-74-1a07fac4098f>, line 3)",
          "output_type": "error",
          "traceback": [
            "\u001b[1;36m  File \u001b[1;32m\"<ipython-input-74-1a07fac4098f>\"\u001b[1;36m, line \u001b[1;32m3\u001b[0m\n\u001b[1;33m    The number is 2\u001b[0m\n\u001b[1;37m             ^\u001b[0m\n\u001b[1;31mSyntaxError\u001b[0m\u001b[1;31m:\u001b[0m invalid syntax\n"
          ]
        }
      ],
      "source": [
        "# Jupyter magic for reading files into notebook\n",
        "%%readfile numbers.txt\n",
        "The number is 2 \n",
        "The number is 4 \n",
        "The number is 6 \n",
        "The number is 8 \n",
        "The number is 10 \n",
        "The number is 12 \n",
        "The number is 14 \n",
        "The number is 16 \n",
        "The number is 18 \n",
        "This is the end!"
      ]
    },
    {
      "cell_type": "code",
      "execution_count": null,
      "metadata": {
        "id": "DuYh0WHzhYpS"
      },
      "outputs": [],
      "source": [
        "# Generally Preferably to read and write separately - VS"
      ]
    },
    {
      "cell_type": "code",
      "execution_count": null,
      "metadata": {
        "id": "vucDyZD8hYpS",
        "outputId": "4f9c251b-8483-4fde-85a7-f0abc8324b3c"
      },
      "outputs": [
        {
          "name": "stdout",
          "output_type": "stream",
          "text": [
            "['Oh my text first line\\n', 'Super easy second line\\n', 'OH and third line is\\n']\n"
          ]
        }
      ],
      "source": [
        "with open('somefile.txt', mode=\"r+\") as f:\n",
        "    print(f.readlines())\n",
        "    f.write('moreinfo\\tmore\\n')"
      ]
    },
    {
      "cell_type": "code",
      "execution_count": null,
      "metadata": {
        "id": "tIX-gh4lhYpT",
        "outputId": "fed5ffa2-5a26-4c7c-b8a9-5e3ec845fb04"
      },
      "outputs": [
        {
          "name": "stdout",
          "output_type": "stream",
          "text": [
            "['moreinfo\\tmore\\n', 'moreinfo\\tmore\\n', 'moreinfo\\tmore\\n', 'moreinfo\\tmore\\n', 'moreinfo\\tmore\\n', 'moreinfo\\tmore\\n', 'moreinfo\\tmore\\n', 'moreinfo\\tmore\\n']\n"
          ]
        }
      ],
      "source": [
        "with open('sometext.txt') as f:\n",
        "    print(f.readlines())"
      ]
    },
    {
      "attachments": {},
      "cell_type": "markdown",
      "metadata": {
        "id": "M-iOFgqihYpT"
      },
      "source": [
        "### Modes:\n",
        "  *  mode='r' - Read Only\n",
        "  * 'w' - Write Only (and will overwrite existing files!!!)\n",
        "  * 'a' - Apend Only (stream is at the end of file!)\n",
        "  * 'r+' - Read and Write\n",
        "  * 'w+' - Write and Read with Overwriting existing/make new files\n",
        "  \n",
        "  From C (fopen)\n",
        "   * ``r+''  Open for reading and writing.  The stream is positioned at the\n",
        "         beginning of the file.\n",
        "         \n",
        "    *   ``w+''  Open for reading and writing.  The file is created if it does not\n",
        "         exist, otherwise it is truncated(**destroyed!**).  The stream is positioned at\n",
        "         the beginning of the file.    "
      ]
    },
    {
      "cell_type": "code",
      "execution_count": null,
      "metadata": {
        "id": "nXM6gS4ohYpT"
      },
      "outputs": [],
      "source": [
        "with open('numbers.txt', mode='a') as f:\n",
        "    f.write(\"New Line\\n\")\n",
        "    "
      ]
    },
    {
      "cell_type": "code",
      "execution_count": null,
      "metadata": {
        "id": "_579ZDbShYpT"
      },
      "outputs": [],
      "source": [
        "!cd data/"
      ]
    },
    {
      "cell_type": "code",
      "execution_count": null,
      "metadata": {
        "id": "iK1IgFmmhYpT",
        "outputId": "09fa276b-8c82-4a53-e1ad-0967fe1383cc"
      },
      "outputs": [
        {
          "name": "stdout",
          "output_type": "stream",
          "text": [
            " Volume in drive C is Windows\n",
            " Volume Serial Number is 5AA0-2A07\n",
            "\n",
            " Directory of C:\\Users\\val-p1\\Github\\RCS_Data_Analysis_Python_2019_July\n",
            "\n",
            "07/18/2019  04:57 PM    <DIR>          .\n",
            "07/18/2019  04:57 PM    <DIR>          ..\n",
            "07/18/2019  04:07 PM    <DIR>          .ipynb_checkpoints\n",
            "07/13/2019  10:17 AM             7,614 All_Any.ipynb\n",
            "07/18/2019  04:03 PM    <DIR>          data\n",
            "07/13/2019  10:17 AM         7,435,248 Data_Analysis_Python_Introduction.pdf\n",
            "07/13/2019  10:17 AM             1,713 Git_Workflow.md\n",
            "07/16/2019  04:04 PM    <DIR>          img\n",
            "07/13/2019  10:17 AM               217 Jupyter with Python.md\n",
            "07/13/2019  10:17 AM             1,084 LICENSE\n",
            "07/18/2019  04:52 PM               285 numbers.txt\n",
            "07/18/2019  04:48 PM               167 numbers16_48_38.txt\n",
            "07/18/2019  04:48 PM               167 numbers16_48_9.txt\n",
            "07/13/2019  10:17 AM            38,870 Python Classes.ipynb\n",
            "07/13/2019  10:17 AM            47,880 Python Cleaning Up Text Files.ipynb\n",
            "07/13/2019  10:17 AM               489 Python Comparison operators.md\n",
            "07/13/2019  10:17 AM               203 Python Conditional Execution Branching.md\n",
            "07/13/2019  10:17 AM            10,380 Python Data Structures Exercises.ipynb\n",
            "07/13/2019  02:58 PM            37,939 Python Dictionaries.ipynb\n",
            "07/13/2019  10:17 AM             8,986 Python Errors.ipynb\n",
            "07/13/2019  10:17 AM               538 Python Exercises.md\n",
            "07/18/2019  04:57 PM            43,577 Python File IO.ipynb\n",
            "07/13/2019  10:17 AM            50,238 Python File Operations 2 Binary Files and Pickle in class 21.05.2019.ipynb\n",
            "07/15/2019  06:02 PM            54,940 Python Flow Control.ipynb\n",
            "07/15/2019  04:10 PM               219 Python Flow Control.md\n",
            "07/16/2019  06:09 PM         4,028,856 Python Functions.ipynb\n",
            "07/16/2019  04:04 PM               622 Python Functions.md\n",
            "07/13/2019  12:02 PM            46,952 Python Introduction.ipynb\n",
            "07/13/2019  10:17 AM             4,119 Python Learning Resources.ipynb\n",
            "07/13/2019  10:17 AM             1,103 Python Learning Resources.md\n",
            "07/13/2019  10:17 AM             4,520 Python List Comprehension.ipynb\n",
            "07/13/2019  02:09 PM            35,953 Python Lists.ipynb\n",
            "07/13/2019  10:17 AM            17,034 Python Modules and Imports.ipynb\n",
            "07/18/2019  04:03 PM               786 Python Reading Writing Files.md\n",
            "07/16/2019  05:30 PM            12,423 Python Sets.ipynb\n",
            "07/13/2019  01:08 PM            34,381 Python Strings.ipynb\n",
            "07/16/2019  05:22 PM            18,893 Python Tuples.ipynb\n",
            "07/13/2019  10:17 AM           113,049 Python Variables and Data Types.ipynb\n",
            "07/13/2019  10:17 AM               950 Python_Dictionaries.md\n",
            "07/13/2019  10:17 AM               482 Python_Lists.md\n",
            "07/13/2019  10:17 AM               935 Python_List_Exercise_1.ipynb\n",
            "07/18/2019  04:03 PM             8,110 Reading ipynb.ipynb\n",
            "07/13/2019  10:23 AM             2,432 README.md\n",
            "07/18/2019  04:55 PM                84 somefile.txt\n",
            "              39 File(s)     12,072,438 bytes\n",
            "               5 Dir(s)  430,779,187,200 bytes free\n"
          ]
        }
      ],
      "source": [
        "!dir"
      ]
    },
    {
      "cell_type": "code",
      "execution_count": null,
      "metadata": {
        "id": "C4o99jpMhYpT"
      },
      "outputs": [],
      "source": [
        "mylist = list(range(1,30))\n",
        "mytextlist = [str(x)+'\\n' for x in range(1,30)]\n",
        "with open('list.txt', mode='w') as fwriter:\n",
        "    fwriter.writelines(mytextlist)\n"
      ]
    },
    {
      "cell_type": "code",
      "execution_count": null,
      "metadata": {
        "id": "TtWpat7rhYpU"
      },
      "outputs": [],
      "source": [
        "with open('biglist.txt', mode='w') as fwriter:\n",
        "    for n in range(1,1_000_000):\n",
        "        fwriter.write('Line:'+ str(n)+'\\n')\n"
      ]
    },
    {
      "cell_type": "code",
      "execution_count": null,
      "metadata": {
        "id": "jZnK-ddPhYpU"
      },
      "outputs": [],
      "source": [
        "# Optimal writing for large files will be between how much you can hold in memory and how big the file will be"
      ]
    },
    {
      "attachments": {},
      "cell_type": "markdown",
      "metadata": {
        "id": "PIRV9ljIhYpU"
      },
      "source": [
        "## More on String Formatting"
      ]
    },
    {
      "attachments": {},
      "cell_type": "markdown",
      "metadata": {
        "id": "AXWDyYpPhYpU"
      },
      "source": [
        "## How do you convert values to strings? \n",
        "\n",
        "### In Python: pass it to the repr() or str() functions.\n",
        "\n",
        "The str() function is meant to return representations of values which are fairly human-readable, while repr() is meant to generate representations which can be read by the interpreter (or will force a SyntaxError if there is no equivalent syntax). For objects which don’t have a particular representation for human consumption, str() will return the same value as repr(). "
      ]
    },
    {
      "cell_type": "code",
      "execution_count": null,
      "metadata": {
        "id": "0bDSMNx6hYpU",
        "outputId": "bba1da06-1806-46ec-f482-6980837aa5b7"
      },
      "outputs": [
        {
          "name": "stdout",
          "output_type": "stream",
          "text": [
            "34341235421\n",
            "54\n",
            "54\n"
          ]
        },
        {
          "data": {
            "text/plain": [
              "True"
            ]
          },
          "execution_count": 1,
          "metadata": {},
          "output_type": "execute_result"
        }
      ],
      "source": [
        "print(str(34341235421))\n",
        "print(repr(54))\n",
        "print(str(54))\n",
        "str(54)==repr(54)"
      ]
    },
    {
      "cell_type": "code",
      "execution_count": null,
      "metadata": {
        "id": "XT7yXijwhYpU",
        "outputId": "70952d76-c8fe-46cd-fa58-8e3ab6e36b49"
      },
      "outputs": [
        {
          "name": "stdout",
          "output_type": "stream",
          "text": [
            "Hello\n",
            "\n",
            "'Hello\\n'\n"
          ]
        },
        {
          "data": {
            "text/plain": [
              "False"
            ]
          },
          "execution_count": 1,
          "metadata": {},
          "output_type": "execute_result"
        }
      ],
      "source": [
        "hi = \"Hello\\n\"\n",
        "hir = repr(hi)\n",
        "print(hi)\n",
        "print(hir)\n",
        "hir==hi"
      ]
    },
    {
      "attachments": {},
      "cell_type": "markdown",
      "metadata": {
        "id": "z_cmfaYKhYpU"
      },
      "source": [
        "### The goal of __repr__ is to be unambiguous: \n",
        "### The goal of __str__ is to be readable\n",
        "\n",
        "## In other words: __repr__ is for developers, __str__ is for customers (end users)"
      ]
    },
    {
      "cell_type": "code",
      "execution_count": null,
      "metadata": {
        "id": "-Ot29FyShYpV",
        "outputId": "c1f777f3-b6a6-4a46-8921-0f794ccecad0"
      },
      "outputs": [
        {
          "name": "stdout",
          "output_type": "stream",
          "text": [
            " 1   1 1.000000\n",
            " 2   4 8.000000\n",
            " 3   9 27.000000\n",
            " 4  16 64.000000\n",
            " 5  25 125.000000\n",
            " 6  36 216.000000\n",
            " 7  49 343.000000\n",
            " 8  64 512.000000\n",
            " 9  81 729.000000\n",
            "10 100 1000.000000\n",
            "11 121 1331.000000\n"
          ]
        }
      ],
      "source": [
        "for x in range(1,12):\n",
        "    print(f'{x:2d} {x*x:3d} {x**3:4f}')"
      ]
    },
    {
      "cell_type": "code",
      "execution_count": null,
      "metadata": {
        "id": "fJgwt_EfhYpV",
        "outputId": "dfe290ec-84d8-4e84-ae15-2f24683a6240"
      },
      "outputs": [
        {
          "data": {
            "text/plain": [
              "'-003.14'"
            ]
          },
          "execution_count": 2,
          "metadata": {},
          "output_type": "execute_result"
        }
      ],
      "source": [
        "'-3.14'.zfill(7) # pads numeric string on the left with zeros"
      ]
    },
    {
      "cell_type": "code",
      "execution_count": null,
      "metadata": {
        "id": "LcvCJfP2hYpV",
        "outputId": "025d9066-34de-41aa-8df5-3901ccd39066"
      },
      "outputs": [
        {
          "name": "stdout",
          "output_type": "stream",
          "text": [
            "1 squared is 1\n",
            "2 squared is 4\n",
            "3 squared is 9\n",
            "4 squared is 16\n",
            "5 squared is 25\n",
            "6 squared is 36\n",
            "7 squared is 49\n",
            "8 squared is 64\n",
            "9 squared is 81\n",
            "10 squared is 100\n"
          ]
        }
      ],
      "source": [
        "# write to a text file squares.txt first 10 squares\n",
        "# 1 squared is 1\n",
        "# 2 squared is 4\n",
        "for n in range(1,11):\n",
        "    print(f'{n} squared is {n*n}')\n"
      ]
    },
    {
      "cell_type": "code",
      "execution_count": null,
      "metadata": {
        "id": "wCb2CECkhYpV",
        "outputId": "86b630c5-bae6-4afa-c75d-aa198dc1aa87"
      },
      "outputs": [
        {
          "name": "stdout",
          "output_type": "stream",
          "text": [
            "1 squared is 1\n",
            "\n",
            "2 squared is 4\n",
            "\n",
            "3 squared is 9\n",
            "\n",
            "4 squared is 16\n",
            "\n",
            "5 squared is 25\n",
            "\n",
            "6 squared is 36\n",
            "\n",
            "7 squared is 49\n",
            "\n",
            "8 squared is 64\n",
            "\n",
            "9 squared is 81\n",
            "\n",
            "10 squared is 100\n",
            "\n"
          ]
        }
      ],
      "source": [
        "# write to a text file squares.txt first 10 squares\n",
        "# 1 squared is 1\n",
        "# 2 squared is 4\n",
        "with open('squares.txt', mode='w') as f:\n",
        "    for n in range(1,11):\n",
        "        myline = f'{n} squared is {n*n}\\n'\n",
        "        print(myline)\n",
        "        f.write(myline)\n"
      ]
    },
    {
      "cell_type": "code",
      "execution_count": null,
      "metadata": {
        "id": "swEuSONGhYpV"
      },
      "outputs": [],
      "source": [
        "# write to a text file squares.txt first 10 squares\n",
        "# 1 squared is 1\n",
        "# 2 squared is 4\n",
        "with open('squares2.txt', mode='w') as f:\n",
        "    mylines = [f'{n} squared is {n*n}\\n' for n in range(1,11)]\n",
        "    f.writelines(mylines)"
      ]
    },
    {
      "cell_type": "code",
      "execution_count": null,
      "metadata": {
        "id": "96I5LMK3hYpV",
        "outputId": "a1010084-e214-401e-8c15-145e16f43d0e"
      },
      "outputs": [
        {
          "name": "stdout",
          "output_type": "stream",
          "text": [
            "1 squared is 1\n",
            "2 squared is 4\n",
            "3 squared is 9\n",
            "4 squared is 16\n",
            "5 squared is 25\n",
            "6 squared is 36\n",
            "7 squared is 49\n",
            "8 squared is 64\n",
            "9 squared is 81\n",
            "10 squared is 100\n"
          ]
        }
      ],
      "source": [
        "with open('squares2.txt') as f:\n",
        "    for line in f:\n",
        "        # do something with line for example print it\n",
        "        print(line, end=\"\")"
      ]
    },
    {
      "cell_type": "code",
      "execution_count": null,
      "metadata": {
        "id": "mP5X-GyVhYpW",
        "outputId": "b2126179-2fb9-484d-8fdb-a70998a8112d"
      },
      "outputs": [
        {
          "data": {
            "text/plain": [
              "_io.TextIOWrapper"
            ]
          },
          "execution_count": 76,
          "metadata": {},
          "output_type": "execute_result"
        }
      ],
      "source": [
        "type(f)"
      ]
    },
    {
      "cell_type": "code",
      "execution_count": null,
      "metadata": {
        "id": "b0l5_MiThYpW",
        "outputId": "ff788c09-3623-4ba3-a82e-5c35004b860a"
      },
      "outputs": [
        {
          "data": {
            "text/plain": [
              "['_CHUNK_SIZE',\n",
              " '__class__',\n",
              " '__del__',\n",
              " '__delattr__',\n",
              " '__dict__',\n",
              " '__dir__',\n",
              " '__doc__',\n",
              " '__enter__',\n",
              " '__eq__',\n",
              " '__exit__',\n",
              " '__format__',\n",
              " '__ge__',\n",
              " '__getattribute__',\n",
              " '__getstate__',\n",
              " '__gt__',\n",
              " '__hash__',\n",
              " '__init__',\n",
              " '__init_subclass__',\n",
              " '__iter__',\n",
              " '__le__',\n",
              " '__lt__',\n",
              " '__ne__',\n",
              " '__new__',\n",
              " '__next__',\n",
              " '__reduce__',\n",
              " '__reduce_ex__',\n",
              " '__repr__',\n",
              " '__setattr__',\n",
              " '__sizeof__',\n",
              " '__str__',\n",
              " '__subclasshook__',\n",
              " '_checkClosed',\n",
              " '_checkReadable',\n",
              " '_checkSeekable',\n",
              " '_checkWritable',\n",
              " '_finalizing',\n",
              " 'buffer',\n",
              " 'close',\n",
              " 'closed',\n",
              " 'detach',\n",
              " 'encoding',\n",
              " 'errors',\n",
              " 'fileno',\n",
              " 'flush',\n",
              " 'isatty',\n",
              " 'line_buffering',\n",
              " 'mode',\n",
              " 'name',\n",
              " 'newlines',\n",
              " 'read',\n",
              " 'readable',\n",
              " 'readline',\n",
              " 'readlines',\n",
              " 'reconfigure',\n",
              " 'seek',\n",
              " 'seekable',\n",
              " 'tell',\n",
              " 'truncate',\n",
              " 'writable',\n",
              " 'write',\n",
              " 'write_through',\n",
              " 'writelines']"
            ]
          },
          "execution_count": 77,
          "metadata": {},
          "output_type": "execute_result"
        }
      ],
      "source": [
        "dir(f)"
      ]
    },
    {
      "cell_type": "code",
      "execution_count": null,
      "metadata": {
        "id": "mCOpgWwPhYpW"
      },
      "outputs": [],
      "source": [
        "f.close()"
      ]
    },
    {
      "cell_type": "code",
      "execution_count": null,
      "metadata": {
        "id": "yyzFdztZhYpW",
        "outputId": "a1b293e6-5d55-41a2-a0cb-6b46c9e84872"
      },
      "outputs": [
        {
          "ename": "ValueError",
          "evalue": "I/O operation on closed file.",
          "output_type": "error",
          "traceback": [
            "\u001b[1;31m---------------------------------------------------------------------------\u001b[0m",
            "\u001b[1;31mValueError\u001b[0m                                Traceback (most recent call last)",
            "\u001b[1;32m<ipython-input-79-8c1202e4bc41>\u001b[0m in \u001b[0;36m<module>\u001b[1;34m\u001b[0m\n\u001b[1;32m----> 1\u001b[1;33m \u001b[0mf\u001b[0m\u001b[1;33m.\u001b[0m\u001b[0mreadlines\u001b[0m\u001b[1;33m(\u001b[0m\u001b[1;36m0\u001b[0m\u001b[1;33m)\u001b[0m\u001b[1;33m\u001b[0m\u001b[1;33m\u001b[0m\u001b[0m\n\u001b[0m",
            "\u001b[1;31mValueError\u001b[0m: I/O operation on closed file."
          ]
        }
      ],
      "source": [
        "f.readlines()"
      ]
    },
    {
      "cell_type": "code",
      "execution_count": null,
      "metadata": {
        "id": "vTmfHCUQhYpW"
      },
      "outputs": [],
      "source": [
        "## Homework\n",
        "## Write function which writes Fizzbuzz 1 to 100 (5,7) to file fizzbuzz.txt\n",
        "## Format example:\n",
        "## 1: 1\n",
        "## 2: 2\n",
        "## 5: Fizz\n",
        "## 6: 6\n",
        "## 7: Buzz\n",
        "#... 35: FizzBuzz"
      ]
    },
    {
      "cell_type": "code",
      "execution_count": null,
      "metadata": {
        "id": "UpKGkziYhYpW",
        "outputId": "18b4214e-f698-4c4f-de2f-768ce7fbb9e5"
      },
      "outputs": [
        {
          "data": {
            "text/plain": [
              "12875"
            ]
          },
          "execution_count": 53,
          "metadata": {},
          "output_type": "execute_result"
        }
      ],
      "source": [
        "len(mytext)"
      ]
    },
    {
      "cell_type": "code",
      "execution_count": null,
      "metadata": {
        "id": "-qi-DzvVhYpW",
        "outputId": "76392fed-604c-4c60-bfd3-04424a69ffe2"
      },
      "outputs": [
        {
          "data": {
            "text/plain": [
              "971"
            ]
          },
          "execution_count": 54,
          "metadata": {},
          "output_type": "execute_result"
        }
      ],
      "source": [
        "with open('../data/Veidenbaums.txt', encoding='UTF-8') as f:\n",
        "    veidtext = [line for line in f]\n",
        "len(veidtext)"
      ]
    },
    {
      "cell_type": "code",
      "execution_count": null,
      "metadata": {
        "id": "Dkvk02I1hYpX",
        "outputId": "46d70ef2-7414-45d1-ca5c-4eff8e79b350"
      },
      "outputs": [
        {
          "data": {
            "text/plain": [
              "['\\n',\n",
              " '\\n',\n",
              " 'Pēc ideāliem cenšas lielie gari***\\n',\n",
              " '\\n',\n",
              " '\\n',\n",
              " '\\n',\n",
              " '\\n',\n",
              " 'Pēc ideāliem cenšas lielie gari,\\n',\n",
              " '\\n',\n",
              " 'Bet dzīvē ieņemt vietu pirmie\\n']"
            ]
          },
          "execution_count": 55,
          "metadata": {},
          "output_type": "execute_result"
        }
      ],
      "source": [
        "veidtext[:10]"
      ]
    }
  ],
  "metadata": {
    "colab": {
      "name": "Python File IO.ipynb",
      "provenance": []
    },
    "kernelspec": {
      "display_name": "Python 3",
      "language": "python",
      "name": "python3"
    },
    "language_info": {
      "codemirror_mode": {
        "name": "ipython",
        "version": 3
      },
      "file_extension": ".py",
      "mimetype": "text/x-python",
      "name": "python",
      "nbconvert_exporter": "python",
      "pygments_lexer": "ipython3",
      "version": "3.11.3"
    }
  },
  "nbformat": 4,
  "nbformat_minor": 0
}
