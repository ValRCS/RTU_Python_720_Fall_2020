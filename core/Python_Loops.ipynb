{
  "cells": [
    {
      "cell_type": "code",
      "execution_count": 1,
      "metadata": {
        "colab": {
          "base_uri": "https://localhost:8080/"
        },
        "id": "NID8P6UGXdzi",
        "outputId": "ddc3c4f7-ae78-4f44-f90e-079438751063"
      },
      "outputs": [
        {
          "output_type": "stream",
          "name": "stdout",
          "text": [
            "Hello\n",
            "Hello\n"
          ]
        }
      ],
      "source": [
        "print(\"Hello\")\n",
        "print(\"Hello\")\n",
        "# how to do this 100 times (we are not going to paste print 100 times are we ? :)"
      ]
    },
    {
      "cell_type": "markdown",
      "source": [
        "# While loops"
      ],
      "metadata": {
        "id": "omdfduzchc-9"
      }
    },
    {
      "cell_type": "markdown",
      "metadata": {
        "id": "eUj9I6jGXdzl"
      },
      "source": [
        "![While](https://upload.wikimedia.org/wikipedia/commons/thumb/4/43/While-loop-diagram.svg/440px-While-loop-diagram.svg.png)"
      ]
    },
    {
      "cell_type": "code",
      "execution_count": 5,
      "metadata": {
        "colab": {
          "base_uri": "https://localhost:8080/"
        },
        "id": "cR3eQfNMXdzm",
        "outputId": "be013c99-c8ec-4e7c-ef2a-e88e82f449e1"
      },
      "outputs": [
        {
          "output_type": "stream",
          "name": "stdout",
          "text": [
            "i <= 5 True\n",
            "Hello No. 0\n",
            "I can do more stuff here\n",
            "i <= 5 True\n",
            "Hello No. 1\n",
            "I can do more stuff here\n",
            "i <= 5 True\n",
            "Hello No. 2\n",
            "I can do more stuff here\n",
            "i <= 5 True\n",
            "Hello No. 3\n",
            "I can do more stuff here\n",
            "i <= 5 True\n",
            "Hello No. 4\n",
            "I can do more stuff here\n",
            "i <= 5 True\n",
            "Hello No. 5\n",
            "I can do more stuff here\n",
            "Always happens once loop is finished\n",
            "i is now 6\n"
          ]
        }
      ],
      "source": [
        "i = 0 # we will need some variable for changing things\n",
        "while i <= 5:  # so loop while the statement to the left is True\n",
        "    # notice the : indicates the start of while loop (just like if block previously)\n",
        "    print(\"i <= 5\", i <= 5)\n",
        "    print(\"Hello No.\", i)\n",
        "    print(\"I can do more stuff here\")\n",
        "    # what happens if we forget the next line...\n",
        "    i += 1 # same as  i = i + 1\n",
        "# back to normal flow - loop is finished here\n",
        "print(\"Always happens once loop is finished\")\n",
        "print(\"i is now\", i)"
      ]
    },
    {
      "cell_type": "code",
      "execution_count": 8,
      "metadata": {
        "colab": {
          "base_uri": "https://localhost:8080/"
        },
        "id": "5jzFEpcwXdzm",
        "outputId": "f54fc39b-e2a1-456a-b322-0012ba0f19b4"
      },
      "outputs": [
        {
          "output_type": "stream",
          "name": "stdout",
          "text": [
            "Going down the floor: 10\n",
            "Going down the floor: 8\n",
            "Going down the floor: 6\n",
            "Going down the floor: 4\n",
            "Going down the floor: 2\n",
            "Whew we are done with this i: 0\n"
          ]
        }
      ],
      "source": [
        "i = 10 # instead of i we could use any variable\n",
        "while i > 0:\n",
        "    print(\"Going down the floor:\", i)\n",
        "    # i could do more stuff\n",
        "    # we can make steps larger \n",
        "    i -= 2  # this is the same as writing i = i - 2\n",
        "print(\"Whew we are done with this i:\", i)\n"
      ]
    },
    {
      "cell_type": "markdown",
      "source": [
        "# break - \n",
        "we can break out of loops early, we could even make infinite loops with break conditions"
      ],
      "metadata": {
        "id": "28COQoa3ZZ0q"
      }
    },
    {
      "cell_type": "code",
      "execution_count": 10,
      "metadata": {
        "colab": {
          "base_uri": "https://localhost:8080/"
        },
        "id": "X-do2r8gXdzn",
        "outputId": "d4e4f523-987c-4b53-a126-e8c190a138af"
      },
      "outputs": [
        {
          "output_type": "stream",
          "name": "stdout",
          "text": [
            "i is 2000\n",
            "I want to break free!!! i is 2000\n",
            "We are out of the loop finally and i is 2000\n"
          ]
        }
      ],
      "source": [
        "i = 2_000\n",
        "while True: # this is a normal construction, often used with break, so do something forever, but possible break out\n",
        "    print(\"i is\",i)  # so this line will be run at least once  no matter the condition under neath\n",
        "    if i > 500:\n",
        "        print(\"I want to break free!!! i is\", i)\n",
        "        break # break gets us to the next line after the loop\n",
        "    i += 40  # same as i = i + 40\n",
        "# the break takes us here\n",
        "print(\"We are out of the loop finally and i is\", i) "
      ]
    },
    {
      "cell_type": "code",
      "source": [
        "# what we have above with while True and then break inside\n",
        "# is a way of implementing do while loop in Python\n",
        "\n",
        "# some languages have a native do while loop\n",
        "# what I call \"shoot first and ask questions later\" loop\n",
        "# where you run some code and then check for exit condition\n"
      ],
      "metadata": {
        "id": "GXofwyeQqj95"
      },
      "execution_count": null,
      "outputs": []
    },
    {
      "cell_type": "code",
      "source": [
        "# turns while True: is often used in main loops of applications/games etc\n",
        "# you want your application to run forever, unless user has pressed some certain keys\n",
        "# or possibly some state in your application has changed"
      ],
      "metadata": {
        "id": "LK27YGMZq0Mx"
      },
      "execution_count": null,
      "outputs": []
    },
    {
      "cell_type": "markdown",
      "source": [
        "# continue - return to the start of the loop"
      ],
      "metadata": {
        "id": "4hurtX0RbAhb"
      }
    },
    {
      "cell_type": "code",
      "execution_count": 14,
      "metadata": {
        "colab": {
          "base_uri": "https://localhost:8080/"
        },
        "id": "4v81BBYvXdzn",
        "outputId": "bdff49e3-d54c-4aae-cfa7-95d7db0e0d24"
      },
      "outputs": [
        {
          "output_type": "stream",
          "name": "stdout",
          "text": [
            "Enter number or q to quit Valdis\n",
            "Will try to conver Valdis to number\n",
            "Ooops Value error, Valdis no bueno, enter an integer or float please!\n",
            "Enter number or q to quit Riga\n",
            "Will try to conver Riga to number\n",
            "Ooops Value error, Riga no bueno, enter an integer or float please!\n",
            "Enter number or q to quit 2\n",
            "Will try to conver 2 to number\n",
            "My calculator says cube of 2.0 is 8.0\n",
            "Enter number or q to quit q\n",
            "No more calculations today\n",
            "All done whew!\n"
          ]
        }
      ],
      "source": [
        "while True:\n",
        "    res = input(\"Enter number or q to quit \")\n",
        "    if res == \"q\": # this could be made more flexible for user\n",
        "        # it would be nice to allow Q or Quit or Exit as well\n",
        "        print(\"No more calculations today\")\n",
        "        break  # we finally get out of the loop\n",
        "    # elif res == \"a\": # TODO check if if the input is text\n",
        "    #     print(\"I can't cube a letter a\")\n",
        "    #     continue # means we do with letter a but go back to begginging and ask for new input\n",
        "    \n",
        "    # try can be used alone without while, but is quite nice for handling user input\n",
        "    # so think of try as if block which will jump to except part if there is an error\n",
        "    # we do something within try block\n",
        "    try: \n",
        "        print(f\"Will try to conver {res} to number\")\n",
        "        num = float(res)\n",
        "        # we could try multiple things\n",
        "    except ValueError: # it is good practice to catch specific errors\n",
        "            # https://docs.python.org/3/library/exceptions.html\n",
        "        print(f\"Ooops Value error, {res} no bueno, enter an integer or float please!\")\n",
        "        continue # so we go back to the beginnin because our num was unusable\n",
        "    # if we get this far in our loop we know that number conversion must have worked\n",
        "    cube = num**3\n",
        "    cube = round(cube, 2)  # this rounds the num to 2 digits after comma(dot in English) instead of 2 i could use any other positive number\n",
        "    # default for round is 0, that is the number is rounded to integer\n",
        "    \n",
        "    print(f\"My calculator says cube of {num} is {cube}\")\n",
        "\n",
        "print(\"All done whew!\")"
      ]
    },
    {
      "cell_type": "markdown",
      "metadata": {
        "id": "NPocQ-ayXdzo"
      },
      "source": [
        "![DoWhile](https://upload.wikimedia.org/wikipedia/commons/thumb/9/92/Do-while-loop-diagram.svg/440px-Do-while-loop-diagram.svg.png)"
      ]
    },
    {
      "cell_type": "code",
      "execution_count": 15,
      "metadata": {
        "colab": {
          "base_uri": "https://localhost:8080/"
        },
        "id": "Aw2dpED-Xdzp",
        "outputId": "ad8f21b0-5b00-44c0-fa5a-f976eb02915b"
      },
      "outputs": [
        {
          "output_type": "stream",
          "name": "stdout",
          "text": [
            "Value of i 20\n",
            "This and above line will always happen\n",
            "Value of i 19\n",
            "This and above line will always happen\n",
            "Value of i 18\n",
            "This and above line will always happen\n",
            "Value of i 17\n",
            "This and above line will always happen\n",
            "Value of i 16\n",
            "This and above line will always happen\n",
            "Value of i 15\n",
            "This and above line will always happen\n",
            "Value of i 14\n",
            "This and above line will always happen\n",
            "Value of i 13\n",
            "This and above line will always happen\n",
            "Value of i 12\n",
            "This and above line will always happen\n",
            "Value of i 11\n",
            "This and above line will always happen\n",
            "Value of i 10\n",
            "This and above line will always happen\n",
            "Value of i 9\n",
            "This and above line will always happen\n",
            "Value of i 8\n",
            "This and above line will always happen\n",
            "Value of i 7\n",
            "This and above line will always happen\n",
            "Value of i 6\n",
            "This and above line will always happen\n",
            "Value of i 5\n",
            "This and above line will always happen\n",
            "My break conditions reached i is now 4\n",
            "This always runs after the loop is done and i = 4\n"
          ]
        }
      ],
      "source": [
        "# emulating do while\n",
        "# do while loop property is that the loop runs at least once\n",
        "i = 20\n",
        "while True:\n",
        "    print(\"Value of i\", i)\n",
        "    print(\"This and above line will always happen\")\n",
        "    i -= 1 # i am goind down so what will happen will we break out ?\n",
        "    if i < 5:\n",
        "        print(\"My break conditions reached i is now\", i)\n",
        "        break\n",
        "    \n",
        "print(\"This always runs after the loop is done and i =\", i)"
      ]
    },
    {
      "cell_type": "code",
      "source": [
        "# nested while loops\n",
        "x = 0\n",
        "\n",
        "# outer loop starts\n",
        "while x < 4:\n",
        "    # you can leave empty space if it helps you\n",
        "    y = 0  # depends on the task but we probably want to reset the inner loop iterator inside our outer loop\n",
        "    print(f\"Inside outer loop, x {x} and y {y}\")\n",
        "    while y < 3:\n",
        "        print(\"Inside inner loop\", x, y)\n",
        "        print(\"x*y =\", x*y)\n",
        "        # we need to do something otherwise we might have an infinite loop right ?\n",
        "        y += 1\n",
        "    # out of inner loop\n",
        "    x += 1"
      ],
      "metadata": {
        "colab": {
          "base_uri": "https://localhost:8080/"
        },
        "id": "JdkBV2wSdQKT",
        "outputId": "34b9ba70-d66d-4dcc-e36d-a7856b21369a"
      },
      "execution_count": 20,
      "outputs": [
        {
          "output_type": "stream",
          "name": "stdout",
          "text": [
            "Inside outer loop, x 0 and y 0\n",
            "Inside inner loop 0 0\n",
            "x*y = 0\n",
            "Inside inner loop 0 1\n",
            "x*y = 0\n",
            "Inside inner loop 0 2\n",
            "x*y = 0\n",
            "Inside outer loop, x 1 and y 0\n",
            "Inside inner loop 1 0\n",
            "x*y = 0\n",
            "Inside inner loop 1 1\n",
            "x*y = 1\n",
            "Inside inner loop 1 2\n",
            "x*y = 2\n",
            "Inside outer loop, x 2 and y 0\n",
            "Inside inner loop 2 0\n",
            "x*y = 0\n",
            "Inside inner loop 2 1\n",
            "x*y = 2\n",
            "Inside inner loop 2 2\n",
            "x*y = 4\n",
            "Inside outer loop, x 3 and y 0\n",
            "Inside inner loop 3 0\n",
            "x*y = 0\n",
            "Inside inner loop 3 1\n",
            "x*y = 3\n",
            "Inside inner loop 3 2\n",
            "x*y = 6\n"
          ]
        }
      ]
    },
    {
      "cell_type": "code",
      "source": [
        "num_limit = 100\n",
        "while True:\n",
        "    try:\n",
        "        n = input(\"Input last number for multiplication table\")\n",
        "        n = int(n) # if this fails we will jump to except ValueError\n",
        "    except ValueError:\n",
        "        print(f\"Friend {n} was not a number! Please try again\")\n",
        "        continue # goes back to while True\n",
        "    print(\"n is good\", n)\n",
        "    if n < num_limit: \n",
        "        print(\"We are good to break out of number entry loop\", n)\n",
        "        break # exit while\n",
        "    else:\n",
        "        print(\"Sorry n needs to be below\", num_limit)\n",
        "# previous loop is finished here\n",
        "x = 0\n",
        "while x <= n:\n",
        "    y = 0\n",
        "    while y <= n:\n",
        "        print(f\"{x}*{y}={x*y}\")  # {} let us put variables and expressions inside our string\n",
        "        y += 1\n",
        "    x += 1"
      ],
      "metadata": {
        "colab": {
          "base_uri": "https://localhost:8080/"
        },
        "id": "zT4JZAd9eMoF",
        "outputId": "2d9d8699-10dc-4ccb-ecc2-6e8756f5f81c"
      },
      "execution_count": 22,
      "outputs": [
        {
          "output_type": "stream",
          "name": "stdout",
          "text": [
            "Input last number for multiplication tableValdis\n",
            "Friend Valdis was not a number! Please try again\n",
            "Input last number for multiplication table555\n",
            "n is good 555\n",
            "Input last number for multiplication table8\n",
            "n is good 8\n",
            "We are good to break out of number entry loop 8\n",
            "0*0=0\n",
            "0*1=0\n",
            "0*2=0\n",
            "0*3=0\n",
            "0*4=0\n",
            "0*5=0\n",
            "0*6=0\n",
            "0*7=0\n",
            "0*8=0\n",
            "1*0=0\n",
            "1*1=1\n",
            "1*2=2\n",
            "1*3=3\n",
            "1*4=4\n",
            "1*5=5\n",
            "1*6=6\n",
            "1*7=7\n",
            "1*8=8\n",
            "2*0=0\n",
            "2*1=2\n",
            "2*2=4\n",
            "2*3=6\n",
            "2*4=8\n",
            "2*5=10\n",
            "2*6=12\n",
            "2*7=14\n",
            "2*8=16\n",
            "3*0=0\n",
            "3*1=3\n",
            "3*2=6\n",
            "3*3=9\n",
            "3*4=12\n",
            "3*5=15\n",
            "3*6=18\n",
            "3*7=21\n",
            "3*8=24\n",
            "4*0=0\n",
            "4*1=4\n",
            "4*2=8\n",
            "4*3=12\n",
            "4*4=16\n",
            "4*5=20\n",
            "4*6=24\n",
            "4*7=28\n",
            "4*8=32\n",
            "5*0=0\n",
            "5*1=5\n",
            "5*2=10\n",
            "5*3=15\n",
            "5*4=20\n",
            "5*5=25\n",
            "5*6=30\n",
            "5*7=35\n",
            "5*8=40\n",
            "6*0=0\n",
            "6*1=6\n",
            "6*2=12\n",
            "6*3=18\n",
            "6*4=24\n",
            "6*5=30\n",
            "6*6=36\n",
            "6*7=42\n",
            "6*8=48\n",
            "7*0=0\n",
            "7*1=7\n",
            "7*2=14\n",
            "7*3=21\n",
            "7*4=28\n",
            "7*5=35\n",
            "7*6=42\n",
            "7*7=49\n",
            "7*8=56\n",
            "8*0=0\n",
            "8*1=8\n",
            "8*2=16\n",
            "8*3=24\n",
            "8*4=32\n",
            "8*5=40\n",
            "8*6=48\n",
            "8*7=56\n",
            "8*8=64\n"
          ]
        }
      ]
    },
    {
      "cell_type": "markdown",
      "source": [
        "# Multiple nested we can do triple or even more nested loops - it becomes harder to reason about such loops"
      ],
      "metadata": {
        "id": "Rk4hMjGbe6-l"
      }
    },
    {
      "cell_type": "markdown",
      "source": [
        "# Number guessing game with while loop"
      ],
      "metadata": {
        "id": "NsRm-VxIhQas"
      }
    },
    {
      "cell_type": "code",
      "source": [
        "# game for two\n",
        "while True:\n",
        "    # handling exceptions https://docs.python.org/3/tutorial/errors.html#handling-exceptions\n",
        "    try:\n",
        "        secret = input(\"Player A enter number\")\n",
        "        secret = int(secret)\n",
        "        print(\"This means integer was entered\", secret)\n",
        "        break # this break is only reached when secret was successfully converted\n",
        "    except ValueError:\n",
        "        print(\"not an integer! please try again\")\n",
        "        # so here continue is not required because we are still going back to the start\n",
        "        # of while loop\n",
        "    #     continue\n",
        "    # print(\"This means integer was entered\", secret) # of course in a game setting\n",
        "    # # secret should not be shown on a screen :)\n",
        "    # break # so this means we have made a valid secret that means we can break first loop\n",
        "\n",
        "guess = None\n",
        "num_guesses = 0\n",
        "\n",
        "while guess != secret: # we keep playing as long as guess is not equal to secret\n",
        "    guess = input(\"What is your guess Player B? (q to give up)\")\n",
        "    if guess == \"q\" or guess == \"Q\":  # there are other ways of doing this checking\n",
        "        print(\"We give up\")\n",
        "        break\n",
        "    guess = int(guess) # we convert AFTER checking for q\n",
        "    num_guesses += 1 # our gusses counter\n",
        "    if guess < secret:\n",
        "        print(\"Your guess is less than secret\")\n",
        "    elif guess > secret:\n",
        "        print(\"Your guess is more than secret\")\n",
        "# this is where the loop is already ended\n",
        "print(\"So the secret number was\", secret)\n",
        "print(f\"You took {num_guesses} tries\")\n",
        "# this code could always be improved, for example we could track the number of guesses"
      ],
      "metadata": {
        "colab": {
          "base_uri": "https://localhost:8080/"
        },
        "id": "WBbVtex9fEBS",
        "outputId": "14c81a18-30e6-4636-869a-686028fa18d4"
      },
      "execution_count": 25,
      "outputs": [
        {
          "output_type": "stream",
          "name": "stdout",
          "text": [
            "Player A enter numberValdis\n",
            "not an integer! please try again\n",
            "Player A enter number3\n",
            "This means integer was entered 3\n",
            "What is your guess Player B? (q to give up)3\n",
            "So the secret number was 3\n",
            "You took 1 tries\n"
          ]
        }
      ]
    },
    {
      "cell_type": "markdown",
      "source": [
        "# Best case for while loops - indefinite iteration\n",
        "best use for while loops is when we are not sure what the increment or decrement should be, maybe we have a sensor for meteor strike that coudl be our break condition\n",
        "Python offers another type of loop for going though something definite"
      ],
      "metadata": {
        "id": "qfAawaNhc8Lm"
      }
    },
    {
      "cell_type": "markdown",
      "source": [
        "# For Loops - for definite iteration over something"
      ],
      "metadata": {
        "id": "EgHzVC7HjKg9"
      }
    },
    {
      "cell_type": "markdown",
      "metadata": {
        "id": "tzulQAH-Xdzp"
      },
      "source": [
        "![For Loop](https://media.geeksforgeeks.org/wp-content/uploads/20191101172216/for-loop-python.jpg)\n",
        "From: https://www.geeksforgeeks.org/python-for-loops/"
      ]
    },
    {
      "cell_type": "code",
      "execution_count": 27,
      "metadata": {
        "colab": {
          "base_uri": "https://localhost:8080/"
        },
        "id": "PJrqdNOjXdzq",
        "outputId": "963d0681-ee95-4350-f3c4-f34dc897ef63"
      },
      "outputs": [
        {
          "output_type": "stream",
          "name": "stdout",
          "text": [
            "Number is 0\n",
            "Number is 1\n",
            "Number is 2\n",
            "Number is 3\n",
            "Number is 4\n",
            "Number is 5\n",
            "Number is 6\n",
            "Number is 7\n",
            "Number is 8\n",
            "Number is 9\n"
          ]
        }
      ],
      "source": [
        "# for loops\n",
        "# notice we do not have to define n before this loop\n",
        "for n in range(10): # what is range it is sort of like semi-ready sequence of numbers that generates numbers on demand\n",
        "    # notice we start at 0 and go until 9 (not 10!)\n",
        "    print(\"Number is\", n)\n",
        "    # also notice we do not have to write n += 1 here.."
      ]
    },
    {
      "cell_type": "code",
      "source": [
        "# it is relatively common to see beginners use increment on item in the loop\n",
        "for i in range(4):\n",
        "    print(\"i is \", i)\n",
        "    i += 10 # this is usually not needed or useless\n",
        "    print(\"i is \", i) # i will have +10 until the end of this cycle/loop\n",
        "    print(\"Going back to next item in range\")"
      ],
      "metadata": {
        "id": "NM9R2zHYzt28",
        "outputId": "e0e00de8-8864-4d28-a13d-cc527682e64f",
        "colab": {
          "base_uri": "https://localhost:8080/"
        }
      },
      "execution_count": 30,
      "outputs": [
        {
          "output_type": "stream",
          "name": "stdout",
          "text": [
            "i is  0\n",
            "i is  10\n",
            "Going back to next item in range\n",
            "i is  1\n",
            "i is  11\n",
            "Going back to next item in range\n",
            "i is  2\n",
            "i is  12\n",
            "Going back to next item in range\n",
            "i is  3\n",
            "i is  13\n",
            "Going back to next item in range\n"
          ]
        }
      ]
    },
    {
      "cell_type": "code",
      "source": [
        "# so in order to use for loop you need some sort of collection/sequence of something to go over\n",
        "# there are many different types of collections, we cover the basic ones in this course"
      ],
      "metadata": {
        "id": "A1GZXVUcjlG1"
      },
      "execution_count": null,
      "outputs": []
    },
    {
      "cell_type": "code",
      "execution_count": 32,
      "metadata": {
        "colab": {
          "base_uri": "https://localhost:8080/"
        },
        "id": "vb_BfOHxXdzq",
        "outputId": "6b6a072a-3615-43ea-cbd5-806ce1a2e8f1"
      },
      "outputs": [
        {
          "output_type": "stream",
          "name": "stdout",
          "text": [
            "Hello there Valdis\n",
            "Letter  V\n",
            "Unicode of letter V is 86\n",
            "Letter  a\n",
            "Unicode of letter a is 97\n",
            "Letter  l\n",
            "Unicode of letter l is 108\n",
            "Letter  d\n",
            "Unicode of letter d is 100\n",
            "Letter  i\n",
            "Unicode of letter i is 105\n",
            "Letter  s\n",
            "Unicode of letter s is 115\n",
            "This happens after the loop is done\n"
          ]
        }
      ],
      "source": [
        "my_name = \"Valdis\" # string is a sequence of characters\n",
        "print(f\"Hello there {my_name}\")\n",
        "for c in my_name: # it could my_char , could be my_val whatever, we just chose to use c here\n",
        "    print(\"Letter \", c) \n",
        "    print(f\"Unicode of letter {c} is {ord(c)}\")   \n",
        "print(\"This happens after the loop is done\")"
      ]
    },
    {
      "cell_type": "code",
      "execution_count": 33,
      "metadata": {
        "colab": {
          "base_uri": "https://localhost:8080/"
        },
        "id": "uLIe1ie6Xdzr",
        "outputId": "142636da-101a-46fb-a6ca-047bc2ed82ba"
      },
      "outputs": [
        {
          "output_type": "stream",
          "name": "stdout",
          "text": [
            "20\n",
            "21\n",
            "22\n",
            "23\n",
            "24\n"
          ]
        }
      ],
      "source": [
        "for n in range(20,25): # we can specific start and end of the range, notice end of the range is actually end-1\n",
        "    # in other works beggingin is inclusive\n",
        "    # and end is exclusive (not included)\n",
        "    print(n)"
      ]
    },
    {
      "cell_type": "code",
      "execution_count": 35,
      "metadata": {
        "colab": {
          "base_uri": "https://localhost:8080/"
        },
        "id": "x9NQekzeXdzr",
        "outputId": "5d1112d2-f79b-443b-beb4-e9e8b0fb5f33"
      },
      "outputs": [
        {
          "output_type": "stream",
          "name": "stdout",
          "text": [
            "100\n",
            "102\n",
            "104\n",
            "106\n",
            "108\n",
            "110\n"
          ]
        }
      ],
      "source": [
        "for my_num in range(100,110+1,2): # i can add step to range\n",
        "    # so step represent how we are going to jump to the next number\n",
        "    print(my_num)\n",
        "    "
      ]
    },
    {
      "cell_type": "code",
      "source": [
        "# c, my_num, n were variables which we created inside"
      ],
      "metadata": {
        "id": "R6S9IHkUkkrJ"
      },
      "execution_count": null,
      "outputs": []
    },
    {
      "cell_type": "code",
      "source": [
        "# lets try negative -\n",
        "for n in range(30,20, -3):\n",
        "    print(\"n is \", n)\n",
        "print(\"after exiting loop n is\", n) # this is different from while loops where it would be 18 (not 21)"
      ],
      "metadata": {
        "id": "gwQ3DZE7kglE",
        "outputId": "2f5351ce-dd45-4ab4-f4ab-d3804bb71270",
        "colab": {
          "base_uri": "https://localhost:8080/"
        }
      },
      "execution_count": 36,
      "outputs": [
        {
          "output_type": "stream",
          "name": "stdout",
          "text": [
            "n is  30\n",
            "n is  27\n",
            "n is  24\n",
            "n is  21\n",
            "after exiting loop n is 21\n"
          ]
        }
      ]
    },
    {
      "cell_type": "code",
      "source": [
        "# limitation of standard range\n",
        "# step has to be integer - positive or negative\n",
        "\n",
        "# if you need step to be floating point\n",
        "# then you can use either while loop,\n",
        "# or you can use an external Python library such as numpy which does offer fractional range\n",
        "\n"
      ],
      "metadata": {
        "id": "zqOFyLFElVcs"
      },
      "execution_count": null,
      "outputs": []
    },
    {
      "cell_type": "markdown",
      "source": [
        "For loops - could always rewrite as while loops - for is just shorter\n"
      ],
      "metadata": {
        "id": "EwCOHw3klWVb"
      }
    },
    {
      "cell_type": "code",
      "source": [
        "start = 30\n",
        "end = 20\n",
        "step = -3\n",
        "n = start\n",
        "while n > end:\n",
        "    print(\"n is \", n)\n",
        "    n += step # n = n + step (here step could be negative that is fine)\n",
        "print(\"n outside loop is\", n)"
      ],
      "metadata": {
        "id": "BTchSACBlbV2",
        "outputId": "bbc6943e-8bdd-46a9-fd9a-6a02aa2d59e1",
        "colab": {
          "base_uri": "https://localhost:8080/"
        }
      },
      "execution_count": 37,
      "outputs": [
        {
          "output_type": "stream",
          "name": "stdout",
          "text": [
            "n is  30\n",
            "n is  27\n",
            "n is  24\n",
            "n is  21\n",
            "n outside loop is 18\n"
          ]
        }
      ]
    },
    {
      "cell_type": "code",
      "source": [
        "# we usually do not need the value of our iterator outside loop\n",
        "# crucially with while loops we have to remember to reset the iterator if we want to use it again\n",
        "# for loops it is done automatically\n",
        "for n in range(9000,9_009, 2):\n",
        "    print(n)"
      ],
      "metadata": {
        "id": "3CNNA4o4lzXl",
        "outputId": "b7c91842-a119-4b66-af78-32b1a53202bc",
        "colab": {
          "base_uri": "https://localhost:8080/"
        }
      },
      "execution_count": 39,
      "outputs": [
        {
          "output_type": "stream",
          "name": "stdout",
          "text": [
            "9000\n",
            "9002\n",
            "9004\n",
            "9006\n",
            "9008\n"
          ]
        }
      ]
    },
    {
      "cell_type": "code",
      "execution_count": 40,
      "metadata": {
        "colab": {
          "base_uri": "https://localhost:8080/"
        },
        "id": "pQVrAD5GXdzr",
        "outputId": "5e5c4b2f-ed55-4776-8b4b-ae41346f1ab0"
      },
      "outputs": [
        {
          "output_type": "stream",
          "name": "stdout",
          "text": [
            "Working with item:  1\n",
            "Working with item:  2\n",
            "Working with item:  100\n",
            "Working with item:  105\n",
            "Working with item:  Valdis\n",
            "Working with item:  potatoes\n",
            "Working with item:  9000\n",
            "Working with item:  107.35\n",
            "Total price is 9315.35\n",
            "We had 3 with price over 100\n"
          ]
        }
      ],
      "source": [
        "# could iterate over any sequence, we will look at list in more depth later in course\n",
        "my_list = [1,2,100,105,\"Valdis\",\"potatoes\", 9000, 107.35] # list holds a collection of arbitrary data types\n",
        "total = 0\n",
        "big_items = 0\n",
        "for item in my_list:\n",
        "    print(\"Working with item: \", item)\n",
        "    if type(item) == int or type(item) == float:\n",
        "        total += item\n",
        "        if item > 100:\n",
        "            big_items += 1\n",
        "print(\"Total price is\", total)\n",
        "print(f\"We had {big_items} with price over 100\")"
      ]
    },
    {
      "cell_type": "code",
      "source": [
        "total = 0 # instead of total it could be my_sum, my_total or anything else\n",
        "# only sum is not advisable as it is used by Python\n",
        "for n in range(10):\n",
        "    print(f\"Total so far {total}, new number to be added {n}\")\n",
        "    total += n\n",
        "print(\"Sum of numbers 0 to 9 is\", total)"
      ],
      "metadata": {
        "id": "N75-a8OwmnBs",
        "outputId": "53497ab5-e7e6-4b03-8c66-31e5be64264c",
        "colab": {
          "base_uri": "https://localhost:8080/"
        }
      },
      "execution_count": 41,
      "outputs": [
        {
          "output_type": "stream",
          "name": "stdout",
          "text": [
            "Total so far 0, new number to be added 0\n",
            "Total so far 0, new number to be added 1\n",
            "Total so far 1, new number to be added 2\n",
            "Total so far 3, new number to be added 3\n",
            "Total so far 6, new number to be added 4\n",
            "Total so far 10, new number to be added 5\n",
            "Total so far 15, new number to be added 6\n",
            "Total so far 21, new number to be added 7\n",
            "Total so far 28, new number to be added 8\n",
            "Total so far 36, new number to be added 9\n",
            "Sum of numbers 0 to 9 is 45\n"
          ]
        }
      ]
    },
    {
      "cell_type": "code",
      "source": [
        "# in python we could have been lazier\n",
        "sum(range(10))  # sum works over sequences\n",
        "# so this is why I do not like sum as a variable name even though it is legal"
      ],
      "metadata": {
        "id": "2PADofxjmwYq",
        "outputId": "18ca8d92-615e-489a-de78-1a176d68244d",
        "colab": {
          "base_uri": "https://localhost:8080/"
        }
      },
      "execution_count": 42,
      "outputs": [
        {
          "output_type": "execute_result",
          "data": {
            "text/plain": [
              "45"
            ]
          },
          "metadata": {},
          "execution_count": 42
        }
      ]
    },
    {
      "cell_type": "code",
      "execution_count": 44,
      "metadata": {
        "colab": {
          "base_uri": "https://localhost:8080/"
        },
        "id": "qmi_dsI-Xdzs",
        "outputId": "50b29fef-fef5-42c2-df75-a4db8cf62500"
      },
      "outputs": [
        {
          "output_type": "stream",
          "name": "stdout",
          "text": [
            "After loop exits the max is found 9531\n",
            "9531\n"
          ]
        },
        {
          "output_type": "execute_result",
          "data": {
            "text/plain": [
              "9"
            ]
          },
          "metadata": {},
          "execution_count": 44
        }
      ],
      "source": [
        "# Find maximum value in a list             \n",
        "my_num_list = [1,6,17,9531,7,-6,49,642,6,2,-5555]\n",
        "\n",
        "my_max = None\n",
        "for num in my_num_list:\n",
        "    if my_max == None: # this will happen with first item\n",
        "        my_max = num\n",
        "    if num > my_max:\n",
        "        my_max = num\n",
        "print(\"After loop exits the max is found\", my_max)\n",
        "# Intermediate skill       \n",
        "# Python has a built in max method so you could unroll your list\n",
        "print(max(*my_num_list)) # * unrolls items in the list, so they match max function\n",
        "# requirements, max requires multiple values entered separated by comma\n",
        "max(5,1,9)\n",
        "    "
      ]
    },
    {
      "cell_type": "code",
      "source": [],
      "metadata": {
        "id": "BSru0KTWnZWi"
      },
      "execution_count": null,
      "outputs": []
    },
    {
      "cell_type": "markdown",
      "source": [
        "# break in for loop"
      ],
      "metadata": {
        "id": "qS2Ee9t5ncDE"
      }
    },
    {
      "cell_type": "code",
      "source": [
        "# you can put in break inside for loop\n",
        "# just like while loop \n",
        "for n in range(10):\n",
        "    print(n)\n",
        "    if n > 5:\n",
        "        print(\"Too much\", n)\n",
        "        break\n",
        "print(\"outside n is\", n)"
      ],
      "metadata": {
        "id": "4I5la14gnea8",
        "outputId": "a5dd6dfb-4b46-49c9-b021-9c99e3684820",
        "colab": {
          "base_uri": "https://localhost:8080/"
        }
      },
      "execution_count": 45,
      "outputs": [
        {
          "output_type": "stream",
          "name": "stdout",
          "text": [
            "0\n",
            "1\n",
            "2\n",
            "3\n",
            "4\n",
            "5\n",
            "6\n",
            "Too much 6\n",
            "outside n is 6\n"
          ]
        }
      ]
    },
    {
      "cell_type": "code",
      "source": [
        "# we can also use continue inside our for loop\n",
        "for n in range(10):\n",
        "    print(n)\n",
        "    if n < 4:\n",
        "        print(\"not ready yet\", n)\n",
        "        continue  # this goes to the start of loop\n",
        "    # we could have done this with if else instead of continue\n",
        "    print(\"big n\", n)"
      ],
      "metadata": {
        "id": "2pft5BRsnvjw",
        "outputId": "509fc938-cd44-4fab-c407-11982f58a1d5",
        "colab": {
          "base_uri": "https://localhost:8080/"
        }
      },
      "execution_count": 47,
      "outputs": [
        {
          "output_type": "stream",
          "name": "stdout",
          "text": [
            "0\n",
            "not ready yet 0\n",
            "1\n",
            "not ready yet 1\n",
            "2\n",
            "not ready yet 2\n",
            "3\n",
            "not ready yet 3\n",
            "4\n",
            "big n 4\n",
            "5\n",
            "big n 5\n",
            "6\n",
            "big n 6\n",
            "7\n",
            "big n 7\n",
            "8\n",
            "big n 8\n",
            "9\n",
            "big n 9\n"
          ]
        }
      ]
    },
    {
      "cell_type": "code",
      "source": [
        "# in practice break is often useful continue is less useful"
      ],
      "metadata": {
        "id": "j8yjd6TaoE9d"
      },
      "execution_count": null,
      "outputs": []
    },
    {
      "cell_type": "code",
      "source": [
        "# for loops might need a method of adding a index to some sequence member\n",
        "for i,c in enumerate(my_name):  # by default i will start at 0, again i and c were my choices, you could use different names\n",
        "    print(i, c) \n",
        "    # after each loop is run, i,c values are reused for next loop"
      ],
      "metadata": {
        "id": "4AYT9BPOoH9O",
        "outputId": "e86cd0b8-36fa-4552-8ecc-d4307490c97c",
        "colab": {
          "base_uri": "https://localhost:8080/"
        }
      },
      "execution_count": 48,
      "outputs": [
        {
          "output_type": "stream",
          "name": "stdout",
          "text": [
            "0 V\n",
            "1 a\n",
            "2 l\n",
            "3 d\n",
            "4 i\n",
            "5 s\n"
          ]
        }
      ]
    },
    {
      "cell_type": "code",
      "source": [
        "for n in range(20):\n",
        "    if n % 2 == 0:\n",
        "        print(n, \"is even!\")\n",
        "    else:\n",
        "        print(n, \"is odd\")"
      ],
      "metadata": {
        "id": "A8fRiJdsobEy",
        "outputId": "ecd62412-0266-4bfb-808a-365535fb205d",
        "colab": {
          "base_uri": "https://localhost:8080/"
        }
      },
      "execution_count": 50,
      "outputs": [
        {
          "output_type": "stream",
          "name": "stdout",
          "text": [
            "0 is even!\n",
            "1 is odd\n",
            "2 is even!\n",
            "3 is odd\n",
            "4 is even!\n",
            "5 is odd\n",
            "6 is even!\n",
            "7 is odd\n",
            "8 is even!\n",
            "9 is odd\n",
            "10 is even!\n",
            "11 is odd\n",
            "12 is even!\n",
            "13 is odd\n",
            "14 is even!\n",
            "15 is odd\n",
            "16 is even!\n",
            "17 is odd\n",
            "18 is even!\n",
            "19 is odd\n"
          ]
        }
      ]
    },
    {
      "cell_type": "markdown",
      "metadata": {
        "id": "nHiijXVAXdzs"
      },
      "source": [
        "## Practice \n",
        "### Write a program that goes over(iterates) numbers from 1 to 100(included)\n",
        "* For each number it prints Fizz if number divides by 5 even\n",
        "* For each number it prints Buzz if number divides by 7 evenly\n",
        "* If number divides by 5 AND 7 print FizzBuzz\n",
        "* print number if it does not divide by 5 nor 7\n",
        "* 1,2,3,4,Fizz,6,Buzz,8,9,Fizz,11,.......34,FizzBuzz,36"
      ]
    },
    {
      "cell_type": "code",
      "execution_count": null,
      "metadata": {
        "id": "IK8mFLjoXdzs"
      },
      "outputs": [],
      "source": [
        "1,2,3,4,\"Fizz\""
      ]
    },
    {
      "cell_type": "code",
      "execution_count": null,
      "metadata": {
        "id": "RdLcyH0iXdzs"
      },
      "outputs": [],
      "source": [
        "for x in range(1,101):\n",
        "    print(x)"
      ]
    }
  ],
  "metadata": {
    "kernelspec": {
      "display_name": "Python 3",
      "language": "python",
      "name": "python3"
    },
    "language_info": {
      "codemirror_mode": {
        "name": "ipython",
        "version": 3
      },
      "file_extension": ".py",
      "mimetype": "text/x-python",
      "name": "python",
      "nbconvert_exporter": "python",
      "pygments_lexer": "ipython3",
      "version": "3.8.3"
    },
    "colab": {
      "name": "Python_Loops.ipynb",
      "provenance": []
    }
  },
  "nbformat": 4,
  "nbformat_minor": 0
}