{
  "cells": [
    {
      "cell_type": "code",
      "execution_count": 2,
      "metadata": {
        "colab": {
          "base_uri": "https://localhost:8080/"
        },
        "id": "NID8P6UGXdzi",
        "outputId": "6c787231-240e-4b9f-f281-ca807b7857c5"
      },
      "outputs": [
        {
          "output_type": "stream",
          "name": "stdout",
          "text": [
            "Hello\n",
            "Hello\n"
          ]
        }
      ],
      "source": [
        "print(\"Hello\")\n",
        "print(\"Hello\")\n",
        "# how to do this 100 times (we are not going to paste print 100 times are we ? :)"
      ]
    },
    {
      "cell_type": "markdown",
      "source": [
        "# While loops"
      ],
      "metadata": {
        "id": "omdfduzchc-9"
      }
    },
    {
      "cell_type": "markdown",
      "metadata": {
        "id": "eUj9I6jGXdzl"
      },
      "source": [
        "![While](https://upload.wikimedia.org/wikipedia/commons/thumb/4/43/While-loop-diagram.svg/440px-While-loop-diagram.svg.png)"
      ]
    },
    {
      "cell_type": "code",
      "execution_count": 5,
      "metadata": {
        "colab": {
          "base_uri": "https://localhost:8080/"
        },
        "id": "cR3eQfNMXdzm",
        "outputId": "596b81cc-4c2c-4b0e-e691-9d495e9e5ac0"
      },
      "outputs": [
        {
          "output_type": "stream",
          "name": "stdout",
          "text": [
            "i <= 5 True\n",
            "Hello No. 0\n",
            "I can do more stuff here\n",
            "i <= 5 True\n",
            "Hello No. 1\n",
            "I can do more stuff here\n",
            "i <= 5 True\n",
            "Hello No. 2\n",
            "I can do more stuff here\n",
            "i <= 5 True\n",
            "Hello No. 3\n",
            "I can do more stuff here\n",
            "i <= 5 True\n",
            "Hello No. 4\n",
            "I can do more stuff here\n",
            "i <= 5 True\n",
            "Hello No. 5\n",
            "I can do more stuff here\n",
            "Always happens once loop is finished\n",
            "i is now 6\n"
          ]
        }
      ],
      "source": [
        "i = 0\n",
        "while i <= 5:  # so loop while the statement to the left is True\n",
        "    print(\"i <= 5\", i <= 5)\n",
        "    print(\"Hello No.\", i)\n",
        "    print(\"I can do more stuff here\")\n",
        "    i += 1 # same as  i = i + 1\n",
        "print(\"Always happens once loop is finished\")\n",
        "print(\"i is now\", i)"
      ]
    },
    {
      "cell_type": "code",
      "execution_count": 8,
      "metadata": {
        "colab": {
          "base_uri": "https://localhost:8080/"
        },
        "id": "5jzFEpcwXdzm",
        "outputId": "7f499b25-bc85-4dca-94ef-206f432669f6"
      },
      "outputs": [
        {
          "output_type": "stream",
          "name": "stdout",
          "text": [
            "Going down the floor: 10\n",
            "Going down the floor: 9\n",
            "Going down the floor: 8\n",
            "Going down the floor: 7\n",
            "Going down the floor: 6\n",
            "Going down the floor: 5\n",
            "Going down the floor: 4\n",
            "Going down the floor: 3\n",
            "Going down the floor: 2\n",
            "Going down the floor: 1\n",
            "Whew we are done with this i: 0\n"
          ]
        }
      ],
      "source": [
        "i = 10\n",
        "while i > 0:\n",
        "    print(\"Going down the floor:\", i)\n",
        "    # i could do more stuff\n",
        "    i -= 1  # this is the same as writing i = i - 2\n",
        "print(\"Whew we are done with this i:\", i)\n"
      ]
    },
    {
      "cell_type": "markdown",
      "source": [
        "# break - \n",
        "we can break out of loops early, we could even make infinite loops with break conditions"
      ],
      "metadata": {
        "id": "28COQoa3ZZ0q"
      }
    },
    {
      "cell_type": "code",
      "execution_count": 13,
      "metadata": {
        "colab": {
          "base_uri": "https://localhost:8080/"
        },
        "id": "X-do2r8gXdzn",
        "outputId": "b86fd867-741c-4c19-f1ba-34608214ebac"
      },
      "outputs": [
        {
          "output_type": "stream",
          "name": "stdout",
          "text": [
            "i is 20\n",
            "i is 60\n",
            "i is 100\n",
            "i is 140\n",
            "i is 180\n",
            "i is 220\n",
            "i is 260\n",
            "i is 300\n",
            "i is 340\n",
            "i is 380\n",
            "i is 420\n",
            "i is 460\n",
            "i is 500\n",
            "i is 540\n",
            "I want to break free!!! i is 540\n",
            "We are out of the loop finally and i is 540\n"
          ]
        }
      ],
      "source": [
        "i = 20\n",
        "while True: # this is a normal construction, often used with break, so do something forever, but possible break out\n",
        "    print(\"i is\",i)  # so this line will be run at least once  no matter the condition under neath\n",
        "    if i > 500:\n",
        "        print(\"I want to break free!!! i is\", i)\n",
        "        break # break gets us to the next line after the loop\n",
        "    i += 40  # same as i = i + 40\n",
        "# the break takes us here\n",
        "print(\"We are out of the loop finally and i is\", i) "
      ]
    },
    {
      "cell_type": "markdown",
      "source": [
        "# continue - return to the start of the loop"
      ],
      "metadata": {
        "id": "4hurtX0RbAhb"
      }
    },
    {
      "cell_type": "code",
      "execution_count": 18,
      "metadata": {
        "colab": {
          "base_uri": "https://localhost:8080/"
        },
        "id": "4v81BBYvXdzn",
        "outputId": "b5a1cb68-cddc-43a3-ea88-bda89fddcdff"
      },
      "outputs": [
        {
          "output_type": "stream",
          "name": "stdout",
          "text": [
            "Enter number or q to quit 5.134\n",
            "My calculator says cube of 5.134 is 135.32\n",
            "Enter number or q to quit q\n",
            "No more calculations today\n",
            "All done whew!\n"
          ]
        }
      ],
      "source": [
        "while True:\n",
        "    res = input(\"Enter number or q to quit \")\n",
        "    if res == \"q\":\n",
        "        print(\"No more calculations today\")\n",
        "        break  # we finally get out of the loop\n",
        "    elif res == \"a\": # TODO check if if the input is text\n",
        "        print(\"I can't cube a letter a\")\n",
        "        continue # means we do with letter a but go back to begginging and ask for new input\n",
        "    num = float(res)\n",
        "    cube = num**3\n",
        "    cube = round(cube, 2)  # this rounds the num to 2 digits after comma(dot in English) instead of 2 i could use any other positive number\n",
        "    # default for round is 0, that is the number is rounded to integer\n",
        "    \n",
        "    print(f\"My calculator says cube of {num} is {cube}\")\n",
        "\n",
        "print(\"All done whew!\")"
      ]
    },
    {
      "cell_type": "markdown",
      "metadata": {
        "id": "NPocQ-ayXdzo"
      },
      "source": [
        "![DoWhile](https://upload.wikimedia.org/wikipedia/commons/thumb/9/92/Do-while-loop-diagram.svg/440px-Do-while-loop-diagram.svg.png)"
      ]
    },
    {
      "cell_type": "code",
      "execution_count": 21,
      "metadata": {
        "colab": {
          "base_uri": "https://localhost:8080/"
        },
        "id": "Aw2dpED-Xdzp",
        "outputId": "0e3986a9-a6c8-41b8-f5f1-91ee508785e6"
      },
      "outputs": [
        {
          "output_type": "stream",
          "name": "stdout",
          "text": [
            "Value of i 20\n",
            "This and above line will always happen\n",
            "Value of i 19\n",
            "This and above line will always happen\n",
            "Value of i 18\n",
            "This and above line will always happen\n",
            "Value of i 17\n",
            "This and above line will always happen\n",
            "Value of i 16\n",
            "This and above line will always happen\n",
            "Value of i 15\n",
            "This and above line will always happen\n",
            "Value of i 14\n",
            "This and above line will always happen\n",
            "Value of i 13\n",
            "This and above line will always happen\n",
            "Value of i 12\n",
            "This and above line will always happen\n",
            "Value of i 11\n",
            "This and above line will always happen\n",
            "Value of i 10\n",
            "This and above line will always happen\n",
            "Value of i 9\n",
            "This and above line will always happen\n",
            "Value of i 8\n",
            "This and above line will always happen\n",
            "Value of i 7\n",
            "This and above line will always happen\n",
            "Value of i 6\n",
            "This and above line will always happen\n",
            "Value of i 5\n",
            "This and above line will always happen\n",
            "This always runs after the loop is done and i = 4\n"
          ]
        }
      ],
      "source": [
        "# emulating do while\n",
        "# do while loop property is that the loop runs at least once\n",
        "i = 20\n",
        "while True:\n",
        "    print(\"Value of i\", i)\n",
        "    print(\"This and above line will always happen\")\n",
        "    i -= 1 # i am goind down so what will happen will we break out ?\n",
        "    if i < 5:\n",
        "        break\n",
        "    \n",
        "print(\"This always runs after the loop is done and i =\", i)"
      ]
    },
    {
      "cell_type": "code",
      "source": [
        "# nested while loops\n",
        "x = 0\n",
        "\n",
        "while x < 10:\n",
        "    print(\"Inside outer loop, x and y\", x, y)\n",
        "    y = 0  # depends on the task but we probably want to reset the inner loop iterator inside our outer loop\n",
        "    while y < 5:\n",
        "        print(\"Insider inner loop\", x, y)\n",
        "        # we need to do something otherwise we might have an infinite loop right ?\n",
        "        y += 1\n",
        "    # out of inner loop\n",
        "    x += 1"
      ],
      "metadata": {
        "colab": {
          "base_uri": "https://localhost:8080/"
        },
        "id": "JdkBV2wSdQKT",
        "outputId": "601bd46b-e683-41b1-867a-80b6a16c7862"
      },
      "execution_count": 23,
      "outputs": [
        {
          "output_type": "stream",
          "name": "stdout",
          "text": [
            "Inside outer loop, x and y 0 5\n",
            "Insider inner loop 0 0\n",
            "Insider inner loop 0 1\n",
            "Insider inner loop 0 2\n",
            "Insider inner loop 0 3\n",
            "Insider inner loop 0 4\n",
            "Inside outer loop, x and y 1 5\n",
            "Insider inner loop 1 0\n",
            "Insider inner loop 1 1\n",
            "Insider inner loop 1 2\n",
            "Insider inner loop 1 3\n",
            "Insider inner loop 1 4\n",
            "Inside outer loop, x and y 2 5\n",
            "Insider inner loop 2 0\n",
            "Insider inner loop 2 1\n",
            "Insider inner loop 2 2\n",
            "Insider inner loop 2 3\n",
            "Insider inner loop 2 4\n",
            "Inside outer loop, x and y 3 5\n",
            "Insider inner loop 3 0\n",
            "Insider inner loop 3 1\n",
            "Insider inner loop 3 2\n",
            "Insider inner loop 3 3\n",
            "Insider inner loop 3 4\n",
            "Inside outer loop, x and y 4 5\n",
            "Insider inner loop 4 0\n",
            "Insider inner loop 4 1\n",
            "Insider inner loop 4 2\n",
            "Insider inner loop 4 3\n",
            "Insider inner loop 4 4\n",
            "Inside outer loop, x and y 5 5\n",
            "Insider inner loop 5 0\n",
            "Insider inner loop 5 1\n",
            "Insider inner loop 5 2\n",
            "Insider inner loop 5 3\n",
            "Insider inner loop 5 4\n",
            "Inside outer loop, x and y 6 5\n",
            "Insider inner loop 6 0\n",
            "Insider inner loop 6 1\n",
            "Insider inner loop 6 2\n",
            "Insider inner loop 6 3\n",
            "Insider inner loop 6 4\n",
            "Inside outer loop, x and y 7 5\n",
            "Insider inner loop 7 0\n",
            "Insider inner loop 7 1\n",
            "Insider inner loop 7 2\n",
            "Insider inner loop 7 3\n",
            "Insider inner loop 7 4\n",
            "Inside outer loop, x and y 8 5\n",
            "Insider inner loop 8 0\n",
            "Insider inner loop 8 1\n",
            "Insider inner loop 8 2\n",
            "Insider inner loop 8 3\n",
            "Insider inner loop 8 4\n",
            "Inside outer loop, x and y 9 5\n",
            "Insider inner loop 9 0\n",
            "Insider inner loop 9 1\n",
            "Insider inner loop 9 2\n",
            "Insider inner loop 9 3\n",
            "Insider inner loop 9 4\n"
          ]
        }
      ]
    },
    {
      "cell_type": "code",
      "source": [
        "n = int(input(\"Input last number for multiplication table\"))\n",
        "x = 0\n",
        "while x <= n:\n",
        "    y = 0\n",
        "    while y <= n:\n",
        "        print(f\"{x}*{y}={x*y}\")  # {} let us put variables and expressions inside our string\n",
        "        y += 1\n",
        "    x += 1"
      ],
      "metadata": {
        "colab": {
          "base_uri": "https://localhost:8080/"
        },
        "id": "zT4JZAd9eMoF",
        "outputId": "96a4847e-0924-454e-f516-94fe5792d2f8"
      },
      "execution_count": 25,
      "outputs": [
        {
          "output_type": "stream",
          "name": "stdout",
          "text": [
            "Input last number for multiplication table10\n",
            "0*0=0\n",
            "0*1=0\n",
            "0*2=0\n",
            "0*3=0\n",
            "0*4=0\n",
            "0*5=0\n",
            "0*6=0\n",
            "0*7=0\n",
            "0*8=0\n",
            "0*9=0\n",
            "0*10=0\n",
            "1*0=0\n",
            "1*1=1\n",
            "1*2=2\n",
            "1*3=3\n",
            "1*4=4\n",
            "1*5=5\n",
            "1*6=6\n",
            "1*7=7\n",
            "1*8=8\n",
            "1*9=9\n",
            "1*10=10\n",
            "2*0=0\n",
            "2*1=2\n",
            "2*2=4\n",
            "2*3=6\n",
            "2*4=8\n",
            "2*5=10\n",
            "2*6=12\n",
            "2*7=14\n",
            "2*8=16\n",
            "2*9=18\n",
            "2*10=20\n",
            "3*0=0\n",
            "3*1=3\n",
            "3*2=6\n",
            "3*3=9\n",
            "3*4=12\n",
            "3*5=15\n",
            "3*6=18\n",
            "3*7=21\n",
            "3*8=24\n",
            "3*9=27\n",
            "3*10=30\n",
            "4*0=0\n",
            "4*1=4\n",
            "4*2=8\n",
            "4*3=12\n",
            "4*4=16\n",
            "4*5=20\n",
            "4*6=24\n",
            "4*7=28\n",
            "4*8=32\n",
            "4*9=36\n",
            "4*10=40\n",
            "5*0=0\n",
            "5*1=5\n",
            "5*2=10\n",
            "5*3=15\n",
            "5*4=20\n",
            "5*5=25\n",
            "5*6=30\n",
            "5*7=35\n",
            "5*8=40\n",
            "5*9=45\n",
            "5*10=50\n",
            "6*0=0\n",
            "6*1=6\n",
            "6*2=12\n",
            "6*3=18\n",
            "6*4=24\n",
            "6*5=30\n",
            "6*6=36\n",
            "6*7=42\n",
            "6*8=48\n",
            "6*9=54\n",
            "6*10=60\n",
            "7*0=0\n",
            "7*1=7\n",
            "7*2=14\n",
            "7*3=21\n",
            "7*4=28\n",
            "7*5=35\n",
            "7*6=42\n",
            "7*7=49\n",
            "7*8=56\n",
            "7*9=63\n",
            "7*10=70\n",
            "8*0=0\n",
            "8*1=8\n",
            "8*2=16\n",
            "8*3=24\n",
            "8*4=32\n",
            "8*5=40\n",
            "8*6=48\n",
            "8*7=56\n",
            "8*8=64\n",
            "8*9=72\n",
            "8*10=80\n",
            "9*0=0\n",
            "9*1=9\n",
            "9*2=18\n",
            "9*3=27\n",
            "9*4=36\n",
            "9*5=45\n",
            "9*6=54\n",
            "9*7=63\n",
            "9*8=72\n",
            "9*9=81\n",
            "9*10=90\n",
            "10*0=0\n",
            "10*1=10\n",
            "10*2=20\n",
            "10*3=30\n",
            "10*4=40\n",
            "10*5=50\n",
            "10*6=60\n",
            "10*7=70\n",
            "10*8=80\n",
            "10*9=90\n",
            "10*10=100\n"
          ]
        }
      ]
    },
    {
      "cell_type": "markdown",
      "source": [
        "# Multiple nested we can do triple or even more nested loops - it becomes harder to reason about such loops"
      ],
      "metadata": {
        "id": "Rk4hMjGbe6-l"
      }
    },
    {
      "cell_type": "markdown",
      "source": [
        "# Number guessing game with while loop"
      ],
      "metadata": {
        "id": "NsRm-VxIhQas"
      }
    },
    {
      "cell_type": "code",
      "source": [
        "# game for two\n",
        "secret = int(input(\"Player A enter number\"))\n",
        "guess = None\n",
        "num_guesses = 0\n",
        "\n",
        "while guess != secret: # we keep playing as long as guess is not equal to secret\n",
        "    guess = input(\"What is your guess Player B? (q to give up)\")\n",
        "    if guess == \"q\" or guess == \"Q\":  # there are other ways of doing this checking\n",
        "        print(\"We give up\")\n",
        "        break\n",
        "    guess = int(guess) # we convert AFTER checking for q\n",
        "    num_guesses += 1 # our gusses counter\n",
        "    if guess < secret:\n",
        "        print(\"Your guess is less than secret\")\n",
        "    elif guess > secret:\n",
        "        print(\"Your guess is more than secret\")\n",
        "# this is where the loop is already ended\n",
        "print(\"So the secret number was\", secret)\n",
        "print(f\"You took {num_guesses} tries\")\n",
        "# this code could always be improved, for example we could track the number of guesses"
      ],
      "metadata": {
        "colab": {
          "base_uri": "https://localhost:8080/"
        },
        "id": "WBbVtex9fEBS",
        "outputId": "4b1ff3c9-66af-4031-ef8b-edb4d8048cad"
      },
      "execution_count": 28,
      "outputs": [
        {
          "output_type": "stream",
          "name": "stdout",
          "text": [
            "Player A enter number40\n",
            "What is your guess Player B? (q to give up)3\n",
            "Your guess is less than secret\n",
            "What is your guess Player B? (q to give up)54\n",
            "Your guess is more than secret\n",
            "What is your guess Player B? (q to give up)40\n",
            "So the secret number was 40\n",
            "You took 3 tries\n"
          ]
        }
      ]
    },
    {
      "cell_type": "markdown",
      "source": [
        "# Best case for while loops - indefinite iteration\n",
        "best use for while loops is when we are not sure what the increment or decrement should be, maybe we have a sensor for meteor strike that coudl be our break condition\n",
        "Python offers another type of loop for going though something definite"
      ],
      "metadata": {
        "id": "qfAawaNhc8Lm"
      }
    },
    {
      "cell_type": "markdown",
      "source": [
        "# For Loops - for definite iteration over something"
      ],
      "metadata": {
        "id": "EgHzVC7HjKg9"
      }
    },
    {
      "cell_type": "markdown",
      "metadata": {
        "id": "tzulQAH-Xdzp"
      },
      "source": [
        "![For Loop](https://media.geeksforgeeks.org/wp-content/uploads/20191101172216/for-loop-python.jpg)\n",
        "From: https://www.geeksforgeeks.org/python-for-loops/"
      ]
    },
    {
      "cell_type": "code",
      "execution_count": 29,
      "metadata": {
        "colab": {
          "base_uri": "https://localhost:8080/"
        },
        "id": "PJrqdNOjXdzq",
        "outputId": "40a5ce22-383b-4ef2-c960-e0580391507d"
      },
      "outputs": [
        {
          "output_type": "stream",
          "name": "stdout",
          "text": [
            "Number is 0\n",
            "Number is 1\n",
            "Number is 2\n",
            "Number is 3\n",
            "Number is 4\n",
            "Number is 5\n",
            "Number is 6\n",
            "Number is 7\n",
            "Number is 8\n",
            "Number is 9\n"
          ]
        }
      ],
      "source": [
        "# for loops\n",
        "for n in range(10): # what is range it is sort of like semi-ready sequence of numbers that generates numbers on demand\n",
        "    # notice we start at 0 and go until 9 (not 10!)\n",
        "    print(\"Number is\", n)"
      ]
    },
    {
      "cell_type": "code",
      "source": [
        "# so in order to use for loop you need some sort of collection/sequence of something to go over\n",
        "# there are many different types of collections, we cover the basic ones in this course"
      ],
      "metadata": {
        "id": "A1GZXVUcjlG1"
      },
      "execution_count": null,
      "outputs": []
    },
    {
      "cell_type": "code",
      "execution_count": 30,
      "metadata": {
        "colab": {
          "base_uri": "https://localhost:8080/"
        },
        "id": "vb_BfOHxXdzq",
        "outputId": "6779b3ac-e458-4fc2-ad78-4ed03e76e2cd"
      },
      "outputs": [
        {
          "output_type": "stream",
          "name": "stdout",
          "text": [
            "Hello there Valdis\n",
            "Letter  V\n",
            "Letter  a\n",
            "Letter  l\n",
            "Letter  d\n",
            "Letter  i\n",
            "Letter  s\n",
            "This happens after the loop is done\n"
          ]
        }
      ],
      "source": [
        "my_name = \"Valdis\" # string is a sequnce of characters\n",
        "print(f\"Hello there {my_name}\")\n",
        "for c in my_name: # it could my_char , could be my_val whatever, we just chose to use c here\n",
        "    print(\"Letter \", c)    \n",
        "print(\"This happens after the loop is done\")"
      ]
    },
    {
      "cell_type": "code",
      "execution_count": 31,
      "metadata": {
        "colab": {
          "base_uri": "https://localhost:8080/"
        },
        "id": "uLIe1ie6Xdzr",
        "outputId": "057482a9-aaed-4a47-c31c-f72c0b50cfb2"
      },
      "outputs": [
        {
          "output_type": "stream",
          "name": "stdout",
          "text": [
            "20\n",
            "21\n",
            "22\n",
            "23\n",
            "24\n"
          ]
        }
      ],
      "source": [
        "for n in range(20,25): # we can specific start and end of the range, notice end of the range is actually end-1\n",
        "    # in other works beggingin is inclusive\n",
        "    # and end is exclusive (not included)\n",
        "    print(n)"
      ]
    },
    {
      "cell_type": "code",
      "execution_count": 33,
      "metadata": {
        "colab": {
          "base_uri": "https://localhost:8080/"
        },
        "id": "x9NQekzeXdzr",
        "outputId": "efd9b9e8-4f17-434b-d8bd-24b0294b397e"
      },
      "outputs": [
        {
          "output_type": "stream",
          "name": "stdout",
          "text": [
            "100\n",
            "102\n",
            "104\n",
            "106\n",
            "108\n"
          ]
        }
      ],
      "source": [
        "for my_num in range(100,110,2): # i can add step to range\n",
        "    # so step represent how we are going to jump to the next number\n",
        "    print(my_num)\n",
        "    "
      ]
    },
    {
      "cell_type": "code",
      "source": [
        "# c, my_num, n were variables which we created inside"
      ],
      "metadata": {
        "id": "R6S9IHkUkkrJ"
      },
      "execution_count": null,
      "outputs": []
    },
    {
      "cell_type": "code",
      "source": [
        "# lets try negative -\n",
        "for n in range(30,20, -3):\n",
        "    print(\"n is \", n)\n",
        "print(\"after exiting loop n is\", n) # this is different from while loops where it would be 18 (not 21)"
      ],
      "metadata": {
        "id": "gwQ3DZE7kglE",
        "outputId": "48bd50e6-9134-4acd-a44e-d3f5a15f1afb",
        "colab": {
          "base_uri": "https://localhost:8080/"
        }
      },
      "execution_count": 35,
      "outputs": [
        {
          "output_type": "stream",
          "name": "stdout",
          "text": [
            "n is  30\n",
            "n is  27\n",
            "n is  24\n",
            "n is  21\n",
            "after exiting loop n is 21\n"
          ]
        }
      ]
    },
    {
      "cell_type": "code",
      "source": [
        ""
      ],
      "metadata": {
        "id": "zqOFyLFElVcs"
      },
      "execution_count": null,
      "outputs": []
    },
    {
      "cell_type": "markdown",
      "source": [
        "For loops - could always rewrite as while loops - for is just shorter\n"
      ],
      "metadata": {
        "id": "EwCOHw3klWVb"
      }
    },
    {
      "cell_type": "code",
      "source": [
        "start = 30\n",
        "end = 20\n",
        "step = -3\n",
        "n = start\n",
        "while n > end:\n",
        "    print(\"n is \", n)\n",
        "    n += step # n = n + step (here step could be negative that is fine)\n",
        "print(\"n outside loop is\", n)"
      ],
      "metadata": {
        "id": "BTchSACBlbV2",
        "outputId": "e9f316db-e82a-4196-bf69-083998303d8b",
        "colab": {
          "base_uri": "https://localhost:8080/"
        }
      },
      "execution_count": 36,
      "outputs": [
        {
          "output_type": "stream",
          "name": "stdout",
          "text": [
            "n is  30\n",
            "n is  27\n",
            "n is  24\n",
            "n is  21\n",
            "n outside loop is 18\n"
          ]
        }
      ]
    },
    {
      "cell_type": "code",
      "source": [
        "# we usually do not need the value of our iterator outside loop\n",
        "# crucially with while loops we have to remember to reset the iterator if we want to use it again\n",
        "# for loops it is done automatically\n",
        "for n in range(9000,9_005, 2):\n",
        "    print(n)"
      ],
      "metadata": {
        "id": "3CNNA4o4lzXl",
        "outputId": "46302798-d7b2-44fc-9bc5-ab41cc028aaa",
        "colab": {
          "base_uri": "https://localhost:8080/"
        }
      },
      "execution_count": 37,
      "outputs": [
        {
          "output_type": "stream",
          "name": "stdout",
          "text": [
            "9000\n",
            "9002\n",
            "9004\n"
          ]
        }
      ]
    },
    {
      "cell_type": "code",
      "execution_count": 39,
      "metadata": {
        "colab": {
          "base_uri": "https://localhost:8080/"
        },
        "id": "pQVrAD5GXdzr",
        "outputId": "fd8b3de8-925c-4a0e-db01-838cbf5dc7e1"
      },
      "outputs": [
        {
          "output_type": "stream",
          "name": "stdout",
          "text": [
            "Working with item:  1\n",
            "Working with item:  2\n",
            "Working with item:  100\n",
            "Working with item:  105\n",
            "Working with item:  Valdis\n",
            "Working with item:  potatoes\n",
            "Working with item:  9000\n",
            "Working with item:  107.35\n",
            "Total price is 9315.35\n",
            "We had 3 with price over 100\n"
          ]
        }
      ],
      "source": [
        "# could iterate over any sequence, we will look at list in more depth later in course\n",
        "my_list = [1,2,100,105,\"Valdis\",\"potatoes\", 9000, 107.35] # list holds a collection of arbitrary data types\n",
        "total = 0\n",
        "big_items = 0\n",
        "for item in my_list:\n",
        "    print(\"Working with item: \", item)\n",
        "    if type(item) == int or type(item) == float:\n",
        "        total += item\n",
        "        if item > 100:\n",
        "            big_items += 1\n",
        "print(\"Total price is\", total)\n",
        "print(f\"We had {big_items} with price over 100\")"
      ]
    },
    {
      "cell_type": "code",
      "source": [
        "total = 0\n",
        "for n in range(10):\n",
        "    total += n\n",
        "print(\"Sum of numbers 0 to 9 is\", total)"
      ],
      "metadata": {
        "id": "N75-a8OwmnBs",
        "outputId": "6a6a9e68-f7c4-4cda-a620-508fe3749c02",
        "colab": {
          "base_uri": "https://localhost:8080/"
        }
      },
      "execution_count": 40,
      "outputs": [
        {
          "output_type": "stream",
          "name": "stdout",
          "text": [
            "Sum of numbers 0 to 9 is 45\n"
          ]
        }
      ]
    },
    {
      "cell_type": "code",
      "source": [
        "# in python we could have been lazier\n",
        "sum(range(10))  # sum works over sequences"
      ],
      "metadata": {
        "id": "2PADofxjmwYq",
        "outputId": "2dc991c1-70d9-455d-95fb-5ff1f7935488",
        "colab": {
          "base_uri": "https://localhost:8080/"
        }
      },
      "execution_count": 41,
      "outputs": [
        {
          "output_type": "execute_result",
          "data": {
            "text/plain": [
              "45"
            ]
          },
          "metadata": {},
          "execution_count": 41
        }
      ]
    },
    {
      "cell_type": "code",
      "execution_count": 44,
      "metadata": {
        "colab": {
          "base_uri": "https://localhost:8080/"
        },
        "id": "qmi_dsI-Xdzs",
        "outputId": "4d95ff0a-db0a-4eb9-e2b1-03bc44942ee4"
      },
      "outputs": [
        {
          "output_type": "stream",
          "name": "stdout",
          "text": [
            "After loop exits the max is found 9531\n",
            "9531\n"
          ]
        }
      ],
      "source": [
        "# Find maximum value in a list             \n",
        "my_num_list = [1,6,17,9531,7,-6,49,642,6,2,-5555]\n",
        "\n",
        "my_max = None\n",
        "for num in my_num_list:\n",
        "    if my_max == None: # this will happen with first item\n",
        "        my_max = num\n",
        "    if num > my_max:\n",
        "        my_max = num\n",
        "print(\"After loop exits the max is found\", my_max)\n",
        "# Intermediate skill       \n",
        "# Python has a built in max method so you could unroll your list\n",
        "print(max(*my_num_list))\n",
        "    "
      ]
    },
    {
      "cell_type": "code",
      "source": [
        ""
      ],
      "metadata": {
        "id": "BSru0KTWnZWi"
      },
      "execution_count": null,
      "outputs": []
    },
    {
      "cell_type": "markdown",
      "source": [
        "# break in for loop"
      ],
      "metadata": {
        "id": "qS2Ee9t5ncDE"
      }
    },
    {
      "cell_type": "code",
      "source": [
        "# you can put in break inside for loop \n",
        "for n in range(10):\n",
        "    print(n)\n",
        "    if n > 5:\n",
        "        print(\"Too much\", n)\n",
        "        break\n",
        "print(\"outside n is\", n)"
      ],
      "metadata": {
        "id": "4I5la14gnea8",
        "outputId": "c87cada3-2442-410c-de6d-fb74b349bfa0",
        "colab": {
          "base_uri": "https://localhost:8080/"
        }
      },
      "execution_count": 45,
      "outputs": [
        {
          "output_type": "stream",
          "name": "stdout",
          "text": [
            "0\n",
            "1\n",
            "2\n",
            "3\n",
            "4\n",
            "5\n",
            "6\n",
            "Too much 6\n",
            "outside n is 6\n"
          ]
        }
      ]
    },
    {
      "cell_type": "code",
      "source": [
        "# we can also use continue inside our for loop\n",
        "for n in range(10):\n",
        "    print(n)\n",
        "    if n < 4:\n",
        "        print(\"not ready yet\", n)\n",
        "        continue  # this goes to the start of loop\n",
        "    # we could have done this with if else instead of continue\n",
        "    print(\"big n\", n)"
      ],
      "metadata": {
        "id": "2pft5BRsnvjw",
        "outputId": "670bf747-32d1-45ab-cbdb-dd09681741aa",
        "colab": {
          "base_uri": "https://localhost:8080/"
        }
      },
      "execution_count": 46,
      "outputs": [
        {
          "output_type": "stream",
          "name": "stdout",
          "text": [
            "0\n",
            "not ready yet 0\n",
            "1\n",
            "not ready yet 1\n",
            "2\n",
            "not ready yet 2\n",
            "3\n",
            "not ready yet 3\n",
            "4\n",
            "big n 4\n",
            "5\n",
            "big n 5\n",
            "6\n",
            "big n 6\n",
            "7\n",
            "big n 7\n",
            "8\n",
            "big n 8\n",
            "9\n",
            "big n 9\n"
          ]
        }
      ]
    },
    {
      "cell_type": "code",
      "source": [
        "# in practice break is often useful continue is less useful"
      ],
      "metadata": {
        "id": "j8yjd6TaoE9d"
      },
      "execution_count": null,
      "outputs": []
    },
    {
      "cell_type": "code",
      "source": [
        "# for loops might need a method of adding a index to some sequence member\n",
        "for i,c in enumerate(my_name):  # by default i will start at 0, again i and c were my choices, you could use different names\n",
        "    print(i, c)"
      ],
      "metadata": {
        "id": "4AYT9BPOoH9O",
        "outputId": "005800d8-0b6b-4efe-8591-1f263900935f",
        "colab": {
          "base_uri": "https://localhost:8080/"
        }
      },
      "execution_count": 47,
      "outputs": [
        {
          "output_type": "stream",
          "name": "stdout",
          "text": [
            "0 V\n",
            "1 a\n",
            "2 l\n",
            "3 d\n",
            "4 i\n",
            "5 s\n"
          ]
        }
      ]
    },
    {
      "cell_type": "code",
      "source": [
        "for n in range(20):\n",
        "    if n % 2 == 0:\n",
        "        print(n, \"is even!\")\n",
        "    else:\n",
        "        print(n, \"is odd\")"
      ],
      "metadata": {
        "id": "A8fRiJdsobEy",
        "outputId": "ac437c6f-e00b-4dd0-dc5e-9df256efe321",
        "colab": {
          "base_uri": "https://localhost:8080/"
        }
      },
      "execution_count": 48,
      "outputs": [
        {
          "output_type": "stream",
          "name": "stdout",
          "text": [
            "0 is even!\n",
            "1 is odd\n",
            "2 is even!\n",
            "3 is odd\n",
            "4 is even!\n",
            "5 is odd\n",
            "6 is even!\n",
            "7 is odd\n",
            "8 is even!\n",
            "9 is odd\n",
            "10 is even!\n",
            "11 is odd\n",
            "12 is even!\n",
            "13 is odd\n",
            "14 is even!\n",
            "15 is odd\n",
            "16 is even!\n",
            "17 is odd\n",
            "18 is even!\n",
            "19 is odd\n"
          ]
        }
      ]
    },
    {
      "cell_type": "markdown",
      "metadata": {
        "id": "nHiijXVAXdzs"
      },
      "source": [
        "## Practice \n",
        "### Write a program that goes over(iterates) numbers from 1 to 100(included)\n",
        "* For each number it prints Fizz if number divides by 5 even\n",
        "* For each number it prints Buzz if number divides by 7 evenly\n",
        "* If number divides by 5 AND 7 print FizzBuzz\n",
        "* print number if it does not divide by 5 nor 7\n",
        "* 1,2,3,4,Fizz,6,Buzz,8,9,Fizz,11,.......34,FizzBuzz,36"
      ]
    },
    {
      "cell_type": "code",
      "execution_count": null,
      "metadata": {
        "id": "IK8mFLjoXdzs"
      },
      "outputs": [],
      "source": [
        "1,2,3,4,\"Fizz\""
      ]
    },
    {
      "cell_type": "code",
      "execution_count": null,
      "metadata": {
        "id": "RdLcyH0iXdzs"
      },
      "outputs": [],
      "source": [
        "for x in range(1,101):\n",
        "    print(x)"
      ]
    }
  ],
  "metadata": {
    "kernelspec": {
      "display_name": "Python 3",
      "language": "python",
      "name": "python3"
    },
    "language_info": {
      "codemirror_mode": {
        "name": "ipython",
        "version": 3
      },
      "file_extension": ".py",
      "mimetype": "text/x-python",
      "name": "python",
      "nbconvert_exporter": "python",
      "pygments_lexer": "ipython3",
      "version": "3.8.3"
    },
    "colab": {
      "name": "Python_Loops.ipynb",
      "provenance": []
    }
  },
  "nbformat": 4,
  "nbformat_minor": 0
}