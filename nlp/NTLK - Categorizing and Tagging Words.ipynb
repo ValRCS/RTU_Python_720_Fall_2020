{
 "cells": [
  {
   "attachments": {},
   "cell_type": "markdown",
   "metadata": {},
   "source": [
    "# Categorizing and Tagging Words with NLTK\n",
    "\n",
    "## Tagging - \n",
    "\n",
    "Defition: Tagging isprocess of classifying words into their parts of speech and labeling them accordingly is known as part-of-speech tagging, POS-tagging, or simply tagging."
   ]
  },
  {
   "cell_type": "code",
   "execution_count": 3,
   "metadata": {},
   "outputs": [],
   "source": [
    "import nltk\n",
    "from nltk import word_tokenize"
   ]
  },
  {
   "cell_type": "code",
   "execution_count": 4,
   "metadata": {},
   "outputs": [
    {
     "data": {
      "text/plain": [
       "[('And', 'CC'),\n",
       " ('now', 'RB'),\n",
       " ('for', 'IN'),\n",
       " ('something', 'NN'),\n",
       " ('completely', 'RB'),\n",
       " ('different', 'JJ')]"
      ]
     },
     "execution_count": 4,
     "metadata": {},
     "output_type": "execute_result"
    }
   ],
   "source": [
    "text = word_tokenize(\"And now for something completely different\")\n",
    "nltk.pos_tag(text)"
   ]
  },
  {
   "attachments": {},
   "cell_type": "markdown",
   "metadata": {},
   "source": [
    "## POS Tags\n",
    "\n",
    "Tag\tMeaning\tEnglish Examples\n",
    "* ADJ\tadjective\tnew, good, high, special, big, local\n",
    "* ADP\tadposition\ton, of, at, with, by, into, under\n",
    "* ADV\tadverb\treally, already, still, early, now\n",
    "* CONJ\tconjunction\tand, or, but, if, while, although\n",
    "* DET\tdeterminer, article\tthe, a, some, most, every, no, which\n",
    "* NOUN\tnoun\tyear, home, costs, time, Africa\n",
    "* NUM\tnumeral\ttwenty-four, fourth, 1991, 14:24\n",
    "* PRT\tparticle\tat, on, out, over per, that, up, with\n",
    "* PRON\tpronoun\the, their, her, its, my, I, us\n",
    "* VERB\tverb\tis, say, told, given, playing, would\n",
    "* .\tpunctuation marks\t. , ; !\n",
    "* X\tother\tersatz, esprit, dunno, gr8, univeristy\n",
    "\n",
    "* CC - Coordinating conjunction\n",
    "* CD - Cardinal number\n",
    "* RB - Adverb\n",
    "* IN - Preposition or subordinating conjunction\n",
    "* NNP - Proper noun, singular\n",
    "* NN - Noun, singular or mass\n",
    "* JJ - Adjective\n",
    "\n",
    "More tags: https://www.ibm.com/docs/en/wca/3.5.0?topic=analytics-part-speech-tag-sets"
   ]
  },
  {
   "attachments": {},
   "cell_type": "markdown",
   "metadata": {},
   "source": [
    "## Uses of taggings\n",
    "\n",
    "Tagging comes in handy when performing word sense disambiguation, which is the task of deciding how a particular word is being used in a sentence.\n",
    "\n",
    "Similar tags can serve as a filter for words that could possibly be swapped in and out without changing the meaning of the sentence."
   ]
  },
  {
   "attachments": {},
   "cell_type": "markdown",
   "metadata": {},
   "source": [
    "## Tagger for Latvian texts\n",
    "\n",
    "https://nlp.ailab.lv/ - by LUMII AILab\n",
    "\n",
    "There are many taggers for English, other languages will have to check whether nltk support them"
   ]
  },
  {
   "cell_type": "code",
   "execution_count": null,
   "metadata": {},
   "outputs": [],
   "source": []
  }
 ],
 "metadata": {
  "kernelspec": {
   "display_name": "venv",
   "language": "python",
   "name": "python3"
  },
  "language_info": {
   "codemirror_mode": {
    "name": "ipython",
    "version": 3
   },
   "file_extension": ".py",
   "mimetype": "text/x-python",
   "name": "python",
   "nbconvert_exporter": "python",
   "pygments_lexer": "ipython3",
   "version": "3.11.3"
  },
  "orig_nbformat": 4
 },
 "nbformat": 4,
 "nbformat_minor": 2
}
