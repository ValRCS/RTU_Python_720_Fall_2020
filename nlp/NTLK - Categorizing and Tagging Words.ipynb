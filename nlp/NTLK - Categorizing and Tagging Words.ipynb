{
 "cells": [
  {
   "attachments": {},
   "cell_type": "markdown",
   "metadata": {},
   "source": [
    "# Categorizing and Tagging Words with NLTK\n",
    "\n",
    "## Tagging - \n",
    "\n",
    "Defition: Tagging isprocess of classifying words into their parts of speech and labeling them accordingly is known as part-of-speech tagging, POS-tagging, or simply tagging."
   ]
  },
  {
   "cell_type": "code",
   "execution_count": 2,
   "metadata": {},
   "outputs": [
    {
     "name": "stdout",
     "output_type": "stream",
     "text": [
      "nltk version: 3.9.1\n"
     ]
    }
   ],
   "source": [
    "import nltk\n",
    "from nltk import word_tokenize\n",
    "# print version\n",
    "print(f\"nltk version: {nltk.__version__}\")"
   ]
  },
  {
   "cell_type": "code",
   "execution_count": 4,
   "metadata": {},
   "outputs": [
    {
     "name": "stderr",
     "output_type": "stream",
     "text": [
      "[nltk_data] Downloading package averaged_perceptron_tagger_eng to\n",
      "[nltk_data]     C:\\Users\\val-wd\\AppData\\Roaming\\nltk_data...\n",
      "[nltk_data]   Unzipping taggers\\averaged_perceptron_tagger_eng.zip.\n"
     ]
    },
    {
     "data": {
      "text/plain": [
       "True"
      ]
     },
     "execution_count": 4,
     "metadata": {},
     "output_type": "execute_result"
    }
   ],
   "source": [
    "# first we need to download the tagger\n",
    "nltk.download('averaged_perceptron_tagger_eng')"
   ]
  },
  {
   "cell_type": "code",
   "execution_count": 5,
   "metadata": {},
   "outputs": [
    {
     "data": {
      "text/plain": [
       "[('And', 'CC'),\n",
       " ('now', 'RB'),\n",
       " ('for', 'IN'),\n",
       " ('something', 'NN'),\n",
       " ('completely', 'RB'),\n",
       " ('different', 'JJ')]"
      ]
     },
     "execution_count": 5,
     "metadata": {},
     "output_type": "execute_result"
    }
   ],
   "source": [
    "text = word_tokenize(\"And now for something completely different\")\n",
    "nltk.pos_tag(text)"
   ]
  },
  {
   "attachments": {},
   "cell_type": "markdown",
   "metadata": {},
   "source": [
    "## POS Tags\n",
    "\n",
    "Tag\tMeaning\tEnglish Examples\n",
    "* ADJ\tadjective\tnew, good, high, special, big, local\n",
    "* ADP\tadposition\ton, of, at, with, by, into, under\n",
    "* ADV\tadverb\treally, already, still, early, now\n",
    "* CONJ\tconjunction\tand, or, but, if, while, although\n",
    "* DET\tdeterminer, article\tthe, a, some, most, every, no, which\n",
    "* NOUN\tnoun\tyear, home, costs, time, Africa\n",
    "* NUM\tnumeral\ttwenty-four, fourth, 1991, 14:24\n",
    "* PRT\tparticle\tat, on, out, over per, that, up, with\n",
    "* PRON\tpronoun\the, their, her, its, my, I, us\n",
    "* VERB\tverb\tis, say, told, given, playing, would\n",
    "* .\tpunctuation marks\t. , ; !\n",
    "* X\tother\tersatz, esprit, dunno, gr8, univeristy\n",
    "\n",
    "* CC - Coordinating conjunction\n",
    "* CD - Cardinal number\n",
    "* RB - Adverb\n",
    "* IN - Preposition or subordinating conjunction\n",
    "* NNP - Proper noun, singular\n",
    "* NN - Noun, singular or mass\n",
    "* JJ - Adjective\n",
    "\n",
    "More tags: https://www.ibm.com/docs/en/wca/3.5.0?topic=analytics-part-speech-tag-sets"
   ]
  },
  {
   "attachments": {},
   "cell_type": "markdown",
   "metadata": {},
   "source": [
    "## Uses of taggings\n",
    "\n",
    "Tagging comes in handy when performing word sense disambiguation, which is the task of deciding how a particular word is being used in a sentence.\n",
    "\n",
    "Similar tags can serve as a filter for words that could possibly be swapped in and out without changing the meaning of the sentence.\n",
    "\n",
    "For example word `bow` can be used as a noun or verb and in multiple different contexts."
   ]
  },
  {
   "attachments": {},
   "cell_type": "markdown",
   "metadata": {},
   "source": [
    "## Tagger for Latvian texts\n",
    "\n",
    "https://nlp.ailab.lv/ - by LUMII AILab\n",
    "\n",
    "There are many taggers for English, other languages will have to check whether nltk support them\n",
    "\n",
    "Documentation on supported taggers: https://www.nltk.org/api/nltk.tag.html"
   ]
  },
  {
   "cell_type": "code",
   "execution_count": null,
   "metadata": {},
   "outputs": [],
   "source": []
  }
 ],
 "metadata": {
  "kernelspec": {
   "display_name": "venv312",
   "language": "python",
   "name": "python3"
  },
  "language_info": {
   "codemirror_mode": {
    "name": "ipython",
    "version": 3
   },
   "file_extension": ".py",
   "mimetype": "text/x-python",
   "name": "python",
   "nbconvert_exporter": "python",
   "pygments_lexer": "ipython3",
   "version": "3.12.5"
  },
  "orig_nbformat": 4
 },
 "nbformat": 4,
 "nbformat_minor": 2
}
