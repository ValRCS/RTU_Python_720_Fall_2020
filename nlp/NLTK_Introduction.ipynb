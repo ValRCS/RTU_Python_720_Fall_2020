{
 "cells": [
  {
   "attachments": {},
   "cell_type": "markdown",
   "metadata": {},
   "source": [
    "## Natural Language Toolkit (NLTK)\n",
    "\n",
    "**NLTK** is a leading platform for building Python programs to work with human language data. It provides easy-to-use interfaces to [over 50 corpora and lexical resources](http://www.nltk.org/nltk_data/) such as WordNet, along with a suite of text processing libraries for classification, tokenization, stemming, tagging, parsing, and semantic reasoning, wrappers for industrial-strength NLP libraries, and an active discussion forum.\n",
    "\n",
    "http://www.nltk.org/\n",
    "\n",
    "NLTK library documentation (reference) = *Use it to look up how to use a particular NLTK library function*\n",
    "* https://www.nltk.org/api/nltk.html\n",
    "\n",
    "---\n",
    "\n",
    "NLTK wiki (collaboratively edited documentation):\n",
    "* https://github.com/nltk/nltk/wiki"
   ]
  },
  {
   "attachments": {},
   "cell_type": "markdown",
   "metadata": {},
   "source": [
    "### Book: Natural Language Processing with Python \n",
    "\n",
    "NLTK book provides a practical introduction to programming for language processing.\n",
    "\n",
    "Written by the creators of NLTK, it guides the reader through the fundamentals of writing Python programs, working with corpora, categorizing text, analyzing linguistic structure, and more.\n",
    "\n",
    "Online: http://www.nltk.org/book/\n",
    "\n",
    "* we will start with Chapter 1: [\"Language Processing and Python\"](http://www.nltk.org/book/ch01.html)\n",
    "\n",
    "---"
   ]
  },
  {
   "cell_type": "code",
   "execution_count": null,
   "metadata": {},
   "outputs": [],
   "source": [
    "# configuration for the notebook \n",
    "# %matplotlib notebook"
   ]
  },
  {
   "attachments": {},
   "cell_type": "markdown",
   "metadata": {},
   "source": [
    "## 1) Getting started\n",
    "\n",
    "NLTK book: http://www.nltk.org/book/ch01.html#getting-started-with-nltk\n",
    "\n",
    "* Loading NLTK (Python module)\n",
    "* Downloading NLTK language resources (corpora, ...)\n"
   ]
  },
  {
   "cell_type": "code",
   "execution_count": 1,
   "metadata": {},
   "outputs": [],
   "source": [
    "# In order to use a Python library, we need to import (load) it\n",
    "try:\n",
    "    import nltk\n",
    "except ImportError:\n",
    "    print(\"NLTK not installed. Install it with...\")\n",
    "    print(\"pip install nltk\")"
   ]
  },
  {
   "cell_type": "code",
   "execution_count": null,
   "metadata": {},
   "outputs": [
    {
     "name": "stdout",
     "output_type": "stream",
     "text": [
      "Collecting nltk\n",
      "  Downloading nltk-3.9.1-py3-none-any.whl.metadata (2.9 kB)\n",
      "Collecting click (from nltk)\n",
      "  Using cached click-8.1.7-py3-none-any.whl.metadata (3.0 kB)\n",
      "Collecting joblib (from nltk)\n",
      "  Using cached joblib-1.4.2-py3-none-any.whl.metadata (5.4 kB)\n",
      "Collecting regex>=2021.8.3 (from nltk)\n",
      "  Downloading regex-2024.11.6-cp312-cp312-win_amd64.whl.metadata (41 kB)\n",
      "Requirement already satisfied: tqdm in d:\\github\\rtu_python_720_fall_2020\\venv312\\lib\\site-packages (from nltk) (4.67.0)\n",
      "Requirement already satisfied: colorama in d:\\github\\rtu_python_720_fall_2020\\venv312\\lib\\site-packages (from click->nltk) (0.4.6)\n",
      "Downloading nltk-3.9.1-py3-none-any.whl (1.5 MB)\n",
      "   ---------------------------------------- 0.0/1.5 MB ? eta -:--:--\n",
      "   ---------------------------------------- 1.5/1.5 MB 15.9 MB/s eta 0:00:00\n",
      "Downloading regex-2024.11.6-cp312-cp312-win_amd64.whl (273 kB)\n",
      "Using cached click-8.1.7-py3-none-any.whl (97 kB)\n",
      "Using cached joblib-1.4.2-py3-none-any.whl (301 kB)\n",
      "Installing collected packages: regex, joblib, click, nltk\n",
      "Successfully installed click-8.1.7 joblib-1.4.2 nltk-3.9.1 regex-2024.11.6\n"
     ]
    },
    {
     "name": "stderr",
     "output_type": "stream",
     "text": [
      "\n",
      "[notice] A new release of pip is available: 24.2 -> 24.3.1\n",
      "[notice] To update, run: python.exe -m pip install --upgrade pip\n"
     ]
    }
   ],
   "source": [
    "# if not installed \n",
    "# !pip install nltk"
   ]
  },
  {
   "cell_type": "code",
   "execution_count": 2,
   "metadata": {},
   "outputs": [
    {
     "name": "stdout",
     "output_type": "stream",
     "text": [
      "NLTK version: 3.9.1\n"
     ]
    }
   ],
   "source": [
    "# Let's check what NLTK version we have (for easier troubleshooting and reproducibility)\n",
    "print(f\"NLTK version: {nltk.__version__}\")"
   ]
  },
  {
   "cell_type": "code",
   "execution_count": null,
   "metadata": {},
   "outputs": [],
   "source": [
    "# If your NLTK version is lower than 3.4.3 please update if possible.\n",
    "\n",
    "# Updating in Anaconde can be done using this command: \n",
    "# conda update nltk"
   ]
  },
  {
   "attachments": {},
   "cell_type": "markdown",
   "metadata": {},
   "source": [
    "### nltk.Text\n",
    "\n",
    "**`ntlk.Text` is a simple NLTK helper for loading and exploring textual content (a sequence of words / string tokens):**\n",
    "\n",
    "... intended to support initial exploration of texts (via the interactive console). It can perform a variety of analyses on the text’s contexts (e.g., counting, concordancing, collocation discovery), and display the results.\n",
    "\n",
    "Documentation: [nltk.Text](https://www.nltk.org/api/nltk.html#nltk.text.Text)\n",
    "* lists what we can do with text once it is loaded into nltk.Text(...)"
   ]
  },
  {
   "cell_type": "code",
   "execution_count": 3,
   "metadata": {},
   "outputs": [
    {
     "data": {
      "text/plain": [
       "<Text: This is just an example Another example here...>"
      ]
     },
     "execution_count": 3,
     "metadata": {},
     "output_type": "execute_result"
    }
   ],
   "source": [
    "# Now we can try a simple example:\n",
    "\n",
    "# we just have a list of words\n",
    "my_word_list = [\"This\", \"is\", \"just\", \"an\", \"example\", \"Another\", \"example\", \"here\"]\n",
    "# we create a text object from the list\n",
    "my_text = nltk.Text(my_word_list)\n",
    "\n",
    "my_text"
   ]
  },
  {
   "cell_type": "code",
   "execution_count": 4,
   "metadata": {},
   "outputs": [
    {
     "data": {
      "text/plain": [
       "nltk.text.Text"
      ]
     },
     "execution_count": 4,
     "metadata": {},
     "output_type": "execute_result"
    }
   ],
   "source": [
    "type(my_text)"
   ]
  },
  {
   "cell_type": "code",
   "execution_count": 6,
   "metadata": {},
   "outputs": [
    {
     "name": "stdout",
     "output_type": "stream",
     "text": [
      "Number of times 'example' appears: 2\n"
     ]
    }
   ],
   "source": [
    "# nltk.text.Text includes many useful functions/methods, e.g.:\n",
    "# How many times does the word \"example\" appear?\n",
    "print(f\"Number of times 'example' appears: {my_text.count('example')}\")\n",
    "\n",
    "# Notes:\n",
    "#  - my_text = our text, processed (loaded) by NLTK\n",
    "#     - technically: a Python object\n",
    "#  - my_text.count(...) = requesting the object to perform a .count(...) function and return the result\n",
    "#     - technically: calling a .count() method"
   ]
  },
  {
   "cell_type": "code",
   "execution_count": 7,
   "metadata": {},
   "outputs": [
    {
     "name": "stdout",
     "output_type": "stream",
     "text": [
      "Number of times 'exam' appears exactly: 0\n"
     ]
    }
   ],
   "source": [
    "# count works on tokens (full words in this case)\n",
    "print(f\"Number of times 'exam' appears exactly: {my_text.count('exam')}\")"
   ]
  },
  {
   "cell_type": "markdown",
   "metadata": {},
   "source": [
    "## Membership check"
   ]
  },
  {
   "cell_type": "code",
   "execution_count": 10,
   "metadata": {},
   "outputs": [
    {
     "data": {
      "text/plain": [
       "False"
      ]
     },
     "execution_count": 10,
     "metadata": {},
     "output_type": "execute_result"
    }
   ],
   "source": [
    "'exam' in my_text"
   ]
  },
  {
   "cell_type": "code",
   "execution_count": 11,
   "metadata": {},
   "outputs": [
    {
     "data": {
      "text/plain": [
       "True"
      ]
     },
     "execution_count": 11,
     "metadata": {},
     "output_type": "execute_result"
    }
   ],
   "source": [
    "'example' in my_text"
   ]
  },
  {
   "attachments": {},
   "cell_type": "markdown",
   "metadata": {},
   "source": [
    "### Tokenizing\n",
    "\n",
    "Let's convert a text string into nltk.Text.\n",
    "First, we need to split it into tokens (to *tokenize* it). "
   ]
  },
  {
   "cell_type": "code",
   "execution_count": 12,
   "metadata": {},
   "outputs": [
    {
     "name": "stderr",
     "output_type": "stream",
     "text": [
      "[nltk_data] Downloading package punkt to C:\\Users\\val-\n",
      "[nltk_data]     wd\\AppData\\Roaming\\nltk_data...\n",
      "[nltk_data]   Package punkt is already up-to-date!\n"
     ]
    },
    {
     "data": {
      "text/plain": [
       "True"
      ]
     },
     "execution_count": 12,
     "metadata": {},
     "output_type": "execute_result"
    }
   ],
   "source": [
    "# We need to download a package containing punctuation before we can tokenize\n",
    "# import nltk\n",
    "nltk.download('punkt')"
   ]
  },
  {
   "cell_type": "code",
   "execution_count": 14,
   "metadata": {},
   "outputs": [
    {
     "name": "stderr",
     "output_type": "stream",
     "text": [
      "[nltk_data] Downloading package punkt_tab to C:\\Users\\val-\n",
      "[nltk_data]     wd\\AppData\\Roaming\\nltk_data...\n",
      "[nltk_data]   Unzipping tokenizers\\punkt_tab.zip.\n"
     ]
    },
    {
     "data": {
      "text/plain": [
       "True"
      ]
     },
     "execution_count": 14,
     "metadata": {},
     "output_type": "execute_result"
    }
   ],
   "source": [
    "nltk.download('punkt_tab') # you should only do this once per computer or installation"
   ]
  },
  {
   "attachments": {},
   "cell_type": "markdown",
   "metadata": {},
   "source": [
    "## Tokenization\n",
    "\n",
    "Tokenization is the process of splitting a string into a list of pieces or *tokens*.\n",
    "\n",
    "Token is not necessarily a word. It can be a punctuation mark, a number, a symbol, etc.\n",
    "It could be a stem (a word stem), or a lemma (a word form)."
   ]
  },
  {
   "cell_type": "code",
   "execution_count": 18,
   "metadata": {},
   "outputs": [
    {
     "name": "stdout",
     "output_type": "stream",
     "text": [
      "First fifteen tokens: ['NLTK', 'has', 'been', 'called', '“', 'a', 'wonderful', 'tool', 'for', 'teaching', ',', 'and', 'working', 'in', ',']\n",
      "First fifteen naive splits: ['NLTK', 'has', 'been', 'called', '“a', 'wonderful', 'tool', 'for', 'teaching,', 'and', 'working', 'in,', 'computational', 'linguistics', 'using']\n"
     ]
    }
   ],
   "source": [
    "# Splitting text into tokens (words, ...) = tokenizing\n",
    "\n",
    "from nltk.tokenize import word_tokenize\n",
    "\n",
    "excerpt = \"\"\"NLTK has been called “a wonderful tool for teaching, and working in, \n",
    "computational linguistics using Python,” \n",
    "and “an amazing library to play with natural language.” - said some people\"\"\"\n",
    "tokens = word_tokenize(excerpt)\n",
    "\n",
    "print(f\"First fifteen tokens: {tokens[:15]}\")\n",
    "# compare results if you had split it with .split() instead of word_tokenize()\n",
    "print(f\"First fifteen naive splits: {excerpt.split()[:15]}\")"
   ]
  },
  {
   "cell_type": "code",
   "execution_count": 20,
   "metadata": {},
   "outputs": [
    {
     "name": "stdout",
     "output_type": "stream",
     "text": [
      "Data type of tokens: <class 'list'>\n",
      "Data type of a token: <class 'str'>\n"
     ]
    }
   ],
   "source": [
    "# let's see data type of tokens\n",
    "print(f\"Data type of tokens: {type(tokens)}\")\n",
    "# and inside we have?\n",
    "print(f\"Data type of a token: {type(tokens[0])}\")"
   ]
  },
  {
   "cell_type": "code",
   "execution_count": 21,
   "metadata": {},
   "outputs": [
    {
     "name": "stdout",
     "output_type": "stream",
     "text": [
      "1\n"
     ]
    }
   ],
   "source": [
    "# now that I have a list of tokens, I can create a text object\n",
    "# so you can pass in a list of strings\n",
    "my_text2 = nltk.Text(tokens)\n",
    "\n",
    "print(my_text2.count(\"NLTK\"))"
   ]
  },
  {
   "cell_type": "code",
   "execution_count": 24,
   "metadata": {},
   "outputs": [
    {
     "name": "stdout",
     "output_type": "stream",
     "text": [
      "<Text: A   q u i c k  ...>\n",
      "0\n",
      "So the result is a bit weird, but it's not an error. It's just not what we expected.\n",
      "We got a sequence of characters, not words. So we need to tokenize first.\n"
     ]
    }
   ],
   "source": [
    "# what would happen if I passed in a string to nltk.Text? \n",
    "sentence = \"A quick brown fox jumps over the lazy dog.\"\n",
    "my_text3 = nltk.Text(sentence)\n",
    "print(my_text3)\n",
    "print(my_text3.count(\"fox\"))\n",
    "print(\"So the result is a bit weird, but it's not an error. It's just not what we expected.\")\n",
    "print(\"We got a sequence of characters, not words. So we need to tokenize first.\")"
   ]
  },
  {
   "attachments": {},
   "cell_type": "markdown",
   "metadata": {},
   "source": [
    "### Downloading NLTK language resources\n",
    "\n",
    "NLTK also contains many language resources (corpora, ...) but you have select and download them separately (in order to save disk space and only download what is needed).\n",
    "\n",
    "Let's download text collections used in the NLTK book: \n",
    "* `nltk.download(\"book\")`\n",
    "\n",
    "Note: you can also download resources interactively:\n",
    "* `nltk.download()`"
   ]
  },
  {
   "cell_type": "code",
   "execution_count": 25,
   "metadata": {},
   "outputs": [
    {
     "name": "stderr",
     "output_type": "stream",
     "text": [
      "[nltk_data] Downloading collection 'book'\n",
      "[nltk_data]    | \n",
      "[nltk_data]    | Downloading package abc to C:\\Users\\val-\n",
      "[nltk_data]    |     wd\\AppData\\Roaming\\nltk_data...\n",
      "[nltk_data]    |   Package abc is already up-to-date!\n",
      "[nltk_data]    | Downloading package brown to C:\\Users\\val-\n",
      "[nltk_data]    |     wd\\AppData\\Roaming\\nltk_data...\n",
      "[nltk_data]    |   Package brown is already up-to-date!\n",
      "[nltk_data]    | Downloading package chat80 to C:\\Users\\val-\n",
      "[nltk_data]    |     wd\\AppData\\Roaming\\nltk_data...\n",
      "[nltk_data]    |   Package chat80 is already up-to-date!\n",
      "[nltk_data]    | Downloading package cmudict to C:\\Users\\val-\n",
      "[nltk_data]    |     wd\\AppData\\Roaming\\nltk_data...\n",
      "[nltk_data]    |   Package cmudict is already up-to-date!\n",
      "[nltk_data]    | Downloading package conll2000 to C:\\Users\\val-\n",
      "[nltk_data]    |     wd\\AppData\\Roaming\\nltk_data...\n",
      "[nltk_data]    |   Package conll2000 is already up-to-date!\n",
      "[nltk_data]    | Downloading package conll2002 to C:\\Users\\val-\n",
      "[nltk_data]    |     wd\\AppData\\Roaming\\nltk_data...\n",
      "[nltk_data]    |   Package conll2002 is already up-to-date!\n",
      "[nltk_data]    | Downloading package dependency_treebank to\n",
      "[nltk_data]    |     C:\\Users\\val-wd\\AppData\\Roaming\\nltk_data...\n",
      "[nltk_data]    |   Package dependency_treebank is already up-to-date!\n",
      "[nltk_data]    | Downloading package genesis to C:\\Users\\val-\n",
      "[nltk_data]    |     wd\\AppData\\Roaming\\nltk_data...\n",
      "[nltk_data]    |   Package genesis is already up-to-date!\n",
      "[nltk_data]    | Downloading package gutenberg to C:\\Users\\val-\n",
      "[nltk_data]    |     wd\\AppData\\Roaming\\nltk_data...\n",
      "[nltk_data]    |   Package gutenberg is already up-to-date!\n",
      "[nltk_data]    | Downloading package ieer to C:\\Users\\val-\n",
      "[nltk_data]    |     wd\\AppData\\Roaming\\nltk_data...\n",
      "[nltk_data]    |   Package ieer is already up-to-date!\n",
      "[nltk_data]    | Downloading package inaugural to C:\\Users\\val-\n",
      "[nltk_data]    |     wd\\AppData\\Roaming\\nltk_data...\n",
      "[nltk_data]    |   Package inaugural is already up-to-date!\n",
      "[nltk_data]    | Downloading package movie_reviews to C:\\Users\\val-\n",
      "[nltk_data]    |     wd\\AppData\\Roaming\\nltk_data...\n",
      "[nltk_data]    |   Package movie_reviews is already up-to-date!\n",
      "[nltk_data]    | Downloading package nps_chat to C:\\Users\\val-\n",
      "[nltk_data]    |     wd\\AppData\\Roaming\\nltk_data...\n",
      "[nltk_data]    |   Package nps_chat is already up-to-date!\n",
      "[nltk_data]    | Downloading package names to C:\\Users\\val-\n",
      "[nltk_data]    |     wd\\AppData\\Roaming\\nltk_data...\n",
      "[nltk_data]    |   Package names is already up-to-date!\n",
      "[nltk_data]    | Downloading package ppattach to C:\\Users\\val-\n",
      "[nltk_data]    |     wd\\AppData\\Roaming\\nltk_data...\n",
      "[nltk_data]    |   Package ppattach is already up-to-date!\n",
      "[nltk_data]    | Downloading package reuters to C:\\Users\\val-\n",
      "[nltk_data]    |     wd\\AppData\\Roaming\\nltk_data...\n",
      "[nltk_data]    |   Package reuters is already up-to-date!\n",
      "[nltk_data]    | Downloading package senseval to C:\\Users\\val-\n",
      "[nltk_data]    |     wd\\AppData\\Roaming\\nltk_data...\n",
      "[nltk_data]    |   Package senseval is already up-to-date!\n",
      "[nltk_data]    | Downloading package state_union to C:\\Users\\val-\n",
      "[nltk_data]    |     wd\\AppData\\Roaming\\nltk_data...\n",
      "[nltk_data]    |   Package state_union is already up-to-date!\n",
      "[nltk_data]    | Downloading package stopwords to C:\\Users\\val-\n",
      "[nltk_data]    |     wd\\AppData\\Roaming\\nltk_data...\n",
      "[nltk_data]    |   Package stopwords is already up-to-date!\n",
      "[nltk_data]    | Downloading package swadesh to C:\\Users\\val-\n",
      "[nltk_data]    |     wd\\AppData\\Roaming\\nltk_data...\n",
      "[nltk_data]    |   Package swadesh is already up-to-date!\n",
      "[nltk_data]    | Downloading package timit to C:\\Users\\val-\n",
      "[nltk_data]    |     wd\\AppData\\Roaming\\nltk_data...\n",
      "[nltk_data]    |   Package timit is already up-to-date!\n",
      "[nltk_data]    | Downloading package treebank to C:\\Users\\val-\n",
      "[nltk_data]    |     wd\\AppData\\Roaming\\nltk_data...\n",
      "[nltk_data]    |   Package treebank is already up-to-date!\n",
      "[nltk_data]    | Downloading package toolbox to C:\\Users\\val-\n",
      "[nltk_data]    |     wd\\AppData\\Roaming\\nltk_data...\n",
      "[nltk_data]    |   Package toolbox is already up-to-date!\n",
      "[nltk_data]    | Downloading package udhr to C:\\Users\\val-\n",
      "[nltk_data]    |     wd\\AppData\\Roaming\\nltk_data...\n",
      "[nltk_data]    |   Package udhr is already up-to-date!\n",
      "[nltk_data]    | Downloading package udhr2 to C:\\Users\\val-\n",
      "[nltk_data]    |     wd\\AppData\\Roaming\\nltk_data...\n",
      "[nltk_data]    |   Package udhr2 is already up-to-date!\n",
      "[nltk_data]    | Downloading package unicode_samples to C:\\Users\\val-\n",
      "[nltk_data]    |     wd\\AppData\\Roaming\\nltk_data...\n",
      "[nltk_data]    |   Package unicode_samples is already up-to-date!\n",
      "[nltk_data]    | Downloading package webtext to C:\\Users\\val-\n",
      "[nltk_data]    |     wd\\AppData\\Roaming\\nltk_data...\n",
      "[nltk_data]    |   Package webtext is already up-to-date!\n",
      "[nltk_data]    | Downloading package wordnet to C:\\Users\\val-\n",
      "[nltk_data]    |     wd\\AppData\\Roaming\\nltk_data...\n",
      "[nltk_data]    |   Package wordnet is already up-to-date!\n",
      "[nltk_data]    | Downloading package wordnet_ic to C:\\Users\\val-\n",
      "[nltk_data]    |     wd\\AppData\\Roaming\\nltk_data...\n",
      "[nltk_data]    |   Package wordnet_ic is already up-to-date!\n",
      "[nltk_data]    | Downloading package words to C:\\Users\\val-\n",
      "[nltk_data]    |     wd\\AppData\\Roaming\\nltk_data...\n",
      "[nltk_data]    |   Package words is already up-to-date!\n",
      "[nltk_data]    | Downloading package maxent_treebank_pos_tagger to\n",
      "[nltk_data]    |     C:\\Users\\val-wd\\AppData\\Roaming\\nltk_data...\n",
      "[nltk_data]    |   Package maxent_treebank_pos_tagger is already up-\n",
      "[nltk_data]    |       to-date!\n",
      "[nltk_data]    | Downloading package maxent_ne_chunker to\n",
      "[nltk_data]    |     C:\\Users\\val-wd\\AppData\\Roaming\\nltk_data...\n",
      "[nltk_data]    |   Package maxent_ne_chunker is already up-to-date!\n",
      "[nltk_data]    | Downloading package universal_tagset to C:\\Users\\val-\n",
      "[nltk_data]    |     wd\\AppData\\Roaming\\nltk_data...\n",
      "[nltk_data]    |   Package universal_tagset is already up-to-date!\n",
      "[nltk_data]    | Downloading package punkt to C:\\Users\\val-\n",
      "[nltk_data]    |     wd\\AppData\\Roaming\\nltk_data...\n",
      "[nltk_data]    |   Package punkt is already up-to-date!\n",
      "[nltk_data]    | Downloading package book_grammars to C:\\Users\\val-\n",
      "[nltk_data]    |     wd\\AppData\\Roaming\\nltk_data...\n",
      "[nltk_data]    |   Package book_grammars is already up-to-date!\n",
      "[nltk_data]    | Downloading package city_database to C:\\Users\\val-\n",
      "[nltk_data]    |     wd\\AppData\\Roaming\\nltk_data...\n",
      "[nltk_data]    |   Package city_database is already up-to-date!\n",
      "[nltk_data]    | Downloading package tagsets to C:\\Users\\val-\n",
      "[nltk_data]    |     wd\\AppData\\Roaming\\nltk_data...\n",
      "[nltk_data]    |   Package tagsets is already up-to-date!\n",
      "[nltk_data]    | Downloading package panlex_swadesh to C:\\Users\\val-\n",
      "[nltk_data]    |     wd\\AppData\\Roaming\\nltk_data...\n",
      "[nltk_data]    |   Package panlex_swadesh is already up-to-date!\n",
      "[nltk_data]    | Downloading package averaged_perceptron_tagger to\n",
      "[nltk_data]    |     C:\\Users\\val-wd\\AppData\\Roaming\\nltk_data...\n",
      "[nltk_data]    |   Package averaged_perceptron_tagger is already up-\n",
      "[nltk_data]    |       to-date!\n",
      "[nltk_data]    | \n",
      "[nltk_data]  Done downloading collection book\n"
     ]
    },
    {
     "data": {
      "text/plain": [
       "True"
      ]
     },
     "execution_count": 25,
     "metadata": {},
     "output_type": "execute_result"
    }
   ],
   "source": [
    "# this is a big download of all book packages\n",
    "# big is a relative term, a single book is about 1 MB\n",
    "# Tolstoy's War and Peace is about 5 MB\n",
    "nltk.download(\"book\")"
   ]
  },
  {
   "cell_type": "code",
   "execution_count": 26,
   "metadata": {},
   "outputs": [
    {
     "name": "stdout",
     "output_type": "stream",
     "text": [
      "*** Introductory Examples for the NLTK Book ***\n",
      "Loading text1, ..., text9 and sent1, ..., sent9\n",
      "Type the name of the text or sentence to view it.\n",
      "Type: 'texts()' or 'sents()' to list the materials.\n",
      "text1: Moby Dick by Herman Melville 1851\n",
      "text2: Sense and Sensibility by Jane Austen 1811\n",
      "text3: The Book of Genesis\n",
      "text4: Inaugural Address Corpus\n",
      "text5: Chat Corpus\n",
      "text6: Monty Python and the Holy Grail\n",
      "text7: Wall Street Journal\n",
      "text8: Personals Corpus\n",
      "text9: The Man Who Was Thursday by G . K . Chesterton 1908\n"
     ]
    }
   ],
   "source": [
    "# After downloading the reources we still need to import them\n",
    "\n",
    "# Let's import all NLTK book resource (*)\n",
    "# from nltk.book import *\n",
    "# generally this is not a good idea, because it will load all the books into memory\n",
    "# also in general we do not want to use * in import statements\n",
    "# we could import something specific, e.g. from nltk.book import text1\n",
    "# better to be explicit about what we are importing\n",
    "# good ide will suggest what we can import from a package\n",
    "from nltk.book import text1, text2, text3, text4, text5, text6, text7, text8, text9\n",
    "# so we import them seperately\n",
    "# you do not have to import all of them, just the ones you need\n",
    "# let's find out what these texts are"
   ]
  },
  {
   "attachments": {},
   "cell_type": "markdown",
   "metadata": {},
   "source": [
    "## 2) Exploring textual content"
   ]
  },
  {
   "cell_type": "code",
   "execution_count": 27,
   "metadata": {},
   "outputs": [
    {
     "data": {
      "text/plain": [
       "nltk.text.Text"
      ]
     },
     "execution_count": 27,
     "metadata": {},
     "output_type": "execute_result"
    }
   ],
   "source": [
    "# text1, ... resources are of type nltk.Text (same as in the earlier example):\n",
    "\n",
    "type(text1)"
   ]
  },
  {
   "cell_type": "code",
   "execution_count": 28,
   "metadata": {},
   "outputs": [
    {
     "data": {
      "text/plain": [
       "'[ Moby Dick by Herman Melville 1851 ] ETYMOLOGY . ( Supplied by a Late Consumptive Usher to a Gramma'"
      ]
     },
     "execution_count": 28,
     "metadata": {},
     "output_type": "execute_result"
    }
   ],
   "source": [
    "# we could convert Text to string\n",
    "# but we would lose all the functionality of nltk.Text\n",
    "plain_string = \" \".join(text1)\n",
    "plain_string[:100]\n",
    "# we can see that punctuation is not separated from the words - not optimal for analysis"
   ]
  },
  {
   "cell_type": "code",
   "execution_count": null,
   "metadata": {},
   "outputs": [
    {
     "name": "stdout",
     "output_type": "stream",
     "text": [
      "Whale count: 906\n",
      "Whale count: 282\n"
     ]
    }
   ],
   "source": [
    "# We can run all methods that nltk.Text has.\n",
    "\n",
    "# Count words:\n",
    "print(\"Whale count:\", text1.count(\"whale\"))\n",
    "# how about upper case?\n",
    "print(\"Whale count:\", text1.count(\"Whale\"))\n",
    "# so looks it is case sensitive search\n"
   ]
  },
  {
   "cell_type": "code",
   "execution_count": 32,
   "metadata": {},
   "outputs": [
    {
     "name": "stdout",
     "output_type": "stream",
     "text": [
      "Displaying 7 of 7 matches:\n",
      "cean , in order , if possible , to discover a passage through it to India , th\n",
      " throw at the whales , in order to discover when they were nigh enough to risk\n",
      "for ever reach new distances , and discover sights more sweet and strange than\n",
      "gs upon the plain , you will often discover images as of the petrified forms o\n",
      " over numberless unknown worlds to discover his one superficial western one ; \n",
      "se two heads for hours , and never discover that organ . The ear has no extern\n",
      "s keener than man ' s ; Ahab could discover no sign in the sea . But suddenly \n"
     ]
    }
   ],
   "source": [
    "# https://www.nltk.org/api/nltk.html#nltk.text.Text.concordance\n",
    "\n",
    "# Print concordance view (occurences of a word, in context):\n",
    "\n",
    "# concordance is a method that shows you the word in context \n",
    "# usually that means you show the word and the words around it\n",
    "text1.concordance(\"discover\")"
   ]
  },
  {
   "cell_type": "code",
   "execution_count": 33,
   "metadata": {},
   "outputs": [
    {
     "name": "stdout",
     "output_type": "stream",
     "text": [
      "Displaying 25 of 1226 matches:\n",
      "s , and to teach them by what name a whale - fish is to be called in our tongue\n",
      "t which is not true .\" -- HACKLUYT \" WHALE . ... Sw . and Dan . HVAL . This ani\n",
      "ulted .\" -- WEBSTER ' S DICTIONARY \" WHALE . ... It is more immediately from th\n",
      "ISH . WAL , DUTCH . HWAL , SWEDISH . WHALE , ICELANDIC . WHALE , ENGLISH . BALE\n",
      "HWAL , SWEDISH . WHALE , ICELANDIC . WHALE , ENGLISH . BALEINE , FRENCH . BALLE\n",
      "least , take the higgledy - piggledy whale statements , however authentic , in \n",
      " dreadful gulf of this monster ' s ( whale ' s ) mouth , are immediately lost a\n",
      " patient Job .\" -- RABELAIS . \" This whale ' s liver was two cartloads .\" -- ST\n",
      " Touching that monstrous bulk of the whale or ork we have received nothing cert\n",
      " of oil will be extracted out of one whale .\" -- IBID . \" HISTORY OF LIFE AND D\n",
      "ise .\" -- KING HENRY . \" Very like a whale .\" -- HAMLET . \" Which to secure , n\n",
      "restless paine , Like as the wounded whale to shore flies thro ' the maine .\" -\n",
      ". OF SPERMA CETI AND THE SPERMA CETI WHALE . VIDE HIS V . E . \" Like Spencer ' \n",
      "t had been a sprat in the mouth of a whale .\" -- PILGRIM ' S PROGRESS . \" That \n",
      "EN ' S ANNUS MIRABILIS . \" While the whale is floating at the stern of the ship\n",
      "e ship called The Jonas - in - the - Whale . ... Some say the whale can ' t ope\n",
      " in - the - Whale . ... Some say the whale can ' t open his mouth , but that is\n",
      " masts to see whether they can see a whale , for the first discoverer has a duc\n",
      " for his pains . ... I was told of a whale taken near Shetland , that had above\n",
      "oneers told me that he caught once a whale in Spitzbergen that was white all ov\n",
      "2 , one eighty feet in length of the whale - bone kind came in , which ( as I w\n",
      "n master and kill this Sperma - ceti whale , for I could never hear of any of t\n",
      " . 1729 . \"... and the breath of the whale is frequendy attended with such an i\n",
      "ed with hoops and armed with ribs of whale .\" -- RAPE OF THE LOCK . \" If we com\n",
      "contemptible in the comparison . The whale is doubtless the largest animal in c\n"
     ]
    }
   ],
   "source": [
    "# let's do whale\n",
    "text1.concordance(\"whale\") # it should be case insensitive"
   ]
  },
  {
   "cell_type": "code",
   "execution_count": 34,
   "metadata": {},
   "outputs": [
    {
     "name": "stdout",
     "output_type": "stream",
     "text": [
      "Displaying 10 of 511 matches:\n",
      "haling is , eh ? Have ye clapped eye on Captain Ahab ?\" \" Who is Captain Ahab , sir ?\" \" Aye , aye ,\n",
      "clapped eye on Captain Ahab ?\" \" Who is Captain Ahab , sir ?\" \" Aye , aye , I thought so . Captain A\n",
      "b , sir ?\" \" Aye , aye , I thought so . Captain Ahab is the Captain of this ship .\" \" I am mistaken \n",
      " to it , past backing out . Clap eye on Captain Ahab , young man , and thou wilt find that he has on\n",
      "ccosted Captain Peleg , inquiring where Captain Ahab was to be found . \" And what dost thou want of \n",
      "be found . \" And what dost thou want of Captain Ahab ? It ' s all right enough ; thou art shipped .\"\n",
      "ose he will thee . He ' s a queer man , Captain Ahab -- so some think -- but a good one . Oh , thou \n",
      " s a grand , ungodly , god - like man , Captain Ahab ; doesn ' t speak much ; but , when he does spe\n",
      "you may well listen . Mark ye , be forewarned ; Ahab ' s above the common ; Ahab ' s been in college\n",
      "e , be forewarned ; Ahab ' s above the common ; Ahab ' s been in colleges , as well as ' mong the ca\n"
     ]
    }
   ],
   "source": [
    "# we might wish to supply some additional parameters \n",
    "# lines controls how many lines of context are shown\n",
    "# width controls how many characters are shown in each line\n",
    "text1.concordance(\"Ahab\", lines=10, width=100)"
   ]
  },
  {
   "cell_type": "markdown",
   "metadata": {},
   "source": [
    "## Exploring Inaugural Address Corpus"
   ]
  },
  {
   "cell_type": "code",
   "execution_count": null,
   "metadata": {},
   "outputs": [
    {
     "name": "stdout",
     "output_type": "stream",
     "text": [
      "Title: Inaugural Address Corpus\n"
     ]
    }
   ],
   "source": [
    "## Exploring text4 - Inaugural Address Corpus\n",
    "\n",
    "# Let's see what text4 is about\n",
    "print(f\"Title: {text4.name}\") # so this text object has extra attributes such as name"
   ]
  },
  {
   "cell_type": "code",
   "execution_count": 36,
   "metadata": {},
   "outputs": [
    {
     "name": "stdout",
     "output_type": "stream",
     "text": [
      "Displaying 25 of 330 matches:\n",
      " to the character of an independent nation seems to have been distinguished by\n",
      "f Heaven can never be expected on a nation that disregards the eternal rules o\n",
      "first , the representatives of this nation , then consisting of little more th\n",
      ", situation , and relations of this nation and country than any which had ever\n",
      ", prosperity , and happiness of the nation I have acquired an habitual attachm\n",
      "an be no spectacle presented by any nation more pleasing , more noble , majest\n",
      "party for its own ends , not of the nation for the national good . If that sol\n",
      "tures and the people throughout the nation . On this subject it might become m\n",
      "if a personal esteem for the French nation , formed in a residence of seven ye\n",
      "f our fellow - citizens by whatever nation , and if success can not be obtaine\n",
      "y , continue His blessing upon this nation and its Government and give it all \n",
      "powers so justly inspire . A rising nation , spread over a wide and fruitful l\n",
      "ing now decided by the voice of the nation , announced according to the rules \n",
      "ars witness to the fact that a just nation is trusted on its word when recours\n",
      "e union of opinion which gives to a nation the blessing of harmony and the ben\n",
      "uil suffrage of a free and virtuous nation , would under any circumstances hav\n",
      "d spirit and united councils of the nation will be safeguards to its honor and\n",
      "iction that the war with a powerful nation , which forms so prominent a featur\n",
      "out breaking down the spirit of the nation , destroying all confidence in itse\n",
      "ed on the military resources of the nation . These resources are amply suffici\n",
      "the war to an honorable issue . Our nation is in number more than half that of\n",
      "ndividually have been happy and the nation prosperous . Under this Constitutio\n",
      "rights , and is able to protect the nation against injustice from foreign powe\n",
      " great agricultural interest of the nation prospers under its protection . Loc\n",
      "ak our Union , and demolish us as a nation . Our distance from Europe and the \n"
     ]
    }
   ],
   "source": [
    "text4.concordance(\"nation\")"
   ]
  },
  {
   "cell_type": "code",
   "execution_count": 37,
   "metadata": {},
   "outputs": [
    {
     "name": "stdout",
     "output_type": "stream",
     "text": [
      "Displaying 25 of 330 matches:\n",
      " to the character of an independent nation seems to have been distinguished by\n",
      "f Heaven can never be expected on a nation that disregards the eternal rules o\n",
      "first , the representatives of this nation , then consisting of little more th\n",
      ", situation , and relations of this nation and country than any which had ever\n",
      ", prosperity , and happiness of the nation I have acquired an habitual attachm\n",
      "an be no spectacle presented by any nation more pleasing , more noble , majest\n",
      "party for its own ends , not of the nation for the national good . If that sol\n",
      "tures and the people throughout the nation . On this subject it might become m\n",
      "if a personal esteem for the French nation , formed in a residence of seven ye\n",
      "f our fellow - citizens by whatever nation , and if success can not be obtaine\n",
      "y , continue His blessing upon this nation and its Government and give it all \n",
      "powers so justly inspire . A rising nation , spread over a wide and fruitful l\n",
      "ing now decided by the voice of the nation , announced according to the rules \n",
      "ars witness to the fact that a just nation is trusted on its word when recours\n",
      "e union of opinion which gives to a nation the blessing of harmony and the ben\n",
      "uil suffrage of a free and virtuous nation , would under any circumstances hav\n",
      "d spirit and united councils of the nation will be safeguards to its honor and\n",
      "iction that the war with a powerful nation , which forms so prominent a featur\n",
      "out breaking down the spirit of the nation , destroying all confidence in itse\n",
      "ed on the military resources of the nation . These resources are amply suffici\n",
      "the war to an honorable issue . Our nation is in number more than half that of\n",
      "ndividually have been happy and the nation prosperous . Under this Constitutio\n",
      "rights , and is able to protect the nation against injustice from foreign powe\n",
      " great agricultural interest of the nation prospers under its protection . Loc\n",
      "ak our Union , and demolish us as a nation . Our distance from Europe and the \n"
     ]
    },
    {
     "data": {
      "text/plain": [
       "NoneType"
      ]
     },
     "execution_count": 37,
     "metadata": {},
     "output_type": "execute_result"
    }
   ],
   "source": [
    "# let's save results of our concordance search\n",
    "results = text4.concordance(\"nation\") # it will still print the results\n",
    "type(results) # so there are no results - concordance() returns None\n",
    "# concorance is meant to be used for printing, not for saving results - exploration tool"
   ]
  },
  {
   "cell_type": "code",
   "execution_count": 40,
   "metadata": {},
   "outputs": [],
   "source": [
    "# let's build our own function to save results - so our own competitor to nltk.Text.concordance()\n",
    "def concordance_save(text, word, filename, left_tokens=5, right_tokens=5):\n",
    "    # we just need index of the word\n",
    "    # we can use enumerate() to get index and token\n",
    "    # we can use range() to get index\n",
    "    # we can use len() to get length of the text\n",
    "    # we can use text.index() to get index of the word\n",
    "    # we can use text.tokens to get list of tokens\n",
    "    # we can use text.tokens[index] to get token at index\n",
    "    # we can use text.tokens[index - left_tokens:index + right_tokens] to get context\n",
    "    # we can use \" \".join() to join list of tokens into a string\n",
    "    # we can use open() to open a file\n",
    "    # we can use file.write() to write a string to a file\n",
    "    # we can use file.close() to close a file\n",
    "    # we can use with open() as file: to open a file, write to it and close it\n",
    "    # we can use print() to print a string\n",
    "\n",
    "    # first let us count how many times the word appears in the text\n",
    "    count = text.count(word)\n",
    "    print(f\"Found {count} occurences of {word} in {filename}\")\n",
    "    # we are guaranteed to have at count occurences of the word\n",
    "    result_list = []\n",
    "    index = 0\n",
    "    offset = 0\n",
    "    for _ in range(count):\n",
    "        # we need to get index of the word\n",
    "        index = text.tokens[offset:].index(word) # TODO check this\n",
    "        # print(f\"Found {word} at index {index}\")\n",
    "        # we need to get context\n",
    "        context = text.tokens[offset+index - left_tokens:offset+index + right_tokens+1]\n",
    "        # we need to join context into a string\n",
    "        context_string = \" \".join(context)\n",
    "        # we need to add context_string to the result_list\n",
    "        result_list.append(context_string)\n",
    "        offset += index + 1 # we do not want the same index again\n",
    "    # we need to open a file\n",
    "    with open(filename, \"w\") as file:\n",
    "        # we need to write results to the file\n",
    "        for result in result_list:\n",
    "            file.write(result + \"\\n\")\n",
    "    # we need to print a message\n",
    "    print(f\"Saved {count} results to {filename}\")\n",
    "    return result_list\n"
   ]
  },
  {
   "cell_type": "code",
   "execution_count": 42,
   "metadata": {},
   "outputs": [
    {
     "name": "stdout",
     "output_type": "stream",
     "text": [
      "Found 243 occurences of nation in nation.txt\n",
      "Saved 243 results to nation.txt\n",
      "Number of results: 243\n"
     ]
    }
   ],
   "source": [
    "results = concordance_save(text4, \"nation\", \"nation.txt\")\n",
    "# how many results did we save?\n",
    "print(f\"Number of results: {len(results)}\")"
   ]
  },
  {
   "cell_type": "code",
   "execution_count": null,
   "metadata": {
    "scrolled": true
   },
   "outputs": [
    {
     "name": "stdout",
     "output_type": "stream",
     "text": [
      "country people government world union time constitution states\n",
      "republic land law earth other future party peace strength president\n",
      "way war\n"
     ]
    }
   ],
   "source": [
    "# https://www.nltk.org/api/nltk.html#nltk.text.Text.similar\n",
    "\n",
    "# Print words that appear in similar context as \"nation\".\n",
    "text4.similar(\"nation\") # once again it does not return anything...\n"
   ]
  },
  {
   "cell_type": "code",
   "execution_count": null,
   "metadata": {},
   "outputs": [],
   "source": [
    "# how would you save these results of similar()?\n",
    "# looks like you would have to write your own function similar_save()\n",
    "# or modify the code of similar() to return the results\n"
   ]
  },
  {
   "attachments": {},
   "cell_type": "markdown",
   "metadata": {},
   "source": [
    "## Similarity search\n",
    "\n",
    "There are various ways to find similar words in a text.\n",
    "We would use different methods depending on what we want to achieve.\n",
    "\n",
    "For example, we can find words that appear in a similar context (i.e. words that appear in similar contexts are likely to have similar meaning)."
   ]
  },
  {
   "cell_type": "code",
   "execution_count": 44,
   "metadata": {},
   "outputs": [
    {
     "name": "stdout",
     "output_type": "stream",
     "text": [
      "that_, the_, by_, a_, that_; the_previous -_, one_, all_. the_before\n",
      "every_, by_or of_; of_. the_. this_in all_in after_, the_wore\n",
      "through_into\n"
     ]
    }
   ],
   "source": [
    "# https://www.nltk.org/api/nltk.html#nltk.text.Text.common_contexts\n",
    "\n",
    "# Find contexts common to all given words\n",
    "text1.common_contexts([\"day\", \"night\"])\n"
   ]
  },
  {
   "attachments": {},
   "cell_type": "markdown",
   "metadata": {},
   "source": [
    "### Side note: Python lists\n",
    "\n",
    "A *list* contains multiple values in an ordered sequence.\n",
    "\n",
    "More about Python lists:\n",
    "* https://automatetheboringstuff.com/chapter4/"
   ]
  },
  {
   "cell_type": "code",
   "execution_count": 46,
   "metadata": {},
   "outputs": [
    {
     "name": "stdout",
     "output_type": "stream",
     "text": [
      "42\n"
     ]
    }
   ],
   "source": [
    "# nltk.Text is also a list - can do everything we can do with lists (access parts of it, ...)\n",
    "\n",
    "# What's the 1st occurence of \"He\" in the text?\n",
    "#  - note: Python is case sensitive (unless you take care of it - e.g. convert all text to lowercase)\n",
    "\n",
    "print(text1.index(\"He\"))"
   ]
  },
  {
   "cell_type": "code",
   "execution_count": 45,
   "metadata": {},
   "outputs": [
    {
     "name": "stdout",
     "output_type": "stream",
     "text": [
      "He\n"
     ]
    }
   ],
   "source": [
    "# The word at position #42\n",
    "#  - note: list indexes start from 0\n",
    "\n",
    "print(text1[42])"
   ]
  },
  {
   "cell_type": "code",
   "execution_count": 48,
   "metadata": {},
   "outputs": [
    {
     "name": "stdout",
     "output_type": "stream",
     "text": [
      "['He', 'was', 'ever', 'dusting', 'his', 'old', 'lexicons', 'and', 'grammars', ',']\n"
     ]
    }
   ],
   "source": [
    "print(text1[42:52])"
   ]
  },
  {
   "attachments": {},
   "cell_type": "markdown",
   "metadata": {},
   "source": [
    "## Further exploration\n",
    "\n",
    "* Dispersion plots (distribution of words throughout the text)\n",
    "* Generating text (based on example)\n",
    "\n",
    "### Visualizing the corpus"
   ]
  },
  {
   "cell_type": "code",
   "execution_count": 47,
   "metadata": {
    "scrolled": true
   },
   "outputs": [
    {
     "data": {
      "image/png": "[encoded data removed]",
      "text/plain": [
       "<Figure size 640x480 with 1 Axes>"
      ]
     },
     "metadata": {},
     "output_type": "display_data"
    }
   ],
   "source": [
    "# Dispersion plot\n",
    "\n",
    "# https://www.nltk.org/api/nltk.html#nltk.text.Text.dispersion_plot\n",
    "# we show where in corpus the words appear\n",
    "\n",
    "# source: Inaugural Address Corpus\n",
    "text4.dispersion_plot([\"citizens\", \"democracy\", \"duty\", \"freedom\", \"America\"])"
   ]
  },
  {
   "cell_type": "code",
   "execution_count": 52,
   "metadata": {
    "scrolled": true
   },
   "outputs": [
    {
     "name": "stdout",
     "output_type": "stream",
     "text": [
      "Help on method dispersion_plot in module nltk.text:\n",
      "\n",
      "dispersion_plot(words) method of nltk.text.Text instance\n",
      "    Produce a plot showing the distribution of the words through the text.\n",
      "    Requires pylab to be installed.\n",
      "    \n",
      "    :param words: The words to be plotted\n",
      "    :type words: list(str)\n",
      "    :seealso: nltk.draw.dispersion_plot()\n",
      "\n"
     ]
    }
   ],
   "source": [
    "help(text4.dispersion_plot)"
   ]
  },
  {
   "attachments": {},
   "cell_type": "markdown",
   "metadata": {},
   "source": [
    "### Generating text\n",
    "\n",
    "Note: depending on your version of NLTK `generate()` functionality may or may not work (NLTK version 3.7.4 or newer is required).\n",
    "* In case it does not work, please see subsection \"Saved version of generate() results\".\n",
    "\n"
   ]
  },
  {
   "cell_type": "code",
   "execution_count": 48,
   "metadata": {},
   "outputs": [
    {
     "name": "stderr",
     "output_type": "stream",
     "text": [
      "Building ngram index...\n"
     ]
    },
    {
     "name": "stdout",
     "output_type": "stream",
     "text": [
      "Why is it stripped off from some mountain torrent we had flip ? , so as to\n",
      "preserve all his might had in former years abounding with them , they\n",
      "toil with their lances , strange tales of Southern whaling .\n",
      "conceivable that this fine old Dutch Fishery , a most wealthy example\n",
      "of the sea - captain orders me to admire the magnanimity of the whole\n",
      ", and many whalemen , but dumplings ; good white cedar of the ship\n",
      "casts off her cables ; and chewed it noiselessly ; and though there\n",
      "are birds called grey albatrosses ; and yet faster\n"
     ]
    },
    {
     "data": {
      "text/plain": [
       "'Why is it stripped off from some mountain torrent we had flip ? , so as to\\npreserve all his might had in former years abounding with them , they\\ntoil with their lances , strange tales of Southern whaling .\\nconceivable that this fine old Dutch Fishery , a most wealthy example\\nof the sea - captain orders me to admire the magnanimity of the whole\\n, and many whalemen , but dumplings ; good white cedar of the ship\\ncasts off her cables ; and chewed it noiselessly ; and though there\\nare birds called grey albatrosses ; and yet faster'"
      ]
     },
     "execution_count": 48,
     "metadata": {},
     "output_type": "execute_result"
    }
   ],
   "source": [
    "# Generate text (based on example)\n",
    "# https://www.nltk.org/api/nltk.html#nltk.text.Text.generate\n",
    "\n",
    "# so basically it generates ngrams\n",
    "# then it generates text based on the ngrams\n",
    "# it is a simple Markov chain generator\n",
    "# Wiki on Markov chains: https://en.wikipedia.org/wiki/Markov_chain\n",
    "\n",
    "# these days Large Language Models are used for text generation\n",
    "\n",
    "# we need to supply seed words\n",
    "text1.generate(text_seed = [\"Why\", \"is\", \"it\"])"
   ]
  },
  {
   "cell_type": "markdown",
   "metadata": {},
   "source": [
    "## What to explore with NLTK?\n",
    "\n",
    "* Tokenization\n",
    "* Concordance\n",
    "* Similarity search\n",
    "* Dispersion plots\n",
    "* Generating text\n",
    "\n",
    "## Still to cover in a full course:\n",
    "\n",
    "* Part-of-speech tagging\n",
    "* Named entity recognition\n",
    "* Parsing\n",
    "* Word sense disambiguation\n",
    "* Sentiment analysis\n",
    "* Machine translation\n",
    "* Spelling correction\n",
    "* Information extraction\n",
    "* Question answering\n",
    "* Chatbots and conversational agents"
   ]
  },
  {
   "cell_type": "code",
   "execution_count": 54,
   "metadata": {},
   "outputs": [
    {
     "name": "stderr",
     "output_type": "stream",
     "text": [
      "Building ngram index...\n"
     ]
    },
    {
     "name": "stdout",
     "output_type": "stream",
     "text": [
      "Morning in America today in order and peace are interlocked with the Constitution . ' s\n",
      "children . . , at another Inaugural , thousands of families are gone .\n",
      "work to do their share of the whole . -- in receiving counsel -- in a\n",
      "manner as I could say \" you \" and all industries in this winter of our\n",
      "own life . and I shall deem it better to be undisturbed , the people\n",
      "-- enlisted not only because slavery existed in some ] existed\n",
      "domestic institutions existing in other parts of the United States\n",
      "have been exchanged , has\n"
     ]
    },
    {
     "data": {
      "text/plain": [
       "'Morning in America today in order and peace are interlocked with the Constitution . \\' s\\nchildren . . , at another Inaugural , thousands of families are gone .\\nwork to do their share of the whole . -- in receiving counsel -- in a\\nmanner as I could say \" you \" and all industries in this winter of our\\nown life . and I shall deem it better to be undisturbed , the people\\n-- enlisted not only because slavery existed in some ] existed\\ndomestic institutions existing in other parts of the United States\\nhave been exchanged , has'"
      ]
     },
     "execution_count": 54,
     "metadata": {},
     "output_type": "execute_result"
    }
   ],
   "source": [
    "text4.generate(text_seed = [\"Morning\", \"in\", \"America\"])"
   ]
  },
  {
   "attachments": {},
   "cell_type": "markdown",
   "metadata": {},
   "source": [
    "---\n",
    "\n",
    "**NLTK `generate()` builds a [trigram] language model from the supplied text** (words are generated based on previous two words).\n",
    "\n",
    "For more information see nltk.lm: https://www.nltk.org/api/nltk.lm.html"
   ]
  },
  {
   "attachments": {},
   "cell_type": "markdown",
   "metadata": {},
   "source": [
    "**Saved version of `generate()` results:**\n",
    "    \n",
    "`text1.generate(text_seed = [\"Why\", \"is\", \"it\"])`\n",
    "\n",
    "*Building ngram index...*\n",
    "\n",
    "```\n",
    "Why is it stripped off from some mountain torrent we had flip ? , so as to\n",
    "preserve all his might had in former years abounding with them , they\n",
    "toil with their lances , strange tales of Southern whaling .\n",
    "conceivable that this fine old Dutch Fishery , a most wealthy example\n",
    "of the sea - captain orders me to admire the magnanimity of the whole\n",
    ", and many whalemen , but dumplings ; good white cedar of the ship\n",
    "casts off her cables ; and chewed it noiselessly ; and though there\n",
    "are birds called grey albatrosses ; and yet faster\n",
    "```\n"
   ]
  },
  {
   "cell_type": "code",
   "execution_count": null,
   "metadata": {},
   "outputs": [],
   "source": [
    "help(text1.generate)"
   ]
  },
  {
   "attachments": {},
   "cell_type": "markdown",
   "metadata": {},
   "source": [
    "---\n",
    "\n",
    "## Your turn!\n",
    "\n",
    "Choose some text and **explore it using NLTK** (following the examples in this notebook).\n",
    "\n",
    "**Write code in notebook cells below**.\n",
    "* add more cells (use \"+\" icon) if necessary\n",
    "\n",
    "You may use NLTK text corpora or load your own text."
   ]
  },
  {
   "cell_type": "code",
   "execution_count": null,
   "metadata": {},
   "outputs": [],
   "source": []
  },
  {
   "cell_type": "code",
   "execution_count": null,
   "metadata": {},
   "outputs": [],
   "source": []
  },
  {
   "cell_type": "code",
   "execution_count": null,
   "metadata": {},
   "outputs": [],
   "source": []
  }
 ],
 "metadata": {
  "kernelspec": {
   "display_name": "venv312",
   "language": "python",
   "name": "python3"
  },
  "language_info": {
   "codemirror_mode": {
    "name": "ipython",
    "version": 3
   },
   "file_extension": ".py",
   "mimetype": "text/x-python",
   "name": "python",
   "nbconvert_exporter": "python",
   "pygments_lexer": "ipython3",
   "version": "3.12.5"
  }
 },
 "nbformat": 4,
 "nbformat_minor": 2
}
