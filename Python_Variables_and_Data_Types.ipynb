{
  "cells": [
    {
      "cell_type": "markdown",
      "metadata": {
        "id": "8iV5zccnRRCR"
      },
      "source": [
        "# Variables, Arithmetic and Data Types\n"
      ]
    },
    {
      "cell_type": "code",
      "execution_count": 2,
      "metadata": {
        "id": "TkyF9EDDRRCV",
        "outputId": "2887224b-662b-4659-b383-725c59ddd619",
        "colab": {
          "base_uri": "https://localhost:8080/"
        }
      },
      "outputs": [
        {
          "output_type": "stream",
          "name": "stdout",
          "text": [
            "hello Variables\n"
          ]
        }
      ],
      "source": [
        "print(\"hello Variables\")"
      ]
    },
    {
      "cell_type": "code",
      "execution_count": 3,
      "metadata": {
        "id": "stGKPRgpRRCY",
        "outputId": "4516bb4f-8e48-43a4-fcf9-378bee767157",
        "colab": {
          "base_uri": "https://localhost:8080/"
        }
      },
      "outputs": [
        {
          "output_type": "stream",
          "name": "stdout",
          "text": [
            "sample_data\n"
          ]
        }
      ],
      "source": [
        "!dir # not python ! gives us access to command line commands"
      ]
    },
    {
      "cell_type": "code",
      "execution_count": 5,
      "metadata": {
        "id": "unPWF0TfRRCY",
        "outputId": "bdf13e33-e722-4deb-868f-73a39c2e2c7f",
        "colab": {
          "base_uri": "https://localhost:8080/"
        }
      },
      "outputs": [
        {
          "output_type": "stream",
          "name": "stdout",
          "text": [
            "This is printing\n"
          ]
        }
      ],
      "source": [
        "# This is a comment for humans not computer, so think of a note for future ourselves\n",
        "# best comments are those that explain WHY we are doing something\n",
        "print(\"This is printing\") # this prints something is not a great comment past beginner stage\n",
        "# print(\"This is not printing\") # so Ctrl+/ works in most code editors for Python (and many other languages)"
      ]
    },
    {
      "cell_type": "code",
      "execution_count": 14,
      "metadata": {
        "id": "ig96FTviRRCZ"
      },
      "outputs": [],
      "source": [
        "myname = \"Valdis\" # in python we need no special keyword for variables\n",
        "# so variable myname now points to string literal \"Valdis\"\n"
      ]
    },
    {
      "cell_type": "code",
      "source": [
        "print(myname)"
      ],
      "metadata": {
        "id": "91yNa3vYUupJ",
        "outputId": "08897c77-9420-4340-d27d-9dd32434931d",
        "colab": {
          "base_uri": "https://localhost:8080/"
        }
      },
      "execution_count": 10,
      "outputs": [
        {
          "output_type": "stream",
          "name": "stdout",
          "text": [
            "Valdis\n"
          ]
        }
      ]
    },
    {
      "cell_type": "code",
      "source": [
        "myname # lazy approach in notebooks, it prints the last line in a developer mode - gives you '' around strings for one"
      ],
      "metadata": {
        "id": "7O6NedEiUxVe",
        "outputId": "714430ca-0838-46f3-a968-07e9dfec4a25",
        "colab": {
          "base_uri": "https://localhost:8080/",
          "height": 35
        }
      },
      "execution_count": 9,
      "outputs": [
        {
          "output_type": "execute_result",
          "data": {
            "application/vnd.google.colaboratory.intrinsic+json": {
              "type": "string"
            },
            "text/plain": [
              "'Valdis'"
            ]
          },
          "metadata": {},
          "execution_count": 9
        }
      ]
    },
    {
      "cell_type": "code",
      "execution_count": 11,
      "metadata": {
        "id": "kNoBpN5eRRCZ",
        "outputId": "a3374500-ebac-491c-95dd-5a503e55079b",
        "colab": {
          "base_uri": "https://localhost:8080/",
          "height": 53
        }
      },
      "outputs": [
        {
          "output_type": "stream",
          "name": "stdout",
          "text": [
            "Val\n"
          ]
        },
        {
          "output_type": "execute_result",
          "data": {
            "application/vnd.google.colaboratory.intrinsic+json": {
              "type": "string"
            },
            "text/plain": [
              "'Val'"
            ]
          },
          "metadata": {},
          "execution_count": 11
        }
      ],
      "source": [
        "myname = \"Val\" # reassigns myname to point at a different string literal \"Val\"\n",
        "# 'Valdis' if no variable is pointing at it, will be deleted automatically (garbage collection)\n",
        "print(myname)  # this prints to standard output by defaul\n",
        "myname  # this line will not be printed\n",
        "myname  # as the last one it will be printed\n"
      ]
    },
    {
      "cell_type": "code",
      "execution_count": 15,
      "metadata": {
        "id": "yWwG0dnYRRCZ",
        "outputId": "8a9d6cb1-f663-4f29-d907-ce97dc1fb236",
        "colab": {
          "base_uri": "https://localhost:8080/"
        }
      },
      "outputs": [
        {
          "output_type": "stream",
          "name": "stdout",
          "text": [
            "My name is Valdis\n"
          ]
        }
      ],
      "source": [
        "print(\"My name is\", myname)  # so by default print separates different variables, strings by one whitespace"
      ]
    },
    {
      "cell_type": "code",
      "source": [
        "print(\"My name is\", myname, sep=\"-\\*/-\")  # i can put a fancy separator, not used too often"
      ],
      "metadata": {
        "id": "2UwtbFySVyov",
        "outputId": "a193784b-4b09-48e5-cf05-89ced2eff4e9",
        "colab": {
          "base_uri": "https://localhost:8080/"
        }
      },
      "execution_count": 13,
      "outputs": [
        {
          "output_type": "stream",
          "name": "stdout",
          "text": [
            "My name is-\\*/-Val\n"
          ]
        }
      ]
    },
    {
      "cell_type": "code",
      "execution_count": null,
      "metadata": {
        "id": "iQSdE0E7RRCa"
      },
      "outputs": [],
      "source": [
        "# Generally you should run cells in order because easier to reason about"
      ]
    },
    {
      "cell_type": "code",
      "execution_count": null,
      "metadata": {
        "id": "J1Iq34W7RRCb"
      },
      "outputs": [],
      "source": [
        "# variable names should start with lowercase letter \n",
        "# and can contain letters, numbers and underscores\n"
      ]
    },
    {
      "cell_type": "code",
      "execution_count": 16,
      "metadata": {
        "id": "As3uxaNRRRCb",
        "outputId": "2d60afcd-d517-49e6-975d-8e1d6b7cc095",
        "colab": {
          "base_uri": "https://localhost:8080/"
        }
      },
      "outputs": [
        {
          "output_type": "stream",
          "name": "stdout",
          "text": [
            "6\n",
            "50\n"
          ]
        }
      ],
      "source": [
        "my_var = 6\n",
        "print(my_var) # snake syntax meaning _ syntax\n",
        "myVar = 50 # camelCase syntax common in Javascript other programming\n",
        "print(myVar) \n",
        "# Recommendation is to keep one style for one project, one notebook, so mixing two styles is generally not recommended"
      ]
    },
    {
      "cell_type": "code",
      "source": [
        "name = \"Valdis\"\n",
        "print(name) # this prints the contents to which the variable points at\n",
        "print(\"name\")  # we print the so called string literal - not a variable"
      ],
      "metadata": {
        "id": "kTF1y04YXs_H",
        "outputId": "5fe6ee24-318e-42f7-8cb5-eb32e0d62a3b",
        "colab": {
          "base_uri": "https://localhost:8080/"
        }
      },
      "execution_count": 17,
      "outputs": [
        {
          "output_type": "stream",
          "name": "stdout",
          "text": [
            "Valdis\n",
            "name\n"
          ]
        }
      ]
    },
    {
      "cell_type": "code",
      "execution_count": null,
      "metadata": {
        "id": "YSXgLLJhRRCc"
      },
      "outputs": [],
      "source": [
        "\n",
        "The following identifiers are used as reserved words, or keywords of the language, and cannot be used as ordinary identifiers. They must be spelled exactly as written here:\n",
        "\n",
        "False      class      finally    is         return\n",
        "None       continue   for        lambda     try\n",
        "True       def        from       nonlocal   while\n",
        "and        del        global     not        with\n",
        "as         elif       if         or         yield\n",
        "assert     else       import     pass\n",
        "break      except     in         raise"
      ]
    },
    {
      "cell_type": "code",
      "execution_count": 22,
      "metadata": {
        "id": "--V-N2PwRRCc",
        "outputId": "738199c3-4b99-431a-b264-73bd2c25d377",
        "colab": {
          "base_uri": "https://localhost:8080/"
        }
      },
      "outputs": [
        {
          "output_type": "stream",
          "name": "stdout",
          "text": [
            "My favorite foods are potatoes and carrots\n"
          ]
        }
      ],
      "source": [
        "my_food = \"carrots\"\n",
        "my_other_food = my_food  # here my_other_food points at the same string(text) as my_food\n",
        "my_food = \"potatoes\" # now my_food points at a new string value, BUT my_other_food still points at the original carrots string\n",
        "print(\"My favorite foods are\", my_food, \"and\", my_other_food) # the names have to exist before we print them"
      ]
    },
    {
      "cell_type": "code",
      "execution_count": null,
      "metadata": {
        "id": "m1aygmsIRRCd"
      },
      "outputs": [],
      "source": [
        "my_food = \"oats\""
      ]
    },
    {
      "cell_type": "code",
      "execution_count": null,
      "metadata": {
        "id": "4d0jtbJaRRCd"
      },
      "outputs": [],
      "source": [
        "my_food = \"blueberries\""
      ]
    },
    {
      "cell_type": "code",
      "execution_count": null,
      "metadata": {
        "id": "byJJvrpTRRCd"
      },
      "outputs": [],
      "source": [
        "\n",
        "\n",
        "print(\"My favorite foods are\", my_food, \"and\", my_other_food)"
      ]
    },
    {
      "cell_type": "code",
      "execution_count": 23,
      "metadata": {
        "id": "Mmz7aCc4RRCd",
        "outputId": "e1425bef-e33a-4465-a2c1-cf63e34cde0a",
        "colab": {
          "base_uri": "https://localhost:8080/"
        }
      },
      "outputs": [
        {
          "output_type": "execute_result",
          "data": {
            "text/plain": [
              "str"
            ]
          },
          "metadata": {},
          "execution_count": 23
        }
      ],
      "source": [
        "type(my_food) # we can determine the data type"
      ]
    },
    {
      "cell_type": "code",
      "source": [
        "type(\"Valdis\")"
      ],
      "metadata": {
        "id": "4bGYuC2kZulD",
        "outputId": "b7da15e5-4545-4646-c3d1-e22044f85692",
        "colab": {
          "base_uri": "https://localhost:8080/"
        }
      },
      "execution_count": 24,
      "outputs": [
        {
          "output_type": "execute_result",
          "data": {
            "text/plain": [
              "str"
            ]
          },
          "metadata": {},
          "execution_count": 24
        }
      ]
    },
    {
      "cell_type": "code",
      "source": [
        "RTU = \"Riga Technical University\" # uppercase are generally reserver for constant value, it is a convention not a prohibition\n",
        "# so RTU is really a variable, but the uppercase indicates that it should not be changed, but there is no hard prohibition\n",
        "my_school = RTU\n",
        "type(my_school), my_school, RTU"
      ],
      "metadata": {
        "id": "THfnb1RUZx0t",
        "outputId": "801f1f6c-9101-48da-817a-124d0ce45814",
        "colab": {
          "base_uri": "https://localhost:8080/"
        }
      },
      "execution_count": 30,
      "outputs": [
        {
          "output_type": "execute_result",
          "data": {
            "text/plain": [
              "(str, 'Riga Technical University', 'Riga Technical University')"
            ]
          },
          "metadata": {},
          "execution_count": 30
        }
      ]
    },
    {
      "cell_type": "code",
      "source": [
        "print(RTU, my_school)"
      ],
      "metadata": {
        "id": "S_KVek3iaYTv",
        "outputId": "f65be9fe-c726-4e20-a887-8e8ea16672dc",
        "colab": {
          "base_uri": "https://localhost:8080/"
        }
      },
      "execution_count": 31,
      "outputs": [
        {
          "output_type": "stream",
          "name": "stdout",
          "text": [
            "Riga Technical University Riga Technical University\n"
          ]
        }
      ]
    },
    {
      "cell_type": "code",
      "source": [
        "# so good variable names should be descriptive but also as short as possible\n",
        "# my_really_important_variable_with_contents_of_my_thesis is a bit too long for a variable name\n",
        "# learning materials tend to use short names and often they are too short\n",
        "# a,b,c should be avoided unless you can figure out what they mean from context\n",
        "# there some short variable names that are widely used\n",
        "# c - could mean a single character (even though Python only has strings does not have character data type) so string with single char\n",
        "# f - could be file name, or file stream\n",
        "# i - this is very common in many languages it could be index, iterator, something we count\n",
        "# s - could be text/string \n",
        "# t - time or temporary\n",
        "# x,y,z for coordinate variables would be ok\n",
        "\n",
        "# someting like aa would be pretty weak name unless you have some specific domain where it makes sense\n",
        "# aa - could be american_airlines or something else\n",
        "\n",
        "# one of the hardest tasks in programming is coming up with good variable names"
      ],
      "metadata": {
        "id": "pOn0Ug03ar6b"
      },
      "execution_count": 33,
      "outputs": []
    },
    {
      "cell_type": "code",
      "execution_count": null,
      "metadata": {
        "id": "9wLrSllvRRCe"
      },
      "outputs": [],
      "source": [
        "type(5)"
      ]
    },
    {
      "cell_type": "code",
      "execution_count": null,
      "metadata": {
        "id": "c5qJBMEvRRCe"
      },
      "outputs": [],
      "source": [
        "type(\"5\")"
      ]
    },
    {
      "cell_type": "code",
      "execution_count": null,
      "metadata": {
        "id": "ppgdjez4RRCe"
      },
      "outputs": [],
      "source": [
        "a = 42\n",
        "type(a)"
      ]
    },
    {
      "cell_type": "code",
      "execution_count": null,
      "metadata": {
        "id": "Ryw4bxoRRRCe"
      },
      "outputs": [],
      "source": [
        "a = \"answer\"\n",
        "type(a)\n",
        "# this means that in Python data types are dynamic - can be changed"
      ]
    },
    {
      "cell_type": "code",
      "execution_count": null,
      "metadata": {
        "id": "iFFjbPNoRRCf"
      },
      "outputs": [],
      "source": [
        "type(myname)"
      ]
    },
    {
      "cell_type": "markdown",
      "metadata": {
        "id": "h0Mkcyy6RRCf"
      },
      "source": [
        "## Data types in Python 3.x\n",
        "* Integers type(42) int \n",
        "* Floating Point type(3.14) float\n",
        "* Boolean type(True),type(False) bool\n",
        "* String(ordered, **immutable** char sequence) type(\"OyCaramba\") str\n",
        "* List type([1,2,63,\"aha\",\"youcanmixtypeinsidelist\", [\"even\",\"nest\"]]) list\n",
        "* Dictionary(key:value pairs) type({\"foo\":\"bar\", \"favoriteday\":\"Friday\"}) dict\n",
        "* Tuple - ordered immutable sequence type(\"sup\",7,\"dwarves\") tup\n",
        "* Set (unordered collection of uniques) (\"k\",\"a\",\"r\",\"t\",\"u\",\"p\",\"e\",\"l\",\"i\",\"s\")\n",
        "\n"
      ]
    },
    {
      "cell_type": "code",
      "execution_count": null,
      "metadata": {
        "id": "ErYO3w5pRRCf"
      },
      "outputs": [],
      "source": [
        "a=42\n",
        "print(type(a), type(42))"
      ]
    },
    {
      "cell_type": "code",
      "execution_count": null,
      "metadata": {
        "id": "foZCMBI8RRCf"
      },
      "outputs": [],
      "source": [
        "b=20\n",
        "print(b, id(b)) # id means some memory location(virtual)"
      ]
    },
    {
      "cell_type": "code",
      "execution_count": null,
      "metadata": {
        "id": "e583Dwr1RRCg"
      },
      "outputs": [],
      "source": [
        "c=200\n",
        "print(c, id(c))"
      ]
    },
    {
      "cell_type": "code",
      "execution_count": null,
      "metadata": {
        "id": "hlIF81BqRRCg"
      },
      "outputs": [],
      "source": [
        "pi = 3.1415926\n",
        "print(pi, type(pi))"
      ]
    },
    {
      "cell_type": "code",
      "execution_count": null,
      "metadata": {
        "id": "JwiSDYn9RRCg"
      },
      "outputs": [],
      "source": [
        "result = 2+2\n",
        "print(result)"
      ]
    },
    {
      "cell_type": "code",
      "execution_count": null,
      "metadata": {
        "id": "8haNp02WRRCg"
      },
      "outputs": [],
      "source": [
        "res2 = 30/2 # so 30/2 gives you what data type?\n",
        "print(res2, type(res2))"
      ]
    },
    {
      "cell_type": "code",
      "execution_count": null,
      "metadata": {
        "id": "syrGuvsRRRCg"
      },
      "outputs": [],
      "source": [
        "30//2 # this gives you whole part"
      ]
    },
    {
      "cell_type": "code",
      "execution_count": null,
      "metadata": {
        "id": "Ded7w0fMRRCh"
      },
      "outputs": [],
      "source": [
        "7 / 2, 7 // 2"
      ]
    },
    {
      "cell_type": "code",
      "execution_count": null,
      "metadata": {
        "id": "JqH066EyRRCh"
      },
      "outputs": [],
      "source": [
        "7%5 # so % gives you reminder, there is a tiny bit of difference modulo"
      ]
    },
    {
      "cell_type": "code",
      "execution_count": null,
      "metadata": {
        "id": "Kac5cFUkRRCh"
      },
      "outputs": [],
      "source": [
        "7%2, 8%2, 9%2, 10%2, 11%2, 12%2 # so % 2 will let us determine if number is ?"
      ]
    },
    {
      "cell_type": "code",
      "execution_count": null,
      "metadata": {
        "id": "wDeV_L9GRRCh"
      },
      "outputs": [],
      "source": [
        "535264264624 % 10 # this will give us ?"
      ]
    },
    {
      "cell_type": "code",
      "execution_count": null,
      "metadata": {
        "id": "XdCaqUDdRRCh"
      },
      "outputs": [],
      "source": [
        "34344435%2"
      ]
    },
    {
      "cell_type": "code",
      "execution_count": null,
      "metadata": {
        "id": "PKNEcmGnRRCh"
      },
      "outputs": [],
      "source": [
        "0.1+0.2 # floats are weird"
      ]
    },
    {
      "cell_type": "code",
      "execution_count": null,
      "metadata": {
        "id": "B7hLEMJpRRCh"
      },
      "outputs": [],
      "source": [
        "0 == 0.1+0.2-0.3"
      ]
    },
    {
      "cell_type": "code",
      "execution_count": null,
      "metadata": {
        "id": "5ctslY9mRRCi"
      },
      "outputs": [],
      "source": [
        "2**3 # this is 2 to the power of 3 , so 2 cubed"
      ]
    },
    {
      "cell_type": "code",
      "execution_count": null,
      "metadata": {
        "id": "7efIMlqMRRCi"
      },
      "outputs": [],
      "source": [
        "81**0.5 # so square root"
      ]
    },
    {
      "cell_type": "code",
      "execution_count": null,
      "metadata": {
        "id": "B7lMWfHMRRCi"
      },
      "outputs": [],
      "source": [
        "2**32 # this is significant number for computer hardware"
      ]
    },
    {
      "cell_type": "code",
      "execution_count": null,
      "metadata": {
        "id": "hVyTsAXIRRCi"
      },
      "outputs": [],
      "source": [
        "2**64"
      ]
    },
    {
      "cell_type": "code",
      "execution_count": null,
      "metadata": {
        "id": "s1YdjuTjRRCi"
      },
      "outputs": [],
      "source": [
        "2**3242 # python lets us use big numbers immediately"
      ]
    },
    {
      "cell_type": "code",
      "execution_count": null,
      "metadata": {
        "id": "Ti1-cfVdRRCi"
      },
      "outputs": [],
      "source": [
        "10**100 # Googol"
      ]
    },
    {
      "cell_type": "code",
      "execution_count": null,
      "metadata": {
        "id": "ATsD1lvLRRCi"
      },
      "outputs": [],
      "source": [
        "c=b+a"
      ]
    },
    {
      "cell_type": "code",
      "execution_count": null,
      "metadata": {
        "id": "48vJkfSjRRCi"
      },
      "outputs": [],
      "source": [
        "d=b/a\n",
        "print(d, type(d))"
      ]
    },
    {
      "cell_type": "code",
      "execution_count": null,
      "metadata": {
        "id": "JHKZKfpcRRCj"
      },
      "outputs": [],
      "source": [
        "e=b-a\n",
        "print(e, type(e))"
      ]
    },
    {
      "cell_type": "code",
      "execution_count": null,
      "metadata": {
        "id": "Ofvkdh0sRRCj"
      },
      "outputs": [],
      "source": [
        "f=b*e\n",
        "f"
      ]
    },
    {
      "cell_type": "code",
      "execution_count": null,
      "metadata": {
        "id": "ApBcBOGZRRCj"
      },
      "outputs": [],
      "source": [
        "2**10"
      ]
    },
    {
      "cell_type": "code",
      "execution_count": null,
      "metadata": {
        "id": "FDKcajkPRRCj"
      },
      "outputs": [],
      "source": [
        "2**32"
      ]
    },
    {
      "cell_type": "code",
      "execution_count": null,
      "metadata": {
        "id": "JzntN1q3RRCj"
      },
      "outputs": [],
      "source": [
        "2**64"
      ]
    },
    {
      "cell_type": "code",
      "execution_count": null,
      "metadata": {
        "id": "p3GPuPQIRRCj"
      },
      "outputs": [],
      "source": [
        "result = 2**64\n",
        "print(a)\n",
        "print(result)"
      ]
    },
    {
      "cell_type": "code",
      "execution_count": null,
      "metadata": {
        "id": "JRKYB_GURRCj"
      },
      "outputs": [],
      "source": [
        "42//20"
      ]
    },
    {
      "cell_type": "code",
      "execution_count": null,
      "metadata": {
        "id": "aAxpwRjpRRCj"
      },
      "outputs": [],
      "source": [
        "47//20"
      ]
    },
    {
      "cell_type": "code",
      "execution_count": null,
      "metadata": {
        "id": "H1uksOOaRRCj"
      },
      "outputs": [],
      "source": [
        "47%20"
      ]
    },
    {
      "cell_type": "code",
      "execution_count": null,
      "metadata": {
        "id": "nytIc0tpRRCk"
      },
      "outputs": [],
      "source": [
        "7%2"
      ]
    },
    {
      "cell_type": "code",
      "execution_count": null,
      "metadata": {
        "id": "PF_6ghnNRRCk"
      },
      "outputs": [],
      "source": [
        "a = 10\n",
        "print(a)"
      ]
    },
    {
      "cell_type": "code",
      "execution_count": null,
      "metadata": {
        "id": "IuYOUyrrRRCk"
      },
      "outputs": [],
      "source": [
        "a = a + 5 # expression is evaluated right to left\n",
        "print(a)"
      ]
    },
    {
      "cell_type": "code",
      "execution_count": null,
      "metadata": {
        "id": "FoU11WlYRRCk"
      },
      "outputs": [],
      "source": [
        "a += 6 # this means a = a + 6\n",
        "print(a)"
      ]
    },
    {
      "cell_type": "markdown",
      "metadata": {
        "id": "Fs8_09K0RRCk"
      },
      "source": [
        "## id(object)\n",
        "\n",
        "Return the “identity” of an object. \n",
        "\n",
        "This is an integer which is guaranteed to be unique and constant for this object during its lifetime. \n",
        "Two objects with non-overlapping lifetimes may have the same id() value.\n",
        "\n",
        "#### CPython implementation detail: This is the address of the object in memory."
      ]
    },
    {
      "cell_type": "code",
      "execution_count": null,
      "metadata": {
        "id": "bms8EqWvRRCl"
      },
      "outputs": [],
      "source": [
        "b+=22 # shortcut operator to add to existing value of a variable b = b + 22\n",
        "# += /= -= *=\n",
        "print(b)"
      ]
    },
    {
      "cell_type": "code",
      "execution_count": null,
      "metadata": {
        "id": "lGqF5PbhRRCl"
      },
      "outputs": [],
      "source": [
        "id(a),id(b),id(42),id(3),id(4),id(5),id(5000),id(5001),id(5002) # notice how ids are incremented!"
      ]
    },
    {
      "cell_type": "code",
      "execution_count": null,
      "metadata": {
        "id": "_XPQVJX4RRCl"
      },
      "outputs": [],
      "source": [
        "id(6)"
      ]
    },
    {
      "cell_type": "code",
      "execution_count": null,
      "metadata": {
        "id": "hCRjFaO6RRCl"
      },
      "outputs": [],
      "source": [
        "id(-1),id(0),id(1)"
      ]
    },
    {
      "cell_type": "code",
      "execution_count": null,
      "metadata": {
        "id": "Y7ZyShBKRRCl"
      },
      "outputs": [],
      "source": [
        "id(7)\n",
        "id(-6),id(-5),id(-4)"
      ]
    },
    {
      "cell_type": "code",
      "execution_count": null,
      "metadata": {
        "scrolled": true,
        "id": "iwNeoDtGRRCl"
      },
      "outputs": [],
      "source": [
        "a is b"
      ]
    },
    {
      "cell_type": "code",
      "execution_count": null,
      "metadata": {
        "id": "lxLkTPguRRCl"
      },
      "outputs": [],
      "source": [
        "second_name = \"Valdis\"\n",
        "name = \"Valdis\"\n",
        "print(name, second_name)"
      ]
    },
    {
      "cell_type": "code",
      "execution_count": null,
      "metadata": {
        "id": "zxFqbDdSRRCl"
      },
      "outputs": [],
      "source": [
        "print(id(name), id(second_name))"
      ]
    },
    {
      "cell_type": "markdown",
      "metadata": {
        "id": "2SC4nr7DRRCm"
      },
      "source": [
        "## Floating Point "
      ]
    },
    {
      "cell_type": "code",
      "execution_count": null,
      "metadata": {
        "id": "yUT1jzymRRCm"
      },
      "outputs": [],
      "source": [
        "4/5 + 2/3 + 1/7"
      ]
    },
    {
      "cell_type": "code",
      "execution_count": null,
      "metadata": {
        "id": "y611Ac7hRRCm"
      },
      "outputs": [],
      "source": [
        "0.1+0.2+0.3-0.6\n",
        "# More on floating point https://docs.python.org/2/tutorial/floatingpoint.html"
      ]
    },
    {
      "cell_type": "markdown",
      "metadata": {
        "id": "iDh_QuTkRRCm"
      },
      "source": [
        "## Strings\n",
        "* immutable"
      ]
    },
    {
      "cell_type": "code",
      "execution_count": null,
      "metadata": {
        "scrolled": true,
        "id": "ZsMpg5CDRRCm"
      },
      "outputs": [],
      "source": [
        "name = \"Valdis\"\n",
        "print(name)"
      ]
    },
    {
      "cell_type": "code",
      "execution_count": null,
      "metadata": {
        "id": "TwTaNDgKRRCm"
      },
      "outputs": [],
      "source": [
        "# this is a comment meaning for us humans, not for computer :)"
      ]
    },
    {
      "cell_type": "code",
      "execution_count": null,
      "metadata": {
        "id": "UVbitMGpRRCm"
      },
      "outputs": [],
      "source": [
        "len(name) # length of string which name variable points to"
      ]
    },
    {
      "cell_type": "code",
      "execution_count": null,
      "metadata": {
        "id": "eh9Jlnu4RRCm"
      },
      "outputs": [],
      "source": [
        "len(\"name\") # so \"name\" is just some text - string literal"
      ]
    },
    {
      "cell_type": "markdown",
      "metadata": {
        "id": "P7taVXafRRCn"
      },
      "source": [
        "### Slicing Notation\n",
        "![Slice](https://i.stack.imgur.com/IVkET.jpg)\n",
        "* hot linking can be dangerous if you are taking image where you are not supposed to somebody can put something rude on that image"
      ]
    },
    {
      "cell_type": "code",
      "execution_count": null,
      "metadata": {
        "id": "rzcz2q1oRRCn"
      },
      "outputs": [],
      "source": [
        "name, name[0] \n",
        "# notice index starts with 0! most programming languages start with 0"
      ]
    },
    {
      "cell_type": "code",
      "execution_count": null,
      "metadata": {
        "id": "Xq3GqZvXRRCn"
      },
      "outputs": [],
      "source": [
        ""
      ]
    },
    {
      "cell_type": "code",
      "execution_count": null,
      "metadata": {
        "id": "Zb5bI9_WRRCn"
      },
      "outputs": [],
      "source": [
        "name, name[5],name[-1],name[-2]"
      ]
    },
    {
      "cell_type": "code",
      "execution_count": null,
      "metadata": {
        "id": "sA0y_nkiRRCn"
      },
      "outputs": [],
      "source": [
        "name[0:3], name[:3] # so [:index] will go until that index from 0"
      ]
    },
    {
      "cell_type": "code",
      "execution_count": null,
      "metadata": {
        "id": "bF-NFlQWRRCn"
      },
      "outputs": [],
      "source": [
        "name[:4]"
      ]
    },
    {
      "cell_type": "code",
      "execution_count": null,
      "metadata": {
        "id": "pcg4BGdiRRCn"
      },
      "outputs": [],
      "source": [
        "name[1:4] # so I skip the 0 character"
      ]
    },
    {
      "cell_type": "code",
      "execution_count": null,
      "metadata": {
        "id": "3rGfRXx3RRCn"
      },
      "outputs": [],
      "source": [
        "name[-3]"
      ]
    },
    {
      "cell_type": "code",
      "execution_count": null,
      "metadata": {
        "id": "UnIsijDYRRCn"
      },
      "outputs": [],
      "source": [
        "name[0:6:1] # this is actually the full syntax of slice\n"
      ]
    },
    {
      "cell_type": "code",
      "execution_count": null,
      "metadata": {
        "id": "219A6zXmRRCo"
      },
      "outputs": [],
      "source": [
        "name[::1]"
      ]
    },
    {
      "cell_type": "code",
      "execution_count": null,
      "metadata": {
        "id": "ezkFHr1jRRCo"
      },
      "outputs": [],
      "source": [
        "name, name[1:6:2]"
      ]
    },
    {
      "cell_type": "code",
      "execution_count": null,
      "metadata": {
        "id": "x0w8DFw6RRCo"
      },
      "outputs": [],
      "source": [
        "name, name[::2]"
      ]
    },
    {
      "cell_type": "code",
      "execution_count": null,
      "metadata": {
        "id": "Dm4E8f_zRRCo"
      },
      "outputs": [],
      "source": [
        "# Python way of reversing a string\n",
        "name, name[::-1]"
      ]
    },
    {
      "cell_type": "code",
      "execution_count": null,
      "metadata": {
        "id": "8ciLBtHERRCo"
      },
      "outputs": [],
      "source": [
        "name_rev = name[::-1]\n",
        "name_rev"
      ]
    },
    {
      "cell_type": "code",
      "execution_count": null,
      "metadata": {
        "id": "71w_UBrQRRCo"
      },
      "outputs": [],
      "source": [
        "name[5:2:-1]"
      ]
    },
    {
      "cell_type": "code",
      "execution_count": null,
      "metadata": {
        "id": "i67gJfJTRRCo"
      },
      "outputs": [],
      "source": [
        "# name[3]='b' \n",
        "# string are immutable you are not supposed to change strings"
      ]
    },
    {
      "cell_type": "code",
      "execution_count": null,
      "metadata": {
        "id": "3y5vVGZsRRCo"
      },
      "outputs": [],
      "source": [
        "#name[3]=\"b\" # You can in fact make new strings\n",
        "name=name[:3]+\"D\"+name[4:]\n",
        "print(name)"
      ]
    },
    {
      "cell_type": "code",
      "execution_count": null,
      "metadata": {
        "id": "EwFEpUPuRRCo"
      },
      "outputs": [],
      "source": [
        "n2=name[:]\n",
        "print(n2)\n",
        "print(id(n2),id(name))\n",
        "print(name[:])"
      ]
    },
    {
      "cell_type": "code",
      "execution_count": null,
      "metadata": {
        "id": "uouJlwGfRRCp"
      },
      "outputs": [],
      "source": [
        "name = \"Voldemars\"\n",
        "print(n,n2,name)"
      ]
    },
    {
      "cell_type": "code",
      "execution_count": null,
      "metadata": {
        "id": "iTFDlM5pRRCp"
      },
      "outputs": [],
      "source": [
        "n2 = \"Something\""
      ]
    },
    {
      "cell_type": "code",
      "execution_count": null,
      "metadata": {
        "id": "stPkgEyrRRCp"
      },
      "outputs": [],
      "source": [
        ""
      ]
    },
    {
      "cell_type": "code",
      "execution_count": null,
      "metadata": {
        "id": "K_AwSFvKRRCp"
      },
      "outputs": [],
      "source": [
        "name=name[::-1]\n",
        "print(name)"
      ]
    },
    {
      "cell_type": "code",
      "execution_count": null,
      "metadata": {
        "id": "UWqP7wD9RRCp"
      },
      "outputs": [],
      "source": [
        ""
      ]
    },
    {
      "cell_type": "code",
      "execution_count": null,
      "metadata": {
        "scrolled": true,
        "id": "e8r4sZKoRRCp"
      },
      "outputs": [],
      "source": [
        "multi_string = \"\"\"Really\n",
        "Long\n",
        "And\n",
        "Boring\n",
        "String\"\"\"\n",
        "print(multi_string)"
      ]
    },
    {
      "cell_type": "code",
      "execution_count": null,
      "metadata": {
        "id": "QfoydnRrRRCp"
      },
      "outputs": [],
      "source": [
        "t = \"Talk \" + 10 # Python is strongly typed so this will not work!\n",
        "print(t)"
      ]
    },
    {
      "cell_type": "code",
      "execution_count": null,
      "metadata": {
        "id": "U0KPq76zRRCp"
      },
      "outputs": [],
      "source": [
        "str(555)"
      ]
    },
    {
      "cell_type": "code",
      "execution_count": null,
      "metadata": {
        "id": "8gCdylYWRRCp"
      },
      "outputs": [],
      "source": [
        "t = \"Talk \" + str(10) # Python is strongly typed so this will not work!\n",
        "print(t)"
      ]
    },
    {
      "cell_type": "code",
      "execution_count": null,
      "metadata": {
        "id": "_2eMj1JzRRCq"
      },
      "outputs": [],
      "source": [
        "my_talk = f\"Talk {a} {b} {c} {name} and so on\" # f-strings\n",
        "my_talk"
      ]
    },
    {
      "cell_type": "code",
      "execution_count": null,
      "metadata": {
        "id": "seta0M2KRRCq"
      },
      "outputs": [],
      "source": [
        "print(f\"Hello there {name}! \")"
      ]
    },
    {
      "cell_type": "code",
      "execution_count": null,
      "metadata": {
        "id": "fPh8BqSuRRCq"
      },
      "outputs": [],
      "source": [
        "new_name = input(\"What is your name friend?\") # input gives out str\n",
        "print(f\"Wow {new_name} that is a nice name!\")"
      ]
    },
    {
      "cell_type": "code",
      "execution_count": null,
      "metadata": {
        "id": "mw87P030RRCq",
        "outputId": "38d296a7-49c1-4b87-dfef-a410f72a61bd"
      },
      "outputs": [
        {
          "name": "stdout",
          "output_type": "stream",
          "text": [
            "Enter a number777\n",
            "777 <class 'int'>\n"
          ]
        }
      ],
      "source": [
        "new_num = input(\"Enter a number\")\n",
        "new_num = int(new_num) # we trust user is giving us number, we cast to number\n",
        "print(new_num, type(new_num))"
      ]
    },
    {
      "cell_type": "code",
      "execution_count": null,
      "metadata": {
        "id": "qMFtc2w7RRCr"
      },
      "outputs": [],
      "source": [
        "id('25'),id(25)"
      ]
    },
    {
      "cell_type": "code",
      "execution_count": null,
      "metadata": {
        "id": "dQ_H1LlvRRCr"
      },
      "outputs": [],
      "source": [
        "int('345')"
      ]
    },
    {
      "cell_type": "code",
      "execution_count": null,
      "metadata": {
        "id": "GXauAs6_RRCr"
      },
      "outputs": [],
      "source": [
        "?str"
      ]
    },
    {
      "cell_type": "code",
      "execution_count": null,
      "metadata": {
        "id": "i11WMrZPRRCr"
      },
      "outputs": [],
      "source": [
        "# Automatic string concatenation without +\n",
        "funny_string = ('Monty '\n",
        "'Python ' \n",
        "'Spam '*5)\n",
        "print(funny_string)\n",
        "# Notice that string multiplication happens after concatenation"
      ]
    },
    {
      "cell_type": "code",
      "execution_count": null,
      "metadata": {
        "id": "0KjEGgAbRRCr"
      },
      "outputs": [],
      "source": [
        "print(\"It's \\ta \\\"wonderful\\\" \\nlife\")"
      ]
    },
    {
      "cell_type": "code",
      "execution_count": null,
      "metadata": {
        "id": "OZ4RwF0SRRCr"
      },
      "outputs": [],
      "source": [
        "print('Really really long line\\"
      ]
    },
    {
      "cell_type": "code",
      "execution_count": null,
      "metadata": {
        "id": "chSAiux3RRCr"
      },
      "outputs": [],
      "source": [
        ""
      ]
    },
    {
      "cell_type": "markdown",
      "metadata": {
        "id": "6M4SwgwURRCr"
      },
      "source": [
        "## Fstrings (new since Python 3.6)\n",
        "* faster way to format strings\n",
        "* can use variables in current scope\n",
        "* same idea as .format() but faster and easier to read"
      ]
    },
    {
      "cell_type": "code",
      "execution_count": null,
      "metadata": {
        "id": "ppcGi0_9RRCs"
      },
      "outputs": [],
      "source": [
        ""
      ]
    },
    {
      "cell_type": "code",
      "execution_count": null,
      "metadata": {
        "id": "7m8KGEh8RRCs"
      },
      "outputs": [],
      "source": [
        "weekday=\"Tuesday\"\n",
        "month=\"June\"\n",
        "day=8\n",
        "greeting = f'Today is {day}th of {month} which is {weekday}. Nice {month} isn\\'t it ? '\n",
        "print(greeting)\n",
        "#nicer than format method"
      ]
    },
    {
      "cell_type": "code",
      "execution_count": null,
      "metadata": {
        "id": "E8wdgcy-RRCs"
      },
      "outputs": [],
      "source": [
        "seconds=345.24556\n",
        "width=22 # how much space our formatted value should take up\n",
        "precision=8 # how many digits to use\n",
        "print(f'Elapsed {seconds} seconds since start of new era')\n",
        "print(f'Elapsed {seconds:{12}.{precision}} seconds since start of new era')\n",
        "print(f'Elapsed {seconds:{7}.{5}} seconds since start of new era')\n",
        "print(f'Number {5556.2222:{12}.{6}}')"
      ]
    },
    {
      "cell_type": "code",
      "execution_count": null,
      "metadata": {
        "id": "ps7Y6gFXRRCs"
      },
      "outputs": [],
      "source": [
        "greeting[10:33:1]"
      ]
    },
    {
      "cell_type": "markdown",
      "metadata": {
        "id": "OvlHAE4wRRCs"
      },
      "source": [
        "### Python 3.X strings are Unicode by default no more 'u prefixes"
      ]
    },
    {
      "cell_type": "markdown",
      "metadata": {
        "id": "g9OZbLCURRCs"
      },
      "source": [
        "## String Exercise: \n",
        "* Assign your favorite food to variable of your choosing\n",
        "* Output 3rd letter of your favorite\n",
        "* Output first 2 letters of your favorite\n",
        "* Output last 3 letters of your favorite\n",
        "* Output reverse of your favorite\n",
        "* Output every 2nd character of your favorite in reverse\n"
      ]
    },
    {
      "cell_type": "code",
      "execution_count": null,
      "metadata": {
        "id": "EppPa7mcRRCs"
      },
      "outputs": [],
      "source": [
        "food = \"\""
      ]
    }
  ],
  "metadata": {
    "kernelspec": {
      "display_name": "Python 3",
      "language": "python",
      "name": "python3"
    },
    "language_info": {
      "codemirror_mode": {
        "name": "ipython",
        "version": 3
      },
      "file_extension": ".py",
      "mimetype": "text/x-python",
      "name": "python",
      "nbconvert_exporter": "python",
      "pygments_lexer": "ipython3",
      "version": "3.7.3"
    },
    "colab": {
      "name": "Python Variables and Data Types.ipynb",
      "provenance": []
    }
  },
  "nbformat": 4,
  "nbformat_minor": 0
}